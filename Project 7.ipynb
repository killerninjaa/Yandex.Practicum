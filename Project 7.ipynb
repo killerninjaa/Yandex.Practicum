{
 "cells": [
  {
   "cell_type": "markdown",
   "metadata": {},
   "source": [
    "<h1>Содержание<span class=\"tocSkip\"></span></h1>\n",
    "<div class=\"toc\"><ul class=\"toc-item\"><li><span><a href=\"#Подготовка-данных\" data-toc-modified-id=\"Подготовка-данных-1\"><span class=\"toc-item-num\">1&nbsp;&nbsp;</span>Подготовка данных</a></span><ul class=\"toc-item\"><li><span><a href=\"#Удаление-бесполезных-столбцов\" data-toc-modified-id=\"Удаление-бесполезных-столбцов-1.1\"><span class=\"toc-item-num\">1.1&nbsp;&nbsp;</span>Удаление бесполезных столбцов</a></span></li><li><span><a href=\"#Преобразование-категориальных-признаков\" data-toc-modified-id=\"Преобразование-категориальных-признаков-1.2\"><span class=\"toc-item-num\">1.2&nbsp;&nbsp;</span>Преобразование категориальных признаков</a></span></li><li><span><a href=\"#Деление-на-выборки\" data-toc-modified-id=\"Деление-на-выборки-1.3\"><span class=\"toc-item-num\">1.3&nbsp;&nbsp;</span>Деление на выборки</a></span></li><li><span><a href=\"#Стандартизация-данных\" data-toc-modified-id=\"Стандартизация-данных-1.4\"><span class=\"toc-item-num\">1.4&nbsp;&nbsp;</span>Стандартизация данных</a></span></li><li><span><a href=\"#Проверка-данных-на-коллинеарность\" data-toc-modified-id=\"Проверка-данных-на-коллинеарность-1.5\"><span class=\"toc-item-num\">1.5&nbsp;&nbsp;</span>Проверка данных на коллинеарность</a></span></li></ul></li><li><span><a href=\"#Исследование-задачи\" data-toc-modified-id=\"Исследование-задачи-2\"><span class=\"toc-item-num\">2&nbsp;&nbsp;</span>Исследование задачи</a></span></li><li><span><a href=\"#Борьба-с-дисбалансом\" data-toc-modified-id=\"Борьба-с-дисбалансом-3\"><span class=\"toc-item-num\">3&nbsp;&nbsp;</span>Борьба с дисбалансом</a></span></li><li><span><a href=\"#Тестирование-модели\" data-toc-modified-id=\"Тестирование-модели-4\"><span class=\"toc-item-num\">4&nbsp;&nbsp;</span>Тестирование модели</a></span></li><li><span><a href=\"#Чек-лист-готовности-проекта\" data-toc-modified-id=\"Чек-лист-готовности-проекта-5\"><span class=\"toc-item-num\">5&nbsp;&nbsp;</span>Чек-лист готовности проекта</a></span></li></ul></div>"
   ]
  },
  {
   "cell_type": "markdown",
   "metadata": {},
   "source": [
    "# Отток клиентов"
   ]
  },
  {
   "attachments": {},
   "cell_type": "markdown",
   "metadata": {},
   "source": [
    "**Проблема**: из «Бета-Банка» стали уходить клиенты. Каждый месяц. Немного, но заметно. Банковские маркетологи посчитали: сохранять текущих клиентов дешевле, чем привлекать новых.\n",
    "\n",
    "**Цель**: спрогнозировать, уйдёт клиент из банка в ближайшее время или нет. Построить модель с предельно большим значением *F1*-меры, большим 0.59. Дополнительно измерять *AUC-ROC*, сравнивать её значение с *F1*-мерой.\n",
    "\n",
    "Мне предоставлены исторические данные о поведении клиентов и расторжении договоров с банком. \n",
    "\n",
    "**План:**\n",
    "1. Подготовить данные к обучению моделей\n",
    "2. Исследовать баланс классов, обучить модель на несбалансированных данных\n",
    "3. Сбалансировать данные разными способами, изучить поведение модели\n",
    "4. Подобрать лучшую модель\n",
    "5. Провести тестирование на тестовых данных"
   ]
  },
  {
   "cell_type": "markdown",
   "metadata": {},
   "source": [
    "## 1. Подготовка данных"
   ]
  },
  {
   "cell_type": "markdown",
   "metadata": {},
   "source": [
    "Для начала установим необходимые библиотеки"
   ]
  },
  {
   "cell_type": "code",
   "execution_count": 1,
   "metadata": {},
   "outputs": [
    {
     "name": "stderr",
     "output_type": "stream",
     "text": [
      "\n",
      "[notice] A new release of pip available: 22.2.2 -> 23.1.2\n",
      "[notice] To update, run: python.exe -m pip install --upgrade pip\n",
      "\n",
      "[notice] A new release of pip available: 22.2.2 -> 23.1.2\n",
      "[notice] To update, run: python.exe -m pip install --upgrade pip\n"
     ]
    }
   ],
   "source": [
    "!pip install imbalanced-learn -q\n",
    "!pip install phik -q\n"
   ]
  },
  {
   "cell_type": "code",
   "execution_count": 2,
   "metadata": {},
   "outputs": [],
   "source": [
    "#необходимые библиотеки\n",
    "\n",
    "import pandas as pd\n",
    "import numpy as np\n",
    "\n",
    "from imblearn.over_sampling import SMOTE, ADASYN #борьба с дисбалансом\n",
    "\n",
    "from sklearn.metrics import f1_score, roc_auc_score, make_scorer #метрики качества моделе\n",
    "\n",
    "from sklearn.model_selection import cross_validate, train_test_split, GridSearchCV #вспомогательные функции для создания моделей\n",
    "\n",
    "from sklearn.linear_model import LogisticRegression #модели\n",
    "from sklearn.tree import DecisionTreeClassifier \n",
    "from sklearn.ensemble import RandomForestClassifier\n",
    "\n",
    "import matplotlib.pyplot as plt #графики\n",
    "\n",
    "from sklearn.preprocessing import OneHotEncoder, StandardScaler #функции предобработки\n",
    "from phik.report import correlation_report, plot_correlation_matrix\n",
    "\n",
    "from imblearn.pipeline import Pipeline, make_pipeline"
   ]
  },
  {
   "cell_type": "code",
   "execution_count": 3,
   "metadata": {},
   "outputs": [],
   "source": [
    "#считывание данных\n",
    "data = pd.read_csv('https://code.s3.yandex.net/datasets/Churn.csv')"
   ]
  },
  {
   "cell_type": "code",
   "execution_count": 4,
   "metadata": {},
   "outputs": [
    {
     "data": {
      "text/html": [
       "<div>\n",
       "<style scoped>\n",
       "    .dataframe tbody tr th:only-of-type {\n",
       "        vertical-align: middle;\n",
       "    }\n",
       "\n",
       "    .dataframe tbody tr th {\n",
       "        vertical-align: top;\n",
       "    }\n",
       "\n",
       "    .dataframe thead th {\n",
       "        text-align: right;\n",
       "    }\n",
       "</style>\n",
       "<table border=\"1\" class=\"dataframe\">\n",
       "  <thead>\n",
       "    <tr style=\"text-align: right;\">\n",
       "      <th></th>\n",
       "      <th>RowNumber</th>\n",
       "      <th>CustomerId</th>\n",
       "      <th>Surname</th>\n",
       "      <th>CreditScore</th>\n",
       "      <th>Geography</th>\n",
       "      <th>Gender</th>\n",
       "      <th>Age</th>\n",
       "      <th>Tenure</th>\n",
       "      <th>Balance</th>\n",
       "      <th>NumOfProducts</th>\n",
       "      <th>HasCrCard</th>\n",
       "      <th>IsActiveMember</th>\n",
       "      <th>EstimatedSalary</th>\n",
       "      <th>Exited</th>\n",
       "    </tr>\n",
       "  </thead>\n",
       "  <tbody>\n",
       "    <tr>\n",
       "      <th>0</th>\n",
       "      <td>1</td>\n",
       "      <td>15634602</td>\n",
       "      <td>Hargrave</td>\n",
       "      <td>619</td>\n",
       "      <td>France</td>\n",
       "      <td>Female</td>\n",
       "      <td>42</td>\n",
       "      <td>2.0</td>\n",
       "      <td>0.00</td>\n",
       "      <td>1</td>\n",
       "      <td>1</td>\n",
       "      <td>1</td>\n",
       "      <td>101348.88</td>\n",
       "      <td>1</td>\n",
       "    </tr>\n",
       "    <tr>\n",
       "      <th>1</th>\n",
       "      <td>2</td>\n",
       "      <td>15647311</td>\n",
       "      <td>Hill</td>\n",
       "      <td>608</td>\n",
       "      <td>Spain</td>\n",
       "      <td>Female</td>\n",
       "      <td>41</td>\n",
       "      <td>1.0</td>\n",
       "      <td>83807.86</td>\n",
       "      <td>1</td>\n",
       "      <td>0</td>\n",
       "      <td>1</td>\n",
       "      <td>112542.58</td>\n",
       "      <td>0</td>\n",
       "    </tr>\n",
       "    <tr>\n",
       "      <th>2</th>\n",
       "      <td>3</td>\n",
       "      <td>15619304</td>\n",
       "      <td>Onio</td>\n",
       "      <td>502</td>\n",
       "      <td>France</td>\n",
       "      <td>Female</td>\n",
       "      <td>42</td>\n",
       "      <td>8.0</td>\n",
       "      <td>159660.80</td>\n",
       "      <td>3</td>\n",
       "      <td>1</td>\n",
       "      <td>0</td>\n",
       "      <td>113931.57</td>\n",
       "      <td>1</td>\n",
       "    </tr>\n",
       "    <tr>\n",
       "      <th>3</th>\n",
       "      <td>4</td>\n",
       "      <td>15701354</td>\n",
       "      <td>Boni</td>\n",
       "      <td>699</td>\n",
       "      <td>France</td>\n",
       "      <td>Female</td>\n",
       "      <td>39</td>\n",
       "      <td>1.0</td>\n",
       "      <td>0.00</td>\n",
       "      <td>2</td>\n",
       "      <td>0</td>\n",
       "      <td>0</td>\n",
       "      <td>93826.63</td>\n",
       "      <td>0</td>\n",
       "    </tr>\n",
       "    <tr>\n",
       "      <th>4</th>\n",
       "      <td>5</td>\n",
       "      <td>15737888</td>\n",
       "      <td>Mitchell</td>\n",
       "      <td>850</td>\n",
       "      <td>Spain</td>\n",
       "      <td>Female</td>\n",
       "      <td>43</td>\n",
       "      <td>2.0</td>\n",
       "      <td>125510.82</td>\n",
       "      <td>1</td>\n",
       "      <td>1</td>\n",
       "      <td>1</td>\n",
       "      <td>79084.10</td>\n",
       "      <td>0</td>\n",
       "    </tr>\n",
       "  </tbody>\n",
       "</table>\n",
       "</div>"
      ],
      "text/plain": [
       "   RowNumber  CustomerId   Surname  CreditScore Geography  Gender  Age  \\\n",
       "0          1    15634602  Hargrave          619    France  Female   42   \n",
       "1          2    15647311      Hill          608     Spain  Female   41   \n",
       "2          3    15619304      Onio          502    France  Female   42   \n",
       "3          4    15701354      Boni          699    France  Female   39   \n",
       "4          5    15737888  Mitchell          850     Spain  Female   43   \n",
       "\n",
       "   Tenure    Balance  NumOfProducts  HasCrCard  IsActiveMember  \\\n",
       "0     2.0       0.00              1          1               1   \n",
       "1     1.0   83807.86              1          0               1   \n",
       "2     8.0  159660.80              3          1               0   \n",
       "3     1.0       0.00              2          0               0   \n",
       "4     2.0  125510.82              1          1               1   \n",
       "\n",
       "   EstimatedSalary  Exited  \n",
       "0        101348.88       1  \n",
       "1        112542.58       0  \n",
       "2        113931.57       1  \n",
       "3         93826.63       0  \n",
       "4         79084.10       0  "
      ]
     },
     "execution_count": 4,
     "metadata": {},
     "output_type": "execute_result"
    }
   ],
   "source": [
    "data.head()"
   ]
  },
  {
   "cell_type": "code",
   "execution_count": 5,
   "metadata": {},
   "outputs": [
    {
     "name": "stdout",
     "output_type": "stream",
     "text": [
      "<class 'pandas.core.frame.DataFrame'>\n",
      "RangeIndex: 10000 entries, 0 to 9999\n",
      "Data columns (total 14 columns):\n",
      " #   Column           Non-Null Count  Dtype  \n",
      "---  ------           --------------  -----  \n",
      " 0   RowNumber        10000 non-null  int64  \n",
      " 1   CustomerId       10000 non-null  int64  \n",
      " 2   Surname          10000 non-null  object \n",
      " 3   CreditScore      10000 non-null  int64  \n",
      " 4   Geography        10000 non-null  object \n",
      " 5   Gender           10000 non-null  object \n",
      " 6   Age              10000 non-null  int64  \n",
      " 7   Tenure           9091 non-null   float64\n",
      " 8   Balance          10000 non-null  float64\n",
      " 9   NumOfProducts    10000 non-null  int64  \n",
      " 10  HasCrCard        10000 non-null  int64  \n",
      " 11  IsActiveMember   10000 non-null  int64  \n",
      " 12  EstimatedSalary  10000 non-null  float64\n",
      " 13  Exited           10000 non-null  int64  \n",
      "dtypes: float64(3), int64(8), object(3)\n",
      "memory usage: 1.1+ MB\n"
     ]
    }
   ],
   "source": [
    "data.info()"
   ]
  },
  {
   "attachments": {},
   "cell_type": "markdown",
   "metadata": {},
   "source": [
    "Итак, перед нами банковский датасет. Целевой признак - *Exited* - покинул ли клиент банк, или остался. \n",
    "\n",
    "Самое первое, что нужно сделать - **разделить данные** на обучающую и тестовую выборки. Валидационную использовать не планируется, так как предполагается использование кросс - валидации. \n",
    "\n",
    "Среди признаков явно не все пригодятся нам для прогнозирования. Так, столбцы *RowNumber*, *CustomerId*, *Surname* не относятся к нашей задаче и никак не влияют на отток клиентов(так подсказывает нам здравый смысл), поэтому их можно удалить. \n",
    "\n",
    "Также заметно, что не все признаки числовые, есть и категориальные, поэтому придется воспользоваться **преобразованием**. \n",
    "\n",
    "Затем нужно будет **стандартизировать** данные. \n",
    "\n",
    "Не лишним будет проверить данные на **мультиколлинеарность**. \n",
    "\n",
    "Также заметны **пропуски** в колонке *Tenure*, заполним их 0, так как она отвечает за количество лет, которое человек является клиентом."
   ]
  },
  {
   "cell_type": "markdown",
   "metadata": {},
   "source": [
    "### 1.1. Удаление бесполезных столбцов и заполнение пропусков"
   ]
  },
  {
   "cell_type": "code",
   "execution_count": 6,
   "metadata": {},
   "outputs": [],
   "source": [
    "data = data.drop(['RowNumber', 'CustomerId', 'Surname'], axis=1)\n",
    "data.Tenure = data.Tenure.fillna(0)"
   ]
  },
  {
   "cell_type": "markdown",
   "metadata": {},
   "source": [
    "### 1.2. Преобразование категориальных признаков"
   ]
  },
  {
   "cell_type": "code",
   "execution_count": 7,
   "metadata": {},
   "outputs": [
    {
     "name": "stderr",
     "output_type": "stream",
     "text": [
      "C:\\Users\\pivka\\AppData\\Roaming\\Python\\Python310\\site-packages\\sklearn\\utils\\deprecation.py:87: FutureWarning: Function get_feature_names is deprecated; get_feature_names is deprecated in 1.0 and will be removed in 1.2. Please use get_feature_names_out instead.\n",
      "  warnings.warn(msg, category=FutureWarning)\n",
      "C:\\Users\\pivka\\AppData\\Roaming\\Python\\Python310\\site-packages\\sklearn\\utils\\deprecation.py:87: FutureWarning: Function get_feature_names is deprecated; get_feature_names is deprecated in 1.0 and will be removed in 1.2. Please use get_feature_names_out instead.\n",
      "  warnings.warn(msg, category=FutureWarning)\n"
     ]
    }
   ],
   "source": [
    "ohe = OneHotEncoder(sparse=False, drop='first') #создание экземпляра кодировщика\n",
    "cat_columns = data.select_dtypes('object').columns #выбор категориальных признаков из таблицы\n",
    "data_ohe = ohe.fit_transform(data[cat_columns]) #осуществление преобразования\n",
    "data_ohe = pd.DataFrame(data_ohe, columns=ohe.get_feature_names())\n",
    "data[ohe.get_feature_names()] = data_ohe\n",
    "data.drop(columns=cat_columns, inplace=True)"
   ]
  },
  {
   "cell_type": "markdown",
   "metadata": {},
   "source": [
    "### 1.3. Деление на выборки "
   ]
  },
  {
   "cell_type": "markdown",
   "metadata": {},
   "source": [
    "Для начала разделим на обучающую, валидационную и тестовую выборки."
   ]
  },
  {
   "cell_type": "code",
   "execution_count": 8,
   "metadata": {},
   "outputs": [],
   "source": [
    "features = data.drop('Exited', axis=1)\n",
    "target = data['Exited']\n",
    "\n",
    "features_train, features_test, target_train, target_test = train_test_split(features, target, test_size=0.25, random_state=28)"
   ]
  },
  {
   "cell_type": "markdown",
   "metadata": {},
   "source": [
    "### 1.4. Стандартизация данных "
   ]
  },
  {
   "cell_type": "markdown",
   "metadata": {},
   "source": [
    "Перед тем как применять стандартизацию, данные необходимо поделить на обучающую и тестовую выборку. Стандартизатор обучается на обучающей выборке, но применяется к обоим."
   ]
  },
  {
   "cell_type": "code",
   "execution_count": 9,
   "metadata": {},
   "outputs": [],
   "source": [
    "scaler = StandardScaler()\n",
    "scaler.fit(features_train)\n",
    "features_train = scaler.transform(features_train)\n",
    "features_test = scaler.transform(features_test)"
   ]
  },
  {
   "cell_type": "markdown",
   "metadata": {},
   "source": [
    "### 1.5. Проверка данных на коллинеарность"
   ]
  },
  {
   "cell_type": "markdown",
   "metadata": {},
   "source": [
    "Построим тепловую карту корреляции признаков, чтобы отследить зависимости."
   ]
  },
  {
   "cell_type": "code",
   "execution_count": 10,
   "metadata": {},
   "outputs": [
    {
     "data": {
      "image/png": "[encoded data removed]",
      "text/plain": [
       "<Figure size 1000x800 with 2 Axes>"
      ]
     },
     "metadata": {},
     "output_type": "display_data"
    }
   ],
   "source": [
    "interval_cols = data.select_dtypes('number').columns.tolist()\n",
    "phik_overview = data.phik_matrix(interval_cols=interval_cols)\n",
    "plot_correlation_matrix(phik_overview.values, \n",
    "                        x_labels=phik_overview.columns, \n",
    "                        y_labels=phik_overview.index, \n",
    "                        vmin=0, vmax=1, color_map=\"Reds\", \n",
    "                        title=r\"correlation $\\phi_K$\", \n",
    "                        fontsize_factor=1, \n",
    "                        figsize=(10, 8))"
   ]
  },
  {
   "cell_type": "markdown",
   "metadata": {},
   "source": [
    "По диаграмме видно, что сильной корреляции нет ни у одной пары признаков, однако средняя коррляция есть у пар Germany, Balance и NumOfProducts, Exited. Удалять признаки не будем, так как корреляция не сильная."
   ]
  },
  {
   "cell_type": "markdown",
   "metadata": {},
   "source": [
    "### **Вывод**\n",
    "\n",
    "Данные лишены бесполезных признаков, категориальные признаки преобразованы к количественным, данные разделены на выборки, стандартизированы и проверены на мультиколлинеарность. На этом подготовка окончена, можно приступать к проверке моделей."
   ]
  },
  {
   "cell_type": "markdown",
   "metadata": {},
   "source": [
    "## 2. Исследование задачи"
   ]
  },
  {
   "cell_type": "markdown",
   "metadata": {},
   "source": [
    "Для начала определим имеется ли в нашем случае дисбаланс"
   ]
  },
  {
   "cell_type": "code",
   "execution_count": 11,
   "metadata": {},
   "outputs": [
    {
     "data": {
      "text/plain": [
       "0    5954\n",
       "1    1546\n",
       "Name: Exited, dtype: int64"
      ]
     },
     "execution_count": 11,
     "metadata": {},
     "output_type": "execute_result"
    }
   ],
   "source": [
    "target_train.value_counts()"
   ]
  },
  {
   "cell_type": "markdown",
   "metadata": {},
   "source": [
    "1546 положительных ответов против 5954 отрицательных ответов. Отношение классов почти 1:4."
   ]
  },
  {
   "cell_type": "markdown",
   "metadata": {},
   "source": [
    "Попробуем обучить модель решающего дерева на несбалансированных данных и посморетреть на значения метрик F1 и AUC-ROC"
   ]
  },
  {
   "cell_type": "code",
   "execution_count": 12,
   "metadata": {},
   "outputs": [
    {
     "name": "stdout",
     "output_type": "stream",
     "text": [
      "Среднее значние метрики F1: 0.5018710310217388\n",
      "Среднее значние метрики ROC-AUC: 0.6881300691062489\n"
     ]
    }
   ],
   "source": [
    "model = DecisionTreeClassifier(random_state=28)\n",
    "res = cross_validate(model, features_train, target_train, cv=5, scoring={\"AUC\": \"roc_auc\", \"F1\": make_scorer(f1_score)})\n",
    "print('Среднее значние метрики F1:', res['test_F1'].mean())\n",
    "print('Среднее значние метрики ROC-AUC:', res['test_AUC'].mean())"
   ]
  },
  {
   "cell_type": "markdown",
   "metadata": {},
   "source": [
    "Итак, значение метрики F1 - 0.49 и ROC-AUC - 0.68. ROC-AUC на 0.2 больше, чем у случайной модели, так что это значение не слишком плохое, но есть к чему стремиться. А вот F - мера показала маленький результат. "
   ]
  },
  {
   "cell_type": "markdown",
   "metadata": {},
   "source": [
    "## 3. Борьба с дисбалансом"
   ]
  },
  {
   "cell_type": "markdown",
   "metadata": {},
   "source": [
    "Баланс классов будем настраивать на двух моделях: случаный лес и решающее дерево. Исследование будет проводится по следующим способам борьбы с дисбалансом: SMOTE, ADASYN"
   ]
  },
  {
   "cell_type": "markdown",
   "metadata": {},
   "source": [
    "### 3.1. SMOTE"
   ]
  },
  {
   "cell_type": "code",
   "execution_count": 13,
   "metadata": {},
   "outputs": [
    {
     "name": "stdout",
     "output_type": "stream",
     "text": [
      "Баланс классов после обработки:\n",
      "1    5954\n",
      "0    5954\n",
      "Name: Exited, dtype: int64\n"
     ]
    }
   ],
   "source": [
    "features_train_smoted, target_train_smoted = SMOTE(random_state=28).fit_resample(features_train, target_train)\n",
    "print('Баланс классов после обработки:', target_train_smoted.value_counts(), sep='\\n')"
   ]
  },
  {
   "cell_type": "markdown",
   "metadata": {},
   "source": [
    "Обработка сравняла количество единиц и нулей в обучающей выборке, теперь классы сбалансированы. Теперь можно приступить к настройке модели решающего дерева. Для этого воспользуемся GridSearch."
   ]
  },
  {
   "cell_type": "code",
   "execution_count": 14,
   "metadata": {},
   "outputs": [
    {
     "name": "stdout",
     "output_type": "stream",
     "text": [
      "Наилучшее значение F1 достигается при глубине дерева 14, минимальном количестве выборок для создания листа 3 и минимальном количестве выборок для разделения 2\n"
     ]
    }
   ],
   "source": [
    "model = DecisionTreeClassifier(random_state=28)\n",
    "params = {'max_depth': range(1, 20), 'min_samples_split': range(2, 5), 'min_samples_leaf': range(2, 5)}\n",
    "grid_model = GridSearchCV(model, params, cv=5, scoring=['roc_auc', 'f1'], n_jobs=-1, refit='f1')\n",
    "grid_model.fit(features_train_smoted, target_train_smoted)\n",
    "print('Наилучшее значение F1 достигается при глубине дерева ', grid_model.best_params_['max_depth'], ', минимальном количестве выборок для создания листа ', grid_model.best_params_['min_samples_leaf'], ' и минимальном количестве выборок для разделения ', grid_model.best_params_['min_samples_split'], sep='')"
   ]
  },
  {
   "cell_type": "markdown",
   "metadata": {},
   "source": [
    "Аналогично поступим для случайного леса"
   ]
  },
  {
   "cell_type": "code",
   "execution_count": 15,
   "metadata": {},
   "outputs": [
    {
     "name": "stdout",
     "output_type": "stream",
     "text": [
      "Наилучшее значение F1 достигается при глубине дерева 9 и количестве деревьев 150\n"
     ]
    }
   ],
   "source": [
    "model = RandomForestClassifier(random_state=28)\n",
    "params = {'max_depth': range(1, 10), 'n_estimators': range(10, 151, 10)}\n",
    "grid_model = GridSearchCV(model, params, cv=5, scoring=['roc_auc', 'f1'], n_jobs=-1, refit='f1')\n",
    "grid_model.fit(features_train_smoted, target_train_smoted)\n",
    "print('Наилучшее значение F1 достигается при глубине дерева ', grid_model.best_params_['max_depth'], ' и количестве деревьев ', grid_model.best_params_['n_estimators'], sep='')"
   ]
  },
  {
   "cell_type": "code",
   "execution_count": 16,
   "metadata": {},
   "outputs": [
    {
     "name": "stdout",
     "output_type": "stream",
     "text": [
      "Среднее значние метрики F1: 0.8064391208861412\n",
      "Среднее значние метрики ROC-AUC: 0.8643410760281924\n"
     ]
    }
   ],
   "source": [
    "model = DecisionTreeClassifier(max_depth=16, min_samples_leaf=3, min_samples_split=2, random_state=28)\n",
    "res = cross_validate(model, features_train_smoted, target_train_smoted, cv=5, scoring={\"AUC\": \"roc_auc\", \"F1\": make_scorer(f1_score)})\n",
    "print('Среднее значние метрики F1:', res['test_F1'].mean())\n",
    "print('Среднее значние метрики ROC-AUC:', res['test_AUC'].mean())\n"
   ]
  },
  {
   "cell_type": "code",
   "execution_count": 17,
   "metadata": {},
   "outputs": [
    {
     "name": "stdout",
     "output_type": "stream",
     "text": [
      "Среднее значние метрики F1: 0.8339752355919643\n",
      "Среднее значние метрики ROC-AUC: 0.9227090104357639\n"
     ]
    }
   ],
   "source": [
    "model = RandomForestClassifier(max_depth=9, n_estimators=150, random_state=28)\n",
    "res = cross_validate(model, features_train_smoted, target_train_smoted, cv=5, scoring={\"AUC\": \"roc_auc\", \"F1\": make_scorer(f1_score)})\n",
    "print('Среднее значние метрики F1:', res['test_F1'].mean())\n",
    "print('Среднее значние метрики ROC-AUC:', res['test_AUC'].mean())"
   ]
  },
  {
   "cell_type": "markdown",
   "metadata": {},
   "source": [
    "Получен колоссальный рост метрики F1: 0.8 для решающего дерева и 0.83 для случайного леса, ROC-AUC тоже показала положительную динамику: 0.86 для решающего дерева и 0.92 для случайного леса, что очень высоко"
   ]
  },
  {
   "cell_type": "markdown",
   "metadata": {},
   "source": [
    "### 3.2. ADASYN"
   ]
  },
  {
   "cell_type": "code",
   "execution_count": 18,
   "metadata": {},
   "outputs": [
    {
     "name": "stdout",
     "output_type": "stream",
     "text": [
      "Баланс классов после обработки:\n",
      "1    5954\n",
      "0    5954\n",
      "Name: Exited, dtype: int64\n"
     ]
    }
   ],
   "source": [
    "features_train_adasyned, target_train_adasyned = ADASYN(random_state=28).fit_resample(features_train, target_train)\n",
    "print('Баланс классов после обработки:', target_train_smoted.value_counts(), sep='\\n')"
   ]
  },
  {
   "cell_type": "markdown",
   "metadata": {},
   "source": [
    "Можно заметить, что после обработки классы не выровнялись: теперь единиц стало больше, чем нулей, хоть и незначительно. Это объясняется принципом работы метода ADASYN, так как он по сути сначала уравнивает классы, как метод SMOTE, но потом добавляет еще немного точек для того, чтобы сделать данные более реалистичными. Теперь можно приступить к настройке модели решающего дерева. Для этого воспользуемся GridSearch."
   ]
  },
  {
   "cell_type": "code",
   "execution_count": 19,
   "metadata": {},
   "outputs": [
    {
     "name": "stdout",
     "output_type": "stream",
     "text": [
      "Наилучшее значение F1 достигается при глубине дерева 17, минимальном количестве выборок для создания листа 2 и минимальном количестве выборок для разделения 2\n"
     ]
    }
   ],
   "source": [
    "model = DecisionTreeClassifier(random_state=28)\n",
    "params = {'max_depth': range(1, 20), 'min_samples_split': range(2, 5), 'min_samples_leaf': range(2, 5)}\n",
    "grid_model = GridSearchCV(model, params, cv=5, scoring=['roc_auc', 'f1'], n_jobs=-1, refit='f1')\n",
    "grid_model.fit(features_train_adasyned, target_train_adasyned)\n",
    "print('Наилучшее значение F1 достигается при глубине дерева ', grid_model.best_params_['max_depth'], ', минимальном количестве выборок для создания листа ', grid_model.best_params_['min_samples_leaf'], ' и минимальном количестве выборок для разделения ', grid_model.best_params_['min_samples_split'], sep='')"
   ]
  },
  {
   "cell_type": "markdown",
   "metadata": {},
   "source": [
    "Аналогично поступим для случайного леса"
   ]
  },
  {
   "cell_type": "code",
   "execution_count": 20,
   "metadata": {},
   "outputs": [
    {
     "name": "stdout",
     "output_type": "stream",
     "text": [
      "Наилучшее значение F1 достигается при глубине дерева 9 и количестве деревьев 150\n"
     ]
    }
   ],
   "source": [
    "model = RandomForestClassifier(random_state=28)\n",
    "params = {'max_depth': range(1, 10), 'n_estimators': range(10, 151, 10)}\n",
    "grid_model = GridSearchCV(model, params, cv=5, scoring=['roc_auc', 'f1'], n_jobs=-1, refit='f1')\n",
    "grid_model.fit(features_train_adasyned, target_train_adasyned)\n",
    "print('Наилучшее значение F1 достигается при глубине дерева ', grid_model.best_params_['max_depth'], ' и количестве деревьев ', grid_model.best_params_['n_estimators'], sep='')"
   ]
  },
  {
   "cell_type": "code",
   "execution_count": 21,
   "metadata": {},
   "outputs": [
    {
     "name": "stdout",
     "output_type": "stream",
     "text": [
      "Среднее значние метрики F1: 0.8081393965619575\n",
      "Среднее значние метрики ROC-AUC: 0.8471526462690285\n"
     ]
    }
   ],
   "source": [
    "model = DecisionTreeClassifier(max_depth=18, min_samples_leaf=2, min_samples_split=2, random_state=28)\n",
    "res = cross_validate(model, features_train_adasyned, target_train_adasyned, cv=5, scoring={\"AUC\": \"roc_auc\", \"F1\": make_scorer(f1_score)})\n",
    "print('Среднее значние метрики F1:', res['test_F1'].mean())\n",
    "print('Среднее значние метрики ROC-AUC:', res['test_AUC'].mean())"
   ]
  },
  {
   "cell_type": "code",
   "execution_count": 22,
   "metadata": {},
   "outputs": [
    {
     "name": "stdout",
     "output_type": "stream",
     "text": [
      "Среднее значние метрики F1: 0.824183164123569\n",
      "Среднее значние метрики ROC-AUC: 0.9056405651511831\n"
     ]
    }
   ],
   "source": [
    "model = RandomForestClassifier(max_depth=9, n_estimators=150, random_state=28)\n",
    "res = cross_validate(model, features_train_adasyned, target_train_adasyned, cv=5, scoring={\"AUC\": \"roc_auc\", \"F1\": make_scorer(f1_score)})\n",
    "print('Среднее значние метрики F1:', res['test_F1'].mean())\n",
    "print('Среднее значние метрики ROC-AUC:', res['test_AUC'].mean())"
   ]
  },
  {
   "cell_type": "markdown",
   "metadata": {},
   "source": [
    "Метрика F1 дала результат 0.81 для решающего дерева и 0.82 для случайного дерева, почти такой же, как при методе SMOTE. ROC-AUC здесь уступает аналогичной метрике для метода SMOTE всего на 0.02 и равен 0.84 для решающего дерева и 0.9 для случайного леса"
   ]
  },
  {
   "cell_type": "markdown",
   "metadata": {},
   "source": [
    "### **Вывод**"
   ]
  },
  {
   "cell_type": "markdown",
   "metadata": {},
   "source": [
    "Становится очевидным воздействие дисбаланса классов на работу модели: при устранении дисбаланса метрика F1 выросла более, чем в 2 раза и достигла 0.8. Вместе с ней выросла и AUC-ROC, достигнув значения 0.85. Однако принципиального отличия между методами устранения дисбаланса выявлено не было, оба способа хороша себя показали. Будем использовать SMOTE."
   ]
  },
  {
   "cell_type": "markdown",
   "metadata": {},
   "source": [
    "## 4. Подбор модели"
   ]
  },
  {
   "cell_type": "markdown",
   "metadata": {},
   "source": [
    "Разобравшись с дисбалансом, можно приступать к подбору лучшей модели и её параметров. Для этой задачи будем использовать GridSearchCV."
   ]
  },
  {
   "cell_type": "markdown",
   "metadata": {},
   "source": [
    "### 4.1. Решающее дерево"
   ]
  },
  {
   "cell_type": "markdown",
   "metadata": {},
   "source": [
    "В разделе 3 мы уже подобрали лучшие параметры для этой модели и получили метрику F1, равную 0.8, и ROC-AUC 0.86"
   ]
  },
  {
   "cell_type": "code",
   "execution_count": 23,
   "metadata": {},
   "outputs": [],
   "source": [
    "model_tree = DecisionTreeClassifier(max_depth=18, min_samples_leaf=2, min_samples_split=2, random_state=28)"
   ]
  },
  {
   "cell_type": "markdown",
   "metadata": {},
   "source": [
    "### 4.2. Случайный лес"
   ]
  },
  {
   "cell_type": "markdown",
   "metadata": {},
   "source": [
    "В разделе 3 мы уже подобрали лучшие параметры для этой модели и получили метрику F1, равную 0.83 и ROC-AUC 0.92"
   ]
  },
  {
   "cell_type": "code",
   "execution_count": 24,
   "metadata": {},
   "outputs": [],
   "source": [
    "model_forest = RandomForestClassifier(max_depth=9, n_estimators=150, random_state=28)"
   ]
  },
  {
   "cell_type": "markdown",
   "metadata": {},
   "source": [
    "### 4.3. Логистическая регрессия"
   ]
  },
  {
   "cell_type": "code",
   "execution_count": 25,
   "metadata": {},
   "outputs": [
    {
     "name": "stdout",
     "output_type": "stream",
     "text": [
      "Наилучшее значение F1 достигается при макисмальном количестве итераций 10\n"
     ]
    }
   ],
   "source": [
    "model_log_reg = LogisticRegression(solver='liblinear', random_state=28)\n",
    "params = {'max_iter': range(10, 251, 10)}\n",
    "grid_model = GridSearchCV(model_log_reg, params, cv=5, scoring=['roc_auc', 'f1'], n_jobs=-1, refit='f1')\n",
    "grid_model.fit(features_train_adasyned, target_train_adasyned)\n",
    "print('Наилучшее значение F1 достигается при макисмальном количестве итераций', grid_model.best_params_['max_iter'])"
   ]
  },
  {
   "cell_type": "code",
   "execution_count": 26,
   "metadata": {},
   "outputs": [
    {
     "name": "stdout",
     "output_type": "stream",
     "text": [
      "Среднее значние метрики F1: 0.6902069055650493\n",
      "Среднее значние метрики ROC-AUC: 0.7424082496806708\n"
     ]
    }
   ],
   "source": [
    "model_log_reg = LogisticRegression(max_iter=10, solver='liblinear', random_state=28)\n",
    "res = cross_validate(model_log_reg, features_train_adasyned, target_train_adasyned, cv=5, scoring={\"AUC\": \"roc_auc\", \"F1\": make_scorer(f1_score)})\n",
    "print('Среднее значние метрики F1:', res['test_F1'].mean())\n",
    "print('Среднее значние метрики ROC-AUC:', res['test_AUC'].mean())"
   ]
  },
  {
   "cell_type": "markdown",
   "metadata": {},
   "source": [
    "Для логистической регрессии получены маленькие значения обоих метрик: F1 равна 0.69, AUC-ROC достигает 0.74. Это самый низкий результат среди всех рассмотренных моделей. "
   ]
  },
  {
   "cell_type": "markdown",
   "metadata": {},
   "source": [
    "### **Вывод**"
   ]
  },
  {
   "attachments": {},
   "cell_type": "markdown",
   "metadata": {},
   "source": [
    "Самый лучший результат показала модель случайного леса, ее будем использовать на тестовой выборке."
   ]
  },
  {
   "cell_type": "markdown",
   "metadata": {},
   "source": [
    "## 5. Тестирование модели на тестовых данных"
   ]
  },
  {
   "cell_type": "code",
   "execution_count": 27,
   "metadata": {},
   "outputs": [
    {
     "name": "stdout",
     "output_type": "stream",
     "text": [
      "Значение F1: 0.5980707395498392\n",
      "Значение ROC_AUC: 0.7129535663869992\n"
     ]
    }
   ],
   "source": [
    "model = RandomForestClassifier(max_depth=9, n_estimators=150, random_state=28)\n",
    "model.fit(features_train_adasyned, target_train_adasyned)\n",
    "predictions = model.predict(features_test)\n",
    "res = f1_score(predictions, target_test)\n",
    "roc = roc_auc_score(predictions, target_test)\n",
    "print('Значение F1:', res)\n",
    "print('Значение ROC_AUC:', roc)"
   ]
  },
  {
   "cell_type": "markdown",
   "metadata": {},
   "source": [
    "Победа! Удалось достигнуть требуемой точности: F1 равна 0.598, ROC-AUC равна 0.71. В целом результат достаточно неплохой, ROC-AUC больше на 0.2, чем у случайной модели. AUC-ROC показывает наскольок точно модель предсказывает класс, то есть в нашем случае модель с вероятность 0.71 угадает класс объекта - приличная точность."
   ]
  }
 ],
 "metadata": {
  "kernelspec": {
   "display_name": "Python 3 (ipykernel)",
   "language": "python",
   "name": "python3"
  },
  "language_info": {
   "codemirror_mode": {
    "name": "ipython",
    "version": 3
   },
   "file_extension": ".py",
   "mimetype": "text/x-python",
   "name": "python",
   "nbconvert_exporter": "python",
   "pygments_lexer": "ipython3",
   "version": "3.10.7"
  },
  "toc": {
   "base_numbering": 1,
   "nav_menu": {},
   "number_sections": true,
   "sideBar": true,
   "skip_h1_title": true,
   "title_cell": "Table of Contents",
   "title_sidebar": "Contents",
   "toc_cell": false,
   "toc_position": {},
   "toc_section_display": true,
   "toc_window_display": false
  },
  "vscode": {
   "interpreter": {
    "hash": "26de051ba29f2982a8de78e945f0abaf191376122a1563185a90213a26c5da77"
   }
  }
 },
 "nbformat": 4,
 "nbformat_minor": 2
}
