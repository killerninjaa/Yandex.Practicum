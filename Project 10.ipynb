{
 "cells": [
  {
   "cell_type": "markdown",
   "metadata": {
    "toc": true
   },
   "source": [
    "<h1>Содержание<span class=\"tocSkip\"></span></h1>\n",
    "<div class=\"toc\"><ul class=\"toc-item\"><li><span><a href=\"#Загрузка-данных\" data-toc-modified-id=\"Загрузка-данных-1\"><span class=\"toc-item-num\">1&nbsp;&nbsp;</span>Загрузка данных</a></span></li><li><span><a href=\"#Проверка-предположения\" data-toc-modified-id=\"Проверка-предположения-2\"><span class=\"toc-item-num\">2&nbsp;&nbsp;</span>Проверка предположения</a></span></li><li><span><a href=\"#Алгоритм-преобразования\" data-toc-modified-id=\"Алгоритм-преобразования-3\"><span class=\"toc-item-num\">3&nbsp;&nbsp;</span>Алгоритм преобразования</a></span></li><li><span><a href=\"#Реализация-алгоритма\" data-toc-modified-id=\"Реализация-алгоритма-4\"><span class=\"toc-item-num\">4&nbsp;&nbsp;</span>Реализация алгоритма</a></span></li><li><span><a href=\"#Вывод\" data-toc-modified-id=\"Вывод-5\"><span class=\"toc-item-num\">5&nbsp;&nbsp;</span>Вывод</a></span></li><li><span><a href=\"#Чек-лист-проверки\" data-toc-modified-id=\"Чек-лист-проверки-6\"><span class=\"toc-item-num\">6&nbsp;&nbsp;</span>Чек-лист проверки</a></span></li><li><span><a href=\"#Финальные-комментарии-ревьюера\" data-toc-modified-id=\"Финальные-комментарии-ревьюера-7\"><span class=\"toc-item-num\">7&nbsp;&nbsp;</span>Финальные комментарии ревьюера</a></span></li></ul></div>"
   ]
  },
  {
   "cell_type": "markdown",
   "metadata": {},
   "source": [
    "# Защита персональных данных клиентов"
   ]
  },
  {
   "cell_type": "markdown",
   "metadata": {},
   "source": [
    "**Цель:** защитить данные клиентов страховой компании «Хоть потоп». Необходимо разработать такой метод преобразования данных, чтобы по ним было сложно восстановить персональную информацию и обосновать его корректность. При этом, качество моделей машинного обучения не должно ухудшиться.\n",
    "\n",
    "**План:**\n",
    "1. Загрузка и изучение данных\n",
    "2. Проверка предположения\n",
    "3. Поиск алгоритма преобразования \n",
    "4. Реализация алгоритма"
   ]
  },
  {
   "cell_type": "markdown",
   "metadata": {},
   "source": [
    "## Загрузка данных"
   ]
  },
  {
   "cell_type": "code",
   "execution_count": 1,
   "metadata": {},
   "outputs": [],
   "source": [
    "import pandas as pd\n",
    "import numpy as np\n",
    "import seaborn as sns\n",
    "\n",
    "from sklearn.linear_model import LinearRegression\n",
    "from sklearn.metrics import r2_score"
   ]
  },
  {
   "cell_type": "code",
   "execution_count": 2,
   "metadata": {},
   "outputs": [
    {
     "data": {
      "text/html": [
       "<div>\n",
       "<style scoped>\n",
       "    .dataframe tbody tr th:only-of-type {\n",
       "        vertical-align: middle;\n",
       "    }\n",
       "\n",
       "    .dataframe tbody tr th {\n",
       "        vertical-align: top;\n",
       "    }\n",
       "\n",
       "    .dataframe thead th {\n",
       "        text-align: right;\n",
       "    }\n",
       "</style>\n",
       "<table border=\"1\" class=\"dataframe\">\n",
       "  <thead>\n",
       "    <tr style=\"text-align: right;\">\n",
       "      <th></th>\n",
       "      <th>Пол</th>\n",
       "      <th>Возраст</th>\n",
       "      <th>Зарплата</th>\n",
       "      <th>Члены семьи</th>\n",
       "      <th>Страховые выплаты</th>\n",
       "    </tr>\n",
       "  </thead>\n",
       "  <tbody>\n",
       "    <tr>\n",
       "      <th>0</th>\n",
       "      <td>1</td>\n",
       "      <td>41.0</td>\n",
       "      <td>49600.0</td>\n",
       "      <td>1</td>\n",
       "      <td>0</td>\n",
       "    </tr>\n",
       "    <tr>\n",
       "      <th>1</th>\n",
       "      <td>0</td>\n",
       "      <td>46.0</td>\n",
       "      <td>38000.0</td>\n",
       "      <td>1</td>\n",
       "      <td>1</td>\n",
       "    </tr>\n",
       "    <tr>\n",
       "      <th>2</th>\n",
       "      <td>0</td>\n",
       "      <td>29.0</td>\n",
       "      <td>21000.0</td>\n",
       "      <td>0</td>\n",
       "      <td>0</td>\n",
       "    </tr>\n",
       "    <tr>\n",
       "      <th>3</th>\n",
       "      <td>0</td>\n",
       "      <td>21.0</td>\n",
       "      <td>41700.0</td>\n",
       "      <td>2</td>\n",
       "      <td>0</td>\n",
       "    </tr>\n",
       "    <tr>\n",
       "      <th>4</th>\n",
       "      <td>1</td>\n",
       "      <td>28.0</td>\n",
       "      <td>26100.0</td>\n",
       "      <td>0</td>\n",
       "      <td>0</td>\n",
       "    </tr>\n",
       "  </tbody>\n",
       "</table>\n",
       "</div>"
      ],
      "text/plain": [
       "   Пол  Возраст  Зарплата  Члены семьи  Страховые выплаты\n",
       "0    1     41.0   49600.0            1                  0\n",
       "1    0     46.0   38000.0            1                  1\n",
       "2    0     29.0   21000.0            0                  0\n",
       "3    0     21.0   41700.0            2                  0\n",
       "4    1     28.0   26100.0            0                  0"
      ]
     },
     "execution_count": 2,
     "metadata": {},
     "output_type": "execute_result"
    }
   ],
   "source": [
    "data = pd.read_csv('10.csv')\n",
    "data.head()"
   ]
  },
  {
   "cell_type": "code",
   "execution_count": 3,
   "metadata": {},
   "outputs": [
    {
     "name": "stdout",
     "output_type": "stream",
     "text": [
      "<class 'pandas.core.frame.DataFrame'>\n",
      "RangeIndex: 5000 entries, 0 to 4999\n",
      "Data columns (total 5 columns):\n",
      " #   Column             Non-Null Count  Dtype  \n",
      "---  ------             --------------  -----  \n",
      " 0   Пол                5000 non-null   int64  \n",
      " 1   Возраст            5000 non-null   float64\n",
      " 2   Зарплата           5000 non-null   float64\n",
      " 3   Члены семьи        5000 non-null   int64  \n",
      " 4   Страховые выплаты  5000 non-null   int64  \n",
      "dtypes: float64(2), int64(3)\n",
      "memory usage: 195.4 KB\n"
     ]
    }
   ],
   "source": [
    "data.info()"
   ]
  },
  {
   "cell_type": "markdown",
   "metadata": {},
   "source": [
    "В предосталвенных данных имеем 5000 строк без пропусков. Типы - integer и float."
   ]
  },
  {
   "cell_type": "code",
   "execution_count": 4,
   "metadata": {},
   "outputs": [
    {
     "data": {
      "text/html": [
       "<div>\n",
       "<style scoped>\n",
       "    .dataframe tbody tr th:only-of-type {\n",
       "        vertical-align: middle;\n",
       "    }\n",
       "\n",
       "    .dataframe tbody tr th {\n",
       "        vertical-align: top;\n",
       "    }\n",
       "\n",
       "    .dataframe thead th {\n",
       "        text-align: right;\n",
       "    }\n",
       "</style>\n",
       "<table border=\"1\" class=\"dataframe\">\n",
       "  <thead>\n",
       "    <tr style=\"text-align: right;\">\n",
       "      <th></th>\n",
       "      <th>Пол</th>\n",
       "      <th>Возраст</th>\n",
       "      <th>Зарплата</th>\n",
       "      <th>Члены семьи</th>\n",
       "      <th>Страховые выплаты</th>\n",
       "    </tr>\n",
       "  </thead>\n",
       "  <tbody>\n",
       "    <tr>\n",
       "      <th>count</th>\n",
       "      <td>5000.000000</td>\n",
       "      <td>5000.000000</td>\n",
       "      <td>5000.000000</td>\n",
       "      <td>5000.000000</td>\n",
       "      <td>5000.000000</td>\n",
       "    </tr>\n",
       "    <tr>\n",
       "      <th>mean</th>\n",
       "      <td>0.499000</td>\n",
       "      <td>30.952800</td>\n",
       "      <td>39916.360000</td>\n",
       "      <td>1.194200</td>\n",
       "      <td>0.148000</td>\n",
       "    </tr>\n",
       "    <tr>\n",
       "      <th>std</th>\n",
       "      <td>0.500049</td>\n",
       "      <td>8.440807</td>\n",
       "      <td>9900.083569</td>\n",
       "      <td>1.091387</td>\n",
       "      <td>0.463183</td>\n",
       "    </tr>\n",
       "    <tr>\n",
       "      <th>min</th>\n",
       "      <td>0.000000</td>\n",
       "      <td>18.000000</td>\n",
       "      <td>5300.000000</td>\n",
       "      <td>0.000000</td>\n",
       "      <td>0.000000</td>\n",
       "    </tr>\n",
       "    <tr>\n",
       "      <th>25%</th>\n",
       "      <td>0.000000</td>\n",
       "      <td>24.000000</td>\n",
       "      <td>33300.000000</td>\n",
       "      <td>0.000000</td>\n",
       "      <td>0.000000</td>\n",
       "    </tr>\n",
       "    <tr>\n",
       "      <th>50%</th>\n",
       "      <td>0.000000</td>\n",
       "      <td>30.000000</td>\n",
       "      <td>40200.000000</td>\n",
       "      <td>1.000000</td>\n",
       "      <td>0.000000</td>\n",
       "    </tr>\n",
       "    <tr>\n",
       "      <th>75%</th>\n",
       "      <td>1.000000</td>\n",
       "      <td>37.000000</td>\n",
       "      <td>46600.000000</td>\n",
       "      <td>2.000000</td>\n",
       "      <td>0.000000</td>\n",
       "    </tr>\n",
       "    <tr>\n",
       "      <th>max</th>\n",
       "      <td>1.000000</td>\n",
       "      <td>65.000000</td>\n",
       "      <td>79000.000000</td>\n",
       "      <td>6.000000</td>\n",
       "      <td>5.000000</td>\n",
       "    </tr>\n",
       "  </tbody>\n",
       "</table>\n",
       "</div>"
      ],
      "text/plain": [
       "               Пол      Возраст      Зарплата  Члены семьи  Страховые выплаты\n",
       "count  5000.000000  5000.000000   5000.000000  5000.000000        5000.000000\n",
       "mean      0.499000    30.952800  39916.360000     1.194200           0.148000\n",
       "std       0.500049     8.440807   9900.083569     1.091387           0.463183\n",
       "min       0.000000    18.000000   5300.000000     0.000000           0.000000\n",
       "25%       0.000000    24.000000  33300.000000     0.000000           0.000000\n",
       "50%       0.000000    30.000000  40200.000000     1.000000           0.000000\n",
       "75%       1.000000    37.000000  46600.000000     2.000000           0.000000\n",
       "max       1.000000    65.000000  79000.000000     6.000000           5.000000"
      ]
     },
     "execution_count": 4,
     "metadata": {},
     "output_type": "execute_result"
    }
   ],
   "source": [
    "data.describe()"
   ]
  },
  {
   "cell_type": "markdown",
   "metadata": {},
   "source": [
    "Описательные статистики дают понять, что в наших данных соотношение полов приближено к 1:1, средний возраст - 31 год, а минимальный - 18 лет, средняя зарплата - 39916 у.е., каждый клиент в среднем имеет 1 члена семьи. "
   ]
  },
  {
   "cell_type": "code",
   "execution_count": 6,
   "metadata": {},
   "outputs": [
    {
     "data": {
      "image/png": "[encoded data removed]",
      "text/plain": [
       "<Figure size 1500x800 with 1 Axes>"
      ]
     },
     "metadata": {},
     "output_type": "display_data"
    }
   ],
   "source": [
    "sns.set(rc={\"figure.figsize\": (15, 8)})\n",
    "sns.histplot(data['Страховые выплаты']).set(title='Распределение частоты получения страховой выплаты', ylabel='Количество');"
   ]
  },
  {
   "cell_type": "markdown",
   "metadata": {},
   "source": [
    "Из графика распредления целевого признака видно, подавляющее большинство (около 4500) клиентов не получали страховую выплату, 1 выплату получили примерно 500 человек, остальное количество выплат получило очень мало людей."
   ]
  },
  {
   "cell_type": "markdown",
   "metadata": {},
   "source": [
    "Так как будет применяться линейная регрессия, то необходимо проверить данные на **корреляцию**"
   ]
  },
  {
   "cell_type": "code",
   "execution_count": 7,
   "metadata": {},
   "outputs": [
    {
     "data": {
      "image/png": "[encoded data removed]",
      "text/plain": [
       "<Figure size 1500x800 with 2 Axes>"
      ]
     },
     "metadata": {},
     "output_type": "display_data"
    }
   ],
   "source": [
    "sns.heatmap(data.drop('Страховые выплаты', axis=1).corr()).set(title='Матрица корреляции');"
   ]
  },
  {
   "cell_type": "markdown",
   "metadata": {},
   "source": [
    "Корелляции между признаками нет, она околонулевая для любой пары."
   ]
  },
  {
   "cell_type": "markdown",
   "metadata": {},
   "source": [
    "Последним этапом исследования станет проверка на **дубликаты**"
   ]
  },
  {
   "cell_type": "code",
   "execution_count": 8,
   "metadata": {},
   "outputs": [
    {
     "name": "stdout",
     "output_type": "stream",
     "text": [
      "Количество дубликатов: 153\n"
     ]
    }
   ],
   "source": [
    "print('Количество дубликатов:', data.duplicated().sum())"
   ]
  },
  {
   "cell_type": "markdown",
   "metadata": {},
   "source": [
    "Дубликаты есть, но удалять их не будем"
   ]
  },
  {
   "cell_type": "markdown",
   "metadata": {},
   "source": [
    "**Вывод**\n",
    "\n",
    "Проведена предобработка, основные закономерности в данных выявлены. Соотношение полов в данных 1:1, средний возраст клиента - 31 год. Исследовано распредление целевого признака. Корреляций между признаками нет"
   ]
  },
  {
   "attachments": {},
   "cell_type": "markdown",
   "metadata": {},
   "source": [
    "## Проверка предположения"
   ]
  },
  {
   "attachments": {},
   "cell_type": "markdown",
   "metadata": {},
   "source": [
    "**Вопрос:** признаки умножают на обратимую матрицу. Изменится ли качество линейной регрессии?"
   ]
  },
  {
   "cell_type": "markdown",
   "metadata": {},
   "source": [
    "Обозначения:\n",
    "\n",
    "- $X$ — матрица признаков (нулевой столбец состоит из единиц)\n",
    "\n",
    "- $y$ — вектор целевого признака\n",
    "\n",
    "- $P$ — матрица, на которую умножаются признаки\n",
    "\n",
    "- $w$ — вектор весов линейной регрессии (нулевой элемент равен сдвигу)"
   ]
  },
  {
   "cell_type": "markdown",
   "metadata": {},
   "source": [
    "Предсказания:\n",
    "\n",
    "$$\n",
    "a = Xw\n",
    "$$\n",
    "\n",
    "Задача обучения:\n",
    "\n",
    "$$\n",
    "w = \\arg\\min_w MSE(Xw, y)\n",
    "$$\n",
    "\n",
    "Формула обучения:\n",
    "\n",
    "$$\n",
    "w = (X^T X)^{-1} X^T y\n",
    "$$"
   ]
  },
  {
   "cell_type": "markdown",
   "metadata": {},
   "source": [
    "**Ответ:** домножение на обратимую матрицу не влияет на результат работы линейной регрессии\n",
    "\n",
    "\n",
    "**Обоснование:** Если мы домножим матрицу признаков на обратимую матрицу P, то формула обучения примет вид:\n",
    "\n",
    "$$\n",
    "w' = ((XP)^TXP)^{-1} (XP)^T y\n",
    "$$\n",
    "\n",
    "Теперь упростим полученное выражение, учитывая что\n",
    "\n",
    "$$\n",
    "(XP)^T = P^TX^T \n",
    "$$\n",
    "\n",
    "Получим:\n",
    "\n",
    "$$\n",
    "w' = (P^TX^TXP)^{-1} P^TX^T y\n",
    "$$\n",
    "\n",
    "С учётом того, что \n",
    "\n",
    "$$\n",
    "(P^TX^TXP)^{-1} = P^{-1}(X^TX)^{-1}(P^T)^{-1}\n",
    "$$\n",
    "\n",
    "Получим:\n",
    "\n",
    "$$\n",
    "w' = P^{-1}(X^TX)^{-1}(P^T)^{-1} P^TX^T y\n",
    "$$\n",
    "\n",
    "Так как \n",
    "\n",
    "$$(P^T)^{-1}P^T = E\n",
    "$$\n",
    "\n",
    "Получим:\n",
    "\n",
    "$$\n",
    "w' = P^{-1}(X^TX)^{-1}X^T y\n",
    "$$\n",
    "\n",
    "Теперь посчитаем предсказания:\n",
    "\n",
    "$$\n",
    "a' = XPw' = XPP^{-1}(X^TX)^{-1}X^T y = X(X^TX)^{-1}X^T y = a\n",
    "$$\n",
    "\n",
    "В общем виде доказано, что домножение матрицы признаков на обратимую матрицу никоим образом не должно повлиять на предсказания"
   ]
  },
  {
   "cell_type": "markdown",
   "metadata": {},
   "source": [
    "## Алгоритм преобразования"
   ]
  },
  {
   "cell_type": "markdown",
   "metadata": {},
   "source": [
    "**Алгоритм**\n",
    "\n",
    "В прошлом пункте было доказано, что умножение матрицы признаков на обратимую матрицу не влияет на результат работы линейной регрессии. Предлагаю следующий вариант шифрования: \n",
    "1. Случайным образом формируется ключевая обратимая матрица. \n",
    "2. Ключевая матрица проверяется на обратимость при помощи библиотеки numpy, точнее функции inv()\n",
    "3. Матрица признаков умножается на ключевую матрицу, что обеспечивает преобразование данных. \n",
    "\n",
    "Дополнительные пункты:\n",
    "\n",
    "4. Обучение линейной регрессии на исходных и на зашифрованных данных\n",
    "5. Сравнение метрик R2 в первом и во втором случае\n",
    "\n",
    "Обратим внимание, что данное преобразование обратимо. Обладателю ключевой матрицы будет достаточно умножить данные на обратную ключевой матрицу. А вот без знания ключевой матрицы восстановить данные будет практически невозможно, так как перебор нецелесообразен."
   ]
  },
  {
   "cell_type": "markdown",
   "metadata": {},
   "source": [
    "## Реализация алгоритма"
   ]
  },
  {
   "cell_type": "markdown",
   "metadata": {},
   "source": [
    "Для начала проверим качество регрессии на непреобразованных данных."
   ]
  },
  {
   "cell_type": "code",
   "execution_count": 9,
   "metadata": {},
   "outputs": [
    {
     "name": "stdout",
     "output_type": "stream",
     "text": [
      "Значение метрики R2 составляет 0.42494550286668\n"
     ]
    }
   ],
   "source": [
    "model = LinearRegression()\n",
    "model.fit(data.drop('Страховые выплаты', axis=1), data['Страховые выплаты'])\n",
    "predictions = model.predict(data.drop('Страховые выплаты', axis=1))\n",
    "print('Значение метрики R2 составляет', r2_score(data['Страховые выплаты'], predictions))"
   ]
  },
  {
   "cell_type": "markdown",
   "metadata": {},
   "source": [
    "Теперь преобразуем данные и проверим работу модели, показания должны не измениться."
   ]
  },
  {
   "cell_type": "code",
   "execution_count": 10,
   "metadata": {},
   "outputs": [],
   "source": [
    "def encryption(data):\n",
    "    data = data.values\n",
    "    key = np.random.randint(30, 200, (len(data[0]), 4))\n",
    "    try:\n",
    "        np.linalg.inv(key)\n",
    "    except:\n",
    "        print('Ключевая матрица необратима')\n",
    "        return data, key\n",
    "    data = data @ key\n",
    "    return data, key\n",
    "\n",
    "def decryption(data, key):\n",
    "    return data @ np.linalg.inv(key)"
   ]
  },
  {
   "cell_type": "code",
   "execution_count": 11,
   "metadata": {},
   "outputs": [
    {
     "name": "stdout",
     "output_type": "stream",
     "text": [
      "Значение метрики R2 составляет 0.42494550286666544\n"
     ]
    }
   ],
   "source": [
    "features, key = encryption(data.drop('Страховые выплаты', axis=1))\n",
    "model = LinearRegression()\n",
    "model.fit(features, data['Страховые выплаты'])\n",
    "predictions = model.predict(features)\n",
    "print('Значение метрики R2 составляет', r2_score(data['Страховые выплаты'], predictions))"
   ]
  },
  {
   "cell_type": "markdown",
   "metadata": {},
   "source": [
    "Можно заметить, что в обоих случаях значение метрики совпадает"
   ]
  },
  {
   "cell_type": "markdown",
   "metadata": {},
   "source": [
    "## Вывод"
   ]
  },
  {
   "cell_type": "markdown",
   "metadata": {},
   "source": [
    "**Вывод**\n",
    "\n",
    "В ходе данного проекта был проведен исследовательский анализ данных страховой компании, затем была доказана гипотеза о том, что умножение матрицы признаков на обратимую матрицу не меняет результат работы линейной регрессии. На основе этого предположения был сформирован алгоритм шифрования данных пользователей, который шифруя данные не влияет на результат работы линейной регрессии. Экспериментально было подтверждено, что результат работы алгоритма машинного обучения не меняется до и после шифрования."
   ]
  }
 ],
 "metadata": {
  "ExecuteTimeLog": [
   {
    "duration": 426,
    "start_time": "2022-12-28T10:33:50.899Z"
   },
   {
    "duration": 93,
    "start_time": "2022-12-28T10:34:15.626Z"
   },
   {
    "duration": 30,
    "start_time": "2022-12-28T10:34:21.206Z"
   },
   {
    "duration": 46,
    "start_time": "2022-12-28T10:34:26.203Z"
   },
   {
    "duration": 36,
    "start_time": "2022-12-28T11:47:08.428Z"
   },
   {
    "duration": 26,
    "start_time": "2022-12-28T11:47:15.010Z"
   },
   {
    "duration": 12,
    "start_time": "2022-12-28T11:47:52.950Z"
   },
   {
    "duration": 572,
    "start_time": "2022-12-28T11:56:32.552Z"
   },
   {
    "duration": 90,
    "start_time": "2022-12-28T11:58:26.608Z"
   },
   {
    "duration": 9,
    "start_time": "2022-12-28T11:58:50.606Z"
   },
   {
    "duration": 563,
    "start_time": "2022-12-28T11:59:05.039Z"
   },
   {
    "duration": 155,
    "start_time": "2022-12-28T11:59:08.861Z"
   },
   {
    "duration": 52,
    "start_time": "2022-12-28T12:02:12.247Z"
   },
   {
    "duration": 161,
    "start_time": "2022-12-28T12:02:31.659Z"
   },
   {
    "duration": 236,
    "start_time": "2022-12-28T12:02:44.857Z"
   },
   {
    "duration": 269,
    "start_time": "2022-12-28T12:03:12.410Z"
   },
   {
    "duration": 289,
    "start_time": "2022-12-28T12:03:19.456Z"
   },
   {
    "duration": 229,
    "start_time": "2022-12-28T12:03:28.541Z"
   },
   {
    "duration": 11,
    "start_time": "2022-12-28T12:21:24.366Z"
   },
   {
    "duration": 243,
    "start_time": "2022-12-28T12:22:46.721Z"
   },
   {
    "duration": 363,
    "start_time": "2022-12-28T12:23:19.349Z"
   },
   {
    "duration": 278,
    "start_time": "2022-12-28T12:23:49.464Z"
   },
   {
    "duration": 267,
    "start_time": "2022-12-28T12:24:05.202Z"
   },
   {
    "duration": 256,
    "start_time": "2022-12-28T12:24:11.631Z"
   },
   {
    "duration": 1502,
    "start_time": "2023-01-07T11:38:54.685Z"
   },
   {
    "duration": 3,
    "start_time": "2023-01-07T11:39:48.412Z"
   },
   {
    "duration": 94,
    "start_time": "2023-01-07T11:41:08.430Z"
   },
   {
    "duration": 3,
    "start_time": "2023-01-07T11:41:13.778Z"
   },
   {
    "duration": 113,
    "start_time": "2023-01-07T11:41:13.783Z"
   },
   {
    "duration": 17,
    "start_time": "2023-01-07T11:41:13.898Z"
   },
   {
    "duration": 32,
    "start_time": "2023-01-07T11:41:13.917Z"
   },
   {
    "duration": 304,
    "start_time": "2023-01-07T11:41:13.953Z"
   },
   {
    "duration": 18,
    "start_time": "2023-01-07T11:41:14.259Z"
   },
   {
    "duration": 12,
    "start_time": "2023-01-07T11:42:01.943Z"
   },
   {
    "duration": 9,
    "start_time": "2023-01-07T11:42:06.717Z"
   },
   {
    "duration": 9,
    "start_time": "2023-01-07T11:42:24.135Z"
   },
   {
    "duration": 92,
    "start_time": "2023-01-07T11:44:36.323Z"
   },
   {
    "duration": 3,
    "start_time": "2023-01-07T11:45:18.951Z"
   },
   {
    "duration": 31,
    "start_time": "2023-01-07T11:45:22.486Z"
   },
   {
    "duration": 18,
    "start_time": "2023-01-07T11:47:34.854Z"
   },
   {
    "duration": 5,
    "start_time": "2023-01-07T11:52:48.271Z"
   },
   {
    "duration": 3,
    "start_time": "2023-01-07T11:54:06.411Z"
   },
   {
    "duration": 13,
    "start_time": "2023-01-07T11:55:57.076Z"
   },
   {
    "duration": 3,
    "start_time": "2023-01-07T11:56:08.404Z"
   },
   {
    "duration": 13,
    "start_time": "2023-01-07T11:56:11.169Z"
   },
   {
    "duration": 3,
    "start_time": "2023-01-07T11:56:13.782Z"
   },
   {
    "duration": 13,
    "start_time": "2023-01-07T11:56:14.155Z"
   },
   {
    "duration": 3,
    "start_time": "2023-01-07T11:56:21.623Z"
   },
   {
    "duration": 13,
    "start_time": "2023-01-07T11:56:22.304Z"
   },
   {
    "duration": 83,
    "start_time": "2023-01-07T11:57:15.938Z"
   },
   {
    "duration": 4,
    "start_time": "2023-01-07T11:57:19.161Z"
   },
   {
    "duration": 42,
    "start_time": "2023-01-07T11:57:19.470Z"
   },
   {
    "duration": 4,
    "start_time": "2023-01-07T12:00:30.070Z"
   },
   {
    "duration": 5,
    "start_time": "2023-01-07T12:00:38.219Z"
   },
   {
    "duration": 19,
    "start_time": "2023-01-07T12:00:57.695Z"
   },
   {
    "duration": 4,
    "start_time": "2023-01-07T12:01:11.918Z"
   },
   {
    "duration": 5,
    "start_time": "2023-01-07T12:01:27.231Z"
   },
   {
    "duration": 6,
    "start_time": "2023-01-07T12:01:30.376Z"
   },
   {
    "duration": 6,
    "start_time": "2023-01-07T12:01:37.580Z"
   },
   {
    "duration": 16,
    "start_time": "2023-01-07T12:02:34.008Z"
   },
   {
    "duration": 1461,
    "start_time": "2023-01-08T07:28:46.518Z"
   },
   {
    "duration": 37,
    "start_time": "2023-01-08T07:28:47.981Z"
   },
   {
    "duration": 16,
    "start_time": "2023-01-08T07:28:48.019Z"
   },
   {
    "duration": 25,
    "start_time": "2023-01-08T07:28:48.037Z"
   },
   {
    "duration": 235,
    "start_time": "2023-01-08T07:28:48.064Z"
   },
   {
    "duration": 34,
    "start_time": "2023-01-08T07:28:48.301Z"
   },
   {
    "duration": 107,
    "start_time": "2023-01-08T07:28:48.337Z"
   },
   {
    "duration": 172,
    "start_time": "2023-01-08T07:28:48.446Z"
   },
   {
    "duration": 65,
    "start_time": "2023-01-09T08:41:43.015Z"
   },
   {
    "duration": 42,
    "start_time": "2023-01-09T08:44:06.258Z"
   },
   {
    "duration": 1548,
    "start_time": "2023-01-09T08:44:11.859Z"
   },
   {
    "duration": 65,
    "start_time": "2023-01-09T08:44:13.409Z"
   },
   {
    "duration": 12,
    "start_time": "2023-01-09T08:44:13.475Z"
   },
   {
    "duration": 26,
    "start_time": "2023-01-09T08:44:13.489Z"
   },
   {
    "duration": 255,
    "start_time": "2023-01-09T08:44:13.517Z"
   },
   {
    "duration": 363,
    "start_time": "2023-01-09T08:44:13.773Z"
   },
   {
    "duration": 23,
    "start_time": "2023-01-09T08:44:14.137Z"
   },
   {
    "duration": 197,
    "start_time": "2023-01-09T08:44:14.162Z"
   },
   {
    "duration": 155,
    "start_time": "2023-01-09T08:44:14.362Z"
   },
   {
    "duration": 321,
    "start_time": "2023-01-09T08:45:11.382Z"
   },
   {
    "duration": 382,
    "start_time": "2023-01-09T08:45:20.118Z"
   },
   {
    "duration": 326,
    "start_time": "2023-01-09T08:45:54.844Z"
   },
   {
    "duration": 381,
    "start_time": "2023-01-09T08:49:08.814Z"
   },
   {
    "duration": 7,
    "start_time": "2023-01-09T08:49:29.467Z"
   },
   {
    "duration": 6,
    "start_time": "2023-01-09T08:49:33.191Z"
   },
   {
    "duration": 5,
    "start_time": "2023-01-09T08:49:59.852Z"
   },
   {
    "duration": 45,
    "start_time": "2023-01-09T09:01:45.362Z"
   },
   {
    "duration": 48,
    "start_time": "2023-01-09T09:04:28.614Z"
   },
   {
    "duration": 56,
    "start_time": "2023-01-09T09:04:34.511Z"
   },
   {
    "duration": 51,
    "start_time": "2023-01-09T09:04:46.968Z"
   },
   {
    "duration": 1148,
    "start_time": "2023-01-09T09:05:09.914Z"
   },
   {
    "duration": 80,
    "start_time": "2023-01-09T09:06:05.818Z"
   },
   {
    "duration": 11,
    "start_time": "2023-01-09T09:06:36.007Z"
   },
   {
    "duration": 3,
    "start_time": "2023-01-09T09:06:43.137Z"
   },
   {
    "duration": 24,
    "start_time": "2023-01-09T09:06:43.145Z"
   },
   {
    "duration": 11,
    "start_time": "2023-01-09T09:06:43.171Z"
   },
   {
    "duration": 26,
    "start_time": "2023-01-09T09:06:43.183Z"
   },
   {
    "duration": 247,
    "start_time": "2023-01-09T09:06:43.211Z"
   },
   {
    "duration": 355,
    "start_time": "2023-01-09T09:06:43.459Z"
   },
   {
    "duration": 6,
    "start_time": "2023-01-09T09:06:43.816Z"
   },
   {
    "duration": 35,
    "start_time": "2023-01-09T09:06:43.823Z"
   },
   {
    "duration": 103,
    "start_time": "2023-01-09T09:06:43.864Z"
   },
   {
    "duration": 0,
    "start_time": "2023-01-09T09:06:43.969Z"
   },
   {
    "duration": 0,
    "start_time": "2023-01-09T09:06:43.970Z"
   },
   {
    "duration": 3,
    "start_time": "2023-01-09T09:07:04.364Z"
   },
   {
    "duration": 134,
    "start_time": "2023-01-09T09:07:04.369Z"
   },
   {
    "duration": 11,
    "start_time": "2023-01-09T09:07:04.505Z"
   },
   {
    "duration": 26,
    "start_time": "2023-01-09T09:07:04.518Z"
   },
   {
    "duration": 233,
    "start_time": "2023-01-09T09:07:04.546Z"
   },
   {
    "duration": 354,
    "start_time": "2023-01-09T09:07:04.781Z"
   },
   {
    "duration": 6,
    "start_time": "2023-01-09T09:07:05.136Z"
   },
   {
    "duration": 22,
    "start_time": "2023-01-09T09:07:05.143Z"
   },
   {
    "duration": 218,
    "start_time": "2023-01-09T09:07:05.168Z"
   },
   {
    "duration": 0,
    "start_time": "2023-01-09T09:07:05.388Z"
   },
   {
    "duration": 0,
    "start_time": "2023-01-09T09:07:05.389Z"
   },
   {
    "duration": 10,
    "start_time": "2023-01-09T09:07:55.421Z"
   },
   {
    "duration": 4,
    "start_time": "2023-01-09T09:08:00.014Z"
   },
   {
    "duration": 26,
    "start_time": "2023-01-09T09:08:00.021Z"
   },
   {
    "duration": 11,
    "start_time": "2023-01-09T09:08:00.049Z"
   },
   {
    "duration": 26,
    "start_time": "2023-01-09T09:08:00.062Z"
   },
   {
    "duration": 236,
    "start_time": "2023-01-09T09:08:00.091Z"
   },
   {
    "duration": 362,
    "start_time": "2023-01-09T09:08:00.330Z"
   },
   {
    "duration": 7,
    "start_time": "2023-01-09T09:08:00.694Z"
   },
   {
    "duration": 53,
    "start_time": "2023-01-09T09:08:00.703Z"
   },
   {
    "duration": 119,
    "start_time": "2023-01-09T09:08:00.763Z"
   },
   {
    "duration": 172,
    "start_time": "2023-01-09T09:08:00.885Z"
   },
   {
    "duration": 0,
    "start_time": "2023-01-09T09:08:01.059Z"
   },
   {
    "duration": 10,
    "start_time": "2023-01-09T09:08:19.369Z"
   },
   {
    "duration": 7,
    "start_time": "2023-01-09T09:08:24.544Z"
   },
   {
    "duration": 40,
    "start_time": "2023-01-09T09:08:24.554Z"
   },
   {
    "duration": 14,
    "start_time": "2023-01-09T09:08:24.596Z"
   },
   {
    "duration": 43,
    "start_time": "2023-01-09T09:08:24.613Z"
   },
   {
    "duration": 261,
    "start_time": "2023-01-09T09:08:24.658Z"
   },
   {
    "duration": 348,
    "start_time": "2023-01-09T09:08:24.921Z"
   },
   {
    "duration": 7,
    "start_time": "2023-01-09T09:08:25.270Z"
   },
   {
    "duration": 20,
    "start_time": "2023-01-09T09:08:25.279Z"
   },
   {
    "duration": 129,
    "start_time": "2023-01-09T09:08:25.355Z"
   },
   {
    "duration": 0,
    "start_time": "2023-01-09T09:08:25.486Z"
   },
   {
    "duration": 0,
    "start_time": "2023-01-09T09:08:25.487Z"
   },
   {
    "duration": 51,
    "start_time": "2023-01-09T09:08:44.319Z"
   },
   {
    "duration": 12,
    "start_time": "2023-01-09T09:09:35.321Z"
   },
   {
    "duration": 4,
    "start_time": "2023-01-09T09:09:40.063Z"
   },
   {
    "duration": 29,
    "start_time": "2023-01-09T09:09:40.070Z"
   },
   {
    "duration": 12,
    "start_time": "2023-01-09T09:09:40.102Z"
   },
   {
    "duration": 34,
    "start_time": "2023-01-09T09:09:40.116Z"
   },
   {
    "duration": 234,
    "start_time": "2023-01-09T09:09:40.151Z"
   },
   {
    "duration": 306,
    "start_time": "2023-01-09T09:09:40.388Z"
   },
   {
    "duration": 5,
    "start_time": "2023-01-09T09:09:40.696Z"
   },
   {
    "duration": 55,
    "start_time": "2023-01-09T09:09:40.703Z"
   },
   {
    "duration": 98,
    "start_time": "2023-01-09T09:09:40.760Z"
   },
   {
    "duration": 52,
    "start_time": "2023-01-09T09:09:40.859Z"
   },
   {
    "duration": 0,
    "start_time": "2023-01-09T09:09:40.913Z"
   },
   {
    "duration": 5,
    "start_time": "2023-01-09T09:10:42.842Z"
   },
   {
    "duration": 48,
    "start_time": "2023-01-09T09:13:19.830Z"
   },
   {
    "duration": 10,
    "start_time": "2023-01-09T09:14:02.213Z"
   },
   {
    "duration": 26,
    "start_time": "2023-01-09T09:14:29.570Z"
   },
   {
    "duration": 4,
    "start_time": "2023-01-09T09:14:39.738Z"
   },
   {
    "duration": 34,
    "start_time": "2023-01-09T09:14:39.744Z"
   },
   {
    "duration": 12,
    "start_time": "2023-01-09T09:14:39.780Z"
   },
   {
    "duration": 29,
    "start_time": "2023-01-09T09:14:39.794Z"
   },
   {
    "duration": 334,
    "start_time": "2023-01-09T09:14:39.825Z"
   },
   {
    "duration": 330,
    "start_time": "2023-01-09T09:14:40.160Z"
   },
   {
    "duration": 7,
    "start_time": "2023-01-09T09:14:40.492Z"
   },
   {
    "duration": 64,
    "start_time": "2023-01-09T09:14:40.500Z"
   },
   {
    "duration": 5,
    "start_time": "2023-01-09T09:14:40.656Z"
   },
   {
    "duration": 14,
    "start_time": "2023-01-09T09:14:40.663Z"
   },
   {
    "duration": 12,
    "start_time": "2023-01-09T09:15:03.228Z"
   },
   {
    "duration": 11,
    "start_time": "2023-01-09T09:15:36.482Z"
   },
   {
    "duration": 12,
    "start_time": "2023-01-09T09:16:23.082Z"
   },
   {
    "duration": 4,
    "start_time": "2023-01-09T09:16:25.379Z"
   },
   {
    "duration": 12,
    "start_time": "2023-01-09T09:16:27.080Z"
   },
   {
    "duration": 12,
    "start_time": "2023-01-09T09:16:38.069Z"
   },
   {
    "duration": 3,
    "start_time": "2023-01-09T09:19:06.469Z"
   },
   {
    "duration": 21,
    "start_time": "2023-01-09T09:19:08.950Z"
   },
   {
    "duration": 46,
    "start_time": "2023-01-09T09:19:27.628Z"
   },
   {
    "duration": 12,
    "start_time": "2023-01-09T09:19:32.115Z"
   },
   {
    "duration": 13,
    "start_time": "2023-01-09T09:19:41.567Z"
   },
   {
    "duration": 15,
    "start_time": "2023-01-09T09:19:56.447Z"
   },
   {
    "duration": 21,
    "start_time": "2023-01-09T09:21:24.946Z"
   },
   {
    "duration": 4,
    "start_time": "2023-01-09T09:21:29.180Z"
   },
   {
    "duration": 8,
    "start_time": "2023-01-09T09:21:30.474Z"
   },
   {
    "duration": 19,
    "start_time": "2023-01-09T09:22:46.878Z"
   },
   {
    "duration": 4,
    "start_time": "2023-01-09T09:22:55.518Z"
   },
   {
    "duration": 17,
    "start_time": "2023-01-09T09:22:57.720Z"
   },
   {
    "duration": 12,
    "start_time": "2023-01-09T09:32:34.815Z"
   },
   {
    "duration": 4,
    "start_time": "2023-01-09T09:32:37.017Z"
   },
   {
    "duration": 10,
    "start_time": "2023-01-09T09:32:38.783Z"
   },
   {
    "duration": 9,
    "start_time": "2023-01-09T09:32:49.712Z"
   },
   {
    "duration": 4,
    "start_time": "2023-01-09T09:33:19.706Z"
   },
   {
    "duration": 10,
    "start_time": "2023-01-09T09:33:21.777Z"
   },
   {
    "duration": 12,
    "start_time": "2023-01-09T09:34:02.636Z"
   },
   {
    "duration": 4,
    "start_time": "2023-01-09T09:34:05.567Z"
   },
   {
    "duration": 9,
    "start_time": "2023-01-09T09:34:07.112Z"
   },
   {
    "duration": 3,
    "start_time": "2023-01-09T09:34:29.945Z"
   },
   {
    "duration": 36,
    "start_time": "2023-01-09T09:34:29.949Z"
   },
   {
    "duration": 12,
    "start_time": "2023-01-09T09:34:29.987Z"
   },
   {
    "duration": 24,
    "start_time": "2023-01-09T09:34:30.001Z"
   },
   {
    "duration": 244,
    "start_time": "2023-01-09T09:34:30.027Z"
   },
   {
    "duration": 336,
    "start_time": "2023-01-09T09:34:30.273Z"
   },
   {
    "duration": 5,
    "start_time": "2023-01-09T09:34:30.612Z"
   },
   {
    "duration": 42,
    "start_time": "2023-01-09T09:34:30.618Z"
   },
   {
    "duration": 143,
    "start_time": "2023-01-09T09:34:30.664Z"
   },
   {
    "duration": 48,
    "start_time": "2023-01-09T09:34:30.809Z"
   },
   {
    "duration": 3,
    "start_time": "2023-01-09T09:34:45.715Z"
   },
   {
    "duration": 29,
    "start_time": "2023-01-09T09:34:45.722Z"
   },
   {
    "duration": 12,
    "start_time": "2023-01-09T09:34:45.753Z"
   },
   {
    "duration": 25,
    "start_time": "2023-01-09T09:34:45.768Z"
   },
   {
    "duration": 240,
    "start_time": "2023-01-09T09:34:45.795Z"
   },
   {
    "duration": 338,
    "start_time": "2023-01-09T09:34:46.037Z"
   },
   {
    "duration": 6,
    "start_time": "2023-01-09T09:34:46.377Z"
   },
   {
    "duration": 72,
    "start_time": "2023-01-09T09:34:46.385Z"
   },
   {
    "duration": 6,
    "start_time": "2023-01-09T09:34:46.458Z"
   },
   {
    "duration": 121,
    "start_time": "2023-01-09T09:34:46.467Z"
   },
   {
    "duration": 9,
    "start_time": "2023-01-09T09:35:31.077Z"
   },
   {
    "duration": 4,
    "start_time": "2023-01-09T09:35:42.930Z"
   },
   {
    "duration": 10,
    "start_time": "2023-01-09T09:35:45.330Z"
   },
   {
    "duration": 3,
    "start_time": "2023-01-09T09:37:59.675Z"
   },
   {
    "duration": 23,
    "start_time": "2023-01-09T09:37:59.707Z"
   },
   {
    "duration": 13,
    "start_time": "2023-01-09T09:37:59.732Z"
   },
   {
    "duration": 28,
    "start_time": "2023-01-09T09:37:59.747Z"
   },
   {
    "duration": 225,
    "start_time": "2023-01-09T09:37:59.777Z"
   },
   {
    "duration": 330,
    "start_time": "2023-01-09T09:38:00.005Z"
   },
   {
    "duration": 5,
    "start_time": "2023-01-09T09:38:00.338Z"
   },
   {
    "duration": 16,
    "start_time": "2023-01-09T09:38:00.355Z"
   },
   {
    "duration": 195,
    "start_time": "2023-01-09T09:38:00.374Z"
   },
   {
    "duration": 25,
    "start_time": "2023-01-09T09:38:00.571Z"
   },
   {
    "duration": 3,
    "start_time": "2023-01-09T09:58:10.068Z"
   },
   {
    "duration": 25,
    "start_time": "2023-01-09T09:58:10.073Z"
   },
   {
    "duration": 10,
    "start_time": "2023-01-09T09:58:10.100Z"
   },
   {
    "duration": 25,
    "start_time": "2023-01-09T09:58:10.111Z"
   },
   {
    "duration": 227,
    "start_time": "2023-01-09T09:58:10.137Z"
   },
   {
    "duration": 349,
    "start_time": "2023-01-09T09:58:10.366Z"
   },
   {
    "duration": 6,
    "start_time": "2023-01-09T09:58:10.717Z"
   },
   {
    "duration": 37,
    "start_time": "2023-01-09T09:58:10.725Z"
   },
   {
    "duration": 109,
    "start_time": "2023-01-09T09:58:10.765Z"
   },
   {
    "duration": 93,
    "start_time": "2023-01-09T09:58:10.876Z"
   },
   {
    "duration": 2172,
    "start_time": "2023-01-10T06:43:49.216Z"
   },
   {
    "duration": 126,
    "start_time": "2023-01-10T06:43:51.390Z"
   },
   {
    "duration": 13,
    "start_time": "2023-01-10T06:43:51.518Z"
   },
   {
    "duration": 59,
    "start_time": "2023-01-10T06:43:51.534Z"
   },
   {
    "duration": 284,
    "start_time": "2023-01-10T06:43:51.594Z"
   },
   {
    "duration": 467,
    "start_time": "2023-01-10T06:43:51.879Z"
   },
   {
    "duration": 6,
    "start_time": "2023-01-10T06:43:52.347Z"
   },
   {
    "duration": 82,
    "start_time": "2023-01-10T06:43:52.355Z"
   },
   {
    "duration": 169,
    "start_time": "2023-01-10T06:43:52.439Z"
   },
   {
    "duration": 59,
    "start_time": "2023-01-10T06:43:52.611Z"
   }
  ],
  "kernelspec": {
   "display_name": "Python 3 (ipykernel)",
   "language": "python",
   "name": "python3"
  },
  "language_info": {
   "codemirror_mode": {
    "name": "ipython",
    "version": 3
   },
   "file_extension": ".py",
   "mimetype": "text/x-python",
   "name": "python",
   "nbconvert_exporter": "python",
   "pygments_lexer": "ipython3",
   "version": "3.10.7"
  },
  "toc": {
   "base_numbering": 1,
   "nav_menu": {},
   "number_sections": true,
   "sideBar": true,
   "skip_h1_title": true,
   "title_cell": "Содержание",
   "title_sidebar": "Contents",
   "toc_cell": true,
   "toc_position": {
    "height": "calc(100% - 180px)",
    "left": "10px",
    "top": "150px",
    "width": "254.594px"
   },
   "toc_section_display": true,
   "toc_window_display": true
  }
 },
 "nbformat": 4,
 "nbformat_minor": 2
}
