{
 "cells": [
  {
   "cell_type": "markdown",
   "metadata": {},
   "source": [
    "Привет, меня зовут Артем Хуршудов. Сегодня я проверю твой проект.\n",
    "<br> Дальнейшее общение будет происходить на \"ты\" если это не вызывает никаких проблем.\n",
    "<br> Желательно реагировать на каждый мой комментарий ('исправил', 'не понятно как исправить ошибку', ...)\n",
    "<br> Пожалуйста, не удаляй комментарии ревьюера, так как они повышают качество повторного ревью.\n",
    "\n",
    "Комментарии будут в <font color='green'>зеленой</font>, <font color='blue'>синей</font> или <font color='red'>красной</font> рамках:\n",
    "\n",
    "<div class=\"alert alert-block alert-success\">\n",
    "<b>Успех:</b> Если все сделано отлично\n",
    "</div>\n",
    "\n",
    "<div class=\"alert alert-block alert-info\">\n",
    "<b>Совет: </b> Если можно немного улучшить\n",
    "</div>\n",
    "\n",
    "<div class=\"alert alert-block alert-danger\">\n",
    "<b>Ошибка:</b> Если требуются исправления. Работа не может быть принята с красными комментариями.\n",
    "</div>\n",
    "\n",
    "-------------------\n",
    "\n",
    "Будет очень хорошо, если ты будешь помечать свои действия следующим образом:\n",
    "<div class=\"alert alert-block alert-warning\">\n",
    "<b>Комментарий студента:</b> ...\n",
    "</div>\n",
    "\n",
    "<div class=\"alert alert-block alert-warning\">\n",
    "<b>Изменения:</b> Были внесены следующие изменения ...\n",
    "</div>\n",
    "\n",
    "#### <font color='orange'>Полезные ссылки:</font>\n",
    "* Полезная лекция про временные ряды: https://www.youtube.com/watch?v=u433nrxdf5k .\n",
    "\n",
    "### <font color='orange'>Общее впечатление</font>\n",
    "* Большое спасибо за проделанную работу. Видно, что приложено много усилий.\n",
    "* Отлично, что ноутбук хорошо структурирован. Приятно проверять такие работы.\n",
    "* Над этим проектом нужно будет еще немного поработать. Однако, изменения не должны занять много времени.\n",
    "* В работе я оставил несколько советов. Буду рад, если ты учтешь их.\n",
    "* С радостью отвечу на твои вопросы, если они есть. Лучше всего их собрать в следующей ячейке. Жду новую версию проекта.\n",
    "\n",
    "<div class=\"alert alert-block alert-warning\">\n",
    "<b>Комментарий студента:</b> Привет! Спасибо за ревью. Ниже для удобства расположу список всех внесенных изменений:\n",
    "    \n",
    "    1. Исправлена кросс - валидация\n",
    "    2. Добавлена визуализация результатов\n",
    "    \n",
    "Помимо этого, есть вопрос: почему при применении метода разностей для повышения стационарности нашего ряда, RMSE падает? Хотя вроде как ряд действительно становится более стационарным(судя по графику). Кусок кода с приведением к стационарному виду я удалил, так как от него не было толку    \n",
    "</div>"
   ]
  },
  {
   "cell_type": "markdown",
   "metadata": {},
   "source": [
    "<div class=\"alert alert-block alert-info\">\n",
    "<b>Совет (ревью 2): </b> Перейдя к разности ты изменил задачу, а значит теперь у тебя RMSE – задачи предсказания разности, а нужно измерить метрику исходной задачи. Нужно сделать обратное преобразование или вообще не переходить к разности. \n",
    "    \n",
    "В целом, при переходе к разности, RMSE может как увеличиться, так и уменьшиться. Это просто метод, который может улучшить качество.\n",
    "</div>"
   ]
  },
  {
   "cell_type": "markdown",
   "metadata": {},
   "source": [
    "### <font color='orange'>Общее впечатление (ревью 2)</font>\n",
    "* После исправлений проект улучшился и теперь он может быть зачтен.\n",
    "* Для удобства все новые комментарии обозначены фразой \"ревью 2\".\n",
    "* Удачи в дальнейшем обучении и следующих работах!"
   ]
  },
  {
   "cell_type": "markdown",
   "metadata": {
    "toc": true
   },
   "source": [
    "<h1>Содержание<span class=\"tocSkip\"></span></h1>\n",
    "<div class=\"toc\"><ul class=\"toc-item\"><li><ul class=\"toc-item\"><li><ul class=\"toc-item\"><li><span><a href=\"#Полезные-ссылки:\" data-toc-modified-id=\"Полезные-ссылки:-0.0.1\"><span class=\"toc-item-num\">0.0.1&nbsp;&nbsp;</span><font color=\"orange\">Полезные ссылки:</font></a></span></li></ul></li><li><span><a href=\"#Общее-впечатление\" data-toc-modified-id=\"Общее-впечатление-0.1\"><span class=\"toc-item-num\">0.1&nbsp;&nbsp;</span><font color=\"orange\">Общее впечатление</font></a></span></li><li><span><a href=\"#Общее-впечатление-(ревью-2)\" data-toc-modified-id=\"Общее-впечатление-(ревью-2)-0.2\"><span class=\"toc-item-num\">0.2&nbsp;&nbsp;</span><font color=\"orange\">Общее впечатление (ревью 2)</font></a></span></li></ul></li><li><span><a href=\"#Подготовка\" data-toc-modified-id=\"Подготовка-1\"><span class=\"toc-item-num\">1&nbsp;&nbsp;</span>Подготовка</a></span></li><li><span><a href=\"#Анализ\" data-toc-modified-id=\"Анализ-2\"><span class=\"toc-item-num\">2&nbsp;&nbsp;</span>Анализ</a></span><ul class=\"toc-item\"><li><span><a href=\"#Порядок-дат\" data-toc-modified-id=\"Порядок-дат-2.1\"><span class=\"toc-item-num\">2.1&nbsp;&nbsp;</span>Порядок дат</a></span></li><li><span><a href=\"#График-ряда\" data-toc-modified-id=\"График-ряда-2.2\"><span class=\"toc-item-num\">2.2&nbsp;&nbsp;</span>График ряда</a></span></li></ul></li><li><span><a href=\"#Обучение\" data-toc-modified-id=\"Обучение-3\"><span class=\"toc-item-num\">3&nbsp;&nbsp;</span>Обучение</a></span></li><li><span><a href=\"#Тестирование\" data-toc-modified-id=\"Тестирование-4\"><span class=\"toc-item-num\">4&nbsp;&nbsp;</span>Тестирование</a></span></li><li><span><a href=\"#Чек-лист-проверки\" data-toc-modified-id=\"Чек-лист-проверки-5\"><span class=\"toc-item-num\">5&nbsp;&nbsp;</span>Чек-лист проверки</a></span></li></ul></div>"
   ]
  },
  {
   "cell_type": "markdown",
   "metadata": {},
   "source": [
    "#  Прогнозирование заказов такси"
   ]
  },
  {
   "cell_type": "markdown",
   "metadata": {},
   "source": [
    "Компания «Чётенькое такси» собрала исторические данные о заказах такси в аэропортах. Чтобы привлекать больше водителей в период пиковой нагрузки, нужно спрогнозировать количество заказов такси на следующий час. \n",
    "\n",
    "**Цель**: построить модель для такого предсказания, при этом значение метрики *RMSE* на тестовой выборке должно быть не больше 48.\n",
    "\n",
    "**План:**\n",
    "\n",
    "1. Загрузить данные и выполнить их ресемплирование по одному часу.\n",
    "2. Проанализировать данные.\n",
    "3. Обучить разные модели с различными гиперпараметрами. Сделать тестовую выборку размером 10% от исходных данных.\n",
    "4. Проверить данные на тестовой выборке и сделать выводы."
   ]
  },
  {
   "cell_type": "markdown",
   "metadata": {},
   "source": [
    "## Подготовка"
   ]
  },
  {
   "cell_type": "code",
   "execution_count": 50,
   "metadata": {},
   "outputs": [],
   "source": [
    "import pandas as pd \n",
    "from statsmodels.tsa.seasonal import seasonal_decompose\n",
    "\n",
    "from sklearn.model_selection import train_test_split, RandomizedSearchCV, TimeSeriesSplit\n",
    "from sklearn.tree import DecisionTreeRegressor\n",
    "from sklearn.metrics import mean_absolute_error, make_scorer, mean_squared_error\n",
    "from sklearn.ensemble import RandomForestRegressor\n",
    "from catboost import CatBoostRegressor\n",
    "from sklearn.linear_model import LinearRegression\n",
    "from sklearn.pipeline import Pipeline\n",
    "\n",
    "import lightgbm as lgb"
   ]
  },
  {
   "cell_type": "markdown",
   "metadata": {},
   "source": [
    "<div class=\"alert alert-block alert-success\">\n",
    "<b>Успех:</b> Отлично, что все импорты собраны в первой ячейке ноутбука! Если у того, кто будет запускать твой ноутбук будут отсутствовать некоторые библиотеки, то он это увидит сразу, а не в процессе!\n",
    "</div>"
   ]
  },
  {
   "cell_type": "markdown",
   "metadata": {},
   "source": [
    "Столбец с датой надо сделать индексом и привести к соответсвующему формату формату"
   ]
  },
  {
   "cell_type": "code",
   "execution_count": 51,
   "metadata": {},
   "outputs": [
    {
     "data": {
      "text/html": [
       "<div>\n",
       "<style scoped>\n",
       "    .dataframe tbody tr th:only-of-type {\n",
       "        vertical-align: middle;\n",
       "    }\n",
       "\n",
       "    .dataframe tbody tr th {\n",
       "        vertical-align: top;\n",
       "    }\n",
       "\n",
       "    .dataframe thead th {\n",
       "        text-align: right;\n",
       "    }\n",
       "</style>\n",
       "<table border=\"1\" class=\"dataframe\">\n",
       "  <thead>\n",
       "    <tr style=\"text-align: right;\">\n",
       "      <th></th>\n",
       "      <th>num_orders</th>\n",
       "    </tr>\n",
       "    <tr>\n",
       "      <th>datetime</th>\n",
       "      <th></th>\n",
       "    </tr>\n",
       "  </thead>\n",
       "  <tbody>\n",
       "    <tr>\n",
       "      <th>2018-03-01 00:00:00</th>\n",
       "      <td>9</td>\n",
       "    </tr>\n",
       "    <tr>\n",
       "      <th>2018-03-01 00:10:00</th>\n",
       "      <td>14</td>\n",
       "    </tr>\n",
       "    <tr>\n",
       "      <th>2018-03-01 00:20:00</th>\n",
       "      <td>28</td>\n",
       "    </tr>\n",
       "    <tr>\n",
       "      <th>2018-03-01 00:30:00</th>\n",
       "      <td>20</td>\n",
       "    </tr>\n",
       "    <tr>\n",
       "      <th>2018-03-01 00:40:00</th>\n",
       "      <td>32</td>\n",
       "    </tr>\n",
       "  </tbody>\n",
       "</table>\n",
       "</div>"
      ],
      "text/plain": [
       "                     num_orders\n",
       "datetime                       \n",
       "2018-03-01 00:00:00           9\n",
       "2018-03-01 00:10:00          14\n",
       "2018-03-01 00:20:00          28\n",
       "2018-03-01 00:30:00          20\n",
       "2018-03-01 00:40:00          32"
      ]
     },
     "execution_count": 51,
     "metadata": {},
     "output_type": "execute_result"
    }
   ],
   "source": [
    "data = pd.read_csv('/datasets/taxi.csv', index_col='datetime', parse_dates=[0])\n",
    "data.head()"
   ]
  },
  {
   "cell_type": "markdown",
   "metadata": {},
   "source": [
    "На данный момент данные расположены с промежутком 10 минут. Необходимо провести ресемплирвоание к 1 часу, в качестве агрегационной функции будем использовать сумму."
   ]
  },
  {
   "cell_type": "code",
   "execution_count": 52,
   "metadata": {},
   "outputs": [
    {
     "data": {
      "text/html": [
       "<div>\n",
       "<style scoped>\n",
       "    .dataframe tbody tr th:only-of-type {\n",
       "        vertical-align: middle;\n",
       "    }\n",
       "\n",
       "    .dataframe tbody tr th {\n",
       "        vertical-align: top;\n",
       "    }\n",
       "\n",
       "    .dataframe thead th {\n",
       "        text-align: right;\n",
       "    }\n",
       "</style>\n",
       "<table border=\"1\" class=\"dataframe\">\n",
       "  <thead>\n",
       "    <tr style=\"text-align: right;\">\n",
       "      <th></th>\n",
       "      <th>num_orders</th>\n",
       "    </tr>\n",
       "    <tr>\n",
       "      <th>datetime</th>\n",
       "      <th></th>\n",
       "    </tr>\n",
       "  </thead>\n",
       "  <tbody>\n",
       "    <tr>\n",
       "      <th>2018-03-01 00:00:00</th>\n",
       "      <td>124</td>\n",
       "    </tr>\n",
       "    <tr>\n",
       "      <th>2018-03-01 01:00:00</th>\n",
       "      <td>85</td>\n",
       "    </tr>\n",
       "    <tr>\n",
       "      <th>2018-03-01 02:00:00</th>\n",
       "      <td>71</td>\n",
       "    </tr>\n",
       "    <tr>\n",
       "      <th>2018-03-01 03:00:00</th>\n",
       "      <td>66</td>\n",
       "    </tr>\n",
       "    <tr>\n",
       "      <th>2018-03-01 04:00:00</th>\n",
       "      <td>43</td>\n",
       "    </tr>\n",
       "  </tbody>\n",
       "</table>\n",
       "</div>"
      ],
      "text/plain": [
       "                     num_orders\n",
       "datetime                       \n",
       "2018-03-01 00:00:00         124\n",
       "2018-03-01 01:00:00          85\n",
       "2018-03-01 02:00:00          71\n",
       "2018-03-01 03:00:00          66\n",
       "2018-03-01 04:00:00          43"
      ]
     },
     "execution_count": 52,
     "metadata": {},
     "output_type": "execute_result"
    }
   ],
   "source": [
    "data = data.resample('1H').sum()\n",
    "data.head()"
   ]
  },
  {
   "cell_type": "code",
   "execution_count": 53,
   "metadata": {},
   "outputs": [
    {
     "name": "stdout",
     "output_type": "stream",
     "text": [
      "<class 'pandas.core.frame.DataFrame'>\n",
      "DatetimeIndex: 4416 entries, 2018-03-01 00:00:00 to 2018-08-31 23:00:00\n",
      "Freq: H\n",
      "Data columns (total 1 columns):\n",
      " #   Column      Non-Null Count  Dtype\n",
      "---  ------      --------------  -----\n",
      " 0   num_orders  4416 non-null   int64\n",
      "dtypes: int64(1)\n",
      "memory usage: 69.0 KB\n"
     ]
    }
   ],
   "source": [
    "data.info()"
   ]
  },
  {
   "cell_type": "markdown",
   "metadata": {},
   "source": [
    "В нашем распоряжении часовые данные с 1 марта 2018 года по 31 августа 2018 года, всего 4416 объектов."
   ]
  },
  {
   "cell_type": "markdown",
   "metadata": {},
   "source": [
    "<div class=\"alert alert-block alert-success\">\n",
    "<b>Успех:</b> Данные загружены корректно, первичный осмотр проведен. Ресемплинг был сделан верно.\n",
    "</div>"
   ]
  },
  {
   "cell_type": "markdown",
   "metadata": {},
   "source": [
    "## Анализ"
   ]
  },
  {
   "cell_type": "markdown",
   "metadata": {},
   "source": [
    "### Порядок дат"
   ]
  },
  {
   "cell_type": "code",
   "execution_count": 54,
   "metadata": {},
   "outputs": [
    {
     "data": {
      "text/plain": [
       "True"
      ]
     },
     "execution_count": 54,
     "metadata": {},
     "output_type": "execute_result"
    }
   ],
   "source": [
    "data.index.is_monotonic"
   ]
  },
  {
   "cell_type": "markdown",
   "metadata": {},
   "source": [
    "Даты расположены в хоронологическом порядке"
   ]
  },
  {
   "cell_type": "markdown",
   "metadata": {},
   "source": [
    "### График ряда"
   ]
  },
  {
   "cell_type": "code",
   "execution_count": 55,
   "metadata": {},
   "outputs": [
    {
     "data": {
      "image/png": "[encoded data removed]",
      "text/plain": [
       "<Figure size 1080x648 with 1 Axes>"
      ]
     },
     "metadata": {
      "needs_background": "light"
     },
     "output_type": "display_data"
    }
   ],
   "source": [
    "data['mean'] = data['num_orders'].rolling(15).mean()\n",
    "data['std'] = data['num_orders'].rolling(15).std()\n",
    "data.plot(figsize=(15, 9), title='Почасовое количество заказов такси')\n",
    "data = data.drop(['mean', 'std'], axis=1)"
   ]
  },
  {
   "cell_type": "markdown",
   "metadata": {},
   "source": [
    "Пока что наш ряд не сильно похож на стационарный. Позже попробуем увеличить его стационарность при помощи разностей. А сейчас рассмотрим сезонною и трендовую сосатвляющую графика."
   ]
  },
  {
   "cell_type": "code",
   "execution_count": 56,
   "metadata": {},
   "outputs": [
    {
     "data": {
      "text/plain": [
       "<AxesSubplot:title={'center':'Сезонная составляющая графика'}, xlabel='datetime'>"
      ]
     },
     "execution_count": 56,
     "metadata": {},
     "output_type": "execute_result"
    },
    {
     "data": {
      "image/png": "[encoded data removed]",
      "text/plain": [
       "<Figure size 1080x648 with 1 Axes>"
      ]
     },
     "metadata": {
      "needs_background": "light"
     },
     "output_type": "display_data"
    }
   ],
   "source": [
    "decomposed = seasonal_decompose(data)\n",
    "decomposed.seasonal['2018-03-01':'2018-03-03'].plot(figsize=(15, 9), title='Сезонная составляющая графика')"
   ]
  },
  {
   "cell_type": "markdown",
   "metadata": {},
   "source": [
    "Рассмотрим график сезонной составляющей в период с 2018-03-01 по 2018-03-03. Каждый день минимальный спрос наблюдается около 6 часов утра, а пиковое значение спроса приходится на 12 часов ночи."
   ]
  },
  {
   "cell_type": "code",
   "execution_count": 57,
   "metadata": {
    "scrolled": false
   },
   "outputs": [
    {
     "data": {
      "text/plain": [
       "<AxesSubplot:title={'center':'Трендовая составляющая графика'}, xlabel='datetime'>"
      ]
     },
     "execution_count": 57,
     "metadata": {},
     "output_type": "execute_result"
    },
    {
     "data": {
      "image/png": "[encoded data removed]",
      "text/plain": [
       "<Figure size 1080x648 with 1 Axes>"
      ]
     },
     "metadata": {
      "needs_background": "light"
     },
     "output_type": "display_data"
    }
   ],
   "source": [
    "decomposed.trend.plot(figsize=(15, 9), title='Трендовая составляющая графика')"
   ]
  },
  {
   "cell_type": "markdown",
   "metadata": {},
   "source": [
    "Глобальный тренд по всем данным сообщает нам, что спрос на такси возрастает к лету, это логично, так как летом в целом спрос на авиаперевозки выше."
   ]
  },
  {
   "cell_type": "markdown",
   "metadata": {},
   "source": [
    "**Вывод**\n",
    "\n",
    "Удалось выявить некоторые закономерности данных при помощи анализа трендов и сезонности: больше всего заказов внутри дня ближе к 0 часам, меньше всего - ближе к 6 утра. Анализ тренда показал, что количество заказов в целом растет к лету."
   ]
  },
  {
   "cell_type": "markdown",
   "metadata": {},
   "source": [
    "<div class=\"alert alert-block alert-success\">\n",
    "<b>Успех:</b> Декомпозиция была сделана верно. Хорошо, что сезонность была визуализирована на более коротком интервале!\n",
    "</div>"
   ]
  },
  {
   "cell_type": "markdown",
   "metadata": {},
   "source": [
    "## Обучение"
   ]
  },
  {
   "cell_type": "markdown",
   "metadata": {},
   "source": [
    "Перед обучением в датасет необходимо будет добавить новые признаки: календарные признаки, лаги и скользящее среднее. Для этого воспользуемся функцией make_features:"
   ]
  },
  {
   "cell_type": "code",
   "execution_count": 58,
   "metadata": {},
   "outputs": [],
   "source": [
    "def make_features(data, max_lag, rolling_mean_size):\n",
    "    \n",
    "    #data['year'] = data.index.year решил закомментировать этот признак, так как у всех наших данных одинаковый год \n",
    "    data['month'] = data.index.month\n",
    "    data['day'] = data.index.day\n",
    "    data['dayofweek'] = data.index.dayofweek\n",
    "    data['hour'] = data.index.hour\n",
    "    \n",
    "    for lag in range(1, max_lag + 1):\n",
    "        data['lag_{}'.format(lag)] = data['num_orders'].shift(lag)\n",
    "\n",
    "    data['rolling_mean'] = data['num_orders'].shift().rolling(rolling_mean_size).mean()\n",
    "    \n",
    "    return data"
   ]
  },
  {
   "cell_type": "markdown",
   "metadata": {},
   "source": [
    "<div class=\"alert alert-block alert-info\">\n",
    "<b>Совет: </b> Желательно было написать функцию таким образом, чтобы она возвращала новый датафрейм, а не изменяла глобальную переменную.\n",
    "</div>"
   ]
  },
  {
   "cell_type": "markdown",
   "metadata": {},
   "source": [
    "<div class=\"alert alert-block alert-warning\">\n",
    "<b>Комментарий студента:</b> Не совсем понимаю, вроде как функция не изменяет глобальную переменную, а возвращает измененный датафрейм. Возможно такое впечатление создатся из - за того, что внутри функции переменная называется data, но это никак не влияет на переменную data вне функции. Либо я неправильно тебя понял, и ты советуешь сохранять результат работы функции не в переменную дата\n",
    "</div>"
   ]
  },
  {
   "cell_type": "markdown",
   "metadata": {},
   "source": [
    "<div class=\"alert alert-block alert-info\">\n",
    "\n",
    "<b>Совет (ревью 2): </b> Название не влияет. Но если не скопировать датафрейм, то будет изменять исходный. Надо было в первой строке сделать так: `data_new = data.copy()`.\n",
    "</div>"
   ]
  },
  {
   "cell_type": "markdown",
   "metadata": {},
   "source": [
    "Для того, чтобы подобрать оптимальные параметры функции make_features, будем обучать простую модель с каждым значением параметра и смотреть на изменение метрики\n"
   ]
  },
  {
   "cell_type": "code",
   "execution_count": 59,
   "metadata": {},
   "outputs": [
    {
     "name": "stdout",
     "output_type": "stream",
     "text": [
      "Наилучшие значения метрики достигаются при значении лага 10 и размере окна 10\n"
     ]
    }
   ],
   "source": [
    "minim = 10000000000000\n",
    "for lag in range(1, 11, 3):\n",
    "    for rollmean in range(1, 11, 3):\n",
    "        data = make_features(data, lag, rollmean)\n",
    "\n",
    "        combination, test = train_test_split(data, shuffle=False, test_size=0.1)\n",
    "        train, valid =  train_test_split(combination, shuffle=False, test_size=0.2)\n",
    "        train = train.dropna()\n",
    "\n",
    "        target_train, target_test, target_valid = train.num_orders, test.num_orders, valid.num_orders\n",
    "        features_train, features_test, features_valid = train.drop('num_orders', axis=1), test.drop('num_orders', axis=1), valid.drop('num_orders', axis=1)\n",
    "\n",
    "        model = DecisionTreeRegressor(max_depth=2)\n",
    "        model.fit(features_train, target_train)\n",
    "        valid_pred = model.predict(features_valid)\n",
    "        \n",
    "\n",
    "        if mean_absolute_error(target_valid, valid_pred) <= minim:\n",
    "            minim = mean_absolute_error(target_valid, valid_pred)\n",
    "            best_param = [lag, rollmean]  \n",
    "            \n",
    "print('Наилучшие значения метрики достигаются при значении лага', best_param[0], 'и размере окна', best_param[1])            "
   ]
  },
  {
   "cell_type": "markdown",
   "metadata": {},
   "source": [
    "Теперь можно экспериментировать с моделями."
   ]
  },
  {
   "cell_type": "markdown",
   "metadata": {},
   "source": [
    "<div class=\"alert alert-block alert-success\">\n",
    "<b>Успех:</b> Подбор параметров был сделан корректно.\n",
    "</div>"
   ]
  },
  {
   "cell_type": "markdown",
   "metadata": {},
   "source": [
    "Изучать будем следующие модели: RandomForestRegressor, CatBoostRegressor, LinearRegressor, LGBMRegressor"
   ]
  },
  {
   "cell_type": "code",
   "execution_count": 60,
   "metadata": {},
   "outputs": [],
   "source": [
    "def RMSE(true_val, preds):\n",
    "    return mean_squared_error(true_val, preds)**0.5"
   ]
  },
  {
   "cell_type": "code",
   "execution_count": 61,
   "metadata": {},
   "outputs": [],
   "source": [
    "def create_randomized_search_cv(parameters=None):\n",
    "    pipeline = Pipeline([('regression', RandomForestRegressor())])\n",
    "    if parameters is None:\n",
    "        params = [\n",
    "            {\n",
    "                'regression': [RandomForestRegressor()],\n",
    "                'regression__n_estimators': [100, 200],\n",
    "                'regression__max_depth': [5, 15]\n",
    "            },\n",
    "            {\n",
    "                'regression': [CatBoostRegressor(verbose=1)],\n",
    "                'regression__n_estimators': [100, 200],\n",
    "                'regression__max_depth': [5, 15]\n",
    "            },\n",
    "            {\n",
    "                'regression': [LinearRegression()]\n",
    "            },\n",
    "            {\n",
    "                'regression': [lgb.LGBMRegressor(n_jobs=-1)],\n",
    "                'regression__n_estimators': [100, 200],\n",
    "                'regression__num_leaves': [5, 15]\n",
    "            }\n",
    "        ]\n",
    "    else:\n",
    "        params = parameters\n",
    "        \n",
    "    grid = RandomizedSearchCV(pipeline,\n",
    "                              params,\n",
    "                              cv = TimeSeriesSplit(n_splits=3) ,\n",
    "                              verbose = 1,\n",
    "                              scoring = make_scorer(RMSE, greater_is_better=False),\n",
    "                              n_jobs=-1)\n",
    "\n",
    "    return grid"
   ]
  },
  {
   "cell_type": "markdown",
   "metadata": {},
   "source": [
    "<div class=\"alert alert-block alert-danger\">\n",
    "<b>Ошибка:</b> При работе с временными рядами нельзя использовать стандартную кросс-валидацию, так как в определенный момент тренировочная выборка окажется позже валидационной. Для решения этой проблемы стоит использовать <a href=\"https://scikit-learn.org/stable/modules/generated/sklearn.model_selection.TimeSeriesSplit.html\">TimeSeriesSplit</a>. Объект этого типа можно передать в параметр cv в метод основанный на кросс-валидации.\n",
    "</div>"
   ]
  },
  {
   "cell_type": "markdown",
   "metadata": {},
   "source": [
    "<div class=\"alert alert-block alert-warning\">\n",
    "<b>Комментарий студента:</b> исправлено, теперь в параметр cv класса RandomizedSearchCV передается TimeSeriesSplit\n",
    "</div>"
   ]
  },
  {
   "cell_type": "markdown",
   "metadata": {},
   "source": [
    "<div class=\"alert alert-block alert-success\">\n",
    "<b>Успех (ревью 2):</b> Отлично, молодец!\n",
    "</div>"
   ]
  },
  {
   "cell_type": "code",
   "execution_count": 86,
   "metadata": {
    "scrolled": true
   },
   "outputs": [],
   "source": [
    "grid = create_randomized_search_cv()\n",
    "\n",
    "data = make_features(data, 10, 10)\n",
    "\n",
    "train, test = train_test_split(data, shuffle=False, test_size=0.1)\n",
    "train = train.dropna()\n",
    "\n",
    "target_train, target_test = train.num_orders, test.num_orders\n",
    "features_train, features_test = train.drop('num_orders', axis=1), test.drop('num_orders', axis=1)"
   ]
  },
  {
   "cell_type": "code",
   "execution_count": 64,
   "metadata": {
    "scrolled": true
   },
   "outputs": [
    {
     "name": "stdout",
     "output_type": "stream",
     "text": [
      "Fitting 3 folds for each of 10 candidates, totalling 30 fits\n",
      "Learning rate set to 0.265803\n",
      "0:\tlearn: 26.2534951\ttotal: 1.53ms\tremaining: 152ms\n",
      "1:\tlearn: 24.5487686\ttotal: 3.2ms\tremaining: 157ms\n",
      "2:\tlearn: 23.0159160\ttotal: 4.95ms\tremaining: 160ms\n",
      "3:\tlearn: 21.7234092\ttotal: 6.56ms\tremaining: 157ms\n",
      "4:\tlearn: 20.7414849\ttotal: 8.03ms\tremaining: 152ms\n",
      "5:\tlearn: 20.0215232\ttotal: 9.46ms\tremaining: 148ms\n",
      "6:\tlearn: 19.3604676\ttotal: 11.2ms\tremaining: 149ms\n",
      "7:\tlearn: 19.1276908\ttotal: 12.6ms\tremaining: 145ms\n",
      "8:\tlearn: 18.7758041\ttotal: 14.2ms\tremaining: 143ms\n",
      "9:\tlearn: 18.4773297\ttotal: 15.6ms\tremaining: 140ms\n",
      "10:\tlearn: 18.1696604\ttotal: 17.1ms\tremaining: 138ms\n",
      "11:\tlearn: 17.9195722\ttotal: 18.5ms\tremaining: 136ms\n",
      "12:\tlearn: 17.6510576\ttotal: 19.9ms\tremaining: 133ms\n",
      "13:\tlearn: 17.4796513\ttotal: 21.3ms\tremaining: 131ms\n",
      "14:\tlearn: 17.2688521\ttotal: 22.9ms\tremaining: 130ms\n",
      "15:\tlearn: 16.9373686\ttotal: 24.3ms\tremaining: 127ms\n",
      "16:\tlearn: 16.6853818\ttotal: 25.9ms\tremaining: 126ms\n",
      "17:\tlearn: 16.4137149\ttotal: 27.2ms\tremaining: 124ms\n",
      "18:\tlearn: 16.3576628\ttotal: 31.4ms\tremaining: 134ms\n",
      "19:\tlearn: 16.2310645\ttotal: 34.1ms\tremaining: 136ms\n",
      "20:\tlearn: 16.1239718\ttotal: 38.8ms\tremaining: 146ms\n",
      "21:\tlearn: 16.0004162\ttotal: 41.1ms\tremaining: 146ms\n",
      "22:\tlearn: 15.8974872\ttotal: 43.3ms\tremaining: 145ms\n",
      "23:\tlearn: 15.8179855\ttotal: 45.7ms\tremaining: 145ms\n",
      "24:\tlearn: 15.7239579\ttotal: 48ms\tremaining: 144ms\n",
      "25:\tlearn: 15.6033175\ttotal: 50.1ms\tremaining: 143ms\n",
      "26:\tlearn: 15.4554741\ttotal: 52.7ms\tremaining: 142ms\n",
      "27:\tlearn: 15.3388180\ttotal: 55ms\tremaining: 141ms\n",
      "28:\tlearn: 15.1253856\ttotal: 57.1ms\tremaining: 140ms\n",
      "29:\tlearn: 14.9724946\ttotal: 59.4ms\tremaining: 139ms\n",
      "30:\tlearn: 14.8448830\ttotal: 61.6ms\tremaining: 137ms\n",
      "31:\tlearn: 14.7702430\ttotal: 63.8ms\tremaining: 136ms\n",
      "32:\tlearn: 14.7239982\ttotal: 66ms\tremaining: 134ms\n",
      "33:\tlearn: 14.5007806\ttotal: 68.3ms\tremaining: 133ms\n",
      "34:\tlearn: 14.4489128\ttotal: 70.5ms\tremaining: 131ms\n",
      "35:\tlearn: 14.2830333\ttotal: 72.8ms\tremaining: 129ms\n",
      "36:\tlearn: 14.1192689\ttotal: 74.8ms\tremaining: 127ms\n",
      "37:\tlearn: 14.0337606\ttotal: 77.1ms\tremaining: 126ms\n",
      "38:\tlearn: 13.8657971\ttotal: 79.5ms\tremaining: 124ms\n",
      "39:\tlearn: 13.7740148\ttotal: 81.9ms\tremaining: 123ms\n",
      "40:\tlearn: 13.7431622\ttotal: 83.4ms\tremaining: 120ms\n",
      "41:\tlearn: 13.6506252\ttotal: 85.7ms\tremaining: 118ms\n",
      "42:\tlearn: 13.5349253\ttotal: 88ms\tremaining: 117ms\n",
      "43:\tlearn: 13.4026738\ttotal: 92.4ms\tremaining: 118ms\n",
      "44:\tlearn: 13.2928599\ttotal: 98.6ms\tremaining: 121ms\n",
      "45:\tlearn: 13.2705298\ttotal: 101ms\tremaining: 119ms\n",
      "46:\tlearn: 13.2029331\ttotal: 104ms\tremaining: 117ms\n",
      "47:\tlearn: 13.1464007\ttotal: 106ms\tremaining: 115ms\n",
      "48:\tlearn: 12.9859495\ttotal: 108ms\tremaining: 113ms\n",
      "49:\tlearn: 12.8550019\ttotal: 111ms\tremaining: 111ms\n",
      "50:\tlearn: 12.7202274\ttotal: 113ms\tremaining: 108ms\n",
      "51:\tlearn: 12.5765459\ttotal: 115ms\tremaining: 106ms\n",
      "52:\tlearn: 12.5611467\ttotal: 117ms\tremaining: 104ms\n",
      "53:\tlearn: 12.4548350\ttotal: 120ms\tremaining: 102ms\n",
      "54:\tlearn: 12.4064861\ttotal: 122ms\tremaining: 100ms\n",
      "55:\tlearn: 12.2824961\ttotal: 125ms\tremaining: 97.9ms\n",
      "56:\tlearn: 12.2516825\ttotal: 127ms\tremaining: 95.6ms\n",
      "57:\tlearn: 12.1479410\ttotal: 129ms\tremaining: 93.4ms\n",
      "58:\tlearn: 11.9833637\ttotal: 132ms\tremaining: 91.4ms\n",
      "59:\tlearn: 11.8636691\ttotal: 134ms\tremaining: 89.2ms\n",
      "60:\tlearn: 11.8018151\ttotal: 136ms\tremaining: 87ms\n",
      "61:\tlearn: 11.7594187\ttotal: 138ms\tremaining: 84.7ms\n",
      "62:\tlearn: 11.6301148\ttotal: 140ms\tremaining: 82.4ms\n",
      "63:\tlearn: 11.5736220\ttotal: 143ms\tremaining: 80.2ms\n",
      "64:\tlearn: 11.4523340\ttotal: 145ms\tremaining: 77.9ms\n",
      "65:\tlearn: 11.4375615\ttotal: 147ms\tremaining: 75.5ms\n",
      "66:\tlearn: 11.3214751\ttotal: 149ms\tremaining: 73.3ms\n",
      "67:\tlearn: 11.2554377\ttotal: 151ms\tremaining: 71ms\n",
      "68:\tlearn: 11.2266880\ttotal: 153ms\tremaining: 68.9ms\n",
      "69:\tlearn: 11.1145079\ttotal: 156ms\tremaining: 66.7ms\n",
      "70:\tlearn: 11.0397508\ttotal: 160ms\tremaining: 65.4ms\n",
      "71:\tlearn: 10.9804730\ttotal: 162ms\tremaining: 63.1ms\n",
      "72:\tlearn: 10.8989252\ttotal: 165ms\tremaining: 60.9ms\n",
      "73:\tlearn: 10.8385569\ttotal: 167ms\tremaining: 58.6ms\n",
      "74:\tlearn: 10.7844198\ttotal: 169ms\tremaining: 56.3ms\n",
      "75:\tlearn: 10.7056040\ttotal: 171ms\tremaining: 54.1ms\n",
      "76:\tlearn: 10.6485438\ttotal: 174ms\tremaining: 51.9ms\n",
      "77:\tlearn: 10.5482560\ttotal: 176ms\tremaining: 49.6ms\n",
      "78:\tlearn: 10.4764798\ttotal: 178ms\tremaining: 47.4ms\n",
      "79:\tlearn: 10.4033849\ttotal: 181ms\tremaining: 45.1ms\n",
      "80:\tlearn: 10.3620355\ttotal: 183ms\tremaining: 42.9ms\n",
      "81:\tlearn: 10.2513025\ttotal: 185ms\tremaining: 40.7ms\n",
      "82:\tlearn: 10.2146773\ttotal: 187ms\tremaining: 38.4ms\n",
      "83:\tlearn: 10.2016864\ttotal: 189ms\tremaining: 36ms\n",
      "84:\tlearn: 10.1117170\ttotal: 191ms\tremaining: 33.7ms\n",
      "85:\tlearn: 10.0154205\ttotal: 192ms\tremaining: 31.3ms\n",
      "86:\tlearn: 9.9873220\ttotal: 194ms\tremaining: 28.9ms\n",
      "87:\tlearn: 9.8985294\ttotal: 195ms\tremaining: 26.6ms\n",
      "88:\tlearn: 9.8936864\ttotal: 197ms\tremaining: 24.3ms\n",
      "89:\tlearn: 9.8343443\ttotal: 198ms\tremaining: 22ms\n",
      "90:\tlearn: 9.8188169\ttotal: 201ms\tremaining: 19.8ms\n",
      "91:\tlearn: 9.7237215\ttotal: 202ms\tremaining: 17.6ms\n",
      "92:\tlearn: 9.6797499\ttotal: 204ms\tremaining: 15.4ms\n",
      "93:\tlearn: 9.6133495\ttotal: 206ms\tremaining: 13.1ms\n",
      "94:\tlearn: 9.5410625\ttotal: 208ms\tremaining: 10.9ms\n",
      "95:\tlearn: 9.4913996\ttotal: 209ms\tremaining: 8.71ms\n",
      "96:\tlearn: 9.4347927\ttotal: 211ms\tremaining: 6.53ms\n",
      "97:\tlearn: 9.3920606\ttotal: 213ms\tremaining: 4.35ms\n",
      "98:\tlearn: 9.3241058\ttotal: 215ms\tremaining: 2.17ms\n",
      "99:\tlearn: 9.2844882\ttotal: 217ms\tremaining: 0us\n",
      "Learning rate set to 0.296566\n",
      "0:\tlearn: 28.1771745\ttotal: 2.97ms\tremaining: 294ms\n",
      "1:\tlearn: 26.5286890\ttotal: 6.8ms\tremaining: 333ms\n",
      "2:\tlearn: 24.6567321\ttotal: 9.51ms\tremaining: 307ms\n",
      "3:\tlearn: 23.5910904\ttotal: 12.2ms\tremaining: 292ms\n",
      "4:\tlearn: 22.6904303\ttotal: 14.8ms\tremaining: 282ms\n",
      "5:\tlearn: 21.9919876\ttotal: 17.6ms\tremaining: 276ms\n",
      "6:\tlearn: 21.4592311\ttotal: 20.5ms\tremaining: 272ms\n",
      "7:\tlearn: 21.1405717\ttotal: 23.2ms\tremaining: 267ms\n",
      "8:\tlearn: 20.7978688\ttotal: 26ms\tremaining: 263ms\n",
      "9:\tlearn: 20.3687090\ttotal: 28.8ms\tremaining: 260ms\n",
      "10:\tlearn: 20.2332650\ttotal: 31.6ms\tremaining: 255ms\n",
      "11:\tlearn: 20.0364553\ttotal: 34.5ms\tremaining: 253ms\n",
      "12:\tlearn: 19.7926565\ttotal: 37.4ms\tremaining: 250ms\n",
      "13:\tlearn: 19.5191726\ttotal: 40.3ms\tremaining: 248ms\n",
      "14:\tlearn: 19.3712836\ttotal: 43.3ms\tremaining: 245ms\n",
      "15:\tlearn: 19.2240333\ttotal: 46.1ms\tremaining: 242ms\n",
      "16:\tlearn: 19.1003616\ttotal: 49ms\tremaining: 239ms\n",
      "17:\tlearn: 18.9752721\ttotal: 51.7ms\tremaining: 236ms\n",
      "18:\tlearn: 18.8407841\ttotal: 54.6ms\tremaining: 233ms\n",
      "19:\tlearn: 18.7232685\ttotal: 57.2ms\tremaining: 229ms\n",
      "20:\tlearn: 18.5552462\ttotal: 59.8ms\tremaining: 225ms\n",
      "21:\tlearn: 18.4460639\ttotal: 62.5ms\tremaining: 222ms\n",
      "22:\tlearn: 18.2102879\ttotal: 64.9ms\tremaining: 217ms\n",
      "23:\tlearn: 18.0667246\ttotal: 67.3ms\tremaining: 213ms\n",
      "24:\tlearn: 17.9483858\ttotal: 72ms\tremaining: 216ms\n",
      "25:\tlearn: 17.8250785\ttotal: 74.7ms\tremaining: 213ms\n",
      "26:\tlearn: 17.6736367\ttotal: 78.3ms\tremaining: 212ms\n",
      "27:\tlearn: 17.5068476\ttotal: 80ms\tremaining: 206ms\n",
      "28:\tlearn: 17.3401615\ttotal: 81.9ms\tremaining: 201ms\n",
      "29:\tlearn: 17.2854112\ttotal: 83.8ms\tremaining: 196ms\n",
      "30:\tlearn: 17.2017040\ttotal: 87ms\tremaining: 194ms\n",
      "31:\tlearn: 17.1342532\ttotal: 89.9ms\tremaining: 191ms\n",
      "32:\tlearn: 17.0997630\ttotal: 92.7ms\tremaining: 188ms\n",
      "33:\tlearn: 16.9812163\ttotal: 95.5ms\tremaining: 185ms\n",
      "34:\tlearn: 16.9115061\ttotal: 98.2ms\tremaining: 182ms\n",
      "35:\tlearn: 16.8070613\ttotal: 101ms\tremaining: 180ms\n",
      "36:\tlearn: 16.6927764\ttotal: 104ms\tremaining: 177ms\n",
      "37:\tlearn: 16.5499238\ttotal: 108ms\tremaining: 177ms\n",
      "38:\tlearn: 16.4152925\ttotal: 111ms\tremaining: 174ms\n",
      "39:\tlearn: 16.3083187\ttotal: 113ms\tremaining: 170ms\n",
      "40:\tlearn: 16.2104009\ttotal: 117ms\tremaining: 169ms\n",
      "41:\tlearn: 16.0366554\ttotal: 126ms\tremaining: 174ms\n",
      "42:\tlearn: 15.9609235\ttotal: 132ms\tremaining: 175ms\n",
      "43:\tlearn: 15.9435208\ttotal: 135ms\tremaining: 171ms\n",
      "44:\tlearn: 15.8327121\ttotal: 138ms\tremaining: 169ms\n",
      "45:\tlearn: 15.6780359\ttotal: 141ms\tremaining: 165ms\n",
      "46:\tlearn: 15.5702730\ttotal: 142ms\tremaining: 161ms\n",
      "47:\tlearn: 15.5112688\ttotal: 144ms\tremaining: 156ms\n",
      "48:\tlearn: 15.4694103\ttotal: 146ms\tremaining: 152ms\n",
      "49:\tlearn: 15.4269638\ttotal: 148ms\tremaining: 148ms\n",
      "50:\tlearn: 15.3453592\ttotal: 151ms\tremaining: 145ms\n",
      "51:\tlearn: 15.3024727\ttotal: 153ms\tremaining: 141ms\n",
      "52:\tlearn: 15.2511855\ttotal: 156ms\tremaining: 138ms\n",
      "53:\tlearn: 15.2108446\ttotal: 158ms\tremaining: 134ms\n",
      "54:\tlearn: 15.1315437\ttotal: 160ms\tremaining: 131ms\n",
      "55:\tlearn: 15.0411699\ttotal: 162ms\tremaining: 127ms\n",
      "56:\tlearn: 15.0285288\ttotal: 164ms\tremaining: 124ms\n",
      "57:\tlearn: 14.9600994\ttotal: 167ms\tremaining: 121ms\n",
      "58:\tlearn: 14.9289433\ttotal: 170ms\tremaining: 118ms\n",
      "59:\tlearn: 14.8112342\ttotal: 172ms\tremaining: 115ms\n",
      "60:\tlearn: 14.7844525\ttotal: 175ms\tremaining: 112ms\n",
      "61:\tlearn: 14.7697496\ttotal: 177ms\tremaining: 109ms\n",
      "62:\tlearn: 14.6771942\ttotal: 180ms\tremaining: 106ms\n",
      "63:\tlearn: 14.5553489\ttotal: 184ms\tremaining: 103ms\n",
      "64:\tlearn: 14.4727955\ttotal: 186ms\tremaining: 100ms\n",
      "65:\tlearn: 14.3964419\ttotal: 189ms\tremaining: 97.4ms\n",
      "66:\tlearn: 14.3200184\ttotal: 192ms\tremaining: 94.4ms\n",
      "67:\tlearn: 14.1855192\ttotal: 194ms\tremaining: 91.5ms\n",
      "68:\tlearn: 14.1063625\ttotal: 197ms\tremaining: 88.6ms\n",
      "69:\tlearn: 14.0010271\ttotal: 200ms\tremaining: 85.8ms\n",
      "70:\tlearn: 13.9978504\ttotal: 203ms\tremaining: 82.8ms\n",
      "71:\tlearn: 13.9186781\ttotal: 206ms\tremaining: 80.3ms\n",
      "72:\tlearn: 13.8189339\ttotal: 209ms\tremaining: 77.4ms\n",
      "73:\tlearn: 13.8141427\ttotal: 212ms\tremaining: 74.6ms\n",
      "74:\tlearn: 13.7256864\ttotal: 215ms\tremaining: 71.7ms\n",
      "75:\tlearn: 13.6575870\ttotal: 218ms\tremaining: 68.8ms\n",
      "76:\tlearn: 13.5803013\ttotal: 221ms\tremaining: 65.9ms\n",
      "77:\tlearn: 13.4992798\ttotal: 223ms\tremaining: 63ms\n",
      "78:\tlearn: 13.4419317\ttotal: 226ms\tremaining: 60.2ms\n",
      "79:\tlearn: 13.3501349\ttotal: 228ms\tremaining: 57.1ms\n",
      "80:\tlearn: 13.2322723\ttotal: 230ms\tremaining: 54ms\n",
      "81:\tlearn: 13.1868251\ttotal: 232ms\tremaining: 50.9ms\n",
      "82:\tlearn: 13.1415702\ttotal: 234ms\tremaining: 47.9ms\n",
      "83:\tlearn: 13.1121159\ttotal: 236ms\tremaining: 45ms\n",
      "84:\tlearn: 13.0960914\ttotal: 239ms\tremaining: 42.2ms\n",
      "85:\tlearn: 12.9900218\ttotal: 242ms\tremaining: 39.4ms\n",
      "86:\tlearn: 12.9853895\ttotal: 244ms\tremaining: 36.5ms\n",
      "87:\tlearn: 12.9810079\ttotal: 249ms\tremaining: 33.9ms\n",
      "88:\tlearn: 12.9543961\ttotal: 251ms\tremaining: 31ms\n",
      "89:\tlearn: 12.8824313\ttotal: 257ms\tremaining: 28.5ms\n",
      "90:\tlearn: 12.8709245\ttotal: 259ms\tremaining: 25.6ms\n",
      "91:\tlearn: 12.8368724\ttotal: 261ms\tremaining: 22.7ms\n",
      "92:\tlearn: 12.7642284\ttotal: 264ms\tremaining: 19.9ms\n",
      "93:\tlearn: 12.7238401\ttotal: 267ms\tremaining: 17ms\n",
      "94:\tlearn: 12.6843050\ttotal: 269ms\tremaining: 14.2ms\n",
      "95:\tlearn: 12.6810663\ttotal: 274ms\tremaining: 11.4ms\n",
      "96:\tlearn: 12.6103537\ttotal: 276ms\tremaining: 8.54ms\n",
      "97:\tlearn: 12.5465936\ttotal: 279ms\tremaining: 5.69ms\n",
      "98:\tlearn: 12.4803250\ttotal: 282ms\tremaining: 2.85ms\n",
      "99:\tlearn: 12.3851334\ttotal: 285ms\tremaining: 0us\n",
      "Learning rate set to 0.316187\n",
      "0:\tlearn: 29.7098628\ttotal: 3.34ms\tremaining: 330ms\n",
      "1:\tlearn: 27.0123246\ttotal: 6.62ms\tremaining: 325ms\n",
      "2:\tlearn: 25.5562590\ttotal: 9.92ms\tremaining: 321ms\n",
      "3:\tlearn: 24.6079026\ttotal: 13ms\tremaining: 313ms\n",
      "4:\tlearn: 23.4940187\ttotal: 16.3ms\tremaining: 309ms\n",
      "5:\tlearn: 23.0965676\ttotal: 19.5ms\tremaining: 305ms\n",
      "6:\tlearn: 22.6783956\ttotal: 22.6ms\tremaining: 300ms\n",
      "7:\tlearn: 22.1642732\ttotal: 25.7ms\tremaining: 295ms\n",
      "8:\tlearn: 21.9169843\ttotal: 28.7ms\tremaining: 290ms\n",
      "9:\tlearn: 21.6677668\ttotal: 32.8ms\tremaining: 295ms\n",
      "10:\tlearn: 21.4226551\ttotal: 36ms\tremaining: 291ms\n",
      "11:\tlearn: 21.0548744\ttotal: 39.2ms\tremaining: 287ms\n",
      "12:\tlearn: 20.8314493\ttotal: 42.2ms\tremaining: 283ms\n",
      "13:\tlearn: 20.6273163\ttotal: 45.1ms\tremaining: 277ms\n",
      "14:\tlearn: 20.4934565\ttotal: 48ms\tremaining: 272ms\n",
      "15:\tlearn: 20.3807971\ttotal: 51.1ms\tremaining: 268ms\n",
      "16:\tlearn: 20.3023491\ttotal: 54.2ms\tremaining: 265ms\n",
      "17:\tlearn: 20.2436817\ttotal: 58.2ms\tremaining: 265ms\n",
      "18:\tlearn: 19.9740578\ttotal: 61.5ms\tremaining: 262ms\n",
      "19:\tlearn: 19.8872280\ttotal: 64.8ms\tremaining: 259ms\n",
      "20:\tlearn: 19.8427565\ttotal: 68ms\tremaining: 256ms\n",
      "21:\tlearn: 19.6372646\ttotal: 70.2ms\tremaining: 249ms\n",
      "22:\tlearn: 19.6009108\ttotal: 73.4ms\tremaining: 246ms\n",
      "23:\tlearn: 19.4429407\ttotal: 76.7ms\tremaining: 243ms\n",
      "24:\tlearn: 19.3308958\ttotal: 80ms\tremaining: 240ms\n",
      "25:\tlearn: 19.2387163\ttotal: 83.2ms\tremaining: 237ms\n",
      "26:\tlearn: 19.1432390\ttotal: 86.4ms\tremaining: 234ms\n",
      "27:\tlearn: 19.0458179\ttotal: 89.7ms\tremaining: 231ms\n",
      "28:\tlearn: 18.9694909\ttotal: 92.9ms\tremaining: 227ms\n",
      "29:\tlearn: 18.8118669\ttotal: 97.6ms\tremaining: 228ms\n",
      "30:\tlearn: 18.6837877\ttotal: 101ms\tremaining: 224ms\n",
      "31:\tlearn: 18.5618323\ttotal: 106ms\tremaining: 224ms\n",
      "32:\tlearn: 18.4269071\ttotal: 109ms\tremaining: 222ms\n",
      "33:\tlearn: 18.3346709\ttotal: 112ms\tremaining: 218ms\n",
      "34:\tlearn: 18.2508820\ttotal: 116ms\tremaining: 216ms\n",
      "35:\tlearn: 18.0761501\ttotal: 120ms\tremaining: 213ms\n",
      "36:\tlearn: 18.0402102\ttotal: 123ms\tremaining: 209ms\n",
      "37:\tlearn: 17.9577723\ttotal: 126ms\tremaining: 205ms\n",
      "38:\tlearn: 17.8190201\ttotal: 129ms\tremaining: 202ms\n",
      "39:\tlearn: 17.6908574\ttotal: 132ms\tremaining: 198ms\n",
      "40:\tlearn: 17.5431107\ttotal: 134ms\tremaining: 193ms\n",
      "41:\tlearn: 17.4500789\ttotal: 136ms\tremaining: 188ms\n",
      "42:\tlearn: 17.3668932\ttotal: 139ms\tremaining: 184ms\n",
      "43:\tlearn: 17.2276122\ttotal: 140ms\tremaining: 179ms\n",
      "44:\tlearn: 17.1233992\ttotal: 142ms\tremaining: 174ms\n",
      "45:\tlearn: 17.0973817\ttotal: 144ms\tremaining: 170ms\n",
      "46:\tlearn: 17.0122490\ttotal: 147ms\tremaining: 165ms\n",
      "47:\tlearn: 16.9349408\ttotal: 149ms\tremaining: 161ms\n",
      "48:\tlearn: 16.8591915\ttotal: 151ms\tremaining: 157ms\n",
      "49:\tlearn: 16.7708083\ttotal: 153ms\tremaining: 153ms\n",
      "50:\tlearn: 16.6991404\ttotal: 155ms\tremaining: 149ms\n",
      "51:\tlearn: 16.6488250\ttotal: 157ms\tremaining: 145ms\n",
      "52:\tlearn: 16.5786211\ttotal: 159ms\tremaining: 141ms\n",
      "53:\tlearn: 16.5265602\ttotal: 161ms\tremaining: 137ms\n",
      "54:\tlearn: 16.4728165\ttotal: 163ms\tremaining: 133ms\n",
      "55:\tlearn: 16.4050551\ttotal: 165ms\tremaining: 129ms\n",
      "56:\tlearn: 16.3634237\ttotal: 167ms\tremaining: 126ms\n",
      "57:\tlearn: 16.2867690\ttotal: 170ms\tremaining: 123ms\n",
      "58:\tlearn: 16.2424413\ttotal: 173ms\tremaining: 120ms\n",
      "59:\tlearn: 16.1903601\ttotal: 177ms\tremaining: 118ms\n",
      "60:\tlearn: 16.1869748\ttotal: 180ms\tremaining: 115ms\n",
      "61:\tlearn: 16.1454525\ttotal: 182ms\tremaining: 112ms\n",
      "62:\tlearn: 16.1133398\ttotal: 185ms\tremaining: 109ms\n",
      "63:\tlearn: 16.0603018\ttotal: 188ms\tremaining: 106ms\n",
      "64:\tlearn: 15.9892839\ttotal: 191ms\tremaining: 103ms\n",
      "65:\tlearn: 15.9585052\ttotal: 194ms\tremaining: 100ms\n",
      "66:\tlearn: 15.9557671\ttotal: 197ms\tremaining: 97.3ms\n",
      "67:\tlearn: 15.9152950\ttotal: 201ms\tremaining: 94.4ms\n",
      "68:\tlearn: 15.8547937\ttotal: 204ms\tremaining: 91.6ms\n",
      "69:\tlearn: 15.8236540\ttotal: 207ms\tremaining: 88.7ms\n",
      "70:\tlearn: 15.7807341\ttotal: 210ms\tremaining: 85.9ms\n",
      "71:\tlearn: 15.7214268\ttotal: 213ms\tremaining: 83ms\n",
      "72:\tlearn: 15.6915505\ttotal: 217ms\tremaining: 80.1ms\n",
      "73:\tlearn: 15.6585643\ttotal: 220ms\tremaining: 77.2ms\n",
      "74:\tlearn: 15.6204049\ttotal: 223ms\tremaining: 74.3ms\n",
      "75:\tlearn: 15.4762456\ttotal: 226ms\tremaining: 71.5ms\n",
      "76:\tlearn: 15.4552329\ttotal: 229ms\tremaining: 68.5ms\n",
      "77:\tlearn: 15.4438166\ttotal: 232ms\tremaining: 65.5ms\n",
      "78:\tlearn: 15.3581442\ttotal: 235ms\tremaining: 62.5ms\n",
      "79:\tlearn: 15.3210412\ttotal: 238ms\tremaining: 59.4ms\n",
      "80:\tlearn: 15.3144563\ttotal: 240ms\tremaining: 56.4ms\n",
      "81:\tlearn: 15.2837746\ttotal: 243ms\tremaining: 53.4ms\n",
      "82:\tlearn: 15.2252127\ttotal: 246ms\tremaining: 50.4ms\n",
      "83:\tlearn: 15.1750869\ttotal: 249ms\tremaining: 47.4ms\n",
      "84:\tlearn: 15.1017869\ttotal: 252ms\tremaining: 44.5ms\n",
      "85:\tlearn: 15.0412308\ttotal: 255ms\tremaining: 41.6ms\n",
      "86:\tlearn: 14.9965514\ttotal: 258ms\tremaining: 38.6ms\n",
      "87:\tlearn: 14.9189806\ttotal: 262ms\tremaining: 35.7ms\n",
      "88:\tlearn: 14.8377138\ttotal: 265ms\tremaining: 32.7ms\n",
      "89:\tlearn: 14.8013622\ttotal: 269ms\tremaining: 29.8ms\n",
      "90:\tlearn: 14.7647964\ttotal: 271ms\tremaining: 26.8ms\n",
      "91:\tlearn: 14.7069711\ttotal: 273ms\tremaining: 23.7ms\n",
      "92:\tlearn: 14.6382508\ttotal: 275ms\tremaining: 20.7ms\n",
      "93:\tlearn: 14.6295217\ttotal: 277ms\tremaining: 17.7ms\n",
      "94:\tlearn: 14.6219909\ttotal: 279ms\tremaining: 14.7ms\n",
      "95:\tlearn: 14.5865917\ttotal: 281ms\tremaining: 11.7ms\n",
      "96:\tlearn: 14.5310877\ttotal: 283ms\tremaining: 8.75ms\n",
      "97:\tlearn: 14.4580763\ttotal: 286ms\tremaining: 5.84ms\n",
      "98:\tlearn: 14.4233867\ttotal: 290ms\tremaining: 2.92ms\n",
      "99:\tlearn: 14.3721607\ttotal: 293ms\tremaining: 0us\n",
      "Learning rate set to 0.151294\n",
      "0:\tlearn: 27.4720885\ttotal: 3.4ms\tremaining: 678ms\n",
      "1:\tlearn: 26.3210414\ttotal: 5.66ms\tremaining: 560ms\n",
      "2:\tlearn: 25.1949341\ttotal: 8.28ms\tremaining: 544ms\n",
      "3:\tlearn: 23.8276852\ttotal: 10.3ms\tremaining: 504ms\n",
      "4:\tlearn: 22.8247078\ttotal: 12.5ms\tremaining: 486ms\n",
      "5:\tlearn: 22.3276415\ttotal: 21ms\tremaining: 680ms\n",
      "6:\tlearn: 21.4913422\ttotal: 23.2ms\tremaining: 639ms\n",
      "7:\tlearn: 20.8911087\ttotal: 25.3ms\tremaining: 608ms\n",
      "8:\tlearn: 20.4647815\ttotal: 26.7ms\tremaining: 567ms\n",
      "9:\tlearn: 20.1660227\ttotal: 28.1ms\tremaining: 534ms\n",
      "10:\tlearn: 19.9074557\ttotal: 29.5ms\tremaining: 507ms\n",
      "11:\tlearn: 19.6109574\ttotal: 30.7ms\tremaining: 481ms\n",
      "12:\tlearn: 19.2309917\ttotal: 32ms\tremaining: 461ms\n",
      "13:\tlearn: 19.0399604\ttotal: 33.3ms\tremaining: 442ms\n",
      "14:\tlearn: 18.7587956\ttotal: 34.8ms\tremaining: 430ms\n",
      "15:\tlearn: 18.6028454\ttotal: 36.1ms\tremaining: 415ms\n",
      "16:\tlearn: 18.3764162\ttotal: 37.5ms\tremaining: 403ms\n",
      "17:\tlearn: 18.1658246\ttotal: 38.7ms\tremaining: 391ms\n",
      "18:\tlearn: 17.9936964\ttotal: 39.9ms\tremaining: 381ms\n",
      "19:\tlearn: 17.8495905\ttotal: 41.3ms\tremaining: 371ms\n",
      "20:\tlearn: 17.7571956\ttotal: 42.4ms\tremaining: 362ms\n",
      "21:\tlearn: 17.6353786\ttotal: 43.9ms\tremaining: 355ms\n",
      "22:\tlearn: 17.5635541\ttotal: 45.2ms\tremaining: 348ms\n",
      "23:\tlearn: 17.4730420\ttotal: 46.5ms\tremaining: 341ms\n",
      "24:\tlearn: 17.2997984\ttotal: 47.9ms\tremaining: 335ms\n",
      "25:\tlearn: 17.2289591\ttotal: 49.2ms\tremaining: 329ms\n",
      "26:\tlearn: 17.1178888\ttotal: 50.7ms\tremaining: 325ms\n",
      "27:\tlearn: 17.0498289\ttotal: 52.1ms\tremaining: 320ms\n",
      "28:\tlearn: 16.9217920\ttotal: 53.5ms\tremaining: 315ms\n",
      "29:\tlearn: 16.8219798\ttotal: 54.8ms\tremaining: 310ms\n",
      "30:\tlearn: 16.6929079\ttotal: 56.1ms\tremaining: 306ms\n",
      "31:\tlearn: 16.5834271\ttotal: 57.5ms\tremaining: 302ms\n",
      "32:\tlearn: 16.5060168\ttotal: 58.8ms\tremaining: 297ms\n",
      "33:\tlearn: 16.4470422\ttotal: 61.4ms\tremaining: 300ms\n",
      "34:\tlearn: 16.4013268\ttotal: 63.1ms\tremaining: 297ms\n",
      "35:\tlearn: 16.3351419\ttotal: 64.8ms\tremaining: 295ms\n",
      "36:\tlearn: 16.2672928\ttotal: 66.8ms\tremaining: 294ms\n",
      "37:\tlearn: 16.2207849\ttotal: 68.5ms\tremaining: 292ms\n",
      "38:\tlearn: 16.1377635\ttotal: 70.8ms\tremaining: 292ms\n",
      "39:\tlearn: 16.0262165\ttotal: 72.9ms\tremaining: 292ms\n",
      "40:\tlearn: 15.9564619\ttotal: 74.7ms\tremaining: 290ms\n",
      "41:\tlearn: 15.8732058\ttotal: 76ms\tremaining: 286ms\n",
      "42:\tlearn: 15.7823570\ttotal: 77.5ms\tremaining: 283ms\n",
      "43:\tlearn: 15.6727713\ttotal: 78.8ms\tremaining: 279ms\n",
      "44:\tlearn: 15.6127262\ttotal: 80.2ms\tremaining: 276ms\n",
      "45:\tlearn: 15.5326805\ttotal: 81.7ms\tremaining: 273ms\n",
      "46:\tlearn: 15.4711657\ttotal: 83ms\tremaining: 270ms\n",
      "47:\tlearn: 15.4313844\ttotal: 84.2ms\tremaining: 267ms\n",
      "48:\tlearn: 15.3711841\ttotal: 85.5ms\tremaining: 263ms\n",
      "49:\tlearn: 15.3016929\ttotal: 86.8ms\tremaining: 260ms\n",
      "50:\tlearn: 15.2565348\ttotal: 88.1ms\tremaining: 257ms\n",
      "51:\tlearn: 15.2065506\ttotal: 89.4ms\tremaining: 254ms\n",
      "52:\tlearn: 15.1337687\ttotal: 90.7ms\tremaining: 252ms\n",
      "53:\tlearn: 15.0255777\ttotal: 92ms\tremaining: 249ms\n",
      "54:\tlearn: 14.9274989\ttotal: 93.3ms\tremaining: 246ms\n",
      "55:\tlearn: 14.7906611\ttotal: 94.5ms\tremaining: 243ms\n",
      "56:\tlearn: 14.7451019\ttotal: 95.8ms\tremaining: 240ms\n",
      "57:\tlearn: 14.6890429\ttotal: 97ms\tremaining: 238ms\n",
      "58:\tlearn: 14.6381460\ttotal: 98.3ms\tremaining: 235ms\n",
      "59:\tlearn: 14.5807849\ttotal: 99.6ms\tremaining: 232ms\n",
      "60:\tlearn: 14.5020192\ttotal: 101ms\tremaining: 230ms\n",
      "61:\tlearn: 14.4250452\ttotal: 102ms\tremaining: 227ms\n",
      "62:\tlearn: 14.3152960\ttotal: 104ms\tremaining: 225ms\n",
      "63:\tlearn: 14.2330449\ttotal: 105ms\tremaining: 224ms\n",
      "64:\tlearn: 14.0929194\ttotal: 107ms\tremaining: 223ms\n",
      "65:\tlearn: 14.0478190\ttotal: 109ms\tremaining: 222ms\n",
      "66:\tlearn: 13.9841127\ttotal: 111ms\tremaining: 220ms\n",
      "67:\tlearn: 13.9774496\ttotal: 113ms\tremaining: 219ms\n",
      "68:\tlearn: 13.8780699\ttotal: 115ms\tremaining: 218ms\n",
      "69:\tlearn: 13.8150127\ttotal: 117ms\tremaining: 217ms\n",
      "70:\tlearn: 13.7270520\ttotal: 120ms\tremaining: 218ms\n",
      "71:\tlearn: 13.7000132\ttotal: 122ms\tremaining: 217ms\n",
      "72:\tlearn: 13.5921217\ttotal: 125ms\tremaining: 217ms\n",
      "73:\tlearn: 13.5147514\ttotal: 127ms\tremaining: 217ms\n",
      "74:\tlearn: 13.5111380\ttotal: 129ms\tremaining: 216ms\n",
      "75:\tlearn: 13.4367664\ttotal: 133ms\tremaining: 218ms\n",
      "76:\tlearn: 13.3914145\ttotal: 136ms\tremaining: 217ms\n",
      "77:\tlearn: 13.3630851\ttotal: 138ms\tremaining: 216ms\n",
      "78:\tlearn: 13.3111776\ttotal: 141ms\tremaining: 216ms\n",
      "79:\tlearn: 13.2300380\ttotal: 143ms\tremaining: 214ms\n",
      "80:\tlearn: 13.1798730\ttotal: 145ms\tremaining: 213ms\n",
      "81:\tlearn: 13.1349926\ttotal: 148ms\tremaining: 213ms\n",
      "82:\tlearn: 13.1269698\ttotal: 150ms\tremaining: 211ms\n",
      "83:\tlearn: 13.1157436\ttotal: 152ms\tremaining: 210ms\n",
      "84:\tlearn: 12.9992045\ttotal: 154ms\tremaining: 208ms\n",
      "85:\tlearn: 12.9536478\ttotal: 156ms\tremaining: 207ms\n",
      "86:\tlearn: 12.8705578\ttotal: 158ms\tremaining: 205ms\n",
      "87:\tlearn: 12.8062715\ttotal: 160ms\tremaining: 203ms\n",
      "88:\tlearn: 12.7522835\ttotal: 162ms\tremaining: 202ms\n",
      "89:\tlearn: 12.7302537\ttotal: 164ms\tremaining: 200ms\n",
      "90:\tlearn: 12.7265889\ttotal: 166ms\tremaining: 198ms\n",
      "91:\tlearn: 12.6786112\ttotal: 168ms\tremaining: 197ms\n",
      "92:\tlearn: 12.6277226\ttotal: 170ms\tremaining: 196ms\n",
      "93:\tlearn: 12.5758518\ttotal: 172ms\tremaining: 194ms\n",
      "94:\tlearn: 12.5450236\ttotal: 174ms\tremaining: 193ms\n",
      "95:\tlearn: 12.4725554\ttotal: 176ms\tremaining: 191ms\n",
      "96:\tlearn: 12.4653571\ttotal: 178ms\tremaining: 189ms\n",
      "97:\tlearn: 12.4217780\ttotal: 181ms\tremaining: 188ms\n",
      "98:\tlearn: 12.3914964\ttotal: 183ms\tremaining: 186ms\n",
      "99:\tlearn: 12.3575551\ttotal: 185ms\tremaining: 185ms\n",
      "100:\tlearn: 12.3198737\ttotal: 186ms\tremaining: 182ms\n",
      "101:\tlearn: 12.2764062\ttotal: 187ms\tremaining: 180ms\n",
      "102:\tlearn: 12.2201445\ttotal: 189ms\tremaining: 178ms\n",
      "103:\tlearn: 12.1944624\ttotal: 190ms\tremaining: 175ms\n",
      "104:\tlearn: 12.1643065\ttotal: 193ms\tremaining: 174ms\n",
      "105:\tlearn: 12.1545479\ttotal: 195ms\tremaining: 173ms\n",
      "106:\tlearn: 12.1153781\ttotal: 198ms\tremaining: 172ms\n",
      "107:\tlearn: 12.0764871\ttotal: 200ms\tremaining: 171ms\n",
      "108:\tlearn: 12.0314177\ttotal: 202ms\tremaining: 169ms\n",
      "109:\tlearn: 11.9698563\ttotal: 204ms\tremaining: 167ms\n",
      "110:\tlearn: 11.9604178\ttotal: 206ms\tremaining: 165ms\n",
      "111:\tlearn: 11.9339948\ttotal: 208ms\tremaining: 163ms\n",
      "112:\tlearn: 11.8509714\ttotal: 209ms\tremaining: 161ms\n",
      "113:\tlearn: 11.7558576\ttotal: 211ms\tremaining: 159ms\n",
      "114:\tlearn: 11.6986598\ttotal: 213ms\tremaining: 157ms\n",
      "115:\tlearn: 11.6432898\ttotal: 216ms\tremaining: 157ms\n",
      "116:\tlearn: 11.5858806\ttotal: 218ms\tremaining: 155ms\n",
      "117:\tlearn: 11.5455536\ttotal: 220ms\tremaining: 153ms\n",
      "118:\tlearn: 11.5288745\ttotal: 222ms\tremaining: 151ms\n",
      "119:\tlearn: 11.5099335\ttotal: 223ms\tremaining: 149ms\n",
      "120:\tlearn: 11.5065622\ttotal: 225ms\tremaining: 147ms\n",
      "121:\tlearn: 11.4753407\ttotal: 226ms\tremaining: 144ms\n",
      "122:\tlearn: 11.3829635\ttotal: 227ms\tremaining: 142ms\n",
      "123:\tlearn: 11.3685943\ttotal: 228ms\tremaining: 140ms\n",
      "124:\tlearn: 11.2957102\ttotal: 230ms\tremaining: 138ms\n",
      "125:\tlearn: 11.2701196\ttotal: 231ms\tremaining: 136ms\n",
      "126:\tlearn: 11.2423116\ttotal: 233ms\tremaining: 134ms\n",
      "127:\tlearn: 11.2335311\ttotal: 234ms\tremaining: 132ms\n",
      "128:\tlearn: 11.1521927\ttotal: 236ms\tremaining: 130ms\n",
      "129:\tlearn: 11.1127810\ttotal: 237ms\tremaining: 128ms\n",
      "130:\tlearn: 11.1045026\ttotal: 238ms\tremaining: 125ms\n",
      "131:\tlearn: 11.0552221\ttotal: 240ms\tremaining: 123ms\n",
      "132:\tlearn: 11.0506023\ttotal: 241ms\tremaining: 121ms\n",
      "133:\tlearn: 11.0282329\ttotal: 245ms\tremaining: 120ms\n",
      "134:\tlearn: 11.0068943\ttotal: 246ms\tremaining: 119ms\n",
      "135:\tlearn: 10.9555460\ttotal: 249ms\tremaining: 117ms\n",
      "136:\tlearn: 10.9242791\ttotal: 251ms\tremaining: 116ms\n",
      "137:\tlearn: 10.8604292\ttotal: 254ms\tremaining: 114ms\n",
      "138:\tlearn: 10.8076266\ttotal: 256ms\tremaining: 112ms\n",
      "139:\tlearn: 10.7660963\ttotal: 259ms\tremaining: 111ms\n",
      "140:\tlearn: 10.7340838\ttotal: 262ms\tremaining: 109ms\n",
      "141:\tlearn: 10.6818230\ttotal: 264ms\tremaining: 108ms\n",
      "142:\tlearn: 10.6392054\ttotal: 266ms\tremaining: 106ms\n",
      "143:\tlearn: 10.5814488\ttotal: 268ms\tremaining: 104ms\n",
      "144:\tlearn: 10.5321324\ttotal: 270ms\tremaining: 102ms\n",
      "145:\tlearn: 10.5083002\ttotal: 271ms\tremaining: 100ms\n",
      "146:\tlearn: 10.4805416\ttotal: 272ms\tremaining: 98.1ms\n",
      "147:\tlearn: 10.4630220\ttotal: 273ms\tremaining: 96ms\n",
      "148:\tlearn: 10.4171504\ttotal: 275ms\tremaining: 94ms\n",
      "149:\tlearn: 10.3724009\ttotal: 276ms\tremaining: 91.9ms\n",
      "150:\tlearn: 10.3380670\ttotal: 277ms\tremaining: 90ms\n",
      "151:\tlearn: 10.3154579\ttotal: 279ms\tremaining: 87.9ms\n",
      "152:\tlearn: 10.2444365\ttotal: 280ms\tremaining: 85.9ms\n",
      "153:\tlearn: 10.2176620\ttotal: 281ms\tremaining: 83.9ms\n",
      "154:\tlearn: 10.1806441\ttotal: 282ms\tremaining: 82ms\n",
      "155:\tlearn: 10.1780218\ttotal: 284ms\tremaining: 80ms\n",
      "156:\tlearn: 10.1564776\ttotal: 285ms\tremaining: 78.1ms\n",
      "157:\tlearn: 10.1081703\ttotal: 286ms\tremaining: 76.1ms\n",
      "158:\tlearn: 10.0812560\ttotal: 288ms\tremaining: 74.1ms\n",
      "159:\tlearn: 10.0704347\ttotal: 289ms\tremaining: 72.2ms\n",
      "160:\tlearn: 10.0448126\ttotal: 291ms\tremaining: 70.4ms\n",
      "161:\tlearn: 10.0231260\ttotal: 293ms\tremaining: 68.7ms\n",
      "162:\tlearn: 10.0073919\ttotal: 295ms\tremaining: 66.9ms\n",
      "163:\tlearn: 9.9699192\ttotal: 297ms\tremaining: 65.2ms\n",
      "164:\tlearn: 9.9268364\ttotal: 299ms\tremaining: 63.4ms\n",
      "165:\tlearn: 9.9047033\ttotal: 301ms\tremaining: 61.6ms\n",
      "166:\tlearn: 9.8574386\ttotal: 303ms\tremaining: 59.8ms\n",
      "167:\tlearn: 9.8546954\ttotal: 309ms\tremaining: 58.8ms\n",
      "168:\tlearn: 9.8306033\ttotal: 311ms\tremaining: 57ms\n",
      "169:\tlearn: 9.7793357\ttotal: 317ms\tremaining: 55.9ms\n",
      "170:\tlearn: 9.7104050\ttotal: 320ms\tremaining: 54.2ms\n",
      "171:\tlearn: 9.6758205\ttotal: 322ms\tremaining: 52.4ms\n",
      "172:\tlearn: 9.6576305\ttotal: 324ms\tremaining: 50.6ms\n",
      "173:\tlearn: 9.6298723\ttotal: 326ms\tremaining: 48.7ms\n",
      "174:\tlearn: 9.5922458\ttotal: 329ms\tremaining: 46.9ms\n",
      "175:\tlearn: 9.5318964\ttotal: 330ms\tremaining: 45ms\n",
      "176:\tlearn: 9.5293026\ttotal: 332ms\tremaining: 43.1ms\n",
      "177:\tlearn: 9.4833620\ttotal: 334ms\tremaining: 41.2ms\n",
      "178:\tlearn: 9.4522276\ttotal: 335ms\tremaining: 39.3ms\n",
      "179:\tlearn: 9.4444462\ttotal: 337ms\tremaining: 37.5ms\n",
      "180:\tlearn: 9.4148610\ttotal: 340ms\tremaining: 35.6ms\n",
      "181:\tlearn: 9.3682088\ttotal: 341ms\tremaining: 33.8ms\n",
      "182:\tlearn: 9.3253822\ttotal: 344ms\tremaining: 31.9ms\n",
      "183:\tlearn: 9.2874981\ttotal: 346ms\tremaining: 30.1ms\n",
      "184:\tlearn: 9.2434865\ttotal: 348ms\tremaining: 28.2ms\n",
      "185:\tlearn: 9.2110470\ttotal: 350ms\tremaining: 26.3ms\n",
      "186:\tlearn: 9.1823096\ttotal: 352ms\tremaining: 24.5ms\n",
      "187:\tlearn: 9.1286983\ttotal: 354ms\tremaining: 22.6ms\n",
      "188:\tlearn: 9.0994973\ttotal: 356ms\tremaining: 20.7ms\n",
      "189:\tlearn: 9.0817226\ttotal: 358ms\tremaining: 18.8ms\n",
      "190:\tlearn: 9.0741543\ttotal: 359ms\tremaining: 16.9ms\n",
      "191:\tlearn: 9.0321269\ttotal: 360ms\tremaining: 15ms\n",
      "192:\tlearn: 9.0049960\ttotal: 362ms\tremaining: 13.1ms\n",
      "193:\tlearn: 8.9904873\ttotal: 363ms\tremaining: 11.2ms\n",
      "194:\tlearn: 8.9409195\ttotal: 364ms\tremaining: 9.34ms\n",
      "195:\tlearn: 8.9235833\ttotal: 366ms\tremaining: 7.46ms\n",
      "196:\tlearn: 8.8873219\ttotal: 367ms\tremaining: 5.59ms\n",
      "197:\tlearn: 8.8714135\ttotal: 368ms\tremaining: 3.72ms\n",
      "198:\tlearn: 8.8684021\ttotal: 369ms\tremaining: 1.86ms\n",
      "199:\tlearn: 8.8501786\ttotal: 371ms\tremaining: 0us\n",
      "Learning rate set to 0.168805\n",
      "0:\tlearn: 29.6732292\ttotal: 2.08ms\tremaining: 415ms\n",
      "1:\tlearn: 28.1780704\ttotal: 3.75ms\tremaining: 371ms\n",
      "2:\tlearn: 26.9879238\ttotal: 5.53ms\tremaining: 363ms\n",
      "3:\tlearn: 25.7195589\ttotal: 8.23ms\tremaining: 403ms\n",
      "4:\tlearn: 24.8072594\ttotal: 10.1ms\tremaining: 393ms\n",
      "5:\tlearn: 24.0382993\ttotal: 11.7ms\tremaining: 378ms\n",
      "6:\tlearn: 23.4875407\ttotal: 13.3ms\tremaining: 366ms\n",
      "7:\tlearn: 22.8316053\ttotal: 16.3ms\tremaining: 390ms\n",
      "8:\tlearn: 22.4001921\ttotal: 19.2ms\tremaining: 407ms\n",
      "9:\tlearn: 22.1895151\ttotal: 21.8ms\tremaining: 414ms\n",
      "10:\tlearn: 21.8229714\ttotal: 24.5ms\tremaining: 420ms\n",
      "11:\tlearn: 21.6307192\ttotal: 26.9ms\tremaining: 422ms\n",
      "12:\tlearn: 21.3281465\ttotal: 29.3ms\tremaining: 422ms\n",
      "13:\tlearn: 21.0466167\ttotal: 31.8ms\tremaining: 422ms\n",
      "14:\tlearn: 20.9765905\ttotal: 34.7ms\tremaining: 428ms\n",
      "15:\tlearn: 20.8124697\ttotal: 37.5ms\tremaining: 432ms\n",
      "16:\tlearn: 20.6240808\ttotal: 40.3ms\tremaining: 434ms\n",
      "17:\tlearn: 20.4168939\ttotal: 44.8ms\tremaining: 453ms\n",
      "18:\tlearn: 20.1698170\ttotal: 49.5ms\tremaining: 472ms\n",
      "19:\tlearn: 20.0925063\ttotal: 51.8ms\tremaining: 466ms\n",
      "20:\tlearn: 19.9768965\ttotal: 55.9ms\tremaining: 476ms\n",
      "21:\tlearn: 19.8740155\ttotal: 58.8ms\tremaining: 476ms\n",
      "22:\tlearn: 19.7606521\ttotal: 61.5ms\tremaining: 474ms\n",
      "23:\tlearn: 19.6904666\ttotal: 64.2ms\tremaining: 471ms\n",
      "24:\tlearn: 19.5502154\ttotal: 66.8ms\tremaining: 467ms\n",
      "25:\tlearn: 19.4656323\ttotal: 69.1ms\tremaining: 462ms\n",
      "26:\tlearn: 19.3564443\ttotal: 71.6ms\tremaining: 459ms\n",
      "27:\tlearn: 19.3155533\ttotal: 74.1ms\tremaining: 455ms\n",
      "28:\tlearn: 19.2045980\ttotal: 76.6ms\tremaining: 452ms\n",
      "29:\tlearn: 19.0563489\ttotal: 79ms\tremaining: 448ms\n",
      "30:\tlearn: 18.9047902\ttotal: 81.4ms\tremaining: 444ms\n",
      "31:\tlearn: 18.8217114\ttotal: 83.9ms\tremaining: 441ms\n",
      "32:\tlearn: 18.7576279\ttotal: 86.3ms\tremaining: 437ms\n",
      "33:\tlearn: 18.6343442\ttotal: 88.8ms\tremaining: 434ms\n",
      "34:\tlearn: 18.5445383\ttotal: 91.4ms\tremaining: 431ms\n",
      "35:\tlearn: 18.4521795\ttotal: 94ms\tremaining: 428ms\n",
      "36:\tlearn: 18.3125022\ttotal: 96.9ms\tremaining: 427ms\n",
      "37:\tlearn: 18.2816271\ttotal: 99.6ms\tremaining: 425ms\n",
      "38:\tlearn: 18.2276429\ttotal: 102ms\tremaining: 423ms\n",
      "39:\tlearn: 18.1565967\ttotal: 105ms\tremaining: 420ms\n",
      "40:\tlearn: 18.0605805\ttotal: 108ms\tremaining: 417ms\n",
      "41:\tlearn: 17.9612876\ttotal: 110ms\tremaining: 416ms\n",
      "42:\tlearn: 17.9317333\ttotal: 113ms\tremaining: 414ms\n",
      "43:\tlearn: 17.8407062\ttotal: 116ms\tremaining: 411ms\n",
      "44:\tlearn: 17.7262205\ttotal: 119ms\tremaining: 408ms\n",
      "45:\tlearn: 17.6775396\ttotal: 120ms\tremaining: 403ms\n",
      "46:\tlearn: 17.5694530\ttotal: 122ms\tremaining: 397ms\n",
      "47:\tlearn: 17.4425761\ttotal: 124ms\tremaining: 393ms\n",
      "48:\tlearn: 17.3020755\ttotal: 126ms\tremaining: 389ms\n",
      "49:\tlearn: 17.2577859\ttotal: 128ms\tremaining: 385ms\n",
      "50:\tlearn: 17.2248006\ttotal: 130ms\tremaining: 380ms\n",
      "51:\tlearn: 17.1848809\ttotal: 132ms\tremaining: 375ms\n",
      "52:\tlearn: 17.1389428\ttotal: 133ms\tremaining: 370ms\n",
      "53:\tlearn: 17.0929745\ttotal: 136ms\tremaining: 368ms\n",
      "54:\tlearn: 17.0644669\ttotal: 139ms\tremaining: 366ms\n",
      "55:\tlearn: 16.9792229\ttotal: 142ms\tremaining: 364ms\n",
      "56:\tlearn: 16.9236299\ttotal: 144ms\tremaining: 362ms\n",
      "57:\tlearn: 16.8584337\ttotal: 147ms\tremaining: 359ms\n",
      "58:\tlearn: 16.8310327\ttotal: 149ms\tremaining: 357ms\n",
      "59:\tlearn: 16.7787778\ttotal: 152ms\tremaining: 354ms\n",
      "60:\tlearn: 16.6659559\ttotal: 155ms\tremaining: 352ms\n",
      "61:\tlearn: 16.6200701\ttotal: 157ms\tremaining: 350ms\n",
      "62:\tlearn: 16.5678561\ttotal: 167ms\tremaining: 362ms\n",
      "63:\tlearn: 16.5329233\ttotal: 170ms\tremaining: 361ms\n",
      "64:\tlearn: 16.4611849\ttotal: 173ms\tremaining: 359ms\n",
      "65:\tlearn: 16.3876609\ttotal: 175ms\tremaining: 356ms\n",
      "66:\tlearn: 16.3098552\ttotal: 178ms\tremaining: 353ms\n",
      "67:\tlearn: 16.2630271\ttotal: 180ms\tremaining: 350ms\n",
      "68:\tlearn: 16.1683581\ttotal: 183ms\tremaining: 347ms\n",
      "69:\tlearn: 16.0719758\ttotal: 185ms\tremaining: 344ms\n",
      "70:\tlearn: 16.0099341\ttotal: 188ms\tremaining: 341ms\n",
      "71:\tlearn: 15.9574287\ttotal: 190ms\tremaining: 338ms\n",
      "72:\tlearn: 15.8871780\ttotal: 192ms\tremaining: 335ms\n",
      "73:\tlearn: 15.8370093\ttotal: 195ms\tremaining: 332ms\n",
      "74:\tlearn: 15.7605323\ttotal: 198ms\tremaining: 330ms\n",
      "75:\tlearn: 15.7466084\ttotal: 200ms\tremaining: 327ms\n",
      "76:\tlearn: 15.6787143\ttotal: 202ms\tremaining: 323ms\n",
      "77:\tlearn: 15.6427454\ttotal: 205ms\tremaining: 320ms\n",
      "78:\tlearn: 15.6011062\ttotal: 207ms\tremaining: 318ms\n",
      "79:\tlearn: 15.5306727\ttotal: 210ms\tremaining: 315ms\n",
      "80:\tlearn: 15.4802693\ttotal: 212ms\tremaining: 312ms\n",
      "81:\tlearn: 15.4461605\ttotal: 215ms\tremaining: 309ms\n",
      "82:\tlearn: 15.3806710\ttotal: 218ms\tremaining: 307ms\n",
      "83:\tlearn: 15.3104771\ttotal: 221ms\tremaining: 305ms\n",
      "84:\tlearn: 15.2737377\ttotal: 223ms\tremaining: 302ms\n",
      "85:\tlearn: 15.2052996\ttotal: 226ms\tremaining: 300ms\n",
      "86:\tlearn: 15.1668963\ttotal: 229ms\tremaining: 298ms\n",
      "87:\tlearn: 15.0885855\ttotal: 232ms\tremaining: 295ms\n",
      "88:\tlearn: 15.0412436\ttotal: 234ms\tremaining: 292ms\n",
      "89:\tlearn: 14.9955047\ttotal: 240ms\tremaining: 294ms\n",
      "90:\tlearn: 14.9207446\ttotal: 243ms\tremaining: 291ms\n",
      "91:\tlearn: 14.8888061\ttotal: 245ms\tremaining: 288ms\n",
      "92:\tlearn: 14.8849644\ttotal: 248ms\tremaining: 285ms\n",
      "93:\tlearn: 14.8137167\ttotal: 250ms\tremaining: 282ms\n",
      "94:\tlearn: 14.7310812\ttotal: 253ms\tremaining: 279ms\n",
      "95:\tlearn: 14.6985975\ttotal: 255ms\tremaining: 276ms\n",
      "96:\tlearn: 14.6714779\ttotal: 257ms\tremaining: 273ms\n",
      "97:\tlearn: 14.6187316\ttotal: 259ms\tremaining: 270ms\n",
      "98:\tlearn: 14.5746135\ttotal: 261ms\tremaining: 266ms\n",
      "99:\tlearn: 14.5166430\ttotal: 263ms\tremaining: 263ms\n",
      "100:\tlearn: 14.4675913\ttotal: 266ms\tremaining: 260ms\n",
      "101:\tlearn: 14.4483975\ttotal: 268ms\tremaining: 258ms\n",
      "102:\tlearn: 14.4129740\ttotal: 271ms\tremaining: 255ms\n",
      "103:\tlearn: 14.3811426\ttotal: 274ms\tremaining: 253ms\n",
      "104:\tlearn: 14.3504254\ttotal: 276ms\tremaining: 250ms\n",
      "105:\tlearn: 14.2922133\ttotal: 279ms\tremaining: 247ms\n",
      "106:\tlearn: 14.2708886\ttotal: 282ms\tremaining: 245ms\n",
      "107:\tlearn: 14.2673704\ttotal: 284ms\tremaining: 242ms\n",
      "108:\tlearn: 14.2305497\ttotal: 287ms\tremaining: 240ms\n",
      "109:\tlearn: 14.2172961\ttotal: 290ms\tremaining: 237ms\n",
      "110:\tlearn: 14.1785782\ttotal: 293ms\tremaining: 235ms\n",
      "111:\tlearn: 14.1431401\ttotal: 296ms\tremaining: 232ms\n",
      "112:\tlearn: 14.1084484\ttotal: 299ms\tremaining: 230ms\n",
      "113:\tlearn: 14.0573890\ttotal: 301ms\tremaining: 227ms\n",
      "114:\tlearn: 14.0325775\ttotal: 304ms\tremaining: 225ms\n",
      "115:\tlearn: 13.9819044\ttotal: 307ms\tremaining: 222ms\n",
      "116:\tlearn: 13.9635046\ttotal: 310ms\tremaining: 220ms\n",
      "117:\tlearn: 13.9296750\ttotal: 312ms\tremaining: 217ms\n",
      "118:\tlearn: 13.8836364\ttotal: 315ms\tremaining: 215ms\n",
      "119:\tlearn: 13.7977765\ttotal: 318ms\tremaining: 212ms\n",
      "120:\tlearn: 13.7842601\ttotal: 321ms\tremaining: 209ms\n",
      "121:\tlearn: 13.7415977\ttotal: 324ms\tremaining: 207ms\n",
      "122:\tlearn: 13.7211526\ttotal: 326ms\tremaining: 204ms\n",
      "123:\tlearn: 13.6895140\ttotal: 328ms\tremaining: 201ms\n",
      "124:\tlearn: 13.6773312\ttotal: 330ms\tremaining: 198ms\n",
      "125:\tlearn: 13.6564275\ttotal: 332ms\tremaining: 195ms\n",
      "126:\tlearn: 13.6360584\ttotal: 334ms\tremaining: 192ms\n",
      "127:\tlearn: 13.5593869\ttotal: 337ms\tremaining: 189ms\n",
      "128:\tlearn: 13.5314834\ttotal: 339ms\tremaining: 187ms\n",
      "129:\tlearn: 13.4963856\ttotal: 342ms\tremaining: 184ms\n",
      "130:\tlearn: 13.4618433\ttotal: 344ms\tremaining: 181ms\n",
      "131:\tlearn: 13.3969420\ttotal: 347ms\tremaining: 179ms\n",
      "132:\tlearn: 13.3470485\ttotal: 351ms\tremaining: 177ms\n",
      "133:\tlearn: 13.3153695\ttotal: 354ms\tremaining: 174ms\n",
      "134:\tlearn: 13.2919196\ttotal: 357ms\tremaining: 172ms\n",
      "135:\tlearn: 13.2356629\ttotal: 360ms\tremaining: 169ms\n",
      "136:\tlearn: 13.1975201\ttotal: 362ms\tremaining: 166ms\n",
      "137:\tlearn: 13.1777385\ttotal: 365ms\tremaining: 164ms\n",
      "138:\tlearn: 13.1317207\ttotal: 367ms\tremaining: 161ms\n",
      "139:\tlearn: 13.1299623\ttotal: 370ms\tremaining: 158ms\n",
      "140:\tlearn: 13.0845810\ttotal: 372ms\tremaining: 156ms\n",
      "141:\tlearn: 13.0647552\ttotal: 375ms\tremaining: 153ms\n",
      "142:\tlearn: 13.0629047\ttotal: 377ms\tremaining: 150ms\n",
      "143:\tlearn: 13.0381749\ttotal: 380ms\tremaining: 148ms\n",
      "144:\tlearn: 13.0368889\ttotal: 382ms\tremaining: 145ms\n",
      "145:\tlearn: 13.0037271\ttotal: 385ms\tremaining: 142ms\n",
      "146:\tlearn: 12.9724459\ttotal: 387ms\tremaining: 140ms\n",
      "147:\tlearn: 12.9710949\ttotal: 389ms\tremaining: 137ms\n",
      "148:\tlearn: 12.9444128\ttotal: 392ms\tremaining: 134ms\n",
      "149:\tlearn: 12.9107523\ttotal: 395ms\tremaining: 132ms\n",
      "150:\tlearn: 12.8764250\ttotal: 397ms\tremaining: 129ms\n",
      "151:\tlearn: 12.8276583\ttotal: 400ms\tremaining: 126ms\n",
      "152:\tlearn: 12.7875354\ttotal: 403ms\tremaining: 124ms\n",
      "153:\tlearn: 12.7636834\ttotal: 406ms\tremaining: 121ms\n",
      "154:\tlearn: 12.7373232\ttotal: 408ms\tremaining: 119ms\n",
      "155:\tlearn: 12.7105110\ttotal: 411ms\tremaining: 116ms\n",
      "156:\tlearn: 12.6867321\ttotal: 413ms\tremaining: 113ms\n",
      "157:\tlearn: 12.6692749\ttotal: 416ms\tremaining: 111ms\n",
      "158:\tlearn: 12.6418415\ttotal: 419ms\tremaining: 108ms\n",
      "159:\tlearn: 12.5913110\ttotal: 422ms\tremaining: 105ms\n",
      "160:\tlearn: 12.5665521\ttotal: 425ms\tremaining: 103ms\n",
      "161:\tlearn: 12.5637642\ttotal: 427ms\tremaining: 100ms\n",
      "162:\tlearn: 12.5307993\ttotal: 430ms\tremaining: 97.6ms\n",
      "163:\tlearn: 12.4831366\ttotal: 433ms\tremaining: 95ms\n",
      "164:\tlearn: 12.4527208\ttotal: 435ms\tremaining: 92.3ms\n",
      "165:\tlearn: 12.4389481\ttotal: 438ms\tremaining: 89.7ms\n",
      "166:\tlearn: 12.4216576\ttotal: 441ms\tremaining: 87.1ms\n",
      "167:\tlearn: 12.3858782\ttotal: 443ms\tremaining: 84.4ms\n",
      "168:\tlearn: 12.3534763\ttotal: 450ms\tremaining: 82.6ms\n",
      "169:\tlearn: 12.3305375\ttotal: 453ms\tremaining: 79.9ms\n",
      "170:\tlearn: 12.3250575\ttotal: 454ms\tremaining: 77ms\n",
      "171:\tlearn: 12.2972533\ttotal: 457ms\tremaining: 74.3ms\n",
      "172:\tlearn: 12.2463685\ttotal: 459ms\tremaining: 71.7ms\n",
      "173:\tlearn: 12.2227140\ttotal: 462ms\tremaining: 69ms\n",
      "174:\tlearn: 12.1825271\ttotal: 465ms\tremaining: 66.4ms\n",
      "175:\tlearn: 12.1536176\ttotal: 468ms\tremaining: 63.8ms\n",
      "176:\tlearn: 12.1167251\ttotal: 470ms\tremaining: 61.1ms\n",
      "177:\tlearn: 12.1061250\ttotal: 473ms\tremaining: 58.4ms\n",
      "178:\tlearn: 12.0782055\ttotal: 475ms\tremaining: 55.8ms\n",
      "179:\tlearn: 12.0477936\ttotal: 478ms\tremaining: 53.1ms\n",
      "180:\tlearn: 12.0253152\ttotal: 480ms\tremaining: 50.4ms\n",
      "181:\tlearn: 11.9825702\ttotal: 483ms\tremaining: 47.8ms\n",
      "182:\tlearn: 11.9440601\ttotal: 486ms\tremaining: 45.1ms\n",
      "183:\tlearn: 11.9113915\ttotal: 495ms\tremaining: 43.1ms\n",
      "184:\tlearn: 11.8935088\ttotal: 498ms\tremaining: 40.4ms\n",
      "185:\tlearn: 11.8660404\ttotal: 501ms\tremaining: 37.7ms\n",
      "186:\tlearn: 11.8390914\ttotal: 504ms\tremaining: 35ms\n",
      "187:\tlearn: 11.8172962\ttotal: 506ms\tremaining: 32.3ms\n",
      "188:\tlearn: 11.8009864\ttotal: 508ms\tremaining: 29.6ms\n",
      "189:\tlearn: 11.7602424\ttotal: 512ms\tremaining: 26.9ms\n",
      "190:\tlearn: 11.7341417\ttotal: 515ms\tremaining: 24.2ms\n",
      "191:\tlearn: 11.6989777\ttotal: 517ms\tremaining: 21.6ms\n",
      "192:\tlearn: 11.6786755\ttotal: 519ms\tremaining: 18.8ms\n",
      "193:\tlearn: 11.6523205\ttotal: 522ms\tremaining: 16.1ms\n",
      "194:\tlearn: 11.6356625\ttotal: 524ms\tremaining: 13.4ms\n",
      "195:\tlearn: 11.6072776\ttotal: 527ms\tremaining: 10.7ms\n",
      "196:\tlearn: 11.5795920\ttotal: 530ms\tremaining: 8.07ms\n",
      "197:\tlearn: 11.5515535\ttotal: 534ms\tremaining: 5.39ms\n",
      "198:\tlearn: 11.5280734\ttotal: 536ms\tremaining: 2.69ms\n",
      "199:\tlearn: 11.5047230\ttotal: 538ms\tremaining: 0us\n",
      "Learning rate set to 0.179973\n",
      "0:\tlearn: 31.4027005\ttotal: 2.29ms\tremaining: 456ms\n",
      "1:\tlearn: 29.5707456\ttotal: 7.15ms\tremaining: 708ms\n",
      "2:\tlearn: 28.0597983\ttotal: 10.2ms\tremaining: 668ms\n",
      "3:\tlearn: 26.8750214\ttotal: 13.1ms\tremaining: 640ms\n",
      "4:\tlearn: 25.8840351\ttotal: 16.3ms\tremaining: 637ms\n",
      "5:\tlearn: 25.1881705\ttotal: 19.1ms\tremaining: 619ms\n",
      "6:\tlearn: 24.4588111\ttotal: 22.3ms\tremaining: 615ms\n",
      "7:\tlearn: 24.0863498\ttotal: 25.9ms\tremaining: 622ms\n",
      "8:\tlearn: 23.6419945\ttotal: 29.3ms\tremaining: 621ms\n",
      "9:\tlearn: 23.2320223\ttotal: 33.1ms\tremaining: 628ms\n",
      "10:\tlearn: 23.0224289\ttotal: 36.5ms\tremaining: 626ms\n",
      "11:\tlearn: 22.7991443\ttotal: 39.6ms\tremaining: 620ms\n",
      "12:\tlearn: 22.5989021\ttotal: 41.9ms\tremaining: 602ms\n",
      "13:\tlearn: 22.2642118\ttotal: 43.9ms\tremaining: 583ms\n",
      "14:\tlearn: 22.0694125\ttotal: 45.7ms\tremaining: 563ms\n",
      "15:\tlearn: 21.9173273\ttotal: 47.6ms\tremaining: 548ms\n",
      "16:\tlearn: 21.7547786\ttotal: 49.5ms\tremaining: 533ms\n",
      "17:\tlearn: 21.6309157\ttotal: 51.3ms\tremaining: 519ms\n",
      "18:\tlearn: 21.4761301\ttotal: 53.1ms\tremaining: 506ms\n",
      "19:\tlearn: 21.4090829\ttotal: 55.6ms\tremaining: 501ms\n",
      "20:\tlearn: 21.2795174\ttotal: 57.5ms\tremaining: 490ms\n",
      "21:\tlearn: 21.1629409\ttotal: 59.3ms\tremaining: 480ms\n",
      "22:\tlearn: 21.0575461\ttotal: 61.4ms\tremaining: 473ms\n",
      "23:\tlearn: 20.9685238\ttotal: 63.2ms\tremaining: 464ms\n",
      "24:\tlearn: 20.8427060\ttotal: 64.9ms\tremaining: 455ms\n",
      "25:\tlearn: 20.7648217\ttotal: 66.8ms\tremaining: 447ms\n",
      "26:\tlearn: 20.6150095\ttotal: 68.8ms\tremaining: 441ms\n",
      "27:\tlearn: 20.5042655\ttotal: 71.5ms\tremaining: 439ms\n",
      "28:\tlearn: 20.4562691\ttotal: 74.3ms\tremaining: 438ms\n",
      "29:\tlearn: 20.4176107\ttotal: 76.8ms\tremaining: 435ms\n",
      "30:\tlearn: 20.3139042\ttotal: 79.4ms\tremaining: 433ms\n",
      "31:\tlearn: 20.2524879\ttotal: 83.1ms\tremaining: 436ms\n",
      "32:\tlearn: 20.1202131\ttotal: 85.5ms\tremaining: 433ms\n",
      "33:\tlearn: 19.9778223\ttotal: 88.5ms\tremaining: 432ms\n",
      "34:\tlearn: 19.8650845\ttotal: 91.1ms\tremaining: 429ms\n",
      "35:\tlearn: 19.8039965\ttotal: 93.7ms\tremaining: 427ms\n",
      "36:\tlearn: 19.7212418\ttotal: 96.2ms\tremaining: 424ms\n",
      "37:\tlearn: 19.6955624\ttotal: 99.2ms\tremaining: 423ms\n",
      "38:\tlearn: 19.6642624\ttotal: 101ms\tremaining: 418ms\n",
      "39:\tlearn: 19.6059014\ttotal: 104ms\tremaining: 416ms\n",
      "40:\tlearn: 19.5243578\ttotal: 106ms\tremaining: 410ms\n",
      "41:\tlearn: 19.4312597\ttotal: 108ms\tremaining: 405ms\n",
      "42:\tlearn: 19.3657376\ttotal: 111ms\tremaining: 405ms\n",
      "43:\tlearn: 19.2163195\ttotal: 113ms\tremaining: 399ms\n",
      "44:\tlearn: 19.1590115\ttotal: 115ms\tremaining: 395ms\n",
      "45:\tlearn: 19.1179110\ttotal: 116ms\tremaining: 390ms\n",
      "46:\tlearn: 19.0835025\ttotal: 118ms\tremaining: 385ms\n",
      "47:\tlearn: 18.9871322\ttotal: 121ms\tremaining: 383ms\n",
      "48:\tlearn: 18.8561371\ttotal: 123ms\tremaining: 379ms\n",
      "49:\tlearn: 18.8173703\ttotal: 125ms\tremaining: 374ms\n",
      "50:\tlearn: 18.7671295\ttotal: 128ms\tremaining: 373ms\n",
      "51:\tlearn: 18.7344686\ttotal: 131ms\tremaining: 372ms\n",
      "52:\tlearn: 18.6494766\ttotal: 134ms\tremaining: 371ms\n",
      "53:\tlearn: 18.5905251\ttotal: 137ms\tremaining: 370ms\n",
      "54:\tlearn: 18.5344188\ttotal: 140ms\tremaining: 370ms\n",
      "55:\tlearn: 18.4838058\ttotal: 144ms\tremaining: 370ms\n",
      "56:\tlearn: 18.4229627\ttotal: 147ms\tremaining: 368ms\n",
      "57:\tlearn: 18.3865687\ttotal: 150ms\tremaining: 367ms\n",
      "58:\tlearn: 18.3208611\ttotal: 155ms\tremaining: 371ms\n",
      "59:\tlearn: 18.2751262\ttotal: 158ms\tremaining: 369ms\n",
      "60:\tlearn: 18.2108406\ttotal: 161ms\tremaining: 367ms\n",
      "61:\tlearn: 18.1150186\ttotal: 164ms\tremaining: 365ms\n",
      "62:\tlearn: 18.0565861\ttotal: 167ms\tremaining: 363ms\n",
      "63:\tlearn: 18.0200535\ttotal: 170ms\tremaining: 361ms\n",
      "64:\tlearn: 17.9729048\ttotal: 173ms\tremaining: 359ms\n",
      "65:\tlearn: 17.8924278\ttotal: 176ms\tremaining: 357ms\n",
      "66:\tlearn: 17.8663525\ttotal: 179ms\tremaining: 355ms\n",
      "67:\tlearn: 17.8212520\ttotal: 181ms\tremaining: 352ms\n",
      "68:\tlearn: 17.7706644\ttotal: 184ms\tremaining: 350ms\n",
      "69:\tlearn: 17.7097065\ttotal: 188ms\tremaining: 348ms\n",
      "70:\tlearn: 17.6436536\ttotal: 191ms\tremaining: 347ms\n",
      "71:\tlearn: 17.5791938\ttotal: 194ms\tremaining: 345ms\n",
      "72:\tlearn: 17.5098623\ttotal: 197ms\tremaining: 343ms\n",
      "73:\tlearn: 17.4730000\ttotal: 200ms\tremaining: 341ms\n",
      "74:\tlearn: 17.4248253\ttotal: 203ms\tremaining: 338ms\n",
      "75:\tlearn: 17.3788317\ttotal: 206ms\tremaining: 337ms\n",
      "76:\tlearn: 17.3500441\ttotal: 209ms\tremaining: 334ms\n",
      "77:\tlearn: 17.3348696\ttotal: 213ms\tremaining: 332ms\n",
      "78:\tlearn: 17.3062416\ttotal: 218ms\tremaining: 334ms\n",
      "79:\tlearn: 17.2950730\ttotal: 221ms\tremaining: 332ms\n",
      "80:\tlearn: 17.2444912\ttotal: 224ms\tremaining: 329ms\n",
      "81:\tlearn: 17.1846235\ttotal: 228ms\tremaining: 328ms\n",
      "82:\tlearn: 17.1447625\ttotal: 231ms\tremaining: 325ms\n",
      "83:\tlearn: 17.0783146\ttotal: 234ms\tremaining: 323ms\n",
      "84:\tlearn: 17.0756417\ttotal: 237ms\tremaining: 320ms\n",
      "85:\tlearn: 17.0101703\ttotal: 241ms\tremaining: 320ms\n",
      "86:\tlearn: 16.9794579\ttotal: 244ms\tremaining: 317ms\n",
      "87:\tlearn: 16.9279797\ttotal: 247ms\tremaining: 314ms\n",
      "88:\tlearn: 16.9048402\ttotal: 248ms\tremaining: 310ms\n",
      "89:\tlearn: 16.8531637\ttotal: 250ms\tremaining: 306ms\n",
      "90:\tlearn: 16.7778188\ttotal: 252ms\tremaining: 302ms\n",
      "91:\tlearn: 16.7343425\ttotal: 254ms\tremaining: 298ms\n",
      "92:\tlearn: 16.6877750\ttotal: 256ms\tremaining: 294ms\n",
      "93:\tlearn: 16.6364970\ttotal: 257ms\tremaining: 290ms\n",
      "94:\tlearn: 16.6072954\ttotal: 260ms\tremaining: 288ms\n",
      "95:\tlearn: 16.5767062\ttotal: 263ms\tremaining: 285ms\n",
      "96:\tlearn: 16.5253515\ttotal: 266ms\tremaining: 283ms\n",
      "97:\tlearn: 16.4896989\ttotal: 270ms\tremaining: 281ms\n",
      "98:\tlearn: 16.4543032\ttotal: 273ms\tremaining: 278ms\n",
      "99:\tlearn: 16.4113204\ttotal: 276ms\tremaining: 276ms\n",
      "100:\tlearn: 16.3703095\ttotal: 279ms\tremaining: 273ms\n",
      "101:\tlearn: 16.3310426\ttotal: 282ms\tremaining: 271ms\n",
      "102:\tlearn: 16.2776650\ttotal: 285ms\tremaining: 268ms\n",
      "103:\tlearn: 16.2261947\ttotal: 288ms\tremaining: 266ms\n",
      "104:\tlearn: 16.1991603\ttotal: 291ms\tremaining: 263ms\n",
      "105:\tlearn: 16.1675229\ttotal: 294ms\tremaining: 261ms\n",
      "106:\tlearn: 16.1653979\ttotal: 297ms\tremaining: 258ms\n",
      "107:\tlearn: 16.1267594\ttotal: 300ms\tremaining: 256ms\n",
      "108:\tlearn: 16.0692535\ttotal: 303ms\tremaining: 253ms\n",
      "109:\tlearn: 16.0590184\ttotal: 306ms\tremaining: 251ms\n",
      "110:\tlearn: 16.0261348\ttotal: 309ms\tremaining: 248ms\n",
      "111:\tlearn: 16.0007019\ttotal: 312ms\tremaining: 245ms\n",
      "112:\tlearn: 15.9939788\ttotal: 315ms\tremaining: 243ms\n",
      "113:\tlearn: 15.9541083\ttotal: 318ms\tremaining: 240ms\n",
      "114:\tlearn: 15.9301379\ttotal: 321ms\tremaining: 237ms\n",
      "115:\tlearn: 15.9109309\ttotal: 324ms\tremaining: 235ms\n",
      "116:\tlearn: 15.8702076\ttotal: 327ms\tremaining: 232ms\n",
      "117:\tlearn: 15.8646967\ttotal: 330ms\tremaining: 230ms\n",
      "118:\tlearn: 15.8457968\ttotal: 333ms\tremaining: 227ms\n",
      "119:\tlearn: 15.8156627\ttotal: 336ms\tremaining: 224ms\n",
      "120:\tlearn: 15.7905855\ttotal: 339ms\tremaining: 222ms\n",
      "121:\tlearn: 15.7829165\ttotal: 343ms\tremaining: 219ms\n",
      "122:\tlearn: 15.7505475\ttotal: 345ms\tremaining: 216ms\n",
      "123:\tlearn: 15.7403549\ttotal: 348ms\tremaining: 213ms\n",
      "124:\tlearn: 15.6891885\ttotal: 355ms\tremaining: 213ms\n",
      "125:\tlearn: 15.6582248\ttotal: 358ms\tremaining: 210ms\n",
      "126:\tlearn: 15.6169878\ttotal: 361ms\tremaining: 207ms\n",
      "127:\tlearn: 15.5818902\ttotal: 364ms\tremaining: 204ms\n",
      "128:\tlearn: 15.5406694\ttotal: 366ms\tremaining: 202ms\n",
      "129:\tlearn: 15.4979449\ttotal: 369ms\tremaining: 199ms\n",
      "130:\tlearn: 15.4763137\ttotal: 371ms\tremaining: 195ms\n",
      "131:\tlearn: 15.4368407\ttotal: 374ms\tremaining: 193ms\n",
      "132:\tlearn: 15.4113489\ttotal: 377ms\tremaining: 190ms\n",
      "133:\tlearn: 15.3847689\ttotal: 379ms\tremaining: 186ms\n",
      "134:\tlearn: 15.3614049\ttotal: 380ms\tremaining: 183ms\n",
      "135:\tlearn: 15.3598250\ttotal: 382ms\tremaining: 180ms\n",
      "136:\tlearn: 15.3380615\ttotal: 384ms\tremaining: 176ms\n",
      "137:\tlearn: 15.3366949\ttotal: 386ms\tremaining: 173ms\n",
      "138:\tlearn: 15.3352110\ttotal: 388ms\tremaining: 170ms\n",
      "139:\tlearn: 15.2955166\ttotal: 390ms\tremaining: 167ms\n",
      "140:\tlearn: 15.2912807\ttotal: 392ms\tremaining: 164ms\n",
      "141:\tlearn: 15.2497768\ttotal: 394ms\tremaining: 161ms\n",
      "142:\tlearn: 15.2262221\ttotal: 395ms\tremaining: 158ms\n",
      "143:\tlearn: 15.2032908\ttotal: 397ms\tremaining: 154ms\n",
      "144:\tlearn: 15.1862175\ttotal: 399ms\tremaining: 151ms\n",
      "145:\tlearn: 15.1536185\ttotal: 401ms\tremaining: 148ms\n",
      "146:\tlearn: 15.1242859\ttotal: 403ms\tremaining: 145ms\n",
      "147:\tlearn: 15.1068562\ttotal: 405ms\tremaining: 142ms\n",
      "148:\tlearn: 15.0951674\ttotal: 407ms\tremaining: 139ms\n",
      "149:\tlearn: 15.0727388\ttotal: 409ms\tremaining: 136ms\n",
      "150:\tlearn: 15.0712695\ttotal: 412ms\tremaining: 134ms\n",
      "151:\tlearn: 15.0544799\ttotal: 414ms\tremaining: 131ms\n",
      "152:\tlearn: 15.0189494\ttotal: 417ms\tremaining: 128ms\n",
      "153:\tlearn: 15.0173036\ttotal: 419ms\tremaining: 125ms\n",
      "154:\tlearn: 14.9796213\ttotal: 422ms\tremaining: 123ms\n",
      "155:\tlearn: 14.9649158\ttotal: 425ms\tremaining: 120ms\n",
      "156:\tlearn: 14.9420530\ttotal: 427ms\tremaining: 117ms\n",
      "157:\tlearn: 14.9198861\ttotal: 430ms\tremaining: 114ms\n",
      "158:\tlearn: 14.8899934\ttotal: 432ms\tremaining: 112ms\n",
      "159:\tlearn: 14.8473697\ttotal: 435ms\tremaining: 109ms\n",
      "160:\tlearn: 14.8231680\ttotal: 439ms\tremaining: 106ms\n",
      "161:\tlearn: 14.7871700\ttotal: 442ms\tremaining: 104ms\n",
      "162:\tlearn: 14.7642035\ttotal: 444ms\tremaining: 101ms\n",
      "163:\tlearn: 14.7406152\ttotal: 449ms\tremaining: 98.6ms\n",
      "164:\tlearn: 14.7200771\ttotal: 452ms\tremaining: 95.8ms\n",
      "165:\tlearn: 14.7137403\ttotal: 454ms\tremaining: 93.1ms\n",
      "166:\tlearn: 14.6933538\ttotal: 457ms\tremaining: 90.3ms\n",
      "167:\tlearn: 14.6797080\ttotal: 459ms\tremaining: 87.4ms\n",
      "168:\tlearn: 14.6578140\ttotal: 461ms\tremaining: 84.5ms\n",
      "169:\tlearn: 14.5953968\ttotal: 463ms\tremaining: 81.6ms\n",
      "170:\tlearn: 14.5530409\ttotal: 464ms\tremaining: 78.8ms\n",
      "171:\tlearn: 14.5356149\ttotal: 466ms\tremaining: 75.9ms\n",
      "172:\tlearn: 14.5299118\ttotal: 468ms\tremaining: 73.1ms\n",
      "173:\tlearn: 14.4968609\ttotal: 470ms\tremaining: 70.3ms\n",
      "174:\tlearn: 14.4747494\ttotal: 472ms\tremaining: 67.5ms\n",
      "175:\tlearn: 14.4723899\ttotal: 475ms\tremaining: 64.8ms\n",
      "176:\tlearn: 14.4605794\ttotal: 477ms\tremaining: 62ms\n",
      "177:\tlearn: 14.4466439\ttotal: 479ms\tremaining: 59.2ms\n",
      "178:\tlearn: 14.4100892\ttotal: 481ms\tremaining: 56.4ms\n",
      "179:\tlearn: 14.3860863\ttotal: 483ms\tremaining: 53.7ms\n",
      "180:\tlearn: 14.3769492\ttotal: 485ms\tremaining: 50.9ms\n",
      "181:\tlearn: 14.3447800\ttotal: 488ms\tremaining: 48.2ms\n",
      "182:\tlearn: 14.3221562\ttotal: 491ms\tremaining: 45.6ms\n",
      "183:\tlearn: 14.3209621\ttotal: 494ms\tremaining: 42.9ms\n",
      "184:\tlearn: 14.3010863\ttotal: 497ms\tremaining: 40.3ms\n",
      "185:\tlearn: 14.2845040\ttotal: 499ms\tremaining: 37.6ms\n",
      "186:\tlearn: 14.2489600\ttotal: 501ms\tremaining: 34.9ms\n",
      "187:\tlearn: 14.2325220\ttotal: 504ms\tremaining: 32.2ms\n",
      "188:\tlearn: 14.2053775\ttotal: 507ms\tremaining: 29.5ms\n",
      "189:\tlearn: 14.1914139\ttotal: 510ms\tremaining: 26.8ms\n",
      "190:\tlearn: 14.1743677\ttotal: 512ms\tremaining: 24.1ms\n",
      "191:\tlearn: 14.1622575\ttotal: 515ms\tremaining: 21.5ms\n",
      "192:\tlearn: 14.1354776\ttotal: 518ms\tremaining: 18.8ms\n",
      "193:\tlearn: 14.1040017\ttotal: 521ms\tremaining: 16.1ms\n",
      "194:\tlearn: 14.0658796\ttotal: 524ms\tremaining: 13.4ms\n",
      "195:\tlearn: 14.0397012\ttotal: 527ms\tremaining: 10.8ms\n",
      "196:\tlearn: 14.0302036\ttotal: 530ms\tremaining: 8.07ms\n",
      "197:\tlearn: 14.0092691\ttotal: 533ms\tremaining: 5.38ms\n",
      "198:\tlearn: 13.9780782\ttotal: 536ms\tremaining: 2.69ms\n",
      "199:\tlearn: 13.9488257\ttotal: 539ms\tremaining: 0us\n",
      "Learning rate set to 0.151294\n",
      "0:\tlearn: 27.5787977\ttotal: 1.53s\tremaining: 5m 3s\n",
      "1:\tlearn: 26.2470247\ttotal: 3s\tremaining: 4m 56s\n",
      "2:\tlearn: 25.1017334\ttotal: 4.54s\tremaining: 4m 58s\n",
      "3:\tlearn: 23.9634896\ttotal: 5.98s\tremaining: 4m 53s\n",
      "4:\tlearn: 22.6069364\ttotal: 7.41s\tremaining: 4m 49s\n",
      "5:\tlearn: 21.6918976\ttotal: 8.88s\tremaining: 4m 47s\n",
      "6:\tlearn: 20.8110683\ttotal: 10.3s\tremaining: 4m 44s\n",
      "7:\tlearn: 19.9648520\ttotal: 11.7s\tremaining: 4m 41s\n",
      "8:\tlearn: 19.1886012\ttotal: 13.2s\tremaining: 4m 39s\n",
      "9:\tlearn: 18.4128494\ttotal: 14.7s\tremaining: 4m 39s\n",
      "10:\tlearn: 17.6591506\ttotal: 16.2s\tremaining: 4m 37s\n",
      "11:\tlearn: 16.9507052\ttotal: 17.6s\tremaining: 4m 35s\n",
      "12:\tlearn: 16.2187650\ttotal: 19s\tremaining: 4m 32s\n",
      "13:\tlearn: 15.5782445\ttotal: 20.4s\tremaining: 4m 30s\n",
      "14:\tlearn: 15.0025045\ttotal: 21.8s\tremaining: 4m 28s\n",
      "15:\tlearn: 14.4959637\ttotal: 23.2s\tremaining: 4m 26s\n",
      "16:\tlearn: 13.9507200\ttotal: 24.7s\tremaining: 4m 25s\n",
      "17:\tlearn: 13.4438044\ttotal: 26.1s\tremaining: 4m 23s\n",
      "18:\tlearn: 12.9827553\ttotal: 27.5s\tremaining: 4m 21s\n",
      "19:\tlearn: 12.5150059\ttotal: 28.9s\tremaining: 4m 19s\n",
      "20:\tlearn: 12.0736485\ttotal: 30.3s\tremaining: 4m 18s\n",
      "21:\tlearn: 11.7023644\ttotal: 31.8s\tremaining: 4m 17s\n",
      "22:\tlearn: 11.2813067\ttotal: 33.2s\tremaining: 4m 15s\n",
      "23:\tlearn: 10.9314161\ttotal: 34.8s\tremaining: 4m 15s\n",
      "24:\tlearn: 10.5556948\ttotal: 36.3s\tremaining: 4m 14s\n",
      "25:\tlearn: 10.3056749\ttotal: 36.3s\tremaining: 4m 2s\n",
      "26:\tlearn: 9.9709119\ttotal: 37.8s\tremaining: 4m 2s\n",
      "27:\tlearn: 9.6684359\ttotal: 39.3s\tremaining: 4m 1s\n",
      "28:\tlearn: 9.3346224\ttotal: 40.9s\tremaining: 4m\n",
      "29:\tlearn: 9.0376480\ttotal: 42.4s\tremaining: 4m\n",
      "30:\tlearn: 8.7490096\ttotal: 44.1s\tremaining: 4m\n",
      "31:\tlearn: 8.4623985\ttotal: 45.7s\tremaining: 3m 59s\n",
      "32:\tlearn: 8.1885155\ttotal: 47.1s\tremaining: 3m 58s\n",
      "33:\tlearn: 7.9815803\ttotal: 48.6s\tremaining: 3m 57s\n",
      "34:\tlearn: 7.7275461\ttotal: 50.1s\tremaining: 3m 56s\n",
      "35:\tlearn: 7.4922787\ttotal: 51.6s\tremaining: 3m 55s\n",
      "36:\tlearn: 7.2816200\ttotal: 53s\tremaining: 3m 53s\n",
      "37:\tlearn: 7.0842724\ttotal: 54.5s\tremaining: 3m 52s\n",
      "38:\tlearn: 6.8887390\ttotal: 56s\tremaining: 3m 51s\n",
      "39:\tlearn: 6.6809883\ttotal: 57.5s\tremaining: 3m 49s\n",
      "40:\tlearn: 6.4719434\ttotal: 58.9s\tremaining: 3m 48s\n",
      "41:\tlearn: 6.2913215\ttotal: 1m\tremaining: 3m 46s\n",
      "42:\tlearn: 6.1132972\ttotal: 1m 1s\tremaining: 3m 45s\n",
      "43:\tlearn: 5.9273020\ttotal: 1m 3s\tremaining: 3m 44s\n",
      "44:\tlearn: 5.7279457\ttotal: 1m 4s\tremaining: 3m 43s\n",
      "45:\tlearn: 5.5284772\ttotal: 1m 6s\tremaining: 3m 42s\n",
      "46:\tlearn: 5.4068581\ttotal: 1m 7s\tremaining: 3m 41s\n",
      "47:\tlearn: 5.2528984\ttotal: 1m 9s\tremaining: 3m 40s\n",
      "48:\tlearn: 5.0743356\ttotal: 1m 10s\tremaining: 3m 38s\n",
      "49:\tlearn: 4.9240400\ttotal: 1m 12s\tremaining: 3m 37s\n",
      "50:\tlearn: 4.7651453\ttotal: 1m 13s\tremaining: 3m 36s\n",
      "51:\tlearn: 4.6173745\ttotal: 1m 15s\tremaining: 3m 34s\n",
      "52:\tlearn: 4.4983847\ttotal: 1m 16s\tremaining: 3m 32s\n",
      "53:\tlearn: 4.3502834\ttotal: 1m 18s\tremaining: 3m 31s\n",
      "54:\tlearn: 4.2352485\ttotal: 1m 19s\tremaining: 3m 30s\n",
      "55:\tlearn: 4.1350652\ttotal: 1m 21s\tremaining: 3m 28s\n",
      "56:\tlearn: 4.0147494\ttotal: 1m 22s\tremaining: 3m 27s\n",
      "57:\tlearn: 3.9018227\ttotal: 1m 24s\tremaining: 3m 26s\n",
      "58:\tlearn: 3.8177384\ttotal: 1m 25s\tremaining: 3m 25s\n",
      "59:\tlearn: 3.7072897\ttotal: 1m 27s\tremaining: 3m 23s\n",
      "60:\tlearn: 3.5874406\ttotal: 1m 28s\tremaining: 3m 21s\n",
      "61:\tlearn: 3.4693113\ttotal: 1m 30s\tremaining: 3m 20s\n",
      "62:\tlearn: 3.3728547\ttotal: 1m 31s\tremaining: 3m 19s\n",
      "63:\tlearn: 3.2650063\ttotal: 1m 32s\tremaining: 3m 17s\n",
      "64:\tlearn: 3.1795433\ttotal: 1m 34s\tremaining: 3m 16s\n",
      "65:\tlearn: 3.0756567\ttotal: 1m 36s\tremaining: 3m 15s\n",
      "66:\tlearn: 2.9931707\ttotal: 1m 37s\tremaining: 3m 14s\n",
      "67:\tlearn: 2.9559479\ttotal: 1m 39s\tremaining: 3m 13s\n",
      "68:\tlearn: 2.8611380\ttotal: 1m 41s\tremaining: 3m 12s\n",
      "69:\tlearn: 2.7822369\ttotal: 1m 42s\tremaining: 3m 10s\n",
      "70:\tlearn: 2.6994440\ttotal: 1m 44s\tremaining: 3m 9s\n",
      "71:\tlearn: 2.6097163\ttotal: 1m 45s\tremaining: 3m 8s\n",
      "72:\tlearn: 2.5341956\ttotal: 1m 47s\tremaining: 3m 7s\n",
      "73:\tlearn: 2.4653770\ttotal: 1m 49s\tremaining: 3m 5s\n",
      "74:\tlearn: 2.3907998\ttotal: 1m 50s\tremaining: 3m 4s\n",
      "75:\tlearn: 2.3250192\ttotal: 1m 52s\tremaining: 3m 2s\n",
      "76:\tlearn: 2.2609847\ttotal: 1m 53s\tremaining: 3m 1s\n",
      "77:\tlearn: 2.1975556\ttotal: 1m 55s\tremaining: 2m 59s\n",
      "78:\tlearn: 2.1379338\ttotal: 1m 56s\tremaining: 2m 58s\n",
      "79:\tlearn: 2.0769921\ttotal: 1m 58s\tremaining: 2m 57s\n",
      "80:\tlearn: 2.0221765\ttotal: 1m 59s\tremaining: 2m 55s\n",
      "81:\tlearn: 1.9734918\ttotal: 2m 1s\tremaining: 2m 54s\n",
      "82:\tlearn: 1.9258302\ttotal: 2m 2s\tremaining: 2m 52s\n",
      "83:\tlearn: 1.8832812\ttotal: 2m 3s\tremaining: 2m 51s\n",
      "84:\tlearn: 1.8576702\ttotal: 2m 5s\tremaining: 2m 49s\n",
      "85:\tlearn: 1.7995791\ttotal: 2m 6s\tremaining: 2m 48s\n",
      "86:\tlearn: 1.7489913\ttotal: 2m 8s\tremaining: 2m 46s\n",
      "87:\tlearn: 1.6965257\ttotal: 2m 9s\tremaining: 2m 45s\n",
      "88:\tlearn: 1.6540589\ttotal: 2m 11s\tremaining: 2m 43s\n",
      "89:\tlearn: 1.6129090\ttotal: 2m 12s\tremaining: 2m 42s\n",
      "90:\tlearn: 1.5681264\ttotal: 2m 14s\tremaining: 2m 40s\n",
      "91:\tlearn: 1.5260714\ttotal: 2m 15s\tremaining: 2m 39s\n",
      "92:\tlearn: 1.4848730\ttotal: 2m 16s\tremaining: 2m 37s\n",
      "93:\tlearn: 1.4442381\ttotal: 2m 18s\tremaining: 2m 36s\n",
      "94:\tlearn: 1.4058160\ttotal: 2m 19s\tremaining: 2m 34s\n",
      "95:\tlearn: 1.3571975\ttotal: 2m 21s\tremaining: 2m 33s\n",
      "96:\tlearn: 1.3132718\ttotal: 2m 22s\tremaining: 2m 31s\n",
      "97:\tlearn: 1.2898147\ttotal: 2m 24s\tremaining: 2m 30s\n",
      "98:\tlearn: 1.2535464\ttotal: 2m 26s\tremaining: 2m 29s\n",
      "99:\tlearn: 1.2207932\ttotal: 2m 27s\tremaining: 2m 27s\n",
      "100:\tlearn: 1.1824002\ttotal: 2m 29s\tremaining: 2m 26s\n",
      "101:\tlearn: 1.1512848\ttotal: 2m 31s\tremaining: 2m 25s\n",
      "102:\tlearn: 1.1291194\ttotal: 2m 32s\tremaining: 2m 23s\n",
      "103:\tlearn: 1.0957657\ttotal: 2m 34s\tremaining: 2m 22s\n",
      "104:\tlearn: 1.0649383\ttotal: 2m 35s\tremaining: 2m 21s\n",
      "105:\tlearn: 1.0356635\ttotal: 2m 37s\tremaining: 2m 19s\n",
      "106:\tlearn: 1.0038716\ttotal: 2m 39s\tremaining: 2m 18s\n",
      "107:\tlearn: 0.9809284\ttotal: 2m 40s\tremaining: 2m 17s\n",
      "108:\tlearn: 0.9603268\ttotal: 2m 42s\tremaining: 2m 15s\n",
      "109:\tlearn: 0.9377926\ttotal: 2m 44s\tremaining: 2m 14s\n",
      "110:\tlearn: 0.9049991\ttotal: 2m 45s\tremaining: 2m 12s\n",
      "111:\tlearn: 0.8919093\ttotal: 2m 47s\tremaining: 2m 11s\n",
      "112:\tlearn: 0.8667243\ttotal: 2m 49s\tremaining: 2m 10s\n",
      "113:\tlearn: 0.8398876\ttotal: 2m 50s\tremaining: 2m 8s\n",
      "114:\tlearn: 0.8377852\ttotal: 2m 50s\tremaining: 2m 6s\n",
      "115:\tlearn: 0.8230049\ttotal: 2m 52s\tremaining: 2m 4s\n",
      "116:\tlearn: 0.8033714\ttotal: 2m 54s\tremaining: 2m 3s\n",
      "117:\tlearn: 0.7833961\ttotal: 2m 55s\tremaining: 2m 2s\n",
      "118:\tlearn: 0.7667651\ttotal: 2m 57s\tremaining: 2m\n",
      "119:\tlearn: 0.7517131\ttotal: 2m 58s\tremaining: 1m 59s\n",
      "120:\tlearn: 0.7336261\ttotal: 3m\tremaining: 1m 57s\n",
      "121:\tlearn: 0.7192148\ttotal: 3m 1s\tremaining: 1m 56s\n",
      "122:\tlearn: 0.7047705\ttotal: 3m 2s\tremaining: 1m 54s\n",
      "123:\tlearn: 0.6912735\ttotal: 3m 3s\tremaining: 1m 52s\n",
      "124:\tlearn: 0.6720498\ttotal: 3m 5s\tremaining: 1m 51s\n",
      "125:\tlearn: 0.6529253\ttotal: 3m 7s\tremaining: 1m 49s\n",
      "126:\tlearn: 0.6430620\ttotal: 3m 9s\tremaining: 1m 48s\n",
      "127:\tlearn: 0.6337807\ttotal: 3m 11s\tremaining: 1m 47s\n",
      "128:\tlearn: 0.6220408\ttotal: 3m 13s\tremaining: 1m 46s\n",
      "129:\tlearn: 0.6120827\ttotal: 3m 15s\tremaining: 1m 45s\n",
      "130:\tlearn: 0.5973575\ttotal: 3m 18s\tremaining: 1m 44s\n",
      "131:\tlearn: 0.5836450\ttotal: 3m 19s\tremaining: 1m 43s\n",
      "132:\tlearn: 0.5666135\ttotal: 3m 21s\tremaining: 1m 41s\n",
      "133:\tlearn: 0.5530151\ttotal: 3m 23s\tremaining: 1m 40s\n",
      "134:\tlearn: 0.5386210\ttotal: 3m 25s\tremaining: 1m 38s\n",
      "135:\tlearn: 0.5296778\ttotal: 3m 27s\tremaining: 1m 37s\n",
      "136:\tlearn: 0.5158596\ttotal: 3m 28s\tremaining: 1m 36s\n",
      "137:\tlearn: 0.5061987\ttotal: 3m 30s\tremaining: 1m 34s\n",
      "138:\tlearn: 0.4960525\ttotal: 3m 32s\tremaining: 1m 33s\n",
      "139:\tlearn: 0.4871507\ttotal: 3m 33s\tremaining: 1m 31s\n",
      "140:\tlearn: 0.4747739\ttotal: 3m 35s\tremaining: 1m 30s\n",
      "141:\tlearn: 0.4625372\ttotal: 3m 36s\tremaining: 1m 28s\n",
      "142:\tlearn: 0.4537712\ttotal: 3m 38s\tremaining: 1m 27s\n",
      "143:\tlearn: 0.4444941\ttotal: 3m 39s\tremaining: 1m 25s\n",
      "144:\tlearn: 0.4397974\ttotal: 3m 40s\tremaining: 1m 23s\n",
      "145:\tlearn: 0.4308285\ttotal: 3m 41s\tremaining: 1m 22s\n",
      "146:\tlearn: 0.4179182\ttotal: 3m 43s\tremaining: 1m 20s\n",
      "147:\tlearn: 0.4135521\ttotal: 3m 44s\tremaining: 1m 18s\n",
      "148:\tlearn: 0.4074797\ttotal: 3m 46s\tremaining: 1m 17s\n",
      "149:\tlearn: 0.4020658\ttotal: 3m 47s\tremaining: 1m 15s\n",
      "150:\tlearn: 0.3986541\ttotal: 3m 49s\tremaining: 1m 14s\n",
      "151:\tlearn: 0.3863426\ttotal: 3m 50s\tremaining: 1m 12s\n",
      "152:\tlearn: 0.3749167\ttotal: 3m 52s\tremaining: 1m 11s\n",
      "153:\tlearn: 0.3660275\ttotal: 3m 53s\tremaining: 1m 9s\n",
      "154:\tlearn: 0.3623551\ttotal: 3m 55s\tremaining: 1m 8s\n",
      "155:\tlearn: 0.3549242\ttotal: 3m 56s\tremaining: 1m 6s\n",
      "156:\tlearn: 0.3546453\ttotal: 3m 56s\tremaining: 1m 4s\n",
      "157:\tlearn: 0.3478790\ttotal: 3m 58s\tremaining: 1m 3s\n",
      "158:\tlearn: 0.3401028\ttotal: 3m 59s\tremaining: 1m 1s\n",
      "159:\tlearn: 0.3338703\ttotal: 4m 1s\tremaining: 1m\n",
      "160:\tlearn: 0.3289852\ttotal: 4m 1s\tremaining: 58.5s\n",
      "161:\tlearn: 0.3198205\ttotal: 4m 2s\tremaining: 57s\n",
      "162:\tlearn: 0.3154191\ttotal: 4m 4s\tremaining: 55.5s\n",
      "163:\tlearn: 0.3099724\ttotal: 4m 6s\tremaining: 54s\n",
      "164:\tlearn: 0.3038850\ttotal: 4m 7s\tremaining: 52.5s\n",
      "165:\tlearn: 0.2949772\ttotal: 4m 9s\tremaining: 51s\n",
      "166:\tlearn: 0.2877655\ttotal: 4m 10s\tremaining: 49.6s\n",
      "167:\tlearn: 0.2825825\ttotal: 4m 12s\tremaining: 48s\n",
      "168:\tlearn: 0.2760212\ttotal: 4m 13s\tremaining: 46.6s\n",
      "169:\tlearn: 0.2693026\ttotal: 4m 15s\tremaining: 45.1s\n",
      "170:\tlearn: 0.2618473\ttotal: 4m 17s\tremaining: 43.6s\n",
      "171:\tlearn: 0.2559254\ttotal: 4m 18s\tremaining: 42.1s\n",
      "172:\tlearn: 0.2501416\ttotal: 4m 20s\tremaining: 40.7s\n",
      "173:\tlearn: 0.2430228\ttotal: 4m 22s\tremaining: 39.2s\n",
      "174:\tlearn: 0.2379563\ttotal: 4m 24s\tremaining: 37.7s\n",
      "175:\tlearn: 0.2313707\ttotal: 4m 25s\tremaining: 36.2s\n",
      "176:\tlearn: 0.2285560\ttotal: 4m 27s\tremaining: 34.7s\n",
      "177:\tlearn: 0.2258311\ttotal: 4m 29s\tremaining: 33.3s\n",
      "178:\tlearn: 0.2223077\ttotal: 4m 30s\tremaining: 31.8s\n",
      "179:\tlearn: 0.2160842\ttotal: 4m 32s\tremaining: 30.3s\n",
      "180:\tlearn: 0.2095524\ttotal: 4m 34s\tremaining: 28.8s\n",
      "181:\tlearn: 0.2044997\ttotal: 4m 35s\tremaining: 27.3s\n",
      "182:\tlearn: 0.2006157\ttotal: 4m 37s\tremaining: 25.8s\n",
      "183:\tlearn: 0.1971391\ttotal: 4m 38s\tremaining: 24.2s\n",
      "184:\tlearn: 0.1959477\ttotal: 4m 40s\tremaining: 22.7s\n",
      "185:\tlearn: 0.1912785\ttotal: 4m 41s\tremaining: 21.2s\n",
      "186:\tlearn: 0.1893251\ttotal: 4m 41s\tremaining: 19.6s\n",
      "187:\tlearn: 0.1854936\ttotal: 4m 43s\tremaining: 18.1s\n",
      "188:\tlearn: 0.1841817\ttotal: 4m 44s\tremaining: 16.6s\n",
      "189:\tlearn: 0.1816695\ttotal: 4m 46s\tremaining: 15.1s\n",
      "190:\tlearn: 0.1795820\ttotal: 4m 47s\tremaining: 13.6s\n",
      "191:\tlearn: 0.1739418\ttotal: 4m 49s\tremaining: 12.1s\n",
      "192:\tlearn: 0.1702614\ttotal: 4m 50s\tremaining: 10.5s\n",
      "193:\tlearn: 0.1666312\ttotal: 4m 52s\tremaining: 9.04s\n",
      "194:\tlearn: 0.1630173\ttotal: 4m 53s\tremaining: 7.53s\n",
      "195:\tlearn: 0.1604324\ttotal: 4m 55s\tremaining: 6.02s\n",
      "196:\tlearn: 0.1561987\ttotal: 4m 56s\tremaining: 4.52s\n",
      "197:\tlearn: 0.1532661\ttotal: 4m 58s\tremaining: 3.01s\n",
      "198:\tlearn: 0.1513515\ttotal: 4m 59s\tremaining: 1.5s\n",
      "199:\tlearn: 0.1483513\ttotal: 5m 1s\tremaining: 0us\n",
      "Learning rate set to 0.168805\n",
      "0:\tlearn: 29.7495813\ttotal: 1.76s\tremaining: 5m 50s\n",
      "1:\tlearn: 27.6900914\ttotal: 3.53s\tremaining: 5m 49s\n",
      "2:\tlearn: 26.4128573\ttotal: 5.23s\tremaining: 5m 43s\n",
      "3:\tlearn: 24.9568656\ttotal: 5.5s\tremaining: 4m 29s\n",
      "4:\tlearn: 23.6212565\ttotal: 7.16s\tremaining: 4m 39s\n",
      "5:\tlearn: 22.6512377\ttotal: 8.83s\tremaining: 4m 45s\n",
      "6:\tlearn: 21.7299472\ttotal: 10.5s\tremaining: 4m 49s\n",
      "7:\tlearn: 20.8085377\ttotal: 12.3s\tremaining: 4m 55s\n",
      "8:\tlearn: 19.8578203\ttotal: 14.1s\tremaining: 4m 58s\n",
      "9:\tlearn: 18.9922833\ttotal: 15.9s\tremaining: 5m 2s\n",
      "10:\tlearn: 18.2039524\ttotal: 17.7s\tremaining: 5m 3s\n",
      "11:\tlearn: 17.4543207\ttotal: 19.5s\tremaining: 5m 5s\n",
      "12:\tlearn: 16.7800275\ttotal: 21.2s\tremaining: 5m 5s\n",
      "13:\tlearn: 16.1371820\ttotal: 22.9s\tremaining: 5m 4s\n",
      "14:\tlearn: 15.5499842\ttotal: 24.6s\tremaining: 5m 3s\n",
      "15:\tlearn: 15.0347901\ttotal: 26.3s\tremaining: 5m 2s\n",
      "16:\tlearn: 14.4835728\ttotal: 28s\tremaining: 5m 1s\n",
      "17:\tlearn: 13.9388391\ttotal: 29.7s\tremaining: 5m\n",
      "18:\tlearn: 13.4621307\ttotal: 31.6s\tremaining: 5m 1s\n",
      "19:\tlearn: 13.0648821\ttotal: 33.3s\tremaining: 4m 59s\n",
      "20:\tlearn: 12.6079197\ttotal: 34.9s\tremaining: 4m 57s\n",
      "21:\tlearn: 12.1692234\ttotal: 36.7s\tremaining: 4m 57s\n",
      "22:\tlearn: 11.7886712\ttotal: 38.6s\tremaining: 4m 57s\n",
      "23:\tlearn: 11.4739014\ttotal: 40.3s\tremaining: 4m 55s\n",
      "24:\tlearn: 11.1366206\ttotal: 42.1s\tremaining: 4m 54s\n",
      "25:\tlearn: 10.7517051\ttotal: 43.8s\tremaining: 4m 53s\n",
      "26:\tlearn: 10.4330001\ttotal: 45.7s\tremaining: 4m 52s\n",
      "27:\tlearn: 10.1513709\ttotal: 47.4s\tremaining: 4m 51s\n",
      "28:\tlearn: 9.8328515\ttotal: 49.1s\tremaining: 4m 49s\n",
      "29:\tlearn: 9.5322006\ttotal: 50.8s\tremaining: 4m 47s\n",
      "30:\tlearn: 9.2219660\ttotal: 52.5s\tremaining: 4m 46s\n",
      "31:\tlearn: 8.9534090\ttotal: 54.3s\tremaining: 4m 45s\n",
      "32:\tlearn: 8.6658728\ttotal: 56.1s\tremaining: 4m 44s\n",
      "33:\tlearn: 8.3798785\ttotal: 57.9s\tremaining: 4m 42s\n",
      "34:\tlearn: 8.1317820\ttotal: 59.6s\tremaining: 4m 41s\n",
      "35:\tlearn: 7.9068768\ttotal: 1m 1s\tremaining: 4m 40s\n",
      "36:\tlearn: 7.6833969\ttotal: 1m 3s\tremaining: 4m 39s\n",
      "37:\tlearn: 7.4898564\ttotal: 1m 5s\tremaining: 4m 37s\n",
      "38:\tlearn: 7.2966149\ttotal: 1m 6s\tremaining: 4m 36s\n",
      "39:\tlearn: 7.0613820\ttotal: 1m 8s\tremaining: 4m 35s\n",
      "40:\tlearn: 6.8454076\ttotal: 1m 10s\tremaining: 4m 34s\n",
      "41:\tlearn: 6.6507631\ttotal: 1m 12s\tremaining: 4m 32s\n",
      "42:\tlearn: 6.4887004\ttotal: 1m 14s\tremaining: 4m 30s\n",
      "43:\tlearn: 6.3387326\ttotal: 1m 15s\tremaining: 4m 28s\n",
      "44:\tlearn: 6.1951306\ttotal: 1m 17s\tremaining: 4m 27s\n",
      "45:\tlearn: 5.9938624\ttotal: 1m 19s\tremaining: 4m 25s\n",
      "46:\tlearn: 5.8337166\ttotal: 1m 21s\tremaining: 4m 24s\n",
      "47:\tlearn: 5.7157846\ttotal: 1m 23s\tremaining: 4m 22s\n",
      "48:\tlearn: 5.5260357\ttotal: 1m 24s\tremaining: 4m 21s\n",
      "49:\tlearn: 5.4150258\ttotal: 1m 26s\tremaining: 4m 19s\n",
      "50:\tlearn: 5.2920279\ttotal: 1m 28s\tremaining: 4m 17s\n",
      "51:\tlearn: 5.1250763\ttotal: 1m 29s\tremaining: 4m 15s\n",
      "52:\tlearn: 4.9844174\ttotal: 1m 31s\tremaining: 4m 14s\n",
      "53:\tlearn: 4.8803645\ttotal: 1m 33s\tremaining: 4m 12s\n",
      "54:\tlearn: 4.7226849\ttotal: 1m 35s\tremaining: 4m 10s\n",
      "55:\tlearn: 4.5855368\ttotal: 1m 36s\tremaining: 4m 8s\n",
      "56:\tlearn: 4.4762339\ttotal: 1m 38s\tremaining: 4m 6s\n",
      "57:\tlearn: 4.3504462\ttotal: 1m 40s\tremaining: 4m 5s\n",
      "58:\tlearn: 4.2508124\ttotal: 1m 42s\tremaining: 4m 3s\n",
      "59:\tlearn: 4.1334735\ttotal: 1m 43s\tremaining: 4m 2s\n",
      "60:\tlearn: 3.9970606\ttotal: 1m 45s\tremaining: 4m\n",
      "61:\tlearn: 3.9214130\ttotal: 1m 47s\tremaining: 3m 58s\n",
      "62:\tlearn: 3.8509399\ttotal: 1m 49s\tremaining: 3m 57s\n",
      "63:\tlearn: 3.7959007\ttotal: 1m 50s\tremaining: 3m 55s\n",
      "64:\tlearn: 3.6671470\ttotal: 1m 52s\tremaining: 3m 53s\n",
      "65:\tlearn: 3.5678453\ttotal: 1m 54s\tremaining: 3m 52s\n",
      "66:\tlearn: 3.4759803\ttotal: 1m 56s\tremaining: 3m 50s\n",
      "67:\tlearn: 3.3956968\ttotal: 1m 57s\tremaining: 3m 48s\n",
      "68:\tlearn: 3.3096780\ttotal: 1m 59s\tremaining: 3m 47s\n",
      "69:\tlearn: 3.2138169\ttotal: 2m 1s\tremaining: 3m 45s\n",
      "70:\tlearn: 3.1619934\ttotal: 2m 3s\tremaining: 3m 44s\n",
      "71:\tlearn: 3.0878302\ttotal: 2m 4s\tremaining: 3m 42s\n",
      "72:\tlearn: 3.0220397\ttotal: 2m 6s\tremaining: 3m 40s\n",
      "73:\tlearn: 2.9455606\ttotal: 2m 8s\tremaining: 3m 38s\n",
      "74:\tlearn: 2.8893129\ttotal: 2m 10s\tremaining: 3m 37s\n",
      "75:\tlearn: 2.8381266\ttotal: 2m 12s\tremaining: 3m 35s\n",
      "76:\tlearn: 2.7842354\ttotal: 2m 13s\tremaining: 3m 33s\n",
      "77:\tlearn: 2.7364118\ttotal: 2m 15s\tremaining: 3m 32s\n",
      "78:\tlearn: 2.7040510\ttotal: 2m 17s\tremaining: 3m 30s\n",
      "79:\tlearn: 2.6234254\ttotal: 2m 19s\tremaining: 3m 29s\n",
      "80:\tlearn: 2.5507943\ttotal: 2m 21s\tremaining: 3m 27s\n",
      "81:\tlearn: 2.5011004\ttotal: 2m 23s\tremaining: 3m 25s\n",
      "82:\tlearn: 2.4271684\ttotal: 2m 24s\tremaining: 3m 24s\n",
      "83:\tlearn: 2.3790445\ttotal: 2m 26s\tremaining: 3m 22s\n",
      "84:\tlearn: 2.3694678\ttotal: 2m 28s\tremaining: 3m 20s\n",
      "85:\tlearn: 2.3238307\ttotal: 2m 30s\tremaining: 3m 19s\n",
      "86:\tlearn: 2.2765572\ttotal: 2m 32s\tremaining: 3m 17s\n",
      "87:\tlearn: 2.2697753\ttotal: 2m 32s\tremaining: 3m 14s\n",
      "88:\tlearn: 2.2246542\ttotal: 2m 34s\tremaining: 3m 12s\n",
      "89:\tlearn: 2.1497375\ttotal: 2m 36s\tremaining: 3m 10s\n",
      "90:\tlearn: 2.1427878\ttotal: 2m 37s\tremaining: 3m 9s\n",
      "91:\tlearn: 2.1110389\ttotal: 2m 39s\tremaining: 3m 7s\n",
      "92:\tlearn: 2.0811443\ttotal: 2m 41s\tremaining: 3m 5s\n",
      "93:\tlearn: 2.0481612\ttotal: 2m 43s\tremaining: 3m 4s\n",
      "94:\tlearn: 1.9853936\ttotal: 2m 45s\tremaining: 3m 2s\n",
      "95:\tlearn: 1.9755006\ttotal: 2m 46s\tremaining: 3m\n",
      "96:\tlearn: 1.9307312\ttotal: 2m 48s\tremaining: 2m 58s\n",
      "97:\tlearn: 1.9052939\ttotal: 2m 50s\tremaining: 2m 57s\n",
      "98:\tlearn: 1.8766338\ttotal: 2m 52s\tremaining: 2m 55s\n",
      "99:\tlearn: 1.8337896\ttotal: 2m 53s\tremaining: 2m 53s\n",
      "100:\tlearn: 1.8117593\ttotal: 2m 55s\tremaining: 2m 52s\n",
      "101:\tlearn: 1.7880027\ttotal: 2m 57s\tremaining: 2m 50s\n",
      "102:\tlearn: 1.7720550\ttotal: 2m 59s\tremaining: 2m 48s\n",
      "103:\tlearn: 1.7467087\ttotal: 3m 1s\tremaining: 2m 47s\n",
      "104:\tlearn: 1.7199412\ttotal: 3m 2s\tremaining: 2m 45s\n",
      "105:\tlearn: 1.7147291\ttotal: 3m 4s\tremaining: 2m 43s\n",
      "106:\tlearn: 1.6833544\ttotal: 3m 6s\tremaining: 2m 41s\n",
      "107:\tlearn: 1.6324761\ttotal: 3m 8s\tremaining: 2m 40s\n",
      "108:\tlearn: 1.6094480\ttotal: 3m 9s\tremaining: 2m 38s\n",
      "109:\tlearn: 1.5674712\ttotal: 3m 11s\tremaining: 2m 37s\n",
      "110:\tlearn: 1.5332804\ttotal: 3m 13s\tremaining: 2m 35s\n",
      "111:\tlearn: 1.4861861\ttotal: 3m 15s\tremaining: 2m 33s\n",
      "112:\tlearn: 1.4667022\ttotal: 3m 17s\tremaining: 2m 31s\n",
      "113:\tlearn: 1.4524977\ttotal: 3m 17s\tremaining: 2m 29s\n",
      "114:\tlearn: 1.4227339\ttotal: 3m 19s\tremaining: 2m 27s\n",
      "115:\tlearn: 1.4041853\ttotal: 3m 21s\tremaining: 2m 25s\n",
      "116:\tlearn: 1.3711531\ttotal: 3m 22s\tremaining: 2m 23s\n",
      "117:\tlearn: 1.3250850\ttotal: 3m 24s\tremaining: 2m 22s\n",
      "118:\tlearn: 1.3041188\ttotal: 3m 26s\tremaining: 2m 20s\n",
      "119:\tlearn: 1.2802910\ttotal: 3m 27s\tremaining: 2m 18s\n",
      "120:\tlearn: 1.2710597\ttotal: 3m 28s\tremaining: 2m 15s\n",
      "121:\tlearn: 1.2462743\ttotal: 3m 29s\tremaining: 2m 14s\n",
      "122:\tlearn: 1.2300446\ttotal: 3m 31s\tremaining: 2m 12s\n",
      "123:\tlearn: 1.2059318\ttotal: 3m 33s\tremaining: 2m 10s\n",
      "124:\tlearn: 1.1848536\ttotal: 3m 34s\tremaining: 2m 8s\n",
      "125:\tlearn: 1.1600139\ttotal: 3m 36s\tremaining: 2m 6s\n",
      "126:\tlearn: 1.1445497\ttotal: 3m 37s\tremaining: 2m 5s\n",
      "127:\tlearn: 1.1201490\ttotal: 3m 39s\tremaining: 2m 3s\n",
      "128:\tlearn: 1.1107333\ttotal: 3m 41s\tremaining: 2m 1s\n",
      "129:\tlearn: 1.0791267\ttotal: 3m 42s\tremaining: 2m\n",
      "130:\tlearn: 1.0597275\ttotal: 3m 44s\tremaining: 1m 58s\n",
      "131:\tlearn: 1.0535273\ttotal: 3m 44s\tremaining: 1m 55s\n",
      "132:\tlearn: 1.0368518\ttotal: 3m 46s\tremaining: 1m 53s\n",
      "133:\tlearn: 1.0196614\ttotal: 3m 47s\tremaining: 1m 52s\n",
      "134:\tlearn: 0.9999660\ttotal: 3m 49s\tremaining: 1m 50s\n",
      "135:\tlearn: 0.9781318\ttotal: 3m 51s\tremaining: 1m 48s\n",
      "136:\tlearn: 0.9657576\ttotal: 3m 52s\tremaining: 1m 47s\n",
      "137:\tlearn: 0.9480307\ttotal: 3m 54s\tremaining: 1m 45s\n",
      "138:\tlearn: 0.9216871\ttotal: 3m 55s\tremaining: 1m 43s\n",
      "139:\tlearn: 0.9009043\ttotal: 3m 57s\tremaining: 1m 41s\n",
      "140:\tlearn: 0.8876001\ttotal: 3m 59s\tremaining: 1m 40s\n",
      "141:\tlearn: 0.8798591\ttotal: 3m 59s\tremaining: 1m 37s\n",
      "142:\tlearn: 0.8634124\ttotal: 4m 1s\tremaining: 1m 36s\n",
      "143:\tlearn: 0.8461120\ttotal: 4m 2s\tremaining: 1m 34s\n",
      "144:\tlearn: 0.8203766\ttotal: 4m 4s\tremaining: 1m 32s\n",
      "145:\tlearn: 0.8037453\ttotal: 4m 6s\tremaining: 1m 31s\n",
      "146:\tlearn: 0.7835240\ttotal: 4m 7s\tremaining: 1m 29s\n",
      "147:\tlearn: 0.7708571\ttotal: 4m 9s\tremaining: 1m 27s\n",
      "148:\tlearn: 0.7523685\ttotal: 4m 11s\tremaining: 1m 25s\n",
      "149:\tlearn: 0.7296184\ttotal: 4m 12s\tremaining: 1m 24s\n",
      "150:\tlearn: 0.7195573\ttotal: 4m 14s\tremaining: 1m 22s\n",
      "151:\tlearn: 0.7037137\ttotal: 4m 15s\tremaining: 1m 20s\n",
      "152:\tlearn: 0.6894953\ttotal: 4m 17s\tremaining: 1m 19s\n",
      "153:\tlearn: 0.6767893\ttotal: 4m 19s\tremaining: 1m 17s\n",
      "154:\tlearn: 0.6565162\ttotal: 4m 21s\tremaining: 1m 15s\n",
      "155:\tlearn: 0.6478891\ttotal: 4m 23s\tremaining: 1m 14s\n",
      "156:\tlearn: 0.6379697\ttotal: 4m 24s\tremaining: 1m 12s\n",
      "157:\tlearn: 0.6187979\ttotal: 4m 26s\tremaining: 1m 10s\n",
      "158:\tlearn: 0.6111443\ttotal: 4m 28s\tremaining: 1m 9s\n",
      "159:\tlearn: 0.6049643\ttotal: 4m 29s\tremaining: 1m 7s\n",
      "160:\tlearn: 0.5945444\ttotal: 4m 31s\tremaining: 1m 5s\n",
      "161:\tlearn: 0.5882104\ttotal: 4m 33s\tremaining: 1m 4s\n",
      "162:\tlearn: 0.5694510\ttotal: 4m 34s\tremaining: 1m 2s\n",
      "163:\tlearn: 0.5611875\ttotal: 4m 36s\tremaining: 1m\n",
      "164:\tlearn: 0.5567877\ttotal: 4m 38s\tremaining: 59.1s\n",
      "165:\tlearn: 0.5445884\ttotal: 4m 40s\tremaining: 57.4s\n",
      "166:\tlearn: 0.5363455\ttotal: 4m 42s\tremaining: 55.7s\n",
      "167:\tlearn: 0.5214707\ttotal: 4m 43s\tremaining: 54.1s\n",
      "168:\tlearn: 0.5121347\ttotal: 4m 45s\tremaining: 52.4s\n",
      "169:\tlearn: 0.5022917\ttotal: 4m 47s\tremaining: 50.7s\n",
      "170:\tlearn: 0.4906220\ttotal: 4m 48s\tremaining: 49s\n",
      "171:\tlearn: 0.4885161\ttotal: 4m 49s\tremaining: 47.1s\n",
      "172:\tlearn: 0.4790775\ttotal: 4m 50s\tremaining: 45.4s\n",
      "173:\tlearn: 0.4699235\ttotal: 4m 52s\tremaining: 43.7s\n",
      "174:\tlearn: 0.4621805\ttotal: 4m 54s\tremaining: 42.1s\n",
      "175:\tlearn: 0.4534294\ttotal: 4m 56s\tremaining: 40.4s\n",
      "176:\tlearn: 0.4472387\ttotal: 4m 57s\tremaining: 38.7s\n",
      "177:\tlearn: 0.4407167\ttotal: 4m 59s\tremaining: 37s\n",
      "178:\tlearn: 0.4303379\ttotal: 5m 1s\tremaining: 35.3s\n",
      "179:\tlearn: 0.4223333\ttotal: 5m 2s\tremaining: 33.7s\n",
      "180:\tlearn: 0.4183212\ttotal: 5m 4s\tremaining: 32s\n",
      "181:\tlearn: 0.4047132\ttotal: 5m 6s\tremaining: 30.3s\n",
      "182:\tlearn: 0.3968681\ttotal: 5m 7s\tremaining: 28.6s\n",
      "183:\tlearn: 0.3939031\ttotal: 5m 9s\tremaining: 26.9s\n",
      "184:\tlearn: 0.3886338\ttotal: 5m 11s\tremaining: 25.2s\n",
      "185:\tlearn: 0.3819143\ttotal: 5m 12s\tremaining: 23.5s\n",
      "186:\tlearn: 0.3725200\ttotal: 5m 14s\tremaining: 21.9s\n",
      "187:\tlearn: 0.3633193\ttotal: 5m 16s\tremaining: 20.2s\n",
      "188:\tlearn: 0.3575961\ttotal: 5m 17s\tremaining: 18.5s\n",
      "189:\tlearn: 0.3496944\ttotal: 5m 19s\tremaining: 16.8s\n",
      "190:\tlearn: 0.3396758\ttotal: 5m 21s\tremaining: 15.1s\n",
      "191:\tlearn: 0.3394730\ttotal: 5m 21s\tremaining: 13.4s\n",
      "192:\tlearn: 0.3352544\ttotal: 5m 22s\tremaining: 11.7s\n",
      "193:\tlearn: 0.3337070\ttotal: 5m 23s\tremaining: 9.99s\n",
      "194:\tlearn: 0.3309878\ttotal: 5m 24s\tremaining: 8.33s\n",
      "195:\tlearn: 0.3240775\ttotal: 5m 26s\tremaining: 6.66s\n",
      "196:\tlearn: 0.3142238\ttotal: 5m 28s\tremaining: 5s\n",
      "197:\tlearn: 0.3138750\ttotal: 5m 28s\tremaining: 3.31s\n",
      "198:\tlearn: 0.3096074\ttotal: 5m 29s\tremaining: 1.66s\n",
      "199:\tlearn: 0.3054936\ttotal: 5m 31s\tremaining: 0us\n",
      "Learning rate set to 0.179973\n",
      "0:\tlearn: 31.4794920\ttotal: 1.8s\tremaining: 5m 59s\n",
      "1:\tlearn: 29.0741004\ttotal: 3.64s\tremaining: 6m\n",
      "2:\tlearn: 27.5289574\ttotal: 5.41s\tremaining: 5m 55s\n",
      "3:\tlearn: 25.9700408\ttotal: 7.23s\tremaining: 5m 54s\n",
      "4:\tlearn: 24.4997245\ttotal: 9.12s\tremaining: 5m 55s\n",
      "5:\tlearn: 23.2327858\ttotal: 10.9s\tremaining: 5m 52s\n",
      "6:\tlearn: 22.0679300\ttotal: 12.7s\tremaining: 5m 49s\n",
      "7:\tlearn: 21.0607076\ttotal: 14.4s\tremaining: 5m 46s\n",
      "8:\tlearn: 20.2319244\ttotal: 16.2s\tremaining: 5m 44s\n",
      "9:\tlearn: 19.4209672\ttotal: 18s\tremaining: 5m 42s\n",
      "10:\tlearn: 18.6933152\ttotal: 19.8s\tremaining: 5m 40s\n",
      "11:\tlearn: 17.9022793\ttotal: 21.6s\tremaining: 5m 38s\n",
      "12:\tlearn: 17.2535039\ttotal: 23.4s\tremaining: 5m 36s\n",
      "13:\tlearn: 16.5672737\ttotal: 25.2s\tremaining: 5m 34s\n",
      "14:\tlearn: 16.0317517\ttotal: 27s\tremaining: 5m 32s\n",
      "15:\tlearn: 15.5204681\ttotal: 28.8s\tremaining: 5m 30s\n",
      "16:\tlearn: 15.0509179\ttotal: 30.5s\tremaining: 5m 28s\n",
      "17:\tlearn: 14.5894333\ttotal: 32.3s\tremaining: 5m 26s\n",
      "18:\tlearn: 14.1858174\ttotal: 34s\tremaining: 5m 24s\n",
      "19:\tlearn: 13.6960678\ttotal: 35.8s\tremaining: 5m 22s\n",
      "20:\tlearn: 13.2732743\ttotal: 37.7s\tremaining: 5m 21s\n",
      "21:\tlearn: 12.9303574\ttotal: 39.5s\tremaining: 5m 19s\n",
      "22:\tlearn: 12.5737918\ttotal: 41.2s\tremaining: 5m 17s\n",
      "23:\tlearn: 12.2890882\ttotal: 43s\tremaining: 5m 15s\n",
      "24:\tlearn: 11.9412951\ttotal: 44.7s\tremaining: 5m 13s\n",
      "25:\tlearn: 11.5639441\ttotal: 46.6s\tremaining: 5m 11s\n",
      "26:\tlearn: 11.3424067\ttotal: 48.6s\tremaining: 5m 11s\n",
      "27:\tlearn: 11.0033092\ttotal: 50.3s\tremaining: 5m 8s\n",
      "28:\tlearn: 10.6568804\ttotal: 52.1s\tremaining: 5m 7s\n",
      "29:\tlearn: 10.3558614\ttotal: 53.8s\tremaining: 5m 4s\n",
      "30:\tlearn: 10.1355326\ttotal: 55.5s\tremaining: 5m 2s\n",
      "31:\tlearn: 9.9273321\ttotal: 57.3s\tremaining: 5m\n",
      "32:\tlearn: 9.6442139\ttotal: 59.1s\tremaining: 4m 59s\n",
      "33:\tlearn: 9.4937448\ttotal: 1m\tremaining: 4m 57s\n",
      "34:\tlearn: 9.2985304\ttotal: 1m 2s\tremaining: 4m 55s\n",
      "35:\tlearn: 9.0807851\ttotal: 1m 4s\tremaining: 4m 53s\n",
      "36:\tlearn: 8.8766739\ttotal: 1m 6s\tremaining: 4m 52s\n",
      "37:\tlearn: 8.6655215\ttotal: 1m 8s\tremaining: 4m 50s\n",
      "38:\tlearn: 8.4579754\ttotal: 1m 10s\tremaining: 4m 49s\n",
      "39:\tlearn: 8.3242132\ttotal: 1m 12s\tremaining: 4m 48s\n",
      "40:\tlearn: 8.0905967\ttotal: 1m 13s\tremaining: 4m 46s\n",
      "41:\tlearn: 7.9191837\ttotal: 1m 15s\tremaining: 4m 45s\n",
      "42:\tlearn: 7.7294353\ttotal: 1m 17s\tremaining: 4m 43s\n",
      "43:\tlearn: 7.6145289\ttotal: 1m 19s\tremaining: 4m 42s\n",
      "44:\tlearn: 7.5012975\ttotal: 1m 21s\tremaining: 4m 40s\n",
      "45:\tlearn: 7.3570194\ttotal: 1m 23s\tremaining: 4m 38s\n",
      "46:\tlearn: 7.1460772\ttotal: 1m 24s\tremaining: 4m 36s\n",
      "47:\tlearn: 6.9740633\ttotal: 1m 26s\tremaining: 4m 34s\n",
      "48:\tlearn: 6.9616301\ttotal: 1m 28s\tremaining: 4m 32s\n",
      "49:\tlearn: 6.8673276\ttotal: 1m 30s\tremaining: 4m 30s\n",
      "50:\tlearn: 6.6856693\ttotal: 1m 31s\tremaining: 4m 28s\n",
      "51:\tlearn: 6.5839110\ttotal: 1m 33s\tremaining: 4m 26s\n",
      "52:\tlearn: 6.4651159\ttotal: 1m 35s\tremaining: 4m 24s\n",
      "53:\tlearn: 6.3324969\ttotal: 1m 37s\tremaining: 4m 22s\n",
      "54:\tlearn: 6.1447050\ttotal: 1m 39s\tremaining: 4m 21s\n",
      "55:\tlearn: 6.0257610\ttotal: 1m 40s\tremaining: 4m 18s\n",
      "56:\tlearn: 5.8407786\ttotal: 1m 42s\tremaining: 4m 16s\n",
      "57:\tlearn: 5.7203043\ttotal: 1m 44s\tremaining: 4m 14s\n",
      "58:\tlearn: 5.5932686\ttotal: 1m 45s\tremaining: 4m 13s\n",
      "59:\tlearn: 5.5099804\ttotal: 1m 47s\tremaining: 4m 11s\n",
      "60:\tlearn: 5.4723461\ttotal: 1m 49s\tremaining: 4m 9s\n",
      "61:\tlearn: 5.3671063\ttotal: 1m 51s\tremaining: 4m 7s\n",
      "62:\tlearn: 5.2103886\ttotal: 1m 52s\tremaining: 4m 5s\n",
      "63:\tlearn: 5.1051017\ttotal: 1m 54s\tremaining: 4m 3s\n",
      "64:\tlearn: 4.9657189\ttotal: 1m 56s\tremaining: 4m 1s\n",
      "65:\tlearn: 4.8467533\ttotal: 1m 58s\tremaining: 4m\n",
      "66:\tlearn: 4.7565186\ttotal: 2m\tremaining: 3m 58s\n",
      "67:\tlearn: 4.6842277\ttotal: 2m 1s\tremaining: 3m 56s\n",
      "68:\tlearn: 4.6210430\ttotal: 2m 3s\tremaining: 3m 54s\n",
      "69:\tlearn: 4.5134664\ttotal: 2m 5s\tremaining: 3m 52s\n",
      "70:\tlearn: 4.4279402\ttotal: 2m 6s\tremaining: 3m 50s\n",
      "71:\tlearn: 4.3574526\ttotal: 2m 8s\tremaining: 3m 49s\n",
      "72:\tlearn: 4.2351939\ttotal: 2m 10s\tremaining: 3m 47s\n",
      "73:\tlearn: 4.1374199\ttotal: 2m 12s\tremaining: 3m 45s\n",
      "74:\tlearn: 4.0423718\ttotal: 2m 14s\tremaining: 3m 43s\n",
      "75:\tlearn: 4.0326520\ttotal: 2m 14s\tremaining: 3m 39s\n",
      "76:\tlearn: 3.9327827\ttotal: 2m 16s\tremaining: 3m 37s\n",
      "77:\tlearn: 3.8585395\ttotal: 2m 17s\tremaining: 3m 35s\n",
      "78:\tlearn: 3.8496647\ttotal: 2m 19s\tremaining: 3m 34s\n",
      "79:\tlearn: 3.7736188\ttotal: 2m 21s\tremaining: 3m 32s\n",
      "80:\tlearn: 3.6687268\ttotal: 2m 23s\tremaining: 3m 30s\n",
      "81:\tlearn: 3.6133809\ttotal: 2m 25s\tremaining: 3m 28s\n",
      "82:\tlearn: 3.5532521\ttotal: 2m 26s\tremaining: 3m 26s\n",
      "83:\tlearn: 3.4455840\ttotal: 2m 28s\tremaining: 3m 25s\n",
      "84:\tlearn: 3.4054320\ttotal: 2m 30s\tremaining: 3m 23s\n",
      "85:\tlearn: 3.3453838\ttotal: 2m 32s\tremaining: 3m 22s\n",
      "86:\tlearn: 3.2801670\ttotal: 2m 34s\tremaining: 3m 20s\n",
      "87:\tlearn: 3.2256244\ttotal: 2m 36s\tremaining: 3m 18s\n",
      "88:\tlearn: 3.1778114\ttotal: 2m 37s\tremaining: 3m 16s\n",
      "89:\tlearn: 3.1079433\ttotal: 2m 39s\tremaining: 3m 15s\n",
      "90:\tlearn: 3.0386701\ttotal: 2m 41s\tremaining: 3m 13s\n",
      "91:\tlearn: 2.9703149\ttotal: 2m 43s\tremaining: 3m 11s\n",
      "92:\tlearn: 2.9191317\ttotal: 2m 45s\tremaining: 3m 9s\n",
      "93:\tlearn: 2.8927949\ttotal: 2m 46s\tremaining: 3m 8s\n",
      "94:\tlearn: 2.8073586\ttotal: 2m 48s\tremaining: 3m 6s\n",
      "95:\tlearn: 2.7726235\ttotal: 2m 50s\tremaining: 3m 4s\n",
      "96:\tlearn: 2.6902975\ttotal: 2m 52s\tremaining: 3m 3s\n",
      "97:\tlearn: 2.6526631\ttotal: 2m 54s\tremaining: 3m 1s\n",
      "98:\tlearn: 2.5953158\ttotal: 2m 56s\tremaining: 2m 59s\n",
      "99:\tlearn: 2.5678155\ttotal: 2m 57s\tremaining: 2m 57s\n",
      "100:\tlearn: 2.5195700\ttotal: 2m 59s\tremaining: 2m 56s\n",
      "101:\tlearn: 2.4955993\ttotal: 3m 1s\tremaining: 2m 54s\n",
      "102:\tlearn: 2.4426363\ttotal: 3m 3s\tremaining: 2m 52s\n",
      "103:\tlearn: 2.3695680\ttotal: 3m 4s\tremaining: 2m 50s\n",
      "104:\tlearn: 2.3394768\ttotal: 3m 6s\tremaining: 2m 48s\n",
      "105:\tlearn: 2.3134407\ttotal: 3m 8s\tremaining: 2m 47s\n",
      "106:\tlearn: 2.2520473\ttotal: 3m 10s\tremaining: 2m 45s\n",
      "107:\tlearn: 2.2241345\ttotal: 3m 12s\tremaining: 2m 43s\n",
      "108:\tlearn: 2.2057079\ttotal: 3m 14s\tremaining: 2m 42s\n",
      "109:\tlearn: 2.1989543\ttotal: 3m 16s\tremaining: 2m 40s\n",
      "110:\tlearn: 2.1642137\ttotal: 3m 17s\tremaining: 2m 38s\n",
      "111:\tlearn: 2.1086145\ttotal: 3m 19s\tremaining: 2m 36s\n",
      "112:\tlearn: 2.0686989\ttotal: 3m 21s\tremaining: 2m 35s\n",
      "113:\tlearn: 2.0626996\ttotal: 3m 23s\tremaining: 2m 33s\n",
      "114:\tlearn: 2.0283781\ttotal: 3m 24s\tremaining: 2m 31s\n",
      "115:\tlearn: 1.9937731\ttotal: 3m 26s\tremaining: 2m 29s\n",
      "116:\tlearn: 1.9439705\ttotal: 3m 28s\tremaining: 2m 27s\n",
      "117:\tlearn: 1.9096972\ttotal: 3m 30s\tremaining: 2m 26s\n",
      "118:\tlearn: 1.8636712\ttotal: 3m 32s\tremaining: 2m 24s\n",
      "119:\tlearn: 1.8401186\ttotal: 3m 33s\tremaining: 2m 22s\n",
      "120:\tlearn: 1.7923153\ttotal: 3m 35s\tremaining: 2m 20s\n",
      "121:\tlearn: 1.7573461\ttotal: 3m 37s\tremaining: 2m 19s\n",
      "122:\tlearn: 1.7329835\ttotal: 3m 39s\tremaining: 2m 17s\n",
      "123:\tlearn: 1.7091791\ttotal: 3m 41s\tremaining: 2m 15s\n",
      "124:\tlearn: 1.6611663\ttotal: 3m 42s\tremaining: 2m 13s\n",
      "125:\tlearn: 1.6184945\ttotal: 3m 44s\tremaining: 2m 11s\n",
      "126:\tlearn: 1.5694703\ttotal: 3m 46s\tremaining: 2m 10s\n",
      "127:\tlearn: 1.5391185\ttotal: 3m 48s\tremaining: 2m 8s\n",
      "128:\tlearn: 1.5113850\ttotal: 3m 49s\tremaining: 2m 6s\n",
      "129:\tlearn: 1.4786632\ttotal: 3m 51s\tremaining: 2m 4s\n",
      "130:\tlearn: 1.4359542\ttotal: 3m 53s\tremaining: 2m 3s\n",
      "131:\tlearn: 1.4215557\ttotal: 3m 55s\tremaining: 2m 1s\n",
      "132:\tlearn: 1.4158017\ttotal: 3m 57s\tremaining: 1m 59s\n",
      "133:\tlearn: 1.3765817\ttotal: 3m 59s\tremaining: 1m 57s\n",
      "134:\tlearn: 1.3484116\ttotal: 4m 1s\tremaining: 1m 56s\n",
      "135:\tlearn: 1.3300054\ttotal: 4m 2s\tremaining: 1m 54s\n",
      "136:\tlearn: 1.3127377\ttotal: 4m 4s\tremaining: 1m 52s\n",
      "137:\tlearn: 1.2810977\ttotal: 4m 6s\tremaining: 1m 50s\n",
      "138:\tlearn: 1.2523901\ttotal: 4m 8s\tremaining: 1m 49s\n",
      "139:\tlearn: 1.2298809\ttotal: 4m 10s\tremaining: 1m 47s\n",
      "140:\tlearn: 1.2096739\ttotal: 4m 12s\tremaining: 1m 45s\n",
      "141:\tlearn: 1.1748526\ttotal: 4m 14s\tremaining: 1m 43s\n",
      "142:\tlearn: 1.1597906\ttotal: 4m 16s\tremaining: 1m 42s\n",
      "143:\tlearn: 1.1319359\ttotal: 4m 18s\tremaining: 1m 40s\n",
      "144:\tlearn: 1.1210459\ttotal: 4m 20s\tremaining: 1m 38s\n",
      "145:\tlearn: 1.1010249\ttotal: 4m 22s\tremaining: 1m 36s\n",
      "146:\tlearn: 1.0898231\ttotal: 4m 24s\tremaining: 1m 35s\n",
      "147:\tlearn: 1.0717491\ttotal: 4m 25s\tremaining: 1m 33s\n",
      "148:\tlearn: 1.0429324\ttotal: 4m 27s\tremaining: 1m 31s\n",
      "149:\tlearn: 1.0323055\ttotal: 4m 29s\tremaining: 1m 29s\n",
      "150:\tlearn: 1.0115415\ttotal: 4m 31s\tremaining: 1m 28s\n",
      "151:\tlearn: 1.0006195\ttotal: 4m 33s\tremaining: 1m 26s\n",
      "152:\tlearn: 0.9732707\ttotal: 4m 35s\tremaining: 1m 24s\n",
      "153:\tlearn: 0.9557663\ttotal: 4m 37s\tremaining: 1m 22s\n",
      "154:\tlearn: 0.9473539\ttotal: 4m 38s\tremaining: 1m 20s\n",
      "155:\tlearn: 0.9198583\ttotal: 4m 40s\tremaining: 1m 19s\n",
      "156:\tlearn: 0.9017765\ttotal: 4m 42s\tremaining: 1m 17s\n",
      "157:\tlearn: 0.8888552\ttotal: 4m 44s\tremaining: 1m 15s\n",
      "158:\tlearn: 0.8634059\ttotal: 4m 46s\tremaining: 1m 13s\n",
      "159:\tlearn: 0.8448590\ttotal: 4m 48s\tremaining: 1m 12s\n",
      "160:\tlearn: 0.8318737\ttotal: 4m 50s\tremaining: 1m 10s\n",
      "161:\tlearn: 0.8209836\ttotal: 4m 52s\tremaining: 1m 8s\n",
      "162:\tlearn: 0.8130495\ttotal: 4m 54s\tremaining: 1m 6s\n",
      "163:\tlearn: 0.7984186\ttotal: 4m 55s\tremaining: 1m 4s\n",
      "164:\tlearn: 0.7801543\ttotal: 4m 57s\tremaining: 1m 3s\n",
      "165:\tlearn: 0.7709279\ttotal: 4m 59s\tremaining: 1m 1s\n",
      "166:\tlearn: 0.7486471\ttotal: 5m 1s\tremaining: 59.6s\n",
      "167:\tlearn: 0.7432924\ttotal: 5m 3s\tremaining: 57.8s\n",
      "168:\tlearn: 0.7357199\ttotal: 5m 5s\tremaining: 56s\n",
      "169:\tlearn: 0.7226898\ttotal: 5m 7s\tremaining: 54.2s\n",
      "170:\tlearn: 0.7209219\ttotal: 5m 9s\tremaining: 52.4s\n",
      "171:\tlearn: 0.7037010\ttotal: 5m 11s\tremaining: 50.6s\n",
      "172:\tlearn: 0.6933562\ttotal: 5m 12s\tremaining: 48.8s\n",
      "173:\tlearn: 0.6806703\ttotal: 5m 14s\tremaining: 47s\n",
      "174:\tlearn: 0.6713212\ttotal: 5m 16s\tremaining: 45.2s\n",
      "175:\tlearn: 0.6710482\ttotal: 5m 16s\tremaining: 43.2s\n",
      "176:\tlearn: 0.6623513\ttotal: 5m 18s\tremaining: 41.4s\n",
      "177:\tlearn: 0.6615600\ttotal: 5m 18s\tremaining: 39.4s\n",
      "178:\tlearn: 0.6601451\ttotal: 5m 20s\tremaining: 37.6s\n",
      "179:\tlearn: 0.6590140\ttotal: 5m 22s\tremaining: 35.8s\n",
      "180:\tlearn: 0.6403212\ttotal: 5m 24s\tremaining: 34s\n",
      "181:\tlearn: 0.6218041\ttotal: 5m 26s\tremaining: 32.2s\n",
      "182:\tlearn: 0.6121524\ttotal: 5m 27s\tremaining: 30.5s\n",
      "183:\tlearn: 0.6043524\ttotal: 5m 29s\tremaining: 28.7s\n",
      "184:\tlearn: 0.6033776\ttotal: 5m 29s\tremaining: 26.8s\n",
      "185:\tlearn: 0.5899680\ttotal: 5m 31s\tremaining: 25s\n",
      "186:\tlearn: 0.5765788\ttotal: 5m 33s\tremaining: 23.2s\n",
      "187:\tlearn: 0.5760941\ttotal: 5m 35s\tremaining: 21.4s\n",
      "188:\tlearn: 0.5743557\ttotal: 5m 37s\tremaining: 19.6s\n",
      "189:\tlearn: 0.5605820\ttotal: 5m 39s\tremaining: 17.9s\n",
      "190:\tlearn: 0.5597134\ttotal: 5m 41s\tremaining: 16.1s\n",
      "191:\tlearn: 0.5455224\ttotal: 5m 43s\tremaining: 14.3s\n",
      "192:\tlearn: 0.5443933\ttotal: 5m 44s\tremaining: 12.5s\n",
      "193:\tlearn: 0.5366276\ttotal: 5m 46s\tremaining: 10.7s\n",
      "194:\tlearn: 0.5345300\ttotal: 5m 47s\tremaining: 8.91s\n",
      "195:\tlearn: 0.5257304\ttotal: 5m 49s\tremaining: 7.13s\n",
      "196:\tlearn: 0.5158488\ttotal: 5m 51s\tremaining: 5.35s\n",
      "197:\tlearn: 0.5032137\ttotal: 5m 53s\tremaining: 3.56s\n",
      "198:\tlearn: 0.4968897\ttotal: 5m 54s\tremaining: 1.78s\n",
      "199:\tlearn: 0.4924667\ttotal: 5m 56s\tremaining: 0us\n"
     ]
    },
    {
     "data": {
      "text/plain": [
       "RandomizedSearchCV(cv=TimeSeriesSplit(gap=0, max_train_size=None, n_splits=3, test_size=None),\n",
       "                   estimator=Pipeline(steps=[('regression',\n",
       "                                              RandomForestRegressor())]),\n",
       "                   n_jobs=-1,\n",
       "                   param_distributions=[{'regression': [RandomForestRegressor()],\n",
       "                                         'regression__max_depth': [5, 15],\n",
       "                                         'regression__n_estimators': [100,\n",
       "                                                                      200]},\n",
       "                                        {'regression': [<catboost.core.CatBoostRegressor object at 0x7fbba2c2a4c0>],\n",
       "                                         'regression__max_depth': [5, 15],\n",
       "                                         'regression__n_estimators': [100,\n",
       "                                                                      200]},\n",
       "                                        {'regression': [LinearRegression()]},\n",
       "                                        {'regression': [LGBMRegressor(num_leaves=15)],\n",
       "                                         'regression__n_estimators': [100, 200],\n",
       "                                         'regression__num_leaves': [5, 15]}],\n",
       "                   scoring=make_scorer(RMSE, greater_is_better=False),\n",
       "                   verbose=1)"
      ]
     },
     "execution_count": 64,
     "metadata": {},
     "output_type": "execute_result"
    }
   ],
   "source": [
    "grid.fit(features_train, target_train)"
   ]
  },
  {
   "cell_type": "markdown",
   "metadata": {},
   "source": [
    "Итак, лучшая модель:"
   ]
  },
  {
   "cell_type": "code",
   "execution_count": 65,
   "metadata": {},
   "outputs": [
    {
     "data": {
      "text/plain": [
       "{'regression__num_leaves': 15,\n",
       " 'regression__n_estimators': 100,\n",
       " 'regression': LGBMRegressor(num_leaves=15)}"
      ]
     },
     "execution_count": 65,
     "metadata": {},
     "output_type": "execute_result"
    }
   ],
   "source": [
    "grid.best_params_"
   ]
  },
  {
   "cell_type": "markdown",
   "metadata": {},
   "source": [
    "На обучающей выборке ее результат составил"
   ]
  },
  {
   "cell_type": "code",
   "execution_count": 66,
   "metadata": {},
   "outputs": [
    {
     "data": {
      "text/plain": [
       "26.57523251838623"
      ]
     },
     "execution_count": 66,
     "metadata": {},
     "output_type": "execute_result"
    }
   ],
   "source": [
    "grid.best_score_ * (-1)"
   ]
  },
  {
   "cell_type": "markdown",
   "metadata": {},
   "source": [
    "<div class=\"alert alert-block alert-success\">\n",
    "<b>Успех:</b> Молодец, что попробовал разные модели в этом шаге!\n",
    "</div>"
   ]
  },
  {
   "cell_type": "markdown",
   "metadata": {},
   "source": [
    "## Тестирование"
   ]
  },
  {
   "cell_type": "code",
   "execution_count": 67,
   "metadata": {},
   "outputs": [
    {
     "name": "stdout",
     "output_type": "stream",
     "text": [
      "42.97278165643283\n"
     ]
    }
   ],
   "source": [
    "predictions = grid.predict(features_test)\n",
    "print(RMSE(target_test, predictions))"
   ]
  },
  {
   "cell_type": "markdown",
   "metadata": {},
   "source": [
    "Наша модель дала метрику 43 на тестовой выборке - результат неплохой"
   ]
  },
  {
   "cell_type": "markdown",
   "metadata": {},
   "source": [
    "<div class=\"alert alert-block alert-info\">\n",
    "<b>Совет: </b> Финальные предсказания можно было визуализирвоать: графики исходного и предсказанных рядов.\n",
    "</div>"
   ]
  },
  {
   "cell_type": "markdown",
   "metadata": {},
   "source": [
    "<div class=\"alert alert-block alert-warning\">\n",
    "<b>Комментарий студента:</b> добавлена график предсказаний и истинных значений\n",
    "</div>"
   ]
  },
  {
   "cell_type": "code",
   "execution_count": 96,
   "metadata": {},
   "outputs": [
    {
     "data": {
      "text/plain": [
       "<AxesSubplot:title={'center':'Предсказания и истинные значения тестовой выборки'}, xlabel='datetime'>"
      ]
     },
     "execution_count": 96,
     "metadata": {},
     "output_type": "execute_result"
    },
    {
     "data": {
      "image/png": "[encoded data removed]",
      "text/plain": [
       "<Figure size 1080x648 with 1 Axes>"
      ]
     },
     "metadata": {
      "needs_background": "light"
     },
     "output_type": "display_data"
    }
   ],
   "source": [
    "preds = pd.Series(predictions, index=target_test.index)\n",
    "\n",
    "test_pred_true = pd.concat([target_test,preds],axis=1)\n",
    "test_pred_true.columns = ['true_values', 'predictions']\n",
    "\n",
    "test_pred_true.plot(figsize=(15, 9), title='Предсказания и истинные значения тестовой выборки')"
   ]
  },
  {
   "cell_type": "markdown",
   "metadata": {},
   "source": [
    "<div class=\"alert alert-block alert-success\">\n",
    "<b>Успех (ревью 2):</b> Спасибо!\n",
    "</div>"
   ]
  },
  {
   "cell_type": "markdown",
   "metadata": {},
   "source": [
    "Полученный график показывает, что точность предсказания высока. Угадано много движений синего графика, а основное несовпадение кроется в выбросах"
   ]
  },
  {
   "cell_type": "markdown",
   "metadata": {},
   "source": [
    "**Вывод**\n",
    "\n",
    "По результат проекта удалось спрогнозировать временной ряд и получить метрику RMSE 43"
   ]
  },
  {
   "cell_type": "markdown",
   "metadata": {},
   "source": [
    "## Чек-лист проверки"
   ]
  },
  {
   "cell_type": "markdown",
   "metadata": {},
   "source": [
    "- [x]  Jupyter Notebook открыт\n",
    "- [x]  Весь код выполняется без ошибок\n",
    "- [x]  Ячейки с кодом расположены в порядке исполнения\n",
    "- [x]  Данные загружены и подготовлены\n",
    "- [x]  Данные проанализированы\n",
    "- [x]  Модель обучена, гиперпараметры подобраны\n",
    "- [x]  Качество моделей проверено, выводы сделаны\n",
    "- [x]  Значение *RMSE* на тестовой выборке не больше 48"
   ]
  },
  {
   "cell_type": "code",
   "execution_count": null,
   "metadata": {},
   "outputs": [],
   "source": []
  }
 ],
 "metadata": {
  "ExecuteTimeLog": [
   {
    "duration": 433,
    "start_time": "2023-01-20T12:40:07.794Z"
   },
   {
    "duration": 72,
    "start_time": "2023-01-20T12:40:36.619Z"
   },
   {
    "duration": 208,
    "start_time": "2023-01-20T12:40:43.410Z"
   },
   {
    "duration": 67,
    "start_time": "2023-01-20T12:40:45.132Z"
   },
   {
    "duration": 56,
    "start_time": "2023-01-20T12:40:58.561Z"
   },
   {
    "duration": 47,
    "start_time": "2023-01-20T12:48:46.749Z"
   },
   {
    "duration": 49,
    "start_time": "2023-01-20T12:54:31.360Z"
   },
   {
    "duration": 45,
    "start_time": "2023-01-20T12:54:57.711Z"
   },
   {
    "duration": 10,
    "start_time": "2023-01-20T12:56:20.855Z"
   },
   {
    "duration": 12,
    "start_time": "2023-01-20T12:56:24.029Z"
   },
   {
    "duration": 12,
    "start_time": "2023-01-20T12:56:26.984Z"
   },
   {
    "duration": 11,
    "start_time": "2023-01-20T12:59:53.610Z"
   },
   {
    "duration": 9,
    "start_time": "2023-01-20T13:02:35.601Z"
   },
   {
    "duration": 76,
    "start_time": "2023-01-20T13:02:44.245Z"
   },
   {
    "duration": 8,
    "start_time": "2023-01-20T13:04:05.003Z"
   },
   {
    "duration": 4,
    "start_time": "2023-01-20T13:04:26.911Z"
   },
   {
    "duration": 686,
    "start_time": "2023-01-20T13:17:10.732Z"
   },
   {
    "duration": 315,
    "start_time": "2023-01-20T13:18:13.855Z"
   },
   {
    "duration": 317,
    "start_time": "2023-01-20T13:18:19.100Z"
   },
   {
    "duration": 295,
    "start_time": "2023-01-20T13:18:25.161Z"
   },
   {
    "duration": 292,
    "start_time": "2023-01-20T13:27:50.176Z"
   },
   {
    "duration": 356,
    "start_time": "2023-01-20T13:28:08.497Z"
   },
   {
    "duration": 17,
    "start_time": "2023-01-20T13:29:43.072Z"
   },
   {
    "duration": 464,
    "start_time": "2023-01-20T13:30:03.147Z"
   },
   {
    "duration": 233,
    "start_time": "2023-01-20T13:30:13.057Z"
   },
   {
    "duration": 249,
    "start_time": "2023-01-20T13:30:48.243Z"
   },
   {
    "duration": 218,
    "start_time": "2023-01-20T13:30:52.173Z"
   },
   {
    "duration": 295,
    "start_time": "2023-01-20T13:31:03.964Z"
   },
   {
    "duration": 207,
    "start_time": "2023-01-20T13:32:48.905Z"
   },
   {
    "duration": 185,
    "start_time": "2023-01-20T13:33:58.977Z"
   },
   {
    "duration": 183,
    "start_time": "2023-01-20T13:34:04.792Z"
   },
   {
    "duration": 270,
    "start_time": "2023-01-20T13:35:28.489Z"
   },
   {
    "duration": 186,
    "start_time": "2023-01-20T13:35:51.267Z"
   },
   {
    "duration": 184,
    "start_time": "2023-01-20T13:36:17.242Z"
   },
   {
    "duration": 265,
    "start_time": "2023-01-20T13:36:22.556Z"
   },
   {
    "duration": 262,
    "start_time": "2023-01-20T13:37:51.464Z"
   },
   {
    "duration": 278,
    "start_time": "2023-01-20T13:38:15.666Z"
   },
   {
    "duration": 197,
    "start_time": "2023-01-20T13:40:53.038Z"
   },
   {
    "duration": 197,
    "start_time": "2023-01-20T13:41:23.115Z"
   },
   {
    "duration": 262,
    "start_time": "2023-01-20T13:41:39.653Z"
   },
   {
    "duration": 4,
    "start_time": "2023-01-20T13:43:09.606Z"
   },
   {
    "duration": 343,
    "start_time": "2023-01-20T13:43:29.003Z"
   },
   {
    "duration": 490,
    "start_time": "2023-01-20T13:45:04.887Z"
   },
   {
    "duration": 384,
    "start_time": "2023-01-20T13:45:33.989Z"
   },
   {
    "duration": 3,
    "start_time": "2023-01-20T13:45:39.785Z"
   },
   {
    "duration": 50,
    "start_time": "2023-01-20T13:45:39.790Z"
   },
   {
    "duration": 12,
    "start_time": "2023-01-20T13:45:39.842Z"
   },
   {
    "duration": 4,
    "start_time": "2023-01-20T13:45:39.856Z"
   },
   {
    "duration": 314,
    "start_time": "2023-01-20T13:45:39.862Z"
   },
   {
    "duration": 56,
    "start_time": "2023-01-20T13:45:40.178Z"
   },
   {
    "duration": 0,
    "start_time": "2023-01-20T13:45:40.235Z"
   },
   {
    "duration": 0,
    "start_time": "2023-01-20T13:45:40.237Z"
   },
   {
    "duration": 0,
    "start_time": "2023-01-20T13:45:40.238Z"
   },
   {
    "duration": 3,
    "start_time": "2023-01-20T13:46:07.892Z"
   },
   {
    "duration": 98,
    "start_time": "2023-01-20T13:46:07.897Z"
   },
   {
    "duration": 17,
    "start_time": "2023-01-20T13:46:07.997Z"
   },
   {
    "duration": 17,
    "start_time": "2023-01-20T13:46:08.017Z"
   },
   {
    "duration": 438,
    "start_time": "2023-01-20T13:46:08.036Z"
   },
   {
    "duration": 12,
    "start_time": "2023-01-20T13:46:08.476Z"
   },
   {
    "duration": 0,
    "start_time": "2023-01-20T13:46:08.490Z"
   },
   {
    "duration": 0,
    "start_time": "2023-01-20T13:46:08.504Z"
   },
   {
    "duration": 0,
    "start_time": "2023-01-20T13:46:08.505Z"
   },
   {
    "duration": 486,
    "start_time": "2023-01-20T13:46:33.581Z"
   },
   {
    "duration": 10,
    "start_time": "2023-01-20T13:46:49.863Z"
   },
   {
    "duration": 10,
    "start_time": "2023-01-20T13:47:09.861Z"
   },
   {
    "duration": 6,
    "start_time": "2023-01-20T13:47:12.797Z"
   },
   {
    "duration": 2,
    "start_time": "2023-01-20T13:47:21.673Z"
   },
   {
    "duration": 50,
    "start_time": "2023-01-20T13:47:21.677Z"
   },
   {
    "duration": 12,
    "start_time": "2023-01-20T13:47:21.729Z"
   },
   {
    "duration": 4,
    "start_time": "2023-01-20T13:47:21.743Z"
   },
   {
    "duration": 369,
    "start_time": "2023-01-20T13:47:21.749Z"
   },
   {
    "duration": 6,
    "start_time": "2023-01-20T13:47:22.120Z"
   },
   {
    "duration": 206,
    "start_time": "2023-01-20T13:47:22.127Z"
   },
   {
    "duration": 278,
    "start_time": "2023-01-20T13:47:22.335Z"
   },
   {
    "duration": 374,
    "start_time": "2023-01-20T13:47:22.615Z"
   },
   {
    "duration": 21,
    "start_time": "2023-01-20T13:47:22.991Z"
   },
   {
    "duration": 18,
    "start_time": "2023-01-20T13:49:27.546Z"
   },
   {
    "duration": 387,
    "start_time": "2023-01-20T13:49:40.870Z"
   },
   {
    "duration": 559,
    "start_time": "2023-01-20T13:49:49.578Z"
   },
   {
    "duration": 12,
    "start_time": "2023-01-20T13:49:52.637Z"
   },
   {
    "duration": 17,
    "start_time": "2023-01-20T13:55:48.920Z"
   },
   {
    "duration": 11,
    "start_time": "2023-01-20T13:55:55.516Z"
   },
   {
    "duration": 4,
    "start_time": "2023-01-20T14:02:09.932Z"
   },
   {
    "duration": 7,
    "start_time": "2023-01-20T14:03:53.199Z"
   },
   {
    "duration": 18,
    "start_time": "2023-01-20T14:22:52.244Z"
   },
   {
    "duration": 17,
    "start_time": "2023-01-20T14:25:39.486Z"
   },
   {
    "duration": 15,
    "start_time": "2023-01-20T14:26:31.581Z"
   },
   {
    "duration": 269,
    "start_time": "2023-01-20T14:26:34.549Z"
   },
   {
    "duration": 28,
    "start_time": "2023-01-20T14:26:38.337Z"
   },
   {
    "duration": 22,
    "start_time": "2023-01-20T14:28:17.816Z"
   },
   {
    "duration": 45,
    "start_time": "2023-01-20T14:28:39.393Z"
   },
   {
    "duration": 29,
    "start_time": "2023-01-20T14:28:43.465Z"
   },
   {
    "duration": 4,
    "start_time": "2023-01-20T14:29:05.213Z"
   },
   {
    "duration": 25,
    "start_time": "2023-01-20T14:29:08.438Z"
   },
   {
    "duration": 302,
    "start_time": "2023-01-20T14:29:20.093Z"
   },
   {
    "duration": 293,
    "start_time": "2023-01-20T14:29:45.576Z"
   },
   {
    "duration": 334,
    "start_time": "2023-01-20T14:30:37.018Z"
   },
   {
    "duration": 317,
    "start_time": "2023-01-20T14:32:07.872Z"
   },
   {
    "duration": 327,
    "start_time": "2023-01-20T14:33:37.788Z"
   },
   {
    "duration": 309,
    "start_time": "2023-01-20T14:33:45.441Z"
   },
   {
    "duration": 5,
    "start_time": "2023-01-20T14:40:47.861Z"
   },
   {
    "duration": 5,
    "start_time": "2023-01-20T14:41:54.986Z"
   },
   {
    "duration": 16,
    "start_time": "2023-01-20T14:42:33.193Z"
   },
   {
    "duration": 21,
    "start_time": "2023-01-20T14:42:59.991Z"
   },
   {
    "duration": 23,
    "start_time": "2023-01-20T14:43:06.789Z"
   },
   {
    "duration": 333,
    "start_time": "2023-01-20T14:43:58.488Z"
   },
   {
    "duration": 15,
    "start_time": "2023-01-20T14:43:59.167Z"
   },
   {
    "duration": 6,
    "start_time": "2023-01-20T14:44:06.468Z"
   },
   {
    "duration": 14,
    "start_time": "2023-01-20T14:44:07.072Z"
   },
   {
    "duration": 14,
    "start_time": "2023-01-20T14:44:29.010Z"
   },
   {
    "duration": 13,
    "start_time": "2023-01-20T14:45:54.644Z"
   },
   {
    "duration": 64,
    "start_time": "2023-01-20T14:46:00.319Z"
   },
   {
    "duration": 7,
    "start_time": "2023-01-20T14:46:04.037Z"
   },
   {
    "duration": 17,
    "start_time": "2023-01-20T14:46:04.239Z"
   },
   {
    "duration": 11,
    "start_time": "2023-01-20T14:46:21.569Z"
   },
   {
    "duration": 4,
    "start_time": "2023-01-20T14:46:41.427Z"
   },
   {
    "duration": 6,
    "start_time": "2023-01-20T14:46:45.189Z"
   },
   {
    "duration": 22,
    "start_time": "2023-01-20T14:46:45.396Z"
   },
   {
    "duration": 44,
    "start_time": "2023-01-20T14:47:15.625Z"
   },
   {
    "duration": 8,
    "start_time": "2023-01-20T14:47:20.967Z"
   },
   {
    "duration": 20,
    "start_time": "2023-01-20T14:47:22.041Z"
   },
   {
    "duration": 12,
    "start_time": "2023-01-20T14:47:39.886Z"
   },
   {
    "duration": 5,
    "start_time": "2023-01-20T14:47:43.458Z"
   },
   {
    "duration": 21,
    "start_time": "2023-01-20T14:47:43.721Z"
   },
   {
    "duration": 19,
    "start_time": "2023-01-20T14:48:01.402Z"
   },
   {
    "duration": 3,
    "start_time": "2023-01-20T14:48:04.131Z"
   },
   {
    "duration": 14,
    "start_time": "2023-01-20T14:48:09.283Z"
   },
   {
    "duration": 3,
    "start_time": "2023-01-20T14:48:18.492Z"
   },
   {
    "duration": 26,
    "start_time": "2023-01-20T14:48:23.693Z"
   },
   {
    "duration": 3,
    "start_time": "2023-01-20T14:49:34.674Z"
   },
   {
    "duration": 5,
    "start_time": "2023-01-20T14:49:35.879Z"
   },
   {
    "duration": 14,
    "start_time": "2023-01-20T14:49:36.934Z"
   },
   {
    "duration": 5,
    "start_time": "2023-01-20T14:53:41.982Z"
   },
   {
    "duration": 18,
    "start_time": "2023-01-20T14:53:43.090Z"
   },
   {
    "duration": 89,
    "start_time": "2023-01-20T14:54:29.268Z"
   },
   {
    "duration": 6,
    "start_time": "2023-01-20T14:54:34.952Z"
   },
   {
    "duration": 10,
    "start_time": "2023-01-20T14:54:36.854Z"
   },
   {
    "duration": 26,
    "start_time": "2023-01-20T14:55:42.848Z"
   },
   {
    "duration": 7,
    "start_time": "2023-01-20T15:02:43.638Z"
   },
   {
    "duration": 27,
    "start_time": "2023-01-20T15:02:44.575Z"
   },
   {
    "duration": 10,
    "start_time": "2023-01-20T15:02:55.400Z"
   },
   {
    "duration": 41,
    "start_time": "2023-01-20T15:02:55.739Z"
   },
   {
    "duration": 5,
    "start_time": "2023-01-20T15:08:37.782Z"
   },
   {
    "duration": 7,
    "start_time": "2023-01-20T15:08:55.137Z"
   },
   {
    "duration": 24,
    "start_time": "2023-01-20T15:08:55.705Z"
   },
   {
    "duration": 7,
    "start_time": "2023-01-20T15:09:18.741Z"
   },
   {
    "duration": 23,
    "start_time": "2023-01-20T15:09:19.400Z"
   },
   {
    "duration": 6,
    "start_time": "2023-01-20T15:09:25.255Z"
   },
   {
    "duration": 44,
    "start_time": "2023-01-20T15:09:28.518Z"
   },
   {
    "duration": 6,
    "start_time": "2023-01-20T15:09:31.328Z"
   },
   {
    "duration": 41,
    "start_time": "2023-01-20T15:09:31.792Z"
   },
   {
    "duration": 6,
    "start_time": "2023-01-20T15:10:51.233Z"
   },
   {
    "duration": 56,
    "start_time": "2023-01-20T15:10:51.979Z"
   },
   {
    "duration": 6,
    "start_time": "2023-01-20T15:14:03.564Z"
   },
   {
    "duration": 6,
    "start_time": "2023-01-20T15:14:07.926Z"
   },
   {
    "duration": 44,
    "start_time": "2023-01-20T15:14:08.527Z"
   },
   {
    "duration": 10,
    "start_time": "2023-01-20T15:14:39.962Z"
   },
   {
    "duration": 10,
    "start_time": "2023-01-20T15:14:56.731Z"
   },
   {
    "duration": 4,
    "start_time": "2023-01-20T15:15:01.322Z"
   },
   {
    "duration": 6,
    "start_time": "2023-01-20T15:16:49.881Z"
   },
   {
    "duration": 48,
    "start_time": "2023-01-20T15:16:50.468Z"
   },
   {
    "duration": 11,
    "start_time": "2023-01-20T15:17:51.010Z"
   },
   {
    "duration": 38,
    "start_time": "2023-01-20T15:17:52.725Z"
   },
   {
    "duration": 6,
    "start_time": "2023-01-20T15:18:59.938Z"
   },
   {
    "duration": 256740,
    "start_time": "2023-01-20T15:19:00.519Z"
   },
   {
    "duration": 593624,
    "start_time": "2023-01-20T15:23:24.087Z"
   },
   {
    "duration": 3,
    "start_time": "2023-01-20T15:33:28.929Z"
   },
   {
    "duration": 5,
    "start_time": "2023-01-20T15:33:40.417Z"
   },
   {
    "duration": 0,
    "start_time": "2023-01-20T15:58:54.356Z"
   },
   {
    "duration": 0,
    "start_time": "2023-01-20T15:58:54.357Z"
   },
   {
    "duration": 16615,
    "start_time": "2023-01-20T15:58:55.913Z"
   },
   {
    "duration": 6,
    "start_time": "2023-01-20T15:59:26.357Z"
   },
   {
    "duration": 19738,
    "start_time": "2023-01-20T15:59:26.685Z"
   },
   {
    "duration": 8300581,
    "start_time": "2023-01-20T16:00:05.049Z"
   },
   {
    "duration": 7,
    "start_time": "2023-01-20T18:24:54.105Z"
   },
   {
    "duration": 4,
    "start_time": "2023-01-20T18:25:00.398Z"
   },
   {
    "duration": 16,
    "start_time": "2023-01-20T18:25:06.955Z"
   },
   {
    "duration": 6,
    "start_time": "2023-01-20T18:58:37.023Z"
   },
   {
    "duration": 1751237,
    "start_time": "2023-01-20T18:58:37.742Z"
   },
   {
    "duration": 4,
    "start_time": "2023-01-20T19:28:43.766Z"
   },
   {
    "duration": 4,
    "start_time": "2023-01-20T19:28:48.399Z"
   },
   {
    "duration": 3,
    "start_time": "2023-01-20T19:28:52.027Z"
   },
   {
    "duration": 5,
    "start_time": "2023-01-20T19:28:53.081Z"
   },
   {
    "duration": 4,
    "start_time": "2023-01-20T19:28:58.015Z"
   },
   {
    "duration": 4,
    "start_time": "2023-01-20T19:28:59.729Z"
   },
   {
    "duration": 5,
    "start_time": "2023-01-20T19:29:00.272Z"
   },
   {
    "duration": 4,
    "start_time": "2023-01-20T19:30:48.390Z"
   },
   {
    "duration": 4,
    "start_time": "2023-01-20T19:30:52.113Z"
   },
   {
    "duration": 4,
    "start_time": "2023-01-20T19:30:55.219Z"
   },
   {
    "duration": 4,
    "start_time": "2023-01-20T19:30:57.709Z"
   },
   {
    "duration": 6,
    "start_time": "2023-01-20T19:30:59.251Z"
   },
   {
    "duration": 277,
    "start_time": "2023-01-20T19:35:30.794Z"
   },
   {
    "duration": 3301390,
    "start_time": "2023-01-20T19:35:54.644Z"
   },
   {
    "duration": 4,
    "start_time": "2023-01-20T20:58:14.913Z"
   },
   {
    "duration": 4,
    "start_time": "2023-01-20T20:58:19.489Z"
   },
   {
    "duration": 7,
    "start_time": "2023-01-20T20:58:24.017Z"
   },
   {
    "duration": 53585,
    "start_time": "2023-01-20T21:00:56.421Z"
   },
   {
    "duration": 15,
    "start_time": "2023-01-20T21:01:53.617Z"
   },
   {
    "duration": 3299967,
    "start_time": "2023-01-20T21:02:09.944Z"
   },
   {
    "duration": 3,
    "start_time": "2023-01-20T21:58:00.355Z"
   },
   {
    "duration": 4,
    "start_time": "2023-01-20T21:58:06.798Z"
   },
   {
    "duration": 5,
    "start_time": "2023-01-20T21:58:08.249Z"
   },
   {
    "duration": 292,
    "start_time": "2023-01-20T21:59:57.141Z"
   },
   {
    "duration": 287,
    "start_time": "2023-01-20T22:00:16.194Z"
   },
   {
    "duration": 274,
    "start_time": "2023-01-20T22:00:51.319Z"
   },
   {
    "duration": 26,
    "start_time": "2023-01-20T22:01:10.410Z"
   },
   {
    "duration": 25,
    "start_time": "2023-01-20T22:01:31.903Z"
   },
   {
    "duration": 27,
    "start_time": "2023-01-20T22:02:00.313Z"
   },
   {
    "duration": 4,
    "start_time": "2023-01-20T22:04:28.451Z"
   },
   {
    "duration": 48,
    "start_time": "2023-01-20T22:04:28.457Z"
   },
   {
    "duration": 11,
    "start_time": "2023-01-20T22:04:28.507Z"
   },
   {
    "duration": 9,
    "start_time": "2023-01-20T22:04:28.520Z"
   },
   {
    "duration": 10,
    "start_time": "2023-01-20T22:04:28.531Z"
   },
   {
    "duration": 335,
    "start_time": "2023-01-20T22:04:28.542Z"
   },
   {
    "duration": 190,
    "start_time": "2023-01-20T22:04:28.879Z"
   },
   {
    "duration": 262,
    "start_time": "2023-01-20T22:04:29.071Z"
   },
   {
    "duration": 340,
    "start_time": "2023-01-20T22:04:29.334Z"
   },
   {
    "duration": 4,
    "start_time": "2023-01-20T22:04:29.675Z"
   },
   {
    "duration": 255,
    "start_time": "2023-01-20T22:04:29.681Z"
   },
   {
    "duration": 3,
    "start_time": "2023-01-20T22:04:29.938Z"
   },
   {
    "duration": 12,
    "start_time": "2023-01-20T22:04:29.943Z"
   },
   {
    "duration": 28,
    "start_time": "2023-01-20T22:04:29.957Z"
   },
   {
    "duration": 37,
    "start_time": "2023-01-20T22:04:29.987Z"
   },
   {
    "duration": 468984,
    "start_time": "2023-01-20T22:04:30.026Z"
   },
   {
    "duration": 4,
    "start_time": "2023-01-20T22:12:19.012Z"
   },
   {
    "duration": 20,
    "start_time": "2023-01-20T22:12:19.017Z"
   },
   {
    "duration": 12,
    "start_time": "2023-01-20T22:12:19.039Z"
   },
   {
    "duration": 4,
    "start_time": "2023-01-20T22:12:51.647Z"
   },
   {
    "duration": 4,
    "start_time": "2023-01-20T22:13:01.029Z"
   },
   {
    "duration": 5,
    "start_time": "2023-01-20T22:13:01.823Z"
   },
   {
    "duration": 4,
    "start_time": "2023-01-20T22:15:35.823Z"
   },
   {
    "duration": 5,
    "start_time": "2023-01-20T22:15:42.478Z"
   },
   {
    "duration": 96,
    "start_time": "2023-01-21T20:38:48.462Z"
   },
   {
    "duration": 14,
    "start_time": "2023-01-21T20:38:56.937Z"
   },
   {
    "duration": 2141,
    "start_time": "2023-01-21T20:39:02.232Z"
   },
   {
    "duration": 475,
    "start_time": "2023-01-21T20:39:04.375Z"
   },
   {
    "duration": 14,
    "start_time": "2023-01-21T20:39:04.851Z"
   },
   {
    "duration": 12,
    "start_time": "2023-01-21T20:39:04.868Z"
   },
   {
    "duration": 57,
    "start_time": "2023-01-21T20:39:04.882Z"
   },
   {
    "duration": 1292,
    "start_time": "2023-01-21T20:39:04.941Z"
   },
   {
    "duration": 428,
    "start_time": "2023-01-21T20:39:06.240Z"
   },
   {
    "duration": 485,
    "start_time": "2023-01-21T20:39:06.670Z"
   },
   {
    "duration": 5,
    "start_time": "2023-01-21T20:39:07.157Z"
   },
   {
    "duration": 414,
    "start_time": "2023-01-21T20:39:07.165Z"
   },
   {
    "duration": 21,
    "start_time": "2023-01-21T20:39:07.581Z"
   },
   {
    "duration": 72,
    "start_time": "2023-01-21T20:39:07.608Z"
   },
   {
    "duration": 103,
    "start_time": "2023-01-21T20:39:07.683Z"
   },
   {
    "duration": 0,
    "start_time": "2023-01-21T20:41:37.523Z"
   },
   {
    "duration": 1,
    "start_time": "2023-01-21T20:41:37.525Z"
   },
   {
    "duration": 0,
    "start_time": "2023-01-21T20:41:37.528Z"
   },
   {
    "duration": 0,
    "start_time": "2023-01-21T20:41:37.530Z"
   },
   {
    "duration": 0,
    "start_time": "2023-01-21T20:41:37.531Z"
   },
   {
    "duration": 0,
    "start_time": "2023-01-21T20:41:37.532Z"
   },
   {
    "duration": 0,
    "start_time": "2023-01-21T20:41:37.533Z"
   },
   {
    "duration": 0,
    "start_time": "2023-01-21T20:41:37.534Z"
   },
   {
    "duration": 0,
    "start_time": "2023-01-21T20:41:37.535Z"
   },
   {
    "duration": 0,
    "start_time": "2023-01-21T20:41:37.538Z"
   },
   {
    "duration": 0,
    "start_time": "2023-01-21T20:41:37.540Z"
   },
   {
    "duration": 0,
    "start_time": "2023-01-21T20:41:37.542Z"
   },
   {
    "duration": 0,
    "start_time": "2023-01-21T20:41:37.543Z"
   },
   {
    "duration": 0,
    "start_time": "2023-01-21T20:41:37.548Z"
   },
   {
    "duration": 0,
    "start_time": "2023-01-21T20:41:37.550Z"
   },
   {
    "duration": 0,
    "start_time": "2023-01-21T20:41:37.552Z"
   },
   {
    "duration": 0,
    "start_time": "2023-01-21T20:41:37.553Z"
   },
   {
    "duration": 11,
    "start_time": "2023-01-21T20:44:32.648Z"
   },
   {
    "duration": 7,
    "start_time": "2023-01-21T20:44:41.534Z"
   },
   {
    "duration": 83,
    "start_time": "2023-01-21T20:44:41.544Z"
   },
   {
    "duration": 23,
    "start_time": "2023-01-21T20:44:41.628Z"
   },
   {
    "duration": 15,
    "start_time": "2023-01-21T20:44:41.655Z"
   },
   {
    "duration": 7,
    "start_time": "2023-01-21T20:44:41.673Z"
   },
   {
    "duration": 515,
    "start_time": "2023-01-21T20:44:41.681Z"
   },
   {
    "duration": 271,
    "start_time": "2023-01-21T20:44:42.198Z"
   },
   {
    "duration": 373,
    "start_time": "2023-01-21T20:44:42.472Z"
   },
   {
    "duration": 6,
    "start_time": "2023-01-21T20:44:42.847Z"
   },
   {
    "duration": 410,
    "start_time": "2023-01-21T20:44:42.856Z"
   },
   {
    "duration": 4,
    "start_time": "2023-01-21T20:44:43.268Z"
   },
   {
    "duration": 15,
    "start_time": "2023-01-21T20:44:43.274Z"
   },
   {
    "duration": 57,
    "start_time": "2023-01-21T20:44:43.291Z"
   },
   {
    "duration": 0,
    "start_time": "2023-01-21T20:44:43.349Z"
   },
   {
    "duration": 0,
    "start_time": "2023-01-21T20:44:43.351Z"
   },
   {
    "duration": 0,
    "start_time": "2023-01-21T20:44:43.352Z"
   },
   {
    "duration": 0,
    "start_time": "2023-01-21T20:44:43.354Z"
   },
   {
    "duration": 0,
    "start_time": "2023-01-21T20:44:43.354Z"
   },
   {
    "duration": 4,
    "start_time": "2023-01-21T20:45:16.659Z"
   },
   {
    "duration": 7,
    "start_time": "2023-01-21T20:45:21.719Z"
   },
   {
    "duration": 99,
    "start_time": "2023-01-21T20:45:21.728Z"
   },
   {
    "duration": 21,
    "start_time": "2023-01-21T20:45:21.829Z"
   },
   {
    "duration": 12,
    "start_time": "2023-01-21T20:45:21.852Z"
   },
   {
    "duration": 8,
    "start_time": "2023-01-21T20:45:21.866Z"
   },
   {
    "duration": 699,
    "start_time": "2023-01-21T20:45:21.876Z"
   },
   {
    "duration": 309,
    "start_time": "2023-01-21T20:45:22.577Z"
   },
   {
    "duration": 372,
    "start_time": "2023-01-21T20:45:22.897Z"
   },
   {
    "duration": 16,
    "start_time": "2023-01-21T20:45:23.272Z"
   },
   {
    "duration": 467,
    "start_time": "2023-01-21T20:45:23.292Z"
   },
   {
    "duration": 3,
    "start_time": "2023-01-21T20:45:23.761Z"
   },
   {
    "duration": 30,
    "start_time": "2023-01-21T20:45:23.765Z"
   },
   {
    "duration": 62,
    "start_time": "2023-01-21T20:45:23.798Z"
   },
   {
    "duration": 0,
    "start_time": "2023-01-21T21:13:54.527Z"
   },
   {
    "duration": 0,
    "start_time": "2023-01-21T21:13:54.528Z"
   },
   {
    "duration": 13,
    "start_time": "2023-01-21T21:13:58.182Z"
   },
   {
    "duration": 5,
    "start_time": "2023-01-21T21:14:01.613Z"
   },
   {
    "duration": 17,
    "start_time": "2023-01-21T21:14:06.522Z"
   },
   {
    "duration": 114657,
    "start_time": "2023-01-21T21:14:17.914Z"
   },
   {
    "duration": 5,
    "start_time": "2023-01-21T21:16:16.677Z"
   },
   {
    "duration": 171,
    "start_time": "2023-01-21T21:16:16.696Z"
   },
   {
    "duration": 17,
    "start_time": "2023-01-21T21:16:16.869Z"
   },
   {
    "duration": 41,
    "start_time": "2023-01-21T21:16:16.895Z"
   },
   {
    "duration": 12,
    "start_time": "2023-01-21T21:16:16.939Z"
   },
   {
    "duration": 520,
    "start_time": "2023-01-21T21:16:16.953Z"
   },
   {
    "duration": 373,
    "start_time": "2023-01-21T21:16:17.475Z"
   },
   {
    "duration": 471,
    "start_time": "2023-01-21T21:16:17.851Z"
   },
   {
    "duration": 12,
    "start_time": "2023-01-21T21:16:18.326Z"
   },
   {
    "duration": 520,
    "start_time": "2023-01-21T21:16:18.341Z"
   },
   {
    "duration": 3,
    "start_time": "2023-01-21T21:16:18.864Z"
   },
   {
    "duration": 27,
    "start_time": "2023-01-21T21:16:18.870Z"
   },
   {
    "duration": 76,
    "start_time": "2023-01-21T21:16:18.901Z"
   },
   {
    "duration": 586649,
    "start_time": "2023-01-21T21:16:18.979Z"
   },
   {
    "duration": 0,
    "start_time": "2023-01-21T21:26:05.631Z"
   },
   {
    "duration": 0,
    "start_time": "2023-01-21T21:26:05.633Z"
   },
   {
    "duration": 0,
    "start_time": "2023-01-21T21:26:05.634Z"
   },
   {
    "duration": 0,
    "start_time": "2023-01-21T21:26:05.636Z"
   },
   {
    "duration": 2815337,
    "start_time": "2023-01-21T21:26:30.428Z"
   },
   {
    "duration": 8,
    "start_time": "2023-01-21T22:13:56.014Z"
   },
   {
    "duration": 7,
    "start_time": "2023-01-21T22:14:00.906Z"
   },
   {
    "duration": 18,
    "start_time": "2023-01-21T22:14:05.542Z"
   },
   {
    "duration": 24,
    "start_time": "2023-01-21T22:17:23.286Z"
   },
   {
    "duration": 13,
    "start_time": "2023-01-21T22:17:30.609Z"
   },
   {
    "duration": 38,
    "start_time": "2023-01-21T22:18:22.581Z"
   },
   {
    "duration": 13,
    "start_time": "2023-01-21T22:18:33.365Z"
   },
   {
    "duration": 7,
    "start_time": "2023-01-21T22:18:40.120Z"
   },
   {
    "duration": 225,
    "start_time": "2023-01-21T22:18:47.328Z"
   },
   {
    "duration": 14,
    "start_time": "2023-01-21T22:19:32.215Z"
   },
   {
    "duration": 10,
    "start_time": "2023-01-21T22:19:41.013Z"
   },
   {
    "duration": 25,
    "start_time": "2023-01-21T22:20:04.801Z"
   },
   {
    "duration": 6,
    "start_time": "2023-01-21T22:20:27.214Z"
   },
   {
    "duration": 8,
    "start_time": "2023-01-21T22:20:34.043Z"
   },
   {
    "duration": 3,
    "start_time": "2023-01-21T22:20:53.755Z"
   },
   {
    "duration": 19,
    "start_time": "2023-01-21T22:21:36.710Z"
   },
   {
    "duration": 23,
    "start_time": "2023-01-21T22:22:37.309Z"
   },
   {
    "duration": 17,
    "start_time": "2023-01-21T22:23:01.318Z"
   },
   {
    "duration": 11,
    "start_time": "2023-01-21T22:23:14.836Z"
   },
   {
    "duration": 14,
    "start_time": "2023-01-21T22:23:39.948Z"
   },
   {
    "duration": 16,
    "start_time": "2023-01-21T22:23:43.701Z"
   },
   {
    "duration": 14,
    "start_time": "2023-01-21T22:24:11.047Z"
   },
   {
    "duration": 5,
    "start_time": "2023-01-21T22:24:15.531Z"
   },
   {
    "duration": 13,
    "start_time": "2023-01-21T22:24:18.182Z"
   },
   {
    "duration": 8,
    "start_time": "2023-01-21T22:24:27.040Z"
   },
   {
    "duration": 23,
    "start_time": "2023-01-21T22:24:31.169Z"
   },
   {
    "duration": 16,
    "start_time": "2023-01-21T22:24:35.766Z"
   },
   {
    "duration": 5,
    "start_time": "2023-01-21T22:25:11.432Z"
   },
   {
    "duration": 282,
    "start_time": "2023-01-21T22:25:22.539Z"
   },
   {
    "duration": 409,
    "start_time": "2023-01-21T22:26:02.201Z"
   },
   {
    "duration": 336,
    "start_time": "2023-01-21T22:26:23.631Z"
   },
   {
    "duration": 416,
    "start_time": "2023-01-21T22:28:01.759Z"
   }
  ],
  "kernelspec": {
   "display_name": "Python 3 (ipykernel)",
   "language": "python",
   "name": "python3"
  },
  "language_info": {
   "codemirror_mode": {
    "name": "ipython",
    "version": 3
   },
   "file_extension": ".py",
   "mimetype": "text/x-python",
   "name": "python",
   "nbconvert_exporter": "python",
   "pygments_lexer": "ipython3",
   "version": "3.9.5"
  },
  "toc": {
   "base_numbering": 1,
   "nav_menu": {},
   "number_sections": true,
   "sideBar": true,
   "skip_h1_title": true,
   "title_cell": "Содержание",
   "title_sidebar": "Contents",
   "toc_cell": true,
   "toc_position": {},
   "toc_section_display": true,
   "toc_window_display": false
  }
 },
 "nbformat": 4,
 "nbformat_minor": 2
}
