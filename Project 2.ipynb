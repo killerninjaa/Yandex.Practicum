{
 "cells": [
  {
   "cell_type": "markdown",
   "id": "58571501",
   "metadata": {
    "deletable": false,
    "editable": false,
    "id": "c81daeeb"
   },
   "source": [
    "# Исследование надежности заемщиков"
   ]
  },
  {
   "attachments": {},
   "cell_type": "markdown",
   "id": "4b27ee55",
   "metadata": {},
   "source": [
    "Заказчик — кредитный отдел банка. Нужно разобраться, влияет ли семейное положение и количество детей клиента на факт погашения кредита в срок. Входные данные от банка — статистика о платёжеспособности клиентов.\n",
    "\n",
    "Результаты исследования будут учтены при построении модели кредитного скоринга — специальной системы, которая оценивает способность потенциального заёмщика вернуть кредит банку."
   ]
  },
  {
   "attachments": {},
   "cell_type": "markdown",
   "id": "1040769f",
   "metadata": {
    "deletable": false,
    "editable": false,
    "id": "744d7639"
   },
   "source": [
    "## Изучение данных"
   ]
  },
  {
   "cell_type": "code",
   "execution_count": 42,
   "id": "d4fd3d34",
   "metadata": {
    "id": "7bcf75c9"
   },
   "outputs": [],
   "source": [
    "import pandas as pd"
   ]
  },
  {
   "cell_type": "code",
   "execution_count": 43,
   "id": "42adbc2f",
   "metadata": {
    "id": "4d240ee2"
   },
   "outputs": [],
   "source": [
    "data = pd.read_csv('2.csv')"
   ]
  },
  {
   "cell_type": "code",
   "execution_count": 44,
   "id": "974a9721",
   "metadata": {
    "id": "2a7cab99"
   },
   "outputs": [
    {
     "data": {
      "text/html": [
       "<div>\n",
       "<style scoped>\n",
       "    .dataframe tbody tr th:only-of-type {\n",
       "        vertical-align: middle;\n",
       "    }\n",
       "\n",
       "    .dataframe tbody tr th {\n",
       "        vertical-align: top;\n",
       "    }\n",
       "\n",
       "    .dataframe thead th {\n",
       "        text-align: right;\n",
       "    }\n",
       "</style>\n",
       "<table border=\"1\" class=\"dataframe\">\n",
       "  <thead>\n",
       "    <tr style=\"text-align: right;\">\n",
       "      <th></th>\n",
       "      <th>children</th>\n",
       "      <th>days_employed</th>\n",
       "      <th>dob_years</th>\n",
       "      <th>education</th>\n",
       "      <th>education_id</th>\n",
       "      <th>family_status</th>\n",
       "      <th>family_status_id</th>\n",
       "      <th>gender</th>\n",
       "      <th>income_type</th>\n",
       "      <th>debt</th>\n",
       "      <th>total_income</th>\n",
       "      <th>purpose</th>\n",
       "    </tr>\n",
       "  </thead>\n",
       "  <tbody>\n",
       "    <tr>\n",
       "      <th>0</th>\n",
       "      <td>1</td>\n",
       "      <td>-8437.673028</td>\n",
       "      <td>42</td>\n",
       "      <td>высшее</td>\n",
       "      <td>0</td>\n",
       "      <td>женат / замужем</td>\n",
       "      <td>0</td>\n",
       "      <td>F</td>\n",
       "      <td>сотрудник</td>\n",
       "      <td>0</td>\n",
       "      <td>253875.639453</td>\n",
       "      <td>покупка жилья</td>\n",
       "    </tr>\n",
       "    <tr>\n",
       "      <th>1</th>\n",
       "      <td>1</td>\n",
       "      <td>-4024.803754</td>\n",
       "      <td>36</td>\n",
       "      <td>среднее</td>\n",
       "      <td>1</td>\n",
       "      <td>женат / замужем</td>\n",
       "      <td>0</td>\n",
       "      <td>F</td>\n",
       "      <td>сотрудник</td>\n",
       "      <td>0</td>\n",
       "      <td>112080.014102</td>\n",
       "      <td>приобретение автомобиля</td>\n",
       "    </tr>\n",
       "    <tr>\n",
       "      <th>2</th>\n",
       "      <td>0</td>\n",
       "      <td>-5623.422610</td>\n",
       "      <td>33</td>\n",
       "      <td>Среднее</td>\n",
       "      <td>1</td>\n",
       "      <td>женат / замужем</td>\n",
       "      <td>0</td>\n",
       "      <td>M</td>\n",
       "      <td>сотрудник</td>\n",
       "      <td>0</td>\n",
       "      <td>145885.952297</td>\n",
       "      <td>покупка жилья</td>\n",
       "    </tr>\n",
       "    <tr>\n",
       "      <th>3</th>\n",
       "      <td>3</td>\n",
       "      <td>-4124.747207</td>\n",
       "      <td>32</td>\n",
       "      <td>среднее</td>\n",
       "      <td>1</td>\n",
       "      <td>женат / замужем</td>\n",
       "      <td>0</td>\n",
       "      <td>M</td>\n",
       "      <td>сотрудник</td>\n",
       "      <td>0</td>\n",
       "      <td>267628.550329</td>\n",
       "      <td>дополнительное образование</td>\n",
       "    </tr>\n",
       "    <tr>\n",
       "      <th>4</th>\n",
       "      <td>0</td>\n",
       "      <td>340266.072047</td>\n",
       "      <td>53</td>\n",
       "      <td>среднее</td>\n",
       "      <td>1</td>\n",
       "      <td>гражданский брак</td>\n",
       "      <td>1</td>\n",
       "      <td>F</td>\n",
       "      <td>пенсионер</td>\n",
       "      <td>0</td>\n",
       "      <td>158616.077870</td>\n",
       "      <td>сыграть свадьбу</td>\n",
       "    </tr>\n",
       "    <tr>\n",
       "      <th>5</th>\n",
       "      <td>0</td>\n",
       "      <td>-926.185831</td>\n",
       "      <td>27</td>\n",
       "      <td>высшее</td>\n",
       "      <td>0</td>\n",
       "      <td>гражданский брак</td>\n",
       "      <td>1</td>\n",
       "      <td>M</td>\n",
       "      <td>компаньон</td>\n",
       "      <td>0</td>\n",
       "      <td>255763.565419</td>\n",
       "      <td>покупка жилья</td>\n",
       "    </tr>\n",
       "    <tr>\n",
       "      <th>6</th>\n",
       "      <td>0</td>\n",
       "      <td>-2879.202052</td>\n",
       "      <td>43</td>\n",
       "      <td>высшее</td>\n",
       "      <td>0</td>\n",
       "      <td>женат / замужем</td>\n",
       "      <td>0</td>\n",
       "      <td>F</td>\n",
       "      <td>компаньон</td>\n",
       "      <td>0</td>\n",
       "      <td>240525.971920</td>\n",
       "      <td>операции с жильем</td>\n",
       "    </tr>\n",
       "    <tr>\n",
       "      <th>7</th>\n",
       "      <td>0</td>\n",
       "      <td>-152.779569</td>\n",
       "      <td>50</td>\n",
       "      <td>СРЕДНЕЕ</td>\n",
       "      <td>1</td>\n",
       "      <td>женат / замужем</td>\n",
       "      <td>0</td>\n",
       "      <td>M</td>\n",
       "      <td>сотрудник</td>\n",
       "      <td>0</td>\n",
       "      <td>135823.934197</td>\n",
       "      <td>образование</td>\n",
       "    </tr>\n",
       "    <tr>\n",
       "      <th>8</th>\n",
       "      <td>2</td>\n",
       "      <td>-6929.865299</td>\n",
       "      <td>35</td>\n",
       "      <td>ВЫСШЕЕ</td>\n",
       "      <td>0</td>\n",
       "      <td>гражданский брак</td>\n",
       "      <td>1</td>\n",
       "      <td>F</td>\n",
       "      <td>сотрудник</td>\n",
       "      <td>0</td>\n",
       "      <td>95856.832424</td>\n",
       "      <td>на проведение свадьбы</td>\n",
       "    </tr>\n",
       "    <tr>\n",
       "      <th>9</th>\n",
       "      <td>0</td>\n",
       "      <td>-2188.756445</td>\n",
       "      <td>41</td>\n",
       "      <td>среднее</td>\n",
       "      <td>1</td>\n",
       "      <td>женат / замужем</td>\n",
       "      <td>0</td>\n",
       "      <td>M</td>\n",
       "      <td>сотрудник</td>\n",
       "      <td>0</td>\n",
       "      <td>144425.938277</td>\n",
       "      <td>покупка жилья для семьи</td>\n",
       "    </tr>\n",
       "    <tr>\n",
       "      <th>10</th>\n",
       "      <td>2</td>\n",
       "      <td>-4171.483647</td>\n",
       "      <td>36</td>\n",
       "      <td>высшее</td>\n",
       "      <td>0</td>\n",
       "      <td>женат / замужем</td>\n",
       "      <td>0</td>\n",
       "      <td>M</td>\n",
       "      <td>компаньон</td>\n",
       "      <td>0</td>\n",
       "      <td>113943.491460</td>\n",
       "      <td>покупка недвижимости</td>\n",
       "    </tr>\n",
       "    <tr>\n",
       "      <th>11</th>\n",
       "      <td>0</td>\n",
       "      <td>-792.701887</td>\n",
       "      <td>40</td>\n",
       "      <td>среднее</td>\n",
       "      <td>1</td>\n",
       "      <td>женат / замужем</td>\n",
       "      <td>0</td>\n",
       "      <td>F</td>\n",
       "      <td>сотрудник</td>\n",
       "      <td>0</td>\n",
       "      <td>77069.234271</td>\n",
       "      <td>покупка коммерческой недвижимости</td>\n",
       "    </tr>\n",
       "    <tr>\n",
       "      <th>12</th>\n",
       "      <td>0</td>\n",
       "      <td>NaN</td>\n",
       "      <td>65</td>\n",
       "      <td>среднее</td>\n",
       "      <td>1</td>\n",
       "      <td>гражданский брак</td>\n",
       "      <td>1</td>\n",
       "      <td>M</td>\n",
       "      <td>пенсионер</td>\n",
       "      <td>0</td>\n",
       "      <td>NaN</td>\n",
       "      <td>сыграть свадьбу</td>\n",
       "    </tr>\n",
       "    <tr>\n",
       "      <th>13</th>\n",
       "      <td>0</td>\n",
       "      <td>-1846.641941</td>\n",
       "      <td>54</td>\n",
       "      <td>неоконченное высшее</td>\n",
       "      <td>2</td>\n",
       "      <td>женат / замужем</td>\n",
       "      <td>0</td>\n",
       "      <td>F</td>\n",
       "      <td>сотрудник</td>\n",
       "      <td>0</td>\n",
       "      <td>130458.228857</td>\n",
       "      <td>приобретение автомобиля</td>\n",
       "    </tr>\n",
       "    <tr>\n",
       "      <th>14</th>\n",
       "      <td>0</td>\n",
       "      <td>-1844.956182</td>\n",
       "      <td>56</td>\n",
       "      <td>высшее</td>\n",
       "      <td>0</td>\n",
       "      <td>гражданский брак</td>\n",
       "      <td>1</td>\n",
       "      <td>F</td>\n",
       "      <td>компаньон</td>\n",
       "      <td>1</td>\n",
       "      <td>165127.911772</td>\n",
       "      <td>покупка жилой недвижимости</td>\n",
       "    </tr>\n",
       "    <tr>\n",
       "      <th>15</th>\n",
       "      <td>1</td>\n",
       "      <td>-972.364419</td>\n",
       "      <td>26</td>\n",
       "      <td>среднее</td>\n",
       "      <td>1</td>\n",
       "      <td>женат / замужем</td>\n",
       "      <td>0</td>\n",
       "      <td>F</td>\n",
       "      <td>сотрудник</td>\n",
       "      <td>0</td>\n",
       "      <td>116820.904450</td>\n",
       "      <td>строительство собственной недвижимости</td>\n",
       "    </tr>\n",
       "    <tr>\n",
       "      <th>16</th>\n",
       "      <td>0</td>\n",
       "      <td>-1719.934226</td>\n",
       "      <td>35</td>\n",
       "      <td>среднее</td>\n",
       "      <td>1</td>\n",
       "      <td>женат / замужем</td>\n",
       "      <td>0</td>\n",
       "      <td>F</td>\n",
       "      <td>сотрудник</td>\n",
       "      <td>0</td>\n",
       "      <td>289202.704229</td>\n",
       "      <td>недвижимость</td>\n",
       "    </tr>\n",
       "    <tr>\n",
       "      <th>17</th>\n",
       "      <td>0</td>\n",
       "      <td>-2369.999720</td>\n",
       "      <td>33</td>\n",
       "      <td>высшее</td>\n",
       "      <td>0</td>\n",
       "      <td>гражданский брак</td>\n",
       "      <td>1</td>\n",
       "      <td>M</td>\n",
       "      <td>сотрудник</td>\n",
       "      <td>0</td>\n",
       "      <td>90410.586745</td>\n",
       "      <td>строительство недвижимости</td>\n",
       "    </tr>\n",
       "    <tr>\n",
       "      <th>18</th>\n",
       "      <td>0</td>\n",
       "      <td>400281.136913</td>\n",
       "      <td>53</td>\n",
       "      <td>среднее</td>\n",
       "      <td>1</td>\n",
       "      <td>вдовец / вдова</td>\n",
       "      <td>2</td>\n",
       "      <td>F</td>\n",
       "      <td>пенсионер</td>\n",
       "      <td>0</td>\n",
       "      <td>56823.777243</td>\n",
       "      <td>на покупку подержанного автомобиля</td>\n",
       "    </tr>\n",
       "    <tr>\n",
       "      <th>19</th>\n",
       "      <td>0</td>\n",
       "      <td>-10038.818549</td>\n",
       "      <td>48</td>\n",
       "      <td>СРЕДНЕЕ</td>\n",
       "      <td>1</td>\n",
       "      <td>в разводе</td>\n",
       "      <td>3</td>\n",
       "      <td>F</td>\n",
       "      <td>сотрудник</td>\n",
       "      <td>0</td>\n",
       "      <td>242831.107982</td>\n",
       "      <td>на покупку своего автомобиля</td>\n",
       "    </tr>\n",
       "  </tbody>\n",
       "</table>\n",
       "</div>"
      ],
      "text/plain": [
       "    children  days_employed  dob_years            education  education_id  \\\n",
       "0          1   -8437.673028         42               высшее             0   \n",
       "1          1   -4024.803754         36              среднее             1   \n",
       "2          0   -5623.422610         33              Среднее             1   \n",
       "3          3   -4124.747207         32              среднее             1   \n",
       "4          0  340266.072047         53              среднее             1   \n",
       "5          0    -926.185831         27               высшее             0   \n",
       "6          0   -2879.202052         43               высшее             0   \n",
       "7          0    -152.779569         50              СРЕДНЕЕ             1   \n",
       "8          2   -6929.865299         35               ВЫСШЕЕ             0   \n",
       "9          0   -2188.756445         41              среднее             1   \n",
       "10         2   -4171.483647         36               высшее             0   \n",
       "11         0    -792.701887         40              среднее             1   \n",
       "12         0            NaN         65              среднее             1   \n",
       "13         0   -1846.641941         54  неоконченное высшее             2   \n",
       "14         0   -1844.956182         56               высшее             0   \n",
       "15         1    -972.364419         26              среднее             1   \n",
       "16         0   -1719.934226         35              среднее             1   \n",
       "17         0   -2369.999720         33               высшее             0   \n",
       "18         0  400281.136913         53              среднее             1   \n",
       "19         0  -10038.818549         48              СРЕДНЕЕ             1   \n",
       "\n",
       "       family_status  family_status_id gender income_type  debt  \\\n",
       "0    женат / замужем                 0      F   сотрудник     0   \n",
       "1    женат / замужем                 0      F   сотрудник     0   \n",
       "2    женат / замужем                 0      M   сотрудник     0   \n",
       "3    женат / замужем                 0      M   сотрудник     0   \n",
       "4   гражданский брак                 1      F   пенсионер     0   \n",
       "5   гражданский брак                 1      M   компаньон     0   \n",
       "6    женат / замужем                 0      F   компаньон     0   \n",
       "7    женат / замужем                 0      M   сотрудник     0   \n",
       "8   гражданский брак                 1      F   сотрудник     0   \n",
       "9    женат / замужем                 0      M   сотрудник     0   \n",
       "10   женат / замужем                 0      M   компаньон     0   \n",
       "11   женат / замужем                 0      F   сотрудник     0   \n",
       "12  гражданский брак                 1      M   пенсионер     0   \n",
       "13   женат / замужем                 0      F   сотрудник     0   \n",
       "14  гражданский брак                 1      F   компаньон     1   \n",
       "15   женат / замужем                 0      F   сотрудник     0   \n",
       "16   женат / замужем                 0      F   сотрудник     0   \n",
       "17  гражданский брак                 1      M   сотрудник     0   \n",
       "18    вдовец / вдова                 2      F   пенсионер     0   \n",
       "19         в разводе                 3      F   сотрудник     0   \n",
       "\n",
       "     total_income                                 purpose  \n",
       "0   253875.639453                           покупка жилья  \n",
       "1   112080.014102                 приобретение автомобиля  \n",
       "2   145885.952297                           покупка жилья  \n",
       "3   267628.550329              дополнительное образование  \n",
       "4   158616.077870                         сыграть свадьбу  \n",
       "5   255763.565419                           покупка жилья  \n",
       "6   240525.971920                       операции с жильем  \n",
       "7   135823.934197                             образование  \n",
       "8    95856.832424                   на проведение свадьбы  \n",
       "9   144425.938277                 покупка жилья для семьи  \n",
       "10  113943.491460                    покупка недвижимости  \n",
       "11   77069.234271       покупка коммерческой недвижимости  \n",
       "12            NaN                         сыграть свадьбу  \n",
       "13  130458.228857                 приобретение автомобиля  \n",
       "14  165127.911772              покупка жилой недвижимости  \n",
       "15  116820.904450  строительство собственной недвижимости  \n",
       "16  289202.704229                            недвижимость  \n",
       "17   90410.586745              строительство недвижимости  \n",
       "18   56823.777243      на покупку подержанного автомобиля  \n",
       "19  242831.107982            на покупку своего автомобиля  "
      ]
     },
     "execution_count": 44,
     "metadata": {},
     "output_type": "execute_result"
    }
   ],
   "source": [
    "data.head(20)"
   ]
  },
  {
   "cell_type": "code",
   "execution_count": 45,
   "id": "f56cfc02",
   "metadata": {
    "id": "2b757bca"
   },
   "outputs": [
    {
     "name": "stdout",
     "output_type": "stream",
     "text": [
      "<class 'pandas.core.frame.DataFrame'>\n",
      "RangeIndex: 21525 entries, 0 to 21524\n",
      "Data columns (total 12 columns):\n",
      " #   Column            Non-Null Count  Dtype  \n",
      "---  ------            --------------  -----  \n",
      " 0   children          21525 non-null  int64  \n",
      " 1   days_employed     19351 non-null  float64\n",
      " 2   dob_years         21525 non-null  int64  \n",
      " 3   education         21525 non-null  object \n",
      " 4   education_id      21525 non-null  int64  \n",
      " 5   family_status     21525 non-null  object \n",
      " 6   family_status_id  21525 non-null  int64  \n",
      " 7   gender            21525 non-null  object \n",
      " 8   income_type       21525 non-null  object \n",
      " 9   debt              21525 non-null  int64  \n",
      " 10  total_income      19351 non-null  float64\n",
      " 11  purpose           21525 non-null  object \n",
      "dtypes: float64(2), int64(5), object(5)\n",
      "memory usage: 2.0+ MB\n"
     ]
    }
   ],
   "source": [
    "data.info()"
   ]
  },
  {
   "cell_type": "markdown",
   "id": "2c8b8655",
   "metadata": {
    "deletable": false,
    "editable": false,
    "id": "333ec665"
   },
   "source": [
    "## Предобработка данных"
   ]
  },
  {
   "cell_type": "markdown",
   "id": "93d3fecd",
   "metadata": {
    "deletable": false,
    "editable": false,
    "id": "02d92d53"
   },
   "source": [
    "### Удаление пропусков"
   ]
  },
  {
   "cell_type": "code",
   "execution_count": 46,
   "id": "49d77358",
   "metadata": {
    "id": "7f9b2309"
   },
   "outputs": [
    {
     "data": {
      "text/plain": [
       "children               0\n",
       "days_employed       2174\n",
       "dob_years              0\n",
       "education              0\n",
       "education_id           0\n",
       "family_status          0\n",
       "family_status_id       0\n",
       "gender                 0\n",
       "income_type            0\n",
       "debt                   0\n",
       "total_income        2174\n",
       "purpose                0\n",
       "dtype: int64"
      ]
     },
     "execution_count": 46,
     "metadata": {},
     "output_type": "execute_result"
    }
   ],
   "source": [
    "data.isna().sum()"
   ]
  },
  {
   "attachments": {},
   "cell_type": "markdown",
   "id": "cd5f5db2",
   "metadata": {},
   "source": [
    "Пропуски имеются в двух столбцах. Столбец `total_income` хранит данные о доходах. На сумму дохода сильнее всего влияет тип занятости, поэтому заполнить пропуски в этом столбце нужно медианным значением по каждому типу из столбца `income_type`."
   ]
  },
  {
   "cell_type": "code",
   "execution_count": 47,
   "id": "f369a2bd",
   "metadata": {
    "id": "42006a93"
   },
   "outputs": [
    {
     "name": "stdout",
     "output_type": "stream",
     "text": [
      "<class 'pandas.core.frame.DataFrame'>\n",
      "RangeIndex: 21525 entries, 0 to 21524\n",
      "Data columns (total 12 columns):\n",
      " #   Column            Non-Null Count  Dtype  \n",
      "---  ------            --------------  -----  \n",
      " 0   children          21525 non-null  int64  \n",
      " 1   days_employed     19351 non-null  float64\n",
      " 2   dob_years         21525 non-null  int64  \n",
      " 3   education         21525 non-null  object \n",
      " 4   education_id      21525 non-null  int64  \n",
      " 5   family_status     21525 non-null  object \n",
      " 6   family_status_id  21525 non-null  int64  \n",
      " 7   gender            21525 non-null  object \n",
      " 8   income_type       21525 non-null  object \n",
      " 9   debt              21525 non-null  int64  \n",
      " 10  total_income      21525 non-null  float64\n",
      " 11  purpose           21525 non-null  object \n",
      "dtypes: float64(2), int64(5), object(5)\n",
      "memory usage: 2.0+ MB\n"
     ]
    }
   ],
   "source": [
    "inc_types = list(data['income_type'].unique())\n",
    "for inc_type in inc_types:\n",
    "    inc_data = data[data['income_type'] == inc_type]\n",
    "    inc_med = inc_data['total_income'].median()\n",
    "    data.loc[data['income_type'] == inc_type, 'total_income'] = data.loc[data['income_type'] == inc_type, 'total_income'].fillna(inc_med)\n",
    "data.info()\n",
    "    \n"
   ]
  },
  {
   "cell_type": "markdown",
   "id": "232b131e",
   "metadata": {
    "deletable": false,
    "editable": false,
    "id": "89da5ece"
   },
   "source": [
    "### Обработка аномальных значений"
   ]
  },
  {
   "attachments": {},
   "cell_type": "markdown",
   "id": "133eafae",
   "metadata": {
    "deletable": false,
    "editable": false,
    "id": "57964554",
    "tags": [
     "start_task"
    ]
   },
   "source": [
    "Аномалия - отрицательное количество дней трудового стажа в столбце `days_employed`. Необходимо заменить все отрицательные значения положительными с помощью метода."
   ]
  },
  {
   "cell_type": "code",
   "execution_count": 48,
   "id": "b648f401",
   "metadata": {
    "id": "f6f055bf"
   },
   "outputs": [],
   "source": [
    "data['days_employed'] = data['days_employed'].abs()"
   ]
  },
  {
   "cell_type": "code",
   "execution_count": 49,
   "id": "fb6f4100",
   "metadata": {
    "id": "85a5faf6"
   },
   "outputs": [
    {
     "data": {
      "text/plain": [
       "income_type\n",
       "безработный        366413.652744\n",
       "в декрете            3296.759962\n",
       "госслужащий          2689.368353\n",
       "компаньон            1547.382223\n",
       "пенсионер          365213.306266\n",
       "предприниматель       520.848083\n",
       "сотрудник            1574.202821\n",
       "студент               578.751554\n",
       "Name: days_employed, dtype: float64"
      ]
     },
     "execution_count": 49,
     "metadata": {},
     "output_type": "execute_result"
    }
   ],
   "source": [
    "data.groupby('income_type')['days_employed'].median()"
   ]
  },
  {
   "attachments": {},
   "cell_type": "markdown",
   "id": "946c4c6c",
   "metadata": {
    "deletable": false,
    "editable": false,
    "id": "38d1a030"
   },
   "source": [
    "У двух типов (безработные и пенсионеры) получатся аномально большие значения. Так как этот столбец не понадобится для исследования, то никаких манипуляций с ним проводить не буду."
   ]
  },
  {
   "cell_type": "code",
   "execution_count": 50,
   "id": "1637e929",
   "metadata": {
    "id": "ef5056eb"
   },
   "outputs": [
    {
     "data": {
      "text/plain": [
       "array([ 1,  0,  3,  2, -1,  4, 20,  5], dtype=int64)"
      ]
     },
     "execution_count": 50,
     "metadata": {},
     "output_type": "execute_result"
    }
   ],
   "source": [
    "data['children'].unique()"
   ]
  },
  {
   "attachments": {},
   "cell_type": "markdown",
   "id": "87507796",
   "metadata": {},
   "source": [
    "Вновь аномальные значения. Исправим:"
   ]
  },
  {
   "cell_type": "code",
   "execution_count": 51,
   "id": "3c6a1c56",
   "metadata": {
    "id": "3ff9801d"
   },
   "outputs": [
    {
     "data": {
      "text/html": [
       "<div>\n",
       "<style scoped>\n",
       "    .dataframe tbody tr th:only-of-type {\n",
       "        vertical-align: middle;\n",
       "    }\n",
       "\n",
       "    .dataframe tbody tr th {\n",
       "        vertical-align: top;\n",
       "    }\n",
       "\n",
       "    .dataframe thead th {\n",
       "        text-align: right;\n",
       "    }\n",
       "</style>\n",
       "<table border=\"1\" class=\"dataframe\">\n",
       "  <thead>\n",
       "    <tr style=\"text-align: right;\">\n",
       "      <th></th>\n",
       "      <th>children</th>\n",
       "      <th>days_employed</th>\n",
       "      <th>dob_years</th>\n",
       "      <th>education</th>\n",
       "      <th>education_id</th>\n",
       "      <th>family_status</th>\n",
       "      <th>family_status_id</th>\n",
       "      <th>gender</th>\n",
       "      <th>income_type</th>\n",
       "      <th>debt</th>\n",
       "      <th>total_income</th>\n",
       "      <th>purpose</th>\n",
       "    </tr>\n",
       "  </thead>\n",
       "  <tbody>\n",
       "    <tr>\n",
       "      <th>0</th>\n",
       "      <td>1</td>\n",
       "      <td>8437.673028</td>\n",
       "      <td>42</td>\n",
       "      <td>высшее</td>\n",
       "      <td>0</td>\n",
       "      <td>женат / замужем</td>\n",
       "      <td>0</td>\n",
       "      <td>F</td>\n",
       "      <td>сотрудник</td>\n",
       "      <td>0</td>\n",
       "      <td>253875.639453</td>\n",
       "      <td>покупка жилья</td>\n",
       "    </tr>\n",
       "    <tr>\n",
       "      <th>1</th>\n",
       "      <td>1</td>\n",
       "      <td>4024.803754</td>\n",
       "      <td>36</td>\n",
       "      <td>среднее</td>\n",
       "      <td>1</td>\n",
       "      <td>женат / замужем</td>\n",
       "      <td>0</td>\n",
       "      <td>F</td>\n",
       "      <td>сотрудник</td>\n",
       "      <td>0</td>\n",
       "      <td>112080.014102</td>\n",
       "      <td>приобретение автомобиля</td>\n",
       "    </tr>\n",
       "    <tr>\n",
       "      <th>2</th>\n",
       "      <td>0</td>\n",
       "      <td>5623.422610</td>\n",
       "      <td>33</td>\n",
       "      <td>Среднее</td>\n",
       "      <td>1</td>\n",
       "      <td>женат / замужем</td>\n",
       "      <td>0</td>\n",
       "      <td>M</td>\n",
       "      <td>сотрудник</td>\n",
       "      <td>0</td>\n",
       "      <td>145885.952297</td>\n",
       "      <td>покупка жилья</td>\n",
       "    </tr>\n",
       "    <tr>\n",
       "      <th>3</th>\n",
       "      <td>3</td>\n",
       "      <td>4124.747207</td>\n",
       "      <td>32</td>\n",
       "      <td>среднее</td>\n",
       "      <td>1</td>\n",
       "      <td>женат / замужем</td>\n",
       "      <td>0</td>\n",
       "      <td>M</td>\n",
       "      <td>сотрудник</td>\n",
       "      <td>0</td>\n",
       "      <td>267628.550329</td>\n",
       "      <td>дополнительное образование</td>\n",
       "    </tr>\n",
       "    <tr>\n",
       "      <th>4</th>\n",
       "      <td>0</td>\n",
       "      <td>340266.072047</td>\n",
       "      <td>53</td>\n",
       "      <td>среднее</td>\n",
       "      <td>1</td>\n",
       "      <td>гражданский брак</td>\n",
       "      <td>1</td>\n",
       "      <td>F</td>\n",
       "      <td>пенсионер</td>\n",
       "      <td>0</td>\n",
       "      <td>158616.077870</td>\n",
       "      <td>сыграть свадьбу</td>\n",
       "    </tr>\n",
       "    <tr>\n",
       "      <th>...</th>\n",
       "      <td>...</td>\n",
       "      <td>...</td>\n",
       "      <td>...</td>\n",
       "      <td>...</td>\n",
       "      <td>...</td>\n",
       "      <td>...</td>\n",
       "      <td>...</td>\n",
       "      <td>...</td>\n",
       "      <td>...</td>\n",
       "      <td>...</td>\n",
       "      <td>...</td>\n",
       "      <td>...</td>\n",
       "    </tr>\n",
       "    <tr>\n",
       "      <th>21397</th>\n",
       "      <td>1</td>\n",
       "      <td>4529.316663</td>\n",
       "      <td>43</td>\n",
       "      <td>среднее</td>\n",
       "      <td>1</td>\n",
       "      <td>гражданский брак</td>\n",
       "      <td>1</td>\n",
       "      <td>F</td>\n",
       "      <td>компаньон</td>\n",
       "      <td>0</td>\n",
       "      <td>224791.862382</td>\n",
       "      <td>операции с жильем</td>\n",
       "    </tr>\n",
       "    <tr>\n",
       "      <th>21398</th>\n",
       "      <td>0</td>\n",
       "      <td>343937.404131</td>\n",
       "      <td>67</td>\n",
       "      <td>среднее</td>\n",
       "      <td>1</td>\n",
       "      <td>женат / замужем</td>\n",
       "      <td>0</td>\n",
       "      <td>F</td>\n",
       "      <td>пенсионер</td>\n",
       "      <td>0</td>\n",
       "      <td>155999.806512</td>\n",
       "      <td>сделка с автомобилем</td>\n",
       "    </tr>\n",
       "    <tr>\n",
       "      <th>21399</th>\n",
       "      <td>1</td>\n",
       "      <td>2113.346888</td>\n",
       "      <td>38</td>\n",
       "      <td>среднее</td>\n",
       "      <td>1</td>\n",
       "      <td>гражданский брак</td>\n",
       "      <td>1</td>\n",
       "      <td>M</td>\n",
       "      <td>сотрудник</td>\n",
       "      <td>1</td>\n",
       "      <td>89672.561153</td>\n",
       "      <td>недвижимость</td>\n",
       "    </tr>\n",
       "    <tr>\n",
       "      <th>21400</th>\n",
       "      <td>3</td>\n",
       "      <td>3112.481705</td>\n",
       "      <td>38</td>\n",
       "      <td>среднее</td>\n",
       "      <td>1</td>\n",
       "      <td>женат / замужем</td>\n",
       "      <td>0</td>\n",
       "      <td>M</td>\n",
       "      <td>сотрудник</td>\n",
       "      <td>1</td>\n",
       "      <td>244093.050500</td>\n",
       "      <td>на покупку своего автомобиля</td>\n",
       "    </tr>\n",
       "    <tr>\n",
       "      <th>21401</th>\n",
       "      <td>2</td>\n",
       "      <td>1984.507589</td>\n",
       "      <td>40</td>\n",
       "      <td>среднее</td>\n",
       "      <td>1</td>\n",
       "      <td>женат / замужем</td>\n",
       "      <td>0</td>\n",
       "      <td>F</td>\n",
       "      <td>сотрудник</td>\n",
       "      <td>0</td>\n",
       "      <td>82047.418899</td>\n",
       "      <td>на покупку автомобиля</td>\n",
       "    </tr>\n",
       "  </tbody>\n",
       "</table>\n",
       "<p>21402 rows × 12 columns</p>\n",
       "</div>"
      ],
      "text/plain": [
       "       children  days_employed  dob_years education  education_id  \\\n",
       "0             1    8437.673028         42    высшее             0   \n",
       "1             1    4024.803754         36   среднее             1   \n",
       "2             0    5623.422610         33   Среднее             1   \n",
       "3             3    4124.747207         32   среднее             1   \n",
       "4             0  340266.072047         53   среднее             1   \n",
       "...         ...            ...        ...       ...           ...   \n",
       "21397         1    4529.316663         43   среднее             1   \n",
       "21398         0  343937.404131         67   среднее             1   \n",
       "21399         1    2113.346888         38   среднее             1   \n",
       "21400         3    3112.481705         38   среднее             1   \n",
       "21401         2    1984.507589         40   среднее             1   \n",
       "\n",
       "          family_status  family_status_id gender income_type  debt  \\\n",
       "0       женат / замужем                 0      F   сотрудник     0   \n",
       "1       женат / замужем                 0      F   сотрудник     0   \n",
       "2       женат / замужем                 0      M   сотрудник     0   \n",
       "3       женат / замужем                 0      M   сотрудник     0   \n",
       "4      гражданский брак                 1      F   пенсионер     0   \n",
       "...                 ...               ...    ...         ...   ...   \n",
       "21397  гражданский брак                 1      F   компаньон     0   \n",
       "21398   женат / замужем                 0      F   пенсионер     0   \n",
       "21399  гражданский брак                 1      M   сотрудник     1   \n",
       "21400   женат / замужем                 0      M   сотрудник     1   \n",
       "21401   женат / замужем                 0      F   сотрудник     0   \n",
       "\n",
       "        total_income                       purpose  \n",
       "0      253875.639453                 покупка жилья  \n",
       "1      112080.014102       приобретение автомобиля  \n",
       "2      145885.952297                 покупка жилья  \n",
       "3      267628.550329    дополнительное образование  \n",
       "4      158616.077870               сыграть свадьбу  \n",
       "...              ...                           ...  \n",
       "21397  224791.862382             операции с жильем  \n",
       "21398  155999.806512          сделка с автомобилем  \n",
       "21399   89672.561153                  недвижимость  \n",
       "21400  244093.050500  на покупку своего автомобиля  \n",
       "21401   82047.418899         на покупку автомобиля  \n",
       "\n",
       "[21402 rows x 12 columns]"
      ]
     },
     "execution_count": 51,
     "metadata": {},
     "output_type": "execute_result"
    }
   ],
   "source": [
    "anomal_val = [-1, 20]\n",
    "for val in anomal_val:\n",
    "    indexes = data[data['children'] == val].index\n",
    "    data = data.drop(indexes).reset_index(drop=True)\n",
    "data"
   ]
  },
  {
   "cell_type": "code",
   "execution_count": 52,
   "id": "df7d6e4f",
   "metadata": {
    "id": "ad4fa8b7"
   },
   "outputs": [
    {
     "data": {
      "text/plain": [
       "array([1, 0, 3, 2, 4, 5], dtype=int64)"
      ]
     },
     "execution_count": 52,
     "metadata": {},
     "output_type": "execute_result"
    }
   ],
   "source": [
    "data['children'].unique()"
   ]
  },
  {
   "cell_type": "markdown",
   "id": "9055c837",
   "metadata": {
    "deletable": false,
    "editable": false,
    "id": "75440b63"
   },
   "source": [
    "### Удаление пропусков (продолжение)"
   ]
  },
  {
   "cell_type": "code",
   "execution_count": 53,
   "id": "9d13fa01",
   "metadata": {
    "id": "af6b1a7e"
   },
   "outputs": [],
   "source": [
    "uniq_inc = data['income_type'].unique()\n",
    "for inc in uniq_inc:\n",
    "    med = data[data['income_type'] == inc]['days_employed'].median()\n",
    "    data.loc[data['income_type'] == inc, 'days_employed'] = data.loc[data['income_type'] == inc, 'days_employed'].fillna(med)"
   ]
  },
  {
   "cell_type": "code",
   "execution_count": 54,
   "id": "dafde641",
   "metadata": {
    "id": "55f78bc2"
   },
   "outputs": [
    {
     "data": {
      "text/plain": [
       "children            0\n",
       "days_employed       0\n",
       "dob_years           0\n",
       "education           0\n",
       "education_id        0\n",
       "family_status       0\n",
       "family_status_id    0\n",
       "gender              0\n",
       "income_type         0\n",
       "debt                0\n",
       "total_income        0\n",
       "purpose             0\n",
       "dtype: int64"
      ]
     },
     "execution_count": 54,
     "metadata": {},
     "output_type": "execute_result"
    }
   ],
   "source": [
    "data.isna().sum()"
   ]
  },
  {
   "cell_type": "markdown",
   "id": "a6bbadf4",
   "metadata": {
    "deletable": false,
    "editable": false,
    "id": "ddc81e43"
   },
   "source": [
    "### Изменение типов данных"
   ]
  },
  {
   "cell_type": "code",
   "execution_count": 55,
   "id": "1f762c2a",
   "metadata": {
    "id": "920b65ad"
   },
   "outputs": [],
   "source": [
    "data['total_income'] = data['total_income'].astype(int)"
   ]
  },
  {
   "cell_type": "markdown",
   "id": "767cdb2f",
   "metadata": {
    "deletable": false,
    "editable": false,
    "id": "80c420ba"
   },
   "source": [
    "### Обработка дубликатов"
   ]
  },
  {
   "cell_type": "code",
   "execution_count": 56,
   "id": "ee734ef4",
   "metadata": {},
   "outputs": [],
   "source": [
    "data['education'] = data['education'].str.lower()"
   ]
  },
  {
   "cell_type": "code",
   "execution_count": 57,
   "id": "1db6762e",
   "metadata": {
    "id": "3ee445e4"
   },
   "outputs": [
    {
     "data": {
      "text/plain": [
       "71"
      ]
     },
     "execution_count": 57,
     "metadata": {},
     "output_type": "execute_result"
    }
   ],
   "source": [
    "data.duplicated().sum()"
   ]
  },
  {
   "cell_type": "code",
   "execution_count": 58,
   "id": "28e731af",
   "metadata": {
    "id": "8575fe05"
   },
   "outputs": [
    {
     "data": {
      "text/html": [
       "<div>\n",
       "<style scoped>\n",
       "    .dataframe tbody tr th:only-of-type {\n",
       "        vertical-align: middle;\n",
       "    }\n",
       "\n",
       "    .dataframe tbody tr th {\n",
       "        vertical-align: top;\n",
       "    }\n",
       "\n",
       "    .dataframe thead th {\n",
       "        text-align: right;\n",
       "    }\n",
       "</style>\n",
       "<table border=\"1\" class=\"dataframe\">\n",
       "  <thead>\n",
       "    <tr style=\"text-align: right;\">\n",
       "      <th></th>\n",
       "      <th>children</th>\n",
       "      <th>days_employed</th>\n",
       "      <th>dob_years</th>\n",
       "      <th>education</th>\n",
       "      <th>education_id</th>\n",
       "      <th>family_status</th>\n",
       "      <th>family_status_id</th>\n",
       "      <th>gender</th>\n",
       "      <th>income_type</th>\n",
       "      <th>debt</th>\n",
       "      <th>total_income</th>\n",
       "      <th>purpose</th>\n",
       "    </tr>\n",
       "  </thead>\n",
       "  <tbody>\n",
       "    <tr>\n",
       "      <th>0</th>\n",
       "      <td>1</td>\n",
       "      <td>8437.673028</td>\n",
       "      <td>42</td>\n",
       "      <td>высшее</td>\n",
       "      <td>0</td>\n",
       "      <td>женат / замужем</td>\n",
       "      <td>0</td>\n",
       "      <td>F</td>\n",
       "      <td>сотрудник</td>\n",
       "      <td>0</td>\n",
       "      <td>253875</td>\n",
       "      <td>покупка жилья</td>\n",
       "    </tr>\n",
       "    <tr>\n",
       "      <th>1</th>\n",
       "      <td>1</td>\n",
       "      <td>4024.803754</td>\n",
       "      <td>36</td>\n",
       "      <td>среднее</td>\n",
       "      <td>1</td>\n",
       "      <td>женат / замужем</td>\n",
       "      <td>0</td>\n",
       "      <td>F</td>\n",
       "      <td>сотрудник</td>\n",
       "      <td>0</td>\n",
       "      <td>112080</td>\n",
       "      <td>приобретение автомобиля</td>\n",
       "    </tr>\n",
       "    <tr>\n",
       "      <th>2</th>\n",
       "      <td>0</td>\n",
       "      <td>5623.422610</td>\n",
       "      <td>33</td>\n",
       "      <td>среднее</td>\n",
       "      <td>1</td>\n",
       "      <td>женат / замужем</td>\n",
       "      <td>0</td>\n",
       "      <td>M</td>\n",
       "      <td>сотрудник</td>\n",
       "      <td>0</td>\n",
       "      <td>145885</td>\n",
       "      <td>покупка жилья</td>\n",
       "    </tr>\n",
       "    <tr>\n",
       "      <th>3</th>\n",
       "      <td>3</td>\n",
       "      <td>4124.747207</td>\n",
       "      <td>32</td>\n",
       "      <td>среднее</td>\n",
       "      <td>1</td>\n",
       "      <td>женат / замужем</td>\n",
       "      <td>0</td>\n",
       "      <td>M</td>\n",
       "      <td>сотрудник</td>\n",
       "      <td>0</td>\n",
       "      <td>267628</td>\n",
       "      <td>дополнительное образование</td>\n",
       "    </tr>\n",
       "    <tr>\n",
       "      <th>4</th>\n",
       "      <td>0</td>\n",
       "      <td>340266.072047</td>\n",
       "      <td>53</td>\n",
       "      <td>среднее</td>\n",
       "      <td>1</td>\n",
       "      <td>гражданский брак</td>\n",
       "      <td>1</td>\n",
       "      <td>F</td>\n",
       "      <td>пенсионер</td>\n",
       "      <td>0</td>\n",
       "      <td>158616</td>\n",
       "      <td>сыграть свадьбу</td>\n",
       "    </tr>\n",
       "    <tr>\n",
       "      <th>...</th>\n",
       "      <td>...</td>\n",
       "      <td>...</td>\n",
       "      <td>...</td>\n",
       "      <td>...</td>\n",
       "      <td>...</td>\n",
       "      <td>...</td>\n",
       "      <td>...</td>\n",
       "      <td>...</td>\n",
       "      <td>...</td>\n",
       "      <td>...</td>\n",
       "      <td>...</td>\n",
       "      <td>...</td>\n",
       "    </tr>\n",
       "    <tr>\n",
       "      <th>21326</th>\n",
       "      <td>1</td>\n",
       "      <td>4529.316663</td>\n",
       "      <td>43</td>\n",
       "      <td>среднее</td>\n",
       "      <td>1</td>\n",
       "      <td>гражданский брак</td>\n",
       "      <td>1</td>\n",
       "      <td>F</td>\n",
       "      <td>компаньон</td>\n",
       "      <td>0</td>\n",
       "      <td>224791</td>\n",
       "      <td>операции с жильем</td>\n",
       "    </tr>\n",
       "    <tr>\n",
       "      <th>21327</th>\n",
       "      <td>0</td>\n",
       "      <td>343937.404131</td>\n",
       "      <td>67</td>\n",
       "      <td>среднее</td>\n",
       "      <td>1</td>\n",
       "      <td>женат / замужем</td>\n",
       "      <td>0</td>\n",
       "      <td>F</td>\n",
       "      <td>пенсионер</td>\n",
       "      <td>0</td>\n",
       "      <td>155999</td>\n",
       "      <td>сделка с автомобилем</td>\n",
       "    </tr>\n",
       "    <tr>\n",
       "      <th>21328</th>\n",
       "      <td>1</td>\n",
       "      <td>2113.346888</td>\n",
       "      <td>38</td>\n",
       "      <td>среднее</td>\n",
       "      <td>1</td>\n",
       "      <td>гражданский брак</td>\n",
       "      <td>1</td>\n",
       "      <td>M</td>\n",
       "      <td>сотрудник</td>\n",
       "      <td>1</td>\n",
       "      <td>89672</td>\n",
       "      <td>недвижимость</td>\n",
       "    </tr>\n",
       "    <tr>\n",
       "      <th>21329</th>\n",
       "      <td>3</td>\n",
       "      <td>3112.481705</td>\n",
       "      <td>38</td>\n",
       "      <td>среднее</td>\n",
       "      <td>1</td>\n",
       "      <td>женат / замужем</td>\n",
       "      <td>0</td>\n",
       "      <td>M</td>\n",
       "      <td>сотрудник</td>\n",
       "      <td>1</td>\n",
       "      <td>244093</td>\n",
       "      <td>на покупку своего автомобиля</td>\n",
       "    </tr>\n",
       "    <tr>\n",
       "      <th>21330</th>\n",
       "      <td>2</td>\n",
       "      <td>1984.507589</td>\n",
       "      <td>40</td>\n",
       "      <td>среднее</td>\n",
       "      <td>1</td>\n",
       "      <td>женат / замужем</td>\n",
       "      <td>0</td>\n",
       "      <td>F</td>\n",
       "      <td>сотрудник</td>\n",
       "      <td>0</td>\n",
       "      <td>82047</td>\n",
       "      <td>на покупку автомобиля</td>\n",
       "    </tr>\n",
       "  </tbody>\n",
       "</table>\n",
       "<p>21331 rows × 12 columns</p>\n",
       "</div>"
      ],
      "text/plain": [
       "       children  days_employed  dob_years education  education_id  \\\n",
       "0             1    8437.673028         42    высшее             0   \n",
       "1             1    4024.803754         36   среднее             1   \n",
       "2             0    5623.422610         33   среднее             1   \n",
       "3             3    4124.747207         32   среднее             1   \n",
       "4             0  340266.072047         53   среднее             1   \n",
       "...         ...            ...        ...       ...           ...   \n",
       "21326         1    4529.316663         43   среднее             1   \n",
       "21327         0  343937.404131         67   среднее             1   \n",
       "21328         1    2113.346888         38   среднее             1   \n",
       "21329         3    3112.481705         38   среднее             1   \n",
       "21330         2    1984.507589         40   среднее             1   \n",
       "\n",
       "          family_status  family_status_id gender income_type  debt  \\\n",
       "0       женат / замужем                 0      F   сотрудник     0   \n",
       "1       женат / замужем                 0      F   сотрудник     0   \n",
       "2       женат / замужем                 0      M   сотрудник     0   \n",
       "3       женат / замужем                 0      M   сотрудник     0   \n",
       "4      гражданский брак                 1      F   пенсионер     0   \n",
       "...                 ...               ...    ...         ...   ...   \n",
       "21326  гражданский брак                 1      F   компаньон     0   \n",
       "21327   женат / замужем                 0      F   пенсионер     0   \n",
       "21328  гражданский брак                 1      M   сотрудник     1   \n",
       "21329   женат / замужем                 0      M   сотрудник     1   \n",
       "21330   женат / замужем                 0      F   сотрудник     0   \n",
       "\n",
       "       total_income                       purpose  \n",
       "0            253875                 покупка жилья  \n",
       "1            112080       приобретение автомобиля  \n",
       "2            145885                 покупка жилья  \n",
       "3            267628    дополнительное образование  \n",
       "4            158616               сыграть свадьбу  \n",
       "...             ...                           ...  \n",
       "21326        224791             операции с жильем  \n",
       "21327        155999          сделка с автомобилем  \n",
       "21328         89672                  недвижимость  \n",
       "21329        244093  на покупку своего автомобиля  \n",
       "21330         82047         на покупку автомобиля  \n",
       "\n",
       "[21331 rows x 12 columns]"
      ]
     },
     "execution_count": 58,
     "metadata": {},
     "output_type": "execute_result"
    }
   ],
   "source": [
    "data.drop_duplicates().reset_index(drop=True)"
   ]
  },
  {
   "cell_type": "markdown",
   "id": "c35783f8",
   "metadata": {
    "deletable": false,
    "editable": false,
    "id": "9904cf55"
   },
   "source": [
    "### Категоризация данных"
   ]
  },
  {
   "attachments": {},
   "cell_type": "markdown",
   "id": "839ec267",
   "metadata": {
    "deletable": false,
    "editable": false,
    "id": "72fcc8a2",
    "tags": [
     "start_task"
    ]
   },
   "source": [
    "Создам в датафрейме `data` столбец `total_income_category` с категориями:\n",
    "\n",
    "- 0–30000 — `'E'`;\n",
    "- 30001–50000 — `'D'`;\n",
    "- 50001–200000 — `'C'`;\n",
    "- 200001–1000000 — `'B'`;\n",
    "- 1000001 и выше — `'A'`."
   ]
  },
  {
   "cell_type": "code",
   "execution_count": 59,
   "id": "6e1a2f29",
   "metadata": {
    "id": "e1771346"
   },
   "outputs": [],
   "source": [
    "def categorize_income(income):\n",
    "    if income <= 30000:\n",
    "        return 'E'\n",
    "    elif 30001 <= income <= 50000:\n",
    "        return 'D'\n",
    "    elif 50001 <= income <= 200000:\n",
    "        return 'C'\n",
    "    elif 200001 <= income <= 1000000:\n",
    "        return 'B'\n",
    "    else:\n",
    "        return 'A'"
   ]
  },
  {
   "cell_type": "code",
   "execution_count": 60,
   "id": "92fd87ef",
   "metadata": {
    "id": "d5f3586d"
   },
   "outputs": [],
   "source": [
    "data['total_income_category'] = data['total_income'].apply(categorize_income)"
   ]
  },
  {
   "cell_type": "code",
   "execution_count": 61,
   "id": "f822235c",
   "metadata": {
    "id": "f67ce9b3"
   },
   "outputs": [
    {
     "data": {
      "text/plain": [
       "array(['покупка жилья', 'приобретение автомобиля',\n",
       "       'дополнительное образование', 'сыграть свадьбу',\n",
       "       'операции с жильем', 'образование', 'на проведение свадьбы',\n",
       "       'покупка жилья для семьи', 'покупка недвижимости',\n",
       "       'покупка коммерческой недвижимости', 'покупка жилой недвижимости',\n",
       "       'строительство собственной недвижимости', 'недвижимость',\n",
       "       'строительство недвижимости', 'на покупку подержанного автомобиля',\n",
       "       'на покупку своего автомобиля',\n",
       "       'операции с коммерческой недвижимостью',\n",
       "       'строительство жилой недвижимости', 'жилье',\n",
       "       'операции со своей недвижимостью', 'автомобили',\n",
       "       'заняться образованием', 'сделка с подержанным автомобилем',\n",
       "       'получение образования', 'автомобиль', 'свадьба',\n",
       "       'получение дополнительного образования', 'покупка своего жилья',\n",
       "       'операции с недвижимостью', 'получение высшего образования',\n",
       "       'свой автомобиль', 'сделка с автомобилем',\n",
       "       'профильное образование', 'высшее образование',\n",
       "       'покупка жилья для сдачи', 'на покупку автомобиля', 'ремонт жилью',\n",
       "       'заняться высшим образованием'], dtype=object)"
      ]
     },
     "execution_count": 61,
     "metadata": {},
     "output_type": "execute_result"
    }
   ],
   "source": [
    "data['purpose'].unique()"
   ]
  },
  {
   "attachments": {},
   "cell_type": "markdown",
   "id": "ffd40ce4",
   "metadata": {
    "deletable": false,
    "editable": false,
    "id": "85d0aef0",
    "tags": [
     "start_task"
    ]
   },
   "source": [
    "Создам функцию, которая на основании данных из столбца `purpose` сформирует новый столбец `purpose_category`, в который войдут следующие категории:**\n",
    "\n",
    "- `'операции с автомобилем'`,\n",
    "- `'операции с недвижимостью'`,\n",
    "- `'проведение свадьбы'`,\n",
    "- `'получение образования'`."
   ]
  },
  {
   "cell_type": "code",
   "execution_count": 62,
   "id": "8837e1e9",
   "metadata": {
    "id": "e149fab4"
   },
   "outputs": [],
   "source": [
    "def categorize_purpose(purpose):\n",
    "    if 'автомоб' in purpose:\n",
    "        return 'операции с автомобилем'\n",
    "    elif 'недвиж' in purpose or 'жиль' in purpose:\n",
    "        return 'операции с недвижимостью'\n",
    "    elif 'образ' in purpose:\n",
    "        return 'получение образования'\n",
    "    else:\n",
    "        return 'проведение свадьбы'"
   ]
  },
  {
   "cell_type": "code",
   "execution_count": 63,
   "id": "119d753f",
   "metadata": {
    "id": "bf36e69b"
   },
   "outputs": [],
   "source": [
    "data['purpose_category'] = data['purpose'].apply(categorize_purpose)"
   ]
  },
  {
   "cell_type": "code",
   "execution_count": 64,
   "id": "3c941479",
   "metadata": {},
   "outputs": [
    {
     "data": {
      "text/html": [
       "<div>\n",
       "<style scoped>\n",
       "    .dataframe tbody tr th:only-of-type {\n",
       "        vertical-align: middle;\n",
       "    }\n",
       "\n",
       "    .dataframe tbody tr th {\n",
       "        vertical-align: top;\n",
       "    }\n",
       "\n",
       "    .dataframe thead th {\n",
       "        text-align: right;\n",
       "    }\n",
       "</style>\n",
       "<table border=\"1\" class=\"dataframe\">\n",
       "  <thead>\n",
       "    <tr style=\"text-align: right;\">\n",
       "      <th></th>\n",
       "      <th>children</th>\n",
       "      <th>days_employed</th>\n",
       "      <th>dob_years</th>\n",
       "      <th>education</th>\n",
       "      <th>education_id</th>\n",
       "      <th>family_status</th>\n",
       "      <th>family_status_id</th>\n",
       "      <th>gender</th>\n",
       "      <th>income_type</th>\n",
       "      <th>debt</th>\n",
       "      <th>total_income</th>\n",
       "      <th>purpose</th>\n",
       "      <th>total_income_category</th>\n",
       "      <th>purpose_category</th>\n",
       "    </tr>\n",
       "  </thead>\n",
       "  <tbody>\n",
       "    <tr>\n",
       "      <th>0</th>\n",
       "      <td>1</td>\n",
       "      <td>8437.673028</td>\n",
       "      <td>42</td>\n",
       "      <td>высшее</td>\n",
       "      <td>0</td>\n",
       "      <td>женат / замужем</td>\n",
       "      <td>0</td>\n",
       "      <td>F</td>\n",
       "      <td>сотрудник</td>\n",
       "      <td>0</td>\n",
       "      <td>253875</td>\n",
       "      <td>покупка жилья</td>\n",
       "      <td>B</td>\n",
       "      <td>операции с недвижимостью</td>\n",
       "    </tr>\n",
       "    <tr>\n",
       "      <th>1</th>\n",
       "      <td>1</td>\n",
       "      <td>4024.803754</td>\n",
       "      <td>36</td>\n",
       "      <td>среднее</td>\n",
       "      <td>1</td>\n",
       "      <td>женат / замужем</td>\n",
       "      <td>0</td>\n",
       "      <td>F</td>\n",
       "      <td>сотрудник</td>\n",
       "      <td>0</td>\n",
       "      <td>112080</td>\n",
       "      <td>приобретение автомобиля</td>\n",
       "      <td>C</td>\n",
       "      <td>операции с автомобилем</td>\n",
       "    </tr>\n",
       "    <tr>\n",
       "      <th>2</th>\n",
       "      <td>0</td>\n",
       "      <td>5623.422610</td>\n",
       "      <td>33</td>\n",
       "      <td>среднее</td>\n",
       "      <td>1</td>\n",
       "      <td>женат / замужем</td>\n",
       "      <td>0</td>\n",
       "      <td>M</td>\n",
       "      <td>сотрудник</td>\n",
       "      <td>0</td>\n",
       "      <td>145885</td>\n",
       "      <td>покупка жилья</td>\n",
       "      <td>C</td>\n",
       "      <td>операции с недвижимостью</td>\n",
       "    </tr>\n",
       "    <tr>\n",
       "      <th>3</th>\n",
       "      <td>3</td>\n",
       "      <td>4124.747207</td>\n",
       "      <td>32</td>\n",
       "      <td>среднее</td>\n",
       "      <td>1</td>\n",
       "      <td>женат / замужем</td>\n",
       "      <td>0</td>\n",
       "      <td>M</td>\n",
       "      <td>сотрудник</td>\n",
       "      <td>0</td>\n",
       "      <td>267628</td>\n",
       "      <td>дополнительное образование</td>\n",
       "      <td>B</td>\n",
       "      <td>получение образования</td>\n",
       "    </tr>\n",
       "    <tr>\n",
       "      <th>4</th>\n",
       "      <td>0</td>\n",
       "      <td>340266.072047</td>\n",
       "      <td>53</td>\n",
       "      <td>среднее</td>\n",
       "      <td>1</td>\n",
       "      <td>гражданский брак</td>\n",
       "      <td>1</td>\n",
       "      <td>F</td>\n",
       "      <td>пенсионер</td>\n",
       "      <td>0</td>\n",
       "      <td>158616</td>\n",
       "      <td>сыграть свадьбу</td>\n",
       "      <td>C</td>\n",
       "      <td>проведение свадьбы</td>\n",
       "    </tr>\n",
       "    <tr>\n",
       "      <th>...</th>\n",
       "      <td>...</td>\n",
       "      <td>...</td>\n",
       "      <td>...</td>\n",
       "      <td>...</td>\n",
       "      <td>...</td>\n",
       "      <td>...</td>\n",
       "      <td>...</td>\n",
       "      <td>...</td>\n",
       "      <td>...</td>\n",
       "      <td>...</td>\n",
       "      <td>...</td>\n",
       "      <td>...</td>\n",
       "      <td>...</td>\n",
       "      <td>...</td>\n",
       "    </tr>\n",
       "    <tr>\n",
       "      <th>21397</th>\n",
       "      <td>1</td>\n",
       "      <td>4529.316663</td>\n",
       "      <td>43</td>\n",
       "      <td>среднее</td>\n",
       "      <td>1</td>\n",
       "      <td>гражданский брак</td>\n",
       "      <td>1</td>\n",
       "      <td>F</td>\n",
       "      <td>компаньон</td>\n",
       "      <td>0</td>\n",
       "      <td>224791</td>\n",
       "      <td>операции с жильем</td>\n",
       "      <td>B</td>\n",
       "      <td>операции с недвижимостью</td>\n",
       "    </tr>\n",
       "    <tr>\n",
       "      <th>21398</th>\n",
       "      <td>0</td>\n",
       "      <td>343937.404131</td>\n",
       "      <td>67</td>\n",
       "      <td>среднее</td>\n",
       "      <td>1</td>\n",
       "      <td>женат / замужем</td>\n",
       "      <td>0</td>\n",
       "      <td>F</td>\n",
       "      <td>пенсионер</td>\n",
       "      <td>0</td>\n",
       "      <td>155999</td>\n",
       "      <td>сделка с автомобилем</td>\n",
       "      <td>C</td>\n",
       "      <td>операции с автомобилем</td>\n",
       "    </tr>\n",
       "    <tr>\n",
       "      <th>21399</th>\n",
       "      <td>1</td>\n",
       "      <td>2113.346888</td>\n",
       "      <td>38</td>\n",
       "      <td>среднее</td>\n",
       "      <td>1</td>\n",
       "      <td>гражданский брак</td>\n",
       "      <td>1</td>\n",
       "      <td>M</td>\n",
       "      <td>сотрудник</td>\n",
       "      <td>1</td>\n",
       "      <td>89672</td>\n",
       "      <td>недвижимость</td>\n",
       "      <td>C</td>\n",
       "      <td>операции с недвижимостью</td>\n",
       "    </tr>\n",
       "    <tr>\n",
       "      <th>21400</th>\n",
       "      <td>3</td>\n",
       "      <td>3112.481705</td>\n",
       "      <td>38</td>\n",
       "      <td>среднее</td>\n",
       "      <td>1</td>\n",
       "      <td>женат / замужем</td>\n",
       "      <td>0</td>\n",
       "      <td>M</td>\n",
       "      <td>сотрудник</td>\n",
       "      <td>1</td>\n",
       "      <td>244093</td>\n",
       "      <td>на покупку своего автомобиля</td>\n",
       "      <td>B</td>\n",
       "      <td>операции с автомобилем</td>\n",
       "    </tr>\n",
       "    <tr>\n",
       "      <th>21401</th>\n",
       "      <td>2</td>\n",
       "      <td>1984.507589</td>\n",
       "      <td>40</td>\n",
       "      <td>среднее</td>\n",
       "      <td>1</td>\n",
       "      <td>женат / замужем</td>\n",
       "      <td>0</td>\n",
       "      <td>F</td>\n",
       "      <td>сотрудник</td>\n",
       "      <td>0</td>\n",
       "      <td>82047</td>\n",
       "      <td>на покупку автомобиля</td>\n",
       "      <td>C</td>\n",
       "      <td>операции с автомобилем</td>\n",
       "    </tr>\n",
       "  </tbody>\n",
       "</table>\n",
       "<p>21402 rows × 14 columns</p>\n",
       "</div>"
      ],
      "text/plain": [
       "       children  days_employed  dob_years education  education_id  \\\n",
       "0             1    8437.673028         42    высшее             0   \n",
       "1             1    4024.803754         36   среднее             1   \n",
       "2             0    5623.422610         33   среднее             1   \n",
       "3             3    4124.747207         32   среднее             1   \n",
       "4             0  340266.072047         53   среднее             1   \n",
       "...         ...            ...        ...       ...           ...   \n",
       "21397         1    4529.316663         43   среднее             1   \n",
       "21398         0  343937.404131         67   среднее             1   \n",
       "21399         1    2113.346888         38   среднее             1   \n",
       "21400         3    3112.481705         38   среднее             1   \n",
       "21401         2    1984.507589         40   среднее             1   \n",
       "\n",
       "          family_status  family_status_id gender income_type  debt  \\\n",
       "0       женат / замужем                 0      F   сотрудник     0   \n",
       "1       женат / замужем                 0      F   сотрудник     0   \n",
       "2       женат / замужем                 0      M   сотрудник     0   \n",
       "3       женат / замужем                 0      M   сотрудник     0   \n",
       "4      гражданский брак                 1      F   пенсионер     0   \n",
       "...                 ...               ...    ...         ...   ...   \n",
       "21397  гражданский брак                 1      F   компаньон     0   \n",
       "21398   женат / замужем                 0      F   пенсионер     0   \n",
       "21399  гражданский брак                 1      M   сотрудник     1   \n",
       "21400   женат / замужем                 0      M   сотрудник     1   \n",
       "21401   женат / замужем                 0      F   сотрудник     0   \n",
       "\n",
       "       total_income                       purpose total_income_category  \\\n",
       "0            253875                 покупка жилья                     B   \n",
       "1            112080       приобретение автомобиля                     C   \n",
       "2            145885                 покупка жилья                     C   \n",
       "3            267628    дополнительное образование                     B   \n",
       "4            158616               сыграть свадьбу                     C   \n",
       "...             ...                           ...                   ...   \n",
       "21397        224791             операции с жильем                     B   \n",
       "21398        155999          сделка с автомобилем                     C   \n",
       "21399         89672                  недвижимость                     C   \n",
       "21400        244093  на покупку своего автомобиля                     B   \n",
       "21401         82047         на покупку автомобиля                     C   \n",
       "\n",
       "               purpose_category  \n",
       "0      операции с недвижимостью  \n",
       "1        операции с автомобилем  \n",
       "2      операции с недвижимостью  \n",
       "3         получение образования  \n",
       "4            проведение свадьбы  \n",
       "...                         ...  \n",
       "21397  операции с недвижимостью  \n",
       "21398    операции с автомобилем  \n",
       "21399  операции с недвижимостью  \n",
       "21400    операции с автомобилем  \n",
       "21401    операции с автомобилем  \n",
       "\n",
       "[21402 rows x 14 columns]"
      ]
     },
     "execution_count": 64,
     "metadata": {},
     "output_type": "execute_result"
    }
   ],
   "source": [
    "data"
   ]
  },
  {
   "attachments": {},
   "cell_type": "markdown",
   "id": "16f7ec38",
   "metadata": {},
   "source": [
    "## Исследование данных и ответьты на вопросы"
   ]
  },
  {
   "cell_type": "markdown",
   "id": "e5dcb89d",
   "metadata": {},
   "source": [
    "#### 3.1 Есть ли зависимость между количеством детей и возвратом кредита в срок?"
   ]
  },
  {
   "cell_type": "code",
   "execution_count": 65,
   "id": "e68df420",
   "metadata": {},
   "outputs": [
    {
     "data": {
      "text/plain": [
       "children\n",
       "0    7.512898\n",
       "1    9.215442\n",
       "2    9.440389\n",
       "3    8.181818\n",
       "4    9.756098\n",
       "5    0.000000\n",
       "Name: debt, dtype: float64"
      ]
     },
     "execution_count": 65,
     "metadata": {},
     "output_type": "execute_result"
    }
   ],
   "source": [
    "data.groupby('children')['debt'].mean() * 100"
   ]
  },
  {
   "cell_type": "markdown",
   "id": "174b515f",
   "metadata": {},
   "source": [
    "**Вывод:** имеется слабо выраженная связь: для любого количества детей от 1 до 4 процент невыплаты кредита держится на уровне 8 - 9%, лишь у людей без детей эта метрика опускается до 7,5%, что говорит о повышенной платежеспособности этой категории относительно других. Внимание вызывает категория с 5 детьми - процент невыплаты здесь 0%, думаю это обусловлено маленькой выборкой. В конечном итоге, если брать во внимание количество детей заёмщика, то предпочтительнее будет клиент без детей."
   ]
  },
  {
   "cell_type": "markdown",
   "id": "928b0db0",
   "metadata": {},
   "source": [
    "#### 3.2 Есть ли зависимость между семейным положением и возвратом кредита в срок?"
   ]
  },
  {
   "cell_type": "code",
   "execution_count": 66,
   "id": "3740c1c9",
   "metadata": {},
   "outputs": [
    {
     "data": {
      "text/plain": [
       "family_status\n",
       "Не женат / не замужем    9.753483\n",
       "в разводе                7.064760\n",
       "вдовец / вдова           6.617647\n",
       "гражданский брак         9.254808\n",
       "женат / замужем          7.535360\n",
       "Name: debt, dtype: float64"
      ]
     },
     "execution_count": 66,
     "metadata": {},
     "output_type": "execute_result"
    }
   ],
   "source": [
    "data.groupby('family_status')['debt'].mean() * 100"
   ]
  },
  {
   "cell_type": "markdown",
   "id": "37dff16b",
   "metadata": {},
   "source": [
    "**Вывод:** связь прослеживается. Самые ненадежные категории - не женатые / не замужние люди и пары, состоящие в гражданском браке - тут процент невыплаты держится на уровне 9,5%, за ними следуют разведённые и жентые / замужние люди - процент невозврата около 7,25%, а самые подходящие заёмщики - вдовы / вдовцы - невыплата на уровне 6,5%."
   ]
  },
  {
   "cell_type": "markdown",
   "id": "f09e7e05",
   "metadata": {},
   "source": [
    "#### 3.3 Есть ли зависимость между уровнем дохода и возвратом кредита в срок?"
   ]
  },
  {
   "cell_type": "markdown",
   "id": "7df463ec",
   "metadata": {},
   "source": [
    "Сперва, как и в прошлых случаях, оценим процентное соотношение невыплативших кредит и общего числа заёмщиков для каждой категории:"
   ]
  },
  {
   "cell_type": "code",
   "execution_count": 67,
   "id": "f6605206",
   "metadata": {},
   "outputs": [
    {
     "data": {
      "text/plain": [
       "total_income_category\n",
       "A    8.000000\n",
       "B    7.060231\n",
       "C    8.460480\n",
       "D    6.017192\n",
       "E    9.090909\n",
       "Name: debt, dtype: float64"
      ]
     },
     "execution_count": 67,
     "metadata": {},
     "output_type": "execute_result"
    }
   ],
   "source": [
    "data.groupby('total_income_category')['debt'].mean() * 100"
   ]
  },
  {
   "cell_type": "markdown",
   "id": "e71dc047",
   "metadata": {},
   "source": [
    "На первый взгляд, конкретной связи тут не прослеживается, например у людей с доходом более 1.000.000 и от 50.000 до 200.000(категории A и C соотвественно) одинаковый уровень невозврата, около 8%. Самые ненадежные заёмщики, с невозвратом более чем в 9% случаев - люди из категории E, с доходом до 30.000, а самые подходящие клиенты - заёмщики из категории D(внезапно), доход которых варьируется от 30.000 до 50.000, процент невыплаты в данной категории всего 6%."
   ]
  },
  {
   "cell_type": "markdown",
   "id": "340fbad4",
   "metadata": {},
   "source": [
    "Теперь попробуем взглянуть на количество людей в каждой категории:"
   ]
  },
  {
   "cell_type": "code",
   "execution_count": 68,
   "id": "b26f58b7",
   "metadata": {},
   "outputs": [
    {
     "data": {
      "text/plain": [
       "total_income_category\n",
       "A       25\n",
       "B     5014\n",
       "C    15992\n",
       "D      349\n",
       "E       22\n",
       "Name: debt, dtype: int64"
      ]
     },
     "execution_count": 68,
     "metadata": {},
     "output_type": "execute_result"
    }
   ],
   "source": [
    "data.groupby('total_income_category')['debt'].count()"
   ]
  },
  {
   "cell_type": "markdown",
   "id": "9cd5dfec",
   "metadata": {},
   "source": [
    "Становится очевидным, что объективный показатель получен только для категорий C и B, так как в них достаточное для анализа количество данных. В категориях D, A, E, напротив, крайне мало данных, для того, чтобы делать какие - то выводы, поэтому наличие связи тут отследить не представляется возможным."
   ]
  },
  {
   "cell_type": "markdown",
   "id": "47a0cd3d",
   "metadata": {},
   "source": [
    "**Вывод:** невозможно установить наличие связи, слишком маленькая выборка."
   ]
  },
  {
   "cell_type": "markdown",
   "id": "0441bf4a",
   "metadata": {},
   "source": [
    "#### 3.4 Как разные цели кредита влияют на его возврат в срок?"
   ]
  },
  {
   "cell_type": "code",
   "execution_count": 69,
   "id": "75db0e00",
   "metadata": {},
   "outputs": [
    {
     "data": {
      "text/plain": [
       "purpose_category\n",
       "операции с автомобилем      9.328358\n",
       "операции с недвижимостью    7.235622\n",
       "получение образования       9.231924\n",
       "проведение свадьбы          7.830552\n",
       "Name: debt, dtype: float64"
      ]
     },
     "execution_count": 69,
     "metadata": {},
     "output_type": "execute_result"
    }
   ],
   "source": [
    "data.groupby('purpose_category')['debt'].mean() * 100"
   ]
  },
  {
   "cell_type": "markdown",
   "id": "575b37e1",
   "metadata": {},
   "source": [
    "**Вывод:** самый большой процент невозврата у заёмов, связанных с автомобилями - 9,35%, чуть ниже этот показатель у образовательных кредитов - 9,25%. Свадебные кредиты невозвращаются почти в 8% случаев(7,9%), а заёмы на недижимость не возвращают реже всего - лишь в 7,25% случаев, что делает эти заёмы самыми предпочтительными для банка."
   ]
  },
  {
   "cell_type": "markdown",
   "id": "19868aee",
   "metadata": {},
   "source": [
    "#### 3.5 Приведите возможные причины появления пропусков в исходных данных."
   ]
  },
  {
   "cell_type": "markdown",
   "id": "24146dba",
   "metadata": {},
   "source": [
    "*Ответ:* помимо прочих причин по типу технической ошибки при выгрузке данных или человеческого фактора при ручном переносе данных, заёмщики могли намеренно умолчать эту информацию в собственных интересах: пропущенные данные были в столбцах про стаж и доход. Возможно, заёмщик, считая фактор дохода ключевым, не стал уточнять цифру, а может он побоялся проблем с налоговой."
   ]
  },
  {
   "cell_type": "markdown",
   "id": "851d79c2",
   "metadata": {},
   "source": [
    "#### 3.6 Объясните, почему заполнить пропуски медианным значением — лучшее решение для количественных переменных."
   ]
  },
  {
   "cell_type": "markdown",
   "id": "6f49902c",
   "metadata": {},
   "source": [
    "*Ответ:* всё дело в так называемых выбросах, которые часто бывают в количественных переменных. Выбросы очень сильно влияют на среднее значение, искажая его, а медиана к выбросам устойчива."
   ]
  },
  {
   "cell_type": "markdown",
   "id": "f59be2da",
   "metadata": {},
   "source": [
    "### Шаг 4: общий вывод."
   ]
  },
  {
   "cell_type": "markdown",
   "id": "4e8ed244",
   "metadata": {},
   "source": [
    "Явно прослеживается связь между семейным положением и платежеспособностью, чуть менее явно - между платежеспособностью и количеством детей. С уровнем дохода связь установить не удалось из - за недостатка данных. Таким образом, на выбор кандидата точно стоит учитывать семейное положение и количество детей.\n",
    "\n",
    "Судя по полученным сведениям, портрет самого надежного для банка заёмщика выглядит так:\n",
    "1. Бездетный\n",
    "2. Вдовец / вдова\n",
    "3. Заём связан с недвижимостью\n",
    "\n",
    "Также можно составить портрет самого нежелательного заёмщика:\n",
    "1. 4 ребёнка\n",
    "2. Не женат / не замужем\n",
    "3. Заём связан с автомобилями\n"
   ]
  }
 ],
 "metadata": {
  "ExecuteTimeLog": [
   {
    "duration": 40,
    "start_time": "2022-08-29T13:39:49.356Z"
   },
   {
    "duration": 361,
    "start_time": "2022-08-29T13:39:53.766Z"
   },
   {
    "duration": 124,
    "start_time": "2022-08-29T13:39:54.148Z"
   },
   {
    "duration": 20,
    "start_time": "2022-08-29T13:39:55.132Z"
   },
   {
    "duration": 15,
    "start_time": "2022-08-29T13:41:33.661Z"
   },
   {
    "duration": 9,
    "start_time": "2022-08-29T13:42:15.459Z"
   },
   {
    "duration": 13,
    "start_time": "2022-08-29T13:42:51.701Z"
   },
   {
    "duration": 14,
    "start_time": "2022-08-29T13:43:00.019Z"
   },
   {
    "duration": 17,
    "start_time": "2022-08-29T13:44:55.457Z"
   },
   {
    "duration": 7,
    "start_time": "2022-08-29T13:45:12.366Z"
   },
   {
    "duration": 3,
    "start_time": "2022-08-29T13:58:18.062Z"
   },
   {
    "duration": 4,
    "start_time": "2022-08-29T13:58:21.403Z"
   },
   {
    "duration": 5,
    "start_time": "2022-08-29T13:58:31.581Z"
   },
   {
    "duration": 5,
    "start_time": "2022-08-29T13:58:57.100Z"
   },
   {
    "duration": 31,
    "start_time": "2022-08-29T14:03:47.268Z"
   },
   {
    "duration": 39,
    "start_time": "2022-08-29T14:04:08.258Z"
   },
   {
    "duration": 59,
    "start_time": "2022-08-29T14:04:37.352Z"
   },
   {
    "duration": 39,
    "start_time": "2022-08-29T14:06:38.925Z"
   },
   {
    "duration": 136,
    "start_time": "2022-08-29T14:07:03.535Z"
   },
   {
    "duration": 174,
    "start_time": "2022-08-29T14:10:07.645Z"
   },
   {
    "duration": 170,
    "start_time": "2022-08-29T14:10:19.836Z"
   },
   {
    "duration": 213,
    "start_time": "2022-08-29T14:11:17.682Z"
   },
   {
    "duration": 1415,
    "start_time": "2022-08-29T14:12:52.147Z"
   },
   {
    "duration": 947,
    "start_time": "2022-08-29T14:13:18.651Z"
   },
   {
    "duration": 50,
    "start_time": "2022-08-29T14:13:45.129Z"
   },
   {
    "duration": 28,
    "start_time": "2022-08-29T14:13:49.727Z"
   },
   {
    "duration": 39,
    "start_time": "2022-08-29T14:14:06.935Z"
   },
   {
    "duration": 2,
    "start_time": "2022-08-29T14:15:29.035Z"
   },
   {
    "duration": 83,
    "start_time": "2022-08-29T14:15:29.039Z"
   },
   {
    "duration": 14,
    "start_time": "2022-08-29T14:15:29.124Z"
   },
   {
    "duration": 26,
    "start_time": "2022-08-29T14:15:29.140Z"
   },
   {
    "duration": 14,
    "start_time": "2022-08-29T14:15:29.170Z"
   },
   {
    "duration": 42,
    "start_time": "2022-08-29T14:15:29.186Z"
   },
   {
    "duration": 5,
    "start_time": "2022-08-29T14:15:29.230Z"
   },
   {
    "duration": 3,
    "start_time": "2022-08-29T14:15:29.237Z"
   },
   {
    "duration": 35,
    "start_time": "2022-08-29T14:15:29.242Z"
   },
   {
    "duration": 5,
    "start_time": "2022-08-29T14:15:29.280Z"
   },
   {
    "duration": 5,
    "start_time": "2022-08-29T14:15:29.288Z"
   },
   {
    "duration": 6,
    "start_time": "2022-08-29T14:15:29.294Z"
   },
   {
    "duration": 4,
    "start_time": "2022-08-29T14:15:29.302Z"
   },
   {
    "duration": 4,
    "start_time": "2022-08-29T14:15:29.308Z"
   },
   {
    "duration": 7,
    "start_time": "2022-08-29T14:15:29.314Z"
   },
   {
    "duration": 8,
    "start_time": "2022-08-29T14:15:29.322Z"
   },
   {
    "duration": 8,
    "start_time": "2022-08-29T14:15:29.332Z"
   },
   {
    "duration": 7,
    "start_time": "2022-08-29T14:15:29.342Z"
   },
   {
    "duration": 6,
    "start_time": "2022-08-29T14:15:29.351Z"
   },
   {
    "duration": 24,
    "start_time": "2022-08-29T14:15:29.360Z"
   },
   {
    "duration": 6,
    "start_time": "2022-08-29T14:15:29.386Z"
   },
   {
    "duration": 8,
    "start_time": "2022-08-29T14:15:29.393Z"
   },
   {
    "duration": 68,
    "start_time": "2022-08-29T14:16:31.937Z"
   },
   {
    "duration": 385,
    "start_time": "2022-08-29T15:56:08.477Z"
   },
   {
    "duration": 284,
    "start_time": "2022-08-29T15:56:08.864Z"
   },
   {
    "duration": 19,
    "start_time": "2022-08-29T15:56:09.150Z"
   },
   {
    "duration": 12,
    "start_time": "2022-08-29T15:56:09.171Z"
   },
   {
    "duration": 8,
    "start_time": "2022-08-29T15:56:09.185Z"
   },
   {
    "duration": 57,
    "start_time": "2022-08-29T15:56:09.195Z"
   },
   {
    "duration": 2,
    "start_time": "2022-08-29T15:56:09.253Z"
   },
   {
    "duration": 9,
    "start_time": "2022-08-29T15:56:09.256Z"
   },
   {
    "duration": 7,
    "start_time": "2022-08-29T15:56:09.266Z"
   },
   {
    "duration": 8,
    "start_time": "2022-08-29T15:56:09.275Z"
   },
   {
    "duration": 10,
    "start_time": "2022-08-29T15:56:09.284Z"
   },
   {
    "duration": 5,
    "start_time": "2022-08-29T15:56:09.295Z"
   },
   {
    "duration": 14,
    "start_time": "2022-08-29T15:56:09.301Z"
   },
   {
    "duration": 6,
    "start_time": "2022-08-29T15:56:09.316Z"
   },
   {
    "duration": 7,
    "start_time": "2022-08-29T15:56:09.323Z"
   },
   {
    "duration": 8,
    "start_time": "2022-08-29T15:56:09.331Z"
   },
   {
    "duration": 5,
    "start_time": "2022-08-29T15:56:09.340Z"
   },
   {
    "duration": 6,
    "start_time": "2022-08-29T15:56:09.346Z"
   },
   {
    "duration": 4,
    "start_time": "2022-08-29T15:56:09.353Z"
   },
   {
    "duration": 8,
    "start_time": "2022-08-29T15:56:09.358Z"
   },
   {
    "duration": 5,
    "start_time": "2022-08-29T15:56:09.367Z"
   },
   {
    "duration": 6,
    "start_time": "2022-08-29T15:56:09.373Z"
   },
   {
    "duration": 3,
    "start_time": "2022-08-29T16:04:23.622Z"
   },
   {
    "duration": 7,
    "start_time": "2022-08-29T16:08:24.074Z"
   },
   {
    "duration": 7,
    "start_time": "2022-08-29T16:09:04.829Z"
   },
   {
    "duration": 8,
    "start_time": "2022-08-29T16:09:08.803Z"
   },
   {
    "duration": 5,
    "start_time": "2022-08-29T16:11:09.614Z"
   },
   {
    "duration": 3,
    "start_time": "2022-08-29T16:14:26.448Z"
   },
   {
    "duration": 91,
    "start_time": "2022-08-29T16:14:26.453Z"
   },
   {
    "duration": 15,
    "start_time": "2022-08-29T16:14:26.545Z"
   },
   {
    "duration": 13,
    "start_time": "2022-08-29T16:14:26.561Z"
   },
   {
    "duration": 8,
    "start_time": "2022-08-29T16:14:26.576Z"
   },
   {
    "duration": 76,
    "start_time": "2022-08-29T16:14:26.585Z"
   },
   {
    "duration": 3,
    "start_time": "2022-08-29T16:14:26.662Z"
   },
   {
    "duration": 11,
    "start_time": "2022-08-29T16:14:26.667Z"
   },
   {
    "duration": 4,
    "start_time": "2022-08-29T16:14:26.679Z"
   },
   {
    "duration": 2,
    "start_time": "2022-08-29T16:14:26.711Z"
   },
   {
    "duration": 3,
    "start_time": "2022-08-29T16:14:26.716Z"
   },
   {
    "duration": 5,
    "start_time": "2022-08-29T16:14:26.720Z"
   },
   {
    "duration": 3,
    "start_time": "2022-08-29T16:14:26.727Z"
   },
   {
    "duration": 4,
    "start_time": "2022-08-29T16:14:26.732Z"
   },
   {
    "duration": 11,
    "start_time": "2022-08-29T16:14:26.738Z"
   },
   {
    "duration": 5,
    "start_time": "2022-08-29T16:14:26.751Z"
   },
   {
    "duration": 7,
    "start_time": "2022-08-29T16:14:26.757Z"
   },
   {
    "duration": 9,
    "start_time": "2022-08-29T16:14:26.765Z"
   },
   {
    "duration": 7,
    "start_time": "2022-08-29T16:14:26.776Z"
   },
   {
    "duration": 5,
    "start_time": "2022-08-29T16:14:26.784Z"
   },
   {
    "duration": 2,
    "start_time": "2022-08-29T16:14:26.811Z"
   },
   {
    "duration": 79,
    "start_time": "2022-08-29T16:18:00.862Z"
   },
   {
    "duration": 14,
    "start_time": "2022-08-29T16:18:09.087Z"
   },
   {
    "duration": 5,
    "start_time": "2022-08-29T16:18:33.217Z"
   },
   {
    "duration": 20,
    "start_time": "2022-08-29T16:18:42.818Z"
   },
   {
    "duration": 9,
    "start_time": "2022-08-29T16:20:12.437Z"
   },
   {
    "duration": 8,
    "start_time": "2022-08-29T16:20:45.925Z"
   },
   {
    "duration": 10,
    "start_time": "2022-08-29T16:21:07.059Z"
   },
   {
    "duration": 38,
    "start_time": "2022-08-29T16:21:15.619Z"
   },
   {
    "duration": 28,
    "start_time": "2022-08-29T16:21:37.666Z"
   },
   {
    "duration": 4,
    "start_time": "2022-08-29T16:23:33.050Z"
   },
   {
    "duration": 755,
    "start_time": "2022-08-29T16:27:51.139Z"
   },
   {
    "duration": 41,
    "start_time": "2022-08-29T16:28:14.320Z"
   },
   {
    "duration": 9,
    "start_time": "2022-08-29T16:28:55.388Z"
   },
   {
    "duration": 6,
    "start_time": "2022-08-29T16:31:50.329Z"
   },
   {
    "duration": 2,
    "start_time": "2022-08-29T16:32:51.237Z"
   },
   {
    "duration": 76,
    "start_time": "2022-08-29T16:32:51.242Z"
   },
   {
    "duration": 13,
    "start_time": "2022-08-29T16:32:51.319Z"
   },
   {
    "duration": 19,
    "start_time": "2022-08-29T16:32:51.334Z"
   },
   {
    "duration": 10,
    "start_time": "2022-08-29T16:32:51.355Z"
   },
   {
    "duration": 67,
    "start_time": "2022-08-29T16:32:51.366Z"
   },
   {
    "duration": 3,
    "start_time": "2022-08-29T16:32:51.435Z"
   },
   {
    "duration": 27,
    "start_time": "2022-08-29T16:32:51.440Z"
   },
   {
    "duration": 16,
    "start_time": "2022-08-29T16:32:51.469Z"
   },
   {
    "duration": 31,
    "start_time": "2022-08-29T16:32:51.487Z"
   },
   {
    "duration": 4,
    "start_time": "2022-08-29T16:32:51.521Z"
   },
   {
    "duration": 65,
    "start_time": "2022-08-29T16:32:51.526Z"
   },
   {
    "duration": 10,
    "start_time": "2022-08-29T16:32:51.592Z"
   },
   {
    "duration": 15,
    "start_time": "2022-08-29T16:32:51.603Z"
   },
   {
    "duration": 15,
    "start_time": "2022-08-29T16:32:51.620Z"
   },
   {
    "duration": 16,
    "start_time": "2022-08-29T16:32:51.637Z"
   },
   {
    "duration": 11,
    "start_time": "2022-08-29T16:32:51.655Z"
   },
   {
    "duration": 13,
    "start_time": "2022-08-29T16:32:51.668Z"
   },
   {
    "duration": 13,
    "start_time": "2022-08-29T16:32:51.683Z"
   },
   {
    "duration": 15,
    "start_time": "2022-08-29T16:32:51.698Z"
   },
   {
    "duration": 5,
    "start_time": "2022-08-29T16:32:51.715Z"
   },
   {
    "duration": 9,
    "start_time": "2022-08-29T16:32:51.722Z"
   },
   {
    "duration": 10,
    "start_time": "2022-08-29T16:33:36.410Z"
   },
   {
    "duration": 17,
    "start_time": "2022-08-29T16:34:02.129Z"
   },
   {
    "duration": 46,
    "start_time": "2022-08-29T16:34:29.972Z"
   },
   {
    "duration": 2,
    "start_time": "2022-08-29T16:34:56.408Z"
   },
   {
    "duration": 69,
    "start_time": "2022-08-29T16:34:56.412Z"
   },
   {
    "duration": 14,
    "start_time": "2022-08-29T16:34:56.482Z"
   },
   {
    "duration": 22,
    "start_time": "2022-08-29T16:34:56.498Z"
   },
   {
    "duration": 10,
    "start_time": "2022-08-29T16:34:56.523Z"
   },
   {
    "duration": 54,
    "start_time": "2022-08-29T16:34:56.534Z"
   },
   {
    "duration": 23,
    "start_time": "2022-08-29T16:34:56.589Z"
   },
   {
    "duration": 16,
    "start_time": "2022-08-29T16:34:56.614Z"
   },
   {
    "duration": 5,
    "start_time": "2022-08-29T16:34:56.632Z"
   },
   {
    "duration": 32,
    "start_time": "2022-08-29T16:34:56.639Z"
   },
   {
    "duration": 4,
    "start_time": "2022-08-29T16:34:56.673Z"
   },
   {
    "duration": 64,
    "start_time": "2022-08-29T16:34:56.678Z"
   },
   {
    "duration": 11,
    "start_time": "2022-08-29T16:34:56.743Z"
   },
   {
    "duration": 4,
    "start_time": "2022-08-29T16:34:56.756Z"
   },
   {
    "duration": 12,
    "start_time": "2022-08-29T16:34:56.761Z"
   },
   {
    "duration": 36,
    "start_time": "2022-08-29T16:34:56.775Z"
   },
   {
    "duration": 29,
    "start_time": "2022-08-29T16:34:56.813Z"
   },
   {
    "duration": 2,
    "start_time": "2022-08-29T16:34:56.843Z"
   },
   {
    "duration": 8,
    "start_time": "2022-08-29T16:34:56.846Z"
   },
   {
    "duration": 6,
    "start_time": "2022-08-29T16:34:56.855Z"
   },
   {
    "duration": 5,
    "start_time": "2022-08-29T16:34:56.863Z"
   },
   {
    "duration": 6,
    "start_time": "2022-08-29T16:34:56.870Z"
   },
   {
    "duration": 7,
    "start_time": "2022-08-29T16:38:38.744Z"
   },
   {
    "duration": 3,
    "start_time": "2022-08-29T16:38:43.614Z"
   },
   {
    "duration": 9,
    "start_time": "2022-08-29T16:38:44.986Z"
   },
   {
    "duration": 3,
    "start_time": "2022-08-29T16:44:28.952Z"
   },
   {
    "duration": 68,
    "start_time": "2022-08-29T16:44:28.957Z"
   },
   {
    "duration": 14,
    "start_time": "2022-08-29T16:44:29.027Z"
   },
   {
    "duration": 13,
    "start_time": "2022-08-29T16:44:29.043Z"
   },
   {
    "duration": 9,
    "start_time": "2022-08-29T16:44:29.058Z"
   },
   {
    "duration": 75,
    "start_time": "2022-08-29T16:44:29.069Z"
   },
   {
    "duration": 3,
    "start_time": "2022-08-29T16:44:29.145Z"
   },
   {
    "duration": 10,
    "start_time": "2022-08-29T16:44:29.149Z"
   },
   {
    "duration": 4,
    "start_time": "2022-08-29T16:44:29.160Z"
   },
   {
    "duration": 46,
    "start_time": "2022-08-29T16:44:29.165Z"
   },
   {
    "duration": 4,
    "start_time": "2022-08-29T16:44:29.213Z"
   },
   {
    "duration": 47,
    "start_time": "2022-08-29T16:44:29.219Z"
   },
   {
    "duration": 8,
    "start_time": "2022-08-29T16:44:29.268Z"
   },
   {
    "duration": 11,
    "start_time": "2022-08-29T16:44:29.278Z"
   },
   {
    "duration": 12,
    "start_time": "2022-08-29T16:44:29.290Z"
   },
   {
    "duration": 17,
    "start_time": "2022-08-29T16:44:29.311Z"
   },
   {
    "duration": 31,
    "start_time": "2022-08-29T16:44:29.329Z"
   },
   {
    "duration": 3,
    "start_time": "2022-08-29T16:44:29.362Z"
   },
   {
    "duration": 13,
    "start_time": "2022-08-29T16:44:29.366Z"
   },
   {
    "duration": 6,
    "start_time": "2022-08-29T16:44:29.380Z"
   },
   {
    "duration": 5,
    "start_time": "2022-08-29T16:44:29.387Z"
   },
   {
    "duration": 2,
    "start_time": "2022-08-29T16:44:29.411Z"
   },
   {
    "duration": 6,
    "start_time": "2022-08-29T16:44:49.355Z"
   },
   {
    "duration": 6,
    "start_time": "2022-08-29T16:50:02.124Z"
   },
   {
    "duration": 3,
    "start_time": "2022-08-29T16:50:09.021Z"
   },
   {
    "duration": 8,
    "start_time": "2022-08-29T16:50:09.307Z"
   },
   {
    "duration": 19,
    "start_time": "2022-08-29T16:50:16.195Z"
   }
  ],
  "colab": {
   "name": "dpp_template_part1.ipynb",
   "provenance": []
  },
  "kernelspec": {
   "display_name": "Python 3 (ipykernel)",
   "language": "python",
   "name": "python3"
  },
  "language_info": {
   "codemirror_mode": {
    "name": "ipython",
    "version": 3
   },
   "file_extension": ".py",
   "mimetype": "text/x-python",
   "name": "python",
   "nbconvert_exporter": "python",
   "pygments_lexer": "ipython3",
   "version": "3.10.7"
  },
  "toc": {
   "base_numbering": 1,
   "nav_menu": {},
   "number_sections": true,
   "sideBar": true,
   "skip_h1_title": true,
   "title_cell": "Table of Contents",
   "title_sidebar": "Contents",
   "toc_cell": false,
   "toc_position": {},
   "toc_section_display": true,
   "toc_window_display": false
  }
 },
 "nbformat": 4,
 "nbformat_minor": 5
}
