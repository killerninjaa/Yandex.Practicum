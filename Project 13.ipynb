{
 "cells": [
  {
   "cell_type": "markdown",
   "metadata": {
    "id": "Vu0ZZm4HjP4_"
   },
   "source": [
    "# Проект для «Викишоп»"
   ]
  },
  {
   "cell_type": "markdown",
   "metadata": {
    "id": "6GsxTsiHjP5F"
   },
   "source": [
    "Интернет-магазин «Викишоп» запускает новый сервис. Теперь пользователи могут редактировать и дополнять описания товаров, как в вики-сообществах. То есть клиенты предлагают свои правки и комментируют изменения других. Магазину нужен инструмент, который будет искать токсичные комментарии и отправлять их на модерацию. \n",
    "\n",
    "**Цель**: обучить модель классифицировать комментарии на позитивные и негативные, значением метрики качества *F1* не должно быть  меньше 0.75. В моём распоряжении набор данных с разметкой о токсичности правок.\n",
    "\n",
    "**План:**\n",
    "\n",
    "1. Загрузка и подготовка данных.\n",
    "2. Обучение разных моделей. \n",
    "3. Формирование выводов."
   ]
  },
  {
   "cell_type": "markdown",
   "metadata": {
    "id": "ZCknUAdZjP5H"
   },
   "source": [
    "**Установка библиотек**"
   ]
  },
  {
   "cell_type": "code",
   "execution_count": 1,
   "metadata": {
    "colab": {
     "base_uri": "https://localhost:8080/"
    },
    "executionInfo": {
     "elapsed": 4781,
     "status": "ok",
     "timestamp": 1675619106976,
     "user": {
      "displayName": "Максим Рогачев",
      "userId": "12573523291307481748"
     },
     "user_tz": -180
    },
    "id": "CVk-cqn6jP5J",
    "outputId": "3d7678d4-d67b-4291-f02b-ef76c37cbe41"
   },
   "outputs": [
    {
     "name": "stderr",
     "output_type": "stream",
     "text": [
      "\n",
      "[notice] A new release of pip available: 22.2.2 -> 23.1.2\n",
      "[notice] To update, run: python.exe -m pip install --upgrade pip\n"
     ]
    }
   ],
   "source": [
    "!pip install catboost -q"
   ]
  },
  {
   "cell_type": "code",
   "execution_count": 2,
   "metadata": {
    "colab": {
     "base_uri": "https://localhost:8080/"
    },
    "executionInfo": {
     "elapsed": 6797,
     "status": "ok",
     "timestamp": 1675619113764,
     "user": {
      "displayName": "Максим Рогачев",
      "userId": "12573523291307481748"
     },
     "user_tz": -180
    },
    "id": "5mz3Ym1yjP5M",
    "outputId": "b8337271-a390-4fee-8494-38a351fb1190"
   },
   "outputs": [
    {
     "name": "stderr",
     "output_type": "stream",
     "text": [
      "\n",
      "[notice] A new release of pip available: 22.2.2 -> 23.1.2\n",
      "[notice] To update, run: python.exe -m pip install --upgrade pip\n"
     ]
    }
   ],
   "source": [
    "!pip install lightgbm -q"
   ]
  },
  {
   "cell_type": "code",
   "execution_count": 3,
   "metadata": {},
   "outputs": [
    {
     "name": "stderr",
     "output_type": "stream",
     "text": [
      "\n",
      "[notice] A new release of pip available: 22.2.2 -> 23.1.2\n",
      "[notice] To update, run: python.exe -m pip install --upgrade pip\n"
     ]
    }
   ],
   "source": [
    "!pip install imblearn -q"
   ]
  },
  {
   "cell_type": "markdown",
   "metadata": {
    "id": "RG6KJ2AHjP5O"
   },
   "source": [
    "### 1. Подготовка данных"
   ]
  },
  {
   "cell_type": "code",
   "execution_count": 4,
   "metadata": {
    "executionInfo": {
     "elapsed": 2052,
     "status": "ok",
     "timestamp": 1675619121006,
     "user": {
      "displayName": "Максим Рогачев",
      "userId": "12573523291307481748"
     },
     "user_tz": -180
    },
    "id": "PwkWlHqwjP5O"
   },
   "outputs": [
    {
     "name": "stderr",
     "output_type": "stream",
     "text": [
      "[nltk_data] Downloading package wordnet to\n",
      "[nltk_data]     C:\\Users\\pivka\\AppData\\Roaming\\nltk_data...\n"
     ]
    },
    {
     "data": {
      "text/plain": [
       "True"
      ]
     },
     "execution_count": 4,
     "metadata": {},
     "output_type": "execute_result"
    }
   ],
   "source": [
    "import pandas as pd\n",
    "import numpy as np\n",
    "\n",
    "from sklearn.model_selection import train_test_split, RandomizedSearchCV\n",
    "from imblearn.pipeline import make_pipeline\n",
    "\n",
    "from sklearn.dummy import DummyClassifier\n",
    "from sklearn.ensemble import RandomForestClassifier\n",
    "from catboost import CatBoostClassifier\n",
    "from lightgbm import LGBMClassifier\n",
    "from sklearn.linear_model import LogisticRegression\n",
    "\n",
    "from sklearn.metrics import make_scorer, f1_score\n",
    "\n",
    "from sklearn.feature_extraction.text import TfidfVectorizer\n",
    "import nltk\n",
    "from nltk.corpus import stopwords as nltk_stopwords\n",
    "from nltk.stem import WordNetLemmatizer \n",
    "import re\n",
    "\n",
    "nltk.download('wordnet')"
   ]
  },
  {
   "cell_type": "code",
   "execution_count": 4,
   "metadata": {
    "colab": {
     "base_uri": "https://localhost:8080/",
     "height": 237
    },
    "executionInfo": {
     "elapsed": 1781,
     "status": "ok",
     "timestamp": 1675619122780,
     "user": {
      "displayName": "Максим Рогачев",
      "userId": "12573523291307481748"
     },
     "user_tz": -180
    },
    "id": "N3309xFnjP5P",
    "outputId": "df9b1d4b-4d73-4672-94af-f816dde5bc9b"
   },
   "outputs": [],
   "source": [
    "data = pd.read_csv('toxic_comments.csv', index_col='Unnamed: 0')\n",
    "data.index.name = 'Number'\n",
    "data.head()\n",
    "data = data.reset_index(drop=True)"
   ]
  },
  {
   "cell_type": "code",
   "execution_count": 5,
   "metadata": {
    "colab": {
     "base_uri": "https://localhost:8080/"
    },
    "executionInfo": {
     "elapsed": 25,
     "status": "ok",
     "timestamp": 1675619122781,
     "user": {
      "displayName": "Максим Рогачев",
      "userId": "12573523291307481748"
     },
     "user_tz": -180
    },
    "id": "KVykybMzjP5Q",
    "outputId": "29d244b9-32d3-4b2b-c09d-f91a3c597ea7"
   },
   "outputs": [
    {
     "name": "stdout",
     "output_type": "stream",
     "text": [
      "<class 'pandas.core.frame.DataFrame'>\n",
      "RangeIndex: 159292 entries, 0 to 159291\n",
      "Data columns (total 2 columns):\n",
      " #   Column  Non-Null Count   Dtype \n",
      "---  ------  --------------   ----- \n",
      " 0   text    159292 non-null  object\n",
      " 1   toxic   159292 non-null  int64 \n",
      "dtypes: int64(1), object(1)\n",
      "memory usage: 2.4+ MB\n"
     ]
    }
   ],
   "source": [
    "data.info()"
   ]
  },
  {
   "cell_type": "markdown",
   "metadata": {
    "id": "CWtqs33ijP5R"
   },
   "source": [
    "Итак, имеем корпус с текстами. *Toxic* - целевой признак, указывает на токчисночть текста. В корпусе 159292 записи."
   ]
  },
  {
   "cell_type": "markdown",
   "metadata": {},
   "source": [
    "Создадим функции для предобработки. *lemmatization* - лемматизация, *clear_text* - очистка от лишних символов"
   ]
  },
  {
   "cell_type": "code",
   "execution_count": 6,
   "metadata": {
    "executionInfo": {
     "elapsed": 4,
     "status": "ok",
     "timestamp": 1675619676934,
     "user": {
      "displayName": "Максим Рогачев",
      "userId": "12573523291307481748"
     },
     "user_tz": -180
    },
    "id": "DbC_qHb0jP5S"
   },
   "outputs": [],
   "source": [
    "def lemmatization(text):\n",
    "    m = WordNetLemmatizer()\n",
    "    word_list = nltk.word_tokenize(text)\n",
    "    lemmatized_output = ' '.join([m.lemmatize(w) for w in word_list])\n",
    "    return lemmatized_output\n",
    "\n",
    "\n",
    "def clear_text(text):\n",
    "    text = \" \".join(re.sub(r'[^a-zA-Z ]', ' ', text).split()).lower().replace('/n', ' ')\n",
    "    return text"
   ]
  },
  {
   "cell_type": "markdown",
   "metadata": {},
   "source": [
    "Очищаем тексты от лишних символов, оставляем только латиницу и пробелы:"
   ]
  },
  {
   "cell_type": "code",
   "execution_count": 7,
   "metadata": {},
   "outputs": [],
   "source": [
    "data['text'] = data['text'].apply(lambda x: clear_text(x))"
   ]
  },
  {
   "cell_type": "code",
   "execution_count": 8,
   "metadata": {},
   "outputs": [],
   "source": [
    "data['text'] = data['text'].apply(lemmatization)"
   ]
  },
  {
   "cell_type": "markdown",
   "metadata": {},
   "source": [
    "Делим данные на тренировочную и тестовую выборки:"
   ]
  },
  {
   "cell_type": "code",
   "execution_count": 9,
   "metadata": {
    "executionInfo": {
     "elapsed": 24,
     "status": "aborted",
     "timestamp": 1675619189959,
     "user": {
      "displayName": "Максим Рогачев",
      "userId": "12573523291307481748"
     },
     "user_tz": -180
    },
    "id": "Ca7D5k-ZjP5T"
   },
   "outputs": [],
   "source": [
    "target = data.toxic\n",
    "features = data.text\n",
    "\n",
    "features_train, features_test, target_train, target_test = train_test_split(features, target, test_size=0.5, random_state=28)"
   ]
  },
  {
   "cell_type": "markdown",
   "metadata": {},
   "source": [
    "Создаём TF-IDF матрицы для обучающей и тестовой выборок:"
   ]
  },
  {
   "cell_type": "code",
   "execution_count": 10,
   "metadata": {
    "executionInfo": {
     "elapsed": 26,
     "status": "aborted",
     "timestamp": 1675619189961,
     "user": {
      "displayName": "Максим Рогачев",
      "userId": "12573523291307481748"
     },
     "user_tz": -180
    },
    "id": "17aVLrwzjP5U"
   },
   "outputs": [
    {
     "name": "stderr",
     "output_type": "stream",
     "text": [
      "[nltk_data] Downloading package stopwords to /home/jovyan/nltk_data...\n",
      "[nltk_data]   Package stopwords is already up-to-date!\n"
     ]
    }
   ],
   "source": [
    "nltk.download('stopwords')\n",
    "stopwords = list(nltk_stopwords.words('english'))"
   ]
  },
  {
   "cell_type": "markdown",
   "metadata": {
    "id": "kBvXvYfhjP5U"
   },
   "source": [
    "### 2. Обучение моделей "
   ]
  },
  {
   "cell_type": "markdown",
   "metadata": {
    "id": "zMfpXnZ8jP5V"
   },
   "source": [
    "Для подбора будем использовать пайплайн. Тестировать будем случайный лес, CatBoost, логистическую регрессию"
   ]
  },
  {
   "cell_type": "code",
   "execution_count": 11,
   "metadata": {
    "executionInfo": {
     "elapsed": 26,
     "status": "aborted",
     "timestamp": 1675619189962,
     "user": {
      "displayName": "Максим Рогачев",
      "userId": "12573523291307481748"
     },
     "user_tz": -180
    },
    "id": "XrPcpT7UjP5V"
   },
   "outputs": [],
   "source": [
    "pipeline = make_pipeline(TfidfVectorizer(stop_words=stopwords))"
   ]
  },
  {
   "cell_type": "code",
   "execution_count": 12,
   "metadata": {
    "executionInfo": {
     "elapsed": 28,
     "status": "aborted",
     "timestamp": 1675619189964,
     "user": {
      "displayName": "Максим Рогачев",
      "userId": "12573523291307481748"
     },
     "user_tz": -180
    },
    "id": "EtCOkWUXjP5V"
   },
   "outputs": [],
   "source": [
    "pipeline.steps.append(('classification', DummyClassifier()))"
   ]
  },
  {
   "cell_type": "code",
   "execution_count": 13,
   "metadata": {
    "executionInfo": {
     "elapsed": 28,
     "status": "aborted",
     "timestamp": 1675619189965,
     "user": {
      "displayName": "Максим Рогачев",
      "userId": "12573523291307481748"
     },
     "user_tz": -180
    },
    "id": "mUm-1Bg-jP5W"
   },
   "outputs": [],
   "source": [
    "def create_randomized_search_cv(pipeline, parameters=None):\n",
    "    if parameters is None:\n",
    "        params = [\n",
    "            {\n",
    "                'classification': [RandomForestClassifier()],\n",
    "                'classification__n_estimators': [100,200,300],\n",
    "                'classification__max_depth': [5, 10]\n",
    "            },\n",
    "            {\n",
    "                'classification': [CatBoostClassifier()],\n",
    "                'classification__n_estimators': [100,200,300],\n",
    "                'classification__max_depth': [5, 10]\n",
    "            },\n",
    "            {\n",
    "                'classification': [LogisticRegression()],\n",
    "                'classification__solver': ['newton-cg', 'lbfgs', 'liblinear'], \n",
    "                'classification__C': [0.1, 1, 10]\n",
    "            },\n",
    "        ]\n",
    "    else:\n",
    "        params = parameters\n",
    "\n",
    "    grid = RandomizedSearchCV(pipeline,\n",
    "                              params,\n",
    "                              cv = 3,\n",
    "                              verbose = 4,\n",
    "                              scoring = make_scorer(f1_score),\n",
    "                              n_jobs=-1)\n",
    "\n",
    "    return grid"
   ]
  },
  {
   "cell_type": "code",
   "execution_count": 14,
   "metadata": {
    "executionInfo": {
     "elapsed": 28,
     "status": "aborted",
     "timestamp": 1675619189966,
     "user": {
      "displayName": "Максим Рогачев",
      "userId": "12573523291307481748"
     },
     "user_tz": -180
    },
    "id": "9IaQTjeqjP5W"
   },
   "outputs": [],
   "source": [
    "grid = create_randomized_search_cv(pipeline)"
   ]
  },
  {
   "cell_type": "code",
   "execution_count": 15,
   "metadata": {
    "executionInfo": {
     "elapsed": 29,
     "status": "aborted",
     "timestamp": 1675619189967,
     "user": {
      "displayName": "Максим Рогачев",
      "userId": "12573523291307481748"
     },
     "user_tz": -180
    },
    "id": "GYe6SgSTjP5X"
   },
   "outputs": [
    {
     "name": "stdout",
     "output_type": "stream",
     "text": [
      "Fitting 3 folds for each of 10 candidates, totalling 30 fits\n",
      "Learning rate set to 0.464022\n",
      "0:\tlearn: 0.3673511\ttotal: 1.02s\tremaining: 1m 41s\n",
      "1:\tlearn: 0.2754239\ttotal: 1.79s\tremaining: 1m 28s\n",
      "2:\tlearn: 0.2462914\ttotal: 2.55s\tremaining: 1m 22s\n",
      "3:\tlearn: 0.2318794\ttotal: 3.31s\tremaining: 1m 19s\n",
      "4:\tlearn: 0.2225983\ttotal: 4.05s\tremaining: 1m 16s\n",
      "5:\tlearn: 0.2128780\ttotal: 4.8s\tremaining: 1m 15s\n",
      "6:\tlearn: 0.2077065\ttotal: 5.57s\tremaining: 1m 14s\n",
      "7:\tlearn: 0.2032014\ttotal: 6.32s\tremaining: 1m 12s\n",
      "8:\tlearn: 0.1995650\ttotal: 7.08s\tremaining: 1m 11s\n",
      "9:\tlearn: 0.1947951\ttotal: 7.89s\tremaining: 1m 11s\n",
      "10:\tlearn: 0.1920950\ttotal: 8.64s\tremaining: 1m 9s\n",
      "11:\tlearn: 0.1884770\ttotal: 9.38s\tremaining: 1m 8s\n",
      "12:\tlearn: 0.1862529\ttotal: 10.1s\tremaining: 1m 7s\n",
      "13:\tlearn: 0.1838836\ttotal: 10.8s\tremaining: 1m 6s\n",
      "14:\tlearn: 0.1822837\ttotal: 11.5s\tremaining: 1m 5s\n",
      "15:\tlearn: 0.1789986\ttotal: 12.2s\tremaining: 1m 4s\n",
      "16:\tlearn: 0.1770437\ttotal: 12.9s\tremaining: 1m 3s\n",
      "17:\tlearn: 0.1748369\ttotal: 13.7s\tremaining: 1m 2s\n",
      "18:\tlearn: 0.1726967\ttotal: 14.4s\tremaining: 1m 1s\n",
      "19:\tlearn: 0.1705404\ttotal: 15.1s\tremaining: 1m\n",
      "20:\tlearn: 0.1684414\ttotal: 15.8s\tremaining: 59.4s\n",
      "21:\tlearn: 0.1663967\ttotal: 16.5s\tremaining: 58.5s\n",
      "22:\tlearn: 0.1647019\ttotal: 17.2s\tremaining: 57.6s\n",
      "23:\tlearn: 0.1633992\ttotal: 17.9s\tremaining: 56.6s\n",
      "24:\tlearn: 0.1618211\ttotal: 18.6s\tremaining: 55.9s\n",
      "25:\tlearn: 0.1604025\ttotal: 19.4s\tremaining: 55.1s\n",
      "26:\tlearn: 0.1593087\ttotal: 20.1s\tremaining: 54.3s\n",
      "27:\tlearn: 0.1582802\ttotal: 20.8s\tremaining: 53.4s\n",
      "28:\tlearn: 0.1571337\ttotal: 21.5s\tremaining: 52.6s\n",
      "29:\tlearn: 0.1561842\ttotal: 22.2s\tremaining: 51.8s\n",
      "30:\tlearn: 0.1551425\ttotal: 23s\tremaining: 51.1s\n",
      "31:\tlearn: 0.1541390\ttotal: 23.7s\tremaining: 50.4s\n",
      "32:\tlearn: 0.1524901\ttotal: 24.4s\tremaining: 49.6s\n",
      "33:\tlearn: 0.1518439\ttotal: 25.2s\tremaining: 48.8s\n",
      "34:\tlearn: 0.1509802\ttotal: 25.9s\tremaining: 48.1s\n",
      "35:\tlearn: 0.1500749\ttotal: 26.6s\tremaining: 47.3s\n",
      "36:\tlearn: 0.1492771\ttotal: 27.4s\tremaining: 46.6s\n",
      "37:\tlearn: 0.1483853\ttotal: 28.1s\tremaining: 45.8s\n",
      "38:\tlearn: 0.1477715\ttotal: 28.8s\tremaining: 45.1s\n",
      "39:\tlearn: 0.1471787\ttotal: 29.5s\tremaining: 44.3s\n",
      "40:\tlearn: 0.1465731\ttotal: 30.2s\tremaining: 43.5s\n",
      "41:\tlearn: 0.1458062\ttotal: 31s\tremaining: 42.8s\n",
      "42:\tlearn: 0.1450396\ttotal: 31.7s\tremaining: 42.1s\n",
      "43:\tlearn: 0.1446025\ttotal: 32.4s\tremaining: 41.3s\n",
      "44:\tlearn: 0.1437825\ttotal: 33.2s\tremaining: 40.6s\n",
      "45:\tlearn: 0.1432129\ttotal: 33.9s\tremaining: 39.8s\n",
      "46:\tlearn: 0.1426765\ttotal: 34.6s\tremaining: 39s\n",
      "47:\tlearn: 0.1416057\ttotal: 35.3s\tremaining: 38.3s\n",
      "48:\tlearn: 0.1409661\ttotal: 36.1s\tremaining: 37.5s\n",
      "49:\tlearn: 0.1405414\ttotal: 36.8s\tremaining: 36.8s\n",
      "50:\tlearn: 0.1401184\ttotal: 37.5s\tremaining: 36s\n",
      "51:\tlearn: 0.1396905\ttotal: 38.2s\tremaining: 35.3s\n",
      "52:\tlearn: 0.1388538\ttotal: 39s\tremaining: 34.6s\n",
      "53:\tlearn: 0.1383879\ttotal: 39.7s\tremaining: 33.8s\n",
      "54:\tlearn: 0.1377345\ttotal: 40.4s\tremaining: 33.1s\n",
      "55:\tlearn: 0.1371051\ttotal: 41.1s\tremaining: 32.3s\n",
      "56:\tlearn: 0.1367108\ttotal: 41.9s\tremaining: 31.6s\n",
      "57:\tlearn: 0.1362024\ttotal: 42.5s\tremaining: 30.8s\n",
      "58:\tlearn: 0.1356152\ttotal: 43.2s\tremaining: 30.1s\n",
      "59:\tlearn: 0.1352604\ttotal: 43.9s\tremaining: 29.3s\n",
      "60:\tlearn: 0.1349137\ttotal: 44.6s\tremaining: 28.5s\n",
      "61:\tlearn: 0.1341990\ttotal: 45.3s\tremaining: 27.7s\n",
      "62:\tlearn: 0.1338674\ttotal: 45.9s\tremaining: 27s\n",
      "63:\tlearn: 0.1330329\ttotal: 46.6s\tremaining: 26.2s\n",
      "64:\tlearn: 0.1323478\ttotal: 47.4s\tremaining: 25.5s\n",
      "65:\tlearn: 0.1320178\ttotal: 48.1s\tremaining: 24.8s\n",
      "66:\tlearn: 0.1316644\ttotal: 48.8s\tremaining: 24s\n",
      "67:\tlearn: 0.1309147\ttotal: 49.5s\tremaining: 23.3s\n",
      "68:\tlearn: 0.1305884\ttotal: 50.2s\tremaining: 22.6s\n",
      "69:\tlearn: 0.1302750\ttotal: 50.9s\tremaining: 21.8s\n",
      "70:\tlearn: 0.1296142\ttotal: 51.7s\tremaining: 21.1s\n",
      "71:\tlearn: 0.1289392\ttotal: 52.4s\tremaining: 20.4s\n",
      "72:\tlearn: 0.1286531\ttotal: 53.2s\tremaining: 19.7s\n",
      "73:\tlearn: 0.1279865\ttotal: 53.9s\tremaining: 18.9s\n",
      "74:\tlearn: 0.1274515\ttotal: 54.6s\tremaining: 18.2s\n",
      "75:\tlearn: 0.1271637\ttotal: 55.2s\tremaining: 17.4s\n",
      "76:\tlearn: 0.1268777\ttotal: 55.9s\tremaining: 16.7s\n",
      "77:\tlearn: 0.1265843\ttotal: 56.6s\tremaining: 16s\n",
      "78:\tlearn: 0.1263246\ttotal: 57.3s\tremaining: 15.2s\n",
      "79:\tlearn: 0.1261067\ttotal: 58.1s\tremaining: 14.5s\n",
      "80:\tlearn: 0.1255968\ttotal: 58.8s\tremaining: 13.8s\n",
      "81:\tlearn: 0.1253611\ttotal: 59.5s\tremaining: 13.1s\n",
      "82:\tlearn: 0.1249288\ttotal: 1m\tremaining: 12.3s\n",
      "83:\tlearn: 0.1246210\ttotal: 1m\tremaining: 11.6s\n",
      "84:\tlearn: 0.1241485\ttotal: 1m 1s\tremaining: 10.9s\n",
      "85:\tlearn: 0.1239001\ttotal: 1m 2s\tremaining: 10.1s\n",
      "86:\tlearn: 0.1236464\ttotal: 1m 2s\tremaining: 9.4s\n",
      "87:\tlearn: 0.1234202\ttotal: 1m 3s\tremaining: 8.67s\n",
      "88:\tlearn: 0.1231644\ttotal: 1m 4s\tremaining: 7.94s\n",
      "89:\tlearn: 0.1229369\ttotal: 1m 4s\tremaining: 7.22s\n",
      "90:\tlearn: 0.1226133\ttotal: 1m 5s\tremaining: 6.5s\n",
      "91:\tlearn: 0.1223804\ttotal: 1m 6s\tremaining: 5.77s\n",
      "92:\tlearn: 0.1221574\ttotal: 1m 7s\tremaining: 5.05s\n",
      "93:\tlearn: 0.1219344\ttotal: 1m 7s\tremaining: 4.33s\n",
      "94:\tlearn: 0.1217526\ttotal: 1m 8s\tremaining: 3.61s\n",
      "95:\tlearn: 0.1215320\ttotal: 1m 9s\tremaining: 2.88s\n",
      "96:\tlearn: 0.1212301\ttotal: 1m 9s\tremaining: 2.16s\n",
      "97:\tlearn: 0.1210355\ttotal: 1m 10s\tremaining: 1.44s\n",
      "98:\tlearn: 0.1207841\ttotal: 1m 11s\tremaining: 720ms\n",
      "99:\tlearn: 0.1202324\ttotal: 1m 11s\tremaining: 0us\n",
      "[CV 1/3] END classification=<catboost.core.CatBoostClassifier object at 0x7fd044c4bbe0>, classification__max_depth=5, classification__n_estimators=100;, score=0.721 total time= 1.4min\n",
      "Learning rate set to 0.464022\n",
      "0:\tlearn: 0.3584742\ttotal: 1.02s\tremaining: 1m 40s\n",
      "1:\tlearn: 0.2723758\ttotal: 1.84s\tremaining: 1m 30s\n",
      "2:\tlearn: 0.2425254\ttotal: 2.63s\tremaining: 1m 24s\n",
      "3:\tlearn: 0.2299613\ttotal: 3.4s\tremaining: 1m 21s\n",
      "4:\tlearn: 0.2189489\ttotal: 4.17s\tremaining: 1m 19s\n",
      "5:\tlearn: 0.2134178\ttotal: 4.92s\tremaining: 1m 17s\n",
      "6:\tlearn: 0.2086406\ttotal: 5.69s\tremaining: 1m 15s\n",
      "7:\tlearn: 0.2042503\ttotal: 6.44s\tremaining: 1m 14s\n",
      "8:\tlearn: 0.2002570\ttotal: 7.18s\tremaining: 1m 12s\n",
      "9:\tlearn: 0.1961216\ttotal: 7.89s\tremaining: 1m 11s\n",
      "10:\tlearn: 0.1924092\ttotal: 8.61s\tremaining: 1m 9s\n",
      "11:\tlearn: 0.1895258\ttotal: 9.35s\tremaining: 1m 8s\n",
      "12:\tlearn: 0.1867626\ttotal: 10.1s\tremaining: 1m 7s\n",
      "13:\tlearn: 0.1836404\ttotal: 10.8s\tremaining: 1m 6s\n",
      "14:\tlearn: 0.1815103\ttotal: 11.6s\tremaining: 1m 5s\n",
      "15:\tlearn: 0.1792393\ttotal: 12.3s\tremaining: 1m 4s\n",
      "16:\tlearn: 0.1764605\ttotal: 13.1s\tremaining: 1m 3s\n",
      "17:\tlearn: 0.1748749\ttotal: 13.7s\tremaining: 1m 2s\n",
      "18:\tlearn: 0.1735162\ttotal: 14.5s\tremaining: 1m 1s\n",
      "19:\tlearn: 0.1723542\ttotal: 15.2s\tremaining: 1m\n",
      "20:\tlearn: 0.1703975\ttotal: 15.9s\tremaining: 59.8s\n",
      "21:\tlearn: 0.1690821\ttotal: 16.6s\tremaining: 58.9s\n",
      "22:\tlearn: 0.1674473\ttotal: 17.3s\tremaining: 58s\n",
      "23:\tlearn: 0.1653777\ttotal: 18.1s\tremaining: 57.2s\n",
      "24:\tlearn: 0.1641744\ttotal: 18.8s\tremaining: 56.3s\n",
      "25:\tlearn: 0.1628757\ttotal: 19.5s\tremaining: 55.4s\n",
      "26:\tlearn: 0.1618746\ttotal: 20.2s\tremaining: 54.6s\n",
      "27:\tlearn: 0.1607503\ttotal: 20.9s\tremaining: 53.8s\n",
      "28:\tlearn: 0.1594500\ttotal: 21.6s\tremaining: 53s\n",
      "29:\tlearn: 0.1581558\ttotal: 22.4s\tremaining: 52.3s\n",
      "30:\tlearn: 0.1568455\ttotal: 23.2s\tremaining: 51.6s\n",
      "31:\tlearn: 0.1559397\ttotal: 23.9s\tremaining: 50.7s\n",
      "32:\tlearn: 0.1552410\ttotal: 24.6s\tremaining: 49.9s\n",
      "33:\tlearn: 0.1536465\ttotal: 25.3s\tremaining: 49.2s\n",
      "34:\tlearn: 0.1527822\ttotal: 26.1s\tremaining: 48.5s\n",
      "35:\tlearn: 0.1520329\ttotal: 26.8s\tremaining: 47.7s\n",
      "36:\tlearn: 0.1512762\ttotal: 27.6s\tremaining: 46.9s\n",
      "37:\tlearn: 0.1505678\ttotal: 28.3s\tremaining: 46.1s\n",
      "38:\tlearn: 0.1499198\ttotal: 29s\tremaining: 45.3s\n",
      "39:\tlearn: 0.1486950\ttotal: 29.7s\tremaining: 44.6s\n",
      "40:\tlearn: 0.1480025\ttotal: 30.4s\tremaining: 43.7s\n",
      "41:\tlearn: 0.1473279\ttotal: 31.2s\tremaining: 43s\n",
      "42:\tlearn: 0.1468158\ttotal: 31.9s\tremaining: 42.3s\n",
      "43:\tlearn: 0.1459233\ttotal: 32.7s\tremaining: 41.6s\n",
      "44:\tlearn: 0.1453244\ttotal: 33.4s\tremaining: 40.8s\n",
      "45:\tlearn: 0.1441724\ttotal: 34.1s\tremaining: 40.1s\n",
      "46:\tlearn: 0.1435098\ttotal: 34.8s\tremaining: 39.3s\n",
      "47:\tlearn: 0.1430789\ttotal: 35.6s\tremaining: 38.5s\n",
      "48:\tlearn: 0.1426124\ttotal: 36.2s\tremaining: 37.7s\n",
      "49:\tlearn: 0.1417292\ttotal: 37s\tremaining: 37s\n",
      "50:\tlearn: 0.1413771\ttotal: 37.7s\tremaining: 36.2s\n",
      "51:\tlearn: 0.1404352\ttotal: 38.4s\tremaining: 35.5s\n",
      "52:\tlearn: 0.1397745\ttotal: 39.2s\tremaining: 34.7s\n",
      "53:\tlearn: 0.1392891\ttotal: 39.9s\tremaining: 33.9s\n",
      "54:\tlearn: 0.1388412\ttotal: 40.5s\tremaining: 33.2s\n",
      "55:\tlearn: 0.1384623\ttotal: 41.2s\tremaining: 32.4s\n",
      "56:\tlearn: 0.1377531\ttotal: 42s\tremaining: 31.7s\n",
      "57:\tlearn: 0.1374151\ttotal: 42.7s\tremaining: 30.9s\n",
      "58:\tlearn: 0.1370776\ttotal: 43.4s\tremaining: 30.1s\n",
      "59:\tlearn: 0.1363178\ttotal: 44.1s\tremaining: 29.4s\n",
      "60:\tlearn: 0.1357092\ttotal: 44.8s\tremaining: 28.7s\n",
      "61:\tlearn: 0.1350244\ttotal: 45.5s\tremaining: 27.9s\n",
      "62:\tlearn: 0.1345791\ttotal: 46.3s\tremaining: 27.2s\n",
      "63:\tlearn: 0.1342501\ttotal: 46.9s\tremaining: 26.4s\n",
      "64:\tlearn: 0.1339109\ttotal: 47.6s\tremaining: 25.6s\n",
      "65:\tlearn: 0.1336297\ttotal: 48.3s\tremaining: 24.9s\n",
      "66:\tlearn: 0.1330156\ttotal: 49s\tremaining: 24.2s\n",
      "67:\tlearn: 0.1327103\ttotal: 49.7s\tremaining: 23.4s\n",
      "68:\tlearn: 0.1324236\ttotal: 50.4s\tremaining: 22.6s\n",
      "69:\tlearn: 0.1317528\ttotal: 51.1s\tremaining: 21.9s\n",
      "70:\tlearn: 0.1307534\ttotal: 51.8s\tremaining: 21.2s\n",
      "71:\tlearn: 0.1302240\ttotal: 52.6s\tremaining: 20.4s\n",
      "72:\tlearn: 0.1297181\ttotal: 53.3s\tremaining: 19.7s\n",
      "73:\tlearn: 0.1294226\ttotal: 53.9s\tremaining: 19s\n",
      "74:\tlearn: 0.1291225\ttotal: 54.6s\tremaining: 18.2s\n",
      "75:\tlearn: 0.1287782\ttotal: 55.3s\tremaining: 17.5s\n",
      "76:\tlearn: 0.1284236\ttotal: 56s\tremaining: 16.7s\n",
      "77:\tlearn: 0.1277292\ttotal: 56.8s\tremaining: 16s\n",
      "78:\tlearn: 0.1274279\ttotal: 57.5s\tremaining: 15.3s\n",
      "79:\tlearn: 0.1271650\ttotal: 58.2s\tremaining: 14.5s\n",
      "80:\tlearn: 0.1268857\ttotal: 58.9s\tremaining: 13.8s\n",
      "81:\tlearn: 0.1265848\ttotal: 59.6s\tremaining: 13.1s\n",
      "82:\tlearn: 0.1263150\ttotal: 1m\tremaining: 12.3s\n",
      "83:\tlearn: 0.1258607\ttotal: 1m\tremaining: 11.6s\n",
      "84:\tlearn: 0.1255792\ttotal: 1m 1s\tremaining: 10.9s\n",
      "85:\tlearn: 0.1253042\ttotal: 1m 2s\tremaining: 10.2s\n",
      "86:\tlearn: 0.1250520\ttotal: 1m 3s\tremaining: 9.43s\n",
      "87:\tlearn: 0.1247759\ttotal: 1m 3s\tremaining: 8.7s\n",
      "88:\tlearn: 0.1245352\ttotal: 1m 4s\tremaining: 7.97s\n",
      "89:\tlearn: 0.1242575\ttotal: 1m 5s\tremaining: 7.24s\n",
      "90:\tlearn: 0.1240165\ttotal: 1m 5s\tremaining: 6.52s\n",
      "91:\tlearn: 0.1237674\ttotal: 1m 6s\tremaining: 5.79s\n",
      "92:\tlearn: 0.1235360\ttotal: 1m 7s\tremaining: 5.06s\n",
      "93:\tlearn: 0.1230612\ttotal: 1m 7s\tremaining: 4.34s\n",
      "94:\tlearn: 0.1228363\ttotal: 1m 8s\tremaining: 3.61s\n",
      "95:\tlearn: 0.1222487\ttotal: 1m 9s\tremaining: 2.89s\n",
      "96:\tlearn: 0.1220173\ttotal: 1m 10s\tremaining: 2.17s\n",
      "97:\tlearn: 0.1218094\ttotal: 1m 10s\tremaining: 1.44s\n",
      "98:\tlearn: 0.1215973\ttotal: 1m 11s\tremaining: 722ms\n",
      "99:\tlearn: 0.1213766\ttotal: 1m 12s\tremaining: 0us\n",
      "[CV 2/3] END classification=<catboost.core.CatBoostClassifier object at 0x7fd044c4bbe0>, classification__max_depth=5, classification__n_estimators=100;, score=0.729 total time= 1.4min\n",
      "Learning rate set to 0.464026\n",
      "0:\tlearn: 0.3672443\ttotal: 929ms\tremaining: 1m 31s\n",
      "1:\tlearn: 0.2758372\ttotal: 1.69s\tremaining: 1m 22s\n",
      "2:\tlearn: 0.2472288\ttotal: 2.46s\tremaining: 1m 19s\n",
      "3:\tlearn: 0.2313059\ttotal: 3.21s\tremaining: 1m 16s\n",
      "4:\tlearn: 0.2202697\ttotal: 3.91s\tremaining: 1m 14s\n",
      "5:\tlearn: 0.2135393\ttotal: 4.63s\tremaining: 1m 12s\n",
      "6:\tlearn: 0.2076312\ttotal: 5.45s\tremaining: 1m 12s\n",
      "7:\tlearn: 0.2035886\ttotal: 6.18s\tremaining: 1m 11s\n",
      "8:\tlearn: 0.1994472\ttotal: 6.91s\tremaining: 1m 9s\n",
      "9:\tlearn: 0.1955697\ttotal: 7.63s\tremaining: 1m 8s\n",
      "10:\tlearn: 0.1922780\ttotal: 8.38s\tremaining: 1m 7s\n",
      "11:\tlearn: 0.1897939\ttotal: 9.11s\tremaining: 1m 6s\n",
      "12:\tlearn: 0.1858003\ttotal: 9.87s\tremaining: 1m 6s\n",
      "13:\tlearn: 0.1836106\ttotal: 10.6s\tremaining: 1m 5s\n",
      "14:\tlearn: 0.1807439\ttotal: 11.3s\tremaining: 1m 4s\n",
      "15:\tlearn: 0.1786084\ttotal: 12s\tremaining: 1m 3s\n",
      "16:\tlearn: 0.1768413\ttotal: 12.7s\tremaining: 1m 2s\n",
      "17:\tlearn: 0.1751384\ttotal: 13.4s\tremaining: 1m 1s\n",
      "18:\tlearn: 0.1736084\ttotal: 14.1s\tremaining: 1m\n",
      "19:\tlearn: 0.1710144\ttotal: 14.8s\tremaining: 59.3s\n",
      "20:\tlearn: 0.1692651\ttotal: 15.7s\tremaining: 58.9s\n",
      "21:\tlearn: 0.1679823\ttotal: 16.4s\tremaining: 58s\n",
      "22:\tlearn: 0.1667142\ttotal: 17.1s\tremaining: 57.2s\n",
      "23:\tlearn: 0.1652284\ttotal: 17.8s\tremaining: 56.3s\n",
      "24:\tlearn: 0.1634059\ttotal: 18.5s\tremaining: 55.6s\n",
      "25:\tlearn: 0.1613552\ttotal: 19.2s\tremaining: 54.7s\n",
      "26:\tlearn: 0.1601054\ttotal: 20s\tremaining: 54s\n",
      "27:\tlearn: 0.1589185\ttotal: 20.7s\tremaining: 53.2s\n",
      "28:\tlearn: 0.1576130\ttotal: 21.4s\tremaining: 52.4s\n",
      "29:\tlearn: 0.1562199\ttotal: 22.1s\tremaining: 51.5s\n",
      "30:\tlearn: 0.1552648\ttotal: 22.8s\tremaining: 50.7s\n",
      "31:\tlearn: 0.1544049\ttotal: 23.5s\tremaining: 49.9s\n",
      "32:\tlearn: 0.1533287\ttotal: 24.2s\tremaining: 49.1s\n",
      "33:\tlearn: 0.1524290\ttotal: 24.9s\tremaining: 48.3s\n",
      "34:\tlearn: 0.1514646\ttotal: 25.6s\tremaining: 47.6s\n",
      "35:\tlearn: 0.1504994\ttotal: 26.4s\tremaining: 46.9s\n",
      "36:\tlearn: 0.1498510\ttotal: 27s\tremaining: 46s\n",
      "37:\tlearn: 0.1490140\ttotal: 27.7s\tremaining: 45.2s\n",
      "38:\tlearn: 0.1483811\ttotal: 28.4s\tremaining: 44.4s\n",
      "39:\tlearn: 0.1476164\ttotal: 29.1s\tremaining: 43.6s\n",
      "40:\tlearn: 0.1465193\ttotal: 29.8s\tremaining: 42.9s\n",
      "41:\tlearn: 0.1458849\ttotal: 30.6s\tremaining: 42.2s\n",
      "42:\tlearn: 0.1446133\ttotal: 31.3s\tremaining: 41.5s\n",
      "43:\tlearn: 0.1440845\ttotal: 32s\tremaining: 40.8s\n",
      "44:\tlearn: 0.1428006\ttotal: 32.8s\tremaining: 40.1s\n",
      "45:\tlearn: 0.1417459\ttotal: 33.5s\tremaining: 39.3s\n",
      "46:\tlearn: 0.1413125\ttotal: 34.2s\tremaining: 38.6s\n",
      "47:\tlearn: 0.1406344\ttotal: 35s\tremaining: 37.9s\n",
      "48:\tlearn: 0.1402065\ttotal: 35.8s\tremaining: 37.2s\n",
      "49:\tlearn: 0.1396342\ttotal: 36.5s\tremaining: 36.5s\n",
      "50:\tlearn: 0.1392247\ttotal: 37.2s\tremaining: 35.7s\n",
      "51:\tlearn: 0.1387498\ttotal: 37.9s\tremaining: 35s\n",
      "52:\tlearn: 0.1379536\ttotal: 38.7s\tremaining: 34.3s\n",
      "53:\tlearn: 0.1374963\ttotal: 39.4s\tremaining: 33.5s\n",
      "54:\tlearn: 0.1371131\ttotal: 40.1s\tremaining: 32.8s\n",
      "55:\tlearn: 0.1364729\ttotal: 40.8s\tremaining: 32.1s\n",
      "56:\tlearn: 0.1354676\ttotal: 41.6s\tremaining: 31.3s\n",
      "57:\tlearn: 0.1346754\ttotal: 42.3s\tremaining: 30.6s\n",
      "58:\tlearn: 0.1342907\ttotal: 43s\tremaining: 29.9s\n",
      "59:\tlearn: 0.1339803\ttotal: 43.7s\tremaining: 29.1s\n",
      "60:\tlearn: 0.1333884\ttotal: 44.4s\tremaining: 28.4s\n",
      "61:\tlearn: 0.1330589\ttotal: 45s\tremaining: 27.6s\n",
      "62:\tlearn: 0.1324666\ttotal: 45.8s\tremaining: 26.9s\n",
      "63:\tlearn: 0.1319482\ttotal: 46.5s\tremaining: 26.1s\n",
      "64:\tlearn: 0.1315930\ttotal: 47.1s\tremaining: 25.4s\n",
      "65:\tlearn: 0.1310741\ttotal: 47.8s\tremaining: 24.6s\n",
      "66:\tlearn: 0.1307217\ttotal: 48.5s\tremaining: 23.9s\n",
      "67:\tlearn: 0.1304284\ttotal: 49.2s\tremaining: 23.1s\n",
      "68:\tlearn: 0.1298786\ttotal: 49.9s\tremaining: 22.4s\n",
      "69:\tlearn: 0.1295094\ttotal: 50.6s\tremaining: 21.7s\n",
      "70:\tlearn: 0.1291544\ttotal: 51.3s\tremaining: 20.9s\n",
      "71:\tlearn: 0.1288844\ttotal: 51.9s\tremaining: 20.2s\n",
      "72:\tlearn: 0.1285842\ttotal: 52.6s\tremaining: 19.5s\n",
      "73:\tlearn: 0.1279389\ttotal: 53.4s\tremaining: 18.8s\n",
      "74:\tlearn: 0.1270716\ttotal: 54.1s\tremaining: 18s\n",
      "75:\tlearn: 0.1267554\ttotal: 54.8s\tremaining: 17.3s\n",
      "76:\tlearn: 0.1259578\ttotal: 55.6s\tremaining: 16.6s\n",
      "77:\tlearn: 0.1256699\ttotal: 56.3s\tremaining: 15.9s\n",
      "78:\tlearn: 0.1250751\ttotal: 56.9s\tremaining: 15.1s\n",
      "79:\tlearn: 0.1248058\ttotal: 57.6s\tremaining: 14.4s\n",
      "80:\tlearn: 0.1245303\ttotal: 58.3s\tremaining: 13.7s\n",
      "81:\tlearn: 0.1242382\ttotal: 58.9s\tremaining: 12.9s\n",
      "82:\tlearn: 0.1239835\ttotal: 59.6s\tremaining: 12.2s\n",
      "83:\tlearn: 0.1237186\ttotal: 1m\tremaining: 11.5s\n",
      "84:\tlearn: 0.1234653\ttotal: 1m 1s\tremaining: 10.8s\n",
      "85:\tlearn: 0.1232223\ttotal: 1m 1s\tremaining: 10.1s\n",
      "86:\tlearn: 0.1230002\ttotal: 1m 2s\tremaining: 9.33s\n",
      "87:\tlearn: 0.1227578\ttotal: 1m 3s\tremaining: 8.61s\n",
      "88:\tlearn: 0.1225127\ttotal: 1m 3s\tremaining: 7.89s\n",
      "89:\tlearn: 0.1222299\ttotal: 1m 4s\tremaining: 7.17s\n",
      "90:\tlearn: 0.1219875\ttotal: 1m 5s\tremaining: 6.45s\n",
      "91:\tlearn: 0.1215077\ttotal: 1m 5s\tremaining: 5.74s\n",
      "92:\tlearn: 0.1212151\ttotal: 1m 6s\tremaining: 5.02s\n",
      "93:\tlearn: 0.1209937\ttotal: 1m 7s\tremaining: 4.3s\n",
      "94:\tlearn: 0.1207625\ttotal: 1m 8s\tremaining: 3.58s\n",
      "95:\tlearn: 0.1205148\ttotal: 1m 8s\tremaining: 2.86s\n",
      "96:\tlearn: 0.1202695\ttotal: 1m 9s\tremaining: 2.15s\n",
      "97:\tlearn: 0.1197138\ttotal: 1m 10s\tremaining: 1.43s\n",
      "98:\tlearn: 0.1191444\ttotal: 1m 10s\tremaining: 715ms\n",
      "99:\tlearn: 0.1186779\ttotal: 1m 11s\tremaining: 0us\n",
      "[CV 3/3] END classification=<catboost.core.CatBoostClassifier object at 0x7fd044c4bbe0>, classification__max_depth=5, classification__n_estimators=100;, score=0.720 total time= 1.4min\n",
      "[CV 1/3] END classification=LogisticRegression(), classification__C=0.1, classification__solver=lbfgs;, score=0.372 total time=  10.8s\n",
      "[CV 2/3] END classification=LogisticRegression(), classification__C=0.1, classification__solver=lbfgs;, score=0.382 total time=  15.0s\n",
      "[CV 3/3] END classification=LogisticRegression(), classification__C=0.1, classification__solver=lbfgs;, score=0.371 total time=  12.5s\n",
      "[CV 1/3] END classification=LogisticRegression(), classification__C=10, classification__solver=liblinear;, score=0.754 total time=  11.0s\n",
      "[CV 2/3] END classification=LogisticRegression(), classification__C=10, classification__solver=liblinear;, score=0.756 total time=  10.4s\n",
      "[CV 3/3] END classification=LogisticRegression(), classification__C=10, classification__solver=liblinear;, score=0.747 total time=  10.2s\n",
      "[CV 1/3] END classification=RandomForestClassifier(), classification__max_depth=5, classification__n_estimators=200;, score=0.000 total time=   5.8s\n",
      "[CV 2/3] END classification=RandomForestClassifier(), classification__max_depth=5, classification__n_estimators=200;, score=0.000 total time=   6.3s\n",
      "[CV 3/3] END classification=RandomForestClassifier(), classification__max_depth=5, classification__n_estimators=200;, score=0.000 total time=   6.4s\n",
      "[CV 1/3] END classification=RandomForestClassifier(), classification__max_depth=10, classification__n_estimators=300;, score=0.000 total time=   9.4s\n",
      "[CV 2/3] END classification=RandomForestClassifier(), classification__max_depth=10, classification__n_estimators=300;, score=0.000 total time=   9.6s\n",
      "[CV 3/3] END classification=RandomForestClassifier(), classification__max_depth=10, classification__n_estimators=300;, score=0.000 total time=   9.6s\n",
      "[CV 1/3] END classification=RandomForestClassifier(), classification__max_depth=5, classification__n_estimators=300;, score=0.000 total time=   7.2s\n",
      "[CV 2/3] END classification=RandomForestClassifier(), classification__max_depth=5, classification__n_estimators=300;, score=0.000 total time=   7.1s\n",
      "[CV 3/3] END classification=RandomForestClassifier(), classification__max_depth=5, classification__n_estimators=300;, score=0.000 total time=   7.2s\n",
      "[CV 1/3] END classification=LogisticRegression(), classification__C=10, classification__solver=newton-cg;, score=0.754 total time=  18.5s\n",
      "[CV 2/3] END classification=LogisticRegression(), classification__C=10, classification__solver=newton-cg;, score=0.756 total time=  16.8s\n",
      "[CV 3/3] END classification=LogisticRegression(), classification__C=10, classification__solver=newton-cg;, score=0.747 total time=  17.2s\n",
      "Learning rate set to 0.464022\n",
      "0:\tlearn: 0.3629810\ttotal: 10.3s\tremaining: 16m 59s\n",
      "1:\tlearn: 0.2675760\ttotal: 20.3s\tremaining: 16m 34s\n",
      "2:\tlearn: 0.2317133\ttotal: 30.4s\tremaining: 16m 22s\n",
      "3:\tlearn: 0.2138074\ttotal: 40.4s\tremaining: 16m 9s\n",
      "4:\tlearn: 0.2015351\ttotal: 50.3s\tremaining: 15m 56s\n",
      "5:\tlearn: 0.1946811\ttotal: 1m\tremaining: 15m 51s\n",
      "6:\tlearn: 0.1880708\ttotal: 1m 10s\tremaining: 15m 42s\n",
      "7:\tlearn: 0.1827367\ttotal: 1m 21s\tremaining: 15m 32s\n",
      "8:\tlearn: 0.1787999\ttotal: 1m 31s\tremaining: 15m 25s\n",
      "9:\tlearn: 0.1735419\ttotal: 1m 41s\tremaining: 15m 12s\n",
      "10:\tlearn: 0.1701903\ttotal: 1m 51s\tremaining: 15m 2s\n",
      "11:\tlearn: 0.1678245\ttotal: 2m 1s\tremaining: 14m 54s\n",
      "12:\tlearn: 0.1648272\ttotal: 2m 11s\tremaining: 14m 43s\n",
      "13:\tlearn: 0.1608839\ttotal: 2m 21s\tremaining: 14m 31s\n",
      "14:\tlearn: 0.1583000\ttotal: 2m 32s\tremaining: 14m 21s\n",
      "15:\tlearn: 0.1563018\ttotal: 2m 42s\tremaining: 14m 10s\n",
      "16:\tlearn: 0.1544523\ttotal: 2m 52s\tremaining: 14m\n",
      "17:\tlearn: 0.1529505\ttotal: 3m 2s\tremaining: 13m 53s\n",
      "18:\tlearn: 0.1508894\ttotal: 3m 13s\tremaining: 13m 44s\n",
      "19:\tlearn: 0.1494950\ttotal: 3m 23s\tremaining: 13m 35s\n",
      "20:\tlearn: 0.1477036\ttotal: 3m 34s\tremaining: 13m 26s\n",
      "21:\tlearn: 0.1461440\ttotal: 3m 44s\tremaining: 13m 16s\n",
      "22:\tlearn: 0.1447005\ttotal: 3m 55s\tremaining: 13m 7s\n",
      "23:\tlearn: 0.1433971\ttotal: 4m 5s\tremaining: 12m 58s\n",
      "24:\tlearn: 0.1419220\ttotal: 4m 16s\tremaining: 12m 48s\n",
      "25:\tlearn: 0.1407835\ttotal: 4m 26s\tremaining: 12m 38s\n",
      "26:\tlearn: 0.1393884\ttotal: 4m 36s\tremaining: 12m 28s\n",
      "27:\tlearn: 0.1376127\ttotal: 4m 47s\tremaining: 12m 18s\n",
      "28:\tlearn: 0.1362677\ttotal: 4m 57s\tremaining: 12m 8s\n",
      "29:\tlearn: 0.1351319\ttotal: 5m 7s\tremaining: 11m 58s\n",
      "30:\tlearn: 0.1343236\ttotal: 5m 17s\tremaining: 11m 47s\n",
      "31:\tlearn: 0.1333572\ttotal: 5m 28s\tremaining: 11m 37s\n",
      "32:\tlearn: 0.1326228\ttotal: 5m 38s\tremaining: 11m 27s\n",
      "33:\tlearn: 0.1310737\ttotal: 5m 49s\tremaining: 11m 17s\n",
      "34:\tlearn: 0.1297889\ttotal: 5m 59s\tremaining: 11m 7s\n",
      "35:\tlearn: 0.1287038\ttotal: 6m 9s\tremaining: 10m 57s\n",
      "36:\tlearn: 0.1272808\ttotal: 6m 19s\tremaining: 10m 46s\n",
      "37:\tlearn: 0.1261344\ttotal: 6m 30s\tremaining: 10m 36s\n",
      "38:\tlearn: 0.1251267\ttotal: 6m 40s\tremaining: 10m 25s\n",
      "39:\tlearn: 0.1245267\ttotal: 6m 50s\tremaining: 10m 15s\n",
      "40:\tlearn: 0.1239122\ttotal: 7m\tremaining: 10m 5s\n",
      "41:\tlearn: 0.1232140\ttotal: 7m 10s\tremaining: 9m 54s\n",
      "42:\tlearn: 0.1226439\ttotal: 7m 20s\tremaining: 9m 44s\n",
      "43:\tlearn: 0.1216676\ttotal: 7m 31s\tremaining: 9m 34s\n",
      "44:\tlearn: 0.1211630\ttotal: 7m 42s\tremaining: 9m 25s\n",
      "45:\tlearn: 0.1206645\ttotal: 7m 52s\tremaining: 9m 15s\n",
      "46:\tlearn: 0.1202279\ttotal: 8m 3s\tremaining: 9m 5s\n",
      "47:\tlearn: 0.1197401\ttotal: 8m 13s\tremaining: 8m 54s\n",
      "48:\tlearn: 0.1193343\ttotal: 8m 23s\tremaining: 8m 44s\n",
      "49:\tlearn: 0.1184137\ttotal: 8m 34s\tremaining: 8m 34s\n",
      "50:\tlearn: 0.1179909\ttotal: 8m 44s\tremaining: 8m 24s\n",
      "51:\tlearn: 0.1173495\ttotal: 8m 55s\tremaining: 8m 14s\n",
      "52:\tlearn: 0.1161902\ttotal: 9m 5s\tremaining: 8m 4s\n",
      "53:\tlearn: 0.1158240\ttotal: 9m 16s\tremaining: 7m 54s\n",
      "54:\tlearn: 0.1152249\ttotal: 9m 26s\tremaining: 7m 43s\n",
      "55:\tlearn: 0.1142485\ttotal: 9m 36s\tremaining: 7m 33s\n",
      "56:\tlearn: 0.1137512\ttotal: 9m 47s\tremaining: 7m 22s\n",
      "57:\tlearn: 0.1130089\ttotal: 9m 57s\tremaining: 7m 12s\n",
      "58:\tlearn: 0.1126185\ttotal: 10m 9s\tremaining: 7m 3s\n",
      "59:\tlearn: 0.1122849\ttotal: 10m 19s\tremaining: 6m 53s\n",
      "60:\tlearn: 0.1113719\ttotal: 10m 29s\tremaining: 6m 42s\n",
      "61:\tlearn: 0.1106481\ttotal: 10m 40s\tremaining: 6m 32s\n",
      "62:\tlearn: 0.1101523\ttotal: 10m 50s\tremaining: 6m 21s\n",
      "63:\tlearn: 0.1094513\ttotal: 11m\tremaining: 6m 11s\n",
      "64:\tlearn: 0.1085105\ttotal: 11m 10s\tremaining: 6m 1s\n",
      "65:\tlearn: 0.1082177\ttotal: 11m 20s\tremaining: 5m 50s\n",
      "66:\tlearn: 0.1076209\ttotal: 11m 30s\tremaining: 5m 40s\n",
      "67:\tlearn: 0.1072208\ttotal: 11m 40s\tremaining: 5m 29s\n",
      "68:\tlearn: 0.1065428\ttotal: 11m 50s\tremaining: 5m 19s\n",
      "69:\tlearn: 0.1061194\ttotal: 12m 1s\tremaining: 5m 9s\n",
      "70:\tlearn: 0.1058081\ttotal: 12m 11s\tremaining: 4m 58s\n",
      "71:\tlearn: 0.1049727\ttotal: 12m 21s\tremaining: 4m 48s\n",
      "72:\tlearn: 0.1046464\ttotal: 12m 31s\tremaining: 4m 37s\n",
      "73:\tlearn: 0.1041648\ttotal: 12m 41s\tremaining: 4m 27s\n",
      "74:\tlearn: 0.1038666\ttotal: 12m 51s\tremaining: 4m 17s\n",
      "75:\tlearn: 0.1035990\ttotal: 13m 1s\tremaining: 4m 6s\n",
      "76:\tlearn: 0.1028448\ttotal: 13m 11s\tremaining: 3m 56s\n",
      "77:\tlearn: 0.1023137\ttotal: 13m 21s\tremaining: 3m 46s\n",
      "78:\tlearn: 0.1017252\ttotal: 13m 31s\tremaining: 3m 35s\n",
      "79:\tlearn: 0.1014230\ttotal: 13m 41s\tremaining: 3m 25s\n",
      "80:\tlearn: 0.1004884\ttotal: 13m 51s\tremaining: 3m 15s\n",
      "81:\tlearn: 0.1002163\ttotal: 14m 1s\tremaining: 3m 4s\n",
      "82:\tlearn: 0.0998560\ttotal: 14m 11s\tremaining: 2m 54s\n",
      "83:\tlearn: 0.0994089\ttotal: 14m 22s\tremaining: 2m 44s\n",
      "84:\tlearn: 0.0991580\ttotal: 14m 32s\tremaining: 2m 33s\n",
      "85:\tlearn: 0.0986305\ttotal: 14m 42s\tremaining: 2m 23s\n",
      "86:\tlearn: 0.0983697\ttotal: 14m 52s\tremaining: 2m 13s\n",
      "87:\tlearn: 0.0981205\ttotal: 15m 2s\tremaining: 2m 3s\n",
      "88:\tlearn: 0.0978771\ttotal: 15m 12s\tremaining: 1m 52s\n",
      "89:\tlearn: 0.0972156\ttotal: 15m 22s\tremaining: 1m 42s\n",
      "90:\tlearn: 0.0964867\ttotal: 15m 32s\tremaining: 1m 32s\n",
      "91:\tlearn: 0.0962642\ttotal: 15m 42s\tremaining: 1m 21s\n",
      "92:\tlearn: 0.0959778\ttotal: 15m 53s\tremaining: 1m 11s\n",
      "93:\tlearn: 0.0951970\ttotal: 16m 3s\tremaining: 1m 1s\n",
      "94:\tlearn: 0.0949670\ttotal: 16m 13s\tremaining: 51.3s\n",
      "95:\tlearn: 0.0944939\ttotal: 16m 23s\tremaining: 41s\n",
      "96:\tlearn: 0.0942534\ttotal: 16m 33s\tremaining: 30.7s\n",
      "97:\tlearn: 0.0937506\ttotal: 16m 44s\tremaining: 20.5s\n",
      "98:\tlearn: 0.0935220\ttotal: 16m 54s\tremaining: 10.2s\n",
      "99:\tlearn: 0.0932995\ttotal: 17m 5s\tremaining: 0us\n",
      "[CV 1/3] END classification=<catboost.core.CatBoostClassifier object at 0x7fd044c4bbe0>, classification__max_depth=10, classification__n_estimators=100;, score=0.737 total time=17.3min\n",
      "Learning rate set to 0.464022\n",
      "0:\tlearn: 0.3566437\ttotal: 10.6s\tremaining: 17m 29s\n",
      "1:\tlearn: 0.2579578\ttotal: 21s\tremaining: 17m 7s\n",
      "2:\tlearn: 0.2285183\ttotal: 31.4s\tremaining: 16m 55s\n",
      "3:\tlearn: 0.2131389\ttotal: 42.1s\tremaining: 16m 51s\n",
      "4:\tlearn: 0.2040984\ttotal: 52.6s\tremaining: 16m 38s\n",
      "5:\tlearn: 0.1967249\ttotal: 1m 2s\tremaining: 16m 21s\n",
      "6:\tlearn: 0.1920202\ttotal: 1m 12s\tremaining: 16m 9s\n",
      "7:\tlearn: 0.1856530\ttotal: 1m 22s\tremaining: 15m 53s\n",
      "8:\tlearn: 0.1795424\ttotal: 1m 32s\tremaining: 15m 39s\n",
      "9:\tlearn: 0.1745970\ttotal: 1m 43s\tremaining: 15m 29s\n",
      "10:\tlearn: 0.1713806\ttotal: 1m 53s\tremaining: 15m 17s\n",
      "11:\tlearn: 0.1689443\ttotal: 2m 3s\tremaining: 15m 6s\n",
      "12:\tlearn: 0.1668841\ttotal: 2m 13s\tremaining: 14m 54s\n",
      "13:\tlearn: 0.1643433\ttotal: 2m 23s\tremaining: 14m 43s\n",
      "14:\tlearn: 0.1618851\ttotal: 2m 34s\tremaining: 14m 35s\n",
      "15:\tlearn: 0.1597618\ttotal: 2m 45s\tremaining: 14m 27s\n",
      "16:\tlearn: 0.1577979\ttotal: 2m 55s\tremaining: 14m 18s\n",
      "17:\tlearn: 0.1557783\ttotal: 3m 6s\tremaining: 14m 7s\n",
      "18:\tlearn: 0.1538432\ttotal: 3m 16s\tremaining: 13m 56s\n",
      "19:\tlearn: 0.1516695\ttotal: 3m 26s\tremaining: 13m 45s\n",
      "20:\tlearn: 0.1497936\ttotal: 3m 36s\tremaining: 13m 35s\n",
      "21:\tlearn: 0.1487422\ttotal: 3m 47s\tremaining: 13m 24s\n",
      "22:\tlearn: 0.1471883\ttotal: 3m 56s\tremaining: 13m 13s\n",
      "23:\tlearn: 0.1458646\ttotal: 4m 6s\tremaining: 13m 2s\n",
      "24:\tlearn: 0.1440365\ttotal: 4m 16s\tremaining: 12m 50s\n",
      "25:\tlearn: 0.1428949\ttotal: 4m 26s\tremaining: 12m 39s\n",
      "26:\tlearn: 0.1418062\ttotal: 4m 37s\tremaining: 12m 29s\n",
      "27:\tlearn: 0.1408005\ttotal: 4m 47s\tremaining: 12m 20s\n",
      "28:\tlearn: 0.1390628\ttotal: 4m 58s\tremaining: 12m 9s\n",
      "29:\tlearn: 0.1376520\ttotal: 5m 8s\tremaining: 11m 59s\n",
      "30:\tlearn: 0.1367497\ttotal: 5m 18s\tremaining: 11m 49s\n",
      "31:\tlearn: 0.1353770\ttotal: 5m 28s\tremaining: 11m 38s\n",
      "32:\tlearn: 0.1340514\ttotal: 5m 39s\tremaining: 11m 29s\n",
      "33:\tlearn: 0.1328262\ttotal: 5m 50s\tremaining: 11m 19s\n",
      "34:\tlearn: 0.1321027\ttotal: 6m\tremaining: 11m 9s\n",
      "35:\tlearn: 0.1313130\ttotal: 6m 10s\tremaining: 10m 58s\n",
      "36:\tlearn: 0.1305665\ttotal: 6m 20s\tremaining: 10m 48s\n",
      "37:\tlearn: 0.1294457\ttotal: 6m 30s\tremaining: 10m 37s\n",
      "38:\tlearn: 0.1288309\ttotal: 6m 41s\tremaining: 10m 27s\n",
      "39:\tlearn: 0.1273326\ttotal: 6m 51s\tremaining: 10m 16s\n",
      "40:\tlearn: 0.1266687\ttotal: 7m 1s\tremaining: 10m 6s\n",
      "41:\tlearn: 0.1260737\ttotal: 7m 11s\tremaining: 9m 55s\n",
      "42:\tlearn: 0.1249082\ttotal: 7m 21s\tremaining: 9m 45s\n",
      "43:\tlearn: 0.1243139\ttotal: 7m 31s\tremaining: 9m 35s\n",
      "44:\tlearn: 0.1231125\ttotal: 7m 42s\tremaining: 9m 24s\n",
      "45:\tlearn: 0.1217984\ttotal: 7m 52s\tremaining: 9m 14s\n",
      "46:\tlearn: 0.1211176\ttotal: 8m 2s\tremaining: 9m 4s\n",
      "47:\tlearn: 0.1205822\ttotal: 8m 12s\tremaining: 8m 53s\n",
      "48:\tlearn: 0.1200845\ttotal: 8m 22s\tremaining: 8m 43s\n",
      "49:\tlearn: 0.1195983\ttotal: 8m 32s\tremaining: 8m 32s\n",
      "50:\tlearn: 0.1184754\ttotal: 8m 43s\tremaining: 8m 22s\n",
      "51:\tlearn: 0.1179985\ttotal: 8m 53s\tremaining: 8m 12s\n",
      "52:\tlearn: 0.1175114\ttotal: 9m 3s\tremaining: 8m 2s\n",
      "53:\tlearn: 0.1170998\ttotal: 9m 13s\tremaining: 7m 51s\n",
      "54:\tlearn: 0.1167304\ttotal: 9m 23s\tremaining: 7m 41s\n",
      "55:\tlearn: 0.1160863\ttotal: 9m 33s\tremaining: 7m 30s\n",
      "56:\tlearn: 0.1153256\ttotal: 9m 43s\tremaining: 7m 20s\n",
      "57:\tlearn: 0.1149734\ttotal: 9m 54s\tremaining: 7m 10s\n",
      "58:\tlearn: 0.1146056\ttotal: 10m 4s\tremaining: 7m\n",
      "59:\tlearn: 0.1136986\ttotal: 10m 15s\tremaining: 6m 50s\n",
      "60:\tlearn: 0.1133142\ttotal: 10m 25s\tremaining: 6m 39s\n",
      "61:\tlearn: 0.1123232\ttotal: 10m 36s\tremaining: 6m 30s\n",
      "62:\tlearn: 0.1117070\ttotal: 10m 46s\tremaining: 6m 19s\n",
      "63:\tlearn: 0.1109650\ttotal: 10m 57s\tremaining: 6m 9s\n",
      "64:\tlearn: 0.1103007\ttotal: 11m 7s\tremaining: 5m 59s\n",
      "65:\tlearn: 0.1096600\ttotal: 11m 17s\tremaining: 5m 48s\n",
      "66:\tlearn: 0.1093028\ttotal: 11m 27s\tremaining: 5m 38s\n",
      "67:\tlearn: 0.1083821\ttotal: 11m 37s\tremaining: 5m 28s\n",
      "68:\tlearn: 0.1072358\ttotal: 11m 47s\tremaining: 5m 17s\n",
      "69:\tlearn: 0.1067711\ttotal: 11m 57s\tremaining: 5m 7s\n",
      "70:\tlearn: 0.1064386\ttotal: 12m 7s\tremaining: 4m 57s\n",
      "71:\tlearn: 0.1061416\ttotal: 12m 17s\tremaining: 4m 46s\n",
      "72:\tlearn: 0.1058682\ttotal: 12m 28s\tremaining: 4m 36s\n",
      "73:\tlearn: 0.1054147\ttotal: 12m 38s\tremaining: 4m 26s\n",
      "74:\tlearn: 0.1048258\ttotal: 12m 48s\tremaining: 4m 16s\n",
      "75:\tlearn: 0.1043870\ttotal: 12m 58s\tremaining: 4m 5s\n",
      "76:\tlearn: 0.1037499\ttotal: 13m 8s\tremaining: 3m 55s\n",
      "77:\tlearn: 0.1030456\ttotal: 13m 18s\tremaining: 3m 45s\n",
      "78:\tlearn: 0.1027046\ttotal: 13m 28s\tremaining: 3m 35s\n",
      "79:\tlearn: 0.1018465\ttotal: 13m 39s\tremaining: 3m 24s\n",
      "80:\tlearn: 0.1015728\ttotal: 13m 49s\tremaining: 3m 14s\n",
      "81:\tlearn: 0.1011332\ttotal: 13m 59s\tremaining: 3m 4s\n",
      "82:\tlearn: 0.1004400\ttotal: 14m 10s\tremaining: 2m 54s\n",
      "83:\tlearn: 0.1000401\ttotal: 14m 20s\tremaining: 2m 43s\n",
      "84:\tlearn: 0.0991800\ttotal: 14m 30s\tremaining: 2m 33s\n",
      "85:\tlearn: 0.0989020\ttotal: 14m 41s\tremaining: 2m 23s\n",
      "86:\tlearn: 0.0986334\ttotal: 14m 51s\tremaining: 2m 13s\n",
      "87:\tlearn: 0.0983810\ttotal: 15m 2s\tremaining: 2m 3s\n",
      "88:\tlearn: 0.0980445\ttotal: 15m 12s\tremaining: 1m 52s\n",
      "89:\tlearn: 0.0976962\ttotal: 15m 22s\tremaining: 1m 42s\n",
      "90:\tlearn: 0.0974507\ttotal: 15m 33s\tremaining: 1m 32s\n",
      "91:\tlearn: 0.0972159\ttotal: 15m 44s\tremaining: 1m 22s\n",
      "92:\tlearn: 0.0969830\ttotal: 15m 55s\tremaining: 1m 11s\n",
      "93:\tlearn: 0.0962455\ttotal: 16m 6s\tremaining: 1m 1s\n",
      "94:\tlearn: 0.0959933\ttotal: 16m 16s\tremaining: 51.4s\n",
      "95:\tlearn: 0.0955686\ttotal: 16m 27s\tremaining: 41.1s\n",
      "96:\tlearn: 0.0953300\ttotal: 16m 38s\tremaining: 30.9s\n",
      "97:\tlearn: 0.0946177\ttotal: 16m 48s\tremaining: 20.6s\n",
      "98:\tlearn: 0.0943895\ttotal: 16m 59s\tremaining: 10.3s\n",
      "99:\tlearn: 0.0941335\ttotal: 17m 9s\tremaining: 0us\n",
      "[CV 2/3] END classification=<catboost.core.CatBoostClassifier object at 0x7fd044c4bbe0>, classification__max_depth=10, classification__n_estimators=100;, score=0.748 total time=17.4min\n",
      "Learning rate set to 0.464026\n",
      "0:\tlearn: 0.3574292\ttotal: 10.4s\tremaining: 17m 9s\n",
      "1:\tlearn: 0.2625437\ttotal: 20.9s\tremaining: 17m 4s\n",
      "2:\tlearn: 0.2294907\ttotal: 31.3s\tremaining: 16m 51s\n",
      "3:\tlearn: 0.2116838\ttotal: 41.7s\tremaining: 16m 40s\n",
      "4:\tlearn: 0.2024285\ttotal: 52.2s\tremaining: 16m 30s\n",
      "5:\tlearn: 0.1948086\ttotal: 1m 2s\tremaining: 16m 22s\n",
      "6:\tlearn: 0.1887015\ttotal: 1m 13s\tremaining: 16m 13s\n",
      "7:\tlearn: 0.1840430\ttotal: 1m 24s\tremaining: 16m 7s\n",
      "8:\tlearn: 0.1790781\ttotal: 1m 34s\tremaining: 15m 53s\n",
      "9:\tlearn: 0.1745872\ttotal: 1m 44s\tremaining: 15m 42s\n",
      "10:\tlearn: 0.1710540\ttotal: 1m 54s\tremaining: 15m 29s\n",
      "11:\tlearn: 0.1668205\ttotal: 2m 5s\tremaining: 15m 19s\n",
      "12:\tlearn: 0.1644186\ttotal: 2m 16s\tremaining: 15m 11s\n",
      "13:\tlearn: 0.1616178\ttotal: 2m 27s\tremaining: 15m 5s\n",
      "14:\tlearn: 0.1590129\ttotal: 2m 38s\tremaining: 14m 55s\n",
      "15:\tlearn: 0.1566556\ttotal: 2m 48s\tremaining: 14m 44s\n",
      "16:\tlearn: 0.1547907\ttotal: 2m 59s\tremaining: 14m 35s\n",
      "17:\tlearn: 0.1527174\ttotal: 3m 10s\tremaining: 14m 26s\n",
      "18:\tlearn: 0.1509907\ttotal: 3m 21s\tremaining: 14m 17s\n",
      "19:\tlearn: 0.1493380\ttotal: 3m 32s\tremaining: 14m 9s\n",
      "20:\tlearn: 0.1475749\ttotal: 3m 42s\tremaining: 13m 57s\n",
      "21:\tlearn: 0.1455587\ttotal: 3m 53s\tremaining: 13m 46s\n",
      "22:\tlearn: 0.1445119\ttotal: 4m 3s\tremaining: 13m 36s\n",
      "23:\tlearn: 0.1424473\ttotal: 4m 14s\tremaining: 13m 25s\n",
      "24:\tlearn: 0.1413827\ttotal: 4m 25s\tremaining: 13m 15s\n",
      "25:\tlearn: 0.1400435\ttotal: 4m 35s\tremaining: 13m 4s\n",
      "26:\tlearn: 0.1389449\ttotal: 4m 46s\tremaining: 12m 54s\n",
      "27:\tlearn: 0.1378972\ttotal: 4m 56s\tremaining: 12m 42s\n",
      "28:\tlearn: 0.1357893\ttotal: 5m 6s\tremaining: 12m 30s\n",
      "29:\tlearn: 0.1344927\ttotal: 5m 17s\tremaining: 12m 20s\n",
      "30:\tlearn: 0.1336965\ttotal: 5m 28s\tremaining: 12m 10s\n",
      "31:\tlearn: 0.1321129\ttotal: 5m 38s\tremaining: 11m 59s\n",
      "32:\tlearn: 0.1309076\ttotal: 5m 48s\tremaining: 11m 48s\n",
      "33:\tlearn: 0.1296654\ttotal: 5m 59s\tremaining: 11m 37s\n",
      "34:\tlearn: 0.1289308\ttotal: 6m 9s\tremaining: 11m 26s\n",
      "35:\tlearn: 0.1279233\ttotal: 6m 20s\tremaining: 11m 15s\n",
      "36:\tlearn: 0.1272804\ttotal: 6m 30s\tremaining: 11m 5s\n",
      "37:\tlearn: 0.1259991\ttotal: 6m 41s\tremaining: 10m 54s\n",
      "38:\tlearn: 0.1253182\ttotal: 6m 51s\tremaining: 10m 44s\n",
      "39:\tlearn: 0.1241112\ttotal: 7m 2s\tremaining: 10m 33s\n",
      "40:\tlearn: 0.1235190\ttotal: 7m 12s\tremaining: 10m 22s\n",
      "41:\tlearn: 0.1229702\ttotal: 7m 23s\tremaining: 10m 11s\n",
      "42:\tlearn: 0.1218430\ttotal: 7m 33s\tremaining: 10m\n",
      "43:\tlearn: 0.1204960\ttotal: 7m 43s\tremaining: 9m 49s\n",
      "44:\tlearn: 0.1199506\ttotal: 7m 53s\tremaining: 9m 38s\n",
      "45:\tlearn: 0.1194765\ttotal: 8m 3s\tremaining: 9m 28s\n",
      "46:\tlearn: 0.1187017\ttotal: 8m 14s\tremaining: 9m 17s\n",
      "47:\tlearn: 0.1182551\ttotal: 8m 25s\tremaining: 9m 7s\n",
      "48:\tlearn: 0.1176676\ttotal: 8m 35s\tremaining: 8m 57s\n",
      "49:\tlearn: 0.1163844\ttotal: 8m 46s\tremaining: 8m 46s\n",
      "50:\tlearn: 0.1159588\ttotal: 8m 57s\tremaining: 8m 35s\n",
      "51:\tlearn: 0.1146968\ttotal: 9m 7s\tremaining: 8m 25s\n",
      "52:\tlearn: 0.1142833\ttotal: 9m 18s\tremaining: 8m 15s\n",
      "53:\tlearn: 0.1133529\ttotal: 9m 28s\tremaining: 8m 4s\n",
      "54:\tlearn: 0.1129653\ttotal: 9m 38s\tremaining: 7m 53s\n",
      "55:\tlearn: 0.1116870\ttotal: 9m 48s\tremaining: 7m 42s\n",
      "56:\tlearn: 0.1113402\ttotal: 9m 59s\tremaining: 7m 31s\n",
      "57:\tlearn: 0.1103010\ttotal: 10m 9s\tremaining: 7m 21s\n",
      "58:\tlearn: 0.1098298\ttotal: 10m 19s\tremaining: 7m 10s\n",
      "59:\tlearn: 0.1088669\ttotal: 10m 30s\tremaining: 7m\n",
      "60:\tlearn: 0.1082908\ttotal: 10m 40s\tremaining: 6m 49s\n",
      "61:\tlearn: 0.1074977\ttotal: 10m 50s\tremaining: 6m 38s\n",
      "62:\tlearn: 0.1071381\ttotal: 11m\tremaining: 6m 28s\n",
      "63:\tlearn: 0.1063445\ttotal: 11m 10s\tremaining: 6m 17s\n",
      "64:\tlearn: 0.1058237\ttotal: 11m 21s\tremaining: 6m 6s\n",
      "65:\tlearn: 0.1054786\ttotal: 11m 31s\tremaining: 5m 56s\n",
      "66:\tlearn: 0.1048044\ttotal: 11m 41s\tremaining: 5m 45s\n",
      "67:\tlearn: 0.1044185\ttotal: 11m 51s\tremaining: 5m 34s\n",
      "68:\tlearn: 0.1041252\ttotal: 12m 1s\tremaining: 5m 24s\n",
      "69:\tlearn: 0.1037803\ttotal: 12m 11s\tremaining: 5m 13s\n",
      "70:\tlearn: 0.1032977\ttotal: 12m 22s\tremaining: 5m 3s\n",
      "71:\tlearn: 0.1026619\ttotal: 12m 32s\tremaining: 4m 52s\n",
      "72:\tlearn: 0.1018695\ttotal: 12m 42s\tremaining: 4m 41s\n",
      "73:\tlearn: 0.1015045\ttotal: 12m 52s\tremaining: 4m 31s\n",
      "74:\tlearn: 0.1012069\ttotal: 13m 2s\tremaining: 4m 20s\n",
      "75:\tlearn: 0.1003521\ttotal: 13m 12s\tremaining: 4m 10s\n",
      "76:\tlearn: 0.1000304\ttotal: 13m 23s\tremaining: 3m 59s\n",
      "77:\tlearn: 0.0994383\ttotal: 13m 33s\tremaining: 3m 49s\n",
      "78:\tlearn: 0.0989541\ttotal: 13m 43s\tremaining: 3m 38s\n",
      "79:\tlearn: 0.0986306\ttotal: 13m 53s\tremaining: 3m 28s\n",
      "80:\tlearn: 0.0981072\ttotal: 14m 3s\tremaining: 3m 17s\n",
      "81:\tlearn: 0.0978398\ttotal: 14m 13s\tremaining: 3m 7s\n",
      "82:\tlearn: 0.0970388\ttotal: 14m 23s\tremaining: 2m 56s\n",
      "83:\tlearn: 0.0967385\ttotal: 14m 33s\tremaining: 2m 46s\n",
      "84:\tlearn: 0.0961604\ttotal: 14m 43s\tremaining: 2m 35s\n",
      "85:\tlearn: 0.0959025\ttotal: 14m 53s\tremaining: 2m 25s\n",
      "86:\tlearn: 0.0956549\ttotal: 15m 3s\tremaining: 2m 15s\n",
      "87:\tlearn: 0.0951200\ttotal: 15m 14s\tremaining: 2m 4s\n",
      "88:\tlearn: 0.0948839\ttotal: 15m 24s\tremaining: 1m 54s\n",
      "89:\tlearn: 0.0946435\ttotal: 15m 34s\tremaining: 1m 43s\n",
      "90:\tlearn: 0.0944106\ttotal: 15m 44s\tremaining: 1m 33s\n",
      "91:\tlearn: 0.0939539\ttotal: 15m 54s\tremaining: 1m 23s\n",
      "92:\tlearn: 0.0937216\ttotal: 16m 4s\tremaining: 1m 12s\n",
      "93:\tlearn: 0.0933831\ttotal: 16m 14s\tremaining: 1m 2s\n",
      "94:\tlearn: 0.0930623\ttotal: 16m 25s\tremaining: 51.8s\n",
      "95:\tlearn: 0.0928354\ttotal: 16m 35s\tremaining: 41.5s\n",
      "96:\tlearn: 0.0926096\ttotal: 16m 45s\tremaining: 31.1s\n",
      "97:\tlearn: 0.0922823\ttotal: 16m 55s\tremaining: 20.7s\n",
      "98:\tlearn: 0.0920600\ttotal: 17m 5s\tremaining: 10.4s\n",
      "99:\tlearn: 0.0917471\ttotal: 17m 15s\tremaining: 0us\n",
      "[CV 3/3] END classification=<catboost.core.CatBoostClassifier object at 0x7fd044c4bbe0>, classification__max_depth=10, classification__n_estimators=100;, score=0.733 total time=17.5min\n",
      "[CV 1/3] END classification=LogisticRegression(), classification__C=1, classification__solver=lbfgs;, score=0.682 total time=  25.1s\n",
      "[CV 2/3] END classification=LogisticRegression(), classification__C=1, classification__solver=lbfgs;, score=0.684 total time=  21.6s\n",
      "[CV 3/3] END classification=LogisticRegression(), classification__C=1, classification__solver=lbfgs;, score=0.672 total time=  14.9s\n",
      "[CV 1/3] END classification=RandomForestClassifier(), classification__max_depth=5, classification__n_estimators=100;, score=0.000 total time=   4.7s\n",
      "[CV 2/3] END classification=RandomForestClassifier(), classification__max_depth=5, classification__n_estimators=100;, score=0.000 total time=   4.7s\n",
      "[CV 3/3] END classification=RandomForestClassifier(), classification__max_depth=5, classification__n_estimators=100;, score=0.000 total time=   4.9s\n",
      "CPU times: user 58min 59s, sys: 2min 8s, total: 1h 1min 7s\n",
      "Wall time: 1h 1min 15s\n"
     ]
    },
    {
     "data": {
      "text/html": [
       "<style>#sk-container-id-1 {color: black;background-color: white;}#sk-container-id-1 pre{padding: 0;}#sk-container-id-1 div.sk-toggleable {background-color: white;}#sk-container-id-1 label.sk-toggleable__label {cursor: pointer;display: block;width: 100%;margin-bottom: 0;padding: 0.3em;box-sizing: border-box;text-align: center;}#sk-container-id-1 label.sk-toggleable__label-arrow:before {content: \"▸\";float: left;margin-right: 0.25em;color: #696969;}#sk-container-id-1 label.sk-toggleable__label-arrow:hover:before {color: black;}#sk-container-id-1 div.sk-estimator:hover label.sk-toggleable__label-arrow:before {color: black;}#sk-container-id-1 div.sk-toggleable__content {max-height: 0;max-width: 0;overflow: hidden;text-align: left;background-color: #f0f8ff;}#sk-container-id-1 div.sk-toggleable__content pre {margin: 0.2em;color: black;border-radius: 0.25em;background-color: #f0f8ff;}#sk-container-id-1 input.sk-toggleable__control:checked~div.sk-toggleable__content {max-height: 200px;max-width: 100%;overflow: auto;}#sk-container-id-1 input.sk-toggleable__control:checked~label.sk-toggleable__label-arrow:before {content: \"▾\";}#sk-container-id-1 div.sk-estimator input.sk-toggleable__control:checked~label.sk-toggleable__label {background-color: #d4ebff;}#sk-container-id-1 div.sk-label input.sk-toggleable__control:checked~label.sk-toggleable__label {background-color: #d4ebff;}#sk-container-id-1 input.sk-hidden--visually {border: 0;clip: rect(1px 1px 1px 1px);clip: rect(1px, 1px, 1px, 1px);height: 1px;margin: -1px;overflow: hidden;padding: 0;position: absolute;width: 1px;}#sk-container-id-1 div.sk-estimator {font-family: monospace;background-color: #f0f8ff;border: 1px dotted black;border-radius: 0.25em;box-sizing: border-box;margin-bottom: 0.5em;}#sk-container-id-1 div.sk-estimator:hover {background-color: #d4ebff;}#sk-container-id-1 div.sk-parallel-item::after {content: \"\";width: 100%;border-bottom: 1px solid gray;flex-grow: 1;}#sk-container-id-1 div.sk-label:hover label.sk-toggleable__label {background-color: #d4ebff;}#sk-container-id-1 div.sk-serial::before {content: \"\";position: absolute;border-left: 1px solid gray;box-sizing: border-box;top: 0;bottom: 0;left: 50%;z-index: 0;}#sk-container-id-1 div.sk-serial {display: flex;flex-direction: column;align-items: center;background-color: white;padding-right: 0.2em;padding-left: 0.2em;position: relative;}#sk-container-id-1 div.sk-item {position: relative;z-index: 1;}#sk-container-id-1 div.sk-parallel {display: flex;align-items: stretch;justify-content: center;background-color: white;position: relative;}#sk-container-id-1 div.sk-item::before, #sk-container-id-1 div.sk-parallel-item::before {content: \"\";position: absolute;border-left: 1px solid gray;box-sizing: border-box;top: 0;bottom: 0;left: 50%;z-index: -1;}#sk-container-id-1 div.sk-parallel-item {display: flex;flex-direction: column;z-index: 1;position: relative;background-color: white;}#sk-container-id-1 div.sk-parallel-item:first-child::after {align-self: flex-end;width: 50%;}#sk-container-id-1 div.sk-parallel-item:last-child::after {align-self: flex-start;width: 50%;}#sk-container-id-1 div.sk-parallel-item:only-child::after {width: 0;}#sk-container-id-1 div.sk-dashed-wrapped {border: 1px dashed gray;margin: 0 0.4em 0.5em 0.4em;box-sizing: border-box;padding-bottom: 0.4em;background-color: white;}#sk-container-id-1 div.sk-label label {font-family: monospace;font-weight: bold;display: inline-block;line-height: 1.2em;}#sk-container-id-1 div.sk-label-container {text-align: center;}#sk-container-id-1 div.sk-container {/* jupyter's `normalize.less` sets `[hidden] { display: none; }` but bootstrap.min.css set `[hidden] { display: none !important; }` so we also need the `!important` here to be able to override the default hidden behavior on the sphinx rendered scikit-learn.org. See: https://github.com/scikit-learn/scikit-learn/issues/21755 */display: inline-block !important;position: relative;}#sk-container-id-1 div.sk-text-repr-fallback {display: none;}</style><div id=\"sk-container-id-1\" class=\"sk-top-container\"><div class=\"sk-text-repr-fallback\"><pre>RandomizedSearchCV(cv=3,\n",
       "                   estimator=Pipeline(steps=[(&#x27;tfidfvectorizer&#x27;,\n",
       "                                              TfidfVectorizer(stop_words=[&#x27;i&#x27;,\n",
       "                                                                          &#x27;me&#x27;,\n",
       "                                                                          &#x27;my&#x27;,\n",
       "                                                                          &#x27;myself&#x27;,\n",
       "                                                                          &#x27;we&#x27;,\n",
       "                                                                          &#x27;our&#x27;,\n",
       "                                                                          &#x27;ours&#x27;,\n",
       "                                                                          &#x27;ourselves&#x27;,\n",
       "                                                                          &#x27;you&#x27;,\n",
       "                                                                          &quot;you&#x27;re&quot;,\n",
       "                                                                          &quot;you&#x27;ve&quot;,\n",
       "                                                                          &quot;you&#x27;ll&quot;,\n",
       "                                                                          &quot;you&#x27;d&quot;,\n",
       "                                                                          &#x27;your&#x27;,\n",
       "                                                                          &#x27;yours&#x27;,\n",
       "                                                                          &#x27;yourself&#x27;,\n",
       "                                                                          &#x27;yourselves&#x27;,\n",
       "                                                                          &#x27;he&#x27;,\n",
       "                                                                          &#x27;him&#x27;,\n",
       "                                                                          &#x27;his&#x27;,\n",
       "                                                                          &#x27;himself&#x27;,\n",
       "                                                                          &#x27;she&#x27;,\n",
       "                                                                          &quot;she&#x27;s&quot;,\n",
       "                                                                          &#x27;her&#x27;,\n",
       "                                                                          &#x27;hers&#x27;,\n",
       "                                                                          &#x27;herself&#x27;,\n",
       "                                                                          &#x27;it&#x27;,\n",
       "                                                                          &quot;it&#x27;s&quot;,\n",
       "                                                                          &#x27;its&#x27;,\n",
       "                                                                          &#x27;itself&#x27;, ...])),\n",
       "                                             (&#x27;classification&#x27;,\n",
       "                                              Dumm...\n",
       "                                        {&#x27;classification&#x27;: [&lt;catboost.core.CatBoostClassifier object at 0x7fd044c4bbe0&gt;],\n",
       "                                         &#x27;classification__max_depth&#x27;: [5, 10],\n",
       "                                         &#x27;classification__n_estimators&#x27;: [100,\n",
       "                                                                          200,\n",
       "                                                                          300]},\n",
       "                                        {&#x27;classification&#x27;: [LogisticRegression(C=10,\n",
       "                                                                               solver=&#x27;liblinear&#x27;)],\n",
       "                                         &#x27;classification__C&#x27;: [0.1, 1, 10],\n",
       "                                         &#x27;classification__solver&#x27;: [&#x27;newton-cg&#x27;,\n",
       "                                                                    &#x27;lbfgs&#x27;,\n",
       "                                                                    &#x27;liblinear&#x27;]}],\n",
       "                   scoring=make_scorer(f1_score), verbose=4)</pre><b>In a Jupyter environment, please rerun this cell to show the HTML representation or trust the notebook. <br />On GitHub, the HTML representation is unable to render, please try loading this page with nbviewer.org.</b></div><div class=\"sk-container\" hidden><div class=\"sk-item sk-dashed-wrapped\"><div class=\"sk-label-container\"><div class=\"sk-label sk-toggleable\"><input class=\"sk-toggleable__control sk-hidden--visually\" id=\"sk-estimator-id-1\" type=\"checkbox\" ><label for=\"sk-estimator-id-1\" class=\"sk-toggleable__label sk-toggleable__label-arrow\">RandomizedSearchCV</label><div class=\"sk-toggleable__content\"><pre>RandomizedSearchCV(cv=3,\n",
       "                   estimator=Pipeline(steps=[(&#x27;tfidfvectorizer&#x27;,\n",
       "                                              TfidfVectorizer(stop_words=[&#x27;i&#x27;,\n",
       "                                                                          &#x27;me&#x27;,\n",
       "                                                                          &#x27;my&#x27;,\n",
       "                                                                          &#x27;myself&#x27;,\n",
       "                                                                          &#x27;we&#x27;,\n",
       "                                                                          &#x27;our&#x27;,\n",
       "                                                                          &#x27;ours&#x27;,\n",
       "                                                                          &#x27;ourselves&#x27;,\n",
       "                                                                          &#x27;you&#x27;,\n",
       "                                                                          &quot;you&#x27;re&quot;,\n",
       "                                                                          &quot;you&#x27;ve&quot;,\n",
       "                                                                          &quot;you&#x27;ll&quot;,\n",
       "                                                                          &quot;you&#x27;d&quot;,\n",
       "                                                                          &#x27;your&#x27;,\n",
       "                                                                          &#x27;yours&#x27;,\n",
       "                                                                          &#x27;yourself&#x27;,\n",
       "                                                                          &#x27;yourselves&#x27;,\n",
       "                                                                          &#x27;he&#x27;,\n",
       "                                                                          &#x27;him&#x27;,\n",
       "                                                                          &#x27;his&#x27;,\n",
       "                                                                          &#x27;himself&#x27;,\n",
       "                                                                          &#x27;she&#x27;,\n",
       "                                                                          &quot;she&#x27;s&quot;,\n",
       "                                                                          &#x27;her&#x27;,\n",
       "                                                                          &#x27;hers&#x27;,\n",
       "                                                                          &#x27;herself&#x27;,\n",
       "                                                                          &#x27;it&#x27;,\n",
       "                                                                          &quot;it&#x27;s&quot;,\n",
       "                                                                          &#x27;its&#x27;,\n",
       "                                                                          &#x27;itself&#x27;, ...])),\n",
       "                                             (&#x27;classification&#x27;,\n",
       "                                              Dumm...\n",
       "                                        {&#x27;classification&#x27;: [&lt;catboost.core.CatBoostClassifier object at 0x7fd044c4bbe0&gt;],\n",
       "                                         &#x27;classification__max_depth&#x27;: [5, 10],\n",
       "                                         &#x27;classification__n_estimators&#x27;: [100,\n",
       "                                                                          200,\n",
       "                                                                          300]},\n",
       "                                        {&#x27;classification&#x27;: [LogisticRegression(C=10,\n",
       "                                                                               solver=&#x27;liblinear&#x27;)],\n",
       "                                         &#x27;classification__C&#x27;: [0.1, 1, 10],\n",
       "                                         &#x27;classification__solver&#x27;: [&#x27;newton-cg&#x27;,\n",
       "                                                                    &#x27;lbfgs&#x27;,\n",
       "                                                                    &#x27;liblinear&#x27;]}],\n",
       "                   scoring=make_scorer(f1_score), verbose=4)</pre></div></div></div><div class=\"sk-parallel\"><div class=\"sk-parallel-item\"><div class=\"sk-item\"><div class=\"sk-label-container\"><div class=\"sk-label sk-toggleable\"><input class=\"sk-toggleable__control sk-hidden--visually\" id=\"sk-estimator-id-2\" type=\"checkbox\" ><label for=\"sk-estimator-id-2\" class=\"sk-toggleable__label sk-toggleable__label-arrow\">estimator: Pipeline</label><div class=\"sk-toggleable__content\"><pre>Pipeline(steps=[(&#x27;tfidfvectorizer&#x27;,\n",
       "                 TfidfVectorizer(stop_words=[&#x27;i&#x27;, &#x27;me&#x27;, &#x27;my&#x27;, &#x27;myself&#x27;, &#x27;we&#x27;,\n",
       "                                             &#x27;our&#x27;, &#x27;ours&#x27;, &#x27;ourselves&#x27;, &#x27;you&#x27;,\n",
       "                                             &quot;you&#x27;re&quot;, &quot;you&#x27;ve&quot;, &quot;you&#x27;ll&quot;,\n",
       "                                             &quot;you&#x27;d&quot;, &#x27;your&#x27;, &#x27;yours&#x27;,\n",
       "                                             &#x27;yourself&#x27;, &#x27;yourselves&#x27;, &#x27;he&#x27;,\n",
       "                                             &#x27;him&#x27;, &#x27;his&#x27;, &#x27;himself&#x27;, &#x27;she&#x27;,\n",
       "                                             &quot;she&#x27;s&quot;, &#x27;her&#x27;, &#x27;hers&#x27;, &#x27;herself&#x27;,\n",
       "                                             &#x27;it&#x27;, &quot;it&#x27;s&quot;, &#x27;its&#x27;, &#x27;itself&#x27;, ...])),\n",
       "                (&#x27;classification&#x27;, DummyClassifier())])</pre></div></div></div><div class=\"sk-serial\"><div class=\"sk-item\"><div class=\"sk-serial\"><div class=\"sk-item\"><div class=\"sk-estimator sk-toggleable\"><input class=\"sk-toggleable__control sk-hidden--visually\" id=\"sk-estimator-id-3\" type=\"checkbox\" ><label for=\"sk-estimator-id-3\" class=\"sk-toggleable__label sk-toggleable__label-arrow\">TfidfVectorizer</label><div class=\"sk-toggleable__content\"><pre>TfidfVectorizer(stop_words=[&#x27;i&#x27;, &#x27;me&#x27;, &#x27;my&#x27;, &#x27;myself&#x27;, &#x27;we&#x27;, &#x27;our&#x27;, &#x27;ours&#x27;,\n",
       "                            &#x27;ourselves&#x27;, &#x27;you&#x27;, &quot;you&#x27;re&quot;, &quot;you&#x27;ve&quot;, &quot;you&#x27;ll&quot;,\n",
       "                            &quot;you&#x27;d&quot;, &#x27;your&#x27;, &#x27;yours&#x27;, &#x27;yourself&#x27;, &#x27;yourselves&#x27;,\n",
       "                            &#x27;he&#x27;, &#x27;him&#x27;, &#x27;his&#x27;, &#x27;himself&#x27;, &#x27;she&#x27;, &quot;she&#x27;s&quot;,\n",
       "                            &#x27;her&#x27;, &#x27;hers&#x27;, &#x27;herself&#x27;, &#x27;it&#x27;, &quot;it&#x27;s&quot;, &#x27;its&#x27;,\n",
       "                            &#x27;itself&#x27;, ...])</pre></div></div></div><div class=\"sk-item\"><div class=\"sk-estimator sk-toggleable\"><input class=\"sk-toggleable__control sk-hidden--visually\" id=\"sk-estimator-id-4\" type=\"checkbox\" ><label for=\"sk-estimator-id-4\" class=\"sk-toggleable__label sk-toggleable__label-arrow\">DummyClassifier</label><div class=\"sk-toggleable__content\"><pre>DummyClassifier()</pre></div></div></div></div></div></div></div></div></div></div></div></div>"
      ],
      "text/plain": [
       "RandomizedSearchCV(cv=3,\n",
       "                   estimator=Pipeline(steps=[('tfidfvectorizer',\n",
       "                                              TfidfVectorizer(stop_words=['i',\n",
       "                                                                          'me',\n",
       "                                                                          'my',\n",
       "                                                                          'myself',\n",
       "                                                                          'we',\n",
       "                                                                          'our',\n",
       "                                                                          'ours',\n",
       "                                                                          'ourselves',\n",
       "                                                                          'you',\n",
       "                                                                          \"you're\",\n",
       "                                                                          \"you've\",\n",
       "                                                                          \"you'll\",\n",
       "                                                                          \"you'd\",\n",
       "                                                                          'your',\n",
       "                                                                          'yours',\n",
       "                                                                          'yourself',\n",
       "                                                                          'yourselves',\n",
       "                                                                          'he',\n",
       "                                                                          'him',\n",
       "                                                                          'his',\n",
       "                                                                          'himself',\n",
       "                                                                          'she',\n",
       "                                                                          \"she's\",\n",
       "                                                                          'her',\n",
       "                                                                          'hers',\n",
       "                                                                          'herself',\n",
       "                                                                          'it',\n",
       "                                                                          \"it's\",\n",
       "                                                                          'its',\n",
       "                                                                          'itself', ...])),\n",
       "                                             ('classification',\n",
       "                                              Dumm...\n",
       "                                        {'classification': [<catboost.core.CatBoostClassifier object at 0x7fd044c4bbe0>],\n",
       "                                         'classification__max_depth': [5, 10],\n",
       "                                         'classification__n_estimators': [100,\n",
       "                                                                          200,\n",
       "                                                                          300]},\n",
       "                                        {'classification': [LogisticRegression(C=10,\n",
       "                                                                               solver='liblinear')],\n",
       "                                         'classification__C': [0.1, 1, 10],\n",
       "                                         'classification__solver': ['newton-cg',\n",
       "                                                                    'lbfgs',\n",
       "                                                                    'liblinear']}],\n",
       "                   scoring=make_scorer(f1_score), verbose=4)"
      ]
     },
     "execution_count": 15,
     "metadata": {},
     "output_type": "execute_result"
    }
   ],
   "source": [
    "%%time\n",
    "\n",
    "grid.fit(features_train, target_train)"
   ]
  },
  {
   "cell_type": "markdown",
   "metadata": {
    "id": "3U40cR0DjP5X"
   },
   "source": [
    "Лучшая модель:"
   ]
  },
  {
   "cell_type": "code",
   "execution_count": 19,
   "metadata": {
    "executionInfo": {
     "elapsed": 31,
     "status": "aborted",
     "timestamp": 1675619189969,
     "user": {
      "displayName": "Максим Рогачев",
      "userId": "12573523291307481748"
     },
     "user_tz": -180
    },
    "id": "aBak9nlMjP5X"
   },
   "outputs": [
    {
     "data": {
      "text/plain": [
       "{'classification__solver': 'liblinear',\n",
       " 'classification__C': 10,\n",
       " 'classification': LogisticRegression(C=10, solver='liblinear')}"
      ]
     },
     "execution_count": 19,
     "metadata": {},
     "output_type": "execute_result"
    }
   ],
   "source": [
    "grid.best_params_"
   ]
  },
  {
   "cell_type": "markdown",
   "metadata": {
    "id": "CgkSCm_tjP5Y"
   },
   "source": [
    "Результат на обучающей выборке:"
   ]
  },
  {
   "cell_type": "code",
   "execution_count": 20,
   "metadata": {
    "executionInfo": {
     "elapsed": 32,
     "status": "aborted",
     "timestamp": 1675619189970,
     "user": {
      "displayName": "Максим Рогачев",
      "userId": "12573523291307481748"
     },
     "user_tz": -180
    },
    "id": "wbE28NoPjP5Y"
   },
   "outputs": [
    {
     "data": {
      "text/plain": [
       "0.7524999022892541"
      ]
     },
     "execution_count": 20,
     "metadata": {},
     "output_type": "execute_result"
    }
   ],
   "source": [
    "grid.best_score_"
   ]
  },
  {
   "cell_type": "markdown",
   "metadata": {
    "id": "Z9IOKq_vjP5Z"
   },
   "source": [
    "Предсказываем на тестовой выборке:"
   ]
  },
  {
   "cell_type": "code",
   "execution_count": 21,
   "metadata": {
    "executionInfo": {
     "elapsed": 31,
     "status": "aborted",
     "timestamp": 1675619189970,
     "user": {
      "displayName": "Максим Рогачев",
      "userId": "12573523291307481748"
     },
     "user_tz": -180
    },
    "id": "R6QzroIEjP5Z"
   },
   "outputs": [],
   "source": [
    "predictions = grid.predict(features_test)"
   ]
  },
  {
   "cell_type": "markdown",
   "metadata": {
    "id": "gLQEn934jP5Z"
   },
   "source": [
    "Полученный результат метрики на тестовой выборке:"
   ]
  },
  {
   "cell_type": "code",
   "execution_count": 22,
   "metadata": {
    "executionInfo": {
     "elapsed": 32,
     "status": "aborted",
     "timestamp": 1675619189971,
     "user": {
      "displayName": "Максим Рогачев",
      "userId": "12573523291307481748"
     },
     "user_tz": -180
    },
    "id": "CgfZoZn1jP5Z"
   },
   "outputs": [
    {
     "data": {
      "text/plain": [
       "0.7640906857584053"
      ]
     },
     "execution_count": 22,
     "metadata": {},
     "output_type": "execute_result"
    }
   ],
   "source": [
    "f1_score(target_test, predictions)"
   ]
  },
  {
   "cell_type": "markdown",
   "metadata": {
    "id": "3m2hCV1PjP5a"
   },
   "source": [
    "**Вывод**\n",
    "\n",
    "Наилучшим образом показала себя модель линейной регрессии, достигнув значения 0.76 на тестовой выборке. В целом, классификация текстов - очень интересный и трудный процесс, требующий много вычислительных мощностей. Большое влияние на конечный результат оказывает предобработка."
   ]
  }
 ],
 "metadata": {
  "ExecuteTimeLog": [
   {
    "duration": 1583,
    "start_time": "2023-02-06T23:21:49.456Z"
   },
   {
    "duration": 1484,
    "start_time": "2023-02-06T23:22:17.887Z"
   },
   {
    "duration": 6302,
    "start_time": "2023-02-06T23:22:29.797Z"
   },
   {
    "duration": 22,
    "start_time": "2023-02-06T23:22:43.707Z"
   },
   {
    "duration": 15,
    "start_time": "2023-02-06T23:23:18.197Z"
   },
   {
    "duration": 16,
    "start_time": "2023-02-06T23:23:41.670Z"
   },
   {
    "duration": 14,
    "start_time": "2023-02-06T23:23:53.313Z"
   },
   {
    "duration": 14,
    "start_time": "2023-02-06T23:24:02.937Z"
   },
   {
    "duration": 1439,
    "start_time": "2023-02-06T23:24:25.377Z"
   },
   {
    "duration": 4,
    "start_time": "2023-02-06T23:24:31.072Z"
   },
   {
    "duration": 4,
    "start_time": "2023-02-06T23:24:34.132Z"
   },
   {
    "duration": 256,
    "start_time": "2023-02-06T23:24:37.083Z"
   },
   {
    "duration": 128,
    "start_time": "2023-02-06T23:31:05.398Z"
   },
   {
    "duration": 1421,
    "start_time": "2023-02-06T23:31:11.069Z"
   },
   {
    "duration": 22,
    "start_time": "2023-02-06T23:31:12.491Z"
   },
   {
    "duration": 4,
    "start_time": "2023-02-06T23:31:13.809Z"
   },
   {
    "duration": 2171,
    "start_time": "2023-02-06T23:31:15.737Z"
   },
   {
    "duration": 436,
    "start_time": "2023-02-06T23:31:18.990Z"
   },
   {
    "duration": 4,
    "start_time": "2023-02-06T23:31:33.784Z"
   },
   {
    "duration": 1405,
    "start_time": "2023-02-06T23:31:35.581Z"
   },
   {
    "duration": 76610,
    "start_time": "2023-02-06T23:31:37.499Z"
   },
   {
    "duration": 29,
    "start_time": "2023-02-06T23:33:30.542Z"
   },
   {
    "duration": 17,
    "start_time": "2023-02-06T23:33:32.176Z"
   },
   {
    "duration": 7,
    "start_time": "2023-02-06T23:35:10.394Z"
   },
   {
    "duration": 30,
    "start_time": "2023-02-06T23:35:34.980Z"
   },
   {
    "duration": 16,
    "start_time": "2023-02-06T23:35:36.232Z"
   },
   {
    "duration": 5,
    "start_time": "2023-02-06T23:36:27.937Z"
   },
   {
    "duration": 4,
    "start_time": "2023-02-06T23:36:39.309Z"
   },
   {
    "duration": 16,
    "start_time": "2023-02-06T23:36:44.169Z"
   },
   {
    "duration": 16,
    "start_time": "2023-02-06T23:37:16.235Z"
   },
   {
    "duration": 20,
    "start_time": "2023-02-06T23:37:34.877Z"
   },
   {
    "duration": 3369,
    "start_time": "2023-02-06T23:37:52.086Z"
   },
   {
    "duration": 6344,
    "start_time": "2023-02-06T23:37:58.063Z"
   },
   {
    "duration": 3,
    "start_time": "2023-02-06T23:38:10.605Z"
   },
   {
    "duration": 2,
    "start_time": "2023-02-06T23:38:11.362Z"
   },
   {
    "duration": 4,
    "start_time": "2023-02-06T23:38:12.531Z"
   },
   {
    "duration": 3,
    "start_time": "2023-02-06T23:38:13.424Z"
   },
   {
    "duration": 904207,
    "start_time": "2023-02-06T23:38:22.107Z"
   },
   {
    "duration": 4,
    "start_time": "2023-02-06T23:53:26.317Z"
   },
   {
    "duration": 4,
    "start_time": "2023-02-06T23:53:53.061Z"
   },
   {
    "duration": 3,
    "start_time": "2023-02-06T23:53:55.665Z"
   },
   {
    "duration": 4,
    "start_time": "2023-02-06T23:53:57.233Z"
   },
   {
    "duration": 3,
    "start_time": "2023-02-06T23:54:03.640Z"
   },
   {
    "duration": 29,
    "start_time": "2023-02-06T23:54:12.939Z"
   },
   {
    "duration": 4,
    "start_time": "2023-02-06T23:54:14.638Z"
   },
   {
    "duration": 4,
    "start_time": "2023-02-06T23:54:17.317Z"
   },
   {
    "duration": 4,
    "start_time": "2023-02-06T23:54:18.325Z"
   },
   {
    "duration": 5,
    "start_time": "2023-02-06T23:54:18.736Z"
   },
   {
    "duration": 2,
    "start_time": "2023-02-06T23:54:19.713Z"
   },
   {
    "duration": 330,
    "start_time": "2023-02-06T23:54:31.990Z"
   },
   {
    "duration": 3,
    "start_time": "2023-02-06T23:55:25.479Z"
   },
   {
    "duration": 2,
    "start_time": "2023-02-06T23:55:26.113Z"
   },
   {
    "duration": 5,
    "start_time": "2023-02-06T23:55:26.383Z"
   },
   {
    "duration": 3,
    "start_time": "2023-02-06T23:55:26.908Z"
   },
   {
    "duration": 325,
    "start_time": "2023-02-06T23:55:29.065Z"
   },
   {
    "duration": 2,
    "start_time": "2023-02-06T23:55:53.078Z"
   },
   {
    "duration": 3,
    "start_time": "2023-02-06T23:55:53.761Z"
   },
   {
    "duration": 5,
    "start_time": "2023-02-06T23:55:54.115Z"
   },
   {
    "duration": 4,
    "start_time": "2023-02-06T23:55:54.530Z"
   },
   {
    "duration": 382,
    "start_time": "2023-02-06T23:55:55.492Z"
   },
   {
    "duration": 3,
    "start_time": "2023-02-06T23:57:54.005Z"
   },
   {
    "duration": 3,
    "start_time": "2023-02-06T23:57:54.432Z"
   },
   {
    "duration": 6,
    "start_time": "2023-02-06T23:57:54.704Z"
   },
   {
    "duration": 3,
    "start_time": "2023-02-06T23:57:55.218Z"
   },
   {
    "duration": 440,
    "start_time": "2023-02-06T23:57:56.218Z"
   },
   {
    "duration": 3,
    "start_time": "2023-02-06T23:58:09.506Z"
   },
   {
    "duration": 3,
    "start_time": "2023-02-06T23:58:09.783Z"
   },
   {
    "duration": 5,
    "start_time": "2023-02-06T23:58:10.136Z"
   },
   {
    "duration": 3,
    "start_time": "2023-02-06T23:58:10.497Z"
   },
   {
    "duration": 326,
    "start_time": "2023-02-06T23:58:11.128Z"
   },
   {
    "duration": 2,
    "start_time": "2023-02-06T23:58:17.600Z"
   },
   {
    "duration": 3,
    "start_time": "2023-02-06T23:58:18.024Z"
   },
   {
    "duration": 5,
    "start_time": "2023-02-06T23:58:18.369Z"
   },
   {
    "duration": 3,
    "start_time": "2023-02-06T23:58:18.864Z"
   },
   {
    "duration": 314,
    "start_time": "2023-02-06T23:58:19.725Z"
   },
   {
    "duration": 3,
    "start_time": "2023-02-07T00:00:46.301Z"
   },
   {
    "duration": 3,
    "start_time": "2023-02-07T00:00:47.125Z"
   },
   {
    "duration": 7,
    "start_time": "2023-02-07T00:00:47.398Z"
   },
   {
    "duration": 3,
    "start_time": "2023-02-07T00:00:47.700Z"
   },
   {
    "duration": 1622,
    "start_time": "2023-02-07T19:03:36.257Z"
   },
   {
    "duration": 7268,
    "start_time": "2023-02-07T19:03:41.562Z"
   },
   {
    "duration": 22,
    "start_time": "2023-02-07T19:03:50.973Z"
   },
   {
    "duration": 14,
    "start_time": "2023-02-07T19:04:15.851Z"
   },
   {
    "duration": 16,
    "start_time": "2023-02-07T19:04:23.835Z"
   },
   {
    "duration": 14,
    "start_time": "2023-02-07T19:04:41.646Z"
   },
   {
    "duration": 15,
    "start_time": "2023-02-07T19:04:49.109Z"
   },
   {
    "duration": 3,
    "start_time": "2023-02-07T19:05:05.790Z"
   },
   {
    "duration": 15,
    "start_time": "2023-02-07T19:05:10.586Z"
   },
   {
    "duration": 3,
    "start_time": "2023-02-07T19:05:31.219Z"
   },
   {
    "duration": 3,
    "start_time": "2023-02-07T19:05:34.251Z"
   },
   {
    "duration": 3,
    "start_time": "2023-02-07T19:05:37.805Z"
   },
   {
    "duration": 3,
    "start_time": "2023-02-07T19:05:40.985Z"
   },
   {
    "duration": 16,
    "start_time": "2023-02-07T19:05:44.768Z"
   },
   {
    "duration": 17,
    "start_time": "2023-02-07T19:05:55.999Z"
   },
   {
    "duration": 3252,
    "start_time": "2023-02-07T19:06:20.917Z"
   },
   {
    "duration": 3,
    "start_time": "2023-02-07T19:06:33.000Z"
   },
   {
    "duration": 3,
    "start_time": "2023-02-07T19:06:35.888Z"
   },
   {
    "duration": 19,
    "start_time": "2023-02-07T19:06:37.769Z"
   },
   {
    "duration": 919,
    "start_time": "2023-02-07T19:07:11.252Z"
   },
   {
    "duration": 100,
    "start_time": "2023-02-07T19:07:15.079Z"
   },
   {
    "duration": 484,
    "start_time": "2023-02-07T19:07:29.325Z"
   },
   {
    "duration": 1395,
    "start_time": "2023-02-07T19:07:31.845Z"
   },
   {
    "duration": 29,
    "start_time": "2023-02-07T19:07:33.242Z"
   },
   {
    "duration": 4,
    "start_time": "2023-02-07T19:07:34.856Z"
   },
   {
    "duration": 2119,
    "start_time": "2023-02-07T19:07:36.340Z"
   },
   {
    "duration": 73777,
    "start_time": "2023-02-07T19:07:38.462Z"
   },
   {
    "duration": 30,
    "start_time": "2023-02-07T19:09:12.510Z"
   },
   {
    "duration": 5,
    "start_time": "2023-02-07T19:09:15.620Z"
   },
   {
    "duration": 3,
    "start_time": "2023-02-07T19:09:18.928Z"
   },
   {
    "duration": 2,
    "start_time": "2023-02-07T19:09:19.797Z"
   },
   {
    "duration": 6,
    "start_time": "2023-02-07T19:09:20.137Z"
   },
   {
    "duration": 3,
    "start_time": "2023-02-07T19:09:21.244Z"
   },
   {
    "duration": 3675303,
    "start_time": "2023-02-07T19:09:25.727Z"
   },
   {
    "duration": 5,
    "start_time": "2023-02-07T20:10:41.032Z"
   },
   {
    "duration": 9,
    "start_time": "2023-02-07T20:10:41.039Z"
   },
   {
    "duration": 136,
    "start_time": "2023-02-07T20:10:41.049Z"
   },
   {
    "duration": 0,
    "start_time": "2023-02-07T20:10:41.191Z"
   },
   {
    "duration": 5,
    "start_time": "2023-02-07T20:11:13.586Z"
   },
   {
    "duration": 4,
    "start_time": "2023-02-07T20:11:16.632Z"
   },
   {
    "duration": 3075,
    "start_time": "2023-02-07T20:11:49.970Z"
   },
   {
    "duration": 25,
    "start_time": "2023-02-07T20:11:58.812Z"
   }
  ],
  "colab": {
   "provenance": []
  },
  "kernelspec": {
   "display_name": "Python 3 (ipykernel)",
   "language": "python",
   "name": "python3"
  },
  "language_info": {
   "codemirror_mode": {
    "name": "ipython",
    "version": 3
   },
   "file_extension": ".py",
   "mimetype": "text/x-python",
   "name": "python",
   "nbconvert_exporter": "python",
   "pygments_lexer": "ipython3",
   "version": "3.10.7"
  },
  "toc": {
   "base_numbering": 1,
   "nav_menu": {},
   "number_sections": true,
   "sideBar": true,
   "skip_h1_title": true,
   "title_cell": "Table of Contents",
   "title_sidebar": "Contents",
   "toc_cell": false,
   "toc_position": {},
   "toc_section_display": true,
   "toc_window_display": false
  },
  "vscode": {
   "interpreter": {
    "hash": "26de051ba29f2982a8de78e945f0abaf191376122a1563185a90213a26c5da77"
   }
  }
 },
 "nbformat": 4,
 "nbformat_minor": 1
}
