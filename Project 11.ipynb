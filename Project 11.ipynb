{
 "cells": [
  {
   "cell_type": "markdown",
   "metadata": {},
   "source": [
    "# Определение стоимости автомобилей"
   ]
  },
  {
   "attachments": {},
   "cell_type": "markdown",
   "metadata": {},
   "source": [
    "Сервис по продаже автомобилей с пробегом «Не бит, не крашен» разрабатывает приложение для привлечения новых клиентов. В нём можно быстро узнать рыночную стоимость своего автомобиля. В моём распоряжении исторические данные: технические характеристики, комплектации и цены автомобилей. \n",
    "\n",
    "**Цель:** нужно построить модель для определения стоимости автомобиля\n",
    "\n",
    "**Заказчику важны:**\n",
    "1. качество предсказания;\n",
    "2. скорость предсказания;\n",
    "3. время обучения."
   ]
  },
  {
   "cell_type": "markdown",
   "metadata": {},
   "source": [
    "## Подготовка данных"
   ]
  },
  {
   "attachments": {},
   "cell_type": "markdown",
   "metadata": {},
   "source": [
    "###  Загрузка и первое знакомство"
   ]
  },
  {
   "cell_type": "code",
   "execution_count": 1,
   "metadata": {},
   "outputs": [],
   "source": [
    "import pandas as pd\n",
    "import numpy as np\n",
    "\n",
    "import seaborn as sns\n",
    "\n",
    "from sklearn.preprocessing import OneHotEncoder, StandardScaler, OrdinalEncoder\n",
    "\n",
    "from sklearn.model_selection import train_test_split, GridSearchCV\n",
    "\n",
    "from sklearn.tree import DecisionTreeRegressor\n",
    "from sklearn.ensemble import RandomForestRegressor\n",
    "from sklearn.linear_model import LinearRegression\n",
    "import lightgbm as lgb\n",
    "from catboost import CatBoostRegressor, Pool\n",
    "\n",
    "from sklearn.metrics import make_scorer, mean_squared_error\n",
    "\n",
    "import time"
   ]
  },
  {
   "cell_type": "code",
   "execution_count": 2,
   "metadata": {
    "scrolled": true
   },
   "outputs": [
    {
     "data": {
      "text/html": [
       "<div>\n",
       "<style scoped>\n",
       "    .dataframe tbody tr th:only-of-type {\n",
       "        vertical-align: middle;\n",
       "    }\n",
       "\n",
       "    .dataframe tbody tr th {\n",
       "        vertical-align: top;\n",
       "    }\n",
       "\n",
       "    .dataframe thead th {\n",
       "        text-align: right;\n",
       "    }\n",
       "</style>\n",
       "<table border=\"1\" class=\"dataframe\">\n",
       "  <thead>\n",
       "    <tr style=\"text-align: right;\">\n",
       "      <th></th>\n",
       "      <th>DateCrawled</th>\n",
       "      <th>Price</th>\n",
       "      <th>VehicleType</th>\n",
       "      <th>RegistrationYear</th>\n",
       "      <th>Gearbox</th>\n",
       "      <th>Power</th>\n",
       "      <th>Model</th>\n",
       "      <th>Kilometer</th>\n",
       "      <th>RegistrationMonth</th>\n",
       "      <th>FuelType</th>\n",
       "      <th>Brand</th>\n",
       "      <th>Repaired</th>\n",
       "      <th>DateCreated</th>\n",
       "      <th>NumberOfPictures</th>\n",
       "      <th>PostalCode</th>\n",
       "      <th>LastSeen</th>\n",
       "    </tr>\n",
       "  </thead>\n",
       "  <tbody>\n",
       "    <tr>\n",
       "      <th>0</th>\n",
       "      <td>2016-03-24 11:52:17</td>\n",
       "      <td>480</td>\n",
       "      <td>NaN</td>\n",
       "      <td>1993</td>\n",
       "      <td>manual</td>\n",
       "      <td>0</td>\n",
       "      <td>golf</td>\n",
       "      <td>150000</td>\n",
       "      <td>0</td>\n",
       "      <td>petrol</td>\n",
       "      <td>volkswagen</td>\n",
       "      <td>NaN</td>\n",
       "      <td>2016-03-24 00:00:00</td>\n",
       "      <td>0</td>\n",
       "      <td>70435</td>\n",
       "      <td>2016-04-07 03:16:57</td>\n",
       "    </tr>\n",
       "    <tr>\n",
       "      <th>1</th>\n",
       "      <td>2016-03-24 10:58:45</td>\n",
       "      <td>18300</td>\n",
       "      <td>coupe</td>\n",
       "      <td>2011</td>\n",
       "      <td>manual</td>\n",
       "      <td>190</td>\n",
       "      <td>NaN</td>\n",
       "      <td>125000</td>\n",
       "      <td>5</td>\n",
       "      <td>gasoline</td>\n",
       "      <td>audi</td>\n",
       "      <td>yes</td>\n",
       "      <td>2016-03-24 00:00:00</td>\n",
       "      <td>0</td>\n",
       "      <td>66954</td>\n",
       "      <td>2016-04-07 01:46:50</td>\n",
       "    </tr>\n",
       "    <tr>\n",
       "      <th>2</th>\n",
       "      <td>2016-03-14 12:52:21</td>\n",
       "      <td>9800</td>\n",
       "      <td>suv</td>\n",
       "      <td>2004</td>\n",
       "      <td>auto</td>\n",
       "      <td>163</td>\n",
       "      <td>grand</td>\n",
       "      <td>125000</td>\n",
       "      <td>8</td>\n",
       "      <td>gasoline</td>\n",
       "      <td>jeep</td>\n",
       "      <td>NaN</td>\n",
       "      <td>2016-03-14 00:00:00</td>\n",
       "      <td>0</td>\n",
       "      <td>90480</td>\n",
       "      <td>2016-04-05 12:47:46</td>\n",
       "    </tr>\n",
       "    <tr>\n",
       "      <th>3</th>\n",
       "      <td>2016-03-17 16:54:04</td>\n",
       "      <td>1500</td>\n",
       "      <td>small</td>\n",
       "      <td>2001</td>\n",
       "      <td>manual</td>\n",
       "      <td>75</td>\n",
       "      <td>golf</td>\n",
       "      <td>150000</td>\n",
       "      <td>6</td>\n",
       "      <td>petrol</td>\n",
       "      <td>volkswagen</td>\n",
       "      <td>no</td>\n",
       "      <td>2016-03-17 00:00:00</td>\n",
       "      <td>0</td>\n",
       "      <td>91074</td>\n",
       "      <td>2016-03-17 17:40:17</td>\n",
       "    </tr>\n",
       "    <tr>\n",
       "      <th>4</th>\n",
       "      <td>2016-03-31 17:25:20</td>\n",
       "      <td>3600</td>\n",
       "      <td>small</td>\n",
       "      <td>2008</td>\n",
       "      <td>manual</td>\n",
       "      <td>69</td>\n",
       "      <td>fabia</td>\n",
       "      <td>90000</td>\n",
       "      <td>7</td>\n",
       "      <td>gasoline</td>\n",
       "      <td>skoda</td>\n",
       "      <td>no</td>\n",
       "      <td>2016-03-31 00:00:00</td>\n",
       "      <td>0</td>\n",
       "      <td>60437</td>\n",
       "      <td>2016-04-06 10:17:21</td>\n",
       "    </tr>\n",
       "  </tbody>\n",
       "</table>\n",
       "</div>"
      ],
      "text/plain": [
       "           DateCrawled  Price VehicleType  RegistrationYear Gearbox  Power  \\\n",
       "0  2016-03-24 11:52:17    480         NaN              1993  manual      0   \n",
       "1  2016-03-24 10:58:45  18300       coupe              2011  manual    190   \n",
       "2  2016-03-14 12:52:21   9800         suv              2004    auto    163   \n",
       "3  2016-03-17 16:54:04   1500       small              2001  manual     75   \n",
       "4  2016-03-31 17:25:20   3600       small              2008  manual     69   \n",
       "\n",
       "   Model  Kilometer  RegistrationMonth  FuelType       Brand Repaired  \\\n",
       "0   golf     150000                  0    petrol  volkswagen      NaN   \n",
       "1    NaN     125000                  5  gasoline        audi      yes   \n",
       "2  grand     125000                  8  gasoline        jeep      NaN   \n",
       "3   golf     150000                  6    petrol  volkswagen       no   \n",
       "4  fabia      90000                  7  gasoline       skoda       no   \n",
       "\n",
       "           DateCreated  NumberOfPictures  PostalCode             LastSeen  \n",
       "0  2016-03-24 00:00:00                 0       70435  2016-04-07 03:16:57  \n",
       "1  2016-03-24 00:00:00                 0       66954  2016-04-07 01:46:50  \n",
       "2  2016-03-14 00:00:00                 0       90480  2016-04-05 12:47:46  \n",
       "3  2016-03-17 00:00:00                 0       91074  2016-03-17 17:40:17  \n",
       "4  2016-03-31 00:00:00                 0       60437  2016-04-06 10:17:21  "
      ]
     },
     "execution_count": 2,
     "metadata": {},
     "output_type": "execute_result"
    }
   ],
   "source": [
    "data = pd.read_csv('11.csv')\n",
    "data.head()"
   ]
  },
  {
   "cell_type": "code",
   "execution_count": 3,
   "metadata": {},
   "outputs": [
    {
     "name": "stdout",
     "output_type": "stream",
     "text": [
      "<class 'pandas.core.frame.DataFrame'>\n",
      "RangeIndex: 354369 entries, 0 to 354368\n",
      "Data columns (total 16 columns):\n",
      " #   Column             Non-Null Count   Dtype \n",
      "---  ------             --------------   ----- \n",
      " 0   DateCrawled        354369 non-null  object\n",
      " 1   Price              354369 non-null  int64 \n",
      " 2   VehicleType        316879 non-null  object\n",
      " 3   RegistrationYear   354369 non-null  int64 \n",
      " 4   Gearbox            334536 non-null  object\n",
      " 5   Power              354369 non-null  int64 \n",
      " 6   Model              334664 non-null  object\n",
      " 7   Kilometer          354369 non-null  int64 \n",
      " 8   RegistrationMonth  354369 non-null  int64 \n",
      " 9   FuelType           321474 non-null  object\n",
      " 10  Brand              354369 non-null  object\n",
      " 11  Repaired           283215 non-null  object\n",
      " 12  DateCreated        354369 non-null  object\n",
      " 13  NumberOfPictures   354369 non-null  int64 \n",
      " 14  PostalCode         354369 non-null  int64 \n",
      " 15  LastSeen           354369 non-null  object\n",
      "dtypes: int64(7), object(9)\n",
      "memory usage: 43.3+ MB\n"
     ]
    }
   ],
   "source": [
    "data.info()"
   ]
  },
  {
   "cell_type": "markdown",
   "metadata": {},
   "source": [
    "Имеем 16 колонок, 354369 строк. Типы данных object и int64. Заметно большое количество пропусков."
   ]
  },
  {
   "cell_type": "code",
   "execution_count": 4,
   "metadata": {
    "scrolled": true
   },
   "outputs": [
    {
     "data": {
      "text/html": [
       "<div>\n",
       "<style scoped>\n",
       "    .dataframe tbody tr th:only-of-type {\n",
       "        vertical-align: middle;\n",
       "    }\n",
       "\n",
       "    .dataframe tbody tr th {\n",
       "        vertical-align: top;\n",
       "    }\n",
       "\n",
       "    .dataframe thead th {\n",
       "        text-align: right;\n",
       "    }\n",
       "</style>\n",
       "<table border=\"1\" class=\"dataframe\">\n",
       "  <thead>\n",
       "    <tr style=\"text-align: right;\">\n",
       "      <th></th>\n",
       "      <th>Price</th>\n",
       "      <th>RegistrationYear</th>\n",
       "      <th>Power</th>\n",
       "      <th>Kilometer</th>\n",
       "      <th>RegistrationMonth</th>\n",
       "      <th>NumberOfPictures</th>\n",
       "      <th>PostalCode</th>\n",
       "    </tr>\n",
       "  </thead>\n",
       "  <tbody>\n",
       "    <tr>\n",
       "      <th>count</th>\n",
       "      <td>354369.000000</td>\n",
       "      <td>354369.000000</td>\n",
       "      <td>354369.000000</td>\n",
       "      <td>354369.000000</td>\n",
       "      <td>354369.000000</td>\n",
       "      <td>354369.0</td>\n",
       "      <td>354369.000000</td>\n",
       "    </tr>\n",
       "    <tr>\n",
       "      <th>mean</th>\n",
       "      <td>4416.656776</td>\n",
       "      <td>2004.234448</td>\n",
       "      <td>110.094337</td>\n",
       "      <td>128211.172535</td>\n",
       "      <td>5.714645</td>\n",
       "      <td>0.0</td>\n",
       "      <td>50508.689087</td>\n",
       "    </tr>\n",
       "    <tr>\n",
       "      <th>std</th>\n",
       "      <td>4514.158514</td>\n",
       "      <td>90.227958</td>\n",
       "      <td>189.850405</td>\n",
       "      <td>37905.341530</td>\n",
       "      <td>3.726421</td>\n",
       "      <td>0.0</td>\n",
       "      <td>25783.096248</td>\n",
       "    </tr>\n",
       "    <tr>\n",
       "      <th>min</th>\n",
       "      <td>0.000000</td>\n",
       "      <td>1000.000000</td>\n",
       "      <td>0.000000</td>\n",
       "      <td>5000.000000</td>\n",
       "      <td>0.000000</td>\n",
       "      <td>0.0</td>\n",
       "      <td>1067.000000</td>\n",
       "    </tr>\n",
       "    <tr>\n",
       "      <th>25%</th>\n",
       "      <td>1050.000000</td>\n",
       "      <td>1999.000000</td>\n",
       "      <td>69.000000</td>\n",
       "      <td>125000.000000</td>\n",
       "      <td>3.000000</td>\n",
       "      <td>0.0</td>\n",
       "      <td>30165.000000</td>\n",
       "    </tr>\n",
       "    <tr>\n",
       "      <th>50%</th>\n",
       "      <td>2700.000000</td>\n",
       "      <td>2003.000000</td>\n",
       "      <td>105.000000</td>\n",
       "      <td>150000.000000</td>\n",
       "      <td>6.000000</td>\n",
       "      <td>0.0</td>\n",
       "      <td>49413.000000</td>\n",
       "    </tr>\n",
       "    <tr>\n",
       "      <th>75%</th>\n",
       "      <td>6400.000000</td>\n",
       "      <td>2008.000000</td>\n",
       "      <td>143.000000</td>\n",
       "      <td>150000.000000</td>\n",
       "      <td>9.000000</td>\n",
       "      <td>0.0</td>\n",
       "      <td>71083.000000</td>\n",
       "    </tr>\n",
       "    <tr>\n",
       "      <th>max</th>\n",
       "      <td>20000.000000</td>\n",
       "      <td>9999.000000</td>\n",
       "      <td>20000.000000</td>\n",
       "      <td>150000.000000</td>\n",
       "      <td>12.000000</td>\n",
       "      <td>0.0</td>\n",
       "      <td>99998.000000</td>\n",
       "    </tr>\n",
       "  </tbody>\n",
       "</table>\n",
       "</div>"
      ],
      "text/plain": [
       "               Price  RegistrationYear          Power      Kilometer  \\\n",
       "count  354369.000000     354369.000000  354369.000000  354369.000000   \n",
       "mean     4416.656776       2004.234448     110.094337  128211.172535   \n",
       "std      4514.158514         90.227958     189.850405   37905.341530   \n",
       "min         0.000000       1000.000000       0.000000    5000.000000   \n",
       "25%      1050.000000       1999.000000      69.000000  125000.000000   \n",
       "50%      2700.000000       2003.000000     105.000000  150000.000000   \n",
       "75%      6400.000000       2008.000000     143.000000  150000.000000   \n",
       "max     20000.000000       9999.000000   20000.000000  150000.000000   \n",
       "\n",
       "       RegistrationMonth  NumberOfPictures     PostalCode  \n",
       "count      354369.000000          354369.0  354369.000000  \n",
       "mean            5.714645               0.0   50508.689087  \n",
       "std             3.726421               0.0   25783.096248  \n",
       "min             0.000000               0.0    1067.000000  \n",
       "25%             3.000000               0.0   30165.000000  \n",
       "50%             6.000000               0.0   49413.000000  \n",
       "75%             9.000000               0.0   71083.000000  \n",
       "max            12.000000               0.0   99998.000000  "
      ]
     },
     "execution_count": 4,
     "metadata": {},
     "output_type": "execute_result"
    }
   ],
   "source": [
    "data.describe()"
   ]
  },
  {
   "cell_type": "markdown",
   "metadata": {},
   "source": [
    "Описательные статистики отображают много аномалий: есть лоты с нулевой ценой, лоты, зарегестрированные в 1000 году, в 9999 году, или в 0 месяце, лоты с мощностью 0 л.с. и 20000 лошадиных сил, а столбец с количеством картинок полностью нулевой - очевидно, что всё это аномалии, от которых нужно избавляться."
   ]
  },
  {
   "cell_type": "markdown",
   "metadata": {},
   "source": [
    "### Предобработка"
   ]
  },
  {
   "cell_type": "markdown",
   "metadata": {},
   "source": [
    "Залог успешной предобработки - план. Начнем с него:\n",
    "1. Заполнение пропусков\n",
    "2. Кодирование\n",
    "3. Поиск выбросов и аномалий \n",
    "4. Масштабирование\n",
    "5. Проверка на корреляцию\n",
    "6. Отбор признаков\n",
    "7. Удаление дубликатов"
   ]
  },
  {
   "cell_type": "markdown",
   "metadata": {},
   "source": [
    "#### Заполнение/удаление пропусков"
   ]
  },
  {
   "cell_type": "markdown",
   "metadata": {},
   "source": [
    "- Столбец **тип кузова:**"
   ]
  },
  {
   "cell_type": "code",
   "execution_count": 5,
   "metadata": {},
   "outputs": [
    {
     "data": {
      "text/plain": [
       "10.57936783409384"
      ]
     },
     "execution_count": 5,
     "metadata": {},
     "output_type": "execute_result"
    }
   ],
   "source": [
    "data.VehicleType.isna().sum() / data.shape[0] * 100"
   ]
  },
  {
   "cell_type": "markdown",
   "metadata": {},
   "source": [
    "Количество пропусков в столбце VehicleType составляет 10 процентов от общего числа объектов в датафрейме. Заполним пропуски заглушкой"
   ]
  },
  {
   "cell_type": "code",
   "execution_count": 6,
   "metadata": {},
   "outputs": [],
   "source": [
    "data.VehicleType = data.VehicleType.fillna('other')"
   ]
  },
  {
   "cell_type": "markdown",
   "metadata": {},
   "source": [
    "- Столбец **коробка передач:**"
   ]
  },
  {
   "cell_type": "code",
   "execution_count": 7,
   "metadata": {},
   "outputs": [
    {
     "data": {
      "text/plain": [
       "manual    268251\n",
       "auto       66285\n",
       "Name: Gearbox, dtype: int64"
      ]
     },
     "execution_count": 7,
     "metadata": {},
     "output_type": "execute_result"
    }
   ],
   "source": [
    "data.Gearbox.value_counts()"
   ]
  },
  {
   "cell_type": "markdown",
   "metadata": {},
   "source": [
    "Можно считать, что если в столбце пропуск, то скорее всего коробка ручная, поэтому пропуски заполним значением manual"
   ]
  },
  {
   "cell_type": "code",
   "execution_count": 8,
   "metadata": {},
   "outputs": [],
   "source": [
    "data.Gearbox = data.Gearbox.fillna('manual')"
   ]
  },
  {
   "cell_type": "markdown",
   "metadata": {},
   "source": [
    "- Столбец **модель** по аналогии с типом кузова заполним заглушками"
   ]
  },
  {
   "cell_type": "code",
   "execution_count": 9,
   "metadata": {},
   "outputs": [],
   "source": [
    "data.Model = data.Model.fillna('other')"
   ]
  },
  {
   "cell_type": "markdown",
   "metadata": {},
   "source": [
    "- Столбец **тип топлива:**"
   ]
  },
  {
   "cell_type": "code",
   "execution_count": 10,
   "metadata": {},
   "outputs": [
    {
     "data": {
      "text/plain": [
       "petrol      216352\n",
       "gasoline     98720\n",
       "lpg           5310\n",
       "cng            565\n",
       "hybrid         233\n",
       "other          204\n",
       "electric        90\n",
       "Name: FuelType, dtype: int64"
      ]
     },
     "execution_count": 10,
     "metadata": {},
     "output_type": "execute_result"
    }
   ],
   "source": [
    "data.FuelType.value_counts()"
   ]
  },
  {
   "cell_type": "markdown",
   "metadata": {},
   "source": [
    "Заполним пропуски значением other"
   ]
  },
  {
   "cell_type": "code",
   "execution_count": 11,
   "metadata": {},
   "outputs": [],
   "source": [
    "data.FuelType = data.FuelType.fillna('other')"
   ]
  },
  {
   "cell_type": "markdown",
   "metadata": {},
   "source": [
    "- Столбец, отображающий **наличие ремонта**. Здесь пропуски будет логично прировнять к отсутствию ремонта"
   ]
  },
  {
   "cell_type": "code",
   "execution_count": 12,
   "metadata": {},
   "outputs": [],
   "source": [
    "data.Repaired = data.Repaired.fillna('no')"
   ]
  },
  {
   "cell_type": "code",
   "execution_count": 13,
   "metadata": {},
   "outputs": [
    {
     "name": "stdout",
     "output_type": "stream",
     "text": [
      "<class 'pandas.core.frame.DataFrame'>\n",
      "RangeIndex: 354369 entries, 0 to 354368\n",
      "Data columns (total 16 columns):\n",
      " #   Column             Non-Null Count   Dtype \n",
      "---  ------             --------------   ----- \n",
      " 0   DateCrawled        354369 non-null  object\n",
      " 1   Price              354369 non-null  int64 \n",
      " 2   VehicleType        354369 non-null  object\n",
      " 3   RegistrationYear   354369 non-null  int64 \n",
      " 4   Gearbox            354369 non-null  object\n",
      " 5   Power              354369 non-null  int64 \n",
      " 6   Model              354369 non-null  object\n",
      " 7   Kilometer          354369 non-null  int64 \n",
      " 8   RegistrationMonth  354369 non-null  int64 \n",
      " 9   FuelType           354369 non-null  object\n",
      " 10  Brand              354369 non-null  object\n",
      " 11  Repaired           354369 non-null  object\n",
      " 12  DateCreated        354369 non-null  object\n",
      " 13  NumberOfPictures   354369 non-null  int64 \n",
      " 14  PostalCode         354369 non-null  int64 \n",
      " 15  LastSeen           354369 non-null  object\n",
      "dtypes: int64(7), object(9)\n",
      "memory usage: 43.3+ MB\n"
     ]
    }
   ],
   "source": [
    "data.info()"
   ]
  },
  {
   "cell_type": "markdown",
   "metadata": {},
   "source": [
    "**Итог**\n",
    "\n",
    "Пропусков больше нет"
   ]
  },
  {
   "cell_type": "markdown",
   "metadata": {},
   "source": [
    "#### Обработка аномалий "
   ]
  },
  {
   "cell_type": "markdown",
   "metadata": {},
   "source": [
    "- Столбец с **ценой**"
   ]
  },
  {
   "cell_type": "code",
   "execution_count": 15,
   "metadata": {},
   "outputs": [
    {
     "data": {
      "image/png": "[encoded data removed]",
      "text/plain": [
       "<Figure size 1800x1200 with 1 Axes>"
      ]
     },
     "metadata": {},
     "output_type": "display_data"
    }
   ],
   "source": [
    "sns.set(rc={\"figure.figsize\": (18, 12)})\n",
    "sns.histplot(data.Price, color='g').set(title='Распределение цен на автомобили', xlabel='Цена', ylabel='Количество');"
   ]
  },
  {
   "cell_type": "markdown",
   "metadata": {},
   "source": [
    "На графике распредления видно большое скопление объектов с нулевой ценой. Это явно выброс, от них нужно избавляться. Удалим все объекты с ценой ниже 100."
   ]
  },
  {
   "cell_type": "code",
   "execution_count": 16,
   "metadata": {},
   "outputs": [],
   "source": [
    "data = data[data['Price'] > 100]"
   ]
  },
  {
   "cell_type": "markdown",
   "metadata": {},
   "source": [
    "<div class=\"alert alert-block alert-info\">\n",
    "<b>Совет:</b>   Самое интересное, что на нескольких сайтов по продажам подержанных автомобилей в Германии (страну можно определить по почтовым индексам, большинство из них из Германии) показало, что цены начинаются действительно с 0 и 1 евро, но это единичные объявления и не понятно, то ли это ошибка при заполнении формы, то ли машины на металлолом. Но я  все-таки склоняюсь к тому, чтобы избавиться от таких данных\n",
    "</div>\n"
   ]
  },
  {
   "cell_type": "markdown",
   "metadata": {},
   "source": [
    "- Столбец с **годом регистрации**"
   ]
  },
  {
   "cell_type": "code",
   "execution_count": 17,
   "metadata": {},
   "outputs": [
    {
     "data": {
      "text/plain": [
       "2000    22496\n",
       "1999    21780\n",
       "2005    21341\n",
       "2006    19639\n",
       "2001    19550\n",
       "        ...  \n",
       "3700        1\n",
       "3800        1\n",
       "4800        1\n",
       "2290        1\n",
       "1946        1\n",
       "Name: RegistrationYear, Length: 136, dtype: int64"
      ]
     },
     "execution_count": 17,
     "metadata": {},
     "output_type": "execute_result"
    }
   ],
   "source": [
    "data.RegistrationYear.value_counts()"
   ]
  },
  {
   "cell_type": "markdown",
   "metadata": {},
   "source": [
    "Видно, что имеются аномальные значения года, поэтому ограничим год регистрации с 1950 по 2017"
   ]
  },
  {
   "cell_type": "code",
   "execution_count": 18,
   "metadata": {},
   "outputs": [],
   "source": [
    "data = data[(1949 < data['RegistrationYear']) & (data['RegistrationYear'] < 2017)]"
   ]
  },
  {
   "cell_type": "markdown",
   "metadata": {},
   "source": [
    "- Столбец **мощности**"
   ]
  },
  {
   "cell_type": "markdown",
   "metadata": {},
   "source": [
    "Мощность автомобиля сверху ограничена 1000 л.с. по данным Google."
   ]
  },
  {
   "cell_type": "code",
   "execution_count": 19,
   "metadata": {},
   "outputs": [],
   "source": [
    "data = data[data['Power'] < 1000]"
   ]
  },
  {
   "cell_type": "code",
   "execution_count": 21,
   "metadata": {},
   "outputs": [
    {
     "data": {
      "image/png": "[encoded data removed]",
      "text/plain": [
       "<Figure size 1800x1200 with 1 Axes>"
      ]
     },
     "metadata": {},
     "output_type": "display_data"
    }
   ],
   "source": [
    "sns.set(rc={\"figure.figsize\": (18, 12)})\n",
    "sns.histplot(data.Power, color='g').set(title='Распределение мощностей', xlabel='Мощность', ylabel='Количество', xlim=(0, 300));"
   ]
  },
  {
   "cell_type": "markdown",
   "metadata": {},
   "source": [
    "\n",
    "Виден огромный выброс около 0. Так как восстановить мощность по другим признакам не предсатвляется возможным, то удалим этот выброс. Также будем считать выбросами все объекты, шде лошадиных сил менее 10"
   ]
  },
  {
   "cell_type": "code",
   "execution_count": 23,
   "metadata": {},
   "outputs": [],
   "source": [
    "data = data[data['Power'] > 9]"
   ]
  },
  {
   "cell_type": "markdown",
   "metadata": {},
   "source": [
    "- Столбец с **километражом**"
   ]
  },
  {
   "cell_type": "code",
   "execution_count": 24,
   "metadata": {},
   "outputs": [
    {
     "data": {
      "image/png": "[encoded data removed]",
      "text/plain": [
       "<Figure size 1800x1200 with 1 Axes>"
      ]
     },
     "metadata": {},
     "output_type": "display_data"
    }
   ],
   "source": [
    "sns.set(rc={\"figure.figsize\": (18, 12)})\n",
    "sns.histplot(data.Kilometer, color='g').set(title='Распределение километража', xlabel='Километраж', ylabel='Количество');"
   ]
  },
  {
   "cell_type": "code",
   "execution_count": 25,
   "metadata": {},
   "outputs": [
    {
     "data": {
      "text/plain": [
       "150000    195219\n",
       "125000     31715\n",
       "100000     12798\n",
       "90000      10283\n",
       "80000       9016\n",
       "70000       7801\n",
       "60000       6833\n",
       "50000       5647\n",
       "40000       4497\n",
       "30000       3879\n",
       "20000       3243\n",
       "5000        2751\n",
       "10000        914\n",
       "Name: Kilometer, dtype: int64"
      ]
     },
     "execution_count": 25,
     "metadata": {},
     "output_type": "execute_result"
    }
   ],
   "source": [
    "data.Kilometer.value_counts()"
   ]
  },
  {
   "cell_type": "markdown",
   "metadata": {},
   "source": [
    "Этот столбец может показаться странным, но вполне возможно, что он специально сделан, как выбор из списка, поэтому исправлять здесь ничего не будем."
   ]
  },
  {
   "cell_type": "markdown",
   "metadata": {},
   "source": [
    "- Столбец **месяц регистрации**"
   ]
  },
  {
   "cell_type": "code",
   "execution_count": 26,
   "metadata": {},
   "outputs": [
    {
     "data": {
      "text/plain": [
       "3     30325\n",
       "6     27465\n",
       "4     25655\n",
       "5     25519\n",
       "7     23748\n",
       "10    22893\n",
       "12    21120\n",
       "11    20987\n",
       "9     20892\n",
       "1     20074\n",
       "8     19661\n",
       "2     18790\n",
       "0     17467\n",
       "Name: RegistrationMonth, dtype: int64"
      ]
     },
     "execution_count": 26,
     "metadata": {},
     "output_type": "execute_result"
    }
   ],
   "source": [
    "data.RegistrationMonth.value_counts()"
   ]
  },
  {
   "cell_type": "markdown",
   "metadata": {},
   "source": [
    "Думаю с этим столбцом можно ничего не делать, так как потом я его вовсе удалю, думаю он не влияет на цену автомобиля"
   ]
  },
  {
   "cell_type": "markdown",
   "metadata": {},
   "source": [
    "- Столбец **количетво картинок**"
   ]
  },
  {
   "cell_type": "code",
   "execution_count": 27,
   "metadata": {},
   "outputs": [
    {
     "data": {
      "text/plain": [
       "0    294596\n",
       "Name: NumberOfPictures, dtype: int64"
      ]
     },
     "execution_count": 27,
     "metadata": {},
     "output_type": "execute_result"
    }
   ],
   "source": [
    "data.NumberOfPictures.value_counts()"
   ]
  },
  {
   "cell_type": "markdown",
   "metadata": {},
   "source": [
    "В этом столбце все значения нулевые, значит его нужно удалить"
   ]
  },
  {
   "cell_type": "code",
   "execution_count": 28,
   "metadata": {},
   "outputs": [],
   "source": [
    "data = data.drop('NumberOfPictures', axis=1)"
   ]
  },
  {
   "cell_type": "code",
   "execution_count": 29,
   "metadata": {},
   "outputs": [
    {
     "name": "stdout",
     "output_type": "stream",
     "text": [
      "<class 'pandas.core.frame.DataFrame'>\n",
      "Int64Index: 294596 entries, 1 to 354368\n",
      "Data columns (total 15 columns):\n",
      " #   Column             Non-Null Count   Dtype \n",
      "---  ------             --------------   ----- \n",
      " 0   DateCrawled        294596 non-null  object\n",
      " 1   Price              294596 non-null  int64 \n",
      " 2   VehicleType        294596 non-null  object\n",
      " 3   RegistrationYear   294596 non-null  int64 \n",
      " 4   Gearbox            294596 non-null  object\n",
      " 5   Power              294596 non-null  int64 \n",
      " 6   Model              294596 non-null  object\n",
      " 7   Kilometer          294596 non-null  int64 \n",
      " 8   RegistrationMonth  294596 non-null  int64 \n",
      " 9   FuelType           294596 non-null  object\n",
      " 10  Brand              294596 non-null  object\n",
      " 11  Repaired           294596 non-null  object\n",
      " 12  DateCreated        294596 non-null  object\n",
      " 13  PostalCode         294596 non-null  int64 \n",
      " 14  LastSeen           294596 non-null  object\n",
      "dtypes: int64(6), object(9)\n",
      "memory usage: 36.0+ MB\n"
     ]
    }
   ],
   "source": [
    "data.info()"
   ]
  },
  {
   "cell_type": "markdown",
   "metadata": {},
   "source": [
    "**Итог**\n",
    "\n",
    "После работы с пропусками и аномалиями удалось сохранить максимальное число объектов"
   ]
  },
  {
   "cell_type": "markdown",
   "metadata": {},
   "source": [
    "#### Отбор признаков"
   ]
  },
  {
   "cell_type": "code",
   "execution_count": 30,
   "metadata": {},
   "outputs": [
    {
     "data": {
      "text/plain": [
       "Index(['DateCrawled', 'Price', 'VehicleType', 'RegistrationYear', 'Gearbox',\n",
       "       'Power', 'Model', 'Kilometer', 'RegistrationMonth', 'FuelType', 'Brand',\n",
       "       'Repaired', 'DateCreated', 'PostalCode', 'LastSeen'],\n",
       "      dtype='object')"
      ]
     },
     "execution_count": 30,
     "metadata": {},
     "output_type": "execute_result"
    }
   ],
   "source": [
    "data.columns"
   ]
  },
  {
   "cell_type": "markdown",
   "metadata": {},
   "source": [
    "На мой взгляд на цену автомобиля не влияют DateCrawled, RegistrationMonth, DateCreated, PostalCode, LastSeen. Избавляемся от них"
   ]
  },
  {
   "cell_type": "code",
   "execution_count": 31,
   "metadata": {},
   "outputs": [],
   "source": [
    "data = data.drop(['DateCrawled', 'RegistrationMonth', 'DateCreated', 'PostalCode', 'LastSeen'], axis=1)"
   ]
  },
  {
   "cell_type": "markdown",
   "metadata": {},
   "source": [
    "#### Удаление дубликатов"
   ]
  },
  {
   "cell_type": "code",
   "execution_count": 32,
   "metadata": {},
   "outputs": [
    {
     "data": {
      "text/plain": [
       "45785"
      ]
     },
     "execution_count": 32,
     "metadata": {},
     "output_type": "execute_result"
    }
   ],
   "source": [
    "data.duplicated().sum()"
   ]
  },
  {
   "cell_type": "markdown",
   "metadata": {},
   "source": [
    "В даатсете 46000 дубликатов. От них необходимо избавиться"
   ]
  },
  {
   "cell_type": "code",
   "execution_count": 33,
   "metadata": {},
   "outputs": [
    {
     "data": {
      "text/html": [
       "<div>\n",
       "<style scoped>\n",
       "    .dataframe tbody tr th:only-of-type {\n",
       "        vertical-align: middle;\n",
       "    }\n",
       "\n",
       "    .dataframe tbody tr th {\n",
       "        vertical-align: top;\n",
       "    }\n",
       "\n",
       "    .dataframe thead th {\n",
       "        text-align: right;\n",
       "    }\n",
       "</style>\n",
       "<table border=\"1\" class=\"dataframe\">\n",
       "  <thead>\n",
       "    <tr style=\"text-align: right;\">\n",
       "      <th></th>\n",
       "      <th>Price</th>\n",
       "      <th>VehicleType</th>\n",
       "      <th>RegistrationYear</th>\n",
       "      <th>Gearbox</th>\n",
       "      <th>Power</th>\n",
       "      <th>Model</th>\n",
       "      <th>Kilometer</th>\n",
       "      <th>FuelType</th>\n",
       "      <th>Brand</th>\n",
       "      <th>Repaired</th>\n",
       "    </tr>\n",
       "  </thead>\n",
       "  <tbody>\n",
       "    <tr>\n",
       "      <th>0</th>\n",
       "      <td>18300</td>\n",
       "      <td>coupe</td>\n",
       "      <td>2011</td>\n",
       "      <td>manual</td>\n",
       "      <td>190</td>\n",
       "      <td>other</td>\n",
       "      <td>125000</td>\n",
       "      <td>gasoline</td>\n",
       "      <td>audi</td>\n",
       "      <td>yes</td>\n",
       "    </tr>\n",
       "    <tr>\n",
       "      <th>1</th>\n",
       "      <td>9800</td>\n",
       "      <td>suv</td>\n",
       "      <td>2004</td>\n",
       "      <td>auto</td>\n",
       "      <td>163</td>\n",
       "      <td>grand</td>\n",
       "      <td>125000</td>\n",
       "      <td>gasoline</td>\n",
       "      <td>jeep</td>\n",
       "      <td>no</td>\n",
       "    </tr>\n",
       "    <tr>\n",
       "      <th>2</th>\n",
       "      <td>1500</td>\n",
       "      <td>small</td>\n",
       "      <td>2001</td>\n",
       "      <td>manual</td>\n",
       "      <td>75</td>\n",
       "      <td>golf</td>\n",
       "      <td>150000</td>\n",
       "      <td>petrol</td>\n",
       "      <td>volkswagen</td>\n",
       "      <td>no</td>\n",
       "    </tr>\n",
       "    <tr>\n",
       "      <th>3</th>\n",
       "      <td>3600</td>\n",
       "      <td>small</td>\n",
       "      <td>2008</td>\n",
       "      <td>manual</td>\n",
       "      <td>69</td>\n",
       "      <td>fabia</td>\n",
       "      <td>90000</td>\n",
       "      <td>gasoline</td>\n",
       "      <td>skoda</td>\n",
       "      <td>no</td>\n",
       "    </tr>\n",
       "    <tr>\n",
       "      <th>4</th>\n",
       "      <td>650</td>\n",
       "      <td>sedan</td>\n",
       "      <td>1995</td>\n",
       "      <td>manual</td>\n",
       "      <td>102</td>\n",
       "      <td>3er</td>\n",
       "      <td>150000</td>\n",
       "      <td>petrol</td>\n",
       "      <td>bmw</td>\n",
       "      <td>yes</td>\n",
       "    </tr>\n",
       "    <tr>\n",
       "      <th>...</th>\n",
       "      <td>...</td>\n",
       "      <td>...</td>\n",
       "      <td>...</td>\n",
       "      <td>...</td>\n",
       "      <td>...</td>\n",
       "      <td>...</td>\n",
       "      <td>...</td>\n",
       "      <td>...</td>\n",
       "      <td>...</td>\n",
       "      <td>...</td>\n",
       "    </tr>\n",
       "    <tr>\n",
       "      <th>248806</th>\n",
       "      <td>5250</td>\n",
       "      <td>other</td>\n",
       "      <td>2016</td>\n",
       "      <td>auto</td>\n",
       "      <td>150</td>\n",
       "      <td>159</td>\n",
       "      <td>150000</td>\n",
       "      <td>other</td>\n",
       "      <td>alfa_romeo</td>\n",
       "      <td>no</td>\n",
       "    </tr>\n",
       "    <tr>\n",
       "      <th>248807</th>\n",
       "      <td>3200</td>\n",
       "      <td>sedan</td>\n",
       "      <td>2004</td>\n",
       "      <td>manual</td>\n",
       "      <td>225</td>\n",
       "      <td>leon</td>\n",
       "      <td>150000</td>\n",
       "      <td>petrol</td>\n",
       "      <td>seat</td>\n",
       "      <td>yes</td>\n",
       "    </tr>\n",
       "    <tr>\n",
       "      <th>248808</th>\n",
       "      <td>1199</td>\n",
       "      <td>convertible</td>\n",
       "      <td>2000</td>\n",
       "      <td>auto</td>\n",
       "      <td>101</td>\n",
       "      <td>fortwo</td>\n",
       "      <td>125000</td>\n",
       "      <td>petrol</td>\n",
       "      <td>smart</td>\n",
       "      <td>no</td>\n",
       "    </tr>\n",
       "    <tr>\n",
       "      <th>248809</th>\n",
       "      <td>9200</td>\n",
       "      <td>bus</td>\n",
       "      <td>1996</td>\n",
       "      <td>manual</td>\n",
       "      <td>102</td>\n",
       "      <td>transporter</td>\n",
       "      <td>150000</td>\n",
       "      <td>gasoline</td>\n",
       "      <td>volkswagen</td>\n",
       "      <td>no</td>\n",
       "    </tr>\n",
       "    <tr>\n",
       "      <th>248810</th>\n",
       "      <td>3400</td>\n",
       "      <td>wagon</td>\n",
       "      <td>2002</td>\n",
       "      <td>manual</td>\n",
       "      <td>100</td>\n",
       "      <td>golf</td>\n",
       "      <td>150000</td>\n",
       "      <td>gasoline</td>\n",
       "      <td>volkswagen</td>\n",
       "      <td>no</td>\n",
       "    </tr>\n",
       "  </tbody>\n",
       "</table>\n",
       "<p>248811 rows × 10 columns</p>\n",
       "</div>"
      ],
      "text/plain": [
       "        Price  VehicleType  RegistrationYear Gearbox  Power        Model  \\\n",
       "0       18300        coupe              2011  manual    190        other   \n",
       "1        9800          suv              2004    auto    163        grand   \n",
       "2        1500        small              2001  manual     75         golf   \n",
       "3        3600        small              2008  manual     69        fabia   \n",
       "4         650        sedan              1995  manual    102          3er   \n",
       "...       ...          ...               ...     ...    ...          ...   \n",
       "248806   5250        other              2016    auto    150          159   \n",
       "248807   3200        sedan              2004  manual    225         leon   \n",
       "248808   1199  convertible              2000    auto    101       fortwo   \n",
       "248809   9200          bus              1996  manual    102  transporter   \n",
       "248810   3400        wagon              2002  manual    100         golf   \n",
       "\n",
       "        Kilometer  FuelType       Brand Repaired  \n",
       "0          125000  gasoline        audi      yes  \n",
       "1          125000  gasoline        jeep       no  \n",
       "2          150000    petrol  volkswagen       no  \n",
       "3           90000  gasoline       skoda       no  \n",
       "4          150000    petrol         bmw      yes  \n",
       "...           ...       ...         ...      ...  \n",
       "248806     150000     other  alfa_romeo       no  \n",
       "248807     150000    petrol        seat      yes  \n",
       "248808     125000    petrol       smart       no  \n",
       "248809     150000  gasoline  volkswagen       no  \n",
       "248810     150000  gasoline  volkswagen       no  \n",
       "\n",
       "[248811 rows x 10 columns]"
      ]
     },
     "execution_count": 33,
     "metadata": {},
     "output_type": "execute_result"
    }
   ],
   "source": [
    "data.drop_duplicates().reset_index(drop=True)"
   ]
  },
  {
   "cell_type": "markdown",
   "metadata": {},
   "source": [
    "#### Кодирование категорильных признаков"
   ]
  },
  {
   "cell_type": "code",
   "execution_count": 34,
   "metadata": {},
   "outputs": [],
   "source": [
    "cat = ['VehicleType', 'Gearbox', 'Model', 'FuelType', 'Brand', 'Repaired']\n",
    "data_OHE = pd.get_dummies(data, columns=cat)\n",
    "\n",
    "enc = OrdinalEncoder()\n",
    "data_OE = data.copy()\n",
    "data_OE[cat] = enc.fit_transform(data_OE[cat])"
   ]
  },
  {
   "cell_type": "markdown",
   "metadata": {},
   "source": [
    "#### Масштабирование числовых признаков"
   ]
  },
  {
   "cell_type": "code",
   "execution_count": 35,
   "metadata": {},
   "outputs": [],
   "source": [
    "features = data.drop('Price', axis=1)\n",
    "target = data['Price']\n",
    "\n",
    "features_OHE = data_OHE.drop('Price', axis=1)\n",
    "target_OHE = data_OHE['Price']\n",
    "\n",
    "features_united_OHE, features_test_OHE, target_united_OHE, target_test_OHE = train_test_split(features_OHE, target_OHE, test_size=0.2, random_state=28) \n",
    "features_train_OHE, features_valid_OHE, target_train_OHE, target_valid_OHE = train_test_split(features_united_OHE, target_united_OHE, test_size=0.25, random_state=28)\n",
    "\n",
    "features_OE = data_OE.drop('Price', axis=1)\n",
    "target_OE = data_OE['Price']\n",
    "\n",
    "features_united_OE, features_test_OE, target_united_OE, target_test_OE = train_test_split(features_OE, target_OE, test_size=0.2, random_state=28) \n",
    "features_train_OE, features_valid_OE, target_train_OE, target_valid_OE = train_test_split(features_united_OE, target_united_OE, test_size=0.25, random_state=28)"
   ]
  },
  {
   "cell_type": "code",
   "execution_count": 36,
   "metadata": {
    "scrolled": true
   },
   "outputs": [],
   "source": [
    "def scaler(data_train, data_test, data_valid):\n",
    "    scaler = StandardScaler()\n",
    "    numeric = ['RegistrationYear', 'Power', 'Kilometer']\n",
    "    scaler = scaler.fit(data_train[numeric])\n",
    "    features_train_scaled = scaler.transform(data_train[numeric])\n",
    "    features_test_scaled = scaler.transform(data_test[numeric])\n",
    "    features_valid_scaled = scaler.transform(data_valid[numeric])\n",
    "    data_train[numeric] = features_train_scaled\n",
    "    data_test[numeric] = features_test_scaled\n",
    "    data_valid[numeric] = features_valid_scaled \n",
    "    return data_train, data_test, data_valid\n",
    "    \n",
    "features_train_OHE, features_test_OHE, features_valid_OHE = scaler(features_train_OHE, features_test_OHE, features_valid_OHE) \n",
    "features_train_OE, features_test_OE, features_valid_OE = scaler(features_train_OE, features_test_OE, features_valid_OE) "
   ]
  },
  {
   "cell_type": "markdown",
   "metadata": {},
   "source": [
    "#### Проверка на корреляцию"
   ]
  },
  {
   "cell_type": "code",
   "execution_count": 37,
   "metadata": {},
   "outputs": [
    {
     "data": {
      "image/png": "[encoded data removed]",
      "text/plain": [
       "<Figure size 1800x1200 with 2 Axes>"
      ]
     },
     "metadata": {},
     "output_type": "display_data"
    }
   ],
   "source": [
    "sns.heatmap(data.corr()).set(title='Тепловая карта корреляций');"
   ]
  },
  {
   "cell_type": "markdown",
   "metadata": {},
   "source": [
    "Единственная внушительная корреляция(около 0.5) наблюдается между ценой и годом регистрации автомобиля. "
   ]
  },
  {
   "cell_type": "markdown",
   "metadata": {},
   "source": [
    "**Вывод**\n",
    "\n",
    "По итогу предобработки проделаны важные этапы, данные очищены от пропусков и аномалий, удалены дубликаты, даннные масштабированы и кодированы, проверка на корреляцию пройдена."
   ]
  },
  {
   "cell_type": "markdown",
   "metadata": {},
   "source": [
    "## Обучение моделей"
   ]
  },
  {
   "cell_type": "code",
   "execution_count": 39,
   "metadata": {},
   "outputs": [],
   "source": [
    "def rmse(vec, predict):\n",
    "    return mean_squared_error(vec, predict)**0.5"
   ]
  },
  {
   "cell_type": "markdown",
   "metadata": {},
   "source": [
    "### Решающее дерево "
   ]
  },
  {
   "cell_type": "code",
   "execution_count": 41,
   "metadata": {},
   "outputs": [
    {
     "name": "stdout",
     "output_type": "stream",
     "text": [
      "Наилучшее значение RMSE достигается при глубине дерева 16\n"
     ]
    }
   ],
   "source": [
    "model = DecisionTreeRegressor(random_state=28)\n",
    "params = {'max_depth': range(1, 20, 5)}\n",
    "grid_model = GridSearchCV(model, params, cv=3, scoring=make_scorer(rmse, greater_is_better=False), n_jobs=-1)\n",
    "grid_model.fit(features_train_OE, target_train_OE)\n",
    "print('Наилучшее значение RMSE достигается при глубине дерева', grid_model.best_params_['max_depth'])"
   ]
  },
  {
   "cell_type": "code",
   "execution_count": 42,
   "metadata": {},
   "outputs": [
    {
     "name": "stdout",
     "output_type": "stream",
     "text": [
      "Время обучения решающего дерева: 0.5398540496826172\n",
      "Время предсказания решающего дерева: 0.03699970245361328\n",
      "Итоговая метрика решающего дерева: 1934.350110281349\n"
     ]
    }
   ],
   "source": [
    "model = DecisionTreeRegressor(max_depth=16, min_samples_split=2, random_state=28)\n",
    "\n",
    "start = time.time()\n",
    "model.fit(features_train_OE, target_train_OE)\n",
    "end = time.time()\n",
    "fit_time_DTR = end - start\n",
    "print('Время обучения решающего дерева:', fit_time_DTR)\n",
    "\n",
    "start = time.time()\n",
    "predicts = model.predict(features_train_OE)\n",
    "end = time.time()\n",
    "predict_time_DTR = end - start\n",
    "print('Время предсказания решающего дерева:', predict_time_DTR)\n",
    "\n",
    "rmse_DTR = grid_model.best_score_ * (-1)\n",
    "print('Итоговая метрика решающего дерева:', rmse_DTR)"
   ]
  },
  {
   "cell_type": "markdown",
   "metadata": {},
   "source": [
    "### Случайный лес"
   ]
  },
  {
   "cell_type": "code",
   "execution_count": 43,
   "metadata": {},
   "outputs": [
    {
     "name": "stdout",
     "output_type": "stream",
     "text": [
      "Наилучшее значение RMSE достигается при глубине дерева 15  и количестве деревьев 150\n"
     ]
    }
   ],
   "source": [
    "model = RandomForestRegressor(random_state=28)\n",
    "params = {'n_estimators': range(50, 151, 50), 'max_depth': range(5, 16, 5)}\n",
    "grid_model = GridSearchCV(model, params, cv=3, scoring=make_scorer(rmse, greater_is_better=False), n_jobs=-1)\n",
    "grid_model.fit(features_train_OE, target_train_OE)\n",
    "print('Наилучшее значение RMSE достигается при глубине дерева', grid_model.best_params_['max_depth'], ' и количестве деревьев', grid_model.best_params_['n_estimators'])"
   ]
  },
  {
   "cell_type": "code",
   "execution_count": 44,
   "metadata": {
    "scrolled": true
   },
   "outputs": [
    {
     "name": "stdout",
     "output_type": "stream",
     "text": [
      "Время обучения случайного леса: 54.55139183998108\n",
      "Время предсказания случайного леса: 4.57734489440918\n",
      "Итоговая метрика случайного леса: 1653.6698413340137\n"
     ]
    }
   ],
   "source": [
    "model = RandomForestRegressor(n_estimators=150, max_depth=15, random_state=28)\n",
    "\n",
    "start = time.time()\n",
    "model.fit(features_train_OE, target_train_OE)\n",
    "end = time.time()\n",
    "fit_time_RFR = end - start\n",
    "print('Время обучения случайного леса:', fit_time_RFR)\n",
    "\n",
    "start = time.time()\n",
    "predicts = model.predict(features_train_OE)\n",
    "end = time.time()\n",
    "predict_time_RFR = end - start\n",
    "print('Время предсказания случайного леса:', predict_time_RFR)\n",
    "\n",
    "rmse_RFR = grid_model.best_score_ * (-1)\n",
    "print('Итоговая метрика случайного леса:', rmse_RFR)"
   ]
  },
  {
   "cell_type": "markdown",
   "metadata": {},
   "source": [
    "### Линейная регрессия"
   ]
  },
  {
   "cell_type": "code",
   "execution_count": 45,
   "metadata": {},
   "outputs": [
    {
     "name": "stdout",
     "output_type": "stream",
     "text": [
      "Наилучшее значение RMSE достигается при наличии сдвига: 6684317120683.922\n"
     ]
    }
   ],
   "source": [
    "model = LinearRegression()\n",
    "params = {}\n",
    "grid_model = GridSearchCV(model, params, cv=3, scoring=make_scorer(rmse, greater_is_better=False), n_jobs=-1)\n",
    "grid_model.fit(features_train_OHE, target_train_OHE)\n",
    "print('Наилучшее значение RMSE достигается при наличии сдвига:', grid_model.best_score_ * (-1))"
   ]
  },
  {
   "cell_type": "markdown",
   "metadata": {},
   "source": [
    "### LightGBM"
   ]
  },
  {
   "cell_type": "code",
   "execution_count": 46,
   "metadata": {},
   "outputs": [
    {
     "name": "stdout",
     "output_type": "stream",
     "text": [
      "Наилучшее значение RMSE достигается при глубине дерева 200  и количестве листьев 15\n"
     ]
    }
   ],
   "source": [
    "minim = 5000\n",
    "for j in range(100, 201, 50):\n",
    "    for i in range(5, 16, 5):\n",
    "        lgb_model = lgb.LGBMRegressor(\n",
    "            objective = 'root_mean_squared_error',\n",
    "            num_leaves = i,\n",
    "            max_depth = j,\n",
    "            random_state=28)\n",
    "        lgb_model.fit(features_train_OE, target_train_OE)\n",
    "        predicts = lgb_model.predict(features_valid_OE)\n",
    "        if rmse(target_valid_OE, predicts) < minim:\n",
    "            minim = rmse(target_valid_OE, predicts)\n",
    "            best = [j, i]\n",
    "print('Наилучшее значение RMSE достигается при глубине дерева', j, ' и количестве листьев', i)"
   ]
  },
  {
   "cell_type": "code",
   "execution_count": 47,
   "metadata": {},
   "outputs": [
    {
     "name": "stdout",
     "output_type": "stream",
     "text": [
      "Время обучения LGBM: 0.5230374336242676\n",
      "Время предсказания LGBM: 0.09600639343261719\n",
      "Итоговая метрика LGBM: 1774.9757372862646\n"
     ]
    }
   ],
   "source": [
    "model = lgb.LGBMRegressor(\n",
    "            objective = 'root_mean_squared_error',\n",
    "            num_leaves = 15,\n",
    "            max_depth = 200,\n",
    "            random_state=28)\n",
    "\n",
    "start = time.time()\n",
    "model.fit(features_train_OE, target_train_OE)\n",
    "end = time.time()\n",
    "fit_time_LGBM = end - start\n",
    "print('Время обучения LGBM:', fit_time_LGBM)\n",
    "\n",
    "start = time.time()\n",
    "predicts = model.predict(features_valid_OE)\n",
    "end = time.time()\n",
    "predict_time_LGBM = end - start\n",
    "print('Время предсказания LGBM:', predict_time_LGBM)\n",
    "\n",
    "rmse_LGBM = minim\n",
    "print('Итоговая метрика LGBM:', rmse_LGBM)"
   ]
  },
  {
   "cell_type": "markdown",
   "metadata": {},
   "source": [
    "### CatBoost"
   ]
  },
  {
   "cell_type": "code",
   "execution_count": 52,
   "metadata": {
    "scrolled": true
   },
   "outputs": [
    {
     "name": "stdout",
     "output_type": "stream",
     "text": [
      "0:\tlearn: 6565.5088316\ttest: 6507.3252873\tbest: 6507.3252873 (0)\ttotal: 166ms\tremaining: 2m 46s\n",
      "1:\tlearn: 6405.0526575\ttest: 6347.8933420\tbest: 6347.8933420 (1)\ttotal: 179ms\tremaining: 1m 29s\n",
      "2:\tlearn: 6247.6906020\ttest: 6192.4387395\tbest: 6192.4387395 (2)\ttotal: 194ms\tremaining: 1m 4s\n",
      "3:\tlearn: 6097.0588529\ttest: 6042.3776942\tbest: 6042.3776942 (3)\ttotal: 206ms\tremaining: 51.3s\n",
      "4:\tlearn: 5952.6779808\ttest: 5898.6097135\tbest: 5898.6097135 (4)\ttotal: 220ms\tremaining: 43.7s\n",
      "5:\tlearn: 5812.4279665\ttest: 5759.0665808\tbest: 5759.0665808 (5)\ttotal: 237ms\tremaining: 39.3s\n",
      "6:\tlearn: 5676.4945992\ttest: 5624.0256377\tbest: 5624.0256377 (6)\ttotal: 253ms\tremaining: 35.9s\n",
      "7:\tlearn: 5543.1778473\ttest: 5492.0632255\tbest: 5492.0632255 (7)\ttotal: 266ms\tremaining: 33s\n",
      "8:\tlearn: 5416.0358403\ttest: 5365.5920569\tbest: 5365.5920569 (8)\ttotal: 283ms\tremaining: 31.2s\n",
      "9:\tlearn: 5294.2244531\ttest: 5244.9438033\tbest: 5244.9438033 (9)\ttotal: 300ms\tremaining: 29.7s\n",
      "10:\tlearn: 5174.4556605\ttest: 5126.7438770\tbest: 5126.7438770 (10)\ttotal: 313ms\tremaining: 28.1s\n",
      "11:\tlearn: 5059.6572731\ttest: 5012.9464530\tbest: 5012.9464530 (11)\ttotal: 328ms\tremaining: 27s\n",
      "12:\tlearn: 4949.5599504\ttest: 4903.7929145\tbest: 4903.7929145 (12)\ttotal: 345ms\tremaining: 26.2s\n",
      "13:\tlearn: 4844.5086232\ttest: 4799.3841263\tbest: 4799.3841263 (13)\ttotal: 366ms\tremaining: 25.8s\n",
      "14:\tlearn: 4741.1175783\ttest: 4696.4774819\tbest: 4696.4774819 (14)\ttotal: 385ms\tremaining: 25.3s\n",
      "15:\tlearn: 4641.9773434\ttest: 4597.9241467\tbest: 4597.9241467 (15)\ttotal: 400ms\tremaining: 24.6s\n",
      "16:\tlearn: 4547.0959997\ttest: 4503.9499814\tbest: 4503.9499814 (16)\ttotal: 414ms\tremaining: 23.9s\n",
      "17:\tlearn: 4456.8287192\ttest: 4413.9669808\tbest: 4413.9669808 (17)\ttotal: 430ms\tremaining: 23.5s\n",
      "18:\tlearn: 4367.4593072\ttest: 4324.8989767\tbest: 4324.8989767 (18)\ttotal: 445ms\tremaining: 23s\n",
      "19:\tlearn: 4281.9218704\ttest: 4239.6189215\tbest: 4239.6189215 (19)\ttotal: 462ms\tremaining: 22.6s\n",
      "20:\tlearn: 4199.1057876\ttest: 4157.5072029\tbest: 4157.5072029 (20)\ttotal: 478ms\tremaining: 22.3s\n",
      "21:\tlearn: 4120.0530631\ttest: 4078.9560150\tbest: 4078.9560150 (21)\ttotal: 494ms\tremaining: 22s\n",
      "22:\tlearn: 4043.9567289\ttest: 4003.7732968\tbest: 4003.7732968 (22)\ttotal: 506ms\tremaining: 21.5s\n",
      "23:\tlearn: 3969.9435180\ttest: 3929.9089593\tbest: 3929.9089593 (23)\ttotal: 520ms\tremaining: 21.2s\n",
      "24:\tlearn: 3899.5163258\ttest: 3860.0574713\tbest: 3860.0574713 (24)\ttotal: 535ms\tremaining: 20.9s\n",
      "25:\tlearn: 3832.0651482\ttest: 3792.6387424\tbest: 3792.6387424 (25)\ttotal: 550ms\tremaining: 20.6s\n",
      "26:\tlearn: 3765.3857307\ttest: 3726.0993492\tbest: 3726.0993492 (26)\ttotal: 566ms\tremaining: 20.4s\n",
      "27:\tlearn: 3700.4738094\ttest: 3661.4646119\tbest: 3661.4646119 (27)\ttotal: 581ms\tremaining: 20.2s\n",
      "28:\tlearn: 3638.4530470\ttest: 3599.5555002\tbest: 3599.5555002 (28)\ttotal: 596ms\tremaining: 19.9s\n",
      "29:\tlearn: 3579.7271743\ttest: 3540.9102581\tbest: 3540.9102581 (29)\ttotal: 609ms\tremaining: 19.7s\n",
      "30:\tlearn: 3524.3698884\ttest: 3485.7590289\tbest: 3485.7590289 (30)\ttotal: 624ms\tremaining: 19.5s\n",
      "31:\tlearn: 3468.4793515\ttest: 3429.9877785\tbest: 3429.9877785 (31)\ttotal: 638ms\tremaining: 19.3s\n",
      "32:\tlearn: 3415.9707874\ttest: 3377.5974351\tbest: 3377.5974351 (32)\ttotal: 649ms\tremaining: 19s\n",
      "33:\tlearn: 3365.8220496\ttest: 3327.9243482\tbest: 3327.9243482 (33)\ttotal: 664ms\tremaining: 18.9s\n",
      "34:\tlearn: 3317.1124972\ttest: 3279.5085791\tbest: 3279.5085791 (34)\ttotal: 681ms\tremaining: 18.8s\n",
      "35:\tlearn: 3268.7558805\ttest: 3231.6107655\tbest: 3231.6107655 (35)\ttotal: 697ms\tremaining: 18.7s\n",
      "36:\tlearn: 3224.8195988\ttest: 3187.8027714\tbest: 3187.8027714 (36)\ttotal: 712ms\tremaining: 18.5s\n",
      "37:\tlearn: 3181.1828502\ttest: 3144.4355591\tbest: 3144.4355591 (37)\ttotal: 728ms\tremaining: 18.4s\n",
      "38:\tlearn: 3139.6186707\ttest: 3103.4802400\tbest: 3103.4802400 (38)\ttotal: 744ms\tremaining: 18.3s\n",
      "39:\tlearn: 3099.6401230\ttest: 3063.8456459\tbest: 3063.8456459 (39)\ttotal: 757ms\tremaining: 18.2s\n",
      "40:\tlearn: 3060.4878857\ttest: 3024.7001588\tbest: 3024.7001588 (40)\ttotal: 771ms\tremaining: 18s\n",
      "41:\tlearn: 3022.5369868\ttest: 2987.0198604\tbest: 2987.0198604 (41)\ttotal: 787ms\tremaining: 18s\n",
      "42:\tlearn: 2987.4444844\ttest: 2951.9582797\tbest: 2951.9582797 (42)\ttotal: 804ms\tremaining: 17.9s\n",
      "43:\tlearn: 2952.8058532\ttest: 2917.6907953\tbest: 2917.6907953 (43)\ttotal: 819ms\tremaining: 17.8s\n",
      "44:\tlearn: 2920.2428817\ttest: 2885.1353763\tbest: 2885.1353763 (44)\ttotal: 832ms\tremaining: 17.6s\n",
      "45:\tlearn: 2889.3688013\ttest: 2854.1388616\tbest: 2854.1388616 (45)\ttotal: 847ms\tremaining: 17.6s\n",
      "46:\tlearn: 2859.2464636\ttest: 2824.1273687\tbest: 2824.1273687 (46)\ttotal: 864ms\tremaining: 17.5s\n",
      "47:\tlearn: 2829.4143374\ttest: 2794.3594118\tbest: 2794.3594118 (47)\ttotal: 885ms\tremaining: 17.6s\n",
      "48:\tlearn: 2802.1468602\ttest: 2766.8134213\tbest: 2766.8134213 (48)\ttotal: 900ms\tremaining: 17.5s\n",
      "49:\tlearn: 2775.4309758\ttest: 2739.8638679\tbest: 2739.8638679 (49)\ttotal: 915ms\tremaining: 17.4s\n",
      "50:\tlearn: 2750.1463404\ttest: 2714.7563518\tbest: 2714.7563518 (50)\ttotal: 930ms\tremaining: 17.3s\n",
      "51:\tlearn: 2724.5183022\ttest: 2689.5189621\tbest: 2689.5189621 (51)\ttotal: 955ms\tremaining: 17.4s\n",
      "52:\tlearn: 2700.9872205\ttest: 2665.5500798\tbest: 2665.5500798 (52)\ttotal: 976ms\tremaining: 17.4s\n",
      "53:\tlearn: 2678.1799184\ttest: 2642.8070479\tbest: 2642.8070479 (53)\ttotal: 997ms\tremaining: 17.5s\n",
      "54:\tlearn: 2656.8857154\ttest: 2621.6914129\tbest: 2621.6914129 (54)\ttotal: 1.01s\tremaining: 17.4s\n",
      "55:\tlearn: 2635.6339653\ttest: 2600.7346451\tbest: 2600.7346451 (55)\ttotal: 1.02s\tremaining: 17.3s\n",
      "56:\tlearn: 2614.8108502\ttest: 2580.2039304\tbest: 2580.2039304 (56)\ttotal: 1.04s\tremaining: 17.2s\n",
      "57:\tlearn: 2594.9259327\ttest: 2560.5472543\tbest: 2560.5472543 (57)\ttotal: 1.05s\tremaining: 17.1s\n",
      "58:\tlearn: 2576.1691869\ttest: 2541.5434708\tbest: 2541.5434708 (58)\ttotal: 1.07s\tremaining: 17.1s\n",
      "59:\tlearn: 2558.4426002\ttest: 2523.7600859\tbest: 2523.7600859 (59)\ttotal: 1.09s\tremaining: 17s\n",
      "60:\tlearn: 2540.5565793\ttest: 2506.0251509\tbest: 2506.0251509 (60)\ttotal: 1.1s\tremaining: 17s\n",
      "61:\tlearn: 2523.8470931\ttest: 2489.1750272\tbest: 2489.1750272 (61)\ttotal: 1.12s\tremaining: 16.9s\n",
      "62:\tlearn: 2507.7437034\ttest: 2473.3368945\tbest: 2473.3368945 (62)\ttotal: 1.13s\tremaining: 16.8s\n",
      "63:\tlearn: 2492.1083740\ttest: 2457.8356288\tbest: 2457.8356288 (63)\ttotal: 1.15s\tremaining: 16.8s\n",
      "64:\tlearn: 2477.1554089\ttest: 2442.7769794\tbest: 2442.7769794 (64)\ttotal: 1.16s\tremaining: 16.7s\n",
      "65:\tlearn: 2463.4215564\ttest: 2429.0316203\tbest: 2429.0316203 (65)\ttotal: 1.18s\tremaining: 16.7s\n",
      "66:\tlearn: 2449.0739793\ttest: 2414.8300168\tbest: 2414.8300168 (66)\ttotal: 1.2s\tremaining: 16.7s\n",
      "67:\tlearn: 2435.4740914\ttest: 2401.1449438\tbest: 2401.1449438 (67)\ttotal: 1.22s\tremaining: 16.7s\n",
      "68:\tlearn: 2421.8174287\ttest: 2387.6177775\tbest: 2387.6177775 (68)\ttotal: 1.23s\tremaining: 16.6s\n",
      "69:\tlearn: 2409.7792589\ttest: 2375.3334034\tbest: 2375.3334034 (69)\ttotal: 1.24s\tremaining: 16.5s\n",
      "70:\tlearn: 2398.3781251\ttest: 2363.8389802\tbest: 2363.8389802 (70)\ttotal: 1.26s\tremaining: 16.5s\n",
      "71:\tlearn: 2386.2264226\ttest: 2351.7901985\tbest: 2351.7901985 (71)\ttotal: 1.27s\tremaining: 16.4s\n",
      "72:\tlearn: 2374.8249593\ttest: 2340.3834110\tbest: 2340.3834110 (72)\ttotal: 1.28s\tremaining: 16.3s\n",
      "73:\tlearn: 2363.6867514\ttest: 2329.0424090\tbest: 2329.0424090 (73)\ttotal: 1.3s\tremaining: 16.3s\n",
      "74:\tlearn: 2351.9290841\ttest: 2317.3400708\tbest: 2317.3400708 (74)\ttotal: 1.32s\tremaining: 16.3s\n",
      "75:\tlearn: 2341.3161372\ttest: 2306.7914191\tbest: 2306.7914191 (75)\ttotal: 1.33s\tremaining: 16.2s\n",
      "76:\tlearn: 2331.4367447\ttest: 2296.8372643\tbest: 2296.8372643 (76)\ttotal: 1.35s\tremaining: 16.2s\n",
      "77:\tlearn: 2321.8518940\ttest: 2287.2858975\tbest: 2287.2858975 (77)\ttotal: 1.36s\tremaining: 16.1s\n",
      "78:\tlearn: 2312.7424709\ttest: 2278.2383379\tbest: 2278.2383379 (78)\ttotal: 1.38s\tremaining: 16.1s\n",
      "79:\tlearn: 2303.6802722\ttest: 2269.2479452\tbest: 2269.2479452 (79)\ttotal: 1.4s\tremaining: 16.1s\n",
      "80:\tlearn: 2295.5649563\ttest: 2261.0426346\tbest: 2261.0426346 (80)\ttotal: 1.42s\tremaining: 16.1s\n",
      "81:\tlearn: 2287.0829849\ttest: 2252.6382688\tbest: 2252.6382688 (81)\ttotal: 1.43s\tremaining: 16s\n",
      "82:\tlearn: 2279.0926831\ttest: 2244.7382443\tbest: 2244.7382443 (82)\ttotal: 1.44s\tremaining: 15.9s\n",
      "83:\tlearn: 2271.1900871\ttest: 2236.7594613\tbest: 2236.7594613 (83)\ttotal: 1.46s\tremaining: 15.9s\n",
      "84:\tlearn: 2263.2562302\ttest: 2228.9794908\tbest: 2228.9794908 (84)\ttotal: 1.47s\tremaining: 15.8s\n",
      "85:\tlearn: 2255.8172010\ttest: 2221.6729094\tbest: 2221.6729094 (85)\ttotal: 1.49s\tremaining: 15.8s\n",
      "86:\tlearn: 2248.8462509\ttest: 2214.8269462\tbest: 2214.8269462 (86)\ttotal: 1.5s\tremaining: 15.7s\n",
      "87:\tlearn: 2242.0673502\ttest: 2208.2339509\tbest: 2208.2339509 (87)\ttotal: 1.52s\tremaining: 15.7s\n",
      "88:\tlearn: 2235.7959509\ttest: 2202.0792926\tbest: 2202.0792926 (88)\ttotal: 1.53s\tremaining: 15.7s\n",
      "89:\tlearn: 2229.1587609\ttest: 2195.4523162\tbest: 2195.4523162 (89)\ttotal: 1.55s\tremaining: 15.6s\n",
      "90:\tlearn: 2223.0747691\ttest: 2189.3529254\tbest: 2189.3529254 (90)\ttotal: 1.56s\tremaining: 15.6s\n",
      "91:\tlearn: 2215.8655829\ttest: 2182.3862148\tbest: 2182.3862148 (91)\ttotal: 1.58s\tremaining: 15.6s\n",
      "92:\tlearn: 2209.2925035\ttest: 2175.9149712\tbest: 2175.9149712 (92)\ttotal: 1.59s\tremaining: 15.6s\n",
      "93:\tlearn: 2203.5777814\ttest: 2170.0988862\tbest: 2170.0988862 (93)\ttotal: 1.61s\tremaining: 15.6s\n",
      "94:\tlearn: 2197.6035084\ttest: 2164.1027974\tbest: 2164.1027974 (94)\ttotal: 1.63s\tremaining: 15.6s\n",
      "95:\tlearn: 2192.3624411\ttest: 2158.9416053\tbest: 2158.9416053 (95)\ttotal: 1.65s\tremaining: 15.5s\n",
      "96:\tlearn: 2186.9194576\ttest: 2153.5662428\tbest: 2153.5662428 (96)\ttotal: 1.67s\tremaining: 15.5s\n",
      "97:\tlearn: 2181.2357111\ttest: 2147.7948041\tbest: 2147.7948041 (97)\ttotal: 1.68s\tremaining: 15.5s\n",
      "98:\tlearn: 2176.4366619\ttest: 2143.2217151\tbest: 2143.2217151 (98)\ttotal: 1.7s\tremaining: 15.4s\n",
      "99:\tlearn: 2171.3743268\ttest: 2138.1613185\tbest: 2138.1613185 (99)\ttotal: 1.71s\tremaining: 15.4s\n",
      "100:\tlearn: 2166.5545250\ttest: 2133.4640194\tbest: 2133.4640194 (100)\ttotal: 1.72s\tremaining: 15.3s\n",
      "101:\tlearn: 2161.8311448\ttest: 2128.8465876\tbest: 2128.8465876 (101)\ttotal: 1.74s\tremaining: 15.3s\n",
      "102:\tlearn: 2157.5074864\ttest: 2124.3954624\tbest: 2124.3954624 (102)\ttotal: 1.75s\tremaining: 15.3s\n",
      "103:\tlearn: 2153.3301086\ttest: 2120.0502900\tbest: 2120.0502900 (103)\ttotal: 1.77s\tremaining: 15.2s\n",
      "104:\tlearn: 2149.3351599\ttest: 2115.8030988\tbest: 2115.8030988 (104)\ttotal: 1.78s\tremaining: 15.2s\n",
      "105:\tlearn: 2145.2461609\ttest: 2111.6275905\tbest: 2111.6275905 (105)\ttotal: 1.8s\tremaining: 15.2s\n",
      "106:\tlearn: 2140.4490148\ttest: 2106.9176216\tbest: 2106.9176216 (106)\ttotal: 1.82s\tremaining: 15.2s\n",
      "107:\tlearn: 2136.0947957\ttest: 2102.4018599\tbest: 2102.4018599 (107)\ttotal: 1.83s\tremaining: 15.2s\n",
      "108:\tlearn: 2132.1776149\ttest: 2098.5666422\tbest: 2098.5666422 (108)\ttotal: 1.85s\tremaining: 15.1s\n",
      "109:\tlearn: 2128.5722802\ttest: 2095.0815728\tbest: 2095.0815728 (109)\ttotal: 1.86s\tremaining: 15.1s\n",
      "110:\tlearn: 2124.8598843\ttest: 2091.2985455\tbest: 2091.2985455 (110)\ttotal: 1.88s\tremaining: 15.1s\n",
      "111:\tlearn: 2121.1804246\ttest: 2087.6438929\tbest: 2087.6438929 (111)\ttotal: 1.89s\tremaining: 15s\n",
      "112:\tlearn: 2117.8456080\ttest: 2084.4644321\tbest: 2084.4644321 (112)\ttotal: 1.91s\tremaining: 15s\n",
      "113:\tlearn: 2114.1303343\ttest: 2080.6654742\tbest: 2080.6654742 (113)\ttotal: 1.92s\tremaining: 14.9s\n",
      "114:\tlearn: 2110.5080626\ttest: 2077.0222437\tbest: 2077.0222437 (114)\ttotal: 1.93s\tremaining: 14.9s\n",
      "115:\tlearn: 2107.3871018\ttest: 2073.7567305\tbest: 2073.7567305 (115)\ttotal: 1.95s\tremaining: 14.9s\n",
      "116:\tlearn: 2104.2942398\ttest: 2070.5961884\tbest: 2070.5961884 (116)\ttotal: 1.96s\tremaining: 14.8s\n",
      "117:\tlearn: 2101.4970544\ttest: 2067.8680332\tbest: 2067.8680332 (117)\ttotal: 1.98s\tremaining: 14.8s\n",
      "118:\tlearn: 2098.0512463\ttest: 2064.5525602\tbest: 2064.5525602 (118)\ttotal: 1.99s\tremaining: 14.8s\n",
      "119:\tlearn: 2094.7624022\ttest: 2061.3443902\tbest: 2061.3443902 (119)\ttotal: 2.01s\tremaining: 14.7s\n",
      "120:\tlearn: 2092.2031780\ttest: 2058.7140889\tbest: 2058.7140889 (120)\ttotal: 2.02s\tremaining: 14.7s\n",
      "121:\tlearn: 2088.1501417\ttest: 2054.5696117\tbest: 2054.5696117 (121)\ttotal: 2.04s\tremaining: 14.6s\n",
      "122:\tlearn: 2085.5183562\ttest: 2051.9802648\tbest: 2051.9802648 (122)\ttotal: 2.05s\tremaining: 14.6s\n",
      "123:\tlearn: 2082.3789992\ttest: 2048.8818923\tbest: 2048.8818923 (123)\ttotal: 2.06s\tremaining: 14.6s\n",
      "124:\tlearn: 2079.1061741\ttest: 2045.5348591\tbest: 2045.5348591 (124)\ttotal: 2.08s\tremaining: 14.6s\n",
      "125:\tlearn: 2075.8858671\ttest: 2042.3199421\tbest: 2042.3199421 (125)\ttotal: 2.09s\tremaining: 14.5s\n",
      "126:\tlearn: 2073.3485903\ttest: 2039.7532923\tbest: 2039.7532923 (126)\ttotal: 2.11s\tremaining: 14.5s\n",
      "127:\tlearn: 2070.7153658\ttest: 2036.9966026\tbest: 2036.9966026 (127)\ttotal: 2.12s\tremaining: 14.4s\n",
      "128:\tlearn: 2068.4370148\ttest: 2034.6860437\tbest: 2034.6860437 (128)\ttotal: 2.13s\tremaining: 14.4s\n",
      "129:\tlearn: 2066.0869719\ttest: 2032.2474485\tbest: 2032.2474485 (129)\ttotal: 2.14s\tremaining: 14.4s\n",
      "130:\tlearn: 2063.1906109\ttest: 2029.4837328\tbest: 2029.4837328 (130)\ttotal: 2.16s\tremaining: 14.3s\n",
      "131:\tlearn: 2060.9604886\ttest: 2027.4047695\tbest: 2027.4047695 (131)\ttotal: 2.17s\tremaining: 14.3s\n",
      "132:\tlearn: 2058.9763734\ttest: 2025.4428337\tbest: 2025.4428337 (132)\ttotal: 2.19s\tremaining: 14.3s\n",
      "133:\tlearn: 2056.8128401\ttest: 2023.3236771\tbest: 2023.3236771 (133)\ttotal: 2.2s\tremaining: 14.2s\n",
      "134:\tlearn: 2054.4664686\ttest: 2021.0596861\tbest: 2021.0596861 (134)\ttotal: 2.21s\tremaining: 14.2s\n",
      "135:\tlearn: 2051.9734882\ttest: 2018.5040775\tbest: 2018.5040775 (135)\ttotal: 2.23s\tremaining: 14.1s\n",
      "136:\tlearn: 2049.2483782\ttest: 2015.8696900\tbest: 2015.8696900 (136)\ttotal: 2.24s\tremaining: 14.1s\n",
      "137:\tlearn: 2046.7881203\ttest: 2013.4994069\tbest: 2013.4994069 (137)\ttotal: 2.25s\tremaining: 14.1s\n",
      "138:\tlearn: 2044.2788024\ttest: 2011.1918239\tbest: 2011.1918239 (138)\ttotal: 2.27s\tremaining: 14s\n",
      "139:\tlearn: 2041.9754123\ttest: 2008.8049955\tbest: 2008.8049955 (139)\ttotal: 2.28s\tremaining: 14s\n",
      "140:\tlearn: 2040.2854411\ttest: 2007.1542139\tbest: 2007.1542139 (140)\ttotal: 2.29s\tremaining: 13.9s\n",
      "141:\tlearn: 2038.5210950\ttest: 2005.2487905\tbest: 2005.2487905 (141)\ttotal: 2.3s\tremaining: 13.9s\n",
      "142:\tlearn: 2036.6041320\ttest: 2003.2899106\tbest: 2003.2899106 (142)\ttotal: 2.31s\tremaining: 13.9s\n",
      "143:\tlearn: 2034.2891157\ttest: 2001.0542741\tbest: 2001.0542741 (143)\ttotal: 2.33s\tremaining: 13.9s\n",
      "144:\tlearn: 2032.1399046\ttest: 1999.0387765\tbest: 1999.0387765 (144)\ttotal: 2.35s\tremaining: 13.8s\n",
      "145:\tlearn: 2030.3596161\ttest: 1997.3877598\tbest: 1997.3877598 (145)\ttotal: 2.36s\tremaining: 13.8s\n",
      "146:\tlearn: 2028.6858939\ttest: 1995.7648676\tbest: 1995.7648676 (146)\ttotal: 2.37s\tremaining: 13.8s\n",
      "147:\tlearn: 2026.7960638\ttest: 1993.8727217\tbest: 1993.8727217 (147)\ttotal: 2.39s\tremaining: 13.7s\n",
      "148:\tlearn: 2024.8784041\ttest: 1991.9831081\tbest: 1991.9831081 (148)\ttotal: 2.4s\tremaining: 13.7s\n",
      "149:\tlearn: 2022.3234638\ttest: 1989.3365983\tbest: 1989.3365983 (149)\ttotal: 2.42s\tremaining: 13.7s\n",
      "150:\tlearn: 2020.0087707\ttest: 1987.0263618\tbest: 1987.0263618 (150)\ttotal: 2.44s\tremaining: 13.7s\n",
      "151:\tlearn: 2017.1671650\ttest: 1984.0659448\tbest: 1984.0659448 (151)\ttotal: 2.45s\tremaining: 13.7s\n",
      "152:\tlearn: 2015.3594186\ttest: 1982.3165361\tbest: 1982.3165361 (152)\ttotal: 2.46s\tremaining: 13.6s\n",
      "153:\tlearn: 2013.8745933\ttest: 1980.9993433\tbest: 1980.9993433 (153)\ttotal: 2.48s\tremaining: 13.6s\n",
      "154:\tlearn: 2011.2527275\ttest: 1978.3185149\tbest: 1978.3185149 (154)\ttotal: 2.5s\tremaining: 13.6s\n",
      "155:\tlearn: 2009.3902384\ttest: 1976.4054695\tbest: 1976.4054695 (155)\ttotal: 2.51s\tremaining: 13.6s\n",
      "156:\tlearn: 2007.3521340\ttest: 1974.3216367\tbest: 1974.3216367 (156)\ttotal: 2.53s\tremaining: 13.6s\n",
      "157:\tlearn: 2005.8941894\ttest: 1972.7648867\tbest: 1972.7648867 (157)\ttotal: 2.54s\tremaining: 13.6s\n",
      "158:\tlearn: 2004.3334133\ttest: 1971.2698616\tbest: 1971.2698616 (158)\ttotal: 2.56s\tremaining: 13.5s\n",
      "159:\tlearn: 2002.9858559\ttest: 1969.7775481\tbest: 1969.7775481 (159)\ttotal: 2.57s\tremaining: 13.5s\n",
      "160:\tlearn: 2001.3292539\ttest: 1968.0419139\tbest: 1968.0419139 (160)\ttotal: 2.58s\tremaining: 13.5s\n",
      "161:\tlearn: 1999.9327659\ttest: 1966.6463732\tbest: 1966.6463732 (161)\ttotal: 2.6s\tremaining: 13.4s\n",
      "162:\tlearn: 1998.3717663\ttest: 1965.0119575\tbest: 1965.0119575 (162)\ttotal: 2.61s\tremaining: 13.4s\n",
      "163:\tlearn: 1995.8851287\ttest: 1962.6119766\tbest: 1962.6119766 (163)\ttotal: 2.62s\tremaining: 13.4s\n",
      "164:\tlearn: 1994.4847888\ttest: 1961.1624885\tbest: 1961.1624885 (164)\ttotal: 2.64s\tremaining: 13.4s\n",
      "165:\tlearn: 1992.9949904\ttest: 1959.8034451\tbest: 1959.8034451 (165)\ttotal: 2.65s\tremaining: 13.3s\n",
      "166:\tlearn: 1990.4895664\ttest: 1957.3495027\tbest: 1957.3495027 (166)\ttotal: 2.67s\tremaining: 13.3s\n",
      "167:\tlearn: 1988.9906670\ttest: 1955.8696415\tbest: 1955.8696415 (167)\ttotal: 2.68s\tremaining: 13.3s\n",
      "168:\tlearn: 1987.2454796\ttest: 1954.1936351\tbest: 1954.1936351 (168)\ttotal: 2.7s\tremaining: 13.3s\n",
      "169:\tlearn: 1986.2970420\ttest: 1953.1986205\tbest: 1953.1986205 (169)\ttotal: 2.71s\tremaining: 13.2s\n",
      "170:\tlearn: 1984.0373281\ttest: 1951.0281817\tbest: 1951.0281817 (170)\ttotal: 2.73s\tremaining: 13.2s\n",
      "171:\tlearn: 1982.7503371\ttest: 1949.7236334\tbest: 1949.7236334 (171)\ttotal: 2.74s\tremaining: 13.2s\n",
      "172:\tlearn: 1981.1310406\ttest: 1948.1757886\tbest: 1948.1757886 (172)\ttotal: 2.76s\tremaining: 13.2s\n",
      "173:\tlearn: 1979.0780631\ttest: 1946.2206895\tbest: 1946.2206895 (173)\ttotal: 2.77s\tremaining: 13.2s\n",
      "174:\tlearn: 1977.4880506\ttest: 1944.7420366\tbest: 1944.7420366 (174)\ttotal: 2.79s\tremaining: 13.2s\n",
      "175:\tlearn: 1976.0742270\ttest: 1943.4404123\tbest: 1943.4404123 (175)\ttotal: 2.81s\tremaining: 13.1s\n",
      "176:\tlearn: 1974.6987271\ttest: 1942.0477267\tbest: 1942.0477267 (176)\ttotal: 2.82s\tremaining: 13.1s\n",
      "177:\tlearn: 1973.6823611\ttest: 1941.0933495\tbest: 1941.0933495 (177)\ttotal: 2.83s\tremaining: 13.1s\n",
      "178:\tlearn: 1972.4973886\ttest: 1939.9278557\tbest: 1939.9278557 (178)\ttotal: 2.85s\tremaining: 13.1s\n",
      "179:\tlearn: 1971.1465429\ttest: 1938.6730733\tbest: 1938.6730733 (179)\ttotal: 2.86s\tremaining: 13s\n",
      "180:\tlearn: 1969.4399283\ttest: 1936.9756832\tbest: 1936.9756832 (180)\ttotal: 2.87s\tremaining: 13s\n",
      "181:\tlearn: 1968.2064772\ttest: 1935.7227210\tbest: 1935.7227210 (181)\ttotal: 2.88s\tremaining: 13s\n",
      "182:\tlearn: 1966.5109498\ttest: 1934.0397047\tbest: 1934.0397047 (182)\ttotal: 2.9s\tremaining: 12.9s\n",
      "183:\tlearn: 1965.0181069\ttest: 1932.6494527\tbest: 1932.6494527 (183)\ttotal: 2.91s\tremaining: 12.9s\n",
      "184:\tlearn: 1963.8678104\ttest: 1931.6920135\tbest: 1931.6920135 (184)\ttotal: 2.92s\tremaining: 12.9s\n",
      "185:\tlearn: 1962.0842703\ttest: 1929.9489899\tbest: 1929.9489899 (185)\ttotal: 2.94s\tremaining: 12.9s\n",
      "186:\tlearn: 1961.1946092\ttest: 1929.0195617\tbest: 1929.0195617 (186)\ttotal: 2.95s\tremaining: 12.8s\n",
      "187:\tlearn: 1960.2911210\ttest: 1928.1585316\tbest: 1928.1585316 (187)\ttotal: 2.97s\tremaining: 12.8s\n",
      "188:\tlearn: 1957.9893904\ttest: 1925.8151025\tbest: 1925.8151025 (188)\ttotal: 2.98s\tremaining: 12.8s\n",
      "189:\tlearn: 1956.2214883\ttest: 1924.0946716\tbest: 1924.0946716 (189)\ttotal: 3s\tremaining: 12.8s\n",
      "190:\tlearn: 1954.3939459\ttest: 1922.3960470\tbest: 1922.3960470 (190)\ttotal: 3.01s\tremaining: 12.8s\n",
      "191:\tlearn: 1952.2769652\ttest: 1920.2480343\tbest: 1920.2480343 (191)\ttotal: 3.03s\tremaining: 12.8s\n",
      "192:\tlearn: 1951.3207178\ttest: 1919.2937068\tbest: 1919.2937068 (192)\ttotal: 3.05s\tremaining: 12.7s\n",
      "193:\tlearn: 1950.4999485\ttest: 1918.4294866\tbest: 1918.4294866 (193)\ttotal: 3.06s\tremaining: 12.7s\n",
      "194:\tlearn: 1948.8030611\ttest: 1916.7585523\tbest: 1916.7585523 (194)\ttotal: 3.07s\tremaining: 12.7s\n",
      "195:\tlearn: 1947.3835269\ttest: 1915.3836073\tbest: 1915.3836073 (195)\ttotal: 3.09s\tremaining: 12.7s\n",
      "196:\tlearn: 1946.4656126\ttest: 1914.5475721\tbest: 1914.5475721 (196)\ttotal: 3.1s\tremaining: 12.7s\n",
      "197:\tlearn: 1944.9636811\ttest: 1913.0394628\tbest: 1913.0394628 (197)\ttotal: 3.12s\tremaining: 12.6s\n",
      "198:\tlearn: 1943.9358067\ttest: 1912.1003281\tbest: 1912.1003281 (198)\ttotal: 3.13s\tremaining: 12.6s\n",
      "199:\tlearn: 1943.0087507\ttest: 1911.1954582\tbest: 1911.1954582 (199)\ttotal: 3.15s\tremaining: 12.6s\n",
      "200:\tlearn: 1941.3651130\ttest: 1909.7648911\tbest: 1909.7648911 (200)\ttotal: 3.17s\tremaining: 12.6s\n",
      "201:\tlearn: 1940.5269852\ttest: 1908.9661859\tbest: 1908.9661859 (201)\ttotal: 3.18s\tremaining: 12.6s\n",
      "202:\tlearn: 1939.6382795\ttest: 1908.0980667\tbest: 1908.0980667 (202)\ttotal: 3.2s\tremaining: 12.6s\n",
      "203:\tlearn: 1938.1383523\ttest: 1906.8006303\tbest: 1906.8006303 (203)\ttotal: 3.21s\tremaining: 12.5s\n",
      "204:\tlearn: 1937.1835278\ttest: 1905.9306339\tbest: 1905.9306339 (204)\ttotal: 3.23s\tremaining: 12.5s\n",
      "205:\tlearn: 1935.9416119\ttest: 1904.6814937\tbest: 1904.6814937 (205)\ttotal: 3.25s\tremaining: 12.5s\n",
      "206:\tlearn: 1935.0251690\ttest: 1903.6786385\tbest: 1903.6786385 (206)\ttotal: 3.26s\tremaining: 12.5s\n",
      "207:\tlearn: 1934.3642898\ttest: 1903.1469947\tbest: 1903.1469947 (207)\ttotal: 3.27s\tremaining: 12.5s\n",
      "208:\tlearn: 1933.6193644\ttest: 1902.3958684\tbest: 1902.3958684 (208)\ttotal: 3.29s\tremaining: 12.4s\n",
      "209:\tlearn: 1932.6525262\ttest: 1901.5415737\tbest: 1901.5415737 (209)\ttotal: 3.31s\tremaining: 12.4s\n",
      "210:\tlearn: 1931.4704890\ttest: 1900.5585846\tbest: 1900.5585846 (210)\ttotal: 3.32s\tremaining: 12.4s\n",
      "211:\tlearn: 1930.6466576\ttest: 1899.7518507\tbest: 1899.7518507 (211)\ttotal: 3.34s\tremaining: 12.4s\n",
      "212:\tlearn: 1929.8133171\ttest: 1899.0001020\tbest: 1899.0001020 (212)\ttotal: 3.35s\tremaining: 12.4s\n",
      "213:\tlearn: 1928.8517594\ttest: 1898.1453261\tbest: 1898.1453261 (213)\ttotal: 3.37s\tremaining: 12.4s\n",
      "214:\tlearn: 1928.1344925\ttest: 1897.5021933\tbest: 1897.5021933 (214)\ttotal: 3.38s\tremaining: 12.4s\n",
      "215:\tlearn: 1926.2916093\ttest: 1895.6273284\tbest: 1895.6273284 (215)\ttotal: 3.4s\tremaining: 12.3s\n",
      "216:\tlearn: 1925.2790881\ttest: 1894.6917654\tbest: 1894.6917654 (216)\ttotal: 3.41s\tremaining: 12.3s\n",
      "217:\tlearn: 1924.4759174\ttest: 1893.9211374\tbest: 1893.9211374 (217)\ttotal: 3.43s\tremaining: 12.3s\n",
      "218:\tlearn: 1923.3324445\ttest: 1892.8556984\tbest: 1892.8556984 (218)\ttotal: 3.44s\tremaining: 12.3s\n",
      "219:\tlearn: 1922.5160741\ttest: 1891.9966473\tbest: 1891.9966473 (219)\ttotal: 3.45s\tremaining: 12.2s\n",
      "220:\tlearn: 1921.8124714\ttest: 1891.2545477\tbest: 1891.2545477 (220)\ttotal: 3.46s\tremaining: 12.2s\n",
      "221:\tlearn: 1921.1610778\ttest: 1890.7423344\tbest: 1890.7423344 (221)\ttotal: 3.48s\tremaining: 12.2s\n",
      "222:\tlearn: 1919.5467463\ttest: 1889.1522627\tbest: 1889.1522627 (222)\ttotal: 3.5s\tremaining: 12.2s\n",
      "223:\tlearn: 1918.8441273\ttest: 1888.3916232\tbest: 1888.3916232 (223)\ttotal: 3.51s\tremaining: 12.2s\n",
      "224:\tlearn: 1917.8860617\ttest: 1887.5183318\tbest: 1887.5183318 (224)\ttotal: 3.52s\tremaining: 12.1s\n",
      "225:\tlearn: 1916.3573327\ttest: 1886.0134868\tbest: 1886.0134868 (225)\ttotal: 3.54s\tremaining: 12.1s\n",
      "226:\tlearn: 1915.5858853\ttest: 1885.2612706\tbest: 1885.2612706 (226)\ttotal: 3.55s\tremaining: 12.1s\n",
      "227:\tlearn: 1914.8568528\ttest: 1884.5320562\tbest: 1884.5320562 (227)\ttotal: 3.57s\tremaining: 12.1s\n",
      "228:\tlearn: 1913.2646462\ttest: 1882.8965963\tbest: 1882.8965963 (228)\ttotal: 3.58s\tremaining: 12.1s\n",
      "229:\tlearn: 1912.4797843\ttest: 1882.1685731\tbest: 1882.1685731 (229)\ttotal: 3.6s\tremaining: 12s\n",
      "230:\tlearn: 1911.8565688\ttest: 1881.6196683\tbest: 1881.6196683 (230)\ttotal: 3.61s\tremaining: 12s\n",
      "231:\tlearn: 1911.1291732\ttest: 1881.0157441\tbest: 1881.0157441 (231)\ttotal: 3.63s\tremaining: 12s\n",
      "232:\tlearn: 1910.4953571\ttest: 1880.4439592\tbest: 1880.4439592 (232)\ttotal: 3.64s\tremaining: 12s\n",
      "233:\tlearn: 1909.6133462\ttest: 1879.6590306\tbest: 1879.6590306 (233)\ttotal: 3.65s\tremaining: 12s\n",
      "234:\tlearn: 1909.0058335\ttest: 1879.2038061\tbest: 1879.2038061 (234)\ttotal: 3.67s\tremaining: 12s\n",
      "235:\tlearn: 1908.4218731\ttest: 1878.6601214\tbest: 1878.6601214 (235)\ttotal: 3.69s\tremaining: 11.9s\n",
      "236:\tlearn: 1907.6815630\ttest: 1877.8965721\tbest: 1877.8965721 (236)\ttotal: 3.71s\tremaining: 11.9s\n",
      "237:\tlearn: 1907.1754105\ttest: 1877.4953794\tbest: 1877.4953794 (237)\ttotal: 3.72s\tremaining: 11.9s\n",
      "238:\tlearn: 1906.6224062\ttest: 1877.0084676\tbest: 1877.0084676 (238)\ttotal: 3.73s\tremaining: 11.9s\n",
      "239:\tlearn: 1905.6764317\ttest: 1876.1169688\tbest: 1876.1169688 (239)\ttotal: 3.74s\tremaining: 11.9s\n",
      "240:\tlearn: 1904.9893088\ttest: 1875.5252923\tbest: 1875.5252923 (240)\ttotal: 3.76s\tremaining: 11.8s\n",
      "241:\tlearn: 1903.9413857\ttest: 1874.5741567\tbest: 1874.5741567 (241)\ttotal: 3.77s\tremaining: 11.8s\n",
      "242:\tlearn: 1903.0951774\ttest: 1873.7976838\tbest: 1873.7976838 (242)\ttotal: 3.78s\tremaining: 11.8s\n",
      "243:\tlearn: 1902.3233462\ttest: 1873.0315072\tbest: 1873.0315072 (243)\ttotal: 3.79s\tremaining: 11.8s\n",
      "244:\tlearn: 1901.5918731\ttest: 1872.3548909\tbest: 1872.3548909 (244)\ttotal: 3.81s\tremaining: 11.7s\n",
      "245:\tlearn: 1900.9670432\ttest: 1871.7370460\tbest: 1871.7370460 (245)\ttotal: 3.82s\tremaining: 11.7s\n",
      "246:\tlearn: 1899.8656711\ttest: 1870.7073677\tbest: 1870.7073677 (246)\ttotal: 3.83s\tremaining: 11.7s\n",
      "247:\tlearn: 1899.0242465\ttest: 1869.9636541\tbest: 1869.9636541 (247)\ttotal: 3.84s\tremaining: 11.7s\n",
      "248:\tlearn: 1898.4985498\ttest: 1869.4236616\tbest: 1869.4236616 (248)\ttotal: 3.86s\tremaining: 11.6s\n",
      "249:\tlearn: 1898.0763362\ttest: 1868.9798245\tbest: 1868.9798245 (249)\ttotal: 3.87s\tremaining: 11.6s\n",
      "250:\tlearn: 1897.3835483\ttest: 1868.3893497\tbest: 1868.3893497 (250)\ttotal: 3.89s\tremaining: 11.6s\n",
      "251:\tlearn: 1896.3180338\ttest: 1867.3072944\tbest: 1867.3072944 (251)\ttotal: 3.9s\tremaining: 11.6s\n",
      "252:\tlearn: 1894.9360172\ttest: 1865.9058099\tbest: 1865.9058099 (252)\ttotal: 3.92s\tremaining: 11.6s\n",
      "253:\tlearn: 1894.3795527\ttest: 1865.3586651\tbest: 1865.3586651 (253)\ttotal: 3.94s\tremaining: 11.6s\n",
      "254:\tlearn: 1893.8130998\ttest: 1864.8182853\tbest: 1864.8182853 (254)\ttotal: 3.96s\tremaining: 11.6s\n",
      "255:\tlearn: 1892.7490448\ttest: 1863.7479271\tbest: 1863.7479271 (255)\ttotal: 3.97s\tremaining: 11.5s\n",
      "256:\tlearn: 1892.1804135\ttest: 1863.2699861\tbest: 1863.2699861 (256)\ttotal: 3.99s\tremaining: 11.5s\n",
      "257:\tlearn: 1891.6133273\ttest: 1862.6927093\tbest: 1862.6927093 (257)\ttotal: 4s\tremaining: 11.5s\n",
      "258:\tlearn: 1891.0216948\ttest: 1862.2219671\tbest: 1862.2219671 (258)\ttotal: 4.01s\tremaining: 11.5s\n",
      "259:\tlearn: 1889.8451300\ttest: 1861.0557851\tbest: 1861.0557851 (259)\ttotal: 4.03s\tremaining: 11.5s\n",
      "260:\tlearn: 1889.2326505\ttest: 1860.3992468\tbest: 1860.3992468 (260)\ttotal: 4.05s\tremaining: 11.5s\n",
      "261:\tlearn: 1888.5208368\ttest: 1859.6268039\tbest: 1859.6268039 (261)\ttotal: 4.06s\tremaining: 11.4s\n",
      "262:\tlearn: 1888.0473221\ttest: 1859.2057076\tbest: 1859.2057076 (262)\ttotal: 4.08s\tremaining: 11.4s\n",
      "263:\tlearn: 1887.2579411\ttest: 1858.4559308\tbest: 1858.4559308 (263)\ttotal: 4.09s\tremaining: 11.4s\n",
      "264:\tlearn: 1886.2760261\ttest: 1857.5424197\tbest: 1857.5424197 (264)\ttotal: 4.11s\tremaining: 11.4s\n",
      "265:\tlearn: 1885.4809350\ttest: 1856.9397293\tbest: 1856.9397293 (265)\ttotal: 4.12s\tremaining: 11.4s\n",
      "266:\tlearn: 1885.0863948\ttest: 1856.5963120\tbest: 1856.5963120 (266)\ttotal: 4.14s\tremaining: 11.4s\n",
      "267:\tlearn: 1884.3879243\ttest: 1855.8984803\tbest: 1855.8984803 (267)\ttotal: 4.15s\tremaining: 11.3s\n",
      "268:\tlearn: 1883.6218085\ttest: 1855.2714423\tbest: 1855.2714423 (268)\ttotal: 4.17s\tremaining: 11.3s\n",
      "269:\tlearn: 1882.8090124\ttest: 1854.5146542\tbest: 1854.5146542 (269)\ttotal: 4.18s\tremaining: 11.3s\n",
      "270:\tlearn: 1882.4410918\ttest: 1854.1658204\tbest: 1854.1658204 (270)\ttotal: 4.2s\tremaining: 11.3s\n",
      "271:\tlearn: 1881.4399685\ttest: 1853.2580383\tbest: 1853.2580383 (271)\ttotal: 4.21s\tremaining: 11.3s\n",
      "272:\tlearn: 1880.4782430\ttest: 1852.3596440\tbest: 1852.3596440 (272)\ttotal: 4.24s\tremaining: 11.3s\n",
      "273:\tlearn: 1879.8960497\ttest: 1851.8119364\tbest: 1851.8119364 (273)\ttotal: 4.25s\tremaining: 11.3s\n",
      "274:\tlearn: 1879.3477417\ttest: 1851.2792936\tbest: 1851.2792936 (274)\ttotal: 4.27s\tremaining: 11.2s\n",
      "275:\tlearn: 1878.7381948\ttest: 1850.6942514\tbest: 1850.6942514 (275)\ttotal: 4.28s\tremaining: 11.2s\n",
      "276:\tlearn: 1878.0356986\ttest: 1850.0051711\tbest: 1850.0051711 (276)\ttotal: 4.3s\tremaining: 11.2s\n",
      "277:\tlearn: 1877.4438832\ttest: 1849.4842889\tbest: 1849.4842889 (277)\ttotal: 4.31s\tremaining: 11.2s\n",
      "278:\tlearn: 1876.1268523\ttest: 1848.1138799\tbest: 1848.1138799 (278)\ttotal: 4.33s\tremaining: 11.2s\n",
      "279:\tlearn: 1875.0962632\ttest: 1847.0365312\tbest: 1847.0365312 (279)\ttotal: 4.34s\tremaining: 11.2s\n",
      "280:\tlearn: 1874.5825102\ttest: 1846.5375621\tbest: 1846.5375621 (280)\ttotal: 4.36s\tremaining: 11.1s\n",
      "281:\tlearn: 1873.9756525\ttest: 1845.9067408\tbest: 1845.9067408 (281)\ttotal: 4.37s\tremaining: 11.1s\n",
      "282:\tlearn: 1873.3372785\ttest: 1845.2997072\tbest: 1845.2997072 (282)\ttotal: 4.39s\tremaining: 11.1s\n",
      "283:\tlearn: 1872.8202235\ttest: 1844.9418097\tbest: 1844.9418097 (283)\ttotal: 4.4s\tremaining: 11.1s\n",
      "284:\tlearn: 1871.6266577\ttest: 1843.7002203\tbest: 1843.7002203 (284)\ttotal: 4.42s\tremaining: 11.1s\n",
      "285:\tlearn: 1870.9649735\ttest: 1843.0644125\tbest: 1843.0644125 (285)\ttotal: 4.43s\tremaining: 11.1s\n",
      "286:\tlearn: 1870.0699010\ttest: 1842.1928490\tbest: 1842.1928490 (286)\ttotal: 4.45s\tremaining: 11s\n",
      "287:\tlearn: 1868.9110458\ttest: 1840.9829987\tbest: 1840.9829987 (287)\ttotal: 4.46s\tremaining: 11s\n",
      "288:\tlearn: 1868.3361377\ttest: 1840.4283958\tbest: 1840.4283958 (288)\ttotal: 4.48s\tremaining: 11s\n",
      "289:\tlearn: 1867.6228989\ttest: 1839.7573562\tbest: 1839.7573562 (289)\ttotal: 4.5s\tremaining: 11s\n",
      "290:\tlearn: 1866.8106457\ttest: 1839.0461637\tbest: 1839.0461637 (290)\ttotal: 4.51s\tremaining: 11s\n",
      "291:\tlearn: 1866.1845863\ttest: 1838.4516468\tbest: 1838.4516468 (291)\ttotal: 4.52s\tremaining: 11s\n",
      "292:\tlearn: 1865.2939837\ttest: 1837.7025508\tbest: 1837.7025508 (292)\ttotal: 4.54s\tremaining: 11s\n",
      "293:\tlearn: 1864.6431605\ttest: 1837.0889870\tbest: 1837.0889870 (293)\ttotal: 4.56s\tremaining: 10.9s\n",
      "294:\tlearn: 1864.0314195\ttest: 1836.5340770\tbest: 1836.5340770 (294)\ttotal: 4.57s\tremaining: 10.9s\n",
      "295:\tlearn: 1863.4214105\ttest: 1835.9485323\tbest: 1835.9485323 (295)\ttotal: 4.59s\tremaining: 10.9s\n",
      "296:\tlearn: 1862.9132793\ttest: 1835.4262760\tbest: 1835.4262760 (296)\ttotal: 4.6s\tremaining: 10.9s\n",
      "297:\tlearn: 1862.4701095\ttest: 1835.0677815\tbest: 1835.0677815 (297)\ttotal: 4.62s\tremaining: 10.9s\n",
      "298:\tlearn: 1862.1106724\ttest: 1834.8221258\tbest: 1834.8221258 (298)\ttotal: 4.63s\tremaining: 10.9s\n",
      "299:\tlearn: 1861.5362497\ttest: 1834.3291899\tbest: 1834.3291899 (299)\ttotal: 4.64s\tremaining: 10.8s\n",
      "300:\tlearn: 1860.9796651\ttest: 1833.8187527\tbest: 1833.8187527 (300)\ttotal: 4.66s\tremaining: 10.8s\n",
      "301:\tlearn: 1860.3453970\ttest: 1833.2343732\tbest: 1833.2343732 (301)\ttotal: 4.67s\tremaining: 10.8s\n",
      "302:\tlearn: 1859.8793287\ttest: 1832.8621613\tbest: 1832.8621613 (302)\ttotal: 4.69s\tremaining: 10.8s\n",
      "303:\tlearn: 1859.0930199\ttest: 1832.0663501\tbest: 1832.0663501 (303)\ttotal: 4.7s\tremaining: 10.8s\n",
      "304:\tlearn: 1858.7088192\ttest: 1831.7089790\tbest: 1831.7089790 (304)\ttotal: 4.71s\tremaining: 10.7s\n",
      "305:\tlearn: 1857.8551469\ttest: 1831.0250478\tbest: 1831.0250478 (305)\ttotal: 4.73s\tremaining: 10.7s\n",
      "306:\tlearn: 1857.2849695\ttest: 1830.6372456\tbest: 1830.6372456 (306)\ttotal: 4.74s\tremaining: 10.7s\n",
      "307:\tlearn: 1856.8064663\ttest: 1830.1492057\tbest: 1830.1492057 (307)\ttotal: 4.75s\tremaining: 10.7s\n",
      "308:\tlearn: 1856.4449742\ttest: 1829.8492015\tbest: 1829.8492015 (308)\ttotal: 4.76s\tremaining: 10.7s\n",
      "309:\tlearn: 1855.7479529\ttest: 1829.2325324\tbest: 1829.2325324 (309)\ttotal: 4.77s\tremaining: 10.6s\n",
      "310:\tlearn: 1855.3910008\ttest: 1828.9222339\tbest: 1828.9222339 (310)\ttotal: 4.79s\tremaining: 10.6s\n",
      "311:\tlearn: 1854.9303458\ttest: 1828.4748378\tbest: 1828.4748378 (311)\ttotal: 4.8s\tremaining: 10.6s\n",
      "312:\tlearn: 1854.5816210\ttest: 1828.1896685\tbest: 1828.1896685 (312)\ttotal: 4.82s\tremaining: 10.6s\n",
      "313:\tlearn: 1854.2839154\ttest: 1827.9293941\tbest: 1827.9293941 (313)\ttotal: 4.83s\tremaining: 10.6s\n",
      "314:\tlearn: 1853.7839536\ttest: 1827.5844353\tbest: 1827.5844353 (314)\ttotal: 4.85s\tremaining: 10.5s\n",
      "315:\tlearn: 1853.3273756\ttest: 1827.1673698\tbest: 1827.1673698 (315)\ttotal: 4.86s\tremaining: 10.5s\n",
      "316:\tlearn: 1852.9548977\ttest: 1826.9060024\tbest: 1826.9060024 (316)\ttotal: 4.88s\tremaining: 10.5s\n",
      "317:\tlearn: 1852.1677522\ttest: 1826.2446762\tbest: 1826.2446762 (317)\ttotal: 4.89s\tremaining: 10.5s\n",
      "318:\tlearn: 1851.8188102\ttest: 1825.9392736\tbest: 1825.9392736 (318)\ttotal: 4.9s\tremaining: 10.5s\n",
      "319:\tlearn: 1851.4031794\ttest: 1825.5455149\tbest: 1825.5455149 (319)\ttotal: 4.91s\tremaining: 10.4s\n",
      "320:\tlearn: 1851.0574414\ttest: 1825.3370390\tbest: 1825.3370390 (320)\ttotal: 4.93s\tremaining: 10.4s\n",
      "321:\tlearn: 1849.8814328\ttest: 1824.1075660\tbest: 1824.1075660 (321)\ttotal: 4.94s\tremaining: 10.4s\n",
      "322:\tlearn: 1849.5951502\ttest: 1823.8469318\tbest: 1823.8469318 (322)\ttotal: 4.96s\tremaining: 10.4s\n",
      "323:\tlearn: 1848.9820990\ttest: 1823.2020662\tbest: 1823.2020662 (323)\ttotal: 4.97s\tremaining: 10.4s\n",
      "324:\tlearn: 1848.3225688\ttest: 1822.5083549\tbest: 1822.5083549 (324)\ttotal: 4.98s\tremaining: 10.3s\n",
      "325:\tlearn: 1847.8017731\ttest: 1821.9449596\tbest: 1821.9449596 (325)\ttotal: 5s\tremaining: 10.3s\n",
      "326:\tlearn: 1847.2447680\ttest: 1821.5067325\tbest: 1821.5067325 (326)\ttotal: 5.01s\tremaining: 10.3s\n",
      "327:\tlearn: 1846.9451995\ttest: 1821.2678253\tbest: 1821.2678253 (327)\ttotal: 5.03s\tremaining: 10.3s\n",
      "328:\tlearn: 1846.1794527\ttest: 1820.5323624\tbest: 1820.5323624 (328)\ttotal: 5.04s\tremaining: 10.3s\n",
      "329:\tlearn: 1845.8578055\ttest: 1820.1837959\tbest: 1820.1837959 (329)\ttotal: 5.05s\tremaining: 10.3s\n",
      "330:\tlearn: 1845.5135224\ttest: 1819.8396891\tbest: 1819.8396891 (330)\ttotal: 5.07s\tremaining: 10.2s\n",
      "331:\tlearn: 1845.2406839\ttest: 1819.6844249\tbest: 1819.6844249 (331)\ttotal: 5.08s\tremaining: 10.2s\n",
      "332:\tlearn: 1844.7220845\ttest: 1819.1228749\tbest: 1819.1228749 (332)\ttotal: 5.09s\tremaining: 10.2s\n",
      "333:\tlearn: 1844.2405871\ttest: 1818.6543475\tbest: 1818.6543475 (333)\ttotal: 5.11s\tremaining: 10.2s\n",
      "334:\tlearn: 1843.6775130\ttest: 1818.2239530\tbest: 1818.2239530 (334)\ttotal: 5.12s\tremaining: 10.2s\n",
      "335:\tlearn: 1843.3311417\ttest: 1817.9441823\tbest: 1817.9441823 (335)\ttotal: 5.14s\tremaining: 10.2s\n",
      "336:\tlearn: 1843.0354856\ttest: 1817.6156115\tbest: 1817.6156115 (336)\ttotal: 5.15s\tremaining: 10.1s\n",
      "337:\tlearn: 1842.4016889\ttest: 1816.9787784\tbest: 1816.9787784 (337)\ttotal: 5.17s\tremaining: 10.1s\n",
      "338:\tlearn: 1841.7183171\ttest: 1816.4182570\tbest: 1816.4182570 (338)\ttotal: 5.18s\tremaining: 10.1s\n",
      "339:\tlearn: 1841.3686309\ttest: 1816.1372064\tbest: 1816.1372064 (339)\ttotal: 5.2s\tremaining: 10.1s\n",
      "340:\tlearn: 1840.4645229\ttest: 1815.1714650\tbest: 1815.1714650 (340)\ttotal: 5.22s\tremaining: 10.1s\n",
      "341:\tlearn: 1840.1434826\ttest: 1814.8456619\tbest: 1814.8456619 (341)\ttotal: 5.23s\tremaining: 10.1s\n",
      "342:\tlearn: 1839.8193151\ttest: 1814.5048562\tbest: 1814.5048562 (342)\ttotal: 5.25s\tremaining: 10.1s\n",
      "343:\tlearn: 1839.1430849\ttest: 1813.8414290\tbest: 1813.8414290 (343)\ttotal: 5.26s\tremaining: 10s\n",
      "344:\tlearn: 1838.7094848\ttest: 1813.4455619\tbest: 1813.4455619 (344)\ttotal: 5.28s\tremaining: 10s\n",
      "345:\tlearn: 1838.3290703\ttest: 1813.0843808\tbest: 1813.0843808 (345)\ttotal: 5.29s\tremaining: 10s\n",
      "346:\tlearn: 1837.8047161\ttest: 1812.6132313\tbest: 1812.6132313 (346)\ttotal: 5.31s\tremaining: 9.99s\n",
      "347:\tlearn: 1837.1080565\ttest: 1811.9044611\tbest: 1811.9044611 (347)\ttotal: 5.32s\tremaining: 9.97s\n",
      "348:\tlearn: 1836.6685637\ttest: 1811.4814808\tbest: 1811.4814808 (348)\ttotal: 5.34s\tremaining: 9.95s\n",
      "349:\tlearn: 1836.2896563\ttest: 1811.0998976\tbest: 1811.0998976 (349)\ttotal: 5.35s\tremaining: 9.94s\n",
      "350:\tlearn: 1835.7797626\ttest: 1810.5579616\tbest: 1810.5579616 (350)\ttotal: 5.37s\tremaining: 9.92s\n",
      "351:\tlearn: 1835.3676483\ttest: 1810.1622442\tbest: 1810.1622442 (351)\ttotal: 5.38s\tremaining: 9.9s\n",
      "352:\tlearn: 1835.0449317\ttest: 1809.8571927\tbest: 1809.8571927 (352)\ttotal: 5.39s\tremaining: 9.89s\n",
      "353:\tlearn: 1834.4667166\ttest: 1809.2531942\tbest: 1809.2531942 (353)\ttotal: 5.41s\tremaining: 9.87s\n",
      "354:\tlearn: 1834.1358772\ttest: 1808.9664827\tbest: 1808.9664827 (354)\ttotal: 5.42s\tremaining: 9.85s\n",
      "355:\tlearn: 1833.6015430\ttest: 1808.4306359\tbest: 1808.4306359 (355)\ttotal: 5.43s\tremaining: 9.82s\n",
      "356:\tlearn: 1832.9735392\ttest: 1807.7691751\tbest: 1807.7691751 (356)\ttotal: 5.44s\tremaining: 9.8s\n",
      "357:\tlearn: 1832.4669298\ttest: 1807.3097377\tbest: 1807.3097377 (357)\ttotal: 5.46s\tremaining: 9.79s\n",
      "358:\tlearn: 1832.0610264\ttest: 1806.9371288\tbest: 1806.9371288 (358)\ttotal: 5.47s\tremaining: 9.77s\n",
      "359:\tlearn: 1831.5539074\ttest: 1806.2966861\tbest: 1806.2966861 (359)\ttotal: 5.48s\tremaining: 9.74s\n",
      "360:\tlearn: 1831.0420179\ttest: 1805.7668373\tbest: 1805.7668373 (360)\ttotal: 5.5s\tremaining: 9.73s\n",
      "361:\tlearn: 1830.7205979\ttest: 1805.5793470\tbest: 1805.5793470 (361)\ttotal: 5.51s\tremaining: 9.71s\n",
      "362:\tlearn: 1829.8308187\ttest: 1804.6534728\tbest: 1804.6534728 (362)\ttotal: 5.52s\tremaining: 9.69s\n",
      "363:\tlearn: 1829.4559005\ttest: 1804.3687608\tbest: 1804.3687608 (363)\ttotal: 5.54s\tremaining: 9.67s\n",
      "364:\tlearn: 1828.5547049\ttest: 1803.4634642\tbest: 1803.4634642 (364)\ttotal: 5.55s\tremaining: 9.65s\n",
      "365:\tlearn: 1828.1293239\ttest: 1803.0751642\tbest: 1803.0751642 (365)\ttotal: 5.56s\tremaining: 9.64s\n",
      "366:\tlearn: 1827.4608475\ttest: 1802.4313562\tbest: 1802.4313562 (366)\ttotal: 5.58s\tremaining: 9.62s\n",
      "367:\tlearn: 1827.1705202\ttest: 1802.1919665\tbest: 1802.1919665 (367)\ttotal: 5.59s\tremaining: 9.6s\n",
      "368:\tlearn: 1826.6752854\ttest: 1801.6992034\tbest: 1801.6992034 (368)\ttotal: 5.6s\tremaining: 9.58s\n",
      "369:\tlearn: 1826.0485848\ttest: 1801.0383832\tbest: 1801.0383832 (369)\ttotal: 5.61s\tremaining: 9.56s\n",
      "370:\tlearn: 1825.6616396\ttest: 1800.7406643\tbest: 1800.7406643 (370)\ttotal: 5.63s\tremaining: 9.54s\n",
      "371:\tlearn: 1825.3128375\ttest: 1800.4740441\tbest: 1800.4740441 (371)\ttotal: 5.64s\tremaining: 9.52s\n",
      "372:\tlearn: 1824.9599666\ttest: 1800.0988227\tbest: 1800.0988227 (372)\ttotal: 5.65s\tremaining: 9.49s\n",
      "373:\tlearn: 1824.4245163\ttest: 1799.6093305\tbest: 1799.6093305 (373)\ttotal: 5.67s\tremaining: 9.49s\n",
      "374:\tlearn: 1824.0630858\ttest: 1799.3169279\tbest: 1799.3169279 (374)\ttotal: 5.68s\tremaining: 9.47s\n",
      "375:\tlearn: 1823.7203285\ttest: 1798.9629968\tbest: 1798.9629968 (375)\ttotal: 5.7s\tremaining: 9.45s\n",
      "376:\tlearn: 1823.4001485\ttest: 1798.6876913\tbest: 1798.6876913 (376)\ttotal: 5.71s\tremaining: 9.44s\n",
      "377:\tlearn: 1823.1042616\ttest: 1798.4125751\tbest: 1798.4125751 (377)\ttotal: 5.73s\tremaining: 9.42s\n",
      "378:\tlearn: 1822.5988919\ttest: 1797.8650270\tbest: 1797.8650270 (378)\ttotal: 5.75s\tremaining: 9.41s\n",
      "379:\tlearn: 1822.2463205\ttest: 1797.5873814\tbest: 1797.5873814 (379)\ttotal: 5.76s\tremaining: 9.4s\n",
      "380:\tlearn: 1822.0077641\ttest: 1797.4110335\tbest: 1797.4110335 (380)\ttotal: 5.78s\tremaining: 9.39s\n",
      "381:\tlearn: 1821.3789069\ttest: 1796.8575311\tbest: 1796.8575311 (381)\ttotal: 5.79s\tremaining: 9.37s\n",
      "382:\tlearn: 1820.8578254\ttest: 1796.4550677\tbest: 1796.4550677 (382)\ttotal: 5.81s\tremaining: 9.36s\n",
      "383:\tlearn: 1820.3470620\ttest: 1796.0631996\tbest: 1796.0631996 (383)\ttotal: 5.82s\tremaining: 9.34s\n",
      "384:\tlearn: 1819.8843414\ttest: 1795.6026744\tbest: 1795.6026744 (384)\ttotal: 5.84s\tremaining: 9.33s\n",
      "385:\tlearn: 1819.5748647\ttest: 1795.2883331\tbest: 1795.2883331 (385)\ttotal: 5.85s\tremaining: 9.31s\n",
      "386:\tlearn: 1819.1965648\ttest: 1794.8814763\tbest: 1794.8814763 (386)\ttotal: 5.87s\tremaining: 9.29s\n",
      "387:\tlearn: 1818.7810625\ttest: 1794.4985569\tbest: 1794.4985569 (387)\ttotal: 5.88s\tremaining: 9.27s\n",
      "388:\tlearn: 1818.3252267\ttest: 1794.0956699\tbest: 1794.0956699 (388)\ttotal: 5.89s\tremaining: 9.25s\n",
      "389:\tlearn: 1818.1148958\ttest: 1793.8941378\tbest: 1793.8941378 (389)\ttotal: 5.9s\tremaining: 9.23s\n",
      "390:\tlearn: 1817.6792640\ttest: 1793.5004645\tbest: 1793.5004645 (390)\ttotal: 5.92s\tremaining: 9.21s\n",
      "391:\tlearn: 1817.2906959\ttest: 1793.1973677\tbest: 1793.1973677 (391)\ttotal: 5.93s\tremaining: 9.2s\n",
      "392:\tlearn: 1816.9473470\ttest: 1792.8778752\tbest: 1792.8778752 (392)\ttotal: 5.94s\tremaining: 9.18s\n",
      "393:\tlearn: 1816.5640340\ttest: 1792.5604365\tbest: 1792.5604365 (393)\ttotal: 5.96s\tremaining: 9.16s\n",
      "394:\tlearn: 1816.1391022\ttest: 1792.1048422\tbest: 1792.1048422 (394)\ttotal: 5.97s\tremaining: 9.15s\n",
      "395:\tlearn: 1815.8065557\ttest: 1791.8143499\tbest: 1791.8143499 (395)\ttotal: 5.99s\tremaining: 9.14s\n",
      "396:\tlearn: 1815.4932152\ttest: 1791.5363285\tbest: 1791.5363285 (396)\ttotal: 6s\tremaining: 9.12s\n",
      "397:\tlearn: 1815.0868950\ttest: 1791.1069767\tbest: 1791.1069767 (397)\ttotal: 6.02s\tremaining: 9.11s\n",
      "398:\tlearn: 1814.8605008\ttest: 1790.8983906\tbest: 1790.8983906 (398)\ttotal: 6.04s\tremaining: 9.1s\n",
      "399:\tlearn: 1814.1980220\ttest: 1790.3361674\tbest: 1790.3361674 (399)\ttotal: 6.06s\tremaining: 9.09s\n",
      "400:\tlearn: 1813.8567515\ttest: 1790.0138303\tbest: 1790.0138303 (400)\ttotal: 6.08s\tremaining: 9.08s\n",
      "401:\tlearn: 1813.4141109\ttest: 1789.5026539\tbest: 1789.5026539 (401)\ttotal: 6.09s\tremaining: 9.06s\n",
      "402:\tlearn: 1813.0337060\ttest: 1789.0724589\tbest: 1789.0724589 (402)\ttotal: 6.11s\tremaining: 9.05s\n",
      "403:\tlearn: 1812.7998056\ttest: 1788.9028043\tbest: 1788.9028043 (403)\ttotal: 6.12s\tremaining: 9.03s\n",
      "404:\tlearn: 1812.3040878\ttest: 1788.4299493\tbest: 1788.4299493 (404)\ttotal: 6.13s\tremaining: 9.01s\n",
      "405:\tlearn: 1811.9853249\ttest: 1788.1829989\tbest: 1788.1829989 (405)\ttotal: 6.15s\tremaining: 8.99s\n",
      "406:\tlearn: 1811.4701038\ttest: 1787.6695547\tbest: 1787.6695547 (406)\ttotal: 6.16s\tremaining: 8.98s\n",
      "407:\tlearn: 1811.2601399\ttest: 1787.4671263\tbest: 1787.4671263 (407)\ttotal: 6.18s\tremaining: 8.96s\n",
      "408:\tlearn: 1810.6839097\ttest: 1786.9434544\tbest: 1786.9434544 (408)\ttotal: 6.2s\tremaining: 8.96s\n",
      "409:\tlearn: 1810.4257676\ttest: 1786.7426627\tbest: 1786.7426627 (409)\ttotal: 6.21s\tremaining: 8.94s\n",
      "410:\tlearn: 1809.9144381\ttest: 1786.3421228\tbest: 1786.3421228 (410)\ttotal: 6.23s\tremaining: 8.92s\n",
      "411:\tlearn: 1809.6997355\ttest: 1786.2219249\tbest: 1786.2219249 (411)\ttotal: 6.24s\tremaining: 8.91s\n",
      "412:\tlearn: 1809.4009746\ttest: 1785.9195202\tbest: 1785.9195202 (412)\ttotal: 6.25s\tremaining: 8.89s\n",
      "413:\tlearn: 1809.0732219\ttest: 1785.6776698\tbest: 1785.6776698 (413)\ttotal: 6.27s\tremaining: 8.87s\n",
      "414:\tlearn: 1808.6923867\ttest: 1785.3105430\tbest: 1785.3105430 (414)\ttotal: 6.28s\tremaining: 8.86s\n",
      "415:\tlearn: 1808.3725646\ttest: 1784.9722021\tbest: 1784.9722021 (415)\ttotal: 6.3s\tremaining: 8.84s\n",
      "416:\tlearn: 1807.9659308\ttest: 1784.5959666\tbest: 1784.5959666 (416)\ttotal: 6.31s\tremaining: 8.83s\n",
      "417:\tlearn: 1807.5144119\ttest: 1784.1193907\tbest: 1784.1193907 (417)\ttotal: 6.33s\tremaining: 8.81s\n",
      "418:\tlearn: 1807.2150191\ttest: 1783.8907344\tbest: 1783.8907344 (418)\ttotal: 6.34s\tremaining: 8.79s\n",
      "419:\tlearn: 1806.7202127\ttest: 1783.4180573\tbest: 1783.4180573 (419)\ttotal: 6.35s\tremaining: 8.77s\n",
      "420:\tlearn: 1806.2869816\ttest: 1783.0374600\tbest: 1783.0374600 (420)\ttotal: 6.36s\tremaining: 8.75s\n",
      "421:\tlearn: 1805.7975034\ttest: 1782.6030141\tbest: 1782.6030141 (421)\ttotal: 6.38s\tremaining: 8.74s\n",
      "422:\tlearn: 1805.5166891\ttest: 1782.3816218\tbest: 1782.3816218 (422)\ttotal: 6.4s\tremaining: 8.72s\n",
      "423:\tlearn: 1805.0824160\ttest: 1782.0026728\tbest: 1782.0026728 (423)\ttotal: 6.41s\tremaining: 8.7s\n",
      "424:\tlearn: 1804.7244037\ttest: 1781.7549822\tbest: 1781.7549822 (424)\ttotal: 6.42s\tremaining: 8.68s\n",
      "425:\tlearn: 1804.1715584\ttest: 1781.2380436\tbest: 1781.2380436 (425)\ttotal: 6.43s\tremaining: 8.67s\n",
      "426:\tlearn: 1803.7032617\ttest: 1780.6965641\tbest: 1780.6965641 (426)\ttotal: 6.45s\tremaining: 8.65s\n",
      "427:\tlearn: 1803.3611854\ttest: 1780.3948038\tbest: 1780.3948038 (427)\ttotal: 6.46s\tremaining: 8.63s\n",
      "428:\tlearn: 1803.0256752\ttest: 1780.0504218\tbest: 1780.0504218 (428)\ttotal: 6.47s\tremaining: 8.62s\n",
      "429:\tlearn: 1802.7780309\ttest: 1779.8421676\tbest: 1779.8421676 (429)\ttotal: 6.49s\tremaining: 8.6s\n",
      "430:\tlearn: 1802.4825238\ttest: 1779.5737329\tbest: 1779.5737329 (430)\ttotal: 6.5s\tremaining: 8.58s\n",
      "431:\tlearn: 1802.2509498\ttest: 1779.4293832\tbest: 1779.4293832 (431)\ttotal: 6.51s\tremaining: 8.56s\n",
      "432:\tlearn: 1801.8443230\ttest: 1779.0721726\tbest: 1779.0721726 (432)\ttotal: 6.53s\tremaining: 8.55s\n",
      "433:\tlearn: 1801.3314435\ttest: 1778.5109457\tbest: 1778.5109457 (433)\ttotal: 6.55s\tremaining: 8.54s\n",
      "434:\tlearn: 1800.8942431\ttest: 1778.0764737\tbest: 1778.0764737 (434)\ttotal: 6.56s\tremaining: 8.52s\n",
      "435:\tlearn: 1800.5117068\ttest: 1777.7884132\tbest: 1777.7884132 (435)\ttotal: 6.57s\tremaining: 8.5s\n",
      "436:\tlearn: 1800.0488742\ttest: 1777.4279717\tbest: 1777.4279717 (436)\ttotal: 6.59s\tremaining: 8.49s\n",
      "437:\tlearn: 1799.5274778\ttest: 1776.9144367\tbest: 1776.9144367 (437)\ttotal: 6.6s\tremaining: 8.47s\n",
      "438:\tlearn: 1799.2968037\ttest: 1776.6912319\tbest: 1776.6912319 (438)\ttotal: 6.62s\tremaining: 8.46s\n",
      "439:\tlearn: 1799.0566706\ttest: 1776.4677289\tbest: 1776.4677289 (439)\ttotal: 6.64s\tremaining: 8.45s\n",
      "440:\tlearn: 1798.8754435\ttest: 1776.2528486\tbest: 1776.2528486 (440)\ttotal: 6.66s\tremaining: 8.44s\n",
      "441:\tlearn: 1798.6446591\ttest: 1776.0392583\tbest: 1776.0392583 (441)\ttotal: 6.67s\tremaining: 8.42s\n",
      "442:\tlearn: 1798.3277707\ttest: 1775.7728724\tbest: 1775.7728724 (442)\ttotal: 6.69s\tremaining: 8.41s\n",
      "443:\tlearn: 1798.0962225\ttest: 1775.5681566\tbest: 1775.5681566 (443)\ttotal: 6.7s\tremaining: 8.39s\n",
      "444:\tlearn: 1797.7040131\ttest: 1775.2003128\tbest: 1775.2003128 (444)\ttotal: 6.72s\tremaining: 8.38s\n",
      "445:\tlearn: 1797.4502571\ttest: 1774.9784053\tbest: 1774.9784053 (445)\ttotal: 6.73s\tremaining: 8.36s\n",
      "446:\tlearn: 1797.1416857\ttest: 1774.7161837\tbest: 1774.7161837 (446)\ttotal: 6.78s\tremaining: 8.38s\n",
      "447:\tlearn: 1796.8761673\ttest: 1774.4702242\tbest: 1774.4702242 (447)\ttotal: 6.82s\tremaining: 8.4s\n",
      "448:\tlearn: 1796.7466662\ttest: 1774.3058062\tbest: 1774.3058062 (448)\ttotal: 6.84s\tremaining: 8.39s\n",
      "449:\tlearn: 1796.3049651\ttest: 1773.8904971\tbest: 1773.8904971 (449)\ttotal: 6.88s\tremaining: 8.41s\n",
      "450:\tlearn: 1796.0475010\ttest: 1773.6590536\tbest: 1773.6590536 (450)\ttotal: 6.91s\tremaining: 8.4s\n",
      "451:\tlearn: 1795.8458645\ttest: 1773.4769165\tbest: 1773.4769165 (451)\ttotal: 6.92s\tremaining: 8.39s\n",
      "452:\tlearn: 1795.4322611\ttest: 1773.1139056\tbest: 1773.1139056 (452)\ttotal: 6.93s\tremaining: 8.37s\n",
      "453:\tlearn: 1795.1273723\ttest: 1772.8195819\tbest: 1772.8195819 (453)\ttotal: 6.95s\tremaining: 8.36s\n",
      "454:\tlearn: 1794.9256519\ttest: 1772.6435724\tbest: 1772.6435724 (454)\ttotal: 6.97s\tremaining: 8.35s\n",
      "455:\tlearn: 1794.7239455\ttest: 1772.4105755\tbest: 1772.4105755 (455)\ttotal: 6.99s\tremaining: 8.33s\n",
      "456:\tlearn: 1794.2573477\ttest: 1771.9566105\tbest: 1771.9566105 (456)\ttotal: 7s\tremaining: 8.32s\n",
      "457:\tlearn: 1794.0189802\ttest: 1771.7748973\tbest: 1771.7748973 (457)\ttotal: 7.02s\tremaining: 8.3s\n",
      "458:\tlearn: 1793.6442756\ttest: 1771.3845446\tbest: 1771.3845446 (458)\ttotal: 7.04s\tremaining: 8.29s\n",
      "459:\tlearn: 1793.3343982\ttest: 1771.1074312\tbest: 1771.1074312 (459)\ttotal: 7.05s\tremaining: 8.27s\n",
      "460:\tlearn: 1792.6798050\ttest: 1770.4923159\tbest: 1770.4923159 (460)\ttotal: 7.06s\tremaining: 8.26s\n",
      "461:\tlearn: 1792.4764983\ttest: 1770.3081017\tbest: 1770.3081017 (461)\ttotal: 7.08s\tremaining: 8.24s\n",
      "462:\tlearn: 1792.0424543\ttest: 1769.9740988\tbest: 1769.9740988 (462)\ttotal: 7.09s\tremaining: 8.22s\n",
      "463:\tlearn: 1791.7298642\ttest: 1769.6310496\tbest: 1769.6310496 (463)\ttotal: 7.11s\tremaining: 8.21s\n",
      "464:\tlearn: 1791.4877163\ttest: 1769.4573215\tbest: 1769.4573215 (464)\ttotal: 7.12s\tremaining: 8.19s\n",
      "465:\tlearn: 1790.8888100\ttest: 1768.8964123\tbest: 1768.8964123 (465)\ttotal: 7.13s\tremaining: 8.18s\n",
      "466:\tlearn: 1790.5976288\ttest: 1768.5524949\tbest: 1768.5524949 (466)\ttotal: 7.15s\tremaining: 8.16s\n",
      "467:\tlearn: 1790.1184305\ttest: 1768.1452451\tbest: 1768.1452451 (467)\ttotal: 7.17s\tremaining: 8.15s\n",
      "468:\tlearn: 1789.9592873\ttest: 1768.0130726\tbest: 1768.0130726 (468)\ttotal: 7.19s\tremaining: 8.14s\n",
      "469:\tlearn: 1789.6098584\ttest: 1767.7085361\tbest: 1767.7085361 (469)\ttotal: 7.2s\tremaining: 8.12s\n",
      "470:\tlearn: 1789.3492308\ttest: 1767.5101261\tbest: 1767.5101261 (470)\ttotal: 7.21s\tremaining: 8.1s\n",
      "471:\tlearn: 1789.0010150\ttest: 1767.2092368\tbest: 1767.2092368 (471)\ttotal: 7.23s\tremaining: 8.09s\n",
      "472:\tlearn: 1788.7925796\ttest: 1767.0175304\tbest: 1767.0175304 (472)\ttotal: 7.24s\tremaining: 8.07s\n",
      "473:\tlearn: 1788.5409910\ttest: 1766.8021849\tbest: 1766.8021849 (473)\ttotal: 7.26s\tremaining: 8.05s\n",
      "474:\tlearn: 1788.3249919\ttest: 1766.6428302\tbest: 1766.6428302 (474)\ttotal: 7.28s\tremaining: 8.04s\n",
      "475:\tlearn: 1788.1152102\ttest: 1766.5074090\tbest: 1766.5074090 (475)\ttotal: 7.29s\tremaining: 8.03s\n",
      "476:\tlearn: 1787.6844448\ttest: 1766.1365446\tbest: 1766.1365446 (476)\ttotal: 7.32s\tremaining: 8.02s\n",
      "477:\tlearn: 1787.4572250\ttest: 1765.9368441\tbest: 1765.9368441 (477)\ttotal: 7.33s\tremaining: 8s\n",
      "478:\tlearn: 1787.0362044\ttest: 1765.5143653\tbest: 1765.5143653 (478)\ttotal: 7.34s\tremaining: 7.99s\n",
      "479:\tlearn: 1786.6754619\ttest: 1765.1996170\tbest: 1765.1996170 (479)\ttotal: 7.36s\tremaining: 7.97s\n",
      "480:\tlearn: 1786.5042483\ttest: 1765.0412108\tbest: 1765.0412108 (480)\ttotal: 7.37s\tremaining: 7.95s\n",
      "481:\tlearn: 1786.2872555\ttest: 1764.8229633\tbest: 1764.8229633 (481)\ttotal: 7.38s\tremaining: 7.94s\n",
      "482:\tlearn: 1786.0419575\ttest: 1764.5666221\tbest: 1764.5666221 (482)\ttotal: 7.4s\tremaining: 7.92s\n",
      "483:\tlearn: 1785.8047481\ttest: 1764.3647046\tbest: 1764.3647046 (483)\ttotal: 7.41s\tremaining: 7.9s\n",
      "484:\tlearn: 1785.4006769\ttest: 1764.0640344\tbest: 1764.0640344 (484)\ttotal: 7.42s\tremaining: 7.88s\n",
      "485:\tlearn: 1784.9737846\ttest: 1763.7251338\tbest: 1763.7251338 (485)\ttotal: 7.44s\tremaining: 7.87s\n",
      "486:\tlearn: 1784.8092193\ttest: 1763.5206083\tbest: 1763.5206083 (486)\ttotal: 7.45s\tremaining: 7.85s\n",
      "487:\tlearn: 1784.5462860\ttest: 1763.3147567\tbest: 1763.3147567 (487)\ttotal: 7.47s\tremaining: 7.84s\n",
      "488:\tlearn: 1784.3206222\ttest: 1763.0955195\tbest: 1763.0955195 (488)\ttotal: 7.48s\tremaining: 7.82s\n",
      "489:\tlearn: 1784.0954432\ttest: 1762.8248774\tbest: 1762.8248774 (489)\ttotal: 7.5s\tremaining: 7.8s\n",
      "490:\tlearn: 1783.8377867\ttest: 1762.5629828\tbest: 1762.5629828 (490)\ttotal: 7.51s\tremaining: 7.79s\n",
      "491:\tlearn: 1783.5208548\ttest: 1762.2954735\tbest: 1762.2954735 (491)\ttotal: 7.53s\tremaining: 7.78s\n",
      "492:\tlearn: 1782.9902723\ttest: 1761.5845312\tbest: 1761.5845312 (492)\ttotal: 7.55s\tremaining: 7.76s\n",
      "493:\tlearn: 1782.7049797\ttest: 1761.3199082\tbest: 1761.3199082 (493)\ttotal: 7.56s\tremaining: 7.75s\n",
      "494:\tlearn: 1782.4820068\ttest: 1761.1316627\tbest: 1761.1316627 (494)\ttotal: 7.58s\tremaining: 7.73s\n",
      "495:\tlearn: 1782.1145768\ttest: 1760.8141813\tbest: 1760.8141813 (495)\ttotal: 7.59s\tremaining: 7.71s\n",
      "496:\tlearn: 1781.8484728\ttest: 1760.5676311\tbest: 1760.5676311 (496)\ttotal: 7.6s\tremaining: 7.69s\n",
      "497:\tlearn: 1781.6502584\ttest: 1760.4211235\tbest: 1760.4211235 (497)\ttotal: 7.61s\tremaining: 7.67s\n",
      "498:\tlearn: 1781.4349221\ttest: 1760.2432653\tbest: 1760.2432653 (498)\ttotal: 7.63s\tremaining: 7.66s\n",
      "499:\tlearn: 1781.0485440\ttest: 1759.9432435\tbest: 1759.9432435 (499)\ttotal: 7.64s\tremaining: 7.64s\n",
      "500:\tlearn: 1780.7004331\ttest: 1759.6411207\tbest: 1759.6411207 (500)\ttotal: 7.65s\tremaining: 7.62s\n",
      "501:\tlearn: 1780.3477782\ttest: 1759.2573351\tbest: 1759.2573351 (501)\ttotal: 7.67s\tremaining: 7.61s\n",
      "502:\tlearn: 1780.0374824\ttest: 1759.0509221\tbest: 1759.0509221 (502)\ttotal: 7.68s\tremaining: 7.59s\n",
      "503:\tlearn: 1779.5407100\ttest: 1758.5295341\tbest: 1758.5295341 (503)\ttotal: 7.7s\tremaining: 7.58s\n",
      "504:\tlearn: 1779.2897092\ttest: 1758.2830666\tbest: 1758.2830666 (504)\ttotal: 7.71s\tremaining: 7.56s\n",
      "505:\tlearn: 1779.1137739\ttest: 1758.1166322\tbest: 1758.1166322 (505)\ttotal: 7.73s\tremaining: 7.54s\n",
      "506:\tlearn: 1778.9020205\ttest: 1757.9395265\tbest: 1757.9395265 (506)\ttotal: 7.74s\tremaining: 7.53s\n",
      "507:\tlearn: 1778.5234823\ttest: 1757.6597311\tbest: 1757.6597311 (507)\ttotal: 7.76s\tremaining: 7.51s\n",
      "508:\tlearn: 1778.2862269\ttest: 1757.4146734\tbest: 1757.4146734 (508)\ttotal: 7.77s\tremaining: 7.5s\n",
      "509:\tlearn: 1778.0388935\ttest: 1757.1609020\tbest: 1757.1609020 (509)\ttotal: 7.78s\tremaining: 7.48s\n",
      "510:\tlearn: 1777.7265203\ttest: 1756.8957879\tbest: 1756.8957879 (510)\ttotal: 7.8s\tremaining: 7.46s\n",
      "511:\tlearn: 1777.5757102\ttest: 1756.7216884\tbest: 1756.7216884 (511)\ttotal: 7.81s\tremaining: 7.45s\n",
      "512:\tlearn: 1777.4169883\ttest: 1756.6108723\tbest: 1756.6108723 (512)\ttotal: 7.83s\tremaining: 7.43s\n",
      "513:\tlearn: 1777.1777865\ttest: 1756.4308877\tbest: 1756.4308877 (513)\ttotal: 7.84s\tremaining: 7.41s\n",
      "514:\tlearn: 1776.9985173\ttest: 1756.2777540\tbest: 1756.2777540 (514)\ttotal: 7.85s\tremaining: 7.4s\n",
      "515:\tlearn: 1776.8175737\ttest: 1756.1064996\tbest: 1756.1064996 (515)\ttotal: 7.87s\tremaining: 7.38s\n",
      "516:\tlearn: 1776.7081190\ttest: 1756.0461691\tbest: 1756.0461691 (516)\ttotal: 7.88s\tremaining: 7.36s\n",
      "517:\tlearn: 1776.3407413\ttest: 1755.5971024\tbest: 1755.5971024 (517)\ttotal: 7.89s\tremaining: 7.35s\n",
      "518:\tlearn: 1776.1212147\ttest: 1755.4592051\tbest: 1755.4592051 (518)\ttotal: 7.91s\tremaining: 7.33s\n",
      "519:\tlearn: 1775.8323587\ttest: 1755.2946408\tbest: 1755.2946408 (519)\ttotal: 7.92s\tremaining: 7.31s\n",
      "520:\tlearn: 1775.5104258\ttest: 1754.9394649\tbest: 1754.9394649 (520)\ttotal: 7.94s\tremaining: 7.3s\n",
      "521:\tlearn: 1775.2870973\ttest: 1754.7236856\tbest: 1754.7236856 (521)\ttotal: 7.95s\tremaining: 7.28s\n",
      "522:\tlearn: 1775.0599798\ttest: 1754.5427906\tbest: 1754.5427906 (522)\ttotal: 7.97s\tremaining: 7.27s\n",
      "523:\tlearn: 1774.8353849\ttest: 1754.3227667\tbest: 1754.3227667 (523)\ttotal: 7.98s\tremaining: 7.25s\n",
      "524:\tlearn: 1774.4787268\ttest: 1754.0486550\tbest: 1754.0486550 (524)\ttotal: 7.99s\tremaining: 7.23s\n",
      "525:\tlearn: 1774.2455617\ttest: 1753.8127259\tbest: 1753.8127259 (525)\ttotal: 8.01s\tremaining: 7.21s\n",
      "526:\tlearn: 1774.0087215\ttest: 1753.6326871\tbest: 1753.6326871 (526)\ttotal: 8.03s\tremaining: 7.2s\n",
      "527:\tlearn: 1773.6992012\ttest: 1753.2941093\tbest: 1753.2941093 (527)\ttotal: 8.04s\tremaining: 7.19s\n",
      "528:\tlearn: 1773.3878255\ttest: 1753.0317798\tbest: 1753.0317798 (528)\ttotal: 8.06s\tremaining: 7.18s\n",
      "529:\tlearn: 1773.2114296\ttest: 1752.8807253\tbest: 1752.8807253 (529)\ttotal: 8.08s\tremaining: 7.16s\n",
      "530:\tlearn: 1772.9725606\ttest: 1752.6474292\tbest: 1752.6474292 (530)\ttotal: 8.1s\tremaining: 7.15s\n",
      "531:\tlearn: 1772.7774234\ttest: 1752.4862916\tbest: 1752.4862916 (531)\ttotal: 8.12s\tremaining: 7.14s\n",
      "532:\tlearn: 1772.5660525\ttest: 1752.3407597\tbest: 1752.3407597 (532)\ttotal: 8.14s\tremaining: 7.13s\n",
      "533:\tlearn: 1772.2513640\ttest: 1752.0153363\tbest: 1752.0153363 (533)\ttotal: 8.15s\tremaining: 7.12s\n",
      "534:\tlearn: 1771.9526124\ttest: 1751.7056686\tbest: 1751.7056686 (534)\ttotal: 8.17s\tremaining: 7.1s\n",
      "535:\tlearn: 1771.7680183\ttest: 1751.5275571\tbest: 1751.5275571 (535)\ttotal: 8.18s\tremaining: 7.08s\n",
      "536:\tlearn: 1771.6334380\ttest: 1751.4211806\tbest: 1751.4211806 (536)\ttotal: 8.2s\tremaining: 7.07s\n",
      "537:\tlearn: 1771.4231795\ttest: 1751.2334780\tbest: 1751.2334780 (537)\ttotal: 8.21s\tremaining: 7.05s\n",
      "538:\tlearn: 1771.2660762\ttest: 1751.1186433\tbest: 1751.1186433 (538)\ttotal: 8.22s\tremaining: 7.03s\n",
      "539:\tlearn: 1770.9759719\ttest: 1750.9342541\tbest: 1750.9342541 (539)\ttotal: 8.24s\tremaining: 7.02s\n",
      "540:\tlearn: 1770.7719309\ttest: 1750.7371402\tbest: 1750.7371402 (540)\ttotal: 8.25s\tremaining: 7s\n",
      "541:\tlearn: 1770.4624273\ttest: 1750.3516292\tbest: 1750.3516292 (541)\ttotal: 8.27s\tremaining: 6.99s\n",
      "542:\tlearn: 1770.3616326\ttest: 1750.2800331\tbest: 1750.2800331 (542)\ttotal: 8.28s\tremaining: 6.97s\n",
      "543:\tlearn: 1770.1536652\ttest: 1750.0761172\tbest: 1750.0761172 (543)\ttotal: 8.3s\tremaining: 6.95s\n",
      "544:\tlearn: 1769.9644522\ttest: 1749.8591128\tbest: 1749.8591128 (544)\ttotal: 8.31s\tremaining: 6.94s\n",
      "545:\tlearn: 1769.6961247\ttest: 1749.6869391\tbest: 1749.6869391 (545)\ttotal: 8.32s\tremaining: 6.92s\n",
      "546:\tlearn: 1769.1726453\ttest: 1749.2372377\tbest: 1749.2372377 (546)\ttotal: 8.33s\tremaining: 6.9s\n",
      "547:\tlearn: 1768.9717731\ttest: 1749.1343495\tbest: 1749.1343495 (547)\ttotal: 8.35s\tremaining: 6.89s\n",
      "548:\tlearn: 1768.7540670\ttest: 1748.9371760\tbest: 1748.9371760 (548)\ttotal: 8.37s\tremaining: 6.87s\n",
      "549:\tlearn: 1768.4476432\ttest: 1748.6536118\tbest: 1748.6536118 (549)\ttotal: 8.38s\tremaining: 6.86s\n",
      "550:\tlearn: 1768.2680633\ttest: 1748.4469080\tbest: 1748.4469080 (550)\ttotal: 8.39s\tremaining: 6.84s\n",
      "551:\tlearn: 1768.0303397\ttest: 1748.1165888\tbest: 1748.1165888 (551)\ttotal: 8.41s\tremaining: 6.83s\n",
      "552:\tlearn: 1767.8841197\ttest: 1747.9776151\tbest: 1747.9776151 (552)\ttotal: 8.42s\tremaining: 6.81s\n",
      "553:\tlearn: 1767.7212933\ttest: 1747.8087257\tbest: 1747.8087257 (553)\ttotal: 8.44s\tremaining: 6.79s\n",
      "554:\tlearn: 1767.5621351\ttest: 1747.6333706\tbest: 1747.6333706 (554)\ttotal: 8.46s\tremaining: 6.78s\n",
      "555:\tlearn: 1767.3094762\ttest: 1747.4745116\tbest: 1747.4745116 (555)\ttotal: 8.47s\tremaining: 6.76s\n",
      "556:\tlearn: 1767.0887270\ttest: 1747.2815866\tbest: 1747.2815866 (556)\ttotal: 8.48s\tremaining: 6.75s\n",
      "557:\tlearn: 1766.6371077\ttest: 1746.8701394\tbest: 1746.8701394 (557)\ttotal: 8.5s\tremaining: 6.73s\n",
      "558:\tlearn: 1766.2056044\ttest: 1746.4957116\tbest: 1746.4957116 (558)\ttotal: 8.52s\tremaining: 6.72s\n",
      "559:\tlearn: 1765.8815601\ttest: 1746.2508938\tbest: 1746.2508938 (559)\ttotal: 8.53s\tremaining: 6.7s\n",
      "560:\tlearn: 1765.6775374\ttest: 1746.0539713\tbest: 1746.0539713 (560)\ttotal: 8.54s\tremaining: 6.68s\n",
      "561:\tlearn: 1765.5133978\ttest: 1745.8716662\tbest: 1745.8716662 (561)\ttotal: 8.55s\tremaining: 6.67s\n",
      "562:\tlearn: 1765.2345727\ttest: 1745.6143766\tbest: 1745.6143766 (562)\ttotal: 8.57s\tremaining: 6.65s\n",
      "563:\tlearn: 1764.9951955\ttest: 1745.4148085\tbest: 1745.4148085 (563)\ttotal: 8.58s\tremaining: 6.63s\n",
      "564:\tlearn: 1764.8095669\ttest: 1745.3423340\tbest: 1745.3423340 (564)\ttotal: 8.6s\tremaining: 6.62s\n",
      "565:\tlearn: 1764.5424689\ttest: 1745.1154393\tbest: 1745.1154393 (565)\ttotal: 8.61s\tremaining: 6.6s\n",
      "566:\tlearn: 1764.1690847\ttest: 1744.7989688\tbest: 1744.7989688 (566)\ttotal: 8.63s\tremaining: 6.59s\n",
      "567:\tlearn: 1764.0014976\ttest: 1744.6057378\tbest: 1744.6057378 (567)\ttotal: 8.64s\tremaining: 6.58s\n",
      "568:\tlearn: 1763.6626155\ttest: 1744.2500706\tbest: 1744.2500706 (568)\ttotal: 8.66s\tremaining: 6.56s\n",
      "569:\tlearn: 1763.5218546\ttest: 1744.2118428\tbest: 1744.2118428 (569)\ttotal: 8.68s\tremaining: 6.55s\n",
      "570:\tlearn: 1763.3353658\ttest: 1744.0877108\tbest: 1744.0877108 (570)\ttotal: 8.69s\tremaining: 6.53s\n",
      "571:\tlearn: 1763.1108995\ttest: 1743.9327711\tbest: 1743.9327711 (571)\ttotal: 8.71s\tremaining: 6.52s\n",
      "572:\tlearn: 1762.8376856\ttest: 1743.5901005\tbest: 1743.5901005 (572)\ttotal: 8.72s\tremaining: 6.5s\n",
      "573:\tlearn: 1762.5724072\ttest: 1743.2989376\tbest: 1743.2989376 (573)\ttotal: 8.74s\tremaining: 6.49s\n",
      "574:\tlearn: 1762.2261824\ttest: 1742.9833909\tbest: 1742.9833909 (574)\ttotal: 8.76s\tremaining: 6.47s\n",
      "575:\tlearn: 1762.0476744\ttest: 1742.8731030\tbest: 1742.8731030 (575)\ttotal: 8.77s\tremaining: 6.46s\n",
      "576:\tlearn: 1761.5974462\ttest: 1742.4755679\tbest: 1742.4755679 (576)\ttotal: 8.79s\tremaining: 6.45s\n",
      "577:\tlearn: 1761.2537701\ttest: 1742.2215277\tbest: 1742.2215277 (577)\ttotal: 8.81s\tremaining: 6.43s\n",
      "578:\tlearn: 1761.0722671\ttest: 1742.0303789\tbest: 1742.0303789 (578)\ttotal: 8.82s\tremaining: 6.41s\n",
      "579:\tlearn: 1760.8905151\ttest: 1741.9203690\tbest: 1741.9203690 (579)\ttotal: 8.84s\tremaining: 6.4s\n",
      "580:\tlearn: 1760.7617410\ttest: 1741.7786986\tbest: 1741.7786986 (580)\ttotal: 8.85s\tremaining: 6.38s\n",
      "581:\tlearn: 1760.4515062\ttest: 1741.4200096\tbest: 1741.4200096 (581)\ttotal: 8.86s\tremaining: 6.36s\n",
      "582:\tlearn: 1760.1569464\ttest: 1741.2004080\tbest: 1741.2004080 (582)\ttotal: 8.87s\tremaining: 6.35s\n",
      "583:\tlearn: 1760.0249444\ttest: 1741.0381133\tbest: 1741.0381133 (583)\ttotal: 8.89s\tremaining: 6.33s\n",
      "584:\tlearn: 1759.8365009\ttest: 1740.8560916\tbest: 1740.8560916 (584)\ttotal: 8.9s\tremaining: 6.31s\n",
      "585:\tlearn: 1759.6408663\ttest: 1740.7072730\tbest: 1740.7072730 (585)\ttotal: 8.91s\tremaining: 6.3s\n",
      "586:\tlearn: 1759.4342716\ttest: 1740.5111289\tbest: 1740.5111289 (586)\ttotal: 8.93s\tremaining: 6.28s\n",
      "587:\tlearn: 1759.2846409\ttest: 1740.3865557\tbest: 1740.3865557 (587)\ttotal: 8.94s\tremaining: 6.26s\n",
      "588:\tlearn: 1759.0414289\ttest: 1740.1618143\tbest: 1740.1618143 (588)\ttotal: 8.96s\tremaining: 6.25s\n",
      "589:\tlearn: 1758.8236042\ttest: 1739.9298217\tbest: 1739.9298217 (589)\ttotal: 8.97s\tremaining: 6.24s\n",
      "590:\tlearn: 1758.6132598\ttest: 1739.7875521\tbest: 1739.7875521 (590)\ttotal: 8.98s\tremaining: 6.22s\n",
      "591:\tlearn: 1758.4033733\ttest: 1739.6150930\tbest: 1739.6150930 (591)\ttotal: 9s\tremaining: 6.2s\n",
      "592:\tlearn: 1758.1485599\ttest: 1739.3468396\tbest: 1739.3468396 (592)\ttotal: 9.01s\tremaining: 6.18s\n",
      "593:\tlearn: 1757.8674705\ttest: 1739.0689002\tbest: 1739.0689002 (593)\ttotal: 9.03s\tremaining: 6.17s\n",
      "594:\tlearn: 1757.6266248\ttest: 1738.8675297\tbest: 1738.8675297 (594)\ttotal: 9.04s\tremaining: 6.15s\n",
      "595:\tlearn: 1757.4593801\ttest: 1738.7048022\tbest: 1738.7048022 (595)\ttotal: 9.05s\tremaining: 6.13s\n",
      "596:\tlearn: 1757.3347618\ttest: 1738.5487446\tbest: 1738.5487446 (596)\ttotal: 9.06s\tremaining: 6.12s\n",
      "597:\tlearn: 1757.1165644\ttest: 1738.4811913\tbest: 1738.4811913 (597)\ttotal: 9.08s\tremaining: 6.1s\n",
      "598:\tlearn: 1756.7001669\ttest: 1738.1343714\tbest: 1738.1343714 (598)\ttotal: 9.09s\tremaining: 6.09s\n",
      "599:\tlearn: 1756.5031374\ttest: 1738.0042895\tbest: 1738.0042895 (599)\ttotal: 9.11s\tremaining: 6.07s\n",
      "600:\tlearn: 1756.2772223\ttest: 1737.8340583\tbest: 1737.8340583 (600)\ttotal: 9.12s\tremaining: 6.06s\n",
      "601:\tlearn: 1755.9106069\ttest: 1737.4429375\tbest: 1737.4429375 (601)\ttotal: 9.14s\tremaining: 6.04s\n",
      "602:\tlearn: 1755.7346761\ttest: 1737.3120480\tbest: 1737.3120480 (602)\ttotal: 9.15s\tremaining: 6.03s\n",
      "603:\tlearn: 1755.5045683\ttest: 1737.0735241\tbest: 1737.0735241 (603)\ttotal: 9.17s\tremaining: 6.01s\n",
      "604:\tlearn: 1755.2670738\ttest: 1736.9246064\tbest: 1736.9246064 (604)\ttotal: 9.18s\tremaining: 6s\n",
      "605:\tlearn: 1755.1178697\ttest: 1736.7457452\tbest: 1736.7457452 (605)\ttotal: 9.2s\tremaining: 5.98s\n",
      "606:\tlearn: 1754.9938523\ttest: 1736.6603121\tbest: 1736.6603121 (606)\ttotal: 9.21s\tremaining: 5.96s\n",
      "607:\tlearn: 1754.8007503\ttest: 1736.5036076\tbest: 1736.5036076 (607)\ttotal: 9.22s\tremaining: 5.95s\n",
      "608:\tlearn: 1754.4998240\ttest: 1736.2315799\tbest: 1736.2315799 (608)\ttotal: 9.23s\tremaining: 5.93s\n",
      "609:\tlearn: 1754.2293359\ttest: 1736.0500307\tbest: 1736.0500307 (609)\ttotal: 9.25s\tremaining: 5.91s\n",
      "610:\tlearn: 1753.8308618\ttest: 1735.7025400\tbest: 1735.7025400 (610)\ttotal: 9.26s\tremaining: 5.89s\n",
      "611:\tlearn: 1753.3909744\ttest: 1735.3268849\tbest: 1735.3268849 (611)\ttotal: 9.27s\tremaining: 5.88s\n",
      "612:\tlearn: 1753.1964010\ttest: 1735.1746277\tbest: 1735.1746277 (612)\ttotal: 9.28s\tremaining: 5.86s\n",
      "613:\tlearn: 1752.8585941\ttest: 1734.8074978\tbest: 1734.8074978 (613)\ttotal: 9.3s\tremaining: 5.84s\n",
      "614:\tlearn: 1752.4956535\ttest: 1734.4700832\tbest: 1734.4700832 (614)\ttotal: 9.31s\tremaining: 5.83s\n",
      "615:\tlearn: 1752.4206952\ttest: 1734.4273624\tbest: 1734.4273624 (615)\ttotal: 9.32s\tremaining: 5.81s\n",
      "616:\tlearn: 1752.2590338\ttest: 1734.3761451\tbest: 1734.3761451 (616)\ttotal: 9.34s\tremaining: 5.8s\n",
      "617:\tlearn: 1751.9679991\ttest: 1734.1530561\tbest: 1734.1530561 (617)\ttotal: 9.35s\tremaining: 5.78s\n",
      "618:\tlearn: 1751.5929400\ttest: 1733.8269335\tbest: 1733.8269335 (618)\ttotal: 9.37s\tremaining: 5.76s\n",
      "619:\tlearn: 1751.3648035\ttest: 1733.6689028\tbest: 1733.6689028 (619)\ttotal: 9.38s\tremaining: 5.75s\n",
      "620:\tlearn: 1751.2423984\ttest: 1733.5618841\tbest: 1733.5618841 (620)\ttotal: 9.39s\tremaining: 5.73s\n",
      "621:\tlearn: 1751.0563919\ttest: 1733.3969624\tbest: 1733.3969624 (621)\ttotal: 9.4s\tremaining: 5.71s\n",
      "622:\tlearn: 1750.8917346\ttest: 1733.3032937\tbest: 1733.3032937 (622)\ttotal: 9.41s\tremaining: 5.7s\n",
      "623:\tlearn: 1750.6748538\ttest: 1733.1337423\tbest: 1733.1337423 (623)\ttotal: 9.43s\tremaining: 5.68s\n",
      "624:\tlearn: 1750.4978954\ttest: 1732.9594050\tbest: 1732.9594050 (624)\ttotal: 9.44s\tremaining: 5.66s\n",
      "625:\tlearn: 1750.3193686\ttest: 1732.7932877\tbest: 1732.7932877 (625)\ttotal: 9.45s\tremaining: 5.65s\n",
      "626:\tlearn: 1750.1878186\ttest: 1732.6850264\tbest: 1732.6850264 (626)\ttotal: 9.46s\tremaining: 5.63s\n",
      "627:\tlearn: 1749.9319145\ttest: 1732.4680250\tbest: 1732.4680250 (627)\ttotal: 9.47s\tremaining: 5.61s\n",
      "628:\tlearn: 1749.5600207\ttest: 1732.1711813\tbest: 1732.1711813 (628)\ttotal: 9.49s\tremaining: 5.6s\n",
      "629:\tlearn: 1749.4569909\ttest: 1732.0824517\tbest: 1732.0824517 (629)\ttotal: 9.5s\tremaining: 5.58s\n",
      "630:\tlearn: 1749.2287781\ttest: 1731.8521774\tbest: 1731.8521774 (630)\ttotal: 9.52s\tremaining: 5.56s\n",
      "631:\tlearn: 1749.0736712\ttest: 1731.7661776\tbest: 1731.7661776 (631)\ttotal: 9.53s\tremaining: 5.55s\n",
      "632:\tlearn: 1748.7223997\ttest: 1731.4871283\tbest: 1731.4871283 (632)\ttotal: 9.54s\tremaining: 5.53s\n",
      "633:\tlearn: 1748.4505415\ttest: 1731.2340024\tbest: 1731.2340024 (633)\ttotal: 9.56s\tremaining: 5.52s\n",
      "634:\tlearn: 1748.2004090\ttest: 1731.0513032\tbest: 1731.0513032 (634)\ttotal: 9.57s\tremaining: 5.5s\n",
      "635:\tlearn: 1747.7921616\ttest: 1730.6832660\tbest: 1730.6832660 (635)\ttotal: 9.58s\tremaining: 5.48s\n",
      "636:\tlearn: 1747.6745578\ttest: 1730.5787287\tbest: 1730.5787287 (636)\ttotal: 9.59s\tremaining: 5.47s\n",
      "637:\tlearn: 1747.4357973\ttest: 1730.4273765\tbest: 1730.4273765 (637)\ttotal: 9.6s\tremaining: 5.45s\n",
      "638:\tlearn: 1747.2387580\ttest: 1730.3446277\tbest: 1730.3446277 (638)\ttotal: 9.62s\tremaining: 5.43s\n",
      "639:\tlearn: 1747.0483067\ttest: 1730.2953725\tbest: 1730.2953725 (639)\ttotal: 9.63s\tremaining: 5.42s\n",
      "640:\tlearn: 1746.7763396\ttest: 1729.9546565\tbest: 1729.9546565 (640)\ttotal: 9.64s\tremaining: 5.4s\n",
      "641:\tlearn: 1746.6638821\ttest: 1729.8005632\tbest: 1729.8005632 (641)\ttotal: 9.65s\tremaining: 5.38s\n",
      "642:\tlearn: 1746.5229498\ttest: 1729.6908327\tbest: 1729.6908327 (642)\ttotal: 9.67s\tremaining: 5.37s\n",
      "643:\tlearn: 1746.3171989\ttest: 1729.5362187\tbest: 1729.5362187 (643)\ttotal: 9.68s\tremaining: 5.35s\n",
      "644:\tlearn: 1746.1657164\ttest: 1729.4502694\tbest: 1729.4502694 (644)\ttotal: 9.69s\tremaining: 5.33s\n",
      "645:\tlearn: 1745.9784978\ttest: 1729.2875551\tbest: 1729.2875551 (645)\ttotal: 9.7s\tremaining: 5.32s\n",
      "646:\tlearn: 1745.5964453\ttest: 1728.9624361\tbest: 1728.9624361 (646)\ttotal: 9.71s\tremaining: 5.3s\n",
      "647:\tlearn: 1745.4532637\ttest: 1728.8860510\tbest: 1728.8860510 (647)\ttotal: 9.73s\tremaining: 5.28s\n",
      "648:\tlearn: 1745.3064690\ttest: 1728.7880648\tbest: 1728.7880648 (648)\ttotal: 9.74s\tremaining: 5.27s\n",
      "649:\tlearn: 1745.1618124\ttest: 1728.6501515\tbest: 1728.6501515 (649)\ttotal: 9.75s\tremaining: 5.25s\n",
      "650:\tlearn: 1745.0250428\ttest: 1728.5098497\tbest: 1728.5098497 (650)\ttotal: 9.77s\tremaining: 5.24s\n",
      "651:\tlearn: 1744.8945519\ttest: 1728.3708021\tbest: 1728.3708021 (651)\ttotal: 9.78s\tremaining: 5.22s\n",
      "652:\tlearn: 1744.7136399\ttest: 1728.2583365\tbest: 1728.2583365 (652)\ttotal: 9.79s\tremaining: 5.2s\n",
      "653:\tlearn: 1744.4721612\ttest: 1728.0353521\tbest: 1728.0353521 (653)\ttotal: 9.8s\tremaining: 5.18s\n",
      "654:\tlearn: 1744.2168881\ttest: 1727.8465551\tbest: 1727.8465551 (654)\ttotal: 9.81s\tremaining: 5.17s\n",
      "655:\tlearn: 1743.9345487\ttest: 1727.6336448\tbest: 1727.6336448 (655)\ttotal: 9.82s\tremaining: 5.15s\n",
      "656:\tlearn: 1743.8198635\ttest: 1727.5826191\tbest: 1727.5826191 (656)\ttotal: 9.84s\tremaining: 5.14s\n",
      "657:\tlearn: 1743.6757458\ttest: 1727.4943363\tbest: 1727.4943363 (657)\ttotal: 9.85s\tremaining: 5.12s\n",
      "658:\tlearn: 1743.4036942\ttest: 1727.2655376\tbest: 1727.2655376 (658)\ttotal: 9.86s\tremaining: 5.1s\n",
      "659:\tlearn: 1743.1329529\ttest: 1726.9525611\tbest: 1726.9525611 (659)\ttotal: 9.88s\tremaining: 5.09s\n",
      "660:\tlearn: 1742.9495777\ttest: 1726.8317298\tbest: 1726.8317298 (660)\ttotal: 9.89s\tremaining: 5.07s\n",
      "661:\tlearn: 1742.7105785\ttest: 1726.6394056\tbest: 1726.6394056 (661)\ttotal: 9.9s\tremaining: 5.05s\n",
      "662:\tlearn: 1742.4079825\ttest: 1726.3482087\tbest: 1726.3482087 (662)\ttotal: 9.91s\tremaining: 5.04s\n",
      "663:\tlearn: 1742.0985016\ttest: 1726.0866658\tbest: 1726.0866658 (663)\ttotal: 9.93s\tremaining: 5.02s\n",
      "664:\tlearn: 1741.8569551\ttest: 1725.8302277\tbest: 1725.8302277 (664)\ttotal: 9.94s\tremaining: 5.01s\n",
      "665:\tlearn: 1741.7374680\ttest: 1725.7309102\tbest: 1725.7309102 (665)\ttotal: 9.96s\tremaining: 4.99s\n",
      "666:\tlearn: 1741.5330814\ttest: 1725.5927544\tbest: 1725.5927544 (666)\ttotal: 9.97s\tremaining: 4.97s\n",
      "667:\tlearn: 1741.3589636\ttest: 1725.4618721\tbest: 1725.4618721 (667)\ttotal: 9.98s\tremaining: 4.96s\n",
      "668:\tlearn: 1741.1678013\ttest: 1725.3248709\tbest: 1725.3248709 (668)\ttotal: 9.99s\tremaining: 4.95s\n",
      "669:\tlearn: 1740.9101908\ttest: 1725.1606437\tbest: 1725.1606437 (669)\ttotal: 10s\tremaining: 4.93s\n",
      "670:\tlearn: 1740.6747848\ttest: 1724.8639709\tbest: 1724.8639709 (670)\ttotal: 10s\tremaining: 4.91s\n",
      "671:\tlearn: 1740.4928874\ttest: 1724.7324102\tbest: 1724.7324102 (671)\ttotal: 10s\tremaining: 4.9s\n",
      "672:\tlearn: 1740.3627010\ttest: 1724.5795564\tbest: 1724.5795564 (672)\ttotal: 10.1s\tremaining: 4.88s\n",
      "673:\tlearn: 1740.1455457\ttest: 1724.3978030\tbest: 1724.3978030 (673)\ttotal: 10.1s\tremaining: 4.87s\n",
      "674:\tlearn: 1740.0074217\ttest: 1724.3668981\tbest: 1724.3668981 (674)\ttotal: 10.1s\tremaining: 4.85s\n",
      "675:\tlearn: 1739.7592987\ttest: 1724.1606802\tbest: 1724.1606802 (675)\ttotal: 10.1s\tremaining: 4.84s\n",
      "676:\tlearn: 1739.6483640\ttest: 1724.0577951\tbest: 1724.0577951 (676)\ttotal: 10.1s\tremaining: 4.82s\n",
      "677:\tlearn: 1739.4295654\ttest: 1723.8410836\tbest: 1723.8410836 (677)\ttotal: 10.1s\tremaining: 4.8s\n",
      "678:\tlearn: 1739.2852267\ttest: 1723.7543429\tbest: 1723.7543429 (678)\ttotal: 10.1s\tremaining: 4.79s\n",
      "679:\tlearn: 1739.1041981\ttest: 1723.6174133\tbest: 1723.6174133 (679)\ttotal: 10.1s\tremaining: 4.77s\n",
      "680:\tlearn: 1738.9412273\ttest: 1723.4968314\tbest: 1723.4968314 (680)\ttotal: 10.2s\tremaining: 4.76s\n",
      "681:\tlearn: 1738.7871988\ttest: 1723.3765820\tbest: 1723.3765820 (681)\ttotal: 10.2s\tremaining: 4.75s\n",
      "682:\tlearn: 1738.5937598\ttest: 1723.1706974\tbest: 1723.1706974 (682)\ttotal: 10.2s\tremaining: 4.75s\n",
      "683:\tlearn: 1738.5123964\ttest: 1723.1152536\tbest: 1723.1152536 (683)\ttotal: 10.3s\tremaining: 4.74s\n",
      "684:\tlearn: 1738.3719249\ttest: 1722.9753915\tbest: 1722.9753915 (684)\ttotal: 10.3s\tremaining: 4.72s\n",
      "685:\tlearn: 1738.2625367\ttest: 1722.8617436\tbest: 1722.8617436 (685)\ttotal: 10.3s\tremaining: 4.71s\n",
      "686:\tlearn: 1738.0637639\ttest: 1722.7262131\tbest: 1722.7262131 (686)\ttotal: 10.3s\tremaining: 4.69s\n",
      "687:\tlearn: 1737.7995976\ttest: 1722.4433349\tbest: 1722.4433349 (687)\ttotal: 10.3s\tremaining: 4.68s\n",
      "688:\tlearn: 1737.6070977\ttest: 1722.2615281\tbest: 1722.2615281 (688)\ttotal: 10.3s\tremaining: 4.66s\n",
      "689:\tlearn: 1737.3162003\ttest: 1722.0088025\tbest: 1722.0088025 (689)\ttotal: 10.3s\tremaining: 4.65s\n",
      "690:\tlearn: 1737.1168402\ttest: 1721.8011626\tbest: 1721.8011626 (690)\ttotal: 10.4s\tremaining: 4.63s\n",
      "691:\tlearn: 1737.0112778\ttest: 1721.6894596\tbest: 1721.6894596 (691)\ttotal: 10.4s\tremaining: 4.62s\n",
      "692:\tlearn: 1736.8334852\ttest: 1721.5647856\tbest: 1721.5647856 (692)\ttotal: 10.4s\tremaining: 4.6s\n",
      "693:\tlearn: 1736.6755247\ttest: 1721.4298448\tbest: 1721.4298448 (693)\ttotal: 10.4s\tremaining: 4.59s\n",
      "694:\tlearn: 1736.5656623\ttest: 1721.3206841\tbest: 1721.3206841 (694)\ttotal: 10.4s\tremaining: 4.57s\n",
      "695:\tlearn: 1736.2302585\ttest: 1721.0229893\tbest: 1721.0229893 (695)\ttotal: 10.4s\tremaining: 4.56s\n",
      "696:\tlearn: 1736.0635333\ttest: 1720.9898218\tbest: 1720.9898218 (696)\ttotal: 10.4s\tremaining: 4.54s\n",
      "697:\tlearn: 1735.9611236\ttest: 1720.8908765\tbest: 1720.8908765 (697)\ttotal: 10.5s\tremaining: 4.52s\n",
      "698:\tlearn: 1735.6960850\ttest: 1720.6655917\tbest: 1720.6655917 (698)\ttotal: 10.5s\tremaining: 4.51s\n",
      "699:\tlearn: 1735.4900628\ttest: 1720.4929875\tbest: 1720.4929875 (699)\ttotal: 10.5s\tremaining: 4.49s\n",
      "700:\tlearn: 1735.4019427\ttest: 1720.4084942\tbest: 1720.4084942 (700)\ttotal: 10.5s\tremaining: 4.48s\n",
      "701:\tlearn: 1735.2460336\ttest: 1720.2641799\tbest: 1720.2641799 (701)\ttotal: 10.5s\tremaining: 4.46s\n",
      "702:\tlearn: 1734.9977359\ttest: 1720.0625272\tbest: 1720.0625272 (702)\ttotal: 10.5s\tremaining: 4.45s\n",
      "703:\tlearn: 1734.6813167\ttest: 1719.8739092\tbest: 1719.8739092 (703)\ttotal: 10.5s\tremaining: 4.43s\n",
      "704:\tlearn: 1734.4321456\ttest: 1719.6064298\tbest: 1719.6064298 (704)\ttotal: 10.6s\tremaining: 4.42s\n",
      "705:\tlearn: 1734.2600798\ttest: 1719.4883144\tbest: 1719.4883144 (705)\ttotal: 10.6s\tremaining: 4.4s\n",
      "706:\tlearn: 1733.9819882\ttest: 1719.2590792\tbest: 1719.2590792 (706)\ttotal: 10.6s\tremaining: 4.38s\n",
      "707:\tlearn: 1733.6468192\ttest: 1718.9772888\tbest: 1718.9772888 (707)\ttotal: 10.6s\tremaining: 4.37s\n",
      "708:\tlearn: 1733.5007435\ttest: 1718.8986103\tbest: 1718.8986103 (708)\ttotal: 10.6s\tremaining: 4.35s\n",
      "709:\tlearn: 1733.3073832\ttest: 1718.6713659\tbest: 1718.6713659 (709)\ttotal: 10.6s\tremaining: 4.34s\n",
      "710:\tlearn: 1733.2103977\ttest: 1718.5569886\tbest: 1718.5569886 (710)\ttotal: 10.6s\tremaining: 4.32s\n",
      "711:\tlearn: 1733.0747747\ttest: 1718.4243540\tbest: 1718.4243540 (711)\ttotal: 10.6s\tremaining: 4.3s\n",
      "712:\tlearn: 1732.8971891\ttest: 1718.2456919\tbest: 1718.2456919 (712)\ttotal: 10.7s\tremaining: 4.29s\n",
      "713:\tlearn: 1732.6499471\ttest: 1718.0362818\tbest: 1718.0362818 (713)\ttotal: 10.7s\tremaining: 4.27s\n",
      "714:\tlearn: 1732.4673573\ttest: 1717.8781257\tbest: 1717.8781257 (714)\ttotal: 10.7s\tremaining: 4.26s\n",
      "715:\tlearn: 1732.3246517\ttest: 1717.7339818\tbest: 1717.7339818 (715)\ttotal: 10.7s\tremaining: 4.24s\n",
      "716:\tlearn: 1732.1831861\ttest: 1717.6021472\tbest: 1717.6021472 (716)\ttotal: 10.7s\tremaining: 4.23s\n",
      "717:\tlearn: 1731.9508650\ttest: 1717.3076703\tbest: 1717.3076703 (717)\ttotal: 10.7s\tremaining: 4.21s\n",
      "718:\tlearn: 1731.8616296\ttest: 1717.2317156\tbest: 1717.2317156 (718)\ttotal: 10.7s\tremaining: 4.2s\n",
      "719:\tlearn: 1731.7563840\ttest: 1717.2112253\tbest: 1717.2112253 (719)\ttotal: 10.7s\tremaining: 4.18s\n",
      "720:\tlearn: 1731.6351570\ttest: 1717.1150468\tbest: 1717.1150468 (720)\ttotal: 10.8s\tremaining: 4.16s\n",
      "721:\tlearn: 1731.4244160\ttest: 1716.9506071\tbest: 1716.9506071 (721)\ttotal: 10.8s\tremaining: 4.15s\n",
      "722:\tlearn: 1731.1791154\ttest: 1716.7467849\tbest: 1716.7467849 (722)\ttotal: 10.8s\tremaining: 4.13s\n",
      "723:\tlearn: 1730.9607291\ttest: 1716.5913966\tbest: 1716.5913966 (723)\ttotal: 10.8s\tremaining: 4.12s\n",
      "724:\tlearn: 1730.8651960\ttest: 1716.4929040\tbest: 1716.4929040 (724)\ttotal: 10.8s\tremaining: 4.1s\n",
      "725:\tlearn: 1730.6641507\ttest: 1716.2367433\tbest: 1716.2367433 (725)\ttotal: 10.8s\tremaining: 4.09s\n",
      "726:\tlearn: 1730.4726386\ttest: 1716.0496030\tbest: 1716.0496030 (726)\ttotal: 10.8s\tremaining: 4.07s\n",
      "727:\tlearn: 1730.3462797\ttest: 1715.9452485\tbest: 1715.9452485 (727)\ttotal: 10.9s\tremaining: 4.05s\n",
      "728:\tlearn: 1730.2306363\ttest: 1715.8224542\tbest: 1715.8224542 (728)\ttotal: 10.9s\tremaining: 4.04s\n",
      "729:\tlearn: 1730.0091134\ttest: 1715.6353134\tbest: 1715.6353134 (729)\ttotal: 10.9s\tremaining: 4.02s\n",
      "730:\tlearn: 1729.8680870\ttest: 1715.5511144\tbest: 1715.5511144 (730)\ttotal: 10.9s\tremaining: 4.01s\n",
      "731:\tlearn: 1729.7833472\ttest: 1715.4793091\tbest: 1715.4793091 (731)\ttotal: 10.9s\tremaining: 3.99s\n",
      "732:\tlearn: 1729.6018306\ttest: 1715.3013705\tbest: 1715.3013705 (732)\ttotal: 10.9s\tremaining: 3.98s\n",
      "733:\tlearn: 1729.3377019\ttest: 1715.1731189\tbest: 1715.1731189 (733)\ttotal: 10.9s\tremaining: 3.96s\n",
      "734:\tlearn: 1729.1940761\ttest: 1715.0377442\tbest: 1715.0377442 (734)\ttotal: 10.9s\tremaining: 3.94s\n",
      "735:\tlearn: 1728.8976956\ttest: 1714.7787831\tbest: 1714.7787831 (735)\ttotal: 11s\tremaining: 3.93s\n",
      "736:\tlearn: 1728.7119512\ttest: 1714.6526366\tbest: 1714.6526366 (736)\ttotal: 11s\tremaining: 3.91s\n",
      "737:\tlearn: 1728.5166067\ttest: 1714.4481401\tbest: 1714.4481401 (737)\ttotal: 11s\tremaining: 3.9s\n",
      "738:\tlearn: 1728.3569556\ttest: 1714.3008485\tbest: 1714.3008485 (738)\ttotal: 11s\tremaining: 3.88s\n",
      "739:\tlearn: 1728.2097103\ttest: 1714.2086324\tbest: 1714.2086324 (739)\ttotal: 11s\tremaining: 3.87s\n",
      "740:\tlearn: 1728.0898703\ttest: 1714.1466310\tbest: 1714.1466310 (740)\ttotal: 11s\tremaining: 3.85s\n",
      "741:\tlearn: 1727.8758853\ttest: 1713.9099300\tbest: 1713.9099300 (741)\ttotal: 11s\tremaining: 3.84s\n",
      "742:\tlearn: 1727.7244530\ttest: 1713.7707576\tbest: 1713.7707576 (742)\ttotal: 11s\tremaining: 3.82s\n",
      "743:\tlearn: 1727.4688753\ttest: 1713.5764060\tbest: 1713.5764060 (743)\ttotal: 11.1s\tremaining: 3.81s\n",
      "744:\tlearn: 1727.2690204\ttest: 1713.3645205\tbest: 1713.3645205 (744)\ttotal: 11.1s\tremaining: 3.79s\n",
      "745:\tlearn: 1727.1368306\ttest: 1713.2707253\tbest: 1713.2707253 (745)\ttotal: 11.1s\tremaining: 3.77s\n",
      "746:\tlearn: 1726.9402149\ttest: 1713.0946413\tbest: 1713.0946413 (746)\ttotal: 11.1s\tremaining: 3.76s\n",
      "747:\tlearn: 1726.8604232\ttest: 1713.0154288\tbest: 1713.0154288 (747)\ttotal: 11.1s\tremaining: 3.74s\n",
      "748:\tlearn: 1726.7876747\ttest: 1712.9191980\tbest: 1712.9191980 (748)\ttotal: 11.1s\tremaining: 3.73s\n",
      "749:\tlearn: 1726.6195890\ttest: 1712.7782299\tbest: 1712.7782299 (749)\ttotal: 11.1s\tremaining: 3.71s\n",
      "750:\tlearn: 1726.5029008\ttest: 1712.6699472\tbest: 1712.6699472 (750)\ttotal: 11.1s\tremaining: 3.69s\n",
      "751:\tlearn: 1726.3002313\ttest: 1712.4449912\tbest: 1712.4449912 (751)\ttotal: 11.2s\tremaining: 3.68s\n",
      "752:\tlearn: 1726.1627389\ttest: 1712.3488859\tbest: 1712.3488859 (752)\ttotal: 11.2s\tremaining: 3.66s\n",
      "753:\tlearn: 1725.9697525\ttest: 1712.1809112\tbest: 1712.1809112 (753)\ttotal: 11.2s\tremaining: 3.65s\n",
      "754:\tlearn: 1725.6625009\ttest: 1711.9581060\tbest: 1711.9581060 (754)\ttotal: 11.2s\tremaining: 3.63s\n",
      "755:\tlearn: 1725.4320768\ttest: 1711.7202386\tbest: 1711.7202386 (755)\ttotal: 11.2s\tremaining: 3.62s\n",
      "756:\tlearn: 1725.2267658\ttest: 1711.4602952\tbest: 1711.4602952 (756)\ttotal: 11.2s\tremaining: 3.6s\n",
      "757:\tlearn: 1725.0325759\ttest: 1711.2630937\tbest: 1711.2630937 (757)\ttotal: 11.2s\tremaining: 3.59s\n",
      "758:\tlearn: 1724.8593796\ttest: 1711.1218758\tbest: 1711.1218758 (758)\ttotal: 11.3s\tremaining: 3.57s\n",
      "759:\tlearn: 1724.7810063\ttest: 1711.0553454\tbest: 1711.0553454 (759)\ttotal: 11.3s\tremaining: 3.56s\n",
      "760:\tlearn: 1724.5949172\ttest: 1710.9149419\tbest: 1710.9149419 (760)\ttotal: 11.3s\tremaining: 3.54s\n",
      "761:\tlearn: 1724.4739313\ttest: 1710.8491526\tbest: 1710.8491526 (761)\ttotal: 11.3s\tremaining: 3.53s\n",
      "762:\tlearn: 1724.2920436\ttest: 1710.6778334\tbest: 1710.6778334 (762)\ttotal: 11.3s\tremaining: 3.51s\n",
      "763:\tlearn: 1724.0445083\ttest: 1710.5602185\tbest: 1710.5602185 (763)\ttotal: 11.3s\tremaining: 3.5s\n",
      "764:\tlearn: 1723.9464580\ttest: 1710.4553578\tbest: 1710.4553578 (764)\ttotal: 11.3s\tremaining: 3.48s\n",
      "765:\tlearn: 1723.7509362\ttest: 1710.2634904\tbest: 1710.2634904 (765)\ttotal: 11.4s\tremaining: 3.47s\n",
      "766:\tlearn: 1723.4685669\ttest: 1710.1026070\tbest: 1710.1026070 (766)\ttotal: 11.4s\tremaining: 3.45s\n",
      "767:\tlearn: 1723.3909340\ttest: 1710.0647260\tbest: 1710.0647260 (767)\ttotal: 11.4s\tremaining: 3.44s\n",
      "768:\tlearn: 1723.2272774\ttest: 1709.9551593\tbest: 1709.9551593 (768)\ttotal: 11.4s\tremaining: 3.42s\n",
      "769:\tlearn: 1723.0125985\ttest: 1709.7326026\tbest: 1709.7326026 (769)\ttotal: 11.4s\tremaining: 3.41s\n",
      "770:\tlearn: 1722.9318803\ttest: 1709.6156123\tbest: 1709.6156123 (770)\ttotal: 11.4s\tremaining: 3.39s\n",
      "771:\tlearn: 1722.7684731\ttest: 1709.5467982\tbest: 1709.5467982 (771)\ttotal: 11.4s\tremaining: 3.38s\n",
      "772:\tlearn: 1722.6729793\ttest: 1709.5088614\tbest: 1709.5088614 (772)\ttotal: 11.5s\tremaining: 3.36s\n",
      "773:\tlearn: 1722.5283258\ttest: 1709.4913746\tbest: 1709.4913746 (773)\ttotal: 11.5s\tremaining: 3.35s\n",
      "774:\tlearn: 1722.3575678\ttest: 1709.3306446\tbest: 1709.3306446 (774)\ttotal: 11.5s\tremaining: 3.33s\n",
      "775:\tlearn: 1722.1513086\ttest: 1709.1538907\tbest: 1709.1538907 (775)\ttotal: 11.5s\tremaining: 3.32s\n",
      "776:\tlearn: 1722.0123305\ttest: 1709.0372773\tbest: 1709.0372773 (776)\ttotal: 11.5s\tremaining: 3.3s\n",
      "777:\tlearn: 1721.8897293\ttest: 1708.9476324\tbest: 1708.9476324 (777)\ttotal: 11.5s\tremaining: 3.29s\n",
      "778:\tlearn: 1721.7851728\ttest: 1708.8475854\tbest: 1708.8475854 (778)\ttotal: 11.5s\tremaining: 3.27s\n",
      "779:\tlearn: 1721.6259627\ttest: 1708.7207575\tbest: 1708.7207575 (779)\ttotal: 11.5s\tremaining: 3.25s\n",
      "780:\tlearn: 1721.4409847\ttest: 1708.5786765\tbest: 1708.5786765 (780)\ttotal: 11.6s\tremaining: 3.24s\n",
      "781:\tlearn: 1721.3619860\ttest: 1708.5165308\tbest: 1708.5165308 (781)\ttotal: 11.6s\tremaining: 3.22s\n",
      "782:\tlearn: 1721.1249507\ttest: 1708.3859130\tbest: 1708.3859130 (782)\ttotal: 11.6s\tremaining: 3.21s\n",
      "783:\tlearn: 1720.9881700\ttest: 1708.3141516\tbest: 1708.3141516 (783)\ttotal: 11.6s\tremaining: 3.19s\n",
      "784:\tlearn: 1720.8179754\ttest: 1708.1871874\tbest: 1708.1871874 (784)\ttotal: 11.6s\tremaining: 3.18s\n",
      "785:\tlearn: 1720.7121737\ttest: 1708.1038600\tbest: 1708.1038600 (785)\ttotal: 11.6s\tremaining: 3.16s\n",
      "786:\tlearn: 1720.5426716\ttest: 1707.8886701\tbest: 1707.8886701 (786)\ttotal: 11.6s\tremaining: 3.15s\n",
      "787:\tlearn: 1720.3183543\ttest: 1707.7222800\tbest: 1707.7222800 (787)\ttotal: 11.6s\tremaining: 3.13s\n",
      "788:\tlearn: 1720.1716516\ttest: 1707.5697338\tbest: 1707.5697338 (788)\ttotal: 11.7s\tremaining: 3.12s\n",
      "789:\tlearn: 1720.0514978\ttest: 1707.5111819\tbest: 1707.5111819 (789)\ttotal: 11.7s\tremaining: 3.1s\n",
      "790:\tlearn: 1719.9564220\ttest: 1707.4050972\tbest: 1707.4050972 (790)\ttotal: 11.7s\tremaining: 3.09s\n",
      "791:\tlearn: 1719.8497809\ttest: 1707.2557874\tbest: 1707.2557874 (791)\ttotal: 11.7s\tremaining: 3.07s\n",
      "792:\tlearn: 1719.6882839\ttest: 1707.1514778\tbest: 1707.1514778 (792)\ttotal: 11.7s\tremaining: 3.06s\n",
      "793:\tlearn: 1719.5154461\ttest: 1707.0128694\tbest: 1707.0128694 (793)\ttotal: 11.7s\tremaining: 3.04s\n",
      "794:\tlearn: 1719.3370543\ttest: 1706.8928131\tbest: 1706.8928131 (794)\ttotal: 11.7s\tremaining: 3.02s\n",
      "795:\tlearn: 1719.2174810\ttest: 1706.8138733\tbest: 1706.8138733 (795)\ttotal: 11.7s\tremaining: 3.01s\n",
      "796:\tlearn: 1719.0234121\ttest: 1706.6624584\tbest: 1706.6624584 (796)\ttotal: 11.8s\tremaining: 2.99s\n",
      "797:\tlearn: 1718.9051424\ttest: 1706.5542428\tbest: 1706.5542428 (797)\ttotal: 11.8s\tremaining: 2.98s\n",
      "798:\tlearn: 1718.7404956\ttest: 1706.4378206\tbest: 1706.4378206 (798)\ttotal: 11.8s\tremaining: 2.96s\n",
      "799:\tlearn: 1718.6403054\ttest: 1706.3596465\tbest: 1706.3596465 (799)\ttotal: 11.8s\tremaining: 2.95s\n",
      "800:\tlearn: 1718.5324812\ttest: 1706.2887105\tbest: 1706.2887105 (800)\ttotal: 11.8s\tremaining: 2.93s\n",
      "801:\tlearn: 1718.4338842\ttest: 1706.1835818\tbest: 1706.1835818 (801)\ttotal: 11.8s\tremaining: 2.92s\n",
      "802:\tlearn: 1718.1550596\ttest: 1705.9842028\tbest: 1705.9842028 (802)\ttotal: 11.8s\tremaining: 2.9s\n",
      "803:\tlearn: 1717.8889864\ttest: 1705.7627662\tbest: 1705.7627662 (803)\ttotal: 11.8s\tremaining: 2.89s\n",
      "804:\tlearn: 1717.7905253\ttest: 1705.6851678\tbest: 1705.6851678 (804)\ttotal: 11.9s\tremaining: 2.87s\n",
      "805:\tlearn: 1717.6809883\ttest: 1705.5797729\tbest: 1705.5797729 (805)\ttotal: 11.9s\tremaining: 2.86s\n",
      "806:\tlearn: 1717.4923925\ttest: 1705.3880109\tbest: 1705.3880109 (806)\ttotal: 11.9s\tremaining: 2.84s\n",
      "807:\tlearn: 1717.3255505\ttest: 1705.2587645\tbest: 1705.2587645 (807)\ttotal: 11.9s\tremaining: 2.83s\n",
      "808:\tlearn: 1717.1062858\ttest: 1705.1315550\tbest: 1705.1315550 (808)\ttotal: 11.9s\tremaining: 2.81s\n",
      "809:\tlearn: 1716.8466101\ttest: 1704.9868690\tbest: 1704.9868690 (809)\ttotal: 11.9s\tremaining: 2.8s\n",
      "810:\tlearn: 1716.7681345\ttest: 1704.9456062\tbest: 1704.9456062 (810)\ttotal: 11.9s\tremaining: 2.78s\n",
      "811:\tlearn: 1716.6305732\ttest: 1704.8265200\tbest: 1704.8265200 (811)\ttotal: 12s\tremaining: 2.77s\n",
      "812:\tlearn: 1716.4762773\ttest: 1704.7185827\tbest: 1704.7185827 (812)\ttotal: 12s\tremaining: 2.75s\n",
      "813:\tlearn: 1716.2226692\ttest: 1704.5434605\tbest: 1704.5434605 (813)\ttotal: 12s\tremaining: 2.74s\n",
      "814:\tlearn: 1716.1302866\ttest: 1704.4535519\tbest: 1704.4535519 (814)\ttotal: 12s\tremaining: 2.72s\n",
      "815:\tlearn: 1715.9455721\ttest: 1704.2845527\tbest: 1704.2845527 (815)\ttotal: 12s\tremaining: 2.71s\n",
      "816:\tlearn: 1715.8496419\ttest: 1704.1475019\tbest: 1704.1475019 (816)\ttotal: 12s\tremaining: 2.69s\n",
      "817:\tlearn: 1715.7700640\ttest: 1704.0543023\tbest: 1704.0543023 (817)\ttotal: 12s\tremaining: 2.67s\n",
      "818:\tlearn: 1715.6666819\ttest: 1704.0442868\tbest: 1704.0442868 (818)\ttotal: 12s\tremaining: 2.66s\n",
      "819:\tlearn: 1715.5200736\ttest: 1703.9133547\tbest: 1703.9133547 (819)\ttotal: 12.1s\tremaining: 2.65s\n",
      "820:\tlearn: 1715.3793199\ttest: 1703.8161086\tbest: 1703.8161086 (820)\ttotal: 12.1s\tremaining: 2.63s\n",
      "821:\tlearn: 1715.2225642\ttest: 1703.6581570\tbest: 1703.6581570 (821)\ttotal: 12.1s\tremaining: 2.62s\n",
      "822:\tlearn: 1715.0905399\ttest: 1703.5834482\tbest: 1703.5834482 (822)\ttotal: 12.1s\tremaining: 2.6s\n",
      "823:\tlearn: 1714.9427365\ttest: 1703.4834030\tbest: 1703.4834030 (823)\ttotal: 12.1s\tremaining: 2.58s\n",
      "824:\tlearn: 1714.7693266\ttest: 1703.2554921\tbest: 1703.2554921 (824)\ttotal: 12.1s\tremaining: 2.57s\n",
      "825:\tlearn: 1714.6071829\ttest: 1703.1272252\tbest: 1703.1272252 (825)\ttotal: 12.1s\tremaining: 2.56s\n",
      "826:\tlearn: 1714.4603108\ttest: 1703.0440369\tbest: 1703.0440369 (826)\ttotal: 12.1s\tremaining: 2.54s\n",
      "827:\tlearn: 1714.3727468\ttest: 1702.9492564\tbest: 1702.9492564 (827)\ttotal: 12.2s\tremaining: 2.52s\n",
      "828:\tlearn: 1714.2100712\ttest: 1702.8298487\tbest: 1702.8298487 (828)\ttotal: 12.2s\tremaining: 2.51s\n",
      "829:\tlearn: 1714.0598851\ttest: 1702.7350840\tbest: 1702.7350840 (829)\ttotal: 12.2s\tremaining: 2.49s\n",
      "830:\tlearn: 1713.8596183\ttest: 1702.6228336\tbest: 1702.6228336 (830)\ttotal: 12.2s\tremaining: 2.48s\n",
      "831:\tlearn: 1713.7551035\ttest: 1702.5153134\tbest: 1702.5153134 (831)\ttotal: 12.2s\tremaining: 2.46s\n",
      "832:\tlearn: 1713.6518331\ttest: 1702.4492098\tbest: 1702.4492098 (832)\ttotal: 12.2s\tremaining: 2.45s\n",
      "833:\tlearn: 1713.5825641\ttest: 1702.3906253\tbest: 1702.3906253 (833)\ttotal: 12.2s\tremaining: 2.43s\n",
      "834:\tlearn: 1713.5012203\ttest: 1702.3183226\tbest: 1702.3183226 (834)\ttotal: 12.2s\tremaining: 2.42s\n",
      "835:\tlearn: 1713.2660361\ttest: 1702.1575010\tbest: 1702.1575010 (835)\ttotal: 12.3s\tremaining: 2.4s\n",
      "836:\tlearn: 1713.0842810\ttest: 1701.9822606\tbest: 1701.9822606 (836)\ttotal: 12.3s\tremaining: 2.39s\n",
      "837:\tlearn: 1713.0220957\ttest: 1701.9347294\tbest: 1701.9347294 (837)\ttotal: 12.3s\tremaining: 2.37s\n",
      "838:\tlearn: 1712.9151123\ttest: 1701.8379399\tbest: 1701.8379399 (838)\ttotal: 12.3s\tremaining: 2.36s\n",
      "839:\tlearn: 1712.8272417\ttest: 1701.7287675\tbest: 1701.7287675 (839)\ttotal: 12.3s\tremaining: 2.35s\n",
      "840:\tlearn: 1712.6543867\ttest: 1701.5455549\tbest: 1701.5455549 (840)\ttotal: 12.3s\tremaining: 2.33s\n",
      "841:\tlearn: 1712.5184560\ttest: 1701.4360395\tbest: 1701.4360395 (841)\ttotal: 12.3s\tremaining: 2.32s\n",
      "842:\tlearn: 1712.3778512\ttest: 1701.3323458\tbest: 1701.3323458 (842)\ttotal: 12.4s\tremaining: 2.3s\n",
      "843:\tlearn: 1712.2687786\ttest: 1701.3354985\tbest: 1701.3323458 (842)\ttotal: 12.4s\tremaining: 2.29s\n",
      "844:\tlearn: 1712.1551730\ttest: 1701.2450721\tbest: 1701.2450721 (844)\ttotal: 12.4s\tremaining: 2.27s\n",
      "845:\tlearn: 1712.0479712\ttest: 1701.1950279\tbest: 1701.1950279 (845)\ttotal: 12.4s\tremaining: 2.25s\n",
      "846:\tlearn: 1711.8802618\ttest: 1701.0692430\tbest: 1701.0692430 (846)\ttotal: 12.4s\tremaining: 2.24s\n",
      "847:\tlearn: 1711.6598418\ttest: 1700.8916899\tbest: 1700.8916899 (847)\ttotal: 12.4s\tremaining: 2.23s\n",
      "848:\tlearn: 1711.4860303\ttest: 1700.7140329\tbest: 1700.7140329 (848)\ttotal: 12.4s\tremaining: 2.21s\n",
      "849:\tlearn: 1711.4037233\ttest: 1700.6119510\tbest: 1700.6119510 (849)\ttotal: 12.4s\tremaining: 2.2s\n",
      "850:\tlearn: 1711.2389260\ttest: 1700.4437078\tbest: 1700.4437078 (850)\ttotal: 12.5s\tremaining: 2.18s\n",
      "851:\tlearn: 1710.9996356\ttest: 1700.3137330\tbest: 1700.3137330 (851)\ttotal: 12.5s\tremaining: 2.17s\n",
      "852:\tlearn: 1710.8771029\ttest: 1700.2463513\tbest: 1700.2463513 (852)\ttotal: 12.5s\tremaining: 2.15s\n",
      "853:\tlearn: 1710.7712431\ttest: 1700.1224724\tbest: 1700.1224724 (853)\ttotal: 12.5s\tremaining: 2.14s\n",
      "854:\tlearn: 1710.6432403\ttest: 1700.0273979\tbest: 1700.0273979 (854)\ttotal: 12.5s\tremaining: 2.12s\n",
      "855:\tlearn: 1710.4878949\ttest: 1699.8882314\tbest: 1699.8882314 (855)\ttotal: 12.5s\tremaining: 2.11s\n",
      "856:\tlearn: 1710.4094265\ttest: 1699.8251709\tbest: 1699.8251709 (856)\ttotal: 12.5s\tremaining: 2.09s\n",
      "857:\tlearn: 1710.2546295\ttest: 1699.6982053\tbest: 1699.6982053 (857)\ttotal: 12.6s\tremaining: 2.08s\n",
      "858:\tlearn: 1710.0768651\ttest: 1699.5432115\tbest: 1699.5432115 (858)\ttotal: 12.6s\tremaining: 2.06s\n",
      "859:\tlearn: 1709.9106844\ttest: 1699.3778269\tbest: 1699.3778269 (859)\ttotal: 12.6s\tremaining: 2.05s\n",
      "860:\tlearn: 1709.7844732\ttest: 1699.2774857\tbest: 1699.2774857 (860)\ttotal: 12.6s\tremaining: 2.03s\n",
      "861:\tlearn: 1709.6176570\ttest: 1699.1323328\tbest: 1699.1323328 (861)\ttotal: 12.6s\tremaining: 2.02s\n",
      "862:\tlearn: 1709.5485540\ttest: 1699.0703293\tbest: 1699.0703293 (862)\ttotal: 12.6s\tremaining: 2s\n",
      "863:\tlearn: 1709.4158585\ttest: 1698.9735566\tbest: 1698.9735566 (863)\ttotal: 12.6s\tremaining: 1.99s\n",
      "864:\tlearn: 1709.2447929\ttest: 1698.8596286\tbest: 1698.8596286 (864)\ttotal: 12.6s\tremaining: 1.97s\n",
      "865:\tlearn: 1709.0356209\ttest: 1698.7697737\tbest: 1698.7697737 (865)\ttotal: 12.7s\tremaining: 1.96s\n",
      "866:\tlearn: 1708.9149857\ttest: 1698.6892499\tbest: 1698.6892499 (866)\ttotal: 12.7s\tremaining: 1.94s\n",
      "867:\tlearn: 1708.7458047\ttest: 1698.5130998\tbest: 1698.5130998 (867)\ttotal: 12.7s\tremaining: 1.93s\n",
      "868:\tlearn: 1708.6396804\ttest: 1698.4502941\tbest: 1698.4502941 (868)\ttotal: 12.7s\tremaining: 1.91s\n",
      "869:\tlearn: 1708.5676210\ttest: 1698.3483174\tbest: 1698.3483174 (869)\ttotal: 12.7s\tremaining: 1.9s\n",
      "870:\tlearn: 1708.4079908\ttest: 1698.2440641\tbest: 1698.2440641 (870)\ttotal: 12.7s\tremaining: 1.89s\n",
      "871:\tlearn: 1708.3700577\ttest: 1698.2264728\tbest: 1698.2264728 (871)\ttotal: 12.7s\tremaining: 1.87s\n",
      "872:\tlearn: 1708.2105672\ttest: 1698.0600872\tbest: 1698.0600872 (872)\ttotal: 12.8s\tremaining: 1.85s\n",
      "873:\tlearn: 1708.0972570\ttest: 1697.9989003\tbest: 1697.9989003 (873)\ttotal: 12.8s\tremaining: 1.84s\n",
      "874:\tlearn: 1707.9134428\ttest: 1697.8690467\tbest: 1697.8690467 (874)\ttotal: 12.8s\tremaining: 1.82s\n",
      "875:\tlearn: 1707.8075956\ttest: 1697.7978647\tbest: 1697.7978647 (875)\ttotal: 12.8s\tremaining: 1.81s\n",
      "876:\tlearn: 1707.6699594\ttest: 1697.6584989\tbest: 1697.6584989 (876)\ttotal: 12.8s\tremaining: 1.79s\n",
      "877:\tlearn: 1707.5175153\ttest: 1697.5090392\tbest: 1697.5090392 (877)\ttotal: 12.8s\tremaining: 1.78s\n",
      "878:\tlearn: 1707.4262020\ttest: 1697.3881441\tbest: 1697.3881441 (878)\ttotal: 12.8s\tremaining: 1.76s\n",
      "879:\tlearn: 1707.3347341\ttest: 1697.2879513\tbest: 1697.2879513 (879)\ttotal: 12.8s\tremaining: 1.75s\n",
      "880:\tlearn: 1707.1188574\ttest: 1697.1361796\tbest: 1697.1361796 (880)\ttotal: 12.8s\tremaining: 1.74s\n",
      "881:\tlearn: 1707.0185176\ttest: 1697.0780584\tbest: 1697.0780584 (881)\ttotal: 12.9s\tremaining: 1.72s\n",
      "882:\tlearn: 1706.8080050\ttest: 1696.9000051\tbest: 1696.9000051 (882)\ttotal: 12.9s\tremaining: 1.71s\n",
      "883:\tlearn: 1706.6981328\ttest: 1696.8377773\tbest: 1696.8377773 (883)\ttotal: 12.9s\tremaining: 1.69s\n",
      "884:\tlearn: 1706.5842187\ttest: 1696.7627618\tbest: 1696.7627618 (884)\ttotal: 12.9s\tremaining: 1.68s\n",
      "885:\tlearn: 1706.4251142\ttest: 1696.6061263\tbest: 1696.6061263 (885)\ttotal: 12.9s\tremaining: 1.66s\n",
      "886:\tlearn: 1706.2705009\ttest: 1696.4424138\tbest: 1696.4424138 (886)\ttotal: 12.9s\tremaining: 1.65s\n",
      "887:\tlearn: 1706.1873405\ttest: 1696.4411621\tbest: 1696.4411621 (887)\ttotal: 12.9s\tremaining: 1.63s\n",
      "888:\tlearn: 1705.9671768\ttest: 1696.3242615\tbest: 1696.3242615 (888)\ttotal: 13s\tremaining: 1.62s\n",
      "889:\tlearn: 1705.7646838\ttest: 1696.1840482\tbest: 1696.1840482 (889)\ttotal: 13s\tremaining: 1.6s\n",
      "890:\tlearn: 1705.6782078\ttest: 1696.1733910\tbest: 1696.1733910 (890)\ttotal: 13s\tremaining: 1.59s\n",
      "891:\tlearn: 1705.5348743\ttest: 1696.0321967\tbest: 1696.0321967 (891)\ttotal: 13s\tremaining: 1.57s\n",
      "892:\tlearn: 1705.4423098\ttest: 1695.9058527\tbest: 1695.9058527 (892)\ttotal: 13s\tremaining: 1.56s\n",
      "893:\tlearn: 1705.2975293\ttest: 1695.7596892\tbest: 1695.7596892 (893)\ttotal: 13s\tremaining: 1.54s\n",
      "894:\tlearn: 1705.1529169\ttest: 1695.5735101\tbest: 1695.5735101 (894)\ttotal: 13s\tremaining: 1.53s\n",
      "895:\tlearn: 1705.0427950\ttest: 1695.5369612\tbest: 1695.5369612 (895)\ttotal: 13s\tremaining: 1.51s\n",
      "896:\tlearn: 1704.9483033\ttest: 1695.4989574\tbest: 1695.4989574 (896)\ttotal: 13s\tremaining: 1.5s\n",
      "897:\tlearn: 1704.8502275\ttest: 1695.4205431\tbest: 1695.4205431 (897)\ttotal: 13.1s\tremaining: 1.48s\n",
      "898:\tlearn: 1704.7107427\ttest: 1695.2775347\tbest: 1695.2775347 (898)\ttotal: 13.1s\tremaining: 1.47s\n",
      "899:\tlearn: 1704.5618439\ttest: 1695.1512435\tbest: 1695.1512435 (899)\ttotal: 13.1s\tremaining: 1.45s\n",
      "900:\tlearn: 1704.4685298\ttest: 1695.1080801\tbest: 1695.1080801 (900)\ttotal: 13.1s\tremaining: 1.44s\n",
      "901:\tlearn: 1704.3377865\ttest: 1695.0123101\tbest: 1695.0123101 (901)\ttotal: 13.1s\tremaining: 1.43s\n",
      "902:\tlearn: 1704.2440589\ttest: 1694.9287294\tbest: 1694.9287294 (902)\ttotal: 13.1s\tremaining: 1.41s\n",
      "903:\tlearn: 1704.1428489\ttest: 1694.8322395\tbest: 1694.8322395 (903)\ttotal: 13.2s\tremaining: 1.4s\n",
      "904:\tlearn: 1704.0349159\ttest: 1694.7542246\tbest: 1694.7542246 (904)\ttotal: 13.2s\tremaining: 1.38s\n",
      "905:\tlearn: 1703.9078915\ttest: 1694.6257580\tbest: 1694.6257580 (905)\ttotal: 13.2s\tremaining: 1.37s\n",
      "906:\tlearn: 1703.7102107\ttest: 1694.4950862\tbest: 1694.4950862 (906)\ttotal: 13.2s\tremaining: 1.35s\n",
      "907:\tlearn: 1703.5367512\ttest: 1694.4048662\tbest: 1694.4048662 (907)\ttotal: 13.2s\tremaining: 1.34s\n",
      "908:\tlearn: 1703.4269342\ttest: 1694.3321087\tbest: 1694.3321087 (908)\ttotal: 13.2s\tremaining: 1.32s\n",
      "909:\tlearn: 1703.3153466\ttest: 1694.2216916\tbest: 1694.2216916 (909)\ttotal: 13.2s\tremaining: 1.31s\n",
      "910:\tlearn: 1703.1089493\ttest: 1694.1143013\tbest: 1694.1143013 (910)\ttotal: 13.2s\tremaining: 1.29s\n",
      "911:\tlearn: 1702.9668057\ttest: 1693.9635454\tbest: 1693.9635454 (911)\ttotal: 13.3s\tremaining: 1.28s\n",
      "912:\tlearn: 1702.8451812\ttest: 1693.8793686\tbest: 1693.8793686 (912)\ttotal: 13.3s\tremaining: 1.26s\n",
      "913:\tlearn: 1702.7169699\ttest: 1693.7958268\tbest: 1693.7958268 (913)\ttotal: 13.3s\tremaining: 1.25s\n",
      "914:\tlearn: 1702.5938904\ttest: 1693.7063064\tbest: 1693.7063064 (914)\ttotal: 13.3s\tremaining: 1.23s\n",
      "915:\tlearn: 1702.4062288\ttest: 1693.5792171\tbest: 1693.5792171 (915)\ttotal: 13.3s\tremaining: 1.22s\n",
      "916:\tlearn: 1702.2562367\ttest: 1693.4731504\tbest: 1693.4731504 (916)\ttotal: 13.3s\tremaining: 1.21s\n",
      "917:\tlearn: 1702.1814201\ttest: 1693.3899469\tbest: 1693.3899469 (917)\ttotal: 13.3s\tremaining: 1.19s\n",
      "918:\tlearn: 1702.0765862\ttest: 1693.3184571\tbest: 1693.3184571 (918)\ttotal: 13.3s\tremaining: 1.18s\n",
      "919:\tlearn: 1701.9993580\ttest: 1693.1962488\tbest: 1693.1962488 (919)\ttotal: 13.4s\tremaining: 1.16s\n",
      "920:\tlearn: 1701.8786144\ttest: 1693.1045064\tbest: 1693.1045064 (920)\ttotal: 13.4s\tremaining: 1.15s\n",
      "921:\tlearn: 1701.7915415\ttest: 1693.0162345\tbest: 1693.0162345 (921)\ttotal: 13.4s\tremaining: 1.13s\n",
      "922:\tlearn: 1701.6618146\ttest: 1692.9066108\tbest: 1692.9066108 (922)\ttotal: 13.4s\tremaining: 1.12s\n",
      "923:\tlearn: 1701.5648543\ttest: 1692.9111823\tbest: 1692.9066108 (922)\ttotal: 13.4s\tremaining: 1.1s\n",
      "924:\tlearn: 1701.4551646\ttest: 1692.8695742\tbest: 1692.8695742 (924)\ttotal: 13.4s\tremaining: 1.09s\n",
      "925:\tlearn: 1701.3817151\ttest: 1692.8848463\tbest: 1692.8695742 (924)\ttotal: 13.4s\tremaining: 1.07s\n",
      "926:\tlearn: 1701.2236769\ttest: 1692.7504763\tbest: 1692.7504763 (926)\ttotal: 13.4s\tremaining: 1.06s\n",
      "927:\tlearn: 1701.0697680\ttest: 1692.6750483\tbest: 1692.6750483 (927)\ttotal: 13.5s\tremaining: 1.04s\n",
      "928:\tlearn: 1700.9545634\ttest: 1692.6135558\tbest: 1692.6135558 (928)\ttotal: 13.5s\tremaining: 1.03s\n",
      "929:\tlearn: 1700.8156351\ttest: 1692.4808485\tbest: 1692.4808485 (929)\ttotal: 13.5s\tremaining: 1.01s\n",
      "930:\tlearn: 1700.7377969\ttest: 1692.4032453\tbest: 1692.4032453 (930)\ttotal: 13.5s\tremaining: 1s\n",
      "931:\tlearn: 1700.5765643\ttest: 1692.3225156\tbest: 1692.3225156 (931)\ttotal: 13.5s\tremaining: 986ms\n",
      "932:\tlearn: 1700.4676537\ttest: 1692.2988181\tbest: 1692.2988181 (932)\ttotal: 13.5s\tremaining: 971ms\n",
      "933:\tlearn: 1700.3739953\ttest: 1692.2095066\tbest: 1692.2095066 (933)\ttotal: 13.5s\tremaining: 957ms\n",
      "934:\tlearn: 1700.2585597\ttest: 1692.1260368\tbest: 1692.1260368 (934)\ttotal: 13.6s\tremaining: 943ms\n",
      "935:\tlearn: 1700.1522946\ttest: 1692.0324178\tbest: 1692.0324178 (935)\ttotal: 13.6s\tremaining: 928ms\n",
      "936:\tlearn: 1700.0538306\ttest: 1691.9797239\tbest: 1691.9797239 (936)\ttotal: 13.6s\tremaining: 913ms\n",
      "937:\tlearn: 1699.9606156\ttest: 1691.9405086\tbest: 1691.9405086 (937)\ttotal: 13.6s\tremaining: 899ms\n",
      "938:\tlearn: 1699.9251477\ttest: 1691.9246386\tbest: 1691.9246386 (938)\ttotal: 13.6s\tremaining: 884ms\n",
      "939:\tlearn: 1699.8217903\ttest: 1691.8629026\tbest: 1691.8629026 (939)\ttotal: 13.6s\tremaining: 869ms\n",
      "940:\tlearn: 1699.6857281\ttest: 1691.7223556\tbest: 1691.7223556 (940)\ttotal: 13.6s\tremaining: 855ms\n",
      "941:\tlearn: 1699.5503699\ttest: 1691.6125973\tbest: 1691.6125973 (941)\ttotal: 13.6s\tremaining: 840ms\n",
      "942:\tlearn: 1699.4021740\ttest: 1691.4483720\tbest: 1691.4483720 (942)\ttotal: 13.7s\tremaining: 825ms\n",
      "943:\tlearn: 1699.2595544\ttest: 1691.3321408\tbest: 1691.3321408 (943)\ttotal: 13.7s\tremaining: 811ms\n",
      "944:\tlearn: 1699.1504630\ttest: 1691.2534494\tbest: 1691.2534494 (944)\ttotal: 13.7s\tremaining: 796ms\n",
      "945:\tlearn: 1699.0650335\ttest: 1691.2216455\tbest: 1691.2216455 (945)\ttotal: 13.7s\tremaining: 782ms\n",
      "946:\tlearn: 1698.9481024\ttest: 1691.0875503\tbest: 1691.0875503 (946)\ttotal: 13.7s\tremaining: 767ms\n",
      "947:\tlearn: 1698.8415551\ttest: 1691.0391740\tbest: 1691.0391740 (947)\ttotal: 13.7s\tremaining: 752ms\n",
      "948:\tlearn: 1698.8077809\ttest: 1691.0150557\tbest: 1691.0150557 (948)\ttotal: 13.7s\tremaining: 738ms\n",
      "949:\tlearn: 1698.6563949\ttest: 1690.9416565\tbest: 1690.9416565 (949)\ttotal: 13.7s\tremaining: 723ms\n",
      "950:\tlearn: 1698.5733423\ttest: 1690.8671727\tbest: 1690.8671727 (950)\ttotal: 13.8s\tremaining: 709ms\n",
      "951:\tlearn: 1698.4468673\ttest: 1690.7888754\tbest: 1690.7888754 (951)\ttotal: 13.8s\tremaining: 694ms\n",
      "952:\tlearn: 1698.3534490\ttest: 1690.7339951\tbest: 1690.7339951 (952)\ttotal: 13.8s\tremaining: 680ms\n",
      "953:\tlearn: 1698.2508517\ttest: 1690.6218581\tbest: 1690.6218581 (953)\ttotal: 13.8s\tremaining: 665ms\n",
      "954:\tlearn: 1698.1799233\ttest: 1690.5867790\tbest: 1690.5867790 (954)\ttotal: 13.8s\tremaining: 651ms\n",
      "955:\tlearn: 1698.1470126\ttest: 1690.5721190\tbest: 1690.5721190 (955)\ttotal: 13.8s\tremaining: 636ms\n",
      "956:\tlearn: 1697.9572268\ttest: 1690.4767262\tbest: 1690.4767262 (956)\ttotal: 13.8s\tremaining: 622ms\n",
      "957:\tlearn: 1697.8575123\ttest: 1690.3826889\tbest: 1690.3826889 (957)\ttotal: 13.8s\tremaining: 607ms\n",
      "958:\tlearn: 1697.7381475\ttest: 1690.3016651\tbest: 1690.3016651 (958)\ttotal: 13.9s\tremaining: 592ms\n",
      "959:\tlearn: 1697.6351954\ttest: 1690.2003894\tbest: 1690.2003894 (959)\ttotal: 13.9s\tremaining: 578ms\n",
      "960:\tlearn: 1697.5038440\ttest: 1690.0657870\tbest: 1690.0657870 (960)\ttotal: 13.9s\tremaining: 563ms\n",
      "961:\tlearn: 1697.4025178\ttest: 1690.0109391\tbest: 1690.0109391 (961)\ttotal: 13.9s\tremaining: 549ms\n",
      "962:\tlearn: 1697.3256846\ttest: 1690.0047102\tbest: 1690.0047102 (962)\ttotal: 13.9s\tremaining: 534ms\n",
      "963:\tlearn: 1697.2028043\ttest: 1689.9016015\tbest: 1689.9016015 (963)\ttotal: 13.9s\tremaining: 520ms\n",
      "964:\tlearn: 1697.0753529\ttest: 1689.7919408\tbest: 1689.7919408 (964)\ttotal: 13.9s\tremaining: 506ms\n",
      "965:\tlearn: 1696.9163524\ttest: 1689.6753910\tbest: 1689.6753910 (965)\ttotal: 14s\tremaining: 491ms\n",
      "966:\tlearn: 1696.7829473\ttest: 1689.5700448\tbest: 1689.5700448 (966)\ttotal: 14s\tremaining: 477ms\n",
      "967:\tlearn: 1696.6539359\ttest: 1689.4482078\tbest: 1689.4482078 (967)\ttotal: 14s\tremaining: 462ms\n",
      "968:\tlearn: 1696.4979761\ttest: 1689.2859504\tbest: 1689.2859504 (968)\ttotal: 14s\tremaining: 448ms\n",
      "969:\tlearn: 1696.3577654\ttest: 1689.2211388\tbest: 1689.2211388 (969)\ttotal: 14s\tremaining: 434ms\n",
      "970:\tlearn: 1696.2216973\ttest: 1689.1259707\tbest: 1689.1259707 (970)\ttotal: 14s\tremaining: 419ms\n",
      "971:\tlearn: 1696.1375243\ttest: 1689.0617262\tbest: 1689.0617262 (971)\ttotal: 14s\tremaining: 404ms\n",
      "972:\tlearn: 1695.9944428\ttest: 1688.9127832\tbest: 1688.9127832 (972)\ttotal: 14.1s\tremaining: 390ms\n",
      "973:\tlearn: 1695.9089269\ttest: 1688.8484593\tbest: 1688.8484593 (973)\ttotal: 14.1s\tremaining: 376ms\n",
      "974:\tlearn: 1695.7578970\ttest: 1688.7193951\tbest: 1688.7193951 (974)\ttotal: 14.1s\tremaining: 361ms\n",
      "975:\tlearn: 1695.7008905\ttest: 1688.6478870\tbest: 1688.6478870 (975)\ttotal: 14.1s\tremaining: 347ms\n",
      "976:\tlearn: 1695.5828791\ttest: 1688.6078227\tbest: 1688.6078227 (976)\ttotal: 14.1s\tremaining: 332ms\n",
      "977:\tlearn: 1695.4898337\ttest: 1688.5441400\tbest: 1688.5441400 (977)\ttotal: 14.1s\tremaining: 318ms\n",
      "978:\tlearn: 1695.3958759\ttest: 1688.4550782\tbest: 1688.4550782 (978)\ttotal: 14.1s\tremaining: 303ms\n",
      "979:\tlearn: 1695.2674399\ttest: 1688.3677701\tbest: 1688.3677701 (979)\ttotal: 14.1s\tremaining: 289ms\n",
      "980:\tlearn: 1695.1481829\ttest: 1688.2457529\tbest: 1688.2457529 (980)\ttotal: 14.2s\tremaining: 274ms\n",
      "981:\tlearn: 1695.0311358\ttest: 1688.1880358\tbest: 1688.1880358 (981)\ttotal: 14.2s\tremaining: 260ms\n",
      "982:\tlearn: 1694.8825663\ttest: 1688.0805090\tbest: 1688.0805090 (982)\ttotal: 14.2s\tremaining: 245ms\n",
      "983:\tlearn: 1694.7850588\ttest: 1687.9841409\tbest: 1687.9841409 (983)\ttotal: 14.2s\tremaining: 231ms\n",
      "984:\tlearn: 1694.6694048\ttest: 1687.9150323\tbest: 1687.9150323 (984)\ttotal: 14.2s\tremaining: 216ms\n",
      "985:\tlearn: 1694.5362503\ttest: 1687.8235465\tbest: 1687.8235465 (985)\ttotal: 14.2s\tremaining: 202ms\n",
      "986:\tlearn: 1694.4148378\ttest: 1687.7266328\tbest: 1687.7266328 (986)\ttotal: 14.2s\tremaining: 188ms\n",
      "987:\tlearn: 1694.2982953\ttest: 1687.6570822\tbest: 1687.6570822 (987)\ttotal: 14.3s\tremaining: 173ms\n",
      "988:\tlearn: 1694.2260105\ttest: 1687.5861957\tbest: 1687.5861957 (988)\ttotal: 14.3s\tremaining: 159ms\n",
      "989:\tlearn: 1694.1019086\ttest: 1687.5024361\tbest: 1687.5024361 (989)\ttotal: 14.3s\tremaining: 144ms\n",
      "990:\tlearn: 1694.0102922\ttest: 1687.4550615\tbest: 1687.4550615 (990)\ttotal: 14.3s\tremaining: 130ms\n",
      "991:\tlearn: 1693.8795174\ttest: 1687.3385412\tbest: 1687.3385412 (991)\ttotal: 14.3s\tremaining: 115ms\n",
      "992:\tlearn: 1693.7509200\ttest: 1687.2842618\tbest: 1687.2842618 (992)\ttotal: 14.3s\tremaining: 101ms\n",
      "993:\tlearn: 1693.6557090\ttest: 1687.1550969\tbest: 1687.1550969 (993)\ttotal: 14.3s\tremaining: 86.5ms\n",
      "994:\tlearn: 1693.5472375\ttest: 1687.0806662\tbest: 1687.0806662 (994)\ttotal: 14.3s\tremaining: 72.1ms\n",
      "995:\tlearn: 1693.4353129\ttest: 1686.9700210\tbest: 1686.9700210 (995)\ttotal: 14.4s\tremaining: 57.7ms\n",
      "996:\tlearn: 1693.3485684\ttest: 1686.8799125\tbest: 1686.8799125 (996)\ttotal: 14.4s\tremaining: 43.3ms\n",
      "997:\tlearn: 1693.2767178\ttest: 1686.8674766\tbest: 1686.8674766 (997)\ttotal: 14.4s\tremaining: 28.8ms\n",
      "998:\tlearn: 1693.1822983\ttest: 1686.7635979\tbest: 1686.7635979 (998)\ttotal: 14.4s\tremaining: 14.4ms\n",
      "999:\tlearn: 1693.1141343\ttest: 1686.6753952\tbest: 1686.6753952 (999)\ttotal: 14.4s\tremaining: 0us\n",
      "\n",
      "bestTest = 1686.675395\n",
      "bestIteration = 999\n",
      "\n",
      "0:\tloss: 1686.6753952\tbest: 1686.6753952 (0)\ttotal: 14.8s\tremaining: 14.8s\n",
      "0:\tlearn: 6554.1751739\ttest: 6495.7301346\tbest: 6495.7301346 (0)\ttotal: 34.2ms\tremaining: 34.2s\n",
      "1:\tlearn: 6387.5967032\ttest: 6330.4947290\tbest: 6330.4947290 (1)\ttotal: 67.3ms\tremaining: 33.6s\n",
      "2:\tlearn: 6224.8852428\ttest: 6169.3407317\tbest: 6169.3407317 (2)\ttotal: 100ms\tremaining: 33.3s\n",
      "3:\tlearn: 6067.1049962\ttest: 6013.3245058\tbest: 6013.3245058 (3)\ttotal: 134ms\tremaining: 33.4s\n",
      "4:\tlearn: 5916.7023426\ttest: 5864.6433022\tbest: 5864.6433022 (4)\ttotal: 171ms\tremaining: 34.1s\n",
      "5:\tlearn: 5769.7818225\ttest: 5718.9884656\tbest: 5718.9884656 (5)\ttotal: 208ms\tremaining: 34.5s\n",
      "6:\tlearn: 5627.6631716\ttest: 5578.0686543\tbest: 5578.0686543 (6)\ttotal: 248ms\tremaining: 35.1s\n",
      "7:\tlearn: 5490.0754151\ttest: 5441.7682966\tbest: 5441.7682966 (7)\ttotal: 288ms\tremaining: 35.7s\n",
      "8:\tlearn: 5356.9840925\ttest: 5309.6450631\tbest: 5309.6450631 (8)\ttotal: 323ms\tremaining: 35.6s\n",
      "9:\tlearn: 5227.8378699\ttest: 5181.5611825\tbest: 5181.5611825 (9)\ttotal: 358ms\tremaining: 35.5s\n",
      "10:\tlearn: 5102.6735418\ttest: 5057.6088944\tbest: 5057.6088944 (10)\ttotal: 395ms\tremaining: 35.5s\n",
      "11:\tlearn: 4982.5277462\ttest: 4938.6034553\tbest: 4938.6034553 (11)\ttotal: 428ms\tremaining: 35.3s\n",
      "12:\tlearn: 4866.2022480\ttest: 4823.2180254\tbest: 4823.2180254 (12)\ttotal: 459ms\tremaining: 34.9s\n",
      "13:\tlearn: 4753.3593113\ttest: 4711.5025566\tbest: 4711.5025566 (13)\ttotal: 493ms\tremaining: 34.7s\n",
      "14:\tlearn: 4644.3218430\ttest: 4603.1484824\tbest: 4603.1484824 (14)\ttotal: 527ms\tremaining: 34.6s\n",
      "15:\tlearn: 4539.4592743\ttest: 4498.6402026\tbest: 4498.6402026 (15)\ttotal: 562ms\tremaining: 34.5s\n",
      "16:\tlearn: 4438.4104314\ttest: 4398.5255131\tbest: 4398.5255131 (16)\ttotal: 603ms\tremaining: 34.8s\n",
      "17:\tlearn: 4341.2045796\ttest: 4302.0192564\tbest: 4302.0192564 (17)\ttotal: 638ms\tremaining: 34.8s\n",
      "18:\tlearn: 4247.5847330\ttest: 4209.3132364\tbest: 4209.3132364 (18)\ttotal: 672ms\tremaining: 34.7s\n",
      "19:\tlearn: 4157.4064788\ttest: 4119.7065913\tbest: 4119.7065913 (19)\ttotal: 705ms\tremaining: 34.5s\n",
      "20:\tlearn: 4068.7269630\ttest: 4032.0697264\tbest: 4032.0697264 (20)\ttotal: 737ms\tremaining: 34.4s\n",
      "21:\tlearn: 3984.5163602\ttest: 3948.6274510\tbest: 3948.6274510 (21)\ttotal: 779ms\tremaining: 34.6s\n",
      "22:\tlearn: 3902.3051965\ttest: 3867.1424687\tbest: 3867.1424687 (22)\ttotal: 812ms\tremaining: 34.5s\n",
      "23:\tlearn: 3823.3187088\ttest: 3789.0219909\tbest: 3789.0219909 (23)\ttotal: 872ms\tremaining: 35.5s\n",
      "24:\tlearn: 3748.1840230\ttest: 3714.4864564\tbest: 3714.4864564 (24)\ttotal: 933ms\tremaining: 36.4s\n",
      "25:\tlearn: 3674.6448272\ttest: 3641.3812880\tbest: 3641.3812880 (25)\ttotal: 973ms\tremaining: 36.5s\n",
      "26:\tlearn: 3603.8117955\ttest: 3571.3038056\tbest: 3571.3038056 (26)\ttotal: 1.01s\tremaining: 36.3s\n",
      "27:\tlearn: 3534.7417774\ttest: 3502.6738686\tbest: 3502.6738686 (27)\ttotal: 1.04s\tremaining: 36.2s\n",
      "28:\tlearn: 3469.2308355\ttest: 3437.7768614\tbest: 3437.7768614 (28)\ttotal: 1.08s\tremaining: 36.1s\n",
      "29:\tlearn: 3404.8633405\ttest: 3374.2580538\tbest: 3374.2580538 (29)\ttotal: 1.11s\tremaining: 36s\n",
      "30:\tlearn: 3343.8095400\ttest: 3313.8927148\tbest: 3313.8927148 (30)\ttotal: 1.15s\tremaining: 35.9s\n",
      "31:\tlearn: 3284.9563253\ttest: 3255.2625066\tbest: 3255.2625066 (31)\ttotal: 1.18s\tremaining: 35.7s\n",
      "32:\tlearn: 3227.3999260\ttest: 3197.9505876\tbest: 3197.9505876 (32)\ttotal: 1.22s\tremaining: 35.6s\n",
      "33:\tlearn: 3174.4651322\ttest: 3145.3253178\tbest: 3145.3253178 (33)\ttotal: 1.25s\tremaining: 35.6s\n",
      "34:\tlearn: 3120.0096243\ttest: 3091.4243057\tbest: 3091.4243057 (34)\ttotal: 1.29s\tremaining: 35.6s\n",
      "35:\tlearn: 3069.8183216\ttest: 3041.5871755\tbest: 3041.5871755 (35)\ttotal: 1.33s\tremaining: 35.5s\n",
      "36:\tlearn: 3022.1676546\ttest: 2994.3371073\tbest: 2994.3371073 (36)\ttotal: 1.36s\tremaining: 35.5s\n",
      "37:\tlearn: 2974.4150949\ttest: 2946.6424757\tbest: 2946.6424757 (37)\ttotal: 1.4s\tremaining: 35.5s\n",
      "38:\tlearn: 2928.0488802\ttest: 2900.5082063\tbest: 2900.5082063 (38)\ttotal: 1.44s\tremaining: 35.5s\n",
      "39:\tlearn: 2883.3930844\ttest: 2856.3534466\tbest: 2856.3534466 (39)\ttotal: 1.48s\tremaining: 35.5s\n",
      "40:\tlearn: 2842.0329366\ttest: 2815.3124629\tbest: 2815.3124629 (40)\ttotal: 1.52s\tremaining: 35.6s\n",
      "41:\tlearn: 2801.6171345\ttest: 2775.0702504\tbest: 2775.0702504 (41)\ttotal: 1.55s\tremaining: 35.4s\n",
      "42:\tlearn: 2762.6132286\ttest: 2736.0114804\tbest: 2736.0114804 (42)\ttotal: 1.59s\tremaining: 35.3s\n",
      "43:\tlearn: 2725.2844808\ttest: 2698.6876110\tbest: 2698.6876110 (43)\ttotal: 1.62s\tremaining: 35.3s\n",
      "44:\tlearn: 2689.5894132\ttest: 2663.1175150\tbest: 2663.1175150 (44)\ttotal: 1.67s\tremaining: 35.5s\n",
      "45:\tlearn: 2655.5397655\ttest: 2629.3261580\tbest: 2629.3261580 (45)\ttotal: 1.71s\tremaining: 35.4s\n",
      "46:\tlearn: 2623.0378745\ttest: 2596.9694550\tbest: 2596.9694550 (46)\ttotal: 1.74s\tremaining: 35.3s\n",
      "47:\tlearn: 2590.8220121\ttest: 2565.0570491\tbest: 2565.0570491 (47)\ttotal: 1.77s\tremaining: 35.2s\n",
      "48:\tlearn: 2560.2533562\ttest: 2534.4249921\tbest: 2534.4249921 (48)\ttotal: 1.81s\tremaining: 35.1s\n",
      "49:\tlearn: 2530.6150075\ttest: 2504.5772167\tbest: 2504.5772167 (49)\ttotal: 1.85s\tremaining: 35.1s\n",
      "50:\tlearn: 2502.9902004\ttest: 2476.9941178\tbest: 2476.9941178 (50)\ttotal: 1.88s\tremaining: 35s\n",
      "51:\tlearn: 2475.9572741\ttest: 2449.8745873\tbest: 2449.8745873 (51)\ttotal: 1.91s\tremaining: 34.9s\n",
      "52:\tlearn: 2450.5113124\ttest: 2424.4169570\tbest: 2424.4169570 (52)\ttotal: 1.95s\tremaining: 34.8s\n",
      "53:\tlearn: 2426.2166020\ttest: 2400.1692497\tbest: 2400.1692497 (53)\ttotal: 1.98s\tremaining: 34.8s\n",
      "54:\tlearn: 2401.7066723\ttest: 2375.8030450\tbest: 2375.8030450 (54)\ttotal: 2.02s\tremaining: 34.7s\n",
      "55:\tlearn: 2379.0109674\ttest: 2353.3640194\tbest: 2353.3640194 (55)\ttotal: 2.05s\tremaining: 34.6s\n",
      "56:\tlearn: 2357.5159011\ttest: 2331.9469941\tbest: 2331.9469941 (56)\ttotal: 2.09s\tremaining: 34.5s\n",
      "57:\tlearn: 2336.0957686\ttest: 2310.4862644\tbest: 2310.4862644 (57)\ttotal: 2.12s\tremaining: 34.5s\n",
      "58:\tlearn: 2315.8778696\ttest: 2290.2369368\tbest: 2290.2369368 (58)\ttotal: 2.15s\tremaining: 34.4s\n",
      "59:\tlearn: 2296.8840841\ttest: 2271.2209316\tbest: 2271.2209316 (59)\ttotal: 2.19s\tremaining: 34.3s\n",
      "60:\tlearn: 2278.6485962\ttest: 2252.8776981\tbest: 2252.8776981 (60)\ttotal: 2.22s\tremaining: 34.2s\n",
      "61:\tlearn: 2260.8792894\ttest: 2235.1129187\tbest: 2235.1129187 (61)\ttotal: 2.26s\tremaining: 34.2s\n",
      "62:\tlearn: 2244.2905011\ttest: 2218.5704163\tbest: 2218.5704163 (62)\ttotal: 2.29s\tremaining: 34s\n",
      "63:\tlearn: 2228.2184079\ttest: 2202.4086395\tbest: 2202.4086395 (63)\ttotal: 2.32s\tremaining: 33.9s\n",
      "64:\tlearn: 2213.0763541\ttest: 2187.3565263\tbest: 2187.3565263 (64)\ttotal: 2.35s\tremaining: 33.8s\n",
      "65:\tlearn: 2198.2957652\ttest: 2172.4520281\tbest: 2172.4520281 (65)\ttotal: 2.39s\tremaining: 33.8s\n",
      "66:\tlearn: 2184.4650422\ttest: 2158.7209187\tbest: 2158.7209187 (66)\ttotal: 2.42s\tremaining: 33.7s\n",
      "67:\tlearn: 2168.9651049\ttest: 2143.3283675\tbest: 2143.3283675 (67)\ttotal: 2.47s\tremaining: 33.8s\n",
      "68:\tlearn: 2155.7355423\ttest: 2129.9976446\tbest: 2129.9976446 (68)\ttotal: 2.51s\tremaining: 33.8s\n",
      "69:\tlearn: 2143.0141052\ttest: 2117.2300630\tbest: 2117.2300630 (69)\ttotal: 2.54s\tremaining: 33.7s\n",
      "70:\tlearn: 2131.2950811\ttest: 2105.5873169\tbest: 2105.5873169 (70)\ttotal: 2.57s\tremaining: 33.7s\n",
      "71:\tlearn: 2119.0423830\ttest: 2093.6229430\tbest: 2093.6229430 (71)\ttotal: 2.61s\tremaining: 33.6s\n",
      "72:\tlearn: 2109.0710827\ttest: 2083.6753702\tbest: 2083.6753702 (72)\ttotal: 2.64s\tremaining: 33.5s\n",
      "73:\tlearn: 2098.5442823\ttest: 2073.3486558\tbest: 2073.3486558 (73)\ttotal: 2.67s\tremaining: 33.5s\n",
      "74:\tlearn: 2087.1719568\ttest: 2062.0130386\tbest: 2062.0130386 (74)\ttotal: 2.71s\tremaining: 33.5s\n",
      "75:\tlearn: 2076.4159990\ttest: 2051.2077533\tbest: 2051.2077533 (75)\ttotal: 2.75s\tremaining: 33.4s\n",
      "76:\tlearn: 2066.7723871\ttest: 2041.7197175\tbest: 2041.7197175 (76)\ttotal: 2.78s\tremaining: 33.3s\n",
      "77:\tlearn: 2055.7601579\ttest: 2030.9410824\tbest: 2030.9410824 (77)\ttotal: 2.81s\tremaining: 33.3s\n",
      "78:\tlearn: 2044.4022751\ttest: 2019.5762320\tbest: 2019.5762320 (78)\ttotal: 2.85s\tremaining: 33.2s\n",
      "79:\tlearn: 2035.3794888\ttest: 2010.5918619\tbest: 2010.5918619 (79)\ttotal: 2.88s\tremaining: 33.2s\n",
      "80:\tlearn: 2027.2394774\ttest: 2002.4559101\tbest: 2002.4559101 (80)\ttotal: 2.92s\tremaining: 33.1s\n",
      "81:\tlearn: 2019.9624117\ttest: 1995.2193720\tbest: 1995.2193720 (81)\ttotal: 2.95s\tremaining: 33.1s\n",
      "82:\tlearn: 2011.6640041\ttest: 1987.0959983\tbest: 1987.0959983 (82)\ttotal: 2.99s\tremaining: 33s\n",
      "83:\tlearn: 2004.7868499\ttest: 1980.3048474\tbest: 1980.3048474 (83)\ttotal: 3.02s\tremaining: 32.9s\n",
      "84:\tlearn: 1997.7234476\ttest: 1973.2493862\tbest: 1973.2493862 (84)\ttotal: 3.05s\tremaining: 32.8s\n",
      "85:\tlearn: 1990.4166233\ttest: 1965.9794402\tbest: 1965.9794402 (85)\ttotal: 3.09s\tremaining: 32.8s\n",
      "86:\tlearn: 1982.6683621\ttest: 1958.3000296\tbest: 1958.3000296 (86)\ttotal: 3.13s\tremaining: 32.8s\n",
      "87:\tlearn: 1975.0776099\ttest: 1950.9919341\tbest: 1950.9919341 (87)\ttotal: 3.16s\tremaining: 32.8s\n",
      "88:\tlearn: 1969.2903109\ttest: 1945.3084239\tbest: 1945.3084239 (88)\ttotal: 3.19s\tremaining: 32.7s\n",
      "89:\tlearn: 1962.5025067\ttest: 1938.5823027\tbest: 1938.5823027 (89)\ttotal: 3.23s\tremaining: 32.6s\n",
      "90:\tlearn: 1956.3374483\ttest: 1932.8474085\tbest: 1932.8474085 (90)\ttotal: 3.26s\tremaining: 32.6s\n",
      "91:\tlearn: 1950.4483736\ttest: 1927.1031630\tbest: 1927.1031630 (91)\ttotal: 3.29s\tremaining: 32.5s\n",
      "92:\tlearn: 1944.3440692\ttest: 1921.0566077\tbest: 1921.0566077 (92)\ttotal: 3.33s\tremaining: 32.4s\n",
      "93:\tlearn: 1938.6442492\ttest: 1915.5785194\tbest: 1915.5785194 (93)\ttotal: 3.36s\tremaining: 32.4s\n",
      "94:\tlearn: 1933.3360451\ttest: 1910.4133307\tbest: 1910.4133307 (94)\ttotal: 3.4s\tremaining: 32.3s\n",
      "95:\tlearn: 1927.6977925\ttest: 1904.7750502\tbest: 1904.7750502 (95)\ttotal: 3.43s\tremaining: 32.3s\n",
      "96:\tlearn: 1922.9712325\ttest: 1899.9699375\tbest: 1899.9699375 (96)\ttotal: 3.46s\tremaining: 32.3s\n",
      "97:\tlearn: 1918.3001956\ttest: 1895.4629620\tbest: 1895.4629620 (97)\ttotal: 3.5s\tremaining: 32.2s\n",
      "98:\tlearn: 1913.5701543\ttest: 1890.7644114\tbest: 1890.7644114 (98)\ttotal: 3.54s\tremaining: 32.2s\n",
      "99:\tlearn: 1909.5671828\ttest: 1886.9766403\tbest: 1886.9766403 (99)\ttotal: 3.57s\tremaining: 32.1s\n",
      "100:\tlearn: 1905.3011178\ttest: 1882.6746438\tbest: 1882.6746438 (100)\ttotal: 3.61s\tremaining: 32.1s\n",
      "101:\tlearn: 1900.7082388\ttest: 1877.9648172\tbest: 1877.9648172 (101)\ttotal: 3.64s\tremaining: 32.1s\n",
      "102:\tlearn: 1896.0430920\ttest: 1873.3323959\tbest: 1873.3323959 (102)\ttotal: 3.68s\tremaining: 32s\n",
      "103:\tlearn: 1892.3738392\ttest: 1869.8555520\tbest: 1869.8555520 (103)\ttotal: 3.71s\tremaining: 32s\n",
      "104:\tlearn: 1888.4919494\ttest: 1866.1997901\tbest: 1866.1997901 (104)\ttotal: 3.75s\tremaining: 31.9s\n",
      "105:\tlearn: 1884.1381050\ttest: 1862.0009205\tbest: 1862.0009205 (105)\ttotal: 3.78s\tremaining: 31.9s\n",
      "106:\tlearn: 1880.1798683\ttest: 1858.0753643\tbest: 1858.0753643 (106)\ttotal: 3.81s\tremaining: 31.8s\n",
      "107:\tlearn: 1876.7822121\ttest: 1854.8256880\tbest: 1854.8256880 (107)\ttotal: 3.85s\tremaining: 31.8s\n",
      "108:\tlearn: 1873.2102325\ttest: 1851.3138211\tbest: 1851.3138211 (108)\ttotal: 3.88s\tremaining: 31.7s\n",
      "109:\tlearn: 1869.5310753\ttest: 1847.7310694\tbest: 1847.7310694 (109)\ttotal: 3.92s\tremaining: 31.7s\n",
      "110:\tlearn: 1866.3129989\ttest: 1844.4438202\tbest: 1844.4438202 (110)\ttotal: 3.95s\tremaining: 31.7s\n",
      "111:\tlearn: 1862.9197785\ttest: 1841.2346245\tbest: 1841.2346245 (111)\ttotal: 3.99s\tremaining: 31.6s\n",
      "112:\tlearn: 1860.0464763\ttest: 1838.4566514\tbest: 1838.4566514 (112)\ttotal: 4.02s\tremaining: 31.6s\n",
      "113:\tlearn: 1856.7154003\ttest: 1835.3517164\tbest: 1835.3517164 (113)\ttotal: 4.05s\tremaining: 31.5s\n",
      "114:\tlearn: 1853.9021623\ttest: 1832.8148676\tbest: 1832.8148676 (114)\ttotal: 4.09s\tremaining: 31.5s\n",
      "115:\tlearn: 1851.3230027\ttest: 1830.3380534\tbest: 1830.3380534 (115)\ttotal: 4.12s\tremaining: 31.4s\n",
      "116:\tlearn: 1849.0147540\ttest: 1828.1941107\tbest: 1828.1941107 (116)\ttotal: 4.16s\tremaining: 31.4s\n",
      "117:\tlearn: 1846.1380012\ttest: 1825.4610821\tbest: 1825.4610821 (117)\ttotal: 4.19s\tremaining: 31.3s\n",
      "118:\tlearn: 1843.7211649\ttest: 1823.1143038\tbest: 1823.1143038 (118)\ttotal: 4.22s\tremaining: 31.3s\n",
      "119:\tlearn: 1841.4801832\ttest: 1820.9275796\tbest: 1820.9275796 (119)\ttotal: 4.26s\tremaining: 31.2s\n",
      "120:\tlearn: 1838.6633683\ttest: 1818.3520474\tbest: 1818.3520474 (120)\ttotal: 4.29s\tremaining: 31.2s\n",
      "121:\tlearn: 1836.0598355\ttest: 1816.0101852\tbest: 1816.0101852 (121)\ttotal: 4.33s\tremaining: 31.1s\n",
      "122:\tlearn: 1833.8788584\ttest: 1813.9082107\tbest: 1813.9082107 (122)\ttotal: 4.36s\tremaining: 31.1s\n",
      "123:\tlearn: 1830.9817321\ttest: 1811.1395466\tbest: 1811.1395466 (123)\ttotal: 4.39s\tremaining: 31s\n",
      "124:\tlearn: 1828.4110859\ttest: 1808.8592479\tbest: 1808.8592479 (124)\ttotal: 4.42s\tremaining: 31s\n",
      "125:\tlearn: 1826.1872898\ttest: 1806.7627833\tbest: 1806.7627833 (125)\ttotal: 4.46s\tremaining: 30.9s\n",
      "126:\tlearn: 1823.5382235\ttest: 1804.3480516\tbest: 1804.3480516 (126)\ttotal: 4.5s\tremaining: 30.9s\n",
      "127:\tlearn: 1821.3585903\ttest: 1802.1736976\tbest: 1802.1736976 (127)\ttotal: 4.53s\tremaining: 30.9s\n",
      "128:\tlearn: 1818.6998852\ttest: 1799.5114626\tbest: 1799.5114626 (128)\ttotal: 4.57s\tremaining: 30.8s\n",
      "129:\tlearn: 1816.5209410\ttest: 1797.3689747\tbest: 1797.3689747 (129)\ttotal: 4.6s\tremaining: 30.8s\n",
      "130:\tlearn: 1814.2776521\ttest: 1795.4537913\tbest: 1795.4537913 (130)\ttotal: 4.63s\tremaining: 30.7s\n",
      "131:\tlearn: 1812.3185643\ttest: 1793.5634339\tbest: 1793.5634339 (131)\ttotal: 4.66s\tremaining: 30.7s\n",
      "132:\tlearn: 1809.8681407\ttest: 1791.3114746\tbest: 1791.3114746 (132)\ttotal: 4.7s\tremaining: 30.6s\n",
      "133:\tlearn: 1808.2705148\ttest: 1789.8851483\tbest: 1789.8851483 (133)\ttotal: 4.74s\tremaining: 30.6s\n",
      "134:\tlearn: 1806.4560721\ttest: 1788.0791789\tbest: 1788.0791789 (134)\ttotal: 4.77s\tremaining: 30.6s\n",
      "135:\tlearn: 1805.0422801\ttest: 1786.8416684\tbest: 1786.8416684 (135)\ttotal: 4.81s\tremaining: 30.5s\n",
      "136:\tlearn: 1803.1925063\ttest: 1785.1431855\tbest: 1785.1431855 (136)\ttotal: 4.84s\tremaining: 30.5s\n",
      "137:\tlearn: 1801.4459413\ttest: 1783.7006722\tbest: 1783.7006722 (137)\ttotal: 4.88s\tremaining: 30.5s\n",
      "138:\tlearn: 1799.4544533\ttest: 1781.9679946\tbest: 1781.9679946 (138)\ttotal: 4.91s\tremaining: 30.4s\n",
      "139:\tlearn: 1797.6004834\ttest: 1780.4111480\tbest: 1780.4111480 (139)\ttotal: 4.94s\tremaining: 30.4s\n",
      "140:\tlearn: 1796.4748027\ttest: 1779.4728599\tbest: 1779.4728599 (140)\ttotal: 4.98s\tremaining: 30.4s\n",
      "141:\tlearn: 1794.2753748\ttest: 1777.5761067\tbest: 1777.5761067 (141)\ttotal: 5.02s\tremaining: 30.3s\n",
      "142:\tlearn: 1792.1064429\ttest: 1775.7459184\tbest: 1775.7459184 (142)\ttotal: 5.05s\tremaining: 30.3s\n",
      "143:\tlearn: 1790.3588274\ttest: 1774.2411409\tbest: 1774.2411409 (143)\ttotal: 5.08s\tremaining: 30.2s\n",
      "144:\tlearn: 1788.2888514\ttest: 1772.4550330\tbest: 1772.4550330 (144)\ttotal: 5.12s\tremaining: 30.2s\n",
      "145:\tlearn: 1787.0836731\ttest: 1771.4335421\tbest: 1771.4335421 (145)\ttotal: 5.17s\tremaining: 30.2s\n",
      "146:\tlearn: 1786.0236677\ttest: 1770.6296709\tbest: 1770.6296709 (146)\ttotal: 5.24s\tremaining: 30.4s\n",
      "147:\tlearn: 1784.7685141\ttest: 1769.5878605\tbest: 1769.5878605 (147)\ttotal: 5.28s\tremaining: 30.4s\n",
      "148:\tlearn: 1783.2738556\ttest: 1768.3727933\tbest: 1768.3727933 (148)\ttotal: 5.31s\tremaining: 30.4s\n",
      "149:\tlearn: 1781.7679415\ttest: 1766.9883525\tbest: 1766.9883525 (149)\ttotal: 5.35s\tremaining: 30.3s\n",
      "150:\tlearn: 1780.3402308\ttest: 1765.8817901\tbest: 1765.8817901 (150)\ttotal: 5.39s\tremaining: 30.3s\n",
      "151:\tlearn: 1779.0620049\ttest: 1764.8392668\tbest: 1764.8392668 (151)\ttotal: 5.42s\tremaining: 30.2s\n",
      "152:\tlearn: 1777.8740388\ttest: 1763.7666481\tbest: 1763.7666481 (152)\ttotal: 5.45s\tremaining: 30.2s\n",
      "153:\tlearn: 1776.2428469\ttest: 1762.2396723\tbest: 1762.2396723 (153)\ttotal: 5.49s\tremaining: 30.1s\n",
      "154:\tlearn: 1774.6163752\ttest: 1760.7982426\tbest: 1760.7982426 (154)\ttotal: 5.52s\tremaining: 30.1s\n",
      "155:\tlearn: 1773.0775939\ttest: 1759.6352933\tbest: 1759.6352933 (155)\ttotal: 5.55s\tremaining: 30s\n",
      "156:\tlearn: 1771.6155797\ttest: 1758.3283636\tbest: 1758.3283636 (156)\ttotal: 5.58s\tremaining: 30s\n",
      "157:\tlearn: 1770.2740351\ttest: 1756.8076824\tbest: 1756.8076824 (157)\ttotal: 5.62s\tremaining: 30s\n",
      "158:\tlearn: 1769.2949554\ttest: 1756.0356276\tbest: 1756.0356276 (158)\ttotal: 5.66s\tremaining: 29.9s\n",
      "159:\tlearn: 1767.9996427\ttest: 1754.8883475\tbest: 1754.8883475 (159)\ttotal: 5.69s\tremaining: 29.9s\n",
      "160:\tlearn: 1767.1305936\ttest: 1754.1039341\tbest: 1754.1039341 (160)\ttotal: 5.72s\tremaining: 29.8s\n",
      "161:\tlearn: 1766.2245711\ttest: 1753.4148377\tbest: 1753.4148377 (161)\ttotal: 5.76s\tremaining: 29.8s\n",
      "162:\tlearn: 1764.6519979\ttest: 1752.0626711\tbest: 1752.0626711 (162)\ttotal: 5.79s\tremaining: 29.8s\n",
      "163:\tlearn: 1763.5502296\ttest: 1751.1220794\tbest: 1751.1220794 (163)\ttotal: 5.83s\tremaining: 29.7s\n",
      "164:\tlearn: 1762.6523095\ttest: 1750.3158728\tbest: 1750.3158728 (164)\ttotal: 5.87s\tremaining: 29.7s\n",
      "165:\tlearn: 1761.1014668\ttest: 1748.8565016\tbest: 1748.8565016 (165)\ttotal: 5.9s\tremaining: 29.6s\n",
      "166:\tlearn: 1760.2350111\ttest: 1748.1539198\tbest: 1748.1539198 (166)\ttotal: 5.93s\tremaining: 29.6s\n",
      "167:\tlearn: 1759.0560966\ttest: 1747.0873160\tbest: 1747.0873160 (167)\ttotal: 5.97s\tremaining: 29.6s\n",
      "168:\tlearn: 1758.1531723\ttest: 1746.4147989\tbest: 1746.4147989 (168)\ttotal: 6.01s\tremaining: 29.5s\n",
      "169:\tlearn: 1757.1761851\ttest: 1745.6345650\tbest: 1745.6345650 (169)\ttotal: 6.04s\tremaining: 29.5s\n",
      "170:\tlearn: 1756.2431240\ttest: 1744.7343327\tbest: 1744.7343327 (170)\ttotal: 6.08s\tremaining: 29.5s\n",
      "171:\tlearn: 1755.1317993\ttest: 1743.7857737\tbest: 1743.7857737 (171)\ttotal: 6.11s\tremaining: 29.4s\n",
      "172:\tlearn: 1754.0732472\ttest: 1742.9179492\tbest: 1742.9179492 (172)\ttotal: 6.15s\tremaining: 29.4s\n",
      "173:\tlearn: 1753.0218085\ttest: 1742.0260813\tbest: 1742.0260813 (173)\ttotal: 6.18s\tremaining: 29.3s\n",
      "174:\tlearn: 1752.1773870\ttest: 1741.3761177\tbest: 1741.3761177 (174)\ttotal: 6.22s\tremaining: 29.3s\n",
      "175:\tlearn: 1751.0806035\ttest: 1740.5185808\tbest: 1740.5185808 (175)\ttotal: 6.25s\tremaining: 29.3s\n",
      "176:\tlearn: 1750.3234554\ttest: 1739.8388601\tbest: 1739.8388601 (176)\ttotal: 6.28s\tremaining: 29.2s\n",
      "177:\tlearn: 1749.2640643\ttest: 1738.9085683\tbest: 1738.9085683 (177)\ttotal: 6.32s\tremaining: 29.2s\n",
      "178:\tlearn: 1748.4393656\ttest: 1738.2527218\tbest: 1738.2527218 (178)\ttotal: 6.35s\tremaining: 29.1s\n",
      "179:\tlearn: 1747.2126634\ttest: 1737.3601470\tbest: 1737.3601470 (179)\ttotal: 6.38s\tremaining: 29.1s\n",
      "180:\tlearn: 1745.9913556\ttest: 1736.2836551\tbest: 1736.2836551 (180)\ttotal: 6.42s\tremaining: 29s\n",
      "181:\tlearn: 1744.6623096\ttest: 1735.1125236\tbest: 1735.1125236 (181)\ttotal: 6.45s\tremaining: 29s\n",
      "182:\tlearn: 1743.6027879\ttest: 1734.2833754\tbest: 1734.2833754 (182)\ttotal: 6.49s\tremaining: 29s\n",
      "183:\tlearn: 1742.5891620\ttest: 1733.4125477\tbest: 1733.4125477 (183)\ttotal: 6.53s\tremaining: 28.9s\n",
      "184:\tlearn: 1741.4259793\ttest: 1732.4415761\tbest: 1732.4415761 (184)\ttotal: 6.56s\tremaining: 28.9s\n",
      "185:\tlearn: 1740.3271350\ttest: 1731.5421234\tbest: 1731.5421234 (185)\ttotal: 6.6s\tremaining: 28.9s\n",
      "186:\tlearn: 1739.2166706\ttest: 1730.6781041\tbest: 1730.6781041 (186)\ttotal: 6.63s\tremaining: 28.8s\n",
      "187:\tlearn: 1738.2118897\ttest: 1729.8125023\tbest: 1729.8125023 (187)\ttotal: 6.66s\tremaining: 28.8s\n",
      "188:\tlearn: 1737.1217371\ttest: 1728.7574718\tbest: 1728.7574718 (188)\ttotal: 6.69s\tremaining: 28.7s\n",
      "189:\tlearn: 1736.1539900\ttest: 1727.8950060\tbest: 1727.8950060 (189)\ttotal: 6.74s\tremaining: 28.7s\n",
      "190:\tlearn: 1734.7856805\ttest: 1726.7500671\tbest: 1726.7500671 (190)\ttotal: 6.78s\tremaining: 28.7s\n",
      "191:\tlearn: 1733.8346135\ttest: 1725.9830772\tbest: 1725.9830772 (191)\ttotal: 6.82s\tremaining: 28.7s\n",
      "192:\tlearn: 1732.6945518\ttest: 1725.0879319\tbest: 1725.0879319 (192)\ttotal: 6.85s\tremaining: 28.6s\n",
      "193:\tlearn: 1731.8530763\ttest: 1724.4251935\tbest: 1724.4251935 (193)\ttotal: 6.88s\tremaining: 28.6s\n",
      "194:\tlearn: 1731.0635092\ttest: 1723.8508314\tbest: 1723.8508314 (194)\ttotal: 6.92s\tremaining: 28.6s\n",
      "195:\tlearn: 1730.2453081\ttest: 1723.1472178\tbest: 1723.1472178 (195)\ttotal: 6.95s\tremaining: 28.5s\n",
      "196:\tlearn: 1729.5786892\ttest: 1722.4723024\tbest: 1722.4723024 (196)\ttotal: 6.99s\tremaining: 28.5s\n",
      "197:\tlearn: 1728.7727805\ttest: 1721.7861025\tbest: 1721.7861025 (197)\ttotal: 7.03s\tremaining: 28.5s\n",
      "198:\tlearn: 1727.8477916\ttest: 1720.9497012\tbest: 1720.9497012 (198)\ttotal: 7.06s\tremaining: 28.4s\n",
      "199:\tlearn: 1726.8758494\ttest: 1720.1203488\tbest: 1720.1203488 (199)\ttotal: 7.1s\tremaining: 28.4s\n",
      "200:\tlearn: 1726.1691892\ttest: 1719.5020711\tbest: 1719.5020711 (200)\ttotal: 7.13s\tremaining: 28.3s\n",
      "201:\tlearn: 1725.6345807\ttest: 1719.0999469\tbest: 1719.0999469 (201)\ttotal: 7.17s\tremaining: 28.3s\n",
      "202:\tlearn: 1725.2211784\ttest: 1718.7436848\tbest: 1718.7436848 (202)\ttotal: 7.2s\tremaining: 28.3s\n",
      "203:\tlearn: 1724.6126656\ttest: 1718.2091520\tbest: 1718.2091520 (203)\ttotal: 7.23s\tremaining: 28.2s\n",
      "204:\tlearn: 1723.7646264\ttest: 1717.5157384\tbest: 1717.5157384 (204)\ttotal: 7.27s\tremaining: 28.2s\n",
      "205:\tlearn: 1723.0120249\ttest: 1717.0188567\tbest: 1717.0188567 (205)\ttotal: 7.3s\tremaining: 28.1s\n",
      "206:\tlearn: 1722.3681362\ttest: 1716.4503021\tbest: 1716.4503021 (206)\ttotal: 7.34s\tremaining: 28.1s\n",
      "207:\tlearn: 1721.5477839\ttest: 1715.7491688\tbest: 1715.7491688 (207)\ttotal: 7.38s\tremaining: 28.1s\n",
      "208:\tlearn: 1720.8922838\ttest: 1715.1844328\tbest: 1715.1844328 (208)\ttotal: 7.41s\tremaining: 28s\n",
      "209:\tlearn: 1720.1711769\ttest: 1714.5770576\tbest: 1714.5770576 (209)\ttotal: 7.44s\tremaining: 28s\n",
      "210:\tlearn: 1719.5558085\ttest: 1714.0142158\tbest: 1714.0142158 (210)\ttotal: 7.48s\tremaining: 28s\n",
      "211:\tlearn: 1718.8025822\ttest: 1713.3144499\tbest: 1713.3144499 (211)\ttotal: 7.51s\tremaining: 27.9s\n",
      "212:\tlearn: 1717.6497566\ttest: 1712.2180177\tbest: 1712.2180177 (212)\ttotal: 7.54s\tremaining: 27.9s\n",
      "213:\tlearn: 1716.8471472\ttest: 1711.5974406\tbest: 1711.5974406 (213)\ttotal: 7.58s\tremaining: 27.8s\n",
      "214:\tlearn: 1716.0878595\ttest: 1710.9101816\tbest: 1710.9101816 (214)\ttotal: 7.61s\tremaining: 27.8s\n",
      "215:\tlearn: 1715.3229340\ttest: 1710.3495074\tbest: 1710.3495074 (215)\ttotal: 7.65s\tremaining: 27.8s\n",
      "216:\tlearn: 1714.6887239\ttest: 1709.8077411\tbest: 1709.8077411 (216)\ttotal: 7.68s\tremaining: 27.7s\n",
      "217:\tlearn: 1713.7206758\ttest: 1709.0205176\tbest: 1709.0205176 (217)\ttotal: 7.71s\tremaining: 27.7s\n",
      "218:\tlearn: 1712.9971661\ttest: 1708.5827222\tbest: 1708.5827222 (218)\ttotal: 7.74s\tremaining: 27.6s\n",
      "219:\tlearn: 1712.3710397\ttest: 1708.0171523\tbest: 1708.0171523 (219)\ttotal: 7.78s\tremaining: 27.6s\n",
      "220:\tlearn: 1711.5519587\ttest: 1707.3088037\tbest: 1707.3088037 (220)\ttotal: 7.81s\tremaining: 27.5s\n",
      "221:\tlearn: 1710.6761473\ttest: 1706.4973273\tbest: 1706.4973273 (221)\ttotal: 7.85s\tremaining: 27.5s\n",
      "222:\tlearn: 1709.8302850\ttest: 1705.9184287\tbest: 1705.9184287 (222)\ttotal: 7.89s\tremaining: 27.5s\n",
      "223:\tlearn: 1709.1039103\ttest: 1705.3452459\tbest: 1705.3452459 (223)\ttotal: 7.92s\tremaining: 27.4s\n",
      "224:\tlearn: 1708.1890371\ttest: 1704.5988396\tbest: 1704.5988396 (224)\ttotal: 7.95s\tremaining: 27.4s\n",
      "225:\tlearn: 1707.4997677\ttest: 1704.0129047\tbest: 1704.0129047 (225)\ttotal: 7.99s\tremaining: 27.4s\n",
      "226:\tlearn: 1706.5126713\ttest: 1703.1545751\tbest: 1703.1545751 (226)\ttotal: 8.03s\tremaining: 27.3s\n",
      "227:\tlearn: 1705.8823044\ttest: 1702.5867354\tbest: 1702.5867354 (227)\ttotal: 8.06s\tremaining: 27.3s\n",
      "228:\tlearn: 1705.1154594\ttest: 1701.9152620\tbest: 1701.9152620 (228)\ttotal: 8.1s\tremaining: 27.3s\n",
      "229:\tlearn: 1704.4662445\ttest: 1701.3995216\tbest: 1701.3995216 (229)\ttotal: 8.14s\tremaining: 27.2s\n",
      "230:\tlearn: 1703.6088478\ttest: 1700.7568539\tbest: 1700.7568539 (230)\ttotal: 8.17s\tremaining: 27.2s\n",
      "231:\tlearn: 1702.8609206\ttest: 1700.1975451\tbest: 1700.1975451 (231)\ttotal: 8.21s\tremaining: 27.2s\n",
      "232:\tlearn: 1702.2337739\ttest: 1699.7665396\tbest: 1699.7665396 (232)\ttotal: 8.24s\tremaining: 27.1s\n",
      "233:\tlearn: 1701.8163925\ttest: 1699.4567115\tbest: 1699.4567115 (233)\ttotal: 8.28s\tremaining: 27.1s\n",
      "234:\tlearn: 1701.2881271\ttest: 1699.0542754\tbest: 1699.0542754 (234)\ttotal: 8.31s\tremaining: 27.1s\n",
      "235:\tlearn: 1700.6557811\ttest: 1698.6006340\tbest: 1698.6006340 (235)\ttotal: 8.35s\tremaining: 27s\n",
      "236:\tlearn: 1699.9529165\ttest: 1698.0763043\tbest: 1698.0763043 (236)\ttotal: 8.38s\tremaining: 27s\n",
      "237:\tlearn: 1698.9171049\ttest: 1697.1533636\tbest: 1697.1533636 (237)\ttotal: 8.41s\tremaining: 26.9s\n",
      "238:\tlearn: 1698.1125883\ttest: 1696.5684767\tbest: 1696.5684767 (238)\ttotal: 8.45s\tremaining: 26.9s\n",
      "239:\tlearn: 1697.5526418\ttest: 1696.1536972\tbest: 1696.1536972 (239)\ttotal: 8.48s\tremaining: 26.9s\n",
      "240:\tlearn: 1697.1564562\ttest: 1695.9445768\tbest: 1695.9445768 (240)\ttotal: 8.52s\tremaining: 26.8s\n",
      "241:\tlearn: 1696.2199469\ttest: 1695.1593817\tbest: 1695.1593817 (241)\ttotal: 8.55s\tremaining: 26.8s\n",
      "242:\tlearn: 1695.6405433\ttest: 1694.6841584\tbest: 1694.6841584 (242)\ttotal: 8.59s\tremaining: 26.8s\n",
      "243:\tlearn: 1695.0728128\ttest: 1694.2856277\tbest: 1694.2856277 (243)\ttotal: 8.62s\tremaining: 26.7s\n",
      "244:\tlearn: 1694.4378713\ttest: 1693.8864634\tbest: 1693.8864634 (244)\ttotal: 8.66s\tremaining: 26.7s\n",
      "245:\tlearn: 1693.8497050\ttest: 1693.3695777\tbest: 1693.3695777 (245)\ttotal: 8.7s\tremaining: 26.7s\n",
      "246:\tlearn: 1693.1833700\ttest: 1692.7605719\tbest: 1692.7605719 (246)\ttotal: 8.74s\tremaining: 26.6s\n",
      "247:\tlearn: 1692.7086704\ttest: 1692.2985532\tbest: 1692.2985532 (247)\ttotal: 8.77s\tremaining: 26.6s\n",
      "248:\tlearn: 1692.0443087\ttest: 1691.9035503\tbest: 1691.9035503 (248)\ttotal: 8.84s\tremaining: 26.7s\n",
      "249:\tlearn: 1691.4070494\ttest: 1691.3827569\tbest: 1691.3827569 (249)\ttotal: 8.94s\tremaining: 26.8s\n",
      "250:\tlearn: 1690.8253473\ttest: 1690.9601038\tbest: 1690.9601038 (250)\ttotal: 8.97s\tremaining: 26.8s\n",
      "251:\tlearn: 1690.3611855\ttest: 1690.6276705\tbest: 1690.6276705 (251)\ttotal: 9.03s\tremaining: 26.8s\n",
      "252:\tlearn: 1689.6742227\ttest: 1690.0119980\tbest: 1690.0119980 (252)\ttotal: 9.11s\tremaining: 26.9s\n",
      "253:\tlearn: 1689.1218577\ttest: 1689.6187519\tbest: 1689.6187519 (253)\ttotal: 9.16s\tremaining: 26.9s\n",
      "254:\tlearn: 1688.5776055\ttest: 1689.1981880\tbest: 1689.1981880 (254)\ttotal: 9.19s\tremaining: 26.9s\n",
      "255:\tlearn: 1687.7743048\ttest: 1688.7167807\tbest: 1688.7167807 (255)\ttotal: 9.23s\tremaining: 26.8s\n",
      "256:\tlearn: 1687.3291459\ttest: 1688.4399465\tbest: 1688.4399465 (256)\ttotal: 9.26s\tremaining: 26.8s\n",
      "257:\tlearn: 1686.6079110\ttest: 1687.9082517\tbest: 1687.9082517 (257)\ttotal: 9.29s\tremaining: 26.7s\n",
      "258:\tlearn: 1685.9310784\ttest: 1687.3990648\tbest: 1687.3990648 (258)\ttotal: 9.33s\tremaining: 26.7s\n",
      "259:\tlearn: 1685.4196064\ttest: 1687.0337351\tbest: 1687.0337351 (259)\ttotal: 9.36s\tremaining: 26.7s\n",
      "260:\tlearn: 1684.6260865\ttest: 1686.4255933\tbest: 1686.4255933 (260)\ttotal: 9.4s\tremaining: 26.6s\n",
      "261:\tlearn: 1684.1528299\ttest: 1686.0817686\tbest: 1686.0817686 (261)\ttotal: 9.44s\tremaining: 26.6s\n",
      "262:\tlearn: 1683.6489909\ttest: 1685.7069354\tbest: 1685.7069354 (262)\ttotal: 9.47s\tremaining: 26.5s\n",
      "263:\tlearn: 1682.7183607\ttest: 1684.9528408\tbest: 1684.9528408 (263)\ttotal: 9.5s\tremaining: 26.5s\n",
      "264:\tlearn: 1682.0311770\ttest: 1684.5149375\tbest: 1684.5149375 (264)\ttotal: 9.54s\tremaining: 26.5s\n",
      "265:\tlearn: 1681.4881718\ttest: 1684.2482716\tbest: 1684.2482716 (265)\ttotal: 9.57s\tremaining: 26.4s\n",
      "266:\tlearn: 1680.9732935\ttest: 1683.8557865\tbest: 1683.8557865 (266)\ttotal: 9.61s\tremaining: 26.4s\n",
      "267:\tlearn: 1680.3587463\ttest: 1683.3436266\tbest: 1683.3436266 (267)\ttotal: 9.64s\tremaining: 26.3s\n",
      "268:\tlearn: 1679.8526145\ttest: 1683.0159385\tbest: 1683.0159385 (268)\ttotal: 9.68s\tremaining: 26.3s\n",
      "269:\tlearn: 1679.4676543\ttest: 1682.7540798\tbest: 1682.7540798 (269)\ttotal: 9.71s\tremaining: 26.3s\n",
      "270:\tlearn: 1678.9140515\ttest: 1682.4408770\tbest: 1682.4408770 (270)\ttotal: 9.74s\tremaining: 26.2s\n",
      "271:\tlearn: 1678.4142593\ttest: 1681.9685981\tbest: 1681.9685981 (271)\ttotal: 9.78s\tremaining: 26.2s\n",
      "272:\tlearn: 1678.0038203\ttest: 1681.6562863\tbest: 1681.6562863 (272)\ttotal: 9.82s\tremaining: 26.1s\n",
      "273:\tlearn: 1677.3012498\ttest: 1681.0168783\tbest: 1681.0168783 (273)\ttotal: 9.85s\tremaining: 26.1s\n",
      "274:\tlearn: 1676.5421237\ttest: 1680.2436040\tbest: 1680.2436040 (274)\ttotal: 9.89s\tremaining: 26.1s\n",
      "275:\tlearn: 1675.9259383\ttest: 1679.9353853\tbest: 1679.9353853 (275)\ttotal: 9.92s\tremaining: 26s\n",
      "276:\tlearn: 1675.0771018\ttest: 1679.2702490\tbest: 1679.2702490 (276)\ttotal: 9.96s\tremaining: 26s\n",
      "277:\tlearn: 1674.5791439\ttest: 1678.8680848\tbest: 1678.8680848 (277)\ttotal: 9.99s\tremaining: 25.9s\n",
      "278:\tlearn: 1673.9287814\ttest: 1678.3912940\tbest: 1678.3912940 (278)\ttotal: 10s\tremaining: 25.9s\n",
      "279:\tlearn: 1673.5520562\ttest: 1678.1855782\tbest: 1678.1855782 (279)\ttotal: 10.1s\tremaining: 25.9s\n",
      "280:\tlearn: 1672.7088935\ttest: 1677.5451258\tbest: 1677.5451258 (280)\ttotal: 10.1s\tremaining: 25.8s\n",
      "281:\tlearn: 1671.8189308\ttest: 1676.8477239\tbest: 1676.8477239 (281)\ttotal: 10.1s\tremaining: 25.8s\n",
      "282:\tlearn: 1671.2591748\ttest: 1676.4471561\tbest: 1676.4471561 (282)\ttotal: 10.2s\tremaining: 25.7s\n",
      "283:\tlearn: 1670.4339108\ttest: 1675.6756447\tbest: 1675.6756447 (283)\ttotal: 10.2s\tremaining: 25.7s\n",
      "284:\tlearn: 1670.0123772\ttest: 1675.4674044\tbest: 1675.4674044 (284)\ttotal: 10.2s\tremaining: 25.7s\n",
      "285:\tlearn: 1669.2901256\ttest: 1675.0030689\tbest: 1675.0030689 (285)\ttotal: 10.3s\tremaining: 25.6s\n",
      "286:\tlearn: 1668.5713668\ttest: 1674.5041929\tbest: 1674.5041929 (286)\ttotal: 10.3s\tremaining: 25.6s\n",
      "287:\tlearn: 1668.1597079\ttest: 1674.1516499\tbest: 1674.1516499 (287)\ttotal: 10.3s\tremaining: 25.5s\n",
      "288:\tlearn: 1667.7083598\ttest: 1673.8264605\tbest: 1673.8264605 (288)\ttotal: 10.4s\tremaining: 25.5s\n",
      "289:\tlearn: 1667.2271229\ttest: 1673.3938799\tbest: 1673.3938799 (289)\ttotal: 10.4s\tremaining: 25.4s\n",
      "290:\tlearn: 1666.8750749\ttest: 1673.1987455\tbest: 1673.1987455 (290)\ttotal: 10.4s\tremaining: 25.4s\n",
      "291:\tlearn: 1665.9966443\ttest: 1672.5360712\tbest: 1672.5360712 (291)\ttotal: 10.5s\tremaining: 25.4s\n",
      "292:\tlearn: 1665.5534771\ttest: 1672.2391403\tbest: 1672.2391403 (292)\ttotal: 10.5s\tremaining: 25.3s\n",
      "293:\tlearn: 1664.8150032\ttest: 1671.7057067\tbest: 1671.7057067 (293)\ttotal: 10.5s\tremaining: 25.3s\n",
      "294:\tlearn: 1664.4240723\ttest: 1671.3297170\tbest: 1671.3297170 (294)\ttotal: 10.6s\tremaining: 25.2s\n",
      "295:\tlearn: 1663.9797179\ttest: 1671.0029163\tbest: 1671.0029163 (295)\ttotal: 10.6s\tremaining: 25.2s\n",
      "296:\tlearn: 1663.3464603\ttest: 1670.4186609\tbest: 1670.4186609 (296)\ttotal: 10.6s\tremaining: 25.2s\n",
      "297:\tlearn: 1662.8904677\ttest: 1670.1003015\tbest: 1670.1003015 (297)\ttotal: 10.7s\tremaining: 25.1s\n",
      "298:\tlearn: 1662.4991909\ttest: 1669.8412119\tbest: 1669.8412119 (298)\ttotal: 10.7s\tremaining: 25.1s\n",
      "299:\tlearn: 1662.1457104\ttest: 1669.6176085\tbest: 1669.6176085 (299)\ttotal: 10.7s\tremaining: 25.1s\n",
      "300:\tlearn: 1661.5119926\ttest: 1668.9926361\tbest: 1668.9926361 (300)\ttotal: 10.8s\tremaining: 25s\n",
      "301:\tlearn: 1660.9864398\ttest: 1668.5578588\tbest: 1668.5578588 (301)\ttotal: 10.8s\tremaining: 25s\n",
      "302:\tlearn: 1660.5081958\ttest: 1668.2164778\tbest: 1668.2164778 (302)\ttotal: 10.8s\tremaining: 24.9s\n",
      "303:\tlearn: 1659.9943568\ttest: 1667.8173739\tbest: 1667.8173739 (303)\ttotal: 10.9s\tremaining: 24.9s\n",
      "304:\tlearn: 1659.3225313\ttest: 1667.3883427\tbest: 1667.3883427 (304)\ttotal: 10.9s\tremaining: 24.9s\n",
      "305:\tlearn: 1658.8295389\ttest: 1667.0663476\tbest: 1667.0663476 (305)\ttotal: 10.9s\tremaining: 24.8s\n",
      "306:\tlearn: 1658.5815102\ttest: 1666.8650054\tbest: 1666.8650054 (306)\ttotal: 11s\tremaining: 24.8s\n",
      "307:\tlearn: 1658.0332589\ttest: 1666.4103687\tbest: 1666.4103687 (307)\ttotal: 11s\tremaining: 24.7s\n",
      "308:\tlearn: 1657.4819898\ttest: 1666.0377803\tbest: 1666.0377803 (308)\ttotal: 11s\tremaining: 24.7s\n",
      "309:\tlearn: 1656.9738682\ttest: 1665.7551004\tbest: 1665.7551004 (309)\ttotal: 11.1s\tremaining: 24.7s\n",
      "310:\tlearn: 1656.4073497\ttest: 1665.3489786\tbest: 1665.3489786 (310)\ttotal: 11.1s\tremaining: 24.6s\n",
      "311:\tlearn: 1656.0337504\ttest: 1665.0226640\tbest: 1665.0226640 (311)\ttotal: 11.1s\tremaining: 24.6s\n",
      "312:\tlearn: 1655.6445284\ttest: 1664.6723500\tbest: 1664.6723500 (312)\ttotal: 11.2s\tremaining: 24.5s\n",
      "313:\tlearn: 1655.0912595\ttest: 1664.0826089\tbest: 1664.0826089 (313)\ttotal: 11.2s\tremaining: 24.5s\n",
      "314:\tlearn: 1654.4674732\ttest: 1663.6267944\tbest: 1663.6267944 (314)\ttotal: 11.3s\tremaining: 24.5s\n",
      "315:\tlearn: 1653.7188606\ttest: 1663.0288998\tbest: 1663.0288998 (315)\ttotal: 11.3s\tremaining: 24.4s\n",
      "316:\tlearn: 1653.3347923\ttest: 1662.7231378\tbest: 1662.7231378 (316)\ttotal: 11.3s\tremaining: 24.4s\n",
      "317:\tlearn: 1652.8815510\ttest: 1662.4372287\tbest: 1662.4372287 (317)\ttotal: 11.4s\tremaining: 24.4s\n",
      "318:\tlearn: 1652.4822723\ttest: 1662.1891544\tbest: 1662.1891544 (318)\ttotal: 11.4s\tremaining: 24.3s\n",
      "319:\tlearn: 1651.8749618\ttest: 1661.7314264\tbest: 1661.7314264 (319)\ttotal: 11.4s\tremaining: 24.3s\n",
      "320:\tlearn: 1651.4450188\ttest: 1661.3374295\tbest: 1661.3374295 (320)\ttotal: 11.5s\tremaining: 24.3s\n",
      "321:\tlearn: 1650.8856811\ttest: 1660.9374376\tbest: 1660.9374376 (321)\ttotal: 11.5s\tremaining: 24.2s\n",
      "322:\tlearn: 1650.4830610\ttest: 1660.6812143\tbest: 1660.6812143 (322)\ttotal: 11.5s\tremaining: 24.2s\n",
      "323:\tlearn: 1649.7675249\ttest: 1660.1559083\tbest: 1660.1559083 (323)\ttotal: 11.6s\tremaining: 24.1s\n",
      "324:\tlearn: 1649.2162804\ttest: 1659.6485121\tbest: 1659.6485121 (324)\ttotal: 11.6s\tremaining: 24.1s\n",
      "325:\tlearn: 1648.9388347\ttest: 1659.4117361\tbest: 1659.4117361 (325)\ttotal: 11.6s\tremaining: 24.1s\n",
      "326:\tlearn: 1648.6596871\ttest: 1659.2647354\tbest: 1659.2647354 (326)\ttotal: 11.7s\tremaining: 24s\n",
      "327:\tlearn: 1648.2809537\ttest: 1658.9480263\tbest: 1658.9480263 (327)\ttotal: 11.7s\tremaining: 24s\n",
      "328:\tlearn: 1647.6965465\ttest: 1658.5363402\tbest: 1658.5363402 (328)\ttotal: 11.7s\tremaining: 23.9s\n",
      "329:\tlearn: 1647.2881279\ttest: 1658.2586703\tbest: 1658.2586703 (329)\ttotal: 11.8s\tremaining: 23.9s\n",
      "330:\tlearn: 1647.0114740\ttest: 1658.1124128\tbest: 1658.1124128 (330)\ttotal: 11.8s\tremaining: 23.9s\n",
      "331:\tlearn: 1646.5702612\ttest: 1657.7605141\tbest: 1657.7605141 (331)\ttotal: 11.8s\tremaining: 23.8s\n",
      "332:\tlearn: 1646.2371956\ttest: 1657.5465553\tbest: 1657.5465553 (332)\ttotal: 11.9s\tremaining: 23.8s\n",
      "333:\tlearn: 1645.8208077\ttest: 1657.2212026\tbest: 1657.2212026 (333)\ttotal: 11.9s\tremaining: 23.7s\n",
      "334:\tlearn: 1645.3454136\ttest: 1656.9330051\tbest: 1656.9330051 (334)\ttotal: 11.9s\tremaining: 23.7s\n",
      "335:\tlearn: 1644.9877229\ttest: 1656.6407251\tbest: 1656.6407251 (335)\ttotal: 12s\tremaining: 23.7s\n",
      "336:\tlearn: 1644.5302049\ttest: 1656.4511531\tbest: 1656.4511531 (336)\ttotal: 12s\tremaining: 23.6s\n",
      "337:\tlearn: 1644.2271207\ttest: 1656.2490654\tbest: 1656.2490654 (337)\ttotal: 12s\tremaining: 23.6s\n",
      "338:\tlearn: 1643.7870154\ttest: 1655.8691888\tbest: 1655.8691888 (338)\ttotal: 12.1s\tremaining: 23.6s\n",
      "339:\tlearn: 1643.3773345\ttest: 1655.6598125\tbest: 1655.6598125 (339)\ttotal: 12.1s\tremaining: 23.5s\n",
      "340:\tlearn: 1642.8883397\ttest: 1655.3181756\tbest: 1655.3181756 (340)\ttotal: 12.1s\tremaining: 23.5s\n",
      "341:\tlearn: 1642.5488348\ttest: 1655.0884305\tbest: 1655.0884305 (341)\ttotal: 12.2s\tremaining: 23.4s\n",
      "342:\tlearn: 1642.0393490\ttest: 1654.6087933\tbest: 1654.6087933 (342)\ttotal: 12.2s\tremaining: 23.4s\n",
      "343:\tlearn: 1641.6310090\ttest: 1654.3594842\tbest: 1654.3594842 (343)\ttotal: 12.3s\tremaining: 23.4s\n",
      "344:\tlearn: 1641.2213829\ttest: 1654.0370660\tbest: 1654.0370660 (344)\ttotal: 12.3s\tremaining: 23.3s\n",
      "345:\tlearn: 1640.7382690\ttest: 1653.6903971\tbest: 1653.6903971 (345)\ttotal: 12.3s\tremaining: 23.3s\n",
      "346:\tlearn: 1640.3631603\ttest: 1653.5198678\tbest: 1653.5198678 (346)\ttotal: 12.3s\tremaining: 23.2s\n",
      "347:\tlearn: 1639.9533007\ttest: 1653.2044629\tbest: 1653.2044629 (347)\ttotal: 12.4s\tremaining: 23.2s\n",
      "348:\tlearn: 1639.4288919\ttest: 1652.8052225\tbest: 1652.8052225 (348)\ttotal: 12.4s\tremaining: 23.2s\n",
      "349:\tlearn: 1638.8540604\ttest: 1652.4271143\tbest: 1652.4271143 (349)\ttotal: 12.4s\tremaining: 23.1s\n",
      "350:\tlearn: 1638.1695703\ttest: 1651.7978495\tbest: 1651.7978495 (350)\ttotal: 12.5s\tremaining: 23.1s\n",
      "351:\tlearn: 1637.6680595\ttest: 1651.4601800\tbest: 1651.4601800 (351)\ttotal: 12.5s\tremaining: 23.1s\n",
      "352:\tlearn: 1637.3120856\ttest: 1651.1672283\tbest: 1651.1672283 (352)\ttotal: 12.6s\tremaining: 23s\n",
      "353:\tlearn: 1636.9901872\ttest: 1651.1044958\tbest: 1651.1044958 (353)\ttotal: 12.6s\tremaining: 23s\n",
      "354:\tlearn: 1636.5753432\ttest: 1650.7828586\tbest: 1650.7828586 (354)\ttotal: 12.6s\tremaining: 22.9s\n",
      "355:\tlearn: 1636.0745587\ttest: 1650.4319787\tbest: 1650.4319787 (355)\ttotal: 12.7s\tremaining: 22.9s\n",
      "356:\tlearn: 1635.5068704\ttest: 1649.9788311\tbest: 1649.9788311 (356)\ttotal: 12.7s\tremaining: 22.9s\n",
      "357:\tlearn: 1634.8916297\ttest: 1649.5938976\tbest: 1649.5938976 (357)\ttotal: 12.8s\tremaining: 22.9s\n",
      "358:\tlearn: 1634.3643172\ttest: 1649.2136654\tbest: 1649.2136654 (358)\ttotal: 12.8s\tremaining: 22.9s\n",
      "359:\tlearn: 1633.7398573\ttest: 1648.7026909\tbest: 1648.7026909 (359)\ttotal: 12.9s\tremaining: 22.9s\n",
      "360:\tlearn: 1633.4570762\ttest: 1648.5359224\tbest: 1648.5359224 (360)\ttotal: 12.9s\tremaining: 22.8s\n",
      "361:\tlearn: 1633.1665853\ttest: 1648.2736746\tbest: 1648.2736746 (361)\ttotal: 12.9s\tremaining: 22.8s\n",
      "362:\tlearn: 1632.7017760\ttest: 1647.9313597\tbest: 1647.9313597 (362)\ttotal: 13s\tremaining: 22.8s\n",
      "363:\tlearn: 1632.2640805\ttest: 1647.6744987\tbest: 1647.6744987 (363)\ttotal: 13s\tremaining: 22.7s\n",
      "364:\tlearn: 1631.9459749\ttest: 1647.5117953\tbest: 1647.5117953 (364)\ttotal: 13s\tremaining: 22.7s\n",
      "365:\tlearn: 1631.4894779\ttest: 1647.1895521\tbest: 1647.1895521 (365)\ttotal: 13.1s\tremaining: 22.6s\n",
      "366:\tlearn: 1631.0615685\ttest: 1646.8683560\tbest: 1646.8683560 (366)\ttotal: 13.1s\tremaining: 22.6s\n",
      "367:\tlearn: 1630.6199868\ttest: 1646.4282145\tbest: 1646.4282145 (367)\ttotal: 13.1s\tremaining: 22.6s\n",
      "368:\tlearn: 1630.1531452\ttest: 1646.0101360\tbest: 1646.0101360 (368)\ttotal: 13.2s\tremaining: 22.5s\n",
      "369:\tlearn: 1629.9146256\ttest: 1645.9102839\tbest: 1645.9102839 (369)\ttotal: 13.2s\tremaining: 22.5s\n",
      "370:\tlearn: 1629.5617993\ttest: 1645.7274517\tbest: 1645.7274517 (370)\ttotal: 13.2s\tremaining: 22.5s\n",
      "371:\tlearn: 1629.1026250\ttest: 1645.3432428\tbest: 1645.3432428 (371)\ttotal: 13.3s\tremaining: 22.4s\n",
      "372:\tlearn: 1628.7796215\ttest: 1645.0165439\tbest: 1645.0165439 (372)\ttotal: 13.3s\tremaining: 22.4s\n",
      "373:\tlearn: 1628.5318835\ttest: 1644.8459911\tbest: 1644.8459911 (373)\ttotal: 13.3s\tremaining: 22.3s\n",
      "374:\tlearn: 1627.9013184\ttest: 1644.3618616\tbest: 1644.3618616 (374)\ttotal: 13.4s\tremaining: 22.3s\n",
      "375:\tlearn: 1627.5667880\ttest: 1644.0961415\tbest: 1644.0961415 (375)\ttotal: 13.4s\tremaining: 22.3s\n",
      "376:\tlearn: 1627.1300703\ttest: 1643.8672569\tbest: 1643.8672569 (376)\ttotal: 13.5s\tremaining: 22.2s\n",
      "377:\tlearn: 1626.6712086\ttest: 1643.5846111\tbest: 1643.5846111 (377)\ttotal: 13.5s\tremaining: 22.2s\n",
      "378:\tlearn: 1626.4679651\ttest: 1643.4722638\tbest: 1643.4722638 (378)\ttotal: 13.5s\tremaining: 22.2s\n",
      "379:\tlearn: 1626.1601592\ttest: 1643.3418250\tbest: 1643.3418250 (379)\ttotal: 13.6s\tremaining: 22.1s\n",
      "380:\tlearn: 1625.9009989\ttest: 1643.1616995\tbest: 1643.1616995 (380)\ttotal: 13.6s\tremaining: 22.1s\n",
      "381:\tlearn: 1625.3381496\ttest: 1642.8231071\tbest: 1642.8231071 (381)\ttotal: 13.6s\tremaining: 22s\n",
      "382:\tlearn: 1624.9460578\ttest: 1642.5594377\tbest: 1642.5594377 (382)\ttotal: 13.7s\tremaining: 22s\n",
      "383:\tlearn: 1624.4796179\ttest: 1642.3047541\tbest: 1642.3047541 (383)\ttotal: 13.7s\tremaining: 22s\n",
      "384:\tlearn: 1624.1589843\ttest: 1642.0991949\tbest: 1642.0991949 (384)\ttotal: 13.7s\tremaining: 21.9s\n",
      "385:\tlearn: 1623.8023713\ttest: 1641.8160216\tbest: 1641.8160216 (385)\ttotal: 13.8s\tremaining: 21.9s\n",
      "386:\tlearn: 1623.4050169\ttest: 1641.4883773\tbest: 1641.4883773 (386)\ttotal: 13.8s\tremaining: 21.9s\n",
      "387:\tlearn: 1622.8795398\ttest: 1641.0685635\tbest: 1641.0685635 (387)\ttotal: 13.8s\tremaining: 21.8s\n",
      "388:\tlearn: 1622.4897190\ttest: 1640.7899248\tbest: 1640.7899248 (388)\ttotal: 13.9s\tremaining: 21.8s\n",
      "389:\tlearn: 1622.2174273\ttest: 1640.5841800\tbest: 1640.5841800 (389)\ttotal: 13.9s\tremaining: 21.7s\n",
      "390:\tlearn: 1621.9007896\ttest: 1640.4793456\tbest: 1640.4793456 (390)\ttotal: 13.9s\tremaining: 21.7s\n",
      "391:\tlearn: 1621.4696576\ttest: 1640.1243729\tbest: 1640.1243729 (391)\ttotal: 14s\tremaining: 21.7s\n",
      "392:\tlearn: 1620.9698288\ttest: 1639.7190584\tbest: 1639.7190584 (392)\ttotal: 14s\tremaining: 21.6s\n",
      "393:\tlearn: 1620.4928359\ttest: 1639.4812798\tbest: 1639.4812798 (393)\ttotal: 14s\tremaining: 21.6s\n",
      "394:\tlearn: 1620.0824552\ttest: 1639.1979950\tbest: 1639.1979950 (394)\ttotal: 14.1s\tremaining: 21.6s\n",
      "395:\tlearn: 1619.7318875\ttest: 1638.9692186\tbest: 1638.9692186 (395)\ttotal: 14.1s\tremaining: 21.5s\n",
      "396:\tlearn: 1619.6184054\ttest: 1638.8547500\tbest: 1638.8547500 (396)\ttotal: 14.1s\tremaining: 21.5s\n",
      "397:\tlearn: 1619.2444811\ttest: 1638.5012904\tbest: 1638.5012904 (397)\ttotal: 14.2s\tremaining: 21.4s\n",
      "398:\tlearn: 1619.0747487\ttest: 1638.3793290\tbest: 1638.3793290 (398)\ttotal: 14.2s\tremaining: 21.4s\n",
      "399:\tlearn: 1618.7065811\ttest: 1638.1311098\tbest: 1638.1311098 (399)\ttotal: 14.2s\tremaining: 21.4s\n",
      "400:\tlearn: 1618.3294270\ttest: 1637.8674614\tbest: 1637.8674614 (400)\ttotal: 14.3s\tremaining: 21.3s\n",
      "401:\tlearn: 1618.1095728\ttest: 1637.7238201\tbest: 1637.7238201 (401)\ttotal: 14.3s\tremaining: 21.3s\n",
      "402:\tlearn: 1617.7075552\ttest: 1637.4354076\tbest: 1637.4354076 (402)\ttotal: 14.3s\tremaining: 21.2s\n",
      "403:\tlearn: 1617.2487043\ttest: 1637.1151924\tbest: 1637.1151924 (403)\ttotal: 14.4s\tremaining: 21.2s\n",
      "404:\tlearn: 1616.9000216\ttest: 1636.9190308\tbest: 1636.9190308 (404)\ttotal: 14.4s\tremaining: 21.2s\n",
      "405:\tlearn: 1616.5405611\ttest: 1636.6259935\tbest: 1636.6259935 (405)\ttotal: 14.4s\tremaining: 21.1s\n",
      "406:\tlearn: 1616.0308434\ttest: 1636.3622027\tbest: 1636.3622027 (406)\ttotal: 14.5s\tremaining: 21.1s\n",
      "407:\tlearn: 1615.4961680\ttest: 1635.9635614\tbest: 1635.9635614 (407)\ttotal: 14.5s\tremaining: 21.1s\n",
      "408:\tlearn: 1615.1071001\ttest: 1635.7652980\tbest: 1635.7652980 (408)\ttotal: 14.5s\tremaining: 21s\n",
      "409:\tlearn: 1614.8506982\ttest: 1635.6168386\tbest: 1635.6168386 (409)\ttotal: 14.6s\tremaining: 21s\n",
      "410:\tlearn: 1614.5618498\ttest: 1635.4933541\tbest: 1635.4933541 (410)\ttotal: 14.6s\tremaining: 20.9s\n",
      "411:\tlearn: 1614.0556190\ttest: 1635.1570349\tbest: 1635.1570349 (411)\ttotal: 14.6s\tremaining: 20.9s\n",
      "412:\tlearn: 1613.7179206\ttest: 1635.0029106\tbest: 1635.0029106 (412)\ttotal: 14.7s\tremaining: 20.9s\n",
      "413:\tlearn: 1613.2669496\ttest: 1634.7976933\tbest: 1634.7976933 (413)\ttotal: 14.7s\tremaining: 20.8s\n",
      "414:\tlearn: 1612.8330391\ttest: 1634.4496979\tbest: 1634.4496979 (414)\ttotal: 14.7s\tremaining: 20.8s\n",
      "415:\tlearn: 1612.3830510\ttest: 1634.1870353\tbest: 1634.1870353 (415)\ttotal: 14.8s\tremaining: 20.8s\n",
      "416:\tlearn: 1612.0757130\ttest: 1634.0283949\tbest: 1634.0283949 (416)\ttotal: 14.8s\tremaining: 20.7s\n",
      "417:\tlearn: 1611.6984904\ttest: 1633.7339702\tbest: 1633.7339702 (417)\ttotal: 14.8s\tremaining: 20.7s\n",
      "418:\tlearn: 1611.3567793\ttest: 1633.4996877\tbest: 1633.4996877 (418)\ttotal: 14.9s\tremaining: 20.6s\n",
      "419:\tlearn: 1611.0757993\ttest: 1633.4132901\tbest: 1633.4132901 (419)\ttotal: 14.9s\tremaining: 20.6s\n",
      "420:\tlearn: 1610.7944845\ttest: 1633.1529948\tbest: 1633.1529948 (420)\ttotal: 15s\tremaining: 20.6s\n",
      "421:\tlearn: 1610.4167842\ttest: 1632.9108826\tbest: 1632.9108826 (421)\ttotal: 15s\tremaining: 20.6s\n",
      "422:\tlearn: 1609.8281182\ttest: 1632.5642967\tbest: 1632.5642967 (422)\ttotal: 15s\tremaining: 20.5s\n",
      "423:\tlearn: 1609.4593002\ttest: 1632.2779810\tbest: 1632.2779810 (423)\ttotal: 15.1s\tremaining: 20.5s\n",
      "424:\tlearn: 1609.1901464\ttest: 1632.1509375\tbest: 1632.1509375 (424)\ttotal: 15.1s\tremaining: 20.5s\n",
      "425:\tlearn: 1608.8610249\ttest: 1631.8298968\tbest: 1631.8298968 (425)\ttotal: 15.2s\tremaining: 20.4s\n",
      "426:\tlearn: 1608.4961204\ttest: 1631.5276535\tbest: 1631.5276535 (426)\ttotal: 15.2s\tremaining: 20.4s\n",
      "427:\tlearn: 1608.0811256\ttest: 1631.2445797\tbest: 1631.2445797 (427)\ttotal: 15.2s\tremaining: 20.4s\n",
      "428:\tlearn: 1607.6990150\ttest: 1631.0347933\tbest: 1631.0347933 (428)\ttotal: 15.3s\tremaining: 20.3s\n",
      "429:\tlearn: 1607.3569786\ttest: 1630.8760442\tbest: 1630.8760442 (429)\ttotal: 15.3s\tremaining: 20.3s\n",
      "430:\tlearn: 1606.8825980\ttest: 1630.5699188\tbest: 1630.5699188 (430)\ttotal: 15.3s\tremaining: 20.3s\n",
      "431:\tlearn: 1606.6269405\ttest: 1630.3801576\tbest: 1630.3801576 (431)\ttotal: 15.4s\tremaining: 20.2s\n",
      "432:\tlearn: 1606.2594591\ttest: 1630.0899453\tbest: 1630.0899453 (432)\ttotal: 15.4s\tremaining: 20.2s\n",
      "433:\tlearn: 1605.9750471\ttest: 1629.9528644\tbest: 1629.9528644 (433)\ttotal: 15.4s\tremaining: 20.1s\n",
      "434:\tlearn: 1605.6468550\ttest: 1629.7522553\tbest: 1629.7522553 (434)\ttotal: 15.5s\tremaining: 20.1s\n",
      "435:\tlearn: 1605.2238882\ttest: 1629.4634306\tbest: 1629.4634306 (435)\ttotal: 15.5s\tremaining: 20.1s\n",
      "436:\tlearn: 1604.8218405\ttest: 1629.1852156\tbest: 1629.1852156 (436)\ttotal: 15.6s\tremaining: 20s\n",
      "437:\tlearn: 1604.5098340\ttest: 1629.0566494\tbest: 1629.0566494 (437)\ttotal: 15.6s\tremaining: 20s\n",
      "438:\tlearn: 1604.2263690\ttest: 1628.7886026\tbest: 1628.7886026 (438)\ttotal: 15.6s\tremaining: 20s\n",
      "439:\tlearn: 1603.5975810\ttest: 1628.4250776\tbest: 1628.4250776 (439)\ttotal: 15.7s\tremaining: 19.9s\n",
      "440:\tlearn: 1603.1323815\ttest: 1628.1722581\tbest: 1628.1722581 (440)\ttotal: 15.7s\tremaining: 19.9s\n",
      "441:\tlearn: 1602.8999450\ttest: 1627.9717322\tbest: 1627.9717322 (441)\ttotal: 15.7s\tremaining: 19.9s\n",
      "442:\tlearn: 1602.5002369\ttest: 1627.7406739\tbest: 1627.7406739 (442)\ttotal: 15.8s\tremaining: 19.8s\n",
      "443:\tlearn: 1602.1886079\ttest: 1627.5807899\tbest: 1627.5807899 (443)\ttotal: 15.8s\tremaining: 19.8s\n",
      "444:\tlearn: 1601.6693205\ttest: 1627.2417239\tbest: 1627.2417239 (444)\ttotal: 15.9s\tremaining: 19.8s\n",
      "445:\tlearn: 1601.2909947\ttest: 1627.1485209\tbest: 1627.1485209 (445)\ttotal: 15.9s\tremaining: 19.7s\n",
      "446:\tlearn: 1600.9917344\ttest: 1626.9606960\tbest: 1626.9606960 (446)\ttotal: 15.9s\tremaining: 19.7s\n",
      "447:\tlearn: 1600.6243748\ttest: 1626.6933872\tbest: 1626.6933872 (447)\ttotal: 16s\tremaining: 19.7s\n",
      "448:\tlearn: 1600.1972590\ttest: 1626.3284415\tbest: 1626.3284415 (448)\ttotal: 16s\tremaining: 19.6s\n",
      "449:\tlearn: 1599.9425587\ttest: 1626.2039714\tbest: 1626.2039714 (449)\ttotal: 16s\tremaining: 19.6s\n",
      "450:\tlearn: 1599.6711754\ttest: 1626.0451167\tbest: 1626.0451167 (450)\ttotal: 16.1s\tremaining: 19.6s\n",
      "451:\tlearn: 1599.3313480\ttest: 1625.7916687\tbest: 1625.7916687 (451)\ttotal: 16.1s\tremaining: 19.5s\n",
      "452:\tlearn: 1599.1019425\ttest: 1625.6161247\tbest: 1625.6161247 (452)\ttotal: 16.2s\tremaining: 19.5s\n",
      "453:\tlearn: 1598.8047405\ttest: 1625.4067055\tbest: 1625.4067055 (453)\ttotal: 16.2s\tremaining: 19.5s\n",
      "454:\tlearn: 1598.5045161\ttest: 1625.2335119\tbest: 1625.2335119 (454)\ttotal: 16.2s\tremaining: 19.4s\n",
      "455:\tlearn: 1598.2654079\ttest: 1625.1031147\tbest: 1625.1031147 (455)\ttotal: 16.3s\tremaining: 19.5s\n",
      "456:\tlearn: 1597.9792123\ttest: 1624.9363507\tbest: 1624.9363507 (456)\ttotal: 16.4s\tremaining: 19.4s\n",
      "457:\tlearn: 1597.3501289\ttest: 1624.5800360\tbest: 1624.5800360 (457)\ttotal: 16.4s\tremaining: 19.4s\n",
      "458:\tlearn: 1597.0352505\ttest: 1624.4182880\tbest: 1624.4182880 (458)\ttotal: 16.4s\tremaining: 19.4s\n",
      "459:\tlearn: 1596.7354574\ttest: 1624.1979275\tbest: 1624.1979275 (459)\ttotal: 16.5s\tremaining: 19.3s\n",
      "460:\tlearn: 1596.4679831\ttest: 1624.0047557\tbest: 1624.0047557 (460)\ttotal: 16.5s\tremaining: 19.3s\n",
      "461:\tlearn: 1596.1267129\ttest: 1623.7585454\tbest: 1623.7585454 (461)\ttotal: 16.5s\tremaining: 19.3s\n",
      "462:\tlearn: 1595.7476672\ttest: 1623.6601654\tbest: 1623.6601654 (462)\ttotal: 16.6s\tremaining: 19.2s\n",
      "463:\tlearn: 1595.4667322\ttest: 1623.5562037\tbest: 1623.5562037 (463)\ttotal: 16.6s\tremaining: 19.2s\n",
      "464:\tlearn: 1595.1515009\ttest: 1623.4174701\tbest: 1623.4174701 (464)\ttotal: 16.6s\tremaining: 19.1s\n",
      "465:\tlearn: 1594.8541114\ttest: 1623.2329868\tbest: 1623.2329868 (465)\ttotal: 16.7s\tremaining: 19.1s\n",
      "466:\tlearn: 1594.6229951\ttest: 1623.1288481\tbest: 1623.1288481 (466)\ttotal: 16.7s\tremaining: 19.1s\n",
      "467:\tlearn: 1594.1989067\ttest: 1622.8248183\tbest: 1622.8248183 (467)\ttotal: 16.7s\tremaining: 19s\n",
      "468:\tlearn: 1593.9214342\ttest: 1622.7381085\tbest: 1622.7381085 (468)\ttotal: 16.8s\tremaining: 19s\n",
      "469:\tlearn: 1593.6119150\ttest: 1622.6422624\tbest: 1622.6422624 (469)\ttotal: 16.8s\tremaining: 19s\n",
      "470:\tlearn: 1593.2822921\ttest: 1622.3622314\tbest: 1622.3622314 (470)\ttotal: 16.9s\tremaining: 18.9s\n",
      "471:\tlearn: 1593.0658288\ttest: 1622.2598896\tbest: 1622.2598896 (471)\ttotal: 16.9s\tremaining: 18.9s\n",
      "472:\tlearn: 1592.7731532\ttest: 1622.0170630\tbest: 1622.0170630 (472)\ttotal: 16.9s\tremaining: 18.9s\n",
      "473:\tlearn: 1592.3912832\ttest: 1621.7358420\tbest: 1621.7358420 (473)\ttotal: 17s\tremaining: 18.8s\n",
      "474:\tlearn: 1592.0201829\ttest: 1621.5158022\tbest: 1621.5158022 (474)\ttotal: 17s\tremaining: 18.8s\n",
      "475:\tlearn: 1591.7284294\ttest: 1621.3015320\tbest: 1621.3015320 (475)\ttotal: 17s\tremaining: 18.7s\n",
      "476:\tlearn: 1591.4413595\ttest: 1621.0951058\tbest: 1621.0951058 (476)\ttotal: 17.1s\tremaining: 18.7s\n",
      "477:\tlearn: 1591.1769245\ttest: 1620.8828359\tbest: 1620.8828359 (477)\ttotal: 17.1s\tremaining: 18.7s\n",
      "478:\tlearn: 1590.9241423\ttest: 1620.8138736\tbest: 1620.8138736 (478)\ttotal: 17.1s\tremaining: 18.6s\n",
      "479:\tlearn: 1590.6014440\ttest: 1620.6470511\tbest: 1620.6470511 (479)\ttotal: 17.2s\tremaining: 18.6s\n",
      "480:\tlearn: 1590.2289705\ttest: 1620.4269772\tbest: 1620.4269772 (480)\ttotal: 17.2s\tremaining: 18.6s\n",
      "481:\tlearn: 1589.9691541\ttest: 1620.2870000\tbest: 1620.2870000 (481)\ttotal: 17.2s\tremaining: 18.5s\n",
      "482:\tlearn: 1589.6867129\ttest: 1620.0766643\tbest: 1620.0766643 (482)\ttotal: 17.3s\tremaining: 18.5s\n",
      "483:\tlearn: 1589.4081333\ttest: 1619.8927894\tbest: 1619.8927894 (483)\ttotal: 17.3s\tremaining: 18.4s\n",
      "484:\tlearn: 1589.1417116\ttest: 1619.7237876\tbest: 1619.7237876 (484)\ttotal: 17.3s\tremaining: 18.4s\n",
      "485:\tlearn: 1588.8208889\ttest: 1619.4728076\tbest: 1619.4728076 (485)\ttotal: 17.4s\tremaining: 18.4s\n",
      "486:\tlearn: 1588.5020364\ttest: 1619.2189086\tbest: 1619.2189086 (486)\ttotal: 17.4s\tremaining: 18.3s\n",
      "487:\tlearn: 1588.2100968\ttest: 1618.9974359\tbest: 1618.9974359 (487)\ttotal: 17.4s\tremaining: 18.3s\n",
      "488:\tlearn: 1587.9785282\ttest: 1618.8364825\tbest: 1618.8364825 (488)\ttotal: 17.5s\tremaining: 18.3s\n",
      "489:\tlearn: 1587.6409668\ttest: 1618.5279934\tbest: 1618.5279934 (489)\ttotal: 17.5s\tremaining: 18.2s\n",
      "490:\tlearn: 1587.3122051\ttest: 1618.3504109\tbest: 1618.3504109 (490)\ttotal: 17.5s\tremaining: 18.2s\n",
      "491:\tlearn: 1586.9447408\ttest: 1618.1647408\tbest: 1618.1647408 (491)\ttotal: 17.6s\tremaining: 18.1s\n",
      "492:\tlearn: 1586.6462909\ttest: 1618.0604271\tbest: 1618.0604271 (492)\ttotal: 17.6s\tremaining: 18.1s\n",
      "493:\tlearn: 1586.3119828\ttest: 1617.8742375\tbest: 1617.8742375 (493)\ttotal: 17.6s\tremaining: 18.1s\n",
      "494:\tlearn: 1586.0190695\ttest: 1617.6833454\tbest: 1617.6833454 (494)\ttotal: 17.7s\tremaining: 18s\n",
      "495:\tlearn: 1585.7698641\ttest: 1617.6224984\tbest: 1617.6224984 (495)\ttotal: 17.7s\tremaining: 18s\n",
      "496:\tlearn: 1585.4677439\ttest: 1617.4506128\tbest: 1617.4506128 (496)\ttotal: 17.7s\tremaining: 18s\n",
      "497:\tlearn: 1585.2139960\ttest: 1617.2746925\tbest: 1617.2746925 (497)\ttotal: 17.8s\tremaining: 17.9s\n",
      "498:\tlearn: 1584.9965021\ttest: 1617.1813364\tbest: 1617.1813364 (498)\ttotal: 17.8s\tremaining: 17.9s\n",
      "499:\tlearn: 1584.6244986\ttest: 1616.8631283\tbest: 1616.8631283 (499)\ttotal: 17.9s\tremaining: 17.9s\n",
      "500:\tlearn: 1584.3345817\ttest: 1616.7775889\tbest: 1616.7775889 (500)\ttotal: 17.9s\tremaining: 17.8s\n",
      "501:\tlearn: 1584.0345550\ttest: 1616.5264028\tbest: 1616.5264028 (501)\ttotal: 17.9s\tremaining: 17.8s\n",
      "502:\tlearn: 1583.7267632\ttest: 1616.3225723\tbest: 1616.3225723 (502)\ttotal: 18s\tremaining: 17.7s\n",
      "503:\tlearn: 1583.5186375\ttest: 1616.2363438\tbest: 1616.2363438 (503)\ttotal: 18s\tremaining: 17.7s\n",
      "504:\tlearn: 1583.2803772\ttest: 1616.0880525\tbest: 1616.0880525 (504)\ttotal: 18s\tremaining: 17.7s\n",
      "505:\tlearn: 1582.8450605\ttest: 1615.8797755\tbest: 1615.8797755 (505)\ttotal: 18.1s\tremaining: 17.6s\n",
      "506:\tlearn: 1582.6247531\ttest: 1615.7076062\tbest: 1615.7076062 (506)\ttotal: 18.1s\tremaining: 17.6s\n",
      "507:\tlearn: 1582.3839396\ttest: 1615.5549643\tbest: 1615.5549643 (507)\ttotal: 18.1s\tremaining: 17.6s\n",
      "508:\tlearn: 1582.0321100\ttest: 1615.3920008\tbest: 1615.3920008 (508)\ttotal: 18.2s\tremaining: 17.5s\n",
      "509:\tlearn: 1581.7528937\ttest: 1615.2381310\tbest: 1615.2381310 (509)\ttotal: 18.2s\tremaining: 17.5s\n",
      "510:\tlearn: 1581.5272011\ttest: 1615.1906730\tbest: 1615.1906730 (510)\ttotal: 18.2s\tremaining: 17.5s\n",
      "511:\tlearn: 1581.2912740\ttest: 1615.0543338\tbest: 1615.0543338 (511)\ttotal: 18.3s\tremaining: 17.4s\n",
      "512:\tlearn: 1581.0422510\ttest: 1614.8536131\tbest: 1614.8536131 (512)\ttotal: 18.3s\tremaining: 17.4s\n",
      "513:\tlearn: 1580.8408955\ttest: 1614.7623977\tbest: 1614.7623977 (513)\ttotal: 18.3s\tremaining: 17.3s\n",
      "514:\tlearn: 1580.4928107\ttest: 1614.5656735\tbest: 1614.5656735 (514)\ttotal: 18.4s\tremaining: 17.3s\n",
      "515:\tlearn: 1580.1638588\ttest: 1614.2561671\tbest: 1614.2561671 (515)\ttotal: 18.4s\tremaining: 17.3s\n",
      "516:\tlearn: 1579.9893307\ttest: 1614.1606966\tbest: 1614.1606966 (516)\ttotal: 18.4s\tremaining: 17.2s\n",
      "517:\tlearn: 1579.6958731\ttest: 1614.0262866\tbest: 1614.0262866 (517)\ttotal: 18.5s\tremaining: 17.2s\n",
      "518:\tlearn: 1579.4032345\ttest: 1613.7633019\tbest: 1613.7633019 (518)\ttotal: 18.5s\tremaining: 17.2s\n",
      "519:\tlearn: 1579.1546817\ttest: 1613.5699699\tbest: 1613.5699699 (519)\ttotal: 18.5s\tremaining: 17.1s\n",
      "520:\tlearn: 1578.8001462\ttest: 1613.3365967\tbest: 1613.3365967 (520)\ttotal: 18.6s\tremaining: 17.1s\n",
      "521:\tlearn: 1578.4998742\ttest: 1613.1418639\tbest: 1613.1418639 (521)\ttotal: 18.6s\tremaining: 17s\n",
      "522:\tlearn: 1578.0754451\ttest: 1612.9416309\tbest: 1612.9416309 (522)\ttotal: 18.7s\tremaining: 17s\n",
      "523:\tlearn: 1577.8804356\ttest: 1612.8615894\tbest: 1612.8615894 (523)\ttotal: 18.7s\tremaining: 17s\n",
      "524:\tlearn: 1577.5986022\ttest: 1612.6701381\tbest: 1612.6701381 (524)\ttotal: 18.7s\tremaining: 16.9s\n",
      "525:\tlearn: 1577.3900461\ttest: 1612.5267962\tbest: 1612.5267962 (525)\ttotal: 18.8s\tremaining: 16.9s\n",
      "526:\tlearn: 1577.0695832\ttest: 1612.3551524\tbest: 1612.3551524 (526)\ttotal: 18.8s\tremaining: 16.9s\n",
      "527:\tlearn: 1576.8712250\ttest: 1612.2356557\tbest: 1612.2356557 (527)\ttotal: 18.8s\tremaining: 16.8s\n",
      "528:\tlearn: 1576.6604815\ttest: 1612.0563500\tbest: 1612.0563500 (528)\ttotal: 18.9s\tremaining: 16.8s\n",
      "529:\tlearn: 1576.2499840\ttest: 1611.7299001\tbest: 1611.7299001 (529)\ttotal: 18.9s\tremaining: 16.8s\n",
      "530:\tlearn: 1576.0082846\ttest: 1611.5490905\tbest: 1611.5490905 (530)\ttotal: 18.9s\tremaining: 16.7s\n",
      "531:\tlearn: 1575.6978579\ttest: 1611.3435832\tbest: 1611.3435832 (531)\ttotal: 19s\tremaining: 16.7s\n",
      "532:\tlearn: 1575.4851353\ttest: 1611.2531619\tbest: 1611.2531619 (532)\ttotal: 19s\tremaining: 16.6s\n",
      "533:\tlearn: 1575.2587258\ttest: 1611.1529411\tbest: 1611.1529411 (533)\ttotal: 19s\tremaining: 16.6s\n",
      "534:\tlearn: 1575.0174650\ttest: 1610.9692379\tbest: 1610.9692379 (534)\ttotal: 19.1s\tremaining: 16.6s\n",
      "535:\tlearn: 1574.7661453\ttest: 1610.8471094\tbest: 1610.8471094 (535)\ttotal: 19.1s\tremaining: 16.5s\n",
      "536:\tlearn: 1574.4972232\ttest: 1610.6490840\tbest: 1610.6490840 (536)\ttotal: 19.1s\tremaining: 16.5s\n",
      "537:\tlearn: 1574.0954299\ttest: 1610.3924998\tbest: 1610.3924998 (537)\ttotal: 19.2s\tremaining: 16.5s\n",
      "538:\tlearn: 1573.8652913\ttest: 1610.3025483\tbest: 1610.3025483 (538)\ttotal: 19.2s\tremaining: 16.4s\n",
      "539:\tlearn: 1573.4881826\ttest: 1610.0155778\tbest: 1610.0155778 (539)\ttotal: 19.2s\tremaining: 16.4s\n",
      "540:\tlearn: 1573.1761002\ttest: 1609.8090327\tbest: 1609.8090327 (540)\ttotal: 19.3s\tremaining: 16.4s\n",
      "541:\tlearn: 1572.9467532\ttest: 1609.6935664\tbest: 1609.6935664 (541)\ttotal: 19.3s\tremaining: 16.3s\n",
      "542:\tlearn: 1572.7009473\ttest: 1609.5130349\tbest: 1609.5130349 (542)\ttotal: 19.3s\tremaining: 16.3s\n",
      "543:\tlearn: 1572.4717217\ttest: 1609.3536295\tbest: 1609.3536295 (543)\ttotal: 19.4s\tremaining: 16.2s\n",
      "544:\tlearn: 1572.2189005\ttest: 1609.1715019\tbest: 1609.1715019 (544)\ttotal: 19.4s\tremaining: 16.2s\n",
      "545:\tlearn: 1571.9353199\ttest: 1609.0296545\tbest: 1609.0296545 (545)\ttotal: 19.4s\tremaining: 16.2s\n",
      "546:\tlearn: 1571.6542625\ttest: 1608.9117160\tbest: 1608.9117160 (546)\ttotal: 19.5s\tremaining: 16.1s\n",
      "547:\tlearn: 1571.3764256\ttest: 1608.6608746\tbest: 1608.6608746 (547)\ttotal: 19.6s\tremaining: 16.2s\n",
      "548:\tlearn: 1571.0676476\ttest: 1608.4443415\tbest: 1608.4443415 (548)\ttotal: 19.6s\tremaining: 16.1s\n",
      "549:\tlearn: 1570.7896446\ttest: 1608.2928591\tbest: 1608.2928591 (549)\ttotal: 19.7s\tremaining: 16.1s\n",
      "550:\tlearn: 1570.4542880\ttest: 1608.1527230\tbest: 1608.1527230 (550)\ttotal: 19.7s\tremaining: 16.1s\n",
      "551:\tlearn: 1570.2495622\ttest: 1607.9834859\tbest: 1607.9834859 (551)\ttotal: 19.7s\tremaining: 16s\n",
      "552:\tlearn: 1569.9512790\ttest: 1607.8292709\tbest: 1607.8292709 (552)\ttotal: 19.8s\tremaining: 16s\n",
      "553:\tlearn: 1569.6807341\ttest: 1607.7525462\tbest: 1607.7525462 (553)\ttotal: 19.8s\tremaining: 15.9s\n",
      "554:\tlearn: 1569.4320860\ttest: 1607.5609365\tbest: 1607.5609365 (554)\ttotal: 19.8s\tremaining: 15.9s\n",
      "555:\tlearn: 1569.0820573\ttest: 1607.3543330\tbest: 1607.3543330 (555)\ttotal: 19.9s\tremaining: 15.9s\n",
      "556:\tlearn: 1568.8216054\ttest: 1607.1599617\tbest: 1607.1599617 (556)\ttotal: 19.9s\tremaining: 15.8s\n",
      "557:\tlearn: 1568.5383953\ttest: 1607.0120736\tbest: 1607.0120736 (557)\ttotal: 20s\tremaining: 15.8s\n",
      "558:\tlearn: 1568.1836289\ttest: 1606.8452743\tbest: 1606.8452743 (558)\ttotal: 20s\tremaining: 15.8s\n",
      "559:\tlearn: 1567.9530477\ttest: 1606.7756105\tbest: 1606.7756105 (559)\ttotal: 20s\tremaining: 15.7s\n",
      "560:\tlearn: 1567.6876556\ttest: 1606.5634803\tbest: 1606.5634803 (560)\ttotal: 20.1s\tremaining: 15.7s\n",
      "561:\tlearn: 1567.4337003\ttest: 1606.4974984\tbest: 1606.4974984 (561)\ttotal: 20.1s\tremaining: 15.7s\n",
      "562:\tlearn: 1567.2368523\ttest: 1606.3092051\tbest: 1606.3092051 (562)\ttotal: 20.1s\tremaining: 15.6s\n",
      "563:\tlearn: 1567.0468878\ttest: 1606.1729195\tbest: 1606.1729195 (563)\ttotal: 20.2s\tremaining: 15.6s\n",
      "564:\tlearn: 1566.7990018\ttest: 1606.0801811\tbest: 1606.0801811 (564)\ttotal: 20.2s\tremaining: 15.6s\n",
      "565:\tlearn: 1566.6004090\ttest: 1605.9815040\tbest: 1605.9815040 (565)\ttotal: 20.2s\tremaining: 15.5s\n",
      "566:\tlearn: 1566.4124545\ttest: 1605.8907243\tbest: 1605.8907243 (566)\ttotal: 20.3s\tremaining: 15.5s\n",
      "567:\tlearn: 1566.1123311\ttest: 1605.7073206\tbest: 1605.7073206 (567)\ttotal: 20.3s\tremaining: 15.5s\n",
      "568:\tlearn: 1565.8152051\ttest: 1605.5106409\tbest: 1605.5106409 (568)\ttotal: 20.4s\tremaining: 15.4s\n",
      "569:\tlearn: 1565.6011730\ttest: 1605.3887049\tbest: 1605.3887049 (569)\ttotal: 20.4s\tremaining: 15.4s\n",
      "570:\tlearn: 1565.3945573\ttest: 1605.3435452\tbest: 1605.3435452 (570)\ttotal: 20.4s\tremaining: 15.3s\n",
      "571:\tlearn: 1565.1097582\ttest: 1605.2123822\tbest: 1605.2123822 (571)\ttotal: 20.5s\tremaining: 15.3s\n",
      "572:\tlearn: 1564.8758681\ttest: 1605.0662475\tbest: 1605.0662475 (572)\ttotal: 20.5s\tremaining: 15.3s\n",
      "573:\tlearn: 1564.5523046\ttest: 1604.8863760\tbest: 1604.8863760 (573)\ttotal: 20.5s\tremaining: 15.2s\n",
      "574:\tlearn: 1564.3322076\ttest: 1604.7076638\tbest: 1604.7076638 (574)\ttotal: 20.6s\tremaining: 15.2s\n",
      "575:\tlearn: 1564.2140073\ttest: 1604.6280570\tbest: 1604.6280570 (575)\ttotal: 20.6s\tremaining: 15.2s\n",
      "576:\tlearn: 1563.9548938\ttest: 1604.4950326\tbest: 1604.4950326 (576)\ttotal: 20.6s\tremaining: 15.1s\n",
      "577:\tlearn: 1563.7393799\ttest: 1604.4357208\tbest: 1604.4357208 (577)\ttotal: 20.7s\tremaining: 15.1s\n",
      "578:\tlearn: 1563.4921830\ttest: 1604.3471426\tbest: 1604.3471426 (578)\ttotal: 20.7s\tremaining: 15.1s\n",
      "579:\tlearn: 1563.2082734\ttest: 1604.1949149\tbest: 1604.1949149 (579)\ttotal: 20.7s\tremaining: 15s\n",
      "580:\tlearn: 1562.9337156\ttest: 1604.0220708\tbest: 1604.0220708 (580)\ttotal: 20.8s\tremaining: 15s\n",
      "581:\tlearn: 1562.6887673\ttest: 1603.9098313\tbest: 1603.9098313 (581)\ttotal: 20.8s\tremaining: 15s\n",
      "582:\tlearn: 1562.2971996\ttest: 1603.7015184\tbest: 1603.7015184 (582)\ttotal: 20.9s\tremaining: 14.9s\n",
      "583:\tlearn: 1562.0718417\ttest: 1603.5215687\tbest: 1603.5215687 (583)\ttotal: 20.9s\tremaining: 14.9s\n",
      "584:\tlearn: 1561.8584772\ttest: 1603.3952861\tbest: 1603.3952861 (584)\ttotal: 20.9s\tremaining: 14.8s\n",
      "585:\tlearn: 1561.5851049\ttest: 1603.2296104\tbest: 1603.2296104 (585)\ttotal: 21s\tremaining: 14.8s\n",
      "586:\tlearn: 1561.3784283\ttest: 1603.1019657\tbest: 1603.1019657 (586)\ttotal: 21s\tremaining: 14.8s\n",
      "587:\tlearn: 1561.1538177\ttest: 1603.0234495\tbest: 1603.0234495 (587)\ttotal: 21s\tremaining: 14.7s\n",
      "588:\tlearn: 1560.9884763\ttest: 1602.9429250\tbest: 1602.9429250 (588)\ttotal: 21.1s\tremaining: 14.7s\n",
      "589:\tlearn: 1560.7333442\ttest: 1602.8509445\tbest: 1602.8509445 (589)\ttotal: 21.1s\tremaining: 14.7s\n",
      "590:\tlearn: 1560.4529986\ttest: 1602.7015427\tbest: 1602.7015427 (590)\ttotal: 21.1s\tremaining: 14.6s\n",
      "591:\tlearn: 1560.3258926\ttest: 1602.6709641\tbest: 1602.6709641 (591)\ttotal: 21.2s\tremaining: 14.6s\n",
      "592:\tlearn: 1560.0074079\ttest: 1602.4972289\tbest: 1602.4972289 (592)\ttotal: 21.2s\tremaining: 14.6s\n",
      "593:\tlearn: 1559.8051264\ttest: 1602.3626286\tbest: 1602.3626286 (593)\ttotal: 21.2s\tremaining: 14.5s\n",
      "594:\tlearn: 1559.5643299\ttest: 1602.2633696\tbest: 1602.2633696 (594)\ttotal: 21.3s\tremaining: 14.5s\n",
      "595:\tlearn: 1559.3313754\ttest: 1602.1005068\tbest: 1602.1005068 (595)\ttotal: 21.3s\tremaining: 14.4s\n",
      "596:\tlearn: 1559.1189332\ttest: 1601.9565583\tbest: 1601.9565583 (596)\ttotal: 21.3s\tremaining: 14.4s\n",
      "597:\tlearn: 1558.8860433\ttest: 1601.8758498\tbest: 1601.8758498 (597)\ttotal: 21.4s\tremaining: 14.4s\n",
      "598:\tlearn: 1558.5300686\ttest: 1601.6499297\tbest: 1601.6499297 (598)\ttotal: 21.4s\tremaining: 14.3s\n",
      "599:\tlearn: 1558.3786737\ttest: 1601.5891836\tbest: 1601.5891836 (599)\ttotal: 21.5s\tremaining: 14.3s\n",
      "600:\tlearn: 1558.0152532\ttest: 1601.3569714\tbest: 1601.3569714 (600)\ttotal: 21.5s\tremaining: 14.3s\n",
      "601:\tlearn: 1557.8239292\ttest: 1601.1996155\tbest: 1601.1996155 (601)\ttotal: 21.5s\tremaining: 14.2s\n",
      "602:\tlearn: 1557.6384408\ttest: 1601.0558325\tbest: 1601.0558325 (602)\ttotal: 21.6s\tremaining: 14.2s\n",
      "603:\tlearn: 1557.3176125\ttest: 1600.8773286\tbest: 1600.8773286 (603)\ttotal: 21.6s\tremaining: 14.2s\n",
      "604:\tlearn: 1557.1638936\ttest: 1600.8083053\tbest: 1600.8083053 (604)\ttotal: 21.6s\tremaining: 14.1s\n",
      "605:\tlearn: 1556.9290366\ttest: 1600.6797416\tbest: 1600.6797416 (605)\ttotal: 21.7s\tremaining: 14.1s\n",
      "606:\tlearn: 1556.7164156\ttest: 1600.6924774\tbest: 1600.6797416 (605)\ttotal: 21.7s\tremaining: 14s\n",
      "607:\tlearn: 1556.5036241\ttest: 1600.5723426\tbest: 1600.5723426 (607)\ttotal: 21.7s\tremaining: 14s\n",
      "608:\tlearn: 1556.0444332\ttest: 1600.3586385\tbest: 1600.3586385 (608)\ttotal: 21.8s\tremaining: 14s\n",
      "609:\tlearn: 1555.8947865\ttest: 1600.3005719\tbest: 1600.3005719 (609)\ttotal: 21.8s\tremaining: 13.9s\n",
      "610:\tlearn: 1555.7131476\ttest: 1600.2274009\tbest: 1600.2274009 (610)\ttotal: 21.8s\tremaining: 13.9s\n",
      "611:\tlearn: 1555.4362995\ttest: 1600.0534601\tbest: 1600.0534601 (611)\ttotal: 21.9s\tremaining: 13.9s\n",
      "612:\tlearn: 1555.3285845\ttest: 1600.0868442\tbest: 1600.0534601 (611)\ttotal: 21.9s\tremaining: 13.8s\n",
      "613:\tlearn: 1555.0887899\ttest: 1599.9795916\tbest: 1599.9795916 (613)\ttotal: 21.9s\tremaining: 13.8s\n",
      "614:\tlearn: 1554.8782089\ttest: 1599.9590896\tbest: 1599.9590896 (614)\ttotal: 22s\tremaining: 13.7s\n",
      "615:\tlearn: 1554.6840577\ttest: 1599.8241325\tbest: 1599.8241325 (615)\ttotal: 22s\tremaining: 13.7s\n",
      "616:\tlearn: 1554.4578087\ttest: 1599.7322870\tbest: 1599.7322870 (616)\ttotal: 22s\tremaining: 13.7s\n",
      "617:\tlearn: 1554.2529243\ttest: 1599.6317247\tbest: 1599.6317247 (617)\ttotal: 22.1s\tremaining: 13.6s\n",
      "618:\tlearn: 1554.0221171\ttest: 1599.4661181\tbest: 1599.4661181 (618)\ttotal: 22.1s\tremaining: 13.6s\n",
      "619:\tlearn: 1553.8145071\ttest: 1599.2888765\tbest: 1599.2888765 (619)\ttotal: 22.1s\tremaining: 13.6s\n",
      "620:\tlearn: 1553.4614007\ttest: 1599.1757203\tbest: 1599.1757203 (620)\ttotal: 22.2s\tremaining: 13.5s\n",
      "621:\tlearn: 1553.2321349\ttest: 1599.0659421\tbest: 1599.0659421 (621)\ttotal: 22.2s\tremaining: 13.5s\n",
      "622:\tlearn: 1553.0383692\ttest: 1598.9911781\tbest: 1598.9911781 (622)\ttotal: 22.2s\tremaining: 13.5s\n",
      "623:\tlearn: 1552.7972792\ttest: 1598.8097558\tbest: 1598.8097558 (623)\ttotal: 22.3s\tremaining: 13.4s\n",
      "624:\tlearn: 1552.6122589\ttest: 1598.6985391\tbest: 1598.6985391 (624)\ttotal: 22.3s\tremaining: 13.4s\n",
      "625:\tlearn: 1552.2145383\ttest: 1598.4331275\tbest: 1598.4331275 (625)\ttotal: 22.4s\tremaining: 13.4s\n",
      "626:\tlearn: 1551.8556666\ttest: 1598.1855533\tbest: 1598.1855533 (626)\ttotal: 22.4s\tremaining: 13.3s\n",
      "627:\tlearn: 1551.6275873\ttest: 1598.0050611\tbest: 1598.0050611 (627)\ttotal: 22.4s\tremaining: 13.3s\n",
      "628:\tlearn: 1551.3590653\ttest: 1597.8882897\tbest: 1597.8882897 (628)\ttotal: 22.5s\tremaining: 13.2s\n",
      "629:\tlearn: 1551.1281908\ttest: 1597.8081493\tbest: 1597.8081493 (629)\ttotal: 22.5s\tremaining: 13.2s\n",
      "630:\tlearn: 1550.9307366\ttest: 1597.7032056\tbest: 1597.7032056 (630)\ttotal: 22.6s\tremaining: 13.2s\n",
      "631:\tlearn: 1550.7212903\ttest: 1597.5273713\tbest: 1597.5273713 (631)\ttotal: 22.6s\tremaining: 13.2s\n",
      "632:\tlearn: 1550.5518089\ttest: 1597.4374545\tbest: 1597.4374545 (632)\ttotal: 22.6s\tremaining: 13.1s\n",
      "633:\tlearn: 1550.3620495\ttest: 1597.3775107\tbest: 1597.3775107 (633)\ttotal: 22.7s\tremaining: 13.1s\n",
      "634:\tlearn: 1549.9970930\ttest: 1597.0676786\tbest: 1597.0676786 (634)\ttotal: 22.7s\tremaining: 13.1s\n",
      "635:\tlearn: 1549.8093006\ttest: 1596.9245160\tbest: 1596.9245160 (635)\ttotal: 22.8s\tremaining: 13s\n",
      "636:\tlearn: 1549.5509872\ttest: 1596.7821192\tbest: 1596.7821192 (636)\ttotal: 22.8s\tremaining: 13s\n",
      "637:\tlearn: 1549.3081143\ttest: 1596.6340779\tbest: 1596.6340779 (637)\ttotal: 22.8s\tremaining: 13s\n",
      "638:\tlearn: 1549.1249538\ttest: 1596.4937544\tbest: 1596.4937544 (638)\ttotal: 22.9s\tremaining: 12.9s\n",
      "639:\tlearn: 1548.8209332\ttest: 1596.3116795\tbest: 1596.3116795 (639)\ttotal: 22.9s\tremaining: 12.9s\n",
      "640:\tlearn: 1548.3787546\ttest: 1596.0565906\tbest: 1596.0565906 (640)\ttotal: 22.9s\tremaining: 12.8s\n",
      "641:\tlearn: 1548.1682675\ttest: 1595.9531886\tbest: 1595.9531886 (641)\ttotal: 23s\tremaining: 12.8s\n",
      "642:\tlearn: 1547.9893982\ttest: 1595.8423942\tbest: 1595.8423942 (642)\ttotal: 23s\tremaining: 12.8s\n",
      "643:\tlearn: 1547.6280827\ttest: 1595.6107858\tbest: 1595.6107858 (643)\ttotal: 23s\tremaining: 12.7s\n",
      "644:\tlearn: 1547.3396048\ttest: 1595.4948565\tbest: 1595.4948565 (644)\ttotal: 23.1s\tremaining: 12.7s\n",
      "645:\tlearn: 1547.1592514\ttest: 1595.4682542\tbest: 1595.4682542 (645)\ttotal: 23.1s\tremaining: 12.7s\n",
      "646:\tlearn: 1547.0208071\ttest: 1595.4173361\tbest: 1595.4173361 (646)\ttotal: 23.2s\tremaining: 12.6s\n",
      "647:\tlearn: 1546.8234368\ttest: 1595.2925702\tbest: 1595.2925702 (647)\ttotal: 23.2s\tremaining: 12.6s\n",
      "648:\tlearn: 1546.7046935\ttest: 1595.2460480\tbest: 1595.2460480 (648)\ttotal: 23.2s\tremaining: 12.6s\n",
      "649:\tlearn: 1546.5365645\ttest: 1595.1473624\tbest: 1595.1473624 (649)\ttotal: 23.3s\tremaining: 12.5s\n",
      "650:\tlearn: 1546.2282223\ttest: 1594.9181400\tbest: 1594.9181400 (650)\ttotal: 23.3s\tremaining: 12.5s\n",
      "651:\tlearn: 1546.0516629\ttest: 1594.7997824\tbest: 1594.7997824 (651)\ttotal: 23.3s\tremaining: 12.4s\n",
      "652:\tlearn: 1545.7584965\ttest: 1594.6078554\tbest: 1594.6078554 (652)\ttotal: 23.4s\tremaining: 12.4s\n",
      "653:\tlearn: 1545.5306131\ttest: 1594.5284230\tbest: 1594.5284230 (653)\ttotal: 23.4s\tremaining: 12.4s\n",
      "654:\tlearn: 1545.3261352\ttest: 1594.4982684\tbest: 1594.4982684 (654)\ttotal: 23.4s\tremaining: 12.3s\n",
      "655:\tlearn: 1545.1619455\ttest: 1594.3948435\tbest: 1594.3948435 (655)\ttotal: 23.5s\tremaining: 12.3s\n",
      "656:\tlearn: 1544.8562691\ttest: 1594.2270344\tbest: 1594.2270344 (656)\ttotal: 23.5s\tremaining: 12.3s\n",
      "657:\tlearn: 1544.5451049\ttest: 1594.1678285\tbest: 1594.1678285 (657)\ttotal: 23.5s\tremaining: 12.2s\n",
      "658:\tlearn: 1544.2855562\ttest: 1594.0332543\tbest: 1594.0332543 (658)\ttotal: 23.6s\tremaining: 12.2s\n",
      "659:\tlearn: 1544.0983822\ttest: 1593.9709995\tbest: 1593.9709995 (659)\ttotal: 23.6s\tremaining: 12.2s\n",
      "660:\tlearn: 1543.8669495\ttest: 1593.8002829\tbest: 1593.8002829 (660)\ttotal: 23.6s\tremaining: 12.1s\n",
      "661:\tlearn: 1543.6930225\ttest: 1593.7552536\tbest: 1593.7552536 (661)\ttotal: 23.7s\tremaining: 12.1s\n",
      "662:\tlearn: 1543.5047204\ttest: 1593.6483657\tbest: 1593.6483657 (662)\ttotal: 23.7s\tremaining: 12s\n",
      "663:\tlearn: 1543.3170682\ttest: 1593.5642572\tbest: 1593.5642572 (663)\ttotal: 23.7s\tremaining: 12s\n",
      "664:\tlearn: 1543.0877393\ttest: 1593.4760272\tbest: 1593.4760272 (664)\ttotal: 23.8s\tremaining: 12s\n",
      "665:\tlearn: 1542.8829728\ttest: 1593.3874891\tbest: 1593.3874891 (665)\ttotal: 23.8s\tremaining: 11.9s\n",
      "666:\tlearn: 1542.6479737\ttest: 1593.2615169\tbest: 1593.2615169 (666)\ttotal: 23.8s\tremaining: 11.9s\n",
      "667:\tlearn: 1542.4437713\ttest: 1593.1849529\tbest: 1593.1849529 (667)\ttotal: 23.9s\tremaining: 11.9s\n",
      "668:\tlearn: 1542.3116859\ttest: 1593.1289433\tbest: 1593.1289433 (668)\ttotal: 23.9s\tremaining: 11.8s\n",
      "669:\tlearn: 1542.1341406\ttest: 1593.0567612\tbest: 1593.0567612 (669)\ttotal: 23.9s\tremaining: 11.8s\n",
      "670:\tlearn: 1542.0111999\ttest: 1592.9732183\tbest: 1592.9732183 (670)\ttotal: 24s\tremaining: 11.8s\n",
      "671:\tlearn: 1541.7275232\ttest: 1592.8067135\tbest: 1592.8067135 (671)\ttotal: 24s\tremaining: 11.7s\n",
      "672:\tlearn: 1541.4304258\ttest: 1592.5854372\tbest: 1592.5854372 (672)\ttotal: 24s\tremaining: 11.7s\n",
      "673:\tlearn: 1541.3144731\ttest: 1592.5481929\tbest: 1592.5481929 (673)\ttotal: 24.1s\tremaining: 11.6s\n",
      "674:\tlearn: 1541.0831268\ttest: 1592.4500060\tbest: 1592.4500060 (674)\ttotal: 24.1s\tremaining: 11.6s\n",
      "675:\tlearn: 1540.8093408\ttest: 1592.2712248\tbest: 1592.2712248 (675)\ttotal: 24.2s\tremaining: 11.6s\n",
      "676:\tlearn: 1540.6052591\ttest: 1592.2107433\tbest: 1592.2107433 (676)\ttotal: 24.2s\tremaining: 11.5s\n",
      "677:\tlearn: 1540.4262765\ttest: 1592.1377387\tbest: 1592.1377387 (677)\ttotal: 24.2s\tremaining: 11.5s\n",
      "678:\tlearn: 1540.2391333\ttest: 1592.0500202\tbest: 1592.0500202 (678)\ttotal: 24.3s\tremaining: 11.5s\n",
      "679:\tlearn: 1539.9826327\ttest: 1591.9077051\tbest: 1591.9077051 (679)\ttotal: 24.3s\tremaining: 11.4s\n",
      "680:\tlearn: 1539.8283291\ttest: 1591.7661693\tbest: 1591.7661693 (680)\ttotal: 24.3s\tremaining: 11.4s\n",
      "681:\tlearn: 1539.5864901\ttest: 1591.6341363\tbest: 1591.6341363 (681)\ttotal: 24.4s\tremaining: 11.4s\n",
      "682:\tlearn: 1539.3268514\ttest: 1591.4736362\tbest: 1591.4736362 (682)\ttotal: 24.4s\tremaining: 11.3s\n",
      "683:\tlearn: 1539.1748101\ttest: 1591.4446573\tbest: 1591.4446573 (683)\ttotal: 24.4s\tremaining: 11.3s\n",
      "684:\tlearn: 1539.0150932\ttest: 1591.3209043\tbest: 1591.3209043 (684)\ttotal: 24.5s\tremaining: 11.3s\n",
      "685:\tlearn: 1538.8633945\ttest: 1591.2049128\tbest: 1591.2049128 (685)\ttotal: 24.5s\tremaining: 11.2s\n",
      "686:\tlearn: 1538.7161424\ttest: 1591.1179062\tbest: 1591.1179062 (686)\ttotal: 24.5s\tremaining: 11.2s\n",
      "687:\tlearn: 1538.4433621\ttest: 1590.9806698\tbest: 1590.9806698 (687)\ttotal: 24.6s\tremaining: 11.1s\n",
      "688:\tlearn: 1538.2382898\ttest: 1590.8601392\tbest: 1590.8601392 (688)\ttotal: 24.6s\tremaining: 11.1s\n",
      "689:\tlearn: 1537.9968731\ttest: 1590.7182850\tbest: 1590.7182850 (689)\ttotal: 24.6s\tremaining: 11.1s\n",
      "690:\tlearn: 1537.7620706\ttest: 1590.5359547\tbest: 1590.5359547 (690)\ttotal: 24.7s\tremaining: 11s\n",
      "691:\tlearn: 1537.6056897\ttest: 1590.4239516\tbest: 1590.4239516 (691)\ttotal: 24.7s\tremaining: 11s\n",
      "692:\tlearn: 1537.4656024\ttest: 1590.3682961\tbest: 1590.3682961 (692)\ttotal: 24.8s\tremaining: 11s\n",
      "693:\tlearn: 1537.2863488\ttest: 1590.3518699\tbest: 1590.3518699 (693)\ttotal: 24.8s\tremaining: 10.9s\n",
      "694:\tlearn: 1537.1197112\ttest: 1590.2394784\tbest: 1590.2394784 (694)\ttotal: 24.8s\tremaining: 10.9s\n",
      "695:\tlearn: 1536.9545358\ttest: 1590.1748365\tbest: 1590.1748365 (695)\ttotal: 24.9s\tremaining: 10.9s\n",
      "696:\tlearn: 1536.8315190\ttest: 1590.1008609\tbest: 1590.1008609 (696)\ttotal: 24.9s\tremaining: 10.8s\n",
      "697:\tlearn: 1536.6989097\ttest: 1590.0059782\tbest: 1590.0059782 (697)\ttotal: 24.9s\tremaining: 10.8s\n",
      "698:\tlearn: 1536.3774810\ttest: 1589.8161269\tbest: 1589.8161269 (698)\ttotal: 25s\tremaining: 10.8s\n",
      "699:\tlearn: 1536.1465621\ttest: 1589.6923202\tbest: 1589.6923202 (699)\ttotal: 25s\tremaining: 10.7s\n",
      "700:\tlearn: 1535.9979086\ttest: 1589.6532675\tbest: 1589.6532675 (700)\ttotal: 25s\tremaining: 10.7s\n",
      "701:\tlearn: 1535.8118762\ttest: 1589.6286249\tbest: 1589.6286249 (701)\ttotal: 25.1s\tremaining: 10.6s\n",
      "702:\tlearn: 1535.6584496\ttest: 1589.5887739\tbest: 1589.5887739 (702)\ttotal: 25.1s\tremaining: 10.6s\n",
      "703:\tlearn: 1535.4062381\ttest: 1589.4522485\tbest: 1589.4522485 (703)\ttotal: 25.1s\tremaining: 10.6s\n",
      "704:\tlearn: 1535.1371692\ttest: 1589.2800689\tbest: 1589.2800689 (704)\ttotal: 25.2s\tremaining: 10.5s\n",
      "705:\tlearn: 1534.9637382\ttest: 1589.1549259\tbest: 1589.1549259 (705)\ttotal: 25.2s\tremaining: 10.5s\n",
      "706:\tlearn: 1534.7827184\ttest: 1589.0783337\tbest: 1589.0783337 (706)\ttotal: 25.2s\tremaining: 10.5s\n",
      "707:\tlearn: 1534.3831251\ttest: 1588.8503248\tbest: 1588.8503248 (707)\ttotal: 25.3s\tremaining: 10.4s\n",
      "708:\tlearn: 1534.0307308\ttest: 1588.6668320\tbest: 1588.6668320 (708)\ttotal: 25.3s\tremaining: 10.4s\n",
      "709:\tlearn: 1533.8001602\ttest: 1588.5138110\tbest: 1588.5138110 (709)\ttotal: 25.3s\tremaining: 10.3s\n",
      "710:\tlearn: 1533.5926829\ttest: 1588.4551392\tbest: 1588.4551392 (710)\ttotal: 25.4s\tremaining: 10.3s\n",
      "711:\tlearn: 1533.4393251\ttest: 1588.4272513\tbest: 1588.4272513 (711)\ttotal: 25.4s\tremaining: 10.3s\n",
      "712:\tlearn: 1533.1530233\ttest: 1588.2498613\tbest: 1588.2498613 (712)\ttotal: 25.4s\tremaining: 10.2s\n",
      "713:\tlearn: 1532.8584855\ttest: 1588.0911392\tbest: 1588.0911392 (713)\ttotal: 25.5s\tremaining: 10.2s\n",
      "714:\tlearn: 1532.6069916\ttest: 1587.9101922\tbest: 1587.9101922 (714)\ttotal: 25.5s\tremaining: 10.2s\n",
      "715:\tlearn: 1532.3736143\ttest: 1587.7863649\tbest: 1587.7863649 (715)\ttotal: 25.5s\tremaining: 10.1s\n",
      "716:\tlearn: 1532.1637259\ttest: 1587.6873281\tbest: 1587.6873281 (716)\ttotal: 25.6s\tremaining: 10.1s\n",
      "717:\tlearn: 1531.9970651\ttest: 1587.6401107\tbest: 1587.6401107 (717)\ttotal: 25.7s\tremaining: 10.1s\n",
      "718:\tlearn: 1531.7142908\ttest: 1587.5234383\tbest: 1587.5234383 (718)\ttotal: 25.7s\tremaining: 10s\n",
      "719:\tlearn: 1531.4253819\ttest: 1587.3405195\tbest: 1587.3405195 (719)\ttotal: 25.7s\tremaining: 10s\n",
      "720:\tlearn: 1531.1277266\ttest: 1587.1338593\tbest: 1587.1338593 (720)\ttotal: 25.8s\tremaining: 9.98s\n",
      "721:\tlearn: 1530.9480413\ttest: 1587.0887460\tbest: 1587.0887460 (721)\ttotal: 25.8s\tremaining: 9.94s\n",
      "722:\tlearn: 1530.7262703\ttest: 1586.9361748\tbest: 1586.9361748 (722)\ttotal: 25.9s\tremaining: 9.9s\n",
      "723:\tlearn: 1530.5497217\ttest: 1586.8421973\tbest: 1586.8421973 (723)\ttotal: 25.9s\tremaining: 9.87s\n",
      "724:\tlearn: 1530.4445445\ttest: 1586.7973716\tbest: 1586.7973716 (724)\ttotal: 25.9s\tremaining: 9.83s\n",
      "725:\tlearn: 1530.2933413\ttest: 1586.7020785\tbest: 1586.7020785 (725)\ttotal: 26s\tremaining: 9.79s\n",
      "726:\tlearn: 1530.1616687\ttest: 1586.6905810\tbest: 1586.6905810 (726)\ttotal: 26s\tremaining: 9.76s\n",
      "727:\tlearn: 1529.9169777\ttest: 1586.5018445\tbest: 1586.5018445 (727)\ttotal: 26s\tremaining: 9.72s\n",
      "728:\tlearn: 1529.6995555\ttest: 1586.4081729\tbest: 1586.4081729 (728)\ttotal: 26.1s\tremaining: 9.69s\n",
      "729:\tlearn: 1529.4466867\ttest: 1586.3058941\tbest: 1586.3058941 (729)\ttotal: 26.1s\tremaining: 9.65s\n",
      "730:\tlearn: 1529.0825263\ttest: 1586.1401802\tbest: 1586.1401802 (730)\ttotal: 26.1s\tremaining: 9.61s\n",
      "731:\tlearn: 1528.9342930\ttest: 1586.1317613\tbest: 1586.1317613 (731)\ttotal: 26.2s\tremaining: 9.58s\n",
      "732:\tlearn: 1528.6445677\ttest: 1585.9433005\tbest: 1585.9433005 (732)\ttotal: 26.2s\tremaining: 9.54s\n",
      "733:\tlearn: 1528.4418739\ttest: 1585.7636785\tbest: 1585.7636785 (733)\ttotal: 26.2s\tremaining: 9.5s\n",
      "734:\tlearn: 1528.2941299\ttest: 1585.6797171\tbest: 1585.6797171 (734)\ttotal: 26.3s\tremaining: 9.47s\n",
      "735:\tlearn: 1528.0948371\ttest: 1585.5802098\tbest: 1585.5802098 (735)\ttotal: 26.3s\tremaining: 9.43s\n",
      "736:\tlearn: 1527.9192376\ttest: 1585.5282044\tbest: 1585.5282044 (736)\ttotal: 26.3s\tremaining: 9.39s\n",
      "737:\tlearn: 1527.6658001\ttest: 1585.3991213\tbest: 1585.3991213 (737)\ttotal: 26.4s\tremaining: 9.36s\n",
      "738:\tlearn: 1527.4650873\ttest: 1585.2972599\tbest: 1585.2972599 (738)\ttotal: 26.4s\tremaining: 9.32s\n",
      "739:\tlearn: 1527.2292910\ttest: 1585.1820887\tbest: 1585.1820887 (739)\ttotal: 26.4s\tremaining: 9.29s\n",
      "740:\tlearn: 1527.0499906\ttest: 1585.0464473\tbest: 1585.0464473 (740)\ttotal: 26.5s\tremaining: 9.25s\n",
      "741:\tlearn: 1526.8001270\ttest: 1584.8941810\tbest: 1584.8941810 (741)\ttotal: 26.5s\tremaining: 9.21s\n",
      "742:\tlearn: 1526.5150873\ttest: 1584.7822549\tbest: 1584.7822549 (742)\ttotal: 26.5s\tremaining: 9.18s\n",
      "743:\tlearn: 1526.2358748\ttest: 1584.5974393\tbest: 1584.5974393 (743)\ttotal: 26.6s\tremaining: 9.14s\n",
      "744:\tlearn: 1526.0575036\ttest: 1584.5194384\tbest: 1584.5194384 (744)\ttotal: 26.6s\tremaining: 9.1s\n",
      "745:\tlearn: 1525.8932966\ttest: 1584.4719586\tbest: 1584.4719586 (745)\ttotal: 26.6s\tremaining: 9.07s\n",
      "746:\tlearn: 1525.7243226\ttest: 1584.3385391\tbest: 1584.3385391 (746)\ttotal: 26.7s\tremaining: 9.03s\n",
      "747:\tlearn: 1525.5291200\ttest: 1584.2524357\tbest: 1584.2524357 (747)\ttotal: 26.7s\tremaining: 8.99s\n",
      "748:\tlearn: 1525.4039614\ttest: 1584.2015308\tbest: 1584.2015308 (748)\ttotal: 26.7s\tremaining: 8.96s\n",
      "749:\tlearn: 1525.1587455\ttest: 1584.0423790\tbest: 1584.0423790 (749)\ttotal: 26.8s\tremaining: 8.92s\n",
      "750:\tlearn: 1524.8680861\ttest: 1583.8612003\tbest: 1583.8612003 (750)\ttotal: 26.8s\tremaining: 8.89s\n",
      "751:\tlearn: 1524.6540965\ttest: 1583.7959993\tbest: 1583.7959993 (751)\ttotal: 26.8s\tremaining: 8.85s\n",
      "752:\tlearn: 1524.4215679\ttest: 1583.6399599\tbest: 1583.6399599 (752)\ttotal: 26.9s\tremaining: 8.82s\n",
      "753:\tlearn: 1524.3062059\ttest: 1583.6115550\tbest: 1583.6115550 (753)\ttotal: 26.9s\tremaining: 8.78s\n",
      "754:\tlearn: 1524.0927877\ttest: 1583.4983997\tbest: 1583.4983997 (754)\ttotal: 26.9s\tremaining: 8.74s\n",
      "755:\tlearn: 1523.8949024\ttest: 1583.3919039\tbest: 1583.3919039 (755)\ttotal: 27s\tremaining: 8.71s\n",
      "756:\tlearn: 1523.7022905\ttest: 1583.2950258\tbest: 1583.2950258 (756)\ttotal: 27s\tremaining: 8.67s\n",
      "757:\tlearn: 1523.5308828\ttest: 1583.2501682\tbest: 1583.2501682 (757)\ttotal: 27.1s\tremaining: 8.64s\n",
      "758:\tlearn: 1523.3653738\ttest: 1583.1749533\tbest: 1583.1749533 (758)\ttotal: 27.1s\tremaining: 8.6s\n",
      "759:\tlearn: 1523.1360847\ttest: 1583.0931795\tbest: 1583.0931795 (759)\ttotal: 27.1s\tremaining: 8.56s\n",
      "760:\tlearn: 1522.9543249\ttest: 1582.9468523\tbest: 1582.9468523 (760)\ttotal: 27.2s\tremaining: 8.53s\n",
      "761:\tlearn: 1522.8142584\ttest: 1582.9666071\tbest: 1582.9468523 (760)\ttotal: 27.2s\tremaining: 8.49s\n",
      "762:\tlearn: 1522.5839988\ttest: 1582.9353453\tbest: 1582.9353453 (762)\ttotal: 27.2s\tremaining: 8.46s\n",
      "763:\tlearn: 1522.2576767\ttest: 1582.7613998\tbest: 1582.7613998 (763)\ttotal: 27.3s\tremaining: 8.42s\n",
      "764:\tlearn: 1521.9826936\ttest: 1582.6611925\tbest: 1582.6611925 (764)\ttotal: 27.3s\tremaining: 8.38s\n",
      "765:\tlearn: 1521.8431020\ttest: 1582.5663936\tbest: 1582.5663936 (765)\ttotal: 27.3s\tremaining: 8.35s\n",
      "766:\tlearn: 1521.7447311\ttest: 1582.5436080\tbest: 1582.5436080 (766)\ttotal: 27.4s\tremaining: 8.31s\n",
      "767:\tlearn: 1521.5184077\ttest: 1582.3918761\tbest: 1582.3918761 (767)\ttotal: 27.4s\tremaining: 8.27s\n",
      "768:\tlearn: 1521.3498098\ttest: 1582.3127103\tbest: 1582.3127103 (768)\ttotal: 27.4s\tremaining: 8.24s\n",
      "769:\tlearn: 1521.1741079\ttest: 1582.1675407\tbest: 1582.1675407 (769)\ttotal: 27.5s\tremaining: 8.2s\n",
      "770:\tlearn: 1520.8684460\ttest: 1581.9726826\tbest: 1581.9726826 (770)\ttotal: 27.5s\tremaining: 8.17s\n",
      "771:\tlearn: 1520.6935643\ttest: 1581.8984081\tbest: 1581.8984081 (771)\ttotal: 27.5s\tremaining: 8.13s\n",
      "772:\tlearn: 1520.6189952\ttest: 1581.8508851\tbest: 1581.8508851 (772)\ttotal: 27.6s\tremaining: 8.1s\n",
      "773:\tlearn: 1520.4703144\ttest: 1581.8007322\tbest: 1581.8007322 (773)\ttotal: 27.6s\tremaining: 8.06s\n",
      "774:\tlearn: 1520.2930767\ttest: 1581.7448811\tbest: 1581.7448811 (774)\ttotal: 27.6s\tremaining: 8.02s\n",
      "775:\tlearn: 1520.1753087\ttest: 1581.6650322\tbest: 1581.6650322 (775)\ttotal: 27.7s\tremaining: 7.99s\n",
      "776:\tlearn: 1519.9865633\ttest: 1581.5761800\tbest: 1581.5761800 (776)\ttotal: 27.7s\tremaining: 7.95s\n",
      "777:\tlearn: 1519.8349415\ttest: 1581.5179771\tbest: 1581.5179771 (777)\ttotal: 27.7s\tremaining: 7.91s\n",
      "778:\tlearn: 1519.6676806\ttest: 1581.4789653\tbest: 1581.4789653 (778)\ttotal: 27.8s\tremaining: 7.88s\n",
      "779:\tlearn: 1519.5023501\ttest: 1581.3433140\tbest: 1581.3433140 (779)\ttotal: 27.8s\tremaining: 7.84s\n",
      "780:\tlearn: 1519.3717944\ttest: 1581.2533325\tbest: 1581.2533325 (780)\ttotal: 27.8s\tremaining: 7.81s\n",
      "781:\tlearn: 1519.1265999\ttest: 1581.0560618\tbest: 1581.0560618 (781)\ttotal: 27.9s\tremaining: 7.77s\n",
      "782:\tlearn: 1519.0227682\ttest: 1580.9796506\tbest: 1580.9796506 (782)\ttotal: 27.9s\tremaining: 7.73s\n",
      "783:\tlearn: 1518.8950379\ttest: 1580.9073654\tbest: 1580.9073654 (783)\ttotal: 27.9s\tremaining: 7.7s\n",
      "784:\tlearn: 1518.7047135\ttest: 1580.7467287\tbest: 1580.7467287 (784)\ttotal: 28s\tremaining: 7.66s\n",
      "785:\tlearn: 1518.4882791\ttest: 1580.6725310\tbest: 1580.6725310 (785)\ttotal: 28s\tremaining: 7.63s\n",
      "786:\tlearn: 1518.2144286\ttest: 1580.5248067\tbest: 1580.5248067 (786)\ttotal: 28.1s\tremaining: 7.59s\n",
      "787:\tlearn: 1518.0672159\ttest: 1580.4219869\tbest: 1580.4219869 (787)\ttotal: 28.1s\tremaining: 7.56s\n",
      "788:\tlearn: 1517.8517430\ttest: 1580.3315415\tbest: 1580.3315415 (788)\ttotal: 28.1s\tremaining: 7.52s\n",
      "789:\tlearn: 1517.7309586\ttest: 1580.2483929\tbest: 1580.2483929 (789)\ttotal: 28.2s\tremaining: 7.49s\n",
      "790:\tlearn: 1517.5378420\ttest: 1580.1821755\tbest: 1580.1821755 (790)\ttotal: 28.2s\tremaining: 7.45s\n",
      "791:\tlearn: 1517.3648963\ttest: 1580.1323454\tbest: 1580.1323454 (791)\ttotal: 28.2s\tremaining: 7.41s\n",
      "792:\tlearn: 1517.2303530\ttest: 1580.0609563\tbest: 1580.0609563 (792)\ttotal: 28.3s\tremaining: 7.38s\n",
      "793:\tlearn: 1516.8818443\ttest: 1579.8717822\tbest: 1579.8717822 (793)\ttotal: 28.3s\tremaining: 7.34s\n",
      "794:\tlearn: 1516.6365943\ttest: 1579.7813747\tbest: 1579.7813747 (794)\ttotal: 28.3s\tremaining: 7.3s\n",
      "795:\tlearn: 1516.4498104\ttest: 1579.6881452\tbest: 1579.6881452 (795)\ttotal: 28.4s\tremaining: 7.27s\n",
      "796:\tlearn: 1516.2034561\ttest: 1579.5499027\tbest: 1579.5499027 (796)\ttotal: 28.4s\tremaining: 7.24s\n",
      "797:\tlearn: 1516.0565224\ttest: 1579.5070827\tbest: 1579.5070827 (797)\ttotal: 28.5s\tremaining: 7.21s\n",
      "798:\tlearn: 1515.9007617\ttest: 1579.4121849\tbest: 1579.4121849 (798)\ttotal: 28.5s\tremaining: 7.18s\n",
      "799:\tlearn: 1515.7137024\ttest: 1579.2948899\tbest: 1579.2948899 (799)\ttotal: 28.6s\tremaining: 7.14s\n",
      "800:\tlearn: 1515.5753769\ttest: 1579.2099735\tbest: 1579.2099735 (800)\ttotal: 28.6s\tremaining: 7.11s\n",
      "801:\tlearn: 1515.4738562\ttest: 1579.1617368\tbest: 1579.1617368 (801)\ttotal: 28.6s\tremaining: 7.07s\n",
      "802:\tlearn: 1515.2616731\ttest: 1579.0855916\tbest: 1579.0855916 (802)\ttotal: 28.7s\tremaining: 7.03s\n",
      "803:\tlearn: 1515.1072403\ttest: 1578.9685613\tbest: 1578.9685613 (803)\ttotal: 28.7s\tremaining: 7s\n",
      "804:\tlearn: 1514.8789959\ttest: 1578.8239620\tbest: 1578.8239620 (804)\ttotal: 28.7s\tremaining: 6.96s\n",
      "805:\tlearn: 1514.6964555\ttest: 1578.7218758\tbest: 1578.7218758 (805)\ttotal: 28.8s\tremaining: 6.92s\n",
      "806:\tlearn: 1514.4651292\ttest: 1578.6477266\tbest: 1578.6477266 (806)\ttotal: 28.8s\tremaining: 6.89s\n",
      "807:\tlearn: 1514.3022562\ttest: 1578.5034990\tbest: 1578.5034990 (807)\ttotal: 28.9s\tremaining: 6.87s\n",
      "808:\tlearn: 1514.0855656\ttest: 1578.3028597\tbest: 1578.3028597 (808)\ttotal: 29s\tremaining: 6.84s\n",
      "809:\tlearn: 1513.8378772\ttest: 1578.2773055\tbest: 1578.2773055 (809)\ttotal: 29s\tremaining: 6.8s\n",
      "810:\tlearn: 1513.6396913\ttest: 1578.1790552\tbest: 1578.1790552 (810)\ttotal: 29.1s\tremaining: 6.77s\n",
      "811:\tlearn: 1513.4250537\ttest: 1578.1215096\tbest: 1578.1215096 (811)\ttotal: 29.1s\tremaining: 6.74s\n",
      "812:\tlearn: 1513.2970704\ttest: 1578.0837909\tbest: 1578.0837909 (812)\ttotal: 29.1s\tremaining: 6.7s\n",
      "813:\tlearn: 1513.0764346\ttest: 1577.9714551\tbest: 1577.9714551 (813)\ttotal: 29.2s\tremaining: 6.66s\n",
      "814:\tlearn: 1512.8922880\ttest: 1577.8712335\tbest: 1577.8712335 (814)\ttotal: 29.2s\tremaining: 6.63s\n",
      "815:\tlearn: 1512.5541684\ttest: 1577.7192495\tbest: 1577.7192495 (815)\ttotal: 29.2s\tremaining: 6.59s\n",
      "816:\tlearn: 1512.3178021\ttest: 1577.6260950\tbest: 1577.6260950 (816)\ttotal: 29.3s\tremaining: 6.55s\n",
      "817:\tlearn: 1512.1130727\ttest: 1577.5343000\tbest: 1577.5343000 (817)\ttotal: 29.3s\tremaining: 6.52s\n",
      "818:\tlearn: 1511.9097301\ttest: 1577.3469143\tbest: 1577.3469143 (818)\ttotal: 29.3s\tremaining: 6.48s\n",
      "819:\tlearn: 1511.8191012\ttest: 1577.3064405\tbest: 1577.3064405 (819)\ttotal: 29.4s\tremaining: 6.45s\n",
      "820:\tlearn: 1511.6579909\ttest: 1577.1586137\tbest: 1577.1586137 (820)\ttotal: 29.4s\tremaining: 6.41s\n",
      "821:\tlearn: 1511.4007170\ttest: 1577.0645389\tbest: 1577.0645389 (821)\ttotal: 29.4s\tremaining: 6.37s\n",
      "822:\tlearn: 1511.2121953\ttest: 1576.9858891\tbest: 1576.9858891 (822)\ttotal: 29.5s\tremaining: 6.34s\n",
      "823:\tlearn: 1511.0931755\ttest: 1576.9458597\tbest: 1576.9458597 (823)\ttotal: 29.5s\tremaining: 6.3s\n",
      "824:\tlearn: 1510.9096637\ttest: 1576.8543601\tbest: 1576.8543601 (824)\ttotal: 29.5s\tremaining: 6.27s\n",
      "825:\tlearn: 1510.6742392\ttest: 1576.7301682\tbest: 1576.7301682 (825)\ttotal: 29.6s\tremaining: 6.23s\n",
      "826:\tlearn: 1510.4790447\ttest: 1576.6707137\tbest: 1576.6707137 (826)\ttotal: 29.6s\tremaining: 6.19s\n",
      "827:\tlearn: 1510.3151511\ttest: 1576.5988955\tbest: 1576.5988955 (827)\ttotal: 29.6s\tremaining: 6.16s\n",
      "828:\tlearn: 1510.1236903\ttest: 1576.5365388\tbest: 1576.5365388 (828)\ttotal: 29.7s\tremaining: 6.12s\n",
      "829:\tlearn: 1509.9816398\ttest: 1576.4519630\tbest: 1576.4519630 (829)\ttotal: 29.7s\tremaining: 6.08s\n",
      "830:\tlearn: 1509.7405405\ttest: 1576.3063646\tbest: 1576.3063646 (830)\ttotal: 29.7s\tremaining: 6.05s\n",
      "831:\tlearn: 1509.5787831\ttest: 1576.2548670\tbest: 1576.2548670 (831)\ttotal: 29.8s\tremaining: 6.01s\n",
      "832:\tlearn: 1509.3796956\ttest: 1576.1471673\tbest: 1576.1471673 (832)\ttotal: 29.8s\tremaining: 5.98s\n",
      "833:\tlearn: 1509.2296162\ttest: 1576.1006998\tbest: 1576.1006998 (833)\ttotal: 29.9s\tremaining: 5.94s\n",
      "834:\tlearn: 1509.0874075\ttest: 1576.0726736\tbest: 1576.0726736 (834)\ttotal: 29.9s\tremaining: 5.91s\n",
      "835:\tlearn: 1508.8300121\ttest: 1575.8412112\tbest: 1575.8412112 (835)\ttotal: 29.9s\tremaining: 5.87s\n",
      "836:\tlearn: 1508.7143596\ttest: 1575.8107928\tbest: 1575.8107928 (836)\ttotal: 30s\tremaining: 5.83s\n",
      "837:\tlearn: 1508.4774693\ttest: 1575.6939986\tbest: 1575.6939986 (837)\ttotal: 30s\tremaining: 5.8s\n",
      "838:\tlearn: 1508.3574518\ttest: 1575.6654754\tbest: 1575.6654754 (838)\ttotal: 30s\tremaining: 5.76s\n",
      "839:\tlearn: 1508.1716713\ttest: 1575.6548398\tbest: 1575.6548398 (839)\ttotal: 30.1s\tremaining: 5.73s\n",
      "840:\tlearn: 1507.9322963\ttest: 1575.5510065\tbest: 1575.5510065 (840)\ttotal: 30.1s\tremaining: 5.69s\n",
      "841:\tlearn: 1507.7865383\ttest: 1575.4897027\tbest: 1575.4897027 (841)\ttotal: 30.1s\tremaining: 5.65s\n",
      "842:\tlearn: 1507.6955914\ttest: 1575.4327789\tbest: 1575.4327789 (842)\ttotal: 30.2s\tremaining: 5.62s\n",
      "843:\tlearn: 1507.5572534\ttest: 1575.3817688\tbest: 1575.3817688 (843)\ttotal: 30.2s\tremaining: 5.58s\n",
      "844:\tlearn: 1507.3874778\ttest: 1575.2214493\tbest: 1575.2214493 (844)\ttotal: 30.2s\tremaining: 5.55s\n",
      "845:\tlearn: 1507.1990538\ttest: 1575.1335608\tbest: 1575.1335608 (845)\ttotal: 30.3s\tremaining: 5.51s\n",
      "846:\tlearn: 1507.0309335\ttest: 1575.0493245\tbest: 1575.0493245 (846)\ttotal: 30.3s\tremaining: 5.47s\n",
      "847:\tlearn: 1506.6778480\ttest: 1574.8673444\tbest: 1574.8673444 (847)\ttotal: 30.3s\tremaining: 5.44s\n",
      "848:\tlearn: 1506.5672479\ttest: 1574.8471882\tbest: 1574.8471882 (848)\ttotal: 30.4s\tremaining: 5.4s\n",
      "849:\tlearn: 1506.4904770\ttest: 1574.8111732\tbest: 1574.8111732 (849)\ttotal: 30.4s\tremaining: 5.37s\n",
      "850:\tlearn: 1506.3074949\ttest: 1574.7371947\tbest: 1574.7371947 (850)\ttotal: 30.5s\tremaining: 5.33s\n",
      "851:\tlearn: 1506.2392631\ttest: 1574.6808510\tbest: 1574.6808510 (851)\ttotal: 30.5s\tremaining: 5.29s\n",
      "852:\tlearn: 1505.9274737\ttest: 1574.5386441\tbest: 1574.5386441 (852)\ttotal: 30.5s\tremaining: 5.26s\n",
      "853:\tlearn: 1505.6947802\ttest: 1574.4638679\tbest: 1574.4638679 (853)\ttotal: 30.6s\tremaining: 5.22s\n",
      "854:\tlearn: 1505.5192524\ttest: 1574.3695573\tbest: 1574.3695573 (854)\ttotal: 30.6s\tremaining: 5.19s\n",
      "855:\tlearn: 1505.3397328\ttest: 1574.2835122\tbest: 1574.2835122 (855)\ttotal: 30.6s\tremaining: 5.15s\n",
      "856:\tlearn: 1505.1670527\ttest: 1574.2173588\tbest: 1574.2173588 (856)\ttotal: 30.7s\tremaining: 5.11s\n",
      "857:\tlearn: 1505.0355070\ttest: 1574.1706481\tbest: 1574.1706481 (857)\ttotal: 30.7s\tremaining: 5.08s\n",
      "858:\tlearn: 1504.8998501\ttest: 1574.1360507\tbest: 1574.1360507 (858)\ttotal: 30.7s\tremaining: 5.04s\n",
      "859:\tlearn: 1504.7752680\ttest: 1574.0754478\tbest: 1574.0754478 (859)\ttotal: 30.8s\tremaining: 5.01s\n",
      "860:\tlearn: 1504.6029771\ttest: 1574.0632544\tbest: 1574.0632544 (860)\ttotal: 30.8s\tremaining: 4.97s\n",
      "861:\tlearn: 1504.5538001\ttest: 1574.0338233\tbest: 1574.0338233 (861)\ttotal: 30.8s\tremaining: 4.93s\n",
      "862:\tlearn: 1504.3224614\ttest: 1573.8880087\tbest: 1573.8880087 (862)\ttotal: 30.9s\tremaining: 4.9s\n",
      "863:\tlearn: 1504.1094345\ttest: 1573.8158892\tbest: 1573.8158892 (863)\ttotal: 30.9s\tremaining: 4.86s\n",
      "864:\tlearn: 1503.9642282\ttest: 1573.7195152\tbest: 1573.7195152 (864)\ttotal: 30.9s\tremaining: 4.83s\n",
      "865:\tlearn: 1503.7333661\ttest: 1573.5922784\tbest: 1573.5922784 (865)\ttotal: 31s\tremaining: 4.79s\n",
      "866:\tlearn: 1503.5862151\ttest: 1573.5254495\tbest: 1573.5254495 (866)\ttotal: 31s\tremaining: 4.75s\n",
      "867:\tlearn: 1503.4216145\ttest: 1573.4259702\tbest: 1573.4259702 (867)\ttotal: 31.1s\tremaining: 4.72s\n",
      "868:\tlearn: 1503.2897822\ttest: 1573.3588708\tbest: 1573.3588708 (868)\ttotal: 31.1s\tremaining: 4.69s\n",
      "869:\tlearn: 1503.1573238\ttest: 1573.3312035\tbest: 1573.3312035 (869)\ttotal: 31.2s\tremaining: 4.66s\n",
      "870:\tlearn: 1503.0111407\ttest: 1573.2707040\tbest: 1573.2707040 (870)\ttotal: 31.2s\tremaining: 4.62s\n",
      "871:\tlearn: 1502.8108459\ttest: 1573.1533938\tbest: 1573.1533938 (871)\ttotal: 31.2s\tremaining: 4.59s\n",
      "872:\tlearn: 1502.6847995\ttest: 1573.1561830\tbest: 1573.1533938 (871)\ttotal: 31.3s\tremaining: 4.55s\n",
      "873:\tlearn: 1502.5672309\ttest: 1573.0999109\tbest: 1573.0999109 (873)\ttotal: 31.3s\tremaining: 4.51s\n",
      "874:\tlearn: 1502.3640695\ttest: 1573.0215832\tbest: 1573.0215832 (874)\ttotal: 31.3s\tremaining: 4.48s\n",
      "875:\tlearn: 1502.3041296\ttest: 1572.9766072\tbest: 1572.9766072 (875)\ttotal: 31.4s\tremaining: 4.44s\n",
      "876:\tlearn: 1501.9837713\ttest: 1572.8069087\tbest: 1572.8069087 (876)\ttotal: 31.4s\tremaining: 4.41s\n",
      "877:\tlearn: 1501.8785522\ttest: 1572.7508113\tbest: 1572.7508113 (877)\ttotal: 31.5s\tremaining: 4.37s\n",
      "878:\tlearn: 1501.6837764\ttest: 1572.6764280\tbest: 1572.6764280 (878)\ttotal: 31.5s\tremaining: 4.33s\n",
      "879:\tlearn: 1501.5232908\ttest: 1572.5932338\tbest: 1572.5932338 (879)\ttotal: 31.5s\tremaining: 4.3s\n",
      "880:\tlearn: 1501.3306850\ttest: 1572.4802753\tbest: 1572.4802753 (880)\ttotal: 31.6s\tremaining: 4.26s\n",
      "881:\tlearn: 1501.2065577\ttest: 1572.3146411\tbest: 1572.3146411 (881)\ttotal: 31.6s\tremaining: 4.23s\n",
      "882:\tlearn: 1501.0396453\ttest: 1572.1842437\tbest: 1572.1842437 (882)\ttotal: 31.6s\tremaining: 4.19s\n",
      "883:\tlearn: 1500.9030167\ttest: 1572.1541338\tbest: 1572.1541338 (883)\ttotal: 31.7s\tremaining: 4.16s\n",
      "884:\tlearn: 1500.8335731\ttest: 1572.1228618\tbest: 1572.1228618 (884)\ttotal: 31.7s\tremaining: 4.12s\n",
      "885:\tlearn: 1500.6264433\ttest: 1572.1067242\tbest: 1572.1067242 (885)\ttotal: 31.7s\tremaining: 4.08s\n",
      "886:\tlearn: 1500.5199836\ttest: 1572.0916902\tbest: 1572.0916902 (886)\ttotal: 31.8s\tremaining: 4.05s\n",
      "887:\tlearn: 1500.4047728\ttest: 1572.0514615\tbest: 1572.0514615 (887)\ttotal: 31.8s\tremaining: 4.01s\n",
      "888:\tlearn: 1500.2343698\ttest: 1571.9386793\tbest: 1571.9386793 (888)\ttotal: 31.8s\tremaining: 3.98s\n",
      "889:\tlearn: 1499.9325482\ttest: 1571.8187733\tbest: 1571.8187733 (889)\ttotal: 31.9s\tremaining: 3.94s\n",
      "890:\tlearn: 1499.8132579\ttest: 1571.7932945\tbest: 1571.7932945 (890)\ttotal: 31.9s\tremaining: 3.9s\n",
      "891:\tlearn: 1499.6339151\ttest: 1571.7382325\tbest: 1571.7382325 (891)\ttotal: 32s\tremaining: 3.87s\n",
      "892:\tlearn: 1499.4957348\ttest: 1571.6311910\tbest: 1571.6311910 (892)\ttotal: 32s\tremaining: 3.83s\n",
      "893:\tlearn: 1499.2981481\ttest: 1571.5218060\tbest: 1571.5218060 (893)\ttotal: 32s\tremaining: 3.8s\n",
      "894:\tlearn: 1499.1034523\ttest: 1571.4575972\tbest: 1571.4575972 (894)\ttotal: 32.1s\tremaining: 3.76s\n",
      "895:\tlearn: 1498.9788900\ttest: 1571.4187797\tbest: 1571.4187797 (895)\ttotal: 32.1s\tremaining: 3.72s\n",
      "896:\tlearn: 1498.8222560\ttest: 1571.3855348\tbest: 1571.3855348 (896)\ttotal: 32.1s\tremaining: 3.69s\n",
      "897:\tlearn: 1498.7102828\ttest: 1571.3793894\tbest: 1571.3793894 (897)\ttotal: 32.2s\tremaining: 3.65s\n",
      "898:\tlearn: 1498.5191355\ttest: 1571.2658503\tbest: 1571.2658503 (898)\ttotal: 32.2s\tremaining: 3.62s\n",
      "899:\tlearn: 1498.3306547\ttest: 1571.2413800\tbest: 1571.2413800 (899)\ttotal: 32.2s\tremaining: 3.58s\n",
      "900:\tlearn: 1498.1195756\ttest: 1571.1327745\tbest: 1571.1327745 (900)\ttotal: 32.3s\tremaining: 3.54s\n",
      "901:\tlearn: 1498.0199949\ttest: 1571.0786458\tbest: 1571.0786458 (901)\ttotal: 32.3s\tremaining: 3.51s\n",
      "902:\tlearn: 1497.8595012\ttest: 1571.0380988\tbest: 1571.0380988 (902)\ttotal: 32.3s\tremaining: 3.47s\n",
      "903:\tlearn: 1497.6669458\ttest: 1570.8863006\tbest: 1570.8863006 (903)\ttotal: 32.4s\tremaining: 3.44s\n",
      "904:\tlearn: 1497.5069405\ttest: 1570.8313185\tbest: 1570.8313185 (904)\ttotal: 32.4s\tremaining: 3.4s\n",
      "905:\tlearn: 1497.3858521\ttest: 1570.8395766\tbest: 1570.8313185 (904)\ttotal: 32.4s\tremaining: 3.36s\n",
      "906:\tlearn: 1497.2888547\ttest: 1570.7928334\tbest: 1570.7928334 (906)\ttotal: 32.5s\tremaining: 3.33s\n",
      "907:\tlearn: 1497.0301159\ttest: 1570.6599452\tbest: 1570.6599452 (907)\ttotal: 32.5s\tremaining: 3.29s\n",
      "908:\tlearn: 1496.8741520\ttest: 1570.6007365\tbest: 1570.6007365 (908)\ttotal: 32.5s\tremaining: 3.26s\n",
      "909:\tlearn: 1496.7640790\ttest: 1570.5612183\tbest: 1570.5612183 (909)\ttotal: 32.6s\tremaining: 3.22s\n",
      "910:\tlearn: 1496.5888371\ttest: 1570.5109852\tbest: 1570.5109852 (910)\ttotal: 32.6s\tremaining: 3.18s\n",
      "911:\tlearn: 1496.4350974\ttest: 1570.4689592\tbest: 1570.4689592 (911)\ttotal: 32.6s\tremaining: 3.15s\n",
      "912:\tlearn: 1496.3544093\ttest: 1570.4932940\tbest: 1570.4689592 (911)\ttotal: 32.7s\tremaining: 3.11s\n",
      "913:\tlearn: 1496.2704887\ttest: 1570.4735804\tbest: 1570.4689592 (911)\ttotal: 32.7s\tremaining: 3.08s\n",
      "914:\tlearn: 1496.1897374\ttest: 1570.4559367\tbest: 1570.4559367 (914)\ttotal: 32.7s\tremaining: 3.04s\n",
      "915:\tlearn: 1496.0195941\ttest: 1570.3321064\tbest: 1570.3321064 (915)\ttotal: 32.8s\tremaining: 3s\n",
      "916:\tlearn: 1495.8420317\ttest: 1570.2787897\tbest: 1570.2787897 (916)\ttotal: 32.8s\tremaining: 2.97s\n",
      "917:\tlearn: 1495.7120513\ttest: 1570.2359726\tbest: 1570.2359726 (917)\ttotal: 32.8s\tremaining: 2.93s\n",
      "918:\tlearn: 1495.6301019\ttest: 1570.2613508\tbest: 1570.2359726 (917)\ttotal: 32.9s\tremaining: 2.9s\n",
      "919:\tlearn: 1495.5263051\ttest: 1570.2140233\tbest: 1570.2140233 (919)\ttotal: 32.9s\tremaining: 2.86s\n",
      "920:\tlearn: 1495.3316140\ttest: 1570.1166271\tbest: 1570.1166271 (920)\ttotal: 32.9s\tremaining: 2.83s\n",
      "921:\tlearn: 1495.1463637\ttest: 1569.9525486\tbest: 1569.9525486 (921)\ttotal: 33s\tremaining: 2.79s\n",
      "922:\tlearn: 1494.9942083\ttest: 1569.8134416\tbest: 1569.8134416 (922)\ttotal: 33s\tremaining: 2.75s\n",
      "923:\tlearn: 1494.8257920\ttest: 1569.6912327\tbest: 1569.6912327 (923)\ttotal: 33s\tremaining: 2.72s\n",
      "924:\tlearn: 1494.7099511\ttest: 1569.6486496\tbest: 1569.6486496 (924)\ttotal: 33.1s\tremaining: 2.68s\n",
      "925:\tlearn: 1494.4794530\ttest: 1569.5418741\tbest: 1569.5418741 (925)\ttotal: 33.1s\tremaining: 2.65s\n",
      "926:\tlearn: 1494.2859012\ttest: 1569.4322279\tbest: 1569.4322279 (926)\ttotal: 33.1s\tremaining: 2.61s\n",
      "927:\tlearn: 1494.1619408\ttest: 1569.4167828\tbest: 1569.4167828 (927)\ttotal: 33.2s\tremaining: 2.57s\n",
      "928:\tlearn: 1494.0464286\ttest: 1569.3399515\tbest: 1569.3399515 (928)\ttotal: 33.2s\tremaining: 2.54s\n",
      "929:\tlearn: 1493.8532147\ttest: 1569.2981360\tbest: 1569.2981360 (929)\ttotal: 33.3s\tremaining: 2.5s\n",
      "930:\tlearn: 1493.7352654\ttest: 1569.2142542\tbest: 1569.2142542 (930)\ttotal: 33.3s\tremaining: 2.47s\n",
      "931:\tlearn: 1493.5864966\ttest: 1569.1333758\tbest: 1569.1333758 (931)\ttotal: 33.3s\tremaining: 2.43s\n",
      "932:\tlearn: 1493.3409439\ttest: 1569.0841780\tbest: 1569.0841780 (932)\ttotal: 33.4s\tremaining: 2.4s\n",
      "933:\tlearn: 1493.1384216\ttest: 1568.9664203\tbest: 1568.9664203 (933)\ttotal: 33.4s\tremaining: 2.36s\n",
      "934:\tlearn: 1493.0152974\ttest: 1568.8747887\tbest: 1568.8747887 (934)\ttotal: 33.4s\tremaining: 2.32s\n",
      "935:\tlearn: 1492.6963131\ttest: 1568.6574699\tbest: 1568.6574699 (935)\ttotal: 33.5s\tremaining: 2.29s\n",
      "936:\tlearn: 1492.5718500\ttest: 1568.6005925\tbest: 1568.6005925 (936)\ttotal: 33.5s\tremaining: 2.25s\n",
      "937:\tlearn: 1492.4954986\ttest: 1568.5847797\tbest: 1568.5847797 (937)\ttotal: 33.5s\tremaining: 2.22s\n",
      "938:\tlearn: 1492.3623727\ttest: 1568.5508514\tbest: 1568.5508514 (938)\ttotal: 33.6s\tremaining: 2.18s\n",
      "939:\tlearn: 1492.2060823\ttest: 1568.4874920\tbest: 1568.4874920 (939)\ttotal: 33.6s\tremaining: 2.14s\n",
      "940:\tlearn: 1492.0365487\ttest: 1568.3766903\tbest: 1568.3766903 (940)\ttotal: 33.6s\tremaining: 2.11s\n",
      "941:\tlearn: 1491.8792341\ttest: 1568.3185615\tbest: 1568.3185615 (941)\ttotal: 33.7s\tremaining: 2.07s\n",
      "942:\tlearn: 1491.7602207\ttest: 1568.2919774\tbest: 1568.2919774 (942)\ttotal: 33.7s\tremaining: 2.04s\n",
      "943:\tlearn: 1491.6063238\ttest: 1568.2125577\tbest: 1568.2125577 (943)\ttotal: 33.8s\tremaining: 2s\n",
      "944:\tlearn: 1491.4556835\ttest: 1568.1908127\tbest: 1568.1908127 (944)\ttotal: 33.8s\tremaining: 1.97s\n",
      "945:\tlearn: 1491.1580695\ttest: 1568.0390858\tbest: 1568.0390858 (945)\ttotal: 33.9s\tremaining: 1.93s\n",
      "946:\tlearn: 1491.0782321\ttest: 1568.0724834\tbest: 1568.0390858 (945)\ttotal: 33.9s\tremaining: 1.9s\n",
      "947:\tlearn: 1490.9714215\ttest: 1568.0276838\tbest: 1568.0276838 (947)\ttotal: 33.9s\tremaining: 1.86s\n",
      "948:\tlearn: 1490.8324217\ttest: 1567.9505455\tbest: 1567.9505455 (948)\ttotal: 34s\tremaining: 1.82s\n",
      "949:\tlearn: 1490.7247652\ttest: 1567.9612706\tbest: 1567.9505455 (948)\ttotal: 34s\tremaining: 1.79s\n",
      "950:\tlearn: 1490.5346292\ttest: 1567.8653175\tbest: 1567.8653175 (950)\ttotal: 34s\tremaining: 1.75s\n",
      "951:\tlearn: 1490.3879966\ttest: 1567.8051681\tbest: 1567.8051681 (951)\ttotal: 34.1s\tremaining: 1.72s\n",
      "952:\tlearn: 1490.1985033\ttest: 1567.7223823\tbest: 1567.7223823 (952)\ttotal: 34.1s\tremaining: 1.68s\n",
      "953:\tlearn: 1490.0624826\ttest: 1567.5944948\tbest: 1567.5944948 (953)\ttotal: 34.1s\tremaining: 1.65s\n",
      "954:\tlearn: 1489.9521785\ttest: 1567.5777778\tbest: 1567.5777778 (954)\ttotal: 34.2s\tremaining: 1.61s\n",
      "955:\tlearn: 1489.8350200\ttest: 1567.5562653\tbest: 1567.5562653 (955)\ttotal: 34.2s\tremaining: 1.57s\n",
      "956:\tlearn: 1489.7186377\ttest: 1567.4845946\tbest: 1567.4845946 (956)\ttotal: 34.2s\tremaining: 1.54s\n",
      "957:\tlearn: 1489.5026687\ttest: 1567.3979475\tbest: 1567.3979475 (957)\ttotal: 34.3s\tremaining: 1.5s\n",
      "958:\tlearn: 1489.3772798\ttest: 1567.3503233\tbest: 1567.3503233 (958)\ttotal: 34.3s\tremaining: 1.47s\n",
      "959:\tlearn: 1489.1789885\ttest: 1567.2466724\tbest: 1567.2466724 (959)\ttotal: 34.3s\tremaining: 1.43s\n",
      "960:\tlearn: 1489.0169574\ttest: 1567.1769264\tbest: 1567.1769264 (960)\ttotal: 34.4s\tremaining: 1.4s\n",
      "961:\tlearn: 1488.8756563\ttest: 1567.1593684\tbest: 1567.1593684 (961)\ttotal: 34.4s\tremaining: 1.36s\n",
      "962:\tlearn: 1488.6219754\ttest: 1567.0524828\tbest: 1567.0524828 (962)\ttotal: 34.5s\tremaining: 1.32s\n",
      "963:\tlearn: 1488.4637552\ttest: 1566.9967759\tbest: 1566.9967759 (963)\ttotal: 34.5s\tremaining: 1.29s\n",
      "964:\tlearn: 1488.2947137\ttest: 1566.9695539\tbest: 1566.9695539 (964)\ttotal: 34.5s\tremaining: 1.25s\n",
      "965:\tlearn: 1488.0860107\ttest: 1566.9291640\tbest: 1566.9291640 (965)\ttotal: 34.6s\tremaining: 1.22s\n",
      "966:\tlearn: 1487.9698474\ttest: 1566.8922050\tbest: 1566.8922050 (966)\ttotal: 34.6s\tremaining: 1.18s\n",
      "967:\tlearn: 1487.8432285\ttest: 1566.8321012\tbest: 1566.8321012 (967)\ttotal: 34.6s\tremaining: 1.14s\n",
      "968:\tlearn: 1487.7321425\ttest: 1566.8100129\tbest: 1566.8100129 (968)\ttotal: 34.7s\tremaining: 1.11s\n",
      "969:\tlearn: 1487.6125167\ttest: 1566.7540761\tbest: 1566.7540761 (969)\ttotal: 34.7s\tremaining: 1.07s\n",
      "970:\tlearn: 1487.4097797\ttest: 1566.6758967\tbest: 1566.6758967 (970)\ttotal: 34.7s\tremaining: 1.04s\n",
      "971:\tlearn: 1487.2672108\ttest: 1566.6121239\tbest: 1566.6121239 (971)\ttotal: 34.8s\tremaining: 1s\n",
      "972:\tlearn: 1486.9388852\ttest: 1566.4163394\tbest: 1566.4163394 (972)\ttotal: 34.8s\tremaining: 966ms\n",
      "973:\tlearn: 1486.6991227\ttest: 1566.2982734\tbest: 1566.2982734 (973)\ttotal: 34.8s\tremaining: 930ms\n",
      "974:\tlearn: 1486.5565697\ttest: 1566.2165722\tbest: 1566.2165722 (974)\ttotal: 34.9s\tremaining: 894ms\n",
      "975:\tlearn: 1486.3853395\ttest: 1566.1969359\tbest: 1566.1969359 (975)\ttotal: 34.9s\tremaining: 858ms\n",
      "976:\tlearn: 1486.2426206\ttest: 1566.1333538\tbest: 1566.1333538 (976)\ttotal: 34.9s\tremaining: 823ms\n",
      "977:\tlearn: 1486.0510818\ttest: 1566.0700376\tbest: 1566.0700376 (977)\ttotal: 35s\tremaining: 787ms\n",
      "978:\tlearn: 1485.8655273\ttest: 1566.0407884\tbest: 1566.0407884 (978)\ttotal: 35s\tremaining: 751ms\n",
      "979:\tlearn: 1485.6973709\ttest: 1565.9218662\tbest: 1565.9218662 (979)\ttotal: 35s\tremaining: 715ms\n",
      "980:\tlearn: 1485.5296580\ttest: 1565.8817819\tbest: 1565.8817819 (980)\ttotal: 35.1s\tremaining: 679ms\n",
      "981:\tlearn: 1485.3331170\ttest: 1565.8496243\tbest: 1565.8496243 (981)\ttotal: 35.1s\tremaining: 644ms\n",
      "982:\tlearn: 1485.1889396\ttest: 1565.7899063\tbest: 1565.7899063 (982)\ttotal: 35.1s\tremaining: 608ms\n",
      "983:\tlearn: 1485.0878253\ttest: 1565.7424301\tbest: 1565.7424301 (983)\ttotal: 35.2s\tremaining: 572ms\n",
      "984:\tlearn: 1484.9028055\ttest: 1565.7152982\tbest: 1565.7152982 (984)\ttotal: 35.2s\tremaining: 536ms\n",
      "985:\tlearn: 1484.6200224\ttest: 1565.5078146\tbest: 1565.5078146 (985)\ttotal: 35.2s\tremaining: 501ms\n",
      "986:\tlearn: 1484.4366025\ttest: 1565.4830746\tbest: 1565.4830746 (986)\ttotal: 35.3s\tremaining: 465ms\n",
      "987:\tlearn: 1484.2574116\ttest: 1565.4096449\tbest: 1565.4096449 (987)\ttotal: 35.3s\tremaining: 429ms\n",
      "988:\tlearn: 1484.0597569\ttest: 1565.2926953\tbest: 1565.2926953 (988)\ttotal: 35.4s\tremaining: 393ms\n",
      "989:\tlearn: 1483.8439435\ttest: 1565.1324538\tbest: 1565.1324538 (989)\ttotal: 35.4s\tremaining: 358ms\n",
      "990:\tlearn: 1483.6598170\ttest: 1565.0916324\tbest: 1565.0916324 (990)\ttotal: 35.4s\tremaining: 322ms\n",
      "991:\tlearn: 1483.5594491\ttest: 1565.0765720\tbest: 1565.0765720 (991)\ttotal: 35.5s\tremaining: 286ms\n",
      "992:\tlearn: 1483.3860674\ttest: 1564.9748970\tbest: 1564.9748970 (992)\ttotal: 35.5s\tremaining: 250ms\n",
      "993:\tlearn: 1483.2409074\ttest: 1564.8782711\tbest: 1564.8782711 (993)\ttotal: 35.5s\tremaining: 215ms\n",
      "994:\tlearn: 1483.0472646\ttest: 1564.7259437\tbest: 1564.7259437 (994)\ttotal: 35.6s\tremaining: 179ms\n",
      "995:\tlearn: 1482.8668059\ttest: 1564.6450729\tbest: 1564.6450729 (995)\ttotal: 35.6s\tremaining: 143ms\n",
      "996:\tlearn: 1482.7215228\ttest: 1564.5511651\tbest: 1564.5511651 (996)\ttotal: 35.6s\tremaining: 107ms\n",
      "997:\tlearn: 1482.5203132\ttest: 1564.4813279\tbest: 1564.4813279 (997)\ttotal: 35.7s\tremaining: 71.5ms\n",
      "998:\tlearn: 1482.3676186\ttest: 1564.4011744\tbest: 1564.4011744 (998)\ttotal: 35.7s\tremaining: 35.7ms\n",
      "999:\tlearn: 1482.0977378\ttest: 1564.2967849\tbest: 1564.2967849 (999)\ttotal: 35.8s\tremaining: 0us\n",
      "\n",
      "bestTest = 1564.296785\n",
      "bestIteration = 999\n",
      "\n",
      "1:\tloss: 1564.2967849\tbest: 1564.2967849 (1)\ttotal: 50.7s\tremaining: 0us\n",
      "Estimating final quality...\n",
      "Training on fold [0/3]\n",
      "0:\tlearn: 6538.4698458\ttest: 6552.5972197\tbest: 6552.5972197 (0)\ttotal: 34.8ms\tremaining: 34.7s\n",
      "1:\tlearn: 6370.6414719\ttest: 6384.1503263\tbest: 6384.1503263 (1)\ttotal: 65.4ms\tremaining: 32.6s\n",
      "2:\tlearn: 6209.5517575\ttest: 6222.7948119\tbest: 6222.7948119 (2)\ttotal: 89.6ms\tremaining: 29.8s\n",
      "3:\tlearn: 6054.3803285\ttest: 6066.8754732\tbest: 6066.8754732 (3)\ttotal: 123ms\tremaining: 30.6s\n",
      "4:\tlearn: 5903.8521420\ttest: 5916.1574088\tbest: 5916.1574088 (4)\ttotal: 158ms\tremaining: 31.4s\n",
      "5:\tlearn: 5756.2915381\ttest: 5768.6516323\tbest: 5768.6516323 (5)\ttotal: 185ms\tremaining: 30.7s\n",
      "6:\tlearn: 5614.0346116\ttest: 5625.9295142\tbest: 5625.9295142 (6)\ttotal: 214ms\tremaining: 30.4s\n",
      "7:\tlearn: 5479.0732451\ttest: 5490.9919322\tbest: 5490.9919322 (7)\ttotal: 244ms\tremaining: 30.3s\n",
      "8:\tlearn: 5345.9855916\ttest: 5357.5227984\tbest: 5357.5227984 (8)\ttotal: 273ms\tremaining: 30.1s\n",
      "9:\tlearn: 5216.5667919\ttest: 5227.6347272\tbest: 5227.6347272 (9)\ttotal: 305ms\tremaining: 30.1s\n",
      "10:\tlearn: 5092.0150627\ttest: 5102.9166228\tbest: 5102.9166228 (10)\ttotal: 340ms\tremaining: 30.6s\n",
      "11:\tlearn: 4973.6644241\ttest: 4984.4476576\tbest: 4984.4476576 (11)\ttotal: 372ms\tremaining: 30.6s\n",
      "12:\tlearn: 4855.9329259\ttest: 4866.2891332\tbest: 4866.2891332 (12)\ttotal: 401ms\tremaining: 30.4s\n",
      "13:\tlearn: 4745.4749518\ttest: 4756.0225160\tbest: 4756.0225160 (13)\ttotal: 432ms\tremaining: 30.5s\n",
      "14:\tlearn: 4637.9156501\ttest: 4648.6143011\tbest: 4648.6143011 (14)\ttotal: 464ms\tremaining: 30.5s\n",
      "15:\tlearn: 4532.7458331\ttest: 4543.2641419\tbest: 4543.2641419 (15)\ttotal: 493ms\tremaining: 30.3s\n",
      "16:\tlearn: 4431.8949596\ttest: 4442.0772741\tbest: 4442.0772741 (16)\ttotal: 528ms\tremaining: 30.5s\n",
      "17:\tlearn: 4333.0174033\ttest: 4342.8814988\tbest: 4342.8814988 (17)\ttotal: 558ms\tremaining: 30.4s\n",
      "18:\tlearn: 4239.3051759\ttest: 4248.7442517\tbest: 4248.7442517 (18)\ttotal: 590ms\tremaining: 30.5s\n",
      "19:\tlearn: 4147.7598954\ttest: 4157.3148161\tbest: 4157.3148161 (19)\ttotal: 619ms\tremaining: 30.3s\n",
      "20:\tlearn: 4059.5961137\ttest: 4069.0132663\tbest: 4069.0132663 (20)\ttotal: 650ms\tremaining: 30.3s\n",
      "21:\tlearn: 3973.2839396\ttest: 3982.5777148\tbest: 3982.5777148 (21)\ttotal: 682ms\tremaining: 30.3s\n",
      "22:\tlearn: 3890.6703314\ttest: 3899.7573628\tbest: 3899.7573628 (22)\ttotal: 713ms\tremaining: 30.3s\n",
      "23:\tlearn: 3811.8463340\ttest: 3820.6783034\tbest: 3820.6783034 (23)\ttotal: 784ms\tremaining: 31.9s\n",
      "24:\tlearn: 3736.4545110\ttest: 3744.9509420\tbest: 3744.9509420 (24)\ttotal: 835ms\tremaining: 32.6s\n",
      "25:\tlearn: 3662.7074585\ttest: 3671.0442618\tbest: 3671.0442618 (25)\ttotal: 878ms\tremaining: 32.9s\n",
      "26:\tlearn: 3589.7567371\ttest: 3597.9475839\tbest: 3597.9475839 (26)\ttotal: 908ms\tremaining: 32.7s\n",
      "27:\tlearn: 3521.5414765\ttest: 3529.7677240\tbest: 3529.7677240 (27)\ttotal: 939ms\tremaining: 32.6s\n",
      "28:\tlearn: 3456.1310834\ttest: 3464.2884109\tbest: 3464.2884109 (28)\ttotal: 972ms\tremaining: 32.5s\n",
      "29:\tlearn: 3393.5726866\ttest: 3402.0099450\tbest: 3402.0099450 (29)\ttotal: 1s\tremaining: 32.5s\n",
      "30:\tlearn: 3333.0052172\ttest: 3341.5295980\tbest: 3341.5295980 (30)\ttotal: 1.03s\tremaining: 32.3s\n",
      "31:\tlearn: 3274.6925011\ttest: 3283.3345189\tbest: 3283.3345189 (31)\ttotal: 1.06s\tremaining: 32.2s\n",
      "32:\tlearn: 3217.9917987\ttest: 3226.4414565\tbest: 3226.4414565 (32)\ttotal: 1.1s\tremaining: 32.1s\n",
      "33:\tlearn: 3163.7019754\ttest: 3172.5357409\tbest: 3172.5357409 (33)\ttotal: 1.13s\tremaining: 32s\n",
      "34:\tlearn: 3111.1781585\ttest: 3120.1839705\tbest: 3120.1839705 (34)\ttotal: 1.16s\tremaining: 31.9s\n",
      "35:\tlearn: 3061.3698694\ttest: 3070.7746089\tbest: 3070.7746089 (35)\ttotal: 1.19s\tremaining: 31.9s\n",
      "36:\tlearn: 3013.0525155\ttest: 3022.6689583\tbest: 3022.6689583 (36)\ttotal: 1.22s\tremaining: 31.8s\n",
      "37:\tlearn: 2965.1627670\ttest: 2974.9101977\tbest: 2974.9101977 (37)\ttotal: 1.25s\tremaining: 31.7s\n",
      "38:\tlearn: 2920.5850760\ttest: 2930.4964128\tbest: 2930.4964128 (38)\ttotal: 1.28s\tremaining: 31.6s\n",
      "39:\tlearn: 2877.1894377\ttest: 2887.4971232\tbest: 2887.4971232 (39)\ttotal: 1.31s\tremaining: 31.5s\n",
      "40:\tlearn: 2836.1810406\ttest: 2846.7013236\tbest: 2846.7013236 (40)\ttotal: 1.34s\tremaining: 31.4s\n",
      "41:\tlearn: 2796.5060640\ttest: 2807.2441718\tbest: 2807.2441718 (41)\ttotal: 1.37s\tremaining: 31.3s\n",
      "42:\tlearn: 2758.7168516\ttest: 2769.7268007\tbest: 2769.7268007 (42)\ttotal: 1.41s\tremaining: 31.3s\n",
      "43:\tlearn: 2722.1930873\ttest: 2733.6358322\tbest: 2733.6358322 (43)\ttotal: 1.44s\tremaining: 31.3s\n",
      "44:\tlearn: 2686.7081546\ttest: 2698.5082977\tbest: 2698.5082977 (44)\ttotal: 1.47s\tremaining: 31.2s\n",
      "45:\tlearn: 2652.8507671\ttest: 2664.8736491\tbest: 2664.8736491 (45)\ttotal: 1.5s\tremaining: 31.2s\n",
      "46:\tlearn: 2619.5548073\ttest: 2631.5435116\tbest: 2631.5435116 (46)\ttotal: 1.53s\tremaining: 31.1s\n",
      "47:\tlearn: 2588.6755430\ttest: 2600.9849262\tbest: 2600.9849262 (47)\ttotal: 1.56s\tremaining: 31s\n",
      "48:\tlearn: 2557.8033251\ttest: 2570.2101338\tbest: 2570.2101338 (48)\ttotal: 1.59s\tremaining: 30.9s\n",
      "49:\tlearn: 2528.2351640\ttest: 2540.8634068\tbest: 2540.8634068 (49)\ttotal: 1.63s\tremaining: 30.9s\n",
      "50:\tlearn: 2500.3774379\ttest: 2513.2347757\tbest: 2513.2347757 (50)\ttotal: 1.66s\tremaining: 30.9s\n",
      "51:\tlearn: 2473.7715177\ttest: 2486.9176109\tbest: 2486.9176109 (51)\ttotal: 1.69s\tremaining: 30.9s\n",
      "52:\tlearn: 2447.2779198\ttest: 2460.5879577\tbest: 2460.5879577 (52)\ttotal: 1.72s\tremaining: 30.8s\n",
      "53:\tlearn: 2422.9909682\ttest: 2436.7319206\tbest: 2436.7319206 (53)\ttotal: 1.75s\tremaining: 30.8s\n",
      "54:\tlearn: 2398.4204350\ttest: 2412.4889348\tbest: 2412.4889348 (54)\ttotal: 1.79s\tremaining: 30.7s\n",
      "55:\tlearn: 2376.0529100\ttest: 2390.4937433\tbest: 2390.4937433 (55)\ttotal: 1.82s\tremaining: 30.7s\n",
      "56:\tlearn: 2354.0569339\ttest: 2368.8028326\tbest: 2368.8028326 (56)\ttotal: 1.85s\tremaining: 30.7s\n",
      "57:\tlearn: 2332.8297178\ttest: 2347.7533764\tbest: 2347.7533764 (57)\ttotal: 1.89s\tremaining: 30.6s\n",
      "58:\tlearn: 2311.8960558\ttest: 2327.0356538\tbest: 2327.0356538 (58)\ttotal: 1.92s\tremaining: 30.6s\n",
      "59:\tlearn: 2293.1319542\ttest: 2308.7835209\tbest: 2308.7835209 (59)\ttotal: 1.95s\tremaining: 30.5s\n",
      "60:\tlearn: 2274.7213353\ttest: 2290.5458343\tbest: 2290.5458343 (60)\ttotal: 1.98s\tremaining: 30.4s\n",
      "61:\tlearn: 2257.2455780\ttest: 2273.5420572\tbest: 2273.5420572 (61)\ttotal: 2.01s\tremaining: 30.4s\n",
      "62:\tlearn: 2239.7978411\ttest: 2256.4858092\tbest: 2256.4858092 (62)\ttotal: 2.04s\tremaining: 30.3s\n",
      "63:\tlearn: 2223.3347802\ttest: 2240.4262379\tbest: 2240.4262379 (63)\ttotal: 2.07s\tremaining: 30.3s\n",
      "64:\tlearn: 2207.1083181\ttest: 2224.2693841\tbest: 2224.2693841 (64)\ttotal: 2.1s\tremaining: 30.3s\n",
      "65:\tlearn: 2191.3127843\ttest: 2208.7523714\tbest: 2208.7523714 (65)\ttotal: 2.14s\tremaining: 30.2s\n",
      "66:\tlearn: 2176.1650334\ttest: 2193.9763679\tbest: 2193.9763679 (66)\ttotal: 2.17s\tremaining: 30.2s\n",
      "67:\tlearn: 2162.3932759\ttest: 2180.5516466\tbest: 2180.5516466 (67)\ttotal: 2.2s\tremaining: 30.1s\n",
      "68:\tlearn: 2149.0807998\ttest: 2167.5225655\tbest: 2167.5225655 (68)\ttotal: 2.23s\tremaining: 30.1s\n",
      "69:\tlearn: 2136.9902633\ttest: 2155.9405380\tbest: 2155.9405380 (69)\ttotal: 2.26s\tremaining: 30.1s\n",
      "70:\tlearn: 2123.6580025\ttest: 2142.9112293\tbest: 2142.9112293 (70)\ttotal: 2.29s\tremaining: 30s\n",
      "71:\tlearn: 2111.3753296\ttest: 2130.9596380\tbest: 2130.9596380 (71)\ttotal: 2.33s\tremaining: 30s\n",
      "72:\tlearn: 2098.1462705\ttest: 2117.8734045\tbest: 2117.8734045 (72)\ttotal: 2.36s\tremaining: 29.9s\n",
      "73:\tlearn: 2087.3488384\ttest: 2107.2984253\tbest: 2107.2984253 (73)\ttotal: 2.38s\tremaining: 29.9s\n",
      "74:\tlearn: 2075.7429072\ttest: 2095.9232763\tbest: 2095.9232763 (74)\ttotal: 2.42s\tremaining: 29.8s\n",
      "75:\tlearn: 2064.6409054\ttest: 2084.9864502\tbest: 2084.9864502 (75)\ttotal: 2.45s\tremaining: 29.8s\n",
      "76:\tlearn: 2054.9844304\ttest: 2075.7192860\tbest: 2075.7192860 (76)\ttotal: 2.48s\tremaining: 29.7s\n",
      "77:\tlearn: 2046.4787946\ttest: 2067.4808900\tbest: 2067.4808900 (77)\ttotal: 2.51s\tremaining: 29.7s\n",
      "78:\tlearn: 2038.1759326\ttest: 2059.5579397\tbest: 2059.5579397 (78)\ttotal: 2.54s\tremaining: 29.7s\n",
      "79:\tlearn: 2029.9418849\ttest: 2051.7152264\tbest: 2051.7152264 (79)\ttotal: 2.57s\tremaining: 29.6s\n",
      "80:\tlearn: 2021.9420488\ttest: 2044.0508611\tbest: 2044.0508611 (80)\ttotal: 2.6s\tremaining: 29.5s\n",
      "81:\tlearn: 2013.7850853\ttest: 2036.3081799\tbest: 2036.3081799 (81)\ttotal: 2.63s\tremaining: 29.5s\n",
      "82:\tlearn: 2006.4277393\ttest: 2029.2203924\tbest: 2029.2203924 (82)\ttotal: 2.66s\tremaining: 29.4s\n",
      "83:\tlearn: 1999.0965444\ttest: 2022.0200852\tbest: 2022.0200852 (83)\ttotal: 2.69s\tremaining: 29.4s\n",
      "84:\tlearn: 1990.8880703\ttest: 2014.0783202\tbest: 2014.0783202 (84)\ttotal: 2.73s\tremaining: 29.3s\n",
      "85:\tlearn: 1983.0819102\ttest: 2006.5443981\tbest: 2006.5443981 (85)\ttotal: 2.76s\tremaining: 29.3s\n",
      "86:\tlearn: 1975.5301717\ttest: 1999.4373479\tbest: 1999.4373479 (86)\ttotal: 2.79s\tremaining: 29.3s\n",
      "87:\tlearn: 1968.1742550\ttest: 1992.2278332\tbest: 1992.2278332 (87)\ttotal: 2.82s\tremaining: 29.2s\n",
      "88:\tlearn: 1960.7691475\ttest: 1985.0888761\tbest: 1985.0888761 (88)\ttotal: 2.85s\tremaining: 29.2s\n",
      "89:\tlearn: 1954.4987526\ttest: 1979.1450235\tbest: 1979.1450235 (89)\ttotal: 2.88s\tremaining: 29.1s\n",
      "90:\tlearn: 1947.4382132\ttest: 1972.2240673\tbest: 1972.2240673 (90)\ttotal: 2.91s\tremaining: 29.1s\n",
      "91:\tlearn: 1941.9551995\ttest: 1966.8838215\tbest: 1966.8838215 (91)\ttotal: 2.94s\tremaining: 29s\n",
      "92:\tlearn: 1936.2880892\ttest: 1961.4704916\tbest: 1961.4704916 (92)\ttotal: 2.97s\tremaining: 29s\n",
      "93:\tlearn: 1930.9892265\ttest: 1956.3378849\tbest: 1956.3378849 (93)\ttotal: 3s\tremaining: 29s\n",
      "94:\tlearn: 1924.7249296\ttest: 1950.1834434\tbest: 1950.1834434 (94)\ttotal: 3.03s\tremaining: 28.9s\n",
      "95:\tlearn: 1918.6005551\ttest: 1944.2839935\tbest: 1944.2839935 (95)\ttotal: 3.07s\tremaining: 28.9s\n",
      "96:\tlearn: 1913.6593021\ttest: 1939.4565937\tbest: 1939.4565937 (96)\ttotal: 3.1s\tremaining: 28.8s\n",
      "97:\tlearn: 1908.3999816\ttest: 1934.8432700\tbest: 1934.8432700 (97)\ttotal: 3.13s\tremaining: 28.8s\n",
      "98:\tlearn: 1903.7073559\ttest: 1930.3454390\tbest: 1930.3454390 (98)\ttotal: 3.16s\tremaining: 28.7s\n",
      "99:\tlearn: 1899.3784721\ttest: 1926.1642498\tbest: 1926.1642498 (99)\ttotal: 3.19s\tremaining: 28.8s\n",
      "100:\tlearn: 1895.5886520\ttest: 1922.6882903\tbest: 1922.6882903 (100)\ttotal: 3.26s\tremaining: 29s\n",
      "101:\tlearn: 1890.9265222\ttest: 1918.1375442\tbest: 1918.1375442 (101)\ttotal: 3.3s\tremaining: 29.1s\n",
      "102:\tlearn: 1886.6618238\ttest: 1914.1144077\tbest: 1914.1144077 (102)\ttotal: 3.34s\tremaining: 29.1s\n",
      "103:\tlearn: 1882.2388229\ttest: 1909.9690125\tbest: 1909.9690125 (103)\ttotal: 3.39s\tremaining: 29.2s\n",
      "104:\tlearn: 1877.8239262\ttest: 1905.6343619\tbest: 1905.6343619 (104)\ttotal: 3.42s\tremaining: 29.2s\n",
      "105:\tlearn: 1873.4008087\ttest: 1901.3472467\tbest: 1901.3472467 (105)\ttotal: 3.45s\tremaining: 29.1s\n",
      "106:\tlearn: 1869.2880448\ttest: 1897.4874332\tbest: 1897.4874332 (106)\ttotal: 3.48s\tremaining: 29.1s\n",
      "107:\tlearn: 1866.2806309\ttest: 1894.6889898\tbest: 1894.6889898 (107)\ttotal: 3.52s\tremaining: 29s\n",
      "108:\tlearn: 1862.6417862\ttest: 1891.1243773\tbest: 1891.1243773 (108)\ttotal: 3.55s\tremaining: 29s\n",
      "109:\tlearn: 1858.5282990\ttest: 1887.2608821\tbest: 1887.2608821 (109)\ttotal: 3.58s\tremaining: 29s\n",
      "110:\tlearn: 1855.3879716\ttest: 1884.3412326\tbest: 1884.3412326 (110)\ttotal: 3.61s\tremaining: 28.9s\n",
      "111:\tlearn: 1852.7322185\ttest: 1882.0864752\tbest: 1882.0864752 (111)\ttotal: 3.65s\tremaining: 28.9s\n",
      "112:\tlearn: 1849.5534699\ttest: 1879.1893059\tbest: 1879.1893059 (112)\ttotal: 3.68s\tremaining: 28.9s\n",
      "113:\tlearn: 1846.2472022\ttest: 1876.0140179\tbest: 1876.0140179 (113)\ttotal: 3.71s\tremaining: 28.8s\n",
      "114:\tlearn: 1843.5326890\ttest: 1873.5603230\tbest: 1873.5603230 (114)\ttotal: 3.74s\tremaining: 28.8s\n",
      "115:\tlearn: 1841.0429984\ttest: 1871.2518465\tbest: 1871.2518465 (115)\ttotal: 3.77s\tremaining: 28.7s\n",
      "116:\tlearn: 1837.9326033\ttest: 1868.2582183\tbest: 1868.2582183 (116)\ttotal: 3.8s\tremaining: 28.7s\n",
      "117:\tlearn: 1834.9767101\ttest: 1865.5695131\tbest: 1865.5695131 (117)\ttotal: 3.84s\tremaining: 28.7s\n",
      "118:\tlearn: 1831.6070517\ttest: 1862.2491737\tbest: 1862.2491737 (118)\ttotal: 3.87s\tremaining: 28.7s\n",
      "119:\tlearn: 1828.9776501\ttest: 1859.6617229\tbest: 1859.6617229 (119)\ttotal: 3.9s\tremaining: 28.6s\n",
      "120:\tlearn: 1826.7856070\ttest: 1857.8698904\tbest: 1857.8698904 (120)\ttotal: 3.93s\tremaining: 28.6s\n",
      "121:\tlearn: 1824.7359476\ttest: 1856.1218163\tbest: 1856.1218163 (121)\ttotal: 3.96s\tremaining: 28.5s\n",
      "122:\tlearn: 1821.8993029\ttest: 1853.3345209\tbest: 1853.3345209 (122)\ttotal: 3.99s\tremaining: 28.5s\n",
      "123:\tlearn: 1819.3829805\ttest: 1851.2303853\tbest: 1851.2303853 (123)\ttotal: 4.02s\tremaining: 28.4s\n",
      "124:\tlearn: 1817.0517702\ttest: 1848.9941975\tbest: 1848.9941975 (124)\ttotal: 4.05s\tremaining: 28.4s\n",
      "125:\tlearn: 1814.3102313\ttest: 1846.3218274\tbest: 1846.3218274 (125)\ttotal: 4.08s\tremaining: 28.3s\n",
      "126:\tlearn: 1812.2082587\ttest: 1844.3161074\tbest: 1844.3161074 (126)\ttotal: 4.12s\tremaining: 28.3s\n",
      "127:\tlearn: 1810.4428561\ttest: 1842.6436793\tbest: 1842.6436793 (127)\ttotal: 4.14s\tremaining: 28.2s\n",
      "128:\tlearn: 1807.7076641\ttest: 1840.2604789\tbest: 1840.2604789 (128)\ttotal: 4.17s\tremaining: 28.2s\n",
      "129:\tlearn: 1805.2231105\ttest: 1838.0329448\tbest: 1838.0329448 (129)\ttotal: 4.21s\tremaining: 28.2s\n",
      "130:\tlearn: 1803.7008347\ttest: 1836.7384480\tbest: 1836.7384480 (130)\ttotal: 4.24s\tremaining: 28.1s\n",
      "131:\tlearn: 1801.9519812\ttest: 1835.1353874\tbest: 1835.1353874 (131)\ttotal: 4.26s\tremaining: 28.1s\n",
      "132:\tlearn: 1798.9465392\ttest: 1832.1981580\tbest: 1832.1981580 (132)\ttotal: 4.3s\tremaining: 28s\n",
      "133:\tlearn: 1797.1825084\ttest: 1830.6148570\tbest: 1830.6148570 (133)\ttotal: 4.33s\tremaining: 28s\n",
      "134:\tlearn: 1795.2265876\ttest: 1828.7996951\tbest: 1828.7996951 (134)\ttotal: 4.36s\tremaining: 27.9s\n",
      "135:\tlearn: 1793.4477019\ttest: 1827.1803299\tbest: 1827.1803299 (135)\ttotal: 4.39s\tremaining: 27.9s\n",
      "136:\tlearn: 1792.0501223\ttest: 1825.9157392\tbest: 1825.9157392 (136)\ttotal: 4.42s\tremaining: 27.9s\n",
      "137:\tlearn: 1790.7333415\ttest: 1824.7282068\tbest: 1824.7282068 (137)\ttotal: 4.45s\tremaining: 27.8s\n",
      "138:\tlearn: 1789.3515576\ttest: 1823.5279900\tbest: 1823.5279900 (138)\ttotal: 4.49s\tremaining: 27.8s\n",
      "139:\tlearn: 1787.8267251\ttest: 1822.1093963\tbest: 1822.1093963 (139)\ttotal: 4.52s\tremaining: 27.8s\n",
      "140:\tlearn: 1786.0044953\ttest: 1820.4169811\tbest: 1820.4169811 (140)\ttotal: 4.56s\tremaining: 27.8s\n",
      "141:\tlearn: 1783.7662179\ttest: 1818.2990546\tbest: 1818.2990546 (141)\ttotal: 4.59s\tremaining: 27.7s\n",
      "142:\tlearn: 1782.5626919\ttest: 1817.2296478\tbest: 1817.2296478 (142)\ttotal: 4.63s\tremaining: 27.7s\n",
      "143:\tlearn: 1780.7660421\ttest: 1815.4702094\tbest: 1815.4702094 (143)\ttotal: 4.66s\tremaining: 27.7s\n",
      "144:\tlearn: 1778.6974042\ttest: 1813.4376823\tbest: 1813.4376823 (144)\ttotal: 4.69s\tremaining: 27.6s\n",
      "145:\tlearn: 1776.9598437\ttest: 1811.8470778\tbest: 1811.8470778 (145)\ttotal: 4.72s\tremaining: 27.6s\n",
      "146:\tlearn: 1775.3718993\ttest: 1810.3508521\tbest: 1810.3508521 (146)\ttotal: 4.75s\tremaining: 27.6s\n",
      "147:\tlearn: 1774.2049749\ttest: 1809.3834553\tbest: 1809.3834553 (147)\ttotal: 4.79s\tremaining: 27.6s\n",
      "148:\tlearn: 1772.6978087\ttest: 1808.0163341\tbest: 1808.0163341 (148)\ttotal: 4.82s\tremaining: 27.5s\n",
      "149:\tlearn: 1771.1480961\ttest: 1806.6283569\tbest: 1806.6283569 (149)\ttotal: 4.85s\tremaining: 27.5s\n",
      "150:\tlearn: 1769.9546859\ttest: 1805.7310610\tbest: 1805.7310610 (150)\ttotal: 4.89s\tremaining: 27.5s\n",
      "151:\tlearn: 1768.1789359\ttest: 1804.1656063\tbest: 1804.1656063 (151)\ttotal: 4.92s\tremaining: 27.4s\n",
      "152:\tlearn: 1766.5541960\ttest: 1802.5683061\tbest: 1802.5683061 (152)\ttotal: 4.95s\tremaining: 27.4s\n",
      "153:\tlearn: 1765.2758060\ttest: 1801.4819156\tbest: 1801.4819156 (153)\ttotal: 4.98s\tremaining: 27.4s\n",
      "154:\tlearn: 1763.6758134\ttest: 1799.9019114\tbest: 1799.9019114 (154)\ttotal: 5.01s\tremaining: 27.3s\n",
      "155:\tlearn: 1762.0242442\ttest: 1798.3865999\tbest: 1798.3865999 (155)\ttotal: 5.05s\tremaining: 27.3s\n",
      "156:\tlearn: 1760.7001584\ttest: 1797.0853910\tbest: 1797.0853910 (156)\ttotal: 5.08s\tremaining: 27.3s\n",
      "157:\tlearn: 1759.7171553\ttest: 1796.2034235\tbest: 1796.2034235 (157)\ttotal: 5.11s\tremaining: 27.2s\n",
      "158:\tlearn: 1758.5584071\ttest: 1795.1682443\tbest: 1795.1682443 (158)\ttotal: 5.14s\tremaining: 27.2s\n",
      "159:\tlearn: 1757.6020179\ttest: 1794.3442876\tbest: 1794.3442876 (159)\ttotal: 5.17s\tremaining: 27.2s\n",
      "160:\tlearn: 1756.3792099\ttest: 1793.3000369\tbest: 1793.3000369 (160)\ttotal: 5.21s\tremaining: 27.1s\n",
      "161:\tlearn: 1755.5616761\ttest: 1792.5872667\tbest: 1792.5872667 (161)\ttotal: 5.24s\tremaining: 27.1s\n",
      "162:\tlearn: 1754.3850716\ttest: 1791.4822525\tbest: 1791.4822525 (162)\ttotal: 5.27s\tremaining: 27.1s\n",
      "163:\tlearn: 1753.5009194\ttest: 1790.6875481\tbest: 1790.6875481 (163)\ttotal: 5.3s\tremaining: 27s\n",
      "164:\tlearn: 1752.1290255\ttest: 1789.2990521\tbest: 1789.2990521 (164)\ttotal: 5.33s\tremaining: 27s\n",
      "165:\tlearn: 1751.3294407\ttest: 1788.6377011\tbest: 1788.6377011 (165)\ttotal: 5.37s\tremaining: 27s\n",
      "166:\tlearn: 1750.1331362\ttest: 1787.6243401\tbest: 1787.6243401 (166)\ttotal: 5.4s\tremaining: 26.9s\n",
      "167:\tlearn: 1749.0817022\ttest: 1786.5893669\tbest: 1786.5893669 (167)\ttotal: 5.43s\tremaining: 26.9s\n",
      "168:\tlearn: 1747.8454012\ttest: 1785.4935649\tbest: 1785.4935649 (168)\ttotal: 5.47s\tremaining: 26.9s\n",
      "169:\tlearn: 1746.3707781\ttest: 1784.2135778\tbest: 1784.2135778 (169)\ttotal: 5.5s\tremaining: 26.8s\n",
      "170:\tlearn: 1744.7278385\ttest: 1782.7518885\tbest: 1782.7518885 (170)\ttotal: 5.53s\tremaining: 26.8s\n",
      "171:\tlearn: 1743.4939704\ttest: 1781.7996652\tbest: 1781.7996652 (171)\ttotal: 5.56s\tremaining: 26.8s\n",
      "172:\tlearn: 1742.0666890\ttest: 1780.5935380\tbest: 1780.5935380 (172)\ttotal: 5.59s\tremaining: 26.7s\n",
      "173:\tlearn: 1740.8911872\ttest: 1779.4522847\tbest: 1779.4522847 (173)\ttotal: 5.63s\tremaining: 26.7s\n",
      "174:\tlearn: 1739.8967252\ttest: 1778.4849108\tbest: 1778.4849108 (174)\ttotal: 5.66s\tremaining: 26.7s\n",
      "175:\tlearn: 1738.8945167\ttest: 1777.5753062\tbest: 1777.5753062 (175)\ttotal: 5.72s\tremaining: 26.8s\n",
      "176:\tlearn: 1737.9682467\ttest: 1776.7844456\tbest: 1776.7844456 (176)\ttotal: 5.78s\tremaining: 26.9s\n",
      "177:\tlearn: 1736.8891439\ttest: 1775.7201047\tbest: 1775.7201047 (177)\ttotal: 5.81s\tremaining: 26.8s\n",
      "178:\tlearn: 1735.6069313\ttest: 1774.7540180\tbest: 1774.7540180 (178)\ttotal: 5.85s\tremaining: 26.8s\n",
      "179:\tlearn: 1734.8025360\ttest: 1774.0585807\tbest: 1774.0585807 (179)\ttotal: 5.88s\tremaining: 26.8s\n",
      "180:\tlearn: 1734.0915308\ttest: 1773.4297159\tbest: 1773.4297159 (180)\ttotal: 5.91s\tremaining: 26.8s\n",
      "181:\tlearn: 1732.9283744\ttest: 1772.5609094\tbest: 1772.5609094 (181)\ttotal: 5.94s\tremaining: 26.7s\n",
      "182:\tlearn: 1732.0003476\ttest: 1771.6411939\tbest: 1771.6411939 (182)\ttotal: 5.98s\tremaining: 26.7s\n",
      "183:\tlearn: 1731.2199006\ttest: 1770.9629206\tbest: 1770.9629206 (183)\ttotal: 6.01s\tremaining: 26.6s\n",
      "184:\tlearn: 1730.5852917\ttest: 1770.4751052\tbest: 1770.4751052 (184)\ttotal: 6.04s\tremaining: 26.6s\n",
      "185:\tlearn: 1729.6746570\ttest: 1769.6731239\tbest: 1769.6731239 (185)\ttotal: 6.07s\tremaining: 26.6s\n",
      "186:\tlearn: 1728.6350597\ttest: 1768.7977468\tbest: 1768.7977468 (186)\ttotal: 6.1s\tremaining: 26.5s\n",
      "187:\tlearn: 1727.4462862\ttest: 1767.8280959\tbest: 1767.8280959 (187)\ttotal: 6.13s\tremaining: 26.5s\n",
      "188:\tlearn: 1726.6159122\ttest: 1767.0744247\tbest: 1767.0744247 (188)\ttotal: 6.17s\tremaining: 26.5s\n",
      "189:\tlearn: 1725.7807775\ttest: 1766.3223745\tbest: 1766.3223745 (189)\ttotal: 6.2s\tremaining: 26.4s\n",
      "190:\tlearn: 1724.8937748\ttest: 1765.5909099\tbest: 1765.5909099 (190)\ttotal: 6.23s\tremaining: 26.4s\n",
      "191:\tlearn: 1724.1398001\ttest: 1764.8889735\tbest: 1764.8889735 (191)\ttotal: 6.26s\tremaining: 26.3s\n",
      "192:\tlearn: 1723.1052301\ttest: 1764.2411255\tbest: 1764.2411255 (192)\ttotal: 6.29s\tremaining: 26.3s\n",
      "193:\tlearn: 1722.4505182\ttest: 1763.7028050\tbest: 1763.7028050 (193)\ttotal: 6.32s\tremaining: 26.3s\n",
      "194:\tlearn: 1721.4539051\ttest: 1762.7607642\tbest: 1762.7607642 (194)\ttotal: 6.35s\tremaining: 26.2s\n",
      "195:\tlearn: 1720.4963299\ttest: 1761.9343768\tbest: 1761.9343768 (195)\ttotal: 6.39s\tremaining: 26.2s\n",
      "196:\tlearn: 1719.7723405\ttest: 1761.3731916\tbest: 1761.3731916 (196)\ttotal: 6.42s\tremaining: 26.2s\n",
      "197:\tlearn: 1718.8976639\ttest: 1760.6174198\tbest: 1760.6174198 (197)\ttotal: 6.46s\tremaining: 26.2s\n",
      "198:\tlearn: 1718.1035840\ttest: 1759.9625772\tbest: 1759.9625772 (198)\ttotal: 6.5s\tremaining: 26.1s\n",
      "199:\tlearn: 1717.4816923\ttest: 1759.4563893\tbest: 1759.4563893 (199)\ttotal: 6.53s\tremaining: 26.1s\n",
      "200:\tlearn: 1716.5865774\ttest: 1758.5738533\tbest: 1758.5738533 (200)\ttotal: 6.57s\tremaining: 26.1s\n",
      "201:\tlearn: 1715.3855817\ttest: 1757.6206909\tbest: 1757.6206909 (201)\ttotal: 6.6s\tremaining: 26.1s\n",
      "202:\tlearn: 1714.8955539\ttest: 1757.1192914\tbest: 1757.1192914 (202)\ttotal: 6.64s\tremaining: 26.1s\n",
      "203:\tlearn: 1714.2639967\ttest: 1756.4754502\tbest: 1756.4754502 (203)\ttotal: 6.67s\tremaining: 26s\n",
      "204:\tlearn: 1713.6864080\ttest: 1756.0109559\tbest: 1756.0109559 (204)\ttotal: 6.7s\tremaining: 26s\n",
      "205:\tlearn: 1712.7952640\ttest: 1755.2611771\tbest: 1755.2611771 (205)\ttotal: 6.74s\tremaining: 26s\n",
      "206:\tlearn: 1712.0307910\ttest: 1754.6848336\tbest: 1754.6848336 (206)\ttotal: 6.77s\tremaining: 25.9s\n",
      "207:\tlearn: 1710.7388170\ttest: 1753.6283814\tbest: 1753.6283814 (207)\ttotal: 6.8s\tremaining: 25.9s\n",
      "208:\tlearn: 1710.0735914\ttest: 1753.0440378\tbest: 1753.0440378 (208)\ttotal: 6.83s\tremaining: 25.9s\n",
      "209:\tlearn: 1708.9289257\ttest: 1752.1486495\tbest: 1752.1486495 (209)\ttotal: 6.87s\tremaining: 25.8s\n",
      "210:\tlearn: 1708.4869625\ttest: 1751.7967858\tbest: 1751.7967858 (210)\ttotal: 6.9s\tremaining: 25.8s\n",
      "211:\tlearn: 1707.6319371\ttest: 1751.2435553\tbest: 1751.2435553 (211)\ttotal: 6.93s\tremaining: 25.8s\n",
      "212:\tlearn: 1706.6448730\ttest: 1750.5558565\tbest: 1750.5558565 (212)\ttotal: 6.96s\tremaining: 25.7s\n",
      "213:\tlearn: 1705.8836875\ttest: 1749.8573627\tbest: 1749.8573627 (213)\ttotal: 7s\tremaining: 25.7s\n",
      "214:\tlearn: 1704.7693565\ttest: 1749.0694357\tbest: 1749.0694357 (214)\ttotal: 7.03s\tremaining: 25.7s\n",
      "215:\tlearn: 1704.1544454\ttest: 1748.5245322\tbest: 1748.5245322 (215)\ttotal: 7.06s\tremaining: 25.6s\n",
      "216:\tlearn: 1703.1675045\ttest: 1747.6532489\tbest: 1747.6532489 (216)\ttotal: 7.09s\tremaining: 25.6s\n",
      "217:\tlearn: 1702.2364079\ttest: 1746.8514588\tbest: 1746.8514588 (217)\ttotal: 7.13s\tremaining: 25.6s\n",
      "218:\tlearn: 1701.5497634\ttest: 1746.3881327\tbest: 1746.3881327 (218)\ttotal: 7.16s\tremaining: 25.5s\n",
      "219:\tlearn: 1700.7616673\ttest: 1745.7250153\tbest: 1745.7250153 (219)\ttotal: 7.19s\tremaining: 25.5s\n",
      "220:\tlearn: 1699.9524028\ttest: 1745.1703688\tbest: 1745.1703688 (220)\ttotal: 7.22s\tremaining: 25.5s\n",
      "221:\tlearn: 1699.2104285\ttest: 1744.6253279\tbest: 1744.6253279 (221)\ttotal: 7.25s\tremaining: 25.4s\n",
      "222:\tlearn: 1698.3311588\ttest: 1743.7933829\tbest: 1743.7933829 (222)\ttotal: 7.28s\tremaining: 25.4s\n",
      "223:\tlearn: 1697.8504664\ttest: 1743.3143622\tbest: 1743.3143622 (223)\ttotal: 7.31s\tremaining: 25.3s\n",
      "224:\tlearn: 1697.2411203\ttest: 1742.7238006\tbest: 1742.7238006 (224)\ttotal: 7.35s\tremaining: 25.3s\n",
      "225:\tlearn: 1696.8542904\ttest: 1742.4432711\tbest: 1742.4432711 (225)\ttotal: 7.38s\tremaining: 25.3s\n",
      "226:\tlearn: 1696.1957421\ttest: 1742.0069410\tbest: 1742.0069410 (226)\ttotal: 7.41s\tremaining: 25.2s\n",
      "227:\tlearn: 1694.8474754\ttest: 1740.8803210\tbest: 1740.8803210 (227)\ttotal: 7.45s\tremaining: 25.2s\n",
      "228:\tlearn: 1694.0942495\ttest: 1740.1825313\tbest: 1740.1825313 (228)\ttotal: 7.48s\tremaining: 25.2s\n",
      "229:\tlearn: 1693.6027335\ttest: 1739.8724976\tbest: 1739.8724976 (229)\ttotal: 7.51s\tremaining: 25.1s\n",
      "230:\tlearn: 1692.3150319\ttest: 1738.7841737\tbest: 1738.7841737 (230)\ttotal: 7.54s\tremaining: 25.1s\n",
      "231:\tlearn: 1691.6377573\ttest: 1738.3331385\tbest: 1738.3331385 (231)\ttotal: 7.57s\tremaining: 25.1s\n",
      "232:\tlearn: 1690.9917039\ttest: 1737.7301702\tbest: 1737.7301702 (232)\ttotal: 7.61s\tremaining: 25.1s\n",
      "233:\tlearn: 1690.3490162\ttest: 1737.1964670\tbest: 1737.1964670 (233)\ttotal: 7.65s\tremaining: 25s\n",
      "234:\tlearn: 1689.7537909\ttest: 1736.6571436\tbest: 1736.6571436 (234)\ttotal: 7.68s\tremaining: 25s\n",
      "235:\tlearn: 1688.8032460\ttest: 1735.9774328\tbest: 1735.9774328 (235)\ttotal: 7.71s\tremaining: 25s\n",
      "236:\tlearn: 1688.1359362\ttest: 1735.4005352\tbest: 1735.4005352 (236)\ttotal: 7.74s\tremaining: 24.9s\n",
      "237:\tlearn: 1687.2971905\ttest: 1734.5565853\tbest: 1734.5565853 (237)\ttotal: 7.77s\tremaining: 24.9s\n",
      "238:\tlearn: 1686.7578113\ttest: 1734.1019525\tbest: 1734.1019525 (238)\ttotal: 7.8s\tremaining: 24.8s\n",
      "239:\tlearn: 1685.8095884\ttest: 1733.3270571\tbest: 1733.3270571 (239)\ttotal: 7.83s\tremaining: 24.8s\n",
      "240:\tlearn: 1684.8582422\ttest: 1732.5699423\tbest: 1732.5699423 (240)\ttotal: 7.87s\tremaining: 24.8s\n",
      "241:\tlearn: 1684.0174319\ttest: 1731.9445085\tbest: 1731.9445085 (241)\ttotal: 7.9s\tremaining: 24.7s\n",
      "242:\tlearn: 1683.2220934\ttest: 1731.3090079\tbest: 1731.3090079 (242)\ttotal: 7.93s\tremaining: 24.7s\n",
      "243:\tlearn: 1682.7467679\ttest: 1730.8716369\tbest: 1730.8716369 (243)\ttotal: 7.96s\tremaining: 24.7s\n",
      "244:\tlearn: 1682.0189465\ttest: 1730.3511204\tbest: 1730.3511204 (244)\ttotal: 8s\tremaining: 24.6s\n",
      "245:\tlearn: 1681.4104583\ttest: 1729.8594787\tbest: 1729.8594787 (245)\ttotal: 8.03s\tremaining: 24.6s\n",
      "246:\tlearn: 1680.7919514\ttest: 1729.3147853\tbest: 1729.3147853 (246)\ttotal: 8.06s\tremaining: 24.6s\n",
      "247:\tlearn: 1680.2369612\ttest: 1728.8549274\tbest: 1728.8549274 (247)\ttotal: 8.1s\tremaining: 24.6s\n",
      "248:\tlearn: 1679.3905810\ttest: 1728.1782805\tbest: 1728.1782805 (248)\ttotal: 8.18s\tremaining: 24.7s\n",
      "249:\tlearn: 1678.8044163\ttest: 1727.6865565\tbest: 1727.6865565 (249)\ttotal: 8.21s\tremaining: 24.6s\n",
      "250:\tlearn: 1678.2021091\ttest: 1727.2481365\tbest: 1727.2481365 (250)\ttotal: 8.25s\tremaining: 24.6s\n",
      "251:\tlearn: 1677.5405547\ttest: 1726.6729472\tbest: 1726.6729472 (251)\ttotal: 8.28s\tremaining: 24.6s\n",
      "252:\tlearn: 1676.7565955\ttest: 1726.0412970\tbest: 1726.0412970 (252)\ttotal: 8.31s\tremaining: 24.5s\n",
      "253:\tlearn: 1676.2154392\ttest: 1725.6449402\tbest: 1725.6449402 (253)\ttotal: 8.34s\tremaining: 24.5s\n",
      "254:\tlearn: 1675.5130853\ttest: 1725.1666005\tbest: 1725.1666005 (254)\ttotal: 8.37s\tremaining: 24.5s\n",
      "255:\tlearn: 1674.9623614\ttest: 1724.6945353\tbest: 1724.6945353 (255)\ttotal: 8.41s\tremaining: 24.4s\n",
      "256:\tlearn: 1674.2817430\ttest: 1724.1413674\tbest: 1724.1413674 (256)\ttotal: 8.44s\tremaining: 24.4s\n",
      "257:\tlearn: 1673.5073998\ttest: 1723.5826202\tbest: 1723.5826202 (257)\ttotal: 8.47s\tremaining: 24.4s\n",
      "258:\tlearn: 1672.9308580\ttest: 1723.0453999\tbest: 1723.0453999 (258)\ttotal: 8.5s\tremaining: 24.3s\n",
      "259:\tlearn: 1672.5414001\ttest: 1722.7390708\tbest: 1722.7390708 (259)\ttotal: 8.54s\tremaining: 24.3s\n",
      "260:\tlearn: 1671.9123510\ttest: 1722.2906443\tbest: 1722.2906443 (260)\ttotal: 8.57s\tremaining: 24.3s\n",
      "261:\tlearn: 1671.3629665\ttest: 1721.8857479\tbest: 1721.8857479 (261)\ttotal: 8.6s\tremaining: 24.2s\n",
      "262:\tlearn: 1670.1638971\ttest: 1720.9401080\tbest: 1720.9401080 (262)\ttotal: 8.64s\tremaining: 24.2s\n",
      "263:\tlearn: 1669.6679678\ttest: 1720.4776975\tbest: 1720.4776975 (263)\ttotal: 8.67s\tremaining: 24.2s\n",
      "264:\tlearn: 1669.1881411\ttest: 1720.1365162\tbest: 1720.1365162 (264)\ttotal: 8.7s\tremaining: 24.1s\n",
      "265:\tlearn: 1668.5533191\ttest: 1719.6387149\tbest: 1719.6387149 (265)\ttotal: 8.73s\tremaining: 24.1s\n",
      "266:\tlearn: 1668.0087530\ttest: 1719.2014872\tbest: 1719.2014872 (266)\ttotal: 8.77s\tremaining: 24.1s\n",
      "267:\tlearn: 1667.2453968\ttest: 1718.6471788\tbest: 1718.6471788 (267)\ttotal: 8.8s\tremaining: 24s\n",
      "268:\tlearn: 1666.7304680\ttest: 1718.2094388\tbest: 1718.2094388 (268)\ttotal: 8.84s\tremaining: 24s\n",
      "269:\tlearn: 1665.6980359\ttest: 1717.6361740\tbest: 1717.6361740 (269)\ttotal: 8.87s\tremaining: 24s\n",
      "270:\tlearn: 1664.8264456\ttest: 1716.9572969\tbest: 1716.9572969 (270)\ttotal: 8.89s\tremaining: 23.9s\n",
      "271:\tlearn: 1664.3107221\ttest: 1716.4970513\tbest: 1716.4970513 (271)\ttotal: 8.93s\tremaining: 23.9s\n",
      "272:\tlearn: 1663.7968635\ttest: 1716.0630941\tbest: 1716.0630941 (272)\ttotal: 8.96s\tremaining: 23.9s\n",
      "273:\tlearn: 1663.1759494\ttest: 1715.5456893\tbest: 1715.5456893 (273)\ttotal: 9s\tremaining: 23.8s\n",
      "274:\tlearn: 1662.6228425\ttest: 1714.9971776\tbest: 1714.9971776 (274)\ttotal: 9.03s\tremaining: 23.8s\n",
      "275:\tlearn: 1662.2567995\ttest: 1714.7588190\tbest: 1714.7588190 (275)\ttotal: 9.06s\tremaining: 23.8s\n",
      "276:\tlearn: 1661.7001336\ttest: 1714.3504662\tbest: 1714.3504662 (276)\ttotal: 9.09s\tremaining: 23.7s\n",
      "277:\tlearn: 1661.0726805\ttest: 1713.9170778\tbest: 1713.9170778 (277)\ttotal: 9.12s\tremaining: 23.7s\n",
      "278:\tlearn: 1660.4897497\ttest: 1713.4992000\tbest: 1713.4992000 (278)\ttotal: 9.16s\tremaining: 23.7s\n",
      "279:\tlearn: 1659.7085215\ttest: 1712.9192610\tbest: 1712.9192610 (279)\ttotal: 9.19s\tremaining: 23.6s\n",
      "280:\tlearn: 1658.9245785\ttest: 1712.4052069\tbest: 1712.4052069 (280)\ttotal: 9.22s\tremaining: 23.6s\n",
      "281:\tlearn: 1658.4442960\ttest: 1711.9642871\tbest: 1711.9642871 (281)\ttotal: 9.26s\tremaining: 23.6s\n",
      "282:\tlearn: 1657.8114797\ttest: 1711.5991677\tbest: 1711.5991677 (282)\ttotal: 9.29s\tremaining: 23.5s\n",
      "283:\tlearn: 1657.2289786\ttest: 1711.1698706\tbest: 1711.1698706 (283)\ttotal: 9.32s\tremaining: 23.5s\n",
      "284:\tlearn: 1656.8410090\ttest: 1710.9249651\tbest: 1710.9249651 (284)\ttotal: 9.35s\tremaining: 23.5s\n",
      "285:\tlearn: 1655.8503609\ttest: 1710.2005109\tbest: 1710.2005109 (285)\ttotal: 9.38s\tremaining: 23.4s\n",
      "286:\tlearn: 1655.3233240\ttest: 1709.7029712\tbest: 1709.7029712 (286)\ttotal: 9.41s\tremaining: 23.4s\n",
      "287:\tlearn: 1654.5915224\ttest: 1709.2321288\tbest: 1709.2321288 (287)\ttotal: 9.45s\tremaining: 23.4s\n",
      "288:\tlearn: 1654.1635082\ttest: 1708.9284165\tbest: 1708.9284165 (288)\ttotal: 9.48s\tremaining: 23.3s\n",
      "289:\tlearn: 1653.7332648\ttest: 1708.4924305\tbest: 1708.4924305 (289)\ttotal: 9.51s\tremaining: 23.3s\n",
      "290:\tlearn: 1653.1265663\ttest: 1707.9509565\tbest: 1707.9509565 (290)\ttotal: 9.54s\tremaining: 23.2s\n",
      "291:\tlearn: 1652.4722064\ttest: 1707.5383729\tbest: 1707.5383729 (291)\ttotal: 9.57s\tremaining: 23.2s\n",
      "292:\tlearn: 1652.0506494\ttest: 1707.2235520\tbest: 1707.2235520 (292)\ttotal: 9.6s\tremaining: 23.2s\n",
      "293:\tlearn: 1651.6055205\ttest: 1706.8200593\tbest: 1706.8200593 (293)\ttotal: 9.63s\tremaining: 23.1s\n",
      "294:\tlearn: 1651.1616174\ttest: 1706.3853686\tbest: 1706.3853686 (294)\ttotal: 9.66s\tremaining: 23.1s\n",
      "295:\tlearn: 1650.6244138\ttest: 1705.9923456\tbest: 1705.9923456 (295)\ttotal: 9.7s\tremaining: 23.1s\n",
      "296:\tlearn: 1650.1042260\ttest: 1705.4979635\tbest: 1705.4979635 (296)\ttotal: 9.73s\tremaining: 23s\n",
      "297:\tlearn: 1649.7009529\ttest: 1705.2241443\tbest: 1705.2241443 (297)\ttotal: 9.76s\tremaining: 23s\n",
      "298:\tlearn: 1649.2678804\ttest: 1704.8915263\tbest: 1704.8915263 (298)\ttotal: 9.79s\tremaining: 23s\n",
      "299:\tlearn: 1648.5806077\ttest: 1704.4306889\tbest: 1704.4306889 (299)\ttotal: 9.82s\tremaining: 22.9s\n",
      "300:\tlearn: 1648.0928136\ttest: 1703.9475653\tbest: 1703.9475653 (300)\ttotal: 9.86s\tremaining: 22.9s\n",
      "301:\tlearn: 1647.5040365\ttest: 1703.6075578\tbest: 1703.6075578 (301)\ttotal: 9.89s\tremaining: 22.9s\n",
      "302:\tlearn: 1646.9813794\ttest: 1703.1526192\tbest: 1703.1526192 (302)\ttotal: 9.92s\tremaining: 22.8s\n",
      "303:\tlearn: 1646.2717084\ttest: 1702.5743754\tbest: 1702.5743754 (303)\ttotal: 9.96s\tremaining: 22.8s\n",
      "304:\tlearn: 1645.6537375\ttest: 1702.1591843\tbest: 1702.1591843 (304)\ttotal: 9.99s\tremaining: 22.8s\n",
      "305:\tlearn: 1645.2362461\ttest: 1701.8372108\tbest: 1701.8372108 (305)\ttotal: 10s\tremaining: 22.7s\n",
      "306:\tlearn: 1644.7256920\ttest: 1701.4825899\tbest: 1701.4825899 (306)\ttotal: 10.1s\tremaining: 22.7s\n",
      "307:\tlearn: 1643.8502471\ttest: 1700.7912928\tbest: 1700.7912928 (307)\ttotal: 10.1s\tremaining: 22.7s\n",
      "308:\tlearn: 1643.0992392\ttest: 1700.3408785\tbest: 1700.3408785 (308)\ttotal: 10.1s\tremaining: 22.6s\n",
      "309:\tlearn: 1642.5157128\ttest: 1699.8023112\tbest: 1699.8023112 (309)\ttotal: 10.2s\tremaining: 22.6s\n",
      "310:\tlearn: 1642.0022254\ttest: 1699.5155108\tbest: 1699.5155108 (310)\ttotal: 10.2s\tremaining: 22.6s\n",
      "311:\tlearn: 1641.5776001\ttest: 1699.1274837\tbest: 1699.1274837 (311)\ttotal: 10.2s\tremaining: 22.6s\n",
      "312:\tlearn: 1641.1487727\ttest: 1698.8089816\tbest: 1698.8089816 (312)\ttotal: 10.3s\tremaining: 22.5s\n",
      "313:\tlearn: 1640.5167106\ttest: 1698.5021684\tbest: 1698.5021684 (313)\ttotal: 10.3s\tremaining: 22.5s\n",
      "314:\tlearn: 1639.9780011\ttest: 1698.1688674\tbest: 1698.1688674 (314)\ttotal: 10.3s\tremaining: 22.5s\n",
      "315:\tlearn: 1639.6501602\ttest: 1697.8626824\tbest: 1697.8626824 (315)\ttotal: 10.4s\tremaining: 22.5s\n",
      "316:\tlearn: 1639.3172619\ttest: 1697.6313253\tbest: 1697.6313253 (316)\ttotal: 10.5s\tremaining: 22.5s\n",
      "317:\tlearn: 1638.8890966\ttest: 1697.4262475\tbest: 1697.4262475 (317)\ttotal: 10.5s\tremaining: 22.5s\n",
      "318:\tlearn: 1638.0019443\ttest: 1696.7542133\tbest: 1696.7542133 (318)\ttotal: 10.6s\tremaining: 22.5s\n",
      "319:\tlearn: 1637.5181236\ttest: 1696.4395269\tbest: 1696.4395269 (319)\ttotal: 10.6s\tremaining: 22.6s\n",
      "320:\tlearn: 1637.0025782\ttest: 1695.9648469\tbest: 1695.9648469 (320)\ttotal: 10.7s\tremaining: 22.7s\n",
      "321:\tlearn: 1636.7444022\ttest: 1695.8106275\tbest: 1695.8106275 (321)\ttotal: 10.8s\tremaining: 22.7s\n",
      "322:\tlearn: 1636.3606111\ttest: 1695.4696841\tbest: 1695.4696841 (322)\ttotal: 10.8s\tremaining: 22.7s\n",
      "323:\tlearn: 1635.6218058\ttest: 1694.9666278\tbest: 1694.9666278 (323)\ttotal: 10.8s\tremaining: 22.6s\n",
      "324:\tlearn: 1635.3637517\ttest: 1694.8288034\tbest: 1694.8288034 (324)\ttotal: 10.9s\tremaining: 22.6s\n",
      "325:\tlearn: 1634.5471177\ttest: 1694.3144459\tbest: 1694.3144459 (325)\ttotal: 10.9s\tremaining: 22.6s\n",
      "326:\tlearn: 1634.2099472\ttest: 1694.0844267\tbest: 1694.0844267 (326)\ttotal: 10.9s\tremaining: 22.5s\n",
      "327:\tlearn: 1633.8051489\ttest: 1693.8794351\tbest: 1693.8794351 (327)\ttotal: 11s\tremaining: 22.5s\n",
      "328:\tlearn: 1633.0986488\ttest: 1693.3214037\tbest: 1693.3214037 (328)\ttotal: 11s\tremaining: 22.5s\n",
      "329:\tlearn: 1632.6487200\ttest: 1693.0344662\tbest: 1693.0344662 (329)\ttotal: 11.1s\tremaining: 22.4s\n",
      "330:\tlearn: 1632.2470447\ttest: 1692.7585323\tbest: 1692.7585323 (330)\ttotal: 11.1s\tremaining: 22.4s\n",
      "331:\tlearn: 1631.8581210\ttest: 1692.4189934\tbest: 1692.4189934 (331)\ttotal: 11.1s\tremaining: 22.4s\n",
      "332:\tlearn: 1631.5119529\ttest: 1692.2399446\tbest: 1692.2399446 (332)\ttotal: 11.2s\tremaining: 22.3s\n",
      "333:\tlearn: 1631.1912545\ttest: 1691.9828268\tbest: 1691.9828268 (333)\ttotal: 11.2s\tremaining: 22.3s\n",
      "334:\tlearn: 1630.8370472\ttest: 1691.7249591\tbest: 1691.7249591 (334)\ttotal: 11.2s\tremaining: 22.3s\n",
      "335:\tlearn: 1630.3686654\ttest: 1691.3919021\tbest: 1691.3919021 (335)\ttotal: 11.3s\tremaining: 22.3s\n",
      "336:\tlearn: 1629.8233884\ttest: 1690.9120068\tbest: 1690.9120068 (336)\ttotal: 11.3s\tremaining: 22.2s\n",
      "337:\tlearn: 1629.3391291\ttest: 1690.5857290\tbest: 1690.5857290 (337)\ttotal: 11.3s\tremaining: 22.2s\n",
      "338:\tlearn: 1628.8127604\ttest: 1690.2192482\tbest: 1690.2192482 (338)\ttotal: 11.4s\tremaining: 22.2s\n",
      "339:\tlearn: 1628.3285401\ttest: 1689.8738753\tbest: 1689.8738753 (339)\ttotal: 11.4s\tremaining: 22.2s\n",
      "340:\tlearn: 1627.8026656\ttest: 1689.5521292\tbest: 1689.5521292 (340)\ttotal: 11.4s\tremaining: 22.1s\n",
      "341:\tlearn: 1626.9636943\ttest: 1688.9566035\tbest: 1688.9566035 (341)\ttotal: 11.5s\tremaining: 22.1s\n",
      "342:\tlearn: 1626.7341773\ttest: 1688.9256122\tbest: 1688.9256122 (342)\ttotal: 11.5s\tremaining: 22.1s\n",
      "343:\tlearn: 1626.5028722\ttest: 1688.7411527\tbest: 1688.7411527 (343)\ttotal: 11.6s\tremaining: 22s\n",
      "344:\tlearn: 1625.8895069\ttest: 1688.2332280\tbest: 1688.2332280 (344)\ttotal: 11.6s\tremaining: 22s\n",
      "345:\tlearn: 1625.4160614\ttest: 1687.8539158\tbest: 1687.8539158 (345)\ttotal: 11.6s\tremaining: 22s\n",
      "346:\tlearn: 1624.9653576\ttest: 1687.5388660\tbest: 1687.5388660 (346)\ttotal: 11.7s\tremaining: 21.9s\n",
      "347:\tlearn: 1624.5031501\ttest: 1687.1927208\tbest: 1687.1927208 (347)\ttotal: 11.7s\tremaining: 21.9s\n",
      "348:\tlearn: 1624.1419497\ttest: 1686.9278894\tbest: 1686.9278894 (348)\ttotal: 11.7s\tremaining: 21.9s\n",
      "349:\tlearn: 1623.7324094\ttest: 1686.7227971\tbest: 1686.7227971 (349)\ttotal: 11.8s\tremaining: 21.9s\n",
      "350:\tlearn: 1623.3056087\ttest: 1686.4207858\tbest: 1686.4207858 (350)\ttotal: 11.8s\tremaining: 21.8s\n",
      "351:\tlearn: 1622.8459444\ttest: 1686.0891323\tbest: 1686.0891323 (351)\ttotal: 11.8s\tremaining: 21.8s\n",
      "352:\tlearn: 1622.4920373\ttest: 1685.7930570\tbest: 1685.7930570 (352)\ttotal: 11.9s\tremaining: 21.8s\n",
      "353:\tlearn: 1622.0509100\ttest: 1685.4593909\tbest: 1685.4593909 (353)\ttotal: 11.9s\tremaining: 21.7s\n",
      "354:\tlearn: 1621.6882291\ttest: 1685.3124957\tbest: 1685.3124957 (354)\ttotal: 12s\tremaining: 21.7s\n",
      "355:\tlearn: 1621.0873965\ttest: 1684.9617337\tbest: 1684.9617337 (355)\ttotal: 12s\tremaining: 21.7s\n",
      "356:\tlearn: 1620.7599326\ttest: 1684.6896154\tbest: 1684.6896154 (356)\ttotal: 12s\tremaining: 21.7s\n",
      "357:\tlearn: 1620.0223069\ttest: 1684.1885989\tbest: 1684.1885989 (357)\ttotal: 12.1s\tremaining: 21.6s\n",
      "358:\tlearn: 1619.7617042\ttest: 1684.0480180\tbest: 1684.0480180 (358)\ttotal: 12.1s\tremaining: 21.6s\n",
      "359:\tlearn: 1619.4641453\ttest: 1683.7934960\tbest: 1683.7934960 (359)\ttotal: 12.1s\tremaining: 21.6s\n",
      "360:\tlearn: 1618.9797060\ttest: 1683.3845225\tbest: 1683.3845225 (360)\ttotal: 12.2s\tremaining: 21.5s\n",
      "361:\tlearn: 1618.4116167\ttest: 1683.0238712\tbest: 1683.0238712 (361)\ttotal: 12.2s\tremaining: 21.5s\n",
      "362:\tlearn: 1617.8154046\ttest: 1682.5575603\tbest: 1682.5575603 (362)\ttotal: 12.2s\tremaining: 21.5s\n",
      "363:\tlearn: 1617.4120579\ttest: 1682.2025926\tbest: 1682.2025926 (363)\ttotal: 12.3s\tremaining: 21.4s\n",
      "364:\tlearn: 1616.9095499\ttest: 1681.9570083\tbest: 1681.9570083 (364)\ttotal: 12.3s\tremaining: 21.4s\n",
      "365:\tlearn: 1616.4864423\ttest: 1681.5758080\tbest: 1681.5758080 (365)\ttotal: 12.3s\tremaining: 21.4s\n",
      "366:\tlearn: 1616.2476592\ttest: 1681.4033809\tbest: 1681.4033809 (366)\ttotal: 12.4s\tremaining: 21.4s\n",
      "367:\tlearn: 1615.9702046\ttest: 1681.2649290\tbest: 1681.2649290 (367)\ttotal: 12.4s\tremaining: 21.3s\n",
      "368:\tlearn: 1615.5219063\ttest: 1681.0018767\tbest: 1681.0018767 (368)\ttotal: 12.5s\tremaining: 21.4s\n",
      "369:\tlearn: 1614.9249931\ttest: 1680.6133047\tbest: 1680.6133047 (369)\ttotal: 12.5s\tremaining: 21.4s\n",
      "370:\tlearn: 1614.4586956\ttest: 1680.2639790\tbest: 1680.2639790 (370)\ttotal: 12.6s\tremaining: 21.3s\n",
      "371:\tlearn: 1614.1696288\ttest: 1680.0450981\tbest: 1680.0450981 (371)\ttotal: 12.6s\tremaining: 21.3s\n",
      "372:\tlearn: 1613.6961282\ttest: 1679.6516030\tbest: 1679.6516030 (372)\ttotal: 12.7s\tremaining: 21.3s\n",
      "373:\tlearn: 1613.1910572\ttest: 1679.2713835\tbest: 1679.2713835 (373)\ttotal: 12.7s\tremaining: 21.3s\n",
      "374:\tlearn: 1612.6160584\ttest: 1678.9417827\tbest: 1678.9417827 (374)\ttotal: 12.7s\tremaining: 21.2s\n",
      "375:\tlearn: 1612.2914440\ttest: 1678.6928063\tbest: 1678.6928063 (375)\ttotal: 12.8s\tremaining: 21.2s\n",
      "376:\tlearn: 1611.9253191\ttest: 1678.5184038\tbest: 1678.5184038 (376)\ttotal: 12.8s\tremaining: 21.2s\n",
      "377:\tlearn: 1611.5426134\ttest: 1678.2418688\tbest: 1678.2418688 (377)\ttotal: 12.8s\tremaining: 21.1s\n",
      "378:\tlearn: 1611.1251812\ttest: 1677.9861116\tbest: 1677.9861116 (378)\ttotal: 12.9s\tremaining: 21.1s\n",
      "379:\tlearn: 1610.7999562\ttest: 1677.7292102\tbest: 1677.7292102 (379)\ttotal: 12.9s\tremaining: 21.1s\n",
      "380:\tlearn: 1610.3654127\ttest: 1677.4524576\tbest: 1677.4524576 (380)\ttotal: 12.9s\tremaining: 21s\n",
      "381:\tlearn: 1609.7546013\ttest: 1677.0425733\tbest: 1677.0425733 (381)\ttotal: 13s\tremaining: 21s\n",
      "382:\tlearn: 1609.1979473\ttest: 1676.6529721\tbest: 1676.6529721 (382)\ttotal: 13s\tremaining: 21s\n",
      "383:\tlearn: 1608.8316612\ttest: 1676.4757045\tbest: 1676.4757045 (383)\ttotal: 13s\tremaining: 20.9s\n",
      "384:\tlearn: 1608.4299198\ttest: 1676.2550512\tbest: 1676.2550512 (384)\ttotal: 13.1s\tremaining: 20.9s\n",
      "385:\tlearn: 1608.0156076\ttest: 1675.9854269\tbest: 1675.9854269 (385)\ttotal: 13.1s\tremaining: 20.9s\n",
      "386:\tlearn: 1607.6699230\ttest: 1675.7983490\tbest: 1675.7983490 (386)\ttotal: 13.1s\tremaining: 20.8s\n",
      "387:\tlearn: 1607.3017244\ttest: 1675.5132880\tbest: 1675.5132880 (387)\ttotal: 13.2s\tremaining: 20.8s\n",
      "388:\tlearn: 1606.9465187\ttest: 1675.3726257\tbest: 1675.3726257 (388)\ttotal: 13.2s\tremaining: 20.7s\n",
      "389:\tlearn: 1606.2730250\ttest: 1674.9140738\tbest: 1674.9140738 (389)\ttotal: 13.2s\tremaining: 20.7s\n",
      "390:\tlearn: 1605.6991617\ttest: 1674.5431529\tbest: 1674.5431529 (390)\ttotal: 13.3s\tremaining: 20.7s\n",
      "391:\tlearn: 1605.3131553\ttest: 1674.3349961\tbest: 1674.3349961 (391)\ttotal: 13.3s\tremaining: 20.6s\n",
      "392:\tlearn: 1605.0630768\ttest: 1674.2143656\tbest: 1674.2143656 (392)\ttotal: 13.3s\tremaining: 20.6s\n",
      "393:\tlearn: 1604.7066189\ttest: 1673.9814967\tbest: 1673.9814967 (393)\ttotal: 13.4s\tremaining: 20.6s\n",
      "394:\tlearn: 1604.2878940\ttest: 1673.6287061\tbest: 1673.6287061 (394)\ttotal: 13.4s\tremaining: 20.5s\n",
      "395:\tlearn: 1603.9275613\ttest: 1673.3830193\tbest: 1673.3830193 (395)\ttotal: 13.4s\tremaining: 20.5s\n",
      "396:\tlearn: 1603.5960745\ttest: 1673.1814350\tbest: 1673.1814350 (396)\ttotal: 13.5s\tremaining: 20.5s\n",
      "397:\tlearn: 1603.1155780\ttest: 1672.8910405\tbest: 1672.8910405 (397)\ttotal: 13.5s\tremaining: 20.4s\n",
      "398:\tlearn: 1602.7832407\ttest: 1672.6861192\tbest: 1672.6861192 (398)\ttotal: 13.6s\tremaining: 20.4s\n",
      "399:\tlearn: 1602.4529042\ttest: 1672.4813715\tbest: 1672.4813715 (399)\ttotal: 13.6s\tremaining: 20.4s\n",
      "400:\tlearn: 1602.0254259\ttest: 1672.1239295\tbest: 1672.1239295 (400)\ttotal: 13.6s\tremaining: 20.3s\n",
      "401:\tlearn: 1601.7851025\ttest: 1671.9133209\tbest: 1671.9133209 (401)\ttotal: 13.6s\tremaining: 20.3s\n",
      "402:\tlearn: 1601.3865929\ttest: 1671.6080784\tbest: 1671.6080784 (402)\ttotal: 13.7s\tremaining: 20.3s\n",
      "403:\tlearn: 1601.1334138\ttest: 1671.4220167\tbest: 1671.4220167 (403)\ttotal: 13.7s\tremaining: 20.2s\n",
      "404:\tlearn: 1600.4606160\ttest: 1671.1002533\tbest: 1671.1002533 (404)\ttotal: 13.7s\tremaining: 20.2s\n",
      "405:\tlearn: 1600.0912317\ttest: 1670.8977551\tbest: 1670.8977551 (405)\ttotal: 13.8s\tremaining: 20.1s\n",
      "406:\tlearn: 1599.7403091\ttest: 1670.6230244\tbest: 1670.6230244 (406)\ttotal: 13.8s\tremaining: 20.1s\n",
      "407:\tlearn: 1599.4482171\ttest: 1670.3828415\tbest: 1670.3828415 (407)\ttotal: 13.8s\tremaining: 20.1s\n",
      "408:\tlearn: 1599.1488112\ttest: 1670.1664646\tbest: 1670.1664646 (408)\ttotal: 13.9s\tremaining: 20s\n",
      "409:\tlearn: 1598.7042459\ttest: 1669.9370557\tbest: 1669.9370557 (409)\ttotal: 13.9s\tremaining: 20s\n",
      "410:\tlearn: 1598.2293237\ttest: 1669.5946138\tbest: 1669.5946138 (410)\ttotal: 13.9s\tremaining: 20s\n",
      "411:\tlearn: 1597.8830928\ttest: 1669.3737970\tbest: 1669.3737970 (411)\ttotal: 14s\tremaining: 19.9s\n",
      "412:\tlearn: 1597.6387206\ttest: 1669.2195660\tbest: 1669.2195660 (412)\ttotal: 14s\tremaining: 19.9s\n",
      "413:\tlearn: 1597.3120750\ttest: 1668.9862124\tbest: 1668.9862124 (413)\ttotal: 14s\tremaining: 19.9s\n",
      "414:\tlearn: 1596.8618351\ttest: 1668.8082549\tbest: 1668.8082549 (414)\ttotal: 14.1s\tremaining: 19.8s\n",
      "415:\tlearn: 1596.5715080\ttest: 1668.6166265\tbest: 1668.6166265 (415)\ttotal: 14.1s\tremaining: 19.8s\n",
      "416:\tlearn: 1596.1976695\ttest: 1668.3994935\tbest: 1668.3994935 (416)\ttotal: 14.1s\tremaining: 19.7s\n",
      "417:\tlearn: 1596.0104524\ttest: 1668.2089592\tbest: 1668.2089592 (417)\ttotal: 14.1s\tremaining: 19.7s\n",
      "418:\tlearn: 1595.8002696\ttest: 1668.0431669\tbest: 1668.0431669 (418)\ttotal: 14.2s\tremaining: 19.7s\n",
      "419:\tlearn: 1595.5156046\ttest: 1667.8148777\tbest: 1667.8148777 (419)\ttotal: 14.2s\tremaining: 19.6s\n",
      "420:\tlearn: 1594.9507391\ttest: 1667.4923541\tbest: 1667.4923541 (420)\ttotal: 14.2s\tremaining: 19.6s\n",
      "421:\tlearn: 1594.5939651\ttest: 1667.2898290\tbest: 1667.2898290 (421)\ttotal: 14.3s\tremaining: 19.6s\n",
      "422:\tlearn: 1594.2339588\ttest: 1667.0779057\tbest: 1667.0779057 (422)\ttotal: 14.3s\tremaining: 19.5s\n",
      "423:\tlearn: 1593.8785460\ttest: 1666.8182905\tbest: 1666.8182905 (423)\ttotal: 14.3s\tremaining: 19.5s\n",
      "424:\tlearn: 1593.3186057\ttest: 1666.5171470\tbest: 1666.5171470 (424)\ttotal: 14.4s\tremaining: 19.4s\n",
      "425:\tlearn: 1593.0785517\ttest: 1666.3756723\tbest: 1666.3756723 (425)\ttotal: 14.4s\tremaining: 19.4s\n",
      "426:\tlearn: 1592.6305818\ttest: 1666.0146925\tbest: 1666.0146925 (426)\ttotal: 14.5s\tremaining: 19.4s\n",
      "427:\tlearn: 1592.1788586\ttest: 1665.7809223\tbest: 1665.7809223 (427)\ttotal: 14.5s\tremaining: 19.4s\n",
      "428:\tlearn: 1591.8442142\ttest: 1665.5873362\tbest: 1665.5873362 (428)\ttotal: 14.6s\tremaining: 19.4s\n",
      "429:\tlearn: 1591.5036310\ttest: 1665.3371578\tbest: 1665.3371578 (429)\ttotal: 14.6s\tremaining: 19.3s\n",
      "430:\tlearn: 1591.2617311\ttest: 1665.1742124\tbest: 1665.1742124 (430)\ttotal: 14.6s\tremaining: 19.3s\n",
      "431:\tlearn: 1590.9978215\ttest: 1665.0529209\tbest: 1665.0529209 (431)\ttotal: 14.7s\tremaining: 19.3s\n",
      "432:\tlearn: 1590.5113061\ttest: 1664.8120060\tbest: 1664.8120060 (432)\ttotal: 14.7s\tremaining: 19.2s\n",
      "433:\tlearn: 1590.2448990\ttest: 1664.6760752\tbest: 1664.6760752 (433)\ttotal: 14.7s\tremaining: 19.2s\n",
      "434:\tlearn: 1589.9175358\ttest: 1664.4866237\tbest: 1664.4866237 (434)\ttotal: 14.8s\tremaining: 19.2s\n",
      "435:\tlearn: 1589.6093791\ttest: 1664.2786504\tbest: 1664.2786504 (435)\ttotal: 14.8s\tremaining: 19.1s\n",
      "436:\tlearn: 1589.3594157\ttest: 1664.1292931\tbest: 1664.1292931 (436)\ttotal: 14.8s\tremaining: 19.1s\n",
      "437:\tlearn: 1588.5849721\ttest: 1663.6081044\tbest: 1663.6081044 (437)\ttotal: 14.9s\tremaining: 19.1s\n",
      "438:\tlearn: 1588.1803557\ttest: 1663.2925807\tbest: 1663.2925807 (438)\ttotal: 14.9s\tremaining: 19s\n",
      "439:\tlearn: 1587.8708069\ttest: 1663.0921642\tbest: 1663.0921642 (439)\ttotal: 14.9s\tremaining: 19s\n",
      "440:\tlearn: 1587.5850199\ttest: 1662.9729604\tbest: 1662.9729604 (440)\ttotal: 14.9s\tremaining: 19s\n",
      "441:\tlearn: 1587.1712701\ttest: 1662.8553671\tbest: 1662.8553671 (441)\ttotal: 15s\tremaining: 18.9s\n",
      "442:\tlearn: 1586.6276864\ttest: 1662.5937955\tbest: 1662.5937955 (442)\ttotal: 15s\tremaining: 18.9s\n",
      "443:\tlearn: 1586.3372241\ttest: 1662.4760576\tbest: 1662.4760576 (443)\ttotal: 15s\tremaining: 18.8s\n",
      "444:\tlearn: 1585.9328032\ttest: 1662.2546792\tbest: 1662.2546792 (444)\ttotal: 15.1s\tremaining: 18.8s\n",
      "445:\tlearn: 1585.5705509\ttest: 1662.1173325\tbest: 1662.1173325 (445)\ttotal: 15.1s\tremaining: 18.8s\n",
      "446:\tlearn: 1585.2300968\ttest: 1661.8784648\tbest: 1661.8784648 (446)\ttotal: 15.1s\tremaining: 18.7s\n",
      "447:\tlearn: 1584.8144732\ttest: 1661.5901374\tbest: 1661.5901374 (447)\ttotal: 15.2s\tremaining: 18.7s\n",
      "448:\tlearn: 1584.6038796\ttest: 1661.4408287\tbest: 1661.4408287 (448)\ttotal: 15.2s\tremaining: 18.7s\n",
      "449:\tlearn: 1584.1723736\ttest: 1661.2203695\tbest: 1661.2203695 (449)\ttotal: 15.2s\tremaining: 18.6s\n",
      "450:\tlearn: 1583.8694375\ttest: 1660.9898804\tbest: 1660.9898804 (450)\ttotal: 15.3s\tremaining: 18.6s\n",
      "451:\tlearn: 1583.5721601\ttest: 1660.8174387\tbest: 1660.8174387 (451)\ttotal: 15.3s\tremaining: 18.6s\n",
      "452:\tlearn: 1583.2365845\ttest: 1660.6675772\tbest: 1660.6675772 (452)\ttotal: 15.3s\tremaining: 18.5s\n",
      "453:\tlearn: 1582.9267766\ttest: 1660.6171383\tbest: 1660.6171383 (453)\ttotal: 15.4s\tremaining: 18.5s\n",
      "454:\tlearn: 1582.4343666\ttest: 1660.3539068\tbest: 1660.3539068 (454)\ttotal: 15.4s\tremaining: 18.4s\n",
      "455:\tlearn: 1582.0892183\ttest: 1660.1853520\tbest: 1660.1853520 (455)\ttotal: 15.4s\tremaining: 18.4s\n",
      "456:\tlearn: 1581.8086588\ttest: 1660.0220556\tbest: 1660.0220556 (456)\ttotal: 15.5s\tremaining: 18.4s\n",
      "457:\tlearn: 1581.5396508\ttest: 1659.8360279\tbest: 1659.8360279 (457)\ttotal: 15.5s\tremaining: 18.3s\n",
      "458:\tlearn: 1581.3129248\ttest: 1659.7967509\tbest: 1659.7967509 (458)\ttotal: 15.5s\tremaining: 18.3s\n",
      "459:\tlearn: 1581.0490731\ttest: 1659.6450031\tbest: 1659.6450031 (459)\ttotal: 15.6s\tremaining: 18.3s\n",
      "460:\tlearn: 1580.7010043\ttest: 1659.4792338\tbest: 1659.4792338 (460)\ttotal: 15.6s\tremaining: 18.2s\n",
      "461:\tlearn: 1580.4444328\ttest: 1659.3446108\tbest: 1659.3446108 (461)\ttotal: 15.6s\tremaining: 18.2s\n",
      "462:\tlearn: 1580.1130702\ttest: 1659.2091754\tbest: 1659.2091754 (462)\ttotal: 15.6s\tremaining: 18.1s\n",
      "463:\tlearn: 1579.6369884\ttest: 1658.8984599\tbest: 1658.8984599 (463)\ttotal: 15.7s\tremaining: 18.1s\n",
      "464:\tlearn: 1579.4210739\ttest: 1658.7736235\tbest: 1658.7736235 (464)\ttotal: 15.7s\tremaining: 18.1s\n",
      "465:\tlearn: 1579.1865005\ttest: 1658.6068998\tbest: 1658.6068998 (465)\ttotal: 15.7s\tremaining: 18s\n",
      "466:\tlearn: 1578.9459535\ttest: 1658.4780743\tbest: 1658.4780743 (466)\ttotal: 15.8s\tremaining: 18s\n",
      "467:\tlearn: 1578.6876507\ttest: 1658.3015122\tbest: 1658.3015122 (467)\ttotal: 15.8s\tremaining: 18s\n",
      "468:\tlearn: 1578.1597621\ttest: 1657.9437089\tbest: 1657.9437089 (468)\ttotal: 15.8s\tremaining: 17.9s\n",
      "469:\tlearn: 1577.7214220\ttest: 1657.6313202\tbest: 1657.6313202 (469)\ttotal: 15.9s\tremaining: 17.9s\n",
      "470:\tlearn: 1577.4638415\ttest: 1657.4920944\tbest: 1657.4920944 (470)\ttotal: 15.9s\tremaining: 17.8s\n",
      "471:\tlearn: 1577.1123899\ttest: 1657.2378691\tbest: 1657.2378691 (471)\ttotal: 15.9s\tremaining: 17.8s\n",
      "472:\tlearn: 1576.9345435\ttest: 1657.2430620\tbest: 1657.2378691 (471)\ttotal: 15.9s\tremaining: 17.8s\n",
      "473:\tlearn: 1576.6163167\ttest: 1657.0242921\tbest: 1657.0242921 (473)\ttotal: 16s\tremaining: 17.7s\n",
      "474:\tlearn: 1576.3481099\ttest: 1656.8983828\tbest: 1656.8983828 (474)\ttotal: 16s\tremaining: 17.7s\n",
      "475:\tlearn: 1576.1000087\ttest: 1656.7950263\tbest: 1656.7950263 (475)\ttotal: 16s\tremaining: 17.7s\n",
      "476:\tlearn: 1575.7217476\ttest: 1656.5435011\tbest: 1656.5435011 (476)\ttotal: 16.1s\tremaining: 17.6s\n",
      "477:\tlearn: 1575.4469548\ttest: 1656.3786423\tbest: 1656.3786423 (477)\ttotal: 16.1s\tremaining: 17.6s\n",
      "478:\tlearn: 1575.2367152\ttest: 1656.3266865\tbest: 1656.3266865 (478)\ttotal: 16.1s\tremaining: 17.5s\n",
      "479:\tlearn: 1574.9565489\ttest: 1656.1465885\tbest: 1656.1465885 (479)\ttotal: 16.2s\tremaining: 17.5s\n",
      "480:\tlearn: 1574.6650807\ttest: 1655.9747943\tbest: 1655.9747943 (480)\ttotal: 16.2s\tremaining: 17.5s\n",
      "481:\tlearn: 1574.4685741\ttest: 1655.8472998\tbest: 1655.8472998 (481)\ttotal: 16.2s\tremaining: 17.4s\n",
      "482:\tlearn: 1574.2181097\ttest: 1655.7250128\tbest: 1655.7250128 (482)\ttotal: 16.3s\tremaining: 17.4s\n",
      "483:\tlearn: 1573.8872729\ttest: 1655.5050868\tbest: 1655.5050868 (483)\ttotal: 16.3s\tremaining: 17.4s\n",
      "484:\tlearn: 1573.6054079\ttest: 1655.3500179\tbest: 1655.3500179 (484)\ttotal: 16.3s\tremaining: 17.3s\n",
      "485:\tlearn: 1573.2546572\ttest: 1655.0974858\tbest: 1655.0974858 (485)\ttotal: 16.4s\tremaining: 17.3s\n",
      "486:\tlearn: 1573.0627003\ttest: 1655.0001368\tbest: 1655.0001368 (486)\ttotal: 16.4s\tremaining: 17.3s\n",
      "487:\tlearn: 1572.8546187\ttest: 1654.8440030\tbest: 1654.8440030 (487)\ttotal: 16.4s\tremaining: 17.2s\n",
      "488:\tlearn: 1572.6541654\ttest: 1654.7171934\tbest: 1654.7171934 (488)\ttotal: 16.5s\tremaining: 17.2s\n",
      "489:\tlearn: 1572.2050995\ttest: 1654.4348157\tbest: 1654.4348157 (489)\ttotal: 16.5s\tremaining: 17.2s\n",
      "490:\tlearn: 1571.8729588\ttest: 1654.2866700\tbest: 1654.2866700 (490)\ttotal: 16.5s\tremaining: 17.1s\n",
      "491:\tlearn: 1571.3823147\ttest: 1653.9622150\tbest: 1653.9622150 (491)\ttotal: 16.6s\tremaining: 17.1s\n",
      "492:\tlearn: 1571.1897084\ttest: 1653.9065682\tbest: 1653.9065682 (492)\ttotal: 16.6s\tremaining: 17.1s\n",
      "493:\tlearn: 1570.9131162\ttest: 1653.6549029\tbest: 1653.6549029 (493)\ttotal: 16.6s\tremaining: 17s\n",
      "494:\tlearn: 1570.7355607\ttest: 1653.6381297\tbest: 1653.6381297 (494)\ttotal: 16.7s\tremaining: 17s\n",
      "495:\tlearn: 1570.2649568\ttest: 1653.4158324\tbest: 1653.4158324 (495)\ttotal: 16.7s\tremaining: 17s\n",
      "496:\tlearn: 1570.0665255\ttest: 1653.3489462\tbest: 1653.3489462 (496)\ttotal: 16.8s\tremaining: 17s\n",
      "497:\tlearn: 1569.8128912\ttest: 1653.1879417\tbest: 1653.1879417 (497)\ttotal: 16.8s\tremaining: 16.9s\n",
      "498:\tlearn: 1569.4997636\ttest: 1652.9909322\tbest: 1652.9909322 (498)\ttotal: 16.8s\tremaining: 16.9s\n",
      "499:\tlearn: 1569.1503246\ttest: 1652.7549514\tbest: 1652.7549514 (499)\ttotal: 16.9s\tremaining: 16.9s\n",
      "500:\tlearn: 1568.8134192\ttest: 1652.5866742\tbest: 1652.5866742 (500)\ttotal: 16.9s\tremaining: 16.8s\n",
      "501:\tlearn: 1568.3534522\ttest: 1652.3496756\tbest: 1652.3496756 (501)\ttotal: 16.9s\tremaining: 16.8s\n",
      "502:\tlearn: 1568.0957938\ttest: 1652.1485904\tbest: 1652.1485904 (502)\ttotal: 17s\tremaining: 16.8s\n",
      "503:\tlearn: 1567.7622388\ttest: 1651.9216092\tbest: 1651.9216092 (503)\ttotal: 17s\tremaining: 16.7s\n",
      "504:\tlearn: 1567.5658260\ttest: 1651.8097840\tbest: 1651.8097840 (504)\ttotal: 17s\tremaining: 16.7s\n",
      "505:\tlearn: 1567.1140085\ttest: 1651.5666739\tbest: 1651.5666739 (505)\ttotal: 17.1s\tremaining: 16.7s\n",
      "506:\tlearn: 1566.8674243\ttest: 1651.4498980\tbest: 1651.4498980 (506)\ttotal: 17.1s\tremaining: 16.6s\n",
      "507:\tlearn: 1566.6889010\ttest: 1651.3011897\tbest: 1651.3011897 (507)\ttotal: 17.2s\tremaining: 16.6s\n",
      "508:\tlearn: 1566.4510836\ttest: 1651.1568616\tbest: 1651.1568616 (508)\ttotal: 17.2s\tremaining: 16.6s\n",
      "509:\tlearn: 1566.2723927\ttest: 1651.0928195\tbest: 1651.0928195 (509)\ttotal: 17.2s\tremaining: 16.5s\n",
      "510:\tlearn: 1566.0319370\ttest: 1650.9597213\tbest: 1650.9597213 (510)\ttotal: 17.2s\tremaining: 16.5s\n",
      "511:\tlearn: 1565.7536931\ttest: 1650.7728746\tbest: 1650.7728746 (511)\ttotal: 17.3s\tremaining: 16.5s\n",
      "512:\tlearn: 1565.4425902\ttest: 1650.6273944\tbest: 1650.6273944 (512)\ttotal: 17.3s\tremaining: 16.4s\n",
      "513:\tlearn: 1565.2039175\ttest: 1650.4563553\tbest: 1650.4563553 (513)\ttotal: 17.3s\tremaining: 16.4s\n",
      "514:\tlearn: 1564.9896731\ttest: 1650.3394193\tbest: 1650.3394193 (514)\ttotal: 17.4s\tremaining: 16.4s\n",
      "515:\tlearn: 1564.5726853\ttest: 1650.0082547\tbest: 1650.0082547 (515)\ttotal: 17.4s\tremaining: 16.3s\n",
      "516:\tlearn: 1564.3394420\ttest: 1649.8169401\tbest: 1649.8169401 (516)\ttotal: 17.4s\tremaining: 16.3s\n",
      "517:\tlearn: 1564.1684927\ttest: 1649.7442952\tbest: 1649.7442952 (517)\ttotal: 17.5s\tremaining: 16.3s\n",
      "518:\tlearn: 1563.7315480\ttest: 1649.4919828\tbest: 1649.4919828 (518)\ttotal: 17.5s\tremaining: 16.2s\n",
      "519:\tlearn: 1563.5067465\ttest: 1649.3785340\tbest: 1649.3785340 (519)\ttotal: 17.5s\tremaining: 16.2s\n",
      "520:\tlearn: 1563.2729768\ttest: 1649.2729962\tbest: 1649.2729962 (520)\ttotal: 17.6s\tremaining: 16.1s\n",
      "521:\tlearn: 1563.0152926\ttest: 1649.0413452\tbest: 1649.0413452 (521)\ttotal: 17.6s\tremaining: 16.1s\n",
      "522:\tlearn: 1562.7824624\ttest: 1648.9136744\tbest: 1648.9136744 (522)\ttotal: 17.6s\tremaining: 16.1s\n",
      "523:\tlearn: 1562.5927034\ttest: 1648.8703291\tbest: 1648.8703291 (523)\ttotal: 17.6s\tremaining: 16s\n",
      "524:\tlearn: 1562.4138346\ttest: 1648.7528609\tbest: 1648.7528609 (524)\ttotal: 17.7s\tremaining: 16s\n",
      "525:\tlearn: 1562.1861021\ttest: 1648.6257440\tbest: 1648.6257440 (525)\ttotal: 17.7s\tremaining: 16s\n",
      "526:\tlearn: 1561.9561573\ttest: 1648.5037059\tbest: 1648.5037059 (526)\ttotal: 17.7s\tremaining: 15.9s\n",
      "527:\tlearn: 1561.7077906\ttest: 1648.3594296\tbest: 1648.3594296 (527)\ttotal: 17.8s\tremaining: 15.9s\n",
      "528:\tlearn: 1561.3326431\ttest: 1648.1711356\tbest: 1648.1711356 (528)\ttotal: 17.8s\tremaining: 15.8s\n",
      "529:\tlearn: 1561.1002269\ttest: 1648.0508574\tbest: 1648.0508574 (529)\ttotal: 17.8s\tremaining: 15.8s\n",
      "530:\tlearn: 1560.8272544\ttest: 1647.8833030\tbest: 1647.8833030 (530)\ttotal: 17.9s\tremaining: 15.8s\n",
      "531:\tlearn: 1560.6716393\ttest: 1647.8467973\tbest: 1647.8467973 (531)\ttotal: 17.9s\tremaining: 15.7s\n",
      "532:\tlearn: 1560.4861497\ttest: 1647.7086097\tbest: 1647.7086097 (532)\ttotal: 17.9s\tremaining: 15.7s\n",
      "533:\tlearn: 1560.2809773\ttest: 1647.5533924\tbest: 1647.5533924 (533)\ttotal: 18s\tremaining: 15.7s\n",
      "534:\tlearn: 1559.9971617\ttest: 1647.3917722\tbest: 1647.3917722 (534)\ttotal: 18s\tremaining: 15.6s\n",
      "535:\tlearn: 1559.7826146\ttest: 1647.2792554\tbest: 1647.2792554 (535)\ttotal: 18s\tremaining: 15.6s\n",
      "536:\tlearn: 1559.5217281\ttest: 1647.1995542\tbest: 1647.1995542 (536)\ttotal: 18s\tremaining: 15.6s\n",
      "537:\tlearn: 1559.1531591\ttest: 1647.0491101\tbest: 1647.0491101 (537)\ttotal: 18.1s\tremaining: 15.5s\n",
      "538:\tlearn: 1558.6618039\ttest: 1646.6804529\tbest: 1646.6804529 (538)\ttotal: 18.1s\tremaining: 15.5s\n",
      "539:\tlearn: 1558.2674165\ttest: 1646.4796138\tbest: 1646.4796138 (539)\ttotal: 18.1s\tremaining: 15.5s\n",
      "540:\tlearn: 1558.0560018\ttest: 1646.4584991\tbest: 1646.4584991 (540)\ttotal: 18.2s\tremaining: 15.4s\n",
      "541:\tlearn: 1557.8208954\ttest: 1646.3883157\tbest: 1646.3883157 (541)\ttotal: 18.2s\tremaining: 15.4s\n",
      "542:\tlearn: 1557.6122920\ttest: 1646.2670371\tbest: 1646.2670371 (542)\ttotal: 18.2s\tremaining: 15.3s\n",
      "543:\tlearn: 1557.3997416\ttest: 1646.1530147\tbest: 1646.1530147 (543)\ttotal: 18.3s\tremaining: 15.3s\n",
      "544:\tlearn: 1557.1265964\ttest: 1645.9839565\tbest: 1645.9839565 (544)\ttotal: 18.3s\tremaining: 15.3s\n",
      "545:\tlearn: 1556.7745134\ttest: 1645.8131392\tbest: 1645.8131392 (545)\ttotal: 18.3s\tremaining: 15.2s\n",
      "546:\tlearn: 1556.6044161\ttest: 1645.7817890\tbest: 1645.7817890 (546)\ttotal: 18.4s\tremaining: 15.2s\n",
      "547:\tlearn: 1556.3057125\ttest: 1645.6361279\tbest: 1645.6361279 (547)\ttotal: 18.4s\tremaining: 15.2s\n",
      "548:\tlearn: 1556.1079751\ttest: 1645.5663127\tbest: 1645.5663127 (548)\ttotal: 18.4s\tremaining: 15.1s\n",
      "549:\tlearn: 1555.7920038\ttest: 1645.3633651\tbest: 1645.3633651 (549)\ttotal: 18.5s\tremaining: 15.1s\n",
      "550:\tlearn: 1555.5905519\ttest: 1645.2874091\tbest: 1645.2874091 (550)\ttotal: 18.5s\tremaining: 15.1s\n",
      "551:\tlearn: 1555.3618213\ttest: 1645.2091730\tbest: 1645.2091730 (551)\ttotal: 18.5s\tremaining: 15s\n",
      "552:\tlearn: 1555.1088399\ttest: 1645.0786412\tbest: 1645.0786412 (552)\ttotal: 18.5s\tremaining: 15s\n",
      "553:\tlearn: 1554.9053928\ttest: 1644.8877781\tbest: 1644.8877781 (553)\ttotal: 18.6s\tremaining: 15s\n",
      "554:\tlearn: 1554.7057821\ttest: 1644.7786308\tbest: 1644.7786308 (554)\ttotal: 18.7s\tremaining: 15s\n",
      "555:\tlearn: 1554.3361673\ttest: 1644.4366543\tbest: 1644.4366543 (555)\ttotal: 18.7s\tremaining: 14.9s\n",
      "556:\tlearn: 1554.1887913\ttest: 1644.4004776\tbest: 1644.4004776 (556)\ttotal: 18.7s\tremaining: 14.9s\n",
      "557:\tlearn: 1554.0351799\ttest: 1644.2753782\tbest: 1644.2753782 (557)\ttotal: 18.8s\tremaining: 14.9s\n",
      "558:\tlearn: 1553.7918509\ttest: 1644.1543342\tbest: 1644.1543342 (558)\ttotal: 18.8s\tremaining: 14.8s\n",
      "559:\tlearn: 1553.7002940\ttest: 1644.1377456\tbest: 1644.1377456 (559)\ttotal: 18.8s\tremaining: 14.8s\n",
      "560:\tlearn: 1553.4891532\ttest: 1643.9834737\tbest: 1643.9834737 (560)\ttotal: 18.9s\tremaining: 14.8s\n",
      "561:\tlearn: 1553.3041213\ttest: 1643.8617915\tbest: 1643.8617915 (561)\ttotal: 18.9s\tremaining: 14.7s\n",
      "562:\tlearn: 1553.0703112\ttest: 1643.6960558\tbest: 1643.6960558 (562)\ttotal: 18.9s\tremaining: 14.7s\n",
      "563:\tlearn: 1552.8391407\ttest: 1643.5360573\tbest: 1643.5360573 (563)\ttotal: 19s\tremaining: 14.7s\n",
      "564:\tlearn: 1552.5561080\ttest: 1643.4061766\tbest: 1643.4061766 (564)\ttotal: 19s\tremaining: 14.6s\n",
      "565:\tlearn: 1552.2617954\ttest: 1643.2854725\tbest: 1643.2854725 (565)\ttotal: 19s\tremaining: 14.6s\n",
      "566:\tlearn: 1552.0310809\ttest: 1643.1555703\tbest: 1643.1555703 (566)\ttotal: 19.1s\tremaining: 14.6s\n",
      "567:\tlearn: 1551.6056916\ttest: 1642.8144128\tbest: 1642.8144128 (567)\ttotal: 19.1s\tremaining: 14.5s\n",
      "568:\tlearn: 1551.1781950\ttest: 1642.5985494\tbest: 1642.5985494 (568)\ttotal: 19.1s\tremaining: 14.5s\n",
      "569:\tlearn: 1551.0987735\ttest: 1642.5725692\tbest: 1642.5725692 (569)\ttotal: 19.2s\tremaining: 14.5s\n",
      "570:\tlearn: 1550.9941141\ttest: 1642.5641820\tbest: 1642.5641820 (570)\ttotal: 19.2s\tremaining: 14.4s\n",
      "571:\tlearn: 1550.6558589\ttest: 1642.3311237\tbest: 1642.3311237 (571)\ttotal: 19.2s\tremaining: 14.4s\n",
      "572:\tlearn: 1550.3838288\ttest: 1642.1148966\tbest: 1642.1148966 (572)\ttotal: 19.3s\tremaining: 14.4s\n",
      "573:\tlearn: 1550.1569857\ttest: 1642.0633426\tbest: 1642.0633426 (573)\ttotal: 19.3s\tremaining: 14.3s\n",
      "574:\tlearn: 1549.9752758\ttest: 1641.9702900\tbest: 1641.9702900 (574)\ttotal: 19.3s\tremaining: 14.3s\n",
      "575:\tlearn: 1549.8677414\ttest: 1641.8467582\tbest: 1641.8467582 (575)\ttotal: 19.4s\tremaining: 14.3s\n",
      "576:\tlearn: 1549.6857188\ttest: 1641.7752952\tbest: 1641.7752952 (576)\ttotal: 19.4s\tremaining: 14.2s\n",
      "577:\tlearn: 1549.2691795\ttest: 1641.5565125\tbest: 1641.5565125 (577)\ttotal: 19.4s\tremaining: 14.2s\n",
      "578:\tlearn: 1549.0797245\ttest: 1641.3943189\tbest: 1641.3943189 (578)\ttotal: 19.5s\tremaining: 14.2s\n",
      "579:\tlearn: 1548.8339335\ttest: 1641.2591814\tbest: 1641.2591814 (579)\ttotal: 19.5s\tremaining: 14.1s\n",
      "580:\tlearn: 1548.6345166\ttest: 1641.2582237\tbest: 1641.2582237 (580)\ttotal: 19.5s\tremaining: 14.1s\n",
      "581:\tlearn: 1548.3475092\ttest: 1641.0451428\tbest: 1641.0451428 (581)\ttotal: 19.6s\tremaining: 14.1s\n",
      "582:\tlearn: 1548.0220752\ttest: 1640.8933393\tbest: 1640.8933393 (582)\ttotal: 19.6s\tremaining: 14s\n",
      "583:\tlearn: 1547.8547089\ttest: 1640.7800628\tbest: 1640.7800628 (583)\ttotal: 19.6s\tremaining: 14s\n",
      "584:\tlearn: 1547.6354160\ttest: 1640.7079042\tbest: 1640.7079042 (584)\ttotal: 19.7s\tremaining: 13.9s\n",
      "585:\tlearn: 1547.2651100\ttest: 1640.4856436\tbest: 1640.4856436 (585)\ttotal: 19.7s\tremaining: 13.9s\n",
      "586:\tlearn: 1547.0645906\ttest: 1640.3631733\tbest: 1640.3631733 (586)\ttotal: 19.7s\tremaining: 13.9s\n",
      "587:\tlearn: 1546.7445823\ttest: 1640.1684690\tbest: 1640.1684690 (587)\ttotal: 19.8s\tremaining: 13.8s\n",
      "588:\tlearn: 1546.3493648\ttest: 1639.9695114\tbest: 1639.9695114 (588)\ttotal: 19.8s\tremaining: 13.8s\n",
      "589:\tlearn: 1546.1376007\ttest: 1639.8297454\tbest: 1639.8297454 (589)\ttotal: 19.8s\tremaining: 13.8s\n",
      "590:\tlearn: 1545.9036849\ttest: 1639.7320226\tbest: 1639.7320226 (590)\ttotal: 19.9s\tremaining: 13.7s\n",
      "591:\tlearn: 1545.6394449\ttest: 1639.6352464\tbest: 1639.6352464 (591)\ttotal: 19.9s\tremaining: 13.7s\n",
      "592:\tlearn: 1545.2842372\ttest: 1639.4379571\tbest: 1639.4379571 (592)\ttotal: 19.9s\tremaining: 13.7s\n",
      "593:\tlearn: 1545.0672015\ttest: 1639.3857395\tbest: 1639.3857395 (593)\ttotal: 19.9s\tremaining: 13.6s\n",
      "594:\tlearn: 1544.7361626\ttest: 1639.2004329\tbest: 1639.2004329 (594)\ttotal: 20s\tremaining: 13.6s\n",
      "595:\tlearn: 1544.5353158\ttest: 1639.0445595\tbest: 1639.0445595 (595)\ttotal: 20s\tremaining: 13.6s\n",
      "596:\tlearn: 1544.3535970\ttest: 1638.9923632\tbest: 1638.9923632 (596)\ttotal: 20s\tremaining: 13.5s\n",
      "597:\tlearn: 1544.0396923\ttest: 1638.8209813\tbest: 1638.8209813 (597)\ttotal: 20.1s\tremaining: 13.5s\n",
      "598:\tlearn: 1543.7578376\ttest: 1638.6649624\tbest: 1638.6649624 (598)\ttotal: 20.1s\tremaining: 13.5s\n",
      "599:\tlearn: 1543.5501017\ttest: 1638.5610681\tbest: 1638.5610681 (599)\ttotal: 20.1s\tremaining: 13.4s\n",
      "600:\tlearn: 1543.3155573\ttest: 1638.4752389\tbest: 1638.4752389 (600)\ttotal: 20.2s\tremaining: 13.4s\n",
      "601:\tlearn: 1543.0812266\ttest: 1638.3503222\tbest: 1638.3503222 (601)\ttotal: 20.2s\tremaining: 13.4s\n",
      "602:\tlearn: 1542.8382413\ttest: 1638.2279357\tbest: 1638.2279357 (602)\ttotal: 20.2s\tremaining: 13.3s\n",
      "603:\tlearn: 1542.5470024\ttest: 1638.0135188\tbest: 1638.0135188 (603)\ttotal: 20.3s\tremaining: 13.3s\n",
      "604:\tlearn: 1542.3084427\ttest: 1637.8542309\tbest: 1637.8542309 (604)\ttotal: 20.3s\tremaining: 13.2s\n",
      "605:\tlearn: 1542.0205082\ttest: 1637.7204465\tbest: 1637.7204465 (605)\ttotal: 20.3s\tremaining: 13.2s\n",
      "606:\tlearn: 1541.8889267\ttest: 1637.6704303\tbest: 1637.6704303 (606)\ttotal: 20.4s\tremaining: 13.2s\n",
      "607:\tlearn: 1541.7242997\ttest: 1637.6232824\tbest: 1637.6232824 (607)\ttotal: 20.4s\tremaining: 13.2s\n",
      "608:\tlearn: 1541.4179349\ttest: 1637.5157216\tbest: 1637.5157216 (608)\ttotal: 20.4s\tremaining: 13.1s\n",
      "609:\tlearn: 1541.1467787\ttest: 1637.3273045\tbest: 1637.3273045 (609)\ttotal: 20.5s\tremaining: 13.1s\n",
      "610:\tlearn: 1540.9099811\ttest: 1637.2354355\tbest: 1637.2354355 (610)\ttotal: 20.5s\tremaining: 13s\n",
      "611:\tlearn: 1540.6523824\ttest: 1637.0937231\tbest: 1637.0937231 (611)\ttotal: 20.5s\tremaining: 13s\n",
      "612:\tlearn: 1540.4386631\ttest: 1637.0557286\tbest: 1637.0557286 (612)\ttotal: 20.6s\tremaining: 13s\n",
      "613:\tlearn: 1540.2562487\ttest: 1637.0759596\tbest: 1637.0557286 (612)\ttotal: 20.6s\tremaining: 12.9s\n",
      "614:\tlearn: 1539.8878966\ttest: 1636.9184925\tbest: 1636.9184925 (614)\ttotal: 20.6s\tremaining: 12.9s\n",
      "615:\tlearn: 1539.5409943\ttest: 1636.7071212\tbest: 1636.7071212 (615)\ttotal: 20.7s\tremaining: 12.9s\n",
      "616:\tlearn: 1539.2740204\ttest: 1636.5324524\tbest: 1636.5324524 (616)\ttotal: 20.7s\tremaining: 12.9s\n",
      "617:\tlearn: 1539.0995309\ttest: 1636.3813453\tbest: 1636.3813453 (617)\ttotal: 20.8s\tremaining: 12.8s\n",
      "618:\tlearn: 1538.8044631\ttest: 1636.2714792\tbest: 1636.2714792 (618)\ttotal: 20.8s\tremaining: 12.8s\n",
      "619:\tlearn: 1538.6023324\ttest: 1636.1740385\tbest: 1636.1740385 (619)\ttotal: 20.8s\tremaining: 12.8s\n",
      "620:\tlearn: 1538.4422459\ttest: 1636.0972713\tbest: 1636.0972713 (620)\ttotal: 20.9s\tremaining: 12.7s\n",
      "621:\tlearn: 1538.1474380\ttest: 1635.8725782\tbest: 1635.8725782 (621)\ttotal: 20.9s\tremaining: 12.7s\n",
      "622:\tlearn: 1537.8599927\ttest: 1635.7838756\tbest: 1635.7838756 (622)\ttotal: 20.9s\tremaining: 12.7s\n",
      "623:\tlearn: 1537.6782781\ttest: 1635.6846847\tbest: 1635.6846847 (623)\ttotal: 21s\tremaining: 12.6s\n",
      "624:\tlearn: 1537.4016796\ttest: 1635.5544742\tbest: 1635.5544742 (624)\ttotal: 21s\tremaining: 12.6s\n",
      "625:\tlearn: 1537.1551729\ttest: 1635.4599775\tbest: 1635.4599775 (625)\ttotal: 21s\tremaining: 12.6s\n",
      "626:\tlearn: 1536.9874590\ttest: 1635.3763378\tbest: 1635.3763378 (626)\ttotal: 21.1s\tremaining: 12.5s\n",
      "627:\tlearn: 1536.7992720\ttest: 1635.2857554\tbest: 1635.2857554 (627)\ttotal: 21.1s\tremaining: 12.5s\n",
      "628:\tlearn: 1536.4751395\ttest: 1635.1380237\tbest: 1635.1380237 (628)\ttotal: 21.1s\tremaining: 12.5s\n",
      "629:\tlearn: 1536.3176635\ttest: 1635.0831008\tbest: 1635.0831008 (629)\ttotal: 21.2s\tremaining: 12.4s\n",
      "630:\tlearn: 1536.1361035\ttest: 1634.9940717\tbest: 1634.9940717 (630)\ttotal: 21.2s\tremaining: 12.4s\n",
      "631:\tlearn: 1535.9587015\ttest: 1634.8928773\tbest: 1634.8928773 (631)\ttotal: 21.2s\tremaining: 12.4s\n",
      "632:\tlearn: 1535.6591767\ttest: 1634.8055700\tbest: 1634.8055700 (632)\ttotal: 21.3s\tremaining: 12.3s\n",
      "633:\tlearn: 1535.3700166\ttest: 1634.6333867\tbest: 1634.6333867 (633)\ttotal: 21.3s\tremaining: 12.3s\n",
      "634:\tlearn: 1535.2065785\ttest: 1634.5644514\tbest: 1634.5644514 (634)\ttotal: 21.3s\tremaining: 12.3s\n",
      "635:\tlearn: 1534.9228033\ttest: 1634.3827505\tbest: 1634.3827505 (635)\ttotal: 21.4s\tremaining: 12.2s\n",
      "636:\tlearn: 1534.7128933\ttest: 1634.2814587\tbest: 1634.2814587 (636)\ttotal: 21.4s\tremaining: 12.2s\n",
      "637:\tlearn: 1534.2038318\ttest: 1634.0731412\tbest: 1634.0731412 (637)\ttotal: 21.4s\tremaining: 12.2s\n",
      "638:\tlearn: 1534.0011016\ttest: 1633.9645025\tbest: 1633.9645025 (638)\ttotal: 21.4s\tremaining: 12.1s\n",
      "639:\tlearn: 1533.8321577\ttest: 1633.9786057\tbest: 1633.9645025 (638)\ttotal: 21.5s\tremaining: 12.1s\n",
      "640:\tlearn: 1533.4844841\ttest: 1633.7463761\tbest: 1633.7463761 (640)\ttotal: 21.5s\tremaining: 12s\n",
      "641:\tlearn: 1533.2445908\ttest: 1633.5780187\tbest: 1633.5780187 (641)\ttotal: 21.5s\tremaining: 12s\n",
      "642:\tlearn: 1533.0120324\ttest: 1633.4294178\tbest: 1633.4294178 (642)\ttotal: 21.6s\tremaining: 12s\n",
      "643:\tlearn: 1532.4978811\ttest: 1633.0590886\tbest: 1633.0590886 (643)\ttotal: 21.6s\tremaining: 11.9s\n",
      "644:\tlearn: 1532.2839346\ttest: 1633.0417492\tbest: 1633.0417492 (644)\ttotal: 21.6s\tremaining: 11.9s\n",
      "645:\tlearn: 1532.0932760\ttest: 1632.9447999\tbest: 1632.9447999 (645)\ttotal: 21.7s\tremaining: 11.9s\n",
      "646:\tlearn: 1531.8250958\ttest: 1632.7829077\tbest: 1632.7829077 (646)\ttotal: 21.7s\tremaining: 11.8s\n",
      "647:\tlearn: 1531.3414435\ttest: 1632.4496987\tbest: 1632.4496987 (647)\ttotal: 21.7s\tremaining: 11.8s\n",
      "648:\tlearn: 1531.0770110\ttest: 1632.3393215\tbest: 1632.3393215 (648)\ttotal: 21.8s\tremaining: 11.8s\n",
      "649:\tlearn: 1530.9578563\ttest: 1632.2634738\tbest: 1632.2634738 (649)\ttotal: 21.8s\tremaining: 11.7s\n",
      "650:\tlearn: 1530.6037837\ttest: 1632.1166250\tbest: 1632.1166250 (650)\ttotal: 21.8s\tremaining: 11.7s\n",
      "651:\tlearn: 1530.3702094\ttest: 1631.9846758\tbest: 1631.9846758 (651)\ttotal: 21.9s\tremaining: 11.7s\n",
      "652:\tlearn: 1530.0352931\ttest: 1631.8092290\tbest: 1631.8092290 (652)\ttotal: 21.9s\tremaining: 11.6s\n",
      "653:\tlearn: 1529.8489834\ttest: 1631.7054351\tbest: 1631.7054351 (653)\ttotal: 21.9s\tremaining: 11.6s\n",
      "654:\tlearn: 1529.7221023\ttest: 1631.6629963\tbest: 1631.6629963 (654)\ttotal: 22s\tremaining: 11.6s\n",
      "655:\tlearn: 1529.5849604\ttest: 1631.6440055\tbest: 1631.6440055 (655)\ttotal: 22s\tremaining: 11.5s\n",
      "656:\tlearn: 1529.2265233\ttest: 1631.4613226\tbest: 1631.4613226 (656)\ttotal: 22s\tremaining: 11.5s\n",
      "657:\tlearn: 1528.8782372\ttest: 1631.2603099\tbest: 1631.2603099 (657)\ttotal: 22.1s\tremaining: 11.5s\n",
      "658:\tlearn: 1528.7153964\ttest: 1631.2093914\tbest: 1631.2093914 (658)\ttotal: 22.1s\tremaining: 11.4s\n",
      "659:\tlearn: 1528.5462641\ttest: 1631.1256637\tbest: 1631.1256637 (659)\ttotal: 22.1s\tremaining: 11.4s\n",
      "660:\tlearn: 1528.3679894\ttest: 1631.0507763\tbest: 1631.0507763 (660)\ttotal: 22.1s\tremaining: 11.4s\n",
      "661:\tlearn: 1528.1355496\ttest: 1630.9580044\tbest: 1630.9580044 (661)\ttotal: 22.2s\tremaining: 11.3s\n",
      "662:\tlearn: 1527.9633987\ttest: 1630.8580828\tbest: 1630.8580828 (662)\ttotal: 22.2s\tremaining: 11.3s\n",
      "663:\tlearn: 1527.7668162\ttest: 1630.7583413\tbest: 1630.7583413 (663)\ttotal: 22.2s\tremaining: 11.3s\n",
      "664:\tlearn: 1527.4773904\ttest: 1630.5489455\tbest: 1630.5489455 (664)\ttotal: 22.3s\tremaining: 11.2s\n",
      "665:\tlearn: 1527.2830461\ttest: 1630.4748484\tbest: 1630.4748484 (665)\ttotal: 22.3s\tremaining: 11.2s\n",
      "666:\tlearn: 1527.0577776\ttest: 1630.3276994\tbest: 1630.3276994 (666)\ttotal: 22.3s\tremaining: 11.1s\n",
      "667:\tlearn: 1526.8915337\ttest: 1630.2478964\tbest: 1630.2478964 (667)\ttotal: 22.4s\tremaining: 11.1s\n",
      "668:\tlearn: 1526.7327228\ttest: 1630.1760603\tbest: 1630.1760603 (668)\ttotal: 22.4s\tremaining: 11.1s\n",
      "669:\tlearn: 1526.5591235\ttest: 1630.1399512\tbest: 1630.1399512 (669)\ttotal: 22.4s\tremaining: 11s\n",
      "670:\tlearn: 1526.2607902\ttest: 1629.9798723\tbest: 1629.9798723 (670)\ttotal: 22.5s\tremaining: 11s\n",
      "671:\tlearn: 1525.9276484\ttest: 1629.8266726\tbest: 1629.8266726 (671)\ttotal: 22.5s\tremaining: 11s\n",
      "672:\tlearn: 1525.6810041\ttest: 1629.6865752\tbest: 1629.6865752 (672)\ttotal: 22.5s\tremaining: 10.9s\n",
      "673:\tlearn: 1525.5150431\ttest: 1629.6546927\tbest: 1629.6546927 (673)\ttotal: 22.6s\tremaining: 10.9s\n",
      "674:\tlearn: 1525.2980206\ttest: 1629.4642124\tbest: 1629.4642124 (674)\ttotal: 22.6s\tremaining: 10.9s\n",
      "675:\tlearn: 1524.9877807\ttest: 1629.2506991\tbest: 1629.2506991 (675)\ttotal: 22.7s\tremaining: 10.9s\n",
      "676:\tlearn: 1524.8941242\ttest: 1629.2353031\tbest: 1629.2353031 (676)\ttotal: 22.7s\tremaining: 10.8s\n",
      "677:\tlearn: 1524.6698447\ttest: 1629.1523918\tbest: 1629.1523918 (677)\ttotal: 22.8s\tremaining: 10.8s\n",
      "678:\tlearn: 1524.2209720\ttest: 1628.8469313\tbest: 1628.8469313 (678)\ttotal: 22.8s\tremaining: 10.8s\n",
      "679:\tlearn: 1524.0651775\ttest: 1628.8162468\tbest: 1628.8162468 (679)\ttotal: 22.8s\tremaining: 10.7s\n",
      "680:\tlearn: 1523.7624059\ttest: 1628.6027658\tbest: 1628.6027658 (680)\ttotal: 22.9s\tremaining: 10.7s\n",
      "681:\tlearn: 1523.5320978\ttest: 1628.4630356\tbest: 1628.4630356 (681)\ttotal: 22.9s\tremaining: 10.7s\n",
      "682:\tlearn: 1523.2218020\ttest: 1628.2806789\tbest: 1628.2806789 (682)\ttotal: 22.9s\tremaining: 10.6s\n",
      "683:\tlearn: 1522.9756115\ttest: 1628.0537560\tbest: 1628.0537560 (683)\ttotal: 22.9s\tremaining: 10.6s\n",
      "684:\tlearn: 1522.6990998\ttest: 1627.9193637\tbest: 1627.9193637 (684)\ttotal: 23s\tremaining: 10.6s\n",
      "685:\tlearn: 1522.4869082\ttest: 1627.8111032\tbest: 1627.8111032 (685)\ttotal: 23s\tremaining: 10.5s\n",
      "686:\tlearn: 1522.3236346\ttest: 1627.7221822\tbest: 1627.7221822 (686)\ttotal: 23s\tremaining: 10.5s\n",
      "687:\tlearn: 1521.9068152\ttest: 1627.4834480\tbest: 1627.4834480 (687)\ttotal: 23.1s\tremaining: 10.5s\n",
      "688:\tlearn: 1521.6980887\ttest: 1627.3584192\tbest: 1627.3584192 (688)\ttotal: 23.1s\tremaining: 10.4s\n",
      "689:\tlearn: 1521.4340412\ttest: 1627.2193454\tbest: 1627.2193454 (689)\ttotal: 23.1s\tremaining: 10.4s\n",
      "690:\tlearn: 1521.1833995\ttest: 1627.0665476\tbest: 1627.0665476 (690)\ttotal: 23.2s\tremaining: 10.4s\n",
      "691:\tlearn: 1520.9662516\ttest: 1626.9246319\tbest: 1626.9246319 (691)\ttotal: 23.2s\tremaining: 10.3s\n",
      "692:\tlearn: 1520.6668546\ttest: 1626.7618447\tbest: 1626.7618447 (692)\ttotal: 23.2s\tremaining: 10.3s\n",
      "693:\tlearn: 1520.2707505\ttest: 1626.5380317\tbest: 1626.5380317 (693)\ttotal: 23.3s\tremaining: 10.3s\n",
      "694:\tlearn: 1520.0640809\ttest: 1626.4155780\tbest: 1626.4155780 (694)\ttotal: 23.3s\tremaining: 10.2s\n",
      "695:\tlearn: 1519.7356589\ttest: 1626.2980984\tbest: 1626.2980984 (695)\ttotal: 23.3s\tremaining: 10.2s\n",
      "696:\tlearn: 1519.4615113\ttest: 1626.1742262\tbest: 1626.1742262 (696)\ttotal: 23.4s\tremaining: 10.2s\n",
      "697:\tlearn: 1519.1519798\ttest: 1626.0191867\tbest: 1626.0191867 (697)\ttotal: 23.4s\tremaining: 10.1s\n",
      "698:\tlearn: 1519.0008066\ttest: 1626.0044870\tbest: 1626.0044870 (698)\ttotal: 23.4s\tremaining: 10.1s\n",
      "699:\tlearn: 1518.7919835\ttest: 1625.8308184\tbest: 1625.8308184 (699)\ttotal: 23.5s\tremaining: 10.1s\n",
      "700:\tlearn: 1518.5246398\ttest: 1625.6887250\tbest: 1625.6887250 (700)\ttotal: 23.5s\tremaining: 10s\n",
      "701:\tlearn: 1518.3363207\ttest: 1625.5303492\tbest: 1625.5303492 (701)\ttotal: 23.5s\tremaining: 9.99s\n",
      "702:\tlearn: 1517.9371905\ttest: 1625.2978426\tbest: 1625.2978426 (702)\ttotal: 23.6s\tremaining: 9.95s\n",
      "703:\tlearn: 1517.6578172\ttest: 1625.1586923\tbest: 1625.1586923 (703)\ttotal: 23.6s\tremaining: 9.92s\n",
      "704:\tlearn: 1517.5239998\ttest: 1625.0880834\tbest: 1625.0880834 (704)\ttotal: 23.6s\tremaining: 9.88s\n",
      "705:\tlearn: 1517.1922952\ttest: 1624.9477913\tbest: 1624.9477913 (705)\ttotal: 23.7s\tremaining: 9.85s\n",
      "706:\tlearn: 1517.0206006\ttest: 1624.8617366\tbest: 1624.8617366 (706)\ttotal: 23.7s\tremaining: 9.81s\n",
      "707:\tlearn: 1516.7915471\ttest: 1624.7159595\tbest: 1624.7159595 (707)\ttotal: 23.7s\tremaining: 9.78s\n",
      "708:\tlearn: 1516.5131560\ttest: 1624.5779889\tbest: 1624.5779889 (708)\ttotal: 23.7s\tremaining: 9.75s\n",
      "709:\tlearn: 1516.3313665\ttest: 1624.5516466\tbest: 1624.5516466 (709)\ttotal: 23.8s\tremaining: 9.71s\n",
      "710:\tlearn: 1516.1456875\ttest: 1624.4432469\tbest: 1624.4432469 (710)\ttotal: 23.8s\tremaining: 9.68s\n",
      "711:\tlearn: 1515.9938384\ttest: 1624.3808628\tbest: 1624.3808628 (711)\ttotal: 23.8s\tremaining: 9.64s\n",
      "712:\tlearn: 1515.7711362\ttest: 1624.2639687\tbest: 1624.2639687 (712)\ttotal: 23.9s\tremaining: 9.61s\n",
      "713:\tlearn: 1515.5923086\ttest: 1624.1276599\tbest: 1624.1276599 (713)\ttotal: 23.9s\tremaining: 9.58s\n",
      "714:\tlearn: 1515.4096165\ttest: 1624.0078057\tbest: 1624.0078057 (714)\ttotal: 23.9s\tremaining: 9.54s\n",
      "715:\tlearn: 1515.0924484\ttest: 1623.8368043\tbest: 1623.8368043 (715)\ttotal: 24s\tremaining: 9.51s\n",
      "716:\tlearn: 1514.8429293\ttest: 1623.6775605\tbest: 1623.6775605 (716)\ttotal: 24s\tremaining: 9.48s\n",
      "717:\tlearn: 1514.5925085\ttest: 1623.5981267\tbest: 1623.5981267 (717)\ttotal: 24s\tremaining: 9.44s\n",
      "718:\tlearn: 1514.3468558\ttest: 1623.5019110\tbest: 1623.5019110 (718)\ttotal: 24.1s\tremaining: 9.41s\n",
      "719:\tlearn: 1514.1389668\ttest: 1623.3948254\tbest: 1623.3948254 (719)\ttotal: 24.1s\tremaining: 9.37s\n",
      "720:\tlearn: 1514.0133248\ttest: 1623.3915347\tbest: 1623.3915347 (720)\ttotal: 24.1s\tremaining: 9.34s\n",
      "721:\tlearn: 1513.8851777\ttest: 1623.3294010\tbest: 1623.3294010 (721)\ttotal: 24.2s\tremaining: 9.3s\n",
      "722:\tlearn: 1513.8027630\ttest: 1623.3264010\tbest: 1623.3264010 (722)\ttotal: 24.2s\tremaining: 9.27s\n",
      "723:\tlearn: 1513.6651467\ttest: 1623.2472535\tbest: 1623.2472535 (723)\ttotal: 24.2s\tremaining: 9.24s\n",
      "724:\tlearn: 1513.3870100\ttest: 1623.0418050\tbest: 1623.0418050 (724)\ttotal: 24.3s\tremaining: 9.2s\n",
      "725:\tlearn: 1513.1690680\ttest: 1622.9657269\tbest: 1622.9657269 (725)\ttotal: 24.3s\tremaining: 9.17s\n",
      "726:\tlearn: 1512.9110778\ttest: 1622.8233610\tbest: 1622.8233610 (726)\ttotal: 24.3s\tremaining: 9.13s\n",
      "727:\tlearn: 1512.7719782\ttest: 1622.7809957\tbest: 1622.7809957 (727)\ttotal: 24.4s\tremaining: 9.1s\n",
      "728:\tlearn: 1512.6892556\ttest: 1622.7927421\tbest: 1622.7809957 (727)\ttotal: 24.4s\tremaining: 9.06s\n",
      "729:\tlearn: 1512.4990840\ttest: 1622.6882221\tbest: 1622.6882221 (729)\ttotal: 24.4s\tremaining: 9.03s\n",
      "730:\tlearn: 1512.3809624\ttest: 1622.6779929\tbest: 1622.6779929 (730)\ttotal: 24.5s\tremaining: 9s\n",
      "731:\tlearn: 1512.1155184\ttest: 1622.5199676\tbest: 1622.5199676 (731)\ttotal: 24.5s\tremaining: 8.96s\n",
      "732:\tlearn: 1511.8159860\ttest: 1622.4093399\tbest: 1622.4093399 (732)\ttotal: 24.5s\tremaining: 8.93s\n",
      "733:\tlearn: 1511.6262061\ttest: 1622.3585791\tbest: 1622.3585791 (733)\ttotal: 24.5s\tremaining: 8.89s\n",
      "734:\tlearn: 1511.4505505\ttest: 1622.2771678\tbest: 1622.2771678 (734)\ttotal: 24.6s\tremaining: 8.86s\n",
      "735:\tlearn: 1511.2039445\ttest: 1622.1823673\tbest: 1622.1823673 (735)\ttotal: 24.6s\tremaining: 8.83s\n",
      "736:\tlearn: 1511.0442260\ttest: 1622.1098758\tbest: 1622.1098758 (736)\ttotal: 24.7s\tremaining: 8.8s\n",
      "737:\tlearn: 1510.7396710\ttest: 1622.0740030\tbest: 1622.0740030 (737)\ttotal: 24.7s\tremaining: 8.78s\n",
      "738:\tlearn: 1510.4767095\ttest: 1621.9924971\tbest: 1621.9924971 (738)\ttotal: 24.8s\tremaining: 8.75s\n",
      "739:\tlearn: 1510.2411652\ttest: 1621.8596146\tbest: 1621.8596146 (739)\ttotal: 24.8s\tremaining: 8.71s\n",
      "740:\tlearn: 1510.0728874\ttest: 1621.7406081\tbest: 1621.7406081 (740)\ttotal: 24.8s\tremaining: 8.68s\n",
      "741:\tlearn: 1509.9356708\ttest: 1621.6882250\tbest: 1621.6882250 (741)\ttotal: 24.9s\tremaining: 8.65s\n",
      "742:\tlearn: 1509.7913038\ttest: 1621.6491048\tbest: 1621.6491048 (742)\ttotal: 24.9s\tremaining: 8.61s\n",
      "743:\tlearn: 1509.5869856\ttest: 1621.5631267\tbest: 1621.5631267 (743)\ttotal: 24.9s\tremaining: 8.58s\n",
      "744:\tlearn: 1509.4656943\ttest: 1621.5070259\tbest: 1621.5070259 (744)\ttotal: 25s\tremaining: 8.54s\n",
      "745:\tlearn: 1509.3189442\ttest: 1621.4298439\tbest: 1621.4298439 (745)\ttotal: 25s\tremaining: 8.51s\n",
      "746:\tlearn: 1509.0295853\ttest: 1621.4019721\tbest: 1621.4019721 (746)\ttotal: 25s\tremaining: 8.47s\n",
      "747:\tlearn: 1508.8643091\ttest: 1621.3659471\tbest: 1621.3659471 (747)\ttotal: 25s\tremaining: 8.44s\n",
      "748:\tlearn: 1508.6332681\ttest: 1621.2270266\tbest: 1621.2270266 (748)\ttotal: 25.1s\tremaining: 8.41s\n",
      "749:\tlearn: 1508.5563941\ttest: 1621.2201177\tbest: 1621.2201177 (749)\ttotal: 25.1s\tremaining: 8.37s\n",
      "750:\tlearn: 1508.2859281\ttest: 1621.1449025\tbest: 1621.1449025 (750)\ttotal: 25.1s\tremaining: 8.34s\n",
      "751:\tlearn: 1508.0874807\ttest: 1621.0441058\tbest: 1621.0441058 (751)\ttotal: 25.2s\tremaining: 8.3s\n",
      "752:\tlearn: 1507.7988798\ttest: 1620.9039774\tbest: 1620.9039774 (752)\ttotal: 25.2s\tremaining: 8.27s\n",
      "753:\tlearn: 1507.6415938\ttest: 1620.8383479\tbest: 1620.8383479 (753)\ttotal: 25.2s\tremaining: 8.24s\n",
      "754:\tlearn: 1507.5362808\ttest: 1620.8041283\tbest: 1620.8041283 (754)\ttotal: 25.3s\tremaining: 8.2s\n",
      "755:\tlearn: 1507.2975466\ttest: 1620.7056381\tbest: 1620.7056381 (755)\ttotal: 25.3s\tremaining: 8.17s\n",
      "756:\tlearn: 1507.1217212\ttest: 1620.6232573\tbest: 1620.6232573 (756)\ttotal: 25.3s\tremaining: 8.13s\n",
      "757:\tlearn: 1506.7687540\ttest: 1620.3612448\tbest: 1620.3612448 (757)\ttotal: 25.4s\tremaining: 8.1s\n",
      "758:\tlearn: 1506.4850261\ttest: 1620.3198710\tbest: 1620.3198710 (758)\ttotal: 25.4s\tremaining: 8.06s\n",
      "759:\tlearn: 1506.3444978\ttest: 1620.2613430\tbest: 1620.2613430 (759)\ttotal: 25.4s\tremaining: 8.03s\n",
      "760:\tlearn: 1506.0452561\ttest: 1620.0598362\tbest: 1620.0598362 (760)\ttotal: 25.5s\tremaining: 8s\n",
      "761:\tlearn: 1505.9118449\ttest: 1620.0057782\tbest: 1620.0057782 (761)\ttotal: 25.5s\tremaining: 7.96s\n",
      "762:\tlearn: 1505.6968807\ttest: 1619.8818913\tbest: 1619.8818913 (762)\ttotal: 25.5s\tremaining: 7.93s\n",
      "763:\tlearn: 1505.5007922\ttest: 1619.7972992\tbest: 1619.7972992 (763)\ttotal: 25.6s\tremaining: 7.89s\n",
      "764:\tlearn: 1505.3819723\ttest: 1619.7518319\tbest: 1619.7518319 (764)\ttotal: 25.6s\tremaining: 7.86s\n",
      "765:\tlearn: 1505.1419533\ttest: 1619.5768876\tbest: 1619.5768876 (765)\ttotal: 25.6s\tremaining: 7.82s\n",
      "766:\tlearn: 1504.7342381\ttest: 1619.3625661\tbest: 1619.3625661 (766)\ttotal: 25.6s\tremaining: 7.79s\n",
      "767:\tlearn: 1504.5266698\ttest: 1619.2894445\tbest: 1619.2894445 (767)\ttotal: 25.7s\tremaining: 7.75s\n",
      "768:\tlearn: 1504.3182585\ttest: 1619.1157132\tbest: 1619.1157132 (768)\ttotal: 25.7s\tremaining: 7.72s\n",
      "769:\tlearn: 1504.0701209\ttest: 1618.9732142\tbest: 1618.9732142 (769)\ttotal: 25.7s\tremaining: 7.69s\n",
      "770:\tlearn: 1503.8985849\ttest: 1618.9189946\tbest: 1618.9189946 (770)\ttotal: 25.8s\tremaining: 7.65s\n",
      "771:\tlearn: 1503.7578887\ttest: 1618.9025784\tbest: 1618.9025784 (771)\ttotal: 25.8s\tremaining: 7.62s\n",
      "772:\tlearn: 1503.5613799\ttest: 1618.7507082\tbest: 1618.7507082 (772)\ttotal: 25.8s\tremaining: 7.59s\n",
      "773:\tlearn: 1503.3322509\ttest: 1618.6534795\tbest: 1618.6534795 (773)\ttotal: 25.9s\tremaining: 7.55s\n",
      "774:\tlearn: 1503.2559143\ttest: 1618.6665286\tbest: 1618.6534795 (773)\ttotal: 25.9s\tremaining: 7.52s\n",
      "775:\tlearn: 1503.1161589\ttest: 1618.6093169\tbest: 1618.6093169 (775)\ttotal: 25.9s\tremaining: 7.48s\n",
      "776:\tlearn: 1502.9836795\ttest: 1618.5935607\tbest: 1618.5935607 (776)\ttotal: 26s\tremaining: 7.45s\n",
      "777:\tlearn: 1502.8497359\ttest: 1618.5362587\tbest: 1618.5362587 (777)\ttotal: 26s\tremaining: 7.41s\n",
      "778:\tlearn: 1502.6634689\ttest: 1618.4386608\tbest: 1618.4386608 (778)\ttotal: 26s\tremaining: 7.38s\n",
      "779:\tlearn: 1502.5422315\ttest: 1618.4548908\tbest: 1618.4386608 (778)\ttotal: 26s\tremaining: 7.35s\n",
      "780:\tlearn: 1502.4033982\ttest: 1618.3804585\tbest: 1618.3804585 (780)\ttotal: 26.1s\tremaining: 7.31s\n",
      "781:\tlearn: 1502.3038873\ttest: 1618.3203873\tbest: 1618.3203873 (781)\ttotal: 26.1s\tremaining: 7.28s\n",
      "782:\tlearn: 1502.1358047\ttest: 1618.2945692\tbest: 1618.2945692 (782)\ttotal: 26.1s\tremaining: 7.24s\n",
      "783:\tlearn: 1502.0195895\ttest: 1618.2816302\tbest: 1618.2816302 (783)\ttotal: 26.2s\tremaining: 7.21s\n",
      "784:\tlearn: 1501.7021286\ttest: 1618.1585967\tbest: 1618.1585967 (784)\ttotal: 26.2s\tremaining: 7.18s\n",
      "785:\tlearn: 1501.5773389\ttest: 1618.1146267\tbest: 1618.1146267 (785)\ttotal: 26.2s\tremaining: 7.14s\n",
      "786:\tlearn: 1501.4014189\ttest: 1618.0730467\tbest: 1618.0730467 (786)\ttotal: 26.3s\tremaining: 7.11s\n",
      "787:\tlearn: 1501.1021313\ttest: 1617.8821625\tbest: 1617.8821625 (787)\ttotal: 26.3s\tremaining: 7.08s\n",
      "788:\tlearn: 1500.8931597\ttest: 1617.7547338\tbest: 1617.7547338 (788)\ttotal: 26.3s\tremaining: 7.04s\n",
      "789:\tlearn: 1500.6998173\ttest: 1617.6192137\tbest: 1617.6192137 (789)\ttotal: 26.4s\tremaining: 7.01s\n",
      "790:\tlearn: 1500.5968883\ttest: 1617.6045689\tbest: 1617.6045689 (790)\ttotal: 26.4s\tremaining: 6.97s\n",
      "791:\tlearn: 1500.2541700\ttest: 1617.3948432\tbest: 1617.3948432 (791)\ttotal: 26.4s\tremaining: 6.94s\n",
      "792:\tlearn: 1500.1201731\ttest: 1617.3580422\tbest: 1617.3580422 (792)\ttotal: 26.5s\tremaining: 6.91s\n",
      "793:\tlearn: 1500.0000006\ttest: 1617.3154760\tbest: 1617.3154760 (793)\ttotal: 26.5s\tremaining: 6.87s\n",
      "794:\tlearn: 1499.8781208\ttest: 1617.2652609\tbest: 1617.2652609 (794)\ttotal: 26.5s\tremaining: 6.84s\n",
      "795:\tlearn: 1499.6320972\ttest: 1617.1273936\tbest: 1617.1273936 (795)\ttotal: 26.5s\tremaining: 6.8s\n",
      "796:\tlearn: 1499.4335964\ttest: 1617.0423570\tbest: 1617.0423570 (796)\ttotal: 26.6s\tremaining: 6.77s\n",
      "797:\tlearn: 1499.3436241\ttest: 1617.0022958\tbest: 1617.0022958 (797)\ttotal: 26.6s\tremaining: 6.73s\n",
      "798:\tlearn: 1499.1857595\ttest: 1616.9177774\tbest: 1616.9177774 (798)\ttotal: 26.6s\tremaining: 6.7s\n",
      "799:\tlearn: 1498.9616694\ttest: 1616.8383124\tbest: 1616.8383124 (799)\ttotal: 26.7s\tremaining: 6.68s\n",
      "800:\tlearn: 1498.8206256\ttest: 1616.8167394\tbest: 1616.8167394 (800)\ttotal: 26.8s\tremaining: 6.65s\n",
      "801:\tlearn: 1498.7050744\ttest: 1616.7717264\tbest: 1616.7717264 (801)\ttotal: 26.8s\tremaining: 6.62s\n",
      "802:\tlearn: 1498.6025118\ttest: 1616.7247154\tbest: 1616.7247154 (802)\ttotal: 26.8s\tremaining: 6.58s\n",
      "803:\tlearn: 1498.4774443\ttest: 1616.6696483\tbest: 1616.6696483 (803)\ttotal: 26.9s\tremaining: 6.55s\n",
      "804:\tlearn: 1498.3442953\ttest: 1616.6164807\tbest: 1616.6164807 (804)\ttotal: 26.9s\tremaining: 6.52s\n",
      "805:\tlearn: 1498.2437204\ttest: 1616.6433934\tbest: 1616.6164807 (804)\ttotal: 26.9s\tremaining: 6.48s\n",
      "806:\tlearn: 1498.0003568\ttest: 1616.4679966\tbest: 1616.4679966 (806)\ttotal: 27s\tremaining: 6.45s\n",
      "807:\tlearn: 1497.8481473\ttest: 1616.4253840\tbest: 1616.4253840 (807)\ttotal: 27s\tremaining: 6.41s\n",
      "808:\tlearn: 1497.7164214\ttest: 1616.3695356\tbest: 1616.3695356 (808)\ttotal: 27s\tremaining: 6.38s\n",
      "809:\tlearn: 1497.6218755\ttest: 1616.3566356\tbest: 1616.3566356 (809)\ttotal: 27.1s\tremaining: 6.35s\n",
      "810:\tlearn: 1497.4556418\ttest: 1616.2973955\tbest: 1616.2973955 (810)\ttotal: 27.1s\tremaining: 6.31s\n",
      "811:\tlearn: 1497.2746668\ttest: 1616.2197855\tbest: 1616.2197855 (811)\ttotal: 27.1s\tremaining: 6.28s\n",
      "812:\tlearn: 1497.1351695\ttest: 1616.1322880\tbest: 1616.1322880 (812)\ttotal: 27.2s\tremaining: 6.25s\n",
      "813:\tlearn: 1496.8976892\ttest: 1616.0079142\tbest: 1616.0079142 (813)\ttotal: 27.2s\tremaining: 6.21s\n",
      "814:\tlearn: 1496.6454393\ttest: 1615.9980113\tbest: 1615.9980113 (814)\ttotal: 27.2s\tremaining: 6.18s\n",
      "815:\tlearn: 1496.4759782\ttest: 1615.9154098\tbest: 1615.9154098 (815)\ttotal: 27.2s\tremaining: 6.14s\n",
      "816:\tlearn: 1496.2561897\ttest: 1615.7653990\tbest: 1615.7653990 (816)\ttotal: 27.3s\tremaining: 6.11s\n",
      "817:\tlearn: 1496.0213449\ttest: 1615.6142279\tbest: 1615.6142279 (817)\ttotal: 27.3s\tremaining: 6.08s\n",
      "818:\tlearn: 1495.8161330\ttest: 1615.5072666\tbest: 1615.5072666 (818)\ttotal: 27.3s\tremaining: 6.04s\n",
      "819:\tlearn: 1495.6917937\ttest: 1615.4199975\tbest: 1615.4199975 (819)\ttotal: 27.4s\tremaining: 6.01s\n",
      "820:\tlearn: 1495.5082738\ttest: 1615.3452245\tbest: 1615.3452245 (820)\ttotal: 27.4s\tremaining: 5.97s\n",
      "821:\tlearn: 1495.2753426\ttest: 1615.2035932\tbest: 1615.2035932 (821)\ttotal: 27.4s\tremaining: 5.94s\n",
      "822:\tlearn: 1495.1500767\ttest: 1615.1334720\tbest: 1615.1334720 (822)\ttotal: 27.5s\tremaining: 5.91s\n",
      "823:\tlearn: 1495.0273575\ttest: 1615.1561269\tbest: 1615.1334720 (822)\ttotal: 27.5s\tremaining: 5.87s\n",
      "824:\tlearn: 1494.8574912\ttest: 1615.0874994\tbest: 1615.0874994 (824)\ttotal: 27.5s\tremaining: 5.84s\n",
      "825:\tlearn: 1494.6169767\ttest: 1614.9603187\tbest: 1614.9603187 (825)\ttotal: 27.6s\tremaining: 5.8s\n",
      "826:\tlearn: 1494.4354561\ttest: 1614.8702211\tbest: 1614.8702211 (826)\ttotal: 27.6s\tremaining: 5.77s\n",
      "827:\tlearn: 1494.2613583\ttest: 1614.7360650\tbest: 1614.7360650 (827)\ttotal: 27.6s\tremaining: 5.74s\n",
      "828:\tlearn: 1494.0406564\ttest: 1614.6107506\tbest: 1614.6107506 (828)\ttotal: 27.6s\tremaining: 5.7s\n",
      "829:\tlearn: 1493.9161529\ttest: 1614.5504952\tbest: 1614.5504952 (829)\ttotal: 27.7s\tremaining: 5.67s\n",
      "830:\tlearn: 1493.7258999\ttest: 1614.5142284\tbest: 1614.5142284 (830)\ttotal: 27.7s\tremaining: 5.63s\n",
      "831:\tlearn: 1493.4964089\ttest: 1614.4001694\tbest: 1614.4001694 (831)\ttotal: 27.7s\tremaining: 5.6s\n",
      "832:\tlearn: 1493.3433972\ttest: 1614.3513962\tbest: 1614.3513962 (832)\ttotal: 27.8s\tremaining: 5.57s\n",
      "833:\tlearn: 1493.1159650\ttest: 1614.2287782\tbest: 1614.2287782 (833)\ttotal: 27.8s\tremaining: 5.53s\n",
      "834:\tlearn: 1493.0101495\ttest: 1614.1881494\tbest: 1614.1881494 (834)\ttotal: 27.8s\tremaining: 5.5s\n",
      "835:\tlearn: 1492.8711318\ttest: 1614.1042237\tbest: 1614.1042237 (835)\ttotal: 27.9s\tremaining: 5.46s\n",
      "836:\tlearn: 1492.7620377\ttest: 1614.0618565\tbest: 1614.0618565 (836)\ttotal: 27.9s\tremaining: 5.43s\n",
      "837:\tlearn: 1492.6614212\ttest: 1614.0489315\tbest: 1614.0489315 (837)\ttotal: 27.9s\tremaining: 5.4s\n",
      "838:\tlearn: 1492.6124485\ttest: 1614.0484866\tbest: 1614.0484866 (838)\ttotal: 28s\tremaining: 5.36s\n",
      "839:\tlearn: 1492.4982287\ttest: 1614.0186101\tbest: 1614.0186101 (839)\ttotal: 28s\tremaining: 5.33s\n",
      "840:\tlearn: 1492.2581799\ttest: 1613.8817369\tbest: 1613.8817369 (840)\ttotal: 28s\tremaining: 5.3s\n",
      "841:\tlearn: 1492.1339988\ttest: 1613.8768096\tbest: 1613.8768096 (841)\ttotal: 28.1s\tremaining: 5.26s\n",
      "842:\tlearn: 1491.7828267\ttest: 1613.7021834\tbest: 1613.7021834 (842)\ttotal: 28.1s\tremaining: 5.23s\n",
      "843:\tlearn: 1491.6645376\ttest: 1613.6918747\tbest: 1613.6918747 (843)\ttotal: 28.1s\tremaining: 5.2s\n",
      "844:\tlearn: 1491.4224356\ttest: 1613.5739771\tbest: 1613.5739771 (844)\ttotal: 28.1s\tremaining: 5.16s\n",
      "845:\tlearn: 1491.1994893\ttest: 1613.4367575\tbest: 1613.4367575 (845)\ttotal: 28.2s\tremaining: 5.14s\n",
      "846:\tlearn: 1490.9433736\ttest: 1613.3424510\tbest: 1613.3424510 (846)\ttotal: 28.3s\tremaining: 5.1s\n",
      "847:\tlearn: 1490.7473065\ttest: 1613.2759172\tbest: 1613.2759172 (847)\ttotal: 28.3s\tremaining: 5.08s\n",
      "848:\tlearn: 1490.5721273\ttest: 1613.1291336\tbest: 1613.1291336 (848)\ttotal: 28.4s\tremaining: 5.05s\n",
      "849:\tlearn: 1490.3710135\ttest: 1613.0423448\tbest: 1613.0423448 (849)\ttotal: 28.4s\tremaining: 5.02s\n",
      "850:\tlearn: 1490.1886668\ttest: 1612.9434106\tbest: 1612.9434106 (850)\ttotal: 28.5s\tremaining: 4.98s\n",
      "851:\tlearn: 1490.0865086\ttest: 1612.9089456\tbest: 1612.9089456 (851)\ttotal: 28.5s\tremaining: 4.95s\n",
      "852:\tlearn: 1489.9091584\ttest: 1612.8301081\tbest: 1612.8301081 (852)\ttotal: 28.5s\tremaining: 4.92s\n",
      "853:\tlearn: 1489.7349963\ttest: 1612.7356972\tbest: 1612.7356972 (853)\ttotal: 28.6s\tremaining: 4.88s\n",
      "854:\tlearn: 1489.6245386\ttest: 1612.6863937\tbest: 1612.6863937 (854)\ttotal: 28.6s\tremaining: 4.85s\n",
      "855:\tlearn: 1489.3429619\ttest: 1612.5359548\tbest: 1612.5359548 (855)\ttotal: 28.6s\tremaining: 4.81s\n",
      "856:\tlearn: 1489.1807908\ttest: 1612.3962165\tbest: 1612.3962165 (856)\ttotal: 28.7s\tremaining: 4.79s\n",
      "857:\tlearn: 1489.0889949\ttest: 1612.3429202\tbest: 1612.3429202 (857)\ttotal: 28.7s\tremaining: 4.75s\n",
      "858:\tlearn: 1488.8724932\ttest: 1612.2579044\tbest: 1612.2579044 (858)\ttotal: 28.8s\tremaining: 4.72s\n",
      "859:\tlearn: 1488.7502736\ttest: 1612.2283538\tbest: 1612.2283538 (859)\ttotal: 28.8s\tremaining: 4.69s\n",
      "860:\tlearn: 1488.6338654\ttest: 1612.1486099\tbest: 1612.1486099 (860)\ttotal: 28.8s\tremaining: 4.66s\n",
      "861:\tlearn: 1488.5184560\ttest: 1612.0795019\tbest: 1612.0795019 (861)\ttotal: 28.9s\tremaining: 4.62s\n",
      "862:\tlearn: 1488.2863616\ttest: 1611.9567428\tbest: 1611.9567428 (862)\ttotal: 28.9s\tremaining: 4.59s\n",
      "863:\tlearn: 1488.0958864\ttest: 1611.9137615\tbest: 1611.9137615 (863)\ttotal: 28.9s\tremaining: 4.55s\n",
      "864:\tlearn: 1487.9159230\ttest: 1611.8046916\tbest: 1611.8046916 (864)\ttotal: 29s\tremaining: 4.52s\n",
      "865:\tlearn: 1487.8242629\ttest: 1611.7469888\tbest: 1611.7469888 (865)\ttotal: 29s\tremaining: 4.49s\n",
      "866:\tlearn: 1487.7005422\ttest: 1611.7485362\tbest: 1611.7469888 (865)\ttotal: 29s\tremaining: 4.45s\n",
      "867:\tlearn: 1487.6005164\ttest: 1611.7443863\tbest: 1611.7443863 (867)\ttotal: 29.1s\tremaining: 4.42s\n",
      "868:\tlearn: 1487.5259645\ttest: 1611.6978214\tbest: 1611.6978214 (868)\ttotal: 29.1s\tremaining: 4.39s\n",
      "869:\tlearn: 1487.3330152\ttest: 1611.5798316\tbest: 1611.5798316 (869)\ttotal: 29.1s\tremaining: 4.35s\n",
      "870:\tlearn: 1487.1121914\ttest: 1611.5112029\tbest: 1611.5112029 (870)\ttotal: 29.2s\tremaining: 4.32s\n",
      "871:\tlearn: 1486.9568956\ttest: 1611.4197821\tbest: 1611.4197821 (871)\ttotal: 29.2s\tremaining: 4.29s\n",
      "872:\tlearn: 1486.8942627\ttest: 1611.3898363\tbest: 1611.3898363 (872)\ttotal: 29.2s\tremaining: 4.25s\n",
      "873:\tlearn: 1486.7469887\ttest: 1611.3278970\tbest: 1611.3278970 (873)\ttotal: 29.3s\tremaining: 4.22s\n",
      "874:\tlearn: 1486.5703385\ttest: 1611.1979236\tbest: 1611.1979236 (874)\ttotal: 29.3s\tremaining: 4.18s\n",
      "875:\tlearn: 1486.4671709\ttest: 1611.1635392\tbest: 1611.1635392 (875)\ttotal: 29.3s\tremaining: 4.15s\n",
      "876:\tlearn: 1486.3011757\ttest: 1611.1189311\tbest: 1611.1189311 (876)\ttotal: 29.4s\tremaining: 4.12s\n",
      "877:\tlearn: 1486.0602682\ttest: 1610.9709938\tbest: 1610.9709938 (877)\ttotal: 29.4s\tremaining: 4.08s\n",
      "878:\tlearn: 1485.9858678\ttest: 1610.9439023\tbest: 1610.9439023 (878)\ttotal: 29.4s\tremaining: 4.05s\n",
      "879:\tlearn: 1485.7710147\ttest: 1610.8548157\tbest: 1610.8548157 (879)\ttotal: 29.4s\tremaining: 4.01s\n",
      "880:\tlearn: 1485.6358684\ttest: 1610.7931346\tbest: 1610.7931346 (880)\ttotal: 29.5s\tremaining: 3.98s\n",
      "881:\tlearn: 1485.2849079\ttest: 1610.6224607\tbest: 1610.6224607 (881)\ttotal: 29.5s\tremaining: 3.95s\n",
      "882:\tlearn: 1485.0926139\ttest: 1610.5489654\tbest: 1610.5489654 (882)\ttotal: 29.5s\tremaining: 3.92s\n",
      "883:\tlearn: 1485.0354599\ttest: 1610.5319078\tbest: 1610.5319078 (883)\ttotal: 29.6s\tremaining: 3.88s\n",
      "884:\tlearn: 1484.8615503\ttest: 1610.4486372\tbest: 1610.4486372 (884)\ttotal: 29.6s\tremaining: 3.85s\n",
      "885:\tlearn: 1484.5825888\ttest: 1610.2769780\tbest: 1610.2769780 (885)\ttotal: 29.6s\tremaining: 3.81s\n",
      "886:\tlearn: 1484.3212770\ttest: 1610.1520314\tbest: 1610.1520314 (886)\ttotal: 29.7s\tremaining: 3.78s\n",
      "887:\tlearn: 1484.1744676\ttest: 1610.1186043\tbest: 1610.1186043 (887)\ttotal: 29.7s\tremaining: 3.75s\n",
      "888:\tlearn: 1484.0670162\ttest: 1610.0894688\tbest: 1610.0894688 (888)\ttotal: 29.7s\tremaining: 3.71s\n",
      "889:\tlearn: 1483.9672120\ttest: 1610.0778499\tbest: 1610.0778499 (889)\ttotal: 29.8s\tremaining: 3.68s\n",
      "890:\tlearn: 1483.7315107\ttest: 1610.0108017\tbest: 1610.0108017 (890)\ttotal: 29.8s\tremaining: 3.65s\n",
      "891:\tlearn: 1483.6220530\ttest: 1609.9698227\tbest: 1609.9698227 (891)\ttotal: 29.8s\tremaining: 3.61s\n",
      "892:\tlearn: 1483.3681707\ttest: 1609.9626871\tbest: 1609.9626871 (892)\ttotal: 29.9s\tremaining: 3.58s\n",
      "893:\tlearn: 1483.0991734\ttest: 1609.7678571\tbest: 1609.7678571 (893)\ttotal: 29.9s\tremaining: 3.54s\n",
      "894:\tlearn: 1482.9715969\ttest: 1609.7219131\tbest: 1609.7219131 (894)\ttotal: 29.9s\tremaining: 3.51s\n",
      "895:\tlearn: 1482.8598913\ttest: 1609.7052475\tbest: 1609.7052475 (895)\ttotal: 30s\tremaining: 3.48s\n",
      "896:\tlearn: 1482.6842239\ttest: 1609.6519793\tbest: 1609.6519793 (896)\ttotal: 30s\tremaining: 3.44s\n",
      "897:\tlearn: 1482.5255867\ttest: 1609.5857258\tbest: 1609.5857258 (897)\ttotal: 30s\tremaining: 3.41s\n",
      "898:\tlearn: 1482.2723641\ttest: 1609.4380631\tbest: 1609.4380631 (898)\ttotal: 30s\tremaining: 3.38s\n",
      "899:\tlearn: 1482.1187551\ttest: 1609.3459871\tbest: 1609.3459871 (899)\ttotal: 30.1s\tremaining: 3.34s\n",
      "900:\tlearn: 1481.9630537\ttest: 1609.2638541\tbest: 1609.2638541 (900)\ttotal: 30.1s\tremaining: 3.31s\n",
      "901:\tlearn: 1481.9087362\ttest: 1609.2478683\tbest: 1609.2478683 (901)\ttotal: 30.1s\tremaining: 3.27s\n",
      "902:\tlearn: 1481.7678486\ttest: 1609.2353495\tbest: 1609.2353495 (902)\ttotal: 30.2s\tremaining: 3.24s\n",
      "903:\tlearn: 1481.6551282\ttest: 1609.2000471\tbest: 1609.2000471 (903)\ttotal: 30.2s\tremaining: 3.21s\n",
      "904:\tlearn: 1481.4277994\ttest: 1609.1330666\tbest: 1609.1330666 (904)\ttotal: 30.2s\tremaining: 3.17s\n",
      "905:\tlearn: 1481.2467579\ttest: 1608.9839263\tbest: 1608.9839263 (905)\ttotal: 30.3s\tremaining: 3.14s\n",
      "906:\tlearn: 1481.0673380\ttest: 1608.9122426\tbest: 1608.9122426 (906)\ttotal: 30.3s\tremaining: 3.11s\n",
      "907:\tlearn: 1480.8223819\ttest: 1608.7664618\tbest: 1608.7664618 (907)\ttotal: 30.3s\tremaining: 3.07s\n",
      "908:\tlearn: 1480.5919495\ttest: 1608.6646135\tbest: 1608.6646135 (908)\ttotal: 30.4s\tremaining: 3.04s\n",
      "909:\tlearn: 1480.2909272\ttest: 1608.5179118\tbest: 1608.5179118 (909)\ttotal: 30.4s\tremaining: 3s\n",
      "910:\tlearn: 1480.1981284\ttest: 1608.4785494\tbest: 1608.4785494 (910)\ttotal: 30.4s\tremaining: 2.97s\n",
      "911:\tlearn: 1480.0311616\ttest: 1608.3974138\tbest: 1608.3974138 (911)\ttotal: 30.5s\tremaining: 2.94s\n",
      "912:\tlearn: 1479.9247961\ttest: 1608.3767267\tbest: 1608.3767267 (912)\ttotal: 30.5s\tremaining: 2.91s\n",
      "913:\tlearn: 1479.7501416\ttest: 1608.3151773\tbest: 1608.3151773 (913)\ttotal: 30.6s\tremaining: 2.88s\n",
      "914:\tlearn: 1479.6571732\ttest: 1608.2632030\tbest: 1608.2632030 (914)\ttotal: 30.6s\tremaining: 2.84s\n",
      "915:\tlearn: 1479.4729648\ttest: 1608.1503853\tbest: 1608.1503853 (915)\ttotal: 30.6s\tremaining: 2.81s\n",
      "916:\tlearn: 1479.3330473\ttest: 1608.1316896\tbest: 1608.1316896 (916)\ttotal: 30.7s\tremaining: 2.78s\n",
      "917:\tlearn: 1479.2146475\ttest: 1608.0868188\tbest: 1608.0868188 (917)\ttotal: 30.7s\tremaining: 2.74s\n",
      "918:\tlearn: 1479.0865173\ttest: 1607.9599639\tbest: 1607.9599639 (918)\ttotal: 30.7s\tremaining: 2.71s\n",
      "919:\tlearn: 1478.8955663\ttest: 1607.8766365\tbest: 1607.8766365 (919)\ttotal: 30.8s\tremaining: 2.68s\n",
      "920:\tlearn: 1478.7319297\ttest: 1607.8357021\tbest: 1607.8357021 (920)\ttotal: 30.8s\tremaining: 2.64s\n",
      "921:\tlearn: 1478.6405433\ttest: 1607.8156796\tbest: 1607.8156796 (921)\ttotal: 30.8s\tremaining: 2.61s\n",
      "922:\tlearn: 1478.4709012\ttest: 1607.7493374\tbest: 1607.7493374 (922)\ttotal: 30.9s\tremaining: 2.58s\n",
      "923:\tlearn: 1478.3265669\ttest: 1607.6542193\tbest: 1607.6542193 (923)\ttotal: 30.9s\tremaining: 2.54s\n",
      "924:\tlearn: 1478.1747746\ttest: 1607.6327815\tbest: 1607.6327815 (924)\ttotal: 30.9s\tremaining: 2.51s\n",
      "925:\tlearn: 1478.0425181\ttest: 1607.5332346\tbest: 1607.5332346 (925)\ttotal: 31s\tremaining: 2.48s\n",
      "926:\tlearn: 1477.8811022\ttest: 1607.4535428\tbest: 1607.4535428 (926)\ttotal: 31s\tremaining: 2.44s\n",
      "927:\tlearn: 1477.7228320\ttest: 1607.4292095\tbest: 1607.4292095 (927)\ttotal: 31s\tremaining: 2.41s\n",
      "928:\tlearn: 1477.6201649\ttest: 1607.4062970\tbest: 1607.4062970 (928)\ttotal: 31.1s\tremaining: 2.37s\n",
      "929:\tlearn: 1477.4243392\ttest: 1607.3252305\tbest: 1607.3252305 (929)\ttotal: 31.1s\tremaining: 2.34s\n",
      "930:\tlearn: 1477.2454380\ttest: 1607.2171621\tbest: 1607.2171621 (930)\ttotal: 31.1s\tremaining: 2.31s\n",
      "931:\tlearn: 1477.0530950\ttest: 1607.1148870\tbest: 1607.1148870 (931)\ttotal: 31.2s\tremaining: 2.27s\n",
      "932:\tlearn: 1476.9511570\ttest: 1607.1183108\tbest: 1607.1148870 (931)\ttotal: 31.2s\tremaining: 2.24s\n",
      "933:\tlearn: 1476.8977369\ttest: 1607.1243146\tbest: 1607.1148870 (931)\ttotal: 31.2s\tremaining: 2.21s\n",
      "934:\tlearn: 1476.7148397\ttest: 1607.0585373\tbest: 1607.0585373 (934)\ttotal: 31.3s\tremaining: 2.17s\n",
      "935:\tlearn: 1476.5312599\ttest: 1607.0079988\tbest: 1607.0079988 (935)\ttotal: 31.3s\tremaining: 2.14s\n",
      "936:\tlearn: 1476.3445825\ttest: 1606.9478748\tbest: 1606.9478748 (936)\ttotal: 31.3s\tremaining: 2.1s\n",
      "937:\tlearn: 1476.2267161\ttest: 1606.9692158\tbest: 1606.9478748 (936)\ttotal: 31.4s\tremaining: 2.07s\n",
      "938:\tlearn: 1476.1044212\ttest: 1606.8851864\tbest: 1606.8851864 (938)\ttotal: 31.4s\tremaining: 2.04s\n",
      "939:\tlearn: 1476.0196071\ttest: 1606.8619572\tbest: 1606.8619572 (939)\ttotal: 31.4s\tremaining: 2s\n",
      "940:\tlearn: 1475.9703701\ttest: 1606.8479909\tbest: 1606.8479909 (940)\ttotal: 31.4s\tremaining: 1.97s\n",
      "941:\tlearn: 1475.9222625\ttest: 1606.8400243\tbest: 1606.8400243 (941)\ttotal: 31.5s\tremaining: 1.94s\n",
      "942:\tlearn: 1475.5923282\ttest: 1606.6938856\tbest: 1606.6938856 (942)\ttotal: 31.5s\tremaining: 1.9s\n",
      "943:\tlearn: 1475.4359635\ttest: 1606.5979614\tbest: 1606.5979614 (943)\ttotal: 31.5s\tremaining: 1.87s\n",
      "944:\tlearn: 1475.2334409\ttest: 1606.5209656\tbest: 1606.5209656 (944)\ttotal: 31.6s\tremaining: 1.84s\n",
      "945:\tlearn: 1475.1261061\ttest: 1606.4450919\tbest: 1606.4450919 (945)\ttotal: 31.6s\tremaining: 1.8s\n",
      "946:\tlearn: 1474.9743460\ttest: 1606.3997025\tbest: 1606.3997025 (946)\ttotal: 31.6s\tremaining: 1.77s\n",
      "947:\tlearn: 1474.8427958\ttest: 1606.3614794\tbest: 1606.3614794 (947)\ttotal: 31.7s\tremaining: 1.74s\n",
      "948:\tlearn: 1474.8038997\ttest: 1606.3556948\tbest: 1606.3556948 (948)\ttotal: 31.7s\tremaining: 1.7s\n",
      "949:\tlearn: 1474.6251895\ttest: 1606.3130543\tbest: 1606.3130543 (949)\ttotal: 31.7s\tremaining: 1.67s\n",
      "950:\tlearn: 1474.4734715\ttest: 1606.3023630\tbest: 1606.3023630 (950)\ttotal: 31.8s\tremaining: 1.64s\n",
      "951:\tlearn: 1474.2755845\ttest: 1606.2047905\tbest: 1606.2047905 (951)\ttotal: 31.8s\tremaining: 1.6s\n",
      "952:\tlearn: 1474.1235710\ttest: 1606.1505533\tbest: 1606.1505533 (952)\ttotal: 31.8s\tremaining: 1.57s\n",
      "953:\tlearn: 1474.0031285\ttest: 1606.0760282\tbest: 1606.0760282 (953)\ttotal: 31.9s\tremaining: 1.54s\n",
      "954:\tlearn: 1473.9028415\ttest: 1606.0965323\tbest: 1606.0760282 (953)\ttotal: 31.9s\tremaining: 1.5s\n",
      "955:\tlearn: 1473.7866797\ttest: 1606.0178219\tbest: 1606.0178219 (955)\ttotal: 31.9s\tremaining: 1.47s\n",
      "956:\tlearn: 1473.6903613\ttest: 1606.0216938\tbest: 1606.0178219 (955)\ttotal: 32s\tremaining: 1.44s\n",
      "957:\tlearn: 1473.4675033\ttest: 1605.8845567\tbest: 1605.8845567 (957)\ttotal: 32s\tremaining: 1.4s\n",
      "958:\tlearn: 1473.2773924\ttest: 1605.8207237\tbest: 1605.8207237 (958)\ttotal: 32s\tremaining: 1.37s\n",
      "959:\tlearn: 1473.0531951\ttest: 1605.6541167\tbest: 1605.6541167 (959)\ttotal: 32s\tremaining: 1.33s\n",
      "960:\tlearn: 1472.9072120\ttest: 1605.6099529\tbest: 1605.6099529 (960)\ttotal: 32.1s\tremaining: 1.3s\n",
      "961:\tlearn: 1472.8033871\ttest: 1605.5956735\tbest: 1605.5956735 (961)\ttotal: 32.1s\tremaining: 1.27s\n",
      "962:\tlearn: 1472.7090066\ttest: 1605.5389058\tbest: 1605.5389058 (962)\ttotal: 32.1s\tremaining: 1.23s\n",
      "963:\tlearn: 1472.4795132\ttest: 1605.4425940\tbest: 1605.4425940 (963)\ttotal: 32.2s\tremaining: 1.2s\n",
      "964:\tlearn: 1472.2687318\ttest: 1605.2966047\tbest: 1605.2966047 (964)\ttotal: 32.2s\tremaining: 1.17s\n",
      "965:\tlearn: 1472.1091757\ttest: 1605.2401730\tbest: 1605.2401730 (965)\ttotal: 32.3s\tremaining: 1.14s\n",
      "966:\tlearn: 1471.9003127\ttest: 1605.1168537\tbest: 1605.1168537 (966)\ttotal: 32.3s\tremaining: 1.1s\n",
      "967:\tlearn: 1471.7520597\ttest: 1605.0867448\tbest: 1605.0867448 (967)\ttotal: 32.4s\tremaining: 1.07s\n",
      "968:\tlearn: 1471.5890325\ttest: 1604.9996397\tbest: 1604.9996397 (968)\ttotal: 32.4s\tremaining: 1.04s\n",
      "969:\tlearn: 1471.4026511\ttest: 1604.8437052\tbest: 1604.8437052 (969)\ttotal: 32.4s\tremaining: 1s\n",
      "970:\tlearn: 1471.2943629\ttest: 1604.8299808\tbest: 1604.8299808 (970)\ttotal: 32.5s\tremaining: 970ms\n",
      "971:\tlearn: 1471.0676040\ttest: 1604.7470561\tbest: 1604.7470561 (971)\ttotal: 32.5s\tremaining: 936ms\n",
      "972:\tlearn: 1470.9561743\ttest: 1604.6710447\tbest: 1604.6710447 (972)\ttotal: 32.5s\tremaining: 903ms\n",
      "973:\tlearn: 1470.7964940\ttest: 1604.6670379\tbest: 1604.6670379 (973)\ttotal: 32.6s\tremaining: 869ms\n",
      "974:\tlearn: 1470.6522148\ttest: 1604.5966256\tbest: 1604.5966256 (974)\ttotal: 32.6s\tremaining: 836ms\n",
      "975:\tlearn: 1470.4867701\ttest: 1604.5530803\tbest: 1604.5530803 (975)\ttotal: 32.6s\tremaining: 802ms\n",
      "976:\tlearn: 1470.4374237\ttest: 1604.5511510\tbest: 1604.5511510 (976)\ttotal: 32.7s\tremaining: 769ms\n",
      "977:\tlearn: 1470.3265939\ttest: 1604.5120789\tbest: 1604.5120789 (977)\ttotal: 32.7s\tremaining: 735ms\n",
      "978:\tlearn: 1470.2559583\ttest: 1604.5194621\tbest: 1604.5120789 (977)\ttotal: 32.7s\tremaining: 702ms\n",
      "979:\tlearn: 1470.1082290\ttest: 1604.4205105\tbest: 1604.4205105 (979)\ttotal: 32.8s\tremaining: 668ms\n",
      "980:\tlearn: 1469.9381188\ttest: 1604.3117380\tbest: 1604.3117380 (980)\ttotal: 32.8s\tremaining: 635ms\n",
      "981:\tlearn: 1469.7785301\ttest: 1604.1919150\tbest: 1604.1919150 (981)\ttotal: 32.8s\tremaining: 602ms\n",
      "982:\tlearn: 1469.6023856\ttest: 1604.0989901\tbest: 1604.0989901 (982)\ttotal: 32.8s\tremaining: 568ms\n",
      "983:\tlearn: 1469.4353787\ttest: 1603.9807852\tbest: 1603.9807852 (983)\ttotal: 32.9s\tremaining: 535ms\n",
      "984:\tlearn: 1469.3258118\ttest: 1603.9060435\tbest: 1603.9060435 (984)\ttotal: 32.9s\tremaining: 501ms\n",
      "985:\tlearn: 1469.2076545\ttest: 1603.8612132\tbest: 1603.8612132 (985)\ttotal: 32.9s\tremaining: 468ms\n",
      "986:\tlearn: 1469.0352093\ttest: 1603.7983898\tbest: 1603.7983898 (986)\ttotal: 33s\tremaining: 434ms\n",
      "987:\tlearn: 1468.8836430\ttest: 1603.7347239\tbest: 1603.7347239 (987)\ttotal: 33s\tremaining: 401ms\n",
      "988:\tlearn: 1468.7918130\ttest: 1603.6952900\tbest: 1603.6952900 (988)\ttotal: 33s\tremaining: 367ms\n",
      "989:\tlearn: 1468.6659387\ttest: 1603.6592581\tbest: 1603.6592581 (989)\ttotal: 33.1s\tremaining: 334ms\n",
      "990:\tlearn: 1468.3816042\ttest: 1603.5629774\tbest: 1603.5629774 (990)\ttotal: 33.1s\tremaining: 301ms\n",
      "991:\tlearn: 1468.1778664\ttest: 1603.4319802\tbest: 1603.4319802 (991)\ttotal: 33.1s\tremaining: 267ms\n",
      "992:\tlearn: 1468.0453552\ttest: 1603.3936039\tbest: 1603.3936039 (992)\ttotal: 33.2s\tremaining: 234ms\n",
      "993:\tlearn: 1467.9155714\ttest: 1603.3321980\tbest: 1603.3321980 (993)\ttotal: 33.2s\tremaining: 200ms\n",
      "994:\tlearn: 1467.7495301\ttest: 1603.2606435\tbest: 1603.2606435 (994)\ttotal: 33.2s\tremaining: 167ms\n",
      "995:\tlearn: 1467.5122880\ttest: 1603.1455444\tbest: 1603.1455444 (995)\ttotal: 33.3s\tremaining: 134ms\n",
      "996:\tlearn: 1467.3670312\ttest: 1603.1077396\tbest: 1603.1077396 (996)\ttotal: 33.3s\tremaining: 100ms\n",
      "997:\tlearn: 1467.1700489\ttest: 1603.0381049\tbest: 1603.0381049 (997)\ttotal: 33.3s\tremaining: 66.8ms\n",
      "998:\tlearn: 1467.0680919\ttest: 1602.9697246\tbest: 1602.9697246 (998)\ttotal: 33.4s\tremaining: 33.4ms\n",
      "999:\tlearn: 1466.9512015\ttest: 1602.8966458\tbest: 1602.8966458 (999)\ttotal: 33.4s\tremaining: 0us\n",
      "\n",
      "bestTest = 1602.896646\n",
      "bestIteration = 999\n",
      "\n",
      "Training on fold [1/3]\n",
      "0:\tlearn: 6537.3046607\ttest: 6552.1595288\tbest: 6552.1595288 (0)\ttotal: 34.1ms\tremaining: 34.1s\n",
      "1:\tlearn: 6371.2011696\ttest: 6386.1991807\tbest: 6386.1991807 (1)\ttotal: 68.3ms\tremaining: 34.1s\n",
      "2:\tlearn: 6209.0170830\ttest: 6224.2434230\tbest: 6224.2434230 (2)\ttotal: 100ms\tremaining: 33.4s\n",
      "3:\tlearn: 6052.2273330\ttest: 6067.7445351\tbest: 6067.7445351 (3)\ttotal: 130ms\tremaining: 32.5s\n",
      "4:\tlearn: 5901.4344083\ttest: 5916.8670308\tbest: 5916.8670308 (4)\ttotal: 164ms\tremaining: 32.7s\n",
      "5:\tlearn: 5755.4182870\ttest: 5771.5539979\tbest: 5771.5539979 (5)\ttotal: 197ms\tremaining: 32.6s\n",
      "6:\tlearn: 5614.5479232\ttest: 5630.9041542\tbest: 5630.9041542 (6)\ttotal: 227ms\tremaining: 32.2s\n",
      "7:\tlearn: 5478.7750802\ttest: 5495.1408057\tbest: 5495.1408057 (7)\ttotal: 262ms\tremaining: 32.4s\n",
      "8:\tlearn: 5350.5720647\ttest: 5367.4048299\tbest: 5367.4048299 (8)\ttotal: 278ms\tremaining: 30.6s\n",
      "9:\tlearn: 5220.3093653\ttest: 5237.6022506\tbest: 5237.6022506 (9)\ttotal: 312ms\tremaining: 30.9s\n",
      "10:\tlearn: 5096.8301811\ttest: 5114.2212807\tbest: 5114.2212807 (10)\ttotal: 345ms\tremaining: 31s\n",
      "11:\tlearn: 4977.1744508\ttest: 4994.7624144\tbest: 4994.7624144 (11)\ttotal: 378ms\tremaining: 31.2s\n",
      "12:\tlearn: 4860.7212205\ttest: 4878.8203316\tbest: 4878.8203316 (12)\ttotal: 406ms\tremaining: 30.9s\n",
      "13:\tlearn: 4748.4179686\ttest: 4766.9406142\tbest: 4766.9406142 (13)\ttotal: 437ms\tremaining: 30.7s\n",
      "14:\tlearn: 4639.9353069\ttest: 4659.0746247\tbest: 4659.0746247 (14)\ttotal: 467ms\tremaining: 30.6s\n",
      "15:\tlearn: 4535.6673652\ttest: 4555.1555219\tbest: 4555.1555219 (15)\ttotal: 501ms\tremaining: 30.8s\n",
      "16:\tlearn: 4433.4403769\ttest: 4453.1456484\tbest: 4453.1456484 (16)\ttotal: 558ms\tremaining: 32.3s\n",
      "17:\tlearn: 4335.8593225\ttest: 4355.7524943\tbest: 4355.7524943 (17)\ttotal: 616ms\tremaining: 33.6s\n",
      "18:\tlearn: 4241.1397186\ttest: 4261.3956443\tbest: 4261.3956443 (18)\ttotal: 653ms\tremaining: 33.7s\n",
      "19:\tlearn: 4150.7241725\ttest: 4171.2003934\tbest: 4171.2003934 (19)\ttotal: 686ms\tremaining: 33.6s\n",
      "20:\tlearn: 4063.8647575\ttest: 4084.4992987\tbest: 4084.4992987 (20)\ttotal: 717ms\tremaining: 33.4s\n",
      "21:\tlearn: 3978.7564130\ttest: 3999.7277397\tbest: 3999.7277397 (21)\ttotal: 748ms\tremaining: 33.3s\n",
      "22:\tlearn: 3895.2281084\ttest: 3916.6917467\tbest: 3916.6917467 (22)\ttotal: 778ms\tremaining: 33s\n",
      "23:\tlearn: 3816.2660699\ttest: 3837.7740470\tbest: 3837.7740470 (23)\ttotal: 813ms\tremaining: 33.1s\n",
      "24:\tlearn: 3739.6864714\ttest: 3761.6429581\tbest: 3761.6429581 (24)\ttotal: 842ms\tremaining: 32.8s\n",
      "25:\tlearn: 3664.5695773\ttest: 3686.7777553\tbest: 3686.7777553 (25)\ttotal: 870ms\tremaining: 32.6s\n",
      "26:\tlearn: 3592.5584395\ttest: 3615.0275420\tbest: 3615.0275420 (26)\ttotal: 904ms\tremaining: 32.6s\n",
      "27:\tlearn: 3524.6506184\ttest: 3547.4328553\tbest: 3547.4328553 (27)\ttotal: 934ms\tremaining: 32.4s\n",
      "28:\tlearn: 3457.9779636\ttest: 3481.1744290\tbest: 3481.1744290 (28)\ttotal: 968ms\tremaining: 32.4s\n",
      "29:\tlearn: 3395.3557861\ttest: 3418.9060034\tbest: 3418.9060034 (29)\ttotal: 1s\tremaining: 32.4s\n",
      "30:\tlearn: 3333.8457094\ttest: 3357.9182785\tbest: 3357.9182785 (30)\ttotal: 1.03s\tremaining: 32.2s\n",
      "31:\tlearn: 3274.6212384\ttest: 3298.8630828\tbest: 3298.8630828 (31)\ttotal: 1.06s\tremaining: 32s\n",
      "32:\tlearn: 3218.6939368\ttest: 3243.2220959\tbest: 3243.2220959 (32)\ttotal: 1.09s\tremaining: 31.9s\n",
      "33:\tlearn: 3165.8402342\ttest: 3190.6635503\tbest: 3190.6635503 (33)\ttotal: 1.12s\tremaining: 31.9s\n",
      "34:\tlearn: 3112.8393550\ttest: 3138.0739796\tbest: 3138.0739796 (34)\ttotal: 1.15s\tremaining: 31.8s\n",
      "35:\tlearn: 3061.0615434\ttest: 3086.7337466\tbest: 3086.7337466 (35)\ttotal: 1.19s\tremaining: 31.8s\n",
      "36:\tlearn: 3011.0165653\ttest: 3036.9811887\tbest: 3036.9811887 (36)\ttotal: 1.22s\tremaining: 31.7s\n",
      "37:\tlearn: 2964.1946709\ttest: 2990.6925335\tbest: 2990.6925335 (37)\ttotal: 1.25s\tremaining: 31.6s\n",
      "38:\tlearn: 2918.4082561\ttest: 2945.2743670\tbest: 2945.2743670 (38)\ttotal: 1.28s\tremaining: 31.6s\n",
      "39:\tlearn: 2874.3688334\ttest: 2901.7491057\tbest: 2901.7491057 (39)\ttotal: 1.32s\tremaining: 31.6s\n",
      "40:\tlearn: 2833.8147040\ttest: 2861.5612615\tbest: 2861.5612615 (40)\ttotal: 1.35s\tremaining: 31.5s\n",
      "41:\tlearn: 2793.5384202\ttest: 2821.6869710\tbest: 2821.6869710 (41)\ttotal: 1.38s\tremaining: 31.4s\n",
      "42:\tlearn: 2754.6217895\ttest: 2783.1360953\tbest: 2783.1360953 (42)\ttotal: 1.41s\tremaining: 31.4s\n",
      "43:\tlearn: 2717.6786659\ttest: 2746.6136096\tbest: 2746.6136096 (43)\ttotal: 1.44s\tremaining: 31.3s\n",
      "44:\tlearn: 2681.0664674\ttest: 2710.5943287\tbest: 2710.5943287 (44)\ttotal: 1.47s\tremaining: 31.3s\n",
      "45:\tlearn: 2646.2131234\ttest: 2676.1627774\tbest: 2676.1627774 (45)\ttotal: 1.5s\tremaining: 31.2s\n",
      "46:\tlearn: 2613.3809409\ttest: 2643.8958780\tbest: 2643.8958780 (46)\ttotal: 1.53s\tremaining: 31.1s\n",
      "47:\tlearn: 2580.4193489\ttest: 2611.4614810\tbest: 2611.4614810 (47)\ttotal: 1.56s\tremaining: 31s\n",
      "48:\tlearn: 2550.7867966\ttest: 2582.0856961\tbest: 2582.0856961 (48)\ttotal: 1.59s\tremaining: 30.9s\n",
      "49:\tlearn: 2520.6066308\ttest: 2552.3940235\tbest: 2552.3940235 (49)\ttotal: 1.62s\tremaining: 30.8s\n",
      "50:\tlearn: 2492.3458351\ttest: 2524.5861150\tbest: 2524.5861150 (50)\ttotal: 1.65s\tremaining: 30.8s\n",
      "51:\tlearn: 2464.9461043\ttest: 2497.4705754\tbest: 2497.4705754 (51)\ttotal: 1.68s\tremaining: 30.7s\n",
      "52:\tlearn: 2438.4928628\ttest: 2471.3293001\tbest: 2471.3293001 (52)\ttotal: 1.71s\tremaining: 30.6s\n",
      "53:\tlearn: 2412.6322418\ttest: 2445.6996005\tbest: 2445.6996005 (53)\ttotal: 1.74s\tremaining: 30.5s\n",
      "54:\tlearn: 2388.5262064\ttest: 2422.0143543\tbest: 2422.0143543 (54)\ttotal: 1.77s\tremaining: 30.5s\n",
      "55:\tlearn: 2365.9061355\ttest: 2399.7722159\tbest: 2399.7722159 (55)\ttotal: 1.8s\tremaining: 30.4s\n",
      "56:\tlearn: 2343.7882577\ttest: 2378.0740704\tbest: 2378.0740704 (56)\ttotal: 1.84s\tremaining: 30.4s\n",
      "57:\tlearn: 2323.0599987\ttest: 2357.5448089\tbest: 2357.5448089 (57)\ttotal: 1.87s\tremaining: 30.4s\n",
      "58:\tlearn: 2303.6257375\ttest: 2338.3233380\tbest: 2338.3233380 (58)\ttotal: 1.9s\tremaining: 30.4s\n",
      "59:\tlearn: 2284.2186637\ttest: 2319.0881540\tbest: 2319.0881540 (59)\ttotal: 1.93s\tremaining: 30.3s\n",
      "60:\tlearn: 2266.0439924\ttest: 2301.1948553\tbest: 2301.1948553 (60)\ttotal: 1.96s\tremaining: 30.2s\n",
      "61:\tlearn: 2246.8979572\ttest: 2282.2573311\tbest: 2282.2573311 (61)\ttotal: 1.99s\tremaining: 30.2s\n",
      "62:\tlearn: 2230.6751196\ttest: 2266.1198327\tbest: 2266.1198327 (62)\ttotal: 2.02s\tremaining: 30.1s\n",
      "63:\tlearn: 2214.5229506\ttest: 2250.2101267\tbest: 2250.2101267 (63)\ttotal: 2.06s\tremaining: 30.1s\n",
      "64:\tlearn: 2198.5336450\ttest: 2234.5908053\tbest: 2234.5908053 (64)\ttotal: 2.09s\tremaining: 30.1s\n",
      "65:\tlearn: 2182.6390442\ttest: 2219.0943128\tbest: 2219.0943128 (65)\ttotal: 2.12s\tremaining: 30s\n",
      "66:\tlearn: 2168.4119173\ttest: 2204.9529817\tbest: 2204.9529817 (66)\ttotal: 2.15s\tremaining: 30s\n",
      "67:\tlearn: 2155.6480004\ttest: 2192.4123918\tbest: 2192.4123918 (67)\ttotal: 2.18s\tremaining: 29.9s\n",
      "68:\tlearn: 2142.3885584\ttest: 2179.4050351\tbest: 2179.4050351 (68)\ttotal: 2.21s\tremaining: 29.9s\n",
      "69:\tlearn: 2128.3492893\ttest: 2165.5425705\tbest: 2165.5425705 (69)\ttotal: 2.25s\tremaining: 29.9s\n",
      "70:\tlearn: 2115.9689074\ttest: 2153.3572913\tbest: 2153.3572913 (70)\ttotal: 2.28s\tremaining: 29.8s\n",
      "71:\tlearn: 2103.9931910\ttest: 2141.5957542\tbest: 2141.5957542 (71)\ttotal: 2.34s\tremaining: 30.2s\n",
      "72:\tlearn: 2092.7656679\ttest: 2130.5557695\tbest: 2130.5557695 (72)\ttotal: 2.4s\tremaining: 30.5s\n",
      "73:\tlearn: 2082.2706473\ttest: 2120.3150832\tbest: 2120.3150832 (73)\ttotal: 2.44s\tremaining: 30.5s\n",
      "74:\tlearn: 2070.5001811\ttest: 2108.6841808\tbest: 2108.6841808 (74)\ttotal: 2.47s\tremaining: 30.5s\n",
      "75:\tlearn: 2058.8669360\ttest: 2097.2761941\tbest: 2097.2761941 (75)\ttotal: 2.5s\tremaining: 30.4s\n",
      "76:\tlearn: 2048.6536427\ttest: 2087.3367460\tbest: 2087.3367460 (76)\ttotal: 2.54s\tremaining: 30.4s\n",
      "77:\tlearn: 2039.1747722\ttest: 2077.9362076\tbest: 2077.9362076 (77)\ttotal: 2.57s\tremaining: 30.3s\n",
      "78:\tlearn: 2029.8691064\ttest: 2068.7942475\tbest: 2068.7942475 (78)\ttotal: 2.6s\tremaining: 30.3s\n",
      "79:\tlearn: 2021.7938673\ttest: 2060.9783149\tbest: 2060.9783149 (79)\ttotal: 2.63s\tremaining: 30.2s\n",
      "80:\tlearn: 2014.1198891\ttest: 2053.5420022\tbest: 2053.5420022 (80)\ttotal: 2.65s\tremaining: 30.1s\n",
      "81:\tlearn: 2005.9487278\ttest: 2045.7144092\tbest: 2045.7144092 (81)\ttotal: 2.69s\tremaining: 30.1s\n",
      "82:\tlearn: 1998.5763612\ttest: 2038.4509900\tbest: 2038.4509900 (82)\ttotal: 2.72s\tremaining: 30s\n",
      "83:\tlearn: 1991.5005860\ttest: 2031.6344249\tbest: 2031.6344249 (83)\ttotal: 2.75s\tremaining: 30s\n",
      "84:\tlearn: 1983.2507612\ttest: 2023.6225747\tbest: 2023.6225747 (84)\ttotal: 2.79s\tremaining: 30s\n",
      "85:\tlearn: 1975.3357889\ttest: 2015.6771859\tbest: 2015.6771859 (85)\ttotal: 2.81s\tremaining: 29.9s\n",
      "86:\tlearn: 1967.3371189\ttest: 2007.7346632\tbest: 2007.7346632 (86)\ttotal: 2.85s\tremaining: 29.9s\n",
      "87:\tlearn: 1960.1759145\ttest: 2000.7385170\tbest: 2000.7385170 (87)\ttotal: 2.88s\tremaining: 29.8s\n",
      "88:\tlearn: 1953.7811253\ttest: 1994.5393815\tbest: 1994.5393815 (88)\ttotal: 2.91s\tremaining: 29.8s\n",
      "89:\tlearn: 1947.9900826\ttest: 1988.8325014\tbest: 1988.8325014 (89)\ttotal: 2.94s\tremaining: 29.7s\n",
      "90:\tlearn: 1942.3606397\ttest: 1983.2739394\tbest: 1983.2739394 (90)\ttotal: 2.97s\tremaining: 29.7s\n",
      "91:\tlearn: 1936.7370223\ttest: 1977.8227997\tbest: 1977.8227997 (91)\ttotal: 3s\tremaining: 29.7s\n",
      "92:\tlearn: 1931.6866895\ttest: 1972.9016127\tbest: 1972.9016127 (92)\ttotal: 3.04s\tremaining: 29.6s\n",
      "93:\tlearn: 1926.8406440\ttest: 1968.4124219\tbest: 1968.4124219 (93)\ttotal: 3.07s\tremaining: 29.6s\n",
      "94:\tlearn: 1920.6471977\ttest: 1962.3357581\tbest: 1962.3357581 (94)\ttotal: 3.1s\tremaining: 29.5s\n",
      "95:\tlearn: 1914.5417687\ttest: 1956.3681272\tbest: 1956.3681272 (95)\ttotal: 3.13s\tremaining: 29.5s\n",
      "96:\tlearn: 1909.7687380\ttest: 1951.6498630\tbest: 1951.6498630 (96)\ttotal: 3.16s\tremaining: 29.4s\n",
      "97:\tlearn: 1905.0992712\ttest: 1947.1987663\tbest: 1947.1987663 (97)\ttotal: 3.19s\tremaining: 29.4s\n",
      "98:\tlearn: 1900.2641121\ttest: 1942.5363768\tbest: 1942.5363768 (98)\ttotal: 3.22s\tremaining: 29.3s\n",
      "99:\tlearn: 1896.1962911\ttest: 1938.5877838\tbest: 1938.5877838 (99)\ttotal: 3.25s\tremaining: 29.3s\n",
      "100:\tlearn: 1891.5554492\ttest: 1934.0878387\tbest: 1934.0878387 (100)\ttotal: 3.28s\tremaining: 29.2s\n",
      "101:\tlearn: 1886.8280959\ttest: 1929.4723531\tbest: 1929.4723531 (101)\ttotal: 3.32s\tremaining: 29.2s\n",
      "102:\tlearn: 1881.9102743\ttest: 1924.6339668\tbest: 1924.6339668 (102)\ttotal: 3.35s\tremaining: 29.1s\n",
      "103:\tlearn: 1877.5557277\ttest: 1920.4236753\tbest: 1920.4236753 (103)\ttotal: 3.38s\tremaining: 29.1s\n",
      "104:\tlearn: 1873.4546894\ttest: 1916.5373740\tbest: 1916.5373740 (104)\ttotal: 3.41s\tremaining: 29.1s\n",
      "105:\tlearn: 1869.1375621\ttest: 1912.4713319\tbest: 1912.4713319 (105)\ttotal: 3.45s\tremaining: 29.1s\n",
      "106:\tlearn: 1865.0295121\ttest: 1908.4920599\tbest: 1908.4920599 (106)\ttotal: 3.48s\tremaining: 29.1s\n",
      "107:\tlearn: 1861.7919727\ttest: 1905.4113381\tbest: 1905.4113381 (107)\ttotal: 3.51s\tremaining: 29s\n",
      "108:\tlearn: 1858.0883262\ttest: 1901.9333556\tbest: 1901.9333556 (108)\ttotal: 3.54s\tremaining: 29s\n",
      "109:\tlearn: 1855.0570949\ttest: 1899.1928544\tbest: 1899.1928544 (109)\ttotal: 3.58s\tremaining: 28.9s\n",
      "110:\tlearn: 1852.4346052\ttest: 1896.5691595\tbest: 1896.5691595 (110)\ttotal: 3.61s\tremaining: 28.9s\n",
      "111:\tlearn: 1848.5478780\ttest: 1892.8182129\tbest: 1892.8182129 (111)\ttotal: 3.64s\tremaining: 28.9s\n",
      "112:\tlearn: 1845.6601420\ttest: 1890.0523524\tbest: 1890.0523524 (112)\ttotal: 3.67s\tremaining: 28.8s\n",
      "113:\tlearn: 1842.6389807\ttest: 1887.2767339\tbest: 1887.2767339 (113)\ttotal: 3.71s\tremaining: 28.8s\n",
      "114:\tlearn: 1839.3336155\ttest: 1884.0660067\tbest: 1884.0660067 (114)\ttotal: 3.74s\tremaining: 28.8s\n",
      "115:\tlearn: 1836.7394738\ttest: 1881.5129913\tbest: 1881.5129913 (115)\ttotal: 3.77s\tremaining: 28.8s\n",
      "116:\tlearn: 1834.3091210\ttest: 1879.2331337\tbest: 1879.2331337 (116)\ttotal: 3.8s\tremaining: 28.7s\n",
      "117:\tlearn: 1831.9353025\ttest: 1876.9124552\tbest: 1876.9124552 (117)\ttotal: 3.83s\tremaining: 28.7s\n",
      "118:\tlearn: 1828.7659940\ttest: 1873.7338469\tbest: 1873.7338469 (118)\ttotal: 3.87s\tremaining: 28.6s\n",
      "119:\tlearn: 1825.8877501\ttest: 1870.9274875\tbest: 1870.9274875 (119)\ttotal: 3.9s\tremaining: 28.6s\n",
      "120:\tlearn: 1823.9424763\ttest: 1869.1660768\tbest: 1869.1660768 (120)\ttotal: 3.93s\tremaining: 28.5s\n",
      "121:\tlearn: 1821.9145880\ttest: 1867.4168572\tbest: 1867.4168572 (121)\ttotal: 3.96s\tremaining: 28.5s\n",
      "122:\tlearn: 1820.1154805\ttest: 1865.7485639\tbest: 1865.7485639 (122)\ttotal: 3.99s\tremaining: 28.4s\n",
      "123:\tlearn: 1818.3385020\ttest: 1864.1089701\tbest: 1864.1089701 (123)\ttotal: 4.02s\tremaining: 28.4s\n",
      "124:\tlearn: 1816.1919129\ttest: 1862.1448734\tbest: 1862.1448734 (124)\ttotal: 4.05s\tremaining: 28.4s\n",
      "125:\tlearn: 1814.0448772\ttest: 1860.2416708\tbest: 1860.2416708 (125)\ttotal: 4.11s\tremaining: 28.5s\n",
      "126:\tlearn: 1811.8404421\ttest: 1858.0692951\tbest: 1858.0692951 (126)\ttotal: 4.17s\tremaining: 28.7s\n",
      "127:\tlearn: 1810.0229508\ttest: 1856.3111733\tbest: 1856.3111733 (127)\ttotal: 4.21s\tremaining: 28.7s\n",
      "128:\tlearn: 1807.3188305\ttest: 1853.7833744\tbest: 1853.7833744 (128)\ttotal: 4.24s\tremaining: 28.7s\n",
      "129:\tlearn: 1805.0793831\ttest: 1851.8094181\tbest: 1851.8094181 (129)\ttotal: 4.28s\tremaining: 28.6s\n",
      "130:\tlearn: 1803.0293668\ttest: 1849.8292845\tbest: 1849.8292845 (130)\ttotal: 4.31s\tremaining: 28.6s\n",
      "131:\tlearn: 1801.2036690\ttest: 1848.1746370\tbest: 1848.1746370 (131)\ttotal: 4.34s\tremaining: 28.6s\n",
      "132:\tlearn: 1798.4312211\ttest: 1845.4531023\tbest: 1845.4531023 (132)\ttotal: 4.38s\tremaining: 28.5s\n",
      "133:\tlearn: 1796.4360276\ttest: 1843.5031186\tbest: 1843.5031186 (133)\ttotal: 4.41s\tremaining: 28.5s\n",
      "134:\tlearn: 1794.4070178\ttest: 1841.5648194\tbest: 1841.5648194 (134)\ttotal: 4.44s\tremaining: 28.4s\n",
      "135:\tlearn: 1792.5489076\ttest: 1839.7388033\tbest: 1839.7388033 (135)\ttotal: 4.47s\tremaining: 28.4s\n",
      "136:\tlearn: 1791.3055262\ttest: 1838.5665804\tbest: 1838.5665804 (136)\ttotal: 4.5s\tremaining: 28.4s\n",
      "137:\tlearn: 1788.6494681\ttest: 1836.0478948\tbest: 1836.0478948 (137)\ttotal: 4.54s\tremaining: 28.3s\n",
      "138:\tlearn: 1787.1324980\ttest: 1834.7064763\tbest: 1834.7064763 (138)\ttotal: 4.57s\tremaining: 28.3s\n",
      "139:\tlearn: 1785.9701118\ttest: 1833.8020116\tbest: 1833.8020116 (139)\ttotal: 4.6s\tremaining: 28.3s\n",
      "140:\tlearn: 1784.4158042\ttest: 1832.3525371\tbest: 1832.3525371 (140)\ttotal: 4.63s\tremaining: 28.2s\n",
      "141:\tlearn: 1782.2662639\ttest: 1830.3269002\tbest: 1830.3269002 (141)\ttotal: 4.66s\tremaining: 28.2s\n",
      "142:\tlearn: 1780.5922180\ttest: 1828.7877489\tbest: 1828.7877489 (142)\ttotal: 4.69s\tremaining: 28.1s\n",
      "143:\tlearn: 1779.2670421\ttest: 1827.5940705\tbest: 1827.5940705 (143)\ttotal: 4.72s\tremaining: 28.1s\n",
      "144:\tlearn: 1776.6867827\ttest: 1825.1079162\tbest: 1825.1079162 (144)\ttotal: 4.76s\tremaining: 28.1s\n",
      "145:\tlearn: 1774.9548430\ttest: 1823.4191409\tbest: 1823.4191409 (145)\ttotal: 4.79s\tremaining: 28s\n",
      "146:\tlearn: 1773.6154983\ttest: 1822.0404366\tbest: 1822.0404366 (146)\ttotal: 4.82s\tremaining: 28s\n",
      "147:\tlearn: 1772.5308478\ttest: 1821.0769795\tbest: 1821.0769795 (147)\ttotal: 4.85s\tremaining: 27.9s\n",
      "148:\tlearn: 1770.8914992\ttest: 1819.5090135\tbest: 1819.5090135 (148)\ttotal: 4.88s\tremaining: 27.9s\n",
      "149:\tlearn: 1769.8018204\ttest: 1818.5910393\tbest: 1818.5910393 (149)\ttotal: 4.91s\tremaining: 27.8s\n",
      "150:\tlearn: 1768.0899569\ttest: 1816.8619403\tbest: 1816.8619403 (150)\ttotal: 4.94s\tremaining: 27.8s\n",
      "151:\tlearn: 1766.1721362\ttest: 1815.0468893\tbest: 1815.0468893 (151)\ttotal: 4.97s\tremaining: 27.7s\n",
      "152:\tlearn: 1764.5775999\ttest: 1813.5720523\tbest: 1813.5720523 (152)\ttotal: 5s\tremaining: 27.7s\n",
      "153:\tlearn: 1763.5480540\ttest: 1812.8095621\tbest: 1812.8095621 (153)\ttotal: 5.03s\tremaining: 27.6s\n",
      "154:\tlearn: 1761.8186361\ttest: 1811.1689290\tbest: 1811.1689290 (154)\ttotal: 5.06s\tremaining: 27.6s\n",
      "155:\tlearn: 1760.8677121\ttest: 1810.2950453\tbest: 1810.2950453 (155)\ttotal: 5.1s\tremaining: 27.6s\n",
      "156:\tlearn: 1759.6740944\ttest: 1809.2489182\tbest: 1809.2489182 (156)\ttotal: 5.13s\tremaining: 27.5s\n",
      "157:\tlearn: 1758.6891744\ttest: 1808.3805894\tbest: 1808.3805894 (157)\ttotal: 5.16s\tremaining: 27.5s\n",
      "158:\tlearn: 1757.7071269\ttest: 1807.4999076\tbest: 1807.4999076 (158)\ttotal: 5.2s\tremaining: 27.5s\n",
      "159:\tlearn: 1756.6545440\ttest: 1806.4844066\tbest: 1806.4844066 (159)\ttotal: 5.23s\tremaining: 27.4s\n",
      "160:\tlearn: 1755.7054211\ttest: 1805.6604161\tbest: 1805.6604161 (160)\ttotal: 5.26s\tremaining: 27.4s\n",
      "161:\tlearn: 1754.4333589\ttest: 1804.5370778\tbest: 1804.5370778 (161)\ttotal: 5.29s\tremaining: 27.4s\n",
      "162:\tlearn: 1752.5862273\ttest: 1802.7014749\tbest: 1802.7014749 (162)\ttotal: 5.32s\tremaining: 27.3s\n",
      "163:\tlearn: 1751.6309941\ttest: 1801.8303343\tbest: 1801.8303343 (163)\ttotal: 5.35s\tremaining: 27.3s\n",
      "164:\tlearn: 1750.5531591\ttest: 1800.8095697\tbest: 1800.8095697 (164)\ttotal: 5.38s\tremaining: 27.2s\n",
      "165:\tlearn: 1749.7409562\ttest: 1800.1216636\tbest: 1800.1216636 (165)\ttotal: 5.41s\tremaining: 27.2s\n",
      "166:\tlearn: 1748.3066714\ttest: 1798.7757131\tbest: 1798.7757131 (166)\ttotal: 5.44s\tremaining: 27.1s\n",
      "167:\tlearn: 1747.0045021\ttest: 1797.5849587\tbest: 1797.5849587 (167)\ttotal: 5.47s\tremaining: 27.1s\n",
      "168:\tlearn: 1745.9070623\ttest: 1796.4872859\tbest: 1796.4872859 (168)\ttotal: 5.5s\tremaining: 27s\n",
      "169:\tlearn: 1744.6477575\ttest: 1795.4525128\tbest: 1795.4525128 (169)\ttotal: 5.53s\tremaining: 27s\n",
      "170:\tlearn: 1743.1611742\ttest: 1794.0531022\tbest: 1794.0531022 (170)\ttotal: 5.56s\tremaining: 27s\n",
      "171:\tlearn: 1741.6702466\ttest: 1792.7055226\tbest: 1792.7055226 (171)\ttotal: 5.59s\tremaining: 26.9s\n",
      "172:\tlearn: 1740.1071440\ttest: 1791.2349877\tbest: 1791.2349877 (172)\ttotal: 5.63s\tremaining: 26.9s\n",
      "173:\tlearn: 1738.7680852\ttest: 1789.9615523\tbest: 1789.9615523 (173)\ttotal: 5.66s\tremaining: 26.9s\n",
      "174:\tlearn: 1737.9525875\ttest: 1789.2943169\tbest: 1789.2943169 (174)\ttotal: 5.69s\tremaining: 26.8s\n",
      "175:\tlearn: 1737.0211982\ttest: 1788.5089514\tbest: 1788.5089514 (175)\ttotal: 5.72s\tremaining: 26.8s\n",
      "176:\tlearn: 1735.7803193\ttest: 1787.2526900\tbest: 1787.2526900 (176)\ttotal: 5.75s\tremaining: 26.7s\n",
      "177:\tlearn: 1734.8825972\ttest: 1786.3285600\tbest: 1786.3285600 (177)\ttotal: 5.78s\tremaining: 26.7s\n",
      "178:\tlearn: 1733.9715975\ttest: 1785.4843952\tbest: 1785.4843952 (178)\ttotal: 5.81s\tremaining: 26.7s\n",
      "179:\tlearn: 1733.0942729\ttest: 1784.6670930\tbest: 1784.6670930 (179)\ttotal: 5.84s\tremaining: 26.6s\n",
      "180:\tlearn: 1732.2080171\ttest: 1783.7854753\tbest: 1783.7854753 (180)\ttotal: 5.9s\tremaining: 26.7s\n",
      "181:\tlearn: 1731.4174795\ttest: 1783.1080906\tbest: 1783.1080906 (181)\ttotal: 5.96s\tremaining: 26.8s\n",
      "182:\tlearn: 1730.6903151\ttest: 1782.3561260\tbest: 1782.3561260 (182)\ttotal: 6s\tremaining: 26.8s\n",
      "183:\tlearn: 1729.8557121\ttest: 1781.7012032\tbest: 1781.7012032 (183)\ttotal: 6.03s\tremaining: 26.7s\n",
      "184:\tlearn: 1728.8704537\ttest: 1780.9498018\tbest: 1780.9498018 (184)\ttotal: 6.06s\tremaining: 26.7s\n",
      "185:\tlearn: 1727.6490458\ttest: 1779.7792106\tbest: 1779.7792106 (185)\ttotal: 6.1s\tremaining: 26.7s\n",
      "186:\tlearn: 1726.4439810\ttest: 1778.5376438\tbest: 1778.5376438 (186)\ttotal: 6.13s\tremaining: 26.6s\n",
      "187:\tlearn: 1725.8001954\ttest: 1777.9355510\tbest: 1777.9355510 (187)\ttotal: 6.16s\tremaining: 26.6s\n",
      "188:\tlearn: 1724.7892930\ttest: 1777.0403347\tbest: 1777.0403347 (188)\ttotal: 6.19s\tremaining: 26.6s\n",
      "189:\tlearn: 1724.0243113\ttest: 1776.4638632\tbest: 1776.4638632 (189)\ttotal: 6.22s\tremaining: 26.5s\n",
      "190:\tlearn: 1723.1658504\ttest: 1775.8110696\tbest: 1775.8110696 (190)\ttotal: 6.25s\tremaining: 26.5s\n",
      "191:\tlearn: 1722.4089104\ttest: 1775.1139249\tbest: 1775.1139249 (191)\ttotal: 6.29s\tremaining: 26.4s\n",
      "192:\tlearn: 1721.5499560\ttest: 1774.3910570\tbest: 1774.3910570 (192)\ttotal: 6.32s\tremaining: 26.4s\n",
      "193:\tlearn: 1720.8242043\ttest: 1773.7540360\tbest: 1773.7540360 (193)\ttotal: 6.35s\tremaining: 26.4s\n",
      "194:\tlearn: 1719.4892751\ttest: 1772.4908907\tbest: 1772.4908907 (194)\ttotal: 6.38s\tremaining: 26.3s\n",
      "195:\tlearn: 1718.4954261\ttest: 1771.6363533\tbest: 1771.6363533 (195)\ttotal: 6.42s\tremaining: 26.3s\n",
      "196:\tlearn: 1717.4783640\ttest: 1770.6781079\tbest: 1770.6781079 (196)\ttotal: 6.45s\tremaining: 26.3s\n",
      "197:\tlearn: 1716.1859728\ttest: 1769.4705208\tbest: 1769.4705208 (197)\ttotal: 6.48s\tremaining: 26.2s\n",
      "198:\tlearn: 1715.3591634\ttest: 1768.7660755\tbest: 1768.7660755 (198)\ttotal: 6.51s\tremaining: 26.2s\n",
      "199:\tlearn: 1714.3549336\ttest: 1768.1306913\tbest: 1768.1306913 (199)\ttotal: 6.54s\tremaining: 26.2s\n",
      "200:\tlearn: 1713.4112112\ttest: 1767.1786494\tbest: 1767.1786494 (200)\ttotal: 6.57s\tremaining: 26.1s\n",
      "201:\tlearn: 1712.7490905\ttest: 1766.5916361\tbest: 1766.5916361 (201)\ttotal: 6.6s\tremaining: 26.1s\n",
      "202:\tlearn: 1711.9295831\ttest: 1765.7803862\tbest: 1765.7803862 (202)\ttotal: 6.63s\tremaining: 26s\n",
      "203:\tlearn: 1711.3676829\ttest: 1765.2722614\tbest: 1765.2722614 (203)\ttotal: 6.66s\tremaining: 26s\n",
      "204:\tlearn: 1710.7013461\ttest: 1764.7088092\tbest: 1764.7088092 (204)\ttotal: 6.69s\tremaining: 26s\n",
      "205:\tlearn: 1709.9697988\ttest: 1764.0262277\tbest: 1764.0262277 (205)\ttotal: 6.72s\tremaining: 25.9s\n",
      "206:\tlearn: 1709.2857967\ttest: 1763.4792327\tbest: 1763.4792327 (206)\ttotal: 6.76s\tremaining: 25.9s\n",
      "207:\tlearn: 1708.2135688\ttest: 1762.5199982\tbest: 1762.5199982 (207)\ttotal: 6.79s\tremaining: 25.8s\n",
      "208:\tlearn: 1707.4633702\ttest: 1761.8588156\tbest: 1761.8588156 (208)\ttotal: 6.82s\tremaining: 25.8s\n",
      "209:\tlearn: 1706.2405208\ttest: 1760.7910505\tbest: 1760.7910505 (209)\ttotal: 6.85s\tremaining: 25.8s\n",
      "210:\tlearn: 1705.4578626\ttest: 1760.1513139\tbest: 1760.1513139 (210)\ttotal: 6.88s\tremaining: 25.7s\n",
      "211:\tlearn: 1704.6867701\ttest: 1759.4053082\tbest: 1759.4053082 (211)\ttotal: 6.91s\tremaining: 25.7s\n",
      "212:\tlearn: 1703.7662815\ttest: 1758.5447545\tbest: 1758.5447545 (212)\ttotal: 6.95s\tremaining: 25.7s\n",
      "213:\tlearn: 1702.9275044\ttest: 1757.8175417\tbest: 1757.8175417 (213)\ttotal: 6.98s\tremaining: 25.6s\n",
      "214:\tlearn: 1701.8557230\ttest: 1757.1066928\tbest: 1757.1066928 (214)\ttotal: 7.01s\tremaining: 25.6s\n",
      "215:\tlearn: 1701.0369982\ttest: 1756.4411668\tbest: 1756.4411668 (215)\ttotal: 7.04s\tremaining: 25.6s\n",
      "216:\tlearn: 1700.2525196\ttest: 1755.7569114\tbest: 1755.7569114 (216)\ttotal: 7.07s\tremaining: 25.5s\n",
      "217:\tlearn: 1699.7989572\ttest: 1755.4581226\tbest: 1755.4581226 (217)\ttotal: 7.11s\tremaining: 25.5s\n",
      "218:\tlearn: 1699.3642659\ttest: 1755.1624886\tbest: 1755.1624886 (218)\ttotal: 7.14s\tremaining: 25.5s\n",
      "219:\tlearn: 1697.9518658\ttest: 1753.9158991\tbest: 1753.9158991 (219)\ttotal: 7.17s\tremaining: 25.4s\n",
      "220:\tlearn: 1696.9945892\ttest: 1753.2581264\tbest: 1753.2581264 (220)\ttotal: 7.21s\tremaining: 25.4s\n",
      "221:\tlearn: 1696.4415984\ttest: 1752.8565463\tbest: 1752.8565463 (221)\ttotal: 7.24s\tremaining: 25.4s\n",
      "222:\tlearn: 1695.5854179\ttest: 1752.2079733\tbest: 1752.2079733 (222)\ttotal: 7.28s\tremaining: 25.4s\n",
      "223:\tlearn: 1694.9690231\ttest: 1751.6132223\tbest: 1751.6132223 (223)\ttotal: 7.31s\tremaining: 25.3s\n",
      "224:\tlearn: 1694.2093479\ttest: 1750.8765747\tbest: 1750.8765747 (224)\ttotal: 7.34s\tremaining: 25.3s\n",
      "225:\tlearn: 1693.7710583\ttest: 1750.6739091\tbest: 1750.6739091 (225)\ttotal: 7.37s\tremaining: 25.3s\n",
      "226:\tlearn: 1693.0838013\ttest: 1750.0696847\tbest: 1750.0696847 (226)\ttotal: 7.41s\tremaining: 25.2s\n",
      "227:\tlearn: 1691.9709229\ttest: 1749.1588446\tbest: 1749.1588446 (227)\ttotal: 7.43s\tremaining: 25.2s\n",
      "228:\tlearn: 1691.2197650\ttest: 1748.5506058\tbest: 1748.5506058 (228)\ttotal: 7.46s\tremaining: 25.1s\n",
      "229:\tlearn: 1690.6210656\ttest: 1748.1308905\tbest: 1748.1308905 (229)\ttotal: 7.5s\tremaining: 25.1s\n",
      "230:\tlearn: 1689.4697017\ttest: 1747.3315722\tbest: 1747.3315722 (230)\ttotal: 7.53s\tremaining: 25.1s\n",
      "231:\tlearn: 1688.9059431\ttest: 1746.8280693\tbest: 1746.8280693 (231)\ttotal: 7.56s\tremaining: 25s\n",
      "232:\tlearn: 1688.3372494\ttest: 1746.3145970\tbest: 1746.3145970 (232)\ttotal: 7.59s\tremaining: 25s\n",
      "233:\tlearn: 1687.3373756\ttest: 1745.6507595\tbest: 1745.6507595 (233)\ttotal: 7.65s\tremaining: 25.1s\n",
      "234:\tlearn: 1686.5442841\ttest: 1745.0677988\tbest: 1745.0677988 (234)\ttotal: 7.71s\tremaining: 25.1s\n",
      "235:\tlearn: 1685.7060618\ttest: 1744.3512411\tbest: 1744.3512411 (235)\ttotal: 7.75s\tremaining: 25.1s\n",
      "236:\tlearn: 1684.9358101\ttest: 1743.6268351\tbest: 1743.6268351 (236)\ttotal: 7.78s\tremaining: 25s\n",
      "237:\tlearn: 1684.3186264\ttest: 1743.0590452\tbest: 1743.0590452 (237)\ttotal: 7.81s\tremaining: 25s\n",
      "238:\tlearn: 1683.5352110\ttest: 1742.3334273\tbest: 1742.3334273 (238)\ttotal: 7.84s\tremaining: 25s\n",
      "239:\tlearn: 1683.1255666\ttest: 1741.9822194\tbest: 1741.9822194 (239)\ttotal: 7.87s\tremaining: 24.9s\n",
      "240:\tlearn: 1682.3532760\ttest: 1741.3406734\tbest: 1741.3406734 (240)\ttotal: 7.9s\tremaining: 24.9s\n",
      "241:\tlearn: 1681.5076770\ttest: 1740.5422151\tbest: 1740.5422151 (241)\ttotal: 7.94s\tremaining: 24.9s\n",
      "242:\tlearn: 1680.5728360\ttest: 1739.6558550\tbest: 1739.6558550 (242)\ttotal: 7.96s\tremaining: 24.8s\n",
      "243:\tlearn: 1679.7906332\ttest: 1739.1782094\tbest: 1739.1782094 (243)\ttotal: 8s\tremaining: 24.8s\n",
      "244:\tlearn: 1679.1365840\ttest: 1738.6334158\tbest: 1738.6334158 (244)\ttotal: 8.03s\tremaining: 24.8s\n",
      "245:\tlearn: 1678.4480099\ttest: 1738.1754820\tbest: 1738.1754820 (245)\ttotal: 8.06s\tremaining: 24.7s\n",
      "246:\tlearn: 1677.5916584\ttest: 1737.3717562\tbest: 1737.3717562 (246)\ttotal: 8.09s\tremaining: 24.7s\n",
      "247:\tlearn: 1676.8279953\ttest: 1736.8271568\tbest: 1736.8271568 (247)\ttotal: 8.13s\tremaining: 24.6s\n",
      "248:\tlearn: 1676.1254625\ttest: 1736.1568717\tbest: 1736.1568717 (248)\ttotal: 8.16s\tremaining: 24.6s\n",
      "249:\tlearn: 1675.6432357\ttest: 1735.8319112\tbest: 1735.8319112 (249)\ttotal: 8.19s\tremaining: 24.6s\n",
      "250:\tlearn: 1674.9599368\ttest: 1735.2078447\tbest: 1735.2078447 (250)\ttotal: 8.22s\tremaining: 24.5s\n",
      "251:\tlearn: 1674.2306648\ttest: 1734.6624900\tbest: 1734.6624900 (251)\ttotal: 8.25s\tremaining: 24.5s\n",
      "252:\tlearn: 1673.5706788\ttest: 1734.1771987\tbest: 1734.1771987 (252)\ttotal: 8.29s\tremaining: 24.5s\n",
      "253:\tlearn: 1672.9377030\ttest: 1733.6378393\tbest: 1733.6378393 (253)\ttotal: 8.32s\tremaining: 24.4s\n",
      "254:\tlearn: 1672.3900629\ttest: 1733.1933109\tbest: 1733.1933109 (254)\ttotal: 8.35s\tremaining: 24.4s\n",
      "255:\tlearn: 1671.8343158\ttest: 1732.6803698\tbest: 1732.6803698 (255)\ttotal: 8.38s\tremaining: 24.4s\n",
      "256:\tlearn: 1671.6051321\ttest: 1732.5516120\tbest: 1732.5516120 (256)\ttotal: 8.42s\tremaining: 24.3s\n",
      "257:\tlearn: 1671.0549177\ttest: 1732.1926638\tbest: 1732.1926638 (257)\ttotal: 8.45s\tremaining: 24.3s\n",
      "258:\tlearn: 1670.5048889\ttest: 1731.8372254\tbest: 1731.8372254 (258)\ttotal: 8.48s\tremaining: 24.3s\n",
      "259:\tlearn: 1669.6037856\ttest: 1731.0281930\tbest: 1731.0281930 (259)\ttotal: 8.52s\tremaining: 24.2s\n",
      "260:\tlearn: 1669.0372547\ttest: 1730.5781579\tbest: 1730.5781579 (260)\ttotal: 8.55s\tremaining: 24.2s\n",
      "261:\tlearn: 1668.5120800\ttest: 1730.1904909\tbest: 1730.1904909 (261)\ttotal: 8.58s\tremaining: 24.2s\n",
      "262:\tlearn: 1667.5825180\ttest: 1729.4989320\tbest: 1729.4989320 (262)\ttotal: 8.61s\tremaining: 24.1s\n",
      "263:\tlearn: 1667.2284866\ttest: 1729.2793432\tbest: 1729.2793432 (263)\ttotal: 8.64s\tremaining: 24.1s\n",
      "264:\tlearn: 1666.7314549\ttest: 1728.8174879\tbest: 1728.8174879 (264)\ttotal: 8.67s\tremaining: 24.1s\n",
      "265:\tlearn: 1665.9684259\ttest: 1728.1513793\tbest: 1728.1513793 (265)\ttotal: 8.7s\tremaining: 24s\n",
      "266:\tlearn: 1665.1412951\ttest: 1727.5812354\tbest: 1727.5812354 (266)\ttotal: 8.74s\tremaining: 24s\n",
      "267:\tlearn: 1664.4427722\ttest: 1727.1226168\tbest: 1727.1226168 (267)\ttotal: 8.78s\tremaining: 24s\n",
      "268:\tlearn: 1663.8253173\ttest: 1726.6886898\tbest: 1726.6886898 (268)\ttotal: 8.8s\tremaining: 23.9s\n",
      "269:\tlearn: 1663.4010361\ttest: 1726.3022402\tbest: 1726.3022402 (269)\ttotal: 8.84s\tremaining: 23.9s\n",
      "270:\tlearn: 1662.4139872\ttest: 1725.6400561\tbest: 1725.6400561 (270)\ttotal: 8.87s\tremaining: 23.9s\n",
      "271:\tlearn: 1661.7002846\ttest: 1725.2127405\tbest: 1725.2127405 (271)\ttotal: 8.9s\tremaining: 23.8s\n",
      "272:\tlearn: 1661.0155462\ttest: 1724.6796689\tbest: 1724.6796689 (272)\ttotal: 8.93s\tremaining: 23.8s\n",
      "273:\tlearn: 1660.3217848\ttest: 1724.2221610\tbest: 1724.2221610 (273)\ttotal: 8.96s\tremaining: 23.8s\n",
      "274:\tlearn: 1659.8181747\ttest: 1723.7346254\tbest: 1723.7346254 (274)\ttotal: 8.99s\tremaining: 23.7s\n",
      "275:\tlearn: 1659.0773909\ttest: 1723.1956670\tbest: 1723.1956670 (275)\ttotal: 9.03s\tremaining: 23.7s\n",
      "276:\tlearn: 1658.4317793\ttest: 1722.8426515\tbest: 1722.8426515 (276)\ttotal: 9.06s\tremaining: 23.6s\n",
      "277:\tlearn: 1657.9335833\ttest: 1722.4208829\tbest: 1722.4208829 (277)\ttotal: 9.09s\tremaining: 23.6s\n",
      "278:\tlearn: 1657.3402439\ttest: 1722.0215356\tbest: 1722.0215356 (278)\ttotal: 9.13s\tremaining: 23.6s\n",
      "279:\tlearn: 1656.8744283\ttest: 1721.6568238\tbest: 1721.6568238 (279)\ttotal: 9.16s\tremaining: 23.6s\n",
      "280:\tlearn: 1656.2017354\ttest: 1721.1170531\tbest: 1721.1170531 (280)\ttotal: 9.19s\tremaining: 23.5s\n",
      "281:\tlearn: 1655.6982035\ttest: 1720.6507124\tbest: 1720.6507124 (281)\ttotal: 9.22s\tremaining: 23.5s\n",
      "282:\tlearn: 1655.1701996\ttest: 1720.2299999\tbest: 1720.2299999 (282)\ttotal: 9.25s\tremaining: 23.4s\n",
      "283:\tlearn: 1654.5797435\ttest: 1719.6609118\tbest: 1719.6609118 (283)\ttotal: 9.29s\tremaining: 23.4s\n",
      "284:\tlearn: 1654.2138894\ttest: 1719.4451787\tbest: 1719.4451787 (284)\ttotal: 9.32s\tremaining: 23.4s\n",
      "285:\tlearn: 1653.2919143\ttest: 1718.8068237\tbest: 1718.8068237 (285)\ttotal: 9.35s\tremaining: 23.3s\n",
      "286:\tlearn: 1652.6252374\ttest: 1718.3713269\tbest: 1718.3713269 (286)\ttotal: 9.41s\tremaining: 23.4s\n",
      "287:\tlearn: 1652.1211122\ttest: 1717.9138203\tbest: 1717.9138203 (287)\ttotal: 9.46s\tremaining: 23.4s\n",
      "288:\tlearn: 1651.8462434\ttest: 1717.6976250\tbest: 1717.6976250 (288)\ttotal: 9.5s\tremaining: 23.4s\n",
      "289:\tlearn: 1651.3392009\ttest: 1717.2339494\tbest: 1717.2339494 (289)\ttotal: 9.54s\tremaining: 23.4s\n",
      "290:\tlearn: 1650.7233516\ttest: 1716.7705685\tbest: 1716.7705685 (290)\ttotal: 9.57s\tremaining: 23.3s\n",
      "291:\tlearn: 1650.2553880\ttest: 1716.4778324\tbest: 1716.4778324 (291)\ttotal: 9.61s\tremaining: 23.3s\n",
      "292:\tlearn: 1649.8335244\ttest: 1716.0955127\tbest: 1716.0955127 (292)\ttotal: 9.64s\tremaining: 23.3s\n",
      "293:\tlearn: 1649.4109360\ttest: 1715.7212503\tbest: 1715.7212503 (293)\ttotal: 9.67s\tremaining: 23.2s\n",
      "294:\tlearn: 1648.7578225\ttest: 1715.2457196\tbest: 1715.2457196 (294)\ttotal: 9.7s\tremaining: 23.2s\n",
      "295:\tlearn: 1648.4060095\ttest: 1715.0109530\tbest: 1715.0109530 (295)\ttotal: 9.73s\tremaining: 23.1s\n",
      "296:\tlearn: 1647.8626002\ttest: 1714.4700003\tbest: 1714.4700003 (296)\ttotal: 9.76s\tremaining: 23.1s\n",
      "297:\tlearn: 1647.4614825\ttest: 1714.1840577\tbest: 1714.1840577 (297)\ttotal: 9.79s\tremaining: 23.1s\n",
      "298:\tlearn: 1646.9979892\ttest: 1713.8689850\tbest: 1713.8689850 (298)\ttotal: 9.82s\tremaining: 23s\n",
      "299:\tlearn: 1646.5069428\ttest: 1713.5296343\tbest: 1713.5296343 (299)\ttotal: 9.86s\tremaining: 23s\n",
      "300:\tlearn: 1645.7325761\ttest: 1713.1032774\tbest: 1713.1032774 (300)\ttotal: 9.88s\tremaining: 23s\n",
      "301:\tlearn: 1645.2944998\ttest: 1712.8435479\tbest: 1712.8435479 (301)\ttotal: 9.91s\tremaining: 22.9s\n",
      "302:\tlearn: 1644.6400850\ttest: 1712.2659056\tbest: 1712.2659056 (302)\ttotal: 9.95s\tremaining: 22.9s\n",
      "303:\tlearn: 1643.8509268\ttest: 1711.6051989\tbest: 1711.6051989 (303)\ttotal: 9.98s\tremaining: 22.8s\n",
      "304:\tlearn: 1643.2210655\ttest: 1711.2144143\tbest: 1711.2144143 (304)\ttotal: 10s\tremaining: 22.8s\n",
      "305:\tlearn: 1642.6632741\ttest: 1710.8085080\tbest: 1710.8085080 (305)\ttotal: 10s\tremaining: 22.8s\n",
      "306:\tlearn: 1642.2897420\ttest: 1710.5699480\tbest: 1710.5699480 (306)\ttotal: 10.1s\tremaining: 22.7s\n",
      "307:\tlearn: 1641.8546810\ttest: 1710.1388696\tbest: 1710.1388696 (307)\ttotal: 10.1s\tremaining: 22.7s\n",
      "308:\tlearn: 1641.0539819\ttest: 1709.6280529\tbest: 1709.6280529 (308)\ttotal: 10.1s\tremaining: 22.7s\n",
      "309:\tlearn: 1640.6804985\ttest: 1709.3582815\tbest: 1709.3582815 (309)\ttotal: 10.2s\tremaining: 22.6s\n",
      "310:\tlearn: 1640.2487305\ttest: 1709.0543627\tbest: 1709.0543627 (310)\ttotal: 10.2s\tremaining: 22.6s\n",
      "311:\tlearn: 1639.8314369\ttest: 1708.7061060\tbest: 1708.7061060 (311)\ttotal: 10.2s\tremaining: 22.6s\n",
      "312:\tlearn: 1639.4614290\ttest: 1708.3867166\tbest: 1708.3867166 (312)\ttotal: 10.3s\tremaining: 22.5s\n",
      "313:\tlearn: 1639.0016128\ttest: 1707.9855845\tbest: 1707.9855845 (313)\ttotal: 10.3s\tremaining: 22.5s\n",
      "314:\tlearn: 1638.5558402\ttest: 1707.6713041\tbest: 1707.6713041 (314)\ttotal: 10.3s\tremaining: 22.5s\n",
      "315:\tlearn: 1638.1740257\ttest: 1707.3739857\tbest: 1707.3739857 (315)\ttotal: 10.4s\tremaining: 22.4s\n",
      "316:\tlearn: 1637.8149419\ttest: 1707.0917991\tbest: 1707.0917991 (316)\ttotal: 10.4s\tremaining: 22.4s\n",
      "317:\tlearn: 1637.3202323\ttest: 1706.7328982\tbest: 1706.7328982 (317)\ttotal: 10.4s\tremaining: 22.4s\n",
      "318:\tlearn: 1636.4239599\ttest: 1706.0943041\tbest: 1706.0943041 (318)\ttotal: 10.5s\tremaining: 22.3s\n",
      "319:\tlearn: 1635.9476554\ttest: 1705.6131477\tbest: 1705.6131477 (319)\ttotal: 10.5s\tremaining: 22.3s\n",
      "320:\tlearn: 1635.5033303\ttest: 1705.2248422\tbest: 1705.2248422 (320)\ttotal: 10.5s\tremaining: 22.3s\n",
      "321:\tlearn: 1634.8790126\ttest: 1704.7584093\tbest: 1704.7584093 (321)\ttotal: 10.6s\tremaining: 22.2s\n",
      "322:\tlearn: 1634.4829561\ttest: 1704.4281590\tbest: 1704.4281590 (322)\ttotal: 10.6s\tremaining: 22.2s\n",
      "323:\tlearn: 1633.8557168\ttest: 1703.9613285\tbest: 1703.9613285 (323)\ttotal: 10.6s\tremaining: 22.1s\n",
      "324:\tlearn: 1633.5470090\ttest: 1703.6814831\tbest: 1703.6814831 (324)\ttotal: 10.6s\tremaining: 22.1s\n",
      "325:\tlearn: 1632.9226955\ttest: 1703.2518994\tbest: 1703.2518994 (325)\ttotal: 10.7s\tremaining: 22.1s\n",
      "326:\tlearn: 1632.4822519\ttest: 1702.9877968\tbest: 1702.9877968 (326)\ttotal: 10.7s\tremaining: 22s\n",
      "327:\tlearn: 1632.0123973\ttest: 1702.6235988\tbest: 1702.6235988 (327)\ttotal: 10.7s\tremaining: 22s\n",
      "328:\tlearn: 1631.5217713\ttest: 1702.2985503\tbest: 1702.2985503 (328)\ttotal: 10.8s\tremaining: 22s\n",
      "329:\tlearn: 1631.1545304\ttest: 1702.1469198\tbest: 1702.1469198 (329)\ttotal: 10.8s\tremaining: 21.9s\n",
      "330:\tlearn: 1630.7188854\ttest: 1701.7323113\tbest: 1701.7323113 (330)\ttotal: 10.8s\tremaining: 21.9s\n",
      "331:\tlearn: 1630.4280719\ttest: 1701.4978191\tbest: 1701.4978191 (331)\ttotal: 10.9s\tremaining: 21.9s\n",
      "332:\tlearn: 1629.8369606\ttest: 1701.1428772\tbest: 1701.1428772 (332)\ttotal: 10.9s\tremaining: 21.8s\n",
      "333:\tlearn: 1629.5518515\ttest: 1700.9228224\tbest: 1700.9228224 (333)\ttotal: 10.9s\tremaining: 21.8s\n",
      "334:\tlearn: 1629.0479480\ttest: 1700.5467150\tbest: 1700.5467150 (334)\ttotal: 11s\tremaining: 21.8s\n",
      "335:\tlearn: 1628.6252654\ttest: 1700.2105820\tbest: 1700.2105820 (335)\ttotal: 11s\tremaining: 21.7s\n",
      "336:\tlearn: 1628.2106186\ttest: 1699.8486145\tbest: 1699.8486145 (336)\ttotal: 11s\tremaining: 21.7s\n",
      "337:\tlearn: 1627.8367581\ttest: 1699.5217861\tbest: 1699.5217861 (337)\ttotal: 11s\tremaining: 21.6s\n",
      "338:\tlearn: 1627.3798126\ttest: 1699.2146058\tbest: 1699.2146058 (338)\ttotal: 11.1s\tremaining: 21.6s\n",
      "339:\tlearn: 1626.7892896\ttest: 1698.7277102\tbest: 1698.7277102 (339)\ttotal: 11.1s\tremaining: 21.6s\n",
      "340:\tlearn: 1626.3389751\ttest: 1698.4615473\tbest: 1698.4615473 (340)\ttotal: 11.2s\tremaining: 21.6s\n",
      "341:\tlearn: 1625.9079800\ttest: 1698.1341944\tbest: 1698.1341944 (341)\ttotal: 11.2s\tremaining: 21.6s\n",
      "342:\tlearn: 1625.4625259\ttest: 1697.9313659\tbest: 1697.9313659 (342)\ttotal: 11.3s\tremaining: 21.6s\n",
      "343:\tlearn: 1625.1746430\ttest: 1697.7046819\tbest: 1697.7046819 (343)\ttotal: 11.3s\tremaining: 21.6s\n",
      "344:\tlearn: 1624.5136375\ttest: 1697.2754450\tbest: 1697.2754450 (344)\ttotal: 11.3s\tremaining: 21.5s\n",
      "345:\tlearn: 1623.9710196\ttest: 1696.7650915\tbest: 1696.7650915 (345)\ttotal: 11.4s\tremaining: 21.5s\n",
      "346:\tlearn: 1623.7012363\ttest: 1696.5193336\tbest: 1696.5193336 (346)\ttotal: 11.4s\tremaining: 21.5s\n",
      "347:\tlearn: 1623.0201566\ttest: 1696.1409868\tbest: 1696.1409868 (347)\ttotal: 11.4s\tremaining: 21.4s\n",
      "348:\tlearn: 1622.6542633\ttest: 1695.9176664\tbest: 1695.9176664 (348)\ttotal: 11.5s\tremaining: 21.4s\n",
      "349:\tlearn: 1622.3199366\ttest: 1695.7248862\tbest: 1695.7248862 (349)\ttotal: 11.5s\tremaining: 21.4s\n",
      "350:\tlearn: 1621.9397420\ttest: 1695.4098533\tbest: 1695.4098533 (350)\ttotal: 11.5s\tremaining: 21.3s\n",
      "351:\tlearn: 1621.4989532\ttest: 1694.9975295\tbest: 1694.9975295 (351)\ttotal: 11.6s\tremaining: 21.3s\n",
      "352:\tlearn: 1621.0920013\ttest: 1694.7724739\tbest: 1694.7724739 (352)\ttotal: 11.6s\tremaining: 21.3s\n",
      "353:\tlearn: 1620.6350432\ttest: 1694.3977702\tbest: 1694.3977702 (353)\ttotal: 11.6s\tremaining: 21.2s\n",
      "354:\tlearn: 1620.2133493\ttest: 1694.0571939\tbest: 1694.0571939 (354)\ttotal: 11.7s\tremaining: 21.2s\n",
      "355:\tlearn: 1619.9050044\ttest: 1693.7891117\tbest: 1693.7891117 (355)\ttotal: 11.7s\tremaining: 21.1s\n",
      "356:\tlearn: 1619.5340766\ttest: 1693.4757255\tbest: 1693.4757255 (356)\ttotal: 11.7s\tremaining: 21.1s\n",
      "357:\tlearn: 1618.9222256\ttest: 1693.1025870\tbest: 1693.1025870 (357)\ttotal: 11.8s\tremaining: 21.1s\n",
      "358:\tlearn: 1618.5574512\ttest: 1692.8780682\tbest: 1692.8780682 (358)\ttotal: 11.8s\tremaining: 21s\n",
      "359:\tlearn: 1618.1916321\ttest: 1692.5924592\tbest: 1692.5924592 (359)\ttotal: 11.9s\tremaining: 21.1s\n",
      "360:\tlearn: 1617.7051418\ttest: 1692.2731412\tbest: 1692.2731412 (360)\ttotal: 11.9s\tremaining: 21.1s\n",
      "361:\tlearn: 1617.0963460\ttest: 1691.9550077\tbest: 1691.9550077 (361)\ttotal: 12s\tremaining: 21.1s\n",
      "362:\tlearn: 1616.8573398\ttest: 1691.8122773\tbest: 1691.8122773 (362)\ttotal: 12s\tremaining: 21.1s\n",
      "363:\tlearn: 1616.4317551\ttest: 1691.4352885\tbest: 1691.4352885 (363)\ttotal: 12.1s\tremaining: 21.1s\n",
      "364:\tlearn: 1616.0498119\ttest: 1691.1948515\tbest: 1691.1948515 (364)\ttotal: 12.1s\tremaining: 21.1s\n",
      "365:\tlearn: 1615.7642683\ttest: 1690.9911654\tbest: 1690.9911654 (365)\ttotal: 12.1s\tremaining: 21s\n",
      "366:\tlearn: 1615.4546918\ttest: 1690.7798170\tbest: 1690.7798170 (366)\ttotal: 12.2s\tremaining: 21s\n",
      "367:\tlearn: 1615.0197673\ttest: 1690.5386461\tbest: 1690.5386461 (367)\ttotal: 12.2s\tremaining: 20.9s\n",
      "368:\tlearn: 1614.6072357\ttest: 1690.1703775\tbest: 1690.1703775 (368)\ttotal: 12.2s\tremaining: 20.9s\n",
      "369:\tlearn: 1614.1629617\ttest: 1689.8907394\tbest: 1689.8907394 (369)\ttotal: 12.3s\tremaining: 20.9s\n",
      "370:\tlearn: 1613.9126489\ttest: 1689.7273694\tbest: 1689.7273694 (370)\ttotal: 12.3s\tremaining: 20.9s\n",
      "371:\tlearn: 1613.5278479\ttest: 1689.3637429\tbest: 1689.3637429 (371)\ttotal: 12.3s\tremaining: 20.8s\n",
      "372:\tlearn: 1613.0948156\ttest: 1688.9996629\tbest: 1688.9996629 (372)\ttotal: 12.4s\tremaining: 20.8s\n",
      "373:\tlearn: 1612.5691212\ttest: 1688.5931400\tbest: 1688.5931400 (373)\ttotal: 12.4s\tremaining: 20.7s\n",
      "374:\tlearn: 1612.2336731\ttest: 1688.4382966\tbest: 1688.4382966 (374)\ttotal: 12.4s\tremaining: 20.7s\n",
      "375:\tlearn: 1611.6556704\ttest: 1688.1886865\tbest: 1688.1886865 (375)\ttotal: 12.4s\tremaining: 20.7s\n",
      "376:\tlearn: 1611.3515704\ttest: 1687.9097566\tbest: 1687.9097566 (376)\ttotal: 12.5s\tremaining: 20.6s\n",
      "377:\tlearn: 1610.8425837\ttest: 1687.6467031\tbest: 1687.6467031 (377)\ttotal: 12.5s\tremaining: 20.6s\n",
      "378:\tlearn: 1610.3815928\ttest: 1687.4278145\tbest: 1687.4278145 (378)\ttotal: 12.5s\tremaining: 20.6s\n",
      "379:\tlearn: 1610.0177007\ttest: 1687.1036467\tbest: 1687.1036467 (379)\ttotal: 12.6s\tremaining: 20.5s\n",
      "380:\tlearn: 1609.7601657\ttest: 1686.8949788\tbest: 1686.8949788 (380)\ttotal: 12.6s\tremaining: 20.5s\n",
      "381:\tlearn: 1609.3540452\ttest: 1686.4924477\tbest: 1686.4924477 (381)\ttotal: 12.6s\tremaining: 20.4s\n",
      "382:\tlearn: 1609.0227246\ttest: 1686.2853798\tbest: 1686.2853798 (382)\ttotal: 12.7s\tremaining: 20.4s\n",
      "383:\tlearn: 1608.6930120\ttest: 1686.0657632\tbest: 1686.0657632 (383)\ttotal: 12.7s\tremaining: 20.4s\n",
      "384:\tlearn: 1608.2793209\ttest: 1685.7432548\tbest: 1685.7432548 (384)\ttotal: 12.8s\tremaining: 20.4s\n",
      "385:\tlearn: 1607.8945314\ttest: 1685.4600426\tbest: 1685.4600426 (385)\ttotal: 12.8s\tremaining: 20.4s\n",
      "386:\tlearn: 1607.6399166\ttest: 1685.2980780\tbest: 1685.2980780 (386)\ttotal: 12.9s\tremaining: 20.4s\n",
      "387:\tlearn: 1607.3590761\ttest: 1685.0641686\tbest: 1685.0641686 (387)\ttotal: 12.9s\tremaining: 20.3s\n",
      "388:\tlearn: 1607.1764837\ttest: 1684.8872665\tbest: 1684.8872665 (388)\ttotal: 12.9s\tremaining: 20.3s\n",
      "389:\tlearn: 1606.4054019\ttest: 1684.4661670\tbest: 1684.4661670 (389)\ttotal: 13s\tremaining: 20.3s\n",
      "390:\tlearn: 1605.9545199\ttest: 1684.1334958\tbest: 1684.1334958 (390)\ttotal: 13s\tremaining: 20.2s\n",
      "391:\tlearn: 1605.3693303\ttest: 1683.8038484\tbest: 1683.8038484 (391)\ttotal: 13s\tremaining: 20.2s\n",
      "392:\tlearn: 1605.0223550\ttest: 1683.5342765\tbest: 1683.5342765 (392)\ttotal: 13.1s\tremaining: 20.2s\n",
      "393:\tlearn: 1604.6891421\ttest: 1683.3469213\tbest: 1683.3469213 (393)\ttotal: 13.1s\tremaining: 20.1s\n",
      "394:\tlearn: 1604.3158523\ttest: 1682.9880319\tbest: 1682.9880319 (394)\ttotal: 13.1s\tremaining: 20.1s\n",
      "395:\tlearn: 1603.8867087\ttest: 1682.7658324\tbest: 1682.7658324 (395)\ttotal: 13.2s\tremaining: 20.1s\n",
      "396:\tlearn: 1603.5590325\ttest: 1682.6910579\tbest: 1682.6910579 (396)\ttotal: 13.2s\tremaining: 20s\n",
      "397:\tlearn: 1603.1426895\ttest: 1682.3500653\tbest: 1682.3500653 (397)\ttotal: 13.2s\tremaining: 20s\n",
      "398:\tlearn: 1602.7456460\ttest: 1682.0432558\tbest: 1682.0432558 (398)\ttotal: 13.2s\tremaining: 20s\n",
      "399:\tlearn: 1602.4661286\ttest: 1681.8402158\tbest: 1681.8402158 (399)\ttotal: 13.3s\tremaining: 19.9s\n",
      "400:\tlearn: 1601.9484221\ttest: 1681.4041550\tbest: 1681.4041550 (400)\ttotal: 13.3s\tremaining: 19.9s\n",
      "401:\tlearn: 1601.3940110\ttest: 1681.1661815\tbest: 1681.1661815 (401)\ttotal: 13.3s\tremaining: 19.8s\n",
      "402:\tlearn: 1601.1108040\ttest: 1680.9688794\tbest: 1680.9688794 (402)\ttotal: 13.4s\tremaining: 19.8s\n",
      "403:\tlearn: 1600.8730723\ttest: 1680.8789495\tbest: 1680.8789495 (403)\ttotal: 13.4s\tremaining: 19.8s\n",
      "404:\tlearn: 1600.2048119\ttest: 1680.4927077\tbest: 1680.4927077 (404)\ttotal: 13.4s\tremaining: 19.7s\n",
      "405:\tlearn: 1599.6957230\ttest: 1680.1161218\tbest: 1680.1161218 (405)\ttotal: 13.5s\tremaining: 19.7s\n",
      "406:\tlearn: 1599.3567213\ttest: 1679.9000651\tbest: 1679.9000651 (406)\ttotal: 13.5s\tremaining: 19.7s\n",
      "407:\tlearn: 1598.9381546\ttest: 1679.6782351\tbest: 1679.6782351 (407)\ttotal: 13.5s\tremaining: 19.6s\n",
      "408:\tlearn: 1598.4628749\ttest: 1679.3715685\tbest: 1679.3715685 (408)\ttotal: 13.6s\tremaining: 19.6s\n",
      "409:\tlearn: 1598.0016314\ttest: 1679.0702920\tbest: 1679.0702920 (409)\ttotal: 13.6s\tremaining: 19.5s\n",
      "410:\tlearn: 1597.5534527\ttest: 1678.7671658\tbest: 1678.7671658 (410)\ttotal: 13.6s\tremaining: 19.5s\n",
      "411:\tlearn: 1597.1552610\ttest: 1678.4515875\tbest: 1678.4515875 (411)\ttotal: 13.7s\tremaining: 19.5s\n",
      "412:\tlearn: 1596.8351473\ttest: 1678.1902106\tbest: 1678.1902106 (412)\ttotal: 13.7s\tremaining: 19.4s\n",
      "413:\tlearn: 1596.4644601\ttest: 1677.9328477\tbest: 1677.9328477 (413)\ttotal: 13.7s\tremaining: 19.4s\n",
      "414:\tlearn: 1596.1214633\ttest: 1677.6820617\tbest: 1677.6820617 (414)\ttotal: 13.7s\tremaining: 19.4s\n",
      "415:\tlearn: 1595.7296579\ttest: 1677.3928152\tbest: 1677.3928152 (415)\ttotal: 13.8s\tremaining: 19.3s\n",
      "416:\tlearn: 1595.3948417\ttest: 1677.1490560\tbest: 1677.1490560 (416)\ttotal: 13.8s\tremaining: 19.3s\n",
      "417:\tlearn: 1595.0921667\ttest: 1677.0590915\tbest: 1677.0590915 (417)\ttotal: 13.8s\tremaining: 19.3s\n",
      "418:\tlearn: 1594.7509805\ttest: 1676.8047323\tbest: 1676.8047323 (418)\ttotal: 13.9s\tremaining: 19.2s\n",
      "419:\tlearn: 1594.3760429\ttest: 1676.5383283\tbest: 1676.5383283 (419)\ttotal: 13.9s\tremaining: 19.2s\n",
      "420:\tlearn: 1594.0232501\ttest: 1676.2645000\tbest: 1676.2645000 (420)\ttotal: 13.9s\tremaining: 19.2s\n",
      "421:\tlearn: 1593.7363186\ttest: 1676.1693850\tbest: 1676.1693850 (421)\ttotal: 14s\tremaining: 19.1s\n",
      "422:\tlearn: 1593.4457908\ttest: 1675.9265886\tbest: 1675.9265886 (422)\ttotal: 14s\tremaining: 19.1s\n",
      "423:\tlearn: 1592.9648000\ttest: 1675.5829869\tbest: 1675.5829869 (423)\ttotal: 14s\tremaining: 19s\n",
      "424:\tlearn: 1592.5035347\ttest: 1675.3379260\tbest: 1675.3379260 (424)\ttotal: 14.1s\tremaining: 19s\n",
      "425:\tlearn: 1592.1516138\ttest: 1675.1203039\tbest: 1675.1203039 (425)\ttotal: 14.1s\tremaining: 19s\n",
      "426:\tlearn: 1591.8395372\ttest: 1674.8789827\tbest: 1674.8789827 (426)\ttotal: 14.1s\tremaining: 18.9s\n",
      "427:\tlearn: 1591.5682086\ttest: 1674.6463597\tbest: 1674.6463597 (427)\ttotal: 14.1s\tremaining: 18.9s\n",
      "428:\tlearn: 1591.2465841\ttest: 1674.4123986\tbest: 1674.4123986 (428)\ttotal: 14.2s\tremaining: 18.9s\n",
      "429:\tlearn: 1590.7102377\ttest: 1674.0501959\tbest: 1674.0501959 (429)\ttotal: 14.2s\tremaining: 18.8s\n",
      "430:\tlearn: 1590.3831530\ttest: 1673.8347056\tbest: 1673.8347056 (430)\ttotal: 14.2s\tremaining: 18.8s\n",
      "431:\tlearn: 1590.0801328\ttest: 1673.6328622\tbest: 1673.6328622 (431)\ttotal: 14.3s\tremaining: 18.8s\n",
      "432:\tlearn: 1589.6814459\ttest: 1673.4538927\tbest: 1673.4538927 (432)\ttotal: 14.4s\tremaining: 18.8s\n",
      "433:\tlearn: 1589.3747607\ttest: 1673.3174282\tbest: 1673.3174282 (433)\ttotal: 14.4s\tremaining: 18.8s\n",
      "434:\tlearn: 1589.0857620\ttest: 1673.1944911\tbest: 1673.1944911 (434)\ttotal: 14.4s\tremaining: 18.7s\n",
      "435:\tlearn: 1588.7796046\ttest: 1673.0465833\tbest: 1673.0465833 (435)\ttotal: 14.5s\tremaining: 18.7s\n",
      "436:\tlearn: 1588.4132958\ttest: 1672.8134510\tbest: 1672.8134510 (436)\ttotal: 14.5s\tremaining: 18.7s\n",
      "437:\tlearn: 1588.2073637\ttest: 1672.6052414\tbest: 1672.6052414 (437)\ttotal: 14.5s\tremaining: 18.6s\n",
      "438:\tlearn: 1587.8902049\ttest: 1672.4168236\tbest: 1672.4168236 (438)\ttotal: 14.6s\tremaining: 18.6s\n",
      "439:\tlearn: 1587.4105341\ttest: 1672.0432784\tbest: 1672.0432784 (439)\ttotal: 14.6s\tremaining: 18.6s\n",
      "440:\tlearn: 1587.0627643\ttest: 1671.8982751\tbest: 1671.8982751 (440)\ttotal: 14.6s\tremaining: 18.5s\n",
      "441:\tlearn: 1586.8516946\ttest: 1671.8005354\tbest: 1671.8005354 (441)\ttotal: 14.7s\tremaining: 18.5s\n",
      "442:\tlearn: 1586.5177353\ttest: 1671.5742688\tbest: 1671.5742688 (442)\ttotal: 14.7s\tremaining: 18.5s\n",
      "443:\tlearn: 1586.0903393\ttest: 1671.2692051\tbest: 1671.2692051 (443)\ttotal: 14.7s\tremaining: 18.4s\n",
      "444:\tlearn: 1585.8509868\ttest: 1671.0853547\tbest: 1671.0853547 (444)\ttotal: 14.7s\tremaining: 18.4s\n",
      "445:\tlearn: 1585.4531266\ttest: 1670.8114903\tbest: 1670.8114903 (445)\ttotal: 14.8s\tremaining: 18.4s\n",
      "446:\tlearn: 1585.1816513\ttest: 1670.6140804\tbest: 1670.6140804 (446)\ttotal: 14.8s\tremaining: 18.3s\n",
      "447:\tlearn: 1584.7754359\ttest: 1670.3574045\tbest: 1670.3574045 (447)\ttotal: 14.8s\tremaining: 18.3s\n",
      "448:\tlearn: 1584.4323182\ttest: 1670.1553256\tbest: 1670.1553256 (448)\ttotal: 14.9s\tremaining: 18.2s\n",
      "449:\tlearn: 1584.0719049\ttest: 1669.8617291\tbest: 1669.8617291 (449)\ttotal: 14.9s\tremaining: 18.2s\n",
      "450:\tlearn: 1583.7609208\ttest: 1669.6762182\tbest: 1669.6762182 (450)\ttotal: 14.9s\tremaining: 18.2s\n",
      "451:\tlearn: 1583.3992802\ttest: 1669.4446745\tbest: 1669.4446745 (451)\ttotal: 15s\tremaining: 18.1s\n",
      "452:\tlearn: 1583.0061772\ttest: 1669.1811215\tbest: 1669.1811215 (452)\ttotal: 15s\tremaining: 18.1s\n",
      "453:\tlearn: 1582.6659333\ttest: 1668.9662735\tbest: 1668.9662735 (453)\ttotal: 15s\tremaining: 18.1s\n",
      "454:\tlearn: 1582.3933653\ttest: 1668.7329987\tbest: 1668.7329987 (454)\ttotal: 15.1s\tremaining: 18s\n",
      "455:\tlearn: 1581.7403592\ttest: 1668.3738408\tbest: 1668.3738408 (455)\ttotal: 15.1s\tremaining: 18s\n",
      "456:\tlearn: 1581.4071395\ttest: 1668.1977502\tbest: 1668.1977502 (456)\ttotal: 15.1s\tremaining: 18s\n",
      "457:\tlearn: 1581.0288685\ttest: 1667.9720046\tbest: 1667.9720046 (457)\ttotal: 15.2s\tremaining: 17.9s\n",
      "458:\tlearn: 1580.7433956\ttest: 1667.8296873\tbest: 1667.8296873 (458)\ttotal: 15.2s\tremaining: 17.9s\n",
      "459:\tlearn: 1580.5246131\ttest: 1667.6230302\tbest: 1667.6230302 (459)\ttotal: 15.2s\tremaining: 17.9s\n",
      "460:\tlearn: 1580.2002861\ttest: 1667.4622771\tbest: 1667.4622771 (460)\ttotal: 15.3s\tremaining: 17.8s\n",
      "461:\tlearn: 1579.8616413\ttest: 1667.2140273\tbest: 1667.2140273 (461)\ttotal: 15.3s\tremaining: 17.8s\n",
      "462:\tlearn: 1579.3950434\ttest: 1666.9681615\tbest: 1666.9681615 (462)\ttotal: 15.3s\tremaining: 17.8s\n",
      "463:\tlearn: 1578.8407428\ttest: 1666.6059128\tbest: 1666.6059128 (463)\ttotal: 15.3s\tremaining: 17.7s\n",
      "464:\tlearn: 1578.5217800\ttest: 1666.4454689\tbest: 1666.4454689 (464)\ttotal: 15.4s\tremaining: 17.7s\n",
      "465:\tlearn: 1577.9433496\ttest: 1666.1768486\tbest: 1666.1768486 (465)\ttotal: 15.4s\tremaining: 17.7s\n",
      "466:\tlearn: 1577.2215236\ttest: 1665.7026196\tbest: 1665.7026196 (466)\ttotal: 15.4s\tremaining: 17.6s\n",
      "467:\tlearn: 1576.9223095\ttest: 1665.5271621\tbest: 1665.5271621 (467)\ttotal: 15.5s\tremaining: 17.6s\n",
      "468:\tlearn: 1576.5366528\ttest: 1665.2991568\tbest: 1665.2991568 (468)\ttotal: 15.5s\tremaining: 17.5s\n",
      "469:\tlearn: 1576.1992605\ttest: 1665.0840963\tbest: 1665.0840963 (469)\ttotal: 15.5s\tremaining: 17.5s\n",
      "470:\tlearn: 1575.9303915\ttest: 1664.9433393\tbest: 1664.9433393 (470)\ttotal: 15.6s\tremaining: 17.5s\n",
      "471:\tlearn: 1575.5484694\ttest: 1664.6229119\tbest: 1664.6229119 (471)\ttotal: 15.6s\tremaining: 17.4s\n",
      "472:\tlearn: 1575.2295306\ttest: 1664.4499837\tbest: 1664.4499837 (472)\ttotal: 15.6s\tremaining: 17.4s\n",
      "473:\tlearn: 1574.8927088\ttest: 1664.2540036\tbest: 1664.2540036 (473)\ttotal: 15.7s\tremaining: 17.4s\n",
      "474:\tlearn: 1574.5557173\ttest: 1664.0275379\tbest: 1664.0275379 (474)\ttotal: 15.7s\tremaining: 17.3s\n",
      "475:\tlearn: 1574.2698740\ttest: 1663.8626697\tbest: 1663.8626697 (475)\ttotal: 15.7s\tremaining: 17.3s\n",
      "476:\tlearn: 1573.8795933\ttest: 1663.6928779\tbest: 1663.6928779 (476)\ttotal: 15.8s\tremaining: 17.3s\n",
      "477:\tlearn: 1573.6556053\ttest: 1663.5631771\tbest: 1663.5631771 (477)\ttotal: 15.8s\tremaining: 17.2s\n",
      "478:\tlearn: 1573.3326765\ttest: 1663.3290452\tbest: 1663.3290452 (478)\ttotal: 15.9s\tremaining: 17.2s\n",
      "479:\tlearn: 1572.9924636\ttest: 1663.0210192\tbest: 1663.0210192 (479)\ttotal: 15.9s\tremaining: 17.2s\n",
      "480:\tlearn: 1572.7338240\ttest: 1662.8648813\tbest: 1662.8648813 (480)\ttotal: 15.9s\tremaining: 17.2s\n",
      "481:\tlearn: 1572.4805553\ttest: 1662.6923409\tbest: 1662.6923409 (481)\ttotal: 16s\tremaining: 17.2s\n",
      "482:\tlearn: 1572.2379872\ttest: 1662.5015070\tbest: 1662.5015070 (482)\ttotal: 16s\tremaining: 17.1s\n",
      "483:\tlearn: 1571.8273864\ttest: 1662.2746342\tbest: 1662.2746342 (483)\ttotal: 16s\tremaining: 17.1s\n",
      "484:\tlearn: 1571.5848818\ttest: 1662.1093459\tbest: 1662.1093459 (484)\ttotal: 16.1s\tremaining: 17.1s\n",
      "485:\tlearn: 1571.2842459\ttest: 1661.9508414\tbest: 1661.9508414 (485)\ttotal: 16.1s\tremaining: 17s\n",
      "486:\tlearn: 1570.8128178\ttest: 1661.6669392\tbest: 1661.6669392 (486)\ttotal: 16.1s\tremaining: 17s\n",
      "487:\tlearn: 1570.4698268\ttest: 1661.4640766\tbest: 1661.4640766 (487)\ttotal: 16.2s\tremaining: 17s\n",
      "488:\tlearn: 1570.2499912\ttest: 1661.3184739\tbest: 1661.3184739 (488)\ttotal: 16.2s\tremaining: 16.9s\n",
      "489:\tlearn: 1569.8689026\ttest: 1661.1458404\tbest: 1661.1458404 (489)\ttotal: 16.2s\tremaining: 16.9s\n",
      "490:\tlearn: 1569.5715767\ttest: 1660.9997373\tbest: 1660.9997373 (490)\ttotal: 16.3s\tremaining: 16.9s\n",
      "491:\tlearn: 1569.2740926\ttest: 1660.7520170\tbest: 1660.7520170 (491)\ttotal: 16.3s\tremaining: 16.8s\n",
      "492:\tlearn: 1568.8319188\ttest: 1660.5906506\tbest: 1660.5906506 (492)\ttotal: 16.3s\tremaining: 16.8s\n",
      "493:\tlearn: 1568.6373909\ttest: 1660.4922644\tbest: 1660.4922644 (493)\ttotal: 16.4s\tremaining: 16.8s\n",
      "494:\tlearn: 1568.3185474\ttest: 1660.2701766\tbest: 1660.2701766 (494)\ttotal: 16.4s\tremaining: 16.7s\n",
      "495:\tlearn: 1567.8622244\ttest: 1660.0261318\tbest: 1660.0261318 (495)\ttotal: 16.4s\tremaining: 16.7s\n",
      "496:\tlearn: 1567.6114775\ttest: 1659.9635087\tbest: 1659.9635087 (496)\ttotal: 16.5s\tremaining: 16.6s\n",
      "497:\tlearn: 1567.4502436\ttest: 1659.8724376\tbest: 1659.8724376 (497)\ttotal: 16.5s\tremaining: 16.6s\n",
      "498:\tlearn: 1567.0017368\ttest: 1659.4424885\tbest: 1659.4424885 (498)\ttotal: 16.5s\tremaining: 16.6s\n",
      "499:\tlearn: 1566.4875436\ttest: 1659.1778631\tbest: 1659.1778631 (499)\ttotal: 16.5s\tremaining: 16.5s\n",
      "500:\tlearn: 1566.1492655\ttest: 1658.9308139\tbest: 1658.9308139 (500)\ttotal: 16.6s\tremaining: 16.5s\n",
      "501:\tlearn: 1565.9133354\ttest: 1658.7311805\tbest: 1658.7311805 (501)\ttotal: 16.6s\tremaining: 16.5s\n",
      "502:\tlearn: 1565.6113618\ttest: 1658.5455153\tbest: 1658.5455153 (502)\ttotal: 16.6s\tremaining: 16.4s\n",
      "503:\tlearn: 1565.2401887\ttest: 1658.2628327\tbest: 1658.2628327 (503)\ttotal: 16.7s\tremaining: 16.4s\n",
      "504:\tlearn: 1564.8720523\ttest: 1658.1303429\tbest: 1658.1303429 (504)\ttotal: 16.7s\tremaining: 16.4s\n",
      "505:\tlearn: 1564.4486321\ttest: 1657.7402853\tbest: 1657.7402853 (505)\ttotal: 16.7s\tremaining: 16.3s\n",
      "506:\tlearn: 1564.2256217\ttest: 1657.5530700\tbest: 1657.5530700 (506)\ttotal: 16.8s\tremaining: 16.3s\n",
      "507:\tlearn: 1563.6749819\ttest: 1657.1471728\tbest: 1657.1471728 (507)\ttotal: 16.8s\tremaining: 16.3s\n",
      "508:\tlearn: 1563.5022292\ttest: 1657.1308683\tbest: 1657.1308683 (508)\ttotal: 16.8s\tremaining: 16.2s\n",
      "509:\tlearn: 1563.1701916\ttest: 1656.9493078\tbest: 1656.9493078 (509)\ttotal: 16.9s\tremaining: 16.2s\n",
      "510:\tlearn: 1562.9117491\ttest: 1656.7994081\tbest: 1656.7994081 (510)\ttotal: 16.9s\tremaining: 16.2s\n",
      "511:\tlearn: 1562.3828021\ttest: 1656.5182659\tbest: 1656.5182659 (511)\ttotal: 16.9s\tremaining: 16.1s\n",
      "512:\tlearn: 1562.0328725\ttest: 1656.3541492\tbest: 1656.3541492 (512)\ttotal: 17s\tremaining: 16.1s\n",
      "513:\tlearn: 1561.8118598\ttest: 1656.2571365\tbest: 1656.2571365 (513)\ttotal: 17s\tremaining: 16.1s\n",
      "514:\tlearn: 1561.5833866\ttest: 1656.1015858\tbest: 1656.1015858 (514)\ttotal: 17s\tremaining: 16s\n",
      "515:\tlearn: 1561.2849256\ttest: 1655.9569434\tbest: 1655.9569434 (515)\ttotal: 17.1s\tremaining: 16s\n",
      "516:\tlearn: 1561.0302896\ttest: 1655.7400350\tbest: 1655.7400350 (516)\ttotal: 17.1s\tremaining: 16s\n",
      "517:\tlearn: 1560.7432032\ttest: 1655.6026714\tbest: 1655.6026714 (517)\ttotal: 17.1s\tremaining: 15.9s\n",
      "518:\tlearn: 1560.5095512\ttest: 1655.4773553\tbest: 1655.4773553 (518)\ttotal: 17.2s\tremaining: 15.9s\n",
      "519:\tlearn: 1559.9904536\ttest: 1655.2372712\tbest: 1655.2372712 (519)\ttotal: 17.2s\tremaining: 15.9s\n",
      "520:\tlearn: 1559.8422953\ttest: 1655.1572412\tbest: 1655.1572412 (520)\ttotal: 17.2s\tremaining: 15.8s\n",
      "521:\tlearn: 1559.6493774\ttest: 1655.0234260\tbest: 1655.0234260 (521)\ttotal: 17.2s\tremaining: 15.8s\n",
      "522:\tlearn: 1559.2802880\ttest: 1654.8050287\tbest: 1654.8050287 (522)\ttotal: 17.3s\tremaining: 15.8s\n",
      "523:\tlearn: 1558.9820272\ttest: 1654.6521543\tbest: 1654.6521543 (523)\ttotal: 17.3s\tremaining: 15.7s\n",
      "524:\tlearn: 1558.7180189\ttest: 1654.4757547\tbest: 1654.4757547 (524)\ttotal: 17.3s\tremaining: 15.7s\n",
      "525:\tlearn: 1558.3348530\ttest: 1654.1147557\tbest: 1654.1147557 (525)\ttotal: 17.4s\tremaining: 15.7s\n",
      "526:\tlearn: 1558.0294425\ttest: 1653.9806868\tbest: 1653.9806868 (526)\ttotal: 17.5s\tremaining: 15.7s\n",
      "527:\tlearn: 1557.7976991\ttest: 1653.7742263\tbest: 1653.7742263 (527)\ttotal: 17.5s\tremaining: 15.6s\n",
      "528:\tlearn: 1557.5623675\ttest: 1653.6398971\tbest: 1653.6398971 (528)\ttotal: 17.5s\tremaining: 15.6s\n",
      "529:\tlearn: 1557.2310316\ttest: 1653.4650511\tbest: 1653.4650511 (529)\ttotal: 17.6s\tremaining: 15.6s\n",
      "530:\tlearn: 1556.9472768\ttest: 1653.3444930\tbest: 1653.3444930 (530)\ttotal: 17.6s\tremaining: 15.5s\n",
      "531:\tlearn: 1556.6776178\ttest: 1653.1309469\tbest: 1653.1309469 (531)\ttotal: 17.6s\tremaining: 15.5s\n",
      "532:\tlearn: 1556.4133905\ttest: 1652.8975329\tbest: 1652.8975329 (532)\ttotal: 17.7s\tremaining: 15.5s\n",
      "533:\tlearn: 1556.1787704\ttest: 1652.8435860\tbest: 1652.8435860 (533)\ttotal: 17.7s\tremaining: 15.4s\n",
      "534:\tlearn: 1555.9250542\ttest: 1652.7306854\tbest: 1652.7306854 (534)\ttotal: 17.7s\tremaining: 15.4s\n",
      "535:\tlearn: 1555.5830960\ttest: 1652.5004077\tbest: 1652.5004077 (535)\ttotal: 17.8s\tremaining: 15.4s\n",
      "536:\tlearn: 1555.2838649\ttest: 1652.3100763\tbest: 1652.3100763 (536)\ttotal: 17.8s\tremaining: 15.3s\n",
      "537:\tlearn: 1555.0018542\ttest: 1652.1657718\tbest: 1652.1657718 (537)\ttotal: 17.8s\tremaining: 15.3s\n",
      "538:\tlearn: 1554.4437332\ttest: 1651.8506863\tbest: 1651.8506863 (538)\ttotal: 17.9s\tremaining: 15.3s\n",
      "539:\tlearn: 1554.2310042\ttest: 1651.6751742\tbest: 1651.6751742 (539)\ttotal: 17.9s\tremaining: 15.2s\n",
      "540:\tlearn: 1553.9468191\ttest: 1651.5161543\tbest: 1651.5161543 (540)\ttotal: 17.9s\tremaining: 15.2s\n",
      "541:\tlearn: 1553.6481080\ttest: 1651.3335910\tbest: 1651.3335910 (541)\ttotal: 17.9s\tremaining: 15.2s\n",
      "542:\tlearn: 1553.3395867\ttest: 1651.0924689\tbest: 1651.0924689 (542)\ttotal: 18s\tremaining: 15.1s\n",
      "543:\tlearn: 1553.0772805\ttest: 1650.9431508\tbest: 1650.9431508 (543)\ttotal: 18s\tremaining: 15.1s\n",
      "544:\tlearn: 1552.8620562\ttest: 1650.8553284\tbest: 1650.8553284 (544)\ttotal: 18s\tremaining: 15.1s\n",
      "545:\tlearn: 1552.6288473\ttest: 1650.7725413\tbest: 1650.7725413 (545)\ttotal: 18.1s\tremaining: 15s\n",
      "546:\tlearn: 1552.1175007\ttest: 1650.5205971\tbest: 1650.5205971 (546)\ttotal: 18.1s\tremaining: 15s\n",
      "547:\tlearn: 1551.7694540\ttest: 1650.1674190\tbest: 1650.1674190 (547)\ttotal: 18.1s\tremaining: 15s\n",
      "548:\tlearn: 1551.5796053\ttest: 1650.1071146\tbest: 1650.1071146 (548)\ttotal: 18.2s\tremaining: 14.9s\n",
      "549:\tlearn: 1551.3805047\ttest: 1649.9438336\tbest: 1649.9438336 (549)\ttotal: 18.2s\tremaining: 14.9s\n",
      "550:\tlearn: 1551.0979459\ttest: 1649.8035594\tbest: 1649.8035594 (550)\ttotal: 18.2s\tremaining: 14.9s\n",
      "551:\tlearn: 1550.8809386\ttest: 1649.7358386\tbest: 1649.7358386 (551)\ttotal: 18.3s\tremaining: 14.8s\n",
      "552:\tlearn: 1550.5903655\ttest: 1649.6107237\tbest: 1649.6107237 (552)\ttotal: 18.3s\tremaining: 14.8s\n",
      "553:\tlearn: 1550.3413063\ttest: 1649.4580933\tbest: 1649.4580933 (553)\ttotal: 18.3s\tremaining: 14.8s\n",
      "554:\tlearn: 1550.0862870\ttest: 1649.3427698\tbest: 1649.3427698 (554)\ttotal: 18.4s\tremaining: 14.7s\n",
      "555:\tlearn: 1549.8137165\ttest: 1649.2097449\tbest: 1649.2097449 (555)\ttotal: 18.4s\tremaining: 14.7s\n",
      "556:\tlearn: 1549.2301318\ttest: 1648.8662190\tbest: 1648.8662190 (556)\ttotal: 18.4s\tremaining: 14.7s\n",
      "557:\tlearn: 1548.9970341\ttest: 1648.7603275\tbest: 1648.7603275 (557)\ttotal: 18.5s\tremaining: 14.6s\n",
      "558:\tlearn: 1548.8198550\ttest: 1648.7156666\tbest: 1648.7156666 (558)\ttotal: 18.5s\tremaining: 14.6s\n",
      "559:\tlearn: 1548.6511270\ttest: 1648.6886358\tbest: 1648.6886358 (559)\ttotal: 18.5s\tremaining: 14.5s\n",
      "560:\tlearn: 1548.3081082\ttest: 1648.3565174\tbest: 1648.3565174 (560)\ttotal: 18.5s\tremaining: 14.5s\n",
      "561:\tlearn: 1547.9565600\ttest: 1648.1007608\tbest: 1648.1007608 (561)\ttotal: 18.6s\tremaining: 14.5s\n",
      "562:\tlearn: 1547.6698899\ttest: 1647.9700732\tbest: 1647.9700732 (562)\ttotal: 18.6s\tremaining: 14.4s\n",
      "563:\tlearn: 1547.1831507\ttest: 1647.7359430\tbest: 1647.7359430 (563)\ttotal: 18.6s\tremaining: 14.4s\n",
      "564:\tlearn: 1546.9336345\ttest: 1647.6134315\tbest: 1647.6134315 (564)\ttotal: 18.7s\tremaining: 14.4s\n",
      "565:\tlearn: 1546.7222743\ttest: 1647.5773422\tbest: 1647.5773422 (565)\ttotal: 18.7s\tremaining: 14.3s\n",
      "566:\tlearn: 1546.5892034\ttest: 1647.5525267\tbest: 1647.5525267 (566)\ttotal: 18.7s\tremaining: 14.3s\n",
      "567:\tlearn: 1546.3986044\ttest: 1647.4966927\tbest: 1647.4966927 (567)\ttotal: 18.8s\tremaining: 14.3s\n",
      "568:\tlearn: 1546.2625513\ttest: 1647.4446495\tbest: 1647.4446495 (568)\ttotal: 18.8s\tremaining: 14.2s\n",
      "569:\tlearn: 1545.8272951\ttest: 1647.1458395\tbest: 1647.1458395 (569)\ttotal: 18.8s\tremaining: 14.2s\n",
      "570:\tlearn: 1545.5058851\ttest: 1646.9375511\tbest: 1646.9375511 (570)\ttotal: 18.9s\tremaining: 14.2s\n",
      "571:\tlearn: 1545.2974266\ttest: 1646.7760761\tbest: 1646.7760761 (571)\ttotal: 18.9s\tremaining: 14.1s\n",
      "572:\tlearn: 1544.9592888\ttest: 1646.6213193\tbest: 1646.6213193 (572)\ttotal: 18.9s\tremaining: 14.1s\n",
      "573:\tlearn: 1544.6665145\ttest: 1646.4557849\tbest: 1646.4557849 (573)\ttotal: 19s\tremaining: 14.1s\n",
      "574:\tlearn: 1544.4693407\ttest: 1646.3435437\tbest: 1646.3435437 (574)\ttotal: 19.1s\tremaining: 14.1s\n",
      "575:\tlearn: 1544.2372261\ttest: 1646.2541492\tbest: 1646.2541492 (575)\ttotal: 19.1s\tremaining: 14.1s\n",
      "576:\tlearn: 1543.9673869\ttest: 1646.1323529\tbest: 1646.1323529 (576)\ttotal: 19.1s\tremaining: 14s\n",
      "577:\tlearn: 1543.7785062\ttest: 1645.9958199\tbest: 1645.9958199 (577)\ttotal: 19.2s\tremaining: 14s\n",
      "578:\tlearn: 1543.5949230\ttest: 1645.8621242\tbest: 1645.8621242 (578)\ttotal: 19.2s\tremaining: 14s\n",
      "579:\tlearn: 1543.4630422\ttest: 1645.7835155\tbest: 1645.7835155 (579)\ttotal: 19.2s\tremaining: 13.9s\n",
      "580:\tlearn: 1543.2190714\ttest: 1645.6231650\tbest: 1645.6231650 (580)\ttotal: 19.2s\tremaining: 13.9s\n",
      "581:\tlearn: 1542.8702638\ttest: 1645.4003009\tbest: 1645.4003009 (581)\ttotal: 19.3s\tremaining: 13.8s\n",
      "582:\tlearn: 1542.6426199\ttest: 1645.2286922\tbest: 1645.2286922 (582)\ttotal: 19.3s\tremaining: 13.8s\n",
      "583:\tlearn: 1542.2504036\ttest: 1644.9420361\tbest: 1644.9420361 (583)\ttotal: 19.3s\tremaining: 13.8s\n",
      "584:\tlearn: 1542.0271090\ttest: 1644.8519030\tbest: 1644.8519030 (584)\ttotal: 19.4s\tremaining: 13.7s\n",
      "585:\tlearn: 1541.5926427\ttest: 1644.6472768\tbest: 1644.6472768 (585)\ttotal: 19.4s\tremaining: 13.7s\n",
      "586:\tlearn: 1541.2715510\ttest: 1644.4248697\tbest: 1644.4248697 (586)\ttotal: 19.4s\tremaining: 13.7s\n",
      "587:\tlearn: 1540.8757347\ttest: 1644.1694229\tbest: 1644.1694229 (587)\ttotal: 19.5s\tremaining: 13.6s\n",
      "588:\tlearn: 1540.6900161\ttest: 1644.0439205\tbest: 1644.0439205 (588)\ttotal: 19.5s\tremaining: 13.6s\n",
      "589:\tlearn: 1540.4251798\ttest: 1643.9860570\tbest: 1643.9860570 (589)\ttotal: 19.5s\tremaining: 13.6s\n",
      "590:\tlearn: 1540.1789715\ttest: 1643.8245022\tbest: 1643.8245022 (590)\ttotal: 19.6s\tremaining: 13.5s\n",
      "591:\tlearn: 1540.0152372\ttest: 1643.7062320\tbest: 1643.7062320 (591)\ttotal: 19.6s\tremaining: 13.5s\n",
      "592:\tlearn: 1539.7548327\ttest: 1643.5592233\tbest: 1643.5592233 (592)\ttotal: 19.6s\tremaining: 13.5s\n",
      "593:\tlearn: 1539.5030576\ttest: 1643.3958840\tbest: 1643.3958840 (593)\ttotal: 19.7s\tremaining: 13.4s\n",
      "594:\tlearn: 1539.1977612\ttest: 1643.0874104\tbest: 1643.0874104 (594)\ttotal: 19.7s\tremaining: 13.4s\n",
      "595:\tlearn: 1538.9884692\ttest: 1643.0197359\tbest: 1643.0197359 (595)\ttotal: 19.7s\tremaining: 13.4s\n",
      "596:\tlearn: 1538.6377184\ttest: 1642.8429954\tbest: 1642.8429954 (596)\ttotal: 19.7s\tremaining: 13.3s\n",
      "597:\tlearn: 1538.3352066\ttest: 1642.6285752\tbest: 1642.6285752 (597)\ttotal: 19.8s\tremaining: 13.3s\n",
      "598:\tlearn: 1538.0554045\ttest: 1642.4736683\tbest: 1642.4736683 (598)\ttotal: 19.8s\tremaining: 13.3s\n",
      "599:\tlearn: 1537.8056055\ttest: 1642.3420063\tbest: 1642.3420063 (599)\ttotal: 19.8s\tremaining: 13.2s\n",
      "600:\tlearn: 1537.5852080\ttest: 1642.1737587\tbest: 1642.1737587 (600)\ttotal: 19.9s\tremaining: 13.2s\n",
      "601:\tlearn: 1537.3748842\ttest: 1642.0512224\tbest: 1642.0512224 (601)\ttotal: 19.9s\tremaining: 13.2s\n",
      "602:\tlearn: 1537.1180262\ttest: 1641.9764122\tbest: 1641.9764122 (602)\ttotal: 19.9s\tremaining: 13.1s\n",
      "603:\tlearn: 1536.9041972\ttest: 1641.8341142\tbest: 1641.8341142 (603)\ttotal: 20s\tremaining: 13.1s\n",
      "604:\tlearn: 1536.5562927\ttest: 1641.6203294\tbest: 1641.6203294 (604)\ttotal: 20s\tremaining: 13.1s\n",
      "605:\tlearn: 1536.3165461\ttest: 1641.5061764\tbest: 1641.5061764 (605)\ttotal: 20s\tremaining: 13s\n",
      "606:\tlearn: 1536.1099271\ttest: 1641.3952986\tbest: 1641.3952986 (606)\ttotal: 20.1s\tremaining: 13s\n",
      "607:\tlearn: 1535.9180472\ttest: 1641.1991695\tbest: 1641.1991695 (607)\ttotal: 20.1s\tremaining: 13s\n",
      "608:\tlearn: 1535.7906498\ttest: 1641.1101982\tbest: 1641.1101982 (608)\ttotal: 20.1s\tremaining: 12.9s\n",
      "609:\tlearn: 1535.5079103\ttest: 1640.9431218\tbest: 1640.9431218 (609)\ttotal: 20.2s\tremaining: 12.9s\n",
      "610:\tlearn: 1535.3239820\ttest: 1640.8564904\tbest: 1640.8564904 (610)\ttotal: 20.2s\tremaining: 12.9s\n",
      "611:\tlearn: 1535.1068462\ttest: 1640.6997433\tbest: 1640.6997433 (611)\ttotal: 20.2s\tremaining: 12.8s\n",
      "612:\tlearn: 1534.8492127\ttest: 1640.5698080\tbest: 1640.5698080 (612)\ttotal: 20.3s\tremaining: 12.8s\n",
      "613:\tlearn: 1534.5940522\ttest: 1640.4012285\tbest: 1640.4012285 (613)\ttotal: 20.3s\tremaining: 12.8s\n",
      "614:\tlearn: 1534.2008984\ttest: 1640.1884762\tbest: 1640.1884762 (614)\ttotal: 20.3s\tremaining: 12.7s\n",
      "615:\tlearn: 1534.0314443\ttest: 1640.1028822\tbest: 1640.1028822 (615)\ttotal: 20.3s\tremaining: 12.7s\n",
      "616:\tlearn: 1533.9061462\ttest: 1640.0570734\tbest: 1640.0570734 (616)\ttotal: 20.4s\tremaining: 12.6s\n",
      "617:\tlearn: 1533.5637130\ttest: 1639.9034893\tbest: 1639.9034893 (617)\ttotal: 20.4s\tremaining: 12.6s\n",
      "618:\tlearn: 1533.3835258\ttest: 1639.8199196\tbest: 1639.8199196 (618)\ttotal: 20.4s\tremaining: 12.6s\n",
      "619:\tlearn: 1533.1257581\ttest: 1639.7236057\tbest: 1639.7236057 (619)\ttotal: 20.5s\tremaining: 12.6s\n",
      "620:\tlearn: 1532.9344876\ttest: 1639.6548494\tbest: 1639.6548494 (620)\ttotal: 20.6s\tremaining: 12.5s\n",
      "621:\tlearn: 1532.6829045\ttest: 1639.5534193\tbest: 1639.5534193 (621)\ttotal: 20.6s\tremaining: 12.5s\n",
      "622:\tlearn: 1532.2698291\ttest: 1639.3761684\tbest: 1639.3761684 (622)\ttotal: 20.6s\tremaining: 12.5s\n",
      "623:\tlearn: 1532.0944419\ttest: 1639.3153376\tbest: 1639.3153376 (623)\ttotal: 20.7s\tremaining: 12.5s\n",
      "624:\tlearn: 1531.9053733\ttest: 1639.2168660\tbest: 1639.2168660 (624)\ttotal: 20.7s\tremaining: 12.4s\n",
      "625:\tlearn: 1531.6266905\ttest: 1639.0508611\tbest: 1639.0508611 (625)\ttotal: 20.7s\tremaining: 12.4s\n",
      "626:\tlearn: 1531.2721927\ttest: 1638.8565155\tbest: 1638.8565155 (626)\ttotal: 20.8s\tremaining: 12.4s\n",
      "627:\tlearn: 1531.0520286\ttest: 1638.7179900\tbest: 1638.7179900 (627)\ttotal: 20.8s\tremaining: 12.3s\n",
      "628:\tlearn: 1530.8665056\ttest: 1638.6780695\tbest: 1638.6780695 (628)\ttotal: 20.8s\tremaining: 12.3s\n",
      "629:\tlearn: 1530.6941793\ttest: 1638.6294758\tbest: 1638.6294758 (629)\ttotal: 20.9s\tremaining: 12.2s\n",
      "630:\tlearn: 1530.4827228\ttest: 1638.5623504\tbest: 1638.5623504 (630)\ttotal: 20.9s\tremaining: 12.2s\n",
      "631:\tlearn: 1530.1481627\ttest: 1638.3601295\tbest: 1638.3601295 (631)\ttotal: 20.9s\tremaining: 12.2s\n",
      "632:\tlearn: 1529.9587837\ttest: 1638.2809518\tbest: 1638.2809518 (632)\ttotal: 20.9s\tremaining: 12.1s\n",
      "633:\tlearn: 1529.8440937\ttest: 1638.1950423\tbest: 1638.1950423 (633)\ttotal: 21s\tremaining: 12.1s\n",
      "634:\tlearn: 1529.4780152\ttest: 1638.0149666\tbest: 1638.0149666 (634)\ttotal: 21s\tremaining: 12.1s\n",
      "635:\tlearn: 1529.2256342\ttest: 1637.7726148\tbest: 1637.7726148 (635)\ttotal: 21s\tremaining: 12s\n",
      "636:\tlearn: 1528.9400738\ttest: 1637.6201832\tbest: 1637.6201832 (636)\ttotal: 21.1s\tremaining: 12s\n",
      "637:\tlearn: 1528.7552892\ttest: 1637.5680800\tbest: 1637.5680800 (637)\ttotal: 21.1s\tremaining: 12s\n",
      "638:\tlearn: 1528.5102895\ttest: 1637.4764858\tbest: 1637.4764858 (638)\ttotal: 21.1s\tremaining: 11.9s\n",
      "639:\tlearn: 1528.2430778\ttest: 1637.3058262\tbest: 1637.3058262 (639)\ttotal: 21.2s\tremaining: 11.9s\n",
      "640:\tlearn: 1528.0933294\ttest: 1637.1993465\tbest: 1637.1993465 (640)\ttotal: 21.2s\tremaining: 11.9s\n",
      "641:\tlearn: 1527.8987713\ttest: 1637.1342173\tbest: 1637.1342173 (641)\ttotal: 21.2s\tremaining: 11.8s\n",
      "642:\tlearn: 1527.6978809\ttest: 1637.0474740\tbest: 1637.0474740 (642)\ttotal: 21.3s\tremaining: 11.8s\n",
      "643:\tlearn: 1527.3234584\ttest: 1636.9217148\tbest: 1636.9217148 (643)\ttotal: 21.3s\tremaining: 11.8s\n",
      "644:\tlearn: 1527.1306130\ttest: 1636.7875364\tbest: 1636.7875364 (644)\ttotal: 21.3s\tremaining: 11.7s\n",
      "645:\tlearn: 1526.9159071\ttest: 1636.6648941\tbest: 1636.6648941 (645)\ttotal: 21.4s\tremaining: 11.7s\n",
      "646:\tlearn: 1526.7536419\ttest: 1636.6230954\tbest: 1636.6230954 (646)\ttotal: 21.4s\tremaining: 11.7s\n",
      "647:\tlearn: 1526.5727970\ttest: 1636.5696288\tbest: 1636.5696288 (647)\ttotal: 21.4s\tremaining: 11.6s\n",
      "648:\tlearn: 1526.3052964\ttest: 1636.4579867\tbest: 1636.4579867 (648)\ttotal: 21.5s\tremaining: 11.6s\n",
      "649:\tlearn: 1525.9489039\ttest: 1636.2160462\tbest: 1636.2160462 (649)\ttotal: 21.5s\tremaining: 11.6s\n",
      "650:\tlearn: 1525.7077589\ttest: 1636.0770716\tbest: 1636.0770716 (650)\ttotal: 21.5s\tremaining: 11.5s\n",
      "651:\tlearn: 1525.5061122\ttest: 1635.9200597\tbest: 1635.9200597 (651)\ttotal: 21.5s\tremaining: 11.5s\n",
      "652:\tlearn: 1525.3242839\ttest: 1635.8223262\tbest: 1635.8223262 (652)\ttotal: 21.6s\tremaining: 11.5s\n",
      "653:\tlearn: 1525.0071139\ttest: 1635.6319430\tbest: 1635.6319430 (653)\ttotal: 21.6s\tremaining: 11.4s\n",
      "654:\tlearn: 1524.8251792\ttest: 1635.5627359\tbest: 1635.5627359 (654)\ttotal: 21.7s\tremaining: 11.4s\n",
      "655:\tlearn: 1524.5497261\ttest: 1635.4017296\tbest: 1635.4017296 (655)\ttotal: 21.7s\tremaining: 11.4s\n",
      "656:\tlearn: 1524.2766887\ttest: 1635.2401506\tbest: 1635.2401506 (656)\ttotal: 21.7s\tremaining: 11.3s\n",
      "657:\tlearn: 1524.0998803\ttest: 1635.1869339\tbest: 1635.1869339 (657)\ttotal: 21.7s\tremaining: 11.3s\n",
      "658:\tlearn: 1523.9209356\ttest: 1635.0951544\tbest: 1635.0951544 (658)\ttotal: 21.8s\tremaining: 11.3s\n",
      "659:\tlearn: 1523.5101266\ttest: 1634.9515804\tbest: 1634.9515804 (659)\ttotal: 21.8s\tremaining: 11.2s\n",
      "660:\tlearn: 1523.3322212\ttest: 1634.8914296\tbest: 1634.8914296 (660)\ttotal: 21.8s\tremaining: 11.2s\n",
      "661:\tlearn: 1523.1600220\ttest: 1634.7728342\tbest: 1634.7728342 (661)\ttotal: 21.9s\tremaining: 11.2s\n",
      "662:\tlearn: 1522.9803829\ttest: 1634.6519878\tbest: 1634.6519878 (662)\ttotal: 21.9s\tremaining: 11.1s\n",
      "663:\tlearn: 1522.6055704\ttest: 1634.4547085\tbest: 1634.4547085 (663)\ttotal: 21.9s\tremaining: 11.1s\n",
      "664:\tlearn: 1522.3404193\ttest: 1634.3996748\tbest: 1634.3996748 (664)\ttotal: 22s\tremaining: 11.1s\n",
      "665:\tlearn: 1521.8793559\ttest: 1634.1433161\tbest: 1634.1433161 (665)\ttotal: 22s\tremaining: 11s\n",
      "666:\tlearn: 1521.6803642\ttest: 1634.0338282\tbest: 1634.0338282 (666)\ttotal: 22.1s\tremaining: 11s\n",
      "667:\tlearn: 1521.4736319\ttest: 1633.9202654\tbest: 1633.9202654 (667)\ttotal: 22.1s\tremaining: 11s\n",
      "668:\tlearn: 1521.2999652\ttest: 1633.7657293\tbest: 1633.7657293 (668)\ttotal: 22.2s\tremaining: 11s\n",
      "669:\tlearn: 1521.0221650\ttest: 1633.6417848\tbest: 1633.6417848 (669)\ttotal: 22.2s\tremaining: 10.9s\n",
      "670:\tlearn: 1520.8586012\ttest: 1633.5768080\tbest: 1633.5768080 (670)\ttotal: 22.2s\tremaining: 10.9s\n",
      "671:\tlearn: 1520.6305875\ttest: 1633.4413401\tbest: 1633.4413401 (671)\ttotal: 22.3s\tremaining: 10.9s\n",
      "672:\tlearn: 1520.4890701\ttest: 1633.3845409\tbest: 1633.3845409 (672)\ttotal: 22.3s\tremaining: 10.8s\n",
      "673:\tlearn: 1520.2262866\ttest: 1633.2271747\tbest: 1633.2271747 (673)\ttotal: 22.3s\tremaining: 10.8s\n",
      "674:\tlearn: 1520.0396772\ttest: 1633.1636248\tbest: 1633.1636248 (674)\ttotal: 22.4s\tremaining: 10.8s\n",
      "675:\tlearn: 1519.7434972\ttest: 1632.9549842\tbest: 1632.9549842 (675)\ttotal: 22.4s\tremaining: 10.7s\n",
      "676:\tlearn: 1519.5420622\ttest: 1632.8619144\tbest: 1632.8619144 (676)\ttotal: 22.4s\tremaining: 10.7s\n",
      "677:\tlearn: 1519.3285669\ttest: 1632.7734063\tbest: 1632.7734063 (677)\ttotal: 22.4s\tremaining: 10.7s\n",
      "678:\tlearn: 1519.0902124\ttest: 1632.6718851\tbest: 1632.6718851 (678)\ttotal: 22.5s\tremaining: 10.6s\n",
      "679:\tlearn: 1518.9220058\ttest: 1632.5877628\tbest: 1632.5877628 (679)\ttotal: 22.5s\tremaining: 10.6s\n",
      "680:\tlearn: 1518.6026309\ttest: 1632.4581368\tbest: 1632.4581368 (680)\ttotal: 22.5s\tremaining: 10.6s\n",
      "681:\tlearn: 1518.4765559\ttest: 1632.3999364\tbest: 1632.3999364 (681)\ttotal: 22.6s\tremaining: 10.5s\n",
      "682:\tlearn: 1518.3184866\ttest: 1632.3415082\tbest: 1632.3415082 (682)\ttotal: 22.6s\tremaining: 10.5s\n",
      "683:\tlearn: 1518.0800497\ttest: 1632.2116794\tbest: 1632.2116794 (683)\ttotal: 22.6s\tremaining: 10.5s\n",
      "684:\tlearn: 1517.8329250\ttest: 1632.0580596\tbest: 1632.0580596 (684)\ttotal: 22.7s\tremaining: 10.4s\n",
      "685:\tlearn: 1517.6262073\ttest: 1631.9534816\tbest: 1631.9534816 (685)\ttotal: 22.7s\tremaining: 10.4s\n",
      "686:\tlearn: 1517.3970421\ttest: 1631.8644368\tbest: 1631.8644368 (686)\ttotal: 22.7s\tremaining: 10.4s\n",
      "687:\tlearn: 1517.2963171\ttest: 1631.8203806\tbest: 1631.8203806 (687)\ttotal: 22.8s\tremaining: 10.3s\n",
      "688:\tlearn: 1517.1495915\ttest: 1631.7803325\tbest: 1631.7803325 (688)\ttotal: 22.8s\tremaining: 10.3s\n",
      "689:\tlearn: 1516.9131313\ttest: 1631.6621152\tbest: 1631.6621152 (689)\ttotal: 22.8s\tremaining: 10.3s\n",
      "690:\tlearn: 1516.4781184\ttest: 1631.4794278\tbest: 1631.4794278 (690)\ttotal: 22.9s\tremaining: 10.2s\n",
      "691:\tlearn: 1516.2663401\ttest: 1631.3535125\tbest: 1631.3535125 (691)\ttotal: 22.9s\tremaining: 10.2s\n",
      "692:\tlearn: 1515.8157295\ttest: 1631.1229595\tbest: 1631.1229595 (692)\ttotal: 22.9s\tremaining: 10.2s\n",
      "693:\tlearn: 1515.5740883\ttest: 1630.9145899\tbest: 1630.9145899 (693)\ttotal: 23s\tremaining: 10.1s\n",
      "694:\tlearn: 1515.2638952\ttest: 1630.8066667\tbest: 1630.8066667 (694)\ttotal: 23s\tremaining: 10.1s\n",
      "695:\tlearn: 1515.1235729\ttest: 1630.7527842\tbest: 1630.7527842 (695)\ttotal: 23s\tremaining: 10.1s\n",
      "696:\tlearn: 1514.8604868\ttest: 1630.6349112\tbest: 1630.6349112 (696)\ttotal: 23s\tremaining: 10s\n",
      "697:\tlearn: 1514.5567449\ttest: 1630.4148047\tbest: 1630.4148047 (697)\ttotal: 23.1s\tremaining: 9.98s\n",
      "698:\tlearn: 1514.4344661\ttest: 1630.3550143\tbest: 1630.3550143 (698)\ttotal: 23.1s\tremaining: 9.95s\n",
      "699:\tlearn: 1514.2770282\ttest: 1630.3126655\tbest: 1630.3126655 (699)\ttotal: 23.1s\tremaining: 9.92s\n",
      "700:\tlearn: 1513.9174819\ttest: 1630.1687493\tbest: 1630.1687493 (700)\ttotal: 23.2s\tremaining: 9.88s\n",
      "701:\tlearn: 1513.7338620\ttest: 1630.1014004\tbest: 1630.1014004 (701)\ttotal: 23.2s\tremaining: 9.85s\n",
      "702:\tlearn: 1513.5071355\ttest: 1629.9321797\tbest: 1629.9321797 (702)\ttotal: 23.2s\tremaining: 9.82s\n",
      "703:\tlearn: 1513.2914867\ttest: 1629.7948390\tbest: 1629.7948390 (703)\ttotal: 23.3s\tremaining: 9.78s\n",
      "704:\tlearn: 1513.1157190\ttest: 1629.7026023\tbest: 1629.7026023 (704)\ttotal: 23.3s\tremaining: 9.75s\n",
      "705:\tlearn: 1512.9733275\ttest: 1629.5895580\tbest: 1629.5895580 (705)\ttotal: 23.3s\tremaining: 9.71s\n",
      "706:\tlearn: 1512.7409504\ttest: 1629.4935054\tbest: 1629.4935054 (706)\ttotal: 23.4s\tremaining: 9.7s\n",
      "707:\tlearn: 1512.5163792\ttest: 1629.3618970\tbest: 1629.3618970 (707)\ttotal: 23.4s\tremaining: 9.67s\n",
      "708:\tlearn: 1512.1464703\ttest: 1629.1747143\tbest: 1629.1747143 (708)\ttotal: 23.5s\tremaining: 9.64s\n",
      "709:\tlearn: 1511.8998741\ttest: 1628.9666448\tbest: 1628.9666448 (709)\ttotal: 23.5s\tremaining: 9.61s\n",
      "710:\tlearn: 1511.7456017\ttest: 1628.8918186\tbest: 1628.8918186 (710)\ttotal: 23.6s\tremaining: 9.57s\n",
      "711:\tlearn: 1511.5524465\ttest: 1628.7890373\tbest: 1628.7890373 (711)\ttotal: 23.6s\tremaining: 9.54s\n",
      "712:\tlearn: 1511.2980130\ttest: 1628.6824869\tbest: 1628.6824869 (712)\ttotal: 23.6s\tremaining: 9.51s\n",
      "713:\tlearn: 1511.0554072\ttest: 1628.5748103\tbest: 1628.5748103 (713)\ttotal: 23.7s\tremaining: 9.47s\n",
      "714:\tlearn: 1510.7777214\ttest: 1628.4210176\tbest: 1628.4210176 (714)\ttotal: 23.7s\tremaining: 9.44s\n",
      "715:\tlearn: 1510.5961299\ttest: 1628.2959935\tbest: 1628.2959935 (715)\ttotal: 23.7s\tremaining: 9.41s\n",
      "716:\tlearn: 1510.4329951\ttest: 1628.1642964\tbest: 1628.1642964 (716)\ttotal: 23.7s\tremaining: 9.37s\n",
      "717:\tlearn: 1510.2775703\ttest: 1628.1128805\tbest: 1628.1128805 (717)\ttotal: 23.8s\tremaining: 9.34s\n",
      "718:\tlearn: 1510.1425399\ttest: 1628.0476499\tbest: 1628.0476499 (718)\ttotal: 23.8s\tremaining: 9.3s\n",
      "719:\tlearn: 1509.9752338\ttest: 1628.0217187\tbest: 1628.0217187 (719)\ttotal: 23.8s\tremaining: 9.27s\n",
      "720:\tlearn: 1509.7293528\ttest: 1627.9551800\tbest: 1627.9551800 (720)\ttotal: 23.9s\tremaining: 9.24s\n",
      "721:\tlearn: 1509.5381304\ttest: 1627.8426574\tbest: 1627.8426574 (721)\ttotal: 23.9s\tremaining: 9.2s\n",
      "722:\tlearn: 1509.3738333\ttest: 1627.7599218\tbest: 1627.7599218 (722)\ttotal: 23.9s\tremaining: 9.17s\n",
      "723:\tlearn: 1509.1095833\ttest: 1627.5573886\tbest: 1627.5573886 (723)\ttotal: 24s\tremaining: 9.13s\n",
      "724:\tlearn: 1508.8313349\ttest: 1627.3810263\tbest: 1627.3810263 (724)\ttotal: 24s\tremaining: 9.1s\n",
      "725:\tlearn: 1508.5094250\ttest: 1627.2484631\tbest: 1627.2484631 (725)\ttotal: 24s\tremaining: 9.07s\n",
      "726:\tlearn: 1508.2954021\ttest: 1627.1662802\tbest: 1627.1662802 (726)\ttotal: 24.1s\tremaining: 9.04s\n",
      "727:\tlearn: 1507.8945546\ttest: 1626.9501649\tbest: 1626.9501649 (727)\ttotal: 24.1s\tremaining: 9s\n",
      "728:\tlearn: 1507.6884743\ttest: 1626.8135467\tbest: 1626.8135467 (728)\ttotal: 24.1s\tremaining: 8.97s\n",
      "729:\tlearn: 1507.5208207\ttest: 1626.7417975\tbest: 1626.7417975 (729)\ttotal: 24.2s\tremaining: 8.93s\n",
      "730:\tlearn: 1507.3837575\ttest: 1626.6899905\tbest: 1626.6899905 (730)\ttotal: 24.2s\tremaining: 8.9s\n",
      "731:\tlearn: 1507.2408376\ttest: 1626.6293699\tbest: 1626.6293699 (731)\ttotal: 24.2s\tremaining: 8.87s\n",
      "732:\tlearn: 1507.0451944\ttest: 1626.5326761\tbest: 1626.5326761 (732)\ttotal: 24.2s\tremaining: 8.83s\n",
      "733:\tlearn: 1506.7765435\ttest: 1626.3726442\tbest: 1626.3726442 (733)\ttotal: 24.3s\tremaining: 8.8s\n",
      "734:\tlearn: 1506.6561196\ttest: 1626.3651857\tbest: 1626.3651857 (734)\ttotal: 24.3s\tremaining: 8.76s\n",
      "735:\tlearn: 1506.4697209\ttest: 1626.2251680\tbest: 1626.2251680 (735)\ttotal: 24.3s\tremaining: 8.73s\n",
      "736:\tlearn: 1506.2616975\ttest: 1626.1445173\tbest: 1626.1445173 (736)\ttotal: 24.4s\tremaining: 8.7s\n",
      "737:\tlearn: 1506.0479827\ttest: 1626.0360049\tbest: 1626.0360049 (737)\ttotal: 24.4s\tremaining: 8.66s\n",
      "738:\tlearn: 1505.8550563\ttest: 1625.9775279\tbest: 1625.9775279 (738)\ttotal: 24.4s\tremaining: 8.63s\n",
      "739:\tlearn: 1505.5626968\ttest: 1625.9162906\tbest: 1625.9162906 (739)\ttotal: 24.5s\tremaining: 8.6s\n",
      "740:\tlearn: 1505.4068081\ttest: 1625.8681819\tbest: 1625.8681819 (740)\ttotal: 24.5s\tremaining: 8.56s\n",
      "741:\tlearn: 1505.0713884\ttest: 1625.7078194\tbest: 1625.7078194 (741)\ttotal: 24.5s\tremaining: 8.53s\n",
      "742:\tlearn: 1504.9235509\ttest: 1625.6540622\tbest: 1625.6540622 (742)\ttotal: 24.6s\tremaining: 8.5s\n",
      "743:\tlearn: 1504.7550783\ttest: 1625.5638145\tbest: 1625.5638145 (743)\ttotal: 24.6s\tremaining: 8.46s\n",
      "744:\tlearn: 1504.5511217\ttest: 1625.4323590\tbest: 1625.4323590 (744)\ttotal: 24.6s\tremaining: 8.43s\n",
      "745:\tlearn: 1504.4338416\ttest: 1625.3902275\tbest: 1625.3902275 (745)\ttotal: 24.7s\tremaining: 8.39s\n",
      "746:\tlearn: 1504.2632385\ttest: 1625.3153552\tbest: 1625.3153552 (746)\ttotal: 24.7s\tremaining: 8.37s\n",
      "747:\tlearn: 1504.0098414\ttest: 1625.1762905\tbest: 1625.1762905 (747)\ttotal: 24.8s\tremaining: 8.35s\n",
      "748:\tlearn: 1503.8362195\ttest: 1625.0512188\tbest: 1625.0512188 (748)\ttotal: 24.8s\tremaining: 8.32s\n",
      "749:\tlearn: 1503.5938470\ttest: 1624.9710843\tbest: 1624.9710843 (749)\ttotal: 24.9s\tremaining: 8.29s\n",
      "750:\tlearn: 1503.3941441\ttest: 1624.8761385\tbest: 1624.8761385 (750)\ttotal: 24.9s\tremaining: 8.25s\n",
      "751:\tlearn: 1503.1704784\ttest: 1624.7909010\tbest: 1624.7909010 (751)\ttotal: 24.9s\tremaining: 8.22s\n",
      "752:\tlearn: 1503.0432107\ttest: 1624.7707643\tbest: 1624.7707643 (752)\ttotal: 25s\tremaining: 8.19s\n",
      "753:\tlearn: 1502.8288546\ttest: 1624.6853901\tbest: 1624.6853901 (753)\ttotal: 25s\tremaining: 8.15s\n",
      "754:\tlearn: 1502.5631505\ttest: 1624.5361287\tbest: 1624.5361287 (754)\ttotal: 25s\tremaining: 8.12s\n",
      "755:\tlearn: 1502.3743021\ttest: 1624.4794475\tbest: 1624.4794475 (755)\ttotal: 25.1s\tremaining: 8.09s\n",
      "756:\tlearn: 1502.2083669\ttest: 1624.3656273\tbest: 1624.3656273 (756)\ttotal: 25.1s\tremaining: 8.05s\n",
      "757:\tlearn: 1501.9619406\ttest: 1624.1322632\tbest: 1624.1322632 (757)\ttotal: 25.1s\tremaining: 8.02s\n",
      "758:\tlearn: 1501.7734572\ttest: 1624.0907632\tbest: 1624.0907632 (758)\ttotal: 25.1s\tremaining: 7.99s\n",
      "759:\tlearn: 1501.6470213\ttest: 1624.0449528\tbest: 1624.0449528 (759)\ttotal: 25.2s\tremaining: 7.95s\n",
      "760:\tlearn: 1501.3542064\ttest: 1623.9116382\tbest: 1623.9116382 (760)\ttotal: 25.2s\tremaining: 7.92s\n",
      "761:\tlearn: 1501.2266935\ttest: 1623.8468136\tbest: 1623.8468136 (761)\ttotal: 25.2s\tremaining: 7.88s\n",
      "762:\tlearn: 1501.0403070\ttest: 1623.7154298\tbest: 1623.7154298 (762)\ttotal: 25.3s\tremaining: 7.85s\n",
      "763:\tlearn: 1500.8087753\ttest: 1623.6507362\tbest: 1623.6507362 (763)\ttotal: 25.3s\tremaining: 7.82s\n",
      "764:\tlearn: 1500.6677067\ttest: 1623.5593251\tbest: 1623.5593251 (764)\ttotal: 25.3s\tremaining: 7.78s\n",
      "765:\tlearn: 1500.4180864\ttest: 1623.4423457\tbest: 1623.4423457 (765)\ttotal: 25.4s\tremaining: 7.75s\n",
      "766:\tlearn: 1500.2644443\ttest: 1623.3573555\tbest: 1623.3573555 (766)\ttotal: 25.4s\tremaining: 7.72s\n",
      "767:\tlearn: 1500.0909593\ttest: 1623.2673438\tbest: 1623.2673438 (767)\ttotal: 25.4s\tremaining: 7.68s\n",
      "768:\tlearn: 1499.9025249\ttest: 1623.1619340\tbest: 1623.1619340 (768)\ttotal: 25.5s\tremaining: 7.65s\n",
      "769:\tlearn: 1499.7297862\ttest: 1623.0930524\tbest: 1623.0930524 (769)\ttotal: 25.5s\tremaining: 7.61s\n",
      "770:\tlearn: 1499.4280528\ttest: 1622.9590641\tbest: 1622.9590641 (770)\ttotal: 25.5s\tremaining: 7.58s\n",
      "771:\tlearn: 1499.2880816\ttest: 1622.8846004\tbest: 1622.8846004 (771)\ttotal: 25.6s\tremaining: 7.55s\n",
      "772:\tlearn: 1499.1081874\ttest: 1622.7999488\tbest: 1622.7999488 (772)\ttotal: 25.6s\tremaining: 7.51s\n",
      "773:\tlearn: 1498.9121896\ttest: 1622.6683740\tbest: 1622.6683740 (773)\ttotal: 25.6s\tremaining: 7.48s\n",
      "774:\tlearn: 1498.7795640\ttest: 1622.6270548\tbest: 1622.6270548 (774)\ttotal: 25.6s\tremaining: 7.45s\n",
      "775:\tlearn: 1498.5522179\ttest: 1622.5576543\tbest: 1622.5576543 (775)\ttotal: 25.7s\tremaining: 7.41s\n",
      "776:\tlearn: 1498.3775791\ttest: 1622.4336690\tbest: 1622.4336690 (776)\ttotal: 25.7s\tremaining: 7.38s\n",
      "777:\tlearn: 1498.2283581\ttest: 1622.3649607\tbest: 1622.3649607 (777)\ttotal: 25.7s\tremaining: 7.34s\n",
      "778:\tlearn: 1497.9204061\ttest: 1622.2737846\tbest: 1622.2737846 (778)\ttotal: 25.8s\tremaining: 7.31s\n",
      "779:\tlearn: 1497.6833298\ttest: 1622.1471406\tbest: 1622.1471406 (779)\ttotal: 25.8s\tremaining: 7.28s\n",
      "780:\tlearn: 1497.4815406\ttest: 1622.0207791\tbest: 1622.0207791 (780)\ttotal: 25.8s\tremaining: 7.24s\n",
      "781:\tlearn: 1497.2232029\ttest: 1621.9003971\tbest: 1621.9003971 (781)\ttotal: 25.9s\tremaining: 7.21s\n",
      "782:\tlearn: 1497.0721072\ttest: 1621.8003652\tbest: 1621.8003652 (782)\ttotal: 25.9s\tremaining: 7.17s\n",
      "783:\tlearn: 1496.9542210\ttest: 1621.7423191\tbest: 1621.7423191 (783)\ttotal: 25.9s\tremaining: 7.14s\n",
      "784:\tlearn: 1496.7675330\ttest: 1621.6631710\tbest: 1621.6631710 (784)\ttotal: 26s\tremaining: 7.11s\n",
      "785:\tlearn: 1496.5525352\ttest: 1621.6023527\tbest: 1621.6023527 (785)\ttotal: 26s\tremaining: 7.08s\n",
      "786:\tlearn: 1496.3363887\ttest: 1621.5152748\tbest: 1621.5152748 (786)\ttotal: 26s\tremaining: 7.05s\n",
      "787:\tlearn: 1496.0830962\ttest: 1621.3472872\tbest: 1621.3472872 (787)\ttotal: 26.1s\tremaining: 7.02s\n",
      "788:\tlearn: 1495.9443496\ttest: 1621.2673787\tbest: 1621.2673787 (788)\ttotal: 26.1s\tremaining: 6.99s\n",
      "789:\tlearn: 1495.7550656\ttest: 1621.1757492\tbest: 1621.1757492 (789)\ttotal: 26.2s\tremaining: 6.96s\n",
      "790:\tlearn: 1495.6430028\ttest: 1621.1590029\tbest: 1621.1590029 (790)\ttotal: 26.2s\tremaining: 6.93s\n",
      "791:\tlearn: 1495.4209759\ttest: 1621.1052467\tbest: 1621.1052467 (791)\ttotal: 26.3s\tremaining: 6.89s\n",
      "792:\tlearn: 1495.2083379\ttest: 1621.0043993\tbest: 1621.0043993 (792)\ttotal: 26.3s\tremaining: 6.86s\n",
      "793:\tlearn: 1495.0966660\ttest: 1620.9343624\tbest: 1620.9343624 (793)\ttotal: 26.3s\tremaining: 6.83s\n",
      "794:\tlearn: 1494.8567944\ttest: 1620.8952223\tbest: 1620.8952223 (794)\ttotal: 26.4s\tremaining: 6.8s\n",
      "795:\tlearn: 1494.5128558\ttest: 1620.7344885\tbest: 1620.7344885 (795)\ttotal: 26.4s\tremaining: 6.76s\n",
      "796:\tlearn: 1494.3758792\ttest: 1620.6638316\tbest: 1620.6638316 (796)\ttotal: 26.4s\tremaining: 6.73s\n",
      "797:\tlearn: 1494.2060824\ttest: 1620.5650662\tbest: 1620.5650662 (797)\ttotal: 26.5s\tremaining: 6.7s\n",
      "798:\tlearn: 1494.0010946\ttest: 1620.4665528\tbest: 1620.4665528 (798)\ttotal: 26.5s\tremaining: 6.67s\n",
      "799:\tlearn: 1493.7898099\ttest: 1620.4192781\tbest: 1620.4192781 (799)\ttotal: 26.5s\tremaining: 6.63s\n",
      "800:\tlearn: 1493.6251659\ttest: 1620.3223963\tbest: 1620.3223963 (800)\ttotal: 26.6s\tremaining: 6.6s\n",
      "801:\tlearn: 1493.3430919\ttest: 1620.2017706\tbest: 1620.2017706 (801)\ttotal: 26.6s\tremaining: 6.57s\n",
      "802:\tlearn: 1493.1332559\ttest: 1620.1574120\tbest: 1620.1574120 (802)\ttotal: 26.6s\tremaining: 6.54s\n",
      "803:\tlearn: 1492.9817286\ttest: 1620.0674683\tbest: 1620.0674683 (803)\ttotal: 26.7s\tremaining: 6.5s\n",
      "804:\tlearn: 1492.8450043\ttest: 1620.0058446\tbest: 1620.0058446 (804)\ttotal: 26.7s\tremaining: 6.47s\n",
      "805:\tlearn: 1492.6694054\ttest: 1619.8713614\tbest: 1619.8713614 (805)\ttotal: 26.7s\tremaining: 6.43s\n",
      "806:\tlearn: 1492.4194810\ttest: 1619.7343588\tbest: 1619.7343588 (806)\ttotal: 26.8s\tremaining: 6.4s\n",
      "807:\tlearn: 1492.2471450\ttest: 1619.6140421\tbest: 1619.6140421 (807)\ttotal: 26.8s\tremaining: 6.37s\n",
      "808:\tlearn: 1492.0823451\ttest: 1619.5155905\tbest: 1619.5155905 (808)\ttotal: 26.8s\tremaining: 6.33s\n",
      "809:\tlearn: 1491.8744666\ttest: 1619.4535262\tbest: 1619.4535262 (809)\ttotal: 26.9s\tremaining: 6.3s\n",
      "810:\tlearn: 1491.6961368\ttest: 1619.3943635\tbest: 1619.3943635 (810)\ttotal: 26.9s\tremaining: 6.27s\n",
      "811:\tlearn: 1491.3516924\ttest: 1619.2394520\tbest: 1619.2394520 (811)\ttotal: 26.9s\tremaining: 6.23s\n",
      "812:\tlearn: 1491.2402000\ttest: 1619.2316862\tbest: 1619.2316862 (812)\ttotal: 27s\tremaining: 6.2s\n",
      "813:\tlearn: 1491.0597631\ttest: 1619.0847983\tbest: 1619.0847983 (813)\ttotal: 27s\tremaining: 6.17s\n",
      "814:\tlearn: 1490.8863370\ttest: 1618.9953214\tbest: 1618.9953214 (814)\ttotal: 27s\tremaining: 6.13s\n",
      "815:\tlearn: 1490.7277303\ttest: 1618.8840125\tbest: 1618.8840125 (815)\ttotal: 27.1s\tremaining: 6.1s\n",
      "816:\tlearn: 1490.5330548\ttest: 1618.8469356\tbest: 1618.8469356 (816)\ttotal: 27.1s\tremaining: 6.07s\n",
      "817:\tlearn: 1490.1579072\ttest: 1618.7167671\tbest: 1618.7167671 (817)\ttotal: 27.1s\tremaining: 6.04s\n",
      "818:\tlearn: 1490.0225891\ttest: 1618.6576692\tbest: 1618.6576692 (818)\ttotal: 27.2s\tremaining: 6s\n",
      "819:\tlearn: 1489.9230413\ttest: 1618.6534113\tbest: 1618.6534113 (819)\ttotal: 27.2s\tremaining: 5.97s\n",
      "820:\tlearn: 1489.6858033\ttest: 1618.5250800\tbest: 1618.5250800 (820)\ttotal: 27.3s\tremaining: 5.94s\n",
      "821:\tlearn: 1489.4186492\ttest: 1618.4480744\tbest: 1618.4480744 (821)\ttotal: 27.3s\tremaining: 5.91s\n",
      "822:\tlearn: 1489.2664005\ttest: 1618.3842135\tbest: 1618.3842135 (822)\ttotal: 27.3s\tremaining: 5.88s\n",
      "823:\tlearn: 1489.1594051\ttest: 1618.3711557\tbest: 1618.3711557 (823)\ttotal: 27.4s\tremaining: 5.84s\n",
      "824:\tlearn: 1488.8520906\ttest: 1618.2538493\tbest: 1618.2538493 (824)\ttotal: 27.4s\tremaining: 5.82s\n",
      "825:\tlearn: 1488.6888560\ttest: 1618.1733997\tbest: 1618.1733997 (825)\ttotal: 27.5s\tremaining: 5.79s\n",
      "826:\tlearn: 1488.5036720\ttest: 1618.1167522\tbest: 1618.1167522 (826)\ttotal: 27.5s\tremaining: 5.76s\n",
      "827:\tlearn: 1488.3802248\ttest: 1618.1004078\tbest: 1618.1004078 (827)\ttotal: 27.6s\tremaining: 5.73s\n",
      "828:\tlearn: 1488.1980478\ttest: 1618.0391422\tbest: 1618.0391422 (828)\ttotal: 27.6s\tremaining: 5.7s\n",
      "829:\tlearn: 1487.9841695\ttest: 1617.9299341\tbest: 1617.9299341 (829)\ttotal: 27.7s\tremaining: 5.67s\n",
      "830:\tlearn: 1487.6183648\ttest: 1617.8215649\tbest: 1617.8215649 (830)\ttotal: 27.7s\tremaining: 5.63s\n",
      "831:\tlearn: 1487.5274685\ttest: 1617.7749391\tbest: 1617.7749391 (831)\ttotal: 27.7s\tremaining: 5.6s\n",
      "832:\tlearn: 1487.3356739\ttest: 1617.6365442\tbest: 1617.6365442 (832)\ttotal: 27.8s\tremaining: 5.57s\n",
      "833:\tlearn: 1487.1633331\ttest: 1617.5580355\tbest: 1617.5580355 (833)\ttotal: 27.8s\tremaining: 5.54s\n",
      "834:\tlearn: 1487.0023220\ttest: 1617.5046993\tbest: 1617.5046993 (834)\ttotal: 27.9s\tremaining: 5.5s\n",
      "835:\tlearn: 1486.6827216\ttest: 1617.4268073\tbest: 1617.4268073 (835)\ttotal: 27.9s\tremaining: 5.47s\n",
      "836:\tlearn: 1486.4435177\ttest: 1617.3556350\tbest: 1617.3556350 (836)\ttotal: 27.9s\tremaining: 5.44s\n",
      "837:\tlearn: 1486.2420068\ttest: 1617.2628121\tbest: 1617.2628121 (837)\ttotal: 28s\tremaining: 5.41s\n",
      "838:\tlearn: 1485.9691609\ttest: 1617.1379781\tbest: 1617.1379781 (838)\ttotal: 28s\tremaining: 5.38s\n",
      "839:\tlearn: 1485.7693601\ttest: 1617.0170633\tbest: 1617.0170633 (839)\ttotal: 28.1s\tremaining: 5.34s\n",
      "840:\tlearn: 1485.6702396\ttest: 1616.9928884\tbest: 1616.9928884 (840)\ttotal: 28.1s\tremaining: 5.31s\n",
      "841:\tlearn: 1485.4046091\ttest: 1616.8842001\tbest: 1616.8842001 (841)\ttotal: 28.1s\tremaining: 5.28s\n",
      "842:\tlearn: 1485.1769441\ttest: 1616.8287925\tbest: 1616.8287925 (842)\ttotal: 28.2s\tremaining: 5.25s\n",
      "843:\tlearn: 1485.0530912\ttest: 1616.7767494\tbest: 1616.7767494 (843)\ttotal: 28.2s\tremaining: 5.21s\n",
      "844:\tlearn: 1484.7605463\ttest: 1616.6862070\tbest: 1616.6862070 (844)\ttotal: 28.2s\tremaining: 5.18s\n",
      "845:\tlearn: 1484.5709851\ttest: 1616.6561363\tbest: 1616.6561363 (845)\ttotal: 28.3s\tremaining: 5.15s\n",
      "846:\tlearn: 1484.4125483\ttest: 1616.6288076\tbest: 1616.6288076 (846)\ttotal: 28.3s\tremaining: 5.11s\n",
      "847:\tlearn: 1484.2124964\ttest: 1616.5932271\tbest: 1616.5932271 (847)\ttotal: 28.4s\tremaining: 5.08s\n",
      "848:\tlearn: 1484.0468778\ttest: 1616.5355889\tbest: 1616.5355889 (848)\ttotal: 28.4s\tremaining: 5.05s\n",
      "849:\tlearn: 1483.9011144\ttest: 1616.4969801\tbest: 1616.4969801 (849)\ttotal: 28.4s\tremaining: 5.02s\n",
      "850:\tlearn: 1483.7706279\ttest: 1616.3780826\tbest: 1616.3780826 (850)\ttotal: 28.5s\tremaining: 4.98s\n",
      "851:\tlearn: 1483.6324000\ttest: 1616.3039170\tbest: 1616.3039170 (851)\ttotal: 28.5s\tremaining: 4.95s\n",
      "852:\tlearn: 1483.4135984\ttest: 1616.2423330\tbest: 1616.2423330 (852)\ttotal: 28.5s\tremaining: 4.92s\n",
      "853:\tlearn: 1483.3031657\ttest: 1616.1868420\tbest: 1616.1868420 (853)\ttotal: 28.6s\tremaining: 4.88s\n",
      "854:\tlearn: 1483.0914903\ttest: 1616.1394517\tbest: 1616.1394517 (854)\ttotal: 28.6s\tremaining: 4.85s\n",
      "855:\tlearn: 1482.8745728\ttest: 1615.9839475\tbest: 1615.9839475 (855)\ttotal: 28.6s\tremaining: 4.82s\n",
      "856:\tlearn: 1482.6864814\ttest: 1615.9538452\tbest: 1615.9538452 (856)\ttotal: 28.7s\tremaining: 4.78s\n",
      "857:\tlearn: 1482.5799577\ttest: 1615.9259879\tbest: 1615.9259879 (857)\ttotal: 28.7s\tremaining: 4.75s\n",
      "858:\tlearn: 1482.4036760\ttest: 1615.8309386\tbest: 1615.8309386 (858)\ttotal: 28.7s\tremaining: 4.72s\n",
      "859:\tlearn: 1482.2462223\ttest: 1615.7242374\tbest: 1615.7242374 (859)\ttotal: 28.8s\tremaining: 4.68s\n",
      "860:\tlearn: 1482.0857319\ttest: 1615.6710248\tbest: 1615.6710248 (860)\ttotal: 28.8s\tremaining: 4.65s\n",
      "861:\tlearn: 1481.9127006\ttest: 1615.5874297\tbest: 1615.5874297 (861)\ttotal: 28.8s\tremaining: 4.62s\n",
      "862:\tlearn: 1481.7382870\ttest: 1615.5074133\tbest: 1615.5074133 (862)\ttotal: 28.9s\tremaining: 4.58s\n",
      "863:\tlearn: 1481.5258050\ttest: 1615.3905244\tbest: 1615.3905244 (863)\ttotal: 28.9s\tremaining: 4.55s\n",
      "864:\tlearn: 1481.3469223\ttest: 1615.3135648\tbest: 1615.3135648 (864)\ttotal: 28.9s\tremaining: 4.51s\n",
      "865:\tlearn: 1481.1973224\ttest: 1615.2919380\tbest: 1615.2919380 (865)\ttotal: 29s\tremaining: 4.48s\n",
      "866:\tlearn: 1481.0288065\ttest: 1615.2424060\tbest: 1615.2424060 (866)\ttotal: 29s\tremaining: 4.45s\n",
      "867:\tlearn: 1480.9258582\ttest: 1615.2506523\tbest: 1615.2424060 (866)\ttotal: 29.1s\tremaining: 4.42s\n",
      "868:\tlearn: 1480.7793825\ttest: 1615.1327755\tbest: 1615.1327755 (868)\ttotal: 29.1s\tremaining: 4.39s\n",
      "869:\tlearn: 1480.6059112\ttest: 1615.0761891\tbest: 1615.0761891 (869)\ttotal: 29.2s\tremaining: 4.36s\n",
      "870:\tlearn: 1480.4766284\ttest: 1615.0101980\tbest: 1615.0101980 (870)\ttotal: 29.2s\tremaining: 4.32s\n",
      "871:\tlearn: 1480.2672181\ttest: 1614.9721097\tbest: 1614.9721097 (871)\ttotal: 29.2s\tremaining: 4.29s\n",
      "872:\tlearn: 1480.0943477\ttest: 1614.8609960\tbest: 1614.8609960 (872)\ttotal: 29.3s\tremaining: 4.26s\n",
      "873:\tlearn: 1479.9614363\ttest: 1614.7916196\tbest: 1614.7916196 (873)\ttotal: 29.3s\tremaining: 4.22s\n",
      "874:\tlearn: 1479.7624461\ttest: 1614.7635135\tbest: 1614.7635135 (874)\ttotal: 29.3s\tremaining: 4.19s\n",
      "875:\tlearn: 1479.5814772\ttest: 1614.6533429\tbest: 1614.6533429 (875)\ttotal: 29.4s\tremaining: 4.16s\n",
      "876:\tlearn: 1479.3993240\ttest: 1614.5457933\tbest: 1614.5457933 (876)\ttotal: 29.4s\tremaining: 4.12s\n",
      "877:\tlearn: 1479.2435281\ttest: 1614.4584957\tbest: 1614.4584957 (877)\ttotal: 29.4s\tremaining: 4.09s\n",
      "878:\tlearn: 1479.0185266\ttest: 1614.3877369\tbest: 1614.3877369 (878)\ttotal: 29.5s\tremaining: 4.06s\n",
      "879:\tlearn: 1478.6965080\ttest: 1614.2170828\tbest: 1614.2170828 (879)\ttotal: 29.5s\tremaining: 4.03s\n",
      "880:\tlearn: 1478.5579405\ttest: 1614.1404532\tbest: 1614.1404532 (880)\ttotal: 29.6s\tremaining: 3.99s\n",
      "881:\tlearn: 1478.4243934\ttest: 1614.0755435\tbest: 1614.0755435 (881)\ttotal: 29.6s\tremaining: 3.96s\n",
      "882:\tlearn: 1478.2881976\ttest: 1613.9962829\tbest: 1613.9962829 (882)\ttotal: 29.6s\tremaining: 3.92s\n",
      "883:\tlearn: 1478.2118239\ttest: 1613.9815368\tbest: 1613.9815368 (883)\ttotal: 29.7s\tremaining: 3.9s\n",
      "884:\tlearn: 1478.0256158\ttest: 1613.8879066\tbest: 1613.8879066 (884)\ttotal: 29.8s\tremaining: 3.87s\n",
      "885:\tlearn: 1477.7857291\ttest: 1613.8144738\tbest: 1613.8144738 (885)\ttotal: 29.8s\tremaining: 3.84s\n",
      "886:\tlearn: 1477.6376954\ttest: 1613.7785821\tbest: 1613.7785821 (886)\ttotal: 29.9s\tremaining: 3.81s\n",
      "887:\tlearn: 1477.4677081\ttest: 1613.6638993\tbest: 1613.6638993 (887)\ttotal: 29.9s\tremaining: 3.78s\n",
      "888:\tlearn: 1477.2075068\ttest: 1613.6042037\tbest: 1613.6042037 (888)\ttotal: 30s\tremaining: 3.74s\n",
      "889:\tlearn: 1477.0092902\ttest: 1613.5146008\tbest: 1613.5146008 (889)\ttotal: 30s\tremaining: 3.71s\n",
      "890:\tlearn: 1476.8740081\ttest: 1613.4758875\tbest: 1613.4758875 (890)\ttotal: 30.1s\tremaining: 3.68s\n",
      "891:\tlearn: 1476.6231075\ttest: 1613.3991671\tbest: 1613.3991671 (891)\ttotal: 30.1s\tremaining: 3.64s\n",
      "892:\tlearn: 1476.4817402\ttest: 1613.3469071\tbest: 1613.3469071 (892)\ttotal: 30.1s\tremaining: 3.61s\n",
      "893:\tlearn: 1476.2814659\ttest: 1613.2511712\tbest: 1613.2511712 (893)\ttotal: 30.2s\tremaining: 3.58s\n",
      "894:\tlearn: 1476.1742949\ttest: 1613.2424470\tbest: 1613.2424470 (894)\ttotal: 30.2s\tremaining: 3.54s\n",
      "895:\tlearn: 1475.9210288\ttest: 1613.1231510\tbest: 1613.1231510 (895)\ttotal: 30.2s\tremaining: 3.51s\n",
      "896:\tlearn: 1475.8263921\ttest: 1613.1023400\tbest: 1613.1023400 (896)\ttotal: 30.3s\tremaining: 3.48s\n",
      "897:\tlearn: 1475.5564443\ttest: 1612.9477059\tbest: 1612.9477059 (897)\ttotal: 30.3s\tremaining: 3.44s\n",
      "898:\tlearn: 1475.3194226\ttest: 1612.8548062\tbest: 1612.8548062 (898)\ttotal: 30.3s\tremaining: 3.41s\n",
      "899:\tlearn: 1475.1051612\ttest: 1612.7513126\tbest: 1612.7513126 (899)\ttotal: 30.4s\tremaining: 3.38s\n",
      "900:\tlearn: 1474.8810356\ttest: 1612.6942795\tbest: 1612.6942795 (900)\ttotal: 30.4s\tremaining: 3.34s\n",
      "901:\tlearn: 1474.7318472\ttest: 1612.6120642\tbest: 1612.6120642 (901)\ttotal: 30.4s\tremaining: 3.31s\n",
      "902:\tlearn: 1474.5702725\ttest: 1612.5268666\tbest: 1612.5268666 (902)\ttotal: 30.5s\tremaining: 3.27s\n",
      "903:\tlearn: 1474.3461685\ttest: 1612.4463734\tbest: 1612.4463734 (903)\ttotal: 30.5s\tremaining: 3.24s\n",
      "904:\tlearn: 1474.2364116\ttest: 1612.4349898\tbest: 1612.4349898 (904)\ttotal: 30.6s\tremaining: 3.21s\n",
      "905:\tlearn: 1474.1083529\ttest: 1612.4163754\tbest: 1612.4163754 (905)\ttotal: 30.7s\tremaining: 3.18s\n",
      "906:\tlearn: 1473.9565821\ttest: 1612.3656500\tbest: 1612.3656500 (906)\ttotal: 30.7s\tremaining: 3.15s\n",
      "907:\tlearn: 1473.7871660\ttest: 1612.3010829\tbest: 1612.3010829 (907)\ttotal: 30.7s\tremaining: 3.11s\n",
      "908:\tlearn: 1473.6402289\ttest: 1612.2126711\tbest: 1612.2126711 (908)\ttotal: 30.8s\tremaining: 3.08s\n",
      "909:\tlearn: 1473.4163330\ttest: 1612.1426861\tbest: 1612.1426861 (909)\ttotal: 30.8s\tremaining: 3.05s\n",
      "910:\tlearn: 1473.2022489\ttest: 1612.0537669\tbest: 1612.0537669 (910)\ttotal: 30.8s\tremaining: 3.01s\n",
      "911:\tlearn: 1473.0512364\ttest: 1611.9590130\tbest: 1611.9590130 (911)\ttotal: 30.9s\tremaining: 2.98s\n",
      "912:\tlearn: 1472.9359204\ttest: 1611.9269335\tbest: 1611.9269335 (912)\ttotal: 30.9s\tremaining: 2.95s\n",
      "913:\tlearn: 1472.6824170\ttest: 1611.7844029\tbest: 1611.7844029 (913)\ttotal: 31s\tremaining: 2.91s\n",
      "914:\tlearn: 1472.5356405\ttest: 1611.7196330\tbest: 1611.7196330 (914)\ttotal: 31s\tremaining: 2.88s\n",
      "915:\tlearn: 1472.3968059\ttest: 1611.6639213\tbest: 1611.6639213 (915)\ttotal: 31s\tremaining: 2.85s\n",
      "916:\tlearn: 1472.1730655\ttest: 1611.5390113\tbest: 1611.5390113 (916)\ttotal: 31.1s\tremaining: 2.81s\n",
      "917:\tlearn: 1471.9573552\ttest: 1611.4830606\tbest: 1611.4830606 (917)\ttotal: 31.1s\tremaining: 2.78s\n",
      "918:\tlearn: 1471.8469730\ttest: 1611.3938381\tbest: 1611.3938381 (918)\ttotal: 31.1s\tremaining: 2.75s\n",
      "919:\tlearn: 1471.6095988\ttest: 1611.3030566\tbest: 1611.3030566 (919)\ttotal: 31.2s\tremaining: 2.71s\n",
      "920:\tlearn: 1471.5067721\ttest: 1611.3041046\tbest: 1611.3030566 (919)\ttotal: 31.2s\tremaining: 2.68s\n",
      "921:\tlearn: 1471.3192426\ttest: 1611.2605405\tbest: 1611.2605405 (921)\ttotal: 31.3s\tremaining: 2.64s\n",
      "922:\tlearn: 1471.1763555\ttest: 1611.1719496\tbest: 1611.1719496 (922)\ttotal: 31.3s\tremaining: 2.61s\n",
      "923:\tlearn: 1470.9926202\ttest: 1611.0901518\tbest: 1611.0901518 (923)\ttotal: 31.3s\tremaining: 2.58s\n",
      "924:\tlearn: 1470.7520580\ttest: 1610.9968440\tbest: 1610.9968440 (924)\ttotal: 31.4s\tremaining: 2.54s\n",
      "925:\tlearn: 1470.6449702\ttest: 1610.9669231\tbest: 1610.9669231 (925)\ttotal: 31.4s\tremaining: 2.51s\n",
      "926:\tlearn: 1470.5085812\ttest: 1610.9266943\tbest: 1610.9266943 (926)\ttotal: 31.4s\tremaining: 2.48s\n",
      "927:\tlearn: 1470.2862600\ttest: 1610.7501785\tbest: 1610.7501785 (927)\ttotal: 31.5s\tremaining: 2.44s\n",
      "928:\tlearn: 1470.1291865\ttest: 1610.6866866\tbest: 1610.6866866 (928)\ttotal: 31.5s\tremaining: 2.41s\n",
      "929:\tlearn: 1469.8819287\ttest: 1610.5667589\tbest: 1610.5667589 (929)\ttotal: 31.5s\tremaining: 2.37s\n",
      "930:\tlearn: 1469.5739982\ttest: 1610.4127879\tbest: 1610.4127879 (930)\ttotal: 31.6s\tremaining: 2.34s\n",
      "931:\tlearn: 1469.4548777\ttest: 1610.3827749\tbest: 1610.3827749 (931)\ttotal: 31.6s\tremaining: 2.31s\n",
      "932:\tlearn: 1469.3517746\ttest: 1610.3406818\tbest: 1610.3406818 (932)\ttotal: 31.7s\tremaining: 2.27s\n",
      "933:\tlearn: 1469.1929965\ttest: 1610.2169250\tbest: 1610.2169250 (933)\ttotal: 31.7s\tremaining: 2.24s\n",
      "934:\tlearn: 1469.0709581\ttest: 1610.1436362\tbest: 1610.1436362 (934)\ttotal: 31.7s\tremaining: 2.21s\n",
      "935:\tlearn: 1468.9595162\ttest: 1610.1427197\tbest: 1610.1427197 (935)\ttotal: 31.8s\tremaining: 2.17s\n",
      "936:\tlearn: 1468.7984428\ttest: 1610.0905519\tbest: 1610.0905519 (936)\ttotal: 31.8s\tremaining: 2.14s\n",
      "937:\tlearn: 1468.7056937\ttest: 1610.0535345\tbest: 1610.0535345 (937)\ttotal: 31.8s\tremaining: 2.1s\n",
      "938:\tlearn: 1468.5942511\ttest: 1610.0014526\tbest: 1610.0014526 (938)\ttotal: 31.9s\tremaining: 2.07s\n",
      "939:\tlearn: 1468.4740335\ttest: 1609.9324218\tbest: 1609.9324218 (939)\ttotal: 31.9s\tremaining: 2.04s\n",
      "940:\tlearn: 1468.3207691\ttest: 1609.8448439\tbest: 1609.8448439 (940)\ttotal: 31.9s\tremaining: 2s\n",
      "941:\tlearn: 1468.1823334\ttest: 1609.7746860\tbest: 1609.7746860 (941)\ttotal: 32s\tremaining: 1.97s\n",
      "942:\tlearn: 1468.0277307\ttest: 1609.7305729\tbest: 1609.7305729 (942)\ttotal: 32s\tremaining: 1.94s\n",
      "943:\tlearn: 1467.8645040\ttest: 1609.6803779\tbest: 1609.6803779 (943)\ttotal: 32s\tremaining: 1.9s\n",
      "944:\tlearn: 1467.7175098\ttest: 1609.6306410\tbest: 1609.6306410 (944)\ttotal: 32.1s\tremaining: 1.87s\n",
      "945:\tlearn: 1467.6259412\ttest: 1609.6276710\tbest: 1609.6276710 (945)\ttotal: 32.1s\tremaining: 1.83s\n",
      "946:\tlearn: 1467.4918947\ttest: 1609.5848650\tbest: 1609.5848650 (946)\ttotal: 32.2s\tremaining: 1.8s\n",
      "947:\tlearn: 1467.3494078\ttest: 1609.4886225\tbest: 1609.4886225 (947)\ttotal: 32.2s\tremaining: 1.77s\n",
      "948:\tlearn: 1467.1790476\ttest: 1609.4099346\tbest: 1609.4099346 (948)\ttotal: 32.3s\tremaining: 1.73s\n",
      "949:\tlearn: 1467.0336150\ttest: 1609.3140099\tbest: 1609.3140099 (949)\ttotal: 32.3s\tremaining: 1.7s\n",
      "950:\tlearn: 1466.8575032\ttest: 1609.1877471\tbest: 1609.1877471 (950)\ttotal: 32.3s\tremaining: 1.67s\n",
      "951:\tlearn: 1466.7583041\ttest: 1609.1354279\tbest: 1609.1354279 (951)\ttotal: 32.4s\tremaining: 1.63s\n",
      "952:\tlearn: 1466.6369056\ttest: 1609.0865609\tbest: 1609.0865609 (952)\ttotal: 32.4s\tremaining: 1.6s\n",
      "953:\tlearn: 1466.4877489\ttest: 1609.0166664\tbest: 1609.0166664 (953)\ttotal: 32.5s\tremaining: 1.56s\n",
      "954:\tlearn: 1466.2918186\ttest: 1608.9291681\tbest: 1608.9291681 (954)\ttotal: 32.5s\tremaining: 1.53s\n",
      "955:\tlearn: 1466.0706137\ttest: 1608.8360173\tbest: 1608.8360173 (955)\ttotal: 32.5s\tremaining: 1.5s\n",
      "956:\tlearn: 1465.9219004\ttest: 1608.8483249\tbest: 1608.8360173 (955)\ttotal: 32.6s\tremaining: 1.46s\n",
      "957:\tlearn: 1465.7407471\ttest: 1608.7855386\tbest: 1608.7855386 (957)\ttotal: 32.6s\tremaining: 1.43s\n",
      "958:\tlearn: 1465.6445061\ttest: 1608.7881406\tbest: 1608.7855386 (957)\ttotal: 32.6s\tremaining: 1.4s\n",
      "959:\tlearn: 1465.4897688\ttest: 1608.7764557\tbest: 1608.7764557 (959)\ttotal: 32.7s\tremaining: 1.36s\n",
      "960:\tlearn: 1465.3026349\ttest: 1608.6095569\tbest: 1608.6095569 (960)\ttotal: 32.7s\tremaining: 1.33s\n",
      "961:\tlearn: 1465.1317123\ttest: 1608.5446677\tbest: 1608.5446677 (961)\ttotal: 32.7s\tremaining: 1.29s\n",
      "962:\tlearn: 1465.0032632\ttest: 1608.4747006\tbest: 1608.4747006 (962)\ttotal: 32.8s\tremaining: 1.26s\n",
      "963:\tlearn: 1464.7827435\ttest: 1608.4323053\tbest: 1608.4323053 (963)\ttotal: 32.8s\tremaining: 1.23s\n",
      "964:\tlearn: 1464.6401701\ttest: 1608.3555560\tbest: 1608.3555560 (964)\ttotal: 32.8s\tremaining: 1.19s\n",
      "965:\tlearn: 1464.5416670\ttest: 1608.3722889\tbest: 1608.3555560 (964)\ttotal: 32.9s\tremaining: 1.16s\n",
      "966:\tlearn: 1464.3983875\ttest: 1608.3130167\tbest: 1608.3130167 (966)\ttotal: 32.9s\tremaining: 1.12s\n",
      "967:\tlearn: 1464.2066166\ttest: 1608.2809129\tbest: 1608.2809129 (967)\ttotal: 33s\tremaining: 1.09s\n",
      "968:\tlearn: 1464.0538449\ttest: 1608.2112844\tbest: 1608.2112844 (968)\ttotal: 33s\tremaining: 1.05s\n",
      "969:\tlearn: 1463.9025615\ttest: 1608.1569948\tbest: 1608.1569948 (969)\ttotal: 33s\tremaining: 1.02s\n",
      "970:\tlearn: 1463.7675083\ttest: 1608.1142423\tbest: 1608.1142423 (970)\ttotal: 33.1s\tremaining: 988ms\n",
      "971:\tlearn: 1463.6418346\ttest: 1608.0498266\tbest: 1608.0498266 (971)\ttotal: 33.1s\tremaining: 954ms\n",
      "972:\tlearn: 1463.3980659\ttest: 1607.9873991\tbest: 1607.9873991 (972)\ttotal: 33.1s\tremaining: 919ms\n",
      "973:\tlearn: 1463.2282838\ttest: 1607.9523951\tbest: 1607.9523951 (973)\ttotal: 33.2s\tremaining: 885ms\n",
      "974:\tlearn: 1463.1381394\ttest: 1607.9095550\tbest: 1607.9095550 (974)\ttotal: 33.2s\tremaining: 851ms\n",
      "975:\tlearn: 1463.0563045\ttest: 1607.8573463\tbest: 1607.8573463 (975)\ttotal: 33.2s\tremaining: 817ms\n",
      "976:\tlearn: 1462.8943839\ttest: 1607.8041784\tbest: 1607.8041784 (976)\ttotal: 33.3s\tremaining: 783ms\n",
      "977:\tlearn: 1462.6566678\ttest: 1607.6882543\tbest: 1607.6882543 (977)\ttotal: 33.3s\tremaining: 749ms\n",
      "978:\tlearn: 1462.5338379\ttest: 1607.6769486\tbest: 1607.6769486 (978)\ttotal: 33.4s\tremaining: 715ms\n",
      "979:\tlearn: 1462.3964336\ttest: 1607.5923572\tbest: 1607.5923572 (979)\ttotal: 33.4s\tremaining: 681ms\n",
      "980:\tlearn: 1462.2048711\ttest: 1607.4799597\tbest: 1607.4799597 (980)\ttotal: 33.4s\tremaining: 648ms\n",
      "981:\tlearn: 1462.0249131\ttest: 1607.4317960\tbest: 1607.4317960 (981)\ttotal: 33.5s\tremaining: 614ms\n",
      "982:\tlearn: 1461.7903574\ttest: 1607.3267893\tbest: 1607.3267893 (982)\ttotal: 33.6s\tremaining: 580ms\n",
      "983:\tlearn: 1461.6624563\ttest: 1607.2671148\tbest: 1607.2671148 (983)\ttotal: 33.6s\tremaining: 546ms\n",
      "984:\tlearn: 1461.5655396\ttest: 1607.2249604\tbest: 1607.2249604 (984)\ttotal: 33.6s\tremaining: 512ms\n",
      "985:\tlearn: 1461.3930708\ttest: 1607.1497671\tbest: 1607.1497671 (985)\ttotal: 33.7s\tremaining: 478ms\n",
      "986:\tlearn: 1461.2869015\ttest: 1607.1411090\tbest: 1607.1411090 (986)\ttotal: 33.7s\tremaining: 444ms\n",
      "987:\tlearn: 1461.1809788\ttest: 1607.0592427\tbest: 1607.0592427 (987)\ttotal: 33.7s\tremaining: 410ms\n",
      "988:\tlearn: 1461.0999679\ttest: 1607.0624620\tbest: 1607.0592427 (987)\ttotal: 33.8s\tremaining: 376ms\n",
      "989:\tlearn: 1460.8914104\ttest: 1606.9931477\tbest: 1606.9931477 (989)\ttotal: 33.8s\tremaining: 342ms\n",
      "990:\tlearn: 1460.7308783\ttest: 1606.8864092\tbest: 1606.8864092 (990)\ttotal: 33.9s\tremaining: 307ms\n",
      "991:\tlearn: 1460.5677866\ttest: 1606.7599930\tbest: 1606.7599930 (991)\ttotal: 33.9s\tremaining: 273ms\n",
      "992:\tlearn: 1460.4121363\ttest: 1606.7150551\tbest: 1606.7150551 (992)\ttotal: 33.9s\tremaining: 239ms\n",
      "993:\tlearn: 1460.3227659\ttest: 1606.6486220\tbest: 1606.6486220 (993)\ttotal: 34s\tremaining: 205ms\n",
      "994:\tlearn: 1460.1764101\ttest: 1606.6006374\tbest: 1606.6006374 (994)\ttotal: 34s\tremaining: 171ms\n",
      "995:\tlearn: 1459.8601168\ttest: 1606.5083467\tbest: 1606.5083467 (995)\ttotal: 34s\tremaining: 137ms\n",
      "996:\tlearn: 1459.6831773\ttest: 1606.4153898\tbest: 1606.4153898 (996)\ttotal: 34.1s\tremaining: 103ms\n",
      "997:\tlearn: 1459.5678211\ttest: 1606.3283169\tbest: 1606.3283169 (997)\ttotal: 34.1s\tremaining: 68.4ms\n",
      "998:\tlearn: 1459.3789618\ttest: 1606.1684144\tbest: 1606.1684144 (998)\ttotal: 34.2s\tremaining: 34.2ms\n",
      "999:\tlearn: 1459.2062744\ttest: 1606.0653250\tbest: 1606.0653250 (999)\ttotal: 34.2s\tremaining: 0us\n",
      "\n",
      "bestTest = 1606.065325\n",
      "bestIteration = 999\n",
      "\n",
      "Training on fold [2/3]\n",
      "0:\tlearn: 6553.7079642\ttest: 6524.8952446\tbest: 6524.8952446 (0)\ttotal: 33.7ms\tremaining: 33.6s\n",
      "1:\tlearn: 6385.6676678\ttest: 6357.6008091\tbest: 6357.6008091 (1)\ttotal: 65.1ms\tremaining: 32.5s\n",
      "2:\tlearn: 6224.5617030\ttest: 6197.0135181\tbest: 6197.0135181 (2)\ttotal: 86.7ms\tremaining: 28.8s\n",
      "3:\tlearn: 6070.5110007\ttest: 6043.8920148\tbest: 6043.8920148 (3)\ttotal: 119ms\tremaining: 29.6s\n",
      "4:\tlearn: 5920.4224138\ttest: 5894.2691625\tbest: 5894.2691625 (4)\ttotal: 150ms\tremaining: 29.9s\n",
      "5:\tlearn: 5772.4146802\ttest: 5746.3763364\tbest: 5746.3763364 (5)\ttotal: 183ms\tremaining: 30.4s\n",
      "6:\tlearn: 5629.4828843\ttest: 5603.4545549\tbest: 5603.4545549 (6)\ttotal: 215ms\tremaining: 30.6s\n",
      "7:\tlearn: 5493.3826530\ttest: 5467.6365204\tbest: 5467.6365204 (7)\ttotal: 246ms\tremaining: 30.5s\n",
      "8:\tlearn: 5359.8394885\ttest: 5334.2229085\tbest: 5334.2229085 (8)\ttotal: 278ms\tremaining: 30.6s\n",
      "9:\tlearn: 5230.6889883\ttest: 5205.6426939\tbest: 5205.6426939 (9)\ttotal: 313ms\tremaining: 31s\n",
      "10:\tlearn: 5106.7578919\ttest: 5081.8695026\tbest: 5081.8695026 (10)\ttotal: 343ms\tremaining: 30.8s\n",
      "11:\tlearn: 4988.5601237\ttest: 4964.2569008\tbest: 4964.2569008 (11)\ttotal: 374ms\tremaining: 30.8s\n",
      "12:\tlearn: 4871.6532600\ttest: 4847.5160860\tbest: 4847.5160860 (12)\ttotal: 407ms\tremaining: 30.9s\n",
      "13:\tlearn: 4760.8838683\ttest: 4737.4037277\tbest: 4737.4037277 (13)\ttotal: 437ms\tremaining: 30.8s\n",
      "14:\tlearn: 4652.2285250\ttest: 4629.2143438\tbest: 4629.2143438 (14)\ttotal: 467ms\tremaining: 30.7s\n",
      "15:\tlearn: 4546.4359743\ttest: 4523.7141334\tbest: 4523.7141334 (15)\ttotal: 532ms\tremaining: 32.7s\n",
      "16:\tlearn: 4445.1054395\ttest: 4422.5822329\tbest: 4422.5822329 (16)\ttotal: 592ms\tremaining: 34.3s\n",
      "17:\tlearn: 4346.8555352\ttest: 4324.6665671\tbest: 4324.6665671 (17)\ttotal: 635ms\tremaining: 34.6s\n",
      "18:\tlearn: 4252.7173998\ttest: 4230.8521186\tbest: 4230.8521186 (18)\ttotal: 670ms\tremaining: 34.6s\n",
      "19:\tlearn: 4160.9363800\ttest: 4139.3407779\tbest: 4139.3407779 (19)\ttotal: 705ms\tremaining: 34.5s\n",
      "20:\tlearn: 4072.1449518\ttest: 4050.6724928\tbest: 4050.6724928 (20)\ttotal: 744ms\tremaining: 34.7s\n",
      "21:\tlearn: 3988.0825470\ttest: 3966.8998243\tbest: 3966.8998243 (21)\ttotal: 777ms\tremaining: 34.6s\n",
      "22:\tlearn: 3905.8558907\ttest: 3884.6686003\tbest: 3884.6686003 (22)\ttotal: 813ms\tremaining: 34.5s\n",
      "23:\tlearn: 3827.2908619\ttest: 3806.4576345\tbest: 3806.4576345 (23)\ttotal: 849ms\tremaining: 34.5s\n",
      "24:\tlearn: 3751.5513091\ttest: 3730.7293764\tbest: 3730.7293764 (24)\ttotal: 886ms\tremaining: 34.6s\n",
      "25:\tlearn: 3677.7357846\ttest: 3657.3912577\tbest: 3657.3912577 (25)\ttotal: 930ms\tremaining: 34.9s\n",
      "26:\tlearn: 3606.2293290\ttest: 3586.2560632\tbest: 3586.2560632 (26)\ttotal: 971ms\tremaining: 35s\n",
      "27:\tlearn: 3537.6641895\ttest: 3517.9142721\tbest: 3517.9142721 (27)\ttotal: 1.01s\tremaining: 35.1s\n",
      "28:\tlearn: 3471.3747038\ttest: 3451.5374290\tbest: 3451.5374290 (28)\ttotal: 1.04s\tremaining: 35s\n",
      "29:\tlearn: 3408.6951553\ttest: 3388.8536003\tbest: 3388.8536003 (29)\ttotal: 1.08s\tremaining: 35.1s\n",
      "30:\tlearn: 3348.0466176\ttest: 3328.5665223\tbest: 3328.5665223 (30)\ttotal: 1.12s\tremaining: 35.2s\n",
      "31:\tlearn: 3289.1071436\ttest: 3269.9476618\tbest: 3269.9476618 (31)\ttotal: 1.16s\tremaining: 35.1s\n",
      "32:\tlearn: 3232.0644840\ttest: 3213.1794475\tbest: 3213.1794475 (32)\ttotal: 1.2s\tremaining: 35.2s\n",
      "33:\tlearn: 3178.4773593\ttest: 3159.6192471\tbest: 3159.6192471 (33)\ttotal: 1.24s\tremaining: 35.3s\n",
      "34:\tlearn: 3125.7665093\ttest: 3107.5109653\tbest: 3107.5109653 (34)\ttotal: 1.28s\tremaining: 35.2s\n",
      "35:\tlearn: 3073.7407193\ttest: 3055.9892779\tbest: 3055.9892779 (35)\ttotal: 1.31s\tremaining: 35.1s\n",
      "36:\tlearn: 3024.8312026\ttest: 3006.9992070\tbest: 3006.9992070 (36)\ttotal: 1.35s\tremaining: 35.1s\n",
      "37:\tlearn: 2976.9114502\ttest: 2959.2174768\tbest: 2959.2174768 (37)\ttotal: 1.39s\tremaining: 35.1s\n",
      "38:\tlearn: 2932.4446961\ttest: 2914.7360945\tbest: 2914.7360945 (38)\ttotal: 1.43s\tremaining: 35.1s\n",
      "39:\tlearn: 2888.4773853\ttest: 2870.6249671\tbest: 2870.6249671 (39)\ttotal: 1.46s\tremaining: 35.1s\n",
      "40:\tlearn: 2846.6284097\ttest: 2828.7536632\tbest: 2828.7536632 (40)\ttotal: 1.5s\tremaining: 35s\n",
      "41:\tlearn: 2806.7752517\ttest: 2789.3091420\tbest: 2789.3091420 (41)\ttotal: 1.54s\tremaining: 35.2s\n",
      "42:\tlearn: 2769.0267345\ttest: 2751.8518805\tbest: 2751.8518805 (42)\ttotal: 1.58s\tremaining: 35.2s\n",
      "43:\tlearn: 2732.1766382\ttest: 2715.0126841\tbest: 2715.0126841 (43)\ttotal: 1.62s\tremaining: 35.2s\n",
      "44:\tlearn: 2694.8347190\ttest: 2677.8921352\tbest: 2677.8921352 (44)\ttotal: 1.66s\tremaining: 35.3s\n",
      "45:\tlearn: 2660.8836032\ttest: 2643.9884438\tbest: 2643.9884438 (45)\ttotal: 1.7s\tremaining: 35.4s\n",
      "46:\tlearn: 2628.1179231\ttest: 2611.3092265\tbest: 2611.3092265 (46)\ttotal: 1.75s\tremaining: 35.4s\n",
      "47:\tlearn: 2597.2238963\ttest: 2580.6161442\tbest: 2580.6161442 (47)\ttotal: 1.79s\tremaining: 35.5s\n",
      "48:\tlearn: 2566.0775278\ttest: 2549.5440603\tbest: 2549.5440603 (48)\ttotal: 1.83s\tremaining: 35.5s\n",
      "49:\tlearn: 2537.0082244\ttest: 2520.2079909\tbest: 2520.2079909 (49)\ttotal: 1.91s\tremaining: 36.3s\n",
      "50:\tlearn: 2509.1066941\ttest: 2492.0550485\tbest: 2492.0550485 (50)\ttotal: 1.97s\tremaining: 36.7s\n",
      "51:\tlearn: 2482.3104747\ttest: 2465.2530528\tbest: 2465.2530528 (51)\ttotal: 2.02s\tremaining: 36.8s\n",
      "52:\tlearn: 2456.5626554\ttest: 2439.4151262\tbest: 2439.4151262 (52)\ttotal: 2.06s\tremaining: 36.8s\n",
      "53:\tlearn: 2432.5957091\ttest: 2415.3246800\tbest: 2415.3246800 (53)\ttotal: 2.1s\tremaining: 36.7s\n",
      "54:\tlearn: 2409.0205721\ttest: 2391.5813628\tbest: 2391.5813628 (54)\ttotal: 2.14s\tremaining: 36.7s\n",
      "55:\tlearn: 2386.9805990\ttest: 2369.9726126\tbest: 2369.9726126 (55)\ttotal: 2.17s\tremaining: 36.6s\n",
      "56:\tlearn: 2365.1869043\ttest: 2348.1191011\tbest: 2348.1191011 (56)\ttotal: 2.2s\tremaining: 36.5s\n",
      "57:\tlearn: 2344.1329181\ttest: 2326.9139816\tbest: 2326.9139816 (57)\ttotal: 2.24s\tremaining: 36.3s\n",
      "58:\tlearn: 2324.4727616\ttest: 2307.2439332\tbest: 2307.2439332 (58)\ttotal: 2.27s\tremaining: 36.2s\n",
      "59:\tlearn: 2305.4698394\ttest: 2288.4990895\tbest: 2288.4990895 (59)\ttotal: 2.31s\tremaining: 36.2s\n",
      "60:\tlearn: 2285.8830950\ttest: 2268.7101794\tbest: 2268.7101794 (60)\ttotal: 2.34s\tremaining: 36s\n",
      "61:\tlearn: 2267.9802232\ttest: 2250.9788931\tbest: 2250.9788931 (61)\ttotal: 2.38s\tremaining: 36s\n",
      "62:\tlearn: 2250.3957464\ttest: 2233.2742305\tbest: 2233.2742305 (62)\ttotal: 2.41s\tremaining: 35.9s\n",
      "63:\tlearn: 2232.5304595\ttest: 2215.6869744\tbest: 2215.6869744 (63)\ttotal: 2.46s\tremaining: 35.9s\n",
      "64:\tlearn: 2216.5995429\ttest: 2199.7838486\tbest: 2199.7838486 (64)\ttotal: 2.5s\tremaining: 36s\n",
      "65:\tlearn: 2200.5444433\ttest: 2183.8265216\tbest: 2183.8265216 (65)\ttotal: 2.54s\tremaining: 36s\n",
      "66:\tlearn: 2185.4971805\ttest: 2168.7399123\tbest: 2168.7399123 (66)\ttotal: 2.58s\tremaining: 36s\n",
      "67:\tlearn: 2171.6219873\ttest: 2155.0153473\tbest: 2155.0153473 (67)\ttotal: 2.62s\tremaining: 35.9s\n",
      "68:\tlearn: 2158.6327324\ttest: 2141.9605360\tbest: 2141.9605360 (68)\ttotal: 2.65s\tremaining: 35.8s\n",
      "69:\tlearn: 2146.2968113\ttest: 2129.7675751\tbest: 2129.7675751 (69)\ttotal: 2.7s\tremaining: 35.8s\n",
      "70:\tlearn: 2133.8985344\ttest: 2117.6237755\tbest: 2117.6237755 (70)\ttotal: 2.73s\tremaining: 35.8s\n",
      "71:\tlearn: 2121.6145541\ttest: 2105.3395166\tbest: 2105.3395166 (71)\ttotal: 2.77s\tremaining: 35.7s\n",
      "72:\tlearn: 2110.0352843\ttest: 2093.9189082\tbest: 2093.9189082 (72)\ttotal: 2.81s\tremaining: 35.7s\n",
      "73:\tlearn: 2098.7228267\ttest: 2082.5595905\tbest: 2082.5595905 (73)\ttotal: 2.85s\tremaining: 35.6s\n",
      "74:\tlearn: 2087.6045925\ttest: 2071.8922929\tbest: 2071.8922929 (74)\ttotal: 2.89s\tremaining: 35.6s\n",
      "75:\tlearn: 2076.3178050\ttest: 2060.6679359\tbest: 2060.6679359 (75)\ttotal: 2.92s\tremaining: 35.6s\n",
      "76:\tlearn: 2066.7900356\ttest: 2051.0023139\tbest: 2051.0023139 (76)\ttotal: 2.96s\tremaining: 35.5s\n",
      "77:\tlearn: 2057.6712238\ttest: 2041.9440460\tbest: 2041.9440460 (77)\ttotal: 3s\tremaining: 35.5s\n",
      "78:\tlearn: 2048.0772418\ttest: 2032.4621750\tbest: 2032.4621750 (78)\ttotal: 3.04s\tremaining: 35.5s\n",
      "79:\tlearn: 2039.9957342\ttest: 2024.4242403\tbest: 2024.4242403 (79)\ttotal: 3.08s\tremaining: 35.4s\n",
      "80:\tlearn: 2031.7082073\ttest: 2016.2517685\tbest: 2016.2517685 (80)\ttotal: 3.12s\tremaining: 35.3s\n",
      "81:\tlearn: 2023.6517779\ttest: 2008.1689618\tbest: 2008.1689618 (81)\ttotal: 3.15s\tremaining: 35.3s\n",
      "82:\tlearn: 2016.2747810\ttest: 2000.8919713\tbest: 2000.8919713 (82)\ttotal: 3.2s\tremaining: 35.3s\n",
      "83:\tlearn: 2008.9939338\ttest: 1993.6282089\tbest: 1993.6282089 (83)\ttotal: 3.27s\tremaining: 35.6s\n",
      "84:\tlearn: 2001.0679222\ttest: 1985.9065393\tbest: 1985.9065393 (84)\ttotal: 3.34s\tremaining: 35.9s\n",
      "85:\tlearn: 1993.4283633\ttest: 1978.6076559\tbest: 1978.6076559 (85)\ttotal: 3.38s\tremaining: 36s\n",
      "86:\tlearn: 1986.1218614\ttest: 1971.6095188\tbest: 1971.6095188 (86)\ttotal: 3.43s\tremaining: 36s\n",
      "87:\tlearn: 1978.8359292\ttest: 1964.5364981\tbest: 1964.5364981 (87)\ttotal: 3.46s\tremaining: 35.9s\n",
      "88:\tlearn: 1971.6433991\ttest: 1957.3740316\tbest: 1957.3740316 (88)\ttotal: 3.5s\tremaining: 35.8s\n",
      "89:\tlearn: 1965.7325471\ttest: 1951.4256039\tbest: 1951.4256039 (89)\ttotal: 3.54s\tremaining: 35.8s\n",
      "90:\tlearn: 1958.2893279\ttest: 1944.2360279\tbest: 1944.2360279 (90)\ttotal: 3.58s\tremaining: 35.8s\n",
      "91:\tlearn: 1952.6593099\ttest: 1938.9279765\tbest: 1938.9279765 (91)\ttotal: 3.62s\tremaining: 35.7s\n",
      "92:\tlearn: 1947.0896918\ttest: 1933.2812019\tbest: 1933.2812019 (92)\ttotal: 3.66s\tremaining: 35.7s\n",
      "93:\tlearn: 1941.2220085\ttest: 1927.4065179\tbest: 1927.4065179 (93)\ttotal: 3.69s\tremaining: 35.6s\n",
      "94:\tlearn: 1935.4700476\ttest: 1921.6654114\tbest: 1921.6654114 (94)\ttotal: 3.73s\tremaining: 35.6s\n",
      "95:\tlearn: 1930.3276489\ttest: 1916.8605514\tbest: 1916.8605514 (95)\ttotal: 3.77s\tremaining: 35.5s\n",
      "96:\tlearn: 1925.4454376\ttest: 1911.9922760\tbest: 1911.9922760 (96)\ttotal: 3.81s\tremaining: 35.5s\n",
      "97:\tlearn: 1921.1774442\ttest: 1907.7461612\tbest: 1907.7461612 (97)\ttotal: 3.85s\tremaining: 35.5s\n",
      "98:\tlearn: 1916.4239103\ttest: 1902.9028665\tbest: 1902.9028665 (98)\ttotal: 3.89s\tremaining: 35.4s\n",
      "99:\tlearn: 1911.8228014\ttest: 1898.3582209\tbest: 1898.3582209 (99)\ttotal: 3.93s\tremaining: 35.4s\n",
      "100:\tlearn: 1907.1456533\ttest: 1894.0173013\tbest: 1894.0173013 (100)\ttotal: 3.96s\tremaining: 35.2s\n",
      "101:\tlearn: 1902.7993810\ttest: 1889.8189493\tbest: 1889.8189493 (101)\ttotal: 3.99s\tremaining: 35.2s\n",
      "102:\tlearn: 1898.0101527\ttest: 1885.2369694\tbest: 1885.2369694 (102)\ttotal: 4.03s\tremaining: 35.1s\n",
      "103:\tlearn: 1893.7156478\ttest: 1881.0485198\tbest: 1881.0485198 (103)\ttotal: 4.07s\tremaining: 35s\n",
      "104:\tlearn: 1889.0418844\ttest: 1876.3584740\tbest: 1876.3584740 (104)\ttotal: 4.11s\tremaining: 35s\n",
      "105:\tlearn: 1884.6005534\ttest: 1872.2268777\tbest: 1872.2268777 (105)\ttotal: 4.15s\tremaining: 35s\n",
      "106:\tlearn: 1880.7272886\ttest: 1868.7439140\tbest: 1868.7439140 (106)\ttotal: 4.19s\tremaining: 35s\n",
      "107:\tlearn: 1877.5333427\ttest: 1865.5863865\tbest: 1865.5863865 (107)\ttotal: 4.23s\tremaining: 34.9s\n",
      "108:\tlearn: 1873.7981479\ttest: 1862.0562612\tbest: 1862.0562612 (108)\ttotal: 4.26s\tremaining: 34.9s\n",
      "109:\tlearn: 1869.5213021\ttest: 1857.9356803\tbest: 1857.9356803 (109)\ttotal: 4.3s\tremaining: 34.8s\n",
      "110:\tlearn: 1866.1562033\ttest: 1854.7910641\tbest: 1854.7910641 (110)\ttotal: 4.34s\tremaining: 34.8s\n",
      "111:\tlearn: 1863.1672941\ttest: 1852.0163854\tbest: 1852.0163854 (111)\ttotal: 4.38s\tremaining: 34.7s\n",
      "112:\tlearn: 1860.3062035\ttest: 1849.1854331\tbest: 1849.1854331 (112)\ttotal: 4.41s\tremaining: 34.6s\n",
      "113:\tlearn: 1857.3669310\ttest: 1846.2119281\tbest: 1846.2119281 (113)\ttotal: 4.45s\tremaining: 34.6s\n",
      "114:\tlearn: 1854.7582678\ttest: 1843.6649495\tbest: 1843.6649495 (114)\ttotal: 4.49s\tremaining: 34.5s\n",
      "115:\tlearn: 1852.2617859\ttest: 1841.1938050\tbest: 1841.1938050 (115)\ttotal: 4.52s\tremaining: 34.5s\n",
      "116:\tlearn: 1848.9047723\ttest: 1838.2868897\tbest: 1838.2868897 (116)\ttotal: 4.56s\tremaining: 34.4s\n",
      "117:\tlearn: 1846.3742261\ttest: 1835.8205705\tbest: 1835.8205705 (117)\ttotal: 4.61s\tremaining: 34.5s\n",
      "118:\tlearn: 1843.3553105\ttest: 1832.7953635\tbest: 1832.7953635 (118)\ttotal: 4.71s\tremaining: 34.8s\n",
      "119:\tlearn: 1841.0541539\ttest: 1830.5583017\tbest: 1830.5583017 (119)\ttotal: 4.75s\tremaining: 34.8s\n",
      "120:\tlearn: 1838.3091448\ttest: 1827.9857315\tbest: 1827.9857315 (120)\ttotal: 4.79s\tremaining: 34.8s\n",
      "121:\tlearn: 1835.2851337\ttest: 1825.3153921\tbest: 1825.3153921 (121)\ttotal: 4.83s\tremaining: 34.7s\n",
      "122:\tlearn: 1833.3914946\ttest: 1823.5129462\tbest: 1823.5129462 (122)\ttotal: 4.86s\tremaining: 34.7s\n",
      "123:\tlearn: 1831.2540046\ttest: 1821.3686110\tbest: 1821.3686110 (123)\ttotal: 4.89s\tremaining: 34.6s\n",
      "124:\tlearn: 1828.7902559\ttest: 1819.0059289\tbest: 1819.0059289 (124)\ttotal: 4.93s\tremaining: 34.5s\n",
      "125:\tlearn: 1826.3920941\ttest: 1816.8204531\tbest: 1816.8204531 (125)\ttotal: 4.96s\tremaining: 34.4s\n",
      "126:\tlearn: 1824.5023048\ttest: 1815.0638174\tbest: 1815.0638174 (126)\ttotal: 4.99s\tremaining: 34.3s\n",
      "127:\tlearn: 1822.6079440\ttest: 1813.2470308\tbest: 1813.2470308 (127)\ttotal: 5.03s\tremaining: 34.3s\n",
      "128:\tlearn: 1819.9181218\ttest: 1810.7352551\tbest: 1810.7352551 (128)\ttotal: 5.07s\tremaining: 34.2s\n",
      "129:\tlearn: 1818.0627678\ttest: 1809.0948045\tbest: 1809.0948045 (129)\ttotal: 5.1s\tremaining: 34.2s\n",
      "130:\tlearn: 1815.6079990\ttest: 1806.9033717\tbest: 1806.9033717 (130)\ttotal: 5.14s\tremaining: 34.1s\n",
      "131:\tlearn: 1812.6285245\ttest: 1804.2253099\tbest: 1804.2253099 (131)\ttotal: 5.17s\tremaining: 34s\n",
      "132:\tlearn: 1809.5910823\ttest: 1801.6279642\tbest: 1801.6279642 (132)\ttotal: 5.21s\tremaining: 34s\n",
      "133:\tlearn: 1808.1392088\ttest: 1800.2439627\tbest: 1800.2439627 (133)\ttotal: 5.25s\tremaining: 33.9s\n",
      "134:\tlearn: 1805.8770725\ttest: 1798.2313784\tbest: 1798.2313784 (134)\ttotal: 5.29s\tremaining: 33.9s\n",
      "135:\tlearn: 1804.0019077\ttest: 1796.6474862\tbest: 1796.6474862 (135)\ttotal: 5.33s\tremaining: 33.9s\n",
      "136:\tlearn: 1802.2896208\ttest: 1795.0201728\tbest: 1795.0201728 (136)\ttotal: 5.37s\tremaining: 33.8s\n",
      "137:\tlearn: 1800.9115252\ttest: 1793.7378625\tbest: 1793.7378625 (137)\ttotal: 5.41s\tremaining: 33.8s\n",
      "138:\tlearn: 1799.4681645\ttest: 1792.5121156\tbest: 1792.5121156 (138)\ttotal: 5.45s\tremaining: 33.8s\n",
      "139:\tlearn: 1797.6052814\ttest: 1790.9560344\tbest: 1790.9560344 (139)\ttotal: 5.49s\tremaining: 33.7s\n",
      "140:\tlearn: 1796.2026414\ttest: 1789.7435264\tbest: 1789.7435264 (140)\ttotal: 5.53s\tremaining: 33.7s\n",
      "141:\tlearn: 1794.5509633\ttest: 1788.1991150\tbest: 1788.1991150 (141)\ttotal: 5.58s\tremaining: 33.7s\n",
      "142:\tlearn: 1793.1633863\ttest: 1786.9995019\tbest: 1786.9995019 (142)\ttotal: 5.62s\tremaining: 33.7s\n",
      "143:\tlearn: 1791.5940648\ttest: 1785.5526086\tbest: 1785.5526086 (143)\ttotal: 5.65s\tremaining: 33.6s\n",
      "144:\tlearn: 1789.3530124\ttest: 1783.6087709\tbest: 1783.6087709 (144)\ttotal: 5.69s\tremaining: 33.5s\n",
      "145:\tlearn: 1787.5914200\ttest: 1782.1126322\tbest: 1782.1126322 (145)\ttotal: 5.72s\tremaining: 33.5s\n",
      "146:\tlearn: 1786.2378585\ttest: 1781.0943170\tbest: 1781.0943170 (146)\ttotal: 5.77s\tremaining: 33.5s\n",
      "147:\tlearn: 1785.0840686\ttest: 1780.0878451\tbest: 1780.0878451 (147)\ttotal: 5.8s\tremaining: 33.4s\n",
      "148:\tlearn: 1783.6169279\ttest: 1778.7273096\tbest: 1778.7273096 (148)\ttotal: 5.84s\tremaining: 33.4s\n",
      "149:\tlearn: 1782.7913546\ttest: 1778.0008766\tbest: 1778.0008766 (149)\ttotal: 5.88s\tremaining: 33.3s\n",
      "150:\tlearn: 1781.1687091\ttest: 1776.6220561\tbest: 1776.6220561 (150)\ttotal: 5.91s\tremaining: 33.2s\n",
      "151:\tlearn: 1779.6492274\ttest: 1775.3464694\tbest: 1775.3464694 (151)\ttotal: 5.94s\tremaining: 33.2s\n",
      "152:\tlearn: 1778.0484981\ttest: 1773.9012748\tbest: 1773.9012748 (152)\ttotal: 5.99s\tremaining: 33.2s\n",
      "153:\tlearn: 1776.1798865\ttest: 1772.2939693\tbest: 1772.2939693 (153)\ttotal: 6.07s\tremaining: 33.4s\n",
      "154:\tlearn: 1774.9842054\ttest: 1771.1867519\tbest: 1771.1867519 (154)\ttotal: 6.11s\tremaining: 33.3s\n",
      "155:\tlearn: 1773.2016508\ttest: 1769.7279456\tbest: 1769.7279456 (155)\ttotal: 6.15s\tremaining: 33.3s\n",
      "156:\tlearn: 1771.9114337\ttest: 1768.5331631\tbest: 1768.5331631 (156)\ttotal: 6.18s\tremaining: 33.2s\n",
      "157:\tlearn: 1770.8931002\ttest: 1767.5743233\tbest: 1767.5743233 (157)\ttotal: 6.22s\tremaining: 33.2s\n",
      "158:\tlearn: 1769.4569043\ttest: 1766.3517863\tbest: 1766.3517863 (158)\ttotal: 6.26s\tremaining: 33.1s\n",
      "159:\tlearn: 1768.4321539\ttest: 1765.4869361\tbest: 1765.4869361 (159)\ttotal: 6.29s\tremaining: 33.1s\n",
      "160:\tlearn: 1767.3272091\ttest: 1764.5453063\tbest: 1764.5453063 (160)\ttotal: 6.33s\tremaining: 33s\n",
      "161:\tlearn: 1766.0202579\ttest: 1763.4988768\tbest: 1763.4988768 (161)\ttotal: 6.37s\tremaining: 33s\n",
      "162:\tlearn: 1764.8853898\ttest: 1762.4000597\tbest: 1762.4000597 (162)\ttotal: 6.41s\tremaining: 32.9s\n",
      "163:\tlearn: 1764.0620768\ttest: 1761.6196983\tbest: 1761.6196983 (163)\ttotal: 6.46s\tremaining: 32.9s\n",
      "164:\tlearn: 1763.2635559\ttest: 1760.9300234\tbest: 1760.9300234 (164)\ttotal: 6.5s\tremaining: 32.9s\n",
      "165:\tlearn: 1762.1204848\ttest: 1759.9705499\tbest: 1759.9705499 (165)\ttotal: 6.53s\tremaining: 32.8s\n",
      "166:\tlearn: 1760.7560289\ttest: 1758.8334357\tbest: 1758.8334357 (166)\ttotal: 6.58s\tremaining: 32.8s\n",
      "167:\tlearn: 1759.7411815\ttest: 1758.0470522\tbest: 1758.0470522 (167)\ttotal: 6.62s\tremaining: 32.8s\n",
      "168:\tlearn: 1758.3701489\ttest: 1757.0486032\tbest: 1757.0486032 (168)\ttotal: 6.65s\tremaining: 32.7s\n",
      "169:\tlearn: 1757.1940751\ttest: 1756.1035429\tbest: 1756.1035429 (169)\ttotal: 6.69s\tremaining: 32.7s\n",
      "170:\tlearn: 1755.7465496\ttest: 1754.8626886\tbest: 1754.8626886 (170)\ttotal: 6.73s\tremaining: 32.6s\n",
      "171:\tlearn: 1754.3305122\ttest: 1753.7193738\tbest: 1753.7193738 (171)\ttotal: 6.77s\tremaining: 32.6s\n",
      "172:\tlearn: 1753.2770636\ttest: 1753.0855236\tbest: 1753.0855236 (172)\ttotal: 6.81s\tremaining: 32.5s\n",
      "173:\tlearn: 1752.2783712\ttest: 1752.2869855\tbest: 1752.2869855 (173)\ttotal: 6.84s\tremaining: 32.5s\n",
      "174:\tlearn: 1751.2333426\ttest: 1751.4263548\tbest: 1751.4263548 (174)\ttotal: 6.88s\tremaining: 32.4s\n",
      "175:\tlearn: 1750.5124804\ttest: 1750.7653089\tbest: 1750.7653089 (175)\ttotal: 6.91s\tremaining: 32.4s\n",
      "176:\tlearn: 1749.6931576\ttest: 1750.0168977\tbest: 1750.0168977 (176)\ttotal: 6.95s\tremaining: 32.3s\n",
      "177:\tlearn: 1748.2017567\ttest: 1748.6917551\tbest: 1748.6917551 (177)\ttotal: 6.99s\tremaining: 32.3s\n",
      "178:\tlearn: 1746.9560706\ttest: 1747.6701172\tbest: 1747.6701172 (178)\ttotal: 7.02s\tremaining: 32.2s\n",
      "179:\tlearn: 1746.2566994\ttest: 1747.0368059\tbest: 1747.0368059 (179)\ttotal: 7.06s\tremaining: 32.1s\n",
      "180:\tlearn: 1745.0848585\ttest: 1746.1268638\tbest: 1746.1268638 (180)\ttotal: 7.09s\tremaining: 32.1s\n",
      "181:\tlearn: 1744.0743617\ttest: 1745.3496204\tbest: 1745.3496204 (181)\ttotal: 7.13s\tremaining: 32s\n",
      "182:\tlearn: 1743.1222375\ttest: 1744.5073103\tbest: 1744.5073103 (182)\ttotal: 7.17s\tremaining: 32s\n",
      "183:\tlearn: 1742.2846399\ttest: 1743.7980296\tbest: 1743.7980296 (183)\ttotal: 7.2s\tremaining: 31.9s\n",
      "184:\tlearn: 1741.2999339\ttest: 1742.9227065\tbest: 1742.9227065 (184)\ttotal: 7.24s\tremaining: 31.9s\n",
      "185:\tlearn: 1740.3327648\ttest: 1742.1729588\tbest: 1742.1729588 (185)\ttotal: 7.27s\tremaining: 31.8s\n",
      "186:\tlearn: 1739.6032492\ttest: 1741.4321108\tbest: 1741.4321108 (186)\ttotal: 7.3s\tremaining: 31.8s\n",
      "187:\tlearn: 1738.8936908\ttest: 1740.7926470\tbest: 1740.7926470 (187)\ttotal: 7.35s\tremaining: 31.8s\n",
      "188:\tlearn: 1737.7477975\ttest: 1739.8322442\tbest: 1739.8322442 (188)\ttotal: 7.42s\tremaining: 31.8s\n",
      "189:\tlearn: 1736.8135781\ttest: 1739.1396151\tbest: 1739.1396151 (189)\ttotal: 7.47s\tremaining: 31.8s\n",
      "190:\tlearn: 1735.9254920\ttest: 1738.4564995\tbest: 1738.4564995 (190)\ttotal: 7.52s\tremaining: 31.8s\n",
      "191:\tlearn: 1734.9205999\ttest: 1737.6725393\tbest: 1737.6725393 (191)\ttotal: 7.56s\tremaining: 31.8s\n",
      "192:\tlearn: 1734.0861565\ttest: 1737.0237842\tbest: 1737.0237842 (192)\ttotal: 7.59s\tremaining: 31.8s\n",
      "193:\tlearn: 1733.1813165\ttest: 1736.2661689\tbest: 1736.2661689 (193)\ttotal: 7.63s\tremaining: 31.7s\n",
      "194:\tlearn: 1731.9467447\ttest: 1735.3690280\tbest: 1735.3690280 (194)\ttotal: 7.67s\tremaining: 31.6s\n",
      "195:\tlearn: 1730.9780538\ttest: 1734.5105612\tbest: 1734.5105612 (195)\ttotal: 7.7s\tremaining: 31.6s\n",
      "196:\tlearn: 1729.5106240\ttest: 1733.1909136\tbest: 1733.1909136 (196)\ttotal: 7.74s\tremaining: 31.6s\n",
      "197:\tlearn: 1728.1993024\ttest: 1732.1510664\tbest: 1732.1510664 (197)\ttotal: 7.78s\tremaining: 31.5s\n",
      "198:\tlearn: 1727.3403419\ttest: 1731.4108847\tbest: 1731.4108847 (198)\ttotal: 7.82s\tremaining: 31.5s\n",
      "199:\tlearn: 1726.3165895\ttest: 1730.6476552\tbest: 1730.6476552 (199)\ttotal: 7.86s\tremaining: 31.4s\n",
      "200:\tlearn: 1725.4329337\ttest: 1729.9651814\tbest: 1729.9651814 (200)\ttotal: 7.89s\tremaining: 31.4s\n",
      "201:\tlearn: 1724.5476857\ttest: 1729.3585712\tbest: 1729.3585712 (201)\ttotal: 7.93s\tremaining: 31.3s\n",
      "202:\tlearn: 1723.9743953\ttest: 1728.9325892\tbest: 1728.9325892 (202)\ttotal: 7.97s\tremaining: 31.3s\n",
      "203:\tlearn: 1722.8536107\ttest: 1727.9431056\tbest: 1727.9431056 (203)\ttotal: 8.01s\tremaining: 31.3s\n",
      "204:\tlearn: 1722.3396337\ttest: 1727.5324276\tbest: 1727.5324276 (204)\ttotal: 8.05s\tremaining: 31.2s\n",
      "205:\tlearn: 1721.7385168\ttest: 1727.0382433\tbest: 1727.0382433 (205)\ttotal: 8.08s\tremaining: 31.2s\n",
      "206:\tlearn: 1720.7489436\ttest: 1726.2811111\tbest: 1726.2811111 (206)\ttotal: 8.12s\tremaining: 31.1s\n",
      "207:\tlearn: 1719.5628309\ttest: 1725.2521853\tbest: 1725.2521853 (207)\ttotal: 8.15s\tremaining: 31s\n",
      "208:\tlearn: 1718.4023372\ttest: 1724.4871376\tbest: 1724.4871376 (208)\ttotal: 8.19s\tremaining: 31s\n",
      "209:\tlearn: 1717.4196453\ttest: 1723.8067670\tbest: 1723.8067670 (209)\ttotal: 8.22s\tremaining: 30.9s\n",
      "210:\tlearn: 1716.7818763\ttest: 1723.3245533\tbest: 1723.3245533 (210)\ttotal: 8.27s\tremaining: 30.9s\n",
      "211:\tlearn: 1716.0301922\ttest: 1722.7725847\tbest: 1722.7725847 (211)\ttotal: 8.31s\tremaining: 30.9s\n",
      "212:\tlearn: 1715.3004058\ttest: 1722.1967491\tbest: 1722.1967491 (212)\ttotal: 8.35s\tremaining: 30.8s\n",
      "213:\tlearn: 1714.6811225\ttest: 1721.5604910\tbest: 1721.5604910 (213)\ttotal: 8.39s\tremaining: 30.8s\n",
      "214:\tlearn: 1713.8000309\ttest: 1720.8232236\tbest: 1720.8232236 (214)\ttotal: 8.43s\tremaining: 30.8s\n",
      "215:\tlearn: 1712.9577682\ttest: 1720.1699045\tbest: 1720.1699045 (215)\ttotal: 8.47s\tremaining: 30.7s\n",
      "216:\tlearn: 1711.9506089\ttest: 1719.3750875\tbest: 1719.3750875 (216)\ttotal: 8.51s\tremaining: 30.7s\n",
      "217:\tlearn: 1711.3337907\ttest: 1718.8545686\tbest: 1718.8545686 (217)\ttotal: 8.54s\tremaining: 30.7s\n",
      "218:\tlearn: 1710.6975774\ttest: 1718.3174500\tbest: 1718.3174500 (218)\ttotal: 8.59s\tremaining: 30.6s\n",
      "219:\tlearn: 1709.3322026\ttest: 1717.1811240\tbest: 1717.1811240 (219)\ttotal: 8.63s\tremaining: 30.6s\n",
      "220:\tlearn: 1708.4387830\ttest: 1716.6093836\tbest: 1716.6093836 (220)\ttotal: 8.67s\tremaining: 30.5s\n",
      "221:\tlearn: 1707.6318822\ttest: 1716.0672782\tbest: 1716.0672782 (221)\ttotal: 8.74s\tremaining: 30.6s\n",
      "222:\tlearn: 1706.9521635\ttest: 1715.5017168\tbest: 1715.5017168 (222)\ttotal: 8.81s\tremaining: 30.7s\n",
      "223:\tlearn: 1706.3166210\ttest: 1714.9632898\tbest: 1714.9632898 (223)\ttotal: 8.86s\tremaining: 30.7s\n",
      "224:\tlearn: 1705.6273222\ttest: 1714.4431000\tbest: 1714.4431000 (224)\ttotal: 8.89s\tremaining: 30.6s\n",
      "225:\tlearn: 1704.9352489\ttest: 1713.9934315\tbest: 1713.9934315 (225)\ttotal: 8.93s\tremaining: 30.6s\n",
      "226:\tlearn: 1704.3352146\ttest: 1713.5496459\tbest: 1713.5496459 (226)\ttotal: 8.97s\tremaining: 30.5s\n",
      "227:\tlearn: 1703.3274905\ttest: 1712.6855078\tbest: 1712.6855078 (227)\ttotal: 9s\tremaining: 30.5s\n",
      "228:\tlearn: 1702.5622699\ttest: 1712.1503115\tbest: 1712.1503115 (228)\ttotal: 9.04s\tremaining: 30.4s\n",
      "229:\tlearn: 1701.8943784\ttest: 1711.6685313\tbest: 1711.6685313 (229)\ttotal: 9.08s\tremaining: 30.4s\n",
      "230:\tlearn: 1701.2027214\ttest: 1711.1485809\tbest: 1711.1485809 (230)\ttotal: 9.12s\tremaining: 30.4s\n",
      "231:\tlearn: 1700.1817339\ttest: 1710.2949711\tbest: 1710.2949711 (231)\ttotal: 9.16s\tremaining: 30.3s\n",
      "232:\tlearn: 1699.3342075\ttest: 1709.6298441\tbest: 1709.6298441 (232)\ttotal: 9.2s\tremaining: 30.3s\n",
      "233:\tlearn: 1698.7937340\ttest: 1709.3010763\tbest: 1709.3010763 (233)\ttotal: 9.23s\tremaining: 30.2s\n",
      "234:\tlearn: 1697.9653481\ttest: 1708.6126229\tbest: 1708.6126229 (234)\ttotal: 9.27s\tremaining: 30.2s\n",
      "235:\tlearn: 1697.0622229\ttest: 1707.8495339\tbest: 1707.8495339 (235)\ttotal: 9.3s\tremaining: 30.1s\n",
      "236:\tlearn: 1696.2450366\ttest: 1707.0859701\tbest: 1707.0859701 (236)\ttotal: 9.35s\tremaining: 30.1s\n",
      "237:\tlearn: 1695.6367501\ttest: 1706.6935417\tbest: 1706.6935417 (237)\ttotal: 9.38s\tremaining: 30s\n",
      "238:\tlearn: 1695.0753217\ttest: 1706.2905589\tbest: 1706.2905589 (238)\ttotal: 9.42s\tremaining: 30s\n",
      "239:\tlearn: 1694.4568359\ttest: 1705.7845883\tbest: 1705.7845883 (239)\ttotal: 9.45s\tremaining: 29.9s\n",
      "240:\tlearn: 1693.5703330\ttest: 1705.1413270\tbest: 1705.1413270 (240)\ttotal: 9.49s\tremaining: 29.9s\n",
      "241:\tlearn: 1692.6958809\ttest: 1704.5036794\tbest: 1704.5036794 (241)\ttotal: 9.52s\tremaining: 29.8s\n",
      "242:\tlearn: 1691.8392806\ttest: 1703.8948315\tbest: 1703.8948315 (242)\ttotal: 9.56s\tremaining: 29.8s\n",
      "243:\tlearn: 1691.0311812\ttest: 1703.3601680\tbest: 1703.3601680 (243)\ttotal: 9.6s\tremaining: 29.7s\n",
      "244:\tlearn: 1690.3410493\ttest: 1702.8276497\tbest: 1702.8276497 (244)\ttotal: 9.64s\tremaining: 29.7s\n",
      "245:\tlearn: 1689.3967124\ttest: 1702.2081759\tbest: 1702.2081759 (245)\ttotal: 9.67s\tremaining: 29.6s\n",
      "246:\tlearn: 1688.8137913\ttest: 1701.7519016\tbest: 1701.7519016 (246)\ttotal: 9.71s\tremaining: 29.6s\n",
      "247:\tlearn: 1688.2403511\ttest: 1701.3477431\tbest: 1701.3477431 (247)\ttotal: 9.74s\tremaining: 29.5s\n",
      "248:\tlearn: 1687.8264122\ttest: 1701.0131421\tbest: 1701.0131421 (248)\ttotal: 9.78s\tremaining: 29.5s\n",
      "249:\tlearn: 1687.2093843\ttest: 1700.6038823\tbest: 1700.6038823 (249)\ttotal: 9.83s\tremaining: 29.5s\n",
      "250:\tlearn: 1686.2934149\ttest: 1699.9319050\tbest: 1699.9319050 (250)\ttotal: 9.9s\tremaining: 29.5s\n",
      "251:\tlearn: 1685.5838918\ttest: 1699.4160118\tbest: 1699.4160118 (251)\ttotal: 9.95s\tremaining: 29.5s\n",
      "252:\tlearn: 1684.8340594\ttest: 1698.8741102\tbest: 1698.8741102 (252)\ttotal: 9.99s\tremaining: 29.5s\n",
      "253:\tlearn: 1684.1171628\ttest: 1698.2848202\tbest: 1698.2848202 (253)\ttotal: 10s\tremaining: 29.5s\n",
      "254:\tlearn: 1683.5580197\ttest: 1697.9172834\tbest: 1697.9172834 (254)\ttotal: 10.1s\tremaining: 29.4s\n",
      "255:\tlearn: 1682.9504655\ttest: 1697.5474590\tbest: 1697.5474590 (255)\ttotal: 10.1s\tremaining: 29.4s\n",
      "256:\tlearn: 1682.2917996\ttest: 1697.0559874\tbest: 1697.0559874 (256)\ttotal: 10.1s\tremaining: 29.3s\n",
      "257:\tlearn: 1681.5128597\ttest: 1696.5740845\tbest: 1696.5740845 (257)\ttotal: 10.2s\tremaining: 29.3s\n",
      "258:\tlearn: 1680.9861451\ttest: 1696.1906146\tbest: 1696.1906146 (258)\ttotal: 10.2s\tremaining: 29.2s\n",
      "259:\tlearn: 1680.5627780\ttest: 1695.8344193\tbest: 1695.8344193 (259)\ttotal: 10.2s\tremaining: 29.2s\n",
      "260:\tlearn: 1680.0159878\ttest: 1695.4788747\tbest: 1695.4788747 (260)\ttotal: 10.3s\tremaining: 29.1s\n",
      "261:\tlearn: 1679.5603685\ttest: 1695.2653083\tbest: 1695.2653083 (261)\ttotal: 10.3s\tremaining: 29.1s\n",
      "262:\tlearn: 1678.8041888\ttest: 1694.6039116\tbest: 1694.6039116 (262)\ttotal: 10.3s\tremaining: 29s\n",
      "263:\tlearn: 1678.2649627\ttest: 1694.2660138\tbest: 1694.2660138 (263)\ttotal: 10.4s\tremaining: 29s\n",
      "264:\tlearn: 1677.5808388\ttest: 1693.8333798\tbest: 1693.8333798 (264)\ttotal: 10.4s\tremaining: 28.9s\n",
      "265:\tlearn: 1676.9900832\ttest: 1693.4303786\tbest: 1693.4303786 (265)\ttotal: 10.5s\tremaining: 28.9s\n",
      "266:\tlearn: 1676.3818315\ttest: 1693.1195210\tbest: 1693.1195210 (266)\ttotal: 10.5s\tremaining: 28.9s\n",
      "267:\tlearn: 1675.6987379\ttest: 1692.5263987\tbest: 1692.5263987 (267)\ttotal: 10.6s\tremaining: 28.8s\n",
      "268:\tlearn: 1675.0018319\ttest: 1691.9319990\tbest: 1691.9319990 (268)\ttotal: 10.6s\tremaining: 28.8s\n",
      "269:\tlearn: 1674.2681844\ttest: 1691.4900205\tbest: 1691.4900205 (269)\ttotal: 10.6s\tremaining: 28.7s\n",
      "270:\tlearn: 1673.7420166\ttest: 1691.0304070\tbest: 1691.0304070 (270)\ttotal: 10.7s\tremaining: 28.7s\n",
      "271:\tlearn: 1673.1744679\ttest: 1690.6866776\tbest: 1690.6866776 (271)\ttotal: 10.7s\tremaining: 28.7s\n",
      "272:\tlearn: 1672.4691013\ttest: 1690.2696124\tbest: 1690.2696124 (272)\ttotal: 10.8s\tremaining: 28.6s\n",
      "273:\tlearn: 1672.0988991\ttest: 1690.0436098\tbest: 1690.0436098 (273)\ttotal: 10.8s\tremaining: 28.6s\n",
      "274:\tlearn: 1671.6232979\ttest: 1689.6478540\tbest: 1689.6478540 (274)\ttotal: 10.8s\tremaining: 28.5s\n",
      "275:\tlearn: 1670.8679750\ttest: 1689.0797675\tbest: 1689.0797675 (275)\ttotal: 10.9s\tremaining: 28.5s\n",
      "276:\tlearn: 1670.5647704\ttest: 1688.8807044\tbest: 1688.8807044 (276)\ttotal: 10.9s\tremaining: 28.4s\n",
      "277:\tlearn: 1669.8847140\ttest: 1688.4172321\tbest: 1688.4172321 (277)\ttotal: 10.9s\tremaining: 28.4s\n",
      "278:\tlearn: 1669.1764011\ttest: 1687.9339313\tbest: 1687.9339313 (278)\ttotal: 11s\tremaining: 28.3s\n",
      "279:\tlearn: 1668.4982072\ttest: 1687.4246629\tbest: 1687.4246629 (279)\ttotal: 11s\tremaining: 28.3s\n",
      "280:\tlearn: 1667.8282439\ttest: 1686.9819257\tbest: 1686.9819257 (280)\ttotal: 11s\tremaining: 28.2s\n",
      "281:\tlearn: 1667.5332689\ttest: 1686.7942749\tbest: 1686.7942749 (281)\ttotal: 11.1s\tremaining: 28.2s\n",
      "282:\tlearn: 1667.0529823\ttest: 1686.5491480\tbest: 1686.5491480 (282)\ttotal: 11.1s\tremaining: 28.1s\n",
      "283:\tlearn: 1666.3594549\ttest: 1685.9651997\tbest: 1685.9651997 (283)\ttotal: 11.2s\tremaining: 28.1s\n",
      "284:\tlearn: 1665.8652599\ttest: 1685.6448276\tbest: 1685.6448276 (284)\ttotal: 11.2s\tremaining: 28.1s\n",
      "285:\tlearn: 1664.9374350\ttest: 1684.9878105\tbest: 1684.9878105 (285)\ttotal: 11.3s\tremaining: 28.1s\n",
      "286:\tlearn: 1664.3602403\ttest: 1684.5840793\tbest: 1684.5840793 (286)\ttotal: 11.3s\tremaining: 28.1s\n",
      "287:\tlearn: 1663.7754764\ttest: 1683.9951686\tbest: 1683.9951686 (287)\ttotal: 11.4s\tremaining: 28.1s\n",
      "288:\tlearn: 1663.1980841\ttest: 1683.6268243\tbest: 1683.6268243 (288)\ttotal: 11.4s\tremaining: 28s\n",
      "289:\tlearn: 1662.8192471\ttest: 1683.3925733\tbest: 1683.3925733 (289)\ttotal: 11.4s\tremaining: 28s\n",
      "290:\tlearn: 1662.0765389\ttest: 1682.9502747\tbest: 1682.9502747 (290)\ttotal: 11.5s\tremaining: 27.9s\n",
      "291:\tlearn: 1661.7269688\ttest: 1682.6403165\tbest: 1682.6403165 (291)\ttotal: 11.5s\tremaining: 27.9s\n",
      "292:\tlearn: 1661.2639123\ttest: 1682.2883293\tbest: 1682.2883293 (292)\ttotal: 11.5s\tremaining: 27.8s\n",
      "293:\tlearn: 1660.8220039\ttest: 1681.9061888\tbest: 1681.9061888 (293)\ttotal: 11.6s\tremaining: 27.8s\n",
      "294:\tlearn: 1660.4311267\ttest: 1681.5453247\tbest: 1681.5453247 (294)\ttotal: 11.6s\tremaining: 27.7s\n",
      "295:\tlearn: 1659.9931802\ttest: 1681.2450677\tbest: 1681.2450677 (295)\ttotal: 11.6s\tremaining: 27.7s\n",
      "296:\tlearn: 1659.2879831\ttest: 1680.8551611\tbest: 1680.8551611 (296)\ttotal: 11.7s\tremaining: 27.7s\n",
      "297:\tlearn: 1658.7406131\ttest: 1680.3247032\tbest: 1680.3247032 (297)\ttotal: 11.7s\tremaining: 27.6s\n",
      "298:\tlearn: 1658.3166779\ttest: 1680.0531270\tbest: 1680.0531270 (298)\ttotal: 11.8s\tremaining: 27.6s\n",
      "299:\tlearn: 1657.7430714\ttest: 1679.6305179\tbest: 1679.6305179 (299)\ttotal: 11.8s\tremaining: 27.5s\n",
      "300:\tlearn: 1657.3747885\ttest: 1679.4216757\tbest: 1679.4216757 (300)\ttotal: 11.8s\tremaining: 27.5s\n",
      "301:\tlearn: 1656.8531107\ttest: 1678.9863273\tbest: 1678.9863273 (301)\ttotal: 11.9s\tremaining: 27.5s\n",
      "302:\tlearn: 1656.1407818\ttest: 1678.4123842\tbest: 1678.4123842 (302)\ttotal: 11.9s\tremaining: 27.4s\n",
      "303:\tlearn: 1655.3388830\ttest: 1677.8646569\tbest: 1677.8646569 (303)\ttotal: 12s\tremaining: 27.4s\n",
      "304:\tlearn: 1654.8653386\ttest: 1677.5160709\tbest: 1677.5160709 (304)\ttotal: 12.1s\tremaining: 27.5s\n",
      "305:\tlearn: 1654.4506284\ttest: 1677.2528560\tbest: 1677.2528560 (305)\ttotal: 12.1s\tremaining: 27.5s\n",
      "306:\tlearn: 1653.4908308\ttest: 1676.5663887\tbest: 1676.5663887 (306)\ttotal: 12.2s\tremaining: 27.5s\n",
      "307:\tlearn: 1652.6610295\ttest: 1675.8985543\tbest: 1675.8985543 (307)\ttotal: 12.2s\tremaining: 27.5s\n",
      "308:\tlearn: 1652.2339441\ttest: 1675.6718617\tbest: 1675.6718617 (308)\ttotal: 12.3s\tremaining: 27.4s\n",
      "309:\tlearn: 1651.4988243\ttest: 1675.0088949\tbest: 1675.0088949 (309)\ttotal: 12.3s\tremaining: 27.4s\n",
      "310:\tlearn: 1650.9341236\ttest: 1674.5927553\tbest: 1674.5927553 (310)\ttotal: 12.4s\tremaining: 27.4s\n",
      "311:\tlearn: 1650.6308992\ttest: 1674.2883632\tbest: 1674.2883632 (311)\ttotal: 12.4s\tremaining: 27.3s\n",
      "312:\tlearn: 1650.0128320\ttest: 1673.8239034\tbest: 1673.8239034 (312)\ttotal: 12.4s\tremaining: 27.3s\n",
      "313:\tlearn: 1649.5582059\ttest: 1673.5957502\tbest: 1673.5957502 (313)\ttotal: 12.5s\tremaining: 27.2s\n",
      "314:\tlearn: 1649.0965365\ttest: 1673.3181935\tbest: 1673.3181935 (314)\ttotal: 12.5s\tremaining: 27.2s\n",
      "315:\tlearn: 1648.6426148\ttest: 1672.9638534\tbest: 1672.9638534 (315)\ttotal: 12.6s\tremaining: 27.2s\n",
      "316:\tlearn: 1648.0745541\ttest: 1672.5172243\tbest: 1672.5172243 (316)\ttotal: 12.7s\tremaining: 27.3s\n",
      "317:\tlearn: 1647.7295164\ttest: 1672.2308536\tbest: 1672.2308536 (317)\ttotal: 12.7s\tremaining: 27.2s\n",
      "318:\tlearn: 1647.0222548\ttest: 1671.6544713\tbest: 1671.6544713 (318)\ttotal: 12.7s\tremaining: 27.2s\n",
      "319:\tlearn: 1646.4872629\ttest: 1671.2526474\tbest: 1671.2526474 (319)\ttotal: 12.8s\tremaining: 27.2s\n",
      "320:\tlearn: 1646.0154777\ttest: 1670.9519129\tbest: 1670.9519129 (320)\ttotal: 12.8s\tremaining: 27.1s\n",
      "321:\tlearn: 1645.5417413\ttest: 1670.6870385\tbest: 1670.6870385 (321)\ttotal: 12.9s\tremaining: 27.1s\n",
      "322:\tlearn: 1645.2870092\ttest: 1670.5128665\tbest: 1670.5128665 (322)\ttotal: 12.9s\tremaining: 27s\n",
      "323:\tlearn: 1644.6408258\ttest: 1670.1350746\tbest: 1670.1350746 (323)\ttotal: 12.9s\tremaining: 27s\n",
      "324:\tlearn: 1644.1279247\ttest: 1669.7622085\tbest: 1669.7622085 (324)\ttotal: 13s\tremaining: 26.9s\n",
      "325:\tlearn: 1643.5158018\ttest: 1669.4406358\tbest: 1669.4406358 (325)\ttotal: 13s\tremaining: 26.9s\n",
      "326:\tlearn: 1643.0163972\ttest: 1669.1105540\tbest: 1669.1105540 (326)\ttotal: 13s\tremaining: 26.8s\n",
      "327:\tlearn: 1642.5617477\ttest: 1668.7811788\tbest: 1668.7811788 (327)\ttotal: 13.1s\tremaining: 26.8s\n",
      "328:\tlearn: 1642.1598740\ttest: 1668.5156896\tbest: 1668.5156896 (328)\ttotal: 13.1s\tremaining: 26.7s\n",
      "329:\tlearn: 1641.7723971\ttest: 1668.2674825\tbest: 1668.2674825 (329)\ttotal: 13.1s\tremaining: 26.7s\n",
      "330:\tlearn: 1640.9821145\ttest: 1667.7565549\tbest: 1667.7565549 (330)\ttotal: 13.2s\tremaining: 26.6s\n",
      "331:\tlearn: 1640.5650530\ttest: 1667.4732141\tbest: 1667.4732141 (331)\ttotal: 13.2s\tremaining: 26.6s\n",
      "332:\tlearn: 1640.2421409\ttest: 1667.3089555\tbest: 1667.3089555 (332)\ttotal: 13.3s\tremaining: 26.6s\n",
      "333:\tlearn: 1639.8439075\ttest: 1667.0437599\tbest: 1667.0437599 (333)\ttotal: 13.3s\tremaining: 26.5s\n",
      "334:\tlearn: 1639.4151738\ttest: 1666.6712648\tbest: 1666.6712648 (334)\ttotal: 13.3s\tremaining: 26.5s\n",
      "335:\tlearn: 1638.8939624\ttest: 1666.2611915\tbest: 1666.2611915 (335)\ttotal: 13.4s\tremaining: 26.4s\n",
      "336:\tlearn: 1638.5031267\ttest: 1665.9810379\tbest: 1665.9810379 (336)\ttotal: 13.4s\tremaining: 26.4s\n",
      "337:\tlearn: 1637.9730025\ttest: 1665.6266817\tbest: 1665.6266817 (337)\ttotal: 13.4s\tremaining: 26.3s\n",
      "338:\tlearn: 1637.5640913\ttest: 1665.3047304\tbest: 1665.3047304 (338)\ttotal: 13.5s\tremaining: 26.3s\n",
      "339:\tlearn: 1637.1702270\ttest: 1665.0571700\tbest: 1665.0571700 (339)\ttotal: 13.5s\tremaining: 26.2s\n",
      "340:\tlearn: 1636.5104898\ttest: 1664.6077896\tbest: 1664.6077896 (340)\ttotal: 13.6s\tremaining: 26.2s\n",
      "341:\tlearn: 1635.9938627\ttest: 1664.2883549\tbest: 1664.2883549 (341)\ttotal: 13.6s\tremaining: 26.2s\n",
      "342:\tlearn: 1635.7987808\ttest: 1664.1350452\tbest: 1664.1350452 (342)\ttotal: 13.6s\tremaining: 26.1s\n",
      "343:\tlearn: 1635.3772592\ttest: 1663.7963641\tbest: 1663.7963641 (343)\ttotal: 13.7s\tremaining: 26.1s\n",
      "344:\tlearn: 1634.8701841\ttest: 1663.4540084\tbest: 1663.4540084 (344)\ttotal: 13.8s\tremaining: 26.1s\n",
      "345:\tlearn: 1634.3257756\ttest: 1662.9939605\tbest: 1662.9939605 (345)\ttotal: 13.8s\tremaining: 26.1s\n",
      "346:\tlearn: 1634.0010018\ttest: 1662.7277340\tbest: 1662.7277340 (346)\ttotal: 13.9s\tremaining: 26.1s\n",
      "347:\tlearn: 1633.4034106\ttest: 1662.3206967\tbest: 1662.3206967 (347)\ttotal: 13.9s\tremaining: 26s\n",
      "348:\tlearn: 1633.0364414\ttest: 1662.0073805\tbest: 1662.0073805 (348)\ttotal: 13.9s\tremaining: 26s\n",
      "349:\tlearn: 1632.6422146\ttest: 1661.7559587\tbest: 1661.7559587 (349)\ttotal: 14s\tremaining: 25.9s\n",
      "350:\tlearn: 1632.2937356\ttest: 1661.4604086\tbest: 1661.4604086 (350)\ttotal: 14s\tremaining: 25.9s\n",
      "351:\tlearn: 1631.5476151\ttest: 1660.9152542\tbest: 1660.9152542 (351)\ttotal: 14s\tremaining: 25.8s\n",
      "352:\tlearn: 1631.0448936\ttest: 1660.5558623\tbest: 1660.5558623 (352)\ttotal: 14.1s\tremaining: 25.8s\n",
      "353:\tlearn: 1630.7633358\ttest: 1660.3486502\tbest: 1660.3486502 (353)\ttotal: 14.1s\tremaining: 25.8s\n",
      "354:\tlearn: 1630.3414083\ttest: 1659.9765313\tbest: 1659.9765313 (354)\ttotal: 14.2s\tremaining: 25.7s\n",
      "355:\tlearn: 1629.9268108\ttest: 1659.7382340\tbest: 1659.7382340 (355)\ttotal: 14.2s\tremaining: 25.7s\n",
      "356:\tlearn: 1629.5896779\ttest: 1659.4321723\tbest: 1659.4321723 (356)\ttotal: 14.2s\tremaining: 25.6s\n",
      "357:\tlearn: 1629.2610146\ttest: 1659.2596307\tbest: 1659.2596307 (357)\ttotal: 14.3s\tremaining: 25.6s\n",
      "358:\tlearn: 1629.0170694\ttest: 1659.1251692\tbest: 1659.1251692 (358)\ttotal: 14.3s\tremaining: 25.5s\n",
      "359:\tlearn: 1628.6672725\ttest: 1658.9163076\tbest: 1658.9163076 (359)\ttotal: 14.3s\tremaining: 25.5s\n",
      "360:\tlearn: 1628.3614771\ttest: 1658.7694958\tbest: 1658.7694958 (360)\ttotal: 14.4s\tremaining: 25.4s\n",
      "361:\tlearn: 1628.1167013\ttest: 1658.5879817\tbest: 1658.5879817 (361)\ttotal: 14.4s\tremaining: 25.4s\n",
      "362:\tlearn: 1627.9064938\ttest: 1658.4498839\tbest: 1658.4498839 (362)\ttotal: 14.4s\tremaining: 25.3s\n",
      "363:\tlearn: 1627.3709909\ttest: 1658.0394917\tbest: 1658.0394917 (363)\ttotal: 14.5s\tremaining: 25.3s\n",
      "364:\tlearn: 1626.6920305\ttest: 1657.5035705\tbest: 1657.5035705 (364)\ttotal: 14.5s\tremaining: 25.3s\n",
      "365:\tlearn: 1626.3724097\ttest: 1657.2829836\tbest: 1657.2829836 (365)\ttotal: 14.6s\tremaining: 25.2s\n",
      "366:\tlearn: 1625.9201454\ttest: 1656.9975091\tbest: 1656.9975091 (366)\ttotal: 14.6s\tremaining: 25.2s\n",
      "367:\tlearn: 1625.2869545\ttest: 1656.6077529\tbest: 1656.6077529 (367)\ttotal: 14.6s\tremaining: 25.1s\n",
      "368:\tlearn: 1624.8501362\ttest: 1656.3109221\tbest: 1656.3109221 (368)\ttotal: 14.7s\tremaining: 25.1s\n",
      "369:\tlearn: 1624.4490945\ttest: 1656.0758993\tbest: 1656.0758993 (369)\ttotal: 14.7s\tremaining: 25s\n",
      "370:\tlearn: 1624.0732657\ttest: 1655.8389965\tbest: 1655.8389965 (370)\ttotal: 14.7s\tremaining: 25s\n",
      "371:\tlearn: 1623.5434828\ttest: 1655.5146722\tbest: 1655.5146722 (371)\ttotal: 14.9s\tremaining: 25.1s\n",
      "372:\tlearn: 1623.0809696\ttest: 1655.1186337\tbest: 1655.1186337 (372)\ttotal: 14.9s\tremaining: 25s\n",
      "373:\tlearn: 1622.5842613\ttest: 1654.6993465\tbest: 1654.6993465 (373)\ttotal: 14.9s\tremaining: 25s\n",
      "374:\tlearn: 1622.2436897\ttest: 1654.4833606\tbest: 1654.4833606 (374)\ttotal: 15s\tremaining: 25s\n",
      "375:\tlearn: 1621.6075296\ttest: 1654.1190681\tbest: 1654.1190681 (375)\ttotal: 15s\tremaining: 24.9s\n",
      "376:\tlearn: 1621.2079635\ttest: 1653.8825130\tbest: 1653.8825130 (376)\ttotal: 15s\tremaining: 24.9s\n",
      "377:\tlearn: 1620.7812744\ttest: 1653.5452925\tbest: 1653.5452925 (377)\ttotal: 15.1s\tremaining: 24.8s\n",
      "378:\tlearn: 1620.4937535\ttest: 1653.3247034\tbest: 1653.3247034 (378)\ttotal: 15.1s\tremaining: 24.8s\n",
      "379:\tlearn: 1620.0441110\ttest: 1653.0790696\tbest: 1653.0790696 (379)\ttotal: 15.2s\tremaining: 24.7s\n",
      "380:\tlearn: 1619.6194978\ttest: 1652.7436559\tbest: 1652.7436559 (380)\ttotal: 15.2s\tremaining: 24.7s\n",
      "381:\tlearn: 1619.2270128\ttest: 1652.5045289\tbest: 1652.5045289 (381)\ttotal: 15.2s\tremaining: 24.6s\n",
      "382:\tlearn: 1618.7492686\ttest: 1652.2553065\tbest: 1652.2553065 (382)\ttotal: 15.3s\tremaining: 24.6s\n",
      "383:\tlearn: 1618.4771466\ttest: 1652.0796771\tbest: 1652.0796771 (383)\ttotal: 15.3s\tremaining: 24.6s\n",
      "384:\tlearn: 1618.1579210\ttest: 1651.9394137\tbest: 1651.9394137 (384)\ttotal: 15.3s\tremaining: 24.5s\n",
      "385:\tlearn: 1617.7771048\ttest: 1651.7423131\tbest: 1651.7423131 (385)\ttotal: 15.4s\tremaining: 24.5s\n",
      "386:\tlearn: 1617.2818649\ttest: 1651.3884436\tbest: 1651.3884436 (386)\ttotal: 15.4s\tremaining: 24.4s\n",
      "387:\tlearn: 1616.9247212\ttest: 1651.1395715\tbest: 1651.1395715 (387)\ttotal: 15.5s\tremaining: 24.4s\n",
      "388:\tlearn: 1616.5454434\ttest: 1650.8812791\tbest: 1650.8812791 (388)\ttotal: 15.5s\tremaining: 24.3s\n",
      "389:\tlearn: 1616.2324229\ttest: 1650.6858381\tbest: 1650.6858381 (389)\ttotal: 15.5s\tremaining: 24.3s\n",
      "390:\tlearn: 1615.9129894\ttest: 1650.4298604\tbest: 1650.4298604 (390)\ttotal: 15.6s\tremaining: 24.2s\n",
      "391:\tlearn: 1615.3781992\ttest: 1650.1009640\tbest: 1650.1009640 (391)\ttotal: 15.6s\tremaining: 24.2s\n",
      "392:\tlearn: 1615.0794693\ttest: 1649.9337812\tbest: 1649.9337812 (392)\ttotal: 15.6s\tremaining: 24.1s\n",
      "393:\tlearn: 1614.8191689\ttest: 1649.7746302\tbest: 1649.7746302 (393)\ttotal: 15.7s\tremaining: 24.1s\n",
      "394:\tlearn: 1614.4307670\ttest: 1649.5311779\tbest: 1649.5311779 (394)\ttotal: 15.7s\tremaining: 24.1s\n",
      "395:\tlearn: 1613.8748038\ttest: 1649.0342809\tbest: 1649.0342809 (395)\ttotal: 15.8s\tremaining: 24s\n",
      "396:\tlearn: 1613.4673042\ttest: 1648.7187191\tbest: 1648.7187191 (396)\ttotal: 15.8s\tremaining: 24s\n",
      "397:\tlearn: 1613.2174750\ttest: 1648.5939277\tbest: 1648.5939277 (397)\ttotal: 15.8s\tremaining: 23.9s\n",
      "398:\tlearn: 1612.9776780\ttest: 1648.4597417\tbest: 1648.4597417 (398)\ttotal: 15.9s\tremaining: 23.9s\n",
      "399:\tlearn: 1612.6236183\ttest: 1648.2209797\tbest: 1648.2209797 (399)\ttotal: 15.9s\tremaining: 23.9s\n",
      "400:\tlearn: 1612.1205860\ttest: 1647.9515167\tbest: 1647.9515167 (400)\ttotal: 15.9s\tremaining: 23.8s\n",
      "401:\tlearn: 1611.7675960\ttest: 1647.6579422\tbest: 1647.6579422 (401)\ttotal: 16s\tremaining: 23.8s\n",
      "402:\tlearn: 1611.4897699\ttest: 1647.4829156\tbest: 1647.4829156 (402)\ttotal: 16s\tremaining: 23.7s\n",
      "403:\tlearn: 1611.0411119\ttest: 1647.1322494\tbest: 1647.1322494 (403)\ttotal: 16.1s\tremaining: 23.7s\n",
      "404:\tlearn: 1610.7771228\ttest: 1646.9475048\tbest: 1646.9475048 (404)\ttotal: 16.1s\tremaining: 23.7s\n",
      "405:\tlearn: 1610.0585109\ttest: 1646.4847398\tbest: 1646.4847398 (405)\ttotal: 16.2s\tremaining: 23.7s\n",
      "406:\tlearn: 1609.6935792\ttest: 1646.3031740\tbest: 1646.3031740 (406)\ttotal: 16.2s\tremaining: 23.7s\n",
      "407:\tlearn: 1609.4603723\ttest: 1646.1383111\tbest: 1646.1383111 (407)\ttotal: 16.3s\tremaining: 23.6s\n",
      "408:\tlearn: 1609.0635764\ttest: 1645.9466545\tbest: 1645.9466545 (408)\ttotal: 16.3s\tremaining: 23.6s\n",
      "409:\tlearn: 1608.7310523\ttest: 1645.6587660\tbest: 1645.6587660 (409)\ttotal: 16.4s\tremaining: 23.6s\n",
      "410:\tlearn: 1607.9988325\ttest: 1645.1663547\tbest: 1645.1663547 (410)\ttotal: 16.4s\tremaining: 23.5s\n",
      "411:\tlearn: 1607.6661356\ttest: 1644.9534483\tbest: 1644.9534483 (411)\ttotal: 16.4s\tremaining: 23.5s\n",
      "412:\tlearn: 1607.4165841\ttest: 1644.8559950\tbest: 1644.8559950 (412)\ttotal: 16.5s\tremaining: 23.4s\n",
      "413:\tlearn: 1607.0598679\ttest: 1644.6649013\tbest: 1644.6649013 (413)\ttotal: 16.5s\tremaining: 23.4s\n",
      "414:\tlearn: 1606.6738524\ttest: 1644.4158221\tbest: 1644.4158221 (414)\ttotal: 16.6s\tremaining: 23.3s\n",
      "415:\tlearn: 1606.3791010\ttest: 1644.2902108\tbest: 1644.2902108 (415)\ttotal: 16.6s\tremaining: 23.3s\n",
      "416:\tlearn: 1605.8672559\ttest: 1643.9534051\tbest: 1643.9534051 (416)\ttotal: 16.6s\tremaining: 23.3s\n",
      "417:\tlearn: 1605.5176082\ttest: 1643.7767696\tbest: 1643.7767696 (417)\ttotal: 16.7s\tremaining: 23.2s\n",
      "418:\tlearn: 1605.3399217\ttest: 1643.6381717\tbest: 1643.6381717 (418)\ttotal: 16.7s\tremaining: 23.2s\n",
      "419:\tlearn: 1604.9581102\ttest: 1643.2796419\tbest: 1643.2796419 (419)\ttotal: 16.8s\tremaining: 23.2s\n",
      "420:\tlearn: 1604.3245184\ttest: 1642.8519987\tbest: 1642.8519987 (420)\ttotal: 16.8s\tremaining: 23.1s\n",
      "421:\tlearn: 1603.8123339\ttest: 1642.4300118\tbest: 1642.4300118 (421)\ttotal: 16.9s\tremaining: 23.1s\n",
      "422:\tlearn: 1603.5087244\ttest: 1642.1610529\tbest: 1642.1610529 (422)\ttotal: 16.9s\tremaining: 23s\n",
      "423:\tlearn: 1603.0715513\ttest: 1641.8361801\tbest: 1641.8361801 (423)\ttotal: 16.9s\tremaining: 23s\n",
      "424:\tlearn: 1602.8291137\ttest: 1641.7438328\tbest: 1641.7438328 (424)\ttotal: 17s\tremaining: 23s\n",
      "425:\tlearn: 1602.4805403\ttest: 1641.5428083\tbest: 1641.5428083 (425)\ttotal: 17s\tremaining: 22.9s\n",
      "426:\tlearn: 1602.1582639\ttest: 1641.3319246\tbest: 1641.3319246 (426)\ttotal: 17.1s\tremaining: 22.9s\n",
      "427:\tlearn: 1601.8139597\ttest: 1641.1470838\tbest: 1641.1470838 (427)\ttotal: 17.1s\tremaining: 22.8s\n",
      "428:\tlearn: 1601.5311933\ttest: 1640.9717407\tbest: 1640.9717407 (428)\ttotal: 17.1s\tremaining: 22.8s\n",
      "429:\tlearn: 1601.2608444\ttest: 1640.7243915\tbest: 1640.7243915 (429)\ttotal: 17.2s\tremaining: 22.8s\n",
      "430:\tlearn: 1600.9416596\ttest: 1640.5164519\tbest: 1640.5164519 (430)\ttotal: 17.2s\tremaining: 22.7s\n",
      "431:\tlearn: 1600.6577727\ttest: 1640.3130302\tbest: 1640.3130302 (431)\ttotal: 17.3s\tremaining: 22.7s\n",
      "432:\tlearn: 1600.1685296\ttest: 1640.0443974\tbest: 1640.0443974 (432)\ttotal: 17.3s\tremaining: 22.7s\n",
      "433:\tlearn: 1599.8395250\ttest: 1639.8329853\tbest: 1639.8329853 (433)\ttotal: 17.4s\tremaining: 22.7s\n",
      "434:\tlearn: 1599.4451769\ttest: 1639.6440995\tbest: 1639.6440995 (434)\ttotal: 17.4s\tremaining: 22.6s\n",
      "435:\tlearn: 1599.1581072\ttest: 1639.4042015\tbest: 1639.4042015 (435)\ttotal: 17.5s\tremaining: 22.6s\n",
      "436:\tlearn: 1598.5227372\ttest: 1639.0420865\tbest: 1639.0420865 (436)\ttotal: 17.5s\tremaining: 22.5s\n",
      "437:\tlearn: 1598.1590220\ttest: 1638.7828498\tbest: 1638.7828498 (437)\ttotal: 17.5s\tremaining: 22.5s\n",
      "438:\tlearn: 1597.8053060\ttest: 1638.5598281\tbest: 1638.5598281 (438)\ttotal: 17.6s\tremaining: 22.5s\n",
      "439:\tlearn: 1597.5658501\ttest: 1638.4688060\tbest: 1638.4688060 (439)\ttotal: 17.6s\tremaining: 22.4s\n",
      "440:\tlearn: 1597.1290047\ttest: 1638.2267483\tbest: 1638.2267483 (440)\ttotal: 17.6s\tremaining: 22.4s\n",
      "441:\tlearn: 1596.8450032\ttest: 1638.0839810\tbest: 1638.0839810 (441)\ttotal: 17.7s\tremaining: 22.3s\n",
      "442:\tlearn: 1596.3921452\ttest: 1637.7551922\tbest: 1637.7551922 (442)\ttotal: 17.7s\tremaining: 22.3s\n",
      "443:\tlearn: 1596.2027783\ttest: 1637.6054248\tbest: 1637.6054248 (443)\ttotal: 17.7s\tremaining: 22.2s\n",
      "444:\tlearn: 1595.8706590\ttest: 1637.3855154\tbest: 1637.3855154 (444)\ttotal: 17.8s\tremaining: 22.2s\n",
      "445:\tlearn: 1595.5995008\ttest: 1637.1730190\tbest: 1637.1730190 (445)\ttotal: 17.8s\tremaining: 22.1s\n",
      "446:\tlearn: 1595.2865130\ttest: 1636.9614852\tbest: 1636.9614852 (446)\ttotal: 17.9s\tremaining: 22.1s\n",
      "447:\tlearn: 1594.7508047\ttest: 1636.5645996\tbest: 1636.5645996 (447)\ttotal: 17.9s\tremaining: 22s\n",
      "448:\tlearn: 1594.5644022\ttest: 1636.4712432\tbest: 1636.4712432 (448)\ttotal: 17.9s\tremaining: 22s\n",
      "449:\tlearn: 1594.2842114\ttest: 1636.2939079\tbest: 1636.2939079 (449)\ttotal: 18s\tremaining: 22s\n",
      "450:\tlearn: 1594.0040936\ttest: 1636.1888921\tbest: 1636.1888921 (450)\ttotal: 18s\tremaining: 21.9s\n",
      "451:\tlearn: 1593.7671499\ttest: 1636.0553228\tbest: 1636.0553228 (451)\ttotal: 18.1s\tremaining: 21.9s\n",
      "452:\tlearn: 1593.4253610\ttest: 1635.8778492\tbest: 1635.8778492 (452)\ttotal: 18.1s\tremaining: 21.8s\n",
      "453:\tlearn: 1593.0773219\ttest: 1635.6966350\tbest: 1635.6966350 (453)\ttotal: 18.1s\tremaining: 21.8s\n",
      "454:\tlearn: 1592.6866756\ttest: 1635.3839855\tbest: 1635.3839855 (454)\ttotal: 18.2s\tremaining: 21.8s\n",
      "455:\tlearn: 1592.4202796\ttest: 1635.2323645\tbest: 1635.2323645 (455)\ttotal: 18.2s\tremaining: 21.7s\n",
      "456:\tlearn: 1592.1786326\ttest: 1635.0955919\tbest: 1635.0955919 (456)\ttotal: 18.3s\tremaining: 21.7s\n",
      "457:\tlearn: 1591.9992126\ttest: 1635.0129553\tbest: 1635.0129553 (457)\ttotal: 18.3s\tremaining: 21.6s\n",
      "458:\tlearn: 1591.8177038\ttest: 1634.9532429\tbest: 1634.9532429 (458)\ttotal: 18.3s\tremaining: 21.6s\n",
      "459:\tlearn: 1591.5906328\ttest: 1634.7632990\tbest: 1634.7632990 (459)\ttotal: 18.4s\tremaining: 21.6s\n",
      "460:\tlearn: 1591.3589615\ttest: 1634.6329723\tbest: 1634.6329723 (460)\ttotal: 18.5s\tremaining: 21.6s\n",
      "461:\tlearn: 1591.0259626\ttest: 1634.4289254\tbest: 1634.4289254 (461)\ttotal: 18.5s\tremaining: 21.6s\n",
      "462:\tlearn: 1590.7636209\ttest: 1634.2082890\tbest: 1634.2082890 (462)\ttotal: 18.6s\tremaining: 21.5s\n",
      "463:\tlearn: 1590.5720443\ttest: 1634.1046587\tbest: 1634.1046587 (463)\ttotal: 18.6s\tremaining: 21.5s\n",
      "464:\tlearn: 1590.3653075\ttest: 1633.9776477\tbest: 1633.9776477 (464)\ttotal: 18.6s\tremaining: 21.4s\n",
      "465:\tlearn: 1590.0145518\ttest: 1633.8748751\tbest: 1633.8748751 (465)\ttotal: 18.7s\tremaining: 21.4s\n",
      "466:\tlearn: 1589.7151160\ttest: 1633.8044815\tbest: 1633.8044815 (466)\ttotal: 18.7s\tremaining: 21.4s\n",
      "467:\tlearn: 1589.3389053\ttest: 1633.5711440\tbest: 1633.5711440 (467)\ttotal: 18.7s\tremaining: 21.3s\n",
      "468:\tlearn: 1589.1276597\ttest: 1633.4417787\tbest: 1633.4417787 (468)\ttotal: 18.8s\tremaining: 21.3s\n",
      "469:\tlearn: 1588.8341242\ttest: 1633.2789300\tbest: 1633.2789300 (469)\ttotal: 18.8s\tremaining: 21.2s\n",
      "470:\tlearn: 1588.5656607\ttest: 1633.0981281\tbest: 1633.0981281 (470)\ttotal: 18.9s\tremaining: 21.2s\n",
      "471:\tlearn: 1588.0613244\ttest: 1632.6846124\tbest: 1632.6846124 (471)\ttotal: 18.9s\tremaining: 21.1s\n",
      "472:\tlearn: 1587.8103041\ttest: 1632.5470413\tbest: 1632.5470413 (472)\ttotal: 18.9s\tremaining: 21.1s\n",
      "473:\tlearn: 1587.6088228\ttest: 1632.4823422\tbest: 1632.4823422 (473)\ttotal: 19s\tremaining: 21.1s\n",
      "474:\tlearn: 1587.3596686\ttest: 1632.4171017\tbest: 1632.4171017 (474)\ttotal: 19s\tremaining: 21s\n",
      "475:\tlearn: 1587.1238618\ttest: 1632.2177611\tbest: 1632.2177611 (475)\ttotal: 19s\tremaining: 21s\n",
      "476:\tlearn: 1586.7101413\ttest: 1632.0287933\tbest: 1632.0287933 (476)\ttotal: 19.1s\tremaining: 20.9s\n",
      "477:\tlearn: 1586.3036329\ttest: 1631.7606308\tbest: 1631.7606308 (477)\ttotal: 19.1s\tremaining: 20.9s\n",
      "478:\tlearn: 1585.9890426\ttest: 1631.5934480\tbest: 1631.5934480 (478)\ttotal: 19.2s\tremaining: 20.8s\n",
      "479:\tlearn: 1585.5120198\ttest: 1631.3186055\tbest: 1631.3186055 (479)\ttotal: 19.2s\tremaining: 20.8s\n",
      "480:\tlearn: 1585.2530894\ttest: 1631.1304002\tbest: 1631.1304002 (480)\ttotal: 19.2s\tremaining: 20.8s\n",
      "481:\tlearn: 1584.9483536\ttest: 1630.9473464\tbest: 1630.9473464 (481)\ttotal: 19.3s\tremaining: 20.7s\n",
      "482:\tlearn: 1584.6504508\ttest: 1630.7715646\tbest: 1630.7715646 (482)\ttotal: 19.3s\tremaining: 20.7s\n",
      "483:\tlearn: 1584.3174182\ttest: 1630.6161210\tbest: 1630.6161210 (483)\ttotal: 19.3s\tremaining: 20.6s\n",
      "484:\tlearn: 1583.9207636\ttest: 1630.3143399\tbest: 1630.3143399 (484)\ttotal: 19.4s\tremaining: 20.6s\n",
      "485:\tlearn: 1583.7075484\ttest: 1630.1510956\tbest: 1630.1510956 (485)\ttotal: 19.4s\tremaining: 20.5s\n",
      "486:\tlearn: 1583.4310315\ttest: 1629.9765492\tbest: 1629.9765492 (486)\ttotal: 19.5s\tremaining: 20.5s\n",
      "487:\tlearn: 1583.1702041\ttest: 1629.8052996\tbest: 1629.8052996 (487)\ttotal: 19.5s\tremaining: 20.4s\n",
      "488:\tlearn: 1582.9674488\ttest: 1629.6654988\tbest: 1629.6654988 (488)\ttotal: 19.5s\tremaining: 20.4s\n",
      "489:\tlearn: 1582.5870998\ttest: 1629.4718336\tbest: 1629.4718336 (489)\ttotal: 19.6s\tremaining: 20.4s\n",
      "490:\tlearn: 1582.2765563\ttest: 1629.2389940\tbest: 1629.2389940 (490)\ttotal: 19.7s\tremaining: 20.4s\n",
      "491:\tlearn: 1582.0080149\ttest: 1629.0526466\tbest: 1629.0526466 (491)\ttotal: 19.7s\tremaining: 20.3s\n",
      "492:\tlearn: 1581.7665194\ttest: 1628.8620593\tbest: 1628.8620593 (492)\ttotal: 19.7s\tremaining: 20.3s\n",
      "493:\tlearn: 1581.4838036\ttest: 1628.6321839\tbest: 1628.6321839 (493)\ttotal: 19.8s\tremaining: 20.3s\n",
      "494:\tlearn: 1581.2723569\ttest: 1628.5862248\tbest: 1628.5862248 (494)\ttotal: 19.8s\tremaining: 20.2s\n",
      "495:\tlearn: 1580.9213083\ttest: 1628.2933248\tbest: 1628.2933248 (495)\ttotal: 19.8s\tremaining: 20.2s\n",
      "496:\tlearn: 1580.6408258\ttest: 1628.1269503\tbest: 1628.1269503 (496)\ttotal: 19.9s\tremaining: 20.1s\n",
      "497:\tlearn: 1580.3410603\ttest: 1628.0006502\tbest: 1628.0006502 (497)\ttotal: 19.9s\tremaining: 20.1s\n",
      "498:\tlearn: 1579.9449485\ttest: 1627.7312277\tbest: 1627.7312277 (498)\ttotal: 19.9s\tremaining: 20s\n",
      "499:\tlearn: 1579.6751278\ttest: 1627.5769328\tbest: 1627.5769328 (499)\ttotal: 20s\tremaining: 20s\n",
      "500:\tlearn: 1579.4143942\ttest: 1627.4648171\tbest: 1627.4648171 (500)\ttotal: 20s\tremaining: 19.9s\n",
      "501:\tlearn: 1579.0302826\ttest: 1627.1608239\tbest: 1627.1608239 (501)\ttotal: 20.1s\tremaining: 19.9s\n",
      "502:\tlearn: 1578.8468227\ttest: 1627.0547300\tbest: 1627.0547300 (502)\ttotal: 20.1s\tremaining: 19.9s\n",
      "503:\tlearn: 1578.4050282\ttest: 1626.7974221\tbest: 1626.7974221 (503)\ttotal: 20.1s\tremaining: 19.8s\n",
      "504:\tlearn: 1578.1211659\ttest: 1626.6253098\tbest: 1626.6253098 (504)\ttotal: 20.2s\tremaining: 19.8s\n",
      "505:\tlearn: 1577.7247961\ttest: 1626.3471803\tbest: 1626.3471803 (505)\ttotal: 20.2s\tremaining: 19.7s\n",
      "506:\tlearn: 1577.4373186\ttest: 1626.2370446\tbest: 1626.2370446 (506)\ttotal: 20.2s\tremaining: 19.7s\n",
      "507:\tlearn: 1577.1553002\ttest: 1626.0585135\tbest: 1626.0585135 (507)\ttotal: 20.3s\tremaining: 19.6s\n",
      "508:\tlearn: 1576.8752558\ttest: 1625.8179706\tbest: 1625.8179706 (508)\ttotal: 20.3s\tremaining: 19.6s\n",
      "509:\tlearn: 1576.5935306\ttest: 1625.6572694\tbest: 1625.6572694 (509)\ttotal: 20.4s\tremaining: 19.6s\n",
      "510:\tlearn: 1576.3602235\ttest: 1625.6137953\tbest: 1625.6137953 (510)\ttotal: 20.4s\tremaining: 19.5s\n",
      "511:\tlearn: 1575.9070572\ttest: 1625.3216726\tbest: 1625.3216726 (511)\ttotal: 20.4s\tremaining: 19.5s\n",
      "512:\tlearn: 1575.7653727\ttest: 1625.2625472\tbest: 1625.2625472 (512)\ttotal: 20.5s\tremaining: 19.4s\n",
      "513:\tlearn: 1575.4233018\ttest: 1625.0090307\tbest: 1625.0090307 (513)\ttotal: 20.5s\tremaining: 19.4s\n",
      "514:\tlearn: 1575.1851675\ttest: 1624.8923622\tbest: 1624.8923622 (514)\ttotal: 20.6s\tremaining: 19.4s\n",
      "515:\tlearn: 1574.9700562\ttest: 1624.7297477\tbest: 1624.7297477 (515)\ttotal: 20.6s\tremaining: 19.3s\n",
      "516:\tlearn: 1574.5050897\ttest: 1624.4809819\tbest: 1624.4809819 (516)\ttotal: 20.7s\tremaining: 19.3s\n",
      "517:\tlearn: 1574.2812034\ttest: 1624.3176261\tbest: 1624.3176261 (517)\ttotal: 20.7s\tremaining: 19.3s\n",
      "518:\tlearn: 1574.0432959\ttest: 1624.2529511\tbest: 1624.2529511 (518)\ttotal: 20.8s\tremaining: 19.3s\n",
      "519:\tlearn: 1573.7543023\ttest: 1624.0734599\tbest: 1624.0734599 (519)\ttotal: 20.8s\tremaining: 19.2s\n",
      "520:\tlearn: 1573.4655329\ttest: 1623.9231524\tbest: 1623.9231524 (520)\ttotal: 20.9s\tremaining: 19.2s\n",
      "521:\tlearn: 1573.2488947\ttest: 1623.8119551\tbest: 1623.8119551 (521)\ttotal: 20.9s\tremaining: 19.1s\n",
      "522:\tlearn: 1573.0573966\ttest: 1623.6650545\tbest: 1623.6650545 (522)\ttotal: 20.9s\tremaining: 19.1s\n",
      "523:\tlearn: 1572.8271358\ttest: 1623.5892127\tbest: 1623.5892127 (523)\ttotal: 21s\tremaining: 19.1s\n",
      "524:\tlearn: 1572.5246811\ttest: 1623.4459407\tbest: 1623.4459407 (524)\ttotal: 21s\tremaining: 19s\n",
      "525:\tlearn: 1572.3078810\ttest: 1623.3521354\tbest: 1623.3521354 (525)\ttotal: 21s\tremaining: 19s\n",
      "526:\tlearn: 1572.0429508\ttest: 1623.1757524\tbest: 1623.1757524 (526)\ttotal: 21.1s\tremaining: 18.9s\n",
      "527:\tlearn: 1571.9559952\ttest: 1623.1240837\tbest: 1623.1240837 (527)\ttotal: 21.1s\tremaining: 18.9s\n",
      "528:\tlearn: 1571.8028444\ttest: 1623.0987017\tbest: 1623.0987017 (528)\ttotal: 21.2s\tremaining: 18.8s\n",
      "529:\tlearn: 1571.5731692\ttest: 1622.9746265\tbest: 1622.9746265 (529)\ttotal: 21.2s\tremaining: 18.8s\n",
      "530:\tlearn: 1571.3629132\ttest: 1622.8679351\tbest: 1622.8679351 (530)\ttotal: 21.2s\tremaining: 18.7s\n",
      "531:\tlearn: 1570.9134006\ttest: 1622.6662992\tbest: 1622.6662992 (531)\ttotal: 21.3s\tremaining: 18.7s\n",
      "532:\tlearn: 1570.7652157\ttest: 1622.6560919\tbest: 1622.6560919 (532)\ttotal: 21.3s\tremaining: 18.7s\n",
      "533:\tlearn: 1570.4715235\ttest: 1622.4876799\tbest: 1622.4876799 (533)\ttotal: 21.3s\tremaining: 18.6s\n",
      "534:\tlearn: 1570.3647819\ttest: 1622.4704882\tbest: 1622.4704882 (534)\ttotal: 21.4s\tremaining: 18.6s\n",
      "535:\tlearn: 1570.1579838\ttest: 1622.3821086\tbest: 1622.3821086 (535)\ttotal: 21.4s\tremaining: 18.5s\n",
      "536:\tlearn: 1569.8984916\ttest: 1622.2221190\tbest: 1622.2221190 (536)\ttotal: 21.4s\tremaining: 18.5s\n",
      "537:\tlearn: 1569.5628242\ttest: 1621.9562645\tbest: 1621.9562645 (537)\ttotal: 21.5s\tremaining: 18.4s\n",
      "538:\tlearn: 1569.3219052\ttest: 1621.9043975\tbest: 1621.9043975 (538)\ttotal: 21.5s\tremaining: 18.4s\n",
      "539:\tlearn: 1569.0554633\ttest: 1621.7069433\tbest: 1621.7069433 (539)\ttotal: 21.6s\tremaining: 18.4s\n",
      "540:\tlearn: 1568.7992154\ttest: 1621.6123466\tbest: 1621.6123466 (540)\ttotal: 21.6s\tremaining: 18.3s\n",
      "541:\tlearn: 1568.4739455\ttest: 1621.3938551\tbest: 1621.3938551 (541)\ttotal: 21.6s\tremaining: 18.3s\n",
      "542:\tlearn: 1568.2338543\ttest: 1621.2352976\tbest: 1621.2352976 (542)\ttotal: 21.7s\tremaining: 18.2s\n",
      "543:\tlearn: 1568.0330493\ttest: 1621.1462420\tbest: 1621.1462420 (543)\ttotal: 21.7s\tremaining: 18.2s\n",
      "544:\tlearn: 1567.8255196\ttest: 1620.9870340\tbest: 1620.9870340 (544)\ttotal: 21.8s\tremaining: 18.2s\n",
      "545:\tlearn: 1567.5658470\ttest: 1620.8953847\tbest: 1620.8953847 (545)\ttotal: 21.8s\tremaining: 18.2s\n",
      "546:\tlearn: 1567.3561597\ttest: 1620.7201666\tbest: 1620.7201666 (546)\ttotal: 21.9s\tremaining: 18.1s\n",
      "547:\tlearn: 1567.1174207\ttest: 1620.6493001\tbest: 1620.6493001 (547)\ttotal: 21.9s\tremaining: 18.1s\n",
      "548:\tlearn: 1566.9401074\ttest: 1620.5721092\tbest: 1620.5721092 (548)\ttotal: 22s\tremaining: 18s\n",
      "549:\tlearn: 1566.6591542\ttest: 1620.4933752\tbest: 1620.4933752 (549)\ttotal: 22s\tremaining: 18s\n",
      "550:\tlearn: 1566.3850436\ttest: 1620.3168562\tbest: 1620.3168562 (550)\ttotal: 22s\tremaining: 18s\n",
      "551:\tlearn: 1566.1794700\ttest: 1620.2169295\tbest: 1620.2169295 (551)\ttotal: 22.1s\tremaining: 17.9s\n",
      "552:\tlearn: 1565.8837213\ttest: 1619.9667561\tbest: 1619.9667561 (552)\ttotal: 22.1s\tremaining: 17.9s\n",
      "553:\tlearn: 1565.8033406\ttest: 1619.9421493\tbest: 1619.9421493 (553)\ttotal: 22.1s\tremaining: 17.8s\n",
      "554:\tlearn: 1565.5431039\ttest: 1619.8635444\tbest: 1619.8635444 (554)\ttotal: 22.2s\tremaining: 17.8s\n",
      "555:\tlearn: 1565.4848549\ttest: 1619.8454183\tbest: 1619.8454183 (555)\ttotal: 22.2s\tremaining: 17.7s\n",
      "556:\tlearn: 1565.2572059\ttest: 1619.6925341\tbest: 1619.6925341 (556)\ttotal: 22.2s\tremaining: 17.7s\n",
      "557:\tlearn: 1565.0021019\ttest: 1619.5666793\tbest: 1619.5666793 (557)\ttotal: 22.3s\tremaining: 17.7s\n",
      "558:\tlearn: 1564.6221776\ttest: 1619.2727198\tbest: 1619.2727198 (558)\ttotal: 22.3s\tremaining: 17.6s\n",
      "559:\tlearn: 1564.3804881\ttest: 1619.1092668\tbest: 1619.1092668 (559)\ttotal: 22.4s\tremaining: 17.6s\n",
      "560:\tlearn: 1564.1344083\ttest: 1619.0010213\tbest: 1619.0010213 (560)\ttotal: 22.4s\tremaining: 17.5s\n",
      "561:\tlearn: 1563.9948653\ttest: 1618.9308220\tbest: 1618.9308220 (561)\ttotal: 22.4s\tremaining: 17.5s\n",
      "562:\tlearn: 1563.6713364\ttest: 1618.7450825\tbest: 1618.7450825 (562)\ttotal: 22.5s\tremaining: 17.4s\n",
      "563:\tlearn: 1563.4363853\ttest: 1618.5903724\tbest: 1618.5903724 (563)\ttotal: 22.5s\tremaining: 17.4s\n",
      "564:\tlearn: 1563.1386811\ttest: 1618.3405057\tbest: 1618.3405057 (564)\ttotal: 22.5s\tremaining: 17.4s\n",
      "565:\tlearn: 1563.0544391\ttest: 1618.3016829\tbest: 1618.3016829 (565)\ttotal: 22.6s\tremaining: 17.3s\n",
      "566:\tlearn: 1562.6633896\ttest: 1618.1237633\tbest: 1618.1237633 (566)\ttotal: 22.6s\tremaining: 17.3s\n",
      "567:\tlearn: 1562.4915944\ttest: 1618.1049433\tbest: 1618.1049433 (567)\ttotal: 22.7s\tremaining: 17.2s\n",
      "568:\tlearn: 1562.2364506\ttest: 1618.0022611\tbest: 1618.0022611 (568)\ttotal: 22.7s\tremaining: 17.2s\n",
      "569:\tlearn: 1562.0158301\ttest: 1617.8717270\tbest: 1617.8717270 (569)\ttotal: 22.8s\tremaining: 17.2s\n",
      "570:\tlearn: 1561.8170853\ttest: 1617.8253857\tbest: 1617.8253857 (570)\ttotal: 22.8s\tremaining: 17.1s\n",
      "571:\tlearn: 1561.5428647\ttest: 1617.6429986\tbest: 1617.6429986 (571)\ttotal: 22.8s\tremaining: 17.1s\n",
      "572:\tlearn: 1561.3026253\ttest: 1617.4775865\tbest: 1617.4775865 (572)\ttotal: 22.9s\tremaining: 17.1s\n",
      "573:\tlearn: 1561.0922760\ttest: 1617.3385905\tbest: 1617.3385905 (573)\ttotal: 23s\tremaining: 17.1s\n",
      "574:\tlearn: 1560.9070419\ttest: 1617.2459916\tbest: 1617.2459916 (574)\ttotal: 23s\tremaining: 17s\n",
      "575:\tlearn: 1560.6861089\ttest: 1617.1516889\tbest: 1617.1516889 (575)\ttotal: 23.1s\tremaining: 17s\n",
      "576:\tlearn: 1560.4537099\ttest: 1616.9925754\tbest: 1616.9925754 (576)\ttotal: 23.1s\tremaining: 16.9s\n",
      "577:\tlearn: 1560.2102698\ttest: 1616.8533037\tbest: 1616.8533037 (577)\ttotal: 23.1s\tremaining: 16.9s\n",
      "578:\tlearn: 1560.0233526\ttest: 1616.7466720\tbest: 1616.7466720 (578)\ttotal: 23.2s\tremaining: 16.9s\n",
      "579:\tlearn: 1559.8216292\ttest: 1616.6409980\tbest: 1616.6409980 (579)\ttotal: 23.2s\tremaining: 16.8s\n",
      "580:\tlearn: 1559.6939317\ttest: 1616.6126021\tbest: 1616.6126021 (580)\ttotal: 23.3s\tremaining: 16.8s\n",
      "581:\tlearn: 1559.5077705\ttest: 1616.5088686\tbest: 1616.5088686 (581)\ttotal: 23.3s\tremaining: 16.7s\n",
      "582:\tlearn: 1559.3917687\ttest: 1616.4558879\tbest: 1616.4558879 (582)\ttotal: 23.3s\tremaining: 16.7s\n",
      "583:\tlearn: 1559.0966383\ttest: 1616.2808116\tbest: 1616.2808116 (583)\ttotal: 23.4s\tremaining: 16.6s\n",
      "584:\tlearn: 1558.8131806\ttest: 1616.0810901\tbest: 1616.0810901 (584)\ttotal: 23.4s\tremaining: 16.6s\n",
      "585:\tlearn: 1558.5901964\ttest: 1615.9299443\tbest: 1615.9299443 (585)\ttotal: 23.4s\tremaining: 16.6s\n",
      "586:\tlearn: 1558.3660385\ttest: 1615.8078789\tbest: 1615.8078789 (586)\ttotal: 23.5s\tremaining: 16.5s\n",
      "587:\tlearn: 1558.1127146\ttest: 1615.5974548\tbest: 1615.5974548 (587)\ttotal: 23.5s\tremaining: 16.5s\n",
      "588:\tlearn: 1557.9384103\ttest: 1615.5254741\tbest: 1615.5254741 (588)\ttotal: 23.6s\tremaining: 16.4s\n",
      "589:\tlearn: 1557.6071476\ttest: 1615.3478498\tbest: 1615.3478498 (589)\ttotal: 23.6s\tremaining: 16.4s\n",
      "590:\tlearn: 1557.3020725\ttest: 1615.1595189\tbest: 1615.1595189 (590)\ttotal: 23.6s\tremaining: 16.4s\n",
      "591:\tlearn: 1557.0692684\ttest: 1615.1201826\tbest: 1615.1201826 (591)\ttotal: 23.7s\tremaining: 16.3s\n",
      "592:\tlearn: 1556.8251780\ttest: 1614.9645778\tbest: 1614.9645778 (592)\ttotal: 23.7s\tremaining: 16.3s\n",
      "593:\tlearn: 1556.7027585\ttest: 1614.9028165\tbest: 1614.9028165 (593)\ttotal: 23.7s\tremaining: 16.2s\n",
      "594:\tlearn: 1556.4957674\ttest: 1614.8713960\tbest: 1614.8713960 (594)\ttotal: 23.8s\tremaining: 16.2s\n",
      "595:\tlearn: 1556.2908134\ttest: 1614.8684261\tbest: 1614.8684261 (595)\ttotal: 23.8s\tremaining: 16.1s\n",
      "596:\tlearn: 1556.0903919\ttest: 1614.6962013\tbest: 1614.6962013 (596)\ttotal: 23.9s\tremaining: 16.1s\n",
      "597:\tlearn: 1555.9156027\ttest: 1614.6018335\tbest: 1614.6018335 (597)\ttotal: 23.9s\tremaining: 16.1s\n",
      "598:\tlearn: 1555.6090929\ttest: 1614.5218345\tbest: 1614.5218345 (598)\ttotal: 23.9s\tremaining: 16s\n",
      "599:\tlearn: 1555.3351613\ttest: 1614.3822324\tbest: 1614.3822324 (599)\ttotal: 24s\tremaining: 16s\n",
      "600:\tlearn: 1555.1614017\ttest: 1614.2899372\tbest: 1614.2899372 (600)\ttotal: 24s\tremaining: 15.9s\n",
      "601:\tlearn: 1554.9870433\ttest: 1614.2765045\tbest: 1614.2765045 (601)\ttotal: 24.1s\tremaining: 15.9s\n",
      "602:\tlearn: 1554.7052814\ttest: 1614.1410529\tbest: 1614.1410529 (602)\ttotal: 24.1s\tremaining: 15.9s\n",
      "603:\tlearn: 1554.4298034\ttest: 1613.9597257\tbest: 1613.9597257 (603)\ttotal: 24.2s\tremaining: 15.9s\n",
      "604:\tlearn: 1554.2334405\ttest: 1613.8266025\tbest: 1613.8266025 (604)\ttotal: 24.2s\tremaining: 15.8s\n",
      "605:\tlearn: 1554.1486636\ttest: 1613.7920138\tbest: 1613.7920138 (605)\ttotal: 24.3s\tremaining: 15.8s\n",
      "606:\tlearn: 1554.0219255\ttest: 1613.7124308\tbest: 1613.7124308 (606)\ttotal: 24.3s\tremaining: 15.7s\n",
      "607:\tlearn: 1553.7970127\ttest: 1613.6505897\tbest: 1613.6505897 (607)\ttotal: 24.3s\tremaining: 15.7s\n",
      "608:\tlearn: 1553.6170478\ttest: 1613.5058722\tbest: 1613.5058722 (608)\ttotal: 24.4s\tremaining: 15.6s\n",
      "609:\tlearn: 1553.3522689\ttest: 1613.3422636\tbest: 1613.3422636 (609)\ttotal: 24.4s\tremaining: 15.6s\n",
      "610:\tlearn: 1553.1815856\ttest: 1613.2977416\tbest: 1613.2977416 (610)\ttotal: 24.4s\tremaining: 15.5s\n",
      "611:\tlearn: 1552.8126152\ttest: 1613.0797782\tbest: 1613.0797782 (611)\ttotal: 24.5s\tremaining: 15.5s\n",
      "612:\tlearn: 1552.5580387\ttest: 1612.8672438\tbest: 1612.8672438 (612)\ttotal: 24.5s\tremaining: 15.5s\n",
      "613:\tlearn: 1552.3125694\ttest: 1612.6915971\tbest: 1612.6915971 (613)\ttotal: 24.5s\tremaining: 15.4s\n",
      "614:\tlearn: 1552.1045073\ttest: 1612.5951818\tbest: 1612.5951818 (614)\ttotal: 24.6s\tremaining: 15.4s\n",
      "615:\tlearn: 1551.9334831\ttest: 1612.5459991\tbest: 1612.5459991 (615)\ttotal: 24.6s\tremaining: 15.3s\n",
      "616:\tlearn: 1551.6760786\ttest: 1612.4231493\tbest: 1612.4231493 (616)\ttotal: 24.7s\tremaining: 15.3s\n",
      "617:\tlearn: 1551.3601893\ttest: 1612.3075340\tbest: 1612.3075340 (617)\ttotal: 24.7s\tremaining: 15.3s\n",
      "618:\tlearn: 1551.1353669\ttest: 1612.1994741\tbest: 1612.1994741 (618)\ttotal: 24.7s\tremaining: 15.2s\n",
      "619:\tlearn: 1550.9342866\ttest: 1612.1306597\tbest: 1612.1306597 (619)\ttotal: 24.8s\tremaining: 15.2s\n",
      "620:\tlearn: 1550.5906288\ttest: 1611.9119069\tbest: 1611.9119069 (620)\ttotal: 24.8s\tremaining: 15.1s\n",
      "621:\tlearn: 1550.4127252\ttest: 1611.7615921\tbest: 1611.7615921 (621)\ttotal: 24.8s\tremaining: 15.1s\n",
      "622:\tlearn: 1550.2518475\ttest: 1611.6588468\tbest: 1611.6588468 (622)\ttotal: 24.9s\tremaining: 15.1s\n",
      "623:\tlearn: 1550.0768438\ttest: 1611.5135836\tbest: 1611.5135836 (623)\ttotal: 24.9s\tremaining: 15s\n",
      "624:\tlearn: 1549.9576769\ttest: 1611.5064902\tbest: 1611.5064902 (624)\ttotal: 25s\tremaining: 15s\n",
      "625:\tlearn: 1549.8101286\ttest: 1611.4728429\tbest: 1611.4728429 (625)\ttotal: 25s\tremaining: 14.9s\n",
      "626:\tlearn: 1549.5984834\ttest: 1611.4058349\tbest: 1611.4058349 (626)\ttotal: 25s\tremaining: 14.9s\n",
      "627:\tlearn: 1549.3014328\ttest: 1611.2672311\tbest: 1611.2672311 (627)\ttotal: 25.1s\tremaining: 14.8s\n",
      "628:\tlearn: 1549.0620418\ttest: 1611.1783109\tbest: 1611.1783109 (628)\ttotal: 25.1s\tremaining: 14.8s\n",
      "629:\tlearn: 1548.8911854\ttest: 1611.1023767\tbest: 1611.1023767 (629)\ttotal: 25.2s\tremaining: 14.8s\n",
      "630:\tlearn: 1548.6693005\ttest: 1611.0785554\tbest: 1611.0785554 (630)\ttotal: 25.2s\tremaining: 14.8s\n",
      "631:\tlearn: 1548.4845529\ttest: 1610.9449066\tbest: 1610.9449066 (631)\ttotal: 25.3s\tremaining: 14.7s\n",
      "632:\tlearn: 1548.3718846\ttest: 1610.8333230\tbest: 1610.8333230 (632)\ttotal: 25.3s\tremaining: 14.7s\n",
      "633:\tlearn: 1548.1641131\ttest: 1610.6766494\tbest: 1610.6766494 (633)\ttotal: 25.4s\tremaining: 14.6s\n",
      "634:\tlearn: 1547.8772225\ttest: 1610.5090991\tbest: 1610.5090991 (634)\ttotal: 25.4s\tremaining: 14.6s\n",
      "635:\tlearn: 1547.7080569\ttest: 1610.4422596\tbest: 1610.4422596 (635)\ttotal: 25.4s\tremaining: 14.6s\n",
      "636:\tlearn: 1547.4817260\ttest: 1610.3267488\tbest: 1610.3267488 (636)\ttotal: 25.5s\tremaining: 14.5s\n",
      "637:\tlearn: 1546.9752921\ttest: 1610.0615382\tbest: 1610.0615382 (637)\ttotal: 25.5s\tremaining: 14.5s\n",
      "638:\tlearn: 1546.7797335\ttest: 1609.9308799\tbest: 1609.9308799 (638)\ttotal: 25.6s\tremaining: 14.4s\n",
      "639:\tlearn: 1546.5600523\ttest: 1609.8156073\tbest: 1609.8156073 (639)\ttotal: 25.6s\tremaining: 14.4s\n",
      "640:\tlearn: 1546.4348954\ttest: 1609.7981449\tbest: 1609.7981449 (640)\ttotal: 25.6s\tremaining: 14.4s\n",
      "641:\tlearn: 1546.3197340\ttest: 1609.7327727\tbest: 1609.7327727 (641)\ttotal: 25.7s\tremaining: 14.3s\n",
      "642:\tlearn: 1545.9858568\ttest: 1609.5346292\tbest: 1609.5346292 (642)\ttotal: 25.7s\tremaining: 14.3s\n",
      "643:\tlearn: 1545.7283267\ttest: 1609.4125903\tbest: 1609.4125903 (643)\ttotal: 25.8s\tremaining: 14.2s\n",
      "644:\tlearn: 1545.6119903\ttest: 1609.3476961\tbest: 1609.3476961 (644)\ttotal: 25.8s\tremaining: 14.2s\n",
      "645:\tlearn: 1545.3027441\ttest: 1609.1545588\tbest: 1609.1545588 (645)\ttotal: 25.8s\tremaining: 14.2s\n",
      "646:\tlearn: 1545.1286486\ttest: 1609.0734334\tbest: 1609.0734334 (646)\ttotal: 25.9s\tremaining: 14.1s\n",
      "647:\tlearn: 1544.9591403\ttest: 1608.9559395\tbest: 1608.9559395 (647)\ttotal: 25.9s\tremaining: 14.1s\n",
      "648:\tlearn: 1544.6373359\ttest: 1608.7188355\tbest: 1608.7188355 (648)\ttotal: 25.9s\tremaining: 14s\n",
      "649:\tlearn: 1544.5896750\ttest: 1608.7073387\tbest: 1608.7073387 (649)\ttotal: 26s\tremaining: 14s\n",
      "650:\tlearn: 1544.4179636\ttest: 1608.6369168\tbest: 1608.6369168 (650)\ttotal: 26s\tremaining: 13.9s\n",
      "651:\tlearn: 1544.1122468\ttest: 1608.5360231\tbest: 1608.5360231 (651)\ttotal: 26s\tremaining: 13.9s\n",
      "652:\tlearn: 1543.8769870\ttest: 1608.4181349\tbest: 1608.4181349 (652)\ttotal: 26.1s\tremaining: 13.9s\n",
      "653:\tlearn: 1543.6013083\ttest: 1608.3003385\tbest: 1608.3003385 (653)\ttotal: 26.1s\tremaining: 13.8s\n",
      "654:\tlearn: 1543.3319960\ttest: 1608.1318520\tbest: 1608.1318520 (654)\ttotal: 26.2s\tremaining: 13.8s\n",
      "655:\tlearn: 1543.0497970\ttest: 1608.0541319\tbest: 1608.0541319 (655)\ttotal: 26.2s\tremaining: 13.7s\n",
      "656:\tlearn: 1542.8183644\ttest: 1607.9087195\tbest: 1607.9087195 (656)\ttotal: 26.2s\tremaining: 13.7s\n",
      "657:\tlearn: 1542.6393610\ttest: 1607.8734649\tbest: 1607.8734649 (657)\ttotal: 26.3s\tremaining: 13.7s\n",
      "658:\tlearn: 1542.3944888\ttest: 1607.7596421\tbest: 1607.7596421 (658)\ttotal: 26.4s\tremaining: 13.6s\n",
      "659:\tlearn: 1542.2450248\ttest: 1607.6662170\tbest: 1607.6662170 (659)\ttotal: 26.4s\tremaining: 13.6s\n",
      "660:\tlearn: 1542.0370012\ttest: 1607.5962283\tbest: 1607.5962283 (660)\ttotal: 26.5s\tremaining: 13.6s\n",
      "661:\tlearn: 1541.8671532\ttest: 1607.5022766\tbest: 1607.5022766 (661)\ttotal: 26.5s\tremaining: 13.5s\n",
      "662:\tlearn: 1541.7604641\ttest: 1607.4530587\tbest: 1607.4530587 (662)\ttotal: 26.6s\tremaining: 13.5s\n",
      "663:\tlearn: 1541.6076786\ttest: 1607.3566298\tbest: 1607.3566298 (663)\ttotal: 26.6s\tremaining: 13.5s\n",
      "664:\tlearn: 1541.5046229\ttest: 1607.2827955\tbest: 1607.2827955 (664)\ttotal: 26.6s\tremaining: 13.4s\n",
      "665:\tlearn: 1541.3480139\ttest: 1607.2660361\tbest: 1607.2660361 (665)\ttotal: 26.7s\tremaining: 13.4s\n",
      "666:\tlearn: 1541.0152551\ttest: 1607.1191377\tbest: 1607.1191377 (666)\ttotal: 26.7s\tremaining: 13.3s\n",
      "667:\tlearn: 1540.8307290\ttest: 1607.0296924\tbest: 1607.0296924 (667)\ttotal: 26.7s\tremaining: 13.3s\n",
      "668:\tlearn: 1540.5127754\ttest: 1606.8619322\tbest: 1606.8619322 (668)\ttotal: 26.8s\tremaining: 13.3s\n",
      "669:\tlearn: 1540.3310095\ttest: 1606.7694082\tbest: 1606.7694082 (669)\ttotal: 26.8s\tremaining: 13.2s\n",
      "670:\tlearn: 1540.2351450\ttest: 1606.7629156\tbest: 1606.7629156 (670)\ttotal: 26.9s\tremaining: 13.2s\n",
      "671:\tlearn: 1540.0814154\ttest: 1606.6963984\tbest: 1606.6963984 (671)\ttotal: 26.9s\tremaining: 13.1s\n",
      "672:\tlearn: 1539.8201966\ttest: 1606.6197682\tbest: 1606.6197682 (672)\ttotal: 26.9s\tremaining: 13.1s\n",
      "673:\tlearn: 1539.7140442\ttest: 1606.5589176\tbest: 1606.5589176 (673)\ttotal: 27s\tremaining: 13.1s\n",
      "674:\tlearn: 1539.5128792\ttest: 1606.4605984\tbest: 1606.4605984 (674)\ttotal: 27s\tremaining: 13s\n",
      "675:\tlearn: 1539.3241771\ttest: 1606.3623564\tbest: 1606.3623564 (675)\ttotal: 27.1s\tremaining: 13s\n",
      "676:\tlearn: 1539.1666306\ttest: 1606.2300096\tbest: 1606.2300096 (676)\ttotal: 27.1s\tremaining: 12.9s\n",
      "677:\tlearn: 1538.9717806\ttest: 1606.1777137\tbest: 1606.1777137 (677)\ttotal: 27.1s\tremaining: 12.9s\n",
      "678:\tlearn: 1538.7855387\ttest: 1606.0955381\tbest: 1606.0955381 (678)\ttotal: 27.2s\tremaining: 12.8s\n",
      "679:\tlearn: 1538.5680464\ttest: 1606.0463947\tbest: 1606.0463947 (679)\ttotal: 27.2s\tremaining: 12.8s\n",
      "680:\tlearn: 1538.3614628\ttest: 1605.9183616\tbest: 1605.9183616 (680)\ttotal: 27.2s\tremaining: 12.8s\n",
      "681:\tlearn: 1538.1895565\ttest: 1605.8544811\tbest: 1605.8544811 (681)\ttotal: 27.3s\tremaining: 12.7s\n",
      "682:\tlearn: 1538.0310576\ttest: 1605.7444264\tbest: 1605.7444264 (682)\ttotal: 27.3s\tremaining: 12.7s\n",
      "683:\tlearn: 1537.9023127\ttest: 1605.7007335\tbest: 1605.7007335 (683)\ttotal: 27.4s\tremaining: 12.6s\n",
      "684:\tlearn: 1537.7557436\ttest: 1605.5880945\tbest: 1605.5880945 (684)\ttotal: 27.4s\tremaining: 12.6s\n",
      "685:\tlearn: 1537.5565418\ttest: 1605.4652672\tbest: 1605.4652672 (685)\ttotal: 27.4s\tremaining: 12.6s\n",
      "686:\tlearn: 1537.3838239\ttest: 1605.3888137\tbest: 1605.3888137 (686)\ttotal: 27.5s\tremaining: 12.5s\n",
      "687:\tlearn: 1537.2286291\ttest: 1605.2920891\tbest: 1605.2920891 (687)\ttotal: 27.6s\tremaining: 12.5s\n",
      "688:\tlearn: 1537.1187671\ttest: 1605.2487208\tbest: 1605.2487208 (688)\ttotal: 27.6s\tremaining: 12.5s\n",
      "689:\tlearn: 1536.9137557\ttest: 1605.1032481\tbest: 1605.1032481 (689)\ttotal: 27.7s\tremaining: 12.4s\n",
      "690:\tlearn: 1536.6885802\ttest: 1604.8996359\tbest: 1604.8996359 (690)\ttotal: 27.7s\tremaining: 12.4s\n",
      "691:\tlearn: 1536.4590446\ttest: 1604.7891976\tbest: 1604.7891976 (691)\ttotal: 27.8s\tremaining: 12.4s\n",
      "692:\tlearn: 1536.0168540\ttest: 1604.5032106\tbest: 1604.5032106 (692)\ttotal: 27.8s\tremaining: 12.3s\n",
      "693:\tlearn: 1535.8325158\ttest: 1604.4303547\tbest: 1604.4303547 (693)\ttotal: 27.9s\tremaining: 12.3s\n",
      "694:\tlearn: 1535.6061001\ttest: 1604.2934930\tbest: 1604.2934930 (694)\ttotal: 28s\tremaining: 12.3s\n",
      "695:\tlearn: 1535.3464311\ttest: 1604.2147207\tbest: 1604.2147207 (695)\ttotal: 28s\tremaining: 12.2s\n",
      "696:\tlearn: 1535.0714339\ttest: 1604.1052999\tbest: 1604.1052999 (696)\ttotal: 28.1s\tremaining: 12.2s\n",
      "697:\tlearn: 1534.6816937\ttest: 1603.8584367\tbest: 1603.8584367 (697)\ttotal: 28.1s\tremaining: 12.2s\n",
      "698:\tlearn: 1534.4383629\ttest: 1603.8087750\tbest: 1603.8087750 (698)\ttotal: 28.1s\tremaining: 12.1s\n",
      "699:\tlearn: 1534.2585180\ttest: 1603.7339176\tbest: 1603.7339176 (699)\ttotal: 28.2s\tremaining: 12.1s\n",
      "700:\tlearn: 1534.0797106\ttest: 1603.6584316\tbest: 1603.6584316 (700)\ttotal: 28.2s\tremaining: 12s\n",
      "701:\tlearn: 1533.8668219\ttest: 1603.5880232\tbest: 1603.5880232 (701)\ttotal: 28.3s\tremaining: 12s\n",
      "702:\tlearn: 1533.6987195\ttest: 1603.5133323\tbest: 1603.5133323 (702)\ttotal: 28.3s\tremaining: 12s\n",
      "703:\tlearn: 1533.4134221\ttest: 1603.3974594\tbest: 1603.3974594 (703)\ttotal: 28.3s\tremaining: 11.9s\n",
      "704:\tlearn: 1533.1568804\ttest: 1603.2679411\tbest: 1603.2679411 (704)\ttotal: 28.4s\tremaining: 11.9s\n",
      "705:\tlearn: 1532.9739049\ttest: 1603.1402878\tbest: 1603.1402878 (705)\ttotal: 28.4s\tremaining: 11.8s\n",
      "706:\tlearn: 1532.6913475\ttest: 1603.0360785\tbest: 1603.0360785 (706)\ttotal: 28.5s\tremaining: 11.8s\n",
      "707:\tlearn: 1532.5221998\ttest: 1602.9981216\tbest: 1602.9981216 (707)\ttotal: 28.5s\tremaining: 11.8s\n",
      "708:\tlearn: 1532.3045959\ttest: 1602.9092984\tbest: 1602.9092984 (708)\ttotal: 28.5s\tremaining: 11.7s\n",
      "709:\tlearn: 1532.1185671\ttest: 1602.8228444\tbest: 1602.8228444 (709)\ttotal: 28.6s\tremaining: 11.7s\n",
      "710:\tlearn: 1532.0058084\ttest: 1602.8142896\tbest: 1602.8142896 (710)\ttotal: 28.7s\tremaining: 11.6s\n",
      "711:\tlearn: 1531.8703925\ttest: 1602.7294399\tbest: 1602.7294399 (711)\ttotal: 28.7s\tremaining: 11.6s\n",
      "712:\tlearn: 1531.5296814\ttest: 1602.5738206\tbest: 1602.5738206 (712)\ttotal: 28.8s\tremaining: 11.6s\n",
      "713:\tlearn: 1531.4494174\ttest: 1602.5412686\tbest: 1602.5412686 (713)\ttotal: 28.8s\tremaining: 11.5s\n",
      "714:\tlearn: 1531.2814784\ttest: 1602.4495992\tbest: 1602.4495992 (714)\ttotal: 28.8s\tremaining: 11.5s\n",
      "715:\tlearn: 1531.1554410\ttest: 1602.4215063\tbest: 1602.4215063 (715)\ttotal: 28.9s\tremaining: 11.4s\n",
      "716:\tlearn: 1531.0560749\ttest: 1602.3985345\tbest: 1602.3985345 (716)\ttotal: 28.9s\tremaining: 11.4s\n",
      "717:\tlearn: 1530.8446235\ttest: 1602.2435743\tbest: 1602.2435743 (717)\ttotal: 28.9s\tremaining: 11.4s\n",
      "718:\tlearn: 1530.7658941\ttest: 1602.1955373\tbest: 1602.1955373 (718)\ttotal: 29s\tremaining: 11.3s\n",
      "719:\tlearn: 1530.6076736\ttest: 1602.1548987\tbest: 1602.1548987 (719)\ttotal: 29s\tremaining: 11.3s\n",
      "720:\tlearn: 1530.4763489\ttest: 1602.0565129\tbest: 1602.0565129 (720)\ttotal: 29s\tremaining: 11.2s\n",
      "721:\tlearn: 1530.1555822\ttest: 1601.8846536\tbest: 1601.8846536 (721)\ttotal: 29.1s\tremaining: 11.2s\n",
      "722:\tlearn: 1530.0478717\ttest: 1601.8898833\tbest: 1601.8846536 (721)\ttotal: 29.1s\tremaining: 11.2s\n",
      "723:\tlearn: 1529.8366688\ttest: 1601.7747922\tbest: 1601.7747922 (723)\ttotal: 29.2s\tremaining: 11.1s\n",
      "724:\tlearn: 1529.6363873\ttest: 1601.6809610\tbest: 1601.6809610 (724)\ttotal: 29.2s\tremaining: 11.1s\n",
      "725:\tlearn: 1529.5119090\ttest: 1601.6413085\tbest: 1601.6413085 (725)\ttotal: 29.2s\tremaining: 11s\n",
      "726:\tlearn: 1529.3762438\ttest: 1601.6148719\tbest: 1601.6148719 (726)\ttotal: 29.3s\tremaining: 11s\n",
      "727:\tlearn: 1529.1345258\ttest: 1601.4637898\tbest: 1601.4637898 (727)\ttotal: 29.3s\tremaining: 11s\n",
      "728:\tlearn: 1529.0056105\ttest: 1601.4517976\tbest: 1601.4517976 (728)\ttotal: 29.3s\tremaining: 10.9s\n",
      "729:\tlearn: 1528.9771826\ttest: 1601.4564172\tbest: 1601.4517976 (728)\ttotal: 29.4s\tremaining: 10.9s\n",
      "730:\tlearn: 1528.7997600\ttest: 1601.3797569\tbest: 1601.3797569 (730)\ttotal: 29.4s\tremaining: 10.8s\n",
      "731:\tlearn: 1528.3714115\ttest: 1601.1479521\tbest: 1601.1479521 (731)\ttotal: 29.5s\tremaining: 10.8s\n",
      "732:\tlearn: 1528.1889822\ttest: 1601.1078443\tbest: 1601.1078443 (732)\ttotal: 29.5s\tremaining: 10.7s\n",
      "733:\tlearn: 1527.9954488\ttest: 1601.0378434\tbest: 1601.0378434 (733)\ttotal: 29.6s\tremaining: 10.7s\n",
      "734:\tlearn: 1527.7456861\ttest: 1600.8732918\tbest: 1600.8732918 (734)\ttotal: 29.6s\tremaining: 10.7s\n",
      "735:\tlearn: 1527.4527307\ttest: 1600.6655530\tbest: 1600.6655530 (735)\ttotal: 29.6s\tremaining: 10.6s\n",
      "736:\tlearn: 1527.1627945\ttest: 1600.5085527\tbest: 1600.5085527 (736)\ttotal: 29.7s\tremaining: 10.6s\n",
      "737:\tlearn: 1526.9495223\ttest: 1600.3764798\tbest: 1600.3764798 (737)\ttotal: 29.7s\tremaining: 10.6s\n",
      "738:\tlearn: 1526.7536610\ttest: 1600.2903241\tbest: 1600.2903241 (738)\ttotal: 29.8s\tremaining: 10.5s\n",
      "739:\tlearn: 1526.4951636\ttest: 1600.1758310\tbest: 1600.1758310 (739)\ttotal: 29.9s\tremaining: 10.5s\n",
      "740:\tlearn: 1526.2524319\ttest: 1600.1089639\tbest: 1600.1089639 (740)\ttotal: 29.9s\tremaining: 10.5s\n",
      "741:\tlearn: 1525.9607271\ttest: 1600.0373637\tbest: 1600.0373637 (741)\ttotal: 30s\tremaining: 10.4s\n",
      "742:\tlearn: 1525.9138275\ttest: 1600.0508757\tbest: 1600.0373637 (741)\ttotal: 30s\tremaining: 10.4s\n",
      "743:\tlearn: 1525.6812359\ttest: 1599.9973886\tbest: 1599.9973886 (743)\ttotal: 30s\tremaining: 10.3s\n",
      "744:\tlearn: 1525.4775164\ttest: 1599.9998993\tbest: 1599.9973886 (743)\ttotal: 30.1s\tremaining: 10.3s\n",
      "745:\tlearn: 1525.4478101\ttest: 1600.0106473\tbest: 1599.9973886 (743)\ttotal: 30.1s\tremaining: 10.2s\n",
      "746:\tlearn: 1525.3158317\ttest: 1599.9292931\tbest: 1599.9292931 (746)\ttotal: 30.1s\tremaining: 10.2s\n",
      "747:\tlearn: 1525.0176293\ttest: 1599.8549717\tbest: 1599.8549717 (747)\ttotal: 30.2s\tremaining: 10.2s\n",
      "748:\tlearn: 1524.7842097\ttest: 1599.6993178\tbest: 1599.6993178 (748)\ttotal: 30.2s\tremaining: 10.1s\n",
      "749:\tlearn: 1524.5788935\ttest: 1599.6076082\tbest: 1599.6076082 (749)\ttotal: 30.2s\tremaining: 10.1s\n",
      "750:\tlearn: 1524.3709862\ttest: 1599.5144130\tbest: 1599.5144130 (750)\ttotal: 30.3s\tremaining: 10s\n",
      "751:\tlearn: 1524.2256461\ttest: 1599.4471312\tbest: 1599.4471312 (751)\ttotal: 30.3s\tremaining: 10s\n",
      "752:\tlearn: 1524.1165849\ttest: 1599.4063412\tbest: 1599.4063412 (752)\ttotal: 30.4s\tremaining: 9.96s\n",
      "753:\tlearn: 1524.0876916\ttest: 1599.4175197\tbest: 1599.4063412 (752)\ttotal: 30.4s\tremaining: 9.91s\n",
      "754:\tlearn: 1523.8831866\ttest: 1599.3083985\tbest: 1599.3083985 (754)\ttotal: 30.4s\tremaining: 9.87s\n",
      "755:\tlearn: 1523.6491157\ttest: 1599.1949962\tbest: 1599.1949962 (755)\ttotal: 30.5s\tremaining: 9.83s\n",
      "756:\tlearn: 1523.4411508\ttest: 1599.0888956\tbest: 1599.0888956 (756)\ttotal: 30.5s\tremaining: 9.79s\n",
      "757:\tlearn: 1523.2885536\ttest: 1598.9971695\tbest: 1598.9971695 (757)\ttotal: 30.5s\tremaining: 9.75s\n",
      "758:\tlearn: 1523.0647988\ttest: 1598.8526366\tbest: 1598.8526366 (758)\ttotal: 30.6s\tremaining: 9.71s\n",
      "759:\tlearn: 1522.8282391\ttest: 1598.6923376\tbest: 1598.6923376 (759)\ttotal: 30.6s\tremaining: 9.67s\n",
      "760:\tlearn: 1522.7582030\ttest: 1598.6384624\tbest: 1598.6384624 (760)\ttotal: 30.7s\tremaining: 9.63s\n",
      "761:\tlearn: 1522.5040742\ttest: 1598.5535514\tbest: 1598.5535514 (761)\ttotal: 30.7s\tremaining: 9.59s\n",
      "762:\tlearn: 1522.3369244\ttest: 1598.4976253\tbest: 1598.4976253 (762)\ttotal: 30.7s\tremaining: 9.54s\n",
      "763:\tlearn: 1522.1930533\ttest: 1598.4084759\tbest: 1598.4084759 (763)\ttotal: 30.8s\tremaining: 9.5s\n",
      "764:\tlearn: 1522.1264568\ttest: 1598.3767925\tbest: 1598.3767925 (764)\ttotal: 30.8s\tremaining: 9.46s\n",
      "765:\tlearn: 1521.9802743\ttest: 1598.3338063\tbest: 1598.3338063 (765)\ttotal: 30.8s\tremaining: 9.42s\n",
      "766:\tlearn: 1521.9150318\ttest: 1598.3048831\tbest: 1598.3048831 (766)\ttotal: 30.9s\tremaining: 9.4s\n",
      "767:\tlearn: 1521.5988476\ttest: 1598.1228301\tbest: 1598.1228301 (767)\ttotal: 31s\tremaining: 9.36s\n",
      "768:\tlearn: 1521.4328739\ttest: 1598.0494305\tbest: 1598.0494305 (768)\ttotal: 31s\tremaining: 9.32s\n",
      "769:\tlearn: 1521.1784043\ttest: 1597.9094875\tbest: 1597.9094875 (769)\ttotal: 31.1s\tremaining: 9.28s\n",
      "770:\tlearn: 1520.9748330\ttest: 1597.8571550\tbest: 1597.8571550 (770)\ttotal: 31.1s\tremaining: 9.23s\n",
      "771:\tlearn: 1520.8075039\ttest: 1597.7673192\tbest: 1597.7673192 (771)\ttotal: 31.1s\tremaining: 9.19s\n",
      "772:\tlearn: 1520.6078710\ttest: 1597.6618420\tbest: 1597.6618420 (772)\ttotal: 31.2s\tremaining: 9.15s\n",
      "773:\tlearn: 1520.4326276\ttest: 1597.6105493\tbest: 1597.6105493 (773)\ttotal: 31.2s\tremaining: 9.11s\n",
      "774:\tlearn: 1520.2551146\ttest: 1597.5506983\tbest: 1597.5506983 (774)\ttotal: 31.2s\tremaining: 9.06s\n",
      "775:\tlearn: 1520.0006342\ttest: 1597.4183245\tbest: 1597.4183245 (775)\ttotal: 31.3s\tremaining: 9.02s\n",
      "776:\tlearn: 1519.5990022\ttest: 1597.2461912\tbest: 1597.2461912 (776)\ttotal: 31.3s\tremaining: 8.98s\n",
      "777:\tlearn: 1519.4123252\ttest: 1597.1134814\tbest: 1597.1134814 (777)\ttotal: 31.3s\tremaining: 8.94s\n",
      "778:\tlearn: 1519.2696639\ttest: 1597.0380460\tbest: 1597.0380460 (778)\ttotal: 31.4s\tremaining: 8.9s\n",
      "779:\tlearn: 1519.0648976\ttest: 1596.9918664\tbest: 1596.9918664 (779)\ttotal: 31.4s\tremaining: 8.86s\n",
      "780:\tlearn: 1518.7567663\ttest: 1596.8851506\tbest: 1596.8851506 (780)\ttotal: 31.4s\tremaining: 8.82s\n",
      "781:\tlearn: 1518.4067320\ttest: 1596.8114538\tbest: 1596.8114538 (781)\ttotal: 31.5s\tremaining: 8.77s\n",
      "782:\tlearn: 1518.2177172\ttest: 1596.6235260\tbest: 1596.6235260 (782)\ttotal: 31.5s\tremaining: 8.73s\n",
      "783:\tlearn: 1518.0239721\ttest: 1596.5308310\tbest: 1596.5308310 (783)\ttotal: 31.6s\tremaining: 8.69s\n",
      "784:\tlearn: 1517.7881739\ttest: 1596.3997503\tbest: 1596.3997503 (784)\ttotal: 31.6s\tremaining: 8.65s\n",
      "785:\tlearn: 1517.5145448\ttest: 1596.2697736\tbest: 1596.2697736 (785)\ttotal: 31.6s\tremaining: 8.61s\n",
      "786:\tlearn: 1517.2612770\ttest: 1596.0877045\tbest: 1596.0877045 (786)\ttotal: 31.7s\tremaining: 8.57s\n",
      "787:\tlearn: 1517.0188103\ttest: 1595.9051497\tbest: 1595.9051497 (787)\ttotal: 31.7s\tremaining: 8.53s\n",
      "788:\tlearn: 1516.8516024\ttest: 1595.8741735\tbest: 1595.8741735 (788)\ttotal: 31.7s\tremaining: 8.48s\n",
      "789:\tlearn: 1516.6023930\ttest: 1595.7077169\tbest: 1595.7077169 (789)\ttotal: 31.8s\tremaining: 8.44s\n",
      "790:\tlearn: 1516.5217266\ttest: 1595.7136563\tbest: 1595.7077169 (789)\ttotal: 31.8s\tremaining: 8.4s\n",
      "791:\tlearn: 1516.3095903\ttest: 1595.5768585\tbest: 1595.5768585 (791)\ttotal: 31.8s\tremaining: 8.36s\n",
      "792:\tlearn: 1516.2057059\ttest: 1595.5209055\tbest: 1595.5209055 (792)\ttotal: 31.9s\tremaining: 8.32s\n",
      "793:\tlearn: 1516.0438802\ttest: 1595.4650926\tbest: 1595.4650926 (793)\ttotal: 31.9s\tremaining: 8.28s\n",
      "794:\tlearn: 1515.8670035\ttest: 1595.4224122\tbest: 1595.4224122 (794)\ttotal: 32s\tremaining: 8.24s\n",
      "795:\tlearn: 1515.7490034\ttest: 1595.3875636\tbest: 1595.3875636 (795)\ttotal: 32s\tremaining: 8.2s\n",
      "796:\tlearn: 1515.5480106\ttest: 1595.2603033\tbest: 1595.2603033 (796)\ttotal: 32s\tremaining: 8.16s\n",
      "797:\tlearn: 1515.2321842\ttest: 1595.0144975\tbest: 1595.0144975 (797)\ttotal: 32.1s\tremaining: 8.12s\n",
      "798:\tlearn: 1514.9665307\ttest: 1594.9492324\tbest: 1594.9492324 (798)\ttotal: 32.1s\tremaining: 8.08s\n",
      "799:\tlearn: 1514.7504591\ttest: 1594.8734433\tbest: 1594.8734433 (799)\ttotal: 32.1s\tremaining: 8.04s\n",
      "800:\tlearn: 1514.5398416\ttest: 1594.7759968\tbest: 1594.7759968 (800)\ttotal: 32.2s\tremaining: 8.01s\n",
      "801:\tlearn: 1514.4255111\ttest: 1594.6987353\tbest: 1594.6987353 (801)\ttotal: 32.3s\tremaining: 7.97s\n",
      "802:\tlearn: 1514.1900179\ttest: 1594.5838599\tbest: 1594.5838599 (802)\ttotal: 32.3s\tremaining: 7.93s\n",
      "803:\tlearn: 1514.0007414\ttest: 1594.5082536\tbest: 1594.5082536 (803)\ttotal: 32.4s\tremaining: 7.89s\n",
      "804:\tlearn: 1513.6736676\ttest: 1594.3581865\tbest: 1594.3581865 (804)\ttotal: 32.4s\tremaining: 7.85s\n",
      "805:\tlearn: 1513.6294887\ttest: 1594.3636850\tbest: 1594.3581865 (804)\ttotal: 32.4s\tremaining: 7.81s\n",
      "806:\tlearn: 1513.5476731\ttest: 1594.3339008\tbest: 1594.3339008 (806)\ttotal: 32.5s\tremaining: 7.77s\n",
      "807:\tlearn: 1513.3854883\ttest: 1594.2529917\tbest: 1594.2529917 (807)\ttotal: 32.5s\tremaining: 7.72s\n",
      "808:\tlearn: 1513.2280322\ttest: 1594.2238761\tbest: 1594.2238761 (808)\ttotal: 32.5s\tremaining: 7.68s\n",
      "809:\tlearn: 1513.1875922\ttest: 1594.2339964\tbest: 1594.2238761 (808)\ttotal: 32.6s\tremaining: 7.64s\n",
      "810:\tlearn: 1512.9743826\ttest: 1594.1327699\tbest: 1594.1327699 (810)\ttotal: 32.6s\tremaining: 7.6s\n",
      "811:\tlearn: 1512.7702729\ttest: 1594.0681956\tbest: 1594.0681956 (811)\ttotal: 32.7s\tremaining: 7.56s\n",
      "812:\tlearn: 1512.4686022\ttest: 1593.9343997\tbest: 1593.9343997 (812)\ttotal: 32.7s\tremaining: 7.52s\n",
      "813:\tlearn: 1512.2661790\ttest: 1593.9348360\tbest: 1593.9343997 (812)\ttotal: 32.7s\tremaining: 7.48s\n",
      "814:\tlearn: 1511.9764800\ttest: 1593.7394702\tbest: 1593.7394702 (814)\ttotal: 32.8s\tremaining: 7.44s\n",
      "815:\tlearn: 1511.6791298\ttest: 1593.6562975\tbest: 1593.6562975 (815)\ttotal: 32.8s\tremaining: 7.4s\n",
      "816:\tlearn: 1511.4292306\ttest: 1593.5082175\tbest: 1593.5082175 (816)\ttotal: 32.8s\tremaining: 7.36s\n",
      "817:\tlearn: 1511.2453303\ttest: 1593.3524408\tbest: 1593.3524408 (817)\ttotal: 32.9s\tremaining: 7.32s\n",
      "818:\tlearn: 1510.8893231\ttest: 1593.1926296\tbest: 1593.1926296 (818)\ttotal: 32.9s\tremaining: 7.27s\n",
      "819:\tlearn: 1510.7293446\ttest: 1593.0870885\tbest: 1593.0870885 (819)\ttotal: 32.9s\tremaining: 7.23s\n",
      "820:\tlearn: 1510.5201347\ttest: 1592.9824957\tbest: 1592.9824957 (820)\ttotal: 33s\tremaining: 7.19s\n",
      "821:\tlearn: 1510.2911778\ttest: 1592.8446625\tbest: 1592.8446625 (821)\ttotal: 33s\tremaining: 7.15s\n",
      "822:\tlearn: 1510.1331017\ttest: 1592.7215937\tbest: 1592.7215937 (822)\ttotal: 33.1s\tremaining: 7.11s\n",
      "823:\tlearn: 1509.8434978\ttest: 1592.4949884\tbest: 1592.4949884 (823)\ttotal: 33.1s\tremaining: 7.07s\n",
      "824:\tlearn: 1509.6947718\ttest: 1592.4460623\tbest: 1592.4460623 (824)\ttotal: 33.1s\tremaining: 7.03s\n",
      "825:\tlearn: 1509.5254690\ttest: 1592.3390102\tbest: 1592.3390102 (825)\ttotal: 33.2s\tremaining: 6.99s\n",
      "826:\tlearn: 1509.2454504\ttest: 1592.1121768\tbest: 1592.1121768 (826)\ttotal: 33.2s\tremaining: 6.95s\n",
      "827:\tlearn: 1509.0595240\ttest: 1591.9753183\tbest: 1591.9753183 (827)\ttotal: 33.2s\tremaining: 6.91s\n",
      "828:\tlearn: 1508.9236679\ttest: 1591.9392898\tbest: 1591.9392898 (828)\ttotal: 33.3s\tremaining: 6.87s\n",
      "829:\tlearn: 1508.7936727\ttest: 1591.8495519\tbest: 1591.8495519 (829)\ttotal: 33.3s\tremaining: 6.82s\n",
      "830:\tlearn: 1508.6282361\ttest: 1591.8035492\tbest: 1591.8035492 (830)\ttotal: 33.4s\tremaining: 6.78s\n",
      "831:\tlearn: 1508.4723973\ttest: 1591.7195099\tbest: 1591.7195099 (831)\ttotal: 33.4s\tremaining: 6.74s\n",
      "832:\tlearn: 1508.3998225\ttest: 1591.6887561\tbest: 1591.6887561 (832)\ttotal: 33.4s\tremaining: 6.7s\n",
      "833:\tlearn: 1508.1340110\ttest: 1591.5986765\tbest: 1591.5986765 (833)\ttotal: 33.5s\tremaining: 6.66s\n",
      "834:\tlearn: 1507.9652419\ttest: 1591.5245458\tbest: 1591.5245458 (834)\ttotal: 33.5s\tremaining: 6.62s\n",
      "835:\tlearn: 1507.8750484\ttest: 1591.4991073\tbest: 1591.4991073 (835)\ttotal: 33.6s\tremaining: 6.59s\n",
      "836:\tlearn: 1507.6854654\ttest: 1591.4356361\tbest: 1591.4356361 (836)\ttotal: 33.7s\tremaining: 6.55s\n",
      "837:\tlearn: 1507.5257916\ttest: 1591.3410280\tbest: 1591.3410280 (837)\ttotal: 33.7s\tremaining: 6.51s\n",
      "838:\tlearn: 1507.3159932\ttest: 1591.2410685\tbest: 1591.2410685 (838)\ttotal: 33.7s\tremaining: 6.47s\n",
      "839:\tlearn: 1507.0902258\ttest: 1591.1478185\tbest: 1591.1478185 (839)\ttotal: 33.8s\tremaining: 6.43s\n",
      "840:\tlearn: 1506.8990577\ttest: 1591.0141059\tbest: 1591.0141059 (840)\ttotal: 33.8s\tremaining: 6.39s\n",
      "841:\tlearn: 1506.7215794\ttest: 1590.9977882\tbest: 1590.9977882 (841)\ttotal: 33.8s\tremaining: 6.35s\n",
      "842:\tlearn: 1506.5366023\ttest: 1590.9719123\tbest: 1590.9719123 (842)\ttotal: 33.9s\tremaining: 6.31s\n",
      "843:\tlearn: 1506.3424613\ttest: 1590.8315215\tbest: 1590.8315215 (843)\ttotal: 33.9s\tremaining: 6.26s\n",
      "844:\tlearn: 1506.1193245\ttest: 1590.6852775\tbest: 1590.6852775 (844)\ttotal: 33.9s\tremaining: 6.22s\n",
      "845:\tlearn: 1505.8042029\ttest: 1590.5438845\tbest: 1590.5438845 (845)\ttotal: 34s\tremaining: 6.18s\n",
      "846:\tlearn: 1505.4857210\ttest: 1590.4856538\tbest: 1590.4856538 (846)\ttotal: 34s\tremaining: 6.14s\n",
      "847:\tlearn: 1505.3766128\ttest: 1590.4095290\tbest: 1590.4095290 (847)\ttotal: 34s\tremaining: 6.1s\n",
      "848:\tlearn: 1505.1382279\ttest: 1590.3047450\tbest: 1590.3047450 (848)\ttotal: 34.1s\tremaining: 6.06s\n",
      "849:\tlearn: 1505.0971413\ttest: 1590.3113515\tbest: 1590.3047450 (848)\ttotal: 34.1s\tremaining: 6.02s\n",
      "850:\tlearn: 1504.9030130\ttest: 1590.2680839\tbest: 1590.2680839 (850)\ttotal: 34.1s\tremaining: 5.98s\n",
      "851:\tlearn: 1504.6828987\ttest: 1590.1720880\tbest: 1590.1720880 (851)\ttotal: 34.2s\tremaining: 5.94s\n",
      "852:\tlearn: 1504.5492732\ttest: 1590.1914822\tbest: 1590.1720880 (851)\ttotal: 34.2s\tremaining: 5.9s\n",
      "853:\tlearn: 1504.2697399\ttest: 1590.0513349\tbest: 1590.0513349 (853)\ttotal: 34.3s\tremaining: 5.86s\n",
      "854:\tlearn: 1504.1464636\ttest: 1589.9674974\tbest: 1589.9674974 (854)\ttotal: 34.3s\tremaining: 5.82s\n",
      "855:\tlearn: 1503.9726733\ttest: 1589.9010197\tbest: 1589.9010197 (855)\ttotal: 34.3s\tremaining: 5.77s\n",
      "856:\tlearn: 1503.7690187\ttest: 1589.9036273\tbest: 1589.9010197 (855)\ttotal: 34.4s\tremaining: 5.73s\n",
      "857:\tlearn: 1503.6126259\ttest: 1589.8256077\tbest: 1589.8256077 (857)\ttotal: 34.4s\tremaining: 5.69s\n",
      "858:\tlearn: 1503.4571669\ttest: 1589.8168636\tbest: 1589.8168636 (858)\ttotal: 34.4s\tremaining: 5.65s\n",
      "859:\tlearn: 1503.1369731\ttest: 1589.6234227\tbest: 1589.6234227 (859)\ttotal: 34.5s\tremaining: 5.61s\n",
      "860:\tlearn: 1502.9225745\ttest: 1589.4693224\tbest: 1589.4693224 (860)\ttotal: 34.5s\tremaining: 5.57s\n",
      "861:\tlearn: 1502.8418137\ttest: 1589.4694747\tbest: 1589.4693224 (860)\ttotal: 34.5s\tremaining: 5.53s\n",
      "862:\tlearn: 1502.6038116\ttest: 1589.3686043\tbest: 1589.3686043 (862)\ttotal: 34.6s\tremaining: 5.49s\n",
      "863:\tlearn: 1502.4189616\ttest: 1589.3546449\tbest: 1589.3546449 (863)\ttotal: 34.6s\tremaining: 5.45s\n",
      "864:\tlearn: 1502.1257658\ttest: 1589.2332278\tbest: 1589.2332278 (864)\ttotal: 34.7s\tremaining: 5.41s\n",
      "865:\tlearn: 1501.8192103\ttest: 1589.0415857\tbest: 1589.0415857 (865)\ttotal: 34.7s\tremaining: 5.37s\n",
      "866:\tlearn: 1501.6357384\ttest: 1588.9738608\tbest: 1588.9738608 (866)\ttotal: 34.7s\tremaining: 5.33s\n",
      "867:\tlearn: 1501.5113129\ttest: 1588.8716314\tbest: 1588.8716314 (867)\ttotal: 34.8s\tremaining: 5.29s\n",
      "868:\tlearn: 1501.3742036\ttest: 1588.8038949\tbest: 1588.8038949 (868)\ttotal: 34.8s\tremaining: 5.25s\n",
      "869:\tlearn: 1501.3122370\ttest: 1588.7693097\tbest: 1588.7693097 (869)\ttotal: 34.9s\tremaining: 5.21s\n",
      "870:\tlearn: 1501.1684874\ttest: 1588.6728318\tbest: 1588.6728318 (870)\ttotal: 34.9s\tremaining: 5.17s\n",
      "871:\tlearn: 1500.9711899\ttest: 1588.5923809\tbest: 1588.5923809 (871)\ttotal: 35s\tremaining: 5.13s\n",
      "872:\tlearn: 1500.8174776\ttest: 1588.5601286\tbest: 1588.5601286 (872)\ttotal: 35s\tremaining: 5.09s\n",
      "873:\tlearn: 1500.6993688\ttest: 1588.4868980\tbest: 1588.4868980 (873)\ttotal: 35.1s\tremaining: 5.05s\n",
      "874:\tlearn: 1500.5525272\ttest: 1588.4440899\tbest: 1588.4440899 (874)\ttotal: 35.1s\tremaining: 5.01s\n",
      "875:\tlearn: 1500.3394707\ttest: 1588.3656198\tbest: 1588.3656198 (875)\ttotal: 35.1s\tremaining: 4.97s\n",
      "876:\tlearn: 1500.1438067\ttest: 1588.2374997\tbest: 1588.2374997 (876)\ttotal: 35.2s\tremaining: 4.93s\n",
      "877:\tlearn: 1499.9272212\ttest: 1588.1299588\tbest: 1588.1299588 (877)\ttotal: 35.2s\tremaining: 4.89s\n",
      "878:\tlearn: 1499.7927458\ttest: 1588.0556160\tbest: 1588.0556160 (878)\ttotal: 35.2s\tremaining: 4.85s\n",
      "879:\tlearn: 1499.7371247\ttest: 1588.0314338\tbest: 1588.0314338 (879)\ttotal: 35.3s\tremaining: 4.81s\n",
      "880:\tlearn: 1499.6060668\ttest: 1587.9693601\tbest: 1587.9693601 (880)\ttotal: 35.3s\tremaining: 4.77s\n",
      "881:\tlearn: 1499.4505101\ttest: 1587.9153142\tbest: 1587.9153142 (881)\ttotal: 35.4s\tremaining: 4.73s\n",
      "882:\tlearn: 1499.2093014\ttest: 1587.8483424\tbest: 1587.8483424 (882)\ttotal: 35.4s\tremaining: 4.69s\n",
      "883:\tlearn: 1499.0284108\ttest: 1587.8116342\tbest: 1587.8116342 (883)\ttotal: 35.4s\tremaining: 4.65s\n",
      "884:\tlearn: 1498.9057182\ttest: 1587.8018133\tbest: 1587.8018133 (884)\ttotal: 35.5s\tremaining: 4.61s\n",
      "885:\tlearn: 1498.6905367\ttest: 1587.6771249\tbest: 1587.6771249 (885)\ttotal: 35.5s\tremaining: 4.57s\n",
      "886:\tlearn: 1498.5911505\ttest: 1587.6086387\tbest: 1587.6086387 (886)\ttotal: 35.6s\tremaining: 4.53s\n",
      "887:\tlearn: 1498.5552448\ttest: 1587.6203408\tbest: 1587.6086387 (886)\ttotal: 35.6s\tremaining: 4.49s\n",
      "888:\tlearn: 1498.2685591\ttest: 1587.5758903\tbest: 1587.5758903 (888)\ttotal: 35.6s\tremaining: 4.45s\n",
      "889:\tlearn: 1498.1298640\ttest: 1587.5229995\tbest: 1587.5229995 (889)\ttotal: 35.7s\tremaining: 4.41s\n",
      "890:\tlearn: 1498.0250953\ttest: 1587.4773767\tbest: 1587.4773767 (890)\ttotal: 35.7s\tremaining: 4.37s\n",
      "891:\tlearn: 1497.8973716\ttest: 1587.4291875\tbest: 1587.4291875 (891)\ttotal: 35.8s\tremaining: 4.33s\n",
      "892:\tlearn: 1497.8294175\ttest: 1587.4092034\tbest: 1587.4092034 (892)\ttotal: 35.8s\tremaining: 4.29s\n",
      "893:\tlearn: 1497.6265415\ttest: 1587.3135258\tbest: 1587.3135258 (893)\ttotal: 35.8s\tremaining: 4.25s\n",
      "894:\tlearn: 1497.4723554\ttest: 1587.2972515\tbest: 1587.2972515 (894)\ttotal: 35.9s\tremaining: 4.21s\n",
      "895:\tlearn: 1497.2956687\ttest: 1587.1957093\tbest: 1587.1957093 (895)\ttotal: 35.9s\tremaining: 4.17s\n",
      "896:\tlearn: 1497.0926865\ttest: 1587.0875009\tbest: 1587.0875009 (896)\ttotal: 36s\tremaining: 4.13s\n",
      "897:\tlearn: 1496.7625499\ttest: 1586.9720151\tbest: 1586.9720151 (897)\ttotal: 36s\tremaining: 4.09s\n",
      "898:\tlearn: 1496.4940245\ttest: 1586.8775177\tbest: 1586.8775177 (898)\ttotal: 36s\tremaining: 4.05s\n",
      "899:\tlearn: 1496.4598750\ttest: 1586.8898454\tbest: 1586.8775177 (898)\ttotal: 36.1s\tremaining: 4.01s\n",
      "900:\tlearn: 1496.0952403\ttest: 1586.6992739\tbest: 1586.6992739 (900)\ttotal: 36.1s\tremaining: 3.97s\n",
      "901:\tlearn: 1495.9886567\ttest: 1586.6592033\tbest: 1586.6592033 (901)\ttotal: 36.2s\tremaining: 3.93s\n",
      "902:\tlearn: 1495.7460292\ttest: 1586.5736725\tbest: 1586.5736725 (902)\ttotal: 36.2s\tremaining: 3.89s\n",
      "903:\tlearn: 1495.5848526\ttest: 1586.5163373\tbest: 1586.5163373 (903)\ttotal: 36.3s\tremaining: 3.85s\n",
      "904:\tlearn: 1495.4406647\ttest: 1586.4628407\tbest: 1586.4628407 (904)\ttotal: 36.3s\tremaining: 3.81s\n",
      "905:\tlearn: 1495.3259761\ttest: 1586.3799330\tbest: 1586.3799330 (905)\ttotal: 36.4s\tremaining: 3.77s\n",
      "906:\tlearn: 1495.0704235\ttest: 1586.2647126\tbest: 1586.2647126 (906)\ttotal: 36.4s\tremaining: 3.73s\n",
      "907:\tlearn: 1494.8540696\ttest: 1586.1668184\tbest: 1586.1668184 (907)\ttotal: 36.5s\tremaining: 3.69s\n",
      "908:\tlearn: 1494.6554117\ttest: 1586.0531952\tbest: 1586.0531952 (908)\ttotal: 36.5s\tremaining: 3.65s\n",
      "909:\tlearn: 1494.5236629\ttest: 1586.0157626\tbest: 1586.0157626 (909)\ttotal: 36.5s\tremaining: 3.61s\n",
      "910:\tlearn: 1494.3573835\ttest: 1585.9883640\tbest: 1585.9883640 (910)\ttotal: 36.6s\tremaining: 3.57s\n",
      "911:\tlearn: 1494.2177857\ttest: 1585.9616979\tbest: 1585.9616979 (911)\ttotal: 36.6s\tremaining: 3.53s\n",
      "912:\tlearn: 1494.0735659\ttest: 1585.9339539\tbest: 1585.9339539 (912)\ttotal: 36.6s\tremaining: 3.49s\n",
      "913:\tlearn: 1493.9061268\ttest: 1585.9407869\tbest: 1585.9339539 (912)\ttotal: 36.7s\tremaining: 3.45s\n",
      "914:\tlearn: 1493.5142595\ttest: 1585.7063054\tbest: 1585.7063054 (914)\ttotal: 36.7s\tremaining: 3.41s\n",
      "915:\tlearn: 1493.3580442\ttest: 1585.6183308\tbest: 1585.6183308 (915)\ttotal: 36.8s\tremaining: 3.37s\n",
      "916:\tlearn: 1493.1297114\ttest: 1585.4843845\tbest: 1585.4843845 (916)\ttotal: 36.8s\tremaining: 3.33s\n",
      "917:\tlearn: 1492.9180245\ttest: 1585.3891804\tbest: 1585.3891804 (917)\ttotal: 36.8s\tremaining: 3.29s\n",
      "918:\tlearn: 1492.8445546\ttest: 1585.3617330\tbest: 1585.3617330 (918)\ttotal: 36.9s\tremaining: 3.25s\n",
      "919:\tlearn: 1492.6931803\ttest: 1585.2901099\tbest: 1585.2901099 (919)\ttotal: 36.9s\tremaining: 3.21s\n",
      "920:\tlearn: 1492.5172943\ttest: 1585.3114903\tbest: 1585.2901099 (919)\ttotal: 36.9s\tremaining: 3.17s\n",
      "921:\tlearn: 1492.2222246\ttest: 1585.2323860\tbest: 1585.2323860 (921)\ttotal: 37s\tremaining: 3.13s\n",
      "922:\tlearn: 1492.0786920\ttest: 1585.1961223\tbest: 1585.1961223 (922)\ttotal: 37s\tremaining: 3.09s\n",
      "923:\tlearn: 1491.9331418\ttest: 1585.0567725\tbest: 1585.0567725 (923)\ttotal: 37.1s\tremaining: 3.05s\n",
      "924:\tlearn: 1491.7544799\ttest: 1585.0254577\tbest: 1585.0254577 (924)\ttotal: 37.1s\tremaining: 3.01s\n",
      "925:\tlearn: 1491.5692626\ttest: 1584.9467090\tbest: 1584.9467090 (925)\ttotal: 37.1s\tremaining: 2.97s\n",
      "926:\tlearn: 1491.4291744\ttest: 1584.9292068\tbest: 1584.9292068 (926)\ttotal: 37.2s\tremaining: 2.93s\n",
      "927:\tlearn: 1491.2303275\ttest: 1584.8479639\tbest: 1584.8479639 (927)\ttotal: 37.2s\tremaining: 2.88s\n",
      "928:\tlearn: 1490.9724173\ttest: 1584.7242758\tbest: 1584.7242758 (928)\ttotal: 37.2s\tremaining: 2.85s\n",
      "929:\tlearn: 1490.7305300\ttest: 1584.6197481\tbest: 1584.6197481 (929)\ttotal: 37.3s\tremaining: 2.81s\n",
      "930:\tlearn: 1490.5308871\ttest: 1584.4875296\tbest: 1584.4875296 (930)\ttotal: 37.3s\tremaining: 2.76s\n",
      "931:\tlearn: 1490.4130927\ttest: 1584.4311739\tbest: 1584.4311739 (931)\ttotal: 37.3s\tremaining: 2.72s\n",
      "932:\tlearn: 1490.1544166\ttest: 1584.3572514\tbest: 1584.3572514 (932)\ttotal: 37.4s\tremaining: 2.68s\n",
      "933:\tlearn: 1489.9373280\ttest: 1584.2302679\tbest: 1584.2302679 (933)\ttotal: 37.4s\tremaining: 2.64s\n",
      "934:\tlearn: 1489.8060015\ttest: 1584.2175078\tbest: 1584.2175078 (934)\ttotal: 37.4s\tremaining: 2.6s\n",
      "935:\tlearn: 1489.6037185\ttest: 1584.1163266\tbest: 1584.1163266 (935)\ttotal: 37.5s\tremaining: 2.56s\n",
      "936:\tlearn: 1489.4386253\ttest: 1584.1136268\tbest: 1584.1136268 (936)\ttotal: 37.5s\tremaining: 2.52s\n",
      "937:\tlearn: 1489.1815471\ttest: 1584.0339924\tbest: 1584.0339924 (937)\ttotal: 37.6s\tremaining: 2.48s\n",
      "938:\tlearn: 1488.9887362\ttest: 1583.9740102\tbest: 1583.9740102 (938)\ttotal: 37.7s\tremaining: 2.45s\n",
      "939:\tlearn: 1488.8371594\ttest: 1583.9215606\tbest: 1583.9215606 (939)\ttotal: 37.7s\tremaining: 2.41s\n",
      "940:\tlearn: 1488.7406986\ttest: 1583.8728751\tbest: 1583.8728751 (940)\ttotal: 37.7s\tremaining: 2.37s\n",
      "941:\tlearn: 1488.6005586\ttest: 1583.8064400\tbest: 1583.8064400 (941)\ttotal: 37.8s\tremaining: 2.33s\n",
      "942:\tlearn: 1488.4686443\ttest: 1583.7751193\tbest: 1583.7751193 (942)\ttotal: 37.8s\tremaining: 2.29s\n",
      "943:\tlearn: 1488.1892650\ttest: 1583.7287868\tbest: 1583.7287868 (943)\ttotal: 37.9s\tremaining: 2.25s\n",
      "944:\tlearn: 1487.9480682\ttest: 1583.6403822\tbest: 1583.6403822 (944)\ttotal: 37.9s\tremaining: 2.21s\n",
      "945:\tlearn: 1487.7528105\ttest: 1583.5373543\tbest: 1583.5373543 (945)\ttotal: 37.9s\tremaining: 2.16s\n",
      "946:\tlearn: 1487.6368629\ttest: 1583.4850589\tbest: 1583.4850589 (946)\ttotal: 38s\tremaining: 2.12s\n",
      "947:\tlearn: 1487.4558365\ttest: 1583.4204479\tbest: 1583.4204479 (947)\ttotal: 38s\tremaining: 2.08s\n",
      "948:\tlearn: 1487.3253088\ttest: 1583.3941048\tbest: 1583.3941048 (948)\ttotal: 38s\tremaining: 2.04s\n",
      "949:\tlearn: 1487.1948829\ttest: 1583.3207013\tbest: 1583.3207013 (949)\ttotal: 38.1s\tremaining: 2s\n",
      "950:\tlearn: 1487.0294469\ttest: 1583.2643233\tbest: 1583.2643233 (950)\ttotal: 38.1s\tremaining: 1.96s\n",
      "951:\tlearn: 1486.8255175\ttest: 1583.1671129\tbest: 1583.1671129 (951)\ttotal: 38.1s\tremaining: 1.92s\n",
      "952:\tlearn: 1486.5935880\ttest: 1583.1298774\tbest: 1583.1298774 (952)\ttotal: 38.2s\tremaining: 1.88s\n",
      "953:\tlearn: 1486.5284020\ttest: 1583.1052489\tbest: 1583.1052489 (953)\ttotal: 38.2s\tremaining: 1.84s\n",
      "954:\tlearn: 1486.2871032\ttest: 1582.9995236\tbest: 1582.9995236 (954)\ttotal: 38.3s\tremaining: 1.8s\n",
      "955:\tlearn: 1486.1612956\ttest: 1582.9605647\tbest: 1582.9605647 (955)\ttotal: 38.3s\tremaining: 1.76s\n",
      "956:\tlearn: 1486.0268680\ttest: 1582.9202102\tbest: 1582.9202102 (956)\ttotal: 38.3s\tremaining: 1.72s\n",
      "957:\tlearn: 1485.9060279\ttest: 1582.8495241\tbest: 1582.8495241 (957)\ttotal: 38.4s\tremaining: 1.68s\n",
      "958:\tlearn: 1485.6587799\ttest: 1582.7111746\tbest: 1582.7111746 (958)\ttotal: 38.4s\tremaining: 1.64s\n",
      "959:\tlearn: 1485.4441248\ttest: 1582.6279132\tbest: 1582.6279132 (959)\ttotal: 38.5s\tremaining: 1.6s\n",
      "960:\tlearn: 1485.3433683\ttest: 1582.5748190\tbest: 1582.5748190 (960)\ttotal: 38.5s\tremaining: 1.56s\n",
      "961:\tlearn: 1485.1946133\ttest: 1582.5503219\tbest: 1582.5503219 (961)\ttotal: 38.5s\tremaining: 1.52s\n",
      "962:\tlearn: 1485.0192261\ttest: 1582.4651873\tbest: 1582.4651873 (962)\ttotal: 38.6s\tremaining: 1.48s\n",
      "963:\tlearn: 1484.9442980\ttest: 1582.4283500\tbest: 1582.4283500 (963)\ttotal: 38.6s\tremaining: 1.44s\n",
      "964:\tlearn: 1484.7634686\ttest: 1582.3788566\tbest: 1582.3788566 (964)\ttotal: 38.6s\tremaining: 1.4s\n",
      "965:\tlearn: 1484.6245153\ttest: 1582.3393354\tbest: 1582.3393354 (965)\ttotal: 38.7s\tremaining: 1.36s\n",
      "966:\tlearn: 1484.4907656\ttest: 1582.3414339\tbest: 1582.3393354 (965)\ttotal: 38.7s\tremaining: 1.32s\n",
      "967:\tlearn: 1484.3289810\ttest: 1582.2471040\tbest: 1582.2471040 (967)\ttotal: 38.8s\tremaining: 1.28s\n",
      "968:\tlearn: 1484.1857928\ttest: 1582.1588551\tbest: 1582.1588551 (968)\ttotal: 38.8s\tremaining: 1.24s\n",
      "969:\tlearn: 1484.1579800\ttest: 1582.1782753\tbest: 1582.1588551 (968)\ttotal: 38.8s\tremaining: 1.2s\n",
      "970:\tlearn: 1484.0221926\ttest: 1582.1128516\tbest: 1582.1128516 (970)\ttotal: 38.9s\tremaining: 1.16s\n",
      "971:\tlearn: 1483.8662533\ttest: 1582.0374504\tbest: 1582.0374504 (971)\ttotal: 39s\tremaining: 1.12s\n",
      "972:\tlearn: 1483.7724525\ttest: 1582.0230818\tbest: 1582.0230818 (972)\ttotal: 39s\tremaining: 1.08s\n",
      "973:\tlearn: 1483.6740747\ttest: 1581.9758157\tbest: 1581.9758157 (973)\ttotal: 39.1s\tremaining: 1.04s\n",
      "974:\tlearn: 1483.5813792\ttest: 1581.9675427\tbest: 1581.9675427 (974)\ttotal: 39.1s\tremaining: 1s\n",
      "975:\tlearn: 1483.4615358\ttest: 1581.9186309\tbest: 1581.9186309 (975)\ttotal: 39.1s\tremaining: 962ms\n",
      "976:\tlearn: 1483.2957565\ttest: 1581.8535219\tbest: 1581.8535219 (976)\ttotal: 39.2s\tremaining: 922ms\n",
      "977:\tlearn: 1482.9684527\ttest: 1581.6472516\tbest: 1581.6472516 (977)\ttotal: 39.2s\tremaining: 882ms\n",
      "978:\tlearn: 1482.7819245\ttest: 1581.5904108\tbest: 1581.5904108 (978)\ttotal: 39.3s\tremaining: 842ms\n",
      "979:\tlearn: 1482.6074026\ttest: 1581.4992439\tbest: 1581.4992439 (979)\ttotal: 39.3s\tremaining: 802ms\n",
      "980:\tlearn: 1482.5228756\ttest: 1581.4649387\tbest: 1581.4649387 (980)\ttotal: 39.3s\tremaining: 762ms\n",
      "981:\tlearn: 1482.3236526\ttest: 1581.3505850\tbest: 1581.3505850 (981)\ttotal: 39.4s\tremaining: 722ms\n",
      "982:\tlearn: 1482.1840071\ttest: 1581.2577306\tbest: 1581.2577306 (982)\ttotal: 39.4s\tremaining: 681ms\n",
      "983:\tlearn: 1482.0420463\ttest: 1581.2060144\tbest: 1581.2060144 (983)\ttotal: 39.4s\tremaining: 641ms\n",
      "984:\tlearn: 1481.8668615\ttest: 1581.1613765\tbest: 1581.1613765 (984)\ttotal: 39.5s\tremaining: 601ms\n",
      "985:\tlearn: 1481.7389980\ttest: 1581.0826735\tbest: 1581.0826735 (985)\ttotal: 39.5s\tremaining: 561ms\n",
      "986:\tlearn: 1481.4630046\ttest: 1580.9394813\tbest: 1580.9394813 (986)\ttotal: 39.5s\tremaining: 521ms\n",
      "987:\tlearn: 1481.2272127\ttest: 1580.8668760\tbest: 1580.8668760 (987)\ttotal: 39.6s\tremaining: 481ms\n",
      "988:\tlearn: 1481.0835900\ttest: 1580.8107998\tbest: 1580.8107998 (988)\ttotal: 39.6s\tremaining: 441ms\n",
      "989:\tlearn: 1480.9429676\ttest: 1580.7364437\tbest: 1580.7364437 (989)\ttotal: 39.7s\tremaining: 401ms\n",
      "990:\tlearn: 1480.8211995\ttest: 1580.7198012\tbest: 1580.7198012 (990)\ttotal: 39.7s\tremaining: 361ms\n",
      "991:\tlearn: 1480.7317042\ttest: 1580.6785556\tbest: 1580.6785556 (991)\ttotal: 39.7s\tremaining: 320ms\n",
      "992:\tlearn: 1480.6205820\ttest: 1580.6354007\tbest: 1580.6354007 (992)\ttotal: 39.8s\tremaining: 280ms\n",
      "993:\tlearn: 1480.4688783\ttest: 1580.6076795\tbest: 1580.6076795 (993)\ttotal: 39.8s\tremaining: 240ms\n",
      "994:\tlearn: 1480.3491125\ttest: 1580.6067647\tbest: 1580.6067647 (994)\ttotal: 39.8s\tremaining: 200ms\n",
      "995:\tlearn: 1480.1875547\ttest: 1580.5820975\tbest: 1580.5820975 (995)\ttotal: 39.9s\tremaining: 160ms\n",
      "996:\tlearn: 1480.1171890\ttest: 1580.5335630\tbest: 1580.5335630 (996)\ttotal: 39.9s\tremaining: 120ms\n",
      "997:\tlearn: 1479.9748539\ttest: 1580.5057696\tbest: 1580.5057696 (997)\ttotal: 40s\tremaining: 80.1ms\n",
      "998:\tlearn: 1479.8732178\ttest: 1580.4395261\tbest: 1580.4395261 (998)\ttotal: 40s\tremaining: 40.1ms\n",
      "999:\tlearn: 1479.7320636\ttest: 1580.3759472\tbest: 1580.3759472 (999)\ttotal: 40.1s\tremaining: 0us\n",
      "\n",
      "bestTest = 1580.375947\n",
      "bestIteration = 999\n",
      "\n"
     ]
    }
   ],
   "source": [
    "model = CatBoostRegressor(loss_function='RMSE')\n",
    "\n",
    "pool_train = Pool(features_train_OE, target_train_OE)\n",
    "\n",
    "grid = {'depth': [5, 10]}\n",
    "\n",
    "grid_search_result = model.grid_search(grid, \n",
    "                                       pool_train,\n",
    "                                       plot=False)"
   ]
  },
  {
   "cell_type": "code",
   "execution_count": 54,
   "metadata": {
    "scrolled": true
   },
   "outputs": [
    {
     "name": "stdout",
     "output_type": "stream",
     "text": [
      "Learning rate set to 0.09274\n",
      "0:\tlearn: 4306.1971705\ttotal: 44.5ms\tremaining: 44.5s\n",
      "1:\tlearn: 4029.2752925\ttotal: 89.6ms\tremaining: 44.7s\n",
      "2:\tlearn: 3788.6986763\ttotal: 131ms\tremaining: 43.4s\n",
      "3:\tlearn: 3568.6674725\ttotal: 171ms\tremaining: 42.7s\n",
      "4:\tlearn: 3376.4168261\ttotal: 210ms\tremaining: 41.7s\n",
      "5:\tlearn: 3204.4145952\ttotal: 254ms\tremaining: 42.1s\n",
      "6:\tlearn: 3049.9871041\ttotal: 299ms\tremaining: 42.4s\n",
      "7:\tlearn: 2912.9221581\ttotal: 336ms\tremaining: 41.7s\n",
      "8:\tlearn: 2792.6986236\ttotal: 374ms\tremaining: 41.2s\n",
      "9:\tlearn: 2688.1987092\ttotal: 413ms\tremaining: 40.9s\n",
      "10:\tlearn: 2593.9534598\ttotal: 454ms\tremaining: 40.8s\n",
      "11:\tlearn: 2511.7698748\ttotal: 499ms\tremaining: 41.1s\n",
      "12:\tlearn: 2437.0309144\ttotal: 544ms\tremaining: 41.3s\n",
      "13:\tlearn: 2370.3834705\ttotal: 592ms\tremaining: 41.7s\n",
      "14:\tlearn: 2314.9387395\ttotal: 630ms\tremaining: 41.4s\n",
      "15:\tlearn: 2265.9448751\ttotal: 667ms\tremaining: 41s\n",
      "16:\tlearn: 2218.0145312\ttotal: 707ms\tremaining: 40.9s\n",
      "17:\tlearn: 2177.3140072\ttotal: 754ms\tremaining: 41.1s\n",
      "18:\tlearn: 2144.3540701\ttotal: 794ms\tremaining: 41s\n",
      "19:\tlearn: 2111.7447479\ttotal: 832ms\tremaining: 40.8s\n",
      "20:\tlearn: 2079.7519059\ttotal: 870ms\tremaining: 40.6s\n",
      "21:\tlearn: 2051.6748405\ttotal: 912ms\tremaining: 40.5s\n",
      "22:\tlearn: 2027.1935195\ttotal: 954ms\tremaining: 40.5s\n",
      "23:\tlearn: 2006.9729023\ttotal: 996ms\tremaining: 40.5s\n",
      "24:\tlearn: 1985.0025594\ttotal: 1.03s\tremaining: 40.3s\n",
      "25:\tlearn: 1967.3778739\ttotal: 1.07s\tremaining: 40.1s\n",
      "26:\tlearn: 1950.4851313\ttotal: 1.11s\tremaining: 40.1s\n",
      "27:\tlearn: 1936.0918837\ttotal: 1.15s\tremaining: 40s\n",
      "28:\tlearn: 1919.8581860\ttotal: 1.2s\tremaining: 40.1s\n",
      "29:\tlearn: 1907.8841903\ttotal: 1.24s\tremaining: 40.1s\n",
      "30:\tlearn: 1893.9503330\ttotal: 1.27s\tremaining: 39.9s\n",
      "31:\tlearn: 1880.5943151\ttotal: 1.31s\tremaining: 39.8s\n",
      "32:\tlearn: 1870.4658774\ttotal: 1.35s\tremaining: 39.7s\n",
      "33:\tlearn: 1862.5122360\ttotal: 1.39s\tremaining: 39.6s\n",
      "34:\tlearn: 1852.3581660\ttotal: 1.44s\tremaining: 39.6s\n",
      "35:\tlearn: 1843.8430036\ttotal: 1.48s\tremaining: 39.6s\n",
      "36:\tlearn: 1836.2302044\ttotal: 1.51s\tremaining: 39.4s\n",
      "37:\tlearn: 1827.6744107\ttotal: 1.55s\tremaining: 39.3s\n",
      "38:\tlearn: 1822.0396282\ttotal: 1.59s\tremaining: 39.3s\n",
      "39:\tlearn: 1816.7331600\ttotal: 1.63s\tremaining: 39.1s\n",
      "40:\tlearn: 1810.5406615\ttotal: 1.67s\tremaining: 39.1s\n",
      "41:\tlearn: 1805.5563777\ttotal: 1.71s\tremaining: 39s\n",
      "42:\tlearn: 1801.5015788\ttotal: 1.75s\tremaining: 38.9s\n",
      "43:\tlearn: 1797.6662255\ttotal: 1.79s\tremaining: 38.8s\n",
      "44:\tlearn: 1793.1002173\ttotal: 1.82s\tremaining: 38.7s\n",
      "45:\tlearn: 1785.5589245\ttotal: 1.86s\tremaining: 38.6s\n",
      "46:\tlearn: 1778.9530771\ttotal: 1.9s\tremaining: 38.6s\n",
      "47:\tlearn: 1774.9070195\ttotal: 1.94s\tremaining: 38.5s\n",
      "48:\tlearn: 1770.9179674\ttotal: 1.98s\tremaining: 38.5s\n",
      "49:\tlearn: 1767.3288166\ttotal: 2.02s\tremaining: 38.4s\n",
      "50:\tlearn: 1763.3187355\ttotal: 2.06s\tremaining: 38.3s\n",
      "51:\tlearn: 1759.5371666\ttotal: 2.1s\tremaining: 38.3s\n",
      "52:\tlearn: 1756.0107482\ttotal: 2.14s\tremaining: 38.2s\n",
      "53:\tlearn: 1753.5735801\ttotal: 2.18s\tremaining: 38.2s\n",
      "54:\tlearn: 1748.2333119\ttotal: 2.22s\tremaining: 38.2s\n",
      "55:\tlearn: 1744.7936787\ttotal: 2.26s\tremaining: 38.1s\n",
      "56:\tlearn: 1742.7126415\ttotal: 2.31s\tremaining: 38.2s\n",
      "57:\tlearn: 1739.7561617\ttotal: 2.35s\tremaining: 38.1s\n",
      "58:\tlearn: 1737.0095503\ttotal: 2.39s\tremaining: 38.1s\n",
      "59:\tlearn: 1734.3919241\ttotal: 2.43s\tremaining: 38s\n",
      "60:\tlearn: 1732.0056775\ttotal: 2.46s\tremaining: 37.9s\n",
      "61:\tlearn: 1727.3191344\ttotal: 2.5s\tremaining: 37.9s\n",
      "62:\tlearn: 1724.9796709\ttotal: 2.55s\tremaining: 37.9s\n",
      "63:\tlearn: 1722.1829592\ttotal: 2.59s\tremaining: 37.8s\n",
      "64:\tlearn: 1719.6922909\ttotal: 2.63s\tremaining: 37.8s\n",
      "65:\tlearn: 1716.7056546\ttotal: 2.67s\tremaining: 37.7s\n",
      "66:\tlearn: 1713.2080996\ttotal: 2.7s\tremaining: 37.6s\n",
      "67:\tlearn: 1711.0706504\ttotal: 2.74s\tremaining: 37.6s\n",
      "68:\tlearn: 1709.6204098\ttotal: 2.78s\tremaining: 37.5s\n",
      "69:\tlearn: 1707.9691760\ttotal: 2.82s\tremaining: 37.5s\n",
      "70:\tlearn: 1705.4231619\ttotal: 2.86s\tremaining: 37.4s\n",
      "71:\tlearn: 1703.4066582\ttotal: 2.9s\tremaining: 37.3s\n",
      "72:\tlearn: 1701.0899653\ttotal: 2.93s\tremaining: 37.3s\n",
      "73:\tlearn: 1698.8950982\ttotal: 2.98s\tremaining: 37.2s\n",
      "74:\tlearn: 1696.9746623\ttotal: 3.02s\tremaining: 37.2s\n",
      "75:\tlearn: 1695.3144699\ttotal: 3.06s\tremaining: 37.2s\n",
      "76:\tlearn: 1693.5094992\ttotal: 3.1s\tremaining: 37.1s\n",
      "77:\tlearn: 1691.3915272\ttotal: 3.14s\tremaining: 37.1s\n",
      "78:\tlearn: 1689.6300141\ttotal: 3.18s\tremaining: 37.1s\n",
      "79:\tlearn: 1688.3102283\ttotal: 3.22s\tremaining: 37.1s\n",
      "80:\tlearn: 1686.1715499\ttotal: 3.27s\tremaining: 37.1s\n",
      "81:\tlearn: 1683.2192471\ttotal: 3.31s\tremaining: 37s\n",
      "82:\tlearn: 1681.2135824\ttotal: 3.35s\tremaining: 37s\n",
      "83:\tlearn: 1680.0955055\ttotal: 3.39s\tremaining: 37s\n",
      "84:\tlearn: 1678.6493560\ttotal: 3.43s\tremaining: 36.9s\n",
      "85:\tlearn: 1677.1386095\ttotal: 3.47s\tremaining: 36.9s\n",
      "86:\tlearn: 1675.1462471\ttotal: 3.51s\tremaining: 36.9s\n",
      "87:\tlearn: 1673.2910030\ttotal: 3.56s\tremaining: 36.8s\n",
      "88:\tlearn: 1671.3859050\ttotal: 3.59s\tremaining: 36.8s\n",
      "89:\tlearn: 1669.0143184\ttotal: 3.64s\tremaining: 36.8s\n",
      "90:\tlearn: 1667.9013262\ttotal: 3.68s\tremaining: 36.8s\n",
      "91:\tlearn: 1666.3196683\ttotal: 3.72s\tremaining: 36.7s\n",
      "92:\tlearn: 1665.1592761\ttotal: 3.76s\tremaining: 36.7s\n",
      "93:\tlearn: 1663.0703446\ttotal: 3.8s\tremaining: 36.7s\n",
      "94:\tlearn: 1661.2685422\ttotal: 3.84s\tremaining: 36.6s\n",
      "95:\tlearn: 1660.2075944\ttotal: 3.88s\tremaining: 36.6s\n",
      "96:\tlearn: 1658.9544176\ttotal: 3.93s\tremaining: 36.5s\n",
      "97:\tlearn: 1657.7594302\ttotal: 3.97s\tremaining: 36.5s\n",
      "98:\tlearn: 1656.2363812\ttotal: 4.01s\tremaining: 36.5s\n",
      "99:\tlearn: 1655.2722159\ttotal: 4.05s\tremaining: 36.5s\n",
      "100:\tlearn: 1654.1435504\ttotal: 4.1s\tremaining: 36.5s\n",
      "101:\tlearn: 1652.5671131\ttotal: 4.14s\tremaining: 36.4s\n",
      "102:\tlearn: 1650.7639205\ttotal: 4.18s\tremaining: 36.4s\n",
      "103:\tlearn: 1649.3107825\ttotal: 4.22s\tremaining: 36.4s\n",
      "104:\tlearn: 1647.9392258\ttotal: 4.27s\tremaining: 36.4s\n",
      "105:\tlearn: 1646.9051596\ttotal: 4.31s\tremaining: 36.3s\n",
      "106:\tlearn: 1645.4544858\ttotal: 4.35s\tremaining: 36.3s\n",
      "107:\tlearn: 1643.6703234\ttotal: 4.39s\tremaining: 36.3s\n",
      "108:\tlearn: 1642.8780531\ttotal: 4.44s\tremaining: 36.3s\n",
      "109:\tlearn: 1642.0355726\ttotal: 4.48s\tremaining: 36.3s\n",
      "110:\tlearn: 1639.8294481\ttotal: 4.53s\tremaining: 36.2s\n",
      "111:\tlearn: 1638.7222597\ttotal: 4.57s\tremaining: 36.2s\n",
      "112:\tlearn: 1637.6670644\ttotal: 4.61s\tremaining: 36.2s\n",
      "113:\tlearn: 1636.1091581\ttotal: 4.65s\tremaining: 36.2s\n",
      "114:\tlearn: 1634.9979344\ttotal: 4.69s\tremaining: 36.1s\n",
      "115:\tlearn: 1634.0254762\ttotal: 4.74s\tremaining: 36.1s\n",
      "116:\tlearn: 1633.0772158\ttotal: 4.78s\tremaining: 36.1s\n",
      "117:\tlearn: 1631.9398934\ttotal: 4.83s\tremaining: 36.1s\n",
      "118:\tlearn: 1630.0651453\ttotal: 4.87s\tremaining: 36.1s\n",
      "119:\tlearn: 1628.9508755\ttotal: 4.92s\tremaining: 36.1s\n",
      "120:\tlearn: 1628.3996201\ttotal: 4.96s\tremaining: 36s\n",
      "121:\tlearn: 1627.5918826\ttotal: 5s\tremaining: 36s\n",
      "122:\tlearn: 1627.0907775\ttotal: 5.05s\tremaining: 36s\n",
      "123:\tlearn: 1624.9113356\ttotal: 5.09s\tremaining: 36s\n",
      "124:\tlearn: 1624.1461184\ttotal: 5.13s\tremaining: 35.9s\n",
      "125:\tlearn: 1623.1644285\ttotal: 5.17s\tremaining: 35.9s\n",
      "126:\tlearn: 1622.3592623\ttotal: 5.21s\tremaining: 35.8s\n",
      "127:\tlearn: 1621.6730830\ttotal: 5.25s\tremaining: 35.8s\n",
      "128:\tlearn: 1620.5659811\ttotal: 5.29s\tremaining: 35.7s\n",
      "129:\tlearn: 1619.3820303\ttotal: 5.33s\tremaining: 35.7s\n",
      "130:\tlearn: 1618.1218042\ttotal: 5.37s\tremaining: 35.6s\n",
      "131:\tlearn: 1615.6767124\ttotal: 5.41s\tremaining: 35.6s\n",
      "132:\tlearn: 1614.7223703\ttotal: 5.44s\tremaining: 35.5s\n",
      "133:\tlearn: 1613.6126305\ttotal: 5.48s\tremaining: 35.4s\n",
      "134:\tlearn: 1612.4243170\ttotal: 5.52s\tremaining: 35.4s\n",
      "135:\tlearn: 1611.6239085\ttotal: 5.56s\tremaining: 35.3s\n",
      "136:\tlearn: 1610.8333571\ttotal: 5.6s\tremaining: 35.3s\n",
      "137:\tlearn: 1610.0684748\ttotal: 5.64s\tremaining: 35.3s\n",
      "138:\tlearn: 1609.1408576\ttotal: 5.68s\tremaining: 35.2s\n",
      "139:\tlearn: 1607.7531348\ttotal: 5.72s\tremaining: 35.1s\n",
      "140:\tlearn: 1607.1040706\ttotal: 5.77s\tremaining: 35.1s\n",
      "141:\tlearn: 1606.3034135\ttotal: 5.8s\tremaining: 35.1s\n",
      "142:\tlearn: 1605.0822486\ttotal: 5.85s\tremaining: 35s\n",
      "143:\tlearn: 1604.4646532\ttotal: 5.89s\tremaining: 35s\n",
      "144:\tlearn: 1603.6618671\ttotal: 5.92s\tremaining: 34.9s\n",
      "145:\tlearn: 1602.4905374\ttotal: 5.97s\tremaining: 34.9s\n",
      "146:\tlearn: 1601.8661719\ttotal: 6s\tremaining: 34.8s\n",
      "147:\tlearn: 1601.1787939\ttotal: 6.04s\tremaining: 34.8s\n",
      "148:\tlearn: 1600.2606192\ttotal: 6.08s\tremaining: 34.7s\n",
      "149:\tlearn: 1598.9003842\ttotal: 6.12s\tremaining: 34.7s\n",
      "150:\tlearn: 1598.1346860\ttotal: 6.17s\tremaining: 34.7s\n",
      "151:\tlearn: 1597.3367827\ttotal: 6.21s\tremaining: 34.6s\n",
      "152:\tlearn: 1596.5295767\ttotal: 6.25s\tremaining: 34.6s\n",
      "153:\tlearn: 1595.2954254\ttotal: 6.29s\tremaining: 34.6s\n",
      "154:\tlearn: 1594.5399702\ttotal: 6.33s\tremaining: 34.5s\n",
      "155:\tlearn: 1593.6559012\ttotal: 6.37s\tremaining: 34.5s\n",
      "156:\tlearn: 1592.9178111\ttotal: 6.41s\tremaining: 34.4s\n",
      "157:\tlearn: 1591.8955867\ttotal: 6.45s\tremaining: 34.4s\n",
      "158:\tlearn: 1591.1562209\ttotal: 6.49s\tremaining: 34.3s\n",
      "159:\tlearn: 1590.2141250\ttotal: 6.53s\tremaining: 34.3s\n",
      "160:\tlearn: 1589.5076318\ttotal: 6.57s\tremaining: 34.2s\n",
      "161:\tlearn: 1588.6848767\ttotal: 6.61s\tremaining: 34.2s\n",
      "162:\tlearn: 1587.7532711\ttotal: 6.65s\tremaining: 34.1s\n",
      "163:\tlearn: 1587.0577074\ttotal: 6.69s\tremaining: 34.1s\n",
      "164:\tlearn: 1585.8926050\ttotal: 6.73s\tremaining: 34.1s\n",
      "165:\tlearn: 1584.6333135\ttotal: 6.77s\tremaining: 34s\n",
      "166:\tlearn: 1583.9332421\ttotal: 6.81s\tremaining: 34s\n",
      "167:\tlearn: 1583.0765454\ttotal: 6.85s\tremaining: 33.9s\n",
      "168:\tlearn: 1582.3628631\ttotal: 6.89s\tremaining: 33.9s\n",
      "169:\tlearn: 1581.6501690\ttotal: 6.97s\tremaining: 34s\n",
      "170:\tlearn: 1581.0993046\ttotal: 7.03s\tremaining: 34.1s\n",
      "171:\tlearn: 1580.3737561\ttotal: 7.07s\tremaining: 34s\n",
      "172:\tlearn: 1579.5603874\ttotal: 7.11s\tremaining: 34s\n",
      "173:\tlearn: 1578.9368150\ttotal: 7.16s\tremaining: 34s\n",
      "174:\tlearn: 1578.0137073\ttotal: 7.2s\tremaining: 33.9s\n",
      "175:\tlearn: 1577.3878417\ttotal: 7.24s\tremaining: 33.9s\n",
      "176:\tlearn: 1576.4024186\ttotal: 7.28s\tremaining: 33.8s\n",
      "177:\tlearn: 1575.3353893\ttotal: 7.32s\tremaining: 33.8s\n",
      "178:\tlearn: 1574.4814026\ttotal: 7.36s\tremaining: 33.8s\n",
      "179:\tlearn: 1573.7882883\ttotal: 7.4s\tremaining: 33.7s\n",
      "180:\tlearn: 1573.1780658\ttotal: 7.43s\tremaining: 33.6s\n",
      "181:\tlearn: 1572.5165977\ttotal: 7.47s\tremaining: 33.6s\n",
      "182:\tlearn: 1571.5974717\ttotal: 7.51s\tremaining: 33.5s\n",
      "183:\tlearn: 1570.8433860\ttotal: 7.55s\tremaining: 33.5s\n",
      "184:\tlearn: 1569.9039588\ttotal: 7.59s\tremaining: 33.5s\n",
      "185:\tlearn: 1569.2473202\ttotal: 7.63s\tremaining: 33.4s\n",
      "186:\tlearn: 1568.5981370\ttotal: 7.67s\tremaining: 33.4s\n",
      "187:\tlearn: 1567.6177561\ttotal: 7.71s\tremaining: 33.3s\n",
      "188:\tlearn: 1567.0621084\ttotal: 7.75s\tremaining: 33.3s\n",
      "189:\tlearn: 1566.5315940\ttotal: 7.79s\tremaining: 33.2s\n",
      "190:\tlearn: 1566.1272129\ttotal: 7.83s\tremaining: 33.2s\n",
      "191:\tlearn: 1565.5470571\ttotal: 7.87s\tremaining: 33.1s\n",
      "192:\tlearn: 1564.9184491\ttotal: 7.92s\tremaining: 33.1s\n",
      "193:\tlearn: 1564.3289264\ttotal: 7.95s\tremaining: 33s\n",
      "194:\tlearn: 1563.5855637\ttotal: 8s\tremaining: 33s\n",
      "195:\tlearn: 1563.0037266\ttotal: 8.04s\tremaining: 33s\n",
      "196:\tlearn: 1562.4749711\ttotal: 8.07s\tremaining: 32.9s\n",
      "197:\tlearn: 1561.2870874\ttotal: 8.12s\tremaining: 32.9s\n",
      "198:\tlearn: 1560.6283591\ttotal: 8.16s\tremaining: 32.8s\n",
      "199:\tlearn: 1560.0090770\ttotal: 8.2s\tremaining: 32.8s\n",
      "200:\tlearn: 1559.6229194\ttotal: 8.32s\tremaining: 33.1s\n",
      "201:\tlearn: 1559.0272827\ttotal: 8.39s\tremaining: 33.2s\n",
      "202:\tlearn: 1558.1256628\ttotal: 8.44s\tremaining: 33.1s\n",
      "203:\tlearn: 1557.3132446\ttotal: 8.48s\tremaining: 33.1s\n",
      "204:\tlearn: 1556.5670162\ttotal: 8.52s\tremaining: 33.1s\n",
      "205:\tlearn: 1555.6746916\ttotal: 8.57s\tremaining: 33s\n",
      "206:\tlearn: 1555.1731723\ttotal: 8.61s\tremaining: 33s\n",
      "207:\tlearn: 1554.6613505\ttotal: 8.65s\tremaining: 32.9s\n",
      "208:\tlearn: 1554.0466829\ttotal: 8.69s\tremaining: 32.9s\n",
      "209:\tlearn: 1553.1267896\ttotal: 8.73s\tremaining: 32.8s\n",
      "210:\tlearn: 1552.3860733\ttotal: 8.77s\tremaining: 32.8s\n",
      "211:\tlearn: 1551.6766795\ttotal: 8.81s\tremaining: 32.7s\n",
      "212:\tlearn: 1551.0876131\ttotal: 8.85s\tremaining: 32.7s\n",
      "213:\tlearn: 1550.5306761\ttotal: 8.89s\tremaining: 32.6s\n",
      "214:\tlearn: 1549.9034444\ttotal: 8.93s\tremaining: 32.6s\n",
      "215:\tlearn: 1549.0860127\ttotal: 8.97s\tremaining: 32.5s\n",
      "216:\tlearn: 1548.6916692\ttotal: 9.01s\tremaining: 32.5s\n",
      "217:\tlearn: 1548.1094478\ttotal: 9.05s\tremaining: 32.5s\n",
      "218:\tlearn: 1547.3575008\ttotal: 9.09s\tremaining: 32.4s\n",
      "219:\tlearn: 1546.7288225\ttotal: 9.13s\tremaining: 32.4s\n",
      "220:\tlearn: 1546.1020395\ttotal: 9.17s\tremaining: 32.3s\n",
      "221:\tlearn: 1545.3674068\ttotal: 9.21s\tremaining: 32.3s\n",
      "222:\tlearn: 1544.7629750\ttotal: 9.25s\tremaining: 32.2s\n",
      "223:\tlearn: 1544.2322095\ttotal: 9.29s\tremaining: 32.2s\n",
      "224:\tlearn: 1543.6070990\ttotal: 9.33s\tremaining: 32.1s\n",
      "225:\tlearn: 1542.9765552\ttotal: 9.37s\tremaining: 32.1s\n",
      "226:\tlearn: 1542.5323972\ttotal: 9.41s\tremaining: 32.1s\n",
      "227:\tlearn: 1541.9313766\ttotal: 9.46s\tremaining: 32s\n",
      "228:\tlearn: 1540.7633355\ttotal: 9.5s\tremaining: 32s\n",
      "229:\tlearn: 1540.2306544\ttotal: 9.54s\tremaining: 31.9s\n",
      "230:\tlearn: 1539.3832734\ttotal: 9.58s\tremaining: 31.9s\n",
      "231:\tlearn: 1538.8833654\ttotal: 9.62s\tremaining: 31.8s\n",
      "232:\tlearn: 1538.6542844\ttotal: 9.66s\tremaining: 31.8s\n",
      "233:\tlearn: 1538.2080177\ttotal: 9.7s\tremaining: 31.8s\n",
      "234:\tlearn: 1537.6203104\ttotal: 9.74s\tremaining: 31.7s\n",
      "235:\tlearn: 1537.1061328\ttotal: 9.78s\tremaining: 31.7s\n",
      "236:\tlearn: 1536.3862119\ttotal: 9.82s\tremaining: 31.6s\n",
      "237:\tlearn: 1535.0804709\ttotal: 9.86s\tremaining: 31.6s\n",
      "238:\tlearn: 1534.5347184\ttotal: 9.89s\tremaining: 31.5s\n",
      "239:\tlearn: 1533.9290889\ttotal: 9.93s\tremaining: 31.5s\n",
      "240:\tlearn: 1533.2059367\ttotal: 9.97s\tremaining: 31.4s\n",
      "241:\tlearn: 1532.3119054\ttotal: 10s\tremaining: 31.4s\n",
      "242:\tlearn: 1531.7848802\ttotal: 10.1s\tremaining: 31.3s\n",
      "243:\tlearn: 1531.0379377\ttotal: 10.1s\tremaining: 31.3s\n",
      "244:\tlearn: 1530.4136944\ttotal: 10.1s\tremaining: 31.2s\n",
      "245:\tlearn: 1529.9412917\ttotal: 10.2s\tremaining: 31.2s\n",
      "246:\tlearn: 1529.6458668\ttotal: 10.2s\tremaining: 31.1s\n",
      "247:\tlearn: 1529.0773167\ttotal: 10.2s\tremaining: 31.1s\n",
      "248:\tlearn: 1528.5927897\ttotal: 10.3s\tremaining: 31s\n",
      "249:\tlearn: 1527.8964775\ttotal: 10.3s\tremaining: 31s\n",
      "250:\tlearn: 1527.1377672\ttotal: 10.4s\tremaining: 30.9s\n",
      "251:\tlearn: 1526.7665554\ttotal: 10.4s\tremaining: 30.9s\n",
      "252:\tlearn: 1526.3083065\ttotal: 10.4s\tremaining: 30.8s\n",
      "253:\tlearn: 1525.6245678\ttotal: 10.5s\tremaining: 30.8s\n",
      "254:\tlearn: 1524.8744670\ttotal: 10.5s\tremaining: 30.7s\n",
      "255:\tlearn: 1524.4181663\ttotal: 10.6s\tremaining: 30.7s\n",
      "256:\tlearn: 1523.6826860\ttotal: 10.6s\tremaining: 30.7s\n",
      "257:\tlearn: 1523.2432685\ttotal: 10.6s\tremaining: 30.6s\n",
      "258:\tlearn: 1522.8099014\ttotal: 10.7s\tremaining: 30.6s\n",
      "259:\tlearn: 1522.3177015\ttotal: 10.7s\tremaining: 30.5s\n",
      "260:\tlearn: 1521.7797128\ttotal: 10.8s\tremaining: 30.5s\n",
      "261:\tlearn: 1521.4486548\ttotal: 10.8s\tremaining: 30.4s\n",
      "262:\tlearn: 1520.9570565\ttotal: 10.8s\tremaining: 30.4s\n",
      "263:\tlearn: 1520.4797215\ttotal: 10.9s\tremaining: 30.3s\n",
      "264:\tlearn: 1520.0691765\ttotal: 10.9s\tremaining: 30.3s\n",
      "265:\tlearn: 1519.3780163\ttotal: 11s\tremaining: 30.2s\n",
      "266:\tlearn: 1518.8874424\ttotal: 11s\tremaining: 30.2s\n",
      "267:\tlearn: 1518.4021488\ttotal: 11s\tremaining: 30.1s\n",
      "268:\tlearn: 1517.8291810\ttotal: 11.1s\tremaining: 30.1s\n",
      "269:\tlearn: 1517.5771818\ttotal: 11.1s\tremaining: 30s\n",
      "270:\tlearn: 1516.6006411\ttotal: 11.2s\tremaining: 30s\n",
      "271:\tlearn: 1516.1549366\ttotal: 11.2s\tremaining: 30s\n",
      "272:\tlearn: 1515.6849216\ttotal: 11.2s\tremaining: 29.9s\n",
      "273:\tlearn: 1515.2883009\ttotal: 11.3s\tremaining: 29.9s\n",
      "274:\tlearn: 1514.7663707\ttotal: 11.3s\tremaining: 29.8s\n",
      "275:\tlearn: 1514.3375543\ttotal: 11.4s\tremaining: 29.8s\n",
      "276:\tlearn: 1513.7239839\ttotal: 11.4s\tremaining: 29.7s\n",
      "277:\tlearn: 1513.0559887\ttotal: 11.4s\tremaining: 29.7s\n",
      "278:\tlearn: 1512.7012864\ttotal: 11.5s\tremaining: 29.7s\n",
      "279:\tlearn: 1512.2464021\ttotal: 11.5s\tremaining: 29.6s\n",
      "280:\tlearn: 1511.8942158\ttotal: 11.6s\tremaining: 29.6s\n",
      "281:\tlearn: 1511.4799544\ttotal: 11.6s\tremaining: 29.5s\n",
      "282:\tlearn: 1510.8154142\ttotal: 11.6s\tremaining: 29.5s\n",
      "283:\tlearn: 1509.9224982\ttotal: 11.7s\tremaining: 29.4s\n",
      "284:\tlearn: 1509.4183115\ttotal: 11.7s\tremaining: 29.4s\n",
      "285:\tlearn: 1508.8929873\ttotal: 11.7s\tremaining: 29.3s\n",
      "286:\tlearn: 1508.4622930\ttotal: 11.8s\tremaining: 29.3s\n",
      "287:\tlearn: 1507.8290107\ttotal: 11.8s\tremaining: 29.2s\n",
      "288:\tlearn: 1507.4005141\ttotal: 11.9s\tremaining: 29.2s\n",
      "289:\tlearn: 1506.7927935\ttotal: 11.9s\tremaining: 29.2s\n",
      "290:\tlearn: 1506.5950924\ttotal: 12s\tremaining: 29.1s\n",
      "291:\tlearn: 1506.0171774\ttotal: 12s\tremaining: 29.1s\n",
      "292:\tlearn: 1505.3588050\ttotal: 12s\tremaining: 29s\n",
      "293:\tlearn: 1504.8552834\ttotal: 12.1s\tremaining: 29s\n",
      "294:\tlearn: 1504.4175293\ttotal: 12.1s\tremaining: 29s\n",
      "295:\tlearn: 1503.9259776\ttotal: 12.2s\tremaining: 28.9s\n",
      "296:\tlearn: 1503.4121185\ttotal: 12.2s\tremaining: 28.9s\n",
      "297:\tlearn: 1502.9490802\ttotal: 12.2s\tremaining: 28.8s\n",
      "298:\tlearn: 1502.6279124\ttotal: 12.3s\tremaining: 28.8s\n",
      "299:\tlearn: 1501.9251997\ttotal: 12.3s\tremaining: 28.7s\n",
      "300:\tlearn: 1501.5686454\ttotal: 12.4s\tremaining: 28.7s\n",
      "301:\tlearn: 1501.0868006\ttotal: 12.4s\tremaining: 28.7s\n",
      "302:\tlearn: 1500.7008262\ttotal: 12.4s\tremaining: 28.6s\n",
      "303:\tlearn: 1500.3428691\ttotal: 12.5s\tremaining: 28.6s\n",
      "304:\tlearn: 1499.7354580\ttotal: 12.5s\tremaining: 28.5s\n",
      "305:\tlearn: 1499.0333330\ttotal: 12.6s\tremaining: 28.5s\n",
      "306:\tlearn: 1498.6052446\ttotal: 12.6s\tremaining: 28.4s\n",
      "307:\tlearn: 1498.1581559\ttotal: 12.6s\tremaining: 28.4s\n",
      "308:\tlearn: 1497.7865112\ttotal: 12.7s\tremaining: 28.3s\n",
      "309:\tlearn: 1497.4274061\ttotal: 12.7s\tremaining: 28.3s\n",
      "310:\tlearn: 1497.1098773\ttotal: 12.7s\tremaining: 28.2s\n",
      "311:\tlearn: 1496.6885076\ttotal: 12.8s\tremaining: 28.2s\n",
      "312:\tlearn: 1496.3263496\ttotal: 12.8s\tremaining: 28.2s\n",
      "313:\tlearn: 1495.7085924\ttotal: 12.9s\tremaining: 28.1s\n",
      "314:\tlearn: 1495.4119463\ttotal: 12.9s\tremaining: 28.1s\n",
      "315:\tlearn: 1494.9995671\ttotal: 13s\tremaining: 28s\n",
      "316:\tlearn: 1494.5631218\ttotal: 13s\tremaining: 28s\n",
      "317:\tlearn: 1494.2459747\ttotal: 13s\tremaining: 27.9s\n",
      "318:\tlearn: 1493.9262558\ttotal: 13.1s\tremaining: 27.9s\n",
      "319:\tlearn: 1493.4579081\ttotal: 13.1s\tremaining: 27.9s\n",
      "320:\tlearn: 1493.2030560\ttotal: 13.1s\tremaining: 27.8s\n",
      "321:\tlearn: 1492.8155174\ttotal: 13.2s\tremaining: 27.8s\n",
      "322:\tlearn: 1492.4468925\ttotal: 13.2s\tremaining: 27.7s\n",
      "323:\tlearn: 1492.0208584\ttotal: 13.3s\tremaining: 27.7s\n",
      "324:\tlearn: 1491.7579007\ttotal: 13.3s\tremaining: 27.6s\n",
      "325:\tlearn: 1491.3020219\ttotal: 13.3s\tremaining: 27.6s\n",
      "326:\tlearn: 1490.5181036\ttotal: 13.4s\tremaining: 27.5s\n",
      "327:\tlearn: 1489.8666053\ttotal: 13.4s\tremaining: 27.5s\n",
      "328:\tlearn: 1489.2578063\ttotal: 13.5s\tremaining: 27.5s\n",
      "329:\tlearn: 1488.5408413\ttotal: 13.5s\tremaining: 27.4s\n",
      "330:\tlearn: 1488.1962822\ttotal: 13.5s\tremaining: 27.4s\n",
      "331:\tlearn: 1487.8693759\ttotal: 13.6s\tremaining: 27.3s\n",
      "332:\tlearn: 1487.5333952\ttotal: 13.6s\tremaining: 27.3s\n",
      "333:\tlearn: 1487.0777534\ttotal: 13.7s\tremaining: 27.2s\n",
      "334:\tlearn: 1486.4065014\ttotal: 13.7s\tremaining: 27.2s\n",
      "335:\tlearn: 1486.1956690\ttotal: 13.7s\tremaining: 27.2s\n",
      "336:\tlearn: 1485.8938464\ttotal: 13.8s\tremaining: 27.1s\n",
      "337:\tlearn: 1485.3968907\ttotal: 13.8s\tremaining: 27.1s\n",
      "338:\tlearn: 1485.0897767\ttotal: 13.9s\tremaining: 27s\n",
      "339:\tlearn: 1484.5704462\ttotal: 13.9s\tremaining: 27s\n",
      "340:\tlearn: 1484.1559428\ttotal: 13.9s\tremaining: 26.9s\n",
      "341:\tlearn: 1483.9280194\ttotal: 14s\tremaining: 26.9s\n",
      "342:\tlearn: 1483.4508772\ttotal: 14s\tremaining: 26.8s\n",
      "343:\tlearn: 1482.9950850\ttotal: 14.1s\tremaining: 26.8s\n",
      "344:\tlearn: 1482.6435188\ttotal: 14.1s\tremaining: 26.8s\n",
      "345:\tlearn: 1482.2013155\ttotal: 14.1s\tremaining: 26.7s\n",
      "346:\tlearn: 1481.9009865\ttotal: 14.2s\tremaining: 26.7s\n",
      "347:\tlearn: 1481.6064734\ttotal: 14.2s\tremaining: 26.7s\n",
      "348:\tlearn: 1481.3495400\ttotal: 14.3s\tremaining: 26.6s\n",
      "349:\tlearn: 1480.9125547\ttotal: 14.3s\tremaining: 26.6s\n",
      "350:\tlearn: 1480.4038386\ttotal: 14.3s\tremaining: 26.5s\n",
      "351:\tlearn: 1479.7683372\ttotal: 14.4s\tremaining: 26.5s\n",
      "352:\tlearn: 1479.4220099\ttotal: 14.4s\tremaining: 26.4s\n",
      "353:\tlearn: 1479.1278826\ttotal: 14.5s\tremaining: 26.4s\n",
      "354:\tlearn: 1478.5833787\ttotal: 14.5s\tremaining: 26.4s\n",
      "355:\tlearn: 1478.3093314\ttotal: 14.5s\tremaining: 26.3s\n",
      "356:\tlearn: 1477.9639109\ttotal: 14.6s\tremaining: 26.3s\n",
      "357:\tlearn: 1477.3542482\ttotal: 14.6s\tremaining: 26.2s\n",
      "358:\tlearn: 1476.8889424\ttotal: 14.7s\tremaining: 26.2s\n",
      "359:\tlearn: 1476.4440151\ttotal: 14.7s\tremaining: 26.1s\n",
      "360:\tlearn: 1476.0353502\ttotal: 14.7s\tremaining: 26.1s\n",
      "361:\tlearn: 1475.7090167\ttotal: 14.8s\tremaining: 26s\n",
      "362:\tlearn: 1475.1836783\ttotal: 14.8s\tremaining: 26s\n",
      "363:\tlearn: 1474.8337365\ttotal: 14.9s\tremaining: 26s\n",
      "364:\tlearn: 1474.5684305\ttotal: 14.9s\tremaining: 25.9s\n",
      "365:\tlearn: 1474.1073070\ttotal: 14.9s\tremaining: 25.9s\n",
      "366:\tlearn: 1473.7918687\ttotal: 15s\tremaining: 25.8s\n",
      "367:\tlearn: 1473.4424025\ttotal: 15s\tremaining: 25.8s\n",
      "368:\tlearn: 1473.1464368\ttotal: 15.1s\tremaining: 25.7s\n",
      "369:\tlearn: 1472.7371313\ttotal: 15.1s\tremaining: 25.7s\n",
      "370:\tlearn: 1471.9518435\ttotal: 15.1s\tremaining: 25.7s\n",
      "371:\tlearn: 1471.5733118\ttotal: 15.2s\tremaining: 25.6s\n",
      "372:\tlearn: 1471.1655775\ttotal: 15.2s\tremaining: 25.6s\n",
      "373:\tlearn: 1470.7166391\ttotal: 15.3s\tremaining: 25.6s\n",
      "374:\tlearn: 1470.2547646\ttotal: 15.3s\tremaining: 25.5s\n",
      "375:\tlearn: 1469.8246982\ttotal: 15.3s\tremaining: 25.5s\n",
      "376:\tlearn: 1469.5152653\ttotal: 15.4s\tremaining: 25.4s\n",
      "377:\tlearn: 1468.9708923\ttotal: 15.4s\tremaining: 25.4s\n",
      "378:\tlearn: 1468.5738281\ttotal: 15.5s\tremaining: 25.3s\n",
      "379:\tlearn: 1467.9090572\ttotal: 15.5s\tremaining: 25.3s\n",
      "380:\tlearn: 1467.3698305\ttotal: 15.6s\tremaining: 25.3s\n",
      "381:\tlearn: 1466.5740222\ttotal: 15.6s\tremaining: 25.2s\n",
      "382:\tlearn: 1466.1855631\ttotal: 15.6s\tremaining: 25.2s\n",
      "383:\tlearn: 1465.4146730\ttotal: 15.7s\tremaining: 25.2s\n",
      "384:\tlearn: 1465.0824879\ttotal: 15.7s\tremaining: 25.1s\n",
      "385:\tlearn: 1464.6545997\ttotal: 15.8s\tremaining: 25.1s\n",
      "386:\tlearn: 1464.2118819\ttotal: 15.8s\tremaining: 25s\n",
      "387:\tlearn: 1464.0158356\ttotal: 15.8s\tremaining: 25s\n",
      "388:\tlearn: 1463.7941724\ttotal: 15.9s\tremaining: 24.9s\n",
      "389:\tlearn: 1463.5362169\ttotal: 15.9s\tremaining: 24.9s\n",
      "390:\tlearn: 1463.2751724\ttotal: 16s\tremaining: 24.8s\n",
      "391:\tlearn: 1462.8998148\ttotal: 16s\tremaining: 24.8s\n",
      "392:\tlearn: 1462.4747780\ttotal: 16s\tremaining: 24.8s\n",
      "393:\tlearn: 1462.1700123\ttotal: 16.1s\tremaining: 24.7s\n",
      "394:\tlearn: 1461.7657007\ttotal: 16.1s\tremaining: 24.7s\n",
      "395:\tlearn: 1461.5894760\ttotal: 16.2s\tremaining: 24.6s\n",
      "396:\tlearn: 1461.1860737\ttotal: 16.2s\tremaining: 24.6s\n",
      "397:\tlearn: 1460.9315598\ttotal: 16.2s\tremaining: 24.6s\n",
      "398:\tlearn: 1460.7005022\ttotal: 16.3s\tremaining: 24.5s\n",
      "399:\tlearn: 1460.4143803\ttotal: 16.3s\tremaining: 24.5s\n",
      "400:\tlearn: 1460.1092450\ttotal: 16.4s\tremaining: 24.4s\n",
      "401:\tlearn: 1459.7540812\ttotal: 16.4s\tremaining: 24.4s\n",
      "402:\tlearn: 1459.1772372\ttotal: 16.4s\tremaining: 24.4s\n",
      "403:\tlearn: 1458.7434228\ttotal: 16.5s\tremaining: 24.3s\n",
      "404:\tlearn: 1458.5508788\ttotal: 16.5s\tremaining: 24.3s\n",
      "405:\tlearn: 1458.1721367\ttotal: 16.6s\tremaining: 24.2s\n",
      "406:\tlearn: 1457.8020515\ttotal: 16.6s\tremaining: 24.2s\n",
      "407:\tlearn: 1457.4069174\ttotal: 16.6s\tremaining: 24.1s\n",
      "408:\tlearn: 1457.1677298\ttotal: 16.7s\tremaining: 24.1s\n",
      "409:\tlearn: 1456.8090372\ttotal: 16.7s\tremaining: 24.1s\n",
      "410:\tlearn: 1456.5706112\ttotal: 16.8s\tremaining: 24s\n",
      "411:\tlearn: 1456.2643143\ttotal: 16.8s\tremaining: 24s\n",
      "412:\tlearn: 1455.9380925\ttotal: 16.8s\tremaining: 23.9s\n",
      "413:\tlearn: 1455.6380448\ttotal: 16.9s\tremaining: 23.9s\n",
      "414:\tlearn: 1455.4230281\ttotal: 16.9s\tremaining: 23.9s\n",
      "415:\tlearn: 1454.9963739\ttotal: 17s\tremaining: 23.8s\n",
      "416:\tlearn: 1454.7283456\ttotal: 17s\tremaining: 23.8s\n",
      "417:\tlearn: 1454.3464219\ttotal: 17s\tremaining: 23.7s\n",
      "418:\tlearn: 1453.9004358\ttotal: 17.1s\tremaining: 23.7s\n",
      "419:\tlearn: 1453.3324428\ttotal: 17.1s\tremaining: 23.7s\n",
      "420:\tlearn: 1453.0649480\ttotal: 17.2s\tremaining: 23.6s\n",
      "421:\tlearn: 1452.7941181\ttotal: 17.2s\tremaining: 23.6s\n",
      "422:\tlearn: 1452.3830552\ttotal: 17.3s\tremaining: 23.5s\n",
      "423:\tlearn: 1452.0922600\ttotal: 17.3s\tremaining: 23.5s\n",
      "424:\tlearn: 1451.7520661\ttotal: 17.3s\tremaining: 23.4s\n",
      "425:\tlearn: 1451.4251850\ttotal: 17.4s\tremaining: 23.4s\n",
      "426:\tlearn: 1451.0815088\ttotal: 17.4s\tremaining: 23.4s\n",
      "427:\tlearn: 1450.7700645\ttotal: 17.5s\tremaining: 23.3s\n",
      "428:\tlearn: 1450.3411183\ttotal: 17.5s\tremaining: 23.3s\n",
      "429:\tlearn: 1450.1214371\ttotal: 17.5s\tremaining: 23.2s\n",
      "430:\tlearn: 1449.7854915\ttotal: 17.6s\tremaining: 23.2s\n",
      "431:\tlearn: 1449.3107412\ttotal: 17.6s\tremaining: 23.2s\n",
      "432:\tlearn: 1448.9972103\ttotal: 17.7s\tremaining: 23.1s\n",
      "433:\tlearn: 1448.7094532\ttotal: 17.7s\tremaining: 23.1s\n",
      "434:\tlearn: 1448.3849521\ttotal: 17.7s\tremaining: 23s\n",
      "435:\tlearn: 1448.2778923\ttotal: 17.8s\tremaining: 23s\n",
      "436:\tlearn: 1447.9353475\ttotal: 17.8s\tremaining: 22.9s\n",
      "437:\tlearn: 1447.3786664\ttotal: 17.8s\tremaining: 22.9s\n",
      "438:\tlearn: 1446.8422881\ttotal: 17.9s\tremaining: 22.9s\n",
      "439:\tlearn: 1446.7386965\ttotal: 17.9s\tremaining: 22.8s\n",
      "440:\tlearn: 1446.3613340\ttotal: 18s\tremaining: 22.8s\n",
      "441:\tlearn: 1446.1095589\ttotal: 18s\tremaining: 22.7s\n",
      "442:\tlearn: 1445.7011692\ttotal: 18.1s\tremaining: 22.7s\n",
      "443:\tlearn: 1445.4082992\ttotal: 18.1s\tremaining: 22.7s\n",
      "444:\tlearn: 1445.0989768\ttotal: 18.1s\tremaining: 22.6s\n",
      "445:\tlearn: 1444.7158610\ttotal: 18.2s\tremaining: 22.6s\n",
      "446:\tlearn: 1444.2356530\ttotal: 18.2s\tremaining: 22.5s\n",
      "447:\tlearn: 1443.9623184\ttotal: 18.3s\tremaining: 22.5s\n",
      "448:\tlearn: 1443.7010246\ttotal: 18.3s\tremaining: 22.5s\n",
      "449:\tlearn: 1443.5083031\ttotal: 18.3s\tremaining: 22.4s\n",
      "450:\tlearn: 1443.0298409\ttotal: 18.4s\tremaining: 22.4s\n",
      "451:\tlearn: 1442.7765486\ttotal: 18.4s\tremaining: 22.3s\n",
      "452:\tlearn: 1442.4414023\ttotal: 18.5s\tremaining: 22.3s\n",
      "453:\tlearn: 1442.2281072\ttotal: 18.5s\tremaining: 22.2s\n",
      "454:\tlearn: 1441.8557321\ttotal: 18.5s\tremaining: 22.2s\n",
      "455:\tlearn: 1441.3043041\ttotal: 18.6s\tremaining: 22.2s\n",
      "456:\tlearn: 1440.9521891\ttotal: 18.6s\tremaining: 22.1s\n",
      "457:\tlearn: 1440.6907828\ttotal: 18.7s\tremaining: 22.1s\n",
      "458:\tlearn: 1440.4647267\ttotal: 18.7s\tremaining: 22s\n",
      "459:\tlearn: 1440.1649267\ttotal: 18.7s\tremaining: 22s\n",
      "460:\tlearn: 1439.8591746\ttotal: 18.8s\tremaining: 22s\n",
      "461:\tlearn: 1439.5961098\ttotal: 18.8s\tremaining: 21.9s\n",
      "462:\tlearn: 1439.3465748\ttotal: 18.9s\tremaining: 21.9s\n",
      "463:\tlearn: 1438.9879277\ttotal: 18.9s\tremaining: 21.8s\n",
      "464:\tlearn: 1438.7700526\ttotal: 18.9s\tremaining: 21.8s\n",
      "465:\tlearn: 1438.4168864\ttotal: 19s\tremaining: 21.7s\n",
      "466:\tlearn: 1438.2208501\ttotal: 19s\tremaining: 21.7s\n",
      "467:\tlearn: 1437.9693294\ttotal: 19.1s\tremaining: 21.7s\n",
      "468:\tlearn: 1437.4998198\ttotal: 19.1s\tremaining: 21.6s\n",
      "469:\tlearn: 1437.1441326\ttotal: 19.1s\tremaining: 21.6s\n",
      "470:\tlearn: 1436.9330121\ttotal: 19.2s\tremaining: 21.5s\n",
      "471:\tlearn: 1436.6984394\ttotal: 19.2s\tremaining: 21.5s\n",
      "472:\tlearn: 1436.4331272\ttotal: 19.3s\tremaining: 21.5s\n",
      "473:\tlearn: 1435.8917491\ttotal: 19.3s\tremaining: 21.4s\n",
      "474:\tlearn: 1435.6053094\ttotal: 19.3s\tremaining: 21.4s\n",
      "475:\tlearn: 1435.3930770\ttotal: 19.4s\tremaining: 21.3s\n",
      "476:\tlearn: 1435.0919988\ttotal: 19.4s\tremaining: 21.3s\n",
      "477:\tlearn: 1434.9265879\ttotal: 19.5s\tremaining: 21.3s\n",
      "478:\tlearn: 1434.7013315\ttotal: 19.5s\tremaining: 21.2s\n",
      "479:\tlearn: 1434.4330359\ttotal: 19.5s\tremaining: 21.2s\n",
      "480:\tlearn: 1433.9695013\ttotal: 19.6s\tremaining: 21.1s\n",
      "481:\tlearn: 1433.7014673\ttotal: 19.6s\tremaining: 21.1s\n",
      "482:\tlearn: 1433.2736432\ttotal: 19.7s\tremaining: 21s\n",
      "483:\tlearn: 1432.9537473\ttotal: 19.7s\tremaining: 21s\n",
      "484:\tlearn: 1432.8014426\ttotal: 19.7s\tremaining: 21s\n",
      "485:\tlearn: 1432.5160790\ttotal: 19.8s\tremaining: 20.9s\n",
      "486:\tlearn: 1432.3262404\ttotal: 19.8s\tremaining: 20.9s\n",
      "487:\tlearn: 1432.0906069\ttotal: 19.9s\tremaining: 20.8s\n",
      "488:\tlearn: 1431.8942524\ttotal: 19.9s\tremaining: 20.8s\n",
      "489:\tlearn: 1431.6220880\ttotal: 20s\tremaining: 20.8s\n",
      "490:\tlearn: 1431.3795036\ttotal: 20s\tremaining: 20.7s\n",
      "491:\tlearn: 1431.2204470\ttotal: 20s\tremaining: 20.7s\n",
      "492:\tlearn: 1430.9260069\ttotal: 20.1s\tremaining: 20.6s\n",
      "493:\tlearn: 1430.6510914\ttotal: 20.1s\tremaining: 20.6s\n",
      "494:\tlearn: 1430.2468485\ttotal: 20.2s\tremaining: 20.6s\n",
      "495:\tlearn: 1429.9304617\ttotal: 20.2s\tremaining: 20.5s\n",
      "496:\tlearn: 1429.4443174\ttotal: 20.2s\tremaining: 20.5s\n",
      "497:\tlearn: 1429.1069979\ttotal: 20.3s\tremaining: 20.4s\n",
      "498:\tlearn: 1428.9406400\ttotal: 20.3s\tremaining: 20.4s\n",
      "499:\tlearn: 1428.5735403\ttotal: 20.4s\tremaining: 20.4s\n",
      "500:\tlearn: 1428.2008139\ttotal: 20.4s\tremaining: 20.3s\n",
      "501:\tlearn: 1427.9940885\ttotal: 20.4s\tremaining: 20.3s\n",
      "502:\tlearn: 1427.7563892\ttotal: 20.5s\tremaining: 20.2s\n",
      "503:\tlearn: 1427.5891287\ttotal: 20.5s\tremaining: 20.2s\n",
      "504:\tlearn: 1427.2062459\ttotal: 20.6s\tremaining: 20.2s\n",
      "505:\tlearn: 1426.8332155\ttotal: 20.6s\tremaining: 20.1s\n",
      "506:\tlearn: 1426.6568554\ttotal: 20.6s\tremaining: 20.1s\n",
      "507:\tlearn: 1426.4097796\ttotal: 20.7s\tremaining: 20s\n",
      "508:\tlearn: 1426.1977583\ttotal: 20.7s\tremaining: 20s\n",
      "509:\tlearn: 1425.7479798\ttotal: 20.8s\tremaining: 19.9s\n",
      "510:\tlearn: 1425.5457400\ttotal: 20.8s\tremaining: 19.9s\n",
      "511:\tlearn: 1425.0812041\ttotal: 20.8s\tremaining: 19.9s\n",
      "512:\tlearn: 1424.8160488\ttotal: 20.9s\tremaining: 19.8s\n",
      "513:\tlearn: 1424.4958067\ttotal: 20.9s\tremaining: 19.8s\n",
      "514:\tlearn: 1424.3065902\ttotal: 21s\tremaining: 19.7s\n",
      "515:\tlearn: 1423.9989653\ttotal: 21s\tremaining: 19.7s\n",
      "516:\tlearn: 1423.6949612\ttotal: 21s\tremaining: 19.6s\n",
      "517:\tlearn: 1423.5337539\ttotal: 21.1s\tremaining: 19.6s\n",
      "518:\tlearn: 1423.1911641\ttotal: 21.1s\tremaining: 19.6s\n",
      "519:\tlearn: 1423.0092492\ttotal: 21.2s\tremaining: 19.5s\n",
      "520:\tlearn: 1422.6469222\ttotal: 21.2s\tremaining: 19.5s\n",
      "521:\tlearn: 1422.3461599\ttotal: 21.2s\tremaining: 19.4s\n",
      "522:\tlearn: 1421.8409831\ttotal: 21.3s\tremaining: 19.4s\n",
      "523:\tlearn: 1421.6478785\ttotal: 21.3s\tremaining: 19.4s\n",
      "524:\tlearn: 1421.3979543\ttotal: 21.4s\tremaining: 19.3s\n",
      "525:\tlearn: 1421.1116329\ttotal: 21.4s\tremaining: 19.3s\n",
      "526:\tlearn: 1420.9133179\ttotal: 21.4s\tremaining: 19.2s\n",
      "527:\tlearn: 1420.5470668\ttotal: 21.5s\tremaining: 19.2s\n",
      "528:\tlearn: 1420.3300112\ttotal: 21.5s\tremaining: 19.2s\n",
      "529:\tlearn: 1420.0241215\ttotal: 21.6s\tremaining: 19.1s\n",
      "530:\tlearn: 1419.8218996\ttotal: 21.6s\tremaining: 19.1s\n",
      "531:\tlearn: 1419.6054954\ttotal: 21.6s\tremaining: 19s\n",
      "532:\tlearn: 1419.4538980\ttotal: 21.7s\tremaining: 19s\n",
      "533:\tlearn: 1419.0095314\ttotal: 21.7s\tremaining: 18.9s\n",
      "534:\tlearn: 1418.8323477\ttotal: 21.7s\tremaining: 18.9s\n",
      "535:\tlearn: 1418.6598624\ttotal: 21.8s\tremaining: 18.9s\n",
      "536:\tlearn: 1418.4204060\ttotal: 21.8s\tremaining: 18.8s\n",
      "537:\tlearn: 1418.1472801\ttotal: 21.9s\tremaining: 18.8s\n",
      "538:\tlearn: 1417.8412769\ttotal: 21.9s\tremaining: 18.7s\n",
      "539:\tlearn: 1417.7375826\ttotal: 21.9s\tremaining: 18.7s\n",
      "540:\tlearn: 1417.6261172\ttotal: 22s\tremaining: 18.7s\n",
      "541:\tlearn: 1417.4491084\ttotal: 22s\tremaining: 18.6s\n",
      "542:\tlearn: 1417.3035487\ttotal: 22.1s\tremaining: 18.6s\n",
      "543:\tlearn: 1417.2066674\ttotal: 22.1s\tremaining: 18.5s\n",
      "544:\tlearn: 1416.8393645\ttotal: 22.1s\tremaining: 18.5s\n",
      "545:\tlearn: 1416.6443339\ttotal: 22.2s\tremaining: 18.5s\n",
      "546:\tlearn: 1416.3154006\ttotal: 22.2s\tremaining: 18.4s\n",
      "547:\tlearn: 1416.0979547\ttotal: 22.3s\tremaining: 18.4s\n",
      "548:\tlearn: 1415.7494128\ttotal: 22.3s\tremaining: 18.3s\n",
      "549:\tlearn: 1415.4970904\ttotal: 22.4s\tremaining: 18.3s\n",
      "550:\tlearn: 1415.2757678\ttotal: 22.4s\tremaining: 18.2s\n",
      "551:\tlearn: 1414.8137417\ttotal: 22.4s\tremaining: 18.2s\n",
      "552:\tlearn: 1414.5091788\ttotal: 22.5s\tremaining: 18.2s\n",
      "553:\tlearn: 1414.3584161\ttotal: 22.5s\tremaining: 18.1s\n",
      "554:\tlearn: 1414.0090163\ttotal: 22.6s\tremaining: 18.1s\n",
      "555:\tlearn: 1413.5865346\ttotal: 22.6s\tremaining: 18s\n",
      "556:\tlearn: 1413.2779980\ttotal: 22.6s\tremaining: 18s\n",
      "557:\tlearn: 1412.9452993\ttotal: 22.7s\tremaining: 18s\n",
      "558:\tlearn: 1412.7242193\ttotal: 22.7s\tremaining: 17.9s\n",
      "559:\tlearn: 1412.5484906\ttotal: 22.8s\tremaining: 17.9s\n",
      "560:\tlearn: 1412.3336125\ttotal: 22.8s\tremaining: 17.8s\n",
      "561:\tlearn: 1412.0840078\ttotal: 22.8s\tremaining: 17.8s\n",
      "562:\tlearn: 1411.8147868\ttotal: 22.9s\tremaining: 17.8s\n",
      "563:\tlearn: 1411.6969218\ttotal: 22.9s\tremaining: 17.7s\n",
      "564:\tlearn: 1411.2464391\ttotal: 23s\tremaining: 17.7s\n",
      "565:\tlearn: 1410.9581335\ttotal: 23s\tremaining: 17.6s\n",
      "566:\tlearn: 1410.7342484\ttotal: 23s\tremaining: 17.6s\n",
      "567:\tlearn: 1410.5505653\ttotal: 23.1s\tremaining: 17.6s\n",
      "568:\tlearn: 1410.3635868\ttotal: 23.1s\tremaining: 17.5s\n",
      "569:\tlearn: 1410.1166365\ttotal: 23.2s\tremaining: 17.5s\n",
      "570:\tlearn: 1409.9253205\ttotal: 23.2s\tremaining: 17.4s\n",
      "571:\tlearn: 1409.7698557\ttotal: 23.3s\tremaining: 17.4s\n",
      "572:\tlearn: 1409.6155761\ttotal: 23.3s\tremaining: 17.4s\n",
      "573:\tlearn: 1409.2491171\ttotal: 23.3s\tremaining: 17.3s\n",
      "574:\tlearn: 1409.1293698\ttotal: 23.4s\tremaining: 17.3s\n",
      "575:\tlearn: 1408.9881692\ttotal: 23.4s\tremaining: 17.2s\n",
      "576:\tlearn: 1408.8121773\ttotal: 23.5s\tremaining: 17.2s\n",
      "577:\tlearn: 1408.4676856\ttotal: 23.5s\tremaining: 17.2s\n",
      "578:\tlearn: 1408.3823160\ttotal: 23.5s\tremaining: 17.1s\n",
      "579:\tlearn: 1408.0513428\ttotal: 23.6s\tremaining: 17.1s\n",
      "580:\tlearn: 1407.8611186\ttotal: 23.6s\tremaining: 17s\n",
      "581:\tlearn: 1407.5915512\ttotal: 23.6s\tremaining: 17s\n",
      "582:\tlearn: 1407.2213638\ttotal: 23.7s\tremaining: 16.9s\n",
      "583:\tlearn: 1407.0410613\ttotal: 23.7s\tremaining: 16.9s\n",
      "584:\tlearn: 1406.7446165\ttotal: 23.8s\tremaining: 16.9s\n",
      "585:\tlearn: 1406.5575249\ttotal: 23.8s\tremaining: 16.8s\n",
      "586:\tlearn: 1406.3028681\ttotal: 23.8s\tremaining: 16.8s\n",
      "587:\tlearn: 1406.0494252\ttotal: 23.9s\tremaining: 16.7s\n",
      "588:\tlearn: 1405.8194938\ttotal: 23.9s\tremaining: 16.7s\n",
      "589:\tlearn: 1405.5294747\ttotal: 24s\tremaining: 16.7s\n",
      "590:\tlearn: 1405.3356720\ttotal: 24s\tremaining: 16.6s\n",
      "591:\tlearn: 1405.0735572\ttotal: 24.1s\tremaining: 16.6s\n",
      "592:\tlearn: 1404.8409295\ttotal: 24.1s\tremaining: 16.5s\n",
      "593:\tlearn: 1404.6764195\ttotal: 24.1s\tremaining: 16.5s\n",
      "594:\tlearn: 1404.5980415\ttotal: 24.2s\tremaining: 16.5s\n",
      "595:\tlearn: 1404.3973045\ttotal: 24.2s\tremaining: 16.4s\n",
      "596:\tlearn: 1404.1832111\ttotal: 24.3s\tremaining: 16.4s\n",
      "597:\tlearn: 1404.0706406\ttotal: 24.3s\tremaining: 16.3s\n",
      "598:\tlearn: 1403.7879148\ttotal: 24.3s\tremaining: 16.3s\n",
      "599:\tlearn: 1403.5831983\ttotal: 24.4s\tremaining: 16.3s\n",
      "600:\tlearn: 1403.3545735\ttotal: 24.4s\tremaining: 16.2s\n",
      "601:\tlearn: 1403.1365453\ttotal: 24.5s\tremaining: 16.2s\n",
      "602:\tlearn: 1402.9958268\ttotal: 24.5s\tremaining: 16.1s\n",
      "603:\tlearn: 1402.9070651\ttotal: 24.5s\tremaining: 16.1s\n",
      "604:\tlearn: 1402.7357898\ttotal: 24.6s\tremaining: 16s\n",
      "605:\tlearn: 1402.4370059\ttotal: 24.6s\tremaining: 16s\n",
      "606:\tlearn: 1402.2852903\ttotal: 24.7s\tremaining: 16s\n",
      "607:\tlearn: 1402.1422784\ttotal: 24.7s\tremaining: 15.9s\n",
      "608:\tlearn: 1401.9587886\ttotal: 24.7s\tremaining: 15.9s\n",
      "609:\tlearn: 1401.5903249\ttotal: 24.8s\tremaining: 15.8s\n",
      "610:\tlearn: 1401.4236242\ttotal: 24.8s\tremaining: 15.8s\n",
      "611:\tlearn: 1401.2768408\ttotal: 24.9s\tremaining: 15.8s\n",
      "612:\tlearn: 1401.0992336\ttotal: 24.9s\tremaining: 15.7s\n",
      "613:\tlearn: 1400.9259738\ttotal: 24.9s\tremaining: 15.7s\n",
      "614:\tlearn: 1400.6780767\ttotal: 25s\tremaining: 15.6s\n",
      "615:\tlearn: 1400.3013347\ttotal: 25s\tremaining: 15.6s\n",
      "616:\tlearn: 1400.1135324\ttotal: 25.1s\tremaining: 15.6s\n",
      "617:\tlearn: 1399.9162757\ttotal: 25.1s\tremaining: 15.5s\n",
      "618:\tlearn: 1399.7420497\ttotal: 25.1s\tremaining: 15.5s\n",
      "619:\tlearn: 1399.6591278\ttotal: 25.2s\tremaining: 15.4s\n",
      "620:\tlearn: 1399.4790098\ttotal: 25.2s\tremaining: 15.4s\n",
      "621:\tlearn: 1399.3441335\ttotal: 25.3s\tremaining: 15.4s\n",
      "622:\tlearn: 1399.1385351\ttotal: 25.4s\tremaining: 15.3s\n",
      "623:\tlearn: 1398.9037458\ttotal: 25.4s\tremaining: 15.3s\n",
      "624:\tlearn: 1398.7092625\ttotal: 25.4s\tremaining: 15.3s\n",
      "625:\tlearn: 1398.5371353\ttotal: 25.5s\tremaining: 15.2s\n",
      "626:\tlearn: 1398.4253571\ttotal: 25.5s\tremaining: 15.2s\n",
      "627:\tlearn: 1398.2238123\ttotal: 25.6s\tremaining: 15.1s\n",
      "628:\tlearn: 1398.0036091\ttotal: 25.6s\tremaining: 15.1s\n",
      "629:\tlearn: 1397.9574089\ttotal: 25.6s\tremaining: 15.1s\n",
      "630:\tlearn: 1397.5821757\ttotal: 25.7s\tremaining: 15s\n",
      "631:\tlearn: 1397.5155909\ttotal: 25.7s\tremaining: 15s\n",
      "632:\tlearn: 1397.3835997\ttotal: 25.8s\tremaining: 14.9s\n",
      "633:\tlearn: 1397.1838628\ttotal: 25.8s\tremaining: 14.9s\n",
      "634:\tlearn: 1397.0325895\ttotal: 25.9s\tremaining: 14.9s\n",
      "635:\tlearn: 1396.9738573\ttotal: 25.9s\tremaining: 14.8s\n",
      "636:\tlearn: 1396.8218877\ttotal: 25.9s\tremaining: 14.8s\n",
      "637:\tlearn: 1396.5198096\ttotal: 26s\tremaining: 14.7s\n",
      "638:\tlearn: 1396.3616548\ttotal: 26s\tremaining: 14.7s\n",
      "639:\tlearn: 1396.0961172\ttotal: 26.1s\tremaining: 14.7s\n",
      "640:\tlearn: 1395.9457899\ttotal: 26.1s\tremaining: 14.6s\n",
      "641:\tlearn: 1395.7860572\ttotal: 26.1s\tremaining: 14.6s\n",
      "642:\tlearn: 1395.5217089\ttotal: 26.2s\tremaining: 14.5s\n",
      "643:\tlearn: 1395.3337586\ttotal: 26.2s\tremaining: 14.5s\n",
      "644:\tlearn: 1395.0112462\ttotal: 26.3s\tremaining: 14.5s\n",
      "645:\tlearn: 1394.7191664\ttotal: 26.3s\tremaining: 14.4s\n",
      "646:\tlearn: 1394.6135257\ttotal: 26.3s\tremaining: 14.4s\n",
      "647:\tlearn: 1394.4652453\ttotal: 26.4s\tremaining: 14.3s\n",
      "648:\tlearn: 1394.3107014\ttotal: 26.4s\tremaining: 14.3s\n",
      "649:\tlearn: 1394.1324535\ttotal: 26.5s\tremaining: 14.2s\n",
      "650:\tlearn: 1393.9196277\ttotal: 26.5s\tremaining: 14.2s\n",
      "651:\tlearn: 1393.5736008\ttotal: 26.5s\tremaining: 14.2s\n",
      "652:\tlearn: 1393.4426325\ttotal: 26.6s\tremaining: 14.1s\n",
      "653:\tlearn: 1393.2213090\ttotal: 26.6s\tremaining: 14.1s\n",
      "654:\tlearn: 1393.0689370\ttotal: 26.6s\tremaining: 14s\n",
      "655:\tlearn: 1392.8999705\ttotal: 26.7s\tremaining: 14s\n",
      "656:\tlearn: 1392.5177340\ttotal: 26.7s\tremaining: 14s\n",
      "657:\tlearn: 1392.1097488\ttotal: 26.8s\tremaining: 13.9s\n",
      "658:\tlearn: 1391.6986308\ttotal: 26.8s\tremaining: 13.9s\n",
      "659:\tlearn: 1391.5870042\ttotal: 26.9s\tremaining: 13.8s\n",
      "660:\tlearn: 1391.4833437\ttotal: 26.9s\tremaining: 13.8s\n",
      "661:\tlearn: 1391.3963219\ttotal: 26.9s\tremaining: 13.8s\n",
      "662:\tlearn: 1391.1004228\ttotal: 27s\tremaining: 13.7s\n",
      "663:\tlearn: 1390.7951632\ttotal: 27s\tremaining: 13.7s\n",
      "664:\tlearn: 1390.5312816\ttotal: 27.1s\tremaining: 13.6s\n",
      "665:\tlearn: 1390.2144796\ttotal: 27.1s\tremaining: 13.6s\n",
      "666:\tlearn: 1390.0444049\ttotal: 27.1s\tremaining: 13.5s\n",
      "667:\tlearn: 1389.7176459\ttotal: 27.2s\tremaining: 13.5s\n",
      "668:\tlearn: 1389.5737583\ttotal: 27.2s\tremaining: 13.5s\n",
      "669:\tlearn: 1389.4362934\ttotal: 27.3s\tremaining: 13.4s\n",
      "670:\tlearn: 1389.1663518\ttotal: 27.3s\tremaining: 13.4s\n",
      "671:\tlearn: 1389.0318550\ttotal: 27.3s\tremaining: 13.3s\n",
      "672:\tlearn: 1388.7877039\ttotal: 27.4s\tremaining: 13.3s\n",
      "673:\tlearn: 1388.6910299\ttotal: 27.4s\tremaining: 13.3s\n",
      "674:\tlearn: 1388.4174760\ttotal: 27.5s\tremaining: 13.2s\n",
      "675:\tlearn: 1388.1854189\ttotal: 27.5s\tremaining: 13.2s\n",
      "676:\tlearn: 1388.0122861\ttotal: 27.5s\tremaining: 13.1s\n",
      "677:\tlearn: 1387.7584120\ttotal: 27.6s\tremaining: 13.1s\n",
      "678:\tlearn: 1387.5444447\ttotal: 27.6s\tremaining: 13.1s\n",
      "679:\tlearn: 1387.4504935\ttotal: 27.7s\tremaining: 13s\n",
      "680:\tlearn: 1387.2722160\ttotal: 27.7s\tremaining: 13s\n",
      "681:\tlearn: 1386.9023649\ttotal: 27.7s\tremaining: 12.9s\n",
      "682:\tlearn: 1386.6562200\ttotal: 27.8s\tremaining: 12.9s\n",
      "683:\tlearn: 1386.5220892\ttotal: 27.8s\tremaining: 12.9s\n",
      "684:\tlearn: 1386.3764642\ttotal: 27.9s\tremaining: 12.8s\n",
      "685:\tlearn: 1386.2407059\ttotal: 27.9s\tremaining: 12.8s\n",
      "686:\tlearn: 1386.0578942\ttotal: 27.9s\tremaining: 12.7s\n",
      "687:\tlearn: 1385.8622579\ttotal: 28s\tremaining: 12.7s\n",
      "688:\tlearn: 1385.7120399\ttotal: 28s\tremaining: 12.7s\n",
      "689:\tlearn: 1385.2598853\ttotal: 28.1s\tremaining: 12.6s\n",
      "690:\tlearn: 1385.0584967\ttotal: 28.1s\tremaining: 12.6s\n",
      "691:\tlearn: 1384.7289602\ttotal: 28.2s\tremaining: 12.5s\n",
      "692:\tlearn: 1384.4447935\ttotal: 28.2s\tremaining: 12.5s\n",
      "693:\tlearn: 1384.3483517\ttotal: 28.2s\tremaining: 12.4s\n",
      "694:\tlearn: 1384.0967175\ttotal: 28.3s\tremaining: 12.4s\n",
      "695:\tlearn: 1383.7863573\ttotal: 28.3s\tremaining: 12.4s\n",
      "696:\tlearn: 1383.6083628\ttotal: 28.4s\tremaining: 12.3s\n",
      "697:\tlearn: 1383.4888143\ttotal: 28.4s\tremaining: 12.3s\n",
      "698:\tlearn: 1383.3423734\ttotal: 28.4s\tremaining: 12.2s\n",
      "699:\tlearn: 1383.0167692\ttotal: 28.5s\tremaining: 12.2s\n",
      "700:\tlearn: 1382.8088730\ttotal: 28.5s\tremaining: 12.2s\n",
      "701:\tlearn: 1382.5581300\ttotal: 28.6s\tremaining: 12.1s\n",
      "702:\tlearn: 1382.3937752\ttotal: 28.6s\tremaining: 12.1s\n",
      "703:\tlearn: 1382.1324252\ttotal: 28.6s\tremaining: 12s\n",
      "704:\tlearn: 1381.9404964\ttotal: 28.7s\tremaining: 12s\n",
      "705:\tlearn: 1381.7032456\ttotal: 28.7s\tremaining: 12s\n",
      "706:\tlearn: 1381.4784206\ttotal: 28.8s\tremaining: 11.9s\n",
      "707:\tlearn: 1381.2689000\ttotal: 28.8s\tremaining: 11.9s\n",
      "708:\tlearn: 1381.1721712\ttotal: 28.8s\tremaining: 11.8s\n",
      "709:\tlearn: 1380.9309211\ttotal: 28.9s\tremaining: 11.8s\n",
      "710:\tlearn: 1380.6343059\ttotal: 28.9s\tremaining: 11.8s\n",
      "711:\tlearn: 1380.4113139\ttotal: 29s\tremaining: 11.7s\n",
      "712:\tlearn: 1380.3093497\ttotal: 29.1s\tremaining: 11.7s\n",
      "713:\tlearn: 1380.1281831\ttotal: 29.2s\tremaining: 11.7s\n",
      "714:\tlearn: 1379.8859935\ttotal: 29.2s\tremaining: 11.6s\n",
      "715:\tlearn: 1379.7297793\ttotal: 29.2s\tremaining: 11.6s\n",
      "716:\tlearn: 1379.6075249\ttotal: 29.3s\tremaining: 11.6s\n",
      "717:\tlearn: 1379.3490161\ttotal: 29.3s\tremaining: 11.5s\n",
      "718:\tlearn: 1379.1366479\ttotal: 29.4s\tremaining: 11.5s\n",
      "719:\tlearn: 1378.9889233\ttotal: 29.4s\tremaining: 11.4s\n",
      "720:\tlearn: 1378.7786855\ttotal: 29.4s\tremaining: 11.4s\n",
      "721:\tlearn: 1378.5833150\ttotal: 29.5s\tremaining: 11.4s\n",
      "722:\tlearn: 1378.4319533\ttotal: 29.5s\tremaining: 11.3s\n",
      "723:\tlearn: 1378.2675041\ttotal: 29.6s\tremaining: 11.3s\n",
      "724:\tlearn: 1378.0579761\ttotal: 29.6s\tremaining: 11.2s\n",
      "725:\tlearn: 1377.8164659\ttotal: 29.6s\tremaining: 11.2s\n",
      "726:\tlearn: 1377.6852517\ttotal: 29.7s\tremaining: 11.1s\n",
      "727:\tlearn: 1377.3594470\ttotal: 29.7s\tremaining: 11.1s\n",
      "728:\tlearn: 1377.2098349\ttotal: 29.8s\tremaining: 11.1s\n",
      "729:\tlearn: 1376.9832658\ttotal: 29.8s\tremaining: 11s\n",
      "730:\tlearn: 1376.6336740\ttotal: 29.8s\tremaining: 11s\n",
      "731:\tlearn: 1376.5178234\ttotal: 29.9s\tremaining: 10.9s\n",
      "732:\tlearn: 1376.2778016\ttotal: 29.9s\tremaining: 10.9s\n",
      "733:\tlearn: 1376.0830672\ttotal: 30s\tremaining: 10.9s\n",
      "734:\tlearn: 1375.9611538\ttotal: 30s\tremaining: 10.8s\n",
      "735:\tlearn: 1375.7925606\ttotal: 30.1s\tremaining: 10.8s\n",
      "736:\tlearn: 1375.5933944\ttotal: 30.1s\tremaining: 10.7s\n",
      "737:\tlearn: 1375.3754092\ttotal: 30.1s\tremaining: 10.7s\n",
      "738:\tlearn: 1375.2620089\ttotal: 30.2s\tremaining: 10.7s\n",
      "739:\tlearn: 1375.1832239\ttotal: 30.2s\tremaining: 10.6s\n",
      "740:\tlearn: 1374.8866323\ttotal: 30.3s\tremaining: 10.6s\n",
      "741:\tlearn: 1374.7897967\ttotal: 30.3s\tremaining: 10.5s\n",
      "742:\tlearn: 1374.6282422\ttotal: 30.3s\tremaining: 10.5s\n",
      "743:\tlearn: 1374.4580261\ttotal: 30.4s\tremaining: 10.5s\n",
      "744:\tlearn: 1374.2445206\ttotal: 30.4s\tremaining: 10.4s\n",
      "745:\tlearn: 1373.9674012\ttotal: 30.5s\tremaining: 10.4s\n",
      "746:\tlearn: 1373.7907820\ttotal: 30.5s\tremaining: 10.3s\n",
      "747:\tlearn: 1373.6192407\ttotal: 30.5s\tremaining: 10.3s\n",
      "748:\tlearn: 1373.4349333\ttotal: 30.6s\tremaining: 10.2s\n",
      "749:\tlearn: 1373.2023504\ttotal: 30.6s\tremaining: 10.2s\n",
      "750:\tlearn: 1373.0571990\ttotal: 30.6s\tremaining: 10.2s\n",
      "751:\tlearn: 1372.8987113\ttotal: 30.7s\tremaining: 10.1s\n",
      "752:\tlearn: 1372.6602206\ttotal: 30.7s\tremaining: 10.1s\n",
      "753:\tlearn: 1372.5252169\ttotal: 30.8s\tremaining: 10s\n",
      "754:\tlearn: 1372.4554622\ttotal: 30.8s\tremaining: 10s\n",
      "755:\tlearn: 1372.3413493\ttotal: 30.9s\tremaining: 9.96s\n",
      "756:\tlearn: 1372.2057645\ttotal: 30.9s\tremaining: 9.92s\n",
      "757:\tlearn: 1372.1143123\ttotal: 30.9s\tremaining: 9.88s\n",
      "758:\tlearn: 1371.9969622\ttotal: 31s\tremaining: 9.84s\n",
      "759:\tlearn: 1371.7606898\ttotal: 31s\tremaining: 9.8s\n",
      "760:\tlearn: 1371.6400521\ttotal: 31.1s\tremaining: 9.76s\n",
      "761:\tlearn: 1371.4916140\ttotal: 31.1s\tremaining: 9.71s\n",
      "762:\tlearn: 1371.2793442\ttotal: 31.1s\tremaining: 9.68s\n",
      "763:\tlearn: 1371.0620865\ttotal: 31.2s\tremaining: 9.63s\n",
      "764:\tlearn: 1370.8899831\ttotal: 31.2s\tremaining: 9.59s\n",
      "765:\tlearn: 1370.6088351\ttotal: 31.3s\tremaining: 9.55s\n",
      "766:\tlearn: 1370.4359799\ttotal: 31.3s\tremaining: 9.51s\n",
      "767:\tlearn: 1370.3056226\ttotal: 31.3s\tremaining: 9.47s\n",
      "768:\tlearn: 1370.1534378\ttotal: 31.4s\tremaining: 9.43s\n",
      "769:\tlearn: 1369.9261676\ttotal: 31.4s\tremaining: 9.38s\n",
      "770:\tlearn: 1369.8173479\ttotal: 31.5s\tremaining: 9.34s\n",
      "771:\tlearn: 1369.6579394\ttotal: 31.5s\tremaining: 9.3s\n",
      "772:\tlearn: 1369.5258737\ttotal: 31.5s\tremaining: 9.26s\n",
      "773:\tlearn: 1369.4139010\ttotal: 31.6s\tremaining: 9.22s\n",
      "774:\tlearn: 1369.1514513\ttotal: 31.6s\tremaining: 9.18s\n",
      "775:\tlearn: 1368.9556770\ttotal: 31.7s\tremaining: 9.14s\n",
      "776:\tlearn: 1368.9119731\ttotal: 31.7s\tremaining: 9.1s\n",
      "777:\tlearn: 1368.7084355\ttotal: 31.7s\tremaining: 9.06s\n",
      "778:\tlearn: 1368.4700530\ttotal: 31.8s\tremaining: 9.02s\n",
      "779:\tlearn: 1368.2682807\ttotal: 31.8s\tremaining: 8.97s\n",
      "780:\tlearn: 1368.0427390\ttotal: 31.9s\tremaining: 8.93s\n",
      "781:\tlearn: 1367.8442212\ttotal: 31.9s\tremaining: 8.89s\n",
      "782:\tlearn: 1367.7279310\ttotal: 31.9s\tremaining: 8.85s\n",
      "783:\tlearn: 1367.5169120\ttotal: 32s\tremaining: 8.81s\n",
      "784:\tlearn: 1367.3743323\ttotal: 32s\tremaining: 8.77s\n",
      "785:\tlearn: 1367.2609178\ttotal: 32.1s\tremaining: 8.73s\n",
      "786:\tlearn: 1367.0838943\ttotal: 32.1s\tremaining: 8.69s\n",
      "787:\tlearn: 1366.8915343\ttotal: 32.2s\tremaining: 8.65s\n",
      "788:\tlearn: 1366.7610916\ttotal: 32.2s\tremaining: 8.61s\n",
      "789:\tlearn: 1366.5153563\ttotal: 32.2s\tremaining: 8.57s\n",
      "790:\tlearn: 1366.2952153\ttotal: 32.3s\tremaining: 8.53s\n",
      "791:\tlearn: 1365.9804630\ttotal: 32.3s\tremaining: 8.49s\n",
      "792:\tlearn: 1365.8656995\ttotal: 32.4s\tremaining: 8.45s\n",
      "793:\tlearn: 1365.7125336\ttotal: 32.4s\tremaining: 8.4s\n",
      "794:\tlearn: 1365.5812083\ttotal: 32.4s\tremaining: 8.37s\n",
      "795:\tlearn: 1365.3503578\ttotal: 32.5s\tremaining: 8.32s\n",
      "796:\tlearn: 1365.2538601\ttotal: 32.5s\tremaining: 8.28s\n",
      "797:\tlearn: 1365.1357067\ttotal: 32.6s\tremaining: 8.24s\n",
      "798:\tlearn: 1364.9061919\ttotal: 32.6s\tremaining: 8.2s\n",
      "799:\tlearn: 1364.8750394\ttotal: 32.6s\tremaining: 8.16s\n",
      "800:\tlearn: 1364.7274157\ttotal: 32.7s\tremaining: 8.12s\n",
      "801:\tlearn: 1364.5488647\ttotal: 32.7s\tremaining: 8.08s\n",
      "802:\tlearn: 1364.4073786\ttotal: 32.8s\tremaining: 8.04s\n",
      "803:\tlearn: 1364.1565515\ttotal: 32.8s\tremaining: 8s\n",
      "804:\tlearn: 1363.8769290\ttotal: 32.8s\tremaining: 7.95s\n",
      "805:\tlearn: 1363.7738349\ttotal: 32.9s\tremaining: 7.91s\n",
      "806:\tlearn: 1363.6322330\ttotal: 32.9s\tremaining: 7.87s\n",
      "807:\tlearn: 1363.4655035\ttotal: 33s\tremaining: 7.83s\n",
      "808:\tlearn: 1363.2847719\ttotal: 33s\tremaining: 7.79s\n",
      "809:\tlearn: 1363.0020539\ttotal: 33s\tremaining: 7.75s\n",
      "810:\tlearn: 1362.6464293\ttotal: 33.1s\tremaining: 7.71s\n",
      "811:\tlearn: 1362.5423244\ttotal: 33.1s\tremaining: 7.67s\n",
      "812:\tlearn: 1362.3646583\ttotal: 33.2s\tremaining: 7.63s\n",
      "813:\tlearn: 1362.2117113\ttotal: 33.2s\tremaining: 7.59s\n",
      "814:\tlearn: 1361.8898475\ttotal: 33.2s\tremaining: 7.55s\n",
      "815:\tlearn: 1361.8017190\ttotal: 33.3s\tremaining: 7.51s\n",
      "816:\tlearn: 1361.5993950\ttotal: 33.3s\tremaining: 7.46s\n",
      "817:\tlearn: 1361.3403034\ttotal: 33.4s\tremaining: 7.42s\n",
      "818:\tlearn: 1361.1749444\ttotal: 33.4s\tremaining: 7.38s\n",
      "819:\tlearn: 1361.0950493\ttotal: 33.4s\tremaining: 7.34s\n",
      "820:\tlearn: 1360.9190306\ttotal: 33.5s\tremaining: 7.3s\n",
      "821:\tlearn: 1360.7574834\ttotal: 33.5s\tremaining: 7.26s\n",
      "822:\tlearn: 1360.4454635\ttotal: 33.6s\tremaining: 7.22s\n",
      "823:\tlearn: 1360.3098667\ttotal: 33.6s\tremaining: 7.18s\n",
      "824:\tlearn: 1360.2270812\ttotal: 33.6s\tremaining: 7.14s\n",
      "825:\tlearn: 1360.0718416\ttotal: 33.7s\tremaining: 7.09s\n",
      "826:\tlearn: 1359.7903591\ttotal: 33.7s\tremaining: 7.05s\n",
      "827:\tlearn: 1359.6799569\ttotal: 33.8s\tremaining: 7.01s\n",
      "828:\tlearn: 1359.5643478\ttotal: 33.8s\tremaining: 6.97s\n",
      "829:\tlearn: 1359.4670201\ttotal: 33.8s\tremaining: 6.93s\n",
      "830:\tlearn: 1359.3218879\ttotal: 33.9s\tremaining: 6.89s\n",
      "831:\tlearn: 1359.0548398\ttotal: 33.9s\tremaining: 6.85s\n",
      "832:\tlearn: 1358.8698982\ttotal: 34s\tremaining: 6.81s\n",
      "833:\tlearn: 1358.6728656\ttotal: 34s\tremaining: 6.77s\n",
      "834:\tlearn: 1358.5716502\ttotal: 34s\tremaining: 6.73s\n",
      "835:\tlearn: 1358.4420224\ttotal: 34.1s\tremaining: 6.69s\n",
      "836:\tlearn: 1358.0648768\ttotal: 34.1s\tremaining: 6.64s\n",
      "837:\tlearn: 1357.9373288\ttotal: 34.2s\tremaining: 6.6s\n",
      "838:\tlearn: 1357.7702812\ttotal: 34.2s\tremaining: 6.56s\n",
      "839:\tlearn: 1357.6558175\ttotal: 34.2s\tremaining: 6.52s\n",
      "840:\tlearn: 1357.5024077\ttotal: 34.3s\tremaining: 6.48s\n",
      "841:\tlearn: 1357.3428653\ttotal: 34.3s\tremaining: 6.44s\n",
      "842:\tlearn: 1357.1633478\ttotal: 34.4s\tremaining: 6.4s\n",
      "843:\tlearn: 1357.0659333\ttotal: 34.4s\tremaining: 6.36s\n",
      "844:\tlearn: 1356.9434843\ttotal: 34.4s\tremaining: 6.32s\n",
      "845:\tlearn: 1356.7926642\ttotal: 34.5s\tremaining: 6.28s\n",
      "846:\tlearn: 1356.4331087\ttotal: 34.5s\tremaining: 6.23s\n",
      "847:\tlearn: 1356.2332285\ttotal: 34.6s\tremaining: 6.19s\n",
      "848:\tlearn: 1356.1128250\ttotal: 34.6s\tremaining: 6.15s\n",
      "849:\tlearn: 1355.9372499\ttotal: 34.6s\tremaining: 6.11s\n",
      "850:\tlearn: 1355.6924156\ttotal: 34.7s\tremaining: 6.07s\n",
      "851:\tlearn: 1355.4966645\ttotal: 34.7s\tremaining: 6.03s\n",
      "852:\tlearn: 1355.3228130\ttotal: 34.8s\tremaining: 5.99s\n",
      "853:\tlearn: 1355.1998829\ttotal: 34.8s\tremaining: 5.95s\n",
      "854:\tlearn: 1355.0304300\ttotal: 34.8s\tremaining: 5.91s\n",
      "855:\tlearn: 1354.7222868\ttotal: 34.9s\tremaining: 5.87s\n",
      "856:\tlearn: 1354.6048232\ttotal: 34.9s\tremaining: 5.83s\n",
      "857:\tlearn: 1354.4210321\ttotal: 35s\tremaining: 5.79s\n",
      "858:\tlearn: 1354.2721874\ttotal: 35s\tremaining: 5.75s\n",
      "859:\tlearn: 1354.1593767\ttotal: 35.1s\tremaining: 5.71s\n",
      "860:\tlearn: 1353.8746151\ttotal: 35.1s\tremaining: 5.67s\n",
      "861:\tlearn: 1353.6461372\ttotal: 35.1s\tremaining: 5.62s\n",
      "862:\tlearn: 1353.4582660\ttotal: 35.2s\tremaining: 5.58s\n",
      "863:\tlearn: 1353.3870991\ttotal: 35.2s\tremaining: 5.54s\n",
      "864:\tlearn: 1353.2006053\ttotal: 35.3s\tremaining: 5.5s\n",
      "865:\tlearn: 1353.0231705\ttotal: 35.3s\tremaining: 5.46s\n",
      "866:\tlearn: 1352.8786095\ttotal: 35.3s\tremaining: 5.42s\n",
      "867:\tlearn: 1352.8207705\ttotal: 35.4s\tremaining: 5.38s\n",
      "868:\tlearn: 1352.6943442\ttotal: 35.4s\tremaining: 5.34s\n",
      "869:\tlearn: 1352.5692309\ttotal: 35.4s\tremaining: 5.3s\n",
      "870:\tlearn: 1352.4098509\ttotal: 35.5s\tremaining: 5.26s\n",
      "871:\tlearn: 1352.2814763\ttotal: 35.5s\tremaining: 5.21s\n",
      "872:\tlearn: 1352.1296651\ttotal: 35.6s\tremaining: 5.17s\n",
      "873:\tlearn: 1352.0367356\ttotal: 35.6s\tremaining: 5.13s\n",
      "874:\tlearn: 1351.8792330\ttotal: 35.6s\tremaining: 5.09s\n",
      "875:\tlearn: 1351.6896613\ttotal: 35.7s\tremaining: 5.05s\n",
      "876:\tlearn: 1351.5344943\ttotal: 35.7s\tremaining: 5.01s\n",
      "877:\tlearn: 1351.3525463\ttotal: 35.8s\tremaining: 4.97s\n",
      "878:\tlearn: 1351.1989590\ttotal: 35.9s\tremaining: 4.94s\n",
      "879:\tlearn: 1351.0728631\ttotal: 35.9s\tremaining: 4.9s\n",
      "880:\tlearn: 1351.0445087\ttotal: 36s\tremaining: 4.86s\n",
      "881:\tlearn: 1350.8108564\ttotal: 36s\tremaining: 4.82s\n",
      "882:\tlearn: 1350.5328503\ttotal: 36s\tremaining: 4.78s\n",
      "883:\tlearn: 1350.4418301\ttotal: 36.1s\tremaining: 4.74s\n",
      "884:\tlearn: 1350.2298207\ttotal: 36.1s\tremaining: 4.69s\n",
      "885:\tlearn: 1350.0829358\ttotal: 36.2s\tremaining: 4.65s\n",
      "886:\tlearn: 1349.9579673\ttotal: 36.2s\tremaining: 4.61s\n",
      "887:\tlearn: 1349.7209405\ttotal: 36.2s\tremaining: 4.57s\n",
      "888:\tlearn: 1349.5504250\ttotal: 36.3s\tremaining: 4.53s\n",
      "889:\tlearn: 1349.3828964\ttotal: 36.3s\tremaining: 4.49s\n",
      "890:\tlearn: 1349.2108878\ttotal: 36.4s\tremaining: 4.45s\n",
      "891:\tlearn: 1349.0453346\ttotal: 36.4s\tremaining: 4.41s\n",
      "892:\tlearn: 1348.9010357\ttotal: 36.4s\tremaining: 4.37s\n",
      "893:\tlearn: 1348.7508594\ttotal: 36.5s\tremaining: 4.33s\n",
      "894:\tlearn: 1348.6041741\ttotal: 36.5s\tremaining: 4.29s\n",
      "895:\tlearn: 1348.3644997\ttotal: 36.6s\tremaining: 4.24s\n",
      "896:\tlearn: 1348.2472028\ttotal: 36.6s\tremaining: 4.2s\n",
      "897:\tlearn: 1348.1092081\ttotal: 36.6s\tremaining: 4.16s\n",
      "898:\tlearn: 1347.9534484\ttotal: 36.7s\tremaining: 4.12s\n",
      "899:\tlearn: 1347.8758518\ttotal: 36.7s\tremaining: 4.08s\n",
      "900:\tlearn: 1347.7026364\ttotal: 36.8s\tremaining: 4.04s\n",
      "901:\tlearn: 1347.4525953\ttotal: 36.8s\tremaining: 4s\n",
      "902:\tlearn: 1347.2934514\ttotal: 36.8s\tremaining: 3.96s\n",
      "903:\tlearn: 1347.1615149\ttotal: 36.9s\tremaining: 3.92s\n",
      "904:\tlearn: 1346.9592624\ttotal: 36.9s\tremaining: 3.88s\n",
      "905:\tlearn: 1346.7766133\ttotal: 37s\tremaining: 3.84s\n",
      "906:\tlearn: 1346.6631789\ttotal: 37s\tremaining: 3.79s\n",
      "907:\tlearn: 1346.5910449\ttotal: 37.1s\tremaining: 3.75s\n",
      "908:\tlearn: 1346.4662021\ttotal: 37.1s\tremaining: 3.71s\n",
      "909:\tlearn: 1346.3369113\ttotal: 37.1s\tremaining: 3.67s\n",
      "910:\tlearn: 1346.1943458\ttotal: 37.2s\tremaining: 3.63s\n",
      "911:\tlearn: 1346.0351974\ttotal: 37.2s\tremaining: 3.59s\n",
      "912:\tlearn: 1345.8828521\ttotal: 37.3s\tremaining: 3.55s\n",
      "913:\tlearn: 1345.8066154\ttotal: 37.3s\tremaining: 3.51s\n",
      "914:\tlearn: 1345.5894118\ttotal: 37.3s\tremaining: 3.47s\n",
      "915:\tlearn: 1345.4545574\ttotal: 37.4s\tremaining: 3.43s\n",
      "916:\tlearn: 1345.3723800\ttotal: 37.4s\tremaining: 3.39s\n",
      "917:\tlearn: 1345.3547935\ttotal: 37.5s\tremaining: 3.35s\n",
      "918:\tlearn: 1345.2367387\ttotal: 37.5s\tremaining: 3.3s\n",
      "919:\tlearn: 1344.8741726\ttotal: 37.5s\tremaining: 3.26s\n",
      "920:\tlearn: 1344.8040498\ttotal: 37.6s\tremaining: 3.22s\n",
      "921:\tlearn: 1344.6247346\ttotal: 37.6s\tremaining: 3.18s\n",
      "922:\tlearn: 1344.4504027\ttotal: 37.7s\tremaining: 3.14s\n",
      "923:\tlearn: 1344.2990211\ttotal: 37.7s\tremaining: 3.1s\n",
      "924:\tlearn: 1344.1306597\ttotal: 37.7s\tremaining: 3.06s\n",
      "925:\tlearn: 1343.9968381\ttotal: 37.8s\tremaining: 3.02s\n",
      "926:\tlearn: 1343.8509356\ttotal: 37.8s\tremaining: 2.98s\n",
      "927:\tlearn: 1343.6998653\ttotal: 37.9s\tremaining: 2.94s\n",
      "928:\tlearn: 1343.4873796\ttotal: 37.9s\tremaining: 2.9s\n",
      "929:\tlearn: 1343.3114879\ttotal: 37.9s\tremaining: 2.86s\n",
      "930:\tlearn: 1343.2467172\ttotal: 38s\tremaining: 2.81s\n",
      "931:\tlearn: 1343.0050555\ttotal: 38s\tremaining: 2.77s\n",
      "932:\tlearn: 1342.7792789\ttotal: 38.1s\tremaining: 2.73s\n",
      "933:\tlearn: 1342.6176708\ttotal: 38.1s\tremaining: 2.69s\n",
      "934:\tlearn: 1342.5108585\ttotal: 38.1s\tremaining: 2.65s\n",
      "935:\tlearn: 1342.3935994\ttotal: 38.2s\tremaining: 2.61s\n",
      "936:\tlearn: 1342.2498485\ttotal: 38.2s\tremaining: 2.57s\n",
      "937:\tlearn: 1342.1262345\ttotal: 38.3s\tremaining: 2.53s\n",
      "938:\tlearn: 1342.0306697\ttotal: 38.3s\tremaining: 2.49s\n",
      "939:\tlearn: 1341.8720697\ttotal: 38.3s\tremaining: 2.45s\n",
      "940:\tlearn: 1341.7534819\ttotal: 38.4s\tremaining: 2.41s\n",
      "941:\tlearn: 1341.4874035\ttotal: 38.4s\tremaining: 2.37s\n",
      "942:\tlearn: 1341.3647491\ttotal: 38.5s\tremaining: 2.33s\n",
      "943:\tlearn: 1341.1797620\ttotal: 38.5s\tremaining: 2.28s\n",
      "944:\tlearn: 1340.9086333\ttotal: 38.5s\tremaining: 2.24s\n",
      "945:\tlearn: 1340.6845484\ttotal: 38.6s\tremaining: 2.2s\n",
      "946:\tlearn: 1340.4722190\ttotal: 38.6s\tremaining: 2.16s\n",
      "947:\tlearn: 1340.3299029\ttotal: 38.7s\tremaining: 2.12s\n",
      "948:\tlearn: 1340.0795782\ttotal: 38.7s\tremaining: 2.08s\n",
      "949:\tlearn: 1339.9597044\ttotal: 38.8s\tremaining: 2.04s\n",
      "950:\tlearn: 1339.7865783\ttotal: 38.8s\tremaining: 2s\n",
      "951:\tlearn: 1339.5900034\ttotal: 38.8s\tremaining: 1.96s\n",
      "952:\tlearn: 1339.4475286\ttotal: 38.9s\tremaining: 1.92s\n",
      "953:\tlearn: 1339.3534948\ttotal: 38.9s\tremaining: 1.88s\n",
      "954:\tlearn: 1339.1969708\ttotal: 39s\tremaining: 1.83s\n",
      "955:\tlearn: 1339.0413669\ttotal: 39s\tremaining: 1.79s\n",
      "956:\tlearn: 1338.9007461\ttotal: 39s\tremaining: 1.75s\n",
      "957:\tlearn: 1338.7355803\ttotal: 39.1s\tremaining: 1.71s\n",
      "958:\tlearn: 1338.5095763\ttotal: 39.1s\tremaining: 1.67s\n",
      "959:\tlearn: 1338.3196707\ttotal: 39.2s\tremaining: 1.63s\n",
      "960:\tlearn: 1338.1848152\ttotal: 39.2s\tremaining: 1.59s\n",
      "961:\tlearn: 1338.0567933\ttotal: 39.2s\tremaining: 1.55s\n",
      "962:\tlearn: 1337.9713458\ttotal: 39.3s\tremaining: 1.51s\n",
      "963:\tlearn: 1337.8597544\ttotal: 39.3s\tremaining: 1.47s\n",
      "964:\tlearn: 1337.7903557\ttotal: 39.4s\tremaining: 1.43s\n",
      "965:\tlearn: 1337.6873102\ttotal: 39.4s\tremaining: 1.39s\n",
      "966:\tlearn: 1337.5097502\ttotal: 39.4s\tremaining: 1.34s\n",
      "967:\tlearn: 1337.4423775\ttotal: 39.5s\tremaining: 1.3s\n",
      "968:\tlearn: 1337.3543330\ttotal: 39.5s\tremaining: 1.26s\n",
      "969:\tlearn: 1337.1357718\ttotal: 39.6s\tremaining: 1.22s\n",
      "970:\tlearn: 1336.9657323\ttotal: 39.6s\tremaining: 1.18s\n",
      "971:\tlearn: 1336.8459546\ttotal: 39.6s\tremaining: 1.14s\n",
      "972:\tlearn: 1336.6825844\ttotal: 39.7s\tremaining: 1.1s\n",
      "973:\tlearn: 1336.4452329\ttotal: 39.7s\tremaining: 1.06s\n",
      "974:\tlearn: 1336.1060051\ttotal: 39.8s\tremaining: 1.02s\n",
      "975:\tlearn: 1335.9033451\ttotal: 39.8s\tremaining: 979ms\n",
      "976:\tlearn: 1335.7634521\ttotal: 39.8s\tremaining: 938ms\n",
      "977:\tlearn: 1335.7379001\ttotal: 39.9s\tremaining: 897ms\n",
      "978:\tlearn: 1335.5036520\ttotal: 39.9s\tremaining: 856ms\n",
      "979:\tlearn: 1335.3728877\ttotal: 40s\tremaining: 816ms\n",
      "980:\tlearn: 1335.2699925\ttotal: 40s\tremaining: 775ms\n",
      "981:\tlearn: 1335.1619338\ttotal: 40s\tremaining: 734ms\n",
      "982:\tlearn: 1334.9812092\ttotal: 40.1s\tremaining: 693ms\n",
      "983:\tlearn: 1334.7227141\ttotal: 40.1s\tremaining: 652ms\n",
      "984:\tlearn: 1334.6176583\ttotal: 40.2s\tremaining: 612ms\n",
      "985:\tlearn: 1334.5310081\ttotal: 40.2s\tremaining: 571ms\n",
      "986:\tlearn: 1334.4212159\ttotal: 40.2s\tremaining: 530ms\n",
      "987:\tlearn: 1334.3456845\ttotal: 40.3s\tremaining: 489ms\n",
      "988:\tlearn: 1334.2980641\ttotal: 40.3s\tremaining: 449ms\n",
      "989:\tlearn: 1334.1062765\ttotal: 40.4s\tremaining: 408ms\n",
      "990:\tlearn: 1333.9971302\ttotal: 40.4s\tremaining: 367ms\n",
      "991:\tlearn: 1333.8975336\ttotal: 40.4s\tremaining: 326ms\n",
      "992:\tlearn: 1333.7250383\ttotal: 40.5s\tremaining: 285ms\n",
      "993:\tlearn: 1333.5874762\ttotal: 40.5s\tremaining: 245ms\n",
      "994:\tlearn: 1333.3936094\ttotal: 40.6s\tremaining: 204ms\n",
      "995:\tlearn: 1333.3058693\ttotal: 40.6s\tremaining: 163ms\n",
      "996:\tlearn: 1333.1511264\ttotal: 40.7s\tremaining: 122ms\n",
      "997:\tlearn: 1332.9999517\ttotal: 40.7s\tremaining: 81.5ms\n",
      "998:\tlearn: 1332.9286583\ttotal: 40.7s\tremaining: 40.8ms\n",
      "999:\tlearn: 1332.7772501\ttotal: 40.8s\tremaining: 0us\n",
      "Время обучения CatBoost: 41.346226930618286\n",
      "Время предсказания CatBoost: 0.1670081615447998\n",
      "Итоговая метрика CatBoost: 1542.5758848301662\n"
     ]
    }
   ],
   "source": [
    "model = CatBoostRegressor(loss_function='RMSE', depth = 10)\n",
    "\n",
    "start = time.time()\n",
    "model.fit(pool_train)\n",
    "end = time.time()\n",
    "fit_time_CB = end - start\n",
    "print('Время обучения CatBoost:', fit_time_CB)\n",
    "\n",
    "start = time.time()\n",
    "pool_test = Pool(features_valid_OE)\n",
    "predicts = model.predict(pool_test)\n",
    "end = time.time()\n",
    "predict_time_CB = end - start\n",
    "print('Время предсказания CatBoost:', predict_time_CB)\n",
    "\n",
    "rmse_CB = rmse(target_valid_OE, predicts)\n",
    "print('Итоговая метрика CatBoost:', rmse_CB)"
   ]
  },
  {
   "cell_type": "markdown",
   "metadata": {},
   "source": [
    "## Анализ моделей"
   ]
  },
  {
   "cell_type": "code",
   "execution_count": 55,
   "metadata": {},
   "outputs": [
    {
     "data": {
      "text/html": [
       "<div>\n",
       "<style scoped>\n",
       "    .dataframe tbody tr th:only-of-type {\n",
       "        vertical-align: middle;\n",
       "    }\n",
       "\n",
       "    .dataframe tbody tr th {\n",
       "        vertical-align: top;\n",
       "    }\n",
       "\n",
       "    .dataframe thead th {\n",
       "        text-align: right;\n",
       "    }\n",
       "</style>\n",
       "<table border=\"1\" class=\"dataframe\">\n",
       "  <thead>\n",
       "    <tr style=\"text-align: right;\">\n",
       "      <th></th>\n",
       "      <th>Скорость обучения</th>\n",
       "      <th>Скорость предсказания</th>\n",
       "      <th>Точность</th>\n",
       "    </tr>\n",
       "  </thead>\n",
       "  <tbody>\n",
       "    <tr>\n",
       "      <th>DTR</th>\n",
       "      <td>0.539854</td>\n",
       "      <td>0.037000</td>\n",
       "      <td>1934.350110</td>\n",
       "    </tr>\n",
       "    <tr>\n",
       "      <th>RFR</th>\n",
       "      <td>54.551392</td>\n",
       "      <td>4.577345</td>\n",
       "      <td>1653.669841</td>\n",
       "    </tr>\n",
       "    <tr>\n",
       "      <th>LGBM</th>\n",
       "      <td>0.523037</td>\n",
       "      <td>0.096006</td>\n",
       "      <td>1774.975737</td>\n",
       "    </tr>\n",
       "    <tr>\n",
       "      <th>CB</th>\n",
       "      <td>41.346227</td>\n",
       "      <td>0.167008</td>\n",
       "      <td>1542.575885</td>\n",
       "    </tr>\n",
       "  </tbody>\n",
       "</table>\n",
       "</div>"
      ],
      "text/plain": [
       "      Скорость обучения  Скорость предсказания     Точность\n",
       "DTR            0.539854               0.037000  1934.350110\n",
       "RFR           54.551392               4.577345  1653.669841\n",
       "LGBM           0.523037               0.096006  1774.975737\n",
       "CB            41.346227               0.167008  1542.575885"
      ]
     },
     "execution_count": 55,
     "metadata": {},
     "output_type": "execute_result"
    }
   ],
   "source": [
    "data_models = pd.DataFrame({'Скорость обучения': [fit_time_DTR, fit_time_RFR, fit_time_LGBM, fit_time_CB], \n",
    "                            'Скорость предсказания': [predict_time_DTR, predict_time_RFR, predict_time_LGBM, predict_time_CB], \n",
    "                           'Точность': [rmse_DTR, rmse_RFR, rmse_LGBM, rmse_CB]},\n",
    "                          index=['DTR', 'RFR', 'LGBM', 'CB'])\n",
    "data_models"
   ]
  },
  {
   "attachments": {},
   "cell_type": "markdown",
   "metadata": {},
   "source": [
    "Из таблицы видно, что самым предпочтительным вариантом является LGBM. Несмотря на то, что он уступает CatBoost, скорость обучения у LGBM в 7 раз меньше. Именно поэтому выбираем LGBM."
   ]
  },
  {
   "cell_type": "code",
   "execution_count": 57,
   "metadata": {},
   "outputs": [
    {
     "name": "stdout",
     "output_type": "stream",
     "text": [
      "Итоговый RMSE на тестовой выборке составляет: 1740.0143031075938\n"
     ]
    }
   ],
   "source": [
    "model = lgb.LGBMRegressor(\n",
    "            objective = 'root_mean_squared_error',\n",
    "            num_leaves = 15,\n",
    "            max_depth = 200,\n",
    "            random_state=28)\n",
    "model.fit(features_train_OE, target_train_OE)\n",
    "predicts = model.predict(features_test_OE)\n",
    "print('Итоговый RMSE на тестовой выборке составляет:', rmse(target_test_OE, predicts))"
   ]
  },
  {
   "attachments": {},
   "cell_type": "markdown",
   "metadata": {},
   "source": [
    "**Вывод**\n",
    "\n",
    "В конечном итоге опредлено, что, удовлетворяя требованиям заказчика, с данной задачей лучше всего справляется LGBM. Полученная метрика - 1740."
   ]
  }
 ],
 "metadata": {
  "ExecuteTimeLog": [
   {
    "duration": 386,
    "start_time": "2023-01-12T10:24:22.764Z"
   },
   {
    "duration": 3281,
    "start_time": "2023-01-12T10:25:05.595Z"
   },
   {
    "duration": 926,
    "start_time": "2023-01-12T10:25:10.513Z"
   },
   {
    "duration": 835,
    "start_time": "2023-01-12T10:25:16.104Z"
   },
   {
    "duration": 112,
    "start_time": "2023-01-12T10:31:24.738Z"
   },
   {
    "duration": 92,
    "start_time": "2023-01-12T10:40:17.209Z"
   },
   {
    "duration": 976,
    "start_time": "2023-01-15T09:11:06.748Z"
   },
   {
    "duration": 47,
    "start_time": "2023-01-15T09:11:49.087Z"
   },
   {
    "duration": 88,
    "start_time": "2023-01-15T09:11:53.224Z"
   },
   {
    "duration": 1002,
    "start_time": "2023-01-15T09:11:59.612Z"
   },
   {
    "duration": 134,
    "start_time": "2023-01-15T09:12:04.422Z"
   },
   {
    "duration": 82,
    "start_time": "2023-01-15T09:12:04.812Z"
   },
   {
    "duration": 83,
    "start_time": "2023-01-15T09:12:06.639Z"
   },
   {
    "duration": 100,
    "start_time": "2023-01-15T09:12:21.496Z"
   },
   {
    "duration": 14,
    "start_time": "2023-01-15T09:12:46.847Z"
   },
   {
    "duration": 79,
    "start_time": "2023-01-15T09:17:38.737Z"
   },
   {
    "duration": 84,
    "start_time": "2023-01-15T09:19:16.325Z"
   },
   {
    "duration": 12064,
    "start_time": "2023-01-15T09:19:22.495Z"
   },
   {
    "duration": 11693,
    "start_time": "2023-01-15T09:21:48.477Z"
   },
   {
    "duration": 12390,
    "start_time": "2023-01-15T09:22:53.619Z"
   },
   {
    "duration": 80,
    "start_time": "2023-01-15T09:23:18.646Z"
   },
   {
    "duration": 12102,
    "start_time": "2023-01-15T09:23:32.151Z"
   },
   {
    "duration": 15,
    "start_time": "2023-01-15T09:41:35.007Z"
   },
   {
    "duration": 16,
    "start_time": "2023-01-15T09:41:54.358Z"
   },
   {
    "duration": 16,
    "start_time": "2023-01-15T09:42:17.645Z"
   },
   {
    "duration": 19,
    "start_time": "2023-01-15T09:46:13.823Z"
   },
   {
    "duration": 19,
    "start_time": "2023-01-15T09:46:25.741Z"
   },
   {
    "duration": 39,
    "start_time": "2023-01-15T09:47:12.561Z"
   },
   {
    "duration": 20,
    "start_time": "2023-01-15T09:53:19.702Z"
   },
   {
    "duration": 10,
    "start_time": "2023-01-15T09:55:52.390Z"
   },
   {
    "duration": 18,
    "start_time": "2023-01-15T09:56:09.047Z"
   },
   {
    "duration": 32,
    "start_time": "2023-01-15T09:58:19.810Z"
   },
   {
    "duration": 18,
    "start_time": "2023-01-15T10:05:41.588Z"
   },
   {
    "duration": 34,
    "start_time": "2023-01-15T10:20:46.943Z"
   },
   {
    "duration": 123,
    "start_time": "2023-01-15T10:21:44.034Z"
   },
   {
    "duration": 8,
    "start_time": "2023-01-15T10:22:27.223Z"
   },
   {
    "duration": 5,
    "start_time": "2023-01-15T10:22:33.400Z"
   },
   {
    "duration": 7,
    "start_time": "2023-01-15T10:22:56.533Z"
   },
   {
    "duration": 589,
    "start_time": "2023-01-15T10:23:12.493Z"
   },
   {
    "duration": 453,
    "start_time": "2023-01-15T10:23:16.423Z"
   },
   {
    "duration": 451,
    "start_time": "2023-01-15T10:24:54.239Z"
   },
   {
    "duration": 447,
    "start_time": "2023-01-15T10:25:24.078Z"
   },
   {
    "duration": 508,
    "start_time": "2023-01-15T10:25:35.358Z"
   },
   {
    "duration": 1018,
    "start_time": "2023-01-15T10:25:42.023Z"
   },
   {
    "duration": 512,
    "start_time": "2023-01-15T10:26:07.574Z"
   },
   {
    "duration": 496,
    "start_time": "2023-01-15T10:26:17.136Z"
   },
   {
    "duration": 500,
    "start_time": "2023-01-15T10:26:49.516Z"
   },
   {
    "duration": 506,
    "start_time": "2023-01-15T10:27:15.992Z"
   },
   {
    "duration": 521,
    "start_time": "2023-01-15T10:28:02.160Z"
   },
   {
    "duration": 49,
    "start_time": "2023-01-15T10:31:06.496Z"
   },
   {
    "duration": 115,
    "start_time": "2023-01-15T10:31:16.998Z"
   },
   {
    "duration": 86,
    "start_time": "2023-01-15T10:31:43.261Z"
   },
   {
    "duration": 12,
    "start_time": "2023-01-15T10:32:26.035Z"
   },
   {
    "duration": 49094,
    "start_time": "2023-01-15T10:32:32.920Z"
   },
   {
    "duration": 53262,
    "start_time": "2023-01-15T10:33:42.064Z"
   },
   {
    "duration": 9,
    "start_time": "2023-01-15T10:34:35.328Z"
   },
   {
    "duration": 57517,
    "start_time": "2023-01-15T10:35:21.246Z"
   },
   {
    "duration": 47313,
    "start_time": "2023-01-15T10:38:48.658Z"
   },
   {
    "duration": 9,
    "start_time": "2023-01-15T10:42:38.517Z"
   },
   {
    "duration": 45,
    "start_time": "2023-01-15T10:43:14.076Z"
   },
   {
    "duration": 84,
    "start_time": "2023-01-15T10:43:32.564Z"
   },
   {
    "duration": 3,
    "start_time": "2023-01-15T10:44:49.243Z"
   },
   {
    "duration": 763,
    "start_time": "2023-01-15T10:44:49.248Z"
   },
   {
    "duration": 143,
    "start_time": "2023-01-15T10:44:50.013Z"
   },
   {
    "duration": 8624,
    "start_time": "2023-01-15T10:44:50.158Z"
   },
   {
    "duration": 16,
    "start_time": "2023-01-15T10:44:58.785Z"
   },
   {
    "duration": 31,
    "start_time": "2023-01-15T10:44:58.802Z"
   },
   {
    "duration": 31,
    "start_time": "2023-01-15T10:44:58.835Z"
   },
   {
    "duration": 22,
    "start_time": "2023-01-15T10:44:58.868Z"
   },
   {
    "duration": 33,
    "start_time": "2023-01-15T10:44:58.892Z"
   },
   {
    "duration": 33,
    "start_time": "2023-01-15T10:44:58.927Z"
   },
   {
    "duration": 23,
    "start_time": "2023-01-15T10:44:58.961Z"
   },
   {
    "duration": 38,
    "start_time": "2023-01-15T10:44:58.986Z"
   },
   {
    "duration": 125,
    "start_time": "2023-01-15T10:44:59.026Z"
   },
   {
    "duration": 533,
    "start_time": "2023-01-15T10:44:59.153Z"
   },
   {
    "duration": 36,
    "start_time": "2023-01-15T10:44:59.688Z"
   },
   {
    "duration": 7,
    "start_time": "2023-01-15T10:44:59.726Z"
   },
   {
    "duration": 41,
    "start_time": "2023-01-15T10:44:59.735Z"
   },
   {
    "duration": 94,
    "start_time": "2023-01-15T10:44:59.777Z"
   },
   {
    "duration": 10,
    "start_time": "2023-01-15T10:46:44.973Z"
   },
   {
    "duration": 11365,
    "start_time": "2023-01-15T10:46:47.901Z"
   },
   {
    "duration": 11536,
    "start_time": "2023-01-15T10:47:15.082Z"
   },
   {
    "duration": 40,
    "start_time": "2023-01-15T10:47:58.311Z"
   },
   {
    "duration": 20874,
    "start_time": "2023-01-15T10:47:59.008Z"
   },
   {
    "duration": 54,
    "start_time": "2023-01-15T10:50:00.550Z"
   },
   {
    "duration": 1471,
    "start_time": "2023-01-15T10:50:01.246Z"
   },
   {
    "duration": 57,
    "start_time": "2023-01-15T10:50:15.523Z"
   },
   {
    "duration": 871,
    "start_time": "2023-01-15T10:50:16.573Z"
   },
   {
    "duration": 867,
    "start_time": "2023-01-15T10:50:28.813Z"
   },
   {
    "duration": 840,
    "start_time": "2023-01-15T10:50:56.678Z"
   },
   {
    "duration": 45,
    "start_time": "2023-01-15T10:52:12.316Z"
   },
   {
    "duration": 72,
    "start_time": "2023-01-15T10:52:28.267Z"
   },
   {
    "duration": 49,
    "start_time": "2023-01-15T10:53:44.369Z"
   },
   {
    "duration": 84,
    "start_time": "2023-01-15T10:53:44.637Z"
   },
   {
    "duration": 580,
    "start_time": "2023-01-15T10:54:33.864Z"
   },
   {
    "duration": 10,
    "start_time": "2023-01-15T10:55:20.713Z"
   },
   {
    "duration": 589,
    "start_time": "2023-01-15T10:57:43.948Z"
   },
   {
    "duration": 811,
    "start_time": "2023-01-15T10:57:59.688Z"
   },
   {
    "duration": 564,
    "start_time": "2023-01-15T10:58:09.618Z"
   },
   {
    "duration": 6,
    "start_time": "2023-01-15T10:58:11.899Z"
   },
   {
    "duration": 9,
    "start_time": "2023-01-15T10:59:09.266Z"
   },
   {
    "duration": 8,
    "start_time": "2023-01-15T10:59:14.827Z"
   },
   {
    "duration": 6,
    "start_time": "2023-01-15T11:04:39.313Z"
   },
   {
    "duration": 9,
    "start_time": "2023-01-15T11:04:44.912Z"
   },
   {
    "duration": 7,
    "start_time": "2023-01-15T11:04:59.021Z"
   },
   {
    "duration": 40,
    "start_time": "2023-01-15T11:05:46.577Z"
   },
   {
    "duration": 114,
    "start_time": "2023-01-15T11:05:56.139Z"
   },
   {
    "duration": 4,
    "start_time": "2023-01-15T11:07:57.552Z"
   },
   {
    "duration": 49,
    "start_time": "2023-01-15T11:09:23.120Z"
   },
   {
    "duration": 27,
    "start_time": "2023-01-15T11:10:14.413Z"
   },
   {
    "duration": 81,
    "start_time": "2023-01-15T11:10:23.549Z"
   },
   {
    "duration": 9,
    "start_time": "2023-01-15T11:11:33.721Z"
   },
   {
    "duration": 12,
    "start_time": "2023-01-15T11:11:36.850Z"
   },
   {
    "duration": 119,
    "start_time": "2023-01-15T11:11:38.685Z"
   },
   {
    "duration": 119,
    "start_time": "2023-01-15T11:11:43.019Z"
   },
   {
    "duration": 9,
    "start_time": "2023-01-15T11:12:32.203Z"
   },
   {
    "duration": 141,
    "start_time": "2023-01-15T11:12:45.989Z"
   },
   {
    "duration": 174,
    "start_time": "2023-01-15T11:12:54.436Z"
   },
   {
    "duration": 166,
    "start_time": "2023-01-15T11:13:51.910Z"
   },
   {
    "duration": 46,
    "start_time": "2023-01-15T14:28:27.215Z"
   },
   {
    "duration": 1586,
    "start_time": "2023-01-15T14:28:59.273Z"
   },
   {
    "duration": 75,
    "start_time": "2023-01-15T14:29:08.963Z"
   },
   {
    "duration": 3,
    "start_time": "2023-01-15T14:29:14.061Z"
   },
   {
    "duration": 1169,
    "start_time": "2023-01-15T14:29:14.066Z"
   },
   {
    "duration": 123,
    "start_time": "2023-01-15T14:29:15.237Z"
   },
   {
    "duration": 103,
    "start_time": "2023-01-15T14:29:15.362Z"
   },
   {
    "duration": 26,
    "start_time": "2023-01-15T14:29:15.467Z"
   },
   {
    "duration": 23,
    "start_time": "2023-01-15T14:29:15.494Z"
   },
   {
    "duration": 29,
    "start_time": "2023-01-15T14:29:15.519Z"
   },
   {
    "duration": 43,
    "start_time": "2023-01-15T14:29:15.550Z"
   },
   {
    "duration": 18,
    "start_time": "2023-01-15T14:29:15.596Z"
   },
   {
    "duration": 32,
    "start_time": "2023-01-15T14:29:15.616Z"
   },
   {
    "duration": 51,
    "start_time": "2023-01-15T14:29:15.650Z"
   },
   {
    "duration": 20,
    "start_time": "2023-01-15T14:29:15.702Z"
   },
   {
    "duration": 124,
    "start_time": "2023-01-15T14:29:15.724Z"
   },
   {
    "duration": 640,
    "start_time": "2023-01-15T14:29:15.850Z"
   },
   {
    "duration": 49,
    "start_time": "2023-01-15T14:29:16.491Z"
   },
   {
    "duration": 9,
    "start_time": "2023-01-15T14:29:16.542Z"
   },
   {
    "duration": 82,
    "start_time": "2023-01-15T14:29:16.553Z"
   },
   {
    "duration": 63,
    "start_time": "2023-01-15T14:29:16.636Z"
   },
   {
    "duration": 1098,
    "start_time": "2023-01-15T14:29:16.701Z"
   },
   {
    "duration": 54,
    "start_time": "2023-01-15T14:29:17.801Z"
   },
   {
    "duration": 696,
    "start_time": "2023-01-15T14:29:17.857Z"
   },
   {
    "duration": 7,
    "start_time": "2023-01-15T14:29:18.555Z"
   },
   {
    "duration": 35,
    "start_time": "2023-01-15T14:29:18.563Z"
   },
   {
    "duration": 8,
    "start_time": "2023-01-15T14:29:18.601Z"
   },
   {
    "duration": 56,
    "start_time": "2023-01-15T14:29:18.611Z"
   },
   {
    "duration": 100,
    "start_time": "2023-01-15T14:29:18.669Z"
   },
   {
    "duration": 5,
    "start_time": "2023-01-15T14:29:18.777Z"
   },
   {
    "duration": 48,
    "start_time": "2023-01-15T14:29:18.784Z"
   },
   {
    "duration": 138,
    "start_time": "2023-01-15T14:29:18.833Z"
   },
   {
    "duration": 201,
    "start_time": "2023-01-15T14:29:18.973Z"
   },
   {
    "duration": 43,
    "start_time": "2023-01-15T14:29:19.178Z"
   },
   {
    "duration": 29,
    "start_time": "2023-01-15T14:29:51.789Z"
   },
   {
    "duration": 32,
    "start_time": "2023-01-15T14:30:07.897Z"
   },
   {
    "duration": 152,
    "start_time": "2023-01-15T14:40:36.954Z"
   },
   {
    "duration": 175,
    "start_time": "2023-01-15T14:40:52.777Z"
   },
   {
    "duration": 1352,
    "start_time": "2023-01-15T14:48:34.160Z"
   },
   {
    "duration": 1432,
    "start_time": "2023-01-15T14:48:45.677Z"
   },
   {
    "duration": 1352,
    "start_time": "2023-01-15T14:49:46.123Z"
   },
   {
    "duration": 1279,
    "start_time": "2023-01-15T14:49:47.477Z"
   },
   {
    "duration": 131,
    "start_time": "2023-01-15T14:49:48.758Z"
   },
   {
    "duration": 124,
    "start_time": "2023-01-15T14:49:48.892Z"
   },
   {
    "duration": 16,
    "start_time": "2023-01-15T14:49:49.018Z"
   },
   {
    "duration": 74,
    "start_time": "2023-01-15T14:49:49.035Z"
   },
   {
    "duration": 57,
    "start_time": "2023-01-15T14:49:49.111Z"
   },
   {
    "duration": 49,
    "start_time": "2023-01-15T14:49:49.170Z"
   },
   {
    "duration": 34,
    "start_time": "2023-01-15T14:49:49.221Z"
   },
   {
    "duration": 44,
    "start_time": "2023-01-15T14:49:49.258Z"
   },
   {
    "duration": 36,
    "start_time": "2023-01-15T14:49:49.304Z"
   },
   {
    "duration": 38,
    "start_time": "2023-01-15T14:49:49.341Z"
   },
   {
    "duration": 148,
    "start_time": "2023-01-15T14:49:49.381Z"
   },
   {
    "duration": 637,
    "start_time": "2023-01-15T14:49:49.531Z"
   },
   {
    "duration": 57,
    "start_time": "2023-01-15T14:49:50.170Z"
   },
   {
    "duration": 10,
    "start_time": "2023-01-15T14:49:50.229Z"
   },
   {
    "duration": 86,
    "start_time": "2023-01-15T14:49:50.240Z"
   },
   {
    "duration": 68,
    "start_time": "2023-01-15T14:49:50.328Z"
   },
   {
    "duration": 1108,
    "start_time": "2023-01-15T14:49:50.398Z"
   },
   {
    "duration": 54,
    "start_time": "2023-01-15T14:49:51.508Z"
   },
   {
    "duration": 655,
    "start_time": "2023-01-15T14:49:51.563Z"
   },
   {
    "duration": 8,
    "start_time": "2023-01-15T14:49:52.220Z"
   },
   {
    "duration": 33,
    "start_time": "2023-01-15T14:49:52.229Z"
   },
   {
    "duration": 33,
    "start_time": "2023-01-15T14:49:52.264Z"
   },
   {
    "duration": 55,
    "start_time": "2023-01-15T14:49:52.298Z"
   },
   {
    "duration": 101,
    "start_time": "2023-01-15T14:49:52.354Z"
   },
   {
    "duration": 17,
    "start_time": "2023-01-15T14:49:52.457Z"
   },
   {
    "duration": 53,
    "start_time": "2023-01-15T14:49:52.477Z"
   },
   {
    "duration": 139,
    "start_time": "2023-01-15T14:49:52.532Z"
   },
   {
    "duration": 190,
    "start_time": "2023-01-15T14:49:52.677Z"
   },
   {
    "duration": 177,
    "start_time": "2023-01-15T14:49:52.868Z"
   },
   {
    "duration": 54,
    "start_time": "2023-01-15T14:50:20.005Z"
   },
   {
    "duration": 1389,
    "start_time": "2023-01-15T14:50:24.232Z"
   },
   {
    "duration": 1264,
    "start_time": "2023-01-15T14:50:25.623Z"
   },
   {
    "duration": 129,
    "start_time": "2023-01-15T14:50:26.889Z"
   },
   {
    "duration": 112,
    "start_time": "2023-01-15T14:50:27.021Z"
   },
   {
    "duration": 15,
    "start_time": "2023-01-15T14:50:27.135Z"
   },
   {
    "duration": 46,
    "start_time": "2023-01-15T14:50:27.151Z"
   },
   {
    "duration": 39,
    "start_time": "2023-01-15T14:50:27.199Z"
   },
   {
    "duration": 25,
    "start_time": "2023-01-15T14:50:27.239Z"
   },
   {
    "duration": 49,
    "start_time": "2023-01-15T14:50:27.266Z"
   },
   {
    "duration": 31,
    "start_time": "2023-01-15T14:50:27.320Z"
   },
   {
    "duration": 46,
    "start_time": "2023-01-15T14:50:27.353Z"
   },
   {
    "duration": 33,
    "start_time": "2023-01-15T14:50:27.401Z"
   },
   {
    "duration": 129,
    "start_time": "2023-01-15T14:50:27.436Z"
   },
   {
    "duration": 633,
    "start_time": "2023-01-15T14:50:27.567Z"
   },
   {
    "duration": 55,
    "start_time": "2023-01-15T14:50:28.202Z"
   },
   {
    "duration": 25,
    "start_time": "2023-01-15T14:50:28.260Z"
   },
   {
    "duration": 89,
    "start_time": "2023-01-15T14:50:28.287Z"
   },
   {
    "duration": 62,
    "start_time": "2023-01-15T14:50:28.378Z"
   },
   {
    "duration": 1123,
    "start_time": "2023-01-15T14:50:28.442Z"
   },
   {
    "duration": 63,
    "start_time": "2023-01-15T14:50:29.567Z"
   },
   {
    "duration": 684,
    "start_time": "2023-01-15T14:50:29.631Z"
   },
   {
    "duration": 7,
    "start_time": "2023-01-15T14:50:30.317Z"
   },
   {
    "duration": 10,
    "start_time": "2023-01-15T14:50:30.326Z"
   },
   {
    "duration": 12,
    "start_time": "2023-01-15T14:50:30.338Z"
   },
   {
    "duration": 58,
    "start_time": "2023-01-15T14:50:30.352Z"
   },
   {
    "duration": 109,
    "start_time": "2023-01-15T14:50:30.412Z"
   },
   {
    "duration": 5,
    "start_time": "2023-01-15T14:50:30.523Z"
   },
   {
    "duration": 51,
    "start_time": "2023-01-15T14:50:30.530Z"
   },
   {
    "duration": 156,
    "start_time": "2023-01-15T14:50:30.583Z"
   },
   {
    "duration": 197,
    "start_time": "2023-01-15T14:50:30.741Z"
   },
   {
    "duration": 197,
    "start_time": "2023-01-15T14:50:30.940Z"
   },
   {
    "duration": 1408,
    "start_time": "2023-01-15T14:50:31.140Z"
   },
   {
    "duration": 1318,
    "start_time": "2023-01-15T14:52:51.435Z"
   },
   {
    "duration": 1389,
    "start_time": "2023-01-15T14:53:18.391Z"
   },
   {
    "duration": 70,
    "start_time": "2023-01-15T14:55:42.397Z"
   },
   {
    "duration": 12,
    "start_time": "2023-01-15T15:01:05.902Z"
   },
   {
    "duration": 74,
    "start_time": "2023-01-15T15:01:26.192Z"
   },
   {
    "duration": 17,
    "start_time": "2023-01-15T15:01:50.190Z"
   },
   {
    "duration": 737,
    "start_time": "2023-01-15T15:02:14.360Z"
   },
   {
    "duration": 729,
    "start_time": "2023-01-15T15:02:48.521Z"
   },
   {
    "duration": 725,
    "start_time": "2023-01-15T15:02:49.375Z"
   },
   {
    "duration": 689,
    "start_time": "2023-01-15T15:03:13.831Z"
   },
   {
    "duration": 16,
    "start_time": "2023-01-15T15:03:28.200Z"
   },
   {
    "duration": 15,
    "start_time": "2023-01-15T15:03:41.550Z"
   },
   {
    "duration": 3,
    "start_time": "2023-01-15T15:03:46.621Z"
   },
   {
    "duration": 840,
    "start_time": "2023-01-15T15:03:46.627Z"
   },
   {
    "duration": 124,
    "start_time": "2023-01-15T15:03:47.469Z"
   },
   {
    "duration": 102,
    "start_time": "2023-01-15T15:03:47.595Z"
   },
   {
    "duration": 16,
    "start_time": "2023-01-15T15:03:47.699Z"
   },
   {
    "duration": 18,
    "start_time": "2023-01-15T15:03:47.716Z"
   },
   {
    "duration": 49,
    "start_time": "2023-01-15T15:03:47.736Z"
   },
   {
    "duration": 33,
    "start_time": "2023-01-15T15:03:47.787Z"
   },
   {
    "duration": 17,
    "start_time": "2023-01-15T15:03:47.822Z"
   },
   {
    "duration": 37,
    "start_time": "2023-01-15T15:03:47.841Z"
   },
   {
    "duration": 34,
    "start_time": "2023-01-15T15:03:47.880Z"
   },
   {
    "duration": 21,
    "start_time": "2023-01-15T15:03:47.915Z"
   },
   {
    "duration": 115,
    "start_time": "2023-01-15T15:03:47.937Z"
   },
   {
    "duration": 688,
    "start_time": "2023-01-15T15:03:48.053Z"
   },
   {
    "duration": 50,
    "start_time": "2023-01-15T15:03:48.743Z"
   },
   {
    "duration": 8,
    "start_time": "2023-01-15T15:03:48.795Z"
   },
   {
    "duration": 56,
    "start_time": "2023-01-15T15:03:48.804Z"
   },
   {
    "duration": 53,
    "start_time": "2023-01-15T15:03:48.877Z"
   },
   {
    "duration": 1155,
    "start_time": "2023-01-15T15:03:48.932Z"
   },
   {
    "duration": 54,
    "start_time": "2023-01-15T15:03:50.089Z"
   },
   {
    "duration": 638,
    "start_time": "2023-01-15T15:03:50.144Z"
   },
   {
    "duration": 9,
    "start_time": "2023-01-15T15:03:50.784Z"
   },
   {
    "duration": 30,
    "start_time": "2023-01-15T15:03:50.795Z"
   },
   {
    "duration": 17,
    "start_time": "2023-01-15T15:03:50.826Z"
   },
   {
    "duration": 64,
    "start_time": "2023-01-15T15:03:50.844Z"
   },
   {
    "duration": 117,
    "start_time": "2023-01-15T15:03:50.910Z"
   },
   {
    "duration": 5,
    "start_time": "2023-01-15T15:03:51.030Z"
   },
   {
    "duration": 54,
    "start_time": "2023-01-15T15:03:51.039Z"
   },
   {
    "duration": 146,
    "start_time": "2023-01-15T15:03:51.096Z"
   },
   {
    "duration": 203,
    "start_time": "2023-01-15T15:03:51.245Z"
   },
   {
    "duration": 179,
    "start_time": "2023-01-15T15:03:51.451Z"
   },
   {
    "duration": 785,
    "start_time": "2023-01-15T15:03:51.632Z"
   },
   {
    "duration": 13,
    "start_time": "2023-01-15T15:05:22.639Z"
   },
   {
    "duration": 272,
    "start_time": "2023-01-15T15:05:38.098Z"
   },
   {
    "duration": 3,
    "start_time": "2023-01-15T15:05:44.001Z"
   },
   {
    "duration": 780,
    "start_time": "2023-01-15T15:05:44.009Z"
   },
   {
    "duration": 133,
    "start_time": "2023-01-15T15:05:44.793Z"
   },
   {
    "duration": 102,
    "start_time": "2023-01-15T15:05:44.928Z"
   },
   {
    "duration": 15,
    "start_time": "2023-01-15T15:05:45.032Z"
   },
   {
    "duration": 34,
    "start_time": "2023-01-15T15:05:45.049Z"
   },
   {
    "duration": 34,
    "start_time": "2023-01-15T15:05:45.085Z"
   },
   {
    "duration": 20,
    "start_time": "2023-01-15T15:05:45.121Z"
   },
   {
    "duration": 39,
    "start_time": "2023-01-15T15:05:45.143Z"
   },
   {
    "duration": 35,
    "start_time": "2023-01-15T15:05:45.184Z"
   },
   {
    "duration": 20,
    "start_time": "2023-01-15T15:05:45.222Z"
   },
   {
    "duration": 52,
    "start_time": "2023-01-15T15:05:45.244Z"
   },
   {
    "duration": 119,
    "start_time": "2023-01-15T15:05:45.298Z"
   },
   {
    "duration": 613,
    "start_time": "2023-01-15T15:05:45.419Z"
   },
   {
    "duration": 55,
    "start_time": "2023-01-15T15:05:46.033Z"
   },
   {
    "duration": 8,
    "start_time": "2023-01-15T15:05:46.090Z"
   },
   {
    "duration": 60,
    "start_time": "2023-01-15T15:05:46.100Z"
   },
   {
    "duration": 68,
    "start_time": "2023-01-15T15:05:46.162Z"
   },
   {
    "duration": 1148,
    "start_time": "2023-01-15T15:05:46.232Z"
   },
   {
    "duration": 55,
    "start_time": "2023-01-15T15:05:47.383Z"
   },
   {
    "duration": 654,
    "start_time": "2023-01-15T15:05:47.440Z"
   },
   {
    "duration": 7,
    "start_time": "2023-01-15T15:05:48.096Z"
   },
   {
    "duration": 7,
    "start_time": "2023-01-15T15:05:48.105Z"
   },
   {
    "duration": 8,
    "start_time": "2023-01-15T15:05:48.113Z"
   },
   {
    "duration": 67,
    "start_time": "2023-01-15T15:05:48.122Z"
   },
   {
    "duration": 114,
    "start_time": "2023-01-15T15:05:48.191Z"
   },
   {
    "duration": 6,
    "start_time": "2023-01-15T15:05:48.307Z"
   },
   {
    "duration": 31,
    "start_time": "2023-01-15T15:05:48.315Z"
   },
   {
    "duration": 175,
    "start_time": "2023-01-15T15:05:48.350Z"
   },
   {
    "duration": 183,
    "start_time": "2023-01-15T15:05:48.527Z"
   },
   {
    "duration": 176,
    "start_time": "2023-01-15T15:05:48.712Z"
   },
   {
    "duration": 743,
    "start_time": "2023-01-15T15:05:48.890Z"
   },
   {
    "duration": 78611,
    "start_time": "2023-01-15T15:08:24.074Z"
   },
   {
    "duration": 3,
    "start_time": "2023-01-15T15:09:42.687Z"
   },
   {
    "duration": 841,
    "start_time": "2023-01-15T15:09:42.691Z"
   },
   {
    "duration": 121,
    "start_time": "2023-01-15T15:09:43.534Z"
   },
   {
    "duration": 106,
    "start_time": "2023-01-15T15:09:43.657Z"
   },
   {
    "duration": 26,
    "start_time": "2023-01-15T15:09:43.765Z"
   },
   {
    "duration": 22,
    "start_time": "2023-01-15T15:09:43.793Z"
   },
   {
    "duration": 53,
    "start_time": "2023-01-15T15:09:43.817Z"
   },
   {
    "duration": 34,
    "start_time": "2023-01-15T15:09:43.873Z"
   },
   {
    "duration": 19,
    "start_time": "2023-01-15T15:09:43.911Z"
   },
   {
    "duration": 34,
    "start_time": "2023-01-15T15:09:43.933Z"
   },
   {
    "duration": 20,
    "start_time": "2023-01-15T15:09:43.978Z"
   },
   {
    "duration": 21,
    "start_time": "2023-01-15T15:09:43.999Z"
   },
   {
    "duration": 127,
    "start_time": "2023-01-15T15:09:44.022Z"
   },
   {
    "duration": 590,
    "start_time": "2023-01-15T15:09:44.151Z"
   },
   {
    "duration": 58,
    "start_time": "2023-01-15T15:09:44.743Z"
   },
   {
    "duration": 9,
    "start_time": "2023-01-15T15:09:44.803Z"
   },
   {
    "duration": 76,
    "start_time": "2023-01-15T15:09:44.813Z"
   },
   {
    "duration": 50,
    "start_time": "2023-01-15T15:09:44.891Z"
   },
   {
    "duration": 1220,
    "start_time": "2023-01-15T15:09:44.943Z"
   },
   {
    "duration": 55,
    "start_time": "2023-01-15T15:09:46.165Z"
   },
   {
    "duration": 617,
    "start_time": "2023-01-15T15:09:46.221Z"
   },
   {
    "duration": 8,
    "start_time": "2023-01-15T15:09:46.840Z"
   },
   {
    "duration": 8,
    "start_time": "2023-01-15T15:09:46.849Z"
   },
   {
    "duration": 22,
    "start_time": "2023-01-15T15:09:46.859Z"
   },
   {
    "duration": 46,
    "start_time": "2023-01-15T15:09:46.882Z"
   },
   {
    "duration": 120,
    "start_time": "2023-01-15T15:09:46.930Z"
   },
   {
    "duration": 5,
    "start_time": "2023-01-15T15:09:47.055Z"
   },
   {
    "duration": 50,
    "start_time": "2023-01-15T15:09:47.061Z"
   },
   {
    "duration": 145,
    "start_time": "2023-01-15T15:09:47.113Z"
   },
   {
    "duration": 183,
    "start_time": "2023-01-15T15:09:47.260Z"
   },
   {
    "duration": 183,
    "start_time": "2023-01-15T15:09:47.446Z"
   },
   {
    "duration": 397,
    "start_time": "2023-01-15T15:09:47.630Z"
   },
   {
    "duration": 928,
    "start_time": "2023-01-15T15:09:48.029Z"
   },
   {
    "duration": 3,
    "start_time": "2023-01-15T15:18:18.907Z"
   },
   {
    "duration": 853,
    "start_time": "2023-01-15T15:18:18.911Z"
   },
   {
    "duration": 136,
    "start_time": "2023-01-15T15:18:19.766Z"
   },
   {
    "duration": 110,
    "start_time": "2023-01-15T15:18:19.904Z"
   },
   {
    "duration": 19,
    "start_time": "2023-01-15T15:18:20.015Z"
   },
   {
    "duration": 20,
    "start_time": "2023-01-15T15:18:20.036Z"
   },
   {
    "duration": 32,
    "start_time": "2023-01-15T15:18:20.077Z"
   },
   {
    "duration": 21,
    "start_time": "2023-01-15T15:18:20.111Z"
   },
   {
    "duration": 18,
    "start_time": "2023-01-15T15:18:20.135Z"
   },
   {
    "duration": 53,
    "start_time": "2023-01-15T15:18:20.156Z"
   },
   {
    "duration": 25,
    "start_time": "2023-01-15T15:18:20.211Z"
   },
   {
    "duration": 23,
    "start_time": "2023-01-15T15:18:20.238Z"
   },
   {
    "duration": 128,
    "start_time": "2023-01-15T15:18:20.262Z"
   },
   {
    "duration": 869,
    "start_time": "2023-01-15T15:18:20.392Z"
   },
   {
    "duration": 46,
    "start_time": "2023-01-15T15:18:21.263Z"
   },
   {
    "duration": 8,
    "start_time": "2023-01-15T15:18:21.311Z"
   },
   {
    "duration": 73,
    "start_time": "2023-01-15T15:18:21.321Z"
   },
   {
    "duration": 48,
    "start_time": "2023-01-15T15:18:21.396Z"
   },
   {
    "duration": 980,
    "start_time": "2023-01-15T15:18:21.446Z"
   },
   {
    "duration": 53,
    "start_time": "2023-01-15T15:18:22.429Z"
   },
   {
    "duration": 624,
    "start_time": "2023-01-15T15:18:22.484Z"
   },
   {
    "duration": 8,
    "start_time": "2023-01-15T15:18:23.111Z"
   },
   {
    "duration": 13,
    "start_time": "2023-01-15T15:18:23.120Z"
   },
   {
    "duration": 8,
    "start_time": "2023-01-15T15:18:23.134Z"
   },
   {
    "duration": 61,
    "start_time": "2023-01-15T15:18:23.144Z"
   },
   {
    "duration": 105,
    "start_time": "2023-01-15T15:18:23.206Z"
   },
   {
    "duration": 5,
    "start_time": "2023-01-15T15:18:23.314Z"
   },
   {
    "duration": 45,
    "start_time": "2023-01-15T15:18:23.321Z"
   },
   {
    "duration": 151,
    "start_time": "2023-01-15T15:18:23.369Z"
   },
   {
    "duration": 183,
    "start_time": "2023-01-15T15:18:23.522Z"
   },
   {
    "duration": 173,
    "start_time": "2023-01-15T15:18:23.708Z"
   },
   {
    "duration": 374,
    "start_time": "2023-01-15T15:18:23.883Z"
   },
   {
    "duration": 732,
    "start_time": "2023-01-15T15:18:24.259Z"
   },
   {
    "duration": 24,
    "start_time": "2023-01-15T15:35:58.255Z"
   },
   {
    "duration": 497,
    "start_time": "2023-01-15T15:40:10.873Z"
   },
   {
    "duration": 9,
    "start_time": "2023-01-15T17:56:01.750Z"
   },
   {
    "duration": 68,
    "start_time": "2023-01-15T17:56:08.798Z"
   },
   {
    "duration": 9,
    "start_time": "2023-01-15T17:56:13.714Z"
   },
   {
    "duration": 1774,
    "start_time": "2023-01-15T17:57:21.760Z"
   },
   {
    "duration": 92,
    "start_time": "2023-01-15T17:57:48.162Z"
   },
   {
    "duration": 4,
    "start_time": "2023-01-15T17:58:24.135Z"
   },
   {
    "duration": 14,
    "start_time": "2023-01-15T17:58:32.145Z"
   },
   {
    "duration": 4,
    "start_time": "2023-01-15T17:59:25.367Z"
   },
   {
    "duration": 12,
    "start_time": "2023-01-15T17:59:32.215Z"
   },
   {
    "duration": 15,
    "start_time": "2023-01-15T17:59:52.875Z"
   },
   {
    "duration": 3,
    "start_time": "2023-01-15T18:00:01.505Z"
   },
   {
    "duration": 1434,
    "start_time": "2023-01-15T18:00:01.511Z"
   },
   {
    "duration": 151,
    "start_time": "2023-01-15T18:00:02.947Z"
   },
   {
    "duration": 113,
    "start_time": "2023-01-15T18:00:03.099Z"
   },
   {
    "duration": 23,
    "start_time": "2023-01-15T18:00:03.215Z"
   },
   {
    "duration": 34,
    "start_time": "2023-01-15T18:00:03.240Z"
   },
   {
    "duration": 39,
    "start_time": "2023-01-15T18:00:03.276Z"
   },
   {
    "duration": 37,
    "start_time": "2023-01-15T18:00:03.317Z"
   },
   {
    "duration": 38,
    "start_time": "2023-01-15T18:00:03.356Z"
   },
   {
    "duration": 59,
    "start_time": "2023-01-15T18:00:03.395Z"
   },
   {
    "duration": 31,
    "start_time": "2023-01-15T18:00:03.457Z"
   },
   {
    "duration": 26,
    "start_time": "2023-01-15T18:00:03.489Z"
   },
   {
    "duration": 133,
    "start_time": "2023-01-15T18:00:03.517Z"
   },
   {
    "duration": 712,
    "start_time": "2023-01-15T18:00:03.653Z"
   },
   {
    "duration": 52,
    "start_time": "2023-01-15T18:00:04.367Z"
   },
   {
    "duration": 20,
    "start_time": "2023-01-15T18:00:04.421Z"
   },
   {
    "duration": 61,
    "start_time": "2023-01-15T18:00:04.443Z"
   },
   {
    "duration": 60,
    "start_time": "2023-01-15T18:00:04.505Z"
   },
   {
    "duration": 1061,
    "start_time": "2023-01-15T18:00:04.567Z"
   },
   {
    "duration": 51,
    "start_time": "2023-01-15T18:00:05.635Z"
   },
   {
    "duration": 638,
    "start_time": "2023-01-15T18:00:05.688Z"
   },
   {
    "duration": 11,
    "start_time": "2023-01-15T18:00:06.329Z"
   },
   {
    "duration": 24,
    "start_time": "2023-01-15T18:00:06.342Z"
   },
   {
    "duration": 20,
    "start_time": "2023-01-15T18:00:06.368Z"
   },
   {
    "duration": 50,
    "start_time": "2023-01-15T18:00:06.390Z"
   },
   {
    "duration": 132,
    "start_time": "2023-01-15T18:00:06.442Z"
   },
   {
    "duration": 5,
    "start_time": "2023-01-15T18:00:06.576Z"
   },
   {
    "duration": 49,
    "start_time": "2023-01-15T18:00:06.583Z"
   },
   {
    "duration": 181,
    "start_time": "2023-01-15T18:00:06.635Z"
   },
   {
    "duration": 193,
    "start_time": "2023-01-15T18:00:06.818Z"
   },
   {
    "duration": 175,
    "start_time": "2023-01-15T18:00:07.013Z"
   },
   {
    "duration": 446,
    "start_time": "2023-01-15T18:00:07.189Z"
   },
   {
    "duration": 761,
    "start_time": "2023-01-15T18:00:07.637Z"
   },
   {
    "duration": 484,
    "start_time": "2023-01-15T18:00:08.400Z"
   },
   {
    "duration": 3,
    "start_time": "2023-01-15T18:00:08.887Z"
   },
   {
    "duration": 36895,
    "start_time": "2023-01-15T18:00:08.892Z"
   },
   {
    "duration": 0,
    "start_time": "2023-01-15T18:00:45.789Z"
   },
   {
    "duration": 3,
    "start_time": "2023-01-15T18:00:48.494Z"
   },
   {
    "duration": 702717,
    "start_time": "2023-01-15T18:00:49.437Z"
   },
   {
    "duration": 0,
    "start_time": "2023-01-15T18:12:32.156Z"
   },
   {
    "duration": 3,
    "start_time": "2023-01-15T18:12:36.840Z"
   },
   {
    "duration": 6526,
    "start_time": "2023-01-15T18:12:45.082Z"
   },
   {
    "duration": 3,
    "start_time": "2023-01-15T18:13:04.923Z"
   },
   {
    "duration": 31065,
    "start_time": "2023-01-15T18:13:14.127Z"
   },
   {
    "duration": 36179,
    "start_time": "2023-01-15T18:14:00.886Z"
   },
   {
    "duration": 0,
    "start_time": "2023-01-15T18:18:18.692Z"
   },
   {
    "duration": 322519,
    "start_time": "2023-01-15T18:18:21.054Z"
   },
   {
    "duration": 44,
    "start_time": "2023-01-15T18:23:46.257Z"
   },
   {
    "duration": 185464,
    "start_time": "2023-01-15T18:24:01.944Z"
   },
   {
    "duration": 92805,
    "start_time": "2023-01-15T18:27:40.261Z"
   },
   {
    "duration": 3,
    "start_time": "2023-01-15T18:31:05.443Z"
   },
   {
    "duration": 740,
    "start_time": "2023-01-15T18:32:31.754Z"
   },
   {
    "duration": 398,
    "start_time": "2023-01-15T18:32:39.962Z"
   },
   {
    "duration": 870,
    "start_time": "2023-01-15T18:32:43.049Z"
   },
   {
    "duration": 893,
    "start_time": "2023-01-15T18:33:01.543Z"
   },
   {
    "duration": 5636,
    "start_time": "2023-01-15T18:36:44.190Z"
   },
   {
    "duration": 7411,
    "start_time": "2023-01-15T18:36:58.564Z"
   },
   {
    "duration": 32346,
    "start_time": "2023-01-15T18:37:39.973Z"
   },
   {
    "duration": 36438,
    "start_time": "2023-01-15T18:39:21.515Z"
   },
   {
    "duration": 6513,
    "start_time": "2023-01-15T18:40:12.537Z"
   },
   {
    "duration": 10,
    "start_time": "2023-01-15T18:45:23.676Z"
   },
   {
    "duration": 3,
    "start_time": "2023-01-15T18:45:38.645Z"
   },
   {
    "duration": 6516,
    "start_time": "2023-01-15T18:45:58.487Z"
   },
   {
    "duration": 6305,
    "start_time": "2023-01-15T18:47:43.953Z"
   },
   {
    "duration": 12,
    "start_time": "2023-01-15T18:50:59.737Z"
   },
   {
    "duration": 22,
    "start_time": "2023-01-15T18:51:55.971Z"
   },
   {
    "duration": 0,
    "start_time": "2023-01-15T18:52:44.345Z"
   },
   {
    "duration": 15,
    "start_time": "2023-01-15T18:52:46.588Z"
   },
   {
    "duration": 15,
    "start_time": "2023-01-15T18:52:49.457Z"
   },
   {
    "duration": 226350,
    "start_time": "2023-01-15T18:53:09.666Z"
   },
   {
    "duration": 69170,
    "start_time": "2023-01-15T18:56:57.310Z"
   },
   {
    "duration": 240479,
    "start_time": "2023-01-15T18:58:08.909Z"
   },
   {
    "duration": 0,
    "start_time": "2023-01-15T19:02:09.390Z"
   },
   {
    "duration": 6365,
    "start_time": "2023-01-15T19:02:14.314Z"
   },
   {
    "duration": 0,
    "start_time": "2023-01-15T19:04:28.154Z"
   },
   {
    "duration": 16580,
    "start_time": "2023-01-15T19:04:30.736Z"
   },
   {
    "duration": 37161,
    "start_time": "2023-01-15T19:04:50.731Z"
   },
   {
    "duration": 12245,
    "start_time": "2023-01-15T19:05:32.805Z"
   },
   {
    "duration": 157665,
    "start_time": "2023-01-15T19:05:48.816Z"
   },
   {
    "duration": 59281,
    "start_time": "2023-01-15T19:09:42.898Z"
   },
   {
    "duration": 0,
    "start_time": "2023-01-15T19:10:42.182Z"
   },
   {
    "duration": 54,
    "start_time": "2023-01-15T19:10:59.373Z"
   },
   {
    "duration": 1627,
    "start_time": "2023-01-15T19:11:05.169Z"
   },
   {
    "duration": 1224,
    "start_time": "2023-01-15T19:11:06.798Z"
   },
   {
    "duration": 151,
    "start_time": "2023-01-15T19:11:08.024Z"
   },
   {
    "duration": 125,
    "start_time": "2023-01-15T19:11:08.178Z"
   },
   {
    "duration": 19,
    "start_time": "2023-01-15T19:11:08.304Z"
   },
   {
    "duration": 23,
    "start_time": "2023-01-15T19:11:08.335Z"
   },
   {
    "duration": 37,
    "start_time": "2023-01-15T19:11:08.360Z"
   },
   {
    "duration": 22,
    "start_time": "2023-01-15T19:11:08.509Z"
   },
   {
    "duration": 21,
    "start_time": "2023-01-15T19:11:09.030Z"
   },
   {
    "duration": 36,
    "start_time": "2023-01-15T19:11:09.527Z"
   },
   {
    "duration": 34,
    "start_time": "2023-01-15T19:11:09.926Z"
   },
   {
    "duration": 23,
    "start_time": "2023-01-15T19:11:10.232Z"
   },
   {
    "duration": 139,
    "start_time": "2023-01-15T19:11:10.377Z"
   },
   {
    "duration": 611,
    "start_time": "2023-01-15T19:11:11.102Z"
   },
   {
    "duration": 55,
    "start_time": "2023-01-15T19:11:11.715Z"
   },
   {
    "duration": 9,
    "start_time": "2023-01-15T19:11:11.826Z"
   },
   {
    "duration": 86,
    "start_time": "2023-01-15T19:11:12.617Z"
   },
   {
    "duration": 77,
    "start_time": "2023-01-15T19:11:13.699Z"
   },
   {
    "duration": 1175,
    "start_time": "2023-01-15T19:11:13.944Z"
   },
   {
    "duration": 59,
    "start_time": "2023-01-15T19:11:16.264Z"
   },
   {
    "duration": 610,
    "start_time": "2023-01-15T19:11:17.318Z"
   },
   {
    "duration": 10,
    "start_time": "2023-01-15T19:11:17.930Z"
   },
   {
    "duration": 8,
    "start_time": "2023-01-15T19:11:18.604Z"
   },
   {
    "duration": 7,
    "start_time": "2023-01-15T19:11:19.687Z"
   },
   {
    "duration": 44,
    "start_time": "2023-01-15T19:11:20.231Z"
   },
   {
    "duration": 115,
    "start_time": "2023-01-15T19:11:20.503Z"
   },
   {
    "duration": 4,
    "start_time": "2023-01-15T19:11:21.318Z"
   },
   {
    "duration": 27,
    "start_time": "2023-01-15T19:11:21.793Z"
   },
   {
    "duration": 148,
    "start_time": "2023-01-15T19:11:22.241Z"
   },
   {
    "duration": 238,
    "start_time": "2023-01-15T19:11:22.663Z"
   },
   {
    "duration": 174,
    "start_time": "2023-01-15T19:11:23.077Z"
   },
   {
    "duration": 415,
    "start_time": "2023-01-15T19:11:23.504Z"
   },
   {
    "duration": 616,
    "start_time": "2023-01-15T19:11:24.459Z"
   },
   {
    "duration": 459,
    "start_time": "2023-01-15T19:11:27.742Z"
   },
   {
    "duration": 4,
    "start_time": "2023-01-15T19:11:28.203Z"
   },
   {
    "duration": 6403,
    "start_time": "2023-01-15T19:11:34.934Z"
   },
   {
    "duration": 54350,
    "start_time": "2023-01-15T19:11:41.340Z"
   },
   {
    "duration": 55709,
    "start_time": "2023-01-15T19:13:16.926Z"
   },
   {
    "duration": 55,
    "start_time": "2023-01-15T19:51:38.606Z"
   },
   {
    "duration": 4,
    "start_time": "2023-01-15T19:51:42.902Z"
   },
   {
    "duration": 31415,
    "start_time": "2023-01-15T19:51:50.730Z"
   },
   {
    "duration": 91,
    "start_time": "2023-01-15T19:59:24.507Z"
   },
   {
    "duration": 51,
    "start_time": "2023-01-15T20:02:00.554Z"
   },
   {
    "duration": 52,
    "start_time": "2023-01-15T20:03:16.060Z"
   },
   {
    "duration": 10,
    "start_time": "2023-01-15T20:16:43.479Z"
   },
   {
    "duration": 94,
    "start_time": "2023-01-15T20:17:09.584Z"
   },
   {
    "duration": 42181,
    "start_time": "2023-01-15T20:17:14.987Z"
   },
   {
    "duration": 125053,
    "start_time": "2023-01-15T20:21:07.187Z"
   },
   {
    "duration": 3,
    "start_time": "2023-01-15T20:24:00.119Z"
   },
   {
    "duration": 9136,
    "start_time": "2023-01-15T20:24:32.199Z"
   },
   {
    "duration": 12,
    "start_time": "2023-01-15T20:31:15.062Z"
   },
   {
    "duration": 91,
    "start_time": "2023-01-15T20:31:19.987Z"
   },
   {
    "duration": 13,
    "start_time": "2023-01-15T20:31:23.564Z"
   },
   {
    "duration": 18,
    "start_time": "2023-01-15T20:31:49.885Z"
   },
   {
    "duration": 0,
    "start_time": "2023-01-15T20:36:20.298Z"
   },
   {
    "duration": 40692,
    "start_time": "2023-01-15T20:36:22.262Z"
   },
   {
    "duration": 303993,
    "start_time": "2023-01-15T20:37:08.285Z"
   },
   {
    "duration": 60488,
    "start_time": "2023-01-15T20:49:06.555Z"
   },
   {
    "duration": 14,
    "start_time": "2023-01-15T20:50:12.589Z"
   },
   {
    "duration": 11,
    "start_time": "2023-01-15T20:51:07.124Z"
   },
   {
    "duration": 10,
    "start_time": "2023-01-15T20:59:26.078Z"
   },
   {
    "duration": 14,
    "start_time": "2023-01-15T21:00:05.359Z"
   },
   {
    "duration": 4,
    "start_time": "2023-01-15T21:00:10.958Z"
   },
   {
    "duration": 71555,
    "start_time": "2023-01-15T21:00:16.581Z"
   },
   {
    "duration": 11,
    "start_time": "2023-01-15T21:16:25.350Z"
   },
   {
    "duration": 10,
    "start_time": "2023-01-15T21:16:52.792Z"
   },
   {
    "duration": 12,
    "start_time": "2023-01-15T21:17:05.994Z"
   },
   {
    "duration": 55686,
    "start_time": "2023-01-15T21:17:59.194Z"
   },
   {
    "duration": 11,
    "start_time": "2023-01-15T21:18:54.882Z"
   },
   {
    "duration": 7403,
    "start_time": "2023-01-15T21:19:10.796Z"
   },
   {
    "duration": 10,
    "start_time": "2023-01-15T21:19:23.102Z"
   },
   {
    "duration": 29593,
    "start_time": "2023-01-15T21:19:33.049Z"
   },
   {
    "duration": 21806,
    "start_time": "2023-01-15T21:20:02.645Z"
   },
   {
    "duration": 64650,
    "start_time": "2023-01-15T21:20:24.452Z"
   },
   {
    "duration": 4,
    "start_time": "2023-01-15T21:21:41.657Z"
   },
   {
    "duration": 11,
    "start_time": "2023-01-15T21:21:51.739Z"
   },
   {
    "duration": 44,
    "start_time": "2023-01-15T21:23:00.749Z"
   },
   {
    "duration": 53,
    "start_time": "2023-01-15T21:23:07.776Z"
   },
   {
    "duration": 59,
    "start_time": "2023-01-15T21:23:49.211Z"
   },
   {
    "duration": 10,
    "start_time": "2023-01-15T21:23:55.385Z"
   },
   {
    "duration": 5804,
    "start_time": "2023-01-15T21:28:29.741Z"
   },
   {
    "duration": 5775,
    "start_time": "2023-01-15T21:29:00.429Z"
   },
   {
    "duration": 4,
    "start_time": "2023-01-15T21:30:32.119Z"
   },
   {
    "duration": 1093,
    "start_time": "2023-01-15T21:30:32.124Z"
   },
   {
    "duration": 130,
    "start_time": "2023-01-15T21:30:33.219Z"
   },
   {
    "duration": 90,
    "start_time": "2023-01-15T21:30:33.351Z"
   },
   {
    "duration": 17,
    "start_time": "2023-01-15T21:30:33.443Z"
   },
   {
    "duration": 29,
    "start_time": "2023-01-15T21:30:33.461Z"
   },
   {
    "duration": 46,
    "start_time": "2023-01-15T21:30:33.492Z"
   },
   {
    "duration": 45,
    "start_time": "2023-01-15T21:30:33.540Z"
   },
   {
    "duration": 22,
    "start_time": "2023-01-15T21:30:33.588Z"
   },
   {
    "duration": 44,
    "start_time": "2023-01-15T21:30:33.612Z"
   },
   {
    "duration": 27,
    "start_time": "2023-01-15T21:30:33.658Z"
   },
   {
    "duration": 21,
    "start_time": "2023-01-15T21:30:33.687Z"
   },
   {
    "duration": 149,
    "start_time": "2023-01-15T21:30:33.709Z"
   },
   {
    "duration": 715,
    "start_time": "2023-01-15T21:30:33.860Z"
   },
   {
    "duration": 36,
    "start_time": "2023-01-15T21:30:34.577Z"
   },
   {
    "duration": 22,
    "start_time": "2023-01-15T21:30:34.614Z"
   },
   {
    "duration": 60,
    "start_time": "2023-01-15T21:30:34.639Z"
   },
   {
    "duration": 64,
    "start_time": "2023-01-15T21:30:34.701Z"
   },
   {
    "duration": 964,
    "start_time": "2023-01-15T21:30:34.767Z"
   },
   {
    "duration": 42,
    "start_time": "2023-01-15T21:30:35.734Z"
   },
   {
    "duration": 632,
    "start_time": "2023-01-15T21:30:35.778Z"
   },
   {
    "duration": 9,
    "start_time": "2023-01-15T21:30:36.412Z"
   },
   {
    "duration": 19,
    "start_time": "2023-01-15T21:30:36.423Z"
   },
   {
    "duration": 12,
    "start_time": "2023-01-15T21:30:36.447Z"
   },
   {
    "duration": 47,
    "start_time": "2023-01-15T21:30:36.460Z"
   },
   {
    "duration": 134,
    "start_time": "2023-01-15T21:30:36.508Z"
   },
   {
    "duration": 4,
    "start_time": "2023-01-15T21:30:36.644Z"
   },
   {
    "duration": 30,
    "start_time": "2023-01-15T21:30:36.649Z"
   },
   {
    "duration": 175,
    "start_time": "2023-01-15T21:30:36.681Z"
   },
   {
    "duration": 189,
    "start_time": "2023-01-15T21:30:36.857Z"
   },
   {
    "duration": 173,
    "start_time": "2023-01-15T21:30:37.048Z"
   },
   {
    "duration": 568,
    "start_time": "2023-01-15T21:30:37.223Z"
   },
   {
    "duration": 638,
    "start_time": "2023-01-15T21:30:37.793Z"
   },
   {
    "duration": 472,
    "start_time": "2023-01-15T21:30:38.435Z"
   },
   {
    "duration": 3,
    "start_time": "2023-01-15T21:30:38.909Z"
   },
   {
    "duration": 35866,
    "start_time": "2023-01-15T21:30:38.913Z"
   },
   {
    "duration": 6385,
    "start_time": "2023-01-15T21:31:14.781Z"
   },
   {
    "duration": 386720,
    "start_time": "2023-01-15T21:31:21.168Z"
   },
   {
    "duration": 53916,
    "start_time": "2023-01-15T21:37:47.890Z"
   },
   {
    "duration": 24235,
    "start_time": "2023-01-15T21:38:41.808Z"
   },
   {
    "duration": 175407,
    "start_time": "2023-01-15T21:39:06.045Z"
   },
   {
    "duration": 59184,
    "start_time": "2023-01-15T21:42:01.454Z"
   },
   {
    "duration": 301992,
    "start_time": "2023-01-15T21:43:00.640Z"
   },
   {
    "duration": 66807,
    "start_time": "2023-01-15T21:48:02.634Z"
   },
   {
    "duration": 10,
    "start_time": "2023-01-15T21:49:09.443Z"
   },
   {
    "duration": 5954,
    "start_time": "2023-01-15T21:49:09.455Z"
   },
   {
    "duration": 44,
    "start_time": "2023-01-16T20:35:00.429Z"
   },
   {
    "duration": 6,
    "start_time": "2023-01-16T20:36:07.003Z"
   },
   {
    "duration": 1710,
    "start_time": "2023-01-16T20:38:49.378Z"
   },
   {
    "duration": 1049,
    "start_time": "2023-01-16T20:38:51.091Z"
   },
   {
    "duration": 126,
    "start_time": "2023-01-16T20:38:52.142Z"
   },
   {
    "duration": 124,
    "start_time": "2023-01-16T20:38:52.271Z"
   },
   {
    "duration": 18,
    "start_time": "2023-01-16T20:38:52.396Z"
   },
   {
    "duration": 30,
    "start_time": "2023-01-16T20:38:52.500Z"
   },
   {
    "duration": 49,
    "start_time": "2023-01-16T20:38:52.912Z"
   },
   {
    "duration": 32,
    "start_time": "2023-01-16T20:38:53.345Z"
   },
   {
    "duration": 21,
    "start_time": "2023-01-16T20:38:53.762Z"
   },
   {
    "duration": 55,
    "start_time": "2023-01-16T20:38:54.172Z"
   },
   {
    "duration": 22,
    "start_time": "2023-01-16T20:38:54.578Z"
   },
   {
    "duration": 35,
    "start_time": "2023-01-16T20:38:55.004Z"
   },
   {
    "duration": 119,
    "start_time": "2023-01-16T20:38:55.217Z"
   },
   {
    "duration": 547,
    "start_time": "2023-01-16T20:38:56.308Z"
   },
   {
    "duration": 57,
    "start_time": "2023-01-16T20:38:56.858Z"
   },
   {
    "duration": 11,
    "start_time": "2023-01-16T20:38:57.361Z"
   },
   {
    "duration": 60,
    "start_time": "2023-01-16T20:38:57.739Z"
   },
   {
    "duration": 51,
    "start_time": "2023-01-16T20:38:58.584Z"
   },
   {
    "duration": 997,
    "start_time": "2023-01-16T20:38:58.769Z"
   },
   {
    "duration": 54,
    "start_time": "2023-01-16T20:38:59.768Z"
   },
   {
    "duration": 584,
    "start_time": "2023-01-16T20:38:59.823Z"
   },
   {
    "duration": 6,
    "start_time": "2023-01-16T20:39:00.409Z"
   },
   {
    "duration": 7,
    "start_time": "2023-01-16T20:39:00.661Z"
   },
   {
    "duration": 7,
    "start_time": "2023-01-16T20:39:01.261Z"
   },
   {
    "duration": 33,
    "start_time": "2023-01-16T20:39:01.681Z"
   },
   {
    "duration": 115,
    "start_time": "2023-01-16T20:39:01.906Z"
   },
   {
    "duration": 4,
    "start_time": "2023-01-16T20:39:03.002Z"
   },
   {
    "duration": 20,
    "start_time": "2023-01-16T20:39:03.455Z"
   },
   {
    "duration": 121,
    "start_time": "2023-01-16T20:39:04.222Z"
   },
   {
    "duration": 150,
    "start_time": "2023-01-16T20:39:04.855Z"
   },
   {
    "duration": 66,
    "start_time": "2023-01-16T20:39:07.825Z"
   },
   {
    "duration": 144,
    "start_time": "2023-01-16T20:39:10.708Z"
   },
   {
    "duration": 159,
    "start_time": "2023-01-16T20:39:31.864Z"
   },
   {
    "duration": 155,
    "start_time": "2023-01-16T20:39:57.071Z"
   },
   {
    "duration": 72,
    "start_time": "2023-01-16T20:41:28.911Z"
   },
   {
    "duration": 139,
    "start_time": "2023-01-16T20:41:29.791Z"
   },
   {
    "duration": 381,
    "start_time": "2023-01-16T20:41:45.288Z"
   },
   {
    "duration": 571,
    "start_time": "2023-01-16T20:45:00.926Z"
   },
   {
    "duration": 522,
    "start_time": "2023-01-16T20:45:16.581Z"
   },
   {
    "duration": 147,
    "start_time": "2023-01-16T21:03:30.454Z"
   },
   {
    "duration": 3,
    "start_time": "2023-01-16T21:03:51.130Z"
   },
   {
    "duration": 776,
    "start_time": "2023-01-16T21:03:51.502Z"
   },
   {
    "duration": 129,
    "start_time": "2023-01-16T21:03:52.280Z"
   },
   {
    "duration": 101,
    "start_time": "2023-01-16T21:03:52.411Z"
   },
   {
    "duration": 17,
    "start_time": "2023-01-16T21:03:53.465Z"
   },
   {
    "duration": 21,
    "start_time": "2023-01-16T21:03:53.804Z"
   },
   {
    "duration": 58,
    "start_time": "2023-01-16T21:03:54.105Z"
   },
   {
    "duration": 19,
    "start_time": "2023-01-16T21:03:54.379Z"
   },
   {
    "duration": 19,
    "start_time": "2023-01-16T21:03:54.671Z"
   },
   {
    "duration": 48,
    "start_time": "2023-01-16T21:03:54.951Z"
   },
   {
    "duration": 34,
    "start_time": "2023-01-16T21:03:55.252Z"
   },
   {
    "duration": 36,
    "start_time": "2023-01-16T21:03:55.550Z"
   },
   {
    "duration": 150,
    "start_time": "2023-01-16T21:03:55.708Z"
   },
   {
    "duration": 539,
    "start_time": "2023-01-16T21:03:56.392Z"
   },
   {
    "duration": 46,
    "start_time": "2023-01-16T21:03:56.934Z"
   },
   {
    "duration": 8,
    "start_time": "2023-01-16T21:03:57.246Z"
   },
   {
    "duration": 55,
    "start_time": "2023-01-16T21:03:57.575Z"
   },
   {
    "duration": 46,
    "start_time": "2023-01-16T21:03:58.224Z"
   },
   {
    "duration": 1033,
    "start_time": "2023-01-16T21:03:58.408Z"
   },
   {
    "duration": 60,
    "start_time": "2023-01-16T21:03:59.444Z"
   },
   {
    "duration": 600,
    "start_time": "2023-01-16T21:03:59.506Z"
   },
   {
    "duration": 7,
    "start_time": "2023-01-16T21:04:00.108Z"
   },
   {
    "duration": 10,
    "start_time": "2023-01-16T21:04:00.200Z"
   },
   {
    "duration": 7,
    "start_time": "2023-01-16T21:04:00.335Z"
   },
   {
    "duration": 35,
    "start_time": "2023-01-16T21:04:01.060Z"
   },
   {
    "duration": 117,
    "start_time": "2023-01-16T21:04:01.097Z"
   },
   {
    "duration": 4,
    "start_time": "2023-01-16T21:04:01.394Z"
   },
   {
    "duration": 21,
    "start_time": "2023-01-16T21:04:02.229Z"
   },
   {
    "duration": 145,
    "start_time": "2023-01-16T21:04:02.823Z"
   },
   {
    "duration": 153,
    "start_time": "2023-01-16T21:04:03.211Z"
   },
   {
    "duration": 74,
    "start_time": "2023-01-16T21:04:03.808Z"
   },
   {
    "duration": 182,
    "start_time": "2023-01-16T21:04:04.062Z"
   },
   {
    "duration": 388,
    "start_time": "2023-01-16T21:04:04.743Z"
   },
   {
    "duration": 550,
    "start_time": "2023-01-16T21:04:07.538Z"
   },
   {
    "duration": 2,
    "start_time": "2023-01-16T21:04:09.670Z"
   },
   {
    "duration": 3,
    "start_time": "2023-01-16T21:04:11.141Z"
   },
   {
    "duration": 614,
    "start_time": "2023-01-16T21:04:12.380Z"
   },
   {
    "duration": 70,
    "start_time": "2023-01-16T21:04:26.464Z"
   },
   {
    "duration": 5,
    "start_time": "2023-01-16T21:16:04.629Z"
   },
   {
    "duration": 1479,
    "start_time": "2023-01-16T21:20:18.752Z"
   },
   {
    "duration": 3,
    "start_time": "2023-01-16T21:20:37.297Z"
   },
   {
    "duration": 3,
    "start_time": "2023-01-16T21:20:40.229Z"
   },
   {
    "duration": 566,
    "start_time": "2023-01-16T21:20:43.122Z"
   },
   {
    "duration": 61,
    "start_time": "2023-01-16T21:20:51.500Z"
   },
   {
    "duration": 3400,
    "start_time": "2023-01-16T21:21:18.534Z"
   },
   {
    "duration": 71,
    "start_time": "2023-01-16T21:21:41.731Z"
   },
   {
    "duration": 619,
    "start_time": "2023-01-16T21:21:53.116Z"
   },
   {
    "duration": 664,
    "start_time": "2023-01-16T21:24:31.098Z"
   },
   {
    "duration": 40940,
    "start_time": "2023-01-16T21:26:23.160Z"
   },
   {
    "duration": 60020,
    "start_time": "2023-01-16T21:28:07.228Z"
   },
   {
    "duration": 3320,
    "start_time": "2023-01-16T21:30:37.560Z"
   },
   {
    "duration": 617,
    "start_time": "2023-01-16T21:30:42.267Z"
   },
   {
    "duration": 60787,
    "start_time": "2023-01-16T21:30:46.085Z"
   },
   {
    "duration": 58313,
    "start_time": "2023-01-16T21:34:51.087Z"
   },
   {
    "duration": 135176,
    "start_time": "2023-01-16T21:35:52.205Z"
   },
   {
    "duration": 82,
    "start_time": "2023-01-16T21:38:42.030Z"
   },
   {
    "duration": 26106,
    "start_time": "2023-01-16T21:38:59.973Z"
   },
   {
    "duration": 26008,
    "start_time": "2023-01-16T21:40:43.472Z"
   },
   {
    "duration": 163052,
    "start_time": "2023-01-16T21:42:02.828Z"
   },
   {
    "duration": 167936,
    "start_time": "2023-01-16T21:45:04.343Z"
   },
   {
    "duration": 26027,
    "start_time": "2023-01-16T21:48:24.452Z"
   },
   {
    "duration": 1569,
    "start_time": "2023-01-16T21:51:30.466Z"
   },
   {
    "duration": 4,
    "start_time": "2023-01-16T21:52:30.234Z"
   },
   {
    "duration": 772,
    "start_time": "2023-01-16T21:52:30.618Z"
   },
   {
    "duration": 121,
    "start_time": "2023-01-16T21:52:31.392Z"
   },
   {
    "duration": 98,
    "start_time": "2023-01-16T21:52:31.514Z"
   },
   {
    "duration": 17,
    "start_time": "2023-01-16T21:52:32.642Z"
   },
   {
    "duration": 20,
    "start_time": "2023-01-16T21:52:33.044Z"
   },
   {
    "duration": 30,
    "start_time": "2023-01-16T21:52:33.408Z"
   },
   {
    "duration": 19,
    "start_time": "2023-01-16T21:52:33.770Z"
   },
   {
    "duration": 18,
    "start_time": "2023-01-16T21:52:34.145Z"
   },
   {
    "duration": 34,
    "start_time": "2023-01-16T21:52:34.519Z"
   },
   {
    "duration": 21,
    "start_time": "2023-01-16T21:52:34.879Z"
   },
   {
    "duration": 31,
    "start_time": "2023-01-16T21:52:35.273Z"
   },
   {
    "duration": 165,
    "start_time": "2023-01-16T21:52:35.465Z"
   },
   {
    "duration": 687,
    "start_time": "2023-01-16T21:52:36.460Z"
   },
   {
    "duration": 48,
    "start_time": "2023-01-16T21:52:37.149Z"
   },
   {
    "duration": 8,
    "start_time": "2023-01-16T21:52:37.518Z"
   },
   {
    "duration": 56,
    "start_time": "2023-01-16T21:52:37.936Z"
   },
   {
    "duration": 49,
    "start_time": "2023-01-16T21:52:38.850Z"
   },
   {
    "duration": 878,
    "start_time": "2023-01-16T21:52:39.364Z"
   },
   {
    "duration": 39,
    "start_time": "2023-01-16T21:52:47.368Z"
   },
   {
    "duration": 566,
    "start_time": "2023-01-16T21:52:48.164Z"
   },
   {
    "duration": 7,
    "start_time": "2023-01-16T21:52:48.732Z"
   },
   {
    "duration": 6,
    "start_time": "2023-01-16T21:52:49.120Z"
   },
   {
    "duration": 9,
    "start_time": "2023-01-16T21:52:49.861Z"
   },
   {
    "duration": 34,
    "start_time": "2023-01-16T21:52:50.418Z"
   },
   {
    "duration": 110,
    "start_time": "2023-01-16T21:52:51.088Z"
   },
   {
    "duration": 5,
    "start_time": "2023-01-16T21:52:52.604Z"
   },
   {
    "duration": 23,
    "start_time": "2023-01-16T21:52:53.096Z"
   },
   {
    "duration": 128,
    "start_time": "2023-01-16T21:52:54.057Z"
   },
   {
    "duration": 151,
    "start_time": "2023-01-16T21:52:54.607Z"
   },
   {
    "duration": 88,
    "start_time": "2023-01-16T21:52:56.438Z"
   },
   {
    "duration": 143,
    "start_time": "2023-01-16T21:52:57.294Z"
   },
   {
    "duration": 161,
    "start_time": "2023-01-16T21:54:27.301Z"
   },
   {
    "duration": 1747,
    "start_time": "2023-01-16T21:55:20.961Z"
   },
   {
    "duration": 1578,
    "start_time": "2023-01-16T21:55:50.893Z"
   },
   {
    "duration": 2,
    "start_time": "2023-01-16T21:55:56.402Z"
   },
   {
    "duration": 3,
    "start_time": "2023-01-16T21:56:04.311Z"
   },
   {
    "duration": 165598,
    "start_time": "2023-01-16T22:00:30.090Z"
   },
   {
    "duration": 26823,
    "start_time": "2023-01-16T22:03:27.665Z"
   },
   {
    "duration": 27,
    "start_time": "2023-01-16T22:08:27.799Z"
   },
   {
    "duration": 5,
    "start_time": "2023-01-16T22:09:04.226Z"
   },
   {
    "duration": 27,
    "start_time": "2023-01-16T22:09:13.614Z"
   },
   {
    "duration": 6,
    "start_time": "2023-01-16T22:09:19.126Z"
   },
   {
    "duration": 29,
    "start_time": "2023-01-16T22:09:30.582Z"
   },
   {
    "duration": 25524,
    "start_time": "2023-01-16T22:14:22.465Z"
   },
   {
    "duration": 79270,
    "start_time": "2023-01-16T22:15:39.219Z"
   },
   {
    "duration": 76855,
    "start_time": "2023-01-16T22:17:59.524Z"
   },
   {
    "duration": 33,
    "start_time": "2023-01-16T22:21:44.211Z"
   },
   {
    "duration": 45,
    "start_time": "2023-01-17T19:03:07.697Z"
   },
   {
    "duration": 5,
    "start_time": "2023-01-17T19:12:58.932Z"
   },
   {
    "duration": 1693,
    "start_time": "2023-01-17T19:13:02.229Z"
   },
   {
    "duration": 2876,
    "start_time": "2023-01-17T19:13:03.924Z"
   },
   {
    "duration": 128,
    "start_time": "2023-01-17T19:13:11.052Z"
   },
   {
    "duration": 95,
    "start_time": "2023-01-17T19:13:14.093Z"
   },
   {
    "duration": 17,
    "start_time": "2023-01-17T19:13:20.849Z"
   },
   {
    "duration": 19,
    "start_time": "2023-01-17T19:13:27.975Z"
   },
   {
    "duration": 31,
    "start_time": "2023-01-17T19:13:28.831Z"
   },
   {
    "duration": 20,
    "start_time": "2023-01-17T19:13:30.557Z"
   },
   {
    "duration": 18,
    "start_time": "2023-01-17T19:13:31.282Z"
   },
   {
    "duration": 38,
    "start_time": "2023-01-17T19:13:32.806Z"
   },
   {
    "duration": 23,
    "start_time": "2023-01-17T19:13:34.308Z"
   },
   {
    "duration": 21,
    "start_time": "2023-01-17T19:13:35.026Z"
   },
   {
    "duration": 155,
    "start_time": "2023-01-17T19:13:35.352Z"
   },
   {
    "duration": 534,
    "start_time": "2023-01-17T19:13:39.232Z"
   },
   {
    "duration": 43,
    "start_time": "2023-01-17T19:13:41.539Z"
   },
   {
    "duration": 11,
    "start_time": "2023-01-17T19:13:45.217Z"
   },
   {
    "duration": 52,
    "start_time": "2023-01-17T19:13:55.177Z"
   },
   {
    "duration": 8,
    "start_time": "2023-01-17T19:14:02.974Z"
   },
   {
    "duration": 55,
    "start_time": "2023-01-17T19:14:02.985Z"
   },
   {
    "duration": 45,
    "start_time": "2023-01-17T19:14:11.116Z"
   },
   {
    "duration": 963,
    "start_time": "2023-01-17T19:14:11.852Z"
   },
   {
    "duration": 46,
    "start_time": "2023-01-17T19:14:12.986Z"
   },
   {
    "duration": 561,
    "start_time": "2023-01-17T19:14:17.349Z"
   },
   {
    "duration": 7,
    "start_time": "2023-01-17T19:14:18.704Z"
   },
   {
    "duration": 6,
    "start_time": "2023-01-17T19:14:22.755Z"
   },
   {
    "duration": 7,
    "start_time": "2023-01-17T19:14:28.478Z"
   },
   {
    "duration": 31,
    "start_time": "2023-01-17T19:14:30.762Z"
   },
   {
    "duration": 107,
    "start_time": "2023-01-17T19:14:34.133Z"
   },
   {
    "duration": 4,
    "start_time": "2023-01-17T19:14:39.107Z"
   },
   {
    "duration": 22,
    "start_time": "2023-01-17T19:14:41.016Z"
   },
   {
    "duration": 111,
    "start_time": "2023-01-17T19:14:42.066Z"
   },
   {
    "duration": 140,
    "start_time": "2023-01-17T19:14:44.814Z"
   },
   {
    "duration": 72,
    "start_time": "2023-01-17T19:15:04.141Z"
   },
   {
    "duration": 118,
    "start_time": "2023-01-17T19:19:13.833Z"
   },
   {
    "duration": 113,
    "start_time": "2023-01-17T19:19:30.115Z"
   },
   {
    "duration": 104,
    "start_time": "2023-01-17T19:19:43.197Z"
   },
   {
    "duration": 109,
    "start_time": "2023-01-17T19:19:56.864Z"
   },
   {
    "duration": 115,
    "start_time": "2023-01-17T19:20:32.431Z"
   },
   {
    "duration": 127,
    "start_time": "2023-01-17T19:21:23.133Z"
   },
   {
    "duration": 17,
    "start_time": "2023-01-17T19:21:37.208Z"
   },
   {
    "duration": 117,
    "start_time": "2023-01-17T19:21:49.847Z"
   },
   {
    "duration": 17,
    "start_time": "2023-01-17T19:22:08.171Z"
   },
   {
    "duration": 5,
    "start_time": "2023-01-17T19:22:30.500Z"
   },
   {
    "duration": 6,
    "start_time": "2023-01-17T19:22:47.991Z"
   },
   {
    "duration": 6,
    "start_time": "2023-01-17T19:22:54.907Z"
   },
   {
    "duration": 116,
    "start_time": "2023-01-17T19:23:06.109Z"
   },
   {
    "duration": 129,
    "start_time": "2023-01-17T19:23:06.401Z"
   },
   {
    "duration": 6,
    "start_time": "2023-01-17T19:23:27.683Z"
   },
   {
    "duration": 403,
    "start_time": "2023-01-17T19:23:36.323Z"
   },
   {
    "duration": 1403,
    "start_time": "2023-01-17T19:24:54.496Z"
   },
   {
    "duration": 27,
    "start_time": "2023-01-17T19:25:05.622Z"
   },
   {
    "duration": 21,
    "start_time": "2023-01-17T19:25:24.950Z"
   },
   {
    "duration": 22,
    "start_time": "2023-01-17T19:25:42.321Z"
   },
   {
    "duration": 18,
    "start_time": "2023-01-17T19:26:24.361Z"
   },
   {
    "duration": 81,
    "start_time": "2023-01-17T19:27:19.939Z"
   },
   {
    "duration": 3,
    "start_time": "2023-01-17T19:27:24.859Z"
   },
   {
    "duration": 2456,
    "start_time": "2023-01-17T19:27:25.546Z"
   },
   {
    "duration": 501,
    "start_time": "2023-01-17T19:27:30.067Z"
   },
   {
    "duration": 45213,
    "start_time": "2023-01-17T19:27:55.562Z"
   },
   {
    "duration": 61759,
    "start_time": "2023-01-17T19:30:43.398Z"
   },
   {
    "duration": 568,
    "start_time": "2023-01-17T19:32:29.496Z"
   },
   {
    "duration": 14654,
    "start_time": "2023-01-17T19:39:14.306Z"
   },
   {
    "duration": 3,
    "start_time": "2023-01-17T19:42:16.279Z"
   },
   {
    "duration": 3,
    "start_time": "2023-01-17T19:42:27.194Z"
   },
   {
    "duration": 126,
    "start_time": "2023-01-17T19:42:35.210Z"
   },
   {
    "duration": 3,
    "start_time": "2023-01-17T19:42:37.676Z"
   },
   {
    "duration": 1266,
    "start_time": "2023-01-17T19:42:48.813Z"
   },
   {
    "duration": 4,
    "start_time": "2023-01-17T19:42:52.855Z"
   },
   {
    "duration": 4,
    "start_time": "2023-01-17T19:45:24.452Z"
   },
   {
    "duration": 1574,
    "start_time": "2023-01-17T19:52:00.567Z"
   },
   {
    "duration": 33,
    "start_time": "2023-01-17T19:53:13.281Z"
   },
   {
    "duration": 18,
    "start_time": "2023-01-17T19:53:23.853Z"
   },
   {
    "duration": 104,
    "start_time": "2023-01-17T19:55:04.572Z"
   },
   {
    "duration": 747,
    "start_time": "2023-01-17T19:56:01.089Z"
   },
   {
    "duration": 3,
    "start_time": "2023-01-17T19:56:19.667Z"
   },
   {
    "duration": 3,
    "start_time": "2023-01-17T19:56:24.797Z"
   },
   {
    "duration": 146,
    "start_time": "2023-01-17T20:00:48.063Z"
   },
   {
    "duration": 183,
    "start_time": "2023-01-17T20:00:57.584Z"
   },
   {
    "duration": 188,
    "start_time": "2023-01-17T20:01:25.505Z"
   },
   {
    "duration": 265,
    "start_time": "2023-01-17T20:01:45.748Z"
   },
   {
    "duration": 3,
    "start_time": "2023-01-17T20:01:56.737Z"
   },
   {
    "duration": 5,
    "start_time": "2023-01-17T20:02:03.648Z"
   },
   {
    "duration": 239,
    "start_time": "2023-01-17T20:02:17.537Z"
   },
   {
    "duration": 4,
    "start_time": "2023-01-17T20:02:20.860Z"
   },
   {
    "duration": 3,
    "start_time": "2023-01-17T20:02:22.760Z"
   },
   {
    "duration": 675,
    "start_time": "2023-01-17T20:02:32.638Z"
   },
   {
    "duration": 255,
    "start_time": "2023-01-17T20:02:33.314Z"
   },
   {
    "duration": 4,
    "start_time": "2023-01-17T20:02:35.433Z"
   },
   {
    "duration": 361,
    "start_time": "2023-01-17T20:02:42.932Z"
   },
   {
    "duration": 3,
    "start_time": "2023-01-17T20:02:50.502Z"
   },
   {
    "duration": 2,
    "start_time": "2023-01-17T20:02:51.359Z"
   },
   {
    "duration": 3,
    "start_time": "2023-01-17T20:02:53.167Z"
   },
   {
    "duration": 2570,
    "start_time": "2023-01-17T20:02:55.915Z"
   },
   {
    "duration": 434,
    "start_time": "2023-01-17T20:03:04.315Z"
   },
   {
    "duration": 639,
    "start_time": "2023-01-17T20:03:13.431Z"
   },
   {
    "duration": 45120,
    "start_time": "2023-01-17T20:03:21.630Z"
   },
   {
    "duration": 46005,
    "start_time": "2023-01-17T20:05:46.052Z"
   },
   {
    "duration": 43978,
    "start_time": "2023-01-17T20:08:43.277Z"
   },
   {
    "duration": 43956,
    "start_time": "2023-01-17T20:12:07.992Z"
   },
   {
    "duration": 62716,
    "start_time": "2023-01-17T20:18:49.953Z"
   },
   {
    "duration": 332621,
    "start_time": "2023-01-17T20:23:06.931Z"
   },
   {
    "duration": 10045,
    "start_time": "2023-01-17T20:30:15.514Z"
   },
   {
    "duration": 11,
    "start_time": "2023-01-17T20:31:55.887Z"
   },
   {
    "duration": 1480,
    "start_time": "2023-01-17T20:32:04.876Z"
   },
   {
    "duration": 3,
    "start_time": "2023-01-17T20:34:45.828Z"
   },
   {
    "duration": 643,
    "start_time": "2023-01-17T20:37:23.879Z"
   },
   {
    "duration": 241,
    "start_time": "2023-01-17T20:37:24.773Z"
   },
   {
    "duration": 332,
    "start_time": "2023-01-17T20:37:27.384Z"
   },
   {
    "duration": 3,
    "start_time": "2023-01-17T20:37:28.933Z"
   },
   {
    "duration": 46,
    "start_time": "2023-01-17T20:40:35.768Z"
   },
   {
    "duration": 0,
    "start_time": "2023-01-17T20:58:04.182Z"
   },
   {
    "duration": 0,
    "start_time": "2023-01-17T20:58:04.183Z"
   },
   {
    "duration": 10,
    "start_time": "2023-01-17T20:58:12.626Z"
   },
   {
    "duration": 265364,
    "start_time": "2023-01-17T20:58:24.187Z"
   },
   {
    "duration": 4,
    "start_time": "2023-01-17T21:10:34.826Z"
   },
   {
    "duration": 782,
    "start_time": "2023-01-17T21:10:34.835Z"
   },
   {
    "duration": 148,
    "start_time": "2023-01-17T21:10:35.619Z"
   },
   {
    "duration": 92,
    "start_time": "2023-01-17T21:10:35.768Z"
   },
   {
    "duration": 18,
    "start_time": "2023-01-17T21:10:35.862Z"
   },
   {
    "duration": 28,
    "start_time": "2023-01-17T21:10:35.882Z"
   },
   {
    "duration": 64,
    "start_time": "2023-01-17T21:10:35.912Z"
   },
   {
    "duration": 22,
    "start_time": "2023-01-17T21:10:35.977Z"
   },
   {
    "duration": 21,
    "start_time": "2023-01-17T21:10:36.001Z"
   },
   {
    "duration": 53,
    "start_time": "2023-01-17T21:10:36.023Z"
   },
   {
    "duration": 22,
    "start_time": "2023-01-17T21:10:36.078Z"
   },
   {
    "duration": 20,
    "start_time": "2023-01-17T21:10:36.102Z"
   },
   {
    "duration": 136,
    "start_time": "2023-01-17T21:10:36.124Z"
   },
   {
    "duration": 534,
    "start_time": "2023-01-17T21:10:36.262Z"
   },
   {
    "duration": 33,
    "start_time": "2023-01-17T21:10:36.798Z"
   },
   {
    "duration": 17,
    "start_time": "2023-01-17T21:10:36.832Z"
   },
   {
    "duration": 50,
    "start_time": "2023-01-17T21:10:36.850Z"
   },
   {
    "duration": 53,
    "start_time": "2023-01-17T21:10:36.902Z"
   },
   {
    "duration": 856,
    "start_time": "2023-01-17T21:10:36.957Z"
   },
   {
    "duration": 44,
    "start_time": "2023-01-17T21:10:37.815Z"
   },
   {
    "duration": 683,
    "start_time": "2023-01-17T21:10:37.860Z"
   },
   {
    "duration": 9,
    "start_time": "2023-01-17T21:10:38.544Z"
   },
   {
    "duration": 9,
    "start_time": "2023-01-17T21:10:38.554Z"
   },
   {
    "duration": 6,
    "start_time": "2023-01-17T21:10:38.565Z"
   },
   {
    "duration": 31,
    "start_time": "2023-01-17T21:10:38.572Z"
   },
   {
    "duration": 123,
    "start_time": "2023-01-17T21:10:38.605Z"
   },
   {
    "duration": 4,
    "start_time": "2023-01-17T21:10:38.730Z"
   },
   {
    "duration": 20,
    "start_time": "2023-01-17T21:10:38.748Z"
   },
   {
    "duration": 124,
    "start_time": "2023-01-17T21:10:38.770Z"
   },
   {
    "duration": 154,
    "start_time": "2023-01-17T21:10:38.896Z"
   },
   {
    "duration": 1400,
    "start_time": "2023-01-17T21:10:39.052Z"
   },
   {
    "duration": 714,
    "start_time": "2023-01-17T21:10:40.453Z"
   },
   {
    "duration": 256,
    "start_time": "2023-01-17T21:10:41.168Z"
   },
   {
    "duration": 361,
    "start_time": "2023-01-17T21:10:41.426Z"
   },
   {
    "duration": 2,
    "start_time": "2023-01-17T21:10:41.789Z"
   },
   {
    "duration": 5,
    "start_time": "2023-01-17T21:10:41.793Z"
   },
   {
    "duration": 2440,
    "start_time": "2023-01-17T21:10:41.800Z"
   },
   {
    "duration": 442,
    "start_time": "2023-01-17T21:10:44.242Z"
   },
   {
    "duration": 0,
    "start_time": "2023-01-17T21:39:30.567Z"
   },
   {
    "duration": 0,
    "start_time": "2023-01-17T21:39:30.568Z"
   },
   {
    "duration": 0,
    "start_time": "2023-01-17T21:39:30.569Z"
   },
   {
    "duration": 0,
    "start_time": "2023-01-17T21:39:30.570Z"
   },
   {
    "duration": 0,
    "start_time": "2023-01-17T21:39:30.571Z"
   },
   {
    "duration": 0,
    "start_time": "2023-01-17T21:39:30.572Z"
   },
   {
    "duration": 0,
    "start_time": "2023-01-17T21:39:30.573Z"
   },
   {
    "duration": 0,
    "start_time": "2023-01-17T21:39:30.574Z"
   },
   {
    "duration": 0,
    "start_time": "2023-01-17T21:39:30.575Z"
   },
   {
    "duration": 0,
    "start_time": "2023-01-17T21:39:30.576Z"
   },
   {
    "duration": 0,
    "start_time": "2023-01-17T21:39:30.577Z"
   },
   {
    "duration": 0,
    "start_time": "2023-01-17T21:39:30.578Z"
   },
   {
    "duration": 0,
    "start_time": "2023-01-17T21:39:30.579Z"
   },
   {
    "duration": 0,
    "start_time": "2023-01-17T21:39:30.580Z"
   },
   {
    "duration": 0,
    "start_time": "2023-01-17T21:39:30.581Z"
   },
   {
    "duration": 0,
    "start_time": "2023-01-17T21:39:30.581Z"
   },
   {
    "duration": 0,
    "start_time": "2023-01-17T21:39:30.583Z"
   },
   {
    "duration": 0,
    "start_time": "2023-01-17T21:39:30.584Z"
   },
   {
    "duration": 0,
    "start_time": "2023-01-17T21:39:30.584Z"
   },
   {
    "duration": 0,
    "start_time": "2023-01-17T21:39:30.585Z"
   },
   {
    "duration": 0,
    "start_time": "2023-01-17T21:39:30.586Z"
   },
   {
    "duration": 0,
    "start_time": "2023-01-17T21:39:30.587Z"
   },
   {
    "duration": 0,
    "start_time": "2023-01-17T21:39:30.588Z"
   },
   {
    "duration": 0,
    "start_time": "2023-01-17T21:39:30.589Z"
   },
   {
    "duration": 0,
    "start_time": "2023-01-17T21:39:30.591Z"
   },
   {
    "duration": 0,
    "start_time": "2023-01-17T21:39:30.592Z"
   },
   {
    "duration": 0,
    "start_time": "2023-01-17T21:39:30.592Z"
   },
   {
    "duration": 0,
    "start_time": "2023-01-17T21:39:30.594Z"
   },
   {
    "duration": 0,
    "start_time": "2023-01-17T21:39:30.594Z"
   },
   {
    "duration": 0,
    "start_time": "2023-01-17T21:39:30.595Z"
   },
   {
    "duration": 0,
    "start_time": "2023-01-17T21:39:30.596Z"
   },
   {
    "duration": 0,
    "start_time": "2023-01-17T21:39:30.597Z"
   },
   {
    "duration": 0,
    "start_time": "2023-01-17T21:39:30.598Z"
   },
   {
    "duration": 0,
    "start_time": "2023-01-17T21:39:30.599Z"
   },
   {
    "duration": 0,
    "start_time": "2023-01-17T21:39:30.600Z"
   },
   {
    "duration": 0,
    "start_time": "2023-01-17T21:39:30.601Z"
   },
   {
    "duration": 0,
    "start_time": "2023-01-17T21:39:30.648Z"
   },
   {
    "duration": 0,
    "start_time": "2023-01-17T21:39:30.648Z"
   },
   {
    "duration": 0,
    "start_time": "2023-01-17T21:39:30.649Z"
   },
   {
    "duration": 0,
    "start_time": "2023-01-17T21:39:30.650Z"
   },
   {
    "duration": 0,
    "start_time": "2023-01-17T21:39:30.650Z"
   },
   {
    "duration": 0,
    "start_time": "2023-01-17T21:39:30.651Z"
   },
   {
    "duration": 0,
    "start_time": "2023-01-17T21:39:30.652Z"
   },
   {
    "duration": 0,
    "start_time": "2023-01-17T21:39:30.652Z"
   },
   {
    "duration": 0,
    "start_time": "2023-01-17T21:39:30.653Z"
   },
   {
    "duration": 0,
    "start_time": "2023-01-17T21:39:30.653Z"
   },
   {
    "duration": 0,
    "start_time": "2023-01-17T21:39:30.654Z"
   },
   {
    "duration": 13,
    "start_time": "2023-01-17T21:39:37.846Z"
   },
   {
    "duration": 723,
    "start_time": "2023-01-17T21:39:37.862Z"
   },
   {
    "duration": 143,
    "start_time": "2023-01-17T21:39:38.587Z"
   },
   {
    "duration": 89,
    "start_time": "2023-01-17T21:39:38.732Z"
   },
   {
    "duration": 30,
    "start_time": "2023-01-17T21:39:38.823Z"
   },
   {
    "duration": 18,
    "start_time": "2023-01-17T21:39:38.860Z"
   },
   {
    "duration": 30,
    "start_time": "2023-01-17T21:39:38.880Z"
   },
   {
    "duration": 28,
    "start_time": "2023-01-17T21:39:38.911Z"
   },
   {
    "duration": 27,
    "start_time": "2023-01-17T21:39:38.941Z"
   },
   {
    "duration": 32,
    "start_time": "2023-01-17T21:39:38.970Z"
   },
   {
    "duration": 21,
    "start_time": "2023-01-17T21:39:39.004Z"
   },
   {
    "duration": 41,
    "start_time": "2023-01-17T21:39:39.026Z"
   },
   {
    "duration": 139,
    "start_time": "2023-01-17T21:39:39.070Z"
   },
   {
    "duration": 562,
    "start_time": "2023-01-17T21:39:39.211Z"
   },
   {
    "duration": 41,
    "start_time": "2023-01-17T21:39:39.777Z"
   },
   {
    "duration": 8,
    "start_time": "2023-01-17T21:39:39.820Z"
   },
   {
    "duration": 84,
    "start_time": "2023-01-17T21:39:39.829Z"
   },
   {
    "duration": 46,
    "start_time": "2023-01-17T21:39:39.916Z"
   },
   {
    "duration": 870,
    "start_time": "2023-01-17T21:39:39.964Z"
   },
   {
    "duration": 46,
    "start_time": "2023-01-17T21:39:40.836Z"
   },
   {
    "duration": 745,
    "start_time": "2023-01-17T21:39:40.883Z"
   },
   {
    "duration": 7,
    "start_time": "2023-01-17T21:39:41.630Z"
   },
   {
    "duration": 13,
    "start_time": "2023-01-17T21:39:41.648Z"
   },
   {
    "duration": 18,
    "start_time": "2023-01-17T21:39:41.663Z"
   },
   {
    "duration": 40,
    "start_time": "2023-01-17T21:39:41.683Z"
   },
   {
    "duration": 107,
    "start_time": "2023-01-17T21:39:41.724Z"
   },
   {
    "duration": 4,
    "start_time": "2023-01-17T21:39:41.832Z"
   },
   {
    "duration": 33,
    "start_time": "2023-01-17T21:39:41.837Z"
   },
   {
    "duration": 134,
    "start_time": "2023-01-17T21:39:41.872Z"
   },
   {
    "duration": 156,
    "start_time": "2023-01-17T21:39:42.007Z"
   },
   {
    "duration": 1443,
    "start_time": "2023-01-17T21:39:42.165Z"
   },
   {
    "duration": 723,
    "start_time": "2023-01-17T21:39:43.610Z"
   },
   {
    "duration": 268,
    "start_time": "2023-01-17T21:39:44.335Z"
   },
   {
    "duration": 398,
    "start_time": "2023-01-17T21:39:44.604Z"
   },
   {
    "duration": 3,
    "start_time": "2023-01-17T21:39:45.004Z"
   },
   {
    "duration": 27,
    "start_time": "2023-01-17T21:39:45.008Z"
   },
   {
    "duration": 2580,
    "start_time": "2023-01-17T21:39:45.037Z"
   },
   {
    "duration": 501,
    "start_time": "2023-01-17T21:39:47.619Z"
   },
   {
    "duration": 391746,
    "start_time": "2023-01-17T21:39:48.122Z"
   },
   {
    "duration": 45263,
    "start_time": "2023-01-17T21:46:19.869Z"
   },
   {
    "duration": 58320,
    "start_time": "2023-01-17T21:47:05.133Z"
   },
   {
    "duration": 183509,
    "start_time": "2023-01-17T21:48:03.458Z"
   },
   {
    "duration": 24481,
    "start_time": "2023-01-17T21:51:06.969Z"
   },
   {
    "duration": 1267371,
    "start_time": "2023-01-17T21:51:31.462Z"
   },
   {
    "duration": 283501,
    "start_time": "2023-01-17T22:12:38.835Z"
   },
   {
    "duration": 17,
    "start_time": "2023-01-17T22:17:22.338Z"
   },
   {
    "duration": 70,
    "start_time": "2023-01-17T22:17:22.359Z"
   },
   {
    "duration": 50,
    "start_time": "2023-01-17T22:26:05.496Z"
   },
   {
    "duration": 45712,
    "start_time": "2023-01-17T22:26:23.792Z"
   }
  ],
  "kernelspec": {
   "display_name": "Python 3 (ipykernel)",
   "language": "python",
   "name": "python3"
  },
  "language_info": {
   "codemirror_mode": {
    "name": "ipython",
    "version": 3
   },
   "file_extension": ".py",
   "mimetype": "text/x-python",
   "name": "python",
   "nbconvert_exporter": "python",
   "pygments_lexer": "ipython3",
   "version": "3.10.7"
  },
  "toc": {
   "base_numbering": 1,
   "nav_menu": {},
   "number_sections": true,
   "sideBar": true,
   "skip_h1_title": true,
   "title_cell": "Table of Contents",
   "title_sidebar": "Contents",
   "toc_cell": false,
   "toc_position": {},
   "toc_section_display": true,
   "toc_window_display": false
  }
 },
 "nbformat": 4,
 "nbformat_minor": 2
}
